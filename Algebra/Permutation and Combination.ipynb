{
 "cells": [
  {
   "cell_type": "markdown",
   "metadata": {},
   "source": [
    "### Some Basic Formulas\n",
    "1. No. of ways to arrange n different objects in a row is $n!$\n",
    "2. No. of ways to arrange r objects from n different objects is $P^n_r$\n",
    "3. No. of ways to select r objects from n different objects is $C^n_r$\n",
    "4. No. of ways to arrange $x+y+z$ objects were $x$ are of 1st kind, $y$ are of 2nd kind and $z$ are of 3rd kind is $\\frac{(x+y+z)!}{x!y!z!}$"
   ]
  },
  {
   "cell_type": "markdown",
   "metadata": {},
   "source": [
    "**Question:** Find number of 3 digit numbers whose all three digits are different.  \n",
    "**Answer:** *Method 1:* $9 \\times 9 \\times 8 = 648$  \n",
    "*Method 2:* $C^{10}_33! - C^9_32!$"
   ]
  },
  {
   "cell_type": "markdown",
   "metadata": {},
   "source": [
    "**Question:** Find the number of words formed using letters of word MULTIPLICATION  \n",
    "**Answer:** $\\frac{14!}{3!2!2!}$"
   ]
  },
  {
   "cell_type": "markdown",
   "metadata": {},
   "source": [
    "**Question:** Find the number of six letter words where exactly two letters are the same  \n",
    "**Answer:** Choose 5 letters from 26, then choose the repeating letter from the 5 picked earlier. Then permute the 6 letters  \n",
    "$C^{26}_5 \\cdot C^5_1\\cdot\\frac{6!}{2!}$    "
   ]
  },
  {
   "cell_type": "markdown",
   "metadata": {},
   "source": [
    "**Question:** Find the number of words formed using letters of word INTERMEDIATE where vowels and consonants alternate.  \n",
    "**Answer:** This equates to filling the xs x N x T x R x M x D x T x.  \n",
    "Total ways = $\\frac{6!}{2!} \\cdot \\frac{6!}{3!2!} \\cdot2$  \n",
    "Arrange the consonants, arrange the vowels, choose starting or ending"
   ]
  },
  {
   "cell_type": "markdown",
   "metadata": {},
   "source": [
    "**Question:** Find the number of words formed from letters of MISSISSIPPI where no 2 S are together  \n",
    "**Answer:** x M x I x I x I x P x P x I x  \n",
    "$ = \\frac{7!}{4!2!} \\cdot C^8_4$"
   ]
  },
  {
   "cell_type": "markdown",
   "metadata": {},
   "source": [
    "**Question:** Consider the number 18000. Find:\n",
    "1. Number of factors\n",
    "2. Sum of reciprocal of factors\n",
    "3. Product of factors\n",
    "4. Number of odd factors\n",
    "5. Number of even factors\n",
    "6. Number of factors of type 4n+2\n",
    "  \n",
    "**Answer:** \n",
    "1. $18000 = 2^43^25^3$. Total number of factors $= (1+4)(1+2)(1+3) = 60$  \n",
    "2. Sum of reciprocals of factors:\n",
    "$$= \\frac{1}{a_1} + \\frac{1}{a_2} + \\dots + \\frac{1}{a_{60}}$$\n",
    "Multiply and divide by 18000,\n",
    "$$= \\frac{1}{18000}(a_{60} + a_{59} + \\dots + a_1)$$\n",
    "3. Product of factors:\n",
    "$$P = a_1 \\cdot a_2 \\cdot \\dots \\cdot a_{60}$$\n",
    "$$P = a_{60} \\cdot a_{59} \\cdot \\dots \\cdot a_1$$\n",
    "$$P^2 = n \\cdot n \\cdot \\dots \\cdot n$$\n",
    "$$P = 18000^{30}$$\n",
    "4. Number of odd factors $= (1+2)(1+3) = 12$\n",
    "5. Number of even factors $= 60 - 12 = 48$\n",
    "6. $$4n + 2 = 2(2n + 1)$$\n",
    "Number of factors of that type $(1+2)(1+3) = 12$"
   ]
  },
  {
   "cell_type": "markdown",
   "metadata": {},
   "source": [
    "**Question:** Find the exponent of 2 in 100!  \n",
    "**Answer:**\n",
    "$$100! = 2^a3^b5^c7^d\\dots$$\n",
    "Exponent of prime p in n! is given by\n",
    "$$\\bigg[\\frac{n}{p}\\bigg] + \\bigg[\\frac{n}{p^2}\\bigg] + \\bigg[\\frac{n}{p^3}\\bigg] + \\dots$$\n",
    "Therefore exponent of 2 is\n",
    "$$\\bigg[\\frac{100}{2}\\bigg] + \\bigg[\\frac{100}{4}\\bigg] + \\bigg[\\frac{100}{8}\\bigg] +  \\bigg[\\frac{100}{16}\\bigg] + \\bigg[\\frac{100}{32}\\bigg] + \\bigg[\\frac{100}{64}\\bigg]= 97$$"
   ]
  },
  {
   "cell_type": "markdown",
   "metadata": {},
   "source": [
    "### Division and Distribution of Items into Groups\n",
    "**Question:** In how many ways can we distribute 12 different objects among 3 different persons A, B and C where,\n",
    "1. A gets 3, B gets 4 and C gets 5\n",
    "2. One gets 3, other gets 4 and rest get 5\n",
    "3. Each get 4 objects  \n",
    "  \n",
    "**Answer:**  \n",
    "1. $C^{12}_3C^9_4C^5_5$\n",
    "2. $(C^3_1C^{12}_3)(C^2_1C^9_4)(C^1_1C^5_5)$\n",
    "3. $C^{12}_4C^8_4C^4_4$\n",
    "\n",
    "A different case is to divide n number of similar objects among 3 boxes. Suppose we have to distribute 10 balls in 3 boxes where any box can have any number of balls including 0. This can be visualised as:  \n",
    "o o | o o o o o | o o o, Here o denote balls and the two | create 3 boxes. Therefore, total number $= \\frac{12!}{10!2!}$\n",
    "\n",
    "**Question:** Find the total number of non negative solutions of $x_1 + x_2 +x_3 = 100$  \n",
    "**Answer:** $= \\frac{102!}{100!2!} = 5151$\n",
    "\n",
    "The number of positive solutions would mean that no two bars are together and none of the bars is at the end. Visually, this means o . o . o . o . o . o . o . o . o . o the number of ways of selecting the . $=C^{n-1}_{r-1}$, where r is the number of boxes. \n",
    "\n",
    "If the balls are different then just multiply with $n!$.\n",
    "\n",
    "### Circular Permutation\n",
    "- Number of ways arranging n different objects in a circle $= \\frac{n!}{n} = (n-1)!$. Because,\n",
    "$$1,2,3, \\dots n$$\n",
    "$$2,3,4, \\dots 1$$\n",
    "$$3,4,5, \\dots 2$$\n",
    "$$\\vdots$$\n",
    "$$n,1,2, \\dots n-1$$\n",
    "All the above are identical\n",
    "- If the order doesn't matter, clockwise or anticlockwise then $= \\frac{n!}{2n} = \\frac{(n-1)!}{2}$\n",
    "\n",
    "### Derangement\n",
    "Number of ways of permutation of a set such that no element appears in its original position. The derangement of n things denoted as $!n$ or $D_n$ is \n",
    "$$!n = n!\\bigg[ 1 - \\frac{1}{1!} + \\frac{1}{2!} - \\frac{1}{3!} + \\dots + \\frac{(-1)^n}{n!}\\bigg]$$\n",
    "Also\n",
    "$$!n \\approx \\frac{n!}{e}$$"
   ]
  }
 ],
 "metadata": {
  "kernelspec": {
   "display_name": "Python 3",
   "language": "python",
   "name": "python3"
  },
  "language_info": {
   "codemirror_mode": {
    "name": "ipython",
    "version": 3
   },
   "file_extension": ".py",
   "mimetype": "text/x-python",
   "name": "python",
   "nbconvert_exporter": "python",
   "pygments_lexer": "ipython3",
   "version": "3.7.4"
  }
 },
 "nbformat": 4,
 "nbformat_minor": 4
}
