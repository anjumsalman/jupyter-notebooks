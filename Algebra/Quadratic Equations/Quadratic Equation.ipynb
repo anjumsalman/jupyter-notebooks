{
 "cells": [
  {
   "cell_type": "markdown",
   "metadata": {},
   "source": [
    "### The Roots\n",
    "Any equation of the form $ax^2 + bx + c = 0$ where $a \\ne 0$ is called a quadratic equation.  \n",
    "\n",
    "$$ax^2 + bx + c = 0$$\n",
    "$$x^2 + \\frac{b}{a}x + \\frac{c}{a} = 0$$\n",
    "$$(x + \\frac{b}{2a})^2 = \\frac{b^2}{4a^2} - \\frac{c}{a}$$\n",
    "From here we can see that the two roots are,\n",
    "$$x = \\frac{-b \\pm \\sqrt{b^2 - 4ac}}{2a}$$\n",
    "The quantity $b^2 - 4ac$ is called the *discriminant* of the equation."
   ]
  },
  {
   "cell_type": "markdown",
   "metadata": {},
   "source": [
    "### Nature of roots\n",
    "Let $D$ be the discriminant, then\n",
    "- If $D>0$ then we get two real unequal roots\n",
    "- If $D<0$ then we get two imaginary roots\n",
    "- If $D=0$ then we get two equal roots"
   ]
  },
  {
   "cell_type": "markdown",
   "metadata": {},
   "source": [
    "### Relation Between Roots and Coefficients\n",
    "Let $\\alpha$ and $\\beta$ be the two roots of the equation $ax^2 + bx +c = 0$, then we can write, $ax^2 + bx + c = a(x - \\alpha)(x - \\beta)$. If we compare this with the equation we get that,\n",
    "$$\\alpha + \\beta = -\\frac{b}{a}$$\n",
    "$$\\alpha\\beta = \\frac{c}{a}$$\n",
    "For a cubic equation, the following relations hold,\n",
    "$$\\alpha + \\beta + \\gamma = -\\frac{b}{a}$$\n",
    "$$\\alpha\\beta\\gamma = -\\frac{d}{a}$$\n",
    "$$\\alpha\\beta + \\beta\\gamma + \\gamma\\alpha = \\frac{c}{a}$$"
   ]
  },
  {
   "cell_type": "markdown",
   "metadata": {},
   "source": [
    "### Symmetric Function of Roots\n",
    "Let roots of $ax^2 + bx + c = 0$ be $\\alpha$ and $\\beta$, then\n",
    "- to get equation having roots $\\frac{1}{\\alpha}$, $\\frac{1}{\\beta}$, replace $x$ with $\\frac{1}{x}$\n",
    "- to get equation having roots $\\alpha^2$, $\\beta^2$, replace $x$ with $\\sqrt{x}$\n",
    "- to get equation having roots $\\alpha + k$, $\\beta + k$, replace $x$ with $x - k$"
   ]
  },
  {
   "cell_type": "markdown",
   "metadata": {},
   "source": [
    "**Question**: Let roots of $ax^2 + bx + c = 0$ be $\\alpha$ and $\\beta$. Find the equation whose roots are $\\alpha^2\\beta$ and $\\beta^2\\alpha$.  \n",
    "**Answer**: Let the desired equation be $Ax^2 + Bx + C =0$. Now the following statements are true\n",
    "$$\\alpha + \\beta = - (b/a)$$\n",
    "$$\\alpha\\beta = (c/a)$$\n",
    "Also,\n",
    "$$\\alpha^2\\beta + \\beta^2\\alpha = -(B/A)$$\n",
    "$$\\Rightarrow \\alpha\\beta(\\alpha + \\beta) = -(B/A)$$\n",
    "$$\\Rightarrow \\frac{bc}{a^2} = (B/A)$$\n",
    "And,\n",
    "$$\\alpha^2\\beta\\beta^2\\alpha = (C/A)$$\n",
    "$$\\Rightarrow \\alpha^3\\beta^3 = (C/A)$$\n",
    "$$\\Rightarrow \\frac{c^3}{a^3} = (C/A)$$\n",
    "Therefore the desired equation is $a^3x + abcx + c^3 = 0$"
   ]
  },
  {
   "cell_type": "markdown",
   "metadata": {},
   "source": [
    "### Graphs of Quadratic Equations\n",
    "Let $y = ax^2 + bx + c$. Then   \n",
    "  \n",
    "![a's sign](https://i.imgur.com/K9aowl7.jpg \"a's sign\")\n",
    "  \n",
    "![roots1](https://i.imgur.com/EaaKX7S.jpg \"roots 1\")  \n",
    "  \n",
    "![roots2](https://i.imgur.com/yI2t5hy.jpg \"roots 2\")"
   ]
  },
  {
   "cell_type": "markdown",
   "metadata": {},
   "source": [
    "### Common Roots\n",
    "Consider the equations $ax^2 + bx + c =0$ and $dx^2 + ex + f = 0$. For these two to have both the roots common,\n",
    "$$\\frac{b}{a} = \\frac{e}{d}$$\n",
    "$$\\frac{c}{a} = \\frac{f}{d}$$\n",
    "Which leads to,\n",
    "$$\\frac{d}{a} = \\frac{e}{b} = \\frac{f}{c}$$\n",
    "$$\\Rightarrow \\frac{a}{d} = \\frac{b}{e} = \\frac{c}{f}$$"
   ]
  },
  {
   "cell_type": "markdown",
   "metadata": {},
   "source": [
    "For atleast one common root,\n",
    "$$\n",
    "\\begin{vmatrix}\n",
    "c & a\\\\\n",
    "f & d\\\\\n",
    "\\end{vmatrix}^2 = \n",
    "\\begin{vmatrix}\n",
    "b & c\\\\\n",
    "e & f\\\\\n",
    "\\end{vmatrix}\\cdot\n",
    "\\begin{vmatrix}\n",
    "a & b\\\\\n",
    "d & e\\\\\n",
    "\\end{vmatrix}\n",
    "$$"
   ]
  },
  {
   "cell_type": "markdown",
   "metadata": {},
   "source": [
    "### Biquadratic Equation\n",
    "Let the equation be $Ax^4 + Bx^2 + C = 0$. Take $y = x^2$. Then the equation becomes $Ay^2 + By + C = 0$.\n"
   ]
  },
  {
   "cell_type": "code",
   "execution_count": null,
   "metadata": {},
   "outputs": [],
   "source": []
  }
 ],
 "metadata": {
  "kernelspec": {
   "display_name": "Python 3",
   "language": "python",
   "name": "python3"
  },
  "language_info": {
   "codemirror_mode": {
    "name": "ipython",
    "version": 3
   },
   "file_extension": ".py",
   "mimetype": "text/x-python",
   "name": "python",
   "nbconvert_exporter": "python",
   "pygments_lexer": "ipython3",
   "version": "3.6.7"
  }
 },
 "nbformat": 4,
 "nbformat_minor": 2
}
