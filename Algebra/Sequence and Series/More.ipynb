{
 "cells": [
  {
   "cell_type": "markdown",
   "metadata": {},
   "source": [
    "### Mean Relations\n",
    "$a_1 \\lt HM \\lt GM \\lt AM \\lt a_n$  \n",
    "Also, for two numbers,  \n",
    "$AM \\cdot GM = HM^2$"
   ]
  },
  {
   "cell_type": "markdown",
   "metadata": {},
   "source": [
    "### Arithmetico-Geometric Progression\n",
    "Sequence of type $ab, (a+d)br, (a+2d)br^2, \\dots$  \n",
    "  \n",
    "nth term is $T_n = \\{(a+(n-1)d\\}br^{n-1}$  \n",
    "  \n",
    "To find the sum,\n",
    "$$S_n = ab + (a+d)br + (a+2d)br^2 + \\dots + \\{a+(n-1)d\\}br^{n-1}$$\n",
    "$$rS_n = 0 + abr + (a+d)br^2 + \\dots + \\{a+(n-1)d\\}br^n$$\n",
    "$$S_n - rS_n = ab + \\{dbr + dbr^2 + \\dots\\} - \\{a+(n-1)d\\}br^n$$\n",
    "$$S_n = \\frac{ab}{1-r} + \\frac{\\{dbr + dbr^2 + \\dots\\}}{1-r} - \\frac{\\{a+(n-1)d\\}br^n}{1-r}$$"
   ]
  },
  {
   "cell_type": "markdown",
   "metadata": {},
   "source": [
    "**Question**: Find sum of the following series $1, 3/2, 5/4, 7/8, \\dots n\\ terms$  \n",
    "**Answer**:\n",
    "$$S_n = 1 + 3/2 + 5/4 + 7/8 + \\dots + nth\\ term$$\n",
    "$$(1/2)S_n = 0 + 1/2 + 3/4 + 5/8 + \\dots $$\n",
    "$$S_n(1-\\frac{1}{2}) = 1 + \\{2/2 + 2/4 + 2/8 + \\dots + (n-1)\\ terms\\} - \\{1+2(n-1)\\}(1/2)^{n}$$\n",
    "$$S_n(1-\\frac{1}{2}) = 1 + \\{\\frac{1 - (0.5)^{n-1}}{0.5}\\} - \\{1+2(n-1)\\}(1/2)^{n}$$"
   ]
  },
  {
   "cell_type": "markdown",
   "metadata": {},
   "source": [
    "### Random Questions\n",
    "**Question**: Solve $(1+x)(1+x^2)(1+x^4)\\dots(1+x^{2n})$  \n",
    "**Answer**: Multiply and divide by $(1-x)$  \n",
    "$$(1-x)(1+x)(1+x^2)(1+x^4)\\dots(1+x^{2n})/(1-x)$$\n",
    "$$(1-x^2)(1+x^2)(1+x^4)\\dots(1+x^{2n})/(1-x)$$\n",
    "$$(1-x^4)(1+x^4)\\dots(1+x^{2n})/(1-x)$$\n",
    "$$\\vdots$$\n",
    "$$(1-x^{2n+1})/(1-x)$$"
   ]
  },
  {
   "cell_type": "markdown",
   "metadata": {},
   "source": [
    "### Misc\n",
    "**Case 1**: Consider the series $\\frac{1}{1\\times2} + \\frac{1}{2\\times3} + \\frac{1}{3\\times4} + \\dots + \\frac{1}{n(n+1)}$  \n",
    "Here, $$T_n = \\frac{1}{n(n+1)}$$\n",
    "$$T_n = \\frac{1}{n} -\\frac{1}{n+1}$$\n",
    "Where $V_n = \\frac{1}{n}$ and $V_{n+1} = \\frac{1}{n+1}$. Therefore\n",
    "$$T_n = V_n - V_{n+1}$$\n",
    "The sum is, $$S_n = T_1 + T_2 + \\dots + T_n$$\n",
    "$$S_n = V_1 - V_2 + V_2 - V_3 + \\dots + V_n - V_{n+1}$$\n",
    "$$S_n = V_1 - V_{n+1}$$\n",
    "$$S_n = \\frac{1}{1} - \\frac{1}{n+1}$$\n",
    "$$S_n = \\frac{n}{n+1}$$"
   ]
  },
  {
   "cell_type": "markdown",
   "metadata": {},
   "source": [
    "**Case 2**: Consider series $\\frac{1}{1\\cdot2\\cdot3\\cdot4} + \\frac{1}{2\\cdot3\\cdot4\\cdot5} + \\dots 100\\ terms$  \n",
    "Here,  \n",
    "$$T_n = \\frac{1}{n(n+1)(n+2)(n+3)}$$\n",
    "$$T_n = \\frac{1}{3}\\frac{(n+3)-n}{n(n+1)(n+2)(n+3)}$$\n",
    "$$T_n = \\frac{1}{3}\\{\\frac{1}{n(n+1)(n+2)} - \\frac{1}{(n+1)(n+2)(n+3)}\\}$$\n",
    "$$T_n = \\frac{1}{3}\\{V_n - V_{n+1}\\}$$\n",
    "The sum is,\n",
    "$$S_n = T_1 + T_2 + \\dots + T_n$$\n",
    "$$S_n = \\frac{1}{3}\\{V_1 - V_2 + V_2 - V_3 + \\dots + V_n - V_{n+1}\\}$$\n",
    "$$S_n = \\frac{1}{3}\\{V_1 - V_{n+1}\\}$$\n",
    "$$S_n = \\frac{1}{3}\\{\\frac{1}{6} - \\frac{1}{(n+1)(n+2)(n+3)}\\}$$"
   ]
  },
  {
   "cell_type": "markdown",
   "metadata": {},
   "source": [
    "**Case 3**: Consider the series, $1\\cdot1! + 2\\cdot2! + 3\\cdot3! + \\dots + n\\cdot n!$  \n",
    "Here,\n",
    "$$T_n = n\\cdot n!$$\n",
    "$$T_n = \\{(n+1)-1\\}\\cdot n!$$\n",
    "$$T_n = (n+1)! - n!$$\n",
    "$$T_n = V_{n+1} - V_n$$"
   ]
  },
  {
   "cell_type": "code",
   "execution_count": null,
   "metadata": {},
   "outputs": [],
   "source": []
  }
 ],
 "metadata": {
  "kernelspec": {
   "display_name": "Python 3",
   "language": "python",
   "name": "python3"
  },
  "language_info": {
   "codemirror_mode": {
    "name": "ipython",
    "version": 3
   },
   "file_extension": ".py",
   "mimetype": "text/x-python",
   "name": "python",
   "nbconvert_exporter": "python",
   "pygments_lexer": "ipython3",
   "version": "3.6.2"
  }
 },
 "nbformat": 4,
 "nbformat_minor": 2
}
