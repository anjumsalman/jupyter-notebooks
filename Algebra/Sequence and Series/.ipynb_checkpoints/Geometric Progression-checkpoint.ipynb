{
 "cells": [
  {
   "cell_type": "markdown",
   "metadata": {},
   "source": [
    "### Terms\n",
    "$a, ar, ar^2, ar^3, \\dots$. Here $\\frac{T_{n+1}}{T_n} = constant$."
   ]
  },
  {
   "cell_type": "markdown",
   "metadata": {},
   "source": [
    "### nth Term\n",
    "$T_n = ar^{n-1}$"
   ]
  },
  {
   "cell_type": "markdown",
   "metadata": {},
   "source": [
    "### Sum of n Terms\n",
    "$S_n = \\frac{a(r^n - 1)}{r - 1}$ given that $r \\ne 1$  \n",
    "  \n",
    "Special case, when $-1 \\lt r \\lt 1$ and $n \\rightarrow \\infty$, then\n",
    "$S_{\\infty} = \\frac{a}{1 - r}$"
   ]
  },
  {
   "cell_type": "markdown",
   "metadata": {},
   "source": [
    "### Geometric Mean\n",
    "$GM = (a_1 \\cdot a_2 \\cdot a_3 \\dots a_n)^{\\frac{1}{n}}$  "
   ]
  },
  {
   "cell_type": "code",
   "execution_count": null,
   "metadata": {},
   "outputs": [],
   "source": []
  }
 ],
 "metadata": {
  "kernelspec": {
   "display_name": "Python 3",
   "language": "python",
   "name": "python3"
  },
  "language_info": {
   "codemirror_mode": {
    "name": "ipython",
    "version": 3
   },
   "file_extension": ".py",
   "mimetype": "text/x-python",
   "name": "python",
   "nbconvert_exporter": "python",
   "pygments_lexer": "ipython3",
   "version": "3.6.2"
  }
 },
 "nbformat": 4,
 "nbformat_minor": 2
}
