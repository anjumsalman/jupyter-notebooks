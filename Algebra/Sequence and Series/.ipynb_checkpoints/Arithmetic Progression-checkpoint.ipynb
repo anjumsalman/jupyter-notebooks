{
 "cells": [
  {
   "cell_type": "markdown",
   "metadata": {},
   "source": [
    "### Terms of AP\n",
    "$a, a+d, a+2d, a+3d, \\dots$ are the terms of an arithmetic progression. Or we can say that $T_{r+1} - T_{r}$ is independent of $r$."
   ]
  },
  {
   "cell_type": "markdown",
   "metadata": {},
   "source": [
    "### nth Term\n",
    "$T_n = a + (n-1)d$"
   ]
  },
  {
   "cell_type": "markdown",
   "metadata": {},
   "source": [
    "### Sum of n Terms\n",
    "$S_n = \\frac{n}{2} \\cdot \\{2a + (n-1)d\\}$  \n",
    "$S_n = \\frac{n}{2}\\{T_1 + T_n\\}$"
   ]
  },
  {
   "cell_type": "markdown",
   "metadata": {},
   "source": [
    "### Arithmetic Mean\n",
    "$AM = (a_1 + a_2 + a_3 \\dots + a_n)/n$"
   ]
  },
  {
   "cell_type": "code",
   "execution_count": null,
   "metadata": {},
   "outputs": [],
   "source": []
  }
 ],
 "metadata": {
  "kernelspec": {
   "display_name": "Python 3",
   "language": "python",
   "name": "python3"
  },
  "language_info": {
   "codemirror_mode": {
    "name": "ipython",
    "version": 3
   },
   "file_extension": ".py",
   "mimetype": "text/x-python",
   "name": "python",
   "nbconvert_exporter": "python",
   "pygments_lexer": "ipython3",
   "version": "3.6.2"
  }
 },
 "nbformat": 4,
 "nbformat_minor": 2
}
