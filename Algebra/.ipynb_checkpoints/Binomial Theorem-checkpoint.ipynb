{
 "cells": [
  {
   "cell_type": "markdown",
   "metadata": {},
   "source": [
    "### Binomial Expansion\n",
    "$$(a + x)^n = C^n_0a^n + C^n_1a^{n-1}x + C^n_2a^{n-2}x^2 + \\dots + C^n_nx^n$$\n",
    "$$\\Rightarrow(a + x)^n = \\sum_{r=0}^{n}C^n_ra^{n-r}x^r$$\n",
    "Replacing a with 1,\n",
    "$$(1 + x)^n = C^n_0 + C^n_1x + C^n_2x^2 + \\dots + C^n_nx^n$$\n",
    "And,\n",
    "$$(1 - x)^n = \\sum_{r=0}^{n}C^n_r(-1)^{r}x^r$$\n",
    "Total number of terms $= n+1$."
   ]
  },
  {
   "cell_type": "markdown",
   "metadata": {},
   "source": [
    "### Middle Term\n",
    "If $n$ is even, there is one middle term $T_{\\frac{n}{2} + 1}$.\n",
    "$$T_{\\frac{n}{2} + 1} = C^n_{\\frac{n}{2}}a^{n/2}x^{n/2}$$\n",
    "\n",
    "If $n$ is odd, there aret two middle terms $T_{\\frac{n+1}{2}}$ and $T_{\\frac{n+3}{2}}$.\n",
    "$$T_{\\frac{n+1}{2}} = C^n_{\\frac{n-1}{2}}a^{\\frac{n+1}{2}}x^{\\frac{n-1}{2}}$$\n",
    "$$T_{\\frac{n+3}{2}} = C^n_{\\frac{n+1}{2}}a^{\\frac{n-1}{2}}x^{\\frac{n+1}{2}}$$"
   ]
  },
  {
   "cell_type": "markdown",
   "metadata": {},
   "source": [
    "### Greatest Binomial Coefficient\n",
    "Let $C^n_k$ be the greatest coefficient where $0\\le k\\le n$. In this case,\n",
    "$$C^n_{k-1}\\le C^n_k \\ge C^n_{k+1}$$\n",
    "$$\\Rightarrow \\frac{n!}{(n-k+1)!(k-1)!} \\le \\frac{n!}{(n-k)!k!} \\ge \\frac{n!}{(n-k-1)!(k+1)!}$$\n",
    "Splitting the two equations, we get\n",
    "$$\\frac{n!}{(n-k+1)!(k-1)!} \\le \\frac{n!}{(n-k)!k!}$$\n",
    "$$\\Rightarrow \\frac{1}{(n-k+1)!(k-1)!} \\le \\frac{1}{(n-k)!k!}$$\n",
    "$$\\Rightarrow \\frac{1}{(n-k+1)(n-k)!(k-1)!} \\le \\frac{1}{(n-k)!k(k-1)!}$$\n",
    "$$\\Rightarrow \\frac{1}{(n-k+1)} \\le \\frac{1}{k}$$\n",
    "$$\\Rightarrow n-k+1 \\ge k$$\n",
    "$$\\Rightarrow k \\le \\frac{n+1}{2}$$\n",
    "The other equation is,\n",
    "$$\\frac{n!}{(n-k-1)!(k+1)!} \\le \\frac{n!}{(n-k)!k!}$$\n",
    "$$\\Rightarrow \\frac{1}{(n-k-1)!(k+1)!} \\le \\frac{1}{(n-k)!k!}$$\n",
    "$$\\Rightarrow \\frac{1}{(n-k-1)!(k+1)k!} \\le \\frac{1}{(n-k)(n-k-1)!k!}$$\n",
    "$$\\Rightarrow \\frac{1}{(k+1)} \\le \\frac{1}{n-k}$$\n",
    "$$\\Rightarrow k+1 \\ge n-k$$\n",
    "$$\\Rightarrow k \\ge \\frac{n-1}{2}$$\n",
    "Combining the two,\n",
    "$$\\frac{n-1}{2} \\le k \\le \\frac{n+1}{2}$$\n",
    "When $n$ is even then $k=\\frac{n}{2}$. When $n$ is odd, $k=\\frac{n-1}{2}$ and $k=\\frac{n+1}{2}$ are the max coefficients."
   ]
  },
  {
   "cell_type": "markdown",
   "metadata": {},
   "source": [
    "### Some Properties of Binomials\n",
    "- $C^n_r = C^n_{n-r}$\n",
    "- $C^n_0 + C^n_1 + C^n_2 + \\dots + C^n_n = 2^n$"
   ]
  },
  {
   "cell_type": "code",
   "execution_count": null,
   "metadata": {},
   "outputs": [],
   "source": []
  }
 ],
 "metadata": {
  "kernelspec": {
   "display_name": "Python 3",
   "language": "python",
   "name": "python3"
  },
  "language_info": {
   "codemirror_mode": {
    "name": "ipython",
    "version": 3
   },
   "file_extension": ".py",
   "mimetype": "text/x-python",
   "name": "python",
   "nbconvert_exporter": "python",
   "pygments_lexer": "ipython3",
   "version": "3.6.2"
  }
 },
 "nbformat": 4,
 "nbformat_minor": 2
}
