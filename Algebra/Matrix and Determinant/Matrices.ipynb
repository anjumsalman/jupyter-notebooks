{
 "cells": [
  {
   "cell_type": "markdown",
   "metadata": {},
   "source": [
    "### Some Types of Matrices\n",
    "1. **Row matrix:** $A = [a_{ij}]_{m\\times n}$ where $m = 1$. For example:  \n",
    "$$\\begin{bmatrix}\n",
    "2 & 1 & 3 & 4\n",
    "\\end{bmatrix}\n",
    "$$\n",
    "\n",
    "2. **Column matrix:** $A = [a_{ij}]_{m\\times n}$ where $n = 1$. For example: \n",
    "$$\\begin{bmatrix}\n",
    "2\\\\\n",
    "1\\\\\n",
    "3\\\\\n",
    "4\n",
    "\\end{bmatrix}\n",
    "$$\n",
    "\n",
    "3. **Square matrix:** $A = [a_{ij}]_{m\\times n}$ where $m = n$.\n",
    "4. **Triangular matrix:** $A = [a_{ij}]_{m\\times n}$ where $a_{ij} = 0, \\forall$  \n",
    "    a. $i>j$, this is upper triangular matrix  \n",
    "    b. $i<j$, this is lower triangular matrix  \n",
    "5. **Diagonal matrix:** $A = [a_{ij}]_{m\\times n}$ where $a_{ij} = 0,\\ \\forall i\\ne j$.For example:\n",
    "  \n",
    "$$\\begin{bmatrix}\n",
    "1&0&0\\\\\n",
    "0&2&0\\\\\n",
    "0&0&3\\\\\n",
    "\\end{bmatrix}\n",
    "$$\n",
    "\n",
    "6. **Scalar matrix:** It is a diagonal matrix with additional property that $a_{ij} = k,\\ \\forall i=j$. For example: \n",
    "  \n",
    "$$\\begin{bmatrix}\n",
    "2&0&0\\\\\n",
    "0&2&0\\\\\n",
    "0&0&2\\\\\n",
    "\\end{bmatrix}\n",
    "$$\n",
    "\n",
    "7. **Identity matrix:** Scalar matrix where $k = 1$. \n",
    "  \n",
    "$$\\begin{bmatrix}\n",
    "1&0&0\\\\\n",
    "0&1&0\\\\\n",
    "0&0&1\\\\\n",
    "\\end{bmatrix}\n",
    "$$"
   ]
  },
  {
   "cell_type": "markdown",
   "metadata": {},
   "source": [
    "### Some Operations\n",
    "1. **Trace** of a matrix is sum of its diagonal elements\n",
    "2. **Transpose** of a matrix $A = [a_{ij}]_{m\\times n}$ is a new matrix $A^T = [b_{ij}]_{n\\times m}$ where $a_{ij} = b_{ji}$\n",
    "3. Two matrices $A$ and $B$ are **equal** iff all their elements are identical\n",
    "4. **Scalar multiplication:** consider $A = [a_{ij}]_{m\\times n}$ and $B = kA$ then $b_{ij} = ka_{ij}$\n",
    "5. **Matrix multiplication:** column or row wise\n",
    "6. **Adjoint** of a matrix is the transpose of its **cofactor** matrix. It is denoted by $adj(A)$\n",
    "7. **Inverse** of matrix $A$ is $A^{-1}$ where $AA^{-1} = I$"
   ]
  },
  {
   "cell_type": "markdown",
   "metadata": {},
   "source": [
    "### Adjoint and Inverse\n",
    "An example of finding adjoint of a matrix is [here](https://www.varsitytutors.com/hotmath/hotmath_help/topics/adjoint-of-a-matrix). Some properties of adjoint of a matrix are:\n",
    "- $adj(O) = O$ and $adj(I) = I$\n",
    "- $adj(cA) = c^{n-1}adj(A)$\n",
    "- $adj(A^T) = adj(A)^T$\n",
    "- If A is invertible, then $adj(A^{-1}) = adj(A)^{-1}$\n",
    "- $adj(AB) = adj(B)adj(A)$  \n",
    "  \n",
    "Finding formula for inverse of a matrix. It can be shown that $A\\cdot adj(A) = |A|I$. We can use this to get formula for inverse of a matrix\n",
    "$$AA^{-1} = I$$\n",
    "$$\\Rightarrow A^{-1}A = I$$\n",
    "$$\\Rightarrow A^{-1}A adj(A)= Iadj(A)$$\n",
    "$$\\Rightarrow A^{-1}|A|I= Iadj(A)$$\n",
    "$$\\Rightarrow A^{-1}= \\frac{adj(A)}{|A|}$$\n",
    "Keep in mind that non-square matrices do not have an inverse."
   ]
  },
  {
   "cell_type": "code",
   "execution_count": null,
   "metadata": {},
   "outputs": [],
   "source": []
  }
 ],
 "metadata": {
  "kernelspec": {
   "display_name": "Python 3",
   "language": "python",
   "name": "python3"
  },
  "language_info": {
   "codemirror_mode": {
    "name": "ipython",
    "version": 3
   },
   "file_extension": ".py",
   "mimetype": "text/x-python",
   "name": "python",
   "nbconvert_exporter": "python",
   "pygments_lexer": "ipython3",
   "version": "3.6.7"
  }
 },
 "nbformat": 4,
 "nbformat_minor": 2
}
