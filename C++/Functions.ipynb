{
 "cells": [
  {
   "cell_type": "markdown",
   "metadata": {},
   "source": []
  },
  {
   "cell_type": "code",
   "execution_count": null,
   "metadata": {},
   "outputs": [],
   "source": []
  },
  {
   "cell_type": "markdown",
   "metadata": {},
   "source": [
    "## Pass by and Return by Types\n",
    "### Pass by Value\n",
    "When an argument is passed by value, the argument’s value is copied into the function’s parameter. Because a copy of the argument is passed to the function, the original argument cannot be modified by the function."
   ]
  },
  {
   "cell_type": "markdown",
   "metadata": {},
   "source": [
    "```C++\n",
    "void foo(int y){\n",
    "    cout<<\"y: \"<<y<<endl;\n",
    "    y = 6;\n",
    "    cout<<\"y: \"<<y<<endl;\n",
    "}    // y destroyed here\n",
    "\n",
    "int main(){\n",
    "    int x = 5;\n",
    "    cout<<\"x: \"<<x<<endl;    // x: 5\n",
    "    foo(x);                  // y: 5     then    y: 6\n",
    "    cout<<\"x: \"<<x<<endl;    // x: 5\n",
    "}\n",
    "```"
   ]
  },
  {
   "cell_type": "markdown",
   "metadata": {},
   "source": [
    "### Pass by Reference\n",
    "Using pass by reference one can modify the argument passed to the function."
   ]
  },
  {
   "cell_type": "markdown",
   "metadata": {},
   "source": [
    "```C++\n",
    "void swap(int &a, int &b){\n",
    "    int temp = a;\n",
    "    a = b;\n",
    "    b = temp;\n",
    "}\n",
    "```"
   ]
  },
  {
   "cell_type": "markdown",
   "metadata": {},
   "source": [
    "Pass by reference is more frequently used when we are passing big data structures such as arrays and objects as arguments. Because copying operation can be expensive."
   ]
  },
  {
   "cell_type": "markdown",
   "metadata": {},
   "source": [
    "### Pass by Address\n",
    "The objective of pass by address is same as pass by reference. However in this case the function parameter is a pointer.\n",
    "\n",
    "```C++\n",
    "void swap(int* a, int* b){\n",
    "    int temp = *a;\n",
    "    *a = *b;\n",
    "    *b = temp;\n",
    "}\n",
    "\n",
    "int main(){\n",
    "    int x = 3, y=5;\n",
    "    swap(&x,&y);    // this is how you call it\n",
    "}\n",
    "```\n",
    "\n",
    "**Note:** when you pass an pointer to a function by address, the pointer’s value (the address it points to) is copied from the argument to the function’s parameter.  The original pointer does not change.\n",
    "\n",
    "```C++\n",
    "void setToNull(int* a){\n",
    "    a = nullptr;\n",
    "}\n",
    "\n",
    "int main(){\n",
    "    int x = 5;\n",
    "    int *ptrX = &x;\n",
    "    setToNull(ptrX);\n",
    "    cout<<\"*ptrX: \"<<*ptrX;    // prints 5\n",
    "}\n",
    "```"
   ]
  },
  {
   "cell_type": "markdown",
   "metadata": {},
   "source": [
    "### Pass Address by Reference\n",
    "If you want to change the address pointed by the original pointer, use this method.\n",
    "\n",
    "```C++\n",
    "void setToNull(int *&a){\n",
    "    a = nullptr;\n",
    "}\n",
    "```"
   ]
  },
  {
   "cell_type": "markdown",
   "metadata": {},
   "source": [
    "### Return by Address\n",
    "Apart from pure value, a function can also return pointer as shown in the example below.\n",
    "\n",
    "```C++\n",
    "int* doubleValue(int x){\n",
    "\tint value = 2*x;\n",
    "\treturn &value;\n",
    "}    // value is destroyed here. The caller ends up with pointer pointing\n",
    "     // to unallocated memory (dangling pointer, compiler warning)\n",
    "```\n",
    "\n",
    "A better use:\n",
    "```C++\n",
    "int* allocateArray(int size){\n",
    "    return new int[size];\n",
    "}\n",
    "```"
   ]
  },
  {
   "cell_type": "markdown",
   "metadata": {},
   "source": [
    "### Return by Reference\n",
    "```C++\n",
    "int& doubleValue(int x){\n",
    "    int value = 2*x;\n",
    "    return value;\n",
    "}    // garbage value is returned\n",
    "```"
   ]
  },
  {
   "cell_type": "code",
   "execution_count": null,
   "metadata": {},
   "outputs": [],
   "source": []
  }
 ],
 "metadata": {
  "kernelspec": {
   "display_name": "Python 3",
   "language": "python",
   "name": "python3"
  },
  "language_info": {
   "codemirror_mode": {
    "name": "ipython",
    "version": 3
   },
   "file_extension": ".py",
   "mimetype": "text/x-python",
   "name": "python",
   "nbconvert_exporter": "python",
   "pygments_lexer": "ipython3",
   "version": "3.6.2"
  }
 },
 "nbformat": 4,
 "nbformat_minor": 2
}
