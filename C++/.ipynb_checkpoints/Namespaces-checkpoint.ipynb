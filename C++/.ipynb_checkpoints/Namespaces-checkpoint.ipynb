{
 "cells": [
  {
   "cell_type": "markdown",
   "metadata": {},
   "source": [
    "## The Need for Namespace\n",
    "Namespace is used to solve the problem when two included files have functions having the same names. A namespace defines an area of code in which all identifiers are guaranteed to be unique. By default, global variables and normal functions are defined in the **global namespace**."
   ]
  },
  {
   "cell_type": "markdown",
   "metadata": {},
   "source": [
    "```C++\n",
    "// foo.h\n",
    "namespace Foo{\n",
    "    void doStuff(){\n",
    "        // implementation\n",
    "    }\n",
    "}\n",
    "```\n",
    "\n",
    "```C++\n",
    "// bar.h\n",
    "namespace Bar{\n",
    "    void doStuff(){\n",
    "        // implementation\n",
    "    }\n",
    "}\n",
    "```\n",
    "\n",
    "```C++\n",
    "// main.cpp\n",
    "#include \"foo.h\"\n",
    "#include \"bar.h\"\n",
    "\n",
    "int main(){\n",
    "    // doStuff(); calling this will give unideclared identifier error\n",
    "    Foo::doStuff();\n",
    "    Bar::doStuff();\n",
    "}\n",
    "```"
   ]
  },
  {
   "cell_type": "markdown",
   "metadata": {},
   "source": [
    "## The Using Keyword\n",
    "Writing namespace_name::identifier can get tiring. The `using` keyword tells the compiler that we want to use everything from a namespace."
   ]
  },
  {
   "cell_type": "markdown",
   "metadata": {},
   "source": [
    "```C++\n",
    "// main.cpp\n",
    "#include \"foo.h\"\n",
    "#include \"bar.h\"\n",
    "\n",
    "int main(){\n",
    "    using namespace Foo;\n",
    "    doStuff(); // same as Foo::doStuff()\n",
    "    Bar::doStuff(); // to call Bar's version\n",
    "}\n",
    "```"
   ]
  },
  {
   "cell_type": "markdown",
   "metadata": {},
   "source": [
    "The scope of a namespace is the block where we write it. The following code block also leads to error.\n",
    "```C++\n",
    "#include <iostream>\n",
    "\n",
    "int cout(){\n",
    "    // my own cout\n",
    "}\n",
    "\n",
    "int main(){\n",
    "    using namespace std;\n",
    "    \n",
    "    cout<<\"Hello There!\"; // this leads to error\n",
    "}\n",
    "```\n",
    "\n",
    "To correct the above error we can write:\n",
    "```C++\n",
    "#include <iostream>\n",
    "\n",
    "int cout(){\n",
    "    // my own cout\n",
    "}\n",
    "\n",
    "int main(){\n",
    "    using std::cout;\n",
    "    \n",
    "    cout<<\"Hello There!\"; // no error\n",
    "}\n",
    "```"
   ]
  },
  {
   "cell_type": "markdown",
   "metadata": {},
   "source": [
    "## Some More Things to Note\n",
    "- Nested namespace blocks: we can nest one namespace in another. Suppose we define a function doStuff inside Bar namespace which itself is inside Foo namespace, then we write Foo::Bar::doStuff()\n",
    "- We can write using namespace &lt;name&gt; statements multiple times\n",
    "- Multiple files can use the same namespace name. The std namespace is used in multiple files for example."
   ]
  },
  {
   "cell_type": "code",
   "execution_count": null,
   "metadata": {},
   "outputs": [],
   "source": []
  }
 ],
 "metadata": {
  "kernelspec": {
   "display_name": "Python 3",
   "language": "python",
   "name": "python3"
  },
  "language_info": {
   "codemirror_mode": {
    "name": "ipython",
    "version": 3
   },
   "file_extension": ".py",
   "mimetype": "text/x-python",
   "name": "python",
   "nbconvert_exporter": "python",
   "pygments_lexer": "ipython3",
   "version": "3.6.2"
  }
 },
 "nbformat": 4,
 "nbformat_minor": 2
}
