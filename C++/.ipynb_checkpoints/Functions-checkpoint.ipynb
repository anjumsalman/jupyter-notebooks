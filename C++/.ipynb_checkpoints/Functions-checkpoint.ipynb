{
 "cells": [
  {
   "cell_type": "markdown",
   "metadata": {},
   "source": [
    "## Pass by Value\n",
    "When an argument is passed by value, the argument’s value is copied into the function’s parameter. Because a copy of the argument is passed to the function, the original argument cannot be modified by the function."
   ]
  },
  {
   "cell_type": "markdown",
   "metadata": {},
   "source": [
    "```C++\n",
    "void foo(int y){\n",
    "    cout<<\"y: \"<<y<<endl;\n",
    "    y = 6;\n",
    "    cout<<\"y: \"<<y<<endl;\n",
    "}    // y destroyed here\n",
    "\n",
    "int main(){\n",
    "    int x = 5;\n",
    "    cout<<\"x: \"<<x<<endl;    // x: 5\n",
    "    foo(x);                  // y: 5     then    y: 6\n",
    "    cout<<\"x: \"<<x<<endl;    // x: 5\n",
    "}\n",
    "```"
   ]
  },
  {
   "cell_type": "markdown",
   "metadata": {},
   "source": [
    "## Pass by Reference\n",
    "Using pass by reference one can modify the argument passed to the function."
   ]
  },
  {
   "cell_type": "markdown",
   "metadata": {},
   "source": [
    "```C++\n",
    "void swap(int &a, int &b){\n",
    "    int temp = a;\n",
    "    a = b;\n",
    "    b = temp;\n",
    "}\n",
    "```"
   ]
  },
  {
   "cell_type": "markdown",
   "metadata": {},
   "source": [
    "Pass by reference is more frequently used when we are passing big data structures such as arrays and objects as arguments. Because copying operation can be expensive."
   ]
  },
  {
   "cell_type": "markdown",
   "metadata": {},
   "source": [
    "## Pass by Address\n",
    "The objective of pass by address is same as pass by reference. However in this case the function parameter is a pointer.\n",
    "\n",
    "```C++\n",
    "void swap(int* a, int* b){\n",
    "    int temp = *a;\n",
    "    *a = *b;\n",
    "    *b = temp;\n",
    "}\n",
    "\n",
    "int main(){\n",
    "    int x = 3, y=5;\n",
    "    swap(&x,&y);    // this is how you call it\n",
    "}\n",
    "```"
   ]
  },
  {
   "cell_type": "code",
   "execution_count": null,
   "metadata": {},
   "outputs": [],
   "source": []
  }
 ],
 "metadata": {
  "kernelspec": {
   "display_name": "Python 3",
   "language": "python",
   "name": "python3"
  },
  "language_info": {
   "codemirror_mode": {
    "name": "ipython",
    "version": 3
   },
   "file_extension": ".py",
   "mimetype": "text/x-python",
   "name": "python",
   "nbconvert_exporter": "python",
   "pygments_lexer": "ipython3",
   "version": "3.6.2"
  }
 },
 "nbformat": 4,
 "nbformat_minor": 2
}
