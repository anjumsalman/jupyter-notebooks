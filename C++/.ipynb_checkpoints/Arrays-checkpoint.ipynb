{
 "cells": [
  {
   "cell_type": "markdown",
   "metadata": {},
   "source": [
    "## Arrays\n",
    "The following code creates an array of 10 elements. Note that memory is allocated for 10 elements as soon as this block of code runs.\n",
    "```C++\n",
    "int elements[10];\n",
    "```\n",
    "\n",
    "We can also initialize the elements during definition.\n",
    "```C++\n",
    "int numbers[] = {1,2,3,4,5}\n",
    "```\n",
    "\n",
    "It is important that the variable representing the size of an array is compile time constant.\n",
    "```C++\n",
    "const int size = 20;\n",
    "int values[size];    // correct\n",
    "\n",
    "int length;\n",
    "cin>>length;\n",
    "int amounts[length];    // wrong\n",
    "```\n",
    "Even though the above code works, it is not standard C++, it's a compiler extension and should not be used. To create arrays with dynamically allocated size we use `new` operator.\n",
    "\n",
    "To get the size of an array we can write\n",
    "```C++\n",
    "int size = sizeof(array)/sizeof(array[0]);\n",
    "```"
   ]
  },
  {
   "cell_type": "markdown",
   "metadata": {},
   "source": [
    "## Multidimensional Arrays\n",
    "To create a multidimensional array we must have bounds for all dimensions except the first.\n",
    "```C++\n",
    "int matrix[][] = {\n",
    "    {1,2,3},\n",
    "    {5,4,6},\n",
    "    {9,8,7}\n",
    "};    // wrong, must write 3 in  the second square bracket\n",
    "```"
   ]
  },
  {
   "cell_type": "markdown",
   "metadata": {},
   "source": [
    "## Vector\n",
    "Vectors are sequence containers representing arrays that can change in size. Internally vectors are implemented as arrays. When we add element beyond the size of the array, a new array with double the size is created and all the elements are copied to the new array.\n",
    "```C++\n",
    "vector<int> v;\n",
    "cout<<v.capacity()<<endl;\t// 0\n",
    "v.push_back(2);\n",
    "v.push_back(3);\n",
    "v.push_back(5);\n",
    "v.push_back(7);\n",
    "v.push_back(11);\n",
    "cout<<v.capacity();\t\t\t// 8\n",
    "cout<<v.size();\t\t\t\t// 5\n",
    "```"
   ]
  },
  {
   "cell_type": "code",
   "execution_count": null,
   "metadata": {},
   "outputs": [],
   "source": []
  }
 ],
 "metadata": {
  "kernelspec": {
   "display_name": "Python 3",
   "language": "python",
   "name": "python3"
  },
  "language_info": {
   "codemirror_mode": {
    "name": "ipython",
    "version": 3
   },
   "file_extension": ".py",
   "mimetype": "text/x-python",
   "name": "python",
   "nbconvert_exporter": "python",
   "pygments_lexer": "ipython3",
   "version": "3.6.2"
  }
 },
 "nbformat": 4,
 "nbformat_minor": 2
}
