{
 "cells": [
  {
   "cell_type": "markdown",
   "metadata": {},
   "source": [
    "## Class Basics\n",
    "- By default every member is private\n",
    "- Class members are accessed using dot (.) or arrow (->)"
   ]
  },
  {
   "cell_type": "markdown",
   "metadata": {},
   "source": [
    "```C++\n",
    "class X{\n",
    "    private:\n",
    "        int m;\n",
    "    public:\n",
    "        X(int i=0):m{i}{}    // default arguments have been available since the begining\n",
    "        int getM(){\n",
    "            return m;\n",
    "        }\n",
    "}\n",
    "\n",
    "X x{8};    // same as X x = X(8);\n",
    "```"
   ]
  },
  {
   "cell_type": "markdown",
   "metadata": {},
   "source": [
    "**Short note on copying objects:** refer to code below\n",
    "```C++\n",
    "Date d = Date(14,2,1994);\n",
    "Date e = d;\n",
    "Date &f = e;\n",
    "cout<<&d<<\" \"<<&e<<\" \"<<&f;    // e and f are same objects whereas d is different\n",
    "                               // e is created by copying d's every attribute\n",
    "```"
   ]
  },
  {
   "cell_type": "markdown",
   "metadata": {},
   "source": [
    "**Why do we even need private members?**\n",
    "- More public members means more places to look for in case something goes wrong\n",
    "- Member variables define the state of an object and you might want that state to change in a restricted manner\n",
    "- Related to previous point is that having private members help define an interface for other people who use the object. For example, having private members ensure that we interact with the object using its public members only. This way we can modify the internals without worrying about any impact on end user. Suppose we have a member variable profit and a function getProfit. If we modify getProfit in future, then wherever profit variable was being used would give wring result.\n",
    "- Having public setters help in enforcing data validation. Remember that it isn't just you who is going to use the code"
   ]
  },
  {
   "cell_type": "markdown",
   "metadata": {},
   "source": [
    "## Constructors\n",
    "The Date class above can be initialized in the following ways:\n",
    "```C++\n",
    "Date today = Date(19,11,2018);\n",
    "Date birthday(14,2,1994);\n",
    "Date newYear{1,1,2019};\n",
    "Date someday;    // leads to error! no arguments passed\n",
    "```\n",
    "\n",
    "Constructors can be overloaded. Use default arguments to reduce number of overloaded functions.\n",
    "When there are a number of overloading constructors then we can use in-class initializers to initialize member variables. This saves us from typing.\n",
    "```C++\n",
    "class Date{\n",
    "    private:\n",
    "        int d{1};    //This was introduced in C++ 11\n",
    "        int m{1};\n",
    "        int y{1970};\n",
    "    ...\n",
    "```\n",
    "\n",
    "If no user defined constructors are defined, then the compiler automatically adds a no argument constructor. Also note that unlike Java, members of class types have no deterministic default values in general case.\n",
    "```C++\n",
    "class Date{\n",
    "    private:\n",
    "        int d,m,y;\n",
    "    public:\n",
    "        int getDate(){ return d }\n",
    "    ...\n",
    "}\n",
    "\n",
    "Date d;\n",
    "cout<<d.getDate();    // prints random (not quite though) date\n",
    "```\n",
    "\n",
    "This means that a class (without) constructor would not work if any of its dependency does not have a zero argument constructor\n",
    "```C++\n",
    "class Calendar{\n",
    "    Date date;\n",
    "    \n",
    "    public:\n",
    "        int getDate(){\n",
    "            return date.getDate();\n",
    "        }\n",
    "}\n",
    "\n",
    "Calendar cal; // error if Date has no zero arg constructor\n",
    "```"
   ]
  },
  {
   "cell_type": "code",
   "execution_count": null,
   "metadata": {},
   "outputs": [],
   "source": []
  }
 ],
 "metadata": {
  "kernelspec": {
   "display_name": "Python 3",
   "language": "python",
   "name": "python3"
  },
  "language_info": {
   "codemirror_mode": {
    "name": "ipython",
    "version": 3
   },
   "file_extension": ".py",
   "mimetype": "text/x-python",
   "name": "python",
   "nbconvert_exporter": "python",
   "pygments_lexer": "ipython3",
   "version": "3.6.2"
  }
 },
 "nbformat": 4,
 "nbformat_minor": 2
}
