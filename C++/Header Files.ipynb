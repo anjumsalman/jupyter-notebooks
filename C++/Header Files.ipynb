{
 "cells": [
  {
   "cell_type": "markdown",
   "metadata": {},
   "source": [
    "## Header Files\n",
    "Header files declare a bunch of functions. The example code below uses the iostream header file which declares *cout* among other things. The actual definition resides somewhere else. The definition for standard header files like iostream is present in the standard runtime library. For user created header files the definitions are usually present in a different .cpp file.\n",
    "\n",
    "The flow when we compile the below code sample is:"
   ]
  },
  {
   "cell_type": "markdown",
   "metadata": {},
   "source": [
    "```C++\n",
    "#include <iostream>\n",
    "int main()\n",
    "{\n",
    "    std::cout << \"Hello, world!\" << std::endl;\n",
    "    return 0;\n",
    "}\n",
    "```"
   ]
  },
  {
   "cell_type": "markdown",
   "metadata": {},
   "source": [
    "![Compilation Flow](https://www.learncpp.com/images/CppTutorial/Section1/IncludeLibrary.png \"Compilation Flow\")"
   ]
  },
  {
   "cell_type": "markdown",
   "metadata": {},
   "source": [
    "The #include preprocessor just inserts the content of iostream header file there. Now in case we define a bunch of functions in a file called *add.cpp*. To use the functions in *main.cpp* we need to forward declare each of these functions. Like\n",
    "\n",
    "```C++\n",
    "// add.cpp\n",
    "int add(int x, int y){\n",
    "    return x + y;\n",
    "}\n",
    "\n",
    "// other functions\n",
    "```\n",
    "\n",
    "```C++\n",
    "#include <iostream>\n",
    "\n",
    "int add(int x, int y);\n",
    "// forward decalare all other functions you are going to use\n",
    "\n",
    "int main(){\n",
    "    std::cout<<'4 + 3 = '<<add(4,3);\n",
    "}\n",
    "```"
   ]
  },
  {
   "cell_type": "markdown",
   "metadata": {},
   "source": [
    "An alternative (and the common) approach is to create an *add.h* file and declare all functions there. Then include the header file in *main.cpp*.\n",
    "```C++\n",
    "// add.h\n",
    "#ifndef ADD_H\n",
    "#define ADD_H\n",
    "int add(int x, int y);\n",
    "#endif\n",
    "// other functions\n",
    "```\n",
    "\n",
    "*add.cpp* remains the same.\n",
    "```C++\n",
    "#include <iostream>\n",
    "#include \"add.h\"\n",
    "\n",
    "int main(){\n",
    "    std::cout<<'4 + 3 = '<<add(4,3);\n",
    "}\n",
    "```"
   ]
  },
  {
   "cell_type": "markdown",
   "metadata": {},
   "source": [
    "The set of preprocessors in the header file are called header guards and they ensure that we dont include the header file more than once.\n",
    "\n",
    "![Compile Flow 2](https://www.learncpp.com/images/CppTutorial/Section1/IncludeHeader.png \"Compile Flow 2\")"
   ]
  },
  {
   "cell_type": "markdown",
   "metadata": {},
   "source": [
    "## Some More Things to Note\n",
    "- angled brackets are used to include header files that come with the compiler\n",
    "- double quotes are used to include user created header files\n",
    "- iostream.h is different header file than iostream. iostream is the modern equivalent created keeping namespaces in mind \n",
    "- do not define variables in header files unless they are constants. Header files should generally only be used for declarations"
   ]
  },
  {
   "cell_type": "code",
   "execution_count": null,
   "metadata": {},
   "outputs": [],
   "source": []
  }
 ],
 "metadata": {
  "kernelspec": {
   "display_name": "Python 3",
   "language": "python",
   "name": "python3"
  },
  "language_info": {
   "codemirror_mode": {
    "name": "ipython",
    "version": 3
   },
   "file_extension": ".py",
   "mimetype": "text/x-python",
   "name": "python",
   "nbconvert_exporter": "python",
   "pygments_lexer": "ipython3",
   "version": "3.7.4"
  }
 },
 "nbformat": 4,
 "nbformat_minor": 4
}
