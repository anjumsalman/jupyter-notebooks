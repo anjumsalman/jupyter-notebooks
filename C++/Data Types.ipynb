{
 "cells": [
  {
   "cell_type": "markdown",
   "metadata": {},
   "source": [
    "## Primitive Data Types\n",
    "**Category**|**Type**|**Minimum Size**|**Note**\n",
    ":-----:|:-----:|:-----:|:-----:\n",
    "boolean|bool|1 byte| \n",
    "character|char|1 byte|May be signed or unsigned\n",
    " |wchar\\_t|1 byte| \n",
    " |char16\\_t|2 bytes|C++11 type\n",
    " |char32\\_t|4 bytes|C++11 type\n",
    "integer|short|2 bytes| \n",
    " |int|2 bytes| \n",
    " |long|4 bytes| \n",
    " |long long|8 bytes|C99/C++11 type\n",
    "floating point|float|4 bytes| \n",
    " |double|8 bytes| \n",
    " |long double|8 bytes| "
   ]
  },
  {
   "cell_type": "markdown",
   "metadata": {},
   "source": [
    "The actual size of variable is machine dependent. The `sizeof` operator gives the size of a variable in bytes. In addition to the above types, integers can be `signed` or `unsigned`."
   ]
  },
  {
   "cell_type": "code",
   "execution_count": null,
   "metadata": {},
   "outputs": [],
   "source": []
  }
 ],
 "metadata": {
  "kernelspec": {
   "display_name": "Python 3",
   "language": "python",
   "name": "python3"
  },
  "language_info": {
   "codemirror_mode": {
    "name": "ipython",
    "version": 3
   },
   "file_extension": ".py",
   "mimetype": "text/x-python",
   "name": "python",
   "nbconvert_exporter": "python",
   "pygments_lexer": "ipython3",
   "version": "3.6.2"
  }
 },
 "nbformat": 4,
 "nbformat_minor": 2
}
