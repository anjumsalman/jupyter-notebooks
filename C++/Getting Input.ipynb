{
 "cells": [
  {
   "cell_type": "markdown",
   "metadata": {},
   "source": [
    "## cin\n",
    "Some examples:\n",
    "\n",
    "```C++\n",
    "#include <iostream>\n",
    "\n",
    "int main(){\n",
    "\tusing namespace std;\n",
    "\t\n",
    "\tint x;\n",
    "\tcin>>x;\n",
    "\tcout<<\"You entered: \"<<x;\n",
    "}\n",
    "```\n",
    "\n",
    "- Input: 2345abcd; Output: 2345\n",
    "- Input: abcd; Output: 0\n",
    "- Input: 21345 (Leading whitespace); Output: 21345\n",
    "\n",
    "cin stops input as soon as it encounters \"\\n\""
   ]
  },
  {
   "cell_type": "code",
   "execution_count": null,
   "metadata": {},
   "outputs": [],
   "source": []
  }
 ],
 "metadata": {
  "kernelspec": {
   "display_name": "Python 3",
   "language": "python",
   "name": "python3"
  },
  "language_info": {
   "codemirror_mode": {
    "name": "ipython",
    "version": 3
   },
   "file_extension": ".py",
   "mimetype": "text/x-python",
   "name": "python",
   "nbconvert_exporter": "python",
   "pygments_lexer": "ipython3",
   "version": "3.6.2"
  }
 },
 "nbformat": 4,
 "nbformat_minor": 2
}
