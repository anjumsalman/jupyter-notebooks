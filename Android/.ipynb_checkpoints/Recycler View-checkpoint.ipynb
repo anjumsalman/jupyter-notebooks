{
 "cells": [
  {
   "cell_type": "markdown",
   "metadata": {},
   "source": [
    "### Overview\n",
    "The `RecyclerView` widget is a more advanced and flexible version of `ListView`. It uses `LinearLayoutManager` or `GridLayoutManager` to fill the list with views. By changing `LayoutManager` we can change the layout of list items. They can be placed horizontally, vertically or in a grid.  \n",
    "\n",
    "Views in a list are represented by `ViewHolder` objects (extend `RecyclerView.ViewHolder`. The view holder objects are managed by an adapter, which you create by extending `RecyclerView.Adapter`. The adapter creates view holders as needed.  "
   ]
  },
  {
   "cell_type": "markdown",
   "metadata": {},
   "source": [
    "### Adapter\n",
    "```java\n",
    "public class SongAdapter extends RecyclerView.Adapter<SongAdapter.SongHolder> {\n",
    "    private List<Song> songList;\n",
    "\n",
    "    // ViewHolder contains all the views which combine to form a list item\n",
    "    public class SongHolder extends RecyclerView.ViewHolder{\n",
    "        public TextView nameTV, artistTV;\n",
    "\n",
    "        public SongHolder(View itemView) {\n",
    "            super(itemView);\n",
    "            nameTV = (TextView) itemView.findViewById(R.id.audListName);\n",
    "            artistTV = (TextView) itemView.findViewById(R.id.audListArtist);\n",
    "        }\n",
    "    }\n",
    "\n",
    "    public SongAdapter(List<Song> songList){\n",
    "        this.songList = songList;\n",
    "    }\n",
    "\n",
    "    // Specify the layout file here\n",
    "    @NonNull\n",
    "    @Override\n",
    "    public SongAdapter.SongHolder onCreateViewHolder(@NonNull ViewGroup parent, int viewType) {\n",
    "        View v = LayoutInflater.from(parent.getContext())\n",
    "                .inflate(R.layout.aud_list,parent, false);\n",
    "        return new SongHolder(v);\n",
    "    }\n",
    "\n",
    "    // This is how adapter binds view holder to data\n",
    "    @Override\n",
    "    public void onBindViewHolder(@NonNull SongAdapter.SongHolder holder, int position) {\n",
    "        Song song = songList.get(position);\n",
    "        holder.nameTV.setText(song.getName());\n",
    "        holder.artistTV.setText(song.getArtist());\n",
    "    }\n",
    "\n",
    "    @Override\n",
    "    public int getItemCount() {\n",
    "        return songList.size();\n",
    "    }\n",
    "}\n",
    "```"
   ]
  },
  {
   "cell_type": "markdown",
   "metadata": {},
   "source": [
    "Once the Adapter is ready, in activity,\n",
    "```java\n",
    "recyclerView = (RecyclerView) findViewById(R.id.recyclerView);\n",
    "recyclerView.setHasFixedSize(true);\n",
    "\n",
    "// Set layout\n",
    "layoutManager = new LinearLayoutManager(this);\n",
    "recyclerView.setLayoutManager(layoutManager);\n",
    "\n",
    "// Set adapter\n",
    "adapter = SongAdapter(songList);\n",
    "recyclerView.setAdapter(adapter);\n",
    "```"
   ]
  },
  {
   "cell_type": "code",
   "execution_count": null,
   "metadata": {},
   "outputs": [],
   "source": []
  }
 ],
 "metadata": {
  "kernelspec": {
   "display_name": "Java",
   "language": "java",
   "name": "java"
  },
  "language_info": {
   "codemirror_mode": "java",
   "file_extension": ".java",
   "mimetype": "text/x-java-source",
   "name": "Java",
   "pygments_lexer": "java",
   "version": "9+181"
  }
 },
 "nbformat": 4,
 "nbformat_minor": 2
}
