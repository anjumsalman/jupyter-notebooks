{
 "cells": [
  {
   "cell_type": "markdown",
   "metadata": {},
   "source": [
    "Same key is utilised for both encryption and decryption. Some terms:\n",
    "- $x$ is plaintext\n",
    "- $y$ is ciphertext\n",
    "- $k$ is key\n",
    "Set of all possible keys is *keyspace*."
   ]
  },
  {
   "cell_type": "markdown",
   "metadata": {},
   "source": [
    "### Substitution Cipher\n",
    "The idea is very simple, substitute a letter with a randomly picked one. It is easy to break substitution cipher using *brute force*. We need to exhaust $K = {k_1, k_2, \\cdots k_n}$ and we will find $d_{k_i}(y) = x$. The keyspace in this case (english alphabets only) is $26!$. Also there is a chance of false positive. But with such a big keyspace, we can conclude that substitution cipher is secure against brute force.  \n",
    "We employ another technique called as *frequency analysis*. We basically take the ciphertext and observe the most occuring letters. Let the ciphertext be:\n",
    "```\n",
    "iq ifcc vqqr fb rdq vfllcq na rdq cfjwhwz hr bnnb\n",
    "hcc hwwhbsqvqbre hwq vhlq\n",
    "```\n",
    "Here q occurs the most, so q can be the letter 'E' since the letter 'E' occurs the most frequently in English language. We can also observe letter pairs, for example in English, the letter 'Q' is almost always followed by 'U'."
   ]
  },
  {
   "cell_type": "markdown",
   "metadata": {},
   "source": [
    "### Key Length\n",
    "How many bits long should the key be to prevent brute force attacks? Upto 64 bits -- few hours or days; 128 bits -- few decades; 256 bits -- really long even with quantum computers."
   ]
  },
  {
   "cell_type": "markdown",
   "metadata": {},
   "source": [
    "### Modulo Arithmetic\n",
    "Consider the below operation:  \n",
    "$$8\\ +\\ 4 = 12$$\n",
    "$$12\\ \\%\\ 9 = 3$$\n",
    "$$8\\ +\\ 4 \\equiv\\ 3\\ mod\\ 9$$"
   ]
  },
  {
   "cell_type": "markdown",
   "metadata": {},
   "source": [
    "We can write the following: if $a,r,m \\in Z$ where $Z$ is set of all integers, then we write:  \n",
    "$$a\\ \\equiv\\ r\\ mod\\ m$$  \n",
    "if $m$ divides $a\\ -\\ r$. For example, if $a=42$, $m=9$ then we can write $42\\equiv 6\\ mod\\ 9$. Note that r is not unique as you can see that,\n",
    "$$12\\equiv 3\\ mod\\ 9$$\n",
    "$$12\\equiv -6\\ mod\\ 9$$\n",
    "$$12\\equiv 21\\ mod\\ 9$$\n",
    "Which remainder to choose? Genrally we pick $0 \\le r \\le m - 1$."
   ]
  },
  {
   "cell_type": "markdown",
   "metadata": {},
   "source": [
    "### One Time Pad\n",
    "One time pad is an encryption technique which cannot be broken, but it requires truely random key having same length as the message. If the message has bytes $x_1,x_2, \\cdots , x_n$ and the keys are $k_1, k_2, \\cdots , k_n$ then $y_i = x_i\\ XOR\\ k_i$. So why XOR and not OR or AND? This is because if we look at the truth tables below:\n",
    "```\n",
    " A  B  A&B      A  B  A|B      A  B  A^B\n",
    "-----------    -----------    -----------\n",
    " 0  0   0       0  0   0       0  0   0\n",
    " 0  1   0       0  1   1       0  1   1\n",
    " 1  0   0       1  0   1       1  0   1\n",
    " 1  1   1       1  1   1       1  1   0\n",
    " \n",
    "```\n",
    "only XOR has equal chance of getting 0 or 1. Also to decrypt we simply XOR the ciphertext with the key again."
   ]
  },
  {
   "cell_type": "markdown",
   "metadata": {},
   "source": [
    "### Stream Cipher\n",
    "A stream cipher encrypts 1 bit at a time. We have plaintext stream and key stream and we encrypt each bit at a time. One time pad is a perfect stream cipher. But as we know that one time pad isn't very practical, we use a pseudo random number generator. We pass an initial purely random seed and pseudo random number genrator generates stream of key bits."
   ]
  },
  {
   "cell_type": "markdown",
   "metadata": {},
   "source": [
    "Pseudo random number isn't even random, for the same seed, we get same results. A common pseudo random number generator is linear congruential generator which is defined as:\n",
    "$$s_0 = seed$$\n",
    "$$s_{i+1} = a*s_i\\ +\\ b\\ mod\\ M$$  \n",
    "where $a, b\\ and\\ M$ are fixed. As a key, we can pick pair $(a,b)$ and $s_0$."
   ]
  },
  {
   "cell_type": "markdown",
   "metadata": {},
   "source": [
    "### Block Cipher\n",
    "Block ciphers encrypt an entire block of plaintext bits at a time with the same key. This means that the encryption of any plaintext bit in a given block depends on every other plaintext bit in the same block. DES and AES are two famous block ciphers."
   ]
  },
  {
   "cell_type": "markdown",
   "metadata": {},
   "source": [
    "### Data Encryption Standard (DES)\n",
    "Key Size = 56 bits  \n",
    "Block length = 64 bits  \n",
    "DES is prone to brute force attack due to its small key size. 3DES is an improved version."
   ]
  },
  {
   "cell_type": "markdown",
   "metadata": {},
   "source": [
    "### Advanced Encryption Standard (AES)\n",
    "Key Size = 128, 192 or 256 bits  \n",
    "Block size = 128 bits  \n",
    "AES is secure and has efficient software and hardware implementations."
   ]
  },
  {
   "cell_type": "code",
   "execution_count": null,
   "metadata": {},
   "outputs": [],
   "source": []
  }
 ],
 "metadata": {
  "kernelspec": {
   "display_name": "Python 3",
   "language": "python",
   "name": "python3"
  },
  "language_info": {
   "codemirror_mode": {
    "name": "ipython",
    "version": 3
   },
   "file_extension": ".py",
   "mimetype": "text/x-python",
   "name": "python",
   "nbconvert_exporter": "python",
   "pygments_lexer": "ipython3",
   "version": "3.6.2"
  }
 },
 "nbformat": 4,
 "nbformat_minor": 2
}
