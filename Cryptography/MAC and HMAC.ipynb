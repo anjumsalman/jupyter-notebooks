{
 "cells": [
  {
   "cell_type": "markdown",
   "id": "3faf16d3-ad39-490e-bdde-3bdee12a7009",
   "metadata": {},
   "source": [
    "## MAC\n",
    "Stands for **Message Authentication**, is a short array of bits that authenticates (receiver can verify that the message originated from the stated sender) a message. In order to generate a MAC, the sender needs a *message* and a *secret key*. In order to verify the MAC, the receiver requires the message and the same secret key.\n",
    "\n",
    "Message digest doesn't provide authenticity since if a message is intercepted, the attacker can modify the message and regenerate digest from the modified message. Same is not possible with MAC, therefore MAC provides both:\n",
    "- **integrity**\n",
    "- **authentication**\n",
    "  \n",
    "MAC does not provide **non-repudiation** since whoever possese the secret key can generate MAC.\n",
    "\n",
    "MAC is generated using a *MAC function*.\n",
    "\n",
    "## HMAC\n",
    "Stands for **Hash-based Message Authentication**. Uses a *HMAC function* to generate MAC. The function is defined as:  \n",
    "`HMAC(K, message) = H(K' XOR opad || H(K' XOR ipad || message))`, where  \n",
    "- `message`: the message to be authenticated\n",
    "- `H`: hash function like `SHA-256`\n",
    "- `K`: the secret key\n",
    "- `K'`: block-sized key derived from K depending on the hash function’s internal block size, `B`. `B` for `SHA-256` for example is 1088 bytes.\n",
    "- `opad`: outer padding, consisting of byte 0x5c repeated `B` times\n",
    "- `ipad`: inner padding, consisting of byte 0x36 repeated `B` times\n",
    "- `||`: concatenation\n",
    "\n",
    "A complicated function like above is required to counter various attacks on HMAC, therefore a simple implementation like `HMAC(K, message) = H(K || message)` would not be secure.\n",
    "\n",
    "HMAC function using a particular hash function is called by the notation `HMAC-<hash function>`, for example HMAC-SHA-256. An HMAC function produces an HMAC value of the same length as the hash length of the underlying\n",
    "hash function.\n",
    "\n",
    "### HMAC Security\n",
    "Is defined by `min(K_bits , L)` where `K_bits` is the security strength of the secret key and `L` is the hash length of the hash function used. As an example, security of HMAC-SHA-256 using secret key of 256 bits is 256 bits. As the formula suggests, using secret key longer than hash length doesn't improve upon security very much.\n",
    "\n",
    "### MAC and Encryption\n",
    "Using a MAC with encryption can be achieved using the following schemes:\n",
    "- *Encrypt-then-MAC*: plaintext is encrypted, then MAC is calculated on the ciphertext and sent together with the ciphertext. Receiver can verify authenticity without decrypting. Recommended.\n",
    "- *Encypt-and-MAC*: plaintext is encrypted, however the MAC is calculated on the plaintext instead of the ciphertext. Receiver needs to decrypt contents before validating authenticity.\n",
    "- *MAC-then-encrypt*: MAC is calculated on the plaintext. Then plaintext concatenated with MAC is encrypted. Receiver needs to decrypt contents before validating authenticity.\n",
    "\n",
    "Some ciphers support *authenticated encryption modes* providing authentication as one of their core features and do not require separate authentication operations, such as running an HMAC function on plaintext or ciphertext. "
   ]
  },
  {
   "cell_type": "markdown",
   "id": "c3784b5f-a0eb-48b1-9b35-e036076fa781",
   "metadata": {},
   "source": [
    "## OpenSSL\n",
    "**Generate secret key**: 256 bits encryption key using rand command\n",
    "```bash\n",
    "$ openssl rand -hex 32\n",
    "406ff43f213c4f42ad771b9958bb38c2e39173e2aede8664bc965e67fe02c288\n",
    "```\n",
    "\n",
    "**Generate HMAC:**\n",
    "```bash\n",
    "$ openssl dgst -sha-256 -mac HMAC -macopt hexkey:406ff43f213c4f42ad771b9958bb38c2e39173e2aede8664bc965e67fe02c288 hello.txt\n",
    "HMAC-SHA2-256(hello.txt)= dd35a82ea26d792c1013e018e7f91dffaaacab6744aba91e0a5317b85d5c6e36\n",
    "```"
   ]
  },
  {
   "cell_type": "markdown",
   "id": "781a95e3-f698-401a-b2dc-9403b61282f4",
   "metadata": {},
   "source": [
    "## Java  "
   ]
  },
  {
   "cell_type": "code",
   "execution_count": null,
   "id": "d2693b22-7eea-4696-af13-7916eb3d988f",
   "metadata": {},
   "outputs": [],
   "source": [
    "/**\n",
    " * Generates an HMAC-SHA256 signature for the given message\n",
    " *\n",
    " * @param message   for which HMAC is calculated\n",
    " * @param secretKey used for HMAC derivation\n",
    " * @return HMAC of the given message\n",
    " * @throws NoSuchAlgorithmException\n",
    " * @throws InvalidKeyException\n",
    " */\n",
    "public static byte[] getHMAC(byte[] message, SecretKey secretKey) throws NoSuchAlgorithmException, InvalidKeyException {\n",
    "    SecretKeySpec keySpec = new SecretKeySpec(secretKey.getEncoded(), \"HmacSHA256\");\n",
    "\n",
    "    // Initialise MAC\n",
    "    Mac mac = Mac.getInstance(\"HmacSHA256\");\n",
    "    mac.init(keySpec);\n",
    "\n",
    "    return mac.doFinal(message);\n",
    "}"
   ]
  }
 ],
 "metadata": {
  "kernelspec": {
   "display_name": "Java",
   "language": "java",
   "name": "java"
  },
  "language_info": {
   "codemirror_mode": "java",
   "file_extension": ".jshell",
   "mimetype": "text/x-java-source",
   "name": "Java",
   "pygments_lexer": "java",
   "version": "21.0.2+13-58"
  }
 },
 "nbformat": 4,
 "nbformat_minor": 5
}
