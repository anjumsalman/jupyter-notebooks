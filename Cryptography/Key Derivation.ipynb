{
 "cells": [
  {
   "cell_type": "markdown",
   "id": "84b7915f-9800-4eb2-9a78-625e98122ba4",
   "metadata": {},
   "source": [
    "## Key Derivation from Password\n",
    "Symmetric encryption works using an encryption key rather than using a password. Encryption keys are not human friendly, these are long and impossible to remember. On the other hand passwords or passphrases are shorter and easier to remember. In order to use password for encryption, we need a way to transform password into encryption key. This is done using a **Key Derivation Function (KDF)**.\n",
    "\n",
    "## Password Based Key Derivation Function (PBKDF)\n",
    "Produces secret keys from low entropy data like passwords. PBKDF can also be used for password hashing. Following are the parameters of a KDF:\n",
    "- Input Key Material (IKM): password in this case\n",
    "- Salt: randomly generated data used to add more randomness to the process and hinder pre-computed hash attacks. Salt can be public or secret, recommended size is atleast 128 bits\n",
    "- Info: application-specific information. It does not add security but can be useful for binding key material to its usage\n",
    "- Pseudorandom Function (PRF)\n",
    "- Function-specific, brute-force-resistant parameter(s). For many KDFs, it is just an iteration count\n",
    "- Output Key Material (OKM) size: size of the generated secret key, for example 256 bits.\n",
    "\n",
    "Of all the parameters mentioned, only the IKM is considered secret."
   ]
  },
  {
   "cell_type": "markdown",
   "id": "99bd0263-c8dc-4ccc-ab77-036481539c4c",
   "metadata": {},
   "source": [
    "## OpenSSL\n",
    "Supports two most popular KDF mechanisms **PBKDF2** and **scrypt**. Both support tunable iteration counts. PBKDF2 is computationally intensive, whereas scrypt is both computationally and memory intensive.\n",
    "\n",
    "**Generating key using scrypt:** first generate a salt\n",
    "```bash\n",
    "$ openssl rand -hex 16\n",
    "3c296974b9f2343a6b8898d0338e1113\n",
    "$ openssl kdf -keylen 32 -kdfopt 'pass:Pa$$w0rD' -kdfopt hexsalt:3c296974b9f2343a6b8898d0338e1113 -kdfopt n:65536 -kdfopt r:8 -kdfopt p:1 SCRYPT\n",
    "59:69:01:AD:85:00:2A:AF:75:F4:BA:A5:84:30:A9:B5:30:1C:25:64:43:73:32:C9:37:FA:EC:DD:A8:6A:9C:12\n",
    "```"
   ]
  },
  {
   "cell_type": "code",
   "execution_count": null,
   "id": "20aef404-c184-4878-8f98-6315e9d4bb12",
   "metadata": {},
   "outputs": [],
   "source": []
  }
 ],
 "metadata": {
  "kernelspec": {
   "display_name": "Java",
   "language": "java",
   "name": "java"
  },
  "language_info": {
   "codemirror_mode": "java",
   "file_extension": ".jshell",
   "mimetype": "text/x-java-source",
   "name": "Java",
   "pygments_lexer": "java",
   "version": "21.0.2+13-58"
  }
 },
 "nbformat": 4,
 "nbformat_minor": 5
}
