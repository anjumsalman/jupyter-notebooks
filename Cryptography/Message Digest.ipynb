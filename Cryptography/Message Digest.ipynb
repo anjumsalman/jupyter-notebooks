{
 "cells": [
  {
   "cell_type": "markdown",
   "id": "610bc502-c8b1-4ddd-bc91-5618c15aaba5",
   "metadata": {},
   "source": [
    "## Overview\n",
    "Also known as *cryptographic hash* is the product of a *cryptographic hash function* which is an algorithm that maps a message of arbitrary size to a relatively short (for example, 256 bits) fixed-size array of bits. An ideal cryptographic hash function:\n",
    "\n",
    "- **Deterministic:** same message always yields the same digest\n",
    "- **Irreversible:** impossible/very hard to recover original message from digest.\n",
    "- It must be computationally infeasible to find two distinct messages with the same digest. If two or more different messages with the same digest are found, then this is known as a *hash collision* or simply a collision.\n",
    "- **Avalanche Effect:** any change big or small results in extensive change to digest."
   ]
  },
  {
   "cell_type": "markdown",
   "id": "4173cc82-5764-4b7a-b14c-2d90ec816df2",
   "metadata": {},
   "source": [
    "### Comparison\n",
    "\n",
    "| **Hash Function**   | **Output Size** | **Collision Resistance**      | **Speed**   | **Security Status**              | **Year Introduced** |\n",
    "|---------------------|-----------------|-------------------------------|-------------|----------------------------------|---------------------|\n",
    "| **MD5**             | 128 bits        | Broken                        | Fast        | Insecure (Collisions, Preimage)  | 1992                |\n",
    "| **SHA-1**           | 160 bits        | Broken                        | Moderate    | Insecure (SHAttered attack)      | 1993                |\n",
    "| **SHA-256**         | 256 bits        | Strong                        | Moderate    | Secure                          | 2001                |\n",
    "| **SHA-512**         | 512 bits        | Strong                        | Slower      | Secure                          | 2001                |\n",
    "| **SHA-3 (Keccak)**  | 224, 256, 384, 512 bits | Strong                 | Moderate    | Secure                          | 2015                |\n",
    "| **RIPEMD-160**      | 160 bits        | Strong (but older)            | Moderate    | Secure (but less used)           | 1996                |\n",
    "| **BLAKE2**          | 256 bits        | Strong                        | Fast        | Secure                          | 2013                |\n",
    "| **Whirlpool**       | 512 bits        | Strong                        | Slower      | Secure                          | 2000                |\n",
    "| **Tiger**           | 192 bits        | Strong (but older)            | Fast        | Secure (not widely used)         | 1995                |"
   ]
  },
  {
   "cell_type": "markdown",
   "id": "60bcfdae-681e-4d82-8109-472daf63d104",
   "metadata": {},
   "source": [
    "## OpenSSL\n",
    "**List of message digest algorithms:**\n",
    "```bash\n",
    "$ openssl dgst -list\n",
    "Supported digests:\n",
    "-blake2b512                -blake2s256                -md4\n",
    "-md5                       -md5-sha1                  -ripemd\n",
    "-ripemd160                 -rmd160                    -sha1\n",
    "-sha224                    -sha256                    -sha3-224\n",
    "-sha3-256                  -sha3-384                  -sha3-512\n",
    "-sha384                    -sha512                    -sha512-224\n",
    "-sha512-256                -shake128                  -shake256\n",
    "-sm3                       -ssl3-md5                  -ssl3-sha1\n",
    "-whirlpool\n",
    "```\n",
    "\n",
    "**Generate message digest for a file:** using SHA-256\n",
    "```bash\n",
    "$ openssl dgst -sha256 plaintext.txt\n",
    "SHA2-256(plaintext.txt)= 03ba204e50d126e4674c005e04d82e84c21366780af1f43bd54a37816b6ab340\n",
    "```"
   ]
  },
  {
   "cell_type": "markdown",
   "id": "63f18a1a-9402-4c29-bd40-6dd8d1bef1d9",
   "metadata": {},
   "source": [
    "## Java"
   ]
  },
  {
   "cell_type": "code",
   "execution_count": null,
   "id": "6a21f4f1-a42c-4975-afd4-9260b773dcab",
   "metadata": {},
   "outputs": [],
   "source": [
    "/**\n",
    " * Generates message digest for an input byte array\n",
    " *\n",
    " * @param algorithm like MD5, SHA, etc\n",
    " * @return message digest\n",
    " * @throws NoSuchAlgorithmException\n",
    " */\n",
    "public static byte[] getMessageDigest(byte[] input, String algorithm) throws NoSuchAlgorithmException {\n",
    "    MessageDigest md = MessageDigest.getInstance(algorithm);\n",
    "\n",
    "    return md.digest(input);\n",
    "}"
   ]
  }
 ],
 "metadata": {
  "kernelspec": {
   "display_name": "Java",
   "language": "java",
   "name": "java"
  },
  "language_info": {
   "codemirror_mode": "java",
   "file_extension": ".jshell",
   "mimetype": "text/x-java-source",
   "name": "Java",
   "pygments_lexer": "java",
   "version": "21.0.2+13-58"
  }
 },
 "nbformat": 4,
 "nbformat_minor": 5
}
