{
 "cells": [
  {
   "cell_type": "markdown",
   "metadata": {},
   "source": [
    "## Interfaces\n",
    "Interface is a way of defining contracts within your code as well as contracts with code outside of your project."
   ]
  },
  {
   "cell_type": "code",
   "execution_count": 1,
   "metadata": {},
   "outputs": [
    {
     "name": "stdout",
     "output_type": "stream",
     "text": [
      "Drawable shape with:\n",
      "       fill: red,\n",
      "       stroke: 2.5,\n",
      "       opacity: 0.95\n"
     ]
    },
    {
     "data": {
      "text/plain": [
       "undefined"
      ]
     },
     "execution_count": 1,
     "metadata": {},
     "output_type": "execute_result"
    }
   ],
   "source": [
    "interface Drawable{\n",
    "    fill : string;\n",
    "    stroke : number;\n",
    "    opacity : number;\n",
    "}\n",
    "\n",
    "function draw(shape : Drawable){\n",
    "    console.log(`Drawable shape with:\n",
    "       fill: ${shape.fill},\n",
    "       stroke: ${shape.stroke},\n",
    "       opacity: ${shape.opacity}`);\n",
    "}\n",
    "\n",
    "let toDraw = {name: 'Circle', fill : 'red', stroke : 2.5, opacity : 0.95};\n",
    "draw(toDraw);"
   ]
  },
  {
   "cell_type": "markdown",
   "metadata": {},
   "source": [
    "Note that toDraw contains additional properties. The compiler just checks whether toDraw has the three properties atleast.\n",
    "\n",
    "Interfaces can also have **optional properties**."
   ]
  },
  {
   "cell_type": "code",
   "execution_count": 4,
   "metadata": {},
   "outputs": [
    {
     "name": "stdout",
     "output_type": "stream",
     "text": [
      "Logging in user : Jack\n",
      "Logging in user : Jill\n",
      "Secure login...\n"
     ]
    },
    {
     "data": {
      "text/plain": [
       "undefined"
      ]
     },
     "execution_count": 4,
     "metadata": {},
     "output_type": "execute_result"
    }
   ],
   "source": [
    "interface LoginConfig{\n",
    "    username : string;\n",
    "    password? : string; // password is now optional\n",
    "}\n",
    "\n",
    "function login(data : LoginConfig){\n",
    "    console.log(`Logging in user : ${data.username}`);\n",
    "    if(data.password != undefined){\n",
    "        console.log('Secure login...');\n",
    "    }\n",
    "}\n",
    "\n",
    "let weakLoginData = {username : 'Jack'};\n",
    "let strongLoginData = {username : 'Jill', password : 'Hill'};\n",
    "\n",
    "login(weakLoginData);\n",
    "login(strongLoginData);"
   ]
  },
  {
   "cell_type": "markdown",
   "metadata": {},
   "source": [
    "Properties can also be **readonly**. The difference between readonly and const is that the former is used for properties whereas the latter is used for variables."
   ]
  },
  {
   "cell_type": "code",
   "execution_count": null,
   "metadata": {},
   "outputs": [],
   "source": []
  }
 ],
 "metadata": {
  "kernelspec": {
   "display_name": "Typescript 2.9",
   "language": "typescript",
   "name": "typescript"
  },
  "language_info": {
   "file_extension": ".ts",
   "mimetype": "text/x-typescript",
   "name": "typescript",
   "version": "2.9.2"
  }
 },
 "nbformat": 4,
 "nbformat_minor": 2
}
