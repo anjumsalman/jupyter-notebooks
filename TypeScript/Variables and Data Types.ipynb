{
 "cells": [
  {
   "cell_type": "markdown",
   "metadata": {},
   "source": [
    "## Basic Data Types\n",
    "- Boolean"
   ]
  },
  {
   "cell_type": "code",
   "execution_count": 2,
   "metadata": {},
   "outputs": [
    {
     "name": "stdout",
     "output_type": "stream",
     "text": [
      "False\n"
     ]
    },
    {
     "data": {
      "text/plain": [
       "undefined"
      ]
     },
     "execution_count": 2,
     "metadata": {},
     "output_type": "execute_result"
    }
   ],
   "source": [
    "let isRunning : boolean = false; // declaring a boolean\n",
    "\n",
    "// some tests\n",
    "if(isRunning == 1){\n",
    "    console.log('True');\n",
    "} else if(isRunning == 0){\n",
    "    console.log('False');\n",
    "}"
   ]
  },
  {
   "cell_type": "markdown",
   "metadata": {},
   "source": [
    "- Numbers"
   ]
  },
  {
   "cell_type": "code",
   "execution_count": 3,
   "metadata": {},
   "outputs": [
    {
     "name": "stdout",
     "output_type": "stream",
     "text": [
      "65518\n",
      "10\n"
     ]
    },
    {
     "data": {
      "text/plain": [
       "undefined"
      ]
     },
     "execution_count": 3,
     "metadata": {},
     "output_type": "execute_result"
    }
   ],
   "source": [
    "let integerNumber : number = 6;\n",
    "let hexNumber : number = 0xffee;\n",
    "let binaryNumber : number = 0b1010;\n",
    "\n",
    "console.log(hexNumber)\n",
    "console.log(binaryNumber)"
   ]
  },
  {
   "cell_type": "markdown",
   "metadata": {},
   "source": [
    "- Strings"
   ]
  },
  {
   "cell_type": "code",
   "execution_count": 4,
   "metadata": {},
   "outputs": [
    {
     "name": "stdout",
     "output_type": "stream",
     "text": [
      "The treasure is located in Timbaktu\n"
     ]
    },
    {
     "data": {
      "text/plain": [
       "undefined"
      ]
     },
     "execution_count": 4,
     "metadata": {},
     "output_type": "execute_result"
    }
   ],
   "source": [
    "let treasureLocation = 'Timbaktu';\n",
    "let hiddenCave = \"Thailand\"; // or double quotes\n",
    "let tString = `The treasure is located in ${treasureLocation}`; // template string\n",
    "                                                                // it preserves line breaks and whitespaces\n",
    "console.log(tString);"
   ]
  },
  {
   "cell_type": "markdown",
   "metadata": {},
   "source": [
    "- Array"
   ]
  },
  {
   "cell_type": "code",
   "execution_count": 5,
   "metadata": {},
   "outputs": [
    {
     "name": "stdout",
     "output_type": "stream",
     "text": [
      "[ 4, 5, 6, 7, 8, 9 ]\n"
     ]
    },
    {
     "data": {
      "text/plain": [
       "undefined"
      ]
     },
     "execution_count": 5,
     "metadata": {},
     "output_type": "execute_result"
    }
   ],
   "source": [
    "let shirtSizes : string[] = ['S', 'M', 'L', 'XL', 'XXL'];\n",
    "// or\n",
    "let shoeSizes : Array<number> = [4, 5, 6, 7, 8, 9];\n",
    "console.log(shoeSizes)"
   ]
  },
  {
   "cell_type": "markdown",
   "metadata": {},
   "source": [
    "- Enum"
   ]
  },
  {
   "cell_type": "code",
   "execution_count": 7,
   "metadata": {},
   "outputs": [
    {
     "name": "stdout",
     "output_type": "stream",
     "text": [
      "2\n",
      "Closed\n"
     ]
    },
    {
     "data": {
      "text/plain": [
       "undefined"
      ]
     },
     "execution_count": 7,
     "metadata": {},
     "output_type": "execute_result"
    }
   ],
   "source": [
    "enum Color {Red, Green, Blue}; // internal values 0, 1 and 2\n",
    "let c : Color = Color.Blue;\n",
    "console.log(c);\n",
    "\n",
    "enum Status {New = 1, Pending = 2, Closed = 4};\n",
    "let s : Status = Status[4];\n",
    "console.log(s);"
   ]
  },
  {
   "cell_type": "markdown",
   "metadata": {},
   "source": [
    "- Any"
   ]
  },
  {
   "cell_type": "code",
   "execution_count": 8,
   "metadata": {},
   "outputs": [
    {
     "name": "stdout",
     "output_type": "stream",
     "text": [
      "false\n"
     ]
    },
    {
     "data": {
      "text/plain": [
       "undefined"
      ]
     },
     "execution_count": 8,
     "metadata": {},
     "output_type": "execute_result"
    }
   ],
   "source": [
    "let uncertainData : any = 5.8;\n",
    "uncertainData = 'No it is a string';\n",
    "uncertainData = false;\n",
    "\n",
    "// any type lets us create mixed array\n",
    "let mixedArray : any[] = [0, true, 'false'];\n",
    "console.log(mixedArray[2]);"
   ]
  },
  {
   "cell_type": "markdown",
   "metadata": {},
   "source": [
    "- Void"
   ]
  },
  {
   "cell_type": "code",
   "execution_count": 10,
   "metadata": {},
   "outputs": [
    {
     "name": "stdout",
     "output_type": "stream",
     "text": [
      "null\n"
     ]
    },
    {
     "data": {
      "text/plain": [
       "undefined"
      ]
     },
     "execution_count": 10,
     "metadata": {},
     "output_type": "execute_result"
    }
   ],
   "source": [
    "// generally used as function return type\n",
    "let nothing : void = undefined;\n",
    "nothing = null;       // the only two things that can be assigned to void variable\n",
    "console.log(nothing);"
   ]
  },
  {
   "cell_type": "markdown",
   "metadata": {},
   "source": [
    "- Null and Undefined"
   ]
  },
  {
   "cell_type": "code",
   "execution_count": 12,
   "metadata": {},
   "outputs": [
    {
     "name": "stdout",
     "output_type": "stream",
     "text": [
      "null\n",
      "=0\n"
     ]
    },
    {
     "data": {
      "text/plain": [
       "undefined"
      ]
     },
     "execution_count": 12,
     "metadata": {},
     "output_type": "execute_result"
    }
   ],
   "source": [
    "// Not much else we can assign to these variables!\n",
    "let u: undefined = undefined;  // undefined means something hasn't been initialized\n",
    "let n: null = null;            // null means something is currently unavailable\n",
    "\n",
    "// null and undefined are subtypes of all other data types. So we can assign them to others\n",
    "let nullNumber : number = null;\n",
    "console.log(nullNumber);\n",
    "\n",
    "if(nullNumber>0){\n",
    "    console.log('>0');\n",
    "} else if(nullNumber<0){\n",
    "    console.log('<0');\n",
    "} else {\n",
    "    console.log('=0');\n",
    "}"
   ]
  },
  {
   "cell_type": "markdown",
   "metadata": {},
   "source": [
    "## Type Assertion\n",
    "Type assertion is a way of telling compiler that you know better about the type than it does."
   ]
  },
  {
   "cell_type": "code",
   "execution_count": null,
   "metadata": {},
   "outputs": [],
   "source": [
    "let aString : any = 'This is a string';\n",
    "let stringLength : number = (<string>aString).length;\n",
    "// or\n",
    "stringLength : number = (aString as string).length;"
   ]
  }
 ],
 "metadata": {
  "kernelspec": {
   "display_name": "Typescript 2.9",
   "language": "typescript",
   "name": "typescript"
  },
  "language_info": {
   "file_extension": ".ts",
   "mimetype": "text/x-typescript",
   "name": "typescript",
   "version": "2.9.2"
  }
 },
 "nbformat": 4,
 "nbformat_minor": 2
}
