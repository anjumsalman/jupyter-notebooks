{
 "cells": [
  {
   "cell_type": "markdown",
   "metadata": {},
   "source": [
    "## ------ Git Config ------"
   ]
  },
  {
   "cell_type": "markdown",
   "metadata": {},
   "source": [
    "### System Config\n",
    "```git config --system``` Stored in C:\\Program Files\\Git\\etc\\gitconfig\n",
    "\n",
    "### User Config\n",
    "```git config --global``` Stored in C:\\Users\\<name>\\.gitconfig\n",
    "\n",
    "### Repository Level Config\n",
    "Present in each repository directory inside .git directory.\n",
    "\n",
    "### Changing User Git Configurations\n",
    "```git config --global user.name \"Salman Anjum\"\n",
    "git config --global user.email \"salman@email.com\"```\n",
    "\n",
    "AutoCRLF: true -> changes \\r\\n (Windows) to \\n (Others) automatically while pushing and reverse.\n",
    "\n",
    "```git config --global core.autocrlf true```"
   ]
  },
  {
   "cell_type": "markdown",
   "metadata": {},
   "source": [
    "## ------ Local Repository ------"
   ]
  },
  {
   "cell_type": "markdown",
   "metadata": {},
   "source": [
    "### Git Basic Flow\n",
    "To create a new git repo, ```git init```\n",
    "To add a new file to the repository, ```git add readme.txt```\n",
    "To commit the file, ```git commit -m \"Commit Message\"```\n",
    "\n",
    "### Git add\n",
    "```git add filename``` adds file to the staging area. This means that when we commit, only the files in the staging area will be commited. \n",
    "\n",
    "Git add also tracks the file, so when you do ```git status```, it will show if you did any modification to the file you added earlier. The files which you didn't add will be listed as untracked.\n",
    "\n",
    "```git add .``` will add all the modified and new files in the directory to the staging area.\n",
    "\n",
    "```git add -u``` will add modified and deleted files.\n",
    "\n",
    "Note that if you make changes to a file after adding it using git add, you will have to add it again using git add.\n",
    "\n",
    "### Git commit\n",
    "```git commit -m \"Commit Message\"``` will commit all the staged changes. To edit the latest commit type ```git commit --amend```. You can then edit commit message. --amend option will also let you add more changes to this commit.Changing message of an older commit is a bit more complicated and involves rebasing. \n",
    "\n",
    "### HEAD and Detached HEAD\n",
    "**HEAD** is a reference to the *last commit* in the *currently checked out* branch.\n",
    "**Detached HEAD** is created when you checkout to a commit instead of a branch.\n",
    "\n",
    "HEAD\\~1 points to the second last commit, HEAD\\~2 to the third last and so on.\n",
    "\n",
    "### Git reset\n",
    "Suppose we make some changes which we don't like and would want to revert to the last commit. Type ```git reset --hard``` and you will revert back to the last commit. Note that git reset would only touch the files which are being tracked, so if you create a new file and have not added it, doing git reset won't delete it.\n",
    "\n",
    "To reset only a particular file, type ```git checkout HEAD -- particular_file.txt```\n",
    "\n",
    "Suppose the last commit you made was not quite how you wanted it to. You want to remove that commit, retaining the changes you had made. Type ```git reset --soft HEAD~1```\n",
    "\n",
    "```git reset --mixed HEAD~1``` lets you retain just the working directory changes, while --soft option retains both working directory and staging area.\n",
    "\n",
    "Doing a reset is great for local changes however it adds complications when working with a shared remote repository. If we have a shared remote repository that has s commit pushed to it, and we try to git push a branch where we have reset the history, Git will catch this and throw an error.\n",
    "\n",
    "### Git revert\n",
    "If we execute ```git revert HEAD```, Git will create a new commit with the inverse of the last commit. So in effect we have deleted the last commit. This is the ideal 'undo' method for working with public shared repositories."
   ]
  },
  {
   "cell_type": "markdown",
   "metadata": {},
   "source": [
    "## ------ Remote Repository ------"
   ]
  },
  {
   "cell_type": "markdown",
   "metadata": {},
   "source": [
    "### Cloning a Remote Repository\n",
    "```git clone https://github.com/jquery/jquery.git``` to clone a remote repository.\n",
    "\n",
    "### Git remote\n",
    "Remotes are repositories other than the one on your local disk which you can push your changes into (so that other people can see them) or pull from (so that you can get others changes).\n",
    "\n",
    "```git remote``` gives you the name of remote. ```git remote -v``` gives the complete url for the remote.\n",
    "\n",
    "To add a remote called origin, type ```git add remote origin git@github.com:peter/first_app.git```\n",
    "\n",
    "### Git pull\n",
    "After adding a remote, we would like to get all the changes present there. Type ```git pull origin master```. It downloads data from remote and performs a merge.\n",
    "\n",
    "### Git push\n",
    "To push changes from local to remote type ```git push```. You may need to setup upstream. "
   ]
  },
  {
   "cell_type": "markdown",
   "metadata": {},
   "source": [
    "## ------ Branching and Merging ------"
   ]
  },
  {
   "cell_type": "markdown",
   "metadata": {},
   "source": [
    "### Branching\n",
    "To create a new branch type ```git branch branch_name```. To base a branch on a particular commit, ```git branch branch_name commit_hash```.\n",
    "\n",
    "Now when you do git push, the branch will automatically be created in the remote repository. And when another person does git pull, the same branch will be created for him automatically.\n",
    "\n",
    "To switch to a particular branch type ```git checkout branch_name```\n",
    "\n",
    "To delete a branch, ```git branch -d branch_name```. Git will complain if the branch is unmerged. \n",
    "\n",
    "### Merging\n",
    "To merge feature branch with master, checkout to master and then type ```git merge feature_branch```.\n",
    "\n",
    "If Git encounters a piece of data that is changed in both histories it will be unable to automatically combine them. This scenario is a version control conflict and Git will need user intervention to continue.\n",
    "\n",
    "### Fast Forward Merge\n",
    "A fast forward merge occurs when the feature branch is just a continuation of master. In other words, after branching from master, no new commits were made to the master branch.\n"
   ]
  },
  {
   "cell_type": "code",
   "execution_count": null,
   "metadata": {},
   "outputs": [],
   "source": []
  }
 ],
 "metadata": {
  "kernelspec": {
   "display_name": "Python 3",
   "language": "python",
   "name": "python3"
  },
  "language_info": {
   "codemirror_mode": {
    "name": "ipython",
    "version": 3
   },
   "file_extension": ".py",
   "mimetype": "text/x-python",
   "name": "python",
   "nbconvert_exporter": "python",
   "pygments_lexer": "ipython3",
   "version": "3.7.4"
  }
 },
 "nbformat": 4,
 "nbformat_minor": 4
}
