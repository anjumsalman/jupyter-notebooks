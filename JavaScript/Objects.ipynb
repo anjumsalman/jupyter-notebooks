{
 "cells": [
  {
   "cell_type": "markdown",
   "metadata": {},
   "source": [
    "## Objects and Properties\n",
    "\n",
    "Property name is a string. If property name contains space or hyphen then use square bracket notation, else use dot notation."
   ]
  },
  {
   "cell_type": "code",
   "execution_count": 1,
   "metadata": {},
   "outputs": [
    {
     "name": "stdout",
     "output_type": "stream",
     "text": [
      "{ name: 'Porsche 911 GT1',\n",
      "  type: 'Racecar',\n",
      "  manufacturer: 'Porsche',\n",
      "  'country of origin': 'Germany',\n",
      "  year: 1998 }\n"
     ]
    }
   ],
   "source": [
    "var car = new Object();\n",
    "car.name = 'Porsche 911 GT1';\n",
    "car.type = 'Racecar';\n",
    "car.manufacturer = 'Porsche';\n",
    "car['country of origin'] = 'Germany';\n",
    "car.year = 1998;\n",
    "\n",
    "console.log(car);"
   ]
  },
  {
   "cell_type": "code",
   "execution_count": 5,
   "metadata": {},
   "outputs": [
    {
     "name": "stdout",
     "output_type": "stream",
     "text": [
      "undefined\n"
     ]
    }
   ],
   "source": [
    "// unknown property results in undefined\n",
    "console.log(car.cylinderCount)"
   ]
  },
  {
   "cell_type": "markdown",
   "metadata": {},
   "source": [
    "### Iterating over properties\n",
    "To list all the properties of an object, use the `for...in` statement. Note that this statement also lists properties up the prototype chain. The `hasOwnProperty(property_name)` method can be used to check whether the property belongs to the object or its prototype."
   ]
  },
  {
   "cell_type": "code",
   "execution_count": 6,
   "metadata": {},
   "outputs": [
    {
     "name": "stdout",
     "output_type": "stream",
     "text": [
      "name\n",
      "type\n",
      "manufacturer\n",
      "country of origin\n",
      "year\n"
     ]
    }
   ],
   "source": [
    "for(property in car){\n",
    "    console.log(property);\n",
    "}"
   ]
  },
  {
   "cell_type": "code",
   "execution_count": 7,
   "metadata": {},
   "outputs": [
    {
     "name": "stdout",
     "output_type": "stream",
     "text": [
      "[ 'name', 'type', 'manufacturer', 'country of origin', 'year' ]\n"
     ]
    }
   ],
   "source": [
    "// the following code also lists all the properties of an object\n",
    "console.log(Object.keys(car));"
   ]
  },
  {
   "cell_type": "markdown",
   "metadata": {},
   "source": [
    "Not all properties are listed by `for...in` statement. We can hide some properties. To do this use `defineProperty` method."
   ]
  },
  {
   "cell_type": "code",
   "execution_count": 2,
   "metadata": {},
   "outputs": [
    {
     "name": "stdout",
     "output_type": "stream",
     "text": [
      "a\n",
      "b\n"
     ]
    },
    {
     "data": {
      "text/plain": [
       "[ 'a', 'b', 'c' ]"
      ]
     },
     "execution_count": 2,
     "metadata": {},
     "output_type": "execute_result"
    }
   ],
   "source": [
    "var sampleObject = {a: 1, b: 2};\n",
    "Object.defineProperty(sampleObject, 'c', {enumerable: false});\n",
    "for(p in sampleObject){\n",
    "    console.log(p);\n",
    "}\n",
    "\n",
    "Object.getOwnPropertyNames(sampleObject);"
   ]
  },
  {
   "cell_type": "markdown",
   "metadata": {},
   "source": [
    "The `getOwnPropertyNames` method lists all the properties of an object (not their prototype's). However their is one property \\_\\_proto\\_\\_ which is never listed."
   ]
  },
  {
   "cell_type": "markdown",
   "metadata": {},
   "source": [
    "## Creating New Objects\n",
    "Three methods of creating objects\n",
    "1. Using object initializer\n",
    "2. Using constructor function\n",
    "3. Using Object.create() method"
   ]
  },
  {
   "cell_type": "code",
   "execution_count": 9,
   "metadata": {},
   "outputs": [
    {
     "name": "stdout",
     "output_type": "stream",
     "text": [
      "Different one\n"
     ]
    }
   ],
   "source": [
    "// Using object initializer\n",
    "var pizza = {\n",
    "    base: 'wheat',\n",
    "    crust: 'thin',\n",
    "    topping: 'none'\n",
    "};\n",
    "\n",
    "var same_pizza = {\n",
    "    base: 'wheat',\n",
    "    crust: 'thin',\n",
    "    topping: 'none'\n",
    "};\n",
    "\n",
    "if(pizza == same_pizza){\n",
    "    console.log('Same pizzas');\n",
    "}else{\n",
    "    console.log('Different one');\n",
    "}"
   ]
  },
  {
   "cell_type": "code",
   "execution_count": 10,
   "metadata": {},
   "outputs": [
    {
     "name": "stdout",
     "output_type": "stream",
     "text": [
      "Pizza { base: 'multi-grain', crust: 'neapolitan', topping: 'sausage' }\n"
     ]
    }
   ],
   "source": [
    "// Using constructor functions\n",
    "function Pizza(base, crust, topping){\n",
    "    this.base = base;\n",
    "    this.crust = crust;\n",
    "    this.topping = topping;\n",
    "}\n",
    "\n",
    "var new_pizza = new Pizza('multi-grain', 'neapolitan', 'sausage');\n",
    "console.log(new_pizza);"
   ]
  },
  {
   "cell_type": "markdown",
   "metadata": {},
   "source": [
    "You can always add properties to the object, even after its creation. The final way, Object.create() method takes an object as argument and creates an object having the same properties as the argument passed."
   ]
  },
  {
   "cell_type": "markdown",
   "metadata": {},
   "source": [
    "### Getters and Setters\n",
    "The `get` and `set` keywords are used for getters and setters respectively."
   ]
  },
  {
   "cell_type": "code",
   "execution_count": null,
   "metadata": {},
   "outputs": [],
   "source": [
    "var demo_obj = {\n",
    "    a: 0;\n",
    "    get b(){\n",
    "        return a\n",
    "    }\n",
    "}"
   ]
  },
  {
   "cell_type": "markdown",
   "metadata": {},
   "source": [
    "## Functions as Properties\n",
    "Functions as properties are called methods. For example the dog object's bark property is actually a method."
   ]
  },
  {
   "cell_type": "code",
   "execution_count": 12,
   "metadata": {},
   "outputs": [
    {
     "name": "stdout",
     "output_type": "stream",
     "text": [
      "Woof woof\n"
     ]
    }
   ],
   "source": [
    "var dog = {\n",
    "    breed: 'Dalmatian',\n",
    "    bark: function(){\n",
    "        console.log('Woof woof');\n",
    "    },\n",
    "    age: 5\n",
    "};\n",
    "\n",
    "dog.bark();"
   ]
  },
  {
   "cell_type": "markdown",
   "metadata": {},
   "source": [
    "One can access other properties of an object inside a function using the this keyword."
   ]
  },
  {
   "cell_type": "code",
   "execution_count": 15,
   "metadata": {},
   "outputs": [
    {
     "name": "stdout",
     "output_type": "stream",
     "text": [
      "Meow, my name is Kitty\n"
     ]
    }
   ],
   "source": [
    "var cat = {\n",
    "    breed: 'Persian',\n",
    "    meow: function(){\n",
    "        console.log('Meow, my name is ' + this.name);\n",
    "    },\n",
    "    name: 'Kitty'\n",
    "}\n",
    "\n",
    "cat.meow();"
   ]
  }
 ],
 "metadata": {
  "kernelspec": {
   "display_name": "Javascript (Node.js)",
   "language": "javascript",
   "name": "javascript"
  },
  "language_info": {
   "file_extension": ".js",
   "mimetype": "application/javascript",
   "name": "javascript",
   "version": "8.12.0"
  }
 },
 "nbformat": 4,
 "nbformat_minor": 2
}
