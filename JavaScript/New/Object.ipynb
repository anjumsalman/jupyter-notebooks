{
 "cells": [
  {
   "cell_type": "markdown",
   "id": "b097248a-a530-4153-a69b-a53c631cf402",
   "metadata": {},
   "source": [
    "## Intro\n",
    "An object is an unordered collection of *properties*,each of which has a *name* and a *value*. Property name is a `String` or a `Symbol`. An object's property can be accessed using a dot notation or square bracket notation. The square bracket notation is more versatile, we can pass an expression which evaluates to string or can be converted to a string or Symbol."
   ]
  },
  {
   "cell_type": "markdown",
   "id": "8a2bba80-c72d-44c2-91dc-05a5d7adcc82",
   "metadata": {},
   "source": [
    "## Creating Objects\n",
    "### Object Literal Syntax"
   ]
  },
  {
   "cell_type": "code",
   "execution_count": null,
   "id": "33f2b390-8363-424e-9a13-c5805849766c",
   "metadata": {},
   "outputs": [],
   "source": [
    "let car = {\n",
    "    model: \"911\",\n",
    "    manufacturer: \"Porsche\",\n",
    "    year: 2012,    // There can be a trailing comma\n",
    "}"
   ]
  },
  {
   "cell_type": "markdown",
   "id": "c739c2f3-af18-4116-a942-c1dc31f77ae5",
   "metadata": {},
   "source": [
    "Recent versions of JavaScript have extended the syntax for object literals in a number of useful ways:  \n",
    "**Shorthand:** "
   ]
  },
  {
   "cell_type": "code",
   "execution_count": null,
   "id": "52c33281-a28f-47a3-9e69-de4e240cd49d",
   "metadata": {},
   "outputs": [],
   "source": [
    "let a = 5, b = 10;\n",
    "let o = {a, b}  // Equivalent to let 0 = {a: a, b: b}\n",
    "\n",
    "// Function definition\n",
    "let p = {hi(){console.log(\"Hi\"}}  // Equivalent to let p = {hi: function(){console.log(\"Hi\")}}"
   ]
  },
  {
   "cell_type": "markdown",
   "id": "87e32f8a-d222-402c-8827-322f79e3d661",
   "metadata": {},
   "source": [
    "**Computed property name:** Consider the scenario where you are creating an object and property name is not a runtime constant. In older versions of JS, this would be the code:"
   ]
  },
  {
   "cell_type": "code",
   "execution_count": null,
   "id": "9f3aa527-673c-417c-a2d1-ca29482f8921",
   "metadata": {},
   "outputs": [],
   "source": [
    "const PROPERTY_NAME = \"p1\";\n",
    "function computePropertyName() { return \"p\" + 2; }\n",
    "let o = {};\n",
    "o[PROPERTY_NAME] = 1;\n",
    "o[computePropertyName()] = 2;"
   ]
  },
  {
   "cell_type": "markdown",
   "id": "c8705438-935f-4f4c-8a79-f7c6ee1f41ec",
   "metadata": {},
   "source": [
    "In newer version, it can be shortened to:"
   ]
  },
  {
   "cell_type": "code",
   "execution_count": null,
   "id": "8e1db983-6690-4f33-bd9b-8043685d08d1",
   "metadata": {},
   "outputs": [],
   "source": [
    "const PROPERTY_NAME = \"p1\";\n",
    "function computePropertyName() { return \"p\" + 2; }\n",
    "let p = {\n",
    "    [PROPERTY_NAME]: 1,\n",
    "    [computePropertyName()]: 2\n",
    "};"
   ]
  },
  {
   "cell_type": "markdown",
   "id": "64ca342d-408a-4db7-ae20-c445591bf1fb",
   "metadata": {},
   "source": [
    "**Symbol property name:** "
   ]
  },
  {
   "cell_type": "code",
   "execution_count": null,
   "id": "df520ea9-74a3-4f26-b390-8322cb79030b",
   "metadata": {},
   "outputs": [],
   "source": [
    "const name = Symbol(\"Property Name\");\n",
    "let p = {\n",
    "    [name]: \"Property value\"\n",
    "}"
   ]
  },
  {
   "cell_type": "markdown",
   "id": "45666650-19e6-4027-afbe-c9caab38033b",
   "metadata": {},
   "source": [
    "**Spread Operator:** note that spread operator only spreads the own properties of an object, not any inherited ones"
   ]
  },
  {
   "cell_type": "code",
   "execution_count": null,
   "id": "050cc4cc-4387-4673-9a3e-ff0e46a181de",
   "metadata": {},
   "outputs": [],
   "source": [
    "let position = { x: 0, y: 0 };\n",
    "let dimensions = { width: 100, height: 75 };\n",
    "let rect = { ...position, ...dimensions };\n",
    "let dim = rect.x + rect.y + rect.width + rect.height\n",
    "\n",
    "// Overriding property\n",
    "let o = {a: 5}\n",
    "let p = {a: 6, ...o} // p.a = 5\n",
    "let q = {...o, a: 6} // q.a = 6, property overridden"
   ]
  },
  {
   "cell_type": "markdown",
   "id": "04f5c33a-fb4e-419b-a674-83e8dc28ac43",
   "metadata": {},
   "source": [
    "### Using new Operator\n",
    "The `new` keyword must be followed by a function invocation. A function used in this way is called a *constructor* and serves to initialize a newly created object."
   ]
  },
  {
   "cell_type": "code",
   "execution_count": null,
   "id": "538a86b4-51bf-4893-be26-e5c9c8fc7052",
   "metadata": {},
   "outputs": [],
   "source": [
    "let o = new Object();  // Create an empty object: same as {}.\n",
    "let a = new Array();   // Create an empty array: same as [].\n",
    "let d = new Date();    // Create a Date object representing the current time\n",
    "let r = new Map();     // Create a Map object for key/value mapping"
   ]
  },
  {
   "cell_type": "markdown",
   "id": "b0ff2e2a-cff7-44b5-b091-d96040566b99",
   "metadata": {},
   "source": [
    "It is common to create one's own constructor."
   ]
  },
  {
   "cell_type": "markdown",
   "id": "23715e90-16b1-4968-b597-8c788d6c51d1",
   "metadata": {},
   "source": [
    "### Using Object.create\n"
   ]
  }
 ],
 "metadata": {
  "kernelspec": {
   "display_name": "JavaScript",
   "language": "javascript",
   "name": "jslab"
  },
  "language_info": {
   "file_extension": ".js",
   "mimetype": "text/javascript",
   "name": "javascript",
   "version": ""
  }
 },
 "nbformat": 4,
 "nbformat_minor": 5
}
