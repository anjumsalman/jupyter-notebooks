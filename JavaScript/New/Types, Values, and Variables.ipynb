{
 "cells": [
  {
   "cell_type": "markdown",
   "id": "e4d4b78e-47be-4aaa-9096-0633691d3dc9",
   "metadata": {
    "tags": []
   },
   "source": [
    "## Types at a Glance\n",
    "JavaScript types can be divided into two categories: primitive types and object types. Primitive types include:\n",
    "- numbers\n",
    "- strings\n",
    "- booleans\n",
    "- null\n",
    "- undefined\n",
    "- symbol\n",
    "Anything other than the above list is an object. The language also defines a special kind of object, known as an array, that represents an ordered collection of numbered values.  \n",
    "\n",
    "JavaScript’s object types are mutable and its primitive types are immutable."
   ]
  },
  {
   "cell_type": "markdown",
   "id": "f92c0d48-8763-41ff-8855-bb7000bc90ba",
   "metadata": {
    "tags": []
   },
   "source": [
    "### Numbers\n",
    "JavaScript represents numbers using the 64-bit floating-point format defined by the IEEE 754 standard which allows us to exactly represent all integers between −9,007,199,254,740,992 and 9,007,199,254,740,992. However, certain operations in JavaScript (such as array indexing and the bitwise operators) are performed with 32-bit integers.  \n",
    "\n",
    "**Integer Literal:** examples"
   ]
  },
  {
   "cell_type": "code",
   "execution_count": null,
   "id": "fa1c8dc7-dd94-4cb7-b169-9eb5e6175edb",
   "metadata": {},
   "outputs": [],
   "source": [
    "0\n",
    "3\n",
    "// Hexadecimals\n",
    "0xff\n",
    "0XBAD\n",
    "// Binary\n",
    "0b10101\n",
    "// Octadecimal\n",
    "0o377"
   ]
  },
  {
   "cell_type": "markdown",
   "id": "56728329-5435-4359-aed9-438ff71721f2",
   "metadata": {},
   "source": [
    "**Floating-point Literals:** have the following syntax: `[digits][.digits][(E|e)[(+|-)]digits]`. Example:"
   ]
  },
  {
   "cell_type": "code",
   "execution_count": null,
   "id": "0a7f5ff5-3e47-4b53-99ca-8da649dcc2f6",
   "metadata": {},
   "outputs": [],
   "source": [
    "3.14\n",
    "2345.6789\n",
    ".333333333333333333\n",
    "6.02e23 // 6.02 × 10²³\n",
    "1.4738223E-32 // 1.4738223 × 10⁻³²"
   ]
  },
  {
   "cell_type": "markdown",
   "id": "6d25a14d-4766-48ba-bc2e-3e26e5763e25",
   "metadata": {},
   "source": [
    "There are infinitely many real numbers, but only a finite number of them (18,437,736,874,454,810,627, to be exact) can be represented\n",
    "exactly by the JavaScript floating-point format. This means that when we're working with real numbers in JavaScript, the representation of\n",
    "the number will often be an approximation of the actual number.  \n",
    "\n",
    "Using IEEE notation, we can represent fractions like 1/2, 1/4, 1/8, etc. However the fractions we use most commonly are decimal fractions: 1/10, 1/100, and so on. Binary floating-point representations cannot exactly represent numbers as simple as 0.1."
   ]
  },
  {
   "cell_type": "code",
   "execution_count": null,
   "id": "5e76ad20-ed08-40ea-b7f7-aff9cc608c0c",
   "metadata": {},
   "outputs": [],
   "source": [
    "0.3 - 0.2 === 0.1         // false\n",
    "\n",
    "// In ES2015, we can use \n",
    "function fEqual(x, y){\n",
    "    return Math.abs(x - y) < Number.EPSILON;\n",
    "}\n",
    "\n",
    "fEqual(0.1+0.2, 0.3)"
   ]
  },
  {
   "cell_type": "markdown",
   "id": "82be610f-20b5-43bb-b627-dd107afa44b4",
   "metadata": {},
   "source": [
    "**Infinity:** Arithmetic in JavaScript does not raise errors in cases of overflow, underflow, or division by zero. When the result of a numeric operation is larger than the largest representable number (overflow), the result is a special infinity value, `Infinity`. There is also a `-Infinity` counterpart."
   ]
  },
  {
   "cell_type": "code",
   "execution_count": null,
   "id": "518a6bd3-0dbf-4783-9612-1b527798e8c4",
   "metadata": {},
   "outputs": [],
   "source": [
    "Infinity                  // A positive number too big to represent\n",
    "Number.POSITIVE_INFINITY  // Same value\n",
    "1/0                       // Infinity\n",
    "Number.MAX_VALUE * 2      // Infinity; overflow\n",
    "-Infinity                 // A negative number too big to represent\n",
    "Number.NEGATIVE_INFINITY  // The same value\n",
    "-1/0                      // -Infinity\n",
    "-Number.MAX_VALUE * 2     // -Infinity"
   ]
  },
  {
   "cell_type": "markdown",
   "id": "19920524-8591-4159-8023-220121e2574e",
   "metadata": {},
   "source": [
    "**NaN:** zero divided by zero does not have a well-defined value, and the result of this operation is the special not-a-number value, `NaN`. `NaN` also arises if we attempt to divide infinity by infinity, take the square root of a negative number, or use arithmetic operators with non-numeric operands that cannot be converted to numbers."
   ]
  },
  {
   "cell_type": "code",
   "execution_count": null,
   "id": "7d5131d9-93f2-4e40-a0ee-bfb85c49cde1",
   "metadata": {},
   "outputs": [],
   "source": [
    "NaN                      // The not-a-number value\n",
    "Number.NaN               // The same value, written another way\n",
    "0/0                      // NaN\n",
    "Infinity/Infinity        // NaN\n",
    "Number(\"n/a\")            // NaN"
   ]
  },
  {
   "cell_type": "markdown",
   "id": "669eff7c-339d-4a96-99aa-0c7c8e0599b0",
   "metadata": {},
   "source": [
    "`NaN` is the only Javascript value which is not equal to itself. So we need to determine if something is NaN. Using the below statement:"
   ]
  },
  {
   "cell_type": "code",
   "execution_count": null,
   "id": "dea92d04-9e17-4aa2-a723-fc3413a1cb94",
   "metadata": {},
   "outputs": [],
   "source": [
    "console.log(Number.isNaN(someValue)); // true\n",
    "console.log(Number.isNaN(\"a text\")); // false"
   ]
  },
  {
   "cell_type": "markdown",
   "id": "d60effdb-427e-4761-87d8-dab3678fa448",
   "metadata": {},
   "source": [
    "Which would be implemented something like:"
   ]
  },
  {
   "cell_type": "code",
   "execution_count": null,
   "id": "caa5cec7-9e28-4677-8a30-a07d0239914f",
   "metadata": {},
   "outputs": [],
   "source": [
    "function isNaN(a) {\n",
    "    return a !== a\n",
    "}"
   ]
  },
  {
   "cell_type": "markdown",
   "id": "d967ddcd-b7b0-4439-a795-da7814b8bef7",
   "metadata": {},
   "source": [
    "There is a globally available `isNaN` function available, however it is flawed:"
   ]
  },
  {
   "cell_type": "code",
   "execution_count": null,
   "id": "bf3dae3c-4e25-46e1-93a6-0fb00bfa3fcb",
   "metadata": {},
   "outputs": [],
   "source": [
    "isNaN(5 - \"five\")   // true\n",
    "isNaN(\"a text\")     // also true, why? it is a string, right?\n",
    "                    // this is because isNaN function tries to covert\n",
    "                    // value passed to it to number"
   ]
  },
  {
   "cell_type": "markdown",
   "id": "b7eeaa5e-881c-43c4-bacf-b8166b95611b",
   "metadata": {},
   "source": [
    "**Negative Zero:** "
   ]
  },
  {
   "cell_type": "code",
   "execution_count": null,
   "id": "32e50f2c-2772-401a-a915-b574a66486c8",
   "metadata": {},
   "outputs": [],
   "source": [
    "var rate = -0\n",
    "rate === -0               // true\n",
    "rate === 0                // true\n",
    "rate < 0                  // false"
   ]
  },
  {
   "cell_type": "markdown",
   "id": "8763beae-c7bf-4248-88da-408558801ae9",
   "metadata": {},
   "source": [
    "So, in order to identify whether a number is negative zero, we can have:"
   ]
  },
  {
   "cell_type": "code",
   "execution_count": null,
   "id": "999c91e9-4148-48f7-bd25-f332a01c7197",
   "metadata": {},
   "outputs": [],
   "source": [
    "function isNegativeZero(n) {\n",
    "    return 0 === a && (1/n) === -Infinity\n",
    "}"
   ]
  },
  {
   "cell_type": "markdown",
   "id": "126c73af-f56c-4201-9ab6-98fe389c3c6f",
   "metadata": {},
   "source": [
    "### String\n",
    "JavaScript uses the UTF-16 encoding of the Unicode character set, and JavaScript strings are immutable array of unsigned 16-bit values. String literal examples:"
   ]
  },
  {
   "cell_type": "code",
   "execution_count": null,
   "id": "850a5079-4b40-4c79-b061-8f1eb9c40be7",
   "metadata": {},
   "outputs": [],
   "source": [
    "'hello'\n",
    "\"hi there\"\n",
    "\"hi\\\n",
    " there\"\n",
    "`There is a \"caravan\"`        // String intrapolation"
   ]
  },
  {
   "cell_type": "markdown",
   "id": "cb538173-e7db-4eda-b179-b82e9b593cb7",
   "metadata": {},
   "source": [
    "To represent Unicode characters, use the following syntax:"
   ]
  },
  {
   "cell_type": "code",
   "execution_count": null,
   "id": "8342e55d-1d39-494b-81e1-386695797b9b",
   "metadata": {},
   "outputs": [],
   "source": [
    "'\\u03c0'                      // use this form for 4 hexadecimal digits\n",
    "'\\u{1f600}'                   // use this form for 1-6 hexadecimal digits "
   ]
  },
  {
   "cell_type": "markdown",
   "id": "b82549d1-0dc6-4d44-bf3d-6c63fab62727",
   "metadata": {},
   "source": [
    "### Boolean\n",
    "JavaScript considers the following values as falsy, rest are truthy:"
   ]
  },
  {
   "cell_type": "code",
   "execution_count": null,
   "id": "78bbad91-6676-4a57-b223-fd9d737ccf40",
   "metadata": {},
   "outputs": [],
   "source": [
    "undefined\n",
    "null\n",
    "0 -\n",
    "0\n",
    "NaN\n",
    "\"\""
   ]
  },
  {
   "cell_type": "markdown",
   "id": "421c8835-d14e-4d04-ae34-4963f3efd6bd",
   "metadata": {},
   "source": [
    "### null and undefined\n",
    "`null` indicates absence of a value.  \n",
    "\n",
    "`undefined` is the value of variables that have not been initialized and the value we get when we query the value of an object property or array element that does not exist. `undefined` value is also the return value of functions that do not explicitly return a value and the value of function parameters for which no argument is passed.  \n",
    "\n",
    "Neither `null` nor `undefined` have any properties or methods, using `.` or `[]` to access a property or method of these values causes a `TypeError`."
   ]
  },
  {
   "cell_type": "markdown",
   "id": "28d2978e-4bd5-4bd4-a19c-6766cc723716",
   "metadata": {},
   "source": [
    "### Symbol\n",
    "Introduced in ES6  to serve as non-string property names:"
   ]
  },
  {
   "cell_type": "code",
   "execution_count": null,
   "id": "2420277f-10a5-42a0-8fc4-f1fb33a1c24e",
   "metadata": {},
   "outputs": [],
   "source": [
    "let symname = Symbol(\"propname\");    // no literal syntax\n",
    "let o = {};\n",
    "o[symname] = 25;"
   ]
  },
  {
   "cell_type": "markdown",
   "id": "47cdcb7a-2fb2-4609-81c2-c842ad291e72",
   "metadata": {},
   "source": [
    "`Symbol()` never returns the same value twice, even when called with the same parameter. What this means is that we can safely use that value as a property name to add a new property to an object and do not need to worry that you might be overwriting an existing property with the same name."
   ]
  },
  {
   "cell_type": "code",
   "execution_count": null,
   "id": "0bcfffd8-7b31-42f2-b188-7a1e74946ac9",
   "metadata": {},
   "outputs": [],
   "source": [
    "Symbol(\"hello\") === Symbol(\"hello\")   // false"
   ]
  },
  {
   "cell_type": "markdown",
   "id": "93c5c751-9fbe-48a3-93f3-119539f07978",
   "metadata": {},
   "source": [
    "`Symbol.for()` function takes a string argument and returns a `Symbol` value that is associated with the string we pass. If no `Symbol` is already associated with that string, then a new one is created and returned."
   ]
  },
  {
   "cell_type": "code",
   "execution_count": null,
   "id": "cd34450c-5a42-4435-be52-d01e60e8b473",
   "metadata": {},
   "outputs": [],
   "source": [
    "let s = Symbol.for(\"shared\");\n",
    "let t = Symbol.for(\"shared\");\n",
    "s === t                              // true\n",
    "s.toString()                         // \"Symbol(shared)\"\n",
    "Symbol.keyFor(t)                     // \"shared\""
   ]
  },
  {
   "cell_type": "markdown",
   "id": "48e71d9e-3284-49fa-b723-64fdfd92332b",
   "metadata": {
    "tags": []
   },
   "source": [
    "## Type Conversion\n",
    "### Primitive to Primitive\n",
    "**Conversion to boolean:** The following values are considered falsy and convert to false boolean value:\n",
    "```\n",
    "undefined\n",
    "null\n",
    "0 -\n",
    "0\n",
    "NaN\n",
    "\"\"\n",
    "```\n",
    "Rest, everything is considered truthy and convert to true boolean value\n",
    "\n",
    "**Conversion to string:** is straight forward. Directly convert it to string"
   ]
  },
  {
   "cell_type": "code",
   "execution_count": 1,
   "id": "56ec0a8b-51a8-448a-b9db-02760e883139",
   "metadata": {},
   "outputs": [],
   "source": [
    "0         // \"0\"\n",
    "-0        // \"0\"\n",
    "-1.2      // \"-1.2\" \n",
    "true      // \"true\"\n",
    "undefined // \"undefined\"\n",
    "null      // \"null\""
   ]
  },
  {
   "cell_type": "markdown",
   "id": "36e48091-9429-4456-ba64-71ed4a486d89",
   "metadata": {},
   "source": [
    "**Conversion to number:**\n",
    "- true gets converted to 1, false gets converted to 0.\n",
    "- strings that can be parsed as numbers convert to those numbers. Leading and trailing spaces are allowed.\n",
    "- blank string gets converted to 0\n",
    "- number that can't be parsed get converted to NaN"
   ]
  },
  {
   "cell_type": "code",
   "execution_count": null,
   "id": "5c23ccd1-0e2a-49a8-bf32-851ae0adb035",
   "metadata": {},
   "outputs": [],
   "source": [
    "true        // 1\n",
    "false       // 0\n",
    "\" 1 \"       // 1\n",
    "\" $1\"       // NaN\n",
    "null        // 0\n",
    "undefined   // 0"
   ]
  },
  {
   "cell_type": "markdown",
   "id": "df069e56-9eb4-48c9-8fc8-5e5c1bc35d08",
   "metadata": {},
   "source": [
    "### Object to Primitive\n",
    "Before going to specifics of the algorithm, lets take a look at two methods associated with any object:  \n",
    "**toString:** its job is to return a string representation of the object. Its default implementation isn't very helpful"
   ]
  },
  {
   "cell_type": "code",
   "execution_count": 2,
   "id": "4945bc86-30cd-4d90-a541-ce712fb79e6b",
   "metadata": {},
   "outputs": [
    {
     "name": "stdout",
     "output_type": "stream",
     "text": [
      "[object Object]\n"
     ]
    }
   ],
   "source": [
    "({name: \"John Doe\"}).toString()"
   ]
  },
  {
   "cell_type": "markdown",
   "id": "43d5a378-15be-4afd-a2c8-dd5b2b0535d8",
   "metadata": {},
   "source": [
    "Many classes though define more specific versions of the `toString()` method as shown below"
   ]
  },
  {
   "cell_type": "code",
   "execution_count": null,
   "id": "c8ebb071-25ce-4359-9d7a-4b2c8130843b",
   "metadata": {},
   "outputs": [],
   "source": [
    "([1,2,3]).toString()        // Arrays return comma separated list of values '1,2,3'\n",
    "new Date().toString()       // Date return full date 'Thu Dec 22 2022 03:20:49 GMT+0530 (India Standard Time)'\n",
    "(function(x) { f(x); }).toString()  // Function class converts user-defined functions to strings of JS source code"
   ]
  },
  {
   "cell_type": "markdown",
   "id": "1688bb4f-15be-4027-b4d5-2dc6dfe73202",
   "metadata": {},
   "source": [
    "There is nothing stopping you to return non-string value from `toString` method though\n",
    "\n",
    "**valueOf:** it is supposed to convert an object to a primitive value that represents the object, if any such primitive value exists. Objects are compound values, and most objects cannot really be represented by a single primitive value, so the default `valueOf()` method simply returns the object itself rather than returning a primitive."
   ]
  },
  {
   "cell_type": "code",
   "execution_count": null,
   "id": "cf7d71ca-145e-4c08-b068-477a14b149d7",
   "metadata": {},
   "outputs": [],
   "source": [
    "[].valueOf()          // returns []\n",
    "({}).valueOf()        // returns {}\n",
    "\"Hello\".valueOf()     // returns \"Hello\"\n",
    "(56).valueOf()        // returns 56\n",
    "true.valueOf()        // returns true\n",
    "new Date().valueOf()  // returns Unix epoch 1671659933846"
   ]
  },
  {
   "cell_type": "markdown",
   "id": "567c286f-ab72-4dfb-8e34-e6f3266c66b3",
   "metadata": {},
   "source": [
    "The JavaScript specification defines three fundamental algorithms for converting objects to primitive values:  \n",
    "**prefer-string:** this algorithm first tries the `toString()` method. If the method is defined and returns a primitive value, then JavaScript uses that primitive value (even if it is not a string!). If `toString()` does not exist or if it returns an object, then JavaScript tries the `valueOf()` method. If that method exists and returns a primitive value, then JavaScript uses that value. Otherwise, the conversion fails with a `TypeError`.\n",
    "\n",
    "**prefer-number:** this algorithm works like the *prefer-string* algorithm, except that it tries `valueOf()` first and `toString()` second.\n",
    "\n",
    "**no-preference:** this algorithm depends on the class of the object being converted. If the object is a `Date` object, then JavaScript uses the *prefer-string* algorithm. For any other object, JavaScript uses the *prefer-number* algorithm.  \n",
    "\n",
    "You can also define your own object-to-primitive conversion algorithms for the classes you define."
   ]
  },
  {
   "cell_type": "code",
   "execution_count": null,
   "id": "e244f59f-88eb-47bc-a6e8-37fbc3ab6753",
   "metadata": {},
   "outputs": [],
   "source": [
    "Number([]) // Use prefer-number algorithm on []. [].valueOf() is [], so switch to toString.\n",
    "           // [].toString() returns \"\". Number(\"\") is 0\n",
    "Number({}) // Use prefer-number algorithm on {}. ({}).valueOf() is {}, so switch to toString.\n",
    "           // ({}).toString() is \"[object Object]\". Which then returns NaN\n",
    "Number(new Date()) // Use prefer-number algorithm on Date object, this would return Unix epoch."
   ]
  },
  {
   "cell_type": "markdown",
   "id": "b74e8bdc-8ceb-4f59-8f28-0b26600ef0e3",
   "metadata": {},
   "source": [
    "### Operators and Conversion\n",
    "The binary + operator does either addition or concatenation\n",
    "- If either of its operands is an object, JavaScript converts them to primitive values using the no-preference algorithm.\n",
    "- If either operand is a string, it converts the other to a string and concatenates the strings."
   ]
  },
  {
   "cell_type": "code",
   "execution_count": null,
   "id": "b192bfdf-3a45-41ab-b0c3-a2ae8e10d502",
   "metadata": {},
   "outputs": [],
   "source": [
    "5 + []        // 5 + \"\" -> \"5\" + \"\" -> \"5\"\n",
    "5 + [[]]      // 5 + \"\" -> \"5\" + \"\" -> \"5\"\n",
    "5 + [1,2,3]   // 5 + \"1,2,3\" -> \"5\" + \"1,2,3\" -> \"51,2,3\"\n",
    "3 + null      // 3 + 0 -> 3\n",
    "3 + undefined // 3 + 0 -> 3\n",
    "NaN + ''      // \"Nan\" + \"\" -> \"NaN\"\n",
    "[] + {}       // \"\" + \"[object Object]\"\n",
    "{} + []       // Here {} is treated as a block, not object. +[] -> +'' -> 0, so we get 0\n",
    "1 + true      // 1 + 1 -> 2\n",
    "1 + new Date()  // 1 + (new Date()).toString() -> 1 + \"Thu Dec 22 2022 04:01:25 GMT+0530 (India Standard Time)\""
   ]
  },
  {
   "cell_type": "markdown",
   "id": "7a4e14e0-5ba7-4143-aff1-078655231029",
   "metadata": {},
   "source": [
    "The == and != operators perform equality and inequality testing in a loose way that allows type conversions.\n",
    "- both operands object, == returns false\n",
    "- both operands primitive\n",
    "    - one string, other number; convert string to number\n",
    "    - one boolean, other number; convert boolean to number\n",
    "    - one string, other boolean; convert both to number\n",
    "    - null == undefined is true\n",
    "- one operand object, convert object to primitive using no-preference algorithm"
   ]
  },
  {
   "cell_type": "code",
   "execution_count": null,
   "id": "c65bbf6b-c7f3-4cdd-95d8-5f70ea3aca58",
   "metadata": {},
   "outputs": [],
   "source": [
    "12 == '12'        // 12 == 12, true\n",
    "false == 0        // 0 == 0, true\n",
    "true == '1'       // 1 == 1, true\n",
    "\"0\" == false      // 0 == 0, true\n",
    "\"0\" == NaN        // 0 == NaN, false\n",
    "\"0\" == 0          // 0 == 0, true\n",
    "\"0\" == \"\"         // false, both are different string"
   ]
  },
  {
   "cell_type": "code",
   "execution_count": null,
   "id": "03dfc0d7-7a79-4a1d-957e-33b5edb3c171",
   "metadata": {},
   "outputs": [],
   "source": [
    "\"0\" == null       // false\n",
    "\"0\" == undefined  // false\n",
    "false == null     // false\n",
    "false == undefined // false\n",
    "\"\" == null       // false\n",
    "\"\" == undefined  // false\n",
    "0 == null        // false\n",
    "0 == undefined   // false"
   ]
  },
  {
   "cell_type": "code",
   "execution_count": null,
   "id": "07baa28f-b61a-4e03-a405-9e6c1f11598c",
   "metadata": {},
   "outputs": [],
   "source": [
    "[32] == 32        // \"32\" == 32 -> 32 == 32, true\n",
    "[32] == [32]      // false, both are object\n",
    "{} == []          // false, both are object\n",
    "\"0\" == []         // \"0\" == \"\", false\n",
    "0 == []           // 0 == \"\" -> 0 == 0, true"
   ]
  }
 ],
 "metadata": {
  "kernelspec": {
   "display_name": "JavaScript",
   "language": "javascript",
   "name": "jslab"
  },
  "language_info": {
   "file_extension": ".js",
   "mimetype": "text/javascript",
   "name": "javascript",
   "version": ""
  }
 },
 "nbformat": 4,
 "nbformat_minor": 5
}
