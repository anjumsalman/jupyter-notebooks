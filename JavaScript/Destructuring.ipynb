{
 "cells": [
  {
   "cell_type": "markdown",
   "metadata": {},
   "source": [
    "### Object Destructuring\n",
    "Shortcut to get properties from an object. Consider car object below:"
   ]
  },
  {
   "cell_type": "code",
   "execution_count": 1,
   "metadata": {},
   "outputs": [],
   "source": [
    "var car = {\n",
    "    model: 'Lancer',\n",
    "    manufacturer: 'Mitsubishi',\n",
    "    year: 1998,\n",
    "    type: 'sedan'\n",
    "}\n",
    "\n",
    "// To extract properties as variables\n",
    "var model = car.model;\n",
    "var year = car.year;\n",
    "var type = car.type;"
   ]
  },
  {
   "cell_type": "markdown",
   "metadata": {},
   "source": [
    "Using object destructuring notation, we can shrink our code down to:"
   ]
  },
  {
   "cell_type": "code",
   "execution_count": null,
   "metadata": {},
   "outputs": [],
   "source": [
    "var { model, year, type } = car;"
   ]
  },
  {
   "cell_type": "markdown",
   "metadata": {},
   "source": [
    "We can even use our own variable name"
   ]
  },
  {
   "cell_type": "code",
   "execution_count": 2,
   "metadata": {},
   "outputs": [
    {
     "name": "stdout",
     "output_type": "stream",
     "text": [
      "Model is  Lancer\n"
     ]
    }
   ],
   "source": [
    "var { model: m, year: y, type: t} = car;\n",
    "console.log('Model is ', m);"
   ]
  },
  {
   "cell_type": "markdown",
   "metadata": {},
   "source": [
    "We can also object-destructure arrays"
   ]
  },
  {
   "cell_type": "code",
   "execution_count": 3,
   "metadata": {},
   "outputs": [
    {
     "name": "stdout",
     "output_type": "stream",
     "text": [
      "Color is  Cyan\n"
     ]
    }
   ],
   "source": [
    "var colors = ['Red', 'Green', 'Blue', 'Cyan'];\n",
    "var { 0: red, 2: blue, 3: cyan } = colors;\n",
    "\n",
    "console.log('Color is ', cyan)"
   ]
  },
  {
   "cell_type": "markdown",
   "metadata": {},
   "source": [
    "Since string can be coerced to an object, the following works:"
   ]
  },
  {
   "cell_type": "code",
   "execution_count": 10,
   "metadata": {},
   "outputs": [
    {
     "name": "stdout",
     "output_type": "stream",
     "text": [
      "\u001b[33m4\u001b[39m\n"
     ]
    }
   ],
   "source": [
    "var code = 'XV23';\n",
    "var {length: codeLength} = code;\n",
    "console.log(codeLength)"
   ]
  },
  {
   "cell_type": "markdown",
   "metadata": {},
   "source": [
    "In general, if the RHS is not object it is coerced to object using the internal `ToObject` function. So, we get error for the following:"
   ]
  },
  {
   "cell_type": "code",
   "execution_count": null,
   "metadata": {},
   "outputs": [],
   "source": [
    "const { prop: x } = undefined; // TypeError\n",
    "const { prop: y } = null; // TypeError"
   ]
  },
  {
   "cell_type": "markdown",
   "metadata": {},
   "source": [
    "### Array Destructuring\n",
    "Similar to object destructuring, except that now we have to maintain order of array"
   ]
  },
  {
   "cell_type": "code",
   "execution_count": 7,
   "metadata": {},
   "outputs": [
    {
     "name": "stdout",
     "output_type": "stream",
     "text": [
      "Country in Indian Ocean is  Maldives\n"
     ]
    }
   ],
   "source": [
    "var countries = ['Monaco', 'Tuvalo', 'Vatican', 'Maldives'];\n",
    "var [mc, tv, va, mv] = countries;\n",
    "\n",
    "console.log('Country in Indian Ocean is ', mv);"
   ]
  },
  {
   "cell_type": "markdown",
   "metadata": {},
   "source": [
    "We can skip items from end"
   ]
  },
  {
   "cell_type": "code",
   "execution_count": 5,
   "metadata": {},
   "outputs": [
    {
     "name": "stdout",
     "output_type": "stream",
     "text": [
      "Tax haven is  Monaco\n"
     ]
    }
   ],
   "source": [
    "var [monaco, tuvalu] = countries;\n",
    "console.log('Tax haven is ', monaco)"
   ]
  },
  {
   "cell_type": "markdown",
   "metadata": {},
   "source": [
    "To skip values in between:"
   ]
  },
  {
   "cell_type": "code",
   "execution_count": 16,
   "metadata": {},
   "outputs": [
    {
     "name": "stdout",
     "output_type": "stream",
     "text": [
      "a= \u001b[33m3\u001b[39m  b= \u001b[33m5\u001b[39m\n"
     ]
    }
   ],
   "source": [
    "const [,,a,,b] = [1,2,3,4,5,6];\n",
    "console.log('a=', a, ' b=', b);"
   ]
  },
  {
   "cell_type": "markdown",
   "metadata": {},
   "source": [
    "Destructuring a for-of loop:"
   ]
  },
  {
   "cell_type": "code",
   "execution_count": 9,
   "metadata": {},
   "outputs": [
    {
     "name": "stdout",
     "output_type": "stream",
     "text": [
      "Country number \u001b[33m0\u001b[39m  is Monaco\n",
      "Country number \u001b[33m1\u001b[39m  is Tuvalo\n",
      "Country number \u001b[33m2\u001b[39m  is Vatican\n",
      "Country number \u001b[33m3\u001b[39m  is Maldives\n"
     ]
    }
   ],
   "source": [
    "for(var [index, element] of countries.entries()){\n",
    "    console.log('Country number', index, ' is', element);\n",
    "}"
   ]
  },
  {
   "cell_type": "markdown",
   "metadata": {},
   "source": [
    "Array-destructuring works on any value that is iterable. So we can use it on strings:"
   ]
  },
  {
   "cell_type": "code",
   "execution_count": null,
   "metadata": {},
   "outputs": [],
   "source": [
    "var [a, e, i, o, u ] = 'aeiou';"
   ]
  },
  {
   "cell_type": "markdown",
   "metadata": {},
   "source": [
    "Or sets"
   ]
  },
  {
   "cell_type": "code",
   "execution_count": 13,
   "metadata": {},
   "outputs": [
    {
     "name": "stdout",
     "output_type": "stream",
     "text": [
      "x= a  y= b\n"
     ]
    }
   ],
   "source": [
    "const [x,y] = new Set(['a', 'b']);\n",
    "console.log('x=', x, ' y=', y)"
   ]
  },
  {
   "cell_type": "markdown",
   "metadata": {},
   "source": [
    "### Default Values\n",
    "What if the RHS doesn't have the property we have listed in the LHS? That is where optional value comes into picture"
   ]
  },
  {
   "cell_type": "code",
   "execution_count": null,
   "metadata": {},
   "outputs": [],
   "source": [
    "let [x = 1, y] = []; // x is 1, y is undefined\n",
    "const {foo: a = 3, bar: b} = {}; // a is 3, b is undefined"
   ]
  },
  {
   "cell_type": "markdown",
   "metadata": {},
   "source": [
    "undefined triggers default value"
   ]
  },
  {
   "cell_type": "code",
   "execution_count": null,
   "metadata": {},
   "outputs": [],
   "source": [
    "const [x=1] = [undefined]; // x = 1\n",
    "const {prop: y=2} = {prop: undefined}; // y = 2"
   ]
  },
  {
   "cell_type": "markdown",
   "metadata": {},
   "source": [
    "Some other examples:"
   ]
  },
  {
   "cell_type": "code",
   "execution_count": 14,
   "metadata": {},
   "outputs": [
    {
     "name": "stdout",
     "output_type": "stream",
     "text": [
      "Thu Apr 01 2021 23:00:55 GMT+0530 (India Standard Time)\n"
     ]
    }
   ],
   "source": [
    "const { day: d=Date() } = {}; // The function call is not eager evaluated\n",
    "console.log(d);"
   ]
  },
  {
   "cell_type": "code",
   "execution_count": 15,
   "metadata": {},
   "outputs": [
    {
     "name": "stdout",
     "output_type": "stream",
     "text": [
      "Thu Apr 01 2021 23:03:03 GMT+0530 (India Standard Time)\n"
     ]
    }
   ],
   "source": [
    "const { day=Date() } = {};\n",
    "console.log(day);"
   ]
  },
  {
   "cell_type": "code",
   "execution_count": null,
   "metadata": {},
   "outputs": [],
   "source": [
    "const [x=3, y=x] = [];     // x=3; y=3\n",
    "const [x=3, y=x] = [7];    // x=7; y=7\n",
    "const [x=3, y=x] = [7, 2]; // x=7; y=2"
   ]
  }
 ],
 "metadata": {
  "kernelspec": {
   "display_name": "JavaScript",
   "language": "javascript",
   "name": "jslab"
  },
  "language_info": {
   "file_extension": ".js",
   "mimetype": "text/javascript",
   "name": "javascript",
   "version": ""
  }
 },
 "nbformat": 4,
 "nbformat_minor": 4
}
