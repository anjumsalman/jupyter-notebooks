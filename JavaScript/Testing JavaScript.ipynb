{
 "cells": [
  {
   "cell_type": "markdown",
   "metadata": {},
   "source": [
    "### Basics\n",
    "The fundamental idea is to compare a calculated value with expected value. For example, consider the following two operations:"
   ]
  },
  {
   "cell_type": "code",
   "execution_count": 1,
   "metadata": {},
   "outputs": [
    {
     "name": "stderr",
     "output_type": "stream",
     "text": [
      "evalmachine.<anonymous>:17\n",
      "    throw new Error(`${result} is not equal to ${expected}`);\n",
      "    ^\n",
      "\n",
      "Error: 2 is not equal to 8\n",
      "    at evalmachine.<anonymous>:17:11\n",
      "    at evalmachine.<anonymous>:20:3\n",
      "\u001b[90m    at sigintHandlersWrap (node:vm:271:12)\u001b[39m\n",
      "\u001b[90m    at Script.runInContext (node:vm:139:14)\u001b[39m\n",
      "\u001b[90m    at Object.runInContext (node:vm:292:6)\u001b[39m\n",
      "    at Object.execute (C:\\Users\\salma\\AppData\\Roaming\\npm\\node_modules\\\u001b[4mtslab\u001b[24m\\dist\\executor.js:159:38)\n",
      "    at JupyterHandlerImpl.handleExecuteImpl (C:\\Users\\salma\\AppData\\Roaming\\npm\\node_modules\\\u001b[4mtslab\u001b[24m\\dist\\jupyter.js:206:38)\n",
      "    at C:\\Users\\salma\\AppData\\Roaming\\npm\\node_modules\\\u001b[4mtslab\u001b[24m\\dist\\jupyter.js:164:57\n",
      "    at async JupyterHandlerImpl.handleExecute (C:\\Users\\salma\\AppData\\Roaming\\npm\\node_modules\\\u001b[4mtslab\u001b[24m\\dist\\jupyter.js:164:21)\n",
      "    at async ZmqServer.handleExecute (C:\\Users\\salma\\AppData\\Roaming\\npm\\node_modules\\\u001b[4mtslab\u001b[24m\\dist\\jupyter.js:362:25)\n"
     ]
    }
   ],
   "source": [
    "// We need to test the following two functions:\n",
    "function add(a, b){\n",
    "    return a - b;\n",
    "}\n",
    "\n",
    "function subtract(a, b){\n",
    "    return a - b;\n",
    "}\n",
    "\n",
    "// Testing add\n",
    "let result = add(5, 3)\n",
    "let expected = 8\n",
    "\n",
    "if(result !== expected){\n",
    "    throw new Error(`${result} is not equal to ${expected}`)\n",
    "}"
   ]
  },
  {
   "cell_type": "code",
   "execution_count": null,
   "metadata": {},
   "outputs": [],
   "source": [
    "// Testing subtract\n",
    "result = subtract(5, 3)\n",
    "expected = 2\n",
    "\n",
    "if(result !== expected){\n",
    "    throw new Error(`${result} is not equal to ${expected}`)\n",
    "}"
   ]
  },
  {
   "cell_type": "markdown",
   "metadata": {},
   "source": [
    "The above code doesn't throw error indicating that it is working fine. We can abstract the logic as:"
   ]
  },
  {
   "cell_type": "code",
   "execution_count": null,
   "metadata": {},
   "outputs": [],
   "source": [
    "function expect(actual){\n",
    "    return {\n",
    "        toBe: function(expected){\n",
    "            if(actual !== expected){\n",
    "                throw new Error(`${result} is not equal to ${expected}`)\n",
    "            }\n",
    "        }\n",
    "    }\n",
    "}\n",
    "\n",
    "let result = subtract(6, 6)\n",
    "let expected = 0\n",
    "\n",
    "expect(result).toBe(expected)"
   ]
  },
  {
   "cell_type": "markdown",
   "metadata": {},
   "source": [
    "We can have a number of different assertion methods in the returned object:"
   ]
  },
  {
   "cell_type": "code",
   "execution_count": null,
   "metadata": {},
   "outputs": [],
   "source": [
    "function expect(actual){\n",
    "    return {\n",
    "        toBe: function(expected){\n",
    "            if(actual !== expected){\n",
    "                throw new Error(`${actual} is not equal to ${expected}`)\n",
    "            }\n",
    "        },\n",
    "        \n",
    "        toEqual: function(expected){},\n",
    "        \n",
    "        toBeGreaterThan: function(expected){}\n",
    "    }\n",
    "}"
   ]
  },
  {
   "cell_type": "markdown",
   "metadata": {},
   "source": [
    "There are a couple of defeciencies in the above code. Firstly if multiple expect statements can potentially fail, our code block would fail only one and then stop. Second, we would need to dig into the code block to find out which one of the test case failed. We can improve this by introducing a test function:"
   ]
  },
  {
   "cell_type": "code",
   "execution_count": 5,
   "metadata": {},
   "outputs": [
    {
     "name": "stdout",
     "output_type": "stream",
     "text": [
      "✕ testing summation of two numbers\n",
      "Error: -1 is not equal to 11\n",
      "    at Object.toBe (evalmachine.<anonymous>:6:23)\n",
      "    at evalmachine.<anonymous>:33:20\n",
      "    at test (evalmachine.<anonymous>:20:9)\n",
      "    at evalmachine.<anonymous>:30:1\n",
      "    at evalmachine.<anonymous>:41:3\n",
      "\u001b[90m    at sigintHandlersWrap (node:vm:271:12)\u001b[39m\n",
      "\u001b[90m    at Script.runInContext (node:vm:139:14)\u001b[39m\n",
      "\u001b[90m    at Object.runInContext (node:vm:292:6)\u001b[39m\n",
      "    at Object.execute (C:\\Users\\salma\\AppData\\Roaming\\npm\\node_modules\\\u001b[4mtslab\u001b[24m\\dist\\executor.js:159:38)\n",
      "    at JupyterHandlerImpl.handleExecuteImpl (C:\\Users\\salma\\AppData\\Roaming\\npm\\node_modules\\\u001b[4mtslab\u001b[24m\\dist\\jupyter.js:206:38)\n",
      "✓ testing difference of two numbers\n"
     ]
    }
   ],
   "source": [
    "function test(message, callback){\n",
    "    try{\n",
    "        callback()\n",
    "        console.log(`✓ ${message}`)\n",
    "    } catch(error) {\n",
    "        console.log(`✕ ${message}`)\n",
    "        console.log(error)\n",
    "    }\n",
    "}\n",
    "\n",
    "// Use test to test out add and subtract\n",
    "test('testing summation of two numbers', () => {\n",
    "    let result = add(5, 6)\n",
    "    let expected = 11\n",
    "    \n",
    "    expect(result).toBe(expected)\n",
    "})\n",
    "\n",
    "test('testing difference of two numbers', () => {\n",
    "    let result = subtract(5, 6)\n",
    "    let expected = -1\n",
    "    \n",
    "    expect(result).toBe(expected)\n",
    "})"
   ]
  },
  {
   "cell_type": "markdown",
   "metadata": {},
   "source": [
    "What if we want to test asynchronous function? Consider the async equivalent of add and subtract:"
   ]
  },
  {
   "cell_type": "code",
   "execution_count": 6,
   "metadata": {},
   "outputs": [
    {
     "name": "stdout",
     "output_type": "stream",
     "text": [
      "✓ testing summation of two numbers\n",
      "✓ testing difference of two numbers\n"
     ]
    },
    {
     "name": "stderr",
     "output_type": "stream",
     "text": [
      "UnhandledPromiseRejection: Error: -1 is not equal to 11\n",
      "    at Object.toBe (evalmachine.<anonymous>:6:23)\n",
      "    at evalmachine.<anonymous>:29:20\n"
     ]
    }
   ],
   "source": [
    "function addAsync(a, b){\n",
    "    return new Promise((resolve, reject) => {\n",
    "        resolve(a - b)\n",
    "    })\n",
    "}\n",
    "\n",
    "function subtractAsync(a, b){\n",
    "    return new Promise((resolve, reject) => {\n",
    "        resolve(a - b)\n",
    "    })\n",
    "}\n",
    "\n",
    "// Use test to test out add and subtract\n",
    "test('testing summation of two numbers', async () => {\n",
    "    let result = await addAsync(5, 6)\n",
    "    let expected = 11\n",
    "    \n",
    "    expect(result).toBe(expected)\n",
    "})\n",
    "\n",
    "test('testing difference of two numbers', async () => {\n",
    "    let result = await subtractAsync(5, 6)\n",
    "    let expected = -1\n",
    "    \n",
    "    expect(result).toBe(expected)\n",
    "})"
   ]
  },
  {
   "cell_type": "markdown",
   "metadata": {},
   "source": [
    "We can see the problem in our code in the test function. The callback call would return a promise since callback here is an aync function. The fix is:"
   ]
  },
  {
   "cell_type": "code",
   "execution_count": null,
   "metadata": {},
   "outputs": [],
   "source": [
    "async function test(message, callback){\n",
    "    try{\n",
    "        await callback()\n",
    "        console.log(`✓ ${message}`)\n",
    "    } catch(error) {\n",
    "        console.log(`✕ ${message}`)\n",
    "        console.log(error)\n",
    "    }\n",
    "}"
   ]
  }
 ],
 "metadata": {
  "kernelspec": {
   "display_name": "JavaScript",
   "language": "javascript",
   "name": "jslab"
  },
  "language_info": {
   "file_extension": ".js",
   "mimetype": "text/javascript",
   "name": "javascript",
   "version": ""
  }
 },
 "nbformat": 4,
 "nbformat_minor": 4
}
