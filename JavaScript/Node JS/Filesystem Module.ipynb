{
 "cells": [
  {
   "cell_type": "markdown",
   "metadata": {},
   "source": [
    "### Introduction\n",
    "Nodejs provides a callback based and a promise based (in new versions) filesystem API. It also provides its synchronous counterparts. To illustrate the difference:"
   ]
  },
  {
   "cell_type": "code",
   "execution_count": 3,
   "metadata": {},
   "outputs": [
    {
     "name": "stdout",
     "output_type": "stream",
     "text": [
      "Sample File with Different Languages\n",
      "我们在景山公园(We're at Jingshan Park.) 我有漂亮的女朋友. 她也是美国人– wǒ yǒu piào liang de nǚ péng yǒu. 我们在一起住\n"
     ]
    }
   ],
   "source": [
    "// Standard callbacks based\n",
    "const fs = require('fs')\n",
    "\n",
    "fs.readFile('sample.txt', (error, data)=>{\n",
    "   if(error){\n",
    "       console.error('Error reading file');\n",
    "   } else {\n",
    "       console.log(data.toString());\n",
    "   }\n",
    "});"
   ]
  },
  {
   "cell_type": "code",
   "execution_count": 5,
   "metadata": {},
   "outputs": [
    {
     "name": "stdout",
     "output_type": "stream",
     "text": [
      "Promise { \u001b[36m<pending>\u001b[39m }\n",
      "Sample File with Different Languages\n",
      "我们在景山公园(We're at Jingshan Park.) 我有漂亮的女朋友. 她也是美国人– wǒ yǒu piào liang de nǚ péng yǒu. 我们在一起住\n"
     ]
    }
   ],
   "source": [
    "// Promise based\n",
    "const fs = require('fs').promises // or import { fs } from 'fs/promises'\n",
    "\n",
    "async function readFile(filename){\n",
    "    try {\n",
    "        const data = await fs.readFile(filename);\n",
    "        console.log(data.toString());\n",
    "    } catch (error){\n",
    "        console.error(`Error reading file: ${error.message}`);\n",
    "    }\n",
    "}\n",
    "\n",
    "readFile('sample.txt')"
   ]
  },
  {
   "cell_type": "markdown",
   "metadata": {},
   "source": [
    "Synchronous version"
   ]
  },
  {
   "cell_type": "code",
   "execution_count": 6,
   "metadata": {},
   "outputs": [
    {
     "name": "stdout",
     "output_type": "stream",
     "text": [
      "Sample File with Different Languages\n",
      "我们在景山公园(We're at Jingshan Park.) 我有漂亮的女朋友. 她也是美国人– wǒ yǒu piào liang de nǚ péng yǒu. 我们在一起住\n"
     ]
    }
   ],
   "source": [
    "const fs = require('fs')\n",
    "\n",
    "try{\n",
    "    let data = fs.readFileSync('sample.txt');\n",
    "    console.log(data.toString());\n",
    "} catch (error){\n",
    "    console.error(`Error reading file: ${error.message}`);\n",
    "}"
   ]
  },
  {
   "cell_type": "markdown",
   "metadata": {},
   "source": [
    "### Updating File\n",
    "Similar to reading file, node provides synchronous and asynchronous way to update a file. The `writeFile` function by default overwrites a file. There exists a flag to append instead of overwriting."
   ]
  },
  {
   "cell_type": "code",
   "execution_count": 11,
   "metadata": {},
   "outputs": [],
   "source": [
    "const fs = require('fs')\n",
    "\n",
    "// Appending to sample.txt\n",
    "const line = '\\nA new line has been inserted';\n",
    "fs.writeFile('sample.txt', line, {flag: 'a'}, function(error){\n",
    "    if(error){\n",
    "        console.log(`Error writing to file : ${error.message}`);\n",
    "    }\n",
    "})"
   ]
  },
  {
   "cell_type": "markdown",
   "metadata": {},
   "source": [
    "To write multiple times, it is unsafe to use `fs.writeFile()` multiple times on the same file without waiting for the callback. For this scenario, `fs.createWriteStream()` is recommended."
   ]
  },
  {
   "cell_type": "markdown",
   "metadata": {},
   "source": [
    "### File Information\n",
    "To get information about a file or directory:"
   ]
  },
  {
   "cell_type": "code",
   "execution_count": 1,
   "metadata": {},
   "outputs": [
    {
     "name": "stdout",
     "output_type": "stream",
     "text": [
      "sample.txt\t219\tThu Mar 25 2021 19:15:16 GMT+0530 (India Standard Time)\n",
      "Filesystem Module.ipynb\t4980\tThu Mar 25 2021 19:10:29 GMT+0530 (India Standard Time)\n",
      "Untitled.ipynb\t72\tThu Mar 25 2021 19:31:36 GMT+0530 (India Standard Time)\n"
     ]
    }
   ],
   "source": [
    "const fs = require('fs')\n",
    "\n",
    "fs.readdir('.', function(error, files){\n",
    "    if(error){\n",
    "        console.error('Unable to locate directory');\n",
    "        return;\n",
    "    }\n",
    "    \n",
    "    files.forEach(function(file){\n",
    "       fs.stat('./' + file, function(error, stats){\n",
    "           if(error){\n",
    "                console.error('Unable to get stats');\n",
    "                return;\n",
    "           }\n",
    "           \n",
    "           if(stats.isFile()){\n",
    "               console.log(file + '\\t' + stats.size + '\\t' + stats.birthtime);\n",
    "           }\n",
    "       }) \n",
    "    });\n",
    "})"
   ]
  },
  {
   "cell_type": "markdown",
   "metadata": {},
   "source": [
    "There is also a synchronous version. In newer version of Node, we can use the promise version. Newer import statement used below:"
   ]
  },
  {
   "cell_type": "code",
   "execution_count": 8,
   "metadata": {},
   "outputs": [
    {
     "name": "stdout",
     "output_type": "stream",
     "text": [
      "Promise { \u001b[36m<pending>\u001b[39m }\n",
      "\u001b[33m0\u001b[39m\n",
      "\u001b[33m0\u001b[39m\n",
      "\u001b[33m0\u001b[39m\n",
      "\u001b[33m0\u001b[39m\n",
      "\u001b[33m0\u001b[39m\n",
      "\u001b[33m0\u001b[39m\n",
      "\u001b[33m0\u001b[39m\n"
     ]
    }
   ],
   "source": [
    "const fs = require('fs').promises;\n",
    "\n",
    "fs.readdir('D:\\\\Downloads')\n",
    "    .then(function(files){\n",
    "        let fileStats = [];\n",
    "        files.forEach(file=>{\n",
    "            fileStats.push(fs.stat('D:\\\\Downloads\\\\'+ file));\n",
    "        })\n",
    "        \n",
    "        return Promise.all(fileStats);\n",
    "    })\n",
    "    .then(function(stats){\n",
    "        stats.forEach(stat=>{\n",
    "            if(stat.isDirectory()){\n",
    "                console.log(stat.size)\n",
    "            }\n",
    "        })\n",
    "    })\n",
    "    .catch(function(err){\n",
    "        console.error(err)\n",
    "    });"
   ]
  },
  {
   "cell_type": "code",
   "execution_count": null,
   "metadata": {},
   "outputs": [],
   "source": []
  }
 ],
 "metadata": {
  "kernelspec": {
   "display_name": "JavaScript",
   "language": "javascript",
   "name": "jslab"
  },
  "language_info": {
   "file_extension": ".js",
   "mimetype": "text/javascript",
   "name": "javascript",
   "version": ""
  }
 },
 "nbformat": 4,
 "nbformat_minor": 4
}
