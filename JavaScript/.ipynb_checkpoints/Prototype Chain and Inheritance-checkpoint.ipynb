{
 "cells": [
  {
   "cell_type": "markdown",
   "metadata": {},
   "source": [
    "## The Prototype Chain\n",
    "Every Javascript object has a prototype which is an object from which it is derived. When we use the dot operator to refer to a property, first that property is searched for in object, then the object's prototype, then in prototype's prototype, until the prototype is null.\n",
    "The `__proto__` property refers to an object's prototype object. The standard way to get access to an object's prototype is to use `getPrototypeOf` method of Object (notice the capital O)."
   ]
  },
  {
   "cell_type": "code",
   "execution_count": 5,
   "metadata": {},
   "outputs": [
    {
     "data": {
      "text/plain": [
       "{ lA: 1, lB: 2 }"
      ]
     },
     "execution_count": 5,
     "metadata": {},
     "output_type": "execute_result"
    }
   ],
   "source": [
    "var lowerObj = {\n",
    "    lA: 1,\n",
    "    lB: 2\n",
    "}\n",
    "\n",
    "lowerObj"
   ]
  },
  {
   "cell_type": "markdown",
   "metadata": {},
   "source": [
    "lowerObj.\\_\\_proto\\_\\_ is an object with a bunch of properties such as \n",
    "- constructor\n",
    "- hasOwnProperty\n",
    "- isPrototypeOf\n",
    "- propertyIsEnumerable\n",
    "- toString\n",
    "- valueOf\n",
    "\n",
    "The prototype of an object depends upon the constructor being used to create that object. In the above case, the constructor function is Object. The prototype of objects created using Object is equal to `Object.prototype` property.\n",
    "\n",
    "If a different constructor for example Pizza constructor is used, then \\_\\_proto\\_\\_ is equal to Pizza.prototype. Every function has a prototype property. Except for Object, the prototype property of function is an object with one property 'constructor'."
   ]
  },
  {
   "cell_type": "code",
   "execution_count": 10,
   "metadata": {},
   "outputs": [
    {
     "name": "stdout",
     "output_type": "stream",
     "text": [
      "[ 'length', 'name', 'arguments', 'caller', 'prototype' ]\n",
      "[ 'constructor' ]\n",
      "[ 'length',\n",
      "  'name',\n",
      "  'prototype',\n",
      "  'assign',\n",
      "  'getOwnPropertyDescriptor',\n",
      "  'getOwnPropertyDescriptors',\n",
      "  'getOwnPropertyNames',\n",
      "  'getOwnPropertySymbols',\n",
      "  'is',\n",
      "  'preventExtensions',\n",
      "  'seal',\n",
      "  'create',\n",
      "  'defineProperties',\n",
      "  'defineProperty',\n",
      "  'freeze',\n",
      "  'getPrototypeOf',\n",
      "  'setPrototypeOf',\n",
      "  'isExtensible',\n",
      "  'isFrozen',\n",
      "  'isSealed',\n",
      "  'keys',\n",
      "  'entries',\n",
      "  'values' ]\n",
      "[ 'constructor',\n",
      "  '__defineGetter__',\n",
      "  '__defineSetter__',\n",
      "  'hasOwnProperty',\n",
      "  '__lookupGetter__',\n",
      "  '__lookupSetter__',\n",
      "  'isPrototypeOf',\n",
      "  'propertyIsEnumerable',\n",
      "  'toString',\n",
      "  'valueOf',\n",
      "  '__proto__',\n",
      "  'toLocaleString' ]\n"
     ]
    }
   ],
   "source": [
    "function Employee(){\n",
    "    this.name = '';\n",
    "    this.salary = 0;\n",
    "}\n",
    "\n",
    "console.log(Object.getOwnPropertyNames(Employee))\n",
    "console.log(Object.getOwnPropertyNames(Employee.prototype))\n",
    "\n",
    "console.log(Object.getOwnPropertyNames(Object))\n",
    "console.log(Object.getOwnPropertyNames(Object.prototype))"
   ]
  },
  {
   "cell_type": "code",
   "execution_count": 11,
   "metadata": {},
   "outputs": [
    {
     "name": "stdout",
     "output_type": "stream",
     "text": [
      "true\n"
     ]
    }
   ],
   "source": [
    "var emp = new Employee()\n",
    "console.log(emp.__proto__ == Employee.prototype)"
   ]
  },
  {
   "cell_type": "code",
   "execution_count": 12,
   "metadata": {},
   "outputs": [
    {
     "name": "stdout",
     "output_type": "stream",
     "text": [
      "true\n"
     ]
    }
   ],
   "source": [
    "console.log(lowerObj.__proto__ == Object.prototype)"
   ]
  },
  {
   "cell_type": "markdown",
   "metadata": {},
   "source": [
    "Also note that Employee and Object have their own \\_\\_proto\\_\\_ properties different from prototype property. And the prototype object of Employee.prototype is Object.prototype."
   ]
  },
  {
   "cell_type": "code",
   "execution_count": 13,
   "metadata": {},
   "outputs": [
    {
     "data": {
      "text/plain": [
       "true"
      ]
     },
     "execution_count": 13,
     "metadata": {},
     "output_type": "execute_result"
    }
   ],
   "source": [
    "Employee.prototype.__proto__ == Object.prototype"
   ]
  },
  {
   "cell_type": "code",
   "execution_count": 14,
   "metadata": {},
   "outputs": [
    {
     "data": {
      "text/plain": [
       "null"
      ]
     },
     "execution_count": 14,
     "metadata": {},
     "output_type": "execute_result"
    }
   ],
   "source": [
    "Object.prototype.__proto__"
   ]
  },
  {
   "cell_type": "markdown",
   "metadata": {},
   "source": [
    "![Javascript object maze](https://i.imgur.com/UQuP4IK.png \"JS object maze\")"
   ]
  },
  {
   "cell_type": "code",
   "execution_count": null,
   "metadata": {},
   "outputs": [],
   "source": []
  }
 ],
 "metadata": {
  "kernelspec": {
   "display_name": "Javascript (Node.js)",
   "language": "javascript",
   "name": "javascript"
  },
  "language_info": {
   "file_extension": ".js",
   "mimetype": "application/javascript",
   "name": "javascript",
   "version": "8.12.0"
  }
 },
 "nbformat": 4,
 "nbformat_minor": 2
}
