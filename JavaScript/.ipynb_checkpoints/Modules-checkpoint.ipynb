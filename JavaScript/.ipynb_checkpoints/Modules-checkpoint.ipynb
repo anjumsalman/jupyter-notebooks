{
 "cells": [
  {
   "cell_type": "markdown",
   "metadata": {},
   "source": [
    "### Need for Module\n",
    "JavaScript did not have built-in support for modules. In order to imitate a module like functionality, a number of solutions were created over time. Each fulfilling some and failing at other criterias of being a module. For example, a very basic approach was to just separate different concerns in different JavaScript files:"
   ]
  },
  {
   "cell_type": "code",
   "execution_count": null,
   "metadata": {},
   "outputs": [],
   "source": [
    "// user.js\n",
    "var users = [\"Tyler\", \"Sarah\", \"Dan\"]\n",
    "\n",
    "function getUsers() {\n",
    "    return users\n",
    "}\n",
    "\n",
    "// dom.js\n",
    "function addUserToDOM(name) {\n",
    "    const node = document.createElement(\"li\")\n",
    "    const text = document.createTextNode(name)\n",
    "    node.appendChild(text)\n",
    "\n",
    "    document.getElementById(\"users\").appendChild(node)\n",
    "}\n",
    "\n",
    "var users = getUsers()\n",
    "for (var i = 0; i < users.length; i++) {\n",
    "    addUserToDOM(users[i])\n",
    "}"
   ]
  },
  {
   "cell_type": "markdown",
   "metadata": {},
   "source": [
    "Then inside html, we would include both the JS files:\n",
    "```html\n",
    "<head>\n",
    "    <script src=\"user.js\"></script>\n",
    "    <script src=\"dom.js\"></script>\n",
    "</head>\n",
    "<body>\n",
    "</body>\n",
    "```\n",
    "\n",
    "Two major flaws:\n",
    "- order in which the files load\n",
    "- all variables in both files are in global scope, which means any external code can overwrite it\n",
    "\n",
    "The above example is just code separation. Now, instead of using the global scope, we can define our own scope object."
   ]
  },
  {
   "cell_type": "code",
   "execution_count": null,
   "metadata": {},
   "outputs": [],
   "source": [
    "// app.js\n",
    "var APP = {}\n",
    "\n",
    "// user.js\n",
    "function usersWrapper () {\n",
    "    var users = [\"Tyler\", \"Sarah\", \"Dan\"]\n",
    "\n",
    "    function getUsers() {\n",
    "        return users\n",
    "    }\n",
    "\n",
    "    APP.getUsers = getUsers\n",
    "}\n",
    "\n",
    "usersWrapper()\n",
    "\n",
    "// dom.js\n",
    "function domWrapper() {\n",
    "    function addUserToDOM(name) {\n",
    "        const node = document.createElement(\"li\")\n",
    "        const text = document.createTextNode(name)\n",
    "        node.appendChild(text)\n",
    "\n",
    "        document.getElementById(\"users\").appendChild(node)\n",
    "    }\n",
    "\n",
    "    var users = APP.getUsers()\n",
    "    for (var i = 0; i < users.length; i++) {\n",
    "        addUserToDOM(users[i])\n",
    "    }\n",
    "}\n",
    "\n",
    "domWrapper()"
   ]
  },
  {
   "cell_type": "markdown",
   "metadata": {},
   "source": [
    "Now in our HTML, we need to make following change:\n",
    "```html\n",
    "<head>\n",
    "    <script src=\"app.js\"></script>\n",
    "    <script src=\"user.js\"></script>\n",
    "    <script src=\"dom.js\"></script>\n",
    "</head>\n",
    "<body>\n",
    "</body>\n",
    "```\n",
    "\n",
    "Now there is only two additions to the global object. Moreover, variables like users is completely protected inside the wrapper function and cannot be modified from outside. In order to remove the ugly wrapper functions we make use of revealing module pattern:\n",
    "\n",
    "**Revealing Module Pattern:** uses IIFE which returns an object which becomes module. The benefit is that inside these functions are code that can be private in such ways that they'd only be accessible within that function's scope unless the returned object provides methods that can access them somehow."
   ]
  },
  {
   "cell_type": "code",
   "execution_count": null,
   "metadata": {},
   "outputs": [],
   "source": [
    " // app.js\n",
    "var APP = {}\n",
    "\n",
    "// user.js\n",
    "(function () {\n",
    "    var users = [\"Tyler\", \"Sarah\", \"Dan\"]\n",
    "\n",
    "    function getUsers() {\n",
    "        return users\n",
    "    }\n",
    "\n",
    "    APP.getUsers = getUsers\n",
    "})()\n",
    "\n",
    "// dom.js\n",
    "(function () {\n",
    "    function addUserToDOM(name) {\n",
    "        const node = document.createElement(\"li\")\n",
    "        const text = document.createTextNode(name)\n",
    "        node.appendChild(text)\n",
    "\n",
    "        document.getElementById(\"users\").appendChild(node)\n",
    "    }\n",
    "\n",
    "    var users = APP.getUsers()\n",
    "    for (var i = 0; i < users.length; i++) {\n",
    "        addUserToDOM(users[i])\n",
    "    }\n",
    "})()"
   ]
  },
  {
   "cell_type": "markdown",
   "metadata": {},
   "source": [
    "The advantage is that now we just have one object in global namespace, `APP`. Even though we have reduced the number of items we add to global namespace, the problem of correct order when using the script tags still persists.  \n",
    "\n",
    "Progress on this front led to *CommonJS* specification. But there are two problems with CommonJS:\n",
    "- synchronous loading\n",
    "- No browser support\n",
    "\n",
    "To solve the second problem we make use of *Module Bundlers* such as Webpack. A module bundler examines the codebase, looks at all the imports and exports, then intelligently bundles all of your modules together into a single file that the browser can understand.\n",
    "\n",
    "```\n",
    "app.js ---> |         |\n",
    "user.js ->  | Bundler | -> bundle.js\n",
    "dom.js ---> |         |\n",
    "\n",
    "```"
   ]
  },
  {
   "cell_type": "markdown",
   "metadata": {},
   "source": [
    "### ES Modules\n",
    "ES6 introduced native JavaScript modules. There is exactly one module per file and one file per module."
   ]
  },
  {
   "cell_type": "code",
   "execution_count": null,
   "metadata": {},
   "outputs": [],
   "source": [
    "// Mulitple named exports (area.js)\n",
    "export const PI = 3.14;\n",
    "\n",
    "export function circleArea(radius){\n",
    "    return PI * radius * radius;\n",
    "}"
   ]
  },
  {
   "cell_type": "markdown",
   "metadata": {},
   "source": [
    "To import:"
   ]
  },
  {
   "cell_type": "code",
   "execution_count": null,
   "metadata": {},
   "outputs": [],
   "source": [
    "// Importing\n",
    "import { PI, circleArea } from 'area.js';\n",
    "\n",
    "// Or we can assign different name to imported\n",
    "import { PI as pi, circleArea } from 'area.js';"
   ]
  },
  {
   "cell_type": "markdown",
   "metadata": {},
   "source": [
    "We can also import all exported items:"
   ]
  },
  {
   "cell_type": "code",
   "execution_count": null,
   "metadata": {},
   "outputs": [],
   "source": [
    "import * as area from 'area.js'; // whenever we import all we must provide a name using as\n",
    "\n",
    "console.log(area.circleArea(12));"
   ]
  },
  {
   "cell_type": "markdown",
   "metadata": {},
   "source": [
    "If our module exports a single value, then we can make use of **default export**:"
   ]
  },
  {
   "cell_type": "code",
   "execution_count": null,
   "metadata": {},
   "outputs": [],
   "source": [
    "// def_export.js\n",
    "export default function(){\n",
    "    // ...\n",
    "}\n",
    "\n",
    "// def_import.js\n",
    "import myFunction from 'def_export.js';"
   ]
  },
  {
   "cell_type": "markdown",
   "metadata": {},
   "source": [
    "It is not necessary to make use of only anonymous function or class:"
   ]
  },
  {
   "cell_type": "code",
   "execution_count": null,
   "metadata": {},
   "outputs": [],
   "source": [
    "// def_export_2.js\n",
    "export default function Foo(){\n",
    "    // ...\n",
    "}\n",
    "\n",
    "// def_import_2.js\n",
    "import foo from 'def_export_2.js'; // note that import name is not the\n",
    "                                   // same. foo =/= Foo. We can keep it\n",
    "                                   // same if we want\n",
    "// import Foo from 'def_export_2.js';"
   ]
  },
  {
   "cell_type": "markdown",
   "metadata": {},
   "source": [
    "A module can export other entities in addition to default export:"
   ]
  },
  {
   "cell_type": "code",
   "execution_count": null,
   "metadata": {},
   "outputs": [],
   "source": [
    "// export.js\n",
    "export default function foo(){}\n",
    "\n",
    "export function bar(){}\n",
    "export var baz = 5;\n",
    "\n",
    "// import.js\n",
    "import foo, { bar, baz } from 'export.js'"
   ]
  },
  {
   "cell_type": "markdown",
   "metadata": {},
   "source": [
    "The structure of ES6 modules is static, we can’t conditionally import or export things. Module imports are hoisted (internally moved to the beginning of the current scope). Therefore, it doesn’t matter where we mention them in a module and the following code works without any problems:"
   ]
  },
  {
   "cell_type": "code",
   "execution_count": null,
   "metadata": {},
   "outputs": [],
   "source": [
    "foo();\n",
    "\n",
    "import { foo } from 'my_module';"
   ]
  },
  {
   "cell_type": "markdown",
   "metadata": {},
   "source": [
    "Imports are *read-only view* on exported entities:"
   ]
  },
  {
   "cell_type": "code",
   "execution_count": null,
   "metadata": {},
   "outputs": [],
   "source": [
    "// counter.js\n",
    "export var count = 0;\n",
    "export function increment(){\n",
    "    count++;\n",
    "}\n",
    "\n",
    "// main.js\n",
    "import { count, increment } from \"./counter.js\";\n",
    "\n",
    "console.log(\"Count before:\" + count); // 0\n",
    "increment();\n",
    "console.log(\"Count after:\" + count); // 1"
   ]
  },
  {
   "cell_type": "markdown",
   "metadata": {},
   "source": [
    "Changing an imported value would lead to error"
   ]
  },
  {
   "cell_type": "code",
   "execution_count": null,
   "metadata": {},
   "outputs": [],
   "source": [
    "// main.js\n",
    "import { count } from \"./counter.js\";\n",
    "\n",
    "console.log(\"Count before:\" + count); // 0\n",
    "count++; // error!"
   ]
  }
 ],
 "metadata": {
  "kernelspec": {
   "display_name": "JavaScript",
   "language": "javascript",
   "name": "jslab"
  },
  "language_info": {
   "file_extension": ".js",
   "mimetype": "text/javascript",
   "name": "javascript",
   "version": ""
  }
 },
 "nbformat": 4,
 "nbformat_minor": 4
}
