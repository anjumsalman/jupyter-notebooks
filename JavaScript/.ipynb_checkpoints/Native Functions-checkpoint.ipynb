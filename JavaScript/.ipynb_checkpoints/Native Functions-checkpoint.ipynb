{
 "cells": [
  {
   "cell_type": "markdown",
   "metadata": {},
   "source": [
    "### Natives\n",
    "Natives are built-in features of the language such as:\n",
    "- Number, String, Boolean\n",
    "- Array, Object, RegExp, Function\n",
    "- Date, Error\n",
    "- Symbol\n",
    "\n",
    "and others. The grouping above is due some of the common features present as we'll discover as we go through each."
   ]
  },
  {
   "cell_type": "markdown",
   "metadata": {},
   "source": [
    "### String\n",
    "Strings in Javascript are immutable object and uses UTF-8 encoding by default. As a side-effect of their immutability, many string related functions output another string.\n",
    "\n",
    "**String Operations**"
   ]
  },
  {
   "cell_type": "code",
   "execution_count": 18,
   "metadata": {},
   "outputs": [
    {
     "name": "stdout",
     "output_type": "stream",
     "text": [
      "\u001b[33m10\u001b[39m\n",
      "JAVASCRIPT   JavaScript\n",
      "2020-06-08:Greetings:C1\n"
     ]
    }
   ],
   "source": [
    "var js = \"JavaScript\"\n",
    "\n",
    "// Length\n",
    "console.log(js.length)\n",
    "\n",
    "// Index\n",
    "js.charAt(2) // Works with very old versions of Javascript as well\n",
    "js[2]\n",
    "\n",
    "// Case coversion\n",
    "var upperJs = js.toUpperCase()\n",
    "console.log(upperJs, ' ', js)\n",
    "\n",
    "// Split and Join\n",
    "var csv = 'C1,Greetings,2020-06-08'\n",
    "var cols = csv.split(',')\n",
    "console.log(cols.reverse().join(':'))"
   ]
  },
  {
   "cell_type": "markdown",
   "metadata": {},
   "source": [
    "We can even use array specific functions on strings (functions which output new array)"
   ]
  },
  {
   "cell_type": "code",
   "execution_count": 20,
   "metadata": {},
   "outputs": [
    {
     "name": "stdout",
     "output_type": "stream",
     "text": [
      "space\n"
     ]
    }
   ],
   "source": [
    "Array.prototype.map.call('SPACE', (i)=>{return i.toLowerCase()}).join('')\n",
    "\n",
    "// Doesn't work with reverse() method of array because it performs operation in-place\n",
    "Array.prototype.reverse.call('SPACE')"
   ]
  },
  {
   "cell_type": "markdown",
   "metadata": {},
   "source": [
    "### Number\n",
    "JavaScript has one number data type which represents both integer and floating point numbers. So the following comparison is true in case of JavaScript"
   ]
  },
  {
   "cell_type": "code",
   "execution_count": 21,
   "metadata": {},
   "outputs": [
    {
     "name": "stdout",
     "output_type": "stream",
     "text": [
      "\u001b[33mtrue\u001b[39m\n"
     ]
    }
   ],
   "source": [
    "42 === 42.00"
   ]
  },
  {
   "cell_type": "markdown",
   "metadata": {},
   "source": [
    "JavaScript uses the 64-bit-binary form of the IEEE-754 standard to represent numbers. In JavaScript we can directly call methods on the number literals. For example,"
   ]
  },
  {
   "cell_type": "code",
   "execution_count": 23,
   "metadata": {},
   "outputs": [
    {
     "name": "stdout",
     "output_type": "stream",
     "text": [
      "42.590\n",
      "43\n"
     ]
    }
   ],
   "source": [
    "console.log(42.59.toFixed(3))\n",
    "console.log(42.59.toPrecision(2))\n",
    "\n",
    "// Below is error, because the first . is thought of being part of number\n",
    "// 42.toFixed(4)\n",
    "\n",
    "// Below all are fine\n",
    "42 .toFixed(3)\n",
    "42..toFixed(3)\n",
    "(42).toFixed(3)"
   ]
  },
  {
   "cell_type": "markdown",
   "metadata": {},
   "source": [
    "To represent octal, hexadecimal and binary numbers,"
   ]
  },
  {
   "cell_type": "code",
   "execution_count": 27,
   "metadata": {},
   "outputs": [
    {
     "name": "stderr",
     "output_type": "stream",
     "text": [
      "2:24 - Octal literals are not available when targeting ECMAScript 5 and higher. Use the syntax '0o363'.\n",
      "2:24 - Octal literals are not allowed in strict mode.\n"
     ]
    }
   ],
   "source": [
    "console.log('Hexadecimal: ', 0x363) // or 0X\n",
    "console.log('Octal: ', 0363) // not allowed in strict mode\n",
    "\n",
    "// ES2015 (ES6)\n",
    "console.log('Octal: ', 0o363) // or 0O\n",
    "console.log('Binary: ', 0b01001) // or 0B"
   ]
  },
  {
   "cell_type": "code",
   "execution_count": null,
   "metadata": {},
   "outputs": [],
   "source": []
  },
  {
   "cell_type": "markdown",
   "metadata": {},
   "source": [
    "### Array\n",
    "Common way of creating array is to either use the literal form or the contructor form. Always prefer the literal form."
   ]
  },
  {
   "cell_type": "code",
   "execution_count": null,
   "metadata": {},
   "outputs": [],
   "source": [
    "// Literal form\n",
    "var evens = [2, 4, 10, 8]\n",
    "\n",
    "// Constructor form\n",
    "var odds = new Array(1, 3, 7, 5)\n",
    "\n",
    "// Doesn't really matter in this case if we use new keyword or not\n",
    "var odds_again = Array(11, 15)"
   ]
  },
  {
   "cell_type": "markdown",
   "metadata": {},
   "source": [
    "**Empty Slots** if we just pass a single argument to the Array function it has a different meaning. It pre-sizes the array. Presizing array in Javascript is pointless. It should be avoided because it creates *empty slots*."
   ]
  },
  {
   "cell_type": "code",
   "execution_count": 1,
   "metadata": {},
   "outputs": [
    {
     "name": "stdout",
     "output_type": "stream",
     "text": [
      "\u001b[33m3\u001b[39m\n"
     ]
    }
   ],
   "source": [
    "var pre_arr = new Array(3)\n",
    "pre_arr.length"
   ]
  },
  {
   "cell_type": "code",
   "execution_count": 3,
   "metadata": {},
   "outputs": [
    {
     "name": "stdout",
     "output_type": "stream",
     "text": [
      "\u001b[90mundefined\u001b[39m\n"
     ]
    }
   ],
   "source": [
    "console.log(pre_arr[0])"
   ]
  },
  {
   "cell_type": "code",
   "execution_count": 4,
   "metadata": {},
   "outputs": [
    {
     "name": "stdout",
     "output_type": "stream",
     "text": [
      "[ \u001b[90m<3 empty items>\u001b[39m ]\n"
     ]
    }
   ],
   "source": [
    "console.log(pre_arr)"
   ]
  },
  {
   "cell_type": "markdown",
   "metadata": {},
   "source": [
    "To put emphasis on empty slots, consider the example below:"
   ]
  },
  {
   "cell_type": "code",
   "execution_count": 8,
   "metadata": {},
   "outputs": [
    {
     "name": "stdout",
     "output_type": "stream",
     "text": [
      "\u001b[33m3\u001b[39m\n"
     ]
    }
   ],
   "source": [
    "// Both a and b below have empty slots\n",
    "var a = new Array(3)\n",
    "\n",
    "var b = []\n",
    "b.length = 3"
   ]
  },
  {
   "cell_type": "markdown",
   "metadata": {},
   "source": [
    "Empty slots are a problem because different functions respond to it differently."
   ]
  },
  {
   "cell_type": "markdown",
   "metadata": {},
   "source": [
    "**Array Index vs Property** setting or accessing via non-integers using bracket notation (or dot notation) will not set or retrieve an element from the array list itself, but will set or access a variable associated with that array's object property collection."
   ]
  },
  {
   "cell_type": "markdown",
   "metadata": {},
   "source": [
    "**Common Operations**"
   ]
  },
  {
   "cell_type": "code",
   "execution_count": 11,
   "metadata": {},
   "outputs": [
    {
     "name": "stdout",
     "output_type": "stream",
     "text": [
      "\u001b[33m6\u001b[39m\n",
      "Mango\n",
      "Banana\n",
      "Orange\n",
      "Pineapple\n",
      "Guava\n",
      "Grapes\n",
      "\u001b[33m0\u001b[39m \u001b[32m'Mango'\u001b[39m\n",
      "\u001b[33m1\u001b[39m \u001b[32m'Banana'\u001b[39m\n",
      "\u001b[33m2\u001b[39m \u001b[32m'Orange'\u001b[39m\n",
      "\u001b[33m3\u001b[39m \u001b[32m'Pineapple'\u001b[39m\n",
      "\u001b[33m4\u001b[39m \u001b[32m'Guava'\u001b[39m\n",
      "\u001b[33m5\u001b[39m \u001b[32m'Grapes'\u001b[39m\n",
      "[ \u001b[32m'Grapes'\u001b[39m, \u001b[32m'Guava'\u001b[39m, \u001b[32m'Mango'\u001b[39m, \u001b[32m'Pineapple'\u001b[39m ]\n"
     ]
    }
   ],
   "source": [
    "var fruits = ['Mango', 'Banana', 'Orange', 'Pineapple', 'Guava', 'Grapes']\n",
    "\n",
    "// Length\n",
    "console.log(fruits.length)\n",
    "\n",
    "// Iterating over array\n",
    "for(var f of fruits){\n",
    "    console.log(f)\n",
    "}\n",
    "\n",
    "fruits.forEach((item, index, array)=>{\n",
    "    console.log(index, item)\n",
    "})\n",
    "\n",
    "// Appending to array\n",
    "fruits.push('Watermelon')\n",
    "\n",
    "// Popping from array\n",
    "fruits.pop()\n",
    "\n",
    "// Removing n items from array starting at position i\n",
    "// splice(i, n)\n",
    "fruits.splice(1, 2)\n",
    "\n",
    "// Sorting array\n",
    "fruits.sort()\n",
    "\n",
    "console.log(fruits)"
   ]
  },
  {
   "cell_type": "markdown",
   "metadata": {},
   "source": [
    "### Object, Function, RegExp\n",
    "All these three have literal forms and there is no reason why you should be using the constructor form to create these objects."
   ]
  },
  {
   "cell_type": "code",
   "execution_count": 12,
   "metadata": {},
   "outputs": [],
   "source": [
    "// Literal forms\n",
    "var my_object = {\n",
    "    'name': 'Kuka'\n",
    "}\n",
    "\n",
    "var my_function = function(a){\n",
    "    return a*2\n",
    "}\n",
    "\n",
    "var my_regex = /^[A]/ // prefer this for performance reason"
   ]
  },
  {
   "cell_type": "code",
   "execution_count": 13,
   "metadata": {},
   "outputs": [
    {
     "name": "stderr",
     "output_type": "stream",
     "text": [
      "3:16 - Property 'name' does not exist on type 'Object'.\n"
     ]
    }
   ],
   "source": [
    "// Constructor form\n",
    "var another_object = new Object()\n",
    "another_object.name = 'Boston Dynamics'\n",
    "\n",
    "var another_function = new Function('a', 'return a*2')\n",
    "\n",
    "var another_regex = new RegExp('^[A]') // prefer this if you want to dynamically generate pattern"
   ]
  },
  {
   "cell_type": "markdown",
   "metadata": {},
   "source": [
    "### Date, Error\n",
    "Date and Error have no literal form and must be generated using constructor"
   ]
  },
  {
   "cell_type": "code",
   "execution_count": 14,
   "metadata": {},
   "outputs": [
    {
     "name": "stdout",
     "output_type": "stream",
     "text": [
      "Thu Aug 27 2020 14:53:41 GMT+0530 (India Standard Time)\n"
     ]
    }
   ],
   "source": [
    "var today = new Date()\n",
    "\n",
    "// If you don't use new, string representing the moment is returned\n",
    "console.log(Date())"
   ]
  },
  {
   "cell_type": "markdown",
   "metadata": {},
   "source": [
    "Error object can be created with or without the new keyword and contains information like error message and stack."
   ]
  },
  {
   "cell_type": "code",
   "execution_count": 16,
   "metadata": {},
   "outputs": [
    {
     "name": "stderr",
     "output_type": "stream",
     "text": [
      "evalmachine.<anonymous>:4\n",
      "        throw new Error('Division by zero attempted');\n",
      "        ^\n",
      "\n",
      "Error: Division by zero attempted\n",
      "    at divide (evalmachine.<anonymous>:4:15)\n",
      "    at evalmachine.<anonymous>:9:22\n",
      "    at evalmachine.<anonymous>:11:3\n",
      "    at sigintHandlersWrap (vm.js:288:15)\n",
      "    at Script.runInContext (vm.js:130:14)\n",
      "    at Object.runInContext (vm.js:311:6)\n",
      "    at Object.execute (C:\\Users\\salma\\AppData\\Roaming\\npm\\node_modules\\tslab\\dist\\executor.js:159:38)\n",
      "    at JupyterHandlerImpl.handleExecuteImpl (C:\\Users\\salma\\AppData\\Roaming\\npm\\node_modules\\tslab\\dist\\jupyter.js:206:38)\n",
      "    at count.execQueue.add (C:\\Users\\salma\\AppData\\Roaming\\npm\\node_modules\\tslab\\dist\\jupyter.js:164:57)\n"
     ]
    }
   ],
   "source": [
    "function divide(x, y){\n",
    "    if(y == 0){\n",
    "        throw new Error('Division by zero attempted')\n",
    "    }\n",
    "    \n",
    "    return x/y\n",
    "}\n",
    "\n",
    "divide(5, 0)"
   ]
  },
  {
   "cell_type": "code",
   "execution_count": null,
   "metadata": {},
   "outputs": [],
   "source": []
  }
 ],
 "metadata": {
  "kernelspec": {
   "display_name": "JavaScript",
   "language": "javascript",
   "name": "jslab"
  },
  "language_info": {
   "file_extension": ".js",
   "mimetype": "text/javascript",
   "name": "javascript",
   "version": ""
  }
 },
 "nbformat": 4,
 "nbformat_minor": 4
}
