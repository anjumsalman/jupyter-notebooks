{
 "cells": [
  {
   "cell_type": "markdown",
   "metadata": {},
   "source": [
    "### Primitive Types\n",
    "- undefined\n",
    "- string\n",
    "- number\n",
    "- boolean\n",
    "- object\n",
    "- symbol\n",
    "- null\n",
    "- bigint (future)\n",
    "\n",
    "In Javascript, variables don't have types, values do.  \n",
    "[typeof reference](https://developer.mozilla.org/en-US/docs/Web/JavaScript/Reference/Operators/typeof)"
   ]
  },
  {
   "cell_type": "code",
   "execution_count": 2,
   "metadata": {},
   "outputs": [
    {
     "name": "stdout",
     "output_type": "stream",
     "text": [
      "undefined\n",
      "string\n",
      "number\n",
      "boolean\n",
      "object\n",
      "symbol\n"
     ]
    }
   ],
   "source": [
    "var v;\n",
    "console.log(typeof v);\n",
    "v = \"1\";\n",
    "console.log(typeof v);\n",
    "v = 2;\n",
    "console.log(typeof v);\n",
    "v = true;\n",
    "console.log(typeof v);\n",
    "v = {};\n",
    "console.log(typeof v);\n",
    "v = Symbol();\n",
    "console.log(typeof v);"
   ]
  },
  {
   "cell_type": "code",
   "execution_count": 3,
   "metadata": {},
   "outputs": [
    {
     "name": "stdout",
     "output_type": "stream",
     "text": [
      "string\n"
     ]
    }
   ],
   "source": [
    "// typeof operator returns a string\n",
    "console.log(typeof (typeof 2));"
   ]
  },
  {
   "cell_type": "code",
   "execution_count": 4,
   "metadata": {},
   "outputs": [
    {
     "name": "stdout",
     "output_type": "stream",
     "text": [
      "object\n"
     ]
    }
   ],
   "source": [
    "// A quirk. Make sure to check that a variable is null when using typeof\n",
    "v = null;\n",
    "typeof v;"
   ]
  },
  {
   "cell_type": "code",
   "execution_count": 5,
   "metadata": {},
   "outputs": [
    {
     "name": "stdout",
     "output_type": "stream",
     "text": [
      "function\n"
     ]
    }
   ],
   "source": [
    "v = function(){};\n",
    "typeof v;"
   ]
  },
  {
   "cell_type": "code",
   "execution_count": 6,
   "metadata": {},
   "outputs": [
    {
     "name": "stdout",
     "output_type": "stream",
     "text": [
      "object\n"
     ]
    }
   ],
   "source": [
    "v = [1,2,3];\n",
    "typeof v;"
   ]
  },
  {
   "cell_type": "code",
   "execution_count": 7,
   "metadata": {},
   "outputs": [
    {
     "name": "stderr",
     "output_type": "stream",
     "text": [
      "1:5 - BigInt literals are not available when targeting lower than ESNext.\n"
     ]
    }
   ],
   "source": [
    "v = 42n;\n",
    "typeof v;"
   ]
  },
  {
   "cell_type": "code",
   "execution_count": 1,
   "metadata": {},
   "outputs": [
    {
     "name": "stderr",
     "output_type": "stream",
     "text": [
      "2:8 - Cannot find name 's'.\n"
     ]
    }
   ],
   "source": [
    "// typeof a non-existing variable returns 'undefined' rather than an error like identifier doesn't exist\n",
    "typeof s;"
   ]
  },
  {
   "cell_type": "markdown",
   "metadata": {},
   "source": [
    "The above observation can be handy when we have to check for existence of variables. For example, if we are using a variable called DEBUG to check if the debug mode is on in an application (DEBUG variable is part of some debug.js file, so essentially we are checking if debug.js was loaded or not), then"
   ]
  },
  {
   "cell_type": "code",
   "execution_count": null,
   "metadata": {},
   "outputs": [],
   "source": [
    "if(DEBUG){\n",
    "    // debug code, will lead to ReferenceError if DEBUG not available\n",
    "}\n",
    "\n",
    "// Correct way\n",
    "if(typeof DEBUG !== undefined){\n",
    "    // debug code\n",
    "}\n",
    "\n",
    "// Another way (only in context of browser)\n",
    "if(window.DEBUG){\n",
    "   // debug code \n",
    "}"
   ]
  },
  {
   "cell_type": "markdown",
   "metadata": {},
   "source": [
    "### Special Values\n",
    "**NaN**: NaN is a special value to indicate invalid number."
   ]
  },
  {
   "cell_type": "code",
   "execution_count": 9,
   "metadata": {},
   "outputs": [
    {
     "name": "stdout",
     "output_type": "stream",
     "text": [
      "\u001b[33mNaN\u001b[39m\n"
     ]
    }
   ],
   "source": [
    "var octalNumber = Number(\"0o46\");\n",
    "var age = Number(\"25\");\n",
    "var someValue = Number(\"n/a\");\n",
    "someValue;"
   ]
  },
  {
   "cell_type": "code",
   "execution_count": 11,
   "metadata": {},
   "outputs": [
    {
     "name": "stderr",
     "output_type": "stream",
     "text": [
      "1:27 - The right-hand side of an arithmetic operation must be of type 'any', 'number', 'bigint' or an enum type.\n"
     ]
    }
   ],
   "source": [
    "// Below expression also results in NaN\n",
    "octalNumber - \"string\";"
   ]
  },
  {
   "cell_type": "code",
   "execution_count": 14,
   "metadata": {},
   "outputs": [
    {
     "name": "stdout",
     "output_type": "stream",
     "text": [
      "\u001b[33mfalse\u001b[39m\n"
     ]
    }
   ],
   "source": [
    "someValue === NaN;"
   ]
  },
  {
   "cell_type": "markdown",
   "metadata": {},
   "source": [
    "There is a problem in the above expression. We can see that it means *NaN is not equal to itself*. It is infact the only Javascript value which is not equal to itself. So we need to determine if something is NaN. Using the below statement:"
   ]
  },
  {
   "cell_type": "code",
   "execution_count": null,
   "metadata": {},
   "outputs": [],
   "source": [
    "console.log(isNaN(octalNumber)); // true\n",
    "console.log(isNaN(\"a text\")); // also true, why? it is a string, right?\n",
    "                              // this is because isNaN function tries to covert\n",
    "                              // value passed to it to number"
   ]
  },
  {
   "cell_type": "markdown",
   "metadata": {},
   "source": [
    "A better way is to use `Number.isNaN` method introduced in ES6."
   ]
  },
  {
   "cell_type": "code",
   "execution_count": null,
   "metadata": {},
   "outputs": [],
   "source": [
    "console.log(Number.isNaN(someValue)); // true\n",
    "console.log(Number.isNaN(\"a text\")); // false"
   ]
  },
  {
   "cell_type": "code",
   "execution_count": 16,
   "metadata": {},
   "outputs": [
    {
     "name": "stdout",
     "output_type": "stream",
     "text": [
      "number\n"
     ]
    }
   ],
   "source": [
    "typeof NaN;"
   ]
  },
  {
   "cell_type": "markdown",
   "metadata": {},
   "source": [
    "**Negative Zero**: "
   ]
  },
  {
   "cell_type": "code",
   "execution_count": 17,
   "metadata": {},
   "outputs": [
    {
     "name": "stdout",
     "output_type": "stream",
     "text": [
      "\u001b[33mtrue\u001b[39m\n"
     ]
    }
   ],
   "source": [
    "var rate = -0;\n",
    "rate === -0;"
   ]
  },
  {
   "cell_type": "code",
   "execution_count": 18,
   "metadata": {},
   "outputs": [
    {
     "name": "stdout",
     "output_type": "stream",
     "text": [
      "0\n"
     ]
    }
   ],
   "source": [
    "rate.toString();"
   ]
  },
  {
   "cell_type": "code",
   "execution_count": 19,
   "metadata": {},
   "outputs": [
    {
     "name": "stdout",
     "output_type": "stream",
     "text": [
      "\u001b[33mtrue\u001b[39m\n"
     ]
    }
   ],
   "source": [
    "rate === 0;"
   ]
  },
  {
   "cell_type": "code",
   "execution_count": 20,
   "metadata": {},
   "outputs": [
    {
     "name": "stdout",
     "output_type": "stream",
     "text": [
      "\u001b[33mfalse\u001b[39m\n"
     ]
    }
   ],
   "source": [
    "rate < 0"
   ]
  },
  {
   "cell_type": "code",
   "execution_count": 21,
   "metadata": {},
   "outputs": [
    {
     "name": "stdout",
     "output_type": "stream",
     "text": [
      "\u001b[33m-1\u001b[39m\n",
      "\u001b[33m1\u001b[39m\n",
      "\u001b[33m-0\u001b[39m\n",
      "\u001b[33m0\u001b[39m\n"
     ]
    }
   ],
   "source": [
    "console.log(Math.sign(-3));\n",
    "console.log(Math.sign(3));\n",
    "console.log(Math.sign(-0)); // Wut!\n",
    "console.log(Math.sign(0));"
   ]
  },
  {
   "cell_type": "code",
   "execution_count": 23,
   "metadata": {},
   "outputs": [
    {
     "name": "stdout",
     "output_type": "stream",
     "text": [
      "→\n",
      "←\n",
      "←\n",
      "→\n"
     ]
    }
   ],
   "source": [
    "// One possible usage of negative zero is to indicate direction\n",
    "// even if the car is stopped\n",
    "function direction(velocity){\n",
    "    var direction = (velocity < 0 || Object.is(velocity,-0)) ? \"←\" : \"→\";\n",
    "    return direction;\n",
    "}\n",
    "\n",
    "console.log(direction(2))\n",
    "console.log(direction(-6))\n",
    "console.log(direction(-0))\n",
    "console.log(direction(0))"
   ]
  },
  {
   "cell_type": "markdown",
   "metadata": {},
   "source": [
    "`Implementation of Object.is(): As we know that NaN === NaN doesn't work and 0 === -0, we make use of Object.is() to make comparisons. Other than NaN and -0, it uses === to make comparisons.`"
   ]
  },
  {
   "cell_type": "code",
   "execution_count": 2,
   "metadata": {},
   "outputs": [
    {
     "name": "stdout",
     "output_type": "stream",
     "text": [
      "\u001b[36m[Function]\u001b[39m\n"
     ]
    }
   ],
   "source": [
    "Object.is = function(x, y){\n",
    "    // Check if both are negative zero\n",
    "    function isNegativeZero(a){\n",
    "        return a == 0 && (1/a) == -Infinity;\n",
    "    }\n",
    "    \n",
    "    // Function to check if it is NaN\n",
    "    function isNaN(a){\n",
    "        return a !== a;\n",
    "    }\n",
    "    \n",
    "    var xNZ = isNegativeZero(x); var yNZ = isNegativeZero(y);\n",
    "    \n",
    "    if(xNZ || yNZ){\n",
    "        return xNZ && yNZ;\n",
    "    } else if(isNaN(x) && isNaN(y)){\n",
    "        return true;\n",
    "    } else {\n",
    "        return x === y;\n",
    "    }\n",
    "}"
   ]
  },
  {
   "cell_type": "markdown",
   "metadata": {},
   "source": [
    "### Fundamental Objects\n",
    "Also known as *Built-In objects* or *Native Functions*. The below list of Fundamental Objects should be created using the new keyword:\n",
    "- Object()\n",
    "- Array()\n",
    "- Function()\n",
    "- Date()\n",
    "- RegExp()\n",
    "- Error()\n",
    "\n",
    "The next set of Fundamental Objects that can be created using new keyword, but better not use new keyword to create them:\n",
    "- String()\n",
    "- Number()\n",
    "- Boolean()"
   ]
  },
  {
   "cell_type": "code",
   "execution_count": 3,
   "metadata": {},
   "outputs": [
    {
     "name": "stdout",
     "output_type": "stream",
     "text": [
      "Thu, 28 Mar 2019 18:30:00 GMT\n"
     ]
    }
   ],
   "source": [
    "var today = new Date(\"March 29, 2019\");\n",
    "today.toUTCString();"
   ]
  },
  {
   "cell_type": "code",
   "execution_count": 4,
   "metadata": {},
   "outputs": [
    {
     "name": "stdout",
     "output_type": "stream",
     "text": [
      "San Francisco\n"
     ]
    }
   ],
   "source": [
    "var city = String(\"San Francisco\"); // this returns primitive string whereas new String() returns string object\n",
    "city;"
   ]
  },
  {
   "cell_type": "markdown",
   "metadata": {},
   "source": [
    "### Coercion\n",
    "Type conversion can be explicit, known as type casting or implicit, known as coercion. Coercion in JavaScript always leads to primitive types: string, number or boolean. Internally JavaScript uses either of the 4 functions ToString, ToNumber, ToBoolean or ToPrimitive to do coercion.\n",
    "\n",
    "**ToString**"
   ]
  },
  {
   "cell_type": "code",
   "execution_count": 14,
   "metadata": {},
   "outputs": [
    {
     "name": "stdout",
     "output_type": "stream",
     "text": [
      "20\n",
      "0\n",
      "23\n",
      "20.56\n",
      "NaN\n",
      "true\n",
      "null\n",
      "undefined\n"
     ]
    }
   ],
   "source": [
    "// Primitive types are directly converted to string\n",
    "console.log(20 + '') // becomes '20'\n",
    "console.log(-0 + '') // becomes '0'\n",
    "console.log(2 + '3') // becomes '23'\n",
    "console.log(20.56 + '') // becomes '20.56'\n",
    "console.log(NaN + '') // becomes 'NaN\n",
    "console.log('' + true) // becomes 'true'\n",
    "console.log('' + null) // becomes 'null'\n",
    "console.log(undefined + '') // becomes 'undefined'"
   ]
  },
  {
   "cell_type": "code",
   "execution_count": 30,
   "metadata": {},
   "outputs": [
    {
     "name": "stdout",
     "output_type": "stream",
     "text": [
      "[object Object]\n",
      "[object Object]\n",
      "2\n",
      "1,2,15\n",
      "\n",
      ",,12\n",
      "1,2,Hi,There\n"
     ]
    }
   ],
   "source": [
    "// In case of complex types, valueOf method is consulted first, \n",
    "// then toString. Unless the toString() method is overridden\n",
    "// Object.prototype.toString() is called\n",
    "var testObj = {\n",
    "    a: 5,\n",
    "    b: 'Hello there'\n",
    "}\n",
    "console.log(testObj + '')\n",
    "console.log(Object.prototype.toString.call(testObj))\n",
    "\n",
    "var testObj2 = {\n",
    "    a: 5,\n",
    "    b: 'Hello there',\n",
    "    toString: function(){\n",
    "        return 'a: ' + this.a + ' b: ' + this.b\n",
    "    }\n",
    "}\n",
    "console.log(testObj2 + '')\n",
    "\n",
    "// Array has its own toString implementation\n",
    "var numbers = [1, 2, 15]\n",
    "console.log(numbers + '') // becomes '1,2,15'\n",
    "\n",
    "var noNumbers = []  \n",
    "console.log(noNumbers + '') // becomes ''\n",
    "\n",
    "var arr = [null, undefined, 12]\n",
    "console.log(arr + '') // becomes ',,12', null and undefined are skipped\n",
    "\n",
    "var multi = [1, 2, ['Hi', 'There']]\n",
    "console.log(multi + '') // becomes 1,2,Hi,There the list is flattened\n",
    "\n",
    "// If both operands are objects, then also both get coerced to string\n",
    "[] + {} // [] -> '' and {} -> '[object Object]', so we get [object Object]'\n",
    "{} + [] // Here {} is treated as a block, not object. +[] -> +'' -> 0, so we get 0"
   ]
  },
  {
   "cell_type": "markdown",
   "metadata": {},
   "source": [
    "**ToNumber**"
   ]
  },
  {
   "cell_type": "code",
   "execution_count": null,
   "metadata": {},
   "outputs": [],
   "source": [
    "// For primitive types, we have more defined rules for coercion\n",
    "console.log(2 - false) // false is converted to 0, so we get 2\n",
    "console.log(2 - true) // false is converted to 1, so we get 1\n",
    "\n",
    "console.log(1 + null) // null is converted to 0, so we get 1\n",
    "console.log(1 + undefined) // undefined is converted to NaN, so we get NaN\n",
    "\n",
    "console.log(5 - '2') // '2' is converted to 2, so we get 3\n",
    "console.log(5 - '2d') // '2d' is converted to NaN, so we get NaN\n",
    "console.log(5 - '') // '' is converted to 0, so we get 5\n",
    "console.log(5 - '    ') // '    ' is converted to 0, so we get 5\n",
    "\n",
    "console.log(2 - 'Infinity') // 'Infinity' is converted to Infinity, so we get -Infinity\n",
    "\n",
    "console.log(5 - '02') // '02' is not treated as octal\n",
    "console.log(5 - '0o12') // '0o12' is converted to octal, so we get -5\n",
    "console.log(5 - '0x25') // '0o12' is converted to hexadecimal, so we get -32'\n",
    "\n",
    "console.log('-0' * 0) // '-0' is converted to -0, so we get -0"
   ]
  },
  {
   "cell_type": "code",
   "execution_count": null,
   "metadata": {},
   "outputs": [],
   "source": [
    "// In case of primitives, the valueOf method is first checked and then toString\n",
    "// Then whatever is returned by these two gets converted to number\n",
    "var numObj = {\n",
    "    a: '5',\n",
    "    b: 'Some value'\n",
    "}\n",
    "console.log(5 - numObj) // numObj is converted to string [object Object]\n",
    "                        // 5 - '[object Object]' we get NaN\n",
    "\n",
    "var objWithVal = {\n",
    "    a: 25,\n",
    "    valueOf: function(){\n",
    "        return this.a\n",
    "    }\n",
    "}\n",
    "console.log(5 - objWithVal) // objWithVal is converted to 25, so we get -20\n",
    "\n",
    "// If we use arrays, the toString output is converted to Number\n",
    "console.log(5 + []) // [] -> '' -> 0, so we get 5\n",
    "console.log(5 + [1,2,3]) // [1,2,3] -> '1,2,3' -> NaN, so we get NaN\n",
    "console.log(5 + [[]]) // [[]] -> '' -> 0, so we get 5"
   ]
  },
  {
   "cell_type": "markdown",
   "metadata": {},
   "source": [
    "**ToBoolean**"
   ]
  },
  {
   "cell_type": "code",
   "execution_count": 24,
   "metadata": {},
   "outputs": [
    {
     "name": "stdout",
     "output_type": "stream",
     "text": [
      "Empty string is false\n",
      "0 is false\n",
      "-0 is false\n",
      "null is false\n",
      "undefined is false\n",
      "NaN is false\n",
      "Empty array is true\n",
      "Whitespace is true\n",
      "Empty object is true\n",
      "Any non-empty string is true\n",
      "Boolean object is true\n"
     ]
    }
   ],
   "source": [
    "// For ToBoolean we have an exact set of items that turns false\n",
    "if(!'')\n",
    "    console.log('Empty string is false')\n",
    "\n",
    "if(!0)\n",
    "    console.log('0 is false')\n",
    "\n",
    "if(!-0)\n",
    "    console.log('-0 is false')\n",
    "\n",
    "if(!null)\n",
    "    console.log('null is false')\n",
    "\n",
    "if(!undefined)\n",
    "    console.log('undefined is false')\n",
    "\n",
    "if(!NaN)\n",
    "    console.log('NaN is false')\n",
    "\n",
    "// Anything other than the above list is true\n",
    "if([])\n",
    "    console.log('Empty array is true')\n",
    "\n",
    "if('  ')\n",
    "    console.log('Whitespace is true')\n",
    "\n",
    "if({})\n",
    "    console.log('Empty object is true')\n",
    "\n",
    "if('false')\n",
    "    console.log('Any non-empty string is true')\n",
    "\n",
    "if(new Boolean(false))\n",
    "    console.log('Boolean object is true')"
   ]
  },
  {
   "cell_type": "markdown",
   "metadata": {},
   "source": [
    "One crazy addition to falsy values is `document.all`. It was a way to detect old non-standards compliant IE browser (where it evaluates to true). This behaviour is not part of JavaScript and has been added by browser vendors."
   ]
  },
  {
   "cell_type": "code",
   "execution_count": null,
   "metadata": {},
   "outputs": [],
   "source": [
    "if(document.all)\n",
    "    console.log('Browser is IE')"
   ]
  },
  {
   "cell_type": "markdown",
   "metadata": {},
   "source": [
    "**Type Casting** explicitly converting types is rather common and therefore we have multiple ways to do so"
   ]
  },
  {
   "cell_type": "code",
   "execution_count": null,
   "metadata": {},
   "outputs": [],
   "source": [
    "// Converting string to number\n",
    "Number('2.56') // Using Number function\n",
    "+'0.85' // Using unary + operator\n",
    "\n",
    "// Number to string\n",
    "String(0xff) // directly calls toString, doesn't look for valueOf\n",
    "521..toString()"
   ]
  },
  {
   "cell_type": "markdown",
   "metadata": {},
   "source": [
    "The unary + operator also works on Date and converts it into Unix Epoch"
   ]
  },
  {
   "cell_type": "code",
   "execution_count": 27,
   "metadata": {},
   "outputs": [
    {
     "name": "stdout",
     "output_type": "stream",
     "text": [
      "\u001b[33m1598597850915\u001b[39m\n",
      "\u001b[33mNaN\u001b[39m\n"
     ]
    }
   ],
   "source": [
    "console.log(+new Date) // If constructor accepts no argument then we can remove () if used alongwith new keyword\n",
    "console.log(+Date())"
   ]
  },
  {
   "cell_type": "markdown",
   "metadata": {},
   "source": [
    "We have two other functions which help in converting string to numbers, `parseInt` and `parseFloat`. These accept a string and convert it to number. If we pass a non-string, it implicitly gets converted to string."
   ]
  },
  {
   "cell_type": "code",
   "execution_count": null,
   "metadata": {},
   "outputs": [],
   "source": [
    "parseInt('24px') // 24, notice that non-number part to the right is removed\n",
    "parseInt(false) // false -> 'false' -> NaN\n",
    "parseFloat([]) // [] -> '' -> NaN\n",
    "parseInt('NaN') // NaN\n",
    "parseInt('-Infinity') // NaN, because Infinity is not with integer range in JavaScript\n",
    "parseFloat('Infinity') // Infinity\n",
    "\n",
    "parseInt(0.008) // 0\n",
    "parseInt(0.0000008) // 8, 0.0000008 is '8e-7' -> 8\n",
    "\n",
    "// parseInt also accepts base as second argument\n",
    "parseInt(false, 16) // 250, false -> 'false' -> 0xfa -> 250"
   ]
  },
  {
   "cell_type": "markdown",
   "metadata": {},
   "source": [
    "We can also convert a non boolean to boolean using `Boolean` function. However we also have an operator to do that explicit conversion (like we had unary +). The `!` operator does explicit casting, but it reverses the value. So we generally use `!!`"
   ]
  },
  {
   "cell_type": "code",
   "execution_count": null,
   "metadata": {},
   "outputs": [],
   "source": [
    "var a = \"0\";\n",
    "var b = [];\n",
    "var c = {};\n",
    "\n",
    "var d = \"\";\n",
    "var e = 0;\n",
    "var f = null;\n",
    "var g;\n",
    "\n",
    "!!a; // true\n",
    "!!b; // true\n",
    "!!c; // true\n",
    "\n",
    "!!d; // false\n",
    "!!e; // false\n",
    "!!f; // false\n",
    "!!g; // false"
   ]
  },
  {
   "cell_type": "markdown",
   "metadata": {},
   "source": [
    "**|| and && Operator** these two operators don't actually result in a logic value (aka boolean) in JavaScript, as they do in some other languages. The value produced will always be the value of one of the two operand expressions."
   ]
  },
  {
   "cell_type": "code",
   "execution_count": null,
   "metadata": {},
   "outputs": [],
   "source": [
    "var a = 42;\n",
    "var b = \"abc\";\n",
    "var c = null;\n",
    "\n",
    "a || b; // 42\n",
    "a && b; // \"abc\"\n",
    "\n",
    "c || b; // \"abc\"\n",
    "c && b; // null"
   ]
  },
  {
   "cell_type": "markdown",
   "metadata": {},
   "source": [
    "We can thus say that\n",
    "- `a || b` is roughly equal to `a ? a : b`\n",
    "- `a && b` is roughly equal to `a ? b : a`"
   ]
  },
  {
   "cell_type": "markdown",
   "metadata": {},
   "source": [
    "Therefore many times we see expressions like"
   ]
  },
  {
   "cell_type": "code",
   "execution_count": null,
   "metadata": {},
   "outputs": [],
   "source": [
    "a = a || 'Default' // use a if it is truthy, else use 'Default'"
   ]
  },
  {
   "cell_type": "markdown",
   "metadata": {},
   "source": [
    "We can see implicit coercion at work here. Both the operands are implicitly converted to boolean to determine the outcome."
   ]
  },
  {
   "cell_type": "markdown",
   "metadata": {},
   "source": [
    "### Equality\n",
    "The difference between the two operator can be summed up as \"If you want coercion, use == loose equality, but if you don't want coercion, use === strict equality\". Both == and === check the types of their operands. The difference is in how they respond if the types don't match.\n",
    "\n",
    "**Comparing String and Number**\n",
    "The string operand is converted to number using ToNumber"
   ]
  },
  {
   "cell_type": "code",
   "execution_count": null,
   "metadata": {},
   "outputs": [],
   "source": [
    "console.log(12 == '12') // '42' is converted to 42, true\n",
    "console.log(12 === '12') // false"
   ]
  },
  {
   "cell_type": "markdown",
   "metadata": {},
   "source": [
    "**Comparing Boolean and Number** Boolean operand is converted to number using ToNumber"
   ]
  },
  {
   "cell_type": "code",
   "execution_count": null,
   "metadata": {},
   "outputs": [],
   "source": [
    "console.log(false == 12) // false -> 0, 0 == 12, false\n",
    "console.log(false == 0) // true\n",
    "console.log(true == 1) // true"
   ]
  },
  {
   "cell_type": "markdown",
   "metadata": {},
   "source": [
    "**Comparing String and Boolean** Both operands are converted to number using ToNumber"
   ]
  },
  {
   "cell_type": "code",
   "execution_count": null,
   "metadata": {},
   "outputs": [],
   "source": [
    "console.log('42' == true) // '42' -> 42 and true -> 1, so we get false"
   ]
  },
  {
   "cell_type": "markdown",
   "metadata": {},
   "source": [
    "**Comparing null and undefined** "
   ]
  },
  {
   "cell_type": "code",
   "execution_count": 3,
   "metadata": {},
   "outputs": [
    {
     "name": "stdout",
     "output_type": "stream",
     "text": [
      "\u001b[33mtrue\u001b[39m\n",
      "\u001b[33mfalse\u001b[39m\n"
     ]
    }
   ],
   "source": [
    "console.log(null == undefined)\n",
    "console.log(null === undefined)"
   ]
  },
  {
   "cell_type": "code",
   "execution_count": null,
   "metadata": {},
   "outputs": [],
   "source": [
    "var m = something()\n",
    "\n",
    "if(m == null){\n",
    "    // Control will come here only if\n",
    "    // something returns null or undefined\n",
    "}"
   ]
  },
  {
   "cell_type": "markdown",
   "metadata": {},
   "source": [
    "**Comparison with Objects** If one of the operand is primitive *(only string or number)*, then the object operand is converted to that primitive. Else if both operands are objects then == operator results in false.  \n",
    "In case one operand is primitive boolean and the other is object, the boolean is first converted to number."
   ]
  },
  {
   "cell_type": "code",
   "execution_count": null,
   "metadata": {},
   "outputs": [],
   "source": [
    "[32] == 32 // [32] -> '32' -> 32, so we get true here\n",
    "[32] == [32] // false\n",
    "\n",
    "[] == false // false -> 0, [] -> '' -> 0, so we get true"
   ]
  },
  {
   "cell_type": "markdown",
   "metadata": {},
   "source": [
    "**More Examples**"
   ]
  },
  {
   "cell_type": "code",
   "execution_count": null,
   "metadata": {},
   "outputs": [],
   "source": [
    "\"0\" == null;     // false\n",
    "\"0\" == undefined;// false\n",
    "\"0\" == false;    // true\n",
    "\"0\" == NaN;      // false\n",
    "\"0\" == 0;        // true\n",
    "\"0\" == \"\";       // false\n",
    "\n",
    "false == null;   // false\n",
    "false == undefined; // false\n",
    "false == NaN;    // false\n",
    "false == 0;\t     // true\n",
    "false == \"\";     // true\n",
    "false == [];     // true\n",
    "false == {};     // false\n",
    "\n",
    "\"\" == null;      // false\n",
    "\"\" == undefined; // false\n",
    "\"\" == NaN;       // false\n",
    "\"\" == 0;         // true\n",
    "\"\" == [];        // true\n",
    "\"\" == {};        // false\n",
    "\n",
    "0 == null;       // false\n",
    "0 == undefined;  // false\n",
    "0 == NaN;        // false\n",
    "0 == [];         // true\n",
    "0 == {};         // false\n",
    "\n",
    "[] == ![] // ! converts the expression ![] to boolean ![] -> false\n",
    "          // [] == false so the original expression [] == ![] is true"
   ]
  }
 ],
 "metadata": {
  "kernelspec": {
   "display_name": "JavaScript",
   "language": "javascript",
   "name": "jslab"
  },
  "language_info": {
   "file_extension": ".js",
   "mimetype": "text/javascript",
   "name": "javascript",
   "version": ""
  }
 },
 "nbformat": 4,
 "nbformat_minor": 4
}
