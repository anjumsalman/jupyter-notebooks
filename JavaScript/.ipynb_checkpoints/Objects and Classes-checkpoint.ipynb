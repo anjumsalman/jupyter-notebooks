{
 "cells": [
  {
   "cell_type": "markdown",
   "metadata": {},
   "source": [
    "### this\n",
    "The `this` keyword is one of the most confusing part of JavaScript. Some examples below to help us understand the confusion"
   ]
  },
  {
   "cell_type": "code",
   "execution_count": 1,
   "metadata": {},
   "outputs": [
    {
     "name": "stdout",
     "output_type": "stream",
     "text": [
      "\u001b[33m0\u001b[39m\n"
     ]
    }
   ],
   "source": [
    "function myCounter(){\n",
    "    this.count++;\n",
    "}\n",
    "\n",
    "myCounter.count = 0;\n",
    "\n",
    "for(let i = 0; i < 5; i++){\n",
    "    myCounter();\n",
    "}\n",
    "\n",
    "console.log(myCounter.count)"
   ]
  },
  {
   "cell_type": "markdown",
   "metadata": {},
   "source": [
    "In the above example, this refers to the global object, which in case of browsers is the window object.  \n",
    "\n",
    "The important thing to remember while trying to understand what `this` refers to is to observe the *call-site* rather than the declaration site. We look at the 4 rules which will help us understand the use of `this`.  \n",
    "\n",
    "**Default Binding:** `this` refers to the global object"
   ]
  },
  {
   "cell_type": "code",
   "execution_count": 3,
   "metadata": {},
   "outputs": [
    {
     "name": "stdout",
     "output_type": "stream",
     "text": [
      "\u001b[33m20\u001b[39m\n"
     ]
    }
   ],
   "source": [
    "function foo(){\n",
    "    console.log(this.a)\n",
    "}\n",
    "\n",
    "var a = 20; // let does not create property on window object\n",
    "            // If we used let, we would get undefined\n",
    "\n",
    "foo()"
   ]
  },
  {
   "cell_type": "markdown",
   "metadata": {},
   "source": [
    "**Implicit Binding:** comes into effect when we call the function in the manner `<object>.<function>()`. In this case, `this` refers to the owning or containing object."
   ]
  },
  {
   "cell_type": "code",
   "execution_count": 4,
   "metadata": {},
   "outputs": [
    {
     "name": "stdout",
     "output_type": "stream",
     "text": [
      "\u001b[33m25\u001b[39m\n"
     ]
    }
   ],
   "source": [
    "function foo(){\n",
    "    console.log(this.a)\n",
    "}\n",
    "\n",
    "var obj = {\n",
    "    foo: foo,\n",
    "    a: 25\n",
    "}\n",
    "\n",
    "obj.foo()"
   ]
  },
  {
   "cell_type": "markdown",
   "metadata": {},
   "source": [
    "But we have to be careful in our usage"
   ]
  },
  {
   "cell_type": "code",
   "execution_count": 5,
   "metadata": {},
   "outputs": [
    {
     "name": "stdout",
     "output_type": "stream",
     "text": [
      "From outside\n"
     ]
    }
   ],
   "source": [
    "var anotherObj = {\n",
    "    foo: function(){\n",
    "        console.log(this.a)\n",
    "    },\n",
    "    \n",
    "    a: 'From anotherObj'\n",
    "}\n",
    "\n",
    "var bar = anotherObj.foo // just a reference assignment\n",
    "var a = 'From outside'\n",
    "\n",
    "bar() // Notice how bar is being called, default binding in effect"
   ]
  },
  {
   "cell_type": "markdown",
   "metadata": {},
   "source": [
    "**Explicit Binding:** using function methods like `call()` and `apply()` we can explicitly state which object `this` should refer to"
   ]
  },
  {
   "cell_type": "code",
   "execution_count": 7,
   "metadata": {},
   "outputs": [
    {
     "name": "stdout",
     "output_type": "stream",
     "text": [
      "\u001b[33mtrue\u001b[39m\n"
     ]
    }
   ],
   "source": [
    "function foo(){\n",
    "    console.log(this.a)\n",
    "}\n",
    "\n",
    "var obj = {\n",
    "    a: true\n",
    "}\n",
    "\n",
    "foo.call(obj)"
   ]
  },
  {
   "cell_type": "markdown",
   "metadata": {},
   "source": [
    "Call and apply are the same except for how we pass function's argument. We can understand the difference if we look at the syntax:  \n",
    "\n",
    "*call:* `func.call([thisArg[, arg1, arg2, ...argN]])`  \n",
    "*apply:* `func.apply(thisArg, [ argsArray])`  \n",
    "\n",
    "If we pass null or undefined as the first argument, in browsers it is assumed to be the global object."
   ]
  },
  {
   "cell_type": "markdown",
   "metadata": {},
   "source": [
    "**Hard Binding:**"
   ]
  },
  {
   "cell_type": "code",
   "execution_count": null,
   "metadata": {},
   "outputs": [],
   "source": [
    "function foo(){\n",
    "    console.log(this.a)\n",
    "}\n",
    "\n",
    "var obj = {\n",
    "    a: 3.14\n",
    "}\n",
    "\n",
    "function bar(){\n",
    "    foo.call(obj)\n",
    "}\n",
    "\n",
    "bar.call(window) // returns 3.14"
   ]
  },
  {
   "cell_type": "markdown",
   "metadata": {},
   "source": [
    "In the above example, we have hard bound function foo to obj by creating a new function bar. A more formal way to achieve this is:"
   ]
  },
  {
   "cell_type": "code",
   "execution_count": null,
   "metadata": {},
   "outputs": [],
   "source": [
    "function bind(fn, obj){\n",
    "    return function(){\n",
    "        return fn.call(obj, arguments)\n",
    "    }\n",
    "}\n",
    "\n",
    "function foo(){\n",
    "    console.log(this.a)\n",
    "}\n",
    "\n",
    "var obj = {\n",
    "    a: 3.14\n",
    "}\n",
    "\n",
    "foo = bind(foo, obj)\n",
    "foo() // 3.14"
   ]
  },
  {
   "cell_type": "markdown",
   "metadata": {},
   "source": [
    "JavaScript already provides such a utility in form of `bind()` method."
   ]
  },
  {
   "cell_type": "code",
   "execution_count": 10,
   "metadata": {},
   "outputs": [
    {
     "name": "stdout",
     "output_type": "stream",
     "text": [
      "\u001b[33m777\u001b[39m\n"
     ]
    }
   ],
   "source": [
    "function foo(){\n",
    "    console.log(this.a)\n",
    "}\n",
    "\n",
    "var obj = {\n",
    "    a: 777\n",
    "}\n",
    "\n",
    "var a = 888\n",
    "foo.bind(obj)()"
   ]
  },
  {
   "cell_type": "markdown",
   "metadata": {},
   "source": [
    "**`new` Binding:** when we call a constructor function with new keyword, a number of steps occur, most importantly a new object is created and the newly constructed object is set as the this binding for that function call."
   ]
  },
  {
   "cell_type": "code",
   "execution_count": 11,
   "metadata": {},
   "outputs": [
    {
     "name": "stdout",
     "output_type": "stream",
     "text": [
      "\u001b[33m2\u001b[39m\n"
     ]
    }
   ],
   "source": [
    "function foo(a) {\n",
    "    this.a = a;\n",
    "}\n",
    "\n",
    "var obj = new foo(2)\n",
    "console.log(obj.a)"
   ]
  },
  {
   "cell_type": "markdown",
   "metadata": {},
   "source": [
    "**Conflicting Rules:** What if mutiple rules apply at the call site? The precedence is:  \n",
    "*New Binding* > *Explicit Binding* > *Implicit Binding* > *Default Binding*"
   ]
  },
  {
   "cell_type": "code",
   "execution_count": 12,
   "metadata": {},
   "outputs": [
    {
     "name": "stdout",
     "output_type": "stream",
     "text": [
      "\u001b[33m200\u001b[39m\n",
      "\u001b[33m500\u001b[39m\n"
     ]
    }
   ],
   "source": [
    "// Explicit vs Implicit binding\n",
    "function foo(){\n",
    "    console.log(this.a)\n",
    "}\n",
    "\n",
    "var obj1 = {\n",
    "    a: 500,\n",
    "    foo: foo\n",
    "}\n",
    "var obj2 = {\n",
    "    a: 200,\n",
    "    foo: foo\n",
    "}\n",
    "\n",
    "obj1.foo.call(obj2)\n",
    "obj2.foo.call(obj1)"
   ]
  },
  {
   "cell_type": "code",
   "execution_count": 13,
   "metadata": {},
   "outputs": [
    {
     "name": "stdout",
     "output_type": "stream",
     "text": [
      "\u001b[33m25\u001b[39m\n",
      "\u001b[33m15\u001b[39m\n"
     ]
    }
   ],
   "source": [
    "// New vs Implicit binding\n",
    "function foo(val){\n",
    "    this.a = val\n",
    "}\n",
    "\n",
    "var obj = {\n",
    "    a: 15,\n",
    "    foo: foo\n",
    "}\n",
    "\n",
    "var bar = new obj.foo(25)\n",
    "\n",
    "console.log(bar.a)\n",
    "console.log(obj.a)"
   ]
  },
  {
   "cell_type": "markdown",
   "metadata": {},
   "source": [
    "new keyword cannot be used together with call or apply. "
   ]
  },
  {
   "cell_type": "code",
   "execution_count": 14,
   "metadata": {},
   "outputs": [
    {
     "name": "stdout",
     "output_type": "stream",
     "text": [
      "\u001b[33m51\u001b[39m\n",
      "\u001b[33m15\u001b[39m\n"
     ]
    }
   ],
   "source": [
    "// New vs hard binding\n",
    "function foo(val){\n",
    "    this.a = val\n",
    "}\n",
    "\n",
    "var obj = {\n",
    "    a: 15\n",
    "}\n",
    "\n",
    "var bar = foo.bind(obj)\n",
    "\n",
    "var baz = new bar(51)\n",
    "\n",
    "console.log(baz.a)\n",
    "console.log(obj.a)"
   ]
  },
  {
   "cell_type": "markdown",
   "metadata": {},
   "source": [
    "Note that we wouldn't get the same result if we used the bind function we created. ES5's bind function does some extra work behind the scenes."
   ]
  },
  {
   "cell_type": "markdown",
   "metadata": {},
   "source": [
    "**Arrow function and this:** arrow functions do not obey the above defined rules. Instead they rely on lexical scope in which they were defined. For example:"
   ]
  },
  {
   "cell_type": "code",
   "execution_count": 18,
   "metadata": {},
   "outputs": [
    {
     "name": "stdout",
     "output_type": "stream",
     "text": [
      "Inside object\n",
      "Global a\n"
     ]
    }
   ],
   "source": [
    "var a = 'Global a'\n",
    "\n",
    "function foo(){\n",
    "    var a = 'Inside function'\n",
    "    \n",
    "    setTimeout(()=>{\n",
    "        console.log(this.a) // A is inherited from the foo function scope\n",
    "    }, 100)\n",
    "}\n",
    "\n",
    "var obj = {\n",
    "    a: 'Inside object'\n",
    "}\n",
    "\n",
    "foo.call(obj)\n",
    "foo()"
   ]
  },
  {
   "cell_type": "markdown",
   "metadata": {},
   "source": [
    "In essence the above code snippet is equivalent to:"
   ]
  },
  {
   "cell_type": "code",
   "execution_count": null,
   "metadata": {},
   "outputs": [],
   "source": [
    "function foo(){\n",
    "    var a = 'Inside function'\n",
    "    \n",
    "    var self = this\n",
    "    setTimeout(function(){\n",
    "        console.log(self.a) // A is inherited from the foo function scope\n",
    "    }, 100)\n",
    "}"
   ]
  },
  {
   "cell_type": "markdown",
   "metadata": {},
   "source": [
    "A good example illustrating the difference is event listener callback"
   ]
  },
  {
   "cell_type": "code",
   "execution_count": null,
   "metadata": {},
   "outputs": [],
   "source": [
    "var button = document.getElementById('testButton')\n",
    "\n",
    "// In this case \"this\" refers to the button object\n",
    "button.addEventListener('click', function(event){\n",
    "    this.innerHTML = this.innerHTML.toUpperCase()\n",
    "})"
   ]
  },
  {
   "cell_type": "code",
   "execution_count": null,
   "metadata": {},
   "outputs": [],
   "source": [
    "var button = document.getElementById('testButton')\n",
    "\n",
    "var innerHTML = 'Global Context'\n",
    "\n",
    "// In this case \"this\" refers to the global object\n",
    "// So on clicking the button innerHTML variable will get capitalised\n",
    "button.addEventListener('click', (event) => {\n",
    "    this.innerHTML = this.innerHTML.toUpperCase()\n",
    "})"
   ]
  },
  {
   "cell_type": "markdown",
   "metadata": {},
   "source": [
    "### Objects\n",
    "To create an object we can use either the object literal syntax or the Object function."
   ]
  },
  {
   "cell_type": "markdown",
   "metadata": {},
   "source": [
    "// Literal syntax\n",
    "var anObject = {\n",
    "    property1: 'Value1'\n",
    "}\n",
    "\n",
    "// Using constructor\n",
    "var anotherObject = new Object()\n",
    "anotherObject.property1 = 'Value1'"
   ]
  },
  {
   "cell_type": "markdown",
   "metadata": {},
   "source": [
    "To access a property we can use the dot notation or square brackets. Property names are always string."
   ]
  },
  {
   "cell_type": "code",
   "execution_count": null,
   "metadata": {},
   "outputs": [],
   "source": [
    "// Dot notation\n",
    "anObject.property1\n",
    "\n",
    "// Square bracket notation\n",
    "anotherObject['Some Property !'] = 'Some Value !'\n",
    "\n",
    "// Property names must be string, if not, they are coerced to String\n",
    "anotherObject[4] = 'Non-string property name'\n",
    "console.log(anotherObject['4']) // 'Non-string property name'"
   ]
  },
  {
   "cell_type": "markdown",
   "metadata": {},
   "source": [
    "**Property Descriptors:** each property of an object has a set of properties associated with it. The following code illustrates the point"
   ]
  },
  {
   "cell_type": "code",
   "execution_count": 23,
   "metadata": {},
   "outputs": [
    {
     "name": "stdout",
     "output_type": "stream",
     "text": [
      "{ value: \u001b[32m'Some value'\u001b[39m,\n",
      "  writable: \u001b[33mtrue\u001b[39m,\n",
      "  enumerable: \u001b[33mtrue\u001b[39m,\n",
      "  configurable: \u001b[33mtrue\u001b[39m }\n"
     ]
    }
   ],
   "source": [
    "var obj = {\n",
    "    a: 'Some value'\n",
    "}\n",
    "\n",
    "Object.getOwnPropertyDescriptor(obj, 'a')"
   ]
  },
  {
   "cell_type": "markdown",
   "metadata": {},
   "source": [
    "*Writable:* set it to false to prevent updating its value"
   ]
  },
  {
   "cell_type": "code",
   "execution_count": 25,
   "metadata": {},
   "outputs": [
    {
     "name": "stderr",
     "output_type": "stream",
     "text": [
      "8:5 - Cannot assign to 'a' because it is a read-only property.\n"
     ]
    }
   ],
   "source": [
    "var obj = {}\n",
    "\n",
    "Object.defineProperty(obj, 'a', {\n",
    "    value: 'Can\\'t update',\n",
    "    writable: false\n",
    "})\n",
    "\n",
    "obj.a = 'Can update' // fails silently. TypeError in case of strict mode"
   ]
  },
  {
   "cell_type": "markdown",
   "metadata": {},
   "source": [
    "*Configurable:* set it to false to prevent changes to the property descriptor"
   ]
  },
  {
   "cell_type": "code",
   "execution_count": 26,
   "metadata": {},
   "outputs": [
    {
     "name": "stderr",
     "output_type": "stream",
     "text": [
      "evalmachine.<anonymous>:9\n",
      "exports.tsLastExpr = Object.defineProperty(obj, 'a', {\n",
      "                            ^\n",
      "\n",
      "TypeError: Cannot redefine property: a\n",
      "    at Function.defineProperty (<anonymous>)\n",
      "    at evalmachine.<anonymous>:9:29\n",
      "    at evalmachine.<anonymous>:13:3\n",
      "    at sigintHandlersWrap (vm.js:288:15)\n",
      "    at Script.runInContext (vm.js:130:14)\n",
      "    at Object.runInContext (vm.js:311:6)\n",
      "    at Object.execute (C:\\Users\\salma\\AppData\\Roaming\\npm\\node_modules\\tslab\\dist\\executor.js:159:38)\n",
      "    at JupyterHandlerImpl.handleExecuteImpl (C:\\Users\\salma\\AppData\\Roaming\\npm\\node_modules\\tslab\\dist\\jupyter.js:206:38)\n",
      "    at count.execQueue.add (C:\\Users\\salma\\AppData\\Roaming\\npm\\node_modules\\tslab\\dist\\jupyter.js:164:57)\n"
     ]
    }
   ],
   "source": [
    "var obj = {}\n",
    "\n",
    "Object.defineProperty(obj, 'a', {\n",
    "    value: 'Can\\'t update',\n",
    "    writable: false,\n",
    "    configurable: false // One way action, can't be reversed\n",
    "})\n",
    "\n",
    "// TypeError regardless of strict mode\n",
    "Object.defineProperty(obj, 'a', {\n",
    "    writable: true\n",
    "})"
   ]
  },
  {
   "cell_type": "markdown",
   "metadata": {},
   "source": [
    "Even after setting configurable to false, we can change writable to false (though we can't do the reverse).  \n",
    "\n",
    "*Enumerable:* setting this to false prevents the property to show up in `for...in` loop"
   ]
  },
  {
   "cell_type": "code",
   "execution_count": 30,
   "metadata": {},
   "outputs": [
    {
     "name": "stdout",
     "output_type": "stream",
     "text": [
      "Property a has value 1\n",
      "Property c has value 3\n",
      "[ \u001b[32m'a'\u001b[39m, \u001b[32m'c'\u001b[39m ]\n",
      "[ \u001b[32m'a'\u001b[39m, \u001b[32m'b'\u001b[39m, \u001b[32m'c'\u001b[39m ]\n"
     ]
    }
   ],
   "source": [
    "var obj = {}\n",
    "\n",
    "Object.defineProperty(obj, 'a', {\n",
    "    value: 1,\n",
    "    enumerable: true\n",
    "})\n",
    "\n",
    "Object.defineProperty(obj, 'b', {\n",
    "    value: 2,\n",
    "    enumerable: false\n",
    "})\n",
    "\n",
    "Object.defineProperty(obj, 'c', {\n",
    "    value: 3,\n",
    "    enumerable: true\n",
    "})\n",
    "\n",
    "// Looping over all properties\n",
    "for(var k in obj){\n",
    "    console.log('Property ' + k + ' has value ' + obj[k])\n",
    "}\n",
    "\n",
    "console.log(Object.keys(obj))\n",
    "console.log(Object.getOwnPropertyNames(obj))"
   ]
  },
  {
   "cell_type": "markdown",
   "metadata": {},
   "source": [
    "**Immutability:** by combining configurable as false and writable as false, we can make an *object constant*. We can also prevent an object from being extended (more properties being added) by:"
   ]
  },
  {
   "cell_type": "code",
   "execution_count": 32,
   "metadata": {},
   "outputs": [],
   "source": [
    "var obj = {\n",
    "    a: 1\n",
    "}\n",
    "\n",
    "Object.preventExtensions(obj)\n",
    "\n",
    "obj.b = 2\n",
    "obj.b // undefined"
   ]
  },
  {
   "cell_type": "markdown",
   "metadata": {},
   "source": [
    "There are convenience methods to add various degrees of immutability to an object using `Object.seal` and `Object.freeze`."
   ]
  },
  {
   "cell_type": "markdown",
   "metadata": {},
   "source": [
    "**Getters and Setters:** whenever we access an object's property, internally a function call `[[Get]]()` occurs. And whenever we set a property, `[[Put]]()` is executed."
   ]
  },
  {
   "cell_type": "code",
   "execution_count": 35,
   "metadata": {},
   "outputs": [
    {
     "name": "stdout",
     "output_type": "stream",
     "text": [
      "\u001b[33m25\u001b[39m\n"
     ]
    }
   ],
   "source": [
    "var myObject = {\n",
    "    get a(){\n",
    "        return this._a_ // _a_ is the actual property holding the value\n",
    "    },\n",
    "    \n",
    "    set a(value){\n",
    "        this._a_ = value * value\n",
    "    }\n",
    "}\n",
    "\n",
    "myObject.a = 5\n",
    "\n",
    "console.log(myObject.a)"
   ]
  },
  {
   "cell_type": "markdown",
   "metadata": {},
   "source": [
    "Another way is to use `defineProperty`"
   ]
  },
  {
   "cell_type": "code",
   "execution_count": null,
   "metadata": {},
   "outputs": [],
   "source": [
    "Object.defineProperty(myObject, 'PI', {\n",
    "    get: function(){\n",
    "        return 3.14\n",
    "    },\n",
    "    \n",
    "    writable: false\n",
    "})"
   ]
  },
  {
   "cell_type": "markdown",
   "metadata": {},
   "source": [
    "`[[Get]]` operation works in the following way:  \n",
    "![Get operation](https://i.imgur.com/dUzvQXb.jpg)"
   ]
  },
  {
   "cell_type": "markdown",
   "metadata": {},
   "source": [
    "`[[Put]]` operation works in the following way:  \n",
    "![Put](https://i.imgur.com/NdBgFrF.jpg)"
   ]
  },
  {
   "cell_type": "markdown",
   "metadata": {},
   "source": [
    "### Prototypes\n",
    "Objects in JavaScript have an internal property, denoted in the specification as `[[Prototype]]`, which is simply a reference to another object. So we have a chain of prototype linkage which ends at `Object.prototype`."
   ]
  },
  {
   "cell_type": "code",
   "execution_count": 41,
   "metadata": {},
   "outputs": [
    {
     "name": "stdout",
     "output_type": "stream",
     "text": [
      "\u001b[33m5\u001b[39m\n",
      "\u001b[33mtrue\u001b[39m\n",
      "\u001b[33mfalse\u001b[39m\n",
      "\u001b[33m10\u001b[39m\n",
      "\u001b[33m5\u001b[39m\n",
      "\u001b[33mtrue\u001b[39m\n"
     ]
    }
   ],
   "source": [
    "// Example of prototype linkage\n",
    "var aObj = {\n",
    "    a: 5\n",
    "}\n",
    "\n",
    "var bObj = Object.create(aObj) // Creates a new object bObj with aObj as prototype\n",
    "\n",
    "console.log(bObj.a) // Obtained by looking up in the prototype chain\n",
    "\n",
    "console.log(aObj.hasOwnProperty('a'))\n",
    "console.log(bObj.hasOwnProperty('a'))\n",
    "\n",
    "// Shadowing\n",
    "bObj.a = 10\n",
    "console.log(bObj.a) \n",
    "console.log(aObj.a) \n",
    "console.log(bObj.hasOwnProperty('a'))"
   ]
  },
  {
   "cell_type": "markdown",
   "metadata": {},
   "source": [
    "**End of Chain:** We know that the prototype chain ends at `Object.prototype`. Why? Because:"
   ]
  },
  {
   "cell_type": "code",
   "execution_count": 54,
   "metadata": {},
   "outputs": [],
   "source": [
    "Object.getPrototypeOf(Object.prototype) // null"
   ]
  },
  {
   "cell_type": "markdown",
   "metadata": {},
   "source": [
    "Every object will have access to all the properties of Object.prototype"
   ]
  },
  {
   "cell_type": "code",
   "execution_count": null,
   "metadata": {},
   "outputs": [],
   "source": [
    "function Foo(){\n",
    "    \n",
    "}\n",
    "\n",
    "var foo = new Foo()\n",
    "\n",
    "console.log(Foo.prototype)"
   ]
  },
  {
   "cell_type": "markdown",
   "metadata": {},
   "source": [
    "Foo.prototype is an object which looks like:\n",
    "```\n",
    "{\n",
    "    constructor: ƒ doSomething(),\n",
    "    __proto__: {\n",
    "        constructor: ƒ Object(),\n",
    "        hasOwnProperty: ƒ hasOwnProperty(),\n",
    "        isPrototypeOf: ƒ isPrototypeOf(),\n",
    "        propertyIsEnumerable: ƒ propertyIsEnumerable(),\n",
    "        toLocaleString: ƒ toLocaleString(),\n",
    "        toString: ƒ toString(),\n",
    "        valueOf: ƒ valueOf()\n",
    "    }\n",
    "}\n",
    "```"
   ]
  },
  {
   "cell_type": "markdown",
   "metadata": {},
   "source": [
    "**Constructor Call:** in JavaScript we do not have a constructor function, rather we have a *constructor call*. Whenever we call a function with `new` keyword, we do a constructor call. A sequence of actions occur when we use new:\n",
    "- a new blank object is created\n",
    "- this new object's internal `[[Prototype]]` is linked to the \"constructor\" function's prototype property. Every function in JavaScript have a prototype property.\n",
    "- any this keyword used in the \"constructor\" function now refers to the newly created object.\n",
    "- if the function doesn't return anything, this new object is returned."
   ]
  },
  {
   "cell_type": "code",
   "execution_count": 42,
   "metadata": {},
   "outputs": [],
   "source": [
    "// Functions designated to be used as constructor are in Sentence case by convention\n",
    "function User(name){\n",
    "    this.name = name\n",
    "}\n",
    "\n",
    "// This function like every other function will have a prototype property\n",
    "User.prototype\n",
    "\n",
    "// And the prototype will have a constructor property which reference back the function\n",
    "User.prototype.constructor === User // true\n",
    "\n",
    "var admin = User('Jake')\n",
    "// How to access admin's prototype? Non-standard way adopted by many browsers is the below snippet:\n",
    "admin.__proto__ === User.prototype // true\n",
    "\n",
    "// More standard way:\n",
    "Object.getPrototypeOf(admin) === User.prototype // true"
   ]
  },
  {
   "cell_type": "markdown",
   "metadata": {},
   "source": [
    "In JavaScript, we don't make copies from one object (\"class\") to another (\"instance\"). We make links between objects. In class based languages, when an object inherits from another, the parent's properties are copied over to the child. No such thing happens in JavaScript. Different object's are merely linked together."
   ]
  },
  {
   "cell_type": "code",
   "execution_count": 46,
   "metadata": {},
   "outputs": [
    {
     "name": "stdout",
     "output_type": "stream",
     "text": [
      "IT\n",
      "IT\n",
      "Marketing\n",
      "Marketing\n",
      "Accounts\n",
      "Marketing\n"
     ]
    }
   ],
   "source": [
    "function Employee(name){\n",
    "    this.name = name\n",
    "}\n",
    "\n",
    "Employee.prototype.department = 'IT'\n",
    "\n",
    "// Each of the below objects have their own name\n",
    "// property\n",
    "var emp1 = new Employee('Steve')\n",
    "var emp2 = new Employee('Jobs')\n",
    "\n",
    "// However the department property is shared\n",
    "console.log(emp1.department)\n",
    "console.log(emp2.department)\n",
    "\n",
    "Employee.prototype.department = 'Marketing'\n",
    "\n",
    "console.log(emp1.department)\n",
    "console.log(emp2.department)\n",
    "\n",
    "// However, as per the [[Put]] logic we discussed above shadowing\n",
    "// will occur in case of below code snippet\n",
    "emp1.department = 'Accounts'\n",
    "\n",
    "console.log(emp1.department)\n",
    "console.log(emp2.department)"
   ]
  },
  {
   "cell_type": "markdown",
   "metadata": {},
   "source": [
    "**Creating Links:** one way to prototype link two objects is using `Object.create()`"
   ]
  },
  {
   "cell_type": "code",
   "execution_count": 53,
   "metadata": {},
   "outputs": [
    {
     "name": "stdout",
     "output_type": "stream",
     "text": [
      "Quack\n"
     ]
    }
   ],
   "source": [
    "var duck = {\n",
    "    quack: function(){\n",
    "        console.log('Quack')\n",
    "    }\n",
    "}\n",
    "\n",
    "var rubberDuck = Object.create(duck)\n",
    "\n",
    "Object.getPrototypeOf(rubberDuck) === duck // true\n",
    "\n",
    "// So, we can do\n",
    "rubberDuck.quack()\n",
    "\n",
    "// If we move up the chain,\n",
    "Object.getPrototypeOf(Object.getPrototypeOf(rubberDuck)) \n",
    "    === Object.prototype // true"
   ]
  },
  {
   "cell_type": "markdown",
   "metadata": {},
   "source": [
    "If we try to understand `Object.create`'s working, we can see that:"
   ]
  },
  {
   "cell_type": "code",
   "execution_count": null,
   "metadata": {},
   "outputs": [],
   "source": [
    "if(!Object.create){\n",
    "    Object.create = function(o){\n",
    "        function F(){}\n",
    "        F.prototype = o\n",
    "        return new F()\n",
    "    }\n",
    "}"
   ]
  },
  {
   "cell_type": "markdown",
   "metadata": {},
   "source": [
    "**Defining Methods via Prototype Vs Using Constructor:** Often properties are defined using constructor and methods are defined on prototype."
   ]
  },
  {
   "cell_type": "code",
   "execution_count": null,
   "metadata": {},
   "outputs": [],
   "source": [
    "// A\n",
    "function AudioClip(size){\n",
    "    this.size = size\n",
    "}\n",
    "\n",
    "AudioClip.prototype.play = function(){\n",
    "    // Implementation\n",
    "}"
   ]
  },
  {
   "cell_type": "code",
   "execution_count": null,
   "metadata": {},
   "outputs": [],
   "source": [
    "// B\n",
    "function AudioClip(size){\n",
    "    this.size = size\n",
    "    \n",
    "    this.play = function(){\n",
    "        // Implementation\n",
    "    }\n",
    "}"
   ]
  },
  {
   "cell_type": "markdown",
   "metadata": {},
   "source": [
    "Method invocation in case of B is faster (negligible in this case) because we don't have to go up the prototype chain.  \n",
    "\n",
    "Whereas A takes lesser space because the play method is common to all instances.  \n",
    "\n",
    "Another advantage of A is that when we serialize an instance, we can only serialize the data part, since method part is generally not serialized. Prototype properties are not serialized using `JSON.stringify`."
   ]
  },
  {
   "cell_type": "markdown",
   "metadata": {},
   "source": [
    "**\"Inheritance\" in Action** the below code illustrates prototypal way of defining inheritance between Foo (parent) and Bar (child). Note that this mental model of Parent/Child and inheritance doesn't really fit JS."
   ]
  },
  {
   "cell_type": "code",
   "execution_count": null,
   "metadata": {},
   "outputs": [],
   "source": [
    "function Employee(id, name){\n",
    "    this.id = id\n",
    "    this.name = name\n",
    "}\n",
    "\n",
    "Employee.prototype.identify = function(){\n",
    "    return `Id: ${this.id}, Name: ${this.name}`\n",
    "}\n",
    "\n",
    "function Manager(id, name, level){\n",
    "    Employee.call(this, id, name)\n",
    "    this.level = level\n",
    "}\n",
    "\n",
    "Manager.prototype = Object.create(Employee.prototype)\n",
    "\n",
    "Manager.prototype.setDirects = function(list){\n",
    "    this.directs = list\n",
    "}\n",
    "\n",
    "let m1 = new Manager(1, 'John Doe', 3)\n",
    "let m2 = new Manager(2, 'Jane Doe', 4)\n",
    "\n",
    "console.log(m1.identify()) // Id: 1, Name: John Doe\n",
    "console.log(m2.identify()) // Id: 1, Name: John Doe"
   ]
  },
  {
   "cell_type": "markdown",
   "metadata": {},
   "source": [
    "![Relation](https://i.imgur.com/40dL082.png)\n",
    "\n",
    "Another way to write the same code would be:"
   ]
  },
  {
   "cell_type": "code",
   "execution_count": null,
   "metadata": {},
   "outputs": [],
   "source": [
    "let Employee = {\n",
    "    init: function(id, name){\n",
    "        this.id = id\n",
    "        this.name = name\n",
    "    },\n",
    "    \n",
    "    identify: function(){\n",
    "        return `Id: ${this.id}, Name: ${this.name}`\n",
    "    }\n",
    "}\n",
    "\n",
    "let Manager = Object.create(Employee)\n",
    "Manager.init = function(id, name, level){\n",
    "    Employee.init.call(this, id, name)\n",
    "}\n",
    "\n",
    "Manager.setDirects = function(list){\n",
    "    this.directs = list\n",
    "}\n",
    "\n",
    "let m1 = Object.create(Manager)\n",
    "m1.init(1, 'John Doe', 3)\n",
    "\n",
    "let m2 = Object.create(Manager)\n",
    "m2.init(2, 'Jane Doe', 4)\n",
    "\n",
    "console.log(m1.identify()) // Id: 1, Name: John Doe\n",
    "console.log(m2.identify()) // Id: 1, Name: John Doe"
   ]
  },
  {
   "cell_type": "markdown",
   "metadata": {},
   "source": [
    "In the above code we are not trying to replicate the behaviour of traditional object oriented languages, rather we are playing to the strength of JavaScript's delegation model.  \n",
    "\n",
    "![Relation](https://i.imgur.com/1yeDm41.png)"
   ]
  },
  {
   "cell_type": "code",
   "execution_count": null,
   "metadata": {},
   "outputs": [],
   "source": []
  }
 ],
 "metadata": {
  "kernelspec": {
   "display_name": "JavaScript",
   "language": "javascript",
   "name": "jslab"
  },
  "language_info": {
   "file_extension": ".js",
   "mimetype": "text/javascript",
   "name": "javascript",
   "version": ""
  }
 },
 "nbformat": 4,
 "nbformat_minor": 4
}
