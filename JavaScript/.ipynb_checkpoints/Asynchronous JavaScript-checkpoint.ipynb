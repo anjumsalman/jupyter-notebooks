{
 "cells": [
  {
   "cell_type": "markdown",
   "metadata": {},
   "source": [
    "### Basics\n",
    "JavaScript is single threaded with support for asynchronous programming. Some asynchronous functions supplied by the language include `setTimeout`, `setInterval`, `process.nextTick()` (Node only), `XHR`. All of these accept a callback function which is executed on completion."
   ]
  },
  {
   "cell_type": "markdown",
   "metadata": {},
   "source": [
    "### The Event Loop\n",
    "JavaScript is single threaded and hence support only one `Call Stack`. Whenever we call a function it goes into the call stack. When it finishes it is removed from the call stack. For example, consider the below:"
   ]
  },
  {
   "cell_type": "code",
   "execution_count": 1,
   "metadata": {},
   "outputs": [
    {
     "name": "stdout",
     "output_type": "stream",
     "text": [
      "Inside foo\n",
      "Bar\n"
     ]
    }
   ],
   "source": [
    "function foo(){\n",
    "    console.log('Inside foo')\n",
    "}\n",
    "\n",
    "function bar(){\n",
    "    foo();\n",
    "    console.log('Bar');\n",
    "}\n",
    "\n",
    "bar();"
   ]
  },
  {
   "cell_type": "markdown",
   "metadata": {},
   "source": [
    "The state of Call Stack at various stages was:\n",
    "```\n",
    "1. Empty\n",
    "2. Anonymous\n",
    "3. Anonymous bar()\n",
    "4. Anonymous bar() foo()\n",
    "5. Anonymous bar() foo() console.log()\n",
    "6. Anonymous bar() foo()\n",
    "7. Anonymous bar()\n",
    "8. Anonymous bar() console.log()\n",
    "9. Anonymous bar()\n",
    "10. Anonymous\n",
    "11. Empty\n",
    "```\n",
    "\n",
    "Now consider the case when we use setTimeout"
   ]
  },
  {
   "cell_type": "code",
   "execution_count": 3,
   "metadata": {},
   "outputs": [
    {
     "name": "stdout",
     "output_type": "stream",
     "text": [
      "Bar\n",
      "Inside foo\n"
     ]
    }
   ],
   "source": [
    "function foo(){\n",
    "    setTimeout(()=>console.log('Inside foo'), 0);\n",
    "}\n",
    "\n",
    "function bar(){\n",
    "    foo();\n",
    "    console.log('Bar');\n",
    "}\n",
    "\n",
    "bar();"
   ]
  },
  {
   "cell_type": "markdown",
   "metadata": {},
   "source": [
    "In this case, the setTimeout function is run in a completely different area by browser (in a different thread). Once setTimeout function completes it is sent to `task queue`. The event loop constantly monitors the call stack and task queue. If the call stack is empty it picks item from task queue and sends it to call stack. The call stack in this case is:\n",
    "\n",
    "```\n",
    "1. Empty\n",
    "2. Anonymous\n",
    "3. Anonymous bar()\n",
    "4. Anonymous bar() foo()\n",
    "5. Anonymous bar() foo() setTimeout(c)\n",
    "6. Anonymous bar() foo()\n",
    "7. Anonymous bar()\n",
    "8. Anonymous bar() console.log()\n",
    "9. Anonymous bar()\n",
    "10. Anonymous\n",
    "11. Empty\n",
    "12. c()\n",
    "13. c() console.log()\n",
    "14. c()\n",
    "15. Empty\n",
    "```"
   ]
  },
  {
   "cell_type": "markdown",
   "metadata": {},
   "source": [
    "Apart from the task queue we also have a `render queue` and `micro task queue`. The render queue paints the browser (60 times/s) is possible. The `micro task` queue (when Promise is resolved) has more proirity. It is always emptied before items from task queue is picked to be put into call stack."
   ]
  },
  {
   "cell_type": "markdown",
   "metadata": {},
   "source": [
    "### Promise\n",
    "A JavaScript Promise object represents a task which will be completed in future. A promise can have three states:\n",
    "- Pending\n",
    "- Resolved\n",
    "- Rejected\n",
    "\n",
    "Below is the syntax to create a promise using its constructor function."
   ]
  },
  {
   "cell_type": "code",
   "execution_count": 4,
   "metadata": {},
   "outputs": [],
   "source": [
    "let my_promise = new Promise((resolve, reject)=>{\n",
    "    // implementation of the executor function    \n",
    "});"
   ]
  },
  {
   "cell_type": "markdown",
   "metadata": {},
   "source": [
    "The function passed to promise constructor is the executor function and runs automatically when the promise is created. When the promise finishes it either executes `resolve(value)` or `reject(error)`.  \n",
    "\n",
    "  \n",
    "![\"Promise\"](https://javascript.info/article/promise-basics/promise-resolve-reject.png \"Promise\")\n",
    "  \n",
    "Below is the promise version of XHR:"
   ]
  },
  {
   "cell_type": "code",
   "execution_count": null,
   "metadata": {},
   "outputs": [],
   "source": [
    "let xhr_promise = new Promise(function (resolve, reject) {\n",
    "    let xhr = new XMLHttpRequest();\n",
    "    xhr.open('GET', 'http://dummy.restapiexample.com/api/v1/employees');\n",
    "    \n",
    "    xhr.onload = function () {\n",
    "      if (this.status >= 200 && this.status < 300) {\n",
    "        resolve(xhr.response);\n",
    "      } else {\n",
    "        reject({\n",
    "          status: this.status,\n",
    "          statusText: xhr.statusText\n",
    "        });\n",
    "      }\n",
    "    };\n",
    "    \n",
    "    xhr.onerror = function () {\n",
    "      reject({\n",
    "        status: this.status,\n",
    "        statusText: xhr.statusText\n",
    "      });\n",
    "    };\n",
    "    \n",
    "    xhr.send();\n",
    "  });\n",
    "\n",
    "xhr_promise.then(data=>console.log(data)).catch(error=>console.log(error));"
   ]
  },
  {
   "cell_type": "code",
   "execution_count": null,
   "metadata": {},
   "outputs": [],
   "source": []
  }
 ],
 "metadata": {
  "kernelspec": {
   "display_name": "Javascript (Node.js)",
   "language": "javascript",
   "name": "javascript"
  },
  "language_info": {
   "file_extension": ".js",
   "mimetype": "application/javascript",
   "name": "javascript",
   "version": "8.12.0"
  }
 },
 "nbformat": 4,
 "nbformat_minor": 2
}
