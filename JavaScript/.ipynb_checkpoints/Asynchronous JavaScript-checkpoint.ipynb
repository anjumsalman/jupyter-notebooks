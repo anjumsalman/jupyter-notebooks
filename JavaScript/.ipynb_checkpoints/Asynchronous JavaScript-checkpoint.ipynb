{
 "cells": [
  {
   "cell_type": "markdown",
   "metadata": {},
   "source": [
    "### CallBacks\n",
    "Every statement in Javascript will execute \"now\" or \"later\". Callbacks are commonly used to specify code that will execute later. To illustrate the \"now\" and \"later\" parts,"
   ]
  },
  {
   "cell_type": "code",
   "execution_count": null,
   "metadata": {},
   "outputs": [],
   "source": [
    "// A. \"now\" \n",
    "\n",
    "setTimeout(function(){\n",
    "    // B. \"later\"\n",
    "}, 0)\n",
    "\n",
    "// C. \"now\""
   ]
  },
  {
   "cell_type": "markdown",
   "metadata": {},
   "source": [
    "The common complaint with callbacks is the notion of `callback hell`, callbacks nested inside callbacks. However callbacks are bad not due to multiple nesting it can create as we can see below:"
   ]
  },
  {
   "cell_type": "code",
   "execution_count": null,
   "metadata": {},
   "outputs": [],
   "source": [
    "button.addEventListener('click', function(event){\n",
    "    setTimeout(function(){\n",
    "        ajax('http://someresource.com', function(response){\n",
    "            if(response.status == 200){\n",
    "                // Success\n",
    "            } else if(response.status == 400){\n",
    "                // Wrong request\n",
    "            } else if(response.status == 500){\n",
    "                // Server error\n",
    "            }\n",
    "        })\n",
    "    }, 500)\n",
    "})"
   ]
  },
  {
   "cell_type": "code",
   "execution_count": null,
   "metadata": {},
   "outputs": [],
   "source": [
    "button.addEventListener('click', clickListener)\n",
    "\n",
    "function clickListener(event){\n",
    "    setTimeout(sendRequest, 500)\n",
    "}\n",
    "\n",
    "function sendRequest(){\n",
    "    ajax('http://someresource.com', responseHandler)\n",
    "}\n",
    "\n",
    "function responseHandler(response){\n",
    "    if(response.status == 200){\n",
    "        // Success\n",
    "    } else if(response.status == 400){\n",
    "        // Wrong request\n",
    "    } else if(response.status == 500){\n",
    "        // Server error\n",
    "    }\n",
    "}"
   ]
  },
  {
   "cell_type": "markdown",
   "metadata": {},
   "source": [
    "The real issue with callbacks is \"trust issue\" and not deep indentation. The problem with callback is `inversion of control`. The execution of callback function is controlled by part not directly under our control. For example in above code snippet, each of the functions `addEventListener`, `setTimeout` and `ajax` decide when to call the callback. This inversion of control means the following scenarios may develop (not necessarily for the above mentioned functions, but for some 3rd party function):\n",
    "\n",
    "- callback called too early\n",
    "- callback called too late\n",
    "- callback not called\n",
    "- callback called multiple times\n",
    "- errors not handled"
   ]
  },
  {
   "cell_type": "markdown",
   "metadata": {},
   "source": [
    "There are variants of callback which lets us handle errors."
   ]
  },
  {
   "cell_type": "code",
   "execution_count": null,
   "metadata": {},
   "outputs": [],
   "source": [
    "// Split error and success handling\n",
    "ajax(url, success, failure)\n",
    "\n",
    "function success(response){\n",
    "    // implementation\n",
    "}\n",
    "\n",
    "function failure(err){\n",
    "    // implementation\n",
    "}\n",
    "\n",
    "// Node style\n",
    "ajax(url, function(err, response){\n",
    "    if(err){\n",
    "        // handle error\n",
    "    } else {\n",
    "        // work with response data\n",
    "    }\n",
    "})"
   ]
  },
  {
   "cell_type": "markdown",
   "metadata": {},
   "source": [
    "### Promise\n",
    "Promise in Javascript represents a future value. To create a promise,"
   ]
  },
  {
   "cell_type": "code",
   "execution_count": 2,
   "metadata": {},
   "outputs": [],
   "source": [
    "let myPromise = new Promise(function(resolve, reject){\n",
    "    // Call resolve your reject here\n",
    "});"
   ]
  },
  {
   "cell_type": "markdown",
   "metadata": {},
   "source": [
    "A promise can be in any of the three states:\n",
    "- resolved\n",
    "- rejected\n",
    "- pending\n",
    "\n",
    "A promise is settled if it is resolved or rejected.\n",
    "\n",
    "The below code example shows example of promise which gets resolved immediately"
   ]
  },
  {
   "cell_type": "code",
   "execution_count": 3,
   "metadata": {},
   "outputs": [],
   "source": [
    "let immediatePromise = new Promise(function(resolve, reject){\n",
    "    resolve();\n",
    "});\n",
    "\n",
    "// immediatePromise is resolved!"
   ]
  },
  {
   "cell_type": "markdown",
   "metadata": {},
   "source": [
    "The below promise will resolve in 500ms"
   ]
  },
  {
   "cell_type": "code",
   "execution_count": null,
   "metadata": {},
   "outputs": [],
   "source": [
    "let anotherPromise = new Promise(function(resolve, reject){\n",
    "    setTimeout(function(){\n",
    "        resolve();\n",
    "    }, 500)\n",
    "});"
   ]
  },
  {
   "cell_type": "markdown",
   "metadata": {},
   "source": [
    "Once a Promise is settled, its output (or error) can be handled using its `then` or `catch` methods."
   ]
  },
  {
   "cell_type": "code",
   "execution_count": 4,
   "metadata": {},
   "outputs": [
    {
     "name": "stdout",
     "output_type": "stream",
     "text": [
      "Promise { \u001b[36m<pending>\u001b[39m }\n",
      "\u001b[33m41\u001b[39m\n"
     ]
    }
   ],
   "source": [
    "let p1 = new Promise(function(resolve, reject){\n",
    "    resolve(41)\n",
    "});\n",
    "\n",
    "// Then accepts a onSuccess function and a onFailure function\n",
    "// each one can be omitted\n",
    "p1.then(\n",
    "    function onSuccess(value){\n",
    "        console.log(value)\n",
    "    },\n",
    "    \n",
    "    function onFailure(err){\n",
    "        console.log(err)\n",
    "    }\n",
    ")"
   ]
  },
  {
   "cell_type": "code",
   "execution_count": 10,
   "metadata": {},
   "outputs": [
    {
     "name": "stdout",
     "output_type": "stream",
     "text": [
      "Promise { \u001b[36m<pending>\u001b[39m }\n",
      "Error found\n"
     ]
    }
   ],
   "source": [
    "// Catch is same as then except that it accepts only an onFailure function\n",
    "let p2 = new Promise(function(resolve, reject){\n",
    "    throw Error('Some error occured')\n",
    "});\n",
    "\n",
    "p2.catch((err)=>{\n",
    "    console.log('Error found')\n",
    "})"
   ]
  },
  {
   "cell_type": "markdown",
   "metadata": {},
   "source": [
    "**Promise Chain:** the `then` method return another promise, therefore we can chain multiple `then` statements together. So how does then return a promise? If the handler function passed to then returns a promise, then, `then` function returns the same promise."
   ]
  },
  {
   "cell_type": "code",
   "execution_count": 11,
   "metadata": {},
   "outputs": [
    {
     "name": "stdout",
     "output_type": "stream",
     "text": [
      "Promise { \u001b[36m<pending>\u001b[39m }\n",
      "Hello\n",
      "there\n"
     ]
    }
   ],
   "source": [
    "let p3 = Promise.resolve('Hello')\n",
    "\n",
    "p3.then(val => {\n",
    "    console.log(val)\n",
    "    return new Promise((resolve, reject)=>{\n",
    "        setTimeout(() => {\n",
    "            resolve('there') // If you pass more than one argument to resolve or reject, they\n",
    "                             // are ignored\n",
    "        }, 500)\n",
    "    })\n",
    "}).then(val => {\n",
    "    console.log(val)\n",
    "})"
   ]
  },
  {
   "cell_type": "markdown",
   "metadata": {},
   "source": [
    "If we return a value from the handler function, then a promise is returned which is immediately resolved. If we don't return anything, then again a promise is returned which is immediately resolved to undefined."
   ]
  },
  {
   "cell_type": "code",
   "execution_count": 12,
   "metadata": {},
   "outputs": [
    {
     "name": "stdout",
     "output_type": "stream",
     "text": [
      "Promise { \u001b[36m<pending>\u001b[39m }\n",
      "\u001b[33m25\u001b[39m\n",
      "\u001b[90mundefined\u001b[39m\n"
     ]
    }
   ],
   "source": [
    "let p4 = Promise.resolve(25)\n",
    "\n",
    "p4.then((val) => { \n",
    "    console.log(val) \n",
    "}).then((val) => { \n",
    "    console.log(val) \n",
    "})"
   ]
  },
  {
   "cell_type": "markdown",
   "metadata": {},
   "source": [
    "**Promise cannot be observed synchronously:** the callback passed to then is put at the back of the job queue even if the promise resolved immediately."
   ]
  },
  {
   "cell_type": "code",
   "execution_count": 13,
   "metadata": {},
   "outputs": [
    {
     "name": "stdout",
     "output_type": "stream",
     "text": [
      "B\n",
      "A\n"
     ]
    }
   ],
   "source": [
    "Promise.resolve('A')\n",
    ".then(value=>{\n",
    "    console.log(value)\n",
    "})\n",
    "\n",
    "console.log('B')"
   ]
  },
  {
   "cell_type": "markdown",
   "metadata": {},
   "source": [
    "**Callback called too many times:** the trust issue we had with callbacks is solved using Promises. A promise can be settled only once and once it is settled it stays the same (it becomes immutable). But what if the promise never resolves? We can create a timeout utility promise to handle such scenario"
   ]
  },
  {
   "cell_type": "code",
   "execution_count": null,
   "metadata": {},
   "outputs": [],
   "source": [
    "function timeoutPromise(delay){\n",
    "    return new Promise(function(resolve, reject){\n",
    "        setTimeout(function(){\n",
    "            reject('Timeout...')\n",
    "        }, 500)\n",
    "    })\n",
    "}\n",
    "\n",
    "// ajax function returns a promise\n",
    "// Promise.race returns the first promise to settle\n",
    "Promise.race([ ajax('http://www.myresource.com'), timeoutPromise(5000) ])\n",
    ".then(function(response){\n",
    "    // handle ajax response\n",
    "})\n",
    ".catch(function(error){\n",
    "    console.log(error)\n",
    "})"
   ]
  },
  {
   "cell_type": "markdown",
   "metadata": {},
   "source": [
    "**Error Handling:** errors are not swallowed when we use Promises."
   ]
  },
  {
   "cell_type": "code",
   "execution_count": 15,
   "metadata": {},
   "outputs": [
    {
     "name": "stdout",
     "output_type": "stream",
     "text": [
      "Promise { \u001b[36m<pending>\u001b[39m }\n",
      "Error: Negative value\n",
      "    at evalmachine.<anonymous>:11:15\n"
     ]
    }
   ],
   "source": [
    "// We can attach a catch function at the end to catch any error generated in\n",
    "// any of the previous steps\n",
    "Promise.resolve(-20)\n",
    ".then(function(val){\n",
    "    if(val >= 0){\n",
    "        return val\n",
    "    } else {\n",
    "        throw Error('Negative value')\n",
    "    }\n",
    "})\n",
    ".then(function(val){\n",
    "    console.log(val) // This is never called\n",
    "})\n",
    ".catch(function(err){\n",
    "    console.log(err)\n",
    "})\n",
    "\n",
    "// Or last catch can be written as:\n",
    "// .then(null, function(err){\n",
    "//    console.log(err)\n",
    "// })"
   ]
  },
  {
   "cell_type": "markdown",
   "metadata": {},
   "source": [
    "**Promise Composition:** For forking and joining computations, consider using `Promise.all` . This method can be useful for aggregating the results of multiple promises. It is typically used when there are multiple related asynchronous tasks that the overall code relies on to work successfully."
   ]
  },
  {
   "cell_type": "code",
   "execution_count": null,
   "metadata": {},
   "outputs": [],
   "source": [
    "Promise.all([\n",
    "    asyncFunc1(),\n",
    "    asyncFunc2(),\n",
    "])\n",
    ".then(([result1, result2]) => {\n",
    "    // Called when all promises are resolved\n",
    "})\n",
    ".catch(err => {\n",
    "    // Called if any of the passed-in promises reject\n",
    "});"
   ]
  },
  {
   "cell_type": "markdown",
   "metadata": {},
   "source": [
    "To create a race between different promises and get the first resolved promise, use `Promise.race` . If the iterable passed is empty, the promise returned will be forever pending."
   ]
  },
  {
   "cell_type": "code",
   "execution_count": null,
   "metadata": {},
   "outputs": [],
   "source": [
    "Promise.race([\n",
    "    asyncFunc1(),\n",
    "    asyncFunc2(),\n",
    "])\n",
    ".then((result) => {\n",
    "    // Called when first (time wise) promise is resolved\n",
    "})\n",
    ".catch(err => {\n",
    "    // Called if any of the passed-in promises reject\n",
    "});"
   ]
  },
  {
   "cell_type": "markdown",
   "metadata": {},
   "source": [
    "This can be used to create a timeout"
   ]
  },
  {
   "cell_type": "code",
   "execution_count": null,
   "metadata": {},
   "outputs": [],
   "source": [
    "function delay(ms) {\n",
    "    return new Promise(function (resolve, reject) {\n",
    "        setTimeout(resolve, ms);\n",
    "    });\n",
    "}\n",
    "\n",
    "function httpGet(url) {\n",
    "    return new Promise(\n",
    "        function (resolve, reject) {\n",
    "            const request = new XMLHttpRequest();\n",
    "            request.onload = function () {\n",
    "                if (this.status === 200) {\n",
    "                    // Success\n",
    "                    resolve(this.response);\n",
    "                } else {\n",
    "                    // Something went wrong (404 etc.)\n",
    "                    reject(new Error(this.statusText));\n",
    "                }\n",
    "            };\n",
    "            request.onerror = function () {\n",
    "                reject(new Error(\n",
    "                    'XMLHttpRequest Error: '+ this.statusText));\n",
    "            };\n",
    "            request.open('GET', url);\n",
    "            request.send();\n",
    "        }\n",
    "    );\n",
    "}\n",
    "\n",
    "Promise.race([\n",
    "    httpGet('http://example.com/file.txt'),\n",
    "    delay(5000).then(function () {\n",
    "        throw new Error('Timed out')\n",
    "    });\n",
    "])\n",
    ".then(function (text) { // Get result of HTTP call })\n",
    ".catch(function (reason) { // Timeout or HTTP error });"
   ]
  },
  {
   "cell_type": "markdown",
   "metadata": {},
   "source": [
    "### Async Await\n",
    "The `async` `await` keywords are essentially syntactic sugar on top of Promises. The async keyword is added to a function and converts everything returned by the function to a promise."
   ]
  },
  {
   "cell_type": "code",
   "execution_count": null,
   "metadata": {},
   "outputs": [],
   "source": [
    "async function asyncSquare(number){\n",
    "    return number*number\n",
    "}\n",
    "\n",
    "let result = asyncSquare(25)\n",
    "\n",
    "console.log(result instanceof Promise) // true\n",
    "console.log(typeof result) // object"
   ]
  },
  {
   "cell_type": "markdown",
   "metadata": {},
   "source": [
    "Since the returned value is a Promise (which immediately resolves in this case), we can use the `then` method"
   ]
  },
  {
   "cell_type": "code",
   "execution_count": 20,
   "metadata": {},
   "outputs": [
    {
     "name": "stdout",
     "output_type": "stream",
     "text": [
      "Promise { \u001b[36m<pending>\u001b[39m }\n",
      "\u001b[33m625\u001b[39m\n"
     ]
    }
   ],
   "source": [
    "result\n",
    ".then(console.log)"
   ]
  },
  {
   "cell_type": "markdown",
   "metadata": {},
   "source": [
    "Async function with no return value specified, returns a promise which resolves to undefined."
   ]
  },
  {
   "cell_type": "code",
   "execution_count": 2,
   "metadata": {},
   "outputs": [
    {
     "name": "stdout",
     "output_type": "stream",
     "text": [
      "noReturn executed\n",
      "Promise { \u001b[36m<pending>\u001b[39m }\n",
      "\u001b[90mundefined\u001b[39m\n"
     ]
    }
   ],
   "source": [
    "async function noReturn(){\n",
    "    console.log('noReturn executed')\n",
    "}\n",
    "\n",
    "noReturn()\n",
    ".then(value => {\n",
    "    console.log(value)\n",
    "})"
   ]
  },
  {
   "cell_type": "markdown",
   "metadata": {},
   "source": [
    "Async functions are the most helpful when combined with await. In fact await can only be used inside a function marked as async. The await keyword causes the JavaScript runtime to pause your code on this line, allowing other code to execute in the meantime, until the async function call has returned its result."
   ]
  },
  {
   "cell_type": "code",
   "execution_count": null,
   "metadata": {},
   "outputs": [],
   "source": [
    "// Promise version\n",
    "fetch('www.google.com')\n",
    ".then(function(response){\n",
    "    if(response.status == 200){\n",
    "        return fetch('www.yahoo.com')\n",
    "    } else if(response.status >= 400){\n",
    "        throw Error('Error in request/server')\n",
    "    }\n",
    "})\n",
    ".then(function(response){\n",
    "    console.log('Obtained response successfully')\n",
    "})\n",
    ".catch(function(error){\n",
    "    console.log('Error found ', error)\n",
    "})"
   ]
  },
  {
   "cell_type": "code",
   "execution_count": null,
   "metadata": {},
   "outputs": [],
   "source": [
    "// Async await version\n",
    "async function fetchSites(){\n",
    "    let response = await fetch('www.google.com')\n",
    "    \n",
    "    if(response.status == 200){\n",
    "        response = await fetch('www.yahoo.com')\n",
    "        console.log('Obtained response successfully')\n",
    "    } else if(response.status >= 400){\n",
    "        throw Error('Error in request/server')\n",
    "    }\n",
    "}\n",
    "\n",
    "fetchSites()\n",
    ".catch(function(error){\n",
    "    console.log('Error found ', error)\n",
    "})"
   ]
  },
  {
   "cell_type": "markdown",
   "metadata": {},
   "source": [
    "We can use a synchronous `try...catch` structure with async/await."
   ]
  },
  {
   "cell_type": "code",
   "execution_count": null,
   "metadata": {},
   "outputs": [],
   "source": [
    "// Async await version with try catch\n",
    "async function fetchSites(){\n",
    "    try{\n",
    "        let response = await fetch('www.google.com')\n",
    "\n",
    "        if(response.status == 200){\n",
    "            response = await fetch('www.yahoo.com')\n",
    "            console.log('Obtained response successfully')\n",
    "        } else if(response.status >= 400){\n",
    "            throw Error('Error in request/server')\n",
    "        }\n",
    "    } catch(err){\n",
    "        console.log('Error found ', error)\n",
    "    }\n",
    "}\n",
    "\n",
    "fetchSites()"
   ]
  },
  {
   "cell_type": "markdown",
   "metadata": {},
   "source": [
    "Async await should be used with some care since it pauses execution of current code. So if multiple awaits are used each one will wait for the previous one to complete. Consider the below code:"
   ]
  },
  {
   "cell_type": "code",
   "execution_count": 22,
   "metadata": {},
   "outputs": [
    {
     "name": "stdout",
     "output_type": "stream",
     "text": [
      "Promise { \u001b[36m<pending>\u001b[39m }\n",
      "A resolved\n",
      "B resolved\n",
      "C resolved\n",
      "Time taken:  1217\n"
     ]
    }
   ],
   "source": [
    "function timeoutPromise(delay, name){\n",
    "    return new Promise(function(resolve, reject){\n",
    "        setTimeout(function(){\n",
    "            resolve(name + ' resolved')\n",
    "        }, delay)\n",
    "    })\n",
    "}\n",
    "\n",
    "// Slow version\n",
    "async function slower(){\n",
    "    let a = await timeoutPromise(200, 'A')\n",
    "    console.log(a)\n",
    "    let b = await timeoutPromise(400, 'B')\n",
    "    console.log(b)\n",
    "    let c = await timeoutPromise(600, 'C')\n",
    "    console.log(c)\n",
    "}\n",
    "\n",
    "let start = Date.now()\n",
    "slower()\n",
    ".then(function(){\n",
    "    let end = Date.now()\n",
    "    console.log('Time taken: ', end - start)\n",
    "})"
   ]
  },
  {
   "cell_type": "code",
   "execution_count": 23,
   "metadata": {},
   "outputs": [
    {
     "name": "stdout",
     "output_type": "stream",
     "text": [
      "Promise { \u001b[36m<pending>\u001b[39m }\n",
      "A resolved\n",
      "B resolved\n",
      "C resolved\n",
      "Time taken:  610\n"
     ]
    }
   ],
   "source": [
    "// Fast version\n",
    "async function faster(){\n",
    "    let aP = timeoutPromise(200, 'A')\n",
    "    let bP = timeoutPromise(400, 'B')\n",
    "    let cP = timeoutPromise(600, 'C')\n",
    "    \n",
    "    let a = await aP\n",
    "    console.log(a)\n",
    "    let b = await bP\n",
    "    console.log(b)\n",
    "    let c = await cP\n",
    "    console.log(c)\n",
    "}\n",
    "\n",
    "let start = Date.now()\n",
    "faster()\n",
    ".then(function(){\n",
    "    let end = Date.now()\n",
    "    console.log('Time taken: ', end - start)\n",
    "})"
   ]
  },
  {
   "cell_type": "markdown",
   "metadata": {},
   "source": [
    "The execution in both the cases can be illustrated by the picture below:  \n",
    "\n",
    "![Async await slow and fast](https://i.imgur.com/82QbLtM.gif)"
   ]
  },
  {
   "cell_type": "code",
   "execution_count": null,
   "metadata": {},
   "outputs": [],
   "source": []
  }
 ],
 "metadata": {
  "kernelspec": {
   "display_name": "JavaScript",
   "language": "javascript",
   "name": "jslab"
  },
  "language_info": {
   "file_extension": ".js",
   "mimetype": "text/javascript",
   "name": "javascript",
   "version": ""
  }
 },
 "nbformat": 4,
 "nbformat_minor": 4
}
