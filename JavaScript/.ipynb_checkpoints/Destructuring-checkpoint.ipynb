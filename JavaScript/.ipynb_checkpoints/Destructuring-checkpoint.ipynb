{
 "cells": [
  {
   "cell_type": "markdown",
   "metadata": {},
   "source": [
    "### Object Destructuring\n",
    "Shortcut to get properties from an object. Consider car object below:"
   ]
  },
  {
   "cell_type": "code",
   "execution_count": 1,
   "metadata": {},
   "outputs": [],
   "source": [
    "var car = {\n",
    "    model: 'Lancer',\n",
    "    manufacturer: 'Mitsubishi',\n",
    "    year: 1998,\n",
    "    type: 'sedan'\n",
    "}\n",
    "\n",
    "// To extract properties as variables\n",
    "var model = car.model;\n",
    "var year = car.year;\n",
    "var type = car.type;"
   ]
  },
  {
   "cell_type": "markdown",
   "metadata": {},
   "source": [
    "Using object destructuring notation, we can shrink our code down to:"
   ]
  },
  {
   "cell_type": "code",
   "execution_count": null,
   "metadata": {},
   "outputs": [],
   "source": [
    "var { model, year, type } = car;"
   ]
  },
  {
   "cell_type": "markdown",
   "metadata": {},
   "source": [
    "We can even use our own variable name"
   ]
  },
  {
   "cell_type": "code",
   "execution_count": 2,
   "metadata": {},
   "outputs": [
    {
     "name": "stdout",
     "output_type": "stream",
     "text": [
      "Model is  Lancer\n"
     ]
    }
   ],
   "source": [
    "var { model: m, year: y, type: t} = car;\n",
    "console.log('Model is ', m);"
   ]
  },
  {
   "cell_type": "markdown",
   "metadata": {},
   "source": [
    "We can also object-destructure arrays"
   ]
  },
  {
   "cell_type": "code",
   "execution_count": 3,
   "metadata": {},
   "outputs": [
    {
     "name": "stdout",
     "output_type": "stream",
     "text": [
      "Color is  Cyan\n"
     ]
    }
   ],
   "source": [
    "var colors = ['Red', 'Green', 'Blue', 'Cyan'];\n",
    "var { 0: red, 2: blue, 3: cyan } = colors;\n",
    "\n",
    "console.log('Color is ', cyan)"
   ]
  },
  {
   "cell_type": "markdown",
   "metadata": {},
   "source": [
    "Since string is an object, the following works:"
   ]
  },
  {
   "cell_type": "code",
   "execution_count": 10,
   "metadata": {},
   "outputs": [
    {
     "name": "stdout",
     "output_type": "stream",
     "text": [
      "\u001b[33m4\u001b[39m\n"
     ]
    }
   ],
   "source": [
    "var code = 'XV23';\n",
    "var {length: codeLength} = code;\n",
    "console.log(codeLength)"
   ]
  },
  {
   "cell_type": "markdown",
   "metadata": {},
   "source": [
    "### Array Destructuring\n",
    "Similar to object destructuring, except that now we have to maintain order of array"
   ]
  },
  {
   "cell_type": "code",
   "execution_count": 7,
   "metadata": {},
   "outputs": [
    {
     "name": "stdout",
     "output_type": "stream",
     "text": [
      "Country in Indian Ocean is  Maldives\n"
     ]
    }
   ],
   "source": [
    "var countries = ['Monaco', 'Tuvalo', 'Vatican', 'Maldives'];\n",
    "var [mc, tv, va, mv] = countries;\n",
    "\n",
    "console.log('Country in Indian Ocean is ', mv);"
   ]
  },
  {
   "cell_type": "markdown",
   "metadata": {},
   "source": [
    "We can skip items from end"
   ]
  },
  {
   "cell_type": "code",
   "execution_count": 5,
   "metadata": {},
   "outputs": [
    {
     "name": "stdout",
     "output_type": "stream",
     "text": [
      "Tax haven is  Monaco\n"
     ]
    }
   ],
   "source": [
    "var [monaco, tuvalu] = countries;\n",
    "console.log('Tax haven is ', monaco)"
   ]
  },
  {
   "cell_type": "markdown",
   "metadata": {},
   "source": [
    "Destructuring a for-of loop:"
   ]
  },
  {
   "cell_type": "code",
   "execution_count": 9,
   "metadata": {},
   "outputs": [
    {
     "name": "stdout",
     "output_type": "stream",
     "text": [
      "Country number \u001b[33m0\u001b[39m  is Monaco\n",
      "Country number \u001b[33m1\u001b[39m  is Tuvalo\n",
      "Country number \u001b[33m2\u001b[39m  is Vatican\n",
      "Country number \u001b[33m3\u001b[39m  is Maldives\n"
     ]
    }
   ],
   "source": [
    "for(var [index, element] of countries.entries()){\n",
    "    console.log('Country number', index, ' is', element);\n",
    "}"
   ]
  },
  {
   "cell_type": "code",
   "execution_count": null,
   "metadata": {},
   "outputs": [],
   "source": []
  }
 ],
 "metadata": {
  "kernelspec": {
   "display_name": "JavaScript",
   "language": "javascript",
   "name": "jslab"
  },
  "language_info": {
   "file_extension": ".js",
   "mimetype": "text/javascript",
   "name": "javascript",
   "version": ""
  }
 },
 "nbformat": 4,
 "nbformat_minor": 4
}
