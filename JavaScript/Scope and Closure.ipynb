{
 "cells": [
  {
   "cell_type": "markdown",
   "metadata": {},
   "source": [
    "### JavaScript Execution\n",
    "JavaScript specification doesn't specify if JavaScript has to be compiled or interpreted. JavaScript infact runs in two phases. In the first phase the code is compiled/parsed into executable instructions and in the second it actually executes. This two phase execution is evident from the following code snippets:"
   ]
  },
  {
   "cell_type": "code",
   "execution_count": null,
   "metadata": {},
   "outputs": [],
   "source": [
    "// None of the below code will execute\n",
    "// Instead we'll get an error:\n",
    "// Uncaught SyntaxError: expected expression, got '.'\n",
    "var greeting = \"Hello\";\n",
    "console.log(greeting);\n",
    "greeting = .\"Hi\";"
   ]
  },
  {
   "cell_type": "markdown",
   "metadata": {},
   "source": [
    "Another example:"
   ]
  },
  {
   "cell_type": "code",
   "execution_count": null,
   "metadata": {},
   "outputs": [],
   "source": [
    "// The below console log will fail\n",
    "console.log(\"Hey\");\n",
    "\n",
    "saySomething(\"Hello\",\"Hi\");\n",
    "// Uncaught SyntaxError: Duplicate parameter name not\n",
    "// allowed in this context\n",
    "\n",
    "function saySomething(greeting,greeting) {\n",
    "    \"use strict\";\n",
    "    console.log(greeting);\n",
    "}"
   ]
  },
  {
   "cell_type": "markdown",
   "metadata": {},
   "source": [
    "The two examples above show that JavaScript first goes through the entire code and then throws error if it finds any. Rather than executing code line by line and then throwing errors."
   ]
  },
  {
   "cell_type": "markdown",
   "metadata": {},
   "source": [
    "### Scope\n",
    "JavaScript decides the scope of all variables involved at compile/parse time. This scope is referred to as *lexical scope*.\n",
    "\n",
    "In non-script mode, it is possible to modify the scope of variable during run-time. This is achieved using `eval` or using `with` statement. For example:"
   ]
  },
  {
   "cell_type": "code",
   "execution_count": null,
   "metadata": {},
   "outputs": [],
   "source": [
    "var myVariable = 'From global';\n",
    "\n",
    "function someFunction(){\n",
    "    eval(\"var myVariable = 'Using eval';\");\n",
    "    console.log(myVariable);\n",
    "}\n",
    "\n",
    "someFunction(); // Using eval"
   ]
  },
  {
   "cell_type": "markdown",
   "metadata": {},
   "source": [
    "The `var` keyword understands global scope and function scope. Whereas `let` and `const` keywords are block scoped.  \n",
    "\n",
    "In the first phase of execution, the JavaScript assigns variable name to scope whenever it sees the `var` keyword. However during execution if it finds an assignment statement involving a variable name not encountered earlier, it assigns the variable to global scope."
   ]
  },
  {
   "cell_type": "code",
   "execution_count": null,
   "metadata": {},
   "outputs": [],
   "source": [
    "function smallTest(){\n",
    "    thisWillBeGlobal = 25; // This variable was not identified during first phase\n",
    "}\n",
    "\n",
    "smallTest()\n",
    "console.log(window.thisWillBeGlobal); // window is the global object in case of\n",
    "                                      // JavaScript"
   ]
  },
  {
   "cell_type": "markdown",
   "metadata": {},
   "source": [
    "**Shadowing** variable in inner scope shadows variable in outer scope having the same name."
   ]
  },
  {
   "cell_type": "code",
   "execution_count": 6,
   "metadata": {},
   "outputs": [
    {
     "name": "stdout",
     "output_type": "stream",
     "text": [
      "MAXIMUS\n",
      "Mongo\n"
     ]
    }
   ],
   "source": [
    "var studentName = \"Mongo\";\n",
    "\n",
    "function printStudent(studentName) { // studentName parameter shadows the global\n",
    "                                    // studentName variable\n",
    "    studentName = studentName.toUpperCase();\n",
    "    console.log(studentName);\n",
    "}\n",
    "\n",
    "printStudent('Maximus');\n",
    "console.log(studentName);"
   ]
  },
  {
   "cell_type": "markdown",
   "metadata": {},
   "source": [
    "One thing to note is that `let` can shadow `var`, but the reverse is not possible."
   ]
  },
  {
   "cell_type": "code",
   "execution_count": 8,
   "metadata": {},
   "outputs": [
    {
     "name": "stderr",
     "output_type": "stream",
     "text": [
      "18:17 - Cannot initialize outer scoped variable 'special' in the same scope as block scoped declaration 'special'.\n"
     ]
    }
   ],
   "source": [
    "function something() {\n",
    "    var special = \"JavaScript\";\n",
    "\n",
    "    {\n",
    "        let special = 42;   // totally fine shadowing\n",
    "\n",
    "        // ..\n",
    "    }\n",
    "}\n",
    "\n",
    "function another() {\n",
    "    // ..\n",
    "\n",
    "    {\n",
    "        let special = \"JavaScript\";\n",
    "\n",
    "        {\n",
    "            var special = \"JavaScript\";\n",
    "            // ^^^ Syntax Error\n",
    "\n",
    "            // ..\n",
    "        }\n",
    "    }\n",
    "}"
   ]
  },
  {
   "cell_type": "markdown",
   "metadata": {},
   "source": [
    "**Function Name Scope**"
   ]
  },
  {
   "cell_type": "code",
   "execution_count": null,
   "metadata": {},
   "outputs": [],
   "source": [
    "// We can define a function in the following way:\n",
    "\n",
    "var greet = function say(msg){ // We can assume that the scope for say function is\n",
    "                              // the greet function scope\n",
    "    console.log(msg);\n",
    "}\n",
    "\n",
    "greet('Welcome')\n",
    "console.log(say) // Uncaught ReferenceError: say is not defined"
   ]
  },
  {
   "cell_type": "markdown",
   "metadata": {},
   "source": [
    "**Global Scope and Let Keyword** the `let` keyword doesn't assign to global scope"
   ]
  },
  {
   "cell_type": "code",
   "execution_count": null,
   "metadata": {},
   "outputs": [],
   "source": [
    "window.aNumber = 254;\n",
    "\n",
    "let aNumber = \"Twenty One\";\n",
    "\n",
    "console.log(aNumber); // Twenty One\n",
    "\n",
    "console.log(window.aNumber);// 254"
   ]
  },
  {
   "cell_type": "markdown",
   "metadata": {},
   "source": [
    "**Redeclaration Within Scope** If a declaration of a variable has been done using `var`, redeclaration of the same variable is just ignored."
   ]
  },
  {
   "cell_type": "code",
   "execution_count": 14,
   "metadata": {},
   "outputs": [
    {
     "name": "stdout",
     "output_type": "stream",
     "text": [
      "Aztecs\n",
      "Aztecs\n"
     ]
    }
   ],
   "source": [
    "var civilization = \"Aztecs\";\n",
    "console.log(civilization); // Aztecs\n",
    "\n",
    "var civilization; // Ignored\n",
    "console.log(civilization); // Aztecs"
   ]
  },
  {
   "cell_type": "markdown",
   "metadata": {},
   "source": [
    "Redeclaration using `let` however is a `SyntaxError`. Mixing `let` and `var` will also throw error."
   ]
  },
  {
   "cell_type": "markdown",
   "metadata": {},
   "source": [
    "**Scope and Try Catch Block** the catch block creates its own scope, thus the error variable is accessible only within that scope."
   ]
  },
  {
   "cell_type": "code",
   "execution_count": 16,
   "metadata": {},
   "outputs": [
    {
     "name": "stderr",
     "output_type": "stream",
     "text": [
      "2:5 - Cannot find name 'unknownFunction'.\n",
      "8:13 - Cannot find name 'err'.\n"
     ]
    }
   ],
   "source": [
    "try{\n",
    "    unknownFunction();\n",
    "} catch(err) {\n",
    "    console.log(err)\n",
    "}\n",
    "\n",
    "// err is not accessible here\n",
    "console.log(err) // ReferenceError"
   ]
  },
  {
   "cell_type": "markdown",
   "metadata": {},
   "source": [
    "**Function Declaration In Block** The JavaScript specification says that function declarations are block scoped. However not all environements (browsers and even Node) stick to this specification because block scope was defined only in ES6."
   ]
  },
  {
   "cell_type": "code",
   "execution_count": null,
   "metadata": {},
   "outputs": [],
   "source": [
    "if(true){\n",
    "    function blockScopedFunction(){\n",
    "        console.log('A block scoped function')\n",
    "    }\n",
    "}\n",
    "\n",
    "blockScopedFunction() // 'A block scoped function'"
   ]
  },
  {
   "cell_type": "markdown",
   "metadata": {},
   "source": [
    "What about the following case?"
   ]
  },
  {
   "cell_type": "code",
   "execution_count": null,
   "metadata": {},
   "outputs": [],
   "source": [
    "if(false){\n",
    "    function blockScopedFunction(){\n",
    "        console.log('A block scoped function')\n",
    "    }\n",
    "}\n",
    "\n",
    "blockScopedFunction() // TypeError"
   ]
  },
  {
   "cell_type": "code",
   "execution_count": 18,
   "metadata": {},
   "outputs": [
    {
     "name": "stdout",
     "output_type": "stream",
     "text": [
      "Second\n"
     ]
    }
   ],
   "source": [
    "if(true){\n",
    "    function callMe(){\n",
    "        console.log('First')\n",
    "    }\n",
    "}\n",
    "\n",
    "if(true){\n",
    "    function callMe(){\n",
    "        console.log('Second')\n",
    "    }\n",
    "}\n",
    "\n",
    "callMe()\n",
    "\n",
    "function callMe(){\n",
    "    console.log('Third')\n",
    "}"
   ]
  },
  {
   "cell_type": "markdown",
   "metadata": {},
   "source": [
    "### Hoisting\n",
    "Variable being visible from the beginning of its enclosing scope, even though its declaration may appear further down in the scope, is called *hoisting*. In the below example, a case of function hoisting, two things occur:\n",
    "1. The identifier *hoistedFunction* is available from the beginning\n",
    "2. The identifier has reference to the function attached to it, so that we can call it"
   ]
  },
  {
   "cell_type": "code",
   "execution_count": 11,
   "metadata": {},
   "outputs": [
    {
     "name": "stdout",
     "output_type": "stream",
     "text": [
      "Function call\n"
     ]
    }
   ],
   "source": [
    "hoistedFunction();\n",
    "\n",
    "function hoistedFunction(){\n",
    "    console.log('Function call');\n",
    "}"
   ]
  },
  {
   "cell_type": "markdown",
   "metadata": {},
   "source": [
    "Function hoisting only applies to formal function declarations, not to function expression assignments ie. hoisting applies to function declaration, not to function expression."
   ]
  },
  {
   "cell_type": "code",
   "execution_count": 12,
   "metadata": {},
   "outputs": [
    {
     "name": "stderr",
     "output_type": "stream",
     "text": [
      "evalmachine.<anonymous>:2\n",
      "greeting();\n",
      "^\n",
      "\n",
      "TypeError: greeting is not a function\n",
      "    at evalmachine.<anonymous>:2:1\n",
      "    at evalmachine.<anonymous>:9:3\n",
      "    at sigintHandlersWrap (vm.js:288:15)\n",
      "    at Script.runInContext (vm.js:130:14)\n",
      "    at Object.runInContext (vm.js:311:6)\n",
      "    at Object.execute (C:\\Users\\salma\\AppData\\Roaming\\npm\\node_modules\\tslab\\dist\\executor.js:159:38)\n",
      "    at JupyterHandlerImpl.handleExecuteImpl (C:\\Users\\salma\\AppData\\Roaming\\npm\\node_modules\\tslab\\dist\\jupyter.js:206:38)\n",
      "    at count.execQueue.add (C:\\Users\\salma\\AppData\\Roaming\\npm\\node_modules\\tslab\\dist\\jupyter.js:164:57)\n"
     ]
    }
   ],
   "source": [
    "greeting();\n",
    "// TypeError\n",
    "\n",
    "var greeting = function greeting() {\n",
    "    console.log(\"Hello!\");\n",
    "};"
   ]
  },
  {
   "cell_type": "markdown",
   "metadata": {},
   "source": [
    "Notice, that we get `TypeError`, not `ReferenceError`. This means that JavaScript identifies the identifier greeting. But it doesn't know that it is a function.  \n",
    "\n",
    "Similar to function hoisting, we have *variable hoisting*."
   ]
  },
  {
   "cell_type": "code",
   "execution_count": 13,
   "metadata": {},
   "outputs": [
    {
     "name": "stdout",
     "output_type": "stream",
     "text": [
      "\u001b[90mundefined\u001b[39m\n"
     ]
    }
   ],
   "source": [
    "console.log(message)\n",
    "\n",
    "var message = 'A message...'"
   ]
  },
  {
   "cell_type": "markdown",
   "metadata": {},
   "source": [
    "When a variable is hoisted, the identifier is available from the beginning and the variable is assigned value undefined."
   ]
  },
  {
   "cell_type": "markdown",
   "metadata": {},
   "source": [
    "### Closure\n",
    "*Closure* as a topic is only relevant to functions. The effect of closure can be illustrated by the following example:"
   ]
  },
  {
   "cell_type": "code",
   "execution_count": 21,
   "metadata": {},
   "outputs": [
    {
     "name": "stdout",
     "output_type": "stream",
     "text": [
      "Recipe for id 1\n",
      "lemon\n",
      "water\n",
      "sugar\n",
      "ice\n",
      "Recipe for id 2\n",
      "orange\n",
      "salt\n",
      "sugar\n"
     ]
    }
   ],
   "source": [
    "function recipeGenerator(recipeId){\n",
    "    var recipes = [\n",
    "        {id: 1, ingredients: ['lemon', 'water', 'sugar', 'ice']},\n",
    "        {id: 2, ingredients: ['orange', 'salt', 'sugar']},\n",
    "        {id: 3, ingredients: ['chicken', 'salt', 'olive oil']}\n",
    "    ]\n",
    "    \n",
    "    return function printRecipe(){\n",
    "        var recipe = recipes.find(recipe => recipe.id == recipeId)\n",
    "        \n",
    "        console.log(`Recipe for id ${recipe.id}`)\n",
    "        for(let i of recipe.ingredients){\n",
    "            console.log(i)\n",
    "        }\n",
    "    }\n",
    "}\n",
    "\n",
    "var lemonadeRecipe = recipeGenerator(1)\n",
    "lemonadeRecipe()\n",
    "\n",
    "var orangeJuiceRecipe = recipeGenerator(2)\n",
    "orangeJuiceRecipe()"
   ]
  },
  {
   "cell_type": "markdown",
   "metadata": {},
   "source": [
    "If there was no closure, the variables recipeId and recipes should have been garbage collected once the call to `recipeGenerator` was finished. But it is not the case here. All variables in `recipeGenerator` scope are preserved each execution.  \n",
    "\n",
    "Closure allows `printRecipe` to continue to access those outer variables even after the outer scope is finished."
   ]
  },
  {
   "cell_type": "code",
   "execution_count": 23,
   "metadata": {},
   "outputs": [
    {
     "name": "stdout",
     "output_type": "stream",
     "text": [
      "Being called 1 times\n",
      "Being called 2 times\n"
     ]
    }
   ],
   "source": [
    "function callCounter(){\n",
    "    var counter = 0;\n",
    "    \n",
    "    return function(){\n",
    "        counter++;\n",
    "        console.log(`Being called ${counter} times`)\n",
    "    }\n",
    "}\n",
    "\n",
    "var fn = callCounter()\n",
    "fn()\n",
    "fn()"
   ]
  },
  {
   "cell_type": "markdown",
   "metadata": {},
   "source": [
    "For closure to come into effect, we don't necessarily need an outer function. An inner function inside an outer scope is enough."
   ]
  },
  {
   "cell_type": "code",
   "execution_count": 26,
   "metadata": {},
   "outputs": [
    {
     "name": "stdout",
     "output_type": "stream",
     "text": [
      "\u001b[33m1\u001b[39m\n",
      "\u001b[33m2\u001b[39m\n",
      "\u001b[33m3\u001b[39m\n"
     ]
    }
   ],
   "source": [
    "var hits\n",
    "\n",
    "{\n",
    "    // Scope defined by the curly braces\n",
    "    let count = 0\n",
    "    hits = function(){\n",
    "        count++\n",
    "        console.log(count)\n",
    "    }\n",
    "}\n",
    "\n",
    "hits()\n",
    "hits()\n",
    "hits()"
   ]
  },
  {
   "cell_type": "markdown",
   "metadata": {},
   "source": [
    "Close is *variable-oriented* and not *value-oriented*."
   ]
  },
  {
   "cell_type": "code",
   "execution_count": 25,
   "metadata": {},
   "outputs": [
    {
     "name": "stdout",
     "output_type": "stream",
     "text": [
      "\u001b[33m1\u001b[39m\n",
      "\u001b[33m4\u001b[39m\n",
      "\u001b[33m9\u001b[39m\n"
     ]
    }
   ],
   "source": [
    "var functions = []\n",
    "\n",
    "for(let i=0; i<5; i++){\n",
    "    functions[i] = function(){\n",
    "        return i*i;\n",
    "    }\n",
    "}\n",
    "\n",
    "console.log(functions[1]())\n",
    "console.log(functions[2]())\n",
    "console.log(functions[3]())"
   ]
  },
  {
   "cell_type": "markdown",
   "metadata": {},
   "source": [
    "Whereas if we use `var`, we get"
   ]
  },
  {
   "cell_type": "code",
   "execution_count": 1,
   "metadata": {},
   "outputs": [
    {
     "name": "stdout",
     "output_type": "stream",
     "text": [
      "\u001b[33m25\u001b[39m\n",
      "\u001b[33m25\u001b[39m\n",
      "\u001b[33m25\u001b[39m\n"
     ]
    }
   ],
   "source": [
    "var functions = []\n",
    "\n",
    "for(var i=0; i<5; i++){\n",
    "    functions[i] = function(){\n",
    "        return i*i;\n",
    "    }\n",
    "}\n",
    "\n",
    "console.log(functions[1]())\n",
    "console.log(functions[2]())\n",
    "console.log(functions[3]())"
   ]
  },
  {
   "cell_type": "markdown",
   "metadata": {},
   "source": [
    "The reason for the difference lies in how JavaScript interprets `let` in a for loop. When we use `let` instead of `var`, JavaScript creates a new variable for each iteration."
   ]
  },
  {
   "cell_type": "code",
   "execution_count": null,
   "metadata": {},
   "outputs": [],
   "source": [
    "for(let i=0; i<5; i++){\n",
    "    console.log(i)\n",
    "}\n",
    "\n",
    "// is equivalent to:\n",
    "for(var i=0; i<5; i++){\n",
    "    let j = i;\n",
    "    console.log(j)\n",
    "}"
   ]
  },
  {
   "cell_type": "markdown",
   "metadata": {},
   "source": [
    "It has already been mentioned that `eval` is source of lot of confusion. If we consider the below snippet"
   ]
  },
  {
   "cell_type": "code",
   "execution_count": null,
   "metadata": {},
   "outputs": [],
   "source": [
    "function storeStudentInfo(id,name,grade) { // none of these variables are being used inside the inner function, so should have\n",
    "                                           // been garbage collected. But no!\n",
    "    return function getInfo(whichValue){\n",
    "        //   using `eval(..)` is a bad idea!\n",
    "        var val = eval(whichValue);\n",
    "        return val;\n",
    "    };\n",
    "}\n",
    "\n",
    "var info = storeStudentInfo(73,\"Suzy\",87);\n",
    "\n",
    "console.log(info(\"name\")); // Suzy\n",
    "console.log(info(\"grade\"));// 87"
   ]
  },
  {
   "cell_type": "code",
   "execution_count": null,
   "metadata": {},
   "outputs": [],
   "source": []
  }
 ],
 "metadata": {
  "kernelspec": {
   "display_name": "JavaScript",
   "language": "javascript",
   "name": "jslab"
  },
  "language_info": {
   "file_extension": ".js",
   "mimetype": "text/javascript",
   "name": "javascript",
   "version": ""
  }
 },
 "nbformat": 4,
 "nbformat_minor": 4
}
