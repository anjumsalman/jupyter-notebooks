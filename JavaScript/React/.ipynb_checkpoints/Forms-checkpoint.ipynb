{
 "cells": [
  {
   "cell_type": "markdown",
   "metadata": {},
   "source": [
    "### Form Elements\n",
    "A typical form has textboxes, buttons, dropdowns, radio buttons and check boxes. We will analyse all the common form elements and look at how to obtain values from each.\n",
    "\n",
    "**Inputbox:** "
   ]
  },
  {
   "cell_type": "code",
   "execution_count": null,
   "metadata": {},
   "outputs": [],
   "source": [
    "const Form = (props) => {\n",
    "  const [name, setName] = useState(\"\");\n",
    "\n",
    "  const handleFormSubmit = (event) => {\n",
    "    event.preventDefault();\n",
    "  };\n",
    "\n",
    "  const onNameChange = (event) => {\n",
    "    setName(event.target.value);\n",
    "  };\n",
    "\n",
    "  return (\n",
    "    <form onSubmit={handleFormSubmit}>\n",
    "      <label for=\"name\">Name </label>\n",
    "      <input name=\"name\" value={name} onChange={onNameChange} />\n",
    "      <span> Name selected: {name}</span>\n",
    "    </form>\n",
    "  );\n",
    "};"
   ]
  },
  {
   "cell_type": "markdown",
   "metadata": {},
   "source": [
    "Note that React, for some reason, attaches listeners for `Component.onChange` to the DOM `element.oninput` event.\n",
    "\n",
    "**Checkbox:** single isolated checkbox corresponds to a boolean value:"
   ]
  },
  {
   "cell_type": "code",
   "execution_count": null,
   "metadata": {},
   "outputs": [],
   "source": [
    "const Form = (props) => {\n",
    "  const [optIn, setOptIn] = useState(false);\n",
    "\n",
    "  const handleFormSubmit = (event) => {\n",
    "    event.preventDefault();\n",
    "  };\n",
    "\n",
    "  const onOptInChange = (event) => {\n",
    "    setOptIn(!optIn);\n",
    "  };\n",
    "\n",
    "  return (\n",
    "    <form onSubmit={handleFormSubmit}>\n",
    "      <input\n",
    "        type=\"checkbox\"\n",
    "        id=\"optin\"\n",
    "        checked={optIn}\n",
    "        onChange={onOptInChange}\n",
    "      />\n",
    "      <label for=\"optin\">{\"Opt in for the newsletter\"}</label>\n",
    "      <br />\n",
    "      {optIn && <span>\"You'll be receiving the newsletter\"</span>}\n",
    "    </form>\n",
    "  );\n",
    "};"
   ]
  },
  {
   "cell_type": "markdown",
   "metadata": {},
   "source": [
    "We can expand this for multiple checkboxes.\n",
    "\n",
    "**Text Area:** React JSX expands upon the capabilities of input tag to act as textarea:"
   ]
  },
  {
   "cell_type": "code",
   "execution_count": null,
   "metadata": {},
   "outputs": [],
   "source": [
    "const Form = (props) => {\n",
    "  const [desc, setDesc] = useState(\"\");\n",
    "  \n",
    "  const handleFormSubmit = (event) => {\n",
    "    event.preventDefault();\n",
    "  };\n",
    "    \n",
    "  const onDescChange = (event) => {\n",
    "    setDesc(event.target.value);\n",
    "  };\n",
    "\n",
    "  return (\n",
    "    <form onSubmit={handleFormSubmit}>\n",
    "      <label for=\"description\">Description </label>\n",
    "      <input\n",
    "        type=\"textarea\"\n",
    "        name=\"description\"\n",
    "        value={desc}\n",
    "        onChange={onDescChange}\n",
    "      />\n",
    "    </form>\n",
    "  );\n",
    "};"
   ]
  },
  {
   "cell_type": "markdown",
   "metadata": {},
   "source": [
    "We could've used HTML standard textarea tag as well which allows us to specify rows and columns."
   ]
  },
  {
   "cell_type": "markdown",
   "metadata": {},
   "source": [
    "### Validation\n",
    "Validating input is extremely important for a form. Below example provides a simple approach:"
   ]
  },
  {
   "cell_type": "code",
   "execution_count": null,
   "metadata": {},
   "outputs": [],
   "source": [
    "const Form = (props) => {\n",
    "  const [formData, setFormData] = useState({\n",
    "    name: \"\",\n",
    "    age: null,\n",
    "    desc: \"\"\n",
    "  });\n",
    "\n",
    "  const [fieldError, setFieldError] = useState({});\n",
    "\n",
    "  const [people, setPeople] = useState([]);\n",
    "\n",
    "  const onFieldChange = (event) => {\n",
    "    const tempData = { ...formData };\n",
    "    tempData[event.target.name] = event.target.value;\n",
    "    setFormData(tempData);\n",
    "  };\n",
    "\n",
    "  const validate = (data) => {\n",
    "    const errors = {};\n",
    "\n",
    "    if (!data.name) errors.nameRequired = \"Name is required\";\n",
    "    if (!data.age) errors.ageRequired = \"Age is required\";\n",
    "    if (!Number.isInteger(+data.age)) errors.ageInteger = \"Age must be integer\";\n",
    "    if (parseInt(data.age, 10) < 0)\n",
    "      errors.agePositive = \"Age must be greater than 0\";\n",
    "\n",
    "    return errors;\n",
    "  };\n",
    "\n",
    "  const onFormSubmit = (event) => {\n",
    "    const data = { ...formData };\n",
    "    const errors = validate(data);\n",
    "    setFieldError(errors);\n",
    "\n",
    "    // Prevent form submit behaviour\n",
    "    event.preventDefault();\n",
    "\n",
    "    // Return if there is any form error\n",
    "    if (Object.keys(errors).length) return;\n",
    "\n",
    "    setPeople(people.concat(data));\n",
    "\n",
    "    // Reset form\n",
    "    setFormData({\n",
    "      name: \"\",\n",
    "      age: null,\n",
    "      desc: \"\"\n",
    "    });\n",
    "  };\n",
    "\n",
    "  return (\n",
    "    <form onSubmit={onFormSubmit}>\n",
    "      <h3>Add People</h3>\n",
    "      <label for=\"name\">Name {formData.name}</label>\n",
    "      <input name=\"name\" value={formData.name} onChange={onFieldChange} />\n",
    "      <p style={{ color: \"red\" }}>{fieldError.nameRequired}</p>\n",
    "      <br />\n",
    "      <label for=\"age\">Age {formData.age}</label>\n",
    "      <input name=\"age\" value={formData.age} onChange={onFieldChange} />\n",
    "      <p style={{ color: \"red\" }}>{fieldError.ageRequired}</p>\n",
    "      <p style={{ color: \"red\" }}>{fieldError.ageInteger}</p>\n",
    "      <p style={{ color: \"red\" }}>{fieldError.agePositive}</p>\n",
    "      <br />\n",
    "      <label for=\"desc\">Description </label>\n",
    "      <input\n",
    "        type=\"textarea\"\n",
    "        name=\"desc\"\n",
    "        value={formData.desc}\n",
    "        onChange={onFieldChange}\n",
    "      />\n",
    "      <br />\n",
    "      <input type=\"submit\" value=\"Add\" />\n",
    "    </form>\n",
    "  );\n",
    "};"
   ]
  },
  {
   "cell_type": "markdown",
   "metadata": {},
   "source": [
    "**Encapsulating Validation Per Field:** The aim is to allow each field to be responsible for identifying validation errors on its own input."
   ]
  },
  {
   "cell_type": "code",
   "execution_count": null,
   "metadata": {},
   "outputs": [],
   "source": [
    "const Field = (props) => {\n",
    "    const [value, setValue] = useState(props.value);\n",
    "    const [error, setError] = useState(false);\n",
    "    \n",
    "    useEffect(() => {\n",
    "        setValue(props.value)\n",
    "    }, [props.value])\n",
    "    \n",
    "    \n",
    "}\n",
    "\n",
    "Field.propTypes = {\n",
    "    placeholder: PropTypes.string,\n",
    "    name: PropTypes.string.isRequired,\n",
    "    value: PropTypes.string,\n",
    "    validate: PropTypes.func,\n",
    "    onChange: PropTypes.func.isRequired\n",
    "}"
   ]
  }
 ],
 "metadata": {
  "kernelspec": {
   "display_name": "JavaScript",
   "language": "javascript",
   "name": "jslab"
  },
  "language_info": {
   "file_extension": ".js",
   "mimetype": "text/javascript",
   "name": "javascript",
   "version": ""
  }
 },
 "nbformat": 4,
 "nbformat_minor": 4
}
