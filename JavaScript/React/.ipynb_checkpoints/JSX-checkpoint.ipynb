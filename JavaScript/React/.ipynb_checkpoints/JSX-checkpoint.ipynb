{
 "cells": [
  {
   "cell_type": "markdown",
   "metadata": {},
   "source": [
    "### JSX\n",
    "Is a Javascript syntax extension allowing us to create React elements using an HTML like markup inside JS code. On compiling, the JSX logic is replaced with equivalent `React.createElement` function call. Examples:"
   ]
  },
  {
   "cell_type": "code",
   "execution_count": null,
   "metadata": {},
   "outputs": [],
   "source": [
    "// multiline JSX is wrapped inside paranthesis\n",
    "const list = (\n",
    "  <ul>\n",
    "    <li key=\"1\">Item 1</li>\n",
    "    <li key=\"2\">Item 1</li>\n",
    "  </ul>\n",
    ");\n",
    "\n",
    "// compiled to\n",
    "React.createElement(\n",
    "    \"ul\",\n",
    "    {},\n",
    "    [\n",
    "        React.createElement(\"li\", {key: \"1\"}, \"Item 1\"),\n",
    "        React.createElement(\"li\", {key: \"2\"}, \"Item 2\"),\n",
    "    ]\n",
    ")"
   ]
  },
  {
   "cell_type": "markdown",
   "metadata": {},
   "source": [
    "Why JSX and why not string literal? Reason: too much syntax noise when we use string literal. Also, tooling that is built around the assumptions imposed by template literals wouldn't work. "
   ]
  },
  {
   "cell_type": "markdown",
   "metadata": {},
   "source": [
    "### JavaScript Expressions in Attributes\n",
    "We can specify a JavaScript expression as attribute value. For that, we need to utilize `{}`"
   ]
  },
  {
   "cell_type": "code",
   "execution_count": null,
   "metadata": {},
   "outputs": [],
   "source": [
    "const date = <Date date={Date.now()} />;\n",
    "\n",
    "// Below two expressions are equivalent\n",
    "const loginForm = <Form show={true} />\n",
    "const loginForm_ = <Form show />\n",
    "    \n",
    "// Below two expressions are also equivalent\n",
    "const search = <input value={\"Search term\"} type=\"text\">\n",
    "const search_ = <input value=\"Search term\" type=\"text\">\n",
    "\n",
    "const person = <Person name={window.isLoggedIn ? window.name : ''} />;\n",
    "\n",
    "// Different data types\n",
    "<OurComponent\n",
    "  name=\"Brad\"                   // String\n",
    "  age={34}                      // Number\n",
    "  retired={false}               // Boolean\n",
    "  trainer={true}                // Boolean\n",
    "  hobbies={[                    // An array\n",
    "    'Computer Stuff',\n",
    "    'Long walks on the beach'\n",
    "  ]}\n",
    "  location={{                   // An Object\n",
    "    state: 'Arizona',\n",
    "    country: 'US'\n",
    "  }}\n",
    "  onRemove={removeUser}         // A reference to a function\n",
    "  onSave={() => {               // An inline arrow function\n",
    "    console.log('Hello')\n",
    "  }}\n",
    "/>"
   ]
  },
  {
   "cell_type": "markdown",
   "metadata": {},
   "source": [
    "Likewise, JavaScript expressions may be used to express children:"
   ]
  },
  {
   "cell_type": "code",
   "execution_count": null,
   "metadata": {},
   "outputs": [],
   "source": [
    "const message = \"Hello everyone!\";\n",
    "const greetings = <h2>{message}</h2>;"
   ]
  },
  {
   "cell_type": "markdown",
   "metadata": {},
   "source": [
    "String literals are automatically escaped, so:"
   ]
  },
  {
   "cell_type": "code",
   "execution_count": null,
   "metadata": {},
   "outputs": [],
   "source": [
    "<Board message={'<3'} />\n",
    "// gets converted to    \n",
    "<Board message=\"&lt;3\" />"
   ]
  },
  {
   "cell_type": "markdown",
   "metadata": {},
   "source": [
    "Few attributes have same name as JS reserved keywords, like class and for. In that case:"
   ]
  },
  {
   "cell_type": "code",
   "execution_count": null,
   "metadata": {},
   "outputs": [],
   "source": [
    "// class replaced with className\n",
    "<span className=\"active\">Country</span>\n",
    "\n",
    "// for replaced with htmlFor\n",
    "<label htmlFor=\"username\">Username</label>"
   ]
  },
  {
   "cell_type": "markdown",
   "metadata": {},
   "source": [
    "Attributes that are not part of native HTML DOM components, must be appended with `data-`."
   ]
  },
  {
   "cell_type": "code",
   "execution_count": null,
   "metadata": {},
   "outputs": [],
   "source": [
    "<span data-highlight={true} />\n",
    "<div className=\"box\" data-dismissable={true} />\n",
    "    \n",
    "// web accessibility related attributes are specified by appending aria-\n",
    "<div aria-hidden={true} />"
   ]
  },
  {
   "cell_type": "markdown",
   "metadata": {},
   "source": [
    "We can also use ES6's spread operator:"
   ]
  },
  {
   "cell_type": "code",
   "execution_count": null,
   "metadata": {},
   "outputs": [],
   "source": [
    "const person = {\n",
    "    firstName: \"John\",\n",
    "    lastName: \"Doe\",\n",
    "    age: 32\n",
    "}\n",
    "\n",
    "const p = <Info {...person} />"
   ]
  },
  {
   "cell_type": "markdown",
   "metadata": {},
   "source": [
    "### Conditional\n",
    "To conditionally render elements, we can employ a number of techniques:"
   ]
  },
  {
   "cell_type": "code",
   "execution_count": null,
   "metadata": {},
   "outputs": [],
   "source": [
    "// Short-circuiting\n",
    "const loggedIn = ...\n",
    "const menu = (\n",
    "    <div>\n",
    "        <h1>Menu</h1>\n",
    "        { loggedIn && <span>Logout</span> }\n",
    "    </div>\n",
    ")"
   ]
  },
  {
   "cell_type": "code",
   "execution_count": null,
   "metadata": {},
   "outputs": [],
   "source": [
    "// Ternary operator\n",
    "const hour = new Date().getHours();\n",
    "const greeting = (\n",
    "  <div>{hour >= 6 && hour <= 18 ? \"Good day\" : \"Good night\"}</div>\n",
    ");"
   ]
  },
  {
   "cell_type": "code",
   "execution_count": null,
   "metadata": {},
   "outputs": [],
   "source": [
    "// Function call\n",
    "function getGreeting(){\n",
    "    const hour = new Date().getHours();\n",
    "    if(hour >= 6 && hour <= 18)\n",
    "        return \"Good day\";\n",
    "    else \n",
    "        return \"Good night\";\n",
    "}\n",
    "\n",
    "const greeting = (\n",
    "  <div>{getGreeting()}</div>\n",
    ");"
   ]
  },
  {
   "cell_type": "markdown",
   "metadata": {},
   "source": [
    "### Lists\n",
    "We cannot use `for` or `while` blocks within JSX since they don't return values. So, in order to render mulitple items, we use `map` function:"
   ]
  },
  {
   "cell_type": "code",
   "execution_count": null,
   "metadata": {},
   "outputs": [],
   "source": [
    "const cities = [\"Paris\", \"Chicago\", \"Lagos\", \"Durban\", \"Wellington\"];\n",
    "\n",
    "const cityList = (\n",
    "  <ul>\n",
    "    {cities.map((city, index) => (\n",
    "      <li key={index}>{city}</li>\n",
    "    ))}\n",
    "  </ul>\n",
    ");"
   ]
  },
  {
   "cell_type": "markdown",
   "metadata": {},
   "source": [
    "To understand the need for a `key` prop, we can look at the below example:  \n",
    "![List and Keys](images/list_key.png)  \n",
    "\n",
    "React now needs to compare these two trees (correspondin to the two lists) to identify the changes made. And to do that, React iterates over both lists of children at the same time and generates a mutation whenever there’s a difference. In the first example, it will match the first three elements, and generate a mutation for the fourth one.  \n",
    "\n",
    "In the second example, a new item is added, but at the beginning. When comparing the first element of the old tree (Item 1) with the first element of the new tree (Item 0), they are different, so a mutation is generated. When comparing the second element of the old tree (Item 2) with the second element of the new tree (Item 1), they are different, so a mutation is generated. And so on. React uses the key to match children in the old tree with children in the new tree.\n",
    "\n",
    "The use of index as key also doesn't help us in above example:  \n",
    "![List and Keys](images/list_key_index.png)  \n",
    "\n",
    "Therefore it is necessary to use unique keys.  \n",
    "![List and Keys](images/list_unique_key.png)"
   ]
  },
  {
   "cell_type": "code",
   "execution_count": null,
   "metadata": {},
   "outputs": [],
   "source": []
  }
 ],
 "metadata": {
  "kernelspec": {
   "display_name": "TypeScript",
   "language": "typescript",
   "name": "tslab"
  },
  "language_info": {
   "codemirror_mode": {
    "mode": "typescript",
    "name": "javascript",
    "typescript": true
   },
   "file_extension": ".ts",
   "mimetype": "text/typescript",
   "name": "typescript",
   "version": "3.7.2"
  }
 },
 "nbformat": 4,
 "nbformat_minor": 4
}
