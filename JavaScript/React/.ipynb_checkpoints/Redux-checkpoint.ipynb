{
 "cells": [
  {
   "cell_type": "markdown",
   "metadata": {},
   "source": [
    "### Redux\n",
    "Redux is centralized state for application shared by multiple components.\n",
    "\n",
    "### Actions\n",
    "An action is an object which contains type key. For example:"
   ]
  },
  {
   "cell_type": "code",
   "execution_count": null,
   "metadata": {},
   "outputs": [],
   "source": [
    "const incrementCounter = {\n",
    "    type: 'increment/counter',\n",
    "    payload: 5  // Increment by 5\n",
    "}"
   ]
  },
  {
   "cell_type": "markdown",
   "metadata": {},
   "source": [
    "**Action creator** a function which returns an action"
   ]
  },
  {
   "cell_type": "code",
   "execution_count": null,
   "metadata": {},
   "outputs": [],
   "source": [
    "const incrementCounterGenerator = (incrementBy) => {\n",
    "    return {\n",
    "        type: 'increment/counter',\n",
    "        payload: incrementBy\n",
    "    }\n",
    "}"
   ]
  },
  {
   "cell_type": "markdown",
   "metadata": {},
   "source": [
    "### Reducer\n",
    "A reducer is a function that receives the current state and an action object, decides how to update the state if necessary, and returns the new state. A reducer must be a pure function, therefore it can't:\n",
    "1. Access global variables\n",
    "2. Change global variables\n",
    "3. Mutate its arguments\n",
    "4. Perform side effects (like make API calls)\n",
    "5. Call any other impure function (like date and random functions)"
   ]
  },
  {
   "cell_type": "code",
   "execution_count": null,
   "metadata": {},
   "outputs": [],
   "source": [
    "const initialState = {\n",
    "    count: 0\n",
    "}\n",
    "\n",
    "function counterReducer(state = initialState, action){\n",
    "    switch(action.type){\n",
    "        case 'increment/counter':\n",
    "            // The existing state must not be mutated\n",
    "            return {\n",
    "                ...state,\n",
    "                count: state.count + action.payload\n",
    "            }\n",
    "        case 'decrement/counter':\n",
    "            return {\n",
    "                ...state,\n",
    "                count: state.count - action.payload\n",
    "            }\n",
    "        default:\n",
    "            return state\n",
    "    }\n",
    "    \n",
    "    return state;\n",
    "}"
   ]
  },
  {
   "cell_type": "markdown",
   "metadata": {},
   "source": [
    "We need to have an initial value so that when Redux calls the reducer for the first time with `undefined`, it will return the `initialState`.\n",
    "\n",
    "**Breaking up reducer:** since there can be a lot of different actions, the reducer can grow big. Redux provides facility to specify multiple different reducers separately and then combine it. For example:"
   ]
  },
  {
   "cell_type": "code",
   "execution_count": null,
   "metadata": {},
   "outputs": [],
   "source": [
    "const initialState = {\n",
    "  posts: [],\n",
    "  filters: {\n",
    "    status: 'All',\n",
    "    colors: []\n",
    "  }\n",
    "}\n",
    "\n",
    "function nextPostId(posts) {\n",
    "  const maxId = posts.reduce((maxId, post) => Math.max(post.id, maxId), -1)\n",
    "  return maxId + 1\n",
    "}\n",
    "\n",
    "// Use the initialState as a default value\n",
    "export default function appReducer(state = initialState, action) {\n",
    "  switch (action.type) {\n",
    "    // actions related to post will have posts prefix\n",
    "    case 'posts/newPost': {\n",
    "      return {\n",
    "        ...state,\n",
    "        posts: [\n",
    "          ...state.todos,\n",
    "          {\n",
    "            id: nextTodoId(state.posts),\n",
    "            text: action.payload,\n",
    "            published: false\n",
    "          }\n",
    "        ]\n",
    "      }\n",
    "    }\n",
    "    // actions related to filters\n",
    "    case 'filters/statusFilterChanged': {\n",
    "      return {\n",
    "        ...state,\n",
    "        filters: {\n",
    "          ...state.filters,\n",
    "          status: action.payload\n",
    "        }\n",
    "      }\n",
    "    }\n",
    "    // other action types ...\n",
    "    default:\n",
    "      return state\n",
    "  }\n",
    "}"
   ]
  },
  {
   "cell_type": "markdown",
   "metadata": {},
   "source": [
    "We create two separate implementation for post and filter reducers."
   ]
  },
  {
   "cell_type": "code",
   "execution_count": null,
   "metadata": {},
   "outputs": [],
   "source": [
    "// Post reducer\n",
    "const initialState = []\n",
    "\n",
    "export default function postsReducer(state = initialState, action) {\n",
    "  switch (action.type) {\n",
    "    case 'posts/newPost': {\n",
    "      return {\n",
    "        ...state,\n",
    "        posts: [\n",
    "          ...state.todos,\n",
    "          {\n",
    "            id: nextTodoId(state.posts),\n",
    "            text: action.payload,\n",
    "            published: false\n",
    "          }\n",
    "        ]\n",
    "      }\n",
    "    }\n",
    "    // other post actions\n",
    "    default:\n",
    "      return state\n",
    "  }\n",
    "}"
   ]
  },
  {
   "cell_type": "code",
   "execution_count": null,
   "metadata": {},
   "outputs": [],
   "source": [
    "// Filter reducer\n",
    "const initialState = {\n",
    "  status: 'All',\n",
    "  colors: []\n",
    "}\n",
    "\n",
    "export default function filtersReducer(state = initialState, action) {\n",
    "  switch (action.type) {\n",
    "    case 'filters/statusFilterChanged': {\n",
    "      return {\n",
    "        ...state,\n",
    "        status: action.payload\n",
    "      }\n",
    "    }\n",
    "    default:\n",
    "      return state\n",
    "  }\n",
    "}"
   ]
  },
  {
   "cell_type": "markdown",
   "metadata": {},
   "source": [
    "Combining reducers:"
   ]
  },
  {
   "cell_type": "code",
   "execution_count": null,
   "metadata": {},
   "outputs": [],
   "source": [
    "// Reducers return state, so we can create a combinedReducer in the following manner\n",
    "function rootReducer(state = {}, action) {\n",
    "  return {\n",
    "    // the value of `state.todos` is whatever the posts reducer returns\n",
    "    posts: postsReducer(state.todos, action),\n",
    "    // For both reducers, we only pass in their slice of the state\n",
    "    filters: filtersReducer(state.filters, action)\n",
    "  }\n",
    "}"
   ]
  },
  {
   "cell_type": "code",
   "execution_count": null,
   "metadata": {},
   "outputs": [],
   "source": [
    "// Or we can use Redux provided utility for the same job\n",
    "import { combineReducers } from 'redux'\n",
    "\n",
    "const rootReducer = combineReducers({\n",
    "  posts: postsReducer,  // the key used here will be used to search in the state\n",
    "  filters: filtersReducer\n",
    "})"
   ]
  },
  {
   "cell_type": "markdown",
   "metadata": {},
   "source": [
    "### Store\n",
    "Store is where the state lives."
   ]
  },
  {
   "cell_type": "code",
   "execution_count": null,
   "metadata": {},
   "outputs": [],
   "source": [
    "import { createStore } from 'redux'\n",
    "\n",
    "const store = createStore(reducer);"
   ]
  },
  {
   "cell_type": "markdown",
   "metadata": {},
   "source": [
    "We can also pass an existing state as preloadedState second parameter to the store. For example, state stored in localStorage:"
   ]
  },
  {
   "cell_type": "code",
   "execution_count": null,
   "metadata": {},
   "outputs": [],
   "source": [
    "const storedState = localStorage.get('state');\n",
    "\n",
    "const store = createStore(reducer, storedState);"
   ]
  },
  {
   "cell_type": "markdown",
   "metadata": {},
   "source": [
    "Below is a minified implementation of store which resembles store defined by Redux:"
   ]
  },
  {
   "cell_type": "code",
   "execution_count": null,
   "metadata": {},
   "outputs": [],
   "source": [
    "function createStore(reducer, preloadedState) {\n",
    "  let state = preloadedState\n",
    "  const listeners = []\n",
    "\n",
    "  function getState() {\n",
    "    return state\n",
    "  }\n",
    "\n",
    "  function subscribe(listener) {\n",
    "    listeners.push(listener)\n",
    "    return function unsubscribe() {\n",
    "      const index = listeners.indexOf(listener)\n",
    "      listeners.splice(index, 1)\n",
    "    }\n",
    "  }\n",
    "\n",
    "  function dispatch(action) {\n",
    "    state = reducer(state, action)\n",
    "    listeners.forEach(listener => listener())\n",
    "  }\n",
    "\n",
    "  dispatch({ type: '@@redux/INIT' })\n",
    "\n",
    "  return { dispatch, subscribe, getState }\n",
    "}"
   ]
  },
  {
   "cell_type": "markdown",
   "metadata": {},
   "source": [
    "The createStore function accepts a third parameter called as store enhancer. A store enhancer provides a custom implementation for dispatch, getState and subscribe functions."
   ]
  },
  {
   "cell_type": "code",
   "execution_count": null,
   "metadata": {},
   "outputs": [],
   "source": [
    "const store = createStore(rootReducer, undefined, myStoreEnhancer);\n",
    "\n",
    "// We can also specify multiple store enhancers, by combining\n",
    "// all using the compose method\n",
    "import { compose } from 'redux'\n",
    "\n",
    "const composedEnhancer = compose(sayHiOnDispatch, includeMeaningOfLife);\n",
    "const store = createStore(rootReducer, undefined, composedEnhancer);"
   ]
  },
  {
   "cell_type": "markdown",
   "metadata": {},
   "source": [
    "### Dispatch\n",
    "We dispatch an action to update state."
   ]
  },
  {
   "cell_type": "code",
   "execution_count": null,
   "metadata": {},
   "outputs": [],
   "source": [
    "store.dispatch({\n",
    "    type: 'decrement/counter',\n",
    "    payload: 10\n",
    "})\n",
    "\n",
    "console.log(store.getState())"
   ]
  },
  {
   "cell_type": "markdown",
   "metadata": {},
   "source": [
    "### React Middleware\n",
    "```\n",
    "DISPATCH --> MIDDLEWARE --> REDUCER\n",
    "```\n",
    "Using middlewares we can:\n",
    "- provide logging support\n",
    "- do asynchronous work\n",
    "- applying multiple data processing logic like validation\n",
    "\n",
    "![Redux Middleware 1](images/middlewares.png)  \n",
    "\n",
    "A middleware can inspect actions and state, modify actions, dispatch other actions, stop actions from reaching the reducers, and much more.\n",
    "\n",
    "![Redux Middleware 2](images/middlewares2.png)\n",
    "\n",
    "React middleware looks like:"
   ]
  },
  {
   "cell_type": "code",
   "execution_count": null,
   "metadata": {},
   "outputs": [],
   "source": [
    "function someMiddleware(store){\n",
    "    return function(next){\n",
    "        return function(action){\n",
    "            if(action.type === 'someAction'){\n",
    "                // implementation\n",
    "            }\n",
    "            \n",
    "            return next(action)\n",
    "        }\n",
    "    }\n",
    "}"
   ]
  },
  {
   "cell_type": "markdown",
   "metadata": {},
   "source": [
    "Middleware declaration looks better if we use arrow functions"
   ]
  },
  {
   "cell_type": "code",
   "execution_count": null,
   "metadata": {},
   "outputs": [],
   "source": [
    "const timerMiddleware = store => next => action => {\n",
    "    if (action.type === 'START_TIMER') {\n",
    "        action.interval = setInterval(() => store.dispatch({ type: 'TICK', currentTime: Date.now() }), 1000);\n",
    "    } else if (action.type === 'STOP_TIMER') {\n",
    "        clearInterval(action.interval);\n",
    "    }\n",
    "    return next(action);\n",
    "}"
   ]
  },
  {
   "cell_type": "markdown",
   "metadata": {},
   "source": [
    "Here is one of the ways to do asynchronous API call"
   ]
  },
  {
   "cell_type": "code",
   "execution_count": null,
   "metadata": {},
   "outputs": [],
   "source": [
    "import { appleMiddleware, store } from 'redux';\n",
    "\n",
    "const promiseMiddleware = store => next => action => {\n",
    "    if (action.payload && typeof action.payload.then === 'function') {\n",
    "        action.payload.\n",
    "        then(res => { \n",
    "                action.payload = res; return next(action); \n",
    "            }, err => { \n",
    "                action.error = err; return next(action); \n",
    "        });\n",
    "    } else {\n",
    "        // no-op if the `payload` property is not a promise\n",
    "        return next(action);\n",
    "    }\n",
    "}\n",
    "\n",
    "// We need to register this middleware\n",
    "const middleware = applyMiddleware(promiseMiddleware); // we can put multiple middlewares here\n",
    "                                                       // The middleware pipeline will be set up based\n",
    "                                                       // on the order of the parameters to applyMiddleware\n",
    "const store = createStore(reducer, middleware);\n",
    "\n",
    "store.dispatch({ type: 'get_data', payload: fetch('www.api.com/data') })"
   ]
  },
  {
   "cell_type": "markdown",
   "metadata": {},
   "source": [
    "### Connecting with UI\n",
    "The most basic way to connect to the React UI and update view based on state update is to reference the store and call its methods:"
   ]
  },
  {
   "cell_type": "code",
   "execution_count": null,
   "metadata": {},
   "outputs": [],
   "source": [
    "class MyComponent extends React.Component {\n",
    "    componentDidMount(){\n",
    "        // Subscribe to the imported store\n",
    "        store.subscribe(() => this.forceUpdate() )\n",
    "    }\n",
    "    \n",
    "    const addItem = (item) => {\n",
    "        return function(event){\n",
    "            store.dispatch({ type: 'ADD_ITEM', payload: item })\n",
    "        }\n",
    "    }\n",
    "    \n",
    "    // Other methods\n",
    "}"
   ]
  },
  {
   "cell_type": "markdown",
   "metadata": {},
   "source": [
    "The recommended way is to use `react-redux`. Below code blocks gives a glimpse into how the library is used. First we need to make the store available to our app."
   ]
  },
  {
   "cell_type": "code",
   "execution_count": null,
   "metadata": {},
   "outputs": [],
   "source": [
    "import { Provider } from 'react-redux'\n",
    "import store from './redux/store'\n",
    "\n",
    "const rootElement = document.getElementById('root')\n",
    "ReactDOM.render(\n",
    "  <Provider store={store}>\n",
    "    <App />\n",
    "  </Provider>,\n",
    "  rootElement\n",
    ")"
   ]
  },
  {
   "cell_type": "markdown",
   "metadata": {},
   "source": [
    "React Redux provides a `connect` function to read values from the Redux store. The connect function accepts two parameters explained below:\n",
    "- `mapStateToProps`: called every time the store state changes. It receives the entire store state, and should return an object of data this component needs. It connects a part of the Redux state to the props of a React component.\n",
    "- `mapDispatchToProps`: this parameter can either be a function, or an object. This is how a connected React component will be able to send messages to the store.\n",
    "    - If it’s a function, it will be called once on component creation. It will receive dispatch as an argument, and should return an object full of functions that use dispatch to dispatch actions.\n",
    "    - If it’s an object full of action creators, each action creator will be turned into a prop function that automatically dispatches its action when called. This is the recommended style."
   ]
  },
  {
   "cell_type": "code",
   "execution_count": null,
   "metadata": {},
   "outputs": [],
   "source": [
    "import { connect } from 'react-redux';\n",
    "\n",
    "const mapStateToProps = state => {\n",
    "  return { articles: state.articles };\n",
    "};\n",
    "\n",
    "// 1st variant\n",
    "const mapDispatchToProps = dispatch => {\n",
    "    return {\n",
    "        // addArticleAction is an action generator\n",
    "        addArticle: article => dispatch(addArticleAction(article))\n",
    "    }\n",
    "}\n",
    "\n",
    "// 2nd variant\n",
    "const mapDispatchToProps = {\n",
    "    // Just pass the action generator\n",
    "    addArticle: addArticleAction\n",
    "}\n",
    "\n",
    "const connectToStore = connect(mapStateToProps, mapDispatchToProps);"
   ]
  },
  {
   "cell_type": "markdown",
   "metadata": {},
   "source": [
    "The next step is to create the connected version of our existing component. This connected component's prop will be linked to Redux store"
   ]
  },
  {
   "cell_type": "code",
   "execution_count": null,
   "metadata": {},
   "outputs": [],
   "source": [
    "const ConnectedComponent = connectToStore(Component);"
   ]
  }
 ],
 "metadata": {
  "kernelspec": {
   "display_name": "JavaScript",
   "language": "javascript",
   "name": "jslab"
  },
  "language_info": {
   "file_extension": ".js",
   "mimetype": "text/javascript",
   "name": "javascript",
   "version": ""
  }
 },
 "nbformat": 4,
 "nbformat_minor": 4
}
