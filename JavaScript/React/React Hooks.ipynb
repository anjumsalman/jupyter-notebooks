{
 "cells": [
  {
   "cell_type": "markdown",
   "metadata": {},
   "source": [
    "### Hooks\n",
    "React Hooks let us use state and other React features without writing a class.\n",
    "\n",
    "### State Hook"
   ]
  },
  {
   "cell_type": "code",
   "execution_count": null,
   "metadata": {},
   "outputs": [],
   "source": [
    "import React, { useState } from 'react';\n",
    "function Component() {\n",
    "  const [count, setCount] = useState(0);\n",
    "  return (\n",
    "    <div>\n",
    "      <p>You clicked {count} times</p>\n",
    "      <button onClick={() => setCount(count + 1)}>\n",
    "        Click me\n",
    "      </button>\n",
    "    </div>\n",
    "  );\n",
    "}"
   ]
  },
  {
   "cell_type": "markdown",
   "metadata": {},
   "source": [
    "The `useState` function accepts initial value and returns the state variable as well as a function to help modify that state. Instead of passing a value to the function, we can also pass in a function which will be executed on initial render to obtain the initial value."
   ]
  },
  {
   "cell_type": "code",
   "execution_count": null,
   "metadata": {},
   "outputs": [],
   "source": [
    "const [message, setMessage] = useState( () => expensiveComputation() );"
   ]
  },
  {
   "cell_type": "markdown",
   "metadata": {},
   "source": [
    "The initial value will be assigned only on the initial render, ubsequent renders (due to a change of state in the component or a parent component), the argument of the useState Hook will be ignored and the current value will be retrieved. Therefore the below code may not work as expected:"
   ]
  },
  {
   "cell_type": "code",
   "execution_count": null,
   "metadata": {},
   "outputs": [],
   "source": [
    "const messageState = useState( props.message );"
   ]
  },
  {
   "cell_type": "markdown",
   "metadata": {},
   "source": [
    "useState works similar to setState (in case of class components) that it queues the update process. The second similarity is that we have to respect immutability when updating:"
   ]
  },
  {
   "cell_type": "code",
   "execution_count": null,
   "metadata": {},
   "outputs": [],
   "source": [
    "const [message, setMessage] = useState({ message: '', id: 1 });\n",
    "\n",
    "function updateMessage(event){\n",
    "    setMessage(prevState => {\n",
    "        return {\n",
    "            ...prevState,\n",
    "            message: event.target.value\n",
    "        }\n",
    "    })\n",
    "}"
   ]
  },
  {
   "cell_type": "markdown",
   "metadata": {},
   "source": [
    "### Effect Hook\n",
    "It serves the same purpose as `componentDidMount`, `componentDidUpdate`, and `componentWillUnmount` in React classes, but unified into a single API. Effect Hook lets us perform side effects in function components like data fetching, setting up a subscription, and manually changing the DOM in React components. Effect hook is triggered after rendering."
   ]
  },
  {
   "cell_type": "code",
   "execution_count": null,
   "metadata": {},
   "outputs": [],
   "source": [
    "import { useState, useEffect } from 'react';\n",
    "\n",
    "function Component() {\n",
    "  const [count, setCount] = useState(0);\n",
    "\n",
    "  useEffect(() => {    document.title = `You clicked ${count} times`;  });\n",
    "  return (\n",
    "    <div>\n",
    "      <p>You clicked {count} times</p>\n",
    "      <button onClick={() => setCount(count + 1)}>\n",
    "        Click me\n",
    "      </button>\n",
    "    </div>\n",
    "  );\n",
    "}"
   ]
  },
  {
   "cell_type": "markdown",
   "metadata": {},
   "source": [
    "How to emulate componentWillUnmount? We return a function from the useEffect function. That function will be executed when the component unmounts."
   ]
  },
  {
   "cell_type": "code",
   "execution_count": null,
   "metadata": {},
   "outputs": [],
   "source": [
    "useEffect(() => {\n",
    "    return () => {\n",
    "        // Cleanup code\n",
    "    }\n",
    "})"
   ]
  },
  {
   "cell_type": "markdown",
   "metadata": {},
   "source": [
    "The effect cleanup phase happens after every re-render, and not just once during unmounting. This can be illustrated by the following code block:"
   ]
  },
  {
   "cell_type": "code",
   "execution_count": null,
   "metadata": {},
   "outputs": [],
   "source": [
    "useEffect(() => {\n",
    "    // Subscribe to chat API for status change\n",
    "    ChatAPI.subscribeToFriendStatus(props.friend.id, handleStatusChange);\n",
    "    \n",
    "    // Unsubscribe\n",
    "    return () => {\n",
    "      ChatAPI.unsubscribeFromFriendStatus(props.friend.id, handleStatusChange);\n",
    "    };\n",
    "    \n",
    "});"
   ]
  },
  {
   "cell_type": "markdown",
   "metadata": {},
   "source": [
    "Consider the following set of events:\n",
    "1. Component mounted with props set as `{ friend: { id: 1 } }`, effect executed:"
   ]
  },
  {
   "cell_type": "code",
   "execution_count": null,
   "metadata": {},
   "outputs": [],
   "source": [
    "ChatAPI.subscribeToFriendStatus(1, handleStatusChange);"
   ]
  },
  {
   "cell_type": "markdown",
   "metadata": {},
   "source": [
    "2. Prop changed to `{ friend: { id: 2 } }`, effect executed:"
   ]
  },
  {
   "cell_type": "code",
   "execution_count": null,
   "metadata": {},
   "outputs": [],
   "source": [
    "ChatAPI.unsubscribeFromFriendStatus(1, handleStatusChange);\n",
    "ChatAPI.subscribeToFriendStatus(2, handleStatusChange);"
   ]
  },
  {
   "cell_type": "markdown",
   "metadata": {},
   "source": [
    "3. Prop changed to `{ friend: { id: 3 } }`, effect executed:"
   ]
  },
  {
   "cell_type": "code",
   "execution_count": null,
   "metadata": {},
   "outputs": [],
   "source": [
    "ChatAPI.unsubscribeFromFriendStatus(2, handleStatusChange);\n",
    "ChatAPI.subscribeToFriendStatus(3, handleStatusChange);"
   ]
  },
  {
   "cell_type": "markdown",
   "metadata": {},
   "source": [
    "4. Finally, when the component is unmounted:"
   ]
  },
  {
   "cell_type": "code",
   "execution_count": null,
   "metadata": {},
   "outputs": [],
   "source": [
    "ChatAPI.unsubscribeFromFriendStatus(3, handleStatusChange);"
   ]
  },
  {
   "cell_type": "markdown",
   "metadata": {},
   "source": [
    "As with useState, we can have multiple useEffect calls. They are executed in the order they appear. The other thing regarding calling effect is that we want them to execute only if a state or prop changes. We can do that by passing an array to useEffect:"
   ]
  },
  {
   "cell_type": "code",
   "execution_count": null,
   "metadata": {},
   "outputs": [],
   "source": [
    "// Run the below effect only if count has changed\n",
    "// To determine if count has changed == operator\n",
    "// is used and compared to older value\n",
    "useEffect(() => {\n",
    "  document.title = `You clicked ${count} times`;\n",
    "}, [count]);"
   ]
  }
 ],
 "metadata": {
  "kernelspec": {
   "display_name": "JavaScript",
   "language": "javascript",
   "name": "jslab"
  },
  "language_info": {
   "file_extension": ".js",
   "mimetype": "text/javascript",
   "name": "javascript",
   "version": ""
  }
 },
 "nbformat": 4,
 "nbformat_minor": 4
}
