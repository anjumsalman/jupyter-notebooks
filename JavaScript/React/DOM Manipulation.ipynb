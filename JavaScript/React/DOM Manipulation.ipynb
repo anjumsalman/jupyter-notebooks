{
 "cells": [
  {
   "cell_type": "markdown",
   "metadata": {},
   "source": [
    "### DOM Manipulation\n",
    "`ReactDom.render` renders a react element in a container element. If the container element already has children, it will be replaced with the react element which is passed. Example:"
   ]
  },
  {
   "cell_type": "code",
   "execution_count": null,
   "metadata": {},
   "outputs": [],
   "source": [
    "// reactElement initialised beforehand\n",
    "const container = document.getElementById(\"root\");\n",
    "\n",
    "ReactDOM.render(reactElement, container);"
   ]
  },
  {
   "cell_type": "markdown",
   "metadata": {},
   "source": [
    "A React element is not DOM node, it describes a DOM node. To create a React element, we can use `React.createElement`. Few examples:"
   ]
  },
  {
   "cell_type": "code",
   "execution_count": null,
   "metadata": {},
   "outputs": [],
   "source": [
    "// html tag name\n",
    "const banner = React.createElement(\n",
    "  \"div\",\n",
    "  {\n",
    "    className: \"navigation-container\",\n",
    "    style: { background: \"yellow\", borderRadius: \"5px\" }\n",
    "  },\n",
    "  \"Some text\"\n",
    ");\n",
    "\n",
    "const container = document.getElementById('root');\n",
    "ReactDOM.render(banner, container);"
   ]
  },
  {
   "cell_type": "code",
   "execution_count": null,
   "metadata": {},
   "outputs": [],
   "source": [
    "// a list\n",
    "const list = React.createElement(\n",
    "    \"ul\",\n",
    "    {},\n",
    "    [\n",
    "        React.createElement(\"li\", {}, \"Item 1\"),\n",
    "        React.createElement(\"li\", {}, \"Item 2\"),\n",
    "        React.createElement(\"li\", {}, \"Item 3\"),\n",
    "    ]\n",
    ")"
   ]
  },
  {
   "cell_type": "code",
   "execution_count": null,
   "metadata": {},
   "outputs": [],
   "source": [
    "// a React component\n",
    "import App from \"./App\";\n",
    "\n",
    "const app = React.createElement(App);\n",
    "\n",
    "const container = document.getElementById('root');\n",
    "ReactDOM.render(app, container);"
   ]
  },
  {
   "cell_type": "markdown",
   "metadata": {},
   "source": [
    "Or, we can make use of JSX."
   ]
  },
  {
   "cell_type": "code",
   "execution_count": null,
   "metadata": {},
   "outputs": [],
   "source": [
    "const banner = <div className=\"navigation-container\" style={{ background: \"yellow\", borderRadius: \"5px\" }}>Some text</div>\n",
    "\n",
    "const container = document.getElementById('root');\n",
    "ReactDOM.render(banner, container);"
   ]
  }
 ],
 "metadata": {
  "kernelspec": {
   "display_name": "JavaScript",
   "language": "javascript",
   "name": "jslab"
  },
  "language_info": {
   "file_extension": ".js",
   "mimetype": "text/javascript",
   "name": "javascript",
   "version": ""
  }
 },
 "nbformat": 4,
 "nbformat_minor": 4
}
