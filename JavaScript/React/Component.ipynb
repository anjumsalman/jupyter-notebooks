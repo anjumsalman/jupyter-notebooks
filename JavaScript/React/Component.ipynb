{
 "cells": [
  {
   "cell_type": "markdown",
   "metadata": {},
   "source": [
    "### React Component\n",
    "A React Component is a reusable piece of React application. A React Component can be defined using:\n",
    "- function definition\n",
    "- class definition"
   ]
  },
  {
   "cell_type": "markdown",
   "metadata": {},
   "source": [
    "### Functional Component\n",
    "Example:"
   ]
  },
  {
   "cell_type": "code",
   "execution_count": null,
   "metadata": {},
   "outputs": [],
   "source": [
    "// Component function or class name must be capitalised\n",
    "function Welcome(props){\n",
    "    // Return React element\n",
    "    return (\n",
    "        <div>\n",
    "            <h2>Welcome</h2>\n",
    "            <p>to my React application</p>\n",
    "        </div>\n",
    "    )\n",
    "}"
   ]
  },
  {
   "cell_type": "markdown",
   "metadata": {},
   "source": [
    "Often, Arrow functions are employed:"
   ]
  },
  {
   "cell_type": "code",
   "execution_count": null,
   "metadata": {},
   "outputs": [],
   "source": [
    "function Welcome = (props) => {\n",
    "    return (\n",
    "        <div>\n",
    "            <h2>Welcome</h2>\n",
    "            <p>to my React application</p>\n",
    "        </div>\n",
    "    )\n",
    "}"
   ]
  },
  {
   "cell_type": "markdown",
   "metadata": {},
   "source": [
    "### Class Component\n",
    "Example:"
   ]
  },
  {
   "cell_type": "code",
   "execution_count": null,
   "metadata": {},
   "outputs": [],
   "source": [
    "class Time extends React.Component{\n",
    "    render(){\n",
    "        return <span>{new Date().now}</span>   \n",
    "    }\n",
    "}"
   ]
  },
  {
   "cell_type": "markdown",
   "metadata": {},
   "source": [
    "`Component` extends `ComponentLifecycle`. `this` keyword in methods defined in these classes such as `render`, `componentDidMount`, etc refers to the component itself. User defined methods need to be explicitly bound to this."
   ]
  },
  {
   "cell_type": "code",
   "execution_count": null,
   "metadata": {},
   "outputs": [],
   "source": [
    "class MyComponent extends React.Component{\n",
    "    constructor(props){\n",
    "        super(props);\n",
    "        \n",
    "        // We need this because `this` inside myMethod\n",
    "        // will not refer to MyComponent otherwise\n",
    "        this.myMethod = this.myMethod.bind(this);\n",
    "    }\n",
    "    \n",
    "    myMethod(){\n",
    "        // Implementation\n",
    "    }\n",
    "    \n",
    "    // Render, etc\n",
    "}"
   ]
  },
  {
   "cell_type": "markdown",
   "metadata": {},
   "source": [
    "Or use arrow function"
   ]
  },
  {
   "cell_type": "code",
   "execution_count": null,
   "metadata": {},
   "outputs": [],
   "source": [
    "class MyComponent extends React.Component{\n",
    "    // `this` inside myMethod would refer to MyComponent\n",
    "    myMethod = () => {\n",
    "        // Implementation\n",
    "    }\n",
    "    \n",
    "    // Render, etc\n",
    "}"
   ]
  },
  {
   "cell_type": "markdown",
   "metadata": {},
   "source": [
    "### Props\n",
    "Props is how data is transfered from parent to child component. In the example below `CountryDisplay` component passes list of countries to `CountryList` child component"
   ]
  },
  {
   "cell_type": "code",
   "execution_count": null,
   "metadata": {},
   "outputs": [],
   "source": [
    "function CountryDisplay(props){\n",
    "    const countries = [\"Japan\", \"Slovenia\", \"South Africa\"];\n",
    "    \n",
    "    return <CountryList countries={countries} standard=\"ISO\" />\n",
    "}"
   ]
  },
  {
   "cell_type": "markdown",
   "metadata": {},
   "source": [
    "The child component can then access these props:"
   ]
  },
  {
   "cell_type": "code",
   "execution_count": null,
   "metadata": {},
   "outputs": [],
   "source": [
    "function CountryList(props){\n",
    "    const list = props.countries.map((country, index) => <li key={index}>{country}</li>)\n",
    "    \n",
    "    return <ul>{list}</ul>\n",
    "}\n",
    "\n",
    "// Common pattern to access only the required prop\n",
    "const CountryList = ({ countries }) => { // now instead of `props.countries`, we use `countries`\n",
    "    // implementation\n",
    "}\n",
    "\n",
    "// In case of class component\n",
    "class CountryList extends React.Component{\n",
    "    render(){\n",
    "        const list = this.props.countries.map((country, index) => <li key={index}>{country}</li>)\n",
    "    \n",
    "        return <ul>{list}</ul>\n",
    "    }\n",
    "}"
   ]
  },
  {
   "cell_type": "markdown",
   "metadata": {},
   "source": [
    "Often we would want to restrict type and requirement of props. We can achieve this using the `prop-types` library. Any of the following code blocks are valid way of specifying prop types:"
   ]
  },
  {
   "cell_type": "code",
   "execution_count": null,
   "metadata": {},
   "outputs": [],
   "source": [
    "// functional component\n",
    "function ReactComponent(props) {\n",
    "  // implement render logic here\n",
    "}\n",
    "ReactComponent.propTypes = {\n",
    "  // prop type definitions here\n",
    "}\n",
    "\n",
    "// class component\n",
    "class ReactComponent extends React.Component {\n",
    "  // component class body here\n",
    "}\n",
    "ReactComponent.propTypes = {\n",
    "  // prop type definitions here\n",
    "}\n",
    "\n",
    "// static member of class component\n",
    "class ReactComponent extends React.Component {\n",
    "  // component class body here\n",
    "  \n",
    "  static propTypes = {\n",
    "    // prop type definitions here\n",
    "  }\n",
    "}"
   ]
  },
  {
   "cell_type": "markdown",
   "metadata": {},
   "source": [
    "When props are passed to a React component, they are checked against the type definitions configured in the propTypes property. When an invalid value is passed for a prop, a warning is displayed on the JavaScript console."
   ]
  },
  {
   "cell_type": "code",
   "execution_count": null,
   "metadata": {},
   "outputs": [],
   "source": [
    "import { Component } from 'react';\n",
    "import { PropTypes } from 'prop-types';\n",
    "\n",
    "class MyComponent extends Component{\n",
    "    static propTypes = {\n",
    "        /* Basic PropTypes */\n",
    "        name: PropTypes.string,\n",
    "        value: PropTypes.any, // any data type\n",
    "        count: PropTypes.number,\n",
    "        onUpdate: PropTypes.func, // a function\n",
    "        tags: PropTypes.array, // an array\n",
    "        location: PropTypes.object,\n",
    "        identifier: PropTypes.symbol,\n",
    "        hideDetails: PropTypes.bool, // boolean\n",
    "        \n",
    "        /* Renderable PropTypes */\n",
    "        banner: PropTypes.element, // a React element like <Banner />\n",
    "        \n",
    "        /* Instance PropType */\n",
    "        region: PropTypes.instanceOf(Region), // instance of Region class\n",
    "        \n",
    "        /* Multiple types */\n",
    "        color:  PropTypes.oneOf(['red', 'blue', 'green', null]), // enum type, specific set of values\n",
    "        company: PropTypes.oneOfType([\n",
    "            PropType.object,\n",
    "            PropType.string,\n",
    "            PropType.instanceOf(Company)\n",
    "        ]), // specific set of types\n",
    "        \n",
    "        /* Collection Types */\n",
    "        graphics: PropTypes.arrayOf(PropTypes.string), // array of string\n",
    "        calculation: PropTypes.objectOf(PropTypes.number), // all property values match the specified type\n",
    "        profile: PropTypes.shape({\n",
    "            id: PropTypes.number,\n",
    "            fullname: PropTypes.string,\n",
    "            gender: PropTypes.oneOf(['M', 'F']),\n",
    "            birthdate: PropTypes.instanceOf(Date),\n",
    "            isAuthor: PropTypes.bool\n",
    "        }), // for more detailed validation of an object prop. Other keys may also exist, but these are required\n",
    "        subject: PropTypes.exact({\n",
    "            subject: PropTypes.oneOf(['Maths', 'Arts', 'Science']),\n",
    "            score: PropTypes.number\n",
    "        }) // for exact match\n",
    "    }\n",
    "}"
   ]
  },
  {
   "cell_type": "markdown",
   "metadata": {},
   "source": [
    "All the above props are optional. If some prop is mandatory, we can append `isRequired`, like:"
   ]
  },
  {
   "cell_type": "code",
   "execution_count": null,
   "metadata": {},
   "outputs": [],
   "source": [
    "class MyComponent extends Component{\n",
    "    static propTypes = {\n",
    "        /* Optional */\n",
    "        name: PropTypes.string,\n",
    "        \n",
    "        /* Mandatory */\n",
    "        value: PropTypes.number.isRequired\n",
    "    }\n",
    "}"
   ]
  },
  {
   "cell_type": "markdown",
   "metadata": {},
   "source": [
    "We can also pass a custom validation function:"
   ]
  },
  {
   "cell_type": "code",
   "execution_count": null,
   "metadata": {},
   "outputs": [],
   "source": [
    "// Validator function requires the below three parameters\n",
    "const isEmail = function(props, propName, componentName) {\n",
    "  const regex = /^((([^<>()[]\\.,;:s@\"]+(.[^<>()[]\\.,;:s@\"]+)*)|(\".+\"))@(([[0-9]{1,3}.[0-9]{1,3}.[0-9]{1,3}.[0-9]{1,3}])|(([a-zA-Z-0-9]+.)+[a-zA-Z]{2,})))?$/;\n",
    "  \n",
    "  if (!regex.test(props[propName])) {\n",
    "    return new Error(`Invalid prop `${propName}` passed to `${componentName}`. Expected a valid email address.`);\n",
    "  }\n",
    "}\n",
    "\n",
    "MyComponent.propTypes = {\n",
    "  email: isEmail\n",
    "}"
   ]
  },
  {
   "cell_type": "markdown",
   "metadata": {},
   "source": [
    "Custom validation functions can be mixed with other prop types:"
   ]
  },
  {
   "cell_type": "code",
   "execution_count": null,
   "metadata": {},
   "outputs": [],
   "source": [
    "MyComponent.propTypes = {\n",
    "  emails: PropTypes.arrayOf(isEmail)\n",
    "}\n",
    "\n",
    "// Or\n",
    "MyComponent.propTypes = {\n",
    "  email: PropTypes.oneOfType([\n",
    "    isEmail,\n",
    "    PropTypes.shape({\n",
    "      address: isEmail\n",
    "    })\n",
    "  ])\n",
    "}"
   ]
  },
  {
   "cell_type": "markdown",
   "metadata": {},
   "source": [
    "A component must must never modify its own props. If a component could mutate its props, we would be changing an object that is accessible to the parent node, even after the parent node had already rendered. Consider:"
   ]
  },
  {
   "cell_type": "code",
   "execution_count": null,
   "metadata": {},
   "outputs": [],
   "source": [
    "const Parent = (props) => {\n",
    "    return (\n",
    "        <div>\n",
    "            {props.user.name}\n",
    "            <Child user={props.user} />\n",
    "        </div>\n",
    "    )\n",
    "}\n",
    "\n",
    "const Child = (props) => {\n",
    "    props.user.name = \"Vue user\";\n",
    "    return <div>{props.user.name}</div>\n",
    "}\n",
    "\n",
    "React.render(<Parent user={{name: \"React user\"}} />, document.getElementById('container'));"
   ]
  },
  {
   "cell_type": "markdown",
   "metadata": {},
   "source": [
    "When we render the Parent, it outputs \"React user\" to the Shadow DOM. When Child is rendered, it outputs \"Vue user\". Parent is now wrong. It should say \"Vue user\" because user.name is \"Vue user\", but we already output \"React user\", and it's too late to change it."
   ]
  },
  {
   "cell_type": "markdown",
   "metadata": {},
   "source": [
    "### State\n",
    "State is a component's private data. To specify state, in case of class component:"
   ]
  },
  {
   "cell_type": "code",
   "execution_count": null,
   "metadata": {},
   "outputs": [],
   "source": [
    "class MyComponent extends React.Component {\n",
    "    state = {\n",
    "        name: '',\n",
    "        counter: 0,\n",
    "        tokens: []\n",
    "    }\n",
    "\n",
    "    // render and other methods\n",
    "}"
   ]
  },
  {
   "cell_type": "markdown",
   "metadata": {},
   "source": [
    "As the state is mutated, the component is re-rendered. However, we do not render state directly, it would not trigger re-render"
   ]
  },
  {
   "cell_type": "code",
   "execution_count": null,
   "metadata": {},
   "outputs": [],
   "source": [
    "// wrong!\n",
    "this.state.tokens.push('ab45cK#');\n",
    "\n",
    "// wrong!\n",
    "this.state.name = 'React';"
   ]
  },
  {
   "cell_type": "markdown",
   "metadata": {},
   "source": [
    "Instead, we use `setState` method to update state. We pass partial state to the method, which is then merged with the complete state. "
   ]
  },
  {
   "cell_type": "code",
   "execution_count": null,
   "metadata": {},
   "outputs": [],
   "source": [
    "this.setState({\n",
    "    counter: this.state.counter + 1;\n",
    "})"
   ]
  },
  {
   "cell_type": "markdown",
   "metadata": {},
   "source": [
    "`setState` executes asynchronously, therefore we can also pass a callback function as second parameter:"
   ]
  },
  {
   "cell_type": "code",
   "execution_count": null,
   "metadata": {},
   "outputs": [],
   "source": [
    "this.setState({\n",
    "    tokens: [...this.state.tokens, 1]\n",
    "}, () => {\n",
    "    console.log('Tokens updated successfully')\n",
    "})"
   ]
  },
  {
   "cell_type": "markdown",
   "metadata": {},
   "source": [
    "Since, `setState` is aynchronous, the below code doesn't work as intended"
   ]
  },
  {
   "cell_type": "code",
   "execution_count": null,
   "metadata": {},
   "outputs": [],
   "source": [
    "incrementCount() {\n",
    "  // Note: this will *not* work as intended.\n",
    "  this.setState({count: this.state.count + 1});\n",
    "}\n",
    "\n",
    "handleSomething() {\n",
    "  // Let's say `this.state.count` starts at 0.\n",
    "  this.incrementCount();\n",
    "  this.incrementCount();\n",
    "  this.incrementCount();\n",
    "  // When React re-renders the component, `this.state.count` will be 1, but we expected 3.\n",
    "\n",
    "  // This is because `incrementCount()` function above reads from `this.state.count`,\n",
    "  // but React doesn't update `this.state.count` until the component is re-rendered.\n",
    "  // So `incrementCount()` ends up reading `this.state.count` as 0 every time, and sets it to 1.\n",
    "}"
   ]
  },
  {
   "cell_type": "markdown",
   "metadata": {},
   "source": [
    "To overcome this, we use the following form of `setState`:"
   ]
  },
  {
   "cell_type": "code",
   "execution_count": null,
   "metadata": {},
   "outputs": [],
   "source": [
    "this.setState(function(state, props){\n",
    "    return {\n",
    "        counter: state.counter + 1\n",
    "    }\n",
    "})\n",
    "\n",
    "// Arrow function style\n",
    "this.setState(state => ({\n",
    "    counter: state.counter + 1\n",
    "}))"
   ]
  },
  {
   "cell_type": "markdown",
   "metadata": {},
   "source": [
    "### Component Lifecycle\n",
    "In latest React versions, the component lifecycle looks like:  \n",
    "\n",
    "<img src=\"images/component_lifecycle.jpg\" width=\"750\" height=\"auto\">  \n",
    "\n",
    "Mounting Phase\n",
    "1. The first method to be executed is the **constructor**, except if the component is functional component.\n",
    "2. **static static getDerivedStateFromProps(props, state)** allows a component to update its state based on prop changes. Usage:"
   ]
  },
  {
   "cell_type": "code",
   "execution_count": null,
   "metadata": {},
   "outputs": [],
   "source": [
    "static getDerivedStateFromProps(nextProps, prevState){\n",
    "  if(nextProps.someValue !== prevState.someValue){\n",
    "    return { someState: nextProps.someValue };\n",
    "  }\n",
    "    \n",
    "  else return null;\n",
    "}"
   ]
  },
  {
   "cell_type": "markdown",
   "metadata": {},
   "source": [
    "So, the following code based on deprecated lifecycle method"
   ]
  },
  {
   "cell_type": "code",
   "execution_count": null,
   "metadata": {},
   "outputs": [],
   "source": [
    "componentWillReceiveProps(nextProps){\n",
    "  // Check if prop has changed\n",
    "  if(nextProps.someValue !== this.props.someValue){\n",
    "    // Update the state with the new prop, setState\n",
    "    // here doesn't trigger additional update\n",
    "    this.setState({someState: someValue });\n",
    "    \n",
    "    // Do some additional task\n",
    "    this.doSomething();\n",
    "  }\n",
    "}"
   ]
  },
  {
   "cell_type": "markdown",
   "metadata": {},
   "source": [
    "can be rewritten as:"
   ]
  },
  {
   "cell_type": "code",
   "execution_count": null,
   "metadata": {},
   "outputs": [],
   "source": [
    "static getDerivedStateFromProps(nextProps, prevState){\n",
    "  // Check if prop has changed\n",
    "  if(nextProps.someValue!==prevState.someValue){\n",
    "     return { someState: nextProps.someValue};\n",
    "  }\n",
    "  else return null;\n",
    "}\n",
    "\n",
    "componentDidUpdate(prevProps, prevState) {\n",
    "  if(prevProps.someValue !== this.props.someValue){\n",
    "    this.setState({someState: someValue});\n",
    "    \n",
    "    // Do some additional task\n",
    "    this.doSomething();\n",
    "  }\n",
    "}"
   ]
  },
  {
   "cell_type": "markdown",
   "metadata": {},
   "source": [
    "3. Next, the **render()** method is called.\n",
    "4. Finally **componentDidMount()** runs which is the ideal place for API calls. Other things such as drawing on canvas, adding event listeners should all be done here."
   ]
  },
  {
   "cell_type": "markdown",
   "metadata": {},
   "source": [
    "Updating Phase is involved whenever there is an update to state or props. \n",
    "\n",
    "1. The **shouldComponentUpdate(nextProps, nextState)** method controls whether render should be triggered or not. This method can either return a true or false. Also, this method receives nextProps and nextState as arguments so we can always compare it with the component’s current prop and state values.  \n",
    "2. Next, **getSnapshotBeforeUpdate** gives access to the props and state value before the update is committed to the DOM. Rarely used.\n",
    "3. **componentDidUpdate(prevProps, prevState, snapshot)** is the final method executed in this phase. It also receives the former props and state values as arguments."
   ]
  },
  {
   "cell_type": "markdown",
   "metadata": {},
   "source": [
    "### Context\n",
    "Context provides a way to pass data through the component tree without having to pass props down manually at every level. Things such as Theme, Locale, etc can be made available in all child components without explicitly passing them as props."
   ]
  },
  {
   "cell_type": "code",
   "execution_count": null,
   "metadata": {},
   "outputs": [],
   "source": [
    "import { createContext, Component } from 'react';\n",
    "\n",
    "// Theme context created using light as default value\n",
    "const ThemeContext = createContext('light');\n",
    "\n",
    "class App extends Component {\n",
    "    render(){\n",
    "        // We will then wrap our render elements inside \n",
    "        // the provider component\n",
    "        <ThemeContext.Provider value=\"dark\" >\n",
    "            // MyComponent can access the theme, all its\n",
    "            // child components can also access it\n",
    "            <MyComponent />\n",
    "        </ThemeContext.Provider>\n",
    "    }\n",
    "}"
   ]
  },
  {
   "cell_type": "markdown",
   "metadata": {},
   "source": [
    "To access the context data in a functional component, we use the `useContext` function"
   ]
  },
  {
   "cell_type": "code",
   "execution_count": null,
   "metadata": {},
   "outputs": [],
   "source": [
    "import { useContext } from 'react';\n",
    "\n",
    "function MyComponent(props){\n",
    "    const theme = useContext(ThemeContext);\n",
    "    \n",
    "    // use the theme context\n",
    "}"
   ]
  }
 ],
 "metadata": {
  "kernelspec": {
   "display_name": "JavaScript (Node.js)",
   "language": "javascript",
   "name": "javascript"
  },
  "language_info": {
   "file_extension": ".js",
   "mimetype": "application/javascript",
   "name": "javascript",
   "version": "18.12.1"
  }
 },
 "nbformat": 4,
 "nbformat_minor": 4
}
