{
 "cells": [
  {
   "cell_type": "markdown",
   "metadata": {},
   "source": [
    "### Introduction\n",
    "The `Route` component renders a component based on the page path. A simplistic implementation looks like:"
   ]
  },
  {
   "cell_type": "code",
   "execution_count": null,
   "metadata": {},
   "outputs": [],
   "source": [
    "function Route(props) {\n",
    "  const pathname = window.location.pathname;\n",
    "  if (pathname.match(props.path)) {\n",
    "    return createElement(props.component);\n",
    "  } else {\n",
    "    return null;\n",
    "  }\n",
    "}\n",
    "\n",
    "// Or\n",
    "function Route({ path, component: Component }) {\n",
    "  const pathname = window.location.pathname;\n",
    "  if (pathname.match(props.path)) {\n",
    "    return <Component />;\n",
    "  } else {\n",
    "    return null;\n",
    "  }\n",
    "}"
   ]
  },
  {
   "cell_type": "markdown",
   "metadata": {},
   "source": [
    "The `match` function expects a regular expression as argument and returns an array containing matches. If a string is passed it is implicitly converted to a regular expression.\n",
    "\n",
    "If we have the following code:"
   ]
  },
  {
   "cell_type": "code",
   "execution_count": null,
   "metadata": {},
   "outputs": [],
   "source": [
    "export default function App() {\n",
    "  return (\n",
    "    <div className=\"App\">\n",
    "      <h1>Some Links</h1>\n",
    "      <ul>\n",
    "        <li><a href=\"/valorant\">Valorant</a></li>\n",
    "        <li><a href=\"/counterstrike\">Counter Strike</a></li>\n",
    "      </ul>\n",
    "      <br />\n",
    "      <Route path=\"/valorant\" component={Valorant} />\n",
    "      <Route path=\"/counterstrike\" component={CounterStrike} />\n",
    "    </div>\n",
    "  );\n",
    "}\n",
    "\n",
    "function Valorant(props) {\n",
    "  return (\n",
    "    <div>\n",
    "      <h2>Valorant</h2>\n",
    "      <p>By Riot</p>\n",
    "    </div>\n",
    "  );\n",
    "}\n",
    "\n",
    "function CounterStrike(props) {\n",
    "  return (\n",
    "    <div className=\"description\">\n",
    "      <h2>Counter Strike</h2>\n",
    "      <p>By Valve</p>\n",
    "    </div>\n",
    "  );\n",
    "}"
   ]
  },
  {
   "cell_type": "markdown",
   "metadata": {},
   "source": [
    "The image below represents the page when a link is clicked:  \n",
    "![Route Link](images/router1.png)  \n",
    "\n",
    "The problem with using the `a` tag is that the page loads whenever we click it creating a jarring effect. So we will create our own component which would simulate behaviour of a tag. We also need to make use of the history API. React Router provides Link component whose simplistic implementation is below:"
   ]
  },
  {
   "cell_type": "code",
   "execution_count": null,
   "metadata": {},
   "outputs": [],
   "source": [
    "function Link(props) {\n",
    "  function onClick(event) {\n",
    "    event.preventDefault();\n",
    "    window.history.pushState(null, null, props.to);\n",
    "  }\n",
    "\n",
    "  return (\n",
    "    <a href={props.to} onClick={onClick}>\n",
    "      {props.children}\n",
    "    </a>\n",
    "  );\n",
    "}"
   ]
  },
  {
   "cell_type": "markdown",
   "metadata": {},
   "source": [
    "Replacing a tag with Link component is not enough. We need to make our Route components aware about the page path changes. We can utilize the history.js library for this purpose:"
   ]
  },
  {
   "cell_type": "code",
   "execution_count": null,
   "metadata": {},
   "outputs": [],
   "source": [
    "import createHistory from 'history/createBrowserHistory';\n",
    "const history = createHistory();\n",
    "\n",
    "// Creating a force update hook\n",
    "function useForceUpdate(){\n",
    "    const [value, setValue] = useState(0); // integer state\n",
    "    return () => setValue(value => value + 1); // update the state to force render\n",
    "}\n",
    "\n",
    "// When App re-renders, Router components will also re-render\n",
    "export default function App() {\n",
    "    const forceUpdate = useForceUpdate();\n",
    "    \n",
    "    useEffect(() => {\n",
    "        history.listen(() => {\n",
    "            forceUpdate();\n",
    "        })\n",
    "    })\n",
    "    \n",
    "    // ..."
   ]
  },
  {
   "cell_type": "markdown",
   "metadata": {},
   "source": [
    "Instead of modifying our App component, we can create a `Router` component and put our App component inside Router. The Router component would be responsible for listening to history changes. We would also pass history and window.location packed as context such that it is available to all the child components:"
   ]
  },
  {
   "cell_type": "code",
   "execution_count": null,
   "metadata": {},
   "outputs": [],
   "source": [
    "const history = createHistory();\n",
    "const HistoryContext = createContext();\n",
    "\n",
    "export function Router(props) {\n",
    "  const forceUpdate = useForceUpdate();\n",
    "\n",
    "  useEffect(() => {\n",
    "    history.listen(() => {\n",
    "      forceUpdate();\n",
    "    });\n",
    "  });\n",
    "\n",
    "  const historyContext = {\n",
    "    history: history,\n",
    "    location: window.location\n",
    "  };\n",
    "\n",
    "  return (\n",
    "    <HistoryContext.Provider value={historyContext}>\n",
    "      {props.children}\n",
    "    </HistoryContext.Provider>\n",
    "  );\n",
    "}\n"
   ]
  },
  {
   "cell_type": "markdown",
   "metadata": {},
   "source": [
    "The Route and Link components will now use the historyContext:"
   ]
  },
  {
   "cell_type": "code",
   "execution_count": null,
   "metadata": {},
   "outputs": [],
   "source": [
    "function Route(props) {\n",
    "  const historyContext = useContext(HistoryContext);\n",
    "\n",
    "  const pathname = historyContext.location.pathname;\n",
    "  if (pathname.match(props.path)) {\n",
    "    return createElement(props.component);\n",
    "  } else {\n",
    "    return null;\n",
    "  }\n",
    "}\n",
    "\n",
    "function Link(props) {\n",
    "  const historyContext = useContext(HistoryContext);\n",
    "\n",
    "  function onClick(event) {\n",
    "    event.preventDefault();\n",
    "    historyContext.history.push(props.to);\n",
    "  }\n",
    "\n",
    "  return (\n",
    "    <a href={props.to} onClick={onClick}>\n",
    "      {props.children}\n",
    "    </a>\n",
    "  );\n",
    "}"
   ]
  },
  {
   "cell_type": "markdown",
   "metadata": {},
   "source": [
    "Then we need to create a `Redirect` component which would immediately modify location when rendered. "
   ]
  },
  {
   "cell_type": "code",
   "execution_count": null,
   "metadata": {},
   "outputs": [],
   "source": [
    "function Redirect(props){\n",
    "    const historyContext = useContext(HistoryContext);\n",
    "    \n",
    "    useEffect(() => {\n",
    "        historyContext.history.push(props.to);\n",
    "    })\n",
    "    \n",
    "    return null;\n",
    "}"
   ]
  },
  {
   "cell_type": "markdown",
   "metadata": {},
   "source": [
    "### React Router\n",
    "Is one of the most commonly used React routing library. Some of the React Router components are:\n",
    "\n",
    "**BrowserRouter:** React provides different flavours of Router. BrowserRouter is browser specific router which uses HTML5 history API"
   ]
  },
  {
   "cell_type": "code",
   "execution_count": null,
   "metadata": {},
   "outputs": [],
   "source": [
    "// basename is used if all your urls have a prefix\n",
    "// forceRefresh emulates typical browser behaviour of refreshing page on navigation\n",
    "// getUserConfirmation asks for user confirmation before navigation\n",
    "const app = (\n",
    "    <BrowserRouter\n",
    "        basename={optionalString}\n",
    "        forceRefresh={optionalBool}\n",
    "        getUserConfirmation={optionalFunc}\n",
    "        <App />\n",
    "    </BrowserRouter>\n",
    ");"
   ]
  },
  {
   "cell_type": "markdown",
   "metadata": {},
   "source": [
    "**Link:** React Router's version of the a tag."
   ]
  },
  {
   "cell_type": "code",
   "execution_count": null,
   "metadata": {},
   "outputs": [],
   "source": [
    "const aboutLink = <Link to=\"/about\">About</Link>"
   ]
  },
  {
   "cell_type": "markdown",
   "metadata": {},
   "source": [
    "The Link component internally uses an a tag. However, we can pass our own component if we want that to be rendered instead:"
   ]
  },
  {
   "cell_type": "code",
   "execution_count": null,
   "metadata": {},
   "outputs": [],
   "source": [
    "const FancyLink = React.forwardRef((props, ref) => (\n",
    "  <a ref={ref} {...props}>💅 {props.children}</a>\n",
    "))\n",
    "\n",
    "const link = <Link to=\"/\" component={FancyLink} />"
   ]
  },
  {
   "cell_type": "markdown",
   "metadata": {},
   "source": [
    "**NavLink:** special version of Link component which allows us to conditionally apply styling to the rendered element when it matches the current URL."
   ]
  },
  {
   "cell_type": "code",
   "execution_count": null,
   "metadata": {},
   "outputs": [],
   "source": [
    "// We can provide a class to the link if active\n",
    "const l1 = <NavLink to=\"/about\" activeClassName=\"active\">About</NavLink>\n",
    "\n",
    "// Or we can specify a style\n",
    "const l2 = (\n",
    "<NavLink\n",
    "  to=\"/faq\"\n",
    "  activeStyle={{\n",
    "    fontWeight: \"bold\",\n",
    "    color: \"red\"\n",
    "  }}\n",
    ">\n",
    "  FAQs\n",
    "</NavLink>\n",
    ")"
   ]
  },
  {
   "cell_type": "markdown",
   "metadata": {},
   "source": [
    "**Route:** renders a component when path matches current URL. The important thing to remember is that Route uses regex to match path, therefore if the url is / then all Route components in the below example are rendered:"
   ]
  },
  {
   "cell_type": "code",
   "execution_count": null,
   "metadata": {},
   "outputs": [],
   "source": [
    "<Route path=\"/\" component={Home} />\n",
    "<Route path=\"/about\" component={About} />\n",
    "<Route path=\"/contact\" component={Contact} />"
   ]
  },
  {
   "cell_type": "markdown",
   "metadata": {},
   "source": [
    "We can add an `exact` prop which when true, will only match if the path matches the `location.pathname` exactly. "
   ]
  },
  {
   "cell_type": "code",
   "execution_count": null,
   "metadata": {},
   "outputs": [],
   "source": [
    "<Route exact path=\"/one/two\"> <!-- Matches only when URL is /one/two -->"
   ]
  },
  {
   "cell_type": "markdown",
   "metadata": {},
   "source": [
    "If we want to maintain case sensitivity, we can add sensitive prop"
   ]
  },
  {
   "cell_type": "code",
   "execution_count": null,
   "metadata": {},
   "outputs": [],
   "source": [
    "<Route sensitive path=\"/one\">\n",
    "  <About />\n",
    "</Route>"
   ]
  },
  {
   "cell_type": "markdown",
   "metadata": {},
   "source": [
    "**Switch:** If we want to render only 1 Route component even though the path matches with multiple Routes, we use the Switch component. It renders the first child Route or Redirect that matches the location."
   ]
  },
  {
   "cell_type": "code",
   "execution_count": null,
   "metadata": {},
   "outputs": [],
   "source": [
    "let routes = (\n",
    "  <Switch>\n",
    "    <Route exact path=\"/\">\n",
    "      <Home />\n",
    "    </Route>\n",
    "    <Route path=\"/about\">\n",
    "      <About />\n",
    "    </Route>\n",
    "    <Route path=\"/:user\">\n",
    "      <User />\n",
    "    </Route>\n",
    "    <Route>\n",
    "      <NoMatch />\n",
    "    </Route>\n",
    "  </Switch>\n",
    ");"
   ]
  }
 ],
 "metadata": {
  "kernelspec": {
   "display_name": "JavaScript",
   "language": "javascript",
   "name": "jslab"
  },
  "language_info": {
   "file_extension": ".js",
   "mimetype": "text/javascript",
   "name": "javascript",
   "version": ""
  }
 },
 "nbformat": 4,
 "nbformat_minor": 4
}
