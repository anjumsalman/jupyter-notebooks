{
 "cells": [
  {
   "cell_type": "markdown",
   "metadata": {},
   "source": [
    "## Vue Instance\n",
    "Vue function creates a Vue object, the base of a Vue application. The syntax is, `new Vue(<config object>)`. The config object has a number of options as listed:\n",
    "- el\n",
    "- data\n",
    "- methods\n",
    "- computed\n",
    "- template\n",
    "- watch\n",
    "- components\n",
    "- render\n",
    "- ...  \n",
    "\n",
    "As well as a number of lifecycle methods, such as\n",
    "- created\n",
    "- mounted\n",
    "- updated\n",
    "- destroyed\n",
    "- ..."
   ]
  },
  {
   "cell_type": "markdown",
   "metadata": {},
   "source": [
    "## Options\n",
    "### el property\n",
    "The el property specifies which DOM element Vue mounts to.\n",
    "\n",
    "```js\n",
    "let app = new Vue({\n",
    "    el: '#app'\n",
    "});\n",
    "```\n",
    "\n",
    "This property is available afterwards as `app.$el`. If we skip this property, then we need to call `app.$mount()`\n",
    "\n",
    "```js\n",
    "app.$mount('#app')\n",
    "```"
   ]
  },
  {
   "cell_type": "markdown",
   "metadata": {},
   "source": [
    "### template property\n",
    "The template property defines the markup for the Vue instance. If the template or render property is missing, then the contents of the DOM elements used as mounting point is used as template. We must make sure that there is only one root element in template.\n",
    "\n",
    "```js\n",
    "let app = new Vue({\n",
    "    el: '#app',\n",
    "    template: '<p>Hello World</p>'\n",
    "});\n",
    "```\n",
    "\n",
    "And in html,\n",
    "```html\n",
    "<body>\n",
    "    <div id=\"app\"></div>\n",
    "</body>\n",
    "```\n",
    "\n",
    "If we have something like,\n",
    "```html\n",
    "<body>\n",
    "    <div id=\"app\">\n",
    "        <h3>A heading</h3>\n",
    "    </div>\n",
    "</body>\n",
    "```\n",
    "And we specify a template property, then the template property takes precedence and contents of app div gets replaced by value of template property."
   ]
  },
  {
   "cell_type": "markdown",
   "metadata": {},
   "source": [
    "### data property\n",
    "The data property contains data for the Vue instance. It is an object.\n",
    "\n",
    "```js\n",
    "let app = new Vue({\n",
    "    el: '#app',\n",
    "    data: {\n",
    "        message: 'Hello there!',\n",
    "        counter: 0\n",
    "    }\n",
    "});\n",
    "```\n",
    "\n",
    "This property can be accessed in html as,\n",
    "```html\n",
    "<div id=\"app\">\n",
    "    <p>{{ message }}</p>\n",
    "</div>\n",
    "```\n",
    "\n",
    "This data property is accessible using app property as `app.$data`. The message property in the above example can be extracted using `app.$data.message`. It can also be accessed using `app.message`.\n",
    "\n",
    "It has to be noted that if we add a property to $data, it is not reactive."
   ]
  },
  {
   "cell_type": "markdown",
   "metadata": {},
   "source": [
    "### methods property\n",
    "Methods are functions having access to data and performing some task.\n",
    "```js\n",
    "let app = new Vue({\n",
    "    el: '#app',\n",
    "    data: {\n",
    "        counter: 0\n",
    "    },\n",
    "    methods: {\n",
    "        increaseCounter: function(){\n",
    "            this.counter++;\n",
    "        },\n",
    "        \n",
    "        decreaseCounter: function(){\n",
    "            this.counter--;\n",
    "        }\n",
    "    }\n",
    "});\n",
    "```\n",
    "\n",
    "Do not use the arrow function to define the function since it doesn't have access to the this variable."
   ]
  },
  {
   "cell_type": "markdown",
   "metadata": {},
   "source": [
    "### computed property\n",
    "Computed property is a function which returns a value. It can be used similar to data property. One difference between computed and methods is that method will always reexecutes the code irrespective of changes in the code. where as computed will reexecute the code then only if one of it's dependency's values changed.\n",
    "\n",
    "```js\n",
    "let app = new Vue({\n",
    "    el: '#app',\n",
    "    data: {\n",
    "        width: 0\n",
    "    },\n",
    "    computed: {\n",
    "        getWidth: function(){\n",
    "            return this.width + 'px';\n",
    "        }\n",
    "    }\n",
    "});\n",
    "```\n",
    "\n",
    "```html\n",
    "<div id=\"app\">\n",
    "    <p>The width is {{ getWidth }}</p>\n",
    "</div>\n",
    "```"
   ]
  },
  {
   "cell_type": "markdown",
   "metadata": {},
   "source": [
    "### watch property\n",
    "The functions defined as part of watch property get executed everytime the data associated with it changes.\n",
    "\n",
    "```js\n",
    "let app = new Vue({\n",
    "    el: '#app',\n",
    "    data: {\n",
    "        age: 20,\n",
    "        name: 'Unknown'\n",
    "    },\n",
    "    watch: {\n",
    "        age: function(){\n",
    "            console.log('Age changed');\n",
    "        },\n",
    "        name: function(){\n",
    "            console.log('Name changed');\n",
    "        }\n",
    "    }\n",
    "});\n",
    "```"
   ]
  },
  {
   "cell_type": "markdown",
   "metadata": {},
   "source": [
    "## Lifecycle Hooks\n",
    "- **beforeCreate:** created before data observation and event/watcher setup.\n",
    "- **created:** called synchronously after the instance is created. Following have been set up: data observation, computed properties, methods, watch/event callbacks. `$el` is however not available yet.\n",
    "- **beforeMount:** called just before mounting, the render function has not been called yet.\n",
    "- **mounted:** called after render. Mounted does not guarantee that all child components have also been mounted.\n",
    "- **beforeUpdate:** called whenever data changes, just before DOM is re-rendered.\n",
    "- **updated:** called after a data change causes the virtual DOM to be re-rendered.\n",
    "- **beforeDestroy:**\n",
    "- **destroyed:**"
   ]
  },
  {
   "cell_type": "code",
   "execution_count": null,
   "metadata": {},
   "outputs": [],
   "source": []
  }
 ],
 "metadata": {
  "kernelspec": {
   "display_name": "Javascript (Node.js)",
   "language": "javascript",
   "name": "javascript"
  },
  "language_info": {
   "file_extension": ".js",
   "mimetype": "application/javascript",
   "name": "javascript",
   "version": "8.12.0"
  }
 },
 "nbformat": 4,
 "nbformat_minor": 2
}
