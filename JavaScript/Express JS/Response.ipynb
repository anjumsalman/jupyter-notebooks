{
 "cells": [
  {
   "cell_type": "markdown",
   "metadata": {},
   "source": [
    "### Basic Response\n",
    "Express provides a `send` method which can respond with variety of response types like JSON, HTML, etc. It also automatically sets the `Content-Length` header as well. For example:"
   ]
  },
  {
   "cell_type": "code",
   "execution_count": null,
   "metadata": {},
   "outputs": [],
   "source": [
    "res.send({ msg: 'Success' }) // Express sets content-type with application/json\n",
    "// alternatively res.json({ msg: 'Success' })\n",
    "\n",
    "res.send('Welcome') // Express sets content-type with text/html"
   ]
  },
  {
   "cell_type": "markdown",
   "metadata": {},
   "source": [
    "We often combine `send` with `status` to set an HTTP response status"
   ]
  },
  {
   "cell_type": "code",
   "execution_count": null,
   "metadata": {},
   "outputs": [],
   "source": [
    "res.status('500').send('An error occurred')"
   ]
  },
  {
   "cell_type": "markdown",
   "metadata": {},
   "source": [
    "### File Download\n",
    "To send a file for download (rather than display) the response should have the following parameters:\n",
    "```\n",
    "Content-Type: text/html; charset=utf-8\n",
    "Content-Disposition: attachment; filename=\"some_song.mp3\"\n",
    "Content-Length: 21\n",
    "```\n",
    "\n",
    "The `download` method allows to send a response meant to be downloaded. It sets the above headers accrodingly"
   ]
  },
  {
   "cell_type": "code",
   "execution_count": null,
   "metadata": {},
   "outputs": [],
   "source": [
    "app.get('/download', function (req, res) {\n",
    "    res.download(\n",
    "        'uploads/profile.jpg', // absolute path\n",
    "        'profile.jpg' // optional file name\n",
    "    )\n",
    "})"
   ]
  },
  {
   "cell_type": "markdown",
   "metadata": {},
   "source": [
    "### Response Header\n",
    "To set response headers,"
   ]
  },
  {
   "cell_type": "code",
   "execution_count": null,
   "metadata": {},
   "outputs": [],
   "source": [
    "res.set('Content-Type', 'text/plain')\n",
    "\n",
    "res.set({\n",
    "  'Content-Type': 'text/plain',\n",
    "  'Content-Length': '125'\n",
    "})"
   ]
  },
  {
   "cell_type": "markdown",
   "metadata": {},
   "source": [
    "A number of methods are available which specify a specific header, for example:\n",
    "- res.type : sets content-type\n",
    "- res.cookie: sets cookies"
   ]
  },
  {
   "cell_type": "markdown",
   "metadata": {},
   "source": [
    "### Cookies\n",
    "An HTTP Cookie has a number of optional properties associated with it mostly related to cookie security. The list is:\n",
    "- **max-age** number of seconds until the cookie expires\n",
    "- **expires** date on which cookie expires\n",
    "- **domain** what domain the cookie is available on, [more info](https://stackoverflow.com/questions/1062963/how-do-browser-cookie-domains-work)\n",
    "- **secure** transfer cookie only over HTTPS\n",
    "- **httponly** prevent browser JS from accessing cookie\n",
    "- **path** the path that must exist in the requested URL, or the browser won't send the cookie header\n",
    "- **samesite**\n",
    "\n",
    "If the max-age or expires attribute is not present, then the cookie lasts only as long as the browser window (or tab) is open. Express also allows to create signed cookies which are encrypted using secret key (supplied to the cookie parser) middleware."
   ]
  },
  {
   "cell_type": "code",
   "execution_count": null,
   "metadata": {},
   "outputs": [],
   "source": [
    "const cookieParser = require('cookie-parser')\n",
    "app.use(cookieParser('xH34dsjfaZ8*{'))\n",
    "\n",
    "app.get('/', function (req, res) {\n",
    "    // cookie name, value, options\n",
    "    // setting single cookie\n",
    "    res.cookie('language', 'en', {\n",
    "        signed: true,\n",
    "        maxAge: 3600000,\n",
    "        httpOnly: true\n",
    "    }).send('Welcome')\n",
    "})"
   ]
  },
  {
   "cell_type": "markdown",
   "metadata": {},
   "source": [
    "![Cookie header obtained by browser](https://i.imgur.com/Q8DDagn.png)  \n",
    "\n",
    "Note that cookie keys are not encrypted (only values are).  \n",
    "We can even pass an object as cookie value. It will get stringified."
   ]
  },
  {
   "cell_type": "code",
   "execution_count": null,
   "metadata": {},
   "outputs": [],
   "source": [
    "res.cookie('prefs', {\n",
    "    language: 'en',\n",
    "    region: 'APAC'\n",
    "})"
   ]
  },
  {
   "cell_type": "markdown",
   "metadata": {},
   "source": [
    "To remove cookie from client:"
   ]
  },
  {
   "cell_type": "code",
   "execution_count": null,
   "metadata": {},
   "outputs": [],
   "source": [
    "res.clearCookie('language') // accepts options as second param"
   ]
  },
  {
   "cell_type": "markdown",
   "metadata": {},
   "source": [
    "### Sessions\n",
    "Since HTTP protocol is stateless, sessions are used to store user data. Session data often contains user identity and can either be stored client side or server side.  \n",
    "**Client side session** session state is stored in client mostly as cookie (but can also be stored in LocalStorage). Advantages:\n",
    "- no need to replicate session across nodes\n",
    "- obtaining identity data from session is fast (just decrypt cookie data)\n",
    "- no storage required on server  \n",
    "Disadvantage:\n",
    "- cookie has size limitation (non-issue most of the times)\n",
    "- logout not fully possible (we can send a clearCookie command, but the user can just reattach the same cookie with every request)\n",
    "\n",
    "![Client side session](https://i.imgur.com/Pw2oizu.png)"
   ]
  },
  {
   "cell_type": "markdown",
   "metadata": {},
   "source": [
    "**Server side cookie** only a non private data stored as cookie on client side. The cookie data maps to actual user identification data and is stored in database or in memory.  \n",
    "Advantages:\n",
    "- full control of session, user session can be terminated when required\n",
    "- smaller cookie size\n",
    "Disadvantages:\n",
    "- more points of failure (what if the database crashes?)\n",
    "- more overhead while creating sessions  \n",
    "\n",
    "![Server side session](https://i.imgur.com/BTfXptA.png)"
   ]
  },
  {
   "cell_type": "markdown",
   "metadata": {},
   "source": [
    "`express-session` middleware is used for server side sessions. `cookie-parser` is not required, but the secret must be the same."
   ]
  },
  {
   "cell_type": "code",
   "execution_count": null,
   "metadata": {},
   "outputs": [],
   "source": [
    "const session = require('express-session')\n",
    "let MemoryStore = require('memorystore')(session)\n",
    "\n",
    "let sessionConfig = {\n",
    "    secret: 'kjh^52JaLL.',  // required to sign cookies\n",
    "    cookie: { // settings related to the session cookie\n",
    "        secure: false,\n",
    "        maxAge: null,\n",
    "        httpOnly: true\n",
    "    },\n",
    "    store: new MemoryStore({ // where to store session? Lots of other options like Redis\n",
    "        checkPeriod: 86400000 // how often should expired sessions be removed (24h here)?\n",
    "    })\n",
    "}\n",
    "\n",
    "app.use(session(sessionConfig))\n",
    "\n",
    "app.get('/', function(req, res){\n",
    "    if(req.session.views){\n",
    "        req.session.views++\n",
    "    } else {\n",
    "        req.session.views = 1\n",
    "    }\n",
    "    \n",
    "    res.send(`Viewed ${req.session.views} times`)\n",
    "})"
   ]
  },
  {
   "cell_type": "markdown",
   "metadata": {},
   "source": [
    "### Templates\n",
    "Express integrates readily with template engines like Pug and EJS. Below is the example of Pug being used as the template engine:"
   ]
  },
  {
   "cell_type": "markdown",
   "metadata": {},
   "source": [
    "```pug\n",
    "// index.pug\n",
    "html\n",
    "    head\n",
    "        title= title\n",
    "    body\n",
    "        h1= greetings\n",
    "```"
   ]
  },
  {
   "cell_type": "code",
   "execution_count": null,
   "metadata": {},
   "outputs": [],
   "source": [
    "app.set('view engine', 'pug')\n",
    "app.get('/', function(req, res){\n",
    "    res.render('index', {\n",
    "        title: 'My Web Page',\n",
    "        greetings: 'Welcome Home!'\n",
    "    })\n",
    "})"
   ]
  },
  {
   "cell_type": "markdown",
   "metadata": {},
   "source": [
    "### Redirecting"
   ]
  },
  {
   "cell_type": "code",
   "execution_count": null,
   "metadata": {},
   "outputs": [],
   "source": [
    "res.redirect('/foo/bar')\n",
    "res.redirect('http://example.com')\n",
    "res.redirect(301, 'http://example.com')\n",
    "res.redirect('../login') // one up and then redirect"
   ]
  }
 ],
 "metadata": {
  "kernelspec": {
   "display_name": "JavaScript",
   "language": "javascript",
   "name": "jslab"
  },
  "language_info": {
   "file_extension": ".js",
   "mimetype": "text/javascript",
   "name": "javascript",
   "version": ""
  }
 },
 "nbformat": 4,
 "nbformat_minor": 4
}
