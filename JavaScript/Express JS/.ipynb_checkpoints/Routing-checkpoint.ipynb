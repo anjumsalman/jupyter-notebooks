{
 "cells": [
  {
   "cell_type": "markdown",
   "metadata": {},
   "source": [
    "### Route Handler\n",
    "Express provides functions to respond to each of the HTTP methods. The syntax looks like `app.<METHOD>(<route>, <handler1>, <handler2>, ...)`"
   ]
  },
  {
   "cell_type": "code",
   "execution_count": null,
   "metadata": {},
   "outputs": [],
   "source": [
    "app.get('/help', function(req, res){\n",
    "    res.send('Help')\n",
    "})\n",
    "\n",
    "app.post(\n",
    "    '/login', \n",
    "    function(req, res, next){\n",
    "        console.log('Login attempt')\n",
    "        next()\n",
    "    },\n",
    "    function(req, res){\n",
    "        res.send('Login')\n",
    "    }\n",
    ")"
   ]
  },
  {
   "cell_type": "markdown",
   "metadata": {},
   "source": [
    "As we can see above, the handler function can accept a third parameter, commonly called next, when we have multiple handlers for the same route. When next is called, control passes over to the next handler in queue.  \n",
    "\n",
    "If next is not called, the request chain ends there. We can also pass an array of handlers:"
   ]
  },
  {
   "cell_type": "code",
   "execution_count": null,
   "metadata": {},
   "outputs": [],
   "source": [
    "app.get('/query', [handler1, handler2, handler3])"
   ]
  },
  {
   "cell_type": "markdown",
   "metadata": {},
   "source": [
    "If a path needs to respond to multiple HTTP methods, an alternate way is:"
   ]
  },
  {
   "cell_type": "code",
   "execution_count": null,
   "metadata": {},
   "outputs": [],
   "source": [
    "app.route('/user')\n",
    ".get(function(req, res){\n",
    "    res.send('Get user')\n",
    "})\n",
    ".put(function(req, res){\n",
    "    res.send('Update user')\n",
    "})\n",
    ".post(function(req, res){\n",
    "    res.send('Add user')\n",
    "})\n",
    ".delete(function(req, res){\n",
    "    res.send('Remove user')\n",
    "})"
   ]
  },
  {
   "cell_type": "markdown",
   "metadata": {},
   "source": [
    "### Route Path\n",
    "Is a string which accepts number of wildcard characters. Alternatively it can be a regular expression even."
   ]
  },
  {
   "cell_type": "code",
   "execution_count": null,
   "metadata": {},
   "outputs": [],
   "source": [
    "app.put('/ab?cd', handler) // matches /abcd or /acd\n",
    "\n",
    "app.post('/ab+cd', handler) // matches /abcd or /abbcd, etc\n",
    "\n",
    "app.del('/ab*cd', handler) // matches /abcd or /abXYZcd, etc\n",
    "\n",
    "app.get(/a/, handler) // any path with a in it"
   ]
  },
  {
   "cell_type": "markdown",
   "metadata": {},
   "source": [
    "### Route Params"
   ]
  },
  {
   "cell_type": "code",
   "execution_count": null,
   "metadata": {},
   "outputs": [],
   "source": [
    "app.get('/book/:name', function(req, res){\n",
    "    let bookName = req.params.name // req.params is an object with param name as key\n",
    "    \n",
    "    // ...\n",
    "})"
   ]
  },
  {
   "cell_type": "markdown",
   "metadata": {},
   "source": [
    "We can set the parameter pattern as well, anything not matching the pattern does not match the route."
   ]
  },
  {
   "cell_type": "code",
   "execution_count": null,
   "metadata": {},
   "outputs": [],
   "source": [
    "app.post('/age/:age(\\\\d+)', handler) // matches /age/25, /age/06, but not /age/eleven"
   ]
  },
  {
   "cell_type": "markdown",
   "metadata": {},
   "source": [
    "### Express Router\n",
    "Express Router aims to modularise the application:"
   ]
  },
  {
   "cell_type": "code",
   "execution_count": null,
   "metadata": {},
   "outputs": [],
   "source": [
    "// index.js\n",
    "const express = require('express')\n",
    "\n",
    "const app = express()\n",
    "\n",
    "const authenticationRoutes = require('/authRoutes.js')\n",
    "\n",
    "app.use('/auth', authenticationRoutes)"
   ]
  },
  {
   "cell_type": "code",
   "execution_count": null,
   "metadata": {},
   "outputs": [],
   "source": [
    "// authRoutes.js\n",
    "const router = require('express').Router()\n",
    "\n",
    "router.post('/login', function(req, res){\n",
    "    // Handle login\n",
    "})\n",
    "\n",
    "router.post('/register', function(req, res){\n",
    "    // Handle registration\n",
    "})\n",
    "\n",
    "router.get('/logout', function(req, res){\n",
    "    // Handle logout\n",
    "})"
   ]
  }
 ],
 "metadata": {
  "kernelspec": {
   "display_name": "JavaScript",
   "language": "javascript",
   "name": "jslab"
  },
  "language_info": {
   "file_extension": ".js",
   "mimetype": "text/javascript",
   "name": "javascript",
   "version": ""
  }
 },
 "nbformat": 4,
 "nbformat_minor": 4
}
