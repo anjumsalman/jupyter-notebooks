{
 "cells": [
  {
   "cell_type": "markdown",
   "metadata": {},
   "source": [
    "### Middleware Function\n",
    "Accepts a request, response objects and a next function. Can be chained together such that the request flows through the chain. Middleware can be application level or router level.\n",
    "\n",
    "**Application Level** all requests to the application (or to the specified route) will pass through the middleware (unless chain is ended earlier) . To use application at application level:"
   ]
  },
  {
   "cell_type": "code",
   "execution_count": null,
   "metadata": {},
   "outputs": [],
   "source": [
    "// timeLog is a middleware\n",
    "function timeLog(req, res, next) {\n",
    "  console.log('Time:', Date.now())\n",
    "  next()\n",
    "}\n",
    "\n",
    "app.use(timeLog)"
   ]
  },
  {
   "cell_type": "code",
   "execution_count": null,
   "metadata": {},
   "outputs": [],
   "source": [
    "// app.use works for any HTTP request method\n",
    "app.use('/user/:id', function (req, res, next) {\n",
    "  console.log('Request Type:', req.method)\n",
    "  next()\n",
    "})"
   ]
  },
  {
   "cell_type": "markdown",
   "metadata": {},
   "source": [
    "**Router Level:** similar to application level"
   ]
  },
  {
   "cell_type": "code",
   "execution_count": null,
   "metadata": {},
   "outputs": [],
   "source": [
    "const express = require('express')\n",
    "const app = express()\n",
    "const router = express.Router()\n",
    "\n",
    "// This code is executed for every request to the router\n",
    "router.use(function (req, res, next) {\n",
    "  console.log('Time:', Date.now())\n",
    "  next()\n",
    "})"
   ]
  },
  {
   "cell_type": "markdown",
   "metadata": {},
   "source": [
    "### Middleware Sequence\n",
    "Consider the below setup:"
   ]
  },
  {
   "cell_type": "code",
   "execution_count": null,
   "metadata": {},
   "outputs": [],
   "source": [
    "const express = require('express')\n",
    "const app = express()\n",
    "\n",
    "// First middleware\n",
    "app.use(function (req, res, next) {\n",
    "    console.log(`A. Entry Point, ${req.method}`)\n",
    "    next()\n",
    "})\n",
    "\n",
    "// Second middleware\n",
    "app.use(function (req, res, next) {\n",
    "    console.log(`B. Request time: ${Date.now()}, ${req.method}`)\n",
    "    next()\n",
    "})\n",
    "\n",
    "app.get('/info', function (req, res, next) {\n",
    "    console.log('C. First handler for /info')\n",
    "    res.send('Welcome')\n",
    "})\n",
    "\n",
    "app.get('/info', function (req, res, next) {\n",
    "    console.log('D. Second handler for /info')\n",
    "    res.send('Again')\n",
    "})\n",
    "\n",
    "app.use(function (req, res, next) {\n",
    "    console.log(`E. End at ${Date.now()}, ${req.method}`)\n",
    "})\n",
    "\n",
    "app.listen(3000, function () {\n",
    "    console.log('Server started')\n",
    "})\n"
   ]
  },
  {
   "cell_type": "markdown",
   "metadata": {},
   "source": [
    "If a user request /info, the console will log:\n",
    "```\n",
    "A. Entry Point, GET\n",
    "B. Request time: 1602006984556, GET\n",
    "C. First handler for /info\n",
    "```\n",
    "\n",
    "The second handler for /info is not even called. Now consider the change made to the first handler:"
   ]
  },
  {
   "cell_type": "code",
   "execution_count": null,
   "metadata": {},
   "outputs": [],
   "source": [
    "app.get('/info', function (req, res, next) {\n",
    "    console.log('C. First handler for /info')\n",
    "    res.send('Welcome')\n",
    "    next()\n",
    "})"
   ]
  },
  {
   "cell_type": "markdown",
   "metadata": {},
   "source": [
    "In this case, the console will log:\n",
    "```\n",
    "A. Entry Point, GET\n",
    "B. Request time: 1602006984556, GET\n",
    "C. First handler for /info\n",
    "D. Second handler for /info\n",
    "Error [ERR_HTTP_HEADERS_SENT]: Cannot set headers after they are sent to the client\n",
    "```\n",
    "\n",
    "The above output indicates that the second handler was invoked but we got an error (because once a response has been sent we cannot resend response). So we make the following change in the first handler:"
   ]
  },
  {
   "cell_type": "code",
   "execution_count": null,
   "metadata": {},
   "outputs": [],
   "source": [
    "app.get('/info', function (req, res, next) {\n",
    "    console.log('C. First handler for /info')\n",
    "    res.status('201')\n",
    "    next()\n",
    "})\n",
    "\n",
    "app.get('/info', function (req, res, next) {\n",
    "    console.log('D. Second handler for /info')\n",
    "    res.send('Welcome Again')\n",
    "})"
   ]
  },
  {
   "cell_type": "markdown",
   "metadata": {},
   "source": [
    "This time we don't get any error and the client gets the HTML with 'Welcome Again' as text. However the last middleware is not executed. In order to do so, we make the following change to the second handler"
   ]
  },
  {
   "cell_type": "code",
   "execution_count": null,
   "metadata": {},
   "outputs": [],
   "source": [
    "app.get('/info', function (req, res, next) {\n",
    "    console.log('D. Second handler for /info')\n",
    "    res.send('Welcome Again')\n",
    "    next()\n",
    "})"
   ]
  },
  {
   "cell_type": "markdown",
   "metadata": {},
   "source": [
    "`next` actually works a bit like *GOTO*, call returns back to the point after the next call and execution continues from that point. So we can modify the code to the following:"
   ]
  },
  {
   "cell_type": "code",
   "execution_count": null,
   "metadata": {},
   "outputs": [],
   "source": [
    "const express = require('express')\n",
    "const app = express()\n",
    "\n",
    "// First middleware\n",
    "app.use(function (req, res, next) {\n",
    "    console.log(`A. Entry Point, ${req.method}`)\n",
    "    next()\n",
    "    console.log(`E. End at ${Date.now()}, ${req.method}`)\n",
    "})\n",
    "\n",
    "// Second middleware\n",
    "app.use(function (req, res, next) {\n",
    "    console.log(`B. Request time: ${Date.now()}, ${req.method}`)\n",
    "    next()\n",
    "})\n",
    "\n",
    "app.get('/info', function (req, res, next) {\n",
    "    console.log('C. First handler for /info')\n",
    "    res.status('201')\n",
    "    next()\n",
    "})\n",
    "\n",
    "app.get('/info', function (req, res) {\n",
    "    console.log('D. Second handler for /info')\n",
    "    res.send('Welcome Again')\n",
    "})\n",
    "\n",
    "app.listen(3000, function () {\n",
    "    console.log('Server started')\n",
    "})"
   ]
  },
  {
   "cell_type": "markdown",
   "metadata": {},
   "source": [
    "If we visit /info, in console we get:\n",
    "\n",
    "```\n",
    "A. Entry Point, GET\n",
    "B. Request time: 1602008894050, GET\n",
    "C. First handler for /info\n",
    "D. Second handler for /info\n",
    "E. End at 1602008894108, GET\n",
    "```"
   ]
  },
  {
   "cell_type": "code",
   "execution_count": null,
   "metadata": {},
   "outputs": [],
   "source": []
  }
 ],
 "metadata": {
  "kernelspec": {
   "display_name": "JavaScript",
   "language": "javascript",
   "name": "jslab"
  },
  "language_info": {
   "file_extension": ".js",
   "mimetype": "text/javascript",
   "name": "javascript",
   "version": ""
  }
 },
 "nbformat": 4,
 "nbformat_minor": 4
}
