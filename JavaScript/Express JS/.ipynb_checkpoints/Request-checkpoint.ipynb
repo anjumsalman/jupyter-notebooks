{
 "cells": [
  {
   "cell_type": "markdown",
   "metadata": {},
   "source": [
    "### Request Parameters\n",
    "Parameters added to the URL can be accessed using:"
   ]
  },
  {
   "cell_type": "code",
   "execution_count": null,
   "metadata": {},
   "outputs": [],
   "source": [
    "app.get('/book/:author', function(req, res){\n",
    "    // Request parameters are available as an object\n",
    "    console.log(req.params)\n",
    "})\n",
    "\n",
    "// /books/Shigley --> req.params.author === 'Shigley' // true"
   ]
  },
  {
   "cell_type": "markdown",
   "metadata": {},
   "source": [
    "If we want to get query parameters:"
   ]
  },
  {
   "cell_type": "code",
   "execution_count": null,
   "metadata": {},
   "outputs": [],
   "source": [
    "app.get('/query', function(req, res){\n",
    "    // Query parameters are available as an object\n",
    "    console.log(req.query)\n",
    "})\n",
    "\n",
    "// /query?q=Some Question&age=23  --> req.query.age === '23' // true\n",
    "//                                --> req.query.q === 'Some Question' // true"
   ]
  },
  {
   "cell_type": "markdown",
   "metadata": {},
   "source": [
    "### Form Data\n",
    "Form data can be:\n",
    "- **application/x-www-form-urlencoded:** suited for only textual data\n",
    "- **multipart/form-data:** suited for binary data, for example if the form contains file upload  \n",
    "\n",
    "To be able to process request body with x-www-form-urlencoded form, we need to install `body-parser` middleware."
   ]
  },
  {
   "cell_type": "code",
   "execution_count": null,
   "metadata": {},
   "outputs": [],
   "source": [
    "const express = require('express')\n",
    "\n",
    "const app = express()\n",
    "\n",
    "var bodyParser = require('body-parser')\n",
    "app.use(bodyParser.urlencoded({ extended: false }))\n",
    "\n",
    "app.post('/process', function (req, res) {\n",
    "    // Form data is available as an object\n",
    "    // Form had two inputs: age and name\n",
    "    console.log(req.body.name)\n",
    "    console.log(req.body.age)\n",
    "\n",
    "    res.send('Form being processed')\n",
    "})"
   ]
  },
  {
   "cell_type": "markdown",
   "metadata": {},
   "source": [
    "Express 4.16+ has built-in body parser, so we can replace the line `app.use(bodyParser...` with `app.use(express.urlencoded({ extended: false }))`"
   ]
  },
  {
   "cell_type": "markdown",
   "metadata": {},
   "source": [
    "For multipart/form-data, we need to install `multer`. Using multer, we can access both textual form data as well as any file (or files) uploaded from form."
   ]
  },
  {
   "cell_type": "code",
   "execution_count": null,
   "metadata": {},
   "outputs": [],
   "source": [
    "const express = require('express')\n",
    "\n",
    "const app = express()\n",
    "\n",
    "// Configuring multer\n",
    "const multer  = require('multer')\n",
    "\n",
    "const storage = multer.diskStorage({\n",
    "    // Where to save\n",
    "    destination: (req, file, cb) => {\n",
    "        cb(null, 'uploads');\n",
    "    },\n",
    "    \n",
    "    // What name to save the file as\n",
    "    filename: (req, file, cb) => {\n",
    "        cb(null, Date.now() + '-' + file.originalname)\n",
    "    }\n",
    "})\n",
    "\n",
    "const fileFilter = (req, file, cb) => { // What file formats to accept\n",
    "    if (file.mimetype == 'image/jpeg' || file.mimetype == 'image/png') {\n",
    "        cb(null, true);\n",
    "    } else {\n",
    "        cb(null, false);\n",
    "    }\n",
    "}\n",
    "\n",
    "const upload = multer({ storage: storage, fileFilter: fileFilter })\n",
    "\n",
    "app.post('/upload', upload.single('file'), function(req, res){ // 'file' is the name of the file input tag in HTML form\n",
    "    // Access text body\n",
    "    console.log(req.body.filename)\n",
    "    \n",
    "    // Access uploaded file\n",
    "    console.log(req.file)\n",
    "    \n",
    "    // ...\n",
    "})"
   ]
  },
  {
   "cell_type": "markdown",
   "metadata": {},
   "source": [
    "Multer provides a number of different methods (on the `uploads` object above) to access uploaded file and data"
   ]
  },
  {
   "cell_type": "markdown",
   "metadata": {},
   "source": [
    "### Request Headers\n",
    "To see list of all request headers,"
   ]
  },
  {
   "cell_type": "code",
   "execution_count": null,
   "metadata": {},
   "outputs": [],
   "source": [
    "app.get('/', function(req, res){\n",
    "    console.log(JSON.stringify(req.headers))\n",
    "    \n",
    "    // ...\n",
    "})"
   ]
  },
  {
   "cell_type": "markdown",
   "metadata": {},
   "source": [
    "To access a particular header,"
   ]
  },
  {
   "cell_type": "code",
   "execution_count": null,
   "metadata": {},
   "outputs": [],
   "source": [
    "app.get('/', function(req, res){\n",
    "    console.log(req.header('content-type'))\n",
    "    \n",
    "    // ...\n",
    "})"
   ]
  },
  {
   "cell_type": "markdown",
   "metadata": {},
   "source": [
    "**Cookies:** we can access cookies through headers, but `cookie-parse` provides a better interface to access cookies. But before we look at cookie-parser middleware, we should first get comfortable with cookies. This section will provide information about reading cookies, for setting cookies, refer to response page.\n",
    "\n",
    "Cookies are essentially HTTP headers and look like:\n",
    "```\n",
    "Cookie: lang=EN\n",
    "Cookie: PHPSESSID=298zf09hf012fh2; csrftoken=u32t4o3tb3gg43; _gat=1\n",
    "```\n",
    "\n",
    "Cookie parser can access both signed and unsigned cookies:"
   ]
  },
  {
   "cell_type": "code",
   "execution_count": null,
   "metadata": {},
   "outputs": [],
   "source": [
    "const express = require('express')\n",
    "\n",
    "const app = express()\n",
    "\n",
    "const cookieParser = require('cookie-parser')\n",
    "app.use(cookieParser('secret-required-to-create-and-read-signed-cookies'))\n",
    "\n",
    "app.get('/cookies', function(req, res){\n",
    "    // Unsigned cookies\n",
    "    console.log(req.cookies)\n",
    "\n",
    "    // Signed cookies\n",
    "    console.log(req.signedCookies)\n",
    "    \n",
    "    // ...\n",
    "})"
   ]
  },
  {
   "cell_type": "markdown",
   "metadata": {},
   "source": [
    "### JSON in Request Body\n",
    "The `body-parser` middleware also populates the request with a json property if the request had JSON in its body."
   ]
  },
  {
   "cell_type": "code",
   "execution_count": null,
   "metadata": {},
   "outputs": [],
   "source": [
    "const express = require('express')\n",
    "\n",
    "const app = express()\n",
    "\n",
    "var bodyParser = require('body-parser') // not needed in Express 4.16+\n",
    "app.use(bodyParser.json()) // or express.json() in Express 4.16+\n",
    "\n",
    "app.post('/process', function (req, res) {\n",
    "    console.log(req.body) // request.body is JSON\n",
    "\n",
    "    res.send('JSON being processed')\n",
    "})"
   ]
  }
 ],
 "metadata": {
  "kernelspec": {
   "display_name": "JavaScript",
   "language": "javascript",
   "name": "jslab"
  },
  "language_info": {
   "file_extension": ".js",
   "mimetype": "text/javascript",
   "name": "javascript",
   "version": ""
  }
 },
 "nbformat": 4,
 "nbformat_minor": 4
}
