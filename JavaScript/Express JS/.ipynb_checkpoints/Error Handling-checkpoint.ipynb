{
 "cells": [
  {
   "cell_type": "markdown",
   "metadata": {},
   "source": [
    "### Throwing Error\n",
    "Any error thrown in a synchronous context is automatically caught by Express' default error handler."
   ]
  },
  {
   "cell_type": "code",
   "execution_count": null,
   "metadata": {},
   "outputs": [],
   "source": [
    "app.get('/test', function (req, res) {\n",
    "    throw new Error('An error occurred')\n",
    "})"
   ]
  },
  {
   "cell_type": "markdown",
   "metadata": {},
   "source": [
    "The default error handler:\n",
    "- sets status code to error.status. If > 5xx, status is set to 500\n",
    "- in prod, body would be message corresponding to status code\n",
    "- in dev, body is stack trace"
   ]
  },
  {
   "cell_type": "markdown",
   "metadata": {},
   "source": [
    "In an asynchronous context, for example in callback functions, we need to use the `next` function."
   ]
  },
  {
   "cell_type": "code",
   "execution_count": null,
   "metadata": {},
   "outputs": [],
   "source": [
    "app.get('/test', function (res, req, next) {\n",
    "    setTimeout(function () {\n",
    "        next(new Error('Timed error'))\n",
    "    }, 300)\n",
    "})"
   ]
  },
  {
   "cell_type": "code",
   "execution_count": null,
   "metadata": {},
   "outputs": [],
   "source": [
    "app.get('/test', async function(res, req, next){\n",
    "    try{\n",
    "        var result = await asyncFunction()\n",
    "    } catch(err){\n",
    "        return next(err)\n",
    "    }\n",
    "    \n",
    "    res.send(JSON.parse(result))\n",
    "})"
   ]
  },
  {
   "cell_type": "markdown",
   "metadata": {},
   "source": [
    "### Custom Error Handling\n",
    "Custom error handler is a middleware with one extra error parameter."
   ]
  },
  {
   "cell_type": "code",
   "execution_count": null,
   "metadata": {},
   "outputs": [],
   "source": []
  }
 ],
 "metadata": {
  "kernelspec": {
   "display_name": "JavaScript",
   "language": "javascript",
   "name": "jslab"
  },
  "language_info": {
   "file_extension": ".js",
   "mimetype": "text/javascript",
   "name": "javascript",
   "version": ""
  }
 },
 "nbformat": 4,
 "nbformat_minor": 4
}
