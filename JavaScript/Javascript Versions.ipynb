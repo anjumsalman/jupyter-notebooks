{
 "cells": [
  {
   "cell_type": "markdown",
   "metadata": {},
   "source": [
    "### Javascript Versions\n",
    "Use [this](https://kangax.github.io/compat-table/) link to get to know about compatibility with various runtimes.\n",
    "1. **ECMAScript 1** (1997)\n",
    "2. **ECMAScript 2** (1998)\n",
    "3. **ECMAScript 3** (1999)\n",
    "4. **ECMAScript 4** (Not released)\n",
    "5. **ECMAScript 5** (2009): Also known as ES5. Notable additions:  \n",
    "    a. strict mode  \n",
    "    b. JSON support  \n",
    "    c. String.trim()  \n",
    "    d. Array.isArray()  \n",
    "    e. Array iteration methods  \n",
    "    f. Array map, filter, reduce  \n",
    "    g. Property getter and setter, [more](http://speakingjs.com/es5/ch25.html)\n",
    "    \n",
    "    ![Support](https://i.imgur.com/7NZygWm.jpg)\n",
    "6. **ECMAScript 2015** (2015): Also known as ES6. Notable additions:  \n",
    "    a. let and const  \n",
    "    b. Arrow functions  \n",
    "    c. class constrcut  \n",
    "    d. Modules  \n",
    "    e. for..of loop  \n",
    "    f. Template strings  \n",
    "    g. Default parameter value  \n",
    "    h. spread operator  \n",
    "    i. Promise API, and [more](https://github.com/lukehoban/es6features)\n",
    "    \n",
    "    ![Support](https://i.imgur.com/l2qjGwl.jpg)\n",
    "\n",
    "7. **ECMAScript 2016** (2016): Notable additions:  \n",
    "    a. async await keywords  \n",
    "    b. exponential operator  \n",
    "8. **ECMAScript 2017** (2017)\n",
    "9. **ECMAScript 2018** (2018)\n",
    "10. **ECMAScript 2019** (2019)"
   ]
  },
  {
   "cell_type": "markdown",
   "metadata": {},
   "source": [
    "### Using Newer Features in Older Runtimes\n",
    "We use something called as **shims** and **polyfills**. Shims intercepts API calls and creates an abstract layer between the caller and the target. For example, ECMAScript 3 does not have `Date.now`. To support this ECMAScript 5 feature,\n",
    "\n",
    "```js\n",
    "if (!Date.now) {\n",
    "    Date.now = function now() {\n",
    "        return new Date().getTime();\n",
    "    };\n",
    "}\n",
    "```\n",
    "\n",
    "Polyfilling is really just a specialized version of shimming. Polyfill is about implementing missing features in an API, whereas a shim wouldn’t necessarily be as much about implementing missing features as it is about correcting features. So while shims are used for covering up old sins, polyfills are used for bringing future enhancements back in time. To know more click [here](https://medium.com/hackernoon/polyfills-everything-you-ever-wanted-to-know-or-maybe-a-bit-less-7c8de164e423)\n",
    "\n",
    "**How to Polyfill?**\n",
    "- Manually: search for backward comaptible feature implementation and add it to code\n",
    "- Use library: like ES6-Shims\n",
    "\n",
    "Sometimes we may come across completely new language syntax, such as class construct in ES6. In that case we use a transpiler like **Babel**. It will transpile code written in higher version to lower version. Simply transpiling is not enough, we may also need polyfills. Babel does the task of polyfilling as well."
   ]
  },
  {
   "cell_type": "code",
   "execution_count": null,
   "metadata": {},
   "outputs": [],
   "source": []
  }
 ],
 "metadata": {
  "kernelspec": {
   "display_name": "JavaScript",
   "language": "javascript",
   "name": "jslab"
  },
  "language_info": {
   "file_extension": ".js",
   "mimetype": "text/javascript",
   "name": "javascript",
   "version": ""
  }
 },
 "nbformat": 4,
 "nbformat_minor": 4
}
