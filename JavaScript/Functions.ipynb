{
 "cells": [
  {
   "cell_type": "markdown",
   "metadata": {},
   "source": [
    "### Default Value\n",
    "Consider the function below:"
   ]
  },
  {
   "cell_type": "code",
   "execution_count": 1,
   "metadata": {},
   "outputs": [
    {
     "name": "stdout",
     "output_type": "stream",
     "text": [
      "Total calories: \u001b[33m150\u001b[39m\n",
      "Aerobic: \u001b[90mundefined\u001b[39m\n",
      "Anaerobic: \u001b[90mundefined\u001b[39m\n"
     ]
    }
   ],
   "source": [
    "function excercise(calories, aerobic, anaerobic){\n",
    "    console.log('Total calories:', calories)\n",
    "    console.log('Aerobic:', aerobic)\n",
    "    console.log('Anaerobic:', anaerobic)\n",
    "}\n",
    "\n",
    "excercise(150) // parameters which are not passed get value undefined"
   ]
  },
  {
   "cell_type": "code",
   "execution_count": 2,
   "metadata": {},
   "outputs": [
    {
     "name": "stderr",
     "output_type": "stream",
     "text": [
      "1:1 - Expected 3 arguments, but got 0.\n"
     ]
    }
   ],
   "source": [
    "excercise() // can't skip all parameters"
   ]
  },
  {
   "cell_type": "markdown",
   "metadata": {},
   "source": [
    "Now if we want to assign default values to the optional parameters:"
   ]
  },
  {
   "cell_type": "code",
   "execution_count": 3,
   "metadata": {},
   "outputs": [
    {
     "name": "stdout",
     "output_type": "stream",
     "text": [
      "Total calories: \u001b[33m100\u001b[39m\n",
      "Aerobic: \u001b[33m0.5\u001b[39m\n",
      "Anaerobic: \u001b[33m1\u001b[39m\n"
     ]
    }
   ],
   "source": [
    "function excercise(calories, aerobic, anaerobic){\n",
    "    aerobic = aerobic || 0.5\n",
    "    anaerobic = anaerobic || 0.5\n",
    "    \n",
    "    console.log('Total calories:', calories)\n",
    "    console.log('Aerobic:', aerobic)\n",
    "    console.log('Anaerobic:', anaerobic)\n",
    "}\n",
    "\n",
    "excercise(100, 0, 1) // even though we passed 0, we got default value\n",
    "                     // this is because 0 is falsy"
   ]
  },
  {
   "cell_type": "code",
   "execution_count": 4,
   "metadata": {},
   "outputs": [
    {
     "name": "stdout",
     "output_type": "stream",
     "text": [
      "Total calories: \u001b[33m100\u001b[39m\n",
      "Aerobic: \u001b[33m0\u001b[39m\n",
      "Anaerobic: \u001b[33m1\u001b[39m\n"
     ]
    }
   ],
   "source": [
    "// We need to modify it as:\n",
    "function excercise(calories, aerobic, anaerobic){\n",
    "    aerobic = typeof aerobic == 'undefined'? 0.5 : aerobic\n",
    "    anaerobic = typeof anaerobic == 'undefined'? 0.5 : anaerobic\n",
    "    \n",
    "    console.log('Total calories:', calories)\n",
    "    console.log('Aerobic:', aerobic)\n",
    "    console.log('Anaerobic:', anaerobic)\n",
    "}\n",
    "\n",
    "excercise(100, 0, 1)  // Correct!"
   ]
  },
  {
   "cell_type": "markdown",
   "metadata": {},
   "source": [
    "ES6 introduced native support for default values for parameters"
   ]
  },
  {
   "cell_type": "code",
   "execution_count": null,
   "metadata": {},
   "outputs": [],
   "source": [
    "function excercise(calories, aerobic=0.5, anaerobic=0.5){\n",
    "    console.log('Total calories:', calories)\n",
    "    console.log('Aerobic:', aerobic)\n",
    "    console.log('Anaerobic:', anaerobic)\n",
    "}"
   ]
  }
 ],
 "metadata": {
  "kernelspec": {
   "display_name": "JavaScript",
   "language": "javascript",
   "name": "jslab"
  },
  "language_info": {
   "file_extension": ".js",
   "mimetype": "text/javascript",
   "name": "javascript",
   "version": ""
  }
 },
 "nbformat": 4,
 "nbformat_minor": 4
}
