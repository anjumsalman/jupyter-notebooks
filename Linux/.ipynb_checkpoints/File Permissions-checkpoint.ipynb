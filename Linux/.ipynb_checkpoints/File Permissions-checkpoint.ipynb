{
 "cells": [
  {
   "cell_type": "markdown",
   "metadata": {},
   "source": [
    "### User and Groups\n",
    "A user has a primary group and can belong to multiple secondary groups. The group information is present in the `/etc/group` file. To find which groups a user belongs to, use the `groups <user>` command"
   ]
  },
  {
   "cell_type": "markdown",
   "metadata": {},
   "source": [
    "```\n",
    "$groups stevejobs\n",
    "stevejobs : stevejobs adm dialout cdrom floppy sudo audio dip video plugdev netdev\n",
    "\n",
    "$groups root\n",
    "root : root\n",
    "```"
   ]
  },
  {
   "cell_type": "markdown",
   "metadata": {},
   "source": [
    "Users can be added and removed from group by editing the `/etc/group`. The file looks like:\n",
    "```\n",
    "root:x:0:\n",
    "adm:x:4:syslog,stevejobs\n",
    "stevejobs:x:1000:\n",
    "```\n",
    "\n",
    "The last segment of each line (each segment is separated by : ) contains all secondary users who are part of that group. If we want to add a user billgates to adm group, we will modify the file as:\n",
    "```\n",
    "root:x:0:\n",
    "adm:x:4:syslog,stevejobs,billgates\n",
    "stevejobs:x:1000:\n",
    "```\n",
    "\n",
    "The `/etc/group` file can only be modified by root user and they affect will take place once the user logs out and logs in again."
   ]
  },
  {
   "cell_type": "markdown",
   "metadata": {},
   "source": [
    "### File and Directory Permissions\n",
    "Whenever we do `ls -l` we get decriptive representation of all files. The various group.permission related information can be summarised as:\n",
    "\n",
    "![ls long](https://i.imgur.com/wJT1uqP.png)"
   ]
  },
  {
   "cell_type": "markdown",
   "metadata": {},
   "source": [
    "**Ownership:** whoever creates a file becomes its owner. In the above example, the .bash_history file is owned by stevejobs user and is in stevejobs group. The ownership information is closely linked with file permission.\n",
    "\n",
    "**Permission:** the symbol r stands for read, w stands for write and x stands for execute. By default, when you create a file as a regular user, it’s given the permissions of `rw-rw-r–` (use `umask` command to change that default).These permissions have different meaning for a file or a directory. For files:\n",
    "- read permission means reading the contents of the file\n",
    "- write permission means able to update or delete the file\n",
    "- execute permission means being able to execute the file\n",
    "\n",
    "For directories:\n",
    "- read permission means being able to list contents of a directory\n",
    "- write permission means being able to create, rename, or delete files within the directory, and modify the directory's attributes\n",
    "- execute permission means being able to cd into the directory and access files and directories inside"
   ]
  },
  {
   "cell_type": "markdown",
   "metadata": {},
   "source": [
    "### Changing Permission and Ownership\n",
    "To change permission of a file or directory use the `chmod` command. Permission for owner, group and other is represented using simple arithmetic where:\n",
    "- 4 means read\n",
    "- 2 means write\n",
    "- 1 means execute\n",
    "Therfore,\n",
    "- 7 = 4+2+1 means read write execute\n",
    "- 5 = 4+1 means read and execute\n",
    "\n",
    "To change permission of a file to owner (read, write, execute), group (read, execute) and other (read, execute)\n",
    "```\n",
    "chmod 755 myfile.txt\n",
    "```\n",
    "\n",
    "To change ownership of file use `chown` command:\n",
    "```\n",
    "# Change user ownership of file\n",
    "chmod billgates myfile.txt\n",
    "\n",
    "# Change group ownership of file\n",
    "chmod :microsoft myfile.txt\n",
    "\n",
    "# Change user and group ownership of file\n",
    "chmod billgates:microsoft myfile.txt\n",
    "```\n",
    "\n",
    "Only the file/directory owner and root can use the `chmod` and `chown` commands."
   ]
  },
  {
   "cell_type": "markdown",
   "metadata": {},
   "source": [
    "### suid and sgid\n",
    "Whenever we login as a user, all the commands perform actions on your behalf. So, there are some scenarios such as changing password which would mean altering file owned by root (`/etc/shadow` in this case).\n",
    "\n",
    "Linux permissions model has two special access modes called suid (set user id) and sgid (set group id). When an executable program has the suid access modes set, it will run as if it had been started by the file’s owner, rather than by the user who really started it. Similarly, with the sgid access modes set, the program will run as if the initiating user belonged to the file’s group rather than to his own group. Either or both access modes may be set.\n",
    "\n",
    "```\n",
    "$ls -l /usr/bin/passwd\n",
    "-rwsr-xr-x 1 root root 68208 May 28  2020 /usr/bin/passwd\n",
    "```\n",
    "\n",
    "Notice the `s` (instead of x), it means suid has been set."
   ]
  },
  {
   "cell_type": "markdown",
   "metadata": {},
   "source": [
    "### Sticky Bit\n",
    "Anyone with write permission to a directory can delete files in it. This might be acceptable for a group project, but is not desirable for globally shared file space such as the `/tmp` directory. Multiple programs write files to the `/tmp` directory but one program wouldn't want other program to delete its files. We can set sticky bit for a directory and only the root user or the owner can delete files in that directory.\n",
    "\n",
    "```\n",
    "$chmod +t test\n",
    "$ ls -ld test\n",
    "drwxr-xr-t 2 stevejobs stevejobs 4096 Dec  4 20:50 test\n",
    "```\n",
    "\n",
    "Small t means sticky bit + executable. Capital T means sticky bit without execute permission. Sticky bit has no meaning for files and is ignored."
   ]
  },
  {
   "cell_type": "code",
   "execution_count": null,
   "metadata": {},
   "outputs": [],
   "source": []
  }
 ],
 "metadata": {
  "kernelspec": {
   "display_name": "Python 3",
   "language": "python",
   "name": "python3"
  },
  "language_info": {
   "codemirror_mode": {
    "name": "ipython",
    "version": 3
   },
   "file_extension": ".py",
   "mimetype": "text/x-python",
   "name": "python",
   "nbconvert_exporter": "python",
   "pygments_lexer": "ipython3",
   "version": "3.7.4"
  }
 },
 "nbformat": 4,
 "nbformat_minor": 4
}
