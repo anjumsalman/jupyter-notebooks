{
 "cells": [
  {
   "cell_type": "markdown",
   "metadata": {},
   "source": [
    "### Linux Filesystem\n",
    "![Linux Filesystem](https://i.imgur.com/zf8JSGt.png)"
   ]
  },
  {
   "cell_type": "markdown",
   "metadata": {},
   "source": [
    "### Brief Description\n",
    "**/bin** contains several essential binaries used by all users. Such as `cp`, `mv`, `cat`, `gzip`, `ls`, `bash`, `grep`, etc. Typically this directory does not contain any subdirectory. \n",
    "\n",
    "**/dev** everything is a file in Linux, and devices are also represented as file.\n",
    "\n",
    "**/etc** this directory contains non-executable system wide configuration files. For example:  \n",
    "- /etc/hosts : the hosts file contains domain-IP mapping  \n",
    "- /etc/sudoers : contains list of which users are authorized to execute which commands\n",
    "- /etc/passwd : contains list of all users\n",
    "- /etc/shadow : contains password related information for each user\n",
    "- /etc/profile : commands executed when shell starts\n",
    "    \n",
    "**/lib** contains shared objects (\\*.so) which are shared libraries used by various commands in `/bin`, `/sbin`. Shared objects are equivalent to DLLs in Windows. We can use the `ldd` command to check shared libraries used:"
   ]
  },
  {
   "cell_type": "markdown",
   "metadata": {},
   "source": [
    "```\n",
    "$ldd /bin/ls\n",
    "linux-vdso.so.1 (0x00007ffdd296c000)\n",
    "libselinux.so.1 => /lib/x86_64-linux-gnu/libselinux.so.1 (0x00007f6530eda000)\n",
    "libc.so.6 => /lib/x86_64-linux-gnu/libc.so.6 (0x00007f6530ce8000)\n",
    "libpcre2-8.so.0 => /lib/x86_64-linux-gnu/libpcre2-8.so.0 (0x00007f6530c58000)\n",
    "libdl.so.2 => /lib/x86_64-linux-gnu/libdl.so.2 (0x00007f6530c52000)\n",
    "/lib64/ld-linux-x86-64.so.2 (0x00007f6530f34000)\n",
    "libpthread.so.0 => /lib/x86_64-linux-gnu/libpthread.so.0 (0x00007f6530c2f000)\n",
    "```"
   ]
  },
  {
   "cell_type": "markdown",
   "metadata": {},
   "source": [
    "This directory also contains device drivers. \n",
    "\n",
    "**/mnt** contains mount points for various filesystems. When we mount a filesystem by executing something like `mount /dev/sda /mnt/c`, this means that contents of the filesystem represented by `/dev/sda` will be available in `/mnt/c`. To unmount, use the command `umount`\n",
    "\n",
    "**/opt** softwares which are installed in a monolithic fashion (Windows style where all software files are located in its own directory in Program Files) are installed here. The configuration file can be located in `/etc/opt` and logs in `/var/opt`\n",
    "\n",
    "**/sbin** contains executables used for system maintenance and/or administrative tasks. Some files for same task are also located in `/usr/bin`. Some of the binaries present here are `fsck`, `shutdown`, `ip`, `reboot`, etc.\n",
    "\n",
    "**/usr** it contains a number of different files binaries, libraries, header files, etc. For example,\n",
    "    - /usr/bin contains binaries like `vim`, `g++`, `python3`, etc. Currently there is no distinction between `/bin` and `/usr/bin`, but due to historical partition size constraints, `/bin` contained only the most essential binaries."
   ]
  },
  {
   "cell_type": "markdown",
   "metadata": {},
   "source": [
    "### Location Flowchart\n",
    "![Installation Directory](http://blog.danyll.com/content/images/2015/04/linux_directory_map_hd.png)"
   ]
  },
  {
   "cell_type": "code",
   "execution_count": null,
   "metadata": {},
   "outputs": [],
   "source": []
  }
 ],
 "metadata": {
  "kernelspec": {
   "display_name": "Python 3",
   "language": "python",
   "name": "python3"
  },
  "language_info": {
   "codemirror_mode": {
    "name": "ipython",
    "version": 3
   },
   "file_extension": ".py",
   "mimetype": "text/x-python",
   "name": "python",
   "nbconvert_exporter": "python",
   "pygments_lexer": "ipython3",
   "version": "3.7.4"
  }
 },
 "nbformat": 4,
 "nbformat_minor": 4
}
