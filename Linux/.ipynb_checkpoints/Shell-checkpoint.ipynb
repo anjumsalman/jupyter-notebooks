{
 "cells": [
  {
   "cell_type": "markdown",
   "metadata": {},
   "source": [
    "### Shell\n",
    "Shell is a command line interface between user and OS. Different Linux shells:\n",
    "- **Bourne Shell** : located at `/bin/sh`, non-root prompt `$`, root prompt `#`\n",
    "- **C Shell**: located at `/bin/csh`, non-root prompt `%`, root prompt `#`\n",
    "- **Korn Shell**: located at `/bin/ksh`, non-root prompt `$`, root prompt `#`\n",
    "- **Bash Shell**: located at `/bin/bash`, non-root prompt `$`, root prompt `#`\n",
    "\n",
    "To check which shell you are using currently:\n",
    "```\n",
    "$echo $SHELL\n",
    "/bin/bash\n",
    "```"
   ]
  },
  {
   "cell_type": "markdown",
   "metadata": {},
   "source": [
    "### Shell Types\n",
    "**Login Shell** : the shell where we enter username and password to login. For example when we ssh into a remote server, we are interacting with login shell.  \n",
    "**Non-login Shell** : this doesn't require user to login. For example when we launch a new terminal from the GUI.  \n",
    "**Interactive Shell** : shells which we interact with and input commands in real time.  \n",
    "**Non-interactive Shell** bash scripts  "
   ]
  },
  {
   "cell_type": "markdown",
   "metadata": {},
   "source": [
    "### Shell Configuration Files\n",
    "Whenever we login into shell (login shell), the file `/etc/profile` is run. This file in turn runs files in `/etc/profile.d` directory. In some systems `/etc/profile` is used to set system wide environment variables, however in most systems it stored in `/etc/environment`.\n",
    "\n",
    "In the user directory, we have a number of files related to user specific shell instance such as `.bashrc`, `.bash_profile`, `.bash_login`, `.profile`, `.bash_logout`. We may not have all the above listed files. For example, in Ubuntu, `.profile` file serves purpose of `.bash_profile`, therefore `.bash_profile` is missing. `.profile` is intended to be compatible with all shells therefore any shell specific changes must be within its own guard.\n",
    "\n",
    "The order of execution can be explained (for bash shell) below. The B1, B2, B3 means it executes only the first of those files found.\n",
    "```\n",
    "+----------------+-----------+-----------+------+\n",
    "|                |Interactive|Interactive|Script|\n",
    "|                |login      |non-login  |      |\n",
    "+----------------+-----------+-----------+------+\n",
    "|/etc/profile    |   A       |           |      |\n",
    "+----------------+-----------+-----------+------+\n",
    "|/etc/bash.bashrc|           |    A      |      |\n",
    "+----------------+-----------+-----------+------+\n",
    "|~/.bashrc       |           |    B      |      |\n",
    "+----------------+-----------+-----------+------+\n",
    "|~/.bash_profile |   B1      |           |      |\n",
    "+----------------+-----------+-----------+------+\n",
    "|~/.bash_login   |   B2      |           |      |\n",
    "+----------------+-----------+-----------+------+\n",
    "|~/.profile      |   B3      |           |      |\n",
    "+----------------+-----------+-----------+------+\n",
    "|BASH_ENV        |           |           |  A   |\n",
    "+----------------+-----------+-----------+------+\n",
    "|                |           |           |      |\n",
    "+----------------+-----------+-----------+------+\n",
    "|                |           |           |      |\n",
    "+----------------+-----------+-----------+------+\n",
    "|~/.bash_logout  |    C      |           |      |\n",
    "+----------------+-----------+-----------+------+\n",
    "```\n",
    "\n",
    "Often we may have one script executing another. For example if the shell is Bash Shell, `/etc/profle` executes `/etc/bash.bashrc`. Similarly `~/.profile` executes `~/.bashrc`."
   ]
  },
  {
   "cell_type": "code",
   "execution_count": null,
   "metadata": {},
   "outputs": [],
   "source": []
  }
 ],
 "metadata": {
  "kernelspec": {
   "display_name": "Python 3",
   "language": "python",
   "name": "python3"
  },
  "language_info": {
   "name": ""
  }
 },
 "nbformat": 4,
 "nbformat_minor": 4
}
