{
 "cells": [
  {
   "cell_type": "markdown",
   "metadata": {},
   "source": [
    "## Probability\n",
    "**Relative Frequency**: it involves repeating experiment many times. $$P[A]=\\frac{f}{n}=\\frac{number\\ of\\ times\\ event\\ A\\ occurs}{number\\ of\\ times\\ experiment\\ was\\ performed}$$  \n",
    "**Classical Probability**: this method can only be used if each outcome is equally likely to occur. $$P[A]=\\frac{n(A)}{n(S)}=\\frac{number\\ of\\ ways\\ A\\ can\\ occur}{number\\ of\\ ways\\ experiment\\ can\\ proceed}$$"
   ]
  },
  {
   "cell_type": "markdown",
   "metadata": {},
   "source": [
    "**Question:** What is the probability that a child born to a couple heterozygous for eye color (each with genes for both brown and blue eyes) will be brown eyed?  \n",
    "**Answer:** Each parent has (blue, brown) genes. The child's gene can be (blue, blue), (blue, brown), (brown, blue) and (brown, brown). Since brown is dominant, child's eye can be brown in 3 cases. $P[A]=3/4=0.75$."
   ]
  },
  {
   "cell_type": "markdown",
   "metadata": {},
   "source": [
    "## Sample Space and Events\n",
    "**Sample Space**: A sample space for an experiment is a set S with property that each physical outcome of the experiment corresponds to exactly one element of S.  \n",
    "**Event**: any subset of sample space is called an event.  \n",
    "\n",
    "Therefore for the above example,\n",
    "$$S = \\{(blue, blue), (blue, brown), (brown, blue), (brown, brown)\\}\\\\  \n",
    "E = \\{(blue, brown), (brown, blue), (brown, brown)\\}$$"
   ]
  },
  {
   "cell_type": "markdown",
   "metadata": {},
   "source": [
    "## Mutually Exclusive Events\n",
    "Two events $A_1$ and $A_2$ are mutually exclusive iff $A_1 \\cap A_2 = \\phi$."
   ]
  },
  {
   "cell_type": "markdown",
   "metadata": {},
   "source": [
    "## Basic Combinatorics\n",
    "**Permutation**: arraagement of objects in a definite order. $$P^n_k = \\frac{n!}{(n-k)!}$$  \n",
    "**Combination**: selection of objects without regard to order. $$C^n_k = \\frac{n!}{k!(n-k)!}$$"
   ]
  },
  {
   "cell_type": "markdown",
   "metadata": {},
   "source": [
    "## Some Axioms\n",
    "- $P[S]=1$\n",
    "- $P[A]\\ge 0$\n",
    "- $P[\\phi]=0$\n",
    "- $P[A_1 \\cup A_2 \\cup A_3 \\cup \\dots A_n] = P[A_1] + P[A_2] + P[A_3] + \\dots + P[A_n]$ if $A_1 \\dots A_n$ are mutually exclusive events."
   ]
  },
  {
   "cell_type": "markdown",
   "metadata": {},
   "source": [
    "**Question:** The distribution of blood types in the United States is roughly 41% type A, 9% type B, 4% type AB and 46% type O. An individual is brought into an emergency room and is to be blood-typed. What is the probability that the type will be A, B, or AB?  \n",
    "**Answer** $S = \\{A, B, AB, O\\}$. Also each of the events listed above are mutually exclusive. Therefore the probabilty of having blood group A, B or AB = 0.41 + 0.9 + 0.4 = 0.54."
   ]
  },
  {
   "cell_type": "markdown",
   "metadata": {},
   "source": [
    "## General Addition Rule\n",
    "$$P[A_1 \\cup A_2] = P[A_1] + P[A_2] - P[A_1 \\cap A_2]$$"
   ]
  },
  {
   "cell_type": "markdown",
   "metadata": {},
   "source": [
    "## Conditional Probability\n",
    "Let $A_1$ and $A_2$ be two events such that $P[A_1]\\ne0$. The conditional probability of $A_2$ given $A_1$, denoted by $P[A_2|A_1]$ is defined by $$P[A_2|A_1] = \\frac{P[A_1\\cap A_2]}{P[A_1]}$$"
   ]
  },
  {
   "cell_type": "markdown",
   "metadata": {},
   "source": [
    "### Independent Events\n",
    "Two events $A_1$ and $A_2$ are independent if $P[A_1 \\cap A_2] = P[A_1] \\cdot P[A_2]$. This means that $P[A_2|A_1]=P[A_2]$."
   ]
  },
  {
   "cell_type": "code",
   "execution_count": null,
   "metadata": {},
   "outputs": [],
   "source": []
  }
 ],
 "metadata": {
  "kernelspec": {
   "display_name": "Python 3",
   "language": "python",
   "name": "python3"
  },
  "language_info": {
   "codemirror_mode": {
    "name": "ipython",
    "version": 3
   },
   "file_extension": ".py",
   "mimetype": "text/x-python",
   "name": "python",
   "nbconvert_exporter": "python",
   "pygments_lexer": "ipython3",
   "version": "3.6.7"
  }
 },
 "nbformat": 4,
 "nbformat_minor": 2
}
