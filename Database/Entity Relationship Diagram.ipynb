{
 "cells": [
  {
   "cell_type": "markdown",
   "metadata": {},
   "source": [
    "### Entity\n",
    "Entity is a noun such as product, account, class, etc. Represented as square bracket\n",
    "\n",
    "![Entity](https://i.imgur.com/klxhZAu.png)"
   ]
  },
  {
   "cell_type": "markdown",
   "metadata": {},
   "source": [
    "### Attributes\n",
    "Each entity has several attributes. Represented as an oval attached to the entity:\n",
    "\n",
    "![Attributes](https://i.imgur.com/6vnhMpm.png)"
   ]
  },
  {
   "cell_type": "markdown",
   "metadata": {},
   "source": [
    "### Relationship\n",
    "Entities can participate in relationships with other entities. For example, a customer can buy a product, a student can take a course, an artist can record an album, and so on.\n",
    "\n",
    "Different numbers of entities can appear on each side of a relationship. For example:\n",
    "- **One to one:** A car engine has one serial number\n",
    "- **One to many:** A customer can have multiple credit cards, but each credit card belongs to one customer\n",
    "- **Many to one:** One to many looked from the other side.\n",
    "- **Many to many:** An author can have multiple books and a book can have multiple authors.\n",
    "\n",
    "The four relationships defined above can be written as 1:1, 1:N, N:1, M:N. In an ER diagram, we represent a relationship set with a named diamond.  \n",
    "![Relation](https://i.imgur.com/nZWQUpu.png)\n",
    "\n",
    "Relationship can have *partial* or *total participation*. Partial participation example: A customer has bought 0 products, he is a customer just because the store has his information. Total participation: an author has written atleast 1 book. Total participation is represented using double line.\n",
    "\n",
    "![Total Participation](https://i.imgur.com/aFM1zgN.png)\n",
    "\n",
    "We can also associate attributes to the relationship.\n",
    "![Relation Attributes](https://i.imgur.com/22h0rHi.png)"
   ]
  },
  {
   "cell_type": "markdown",
   "metadata": {},
   "source": [
    "### Weak Entity\n",
    "Depends on a strong entity to ensure the its existence. A weak entity does not have any primary key and is represented by double rectangle.\n",
    "\n",
    "![Weak Entity](https://i.imgur.com/LW8IX9T.png)"
   ]
  },
  {
   "cell_type": "code",
   "execution_count": null,
   "metadata": {},
   "outputs": [],
   "source": []
  }
 ],
 "metadata": {
  "kernelspec": {
   "display_name": "Python 3",
   "language": "python",
   "name": "python3"
  },
  "language_info": {
   "codemirror_mode": {
    "name": "ipython",
    "version": 3
   },
   "file_extension": ".py",
   "mimetype": "text/x-python",
   "name": "python",
   "nbconvert_exporter": "python",
   "pygments_lexer": "ipython3",
   "version": "3.7.4"
  }
 },
 "nbformat": 4,
 "nbformat_minor": 4
}
