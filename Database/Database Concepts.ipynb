{
 "cells": [
  {
   "cell_type": "markdown",
   "metadata": {},
   "source": [
    "### Some Terminology\n",
    "**RDBMS** is collection of relations (tables).  \n",
    "Each relation has set of **attributes** or columns.  \n",
    "Each **tuple** or row has a value for each attribute.  \n",
    "Each attribute has a **type** or domain.  \n",
    "\n",
    "![structure](https://i.imgur.com/8lFNpkT.png)  \n",
    "\n",
    "**Schema** is the structural description of relations in database.  \n",
    "**Key** is an attribute (or set of attributes) whose value (or combined value) is unique in each tuple."
   ]
  },
  {
   "cell_type": "markdown",
   "metadata": {},
   "source": [
    "### Relational Algebra\n",
    "Relational Algebra is the underlying maths behind relational database querying. Below we have defined three relations:\n",
    "- `College(name, state, enrollment)`\n",
    "- `Student(id, name, gpa, highSchoolSize)`\n",
    "- `Apply(id, collegeName, major, decision)`\n",
    "\n",
    "A simplest query is simply the name of relation, for example `Student`. We use operators to filter, slice or combine relations. \n",
    "\n",
    "**Select operator:** picks certain rows. Syntax is `Sigma with condition in subscript applied to relation`. Examples:\n",
    "1. Pick students with GPA > 3.7: $\\sigma_{GPA\\gt3.7}Students$'\n",
    "2. Pick students with GPA > 3.7 and High School size < 1000: $\\sigma_{GPA\\gt 3.7 \\wedge highSchoolSize\\lt 1000}Students$\n",
    "\n",
    "**Project operator:** picks certain columns. Syntax is `Pi with comma separated columns as subscript applied to relation`. Examples:\n",
    "1. Select id and decision of all applications: $\\prod_{id, decision} Apply$  \n",
    "\n",
    "**Duplicates:** unlike SQL, in relational algebra, the duplicates are automatically removed.  \n",
    "\n",
    "**Cross Product (Cartesian Product):** combines two relations.\n",
    "1. Cross product Student and Apply relations: $Student \\times Apply$. The resultant relation will have 8 attributes and the number od tuples will the equal to the product of number of tuples in Student and Apply relations respectively.\n",
    "2. Names and GPAs of students with high school size > 1000 who applied to CS major and were rejected. $\\prod_{name,\\ gpa}(\\sigma_{Student.id = Apply.id\\ \\wedge\\ highSchoolSize\\gt 1000\\ \\wedge\\ major = 'CS'\\ \\wedge\\ decision = 'R'}(Student \\times Apply))$\n",
    "\n",
    "**Natural Join:** extension of cross product which makes sure to\n",
    "- enforce equality on all attributes with the same name\n",
    "- eliminate one copy of duplicate attributes.\n",
    "Examples:\n",
    "1. Names and GPAs of students with high school size > 1000 who applied to CS major and were rejected. $\\prod_{name,\\ gpa}(\\sigma_{highSchoolSize\\gt 1000\\ \\wedge\\ major = 'CS'\\ \\wedge\\ decision = 'R'}(Student \\bowtie Apply))$"
   ]
  },
  {
   "cell_type": "markdown",
   "metadata": {},
   "source": [
    "### Table Relationships\n",
    "**One to one relationship:** A pair of tables bears a one-to-one relationship when a single record in the first table is related to only one record in the second table, and a single record in the second table is related to only one record in the first table. Column of one table is linked to candidate table of another table.\n",
    "\n",
    "![1 to 1](https://i.imgur.com/1wD5r7x.jpg)"
   ]
  },
  {
   "cell_type": "markdown",
   "metadata": {},
   "source": [
    "**One to Many:** A one-to-many relationship exists between a pair of tables when a single record in the first table can be related to many records in the second table, but a single record in the second table can be related to only one record in the first table.\n",
    "\n",
    "![1 to many](https://i.imgur.com/o1JCRnH.jpg)"
   ]
  },
  {
   "cell_type": "markdown",
   "metadata": {},
   "source": [
    "**Many to Many:** A pair of tables bears a many-to-many relationship when a single record in the first table can be related to many records in the second table and a single record in the second table can be related to many records in the first table. You establish this relationship with a *linking table*.\n",
    "\n",
    "![Many to Many](https://i.imgur.com/WoQk7Ke.jpg)"
   ]
  },
  {
   "cell_type": "markdown",
   "metadata": {},
   "source": [
    "### Database Normalization\n",
    "Normalization is the process of organizing data in a database. This is done in order to reduce redundancy and inconsistent dependency. What is an \"inconsistent dependency\"? While it is int uitive for a user to look in the Customers table for the address of a particular customer, it may not make sense to look there for the salary of the employee who calls on that customer. The employee's salary is related to, or dependent on, the employee and thus should be moved to the Employees table.  \n",
    "\n",
    "Normalization involves following certain rules. If the first rule is followed it is called first normal form. If first three rules are formed it is called third normal form. Third normal form is considered the highest level necessary for most applications."
   ]
  },
  {
   "cell_type": "markdown",
   "metadata": {},
   "source": [
    "**First Normal Form:** rules:\n",
    "- Eliminate repeating groups in individual tables.\n",
    "- Create a separate table for each set of related data.\n",
    "- Identify each set of related data with a primary key.\n",
    "\n",
    "**Second Normal Form:** rules:\n",
    "- Create separate tables for sets of values that apply to multiple records.\n",
    "- Relate these tables with a foreign key.\n",
    "\n",
    "**Third Normal Form:** rules:\n",
    "- Eliminate fields that do not depend on the key."
   ]
  },
  {
   "cell_type": "markdown",
   "metadata": {},
   "source": [
    "![Normalization Example](https://i.imgur.com/GQnQ4V1.png)"
   ]
  },
  {
   "cell_type": "markdown",
   "metadata": {},
   "source": [
    "### ACID Properties\n",
    "ACID = Atomicity + Consistency + Isolation + Durability\n",
    "\n",
    "**Database Transaction:** A database transaction is a collection of queries. Either all the queries are *committed* or all are *rolled back*.  \n",
    "\n",
    "**Atomicity:** All queries in a transaction must succeed. If even one fails, rollback.  \n",
    "**Isolation:** This relates to how database handles concurrent transactions. Some of the problems associated with multiple concurrent transactions are:\n",
    "- **Dirty Reads:** A dirty read occurs when a transaction is allowed to read data from a row that has been modified by another running transaction and not yet committed.  \n",
    "![DR](https://i.imgur.com/RgXv5u7.png)\n",
    "- **Non Repeatable Reads:** A non-repeatable read occurs when, during the course of a transaction, a row is retrieved twice and the values within the row differ between reads.  \n",
    "![NRR](https://i.imgur.com/HebK9jE.png)\n",
    "- **Phantom Reads:** A phantom read occurs when, in the course of a transaction, new rows are added or removed by another transaction to the records being read.  \n",
    "![PR](https://i.imgur.com/FLaChm0.png)"
   ]
  },
  {
   "cell_type": "code",
   "execution_count": null,
   "metadata": {},
   "outputs": [],
   "source": []
  }
 ],
 "metadata": {
  "kernelspec": {
   "display_name": "Python 3 (ipykernel)",
   "language": "python",
   "name": "python3"
  },
  "language_info": {
   "codemirror_mode": {
    "name": "ipython",
    "version": 3
   },
   "file_extension": ".py",
   "mimetype": "text/x-python",
   "name": "python",
   "nbconvert_exporter": "python",
   "pygments_lexer": "ipython3",
   "version": "3.12.7"
  }
 },
 "nbformat": 4,
 "nbformat_minor": 4
}
