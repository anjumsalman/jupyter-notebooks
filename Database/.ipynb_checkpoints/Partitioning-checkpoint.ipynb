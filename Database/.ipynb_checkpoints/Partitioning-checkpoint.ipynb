{
 "cells": [
  {
   "cell_type": "markdown",
   "metadata": {},
   "source": [
    "### Partitioning\n",
    "Partitioning is a generic term for dividing data across tables or databases. We can partition vertically or horizontally as shown:  \n",
    "<img src=\"https://assets.digitalocean.com/articles/understanding_sharding/DB_image_1_cropped.png\" width=\"650\" height=\"auto\" />\n",
    "\n",
    "Horizontal partitioning is called **sharding** and it is the one that is supported by MySQL (no vertical partitioning in MySQL).  \n",
    "\n",
    "Advantages:\n",
    "- now able to accomodate large amount of data by splitting it across machines\n",
    "- better reselience in case of failure\n",
    "- faster query in some cases"
   ]
  },
  {
   "cell_type": "markdown",
   "metadata": {},
   "source": [
    "### Sharding Methods\n",
    "**Hash based** one of the column is hashed and the hash result is used to distribute rows:   \n",
    "<img src=\"https://assets.digitalocean.com/articles/understanding_sharding/DB_image_2_cropped.png\" width=\"650\" height=\"auto\" />  \n",
    "The problem with this is if we add new machines then how to we distribute now? We may have to update our hashing logic, redistribute all data, etc\n",
    "\n",
    "In MySQL we can define hash based partitioning in the following manner:\n",
    "```SQL\n",
    "-- Only InnoDB and NDB engines support partitioning\n",
    "CREATE TABLE ti (id INT, amount DECIMAL(7,2), tr_date DATE)\n",
    "ENGINE=INNODB\n",
    "PARTITION BY HASH( MONTH(tr_date) )\n",
    "PARTITIONS 6;\n",
    "```\n",
    "\n",
    "**Range based**  \n",
    "<img src=\"https://assets.digitalocean.com/articles/understanding_sharding/DB_image_3_cropped.png\" width=\"650\" height=\"auto\" />  \n",
    "The disadvantage is that partitions can grow non-uniformly.\n",
    "```SQL\n",
    "CREATE TABLE members (\n",
    "    firstname VARCHAR(25) NOT NULL,\n",
    "    lastname VARCHAR(25) NOT NULL,\n",
    "    username VARCHAR(16) NOT NULL,\n",
    "    email VARCHAR(35),\n",
    "    joined DATE NOT NULL\n",
    ")\n",
    "PARTITION BY RANGE( YEAR(joined) ) (\n",
    "    PARTITION p0 VALUES LESS THAN (1960),\n",
    "    PARTITION p1 VALUES LESS THAN (1970),\n",
    "    PARTITION p2 VALUES LESS THAN (1980),\n",
    "    PARTITION p3 VALUES LESS THAN (1990),\n",
    "    PARTITION p4 VALUES LESS THAN MAXVALUE\n",
    ");\n",
    "```\n",
    "\n",
    "**List based** if the column value (using which we are partitioning) has discrete values.\n",
    "```SQL\n",
    "CREATE TABLE t2 (val INT)\n",
    "PARTITION BY LIST(val)(\n",
    "PARTITION p0 VALUES IN (1,3,5),\n",
    "PARTITION p1 VALUES IN (2,4,6)\n",
    "```"
   ]
  },
  {
   "cell_type": "code",
   "execution_count": null,
   "metadata": {},
   "outputs": [],
   "source": []
  }
 ],
 "metadata": {
  "kernelspec": {
   "display_name": "Python 3",
   "language": "python",
   "name": "python3"
  },
  "language_info": {
   "codemirror_mode": {
    "name": "ipython",
    "version": 3
   },
   "file_extension": ".py",
   "mimetype": "text/x-python",
   "name": "python",
   "nbconvert_exporter": "python",
   "pygments_lexer": "ipython3",
   "version": "3.7.4"
  }
 },
 "nbformat": 4,
 "nbformat_minor": 4
}
