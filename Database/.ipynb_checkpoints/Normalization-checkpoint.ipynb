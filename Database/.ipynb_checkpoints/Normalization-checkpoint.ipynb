{
 "cells": [
  {
   "cell_type": "markdown",
   "metadata": {},
   "source": [
    "### Introduction\n",
    "The process of normalization determines the degree of redundancy in a relation. It follows from the theory of functional dependencies."
   ]
  },
  {
   "cell_type": "markdown",
   "metadata": {},
   "source": [
    "### Functional Dependencies\n",
    "We consider the following relations:  \n",
    "\n",
    "![Relations](https://i.imgur.com/d1ViNY0.png)\n",
    "\n",
    "In the above relation we will consider that the proirity is decided by the GPA. Two tuples with same GPA will have the same priority. We can write this as:\n",
    "\n",
    "$$\\forall t,u \\in Student$$\n",
    "$$t.GPA = u.GPA \\implies t.Priority = u.Priority$$\n",
    "\n",
    "The above statement is that for all tuples $t$ and $u$ in the Student relation, if the GPA for those two tuples are the same then the priority will also be the same. This can be written as:\n",
    "$$GPA \\rightarrow Priority$$\n",
    "\n",
    "More generally,\n",
    "$$\\forall t,u \\in R$$\n",
    "$$t.A = u.A \\implies t.B = u.B$$\n",
    "$$A \\rightarrow B$$\n",
    "\n",
    "Expanding this to muliple attributes,\n",
    "$$\\forall t,u \\in R$$\n",
    "$$t.[A_1, A_2, ..., A_n] = u.[A_1, A_2, ..., A_n] \\implies t.[B_1, B_2, ..., B_m] = u.[B_1, B_2, ..., B_m]$$\n",
    "$$A_1, A_2, ..., A_n \\rightarrow B_1, B_2, ..., B_m$$\n",
    "$$\\overline{A} \\rightarrow \\overline{B}$$"
   ]
  },
  {
   "cell_type": "markdown",
   "metadata": {},
   "source": [
    "The functional dependencies in a relation is based on real world knowledge. And all instances of the relation adhere to it. The meaning of $\\overline{A} \\rightarrow \\overline{B}$ can be made more clear by the table diagram below:\n",
    "\n",
    "![FD](https://i.imgur.com/DQNSfYw.png)"
   ]
  },
  {
   "cell_type": "markdown",
   "metadata": {},
   "source": [
    "Some FDs evident from the Student relation:  \n",
    "$SSN \\rightarrow Name$  \n",
    "$SchoolCode \\rightarrow SchoolName, SchoolCity$  \n",
    "$SchoolName, SchoolCity \\rightarrow SchoolCode$  \n",
    "$SSN \\rightarrow GPA$  \n",
    "$GPA \\rightarrow Priority$"
   ]
  },
  {
   "cell_type": "markdown",
   "metadata": {},
   "source": [
    "Some FDs from the Application relation:  \n",
    "$SSN, CollegeName \\rightarrow Course$  \n",
    "$SSN \\rightarrow State$ if you can apply to only one college in a state"
   ]
  },
  {
   "cell_type": "markdown",
   "metadata": {},
   "source": [
    "### Types of Functional Dependency\n",
    "**Trivial FD:** A functional dependency $\\overline{A} \\rightarrow \\overline{B}$ is trivial if $\\overline{B} \\subseteq \\overline{A}$.  \n",
    "![Trivial](https://i.imgur.com/jm222iV.png)  \n",
    "\n",
    "**Non Trivial FD:** A functional dependency $\\overline{A} \\rightarrow \\overline{B}$ is non-trivial if $\\overline{B} \\nsubseteq \\overline{A}$. \n",
    "\n",
    "![Non](https://i.imgur.com/1rVqzNX.png)  \n",
    "\n",
    "**Complete Non Trivial FD:** A functional dependency $\\overline{A} \\rightarrow \\overline{B}$ is complete non-trivial if $\\overline{B} \\cap \\overline{A} = \\emptyset$.  \n",
    "![Complete Non](https://i.imgur.com/OvDv2FE.png)  "
   ]
  },
  {
   "cell_type": "markdown",
   "metadata": {},
   "source": [
    "### Functional Dependency Rules\n",
    "**Splitting:** We can split RHS\n",
    "$$\\overline{A} \\rightarrow B_1, B_2, ..., B_m$$\n",
    "$$\\implies \\overline{A} \\rightarrow B_1, \\overline{A} \\rightarrow B_2, ...$$\n",
    "\n",
    "Splitting left hand side is however not possible in many cases, for example:\n",
    "$$SchoolName, SchoolCity \\rightarrow SchoolCode$$\n",
    "Cannot be written as\n",
    "$$SchoolName \\rightarrow SchoolCode$$\n",
    "$$SchoolCity \\rightarrow SchoolCode$$  \n",
    "\n",
    "**Combining:** We can combine multiple FDs as one:\n",
    "$$\\overline{A} \\rightarrow B_1$$\n",
    "$$\\overline{A} \\rightarrow B_2$$\n",
    "$$\\vdots$$\n",
    "$$\\overline{A} \\rightarrow B_m$$\n",
    "$$\\implies \\overline{A} \\rightarrow B_1, B_2, ..., B_m$$\n",
    "\n",
    "**Transitive** If we have\n",
    "$$A \\rightarrow B, B \\rightarrow C$$\n",
    "Then\n",
    "$$A \\rightarrow C$$"
   ]
  },
  {
   "cell_type": "markdown",
   "metadata": {},
   "source": [
    "With all the above rules we can find the *closure of attributes* which is: given a relation and set of FDs, find all $B$ such that $\\overline{A} \\rightarrow B$. That set would be represented as $\\overline{A}^{+}$. To find closure,\n",
    "- start with the given set of attributes: $\\{A_1, A_2, ..., A_n\\}$\n",
    "- repeat until no change the following: If $\\overline{A} \\rightarrow \\overline{B}$, then add $\\overline{B}$ to the same set.\n",
    "\n",
    "As an example if we take student relation example, we can see the following functional dependencies:  \n",
    "![Student FDs](https://i.imgur.com/2VRkOPC.png)  \n",
    "\n",
    "Let us find the closure for the attributes SSN and SchoolCode. First we create a set with these two attributes  \n",
    "$$\\{SSN, SchoolCode\\}$$\n",
    "Then, based on the above available functional dependencies, we add attribute to this set. So first we add Name, Address and GPA:\n",
    "$$\\{SSN, SchoolCode, Name, Address, GPA\\}$$\n",
    "Now we add Priority since $GPA \\rightarrow Priority$\n",
    "$$\\{SSN, SchoolCode, Name, Address, GPA, Priority\\}$$\n",
    "Finally we add SchoolName and SchoolCity\n",
    "$$\\{SSN, SchoolCode, Name, Address, GPA, Priority, SchoolName, SchoolCity\\}^{+}$$"
   ]
  },
  {
   "cell_type": "markdown",
   "metadata": {},
   "source": [
    "### Closure and Keys\n",
    "Once we have the closure determined, we can see that in this case SSN and SchoolCode functionally determince *all* the attributes in the relation. If this is the case, we can say that SSN and SchoolCode together form a *key* for this relation.  \n",
    "\n",
    "We often get the following questions:\n",
    "- Given $\\overline{A}$, does it represent key? Compute $\\overline{A}^{+}$, if it contains all the attributes of the relation, then it is a key.\n",
    "- Given set of FDs, how to get the keys? Find all possible subsets of attributes (start with the smallest) and find closures of all subsets.\n",
    "\n",
    "**Superkey:** an attribute, or combination of attributes, that functionally determines all of the table's other attributes. A super key is a set of attributes whose closure is the set of all atributes. Suppose that for our relation $R$, the following FDs hold true:\n",
    "$$A \\rightarrow B, BC \\rightarrow E, ED \\rightarrow A$$  \n",
    "All superkeys are:\n",
    "$$\\{ABCDE, BCED, ACDE, ABCD, ACD, BCD, CDE\\}$$  \n",
    "\n",
    "**Candidate Key:** is minimal superkey, that is superkey with minimum number of attributes. In the above example, the candidate keys are:\n",
    "$$\\{ACD, BCD, CDE\\}$$\n",
    "\n",
    "**Primary Key:** is one of the candidate keys as long as the candidate key does not contain null values."
   ]
  },
  {
   "cell_type": "markdown",
   "metadata": {},
   "source": [
    "### First Normal Form\n",
    "The following rule must be fullfilled:\n",
    "- The domain of an attribute must include only atomic (simple, indivisible) values and\n",
    "- the value of any attribute in a tuple must be a single value from the domain of that attribute\n",
    "\n",
    "![1NF](https://i.imgur.com/Qi8WM04.png)  \n",
    "\n",
    "This however introduces redundancy in data."
   ]
  },
  {
   "cell_type": "markdown",
   "metadata": {},
   "source": [
    "### Second Normal Form\n",
    "For the schema to be in second normal form, the schema should be in first normal form. The second normal form says that all non-prime attributes (attributes not part of candidate key) must not functionally depend on subset of attributes of the candidate key.  \n",
    "\n",
    "![Student](https://i.imgur.com/CFgmu0F.png)  \n",
    "\n",
    "We can see that the following dependencies can be established:\n",
    "$$StudentID \\rightarrow StudentName, CourseID \\rightarrow CourseName$$\n",
    "The candidate key in this relation is:\n",
    "$$\\{StudentID, CourseID\\}$$\n",
    "\n",
    "The above relation breaks 2nd Normal Form because non-prime attributes StudentName and CourseName depend on partial attributes of candidate key\n",
    "1. $StudentID \\rightarrow StudentName$\n",
    "2. $CourseID \\rightarrow CourseName$\n",
    "\n",
    "So we break this one relation into two:  \n",
    "![2NF 1](https://i.imgur.com/T71qtJB.png)\n",
    "\n",
    "The second relation is not in second normal form because CourseName is functionally dependent on subset of candidate key StudentID, CourseID. So we need to decompose it further:  \n",
    "![2NF 2](https://i.imgur.com/IoTdhvr.png)"
   ]
  },
  {
   "cell_type": "markdown",
   "metadata": {},
   "source": [
    "### Third Normal Form\n",
    "The schema must be in second normal form. The third normal form stated that non-prime attributes depend only on the candidate keys and do not have a transitive dependency on another key.\n",
    "\n",
    "For example:  \n",
    "![Before 3NF](https://i.imgur.com/CPcZtPB.png)  \n",
    "\n",
    "Here we can see that $\\{Tournament, Year\\}$ combination forms the candidate key and $\\{Winner, WinnerDOB\\}$ are non-prime attributes. The schema is in second normal form.\n",
    "$$Tournament, Year \\rightarrow Winner$$\n",
    "$$Winner \\rightarrow WinnerName$$\n",
    "The schema violates third normal form due the following transitive dependency:\n",
    "$$Tournament, Year \\rightarrow Winner \\rightarrow WinnerName$$\n",
    "$$\\implies Tournament, Year \\rightarrow WinnerName$$\n",
    "\n",
    "So we need to decompose as:  \n",
    "![3NF](https://i.imgur.com/x4zrz8E.png)"
   ]
  },
  {
   "cell_type": "code",
   "execution_count": null,
   "metadata": {},
   "outputs": [],
   "source": []
  }
 ],
 "metadata": {
  "kernelspec": {
   "display_name": "Python 3",
   "language": "python",
   "name": "python3"
  },
  "language_info": {
   "codemirror_mode": {
    "name": "ipython",
    "version": 3
   },
   "file_extension": ".py",
   "mimetype": "text/x-python",
   "name": "python",
   "nbconvert_exporter": "python",
   "pygments_lexer": "ipython3",
   "version": "3.7.4"
  }
 },
 "nbformat": 4,
 "nbformat_minor": 4
}
