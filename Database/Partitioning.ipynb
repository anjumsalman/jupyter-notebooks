{
 "cells": [
  {
   "cell_type": "markdown",
   "metadata": {},
   "source": [
    "## Partitioning\n",
    "Refers to dividing data into multiple pieces which can be stored, accessed and managed separately. It offers the following benefits:\n",
    "- **Scalability:** as the database size grows, it is not possible to store all of it on one node. We can partition data and store partitions on separate nodes.\n",
    "- **Performance:** as we spread data across multiple nodes, we reduce read contention. Requests to database are now handled by multiple machines.\n",
    "- **Availability:** even if one node goes down, there are other nodes to server data. Partitioning is often combined with data replication.\n",
    "\n",
    "Partitioning does not require partitions to be stored on different nodes. Infact creating partitions using `PARTITION BY` clause creates partitions that reside on the same node. When partitions are spread across multiple nodes this is termed as **sharding**.\n",
    "\n",
    "Even when partitioning involves only one node, it can be beneficial:\n",
    "- improved querying performance by skipping irrelevant partitions\n",
    "- query can be run parallaly across multiple partitions\n",
    "\n",
    "### Horizontal vs Vertical Partitioning\n",
    "\n",
    "## Partition Method\n",
    "When we partition data, one the main considerations is to ensure that data is distributed equally among the partitions. One way to do this is to randomly store data in different nodes. But this makes reading data slow - we don't know which partition holds the data we are looking for; so we need to search in all partitions.\n",
    "\n",
    "### Partition by Range\n",
    "The table is partitioned into “ranges” defined by a key, with no overlap between the ranges of values assigned to different partitions. It is upto the database administrator to define the ranges in a way that partitions are equally filled.\n",
    "\n",
    "In Postgres, do define partition by range:"
   ]
  },
  {
   "cell_type": "code",
   "execution_count": null,
   "metadata": {},
   "outputs": [],
   "source": [
    "%%sql\n",
    "-- # Table below is the parent table and it doesn't store the data itself\n",
    "CREATE TABLE employee_logins (\n",
    "    id SERIAL PRIMARY KEY,\n",
    "    employee_id INT NOT NULL,\n",
    "    login_date DATE NOT NULL,\n",
    "    device TEXT\n",
    ") PARTITION BY RANGE (login_date);\n",
    "\n",
    "-- # Define partitions:\n",
    "-- # 2024\n",
    "CREATE TABLE employee_logins_2024\n",
    "    PARTITION OF employee_logins\n",
    "    FOR VALUES FROM ('2024-01-01') TO ('2024-12-31');\n",
    "-- # 2025\n",
    "CREATE TABLE employee_logins_2025\n",
    "    PARTITION OF employee_logins\n",
    "    FOR VALUES FROM ('2025-01-01') TO ('2025-12-31');\n",
    "\n",
    "-- # Any other date\n",
    "CREATE TABLE employee_logins_default\n",
    "    PARTITION OF employee_logins DEFAULT;\n",
    "\n",
    "-- # Select query using the parent table\n",
    "SELECT * FROM employee_logins WHERE login_date = '2024-05-10';\n",
    "\n",
    "-- # Insert using the parent table\n",
    "INSERT INTO employee_logins (employee_id, login_date, device)\n",
    "VALUES (101, '2024-01-15', 'Laptop');"
   ]
  },
  {
   "cell_type": "markdown",
   "metadata": {},
   "source": [
    "MySQL does things a little differently:"
   ]
  },
  {
   "cell_type": "code",
   "execution_count": null,
   "metadata": {},
   "outputs": [],
   "source": [
    "%%sql\n",
    "CREATE TABLE employee_logins (\n",
    "    id INT NOT NULL AUTO_INCREMENT,\n",
    "    employee_id INT NOT NULL,\n",
    "    login_date DATE NOT NULL,\n",
    "    device VARCHAR(100),\n",
    "    PRIMARY KEY (id, login_date)  -- # must include partition column (login_date)\n",
    ")\n",
    "\n",
    "PARTITION BY RANGE (YEAR(login_date)) (\n",
    "    PARTITION employee_logins_2024 VALUES LESS THAN (2025),\n",
    "    PARTITION employee_logins_2025 VALUES LESS THAN (2026),\n",
    "    PARTITION employee_logins_default VALUES LESS THAN MAXVALUE\n",
    ");"
   ]
  },
  {
   "cell_type": "markdown",
   "metadata": {},
   "source": [
    "Ranged queries (based on partition column) on this kind of partitioning works well - database can figure out easily which partitions have the requested data.\n",
    "\n",
    "### Partition by Hash\n",
    "To prevent skew and hotspot - we can instead partition by hash which works by hashing the key to figure out the target partition. Postgres and MySQL for example use the modulo function over the hash:"
   ]
  },
  {
   "cell_type": "code",
   "execution_count": null,
   "metadata": {},
   "outputs": [],
   "source": [
    "%%sql\n",
    "CREATE TABLE employee_logins (\n",
    "    id SERIAL PRIMARY KEY,\n",
    "    employee_id INT NOT NULL,\n",
    "    login_date DATE NOT NULL,\n",
    "    device TEXT\n",
    ") PARTITION BY HASH (employee_id);\n",
    "\n",
    "-- # Create 4 hash partitions\n",
    "CREATE TABLE employee_logins_p0 PARTITION OF employee_logins\n",
    "    FOR VALUES WITH (MODULUS 4, REMAINDER 0);\n",
    "\n",
    "CREATE TABLE employee_logins_p1 PARTITION OF employee_logins\n",
    "    FOR VALUES WITH (MODULUS 4, REMAINDER 1);\n",
    "\n",
    "CREATE TABLE employee_logins_p2 PARTITION OF employee_logins\n",
    "    FOR VALUES WITH (MODULUS 4, REMAINDER 2);\n",
    "\n",
    "CREATE TABLE employee_logins_p3 PARTITION OF employee_logins\n",
    "    FOR VALUES WITH (MODULUS 4, REMAINDER 3);"
   ]
  },
  {
   "cell_type": "markdown",
   "metadata": {},
   "source": [
    "MySQL:"
   ]
  },
  {
   "cell_type": "code",
   "execution_count": null,
   "metadata": {},
   "outputs": [],
   "source": [
    "%%sql\n",
    "CREATE TABLE employee_logins (\n",
    "    id INT NOT NULL AUTO_INCREMENT,\n",
    "    employee_id INT NOT NULL,\n",
    "    login_date DATE NOT NULL,\n",
    "    device VARCHAR(100),\n",
    "    PRIMARY KEY (id, employee_id)   -- # must include partition column (employee_id)\n",
    ")\n",
    "\n",
    "PARTITION BY HASH(employee_id)\n",
    "PARTITIONS 4;"
   ]
  },
  {
   "cell_type": "markdown",
   "metadata": {},
   "source": [
    "Distributed databases however do not use `hash % N` logic since it requires significant data rebalancing in case new nodes are added or nodes are removed. Distributed databses divide the hash space into contiguous ranges, which can be moved around dynamically for rebalancing.*Consistent Hashing* is one approach which is typically used by *key-value* stores.\n",
    "\n",
    "Ranged queries (`BETWEEN > <`) don't perform the best since keys that were once adjacent are now scattered across all the partitions."
   ]
  },
  {
   "attachments": {},
   "cell_type": "markdown",
   "metadata": {},
   "source": [
    "## Partitioning and Indexes\n",
    "How do indexes defined in conjunction with partitions? There are two approaches:\n",
    "- **Local Index:** each partition maintains its own index covering only rows that are present in the partition. Lets consider table:\n",
    "  ![Local Index](./images/local_index.png)  \n",
    "  If the age column is indexed, it is not guaranteed that people having same age would be present in the same partition. So if the query is to search by age, then the database will have to look inside all partitions.\n",
    "- **Term-Partitioned Global Index:** we create a global index and partition it differently than the primary key. Reads using this method is fast and easy. Writing is slower because if a row is added to partition A, its index may be in partition B.\n",
    "  ![Local Index](./images/global_index.png)  "
   ]
  },
  {
   "cell_type": "markdown",
   "metadata": {},
   "source": [
    "## Rebalancing Partitions"
   ]
  },
  {
   "cell_type": "code",
   "execution_count": null,
   "metadata": {},
   "outputs": [],
   "source": []
  }
 ],
 "metadata": {
  "kernelspec": {
   "display_name": "Python 3 (ipykernel)",
   "language": "python",
   "name": "python3"
  },
  "language_info": {
   "codemirror_mode": {
    "name": "ipython",
    "version": 3
   },
   "file_extension": ".py",
   "mimetype": "text/x-python",
   "name": "python",
   "nbconvert_exporter": "python",
   "pygments_lexer": "ipython3",
   "version": "3.12.7"
  }
 },
 "nbformat": 4,
 "nbformat_minor": 4
}
