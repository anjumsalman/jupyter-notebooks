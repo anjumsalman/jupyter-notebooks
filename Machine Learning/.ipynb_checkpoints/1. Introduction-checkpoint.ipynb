{
 "cells": [
  {
   "cell_type": "markdown",
   "metadata": {},
   "source": [
    "## Machine Learning\n",
    "\n",
    "**Definition** : A computer program is said to learn from experience E with respect to some class of tasks T and performance measure P, if its performance at tasks in T, as measured by P, improves with experience E\n",
    "\n",
    "Machine learning can either be\n",
    "- Supervised Learning\n",
    "- Unsupervised Learning\n",
    "\n",
    "## Supervised Learning\n",
    "In supervised learning, we are given a data set and already know what our correct output should look like, having the idea that there is a relationship between the input and the output.\n",
    "\n",
    "Two categories:\n",
    "- Regression: mapping input to continuous output\n",
    "- Classification: mapping input to discreet output\n",
    "\n",
    "## Unsupervised Learning\n",
    "- Clustering\n",
    "- Non-clustering"
   ]
  },
  {
   "cell_type": "code",
   "execution_count": null,
   "metadata": {},
   "outputs": [],
   "source": []
  }
 ],
 "metadata": {
  "kernelspec": {
   "display_name": "Python 3",
   "language": "python",
   "name": "python3"
  },
  "language_info": {
   "codemirror_mode": {
    "name": "ipython",
    "version": 3
   },
   "file_extension": ".py",
   "mimetype": "text/x-python",
   "name": "python",
   "nbconvert_exporter": "python",
   "pygments_lexer": "ipython3",
   "version": "3.6.2"
  }
 },
 "nbformat": 4,
 "nbformat_minor": 2
}
