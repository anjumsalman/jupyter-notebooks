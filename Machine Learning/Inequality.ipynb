{
 "cells": [
  {
   "cell_type": "markdown",
   "metadata": {},
   "source": [
    "### Wavy Curly Method\n",
    "Find all x which satisfies the below equation:\n",
    "$$\n",
    "\\begin{align}\n",
    "\\dfrac{\\left( x^{2} -6x+5\\right)}{( x-3)\\left( 16-x^{2}\\right)} \\leq 0\\\\\n",
    "\\\\\n",
    "\\Longrightarrow \\dfrac{( x-5)( x-1)}{( x-3)( x+4)( 4-x)} \\leq 0\n",
    "\\end{align}\n",
    "$$\n",
    "\n",
    "Draw the above equation on a number line, do not cancel factors.\n",
    "\n",
    "$$\n",
    "\\begin{align}\n",
    "x\\ \\in ( -4,1] \\cup ( 3,4) \\cup [ 5,\\infty )\n",
    "\\end{align}\n",
    "$$\n"
   ]
  },
  {
   "cell_type": "markdown",
   "metadata": {},
   "source": [
    "### Absolute Number Inequality\n",
    "\n",
    "$$\n",
    "\\begin{equation*}\n",
    "\\mid\\ x\\mid \\ =\\ \\begin{cases}\n",
    "x\\  & if\\ x >0\\\\\n",
    "-x\\  & if\\ x\\ < \\ 0\\\\\n",
    "0 & if\\ x\\ =\\ 0\n",
    "\\end{cases}\n",
    "\\end{equation*}\n",
    "$$\n",
    "\n",
    "Solve: $\\mid x^{2} -8x+15\\mid \\leq 8$\n",
    "\n",
    "**Case 1:** $x^{2} -8x+15 > 0$. On solving for x using the above method we get $x\\ \\in (-\\infty,3] \\cup [5,\\infty)$\n",
    "\n",
    "Then solve $x^{2} -8x+15 \\leq 8$. Combine solutions"
   ]
  },
  {
   "cell_type": "code",
   "execution_count": null,
   "metadata": {},
   "outputs": [],
   "source": []
  }
 ],
 "metadata": {
  "kernelspec": {
   "display_name": "Python 3",
   "language": "python",
   "name": "python3"
  },
  "language_info": {
   "codemirror_mode": {
    "name": "ipython",
    "version": 3
   },
   "file_extension": ".py",
   "mimetype": "text/x-python",
   "name": "python",
   "nbconvert_exporter": "python",
   "pygments_lexer": "ipython3",
   "version": "3.6.2"
  }
 },
 "nbformat": 4,
 "nbformat_minor": 2
}
