{
 "cells": [
  {
   "cell_type": "markdown",
   "metadata": {},
   "source": [
    "### The init Method\n",
    "The `__init__` method initializes instance variables after object creation. However, instance variables can be added even without writing the \\__init__ method. Methods can introduce instance variables. We can even add instance variables outside of class definition"
   ]
  },
  {
   "cell_type": "code",
   "execution_count": 3,
   "metadata": {},
   "outputs": [
    {
     "name": "stdout",
     "output_type": "stream",
     "text": [
      "10\n"
     ]
    }
   ],
   "source": [
    "class InitDemo:\n",
    "    def __init__(self):\n",
    "        self._a = 5\n",
    "\n",
    "demo = InitDemo()\n",
    "demo._b = demo._a * 2 # adding new instance variable\n",
    "print(demo._b)"
   ]
  },
  {
   "cell_type": "markdown",
   "metadata": {},
   "source": [
    "One important thing to note is that the \\__init__ method is not constructor. Also since there is no concept of overloading, we use optional arguments to initialize variables in more than one possible way."
   ]
  },
  {
   "cell_type": "code",
   "execution_count": 4,
   "metadata": {},
   "outputs": [
    {
     "name": "stdout",
     "output_type": "stream",
     "text": [
      "x: 0, y: 0\n",
      "x: 3, y: 0\n",
      "x: 0, y: 5\n"
     ]
    }
   ],
   "source": [
    "class Point:\n",
    "    def __init__(self, x=0, y=0):\n",
    "        self.move(x,y)\n",
    "        \n",
    "    def move(self, x, y):\n",
    "        self.x = x\n",
    "        self.y = y\n",
    "        \n",
    "    def reset(self):\n",
    "        self.move(0,0)\n",
    "        \n",
    "    def __str__(self):\n",
    "        return f'x: {self.x}, y: {self.y}'\n",
    "        \n",
    "origin = Point()\n",
    "point_x = Point(3)\n",
    "point_y = Point(0,5)\n",
    "print(origin)\n",
    "print(point_x)\n",
    "print(point_y)"
   ]
  },
  {
   "cell_type": "markdown",
   "metadata": {},
   "source": [
    "### The Constructor Function\n",
    "The constructor function is `__new__`. It is rarely used. It accepts only one argument that is the class being constructed and returns newly created object.  \n",
    "Use \\__new__ when you need to control the creation of a new instance. Use \\__init__ when you need to control initialization of a new instance."
   ]
  },
  {
   "cell_type": "markdown",
   "metadata": {},
   "source": [
    "### Documenting a Class\n",
    "Use `doctring`. A docstring is simply set of characters enclosed within ', \", ''' or \"\"\". For example, "
   ]
  },
  {
   "cell_type": "code",
   "execution_count": 5,
   "metadata": {},
   "outputs": [
    {
     "name": "stdout",
     "output_type": "stream",
     "text": [
      "Help on class Trigonometry in module __main__:\n",
      "\n",
      "class Trigonometry(builtins.object)\n",
      " |  Provides functionality for trigonometric calculations\n",
      " |  \n",
      " |  Methods defined here:\n",
      " |  \n",
      " |  __init__(self)\n",
      " |      Initializes instance of trigonometry class.\n",
      " |      This constructor has no parameters.\n",
      " |  \n",
      " |  sin(self, angle)\n",
      " |      Calculates the sine of the given angle\n",
      " |  \n",
      " |  ----------------------------------------------------------------------\n",
      " |  Data descriptors defined here:\n",
      " |  \n",
      " |  __dict__\n",
      " |      dictionary for instance variables (if defined)\n",
      " |  \n",
      " |  __weakref__\n",
      " |      list of weak references to the object (if defined)\n",
      "\n"
     ]
    }
   ],
   "source": [
    "class Trigonometry:\n",
    "    \"Provides functionality for trigonometric calculations\"\n",
    "    \n",
    "    def __init__(self):\n",
    "        '''Initializes instance of trigonometry class.\n",
    "        This constructor has no parameters.\n",
    "        '''\n",
    "        pass\n",
    "    \n",
    "    def sin(self, angle):\n",
    "        \"Calculates the sine of the given angle\"\n",
    "        pass\n",
    "    \n",
    "help(Trigonometry)"
   ]
  },
  {
   "cell_type": "markdown",
   "metadata": {},
   "source": [
    "### Class Variables and Class Methods\n",
    "Sometimes we need properties and methods which belong to the entire class rather than a specific instance. For example,"
   ]
  },
  {
   "cell_type": "code",
   "execution_count": 16,
   "metadata": {},
   "outputs": [
    {
     "name": "stdout",
     "output_type": "stream",
     "text": [
      "3\n",
      "1\n",
      "2\n",
      "3\n"
     ]
    }
   ],
   "source": [
    "class Dog:\n",
    "    # class property\n",
    "    scientific_name = 'Canis lupus familiaris'\n",
    "    counter = 0\n",
    "    \n",
    "    def __init__(self, name, breed=None):\n",
    "        #counter = counter + 1  # local variables need to be initialized\n",
    "                                # this is a local variable, not the class one\n",
    "                                # declared above. So this is not what we intend.\n",
    "        self.counter = self.counter + 1\n",
    "                              # lhs creates an instance variable\n",
    "                              # rhs refers to the class variable created above\n",
    "        \n",
    "        #self.__class__.counter = self.__class__.counter + 1     # Method 1\n",
    "        #Dog.counter = Dog.counter + 1                           # Method 2\n",
    "        type(self).counter = type(self).counter + 1\n",
    "        \n",
    "        self.name = name\n",
    "        self.breed = breed\n",
    "        \n",
    "    @classmethod\n",
    "    def increment(cls):\n",
    "        cls.counter = cls.counter + 1\n",
    "        \n",
    "labrador = Dog('Tony', 'labrador')\n",
    "shepherd = Dog('Mike', 'german shepherd')\n",
    "bulldog = Dog('Pete', 'bulldog')\n",
    "print(Dog.counter)\n",
    "print(labrador.counter)\n",
    "print(shepherd.counter)\n",
    "print(bulldog.counter)"
   ]
  },
  {
   "cell_type": "markdown",
   "metadata": {},
   "source": [
    "Class methods do not have access to instance variables."
   ]
  },
  {
   "cell_type": "markdown",
   "metadata": {},
   "source": [
    "### Static Methods\n",
    "Static methods are just helper methods, they do not have access to either class or instance. For example,"
   ]
  },
  {
   "cell_type": "code",
   "execution_count": 20,
   "metadata": {},
   "outputs": [
    {
     "name": "stdout",
     "output_type": "stream",
     "text": [
      "50.26548245743669\n",
      "50.26548245743669\n"
     ]
    }
   ],
   "source": [
    "import math\n",
    "class Pizza:\n",
    "    def __init__(self, radius, ingredients):\n",
    "        self.radius = radius\n",
    "        self.ingredients = ingredients\n",
    "\n",
    "    def __repr__(self):\n",
    "        return (f'Pizza({self.radius!r}, '\n",
    "                f'{self.ingredients!r})')\n",
    "\n",
    "    @classmethod\n",
    "    def margherita(cls):\n",
    "        return cls(['mozzarella', 'tomatoes'])      # creates new object\n",
    "\n",
    "    @classmethod\n",
    "    def prosciutto(cls):\n",
    "        return cls(['mozzarella', 'tomatoes', 'ham'])\n",
    "    \n",
    "    def area(self):\n",
    "        return self.circle_area(self.radius)\n",
    "\n",
    "    @staticmethod\n",
    "    def circle_area(r):\n",
    "        return r ** 2 * math.pi\n",
    "\n",
    "p = Pizza(4, ['mozzarella', 'tomatoes'])\n",
    "print(p.area())\n",
    "print(Pizza.circle_area(4))"
   ]
  },
  {
   "cell_type": "markdown",
   "metadata": {},
   "source": [
    "### Getter and Setters"
   ]
  },
  {
   "cell_type": "code",
   "execution_count": 24,
   "metadata": {},
   "outputs": [
    {
     "name": "stdout",
     "output_type": "stream",
     "text": [
      "5\n"
     ]
    }
   ],
   "source": [
    "class GSDemo:\n",
    "    @property\n",
    "    def attribute(self):\n",
    "        return self._attribute\n",
    "    \n",
    "    @attribute.setter\n",
    "    def attribute(self, value):\n",
    "        self._attribute = value\n",
    "        \n",
    "    @attribute.deleter\n",
    "    def attribute(self):\n",
    "        del self._attribute\n",
    "        \n",
    "obj = GSDemo()\n",
    "obj.attribute = 5\n",
    "print(obj.attribute)"
   ]
  },
  {
   "cell_type": "markdown",
   "metadata": {},
   "source": [
    "### \\_\\_str\\_\\_ Vs \\_\\_repr\\_\\_\n",
    "\n",
    "In short, the goal of \\_\\_repr\\_\\_ is to be unambiguous and \\_\\_str\\_\\_ is to be readable. \\_\\_repr\\_\\_ returns a string containing a printable representation of an object. \\_\\_str\\_\\_ returns a string containing a nicely printable representation of an object."
   ]
  },
  {
   "cell_type": "code",
   "execution_count": 2,
   "metadata": {},
   "outputs": [
    {
     "name": "stdout",
     "output_type": "stream",
     "text": [
      "datetime.datetime(2019, 2, 13, 23, 9, 51, 18615)\n",
      "2019-02-13 23:09:51.018615\n"
     ]
    }
   ],
   "source": [
    "from datetime import datetime\n",
    "today = datetime.now()\n",
    "print(repr(today))\n",
    "print(str(today))"
   ]
  },
  {
   "cell_type": "markdown",
   "metadata": {},
   "source": [
    "### Operator Overloading\n",
    "The following methods are available:\n",
    "```\n",
    "------------------------------------------\n",
    "  Operator             Method\n",
    "------------------------------------------\n",
    "    +           __add__(self, o)\n",
    "    – \t        __sub__(self, other)\n",
    "    * \t        __mul__(self, other)\n",
    "    / \t        __truediv__(self, other)\n",
    "   // \t        __floordiv__(self, other)\n",
    "    % \t        __mod__(self, other)\n",
    "   ** \t        __pow__(self, other)           \n",
    "    < \t        __lt__(self, other)\n",
    "    >           __gt__(self, other)\n",
    "   <= \t        __le__(self, other)\n",
    "   >= \t        __ge__(self, other)\n",
    "   == \t        __eq__(self, other)\n",
    "   != \t        __ne__(self, other)\n",
    "------------------------------------------\n",
    "```\n",
    "Assignment and uniary operator methods are also available."
   ]
  },
  {
   "cell_type": "code",
   "execution_count": 4,
   "metadata": {},
   "outputs": [
    {
     "name": "stdout",
     "output_type": "stream",
     "text": [
      "3 + i14\n"
     ]
    }
   ],
   "source": [
    "class Complex:\n",
    "    def __init__(self, real, imag):\n",
    "        self.real = real\n",
    "        self.imag = imag\n",
    "        \n",
    "    def __add__(self, other):\n",
    "        return Complex(self.real + other.real, self.imag + other.imag)\n",
    "    \n",
    "    def __str__(self):\n",
    "        return f'{self.real} + i{self.imag}'\n",
    "    \n",
    "c1 = Complex(2,5)\n",
    "c2 = Complex(1,9)\n",
    "c3 = c1 + c2\n",
    "print(c3)"
   ]
  },
  {
   "cell_type": "code",
   "execution_count": null,
   "metadata": {},
   "outputs": [],
   "source": []
  },
  {
   "cell_type": "code",
   "execution_count": null,
   "metadata": {},
   "outputs": [],
   "source": []
  }
 ],
 "metadata": {
  "kernelspec": {
   "display_name": "Python 3",
   "language": "python",
   "name": "python3"
  },
  "language_info": {
   "codemirror_mode": {
    "name": "ipython",
    "version": 3
   },
   "file_extension": ".py",
   "mimetype": "text/x-python",
   "name": "python",
   "nbconvert_exporter": "python",
   "pygments_lexer": "ipython3",
   "version": "3.6.2"
  }
 },
 "nbformat": 4,
 "nbformat_minor": 2
}
