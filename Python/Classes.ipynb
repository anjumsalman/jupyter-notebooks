{
 "cells": [
  {
   "cell_type": "code",
   "execution_count": 5,
   "metadata": {},
   "outputs": [
    {
     "name": "stdout",
     "output_type": "stream",
     "text": [
      "25\n",
      "25\n",
      "Hi there!\n",
      "25\n",
      "26\n"
     ]
    }
   ],
   "source": [
    "class MyClass:\n",
    "    i = 25\n",
    "    \n",
    "    def msg(self, msg):\n",
    "        print(msg)\n",
    "        \n",
    "print(MyClass.i)\n",
    "\n",
    "object1 = MyClass()\n",
    "print(object1.i)\n",
    "object1.msg('Hi there!')\n",
    "\n",
    "object1.i += 1\n",
    "print(MyClass.i)\n",
    "print(object1.i)"
   ]
  },
  {
   "cell_type": "code",
   "execution_count": null,
   "metadata": {},
   "outputs": [],
   "source": []
  }
 ],
 "metadata": {
  "kernelspec": {
   "display_name": "Python 3",
   "language": "python",
   "name": "python3"
  },
  "language_info": {
   "codemirror_mode": {
    "name": "ipython",
    "version": 3
   },
   "file_extension": ".py",
   "mimetype": "text/x-python",
   "name": "python",
   "nbconvert_exporter": "python",
   "pygments_lexer": "ipython3",
   "version": "3.6.2"
  }
 },
 "nbformat": 4,
 "nbformat_minor": 2
}
