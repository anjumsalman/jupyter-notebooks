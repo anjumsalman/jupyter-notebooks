{
 "cells": [
  {
   "cell_type": "markdown",
   "metadata": {},
   "source": [
    "### Serialization Basics\n",
    "Pickling is the name of the serialization process in Python. By pickling, we can convert an object hierarchy to a binary format (usually not human readable) that can be stored."
   ]
  },
  {
   "cell_type": "markdown",
   "metadata": {},
   "source": [
    "### Pickle Package"
   ]
  },
  {
   "cell_type": "code",
   "execution_count": 1,
   "metadata": {},
   "outputs": [
    {
     "data": {
      "text/plain": [
       "b'\\x80\\x03c__main__\\nSheep\\nq\\x00)\\x81q\\x01}q\\x02(X\\x0e\\x00\\x00\\x00number_of_pawsq\\x03K\\x04X\\x04\\x00\\x00\\x00nameq\\x04X\\x05\\x00\\x00\\x00Dollyq\\x05ub.'"
      ]
     },
     "execution_count": 1,
     "metadata": {},
     "output_type": "execute_result"
    }
   ],
   "source": [
    "import pickle\n",
    "\n",
    "class Animal():\n",
    "    def __init__(self, name, paws):\n",
    "        self.number_of_paws = paws\n",
    "        self.name = name\n",
    "        \n",
    "class Sheep(Animal):\n",
    "    def _init__(self, name, paws):\n",
    "        Animal.__init__(name, paws)\n",
    "        \n",
    "dolly = Sheep('Dolly', 4)\n",
    "pickled_dolly = pickle.dumps(dolly)\n",
    "pickled_dolly"
   ]
  },
  {
   "cell_type": "code",
   "execution_count": 3,
   "metadata": {},
   "outputs": [
    {
     "name": "stdout",
     "output_type": "stream",
     "text": [
      "Dolly\n"
     ]
    }
   ],
   "source": [
    "with open('pickling.pkl', 'wb') as f:\n",
    "    pickle.dump(dolly, f)\n",
    "    \n",
    "with open('pickling.pkl', 'rb') as f:\n",
    "    unpickled_obj = pickle.load(f)\n",
    "    print(unpickled_obj.name)"
   ]
  },
  {
   "cell_type": "markdown",
   "metadata": {},
   "source": [
    "### What can be pickled and unpickled?\n",
    "- None, True, and False\n",
    "- integers, long integers, floating point numbers, complex numbers\n",
    "- normal and Unicode strings\n",
    "- tuples, lists, sets, and dictionaries containing only picklable objects\n",
    "- functions defined at the top level of a module\n",
    "- built-in functions defined at the top level of a module\n",
    "- classes that are defined at the top level of a module\n",
    "- instances of such classes whose __dict__ or __setstate__() is picklable\n",
    "\n",
    "Attempting to pickle unpicklable object leads to `PicklingError` exception."
   ]
  },
  {
   "cell_type": "code",
   "execution_count": null,
   "metadata": {},
   "outputs": [],
   "source": []
  }
 ],
 "metadata": {
  "kernelspec": {
   "display_name": "Python 3",
   "language": "python",
   "name": "python3"
  },
  "language_info": {
   "codemirror_mode": {
    "name": "ipython",
    "version": 3
   },
   "file_extension": ".py",
   "mimetype": "text/x-python",
   "name": "python",
   "nbconvert_exporter": "python",
   "pygments_lexer": "ipython3",
   "version": "3.6.2"
  }
 },
 "nbformat": 4,
 "nbformat_minor": 2
}
