{
 "cells": [
  {
   "cell_type": "markdown",
   "metadata": {},
   "source": [
    "### Decorators as Syntactic Sugar\n",
    "Decorators are used to add features to a function without modifying the function itself. It acts like a wrapper.\n",
    "```py\n",
    "def simple_decorator(function):\n",
    "    def wrapper():\n",
    "        print('Actions before calling function')\n",
    "        function()\n",
    "        print('Actions after calling function')\n",
    "    return wrapper\n",
    "    \n",
    "def hello():\n",
    "    print('Hello')\n",
    "    \n",
    "hello = simple_decorator(hello)\n",
    "hello()\n",
    "```\n",
    "\n",
    "Decorators are just simple replacement for the second last line.\n",
    "```py\n",
    "@simple_decorator\n",
    "def hello():\n",
    "    print('Hello')\n",
    "```"
   ]
  },
  {
   "cell_type": "markdown",
   "metadata": {},
   "source": [
    "### Decorating Function with Arguments\n",
    "```py\n",
    "def do_twice(function):\n",
    "    def wrapper(*args, **keyargs):\n",
    "        print('Before')\n",
    "        function(*args, **keyargs)\n",
    "        function(*args, **keyargs)\n",
    "        print('After')\n",
    "    return wrapper\n",
    " \n",
    "@do_twice\n",
    "def say_hi(name):\n",
    "    print(f'Hi to {name}')\n",
    "```"
   ]
  },
  {
   "cell_type": "markdown",
   "metadata": {},
   "source": [
    "### Decorating Function with Return Values\n",
    "```py\n",
    "import time\n",
    "def timer(function):\n",
    "    def wrapper(*args, **keyargs):\n",
    "        start = time.perf_counter()\n",
    "        value = function(*args, **keyargs)\n",
    "        end = time.perf_counter()\n",
    "        total = end - start\n",
    "        print(f'Time taken = {total}')\n",
    "        return value\n",
    "    return wrapper\n",
    "    \n",
    "@timer\n",
    "def calculate(expr):\n",
    "    value = 0\n",
    "    # Calculations\n",
    "    return value\n",
    "```"
   ]
  },
  {
   "cell_type": "markdown",
   "metadata": {},
   "source": [
    "### Passing Arguments to Decorator\n",
    "This is achieved by wrapping decorator in another function which accepts the arguments\n",
    "```py\n",
    "def time(time=None):\n",
    "    def simple_decorator(function):\n",
    "        def wrapper():\n",
    "            print(f'Actions before calling function at {time}')\n",
    "            function()\n",
    "            print(f'Action after calling function')\n",
    "        return wrapper\n",
    "    return simple_decorator\n",
    "    \n",
    "@time(time='morning')\n",
    "def do_stuff():\n",
    "    print('Doing stuff')\n",
    "```"
   ]
  },
  {
   "cell_type": "markdown",
   "metadata": {},
   "source": [
    "## Stateful Decorator\n",
    "Decorators can also store some information. For example consider the below decorator which keeps count of hw many times a function was called.\n",
    "```py\n",
    "def count(function):\n",
    "    def wrapper(*args, **keyargs):\n",
    "        wrapper.number_of_times += 1\n",
    "        print(f'Calling {wrapper.number_of_times} times')\n",
    "        function(*args, **keyargs)\n",
    "    wrapper.number_of_times = 0\n",
    "    return wrapper\n",
    "    \n",
    "@count\n",
    "def do_stuff():\n",
    "    print('Doing stuff')\n",
    "```"
   ]
  },
  {
   "cell_type": "markdown",
   "metadata": {},
   "source": [
    "## Using @wraps\n",
    "One big problem with decorators is that the original function's name and docs are lost. For example,\n",
    "```py\n",
    "@do_twice\n",
    "def my_function():\n",
    "''' Some documentation about this function'''\n",
    "    print('Did something')\n",
    "    \n",
    "my_function.__name__ # returns wrapper\n",
    "my_function.__doc__  # returns ''\n",
    "```\n",
    "\n",
    "@wraps decorator solves this\n",
    "```py\n",
    "from functools import wraps\n",
    "def do_twice(function)\n",
    "    @wraps\n",
    "    def wrapper(*args, **keyargs):\n",
    "        function(*args, **keyargs)\n",
    "        function(*args, **keyargs)\n",
    "    return wrapper\n",
    "    \n",
    "@do_twice\n",
    "def my_function():\n",
    "''' Some documentation about this function'''\n",
    "    print('Did something')\n",
    "    \n",
    "my_function.__name__ # returns my_function\n",
    "my_function.__doc__  # returns Some documentation about this function\n",
    "```"
   ]
  },
  {
   "cell_type": "code",
   "execution_count": null,
   "metadata": {},
   "outputs": [],
   "source": []
  }
 ],
 "metadata": {
  "kernelspec": {
   "display_name": "Python 3",
   "language": "python",
   "name": "python3"
  },
  "language_info": {
   "codemirror_mode": {
    "name": "ipython",
    "version": 3
   },
   "file_extension": ".py",
   "mimetype": "text/x-python",
   "name": "python",
   "nbconvert_exporter": "python",
   "pygments_lexer": "ipython3",
   "version": "3.7.4"
  }
 },
 "nbformat": 4,
 "nbformat_minor": 4
}
