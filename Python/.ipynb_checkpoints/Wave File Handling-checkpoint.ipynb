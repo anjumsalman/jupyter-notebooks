{
 "cells": [
  {
   "cell_type": "markdown",
   "metadata": {},
   "source": [
    "### The WAV File Format\n",
    "Only uncompressed wave file is discussed. The entire file is divided into chunks of bytes.\n",
    "- Header chunk\n",
    "- Format chunk \n",
    "- Data chunk\n",
    "\n",
    "**Header chunk**:The header chunk contains some fixed data which determines that this is a WAV file.  \n",
    "```\n",
    "| Name      | Size | Endianess | Content       |\n",
    "|-----------|------|-----------|---------------|\n",
    "| ChunkId   | 4    | big       | RIFF          |\n",
    "| ChunkSize | 4    | little    | File size - 8 |\n",
    "| Format    | 4    | big       | WAVE          |\n",
    "```  \n",
    "Lets confirm this. We'll read 40 bytes. The above information may take lot less number of bytes."
   ]
  },
  {
   "cell_type": "code",
   "execution_count": 16,
   "metadata": {},
   "outputs": [
    {
     "data": {
      "text/plain": [
       "b'RIFF$\\xdc\\x05\\x00WAVEfmt \\x10\\x00\\x00\\x00\\x01\\x00\\x01\\x00\\x80\\xbb\\x00\\x00\\x80\\xbb\\x00\\x00\\x01\\x00\\x08\\x00data'"
      ]
     },
     "execution_count": 16,
     "metadata": {},
     "output_type": "execute_result"
    }
   ],
   "source": [
    "wav_file = open(r'tone.wav', 'rb')\n",
    "wav_file.read(40)"
   ]
  },
  {
   "cell_type": "markdown",
   "metadata": {},
   "source": [
    "![Header Chunk](https://i.imgur.com/gJMkP0X.jpg \"Header Chunk Format\")"
   ]
  },
  {
   "cell_type": "markdown",
   "metadata": {},
   "source": [
    "**Format chunk**: contains information like channel number, sample rate, bit size, etc. \n",
    "```\n",
    "| Name        | Size | Endianess | Content             |\n",
    "|-------------|------|-----------|---------------------|\n",
    "| ChunkId     | 4    | big       | fmt                 |\n",
    "| ChunkSize   | 4    | little    | 16, 18 or 40        |\n",
    "| FormatTag   | 2    | little    | 1                   |\n",
    "| Channels    | 2    | little    | 1 or 2, mono/stereo |\n",
    "| Sample Rate | 4    | little    | 22050, 44100, etc   |\n",
    "| Data Rate   | 4    | little    |                     |\n",
    "| Block Align | 2    | little    |                     |\n",
    "| Bit Depth   | 2    | little    | 8, 16 or 32         |\n",
    "```"
   ]
  },
  {
   "cell_type": "code",
   "execution_count": 18,
   "metadata": {},
   "outputs": [
    {
     "data": {
      "text/plain": [
       "b'RIFF$\\xdc\\x05\\x00WAVEfmt \\x10\\x00\\x00\\x00\\x01\\x00\\x01\\x00\\x80\\xbb\\x00\\x00\\x80\\xbb\\x00\\x00\\x01\\x00\\x08\\x00data\\x00\\xdc\\x05\\x00\\x7f\\x80\\x80\\x81\\x82\\x82\\x83\\x84\\x84\\x85\\x86\\x86\\x87\\x88\\x88\\x89\\x8a\\x8a\\x8b\\x8c\\x8c\\x8d\\x8e\\x8e\\x8f\\x90\\x90\\x91\\x92\\x92\\x93\\x94\\x94\\x95\\x96\\x96\\x97\\x97\\x98\\x99\\x99\\x9a\\x9b\\x9b\\x9c\\x9d\\x9d\\x9e\\x9f\\x9f\\xa0\\xa1\\xa1\\xa2\\xa2\\xa3\\xa4\\xa4\\xa5\\xa6\\xa6\\xa7\\xa8\\xa8\\xa9\\xa9\\xaa\\xab\\xab\\xac\\xad\\xad\\xae\\xae\\xaf\\xb0\\xb0\\xb1\\xb1\\xb2\\xb3\\xb3\\xb4\\xb4'"
      ]
     },
     "execution_count": 18,
     "metadata": {},
     "output_type": "execute_result"
    }
   ],
   "source": [
    "wav_file = open(r'tone.wav', 'rb')\n",
    "wav_file.read(128)"
   ]
  },
  {
   "cell_type": "markdown",
   "metadata": {},
   "source": [
    "From fmt till just before data is format chunk  \n",
    "![Format Chunk](https://i.imgur.com/rEYl3Ht.jpg \"Format Chunk Format\")"
   ]
  },
  {
   "cell_type": "markdown",
   "metadata": {},
   "source": [
    "### About Data Bytes\n",
    "We'll use some cases. Let the data bytes be 'abcdefghij...'\n",
    "1. **Mono, 8bit:** a,b,c,... all refer to individual audio frames\n",
    "2. **Mono, 16bit:** ab,cd,ef,... two together form one audio frame\n",
    "3. **Stereo, 8bit:** a-channel1, b-channel2, c-channel1,...\n",
    "4. **Stereo, 16bit:** ab-channel1, cd-channel2, ef-channel1,..."
   ]
  },
  {
   "cell_type": "markdown",
   "metadata": {},
   "source": [
    "### The Wave Module\n",
    "Getting wave file metadata:"
   ]
  },
  {
   "cell_type": "code",
   "execution_count": 64,
   "metadata": {},
   "outputs": [
    {
     "name": "stdout",
     "output_type": "stream",
     "text": [
      "Mono(1)/Stereo(2): 1\n",
      "Sampling rate: 48000\n",
      "Number of audio frames: 384000\n",
      "Sample width in bytes: 1\n"
     ]
    }
   ],
   "source": [
    "import wave\n",
    "wav_file = wave.open('tone.wav', 'rb')\n",
    "print(f'Mono(1)/Stereo(2): {wav_file.getnchannels()}')\n",
    "print(f'Sampling rate: {wav_file.getframerate()}')\n",
    "# The getnframes method takes into account bit depth\n",
    "print(f'Number of audio frames: {wav_file.getnframes()}')\n",
    "print(f'Sample width in bytes: {wav_file.getsampwidth()}')"
   ]
  },
  {
   "cell_type": "markdown",
   "metadata": {},
   "source": [
    "Reading audio frames:"
   ]
  },
  {
   "cell_type": "code",
   "execution_count": 42,
   "metadata": {},
   "outputs": [
    {
     "data": {
      "text/plain": [
       "384000"
      ]
     },
     "execution_count": 42,
     "metadata": {},
     "output_type": "execute_result"
    }
   ],
   "source": [
    "# Read all audio frames\n",
    "audio_frames = wav_file.readframes(-1)\n",
    "len(audio_frames) # equal to getnframes()"
   ]
  },
  {
   "cell_type": "markdown",
   "metadata": {},
   "source": [
    "Creating waveform image.  \n",
    "Mono, 22050Hz, 16bit  "
   ]
  },
  {
   "cell_type": "code",
   "execution_count": 59,
   "metadata": {},
   "outputs": [
    {
     "name": "stdout",
     "output_type": "stream",
     "text": [
      "Number of seconds = 6.6873015873015875\n"
     ]
    },
    {
     "name": "stderr",
     "output_type": "stream",
     "text": [
      "c:\\users\\salma\\appdata\\local\\programs\\python\\python36-32\\lib\\site-packages\\ipykernel_launcher.py:8: DeprecationWarning: Numeric-style type codes are deprecated and will result in an error in the future.\n",
      "  \n",
      "c:\\users\\salma\\appdata\\local\\programs\\python\\python36-32\\lib\\site-packages\\ipykernel_launcher.py:8: DeprecationWarning: The binary mode of fromstring is deprecated, as it behaves surprisingly on unicode inputs. Use frombuffer instead\n",
      "  \n"
     ]
    },
    {
     "data": {
      "image/png": "[encoded data removed]",
      "text/plain": [
       "<Figure size 432x288 with 1 Axes>"
      ]
     },
     "metadata": {},
     "output_type": "display_data"
    }
   ],
   "source": [
    "wavform_file = wave.open('laugh_mono_22_16.wav', 'r')\n",
    "audio_frames = wavform_file.readframes(-1)\n",
    "\n",
    "seconds = wavform_file.getnframes()/wavform_file.getframerate()\n",
    "print(f'Number of seconds = {seconds}')\n",
    "\n",
    "import numpy as np\n",
    "values = np.fromstring(audio_frames, 'Int16')\n",
    "time = np.linspace(0, seconds, len(values))\n",
    "\n",
    "import matplotlib.pyplot as plt\n",
    "plt.plot(time, values)\n",
    "plt.show()"
   ]
  },
  {
   "cell_type": "markdown",
   "metadata": {},
   "source": [
    "Creating waveform image.  \n",
    "Stero, 44100Hz, 16bit  "
   ]
  },
  {
   "cell_type": "code",
   "execution_count": 69,
   "metadata": {},
   "outputs": [
    {
     "name": "stdout",
     "output_type": "stream",
     "text": [
      "Number of seconds = 6.687278911564626\n"
     ]
    },
    {
     "name": "stderr",
     "output_type": "stream",
     "text": [
      "c:\\users\\salma\\appdata\\local\\programs\\python\\python36-32\\lib\\site-packages\\ipykernel_launcher.py:9: DeprecationWarning: Numeric-style type codes are deprecated and will result in an error in the future.\n",
      "  if __name__ == '__main__':\n",
      "c:\\users\\salma\\appdata\\local\\programs\\python\\python36-32\\lib\\site-packages\\ipykernel_launcher.py:9: DeprecationWarning: The binary mode of fromstring is deprecated, as it behaves surprisingly on unicode inputs. Use frombuffer instead\n",
      "  if __name__ == '__main__':\n"
     ]
    },
    {
     "data": {
      "image/png": "[encoded data removed]",
      "text/plain": [
       "<Figure size 432x288 with 1 Axes>"
      ]
     },
     "metadata": {},
     "output_type": "display_data"
    }
   ],
   "source": [
    "wavform_file = wave.open('laugh_stereo_44_16.wav', 'r')\n",
    "audio_frames = wavform_file.readframes(-1)\n",
    "\n",
    "seconds = wavform_file.getnframes()/wavform_file.getframerate()\n",
    "num_channels = wavform_file.getnchannels()\n",
    "print(f'Number of seconds = {seconds}')\n",
    "\n",
    "import numpy as np\n",
    "values = np.fromstring(audio_frames, 'Int16')\n",
    "\n",
    "channels = [[] for ch in range(num_channels)]\n",
    "for i, data in enumerate(values):\n",
    "    channels[i%num_channels].append(data)\n",
    "\n",
    "import matplotlib.pyplot as plt\n",
    "for channel in channels:\n",
    "    time = np.linspace(0, seconds, len(channel))\n",
    "    plt.plot(time, channel)\n",
    "plt.show()"
   ]
  },
  {
   "cell_type": "code",
   "execution_count": null,
   "metadata": {},
   "outputs": [],
   "source": []
  }
 ],
 "metadata": {
  "kernelspec": {
   "display_name": "Python 3",
   "language": "python",
   "name": "python3"
  },
  "language_info": {
   "codemirror_mode": {
    "name": "ipython",
    "version": 3
   },
   "file_extension": ".py",
   "mimetype": "text/x-python",
   "name": "python",
   "nbconvert_exporter": "python",
   "pygments_lexer": "ipython3",
   "version": "3.6.2"
  }
 },
 "nbformat": 4,
 "nbformat_minor": 2
}
