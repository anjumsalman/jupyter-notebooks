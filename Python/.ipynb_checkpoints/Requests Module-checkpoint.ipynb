{
 "cells": [
  {
   "cell_type": "markdown",
   "metadata": {},
   "source": [
    "## Making a Request and getting a Response"
   ]
  },
  {
   "cell_type": "code",
   "execution_count": 2,
   "metadata": {},
   "outputs": [
    {
     "data": {
      "text/plain": [
       "<Response [200]>"
      ]
     },
     "execution_count": 2,
     "metadata": {},
     "output_type": "execute_result"
    }
   ],
   "source": [
    "import requests as req\n",
    "data = req.get('https://api.github.com/events') # data is a Response object\n",
    "data"
   ]
  },
  {
   "cell_type": "markdown",
   "metadata": {},
   "source": [
    "For POST request:"
   ]
  },
  {
   "cell_type": "code",
   "execution_count": 11,
   "metadata": {},
   "outputs": [
    {
     "data": {
      "text/plain": [
       "<Response [200]>"
      ]
     },
     "execution_count": 11,
     "metadata": {},
     "output_type": "execute_result"
    }
   ],
   "source": [
    "post_response = req.post('http://httpbin.org/post', data = {'key':'value'})\n",
    "post_response"
   ]
  },
  {
   "cell_type": "markdown",
   "metadata": {},
   "source": [
    "We can also attach request parameters to the GET request:"
   ]
  },
  {
   "cell_type": "code",
   "execution_count": 7,
   "metadata": {},
   "outputs": [
    {
     "data": {
      "text/plain": [
       "<Response [200]>"
      ]
     },
     "execution_count": 7,
     "metadata": {},
     "output_type": "execute_result"
    }
   ],
   "source": [
    "param_get_response = req.get('http://httpbin.org/get', params = {'key':'value'})\n",
    "param_get_response"
   ]
  },
  {
   "cell_type": "code",
   "execution_count": 26,
   "metadata": {},
   "outputs": [
    {
     "data": {
      "text/plain": [
       "<Response [200]>"
      ]
     },
     "execution_count": 26,
     "metadata": {},
     "output_type": "execute_result"
    }
   ],
   "source": [
    "image_response = req.get('https://www.gstatic.com/webp/gallery3/1.png')\n",
    "image_response"
   ]
  },
  {
   "cell_type": "markdown",
   "metadata": {},
   "source": [
    "All production code should supply timeout time:"
   ]
  },
  {
   "cell_type": "code",
   "execution_count": 4,
   "metadata": {},
   "outputs": [
    {
     "name": "stdout",
     "output_type": "stream",
     "text": [
      "Tired of waiting for response\n"
     ]
    }
   ],
   "source": [
    "try:\n",
    "    github_response = req.get('http://github.com', timeout=0.001)\n",
    "except:\n",
    "    print(\"Tired of waiting for response\")"
   ]
  },
  {
   "cell_type": "markdown",
   "metadata": {},
   "source": [
    "## The Response Object"
   ]
  },
  {
   "cell_type": "markdown",
   "metadata": {},
   "source": [
    "To get the URL of the corresponding request:"
   ]
  },
  {
   "cell_type": "code",
   "execution_count": 15,
   "metadata": {},
   "outputs": [
    {
     "data": {
      "text/plain": [
       "'http://httpbin.org/get?key=value'"
      ]
     },
     "execution_count": 15,
     "metadata": {},
     "output_type": "execute_result"
    }
   ],
   "source": [
    "param_get_response.url"
   ]
  },
  {
   "cell_type": "markdown",
   "metadata": {},
   "source": [
    "To get the response content, first look at the Content Type of the response."
   ]
  },
  {
   "cell_type": "code",
   "execution_count": 21,
   "metadata": {},
   "outputs": [
    {
     "name": "stdout",
     "output_type": "stream",
     "text": [
      "Connection : keep-alive,\tServer : meinheld/0.6.1,\tDate : Tue, 23 Jan 2018 20:01:02 GMT,\tContent-Type : application/json,\tAccess-Control-Allow-Origin : *,\tAccess-Control-Allow-Credentials : true,\tX-Powered-By : Flask,\tX-Processed-Time : 0.00111198425293,\tContent-Length : 298,\tVia : 1.1 vegur,\t"
     ]
    }
   ],
   "source": [
    "for key,value in param_get_response.headers.items():\n",
    "    print(key +' : '+ value, end = ',\\t')"
   ]
  },
  {
   "cell_type": "markdown",
   "metadata": {},
   "source": [
    "Or"
   ]
  },
  {
   "cell_type": "code",
   "execution_count": 8,
   "metadata": {},
   "outputs": [
    {
     "data": {
      "text/plain": [
       "'application/json'"
      ]
     },
     "execution_count": 8,
     "metadata": {},
     "output_type": "execute_result"
    }
   ],
   "source": [
    "param_get_response.headers['Content-Type']"
   ]
  },
  {
   "cell_type": "markdown",
   "metadata": {},
   "source": [
    "Also check the encoding"
   ]
  },
  {
   "cell_type": "code",
   "execution_count": 24,
   "metadata": {},
   "outputs": [
    {
     "name": "stdout",
     "output_type": "stream",
     "text": [
      "None\n"
     ]
    }
   ],
   "source": [
    "print(param_get_response.encoding)"
   ]
  },
  {
   "cell_type": "markdown",
   "metadata": {},
   "source": [
    "Print response text"
   ]
  },
  {
   "cell_type": "code",
   "execution_count": 25,
   "metadata": {},
   "outputs": [
    {
     "data": {
      "text/plain": [
       "'{\\n  \"args\": {\\n    \"key\": \"value\"\\n  }, \\n  \"headers\": {\\n    \"Accept\": \"*/*\", \\n    \"Accept-Encoding\": \"gzip, deflate\", \\n    \"Connection\": \"close\", \\n    \"Host\": \"httpbin.org\", \\n    \"User-Agent\": \"python-requests/2.11.1\"\\n  }, \\n  \"origin\": \"183.83.66.234\", \\n  \"url\": \"http://httpbin.org/get?key=value\"\\n}\\n'"
      ]
     },
     "execution_count": 25,
     "metadata": {},
     "output_type": "execute_result"
    }
   ],
   "source": [
    "param_get_response.text"
   ]
  },
  {
   "cell_type": "markdown",
   "metadata": {},
   "source": [
    "To get the associated binary data:"
   ]
  },
  {
   "cell_type": "code",
   "execution_count": 31,
   "metadata": {},
   "outputs": [
    {
     "data": {
      "text/plain": [
       "b'{\\n  \"args\": {\\n    \"key\": \"value\"\\n  }, \\n  \"headers\": {\\n    \"Accept\": \"*/*\", \\n    \"Accept-Encoding\": \"gzip, deflate\", \\n    \"Connection\": \"close\", \\n    \"Host\": \"httpbin.org\", \\n    \"User-Agent\": \"python-requests/2.11.1\"\\n  }, \\n  \"origin\": \"183.83.66.234\", \\n  \"url\": \"http://httpbin.org/get?key=value\"\\n}\\n'"
      ]
     },
     "execution_count": 31,
     "metadata": {},
     "output_type": "execute_result"
    }
   ],
   "source": [
    "param_get_response.content"
   ]
  },
  {
   "cell_type": "markdown",
   "metadata": {},
   "source": [
    "In the above case the response is json, so to get json object, use *json()* function"
   ]
  },
  {
   "cell_type": "code",
   "execution_count": 32,
   "metadata": {},
   "outputs": [
    {
     "data": {
      "text/plain": [
       "{'args': {'key': 'value'},\n",
       " 'headers': {'Accept': '*/*',\n",
       "  'Accept-Encoding': 'gzip, deflate',\n",
       "  'Connection': 'close',\n",
       "  'Host': 'httpbin.org',\n",
       "  'User-Agent': 'python-requests/2.11.1'},\n",
       " 'origin': '183.83.66.234',\n",
       " 'url': 'http://httpbin.org/get?key=value'}"
      ]
     },
     "execution_count": 32,
     "metadata": {},
     "output_type": "execute_result"
    }
   ],
   "source": [
    "param_get_response.json()"
   ]
  },
  {
   "cell_type": "markdown",
   "metadata": {},
   "source": [
    "In case of an image response, the content-type is image/png:"
   ]
  },
  {
   "cell_type": "code",
   "execution_count": 27,
   "metadata": {},
   "outputs": [
    {
     "name": "stdout",
     "output_type": "stream",
     "text": [
      "Accept-Ranges : bytes,\tContent-Type : image/png,\tVary : Origin,\tContent-Length : 121363,\tDate : Tue, 23 Jan 2018 09:51:12 GMT,\tExpires : Wed, 23 Jan 2019 09:51:12 GMT,\tLast-Modified : Thu, 21 Apr 2016 03:17:22 GMT,\tX-Content-Type-Options : nosniff,\tServer : sffe,\tX-XSS-Protection : 1; mode=block,\tCache-Control : public, max-age=31536000,\tAge : 37411,\tAlt-Svc : hq=\":443\"; ma=2592000; quic=51303431; quic=51303339; quic=51303338; quic=51303337; quic=51303335,quic=\":443\"; ma=2592000; v=\"41,39,38,37,35\",\t"
     ]
    }
   ],
   "source": [
    "for key,value in image_response.headers.items():\n",
    "    print(key +' : '+ value, end = ',\\t')"
   ]
  },
  {
   "cell_type": "code",
   "execution_count": null,
   "metadata": {},
   "outputs": [],
   "source": [
    "image_response.text # will output some garbage text, since it is a binary"
   ]
  },
  {
   "cell_type": "code",
   "execution_count": null,
   "metadata": {},
   "outputs": [],
   "source": [
    "image_response.content # binary data associated with the image"
   ]
  },
  {
   "cell_type": "code",
   "execution_count": 30,
   "metadata": {},
   "outputs": [],
   "source": [
    "with open('image.png', 'wb') as f:   # save the binary object (image in this case) as a file\n",
    "    f.write(image_response.content)"
   ]
  },
  {
   "cell_type": "markdown",
   "metadata": {},
   "source": [
    "## Custom Headers"
   ]
  },
  {
   "cell_type": "markdown",
   "metadata": {},
   "source": [
    "To add custom request headers use the headers keyword argument."
   ]
  },
  {
   "cell_type": "code",
   "execution_count": 34,
   "metadata": {},
   "outputs": [
    {
     "data": {
      "text/plain": [
       "<Response [200]>"
      ]
     },
     "execution_count": 34,
     "metadata": {},
     "output_type": "execute_result"
    }
   ],
   "source": [
    "headers = {'browser':'Mozilla'}\n",
    "req.get('https://www.google.com', headers=headers)"
   ]
  },
  {
   "cell_type": "markdown",
   "metadata": {},
   "source": [
    "To download a range of bytes add Range keyword to the request:"
   ]
  },
  {
   "cell_type": "code",
   "execution_count": null,
   "metadata": {},
   "outputs": [],
   "source": [
    "resp = req.get('https://url.com', headers = {'Range':'bytes=0-512'})"
   ]
  },
  {
   "cell_type": "markdown",
   "metadata": {},
   "source": [
    "If the response is 206 then the server supports partial download, else if the response is 200 then the entire file will be downloaded."
   ]
  },
  {
   "cell_type": "markdown",
   "metadata": {},
   "source": [
    "## POST Request"
   ]
  },
  {
   "cell_type": "markdown",
   "metadata": {},
   "source": [
    "To send an image as part of request:"
   ]
  },
  {
   "cell_type": "code",
   "execution_count": 6,
   "metadata": {},
   "outputs": [],
   "source": [
    "image_file = open('image.png', 'rb')\n",
    "files = {'file': image_file}\n",
    "image_send_response = req.post('http://httpbin.org/post', files=files)"
   ]
  },
  {
   "cell_type": "markdown",
   "metadata": {},
   "source": [
    "## Cookies"
   ]
  },
  {
   "cell_type": "markdown",
   "metadata": {},
   "source": [
    "If the response contains cookies:"
   ]
  },
  {
   "cell_type": "code",
   "execution_count": 9,
   "metadata": {},
   "outputs": [
    {
     "data": {
      "text/plain": [
       "<RequestsCookieJar[]>"
      ]
     },
     "execution_count": 9,
     "metadata": {},
     "output_type": "execute_result"
    }
   ],
   "source": [
    "param_get_response.cookies"
   ]
  },
  {
   "cell_type": "code",
   "execution_count": 12,
   "metadata": {},
   "outputs": [
    {
     "name": "stdout",
     "output_type": "stream",
     "text": [
      "Name: 1P_JAR\t Content: 2018-01-23-20\n",
      "Name: NID\t Content: 122=Sgt25sQEjQUhf_S-1xkCKVuhQGMjjBEGwPj9SiClX8wnYI_KnPzy5sCm_d1nMwN_oMAOHV0vSH5Cpdrc3-XgNBJZufpiaabz85a0RQL13d9swCsgE02jEes2NixUQMSJ\n"
     ]
    }
   ],
   "source": [
    "search_response = req.get('https://www.google.co.in/search?q=cookies')\n",
    "for name,content in search_response.cookies.items():\n",
    "    print('Name: ' + name + '\\t Content: ' + content)"
   ]
  },
  {
   "cell_type": "markdown",
   "metadata": {},
   "source": [
    "## Streaming Downloads"
   ]
  },
  {
   "cell_type": "markdown",
   "metadata": {},
   "source": [
    "With *stream=True* option, only the response header is downloaded not the response content."
   ]
  },
  {
   "cell_type": "code",
   "execution_count": 26,
   "metadata": {},
   "outputs": [],
   "source": [
    "file_response = req.get('https://download-installer.cdn.mozilla.net/pub/firefox/releases/58.0/win32/en-US/Firefox%20Installer.exe',\n",
    "                        stream=True)\n",
    "with open('firefox_installer.exe', 'wb') as f:\n",
    "    for chunk in file_response.iter_content(chunk_size=512):\n",
    "        if chunk:\n",
    "            f.write(chunk)"
   ]
  },
  {
   "cell_type": "markdown",
   "metadata": {},
   "source": [
    "## Effort On Multithreaded Download"
   ]
  },
  {
   "cell_type": "code",
   "execution_count": 29,
   "metadata": {
    "scrolled": true
   },
   "outputs": [
    {
     "name": "stdout",
     "output_type": "stream",
     "text": [
      "Total size = 10474190\n",
      "Start byte=0, End byte=2094838\n",
      "Total threads = 5\n",
      "Start byte=2094839, End byte=4189676\n",
      "Total threads = 5\n",
      "Start byte=4189677, End byte=6284514\n",
      "Total threads = 5\n",
      "Start byte=6284515, End byte=8379352\n",
      "Total threads = 5\n",
      "Start byte=8379352, End byte=10474190\n",
      "Total threads = 5\n",
      "11.292553663253784\n"
     ]
    }
   ],
   "source": [
    "import threading\n",
    "import requests as req\n",
    "import time\n",
    "import os\n",
    "\n",
    "start_time = time.time()\n",
    "def download(url, chunk_sz, start, end, i):\n",
    "    print('Start byte={0}, End byte={1}'.format(start, end))\n",
    "    response = req.get(url, stream=True, headers={'Range':'bytes='+str(start)+'-'+str(end)})\n",
    "    with open('file_'+str(i)+'.exe', 'wb') as f:\n",
    "        for chunk in response.iter_content(chunk_size=chunk_sz):\n",
    "            if chunk:\n",
    "                f.write(chunk)\n",
    "\n",
    "url = 'http://www.voobly.com/updates/voobly-v2.2.5.57.exe'                \n",
    "size = int(req.get(url, stream=True).headers['Content-length'])\n",
    "print('Total size = '+str(size))\n",
    "chunk_size = int(size/5)\n",
    "\n",
    "for i in range(5):\n",
    "    if i==0:\n",
    "        threading.Thread(target=download(url, chunk_size, i*chunk_size, (i+1)*chunk_size, i)).start()\n",
    "    elif i<4:\n",
    "        threading.Thread(target=download(url, chunk_size, 1+(i*chunk_size), (i+1)*chunk_size, i)).start()\n",
    "    else:\n",
    "        threading.Thread(target=download(url, chunk_size, i*chunk_size, size, i)).start()\n",
    "    print('Total threads = ' + str(threading.active_count()))\n",
    "\n",
    "end_time = time.time()\n",
    "print(end_time-start_time)\n",
    "        \n",
    "def combine(file1, file2):\n",
    "    with open(file1, 'ab') as primary, open(file2, 'rb') as secondary:\n",
    "        primary.write(secondary.read())\n",
    "    os.remove(file2)\n",
    "        \n",
    "for i in range(1,5):\n",
    "    combine('file_0.exe', 'file_'+str(i)+'.exe')\n"
   ]
  },
  {
   "cell_type": "code",
   "execution_count": 27,
   "metadata": {},
   "outputs": [
    {
     "name": "stdout",
     "output_type": "stream",
     "text": [
      "4.549771308898926\n"
     ]
    }
   ],
   "source": [
    "start_time = time.time()\n",
    "\n",
    "response = req.get(url)\n",
    "with open('file_1.exe', 'wb') as f:\n",
    "    f.write(response.content)\n",
    "    \n",
    "end_time = time.time()\n",
    "print(end_time-start_time)"
   ]
  },
  {
   "cell_type": "code",
   "execution_count": 26,
   "metadata": {},
   "outputs": [
    {
     "name": "stdout",
     "output_type": "stream",
     "text": [
      "Total size = 10474190\n",
      "Start byte=0, End byte=2094838\n",
      "Start byte=2094839, End byte=4189676\n",
      "Start byte=4189677, End byte=6284514\n",
      "Start byte=6284515, End byte=8379352\n",
      "Start byte=8379352, End byte=10474190\n",
      "12.03153657913208\n"
     ]
    }
   ],
   "source": [
    "import multiprocessing\n",
    "import requests as req\n",
    "import time\n",
    "import os\n",
    "\n",
    "start_time = time.time()\n",
    "def download(url, chunk_sz, start, end, i):\n",
    "    print('Start byte={0}, End byte={1}'.format(start, end))\n",
    "    response = req.get(url, stream=True, headers={'Range':'bytes='+str(start)+'-'+str(end)})\n",
    "    with open('file_'+str(i)+'.exe', 'wb') as f:\n",
    "        for chunk in response.iter_content(chunk_size=chunk_sz):\n",
    "            if chunk:\n",
    "                f.write(chunk)\n",
    "\n",
    "url = 'http://www.voobly.com/updates/voobly-v2.2.5.57.exe'                \n",
    "size = int(req.get(url, stream=True).headers['Content-length'])\n",
    "print('Total size = '+str(size))\n",
    "chunk_size = int(size/5)\n",
    "\n",
    "for i in range(5):\n",
    "    if i==0:\n",
    "        multiprocessing.Process(target=download(url, chunk_size, i*chunk_size, (i+1)*chunk_size, i)).start()\n",
    "    elif i<4:\n",
    "        multiprocessing.Process(target=download(url, chunk_size, 1+(i*chunk_size), (i+1)*chunk_size, i)).start()\n",
    "    else:\n",
    "        multiprocessing.Process(target=download(url, chunk_size, i*chunk_size, size, i)).start()\n",
    "\n",
    "end_time = time.time()\n",
    "print(end_time-start_time)\n",
    "        \n",
    "def combine(file1, file2):\n",
    "    with open(file1, 'ab') as primary, open(file2, 'rb') as secondary:\n",
    "        primary.write(secondary.read())\n",
    "    os.remove(file2)\n",
    "        \n",
    "for i in range(1,5):\n",
    "    combine('file_0.exe', 'file_'+str(i)+'.exe')"
   ]
  },
  {
   "cell_type": "code",
   "execution_count": null,
   "metadata": {},
   "outputs": [],
   "source": []
  }
 ],
 "metadata": {
  "kernelspec": {
   "display_name": "Python 3",
   "language": "python",
   "name": "python3"
  },
  "language_info": {
   "codemirror_mode": {
    "name": "ipython",
    "version": 3
   },
   "file_extension": ".py",
   "mimetype": "text/x-python",
   "name": "python",
   "nbconvert_exporter": "python",
   "pygments_lexer": "ipython3",
   "version": "3.6.2"
  }
 },
 "nbformat": 4,
 "nbformat_minor": 2
}
