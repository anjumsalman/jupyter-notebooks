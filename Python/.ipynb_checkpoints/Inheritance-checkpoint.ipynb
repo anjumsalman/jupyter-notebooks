{
 "cells": [
  {
   "cell_type": "markdown",
   "metadata": {},
   "source": [
    "### Basic Inheritance\n",
    "All Python classes are subclasses of the special built-in class named `object`. Its attributes and methods are:"
   ]
  },
  {
   "cell_type": "code",
   "execution_count": 2,
   "metadata": {},
   "outputs": [
    {
     "name": "stdout",
     "output_type": "stream",
     "text": [
      "__class__ __delattr__ __dir__ __doc__ __eq__ __format__ __ge__ __getattribute__ __gt__ __hash__ __init__ __init_subclass__ __le__ __lt__ __ne__ __new__ __reduce__ __reduce_ex__ __repr__ __setattr__ __sizeof__ __str__ __subclasshook__ "
     ]
    }
   ],
   "source": [
    "for i in dir(object):\n",
    "    print(i, end=' ')"
   ]
  },
  {
   "cell_type": "markdown",
   "metadata": {},
   "source": [
    "To inherit from class Parent, we write\n",
    "```py\n",
    "class Child(Parent):\n",
    "    pass\n",
    "```"
   ]
  },
  {
   "cell_type": "code",
   "execution_count": 3,
   "metadata": {},
   "outputs": [],
   "source": [
    "class Contact:\n",
    "    all_contacts = []\n",
    "\n",
    "    def __init__(self, name, email):\n",
    "        self.name = name\n",
    "        self.email = email\n",
    "        Contact.all_contacts.append(self)\n",
    "        \n",
    "# For Supplier, we don't have explicitly set __init__\n",
    "# Supplier simply inherits Contact's __init__\n",
    "class Supplier(Contact):\n",
    "    def order(self, order):\n",
    "        print(\n",
    "            \"If this were a real system we would send \"\n",
    "            f\"'{order}' order to '{self.name}'\"\n",
    "        )\n",
    "        \n",
    "# Overriding __init__\n",
    "# But this\n",
    "class Friend(Contact): \n",
    "    def __init__(self, name, email, phone):         \n",
    "        super().__init__(name, email)\n",
    "        self.phone = phone"
   ]
  },
  {
   "cell_type": "markdown",
   "metadata": {},
   "source": [
    "### Multiple Inheritance\n",
    "A **mixin** is a superclass that is not intended to exist on its own, but is meant to be inherited by some other class to provide extra functionality. For example, MailSender in below example is a mixin."
   ]
  },
  {
   "cell_type": "code",
   "execution_count": 5,
   "metadata": {},
   "outputs": [],
   "source": [
    "class MailSender: \n",
    "    def send_mail(self, message): \n",
    "        print(\"Sending mail to \" + self.email)\n",
    "\n",
    "# The __init__ method is called from left to right\n",
    "# Which means Contact first and then MailSender\n",
    "class EmailableContact(Contact, MailSender): \n",
    "    def __init__(self, name, email):\n",
    "        super().__init__(name, email)\n",
    "\n",
    "emailableContact = EmailableContact('John Doe', 'john.doe@email.com')"
   ]
  },
  {
   "cell_type": "markdown",
   "metadata": {},
   "source": [
    "Consider the case when C inherits from A and B where A and B have different signaturs,"
   ]
  },
  {
   "cell_type": "code",
   "execution_count": 6,
   "metadata": {},
   "outputs": [],
   "source": [
    "class A(object):\n",
    "    def __init__(self, a, b):\n",
    "        print('Init {} with arguments {}'.format(self.__class__.__name__, (a, b)))\n",
    "\n",
    "class B(object):\n",
    "    def __init__(self, q):\n",
    "        print('Init {} with arguments {}'.format(self.__class__.__name__, (q)))\n",
    "\n",
    "class C(A, B):\n",
    "    def __init__(self):\n",
    "        # Unbound functions, so pass in self explicitly\n",
    "        A.__init__(self, 1, 2)\n",
    "        B.__init__(self, 3)"
   ]
  },
  {
   "cell_type": "markdown",
   "metadata": {},
   "source": [
    "Or use the super function and do the same in a super ugly fashion,"
   ]
  },
  {
   "cell_type": "code",
   "execution_count": 13,
   "metadata": {},
   "outputs": [
    {
     "name": "stdout",
     "output_type": "stream",
     "text": [
      "Init C with arguments 3\n",
      "Init C with arguments (1, 2)\n",
      "3\n"
     ]
    }
   ],
   "source": [
    "class A(object):\n",
    "    def __init__(self, a=None, b=None, *args, **kwargs):\n",
    "        super().__init__(*args, **kwargs)\n",
    "        self.a = a\n",
    "        self.b = b\n",
    "        print('Init {} with arguments {}'.format(self.__class__.__name__, (a, b)))\n",
    "\n",
    "class B(object):\n",
    "    def __init__(self, q=None, *args, **kwargs):\n",
    "        super().__init__(*args, **kwargs)\n",
    "        self.q = q\n",
    "        print('Init {} with arguments {}'.format(self.__class__.__name__, (q)))\n",
    "\n",
    "class C(A, B):\n",
    "    def __init__(self):\n",
    "        super().__init__(a=1, b=2, q=3)\n",
    "        \n",
    "c = C()\n",
    "print(c.q)"
   ]
  },
  {
   "cell_type": "markdown",
   "metadata": {},
   "source": [
    "Now consider that A and B have a common attribute r,"
   ]
  },
  {
   "cell_type": "code",
   "execution_count": 15,
   "metadata": {},
   "outputs": [
    {
     "name": "stdout",
     "output_type": "stream",
     "text": [
      "Init C with arguments (1, 2)\n",
      "Init C with arguments (3, 4)\n",
      "4\n"
     ]
    }
   ],
   "source": [
    "class A(object):\n",
    "    def __init__(self, a, r):\n",
    "        self.a = a\n",
    "        self.r = r\n",
    "        print('Init {} with arguments {}'.format(self.__class__.__name__, (a, r)))\n",
    "\n",
    "class B(object):\n",
    "    def __init__(self, b, r):\n",
    "        self.b = b\n",
    "        self.r = r\n",
    "        print('Init {} with arguments {}'.format(self.__class__.__name__, (b, r)))\n",
    "\n",
    "class C(A, B):\n",
    "    def __init__(self):\n",
    "        # Unbound functions, so pass in self explicitly\n",
    "        A.__init__(self, 1, 2)\n",
    "        B.__init__(self, 3, 4)\n",
    "        \n",
    "c = C()\n",
    "print(c.r)"
   ]
  },
  {
   "cell_type": "markdown",
   "metadata": {},
   "source": [
    "### Method Resolution Order\n",
    "MRO determines the order in which parent classe's methods are called. Consider the following class hierarchy:\n",
    "```\n",
    "    A   B\n",
    "    | \\/|\n",
    "    | /\\|\n",
    "    |/ \\|\n",
    "    X   Y\n",
    "    \\  /\n",
    "     \\/\n",
    "     O\n",
    "     \n",
    "O(X,Y)\n",
    "X(A,B)\n",
    "Y(B,A)\n",
    "```\n",
    "The MRO of class X is \\[XAB\\] which means that if a method is called for X, it is first searched in X, then in A and at last in B."
   ]
  },
  {
   "cell_type": "markdown",
   "metadata": {},
   "source": [
    "Let's take a more complex example,\n",
    "```\n",
    "O\n",
    "D(O)\n",
    "E(O)\n",
    "F(O)\n",
    "B(D,E)\n",
    "C(D,F)\n",
    "A(B,C)\n",
    "```\n",
    "\n",
    "Here the term $L[B]$ is called linearization of B which is effectively the MRO for B. We'll start from the top.  \n",
    "$$L[O] = O$$\n",
    "As per C3 algorithm,\n",
    "$$L[D] = D + merge(L[O], O)$$\n",
    "$$L[D] = D + merge(O, O)$$\n",
    "$$L[D] = DO$$\n",
    "Similary, \n",
    "$$L[E] = EO$$\n",
    "$$L[F] = FO$$\n",
    "Now,\n",
    "$$L[B] = B + merge(L[D], L[E], DE)$$\n",
    "$$L[B] = B + merge(DO, EO, DE)$$\n",
    "To calculate merge, we take the tail of the first list which is tail of DO which is O. We see that O is not present in tail of the remaining lists (EO and DE). So we write,\n",
    "$$L[B] = B + D + merge(O, EO, E)$$\n",
    "Which is basically removing D from inside the merge function. Note that both O and E inside the merge function are head and not tail. Now we take O. O is present in tail of EO. So we move on to EO. Head of EO is E. It is not present in tail of remaining list (E). So,\n",
    "$$L[B] = B + D + E + merge(O, O)$$\n",
    "$$L[B] = B + D + E + O$$\n",
    "$$L[B] = BDEO$$\n",
    "In a similar fashion, \n",
    "$$L[C] = CDFO$$\n",
    "Now we need to calculate, MRO of A. Note that in CDFO C is head, whereas DFO is tail.\n",
    "$$L[A] = A + merge(L[B], L[C], BC)$$\n",
    "$$L[A] = A + merge(BDEO, CDFO, BC)$$\n",
    "$$L[A] = A + B + merge(DEO, CDFO, C)$$\n",
    "D exists in the tail of CDFO, therefore move to the next list CDFO. Head of CDFO, C doesn't exist in tail of C, so remove it from inside merge.\n",
    "$$L[A] = A + B + C + merge(DEO, DFO)$$\n",
    "Now head of DEO, D doesn't exist in tail of DFO, So we remove it. Remember to goto first list inside merge after every removal.\n",
    "$$L[A] = A + B + C + D + merge(EO, FO)$$\n",
    "Now head of EO, E doesn't exist in tail of FO\n",
    "$$L[A] = A + B + C + D + E + merge(O, FO)$$\n",
    "O exists in tail of FO,\n",
    "$$L[A] = A + B + C + D + E + F + merge(O, O)$$\n",
    "$$L[A] = A + B + C + D + E + F + O$$\n",
    "$$L[A] = ABCDEFO$$"
   ]
  },
  {
   "cell_type": "code",
   "execution_count": null,
   "metadata": {},
   "outputs": [],
   "source": []
  }
 ],
 "metadata": {
  "kernelspec": {
   "display_name": "Python 3",
   "language": "python",
   "name": "python3"
  },
  "language_info": {
   "codemirror_mode": {
    "name": "ipython",
    "version": 3
   },
   "file_extension": ".py",
   "mimetype": "text/x-python",
   "name": "python",
   "nbconvert_exporter": "python",
   "pygments_lexer": "ipython3",
   "version": "3.6.2"
  }
 },
 "nbformat": 4,
 "nbformat_minor": 2
}
