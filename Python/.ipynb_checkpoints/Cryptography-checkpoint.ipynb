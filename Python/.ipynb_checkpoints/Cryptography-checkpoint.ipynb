{
 "cells": [
  {
   "cell_type": "markdown",
   "metadata": {},
   "source": [
    "### Encoding\n",
    "The goal of encoding is transmission and not secrecy. Encoding doesn't require any key. Some common encoding:\n",
    "- ASCII\n",
    "- Unicode (UTF-8, UTF-16)\n",
    "- Base64\n",
    "\n",
    "**Base64:** the aim of base64 encoding is to encode binary as text. There is a base64 index table which has 64 values. In the table 0-->A, 1-->B,...,63-->/. For example let us encode text \"Man\".  \n",
    "Man = 77 97 110 (ASCII) = 01001101 01100001 01101110 = 010011010110000101101110  \n",
    "We take 6 bits (range 0 to 63) at a time,  \n",
    "010011010110000101101110 = 010011 010110 000101 101110 = 19 22 5 46  \n",
    "As per the index table that is T W F u. So Man is encoded as TWFu. There are padding rules in case bits are not multiples of 6."
   ]
  },
  {
   "cell_type": "code",
   "execution_count": 3,
   "metadata": {},
   "outputs": [
    {
     "name": "stdout",
     "output_type": "stream",
     "text": [
      "b'TWFu'\n"
     ]
    }
   ],
   "source": [
    "import base64\n",
    "encoded_text = base64.b64encode(b'Man')\n",
    "print(encoded_text)"
   ]
  },
  {
   "cell_type": "code",
   "execution_count": 5,
   "metadata": {},
   "outputs": [
    {
     "data": {
      "text/plain": [
       "b'/9j/4AAQSk'"
      ]
     },
     "execution_count": 5,
     "metadata": {},
     "output_type": "execute_result"
    }
   ],
   "source": [
    "# Encoding an image\n",
    "encoded_image = base64.b64encode(open('ferris.jpg', 'rb').read(-1))\n",
    "encoded_image[0:10]"
   ]
  },
  {
   "cell_type": "markdown",
   "metadata": {},
   "source": [
    "### Hashing\n",
    "Hashing is the transformation of a string of characters into a usually shorter fixed-length value or key that represents the original string. Properties of hash functions:\n",
    "- Computationally infeasible to get message from its hash\n",
    "- A small change in message should generate a very different hash\n",
    "- Hash should be easy to calculate\n",
    "- It should be infeasible to find two different messages with the same hash value\n",
    "- Same message should always have same hash"
   ]
  },
  {
   "cell_type": "code",
   "execution_count": 8,
   "metadata": {},
   "outputs": [
    {
     "name": "stdout",
     "output_type": "stream",
     "text": [
      "sha3_384, sha224, ecdsa-with-SHA1, SHA256, blake2s, MD4, sha, MD5, sha256, dsaWithSHA, sha3_512, dsaEncryption, ripemd160, SHA, sha3_256, DSA-SHA, sha384, SHA1, DSA, shake_256, md4, blake2b, SHA384, SHA512, SHA224, RIPEMD160, sha512, sha3_224, whirlpool, md5, shake_128, sha1, "
     ]
    }
   ],
   "source": [
    "import hashlib\n",
    "for algorithm in hashlib.algorithms_available:\n",
    "    print(algorithm, end=', ')"
   ]
  },
  {
   "cell_type": "code",
   "execution_count": 13,
   "metadata": {},
   "outputs": [
    {
     "data": {
      "text/plain": [
       "'7a08d24b85eaf52143b35fea3c0245b7'"
      ]
     },
     "execution_count": 13,
     "metadata": {},
     "output_type": "execute_result"
    }
   ],
   "source": [
    "h = hashlib.new('MD5') # Specify algorithm name in new\n",
    "h.update('Text to be hashed'.encode('utf-8'))\n",
    "h.hexdigest()"
   ]
  },
  {
   "cell_type": "code",
   "execution_count": 14,
   "metadata": {},
   "outputs": [
    {
     "data": {
      "text/plain": [
       "'9e466c484be11797cc1e1fffe06b6d9fd21cefa90de79c1ca9c3985adb0338c3'"
      ]
     },
     "execution_count": 14,
     "metadata": {},
     "output_type": "execute_result"
    }
   ],
   "source": [
    "hashlib.sha256(b'Text to be hashed').hexdigest() # Directly use sha256 function\n",
    "                                                 # similar function exists for md5 too"
   ]
  },
  {
   "cell_type": "code",
   "execution_count": null,
   "metadata": {},
   "outputs": [],
   "source": [
    "Symmetric "
   ]
  }
 ],
 "metadata": {
  "kernelspec": {
   "display_name": "Python 3",
   "language": "python",
   "name": "python3"
  },
  "language_info": {
   "codemirror_mode": {
    "name": "ipython",
    "version": 3
   },
   "file_extension": ".py",
   "mimetype": "text/x-python",
   "name": "python",
   "nbconvert_exporter": "python",
   "pygments_lexer": "ipython3",
   "version": "3.6.2"
  }
 },
 "nbformat": 4,
 "nbformat_minor": 2
}
