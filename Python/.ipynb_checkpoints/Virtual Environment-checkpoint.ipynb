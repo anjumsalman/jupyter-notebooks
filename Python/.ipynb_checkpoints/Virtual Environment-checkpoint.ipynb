{
 "cells": [
  {
   "cell_type": "markdown",
   "metadata": {},
   "source": [
    "## Package Location\n",
    "So where are packages installed? System packages are located in:"
   ]
  },
  {
   "cell_type": "code",
   "execution_count": 1,
   "metadata": {},
   "outputs": [
    {
     "data": {
      "text/plain": [
       "'/usr'"
      ]
     },
     "execution_count": 1,
     "metadata": {},
     "output_type": "execute_result"
    }
   ],
   "source": [
    "import sys\n",
    "sys.prefix"
   ]
  },
  {
   "cell_type": "markdown",
   "metadata": {},
   "source": [
    "User packages, the ones installed using `pip` are installed in:"
   ]
  },
  {
   "cell_type": "code",
   "execution_count": 2,
   "metadata": {},
   "outputs": [
    {
     "data": {
      "text/plain": [
       "['/usr/local/lib/python3.6/dist-packages',\n",
       " '/usr/lib/python3/dist-packages',\n",
       " '/usr/lib/python3.6/dist-packages']"
      ]
     },
     "execution_count": 2,
     "metadata": {},
     "output_type": "execute_result"
    }
   ],
   "source": [
    "import site\n",
    "site.getsitepackages()"
   ]
  },
  {
   "cell_type": "markdown",
   "metadata": {},
   "source": [
    "See if these directories are present in path"
   ]
  },
  {
   "cell_type": "code",
   "execution_count": 3,
   "metadata": {},
   "outputs": [
    {
     "data": {
      "text/plain": [
       "['/usr/lib/python36.zip',\n",
       " '/usr/lib/python3.6',\n",
       " '/usr/lib/python3.6/lib-dynload',\n",
       " '',\n",
       " '/home/salman/.local/lib/python3.6/site-packages',\n",
       " '/usr/local/lib/python3.6/dist-packages',\n",
       " '/usr/lib/python3/dist-packages',\n",
       " '/home/salman/.local/lib/python3.6/site-packages/IPython/extensions',\n",
       " '/home/salman/.ipython']"
      ]
     },
     "execution_count": 3,
     "metadata": {},
     "output_type": "execute_result"
    }
   ],
   "source": [
    "sys.path"
   ]
  },
  {
   "cell_type": "markdown",
   "metadata": {},
   "source": [
    "## Need for Virtual Environments\n",
    "The primary purpose of virtual environments is to be able use a different versions of a package in your project rather than using the one installed globally."
   ]
  },
  {
   "cell_type": "markdown",
   "metadata": {},
   "source": [
    "## Installing and Creating Virtual Environment\n",
    "First install virtual environment\n",
    "\n",
    "```$ pip install virtualenv```  \n",
    "\n",
    "Then in the directory where we want virtual environment to be created, we type  \n",
    "```$ python3 -m venv env```  \n",
    "And for python 2.x  \n",
    "```$ virtualenv env```"
   ]
  },
  {
   "cell_type": "markdown",
   "metadata": {},
   "source": [
    "### Directory Structure\n",
    "The above command creates the following directories\n",
    "```\n",
    "my_project--+\n",
    "            +-- env\n",
    "                 |-- bin --------------------------------+-- activate\n",
    "                 |-- lib (contains all user packages)    |-- pip\n",
    "                 |-- include (conatins C files)          |-- pip3\n",
    "                 +-- ...                                 +-- ...  \n",
    "        \n",
    "```"
   ]
  },
  {
   "cell_type": "markdown",
   "metadata": {},
   "source": [
    "## Activating/Deactivating\n",
    "We need to activate virtual environment before we make use of it  \n",
    "```$ source env/bin/activate```  \n",
    "The pip command will now install packages only for this environment\n",
    "\n",
    "To deactivate,  \n",
    "```$ deactivate``` \n",
    "\n",
    "Note that after deactivating, the python command may or may not run the script depending upon whether the package in virtual environment is present globally or not. This means you'll have to activate virtual environment and then use python command."
   ]
  },
  {
   "cell_type": "markdown",
   "metadata": {},
   "source": [
    "## Misc\n",
    "- virtual environment also changes the $PATH variable\n",
    "- check `sys.path` in a virtual environment\n",
    "- virtual environment uses the same system packages"
   ]
  },
  {
   "cell_type": "code",
   "execution_count": null,
   "metadata": {},
   "outputs": [],
   "source": []
  }
 ],
 "metadata": {
  "kernelspec": {
   "display_name": "Python 3",
   "language": "python",
   "name": "python3"
  },
  "language_info": {
   "codemirror_mode": {
    "name": "ipython",
    "version": 3
   },
   "file_extension": ".py",
   "mimetype": "text/x-python",
   "name": "python",
   "nbconvert_exporter": "python",
   "pygments_lexer": "ipython3",
   "version": "3.6.7"
  }
 },
 "nbformat": 4,
 "nbformat_minor": 2
}
