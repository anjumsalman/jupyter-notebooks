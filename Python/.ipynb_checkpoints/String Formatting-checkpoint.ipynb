{
 "cells": [
  {
   "cell_type": "markdown",
   "metadata": {},
   "source": [
    "### String Formatting Using%\n",
    "Available since beginning\n",
    "```py\n",
    "name = 'xyz'\n",
    "'Name is %s' % name # Name is xyz\n",
    "age = 21\n",
    "\"Name is %s and age is %s' % (name, age) # Name is xyz and age is 21\n",
    "```\n",
    "### Using str.format()\n",
    "```py\n",
    "name ='xyz'\n",
    "'Name is {0}'.format(name) # Name is xyz\n",
    "age = 21\n",
    "'Name is {0} and age is {1}'.format(name, age) # Name is xyz and age is 21\n",
    "# or omit numbers\n",
    "'Name is {} and age is {}'.format(name, age) # Name is xyz and age is 21\n",
    "# or use a name\n",
    "'Name is {name} and age is {age}'.format(name=name, age=age) # Name is xyz and age is 21\n",
    "```\n",
    "\n",
    "### Using f-string\n",
    "Python 3.6+\n",
    "```py\n",
    "f'Name is {name} and age is {age}' # Name is xyz and age is 21\n",
    "```\n",
    "\n",
    "f-strings are evaluated at run time,so you can also do the following:\n",
    "```py\n",
    "def lowercase(input):\n",
    "    return input.lower()\n",
    "\n",
    "small = 'SMALL'\n",
    "\n",
    "f'2+5={2+5}' # 2+5=7\n",
    "f'CAPS and {lowercase(smal1)}'\n",
    "```\n",
    "\n",
    "### print() function options\n",
    "```py\n",
    "city1 = 'Paris'\n",
    "city2 = 'Berlin'\n",
    "city3 = 'Moscow'\n",
    "city4 = 'London'\n",
    "print(city1, city2, city3, city4, sep=\";\") # default separator is ' '\n",
    "```\n",
    "\n",
    "By default print() adds a newline character. We can change that\n",
    "```py\n",
    "for i in range(5):\n",
    "    print(i, end=',\") # prints 0,1,2,3,4,\n",
    "```"
   ]
  },
  {
   "cell_type": "code",
   "execution_count": null,
   "metadata": {},
   "outputs": [],
   "source": []
  }
 ],
 "metadata": {
  "kernelspec": {
   "display_name": "Python 3",
   "language": "python",
   "name": "python3"
  },
  "language_info": {
   "codemirror_mode": {
    "name": "ipython",
    "version": 3
   },
   "file_extension": ".py",
   "mimetype": "text/x-python",
   "name": "python",
   "nbconvert_exporter": "python",
   "pygments_lexer": "ipython3",
   "version": "3.6.7"
  }
 },
 "nbformat": 4,
 "nbformat_minor": 2
}
