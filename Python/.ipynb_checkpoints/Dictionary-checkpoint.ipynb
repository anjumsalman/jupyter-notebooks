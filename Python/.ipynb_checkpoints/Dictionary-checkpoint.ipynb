{
 "cells": [
  {
   "cell_type": "markdown",
   "metadata": {},
   "source": [
    "## Creating Dictionary"
   ]
  },
  {
   "cell_type": "code",
   "execution_count": 3,
   "metadata": {},
   "outputs": [
    {
     "ename": "KeyError",
     "evalue": "0",
     "output_type": "error",
     "traceback": [
      "\u001b[0;31m---------------------------------------------------------------------------\u001b[0m",
      "\u001b[0;31mKeyError\u001b[0m                                  Traceback (most recent call last)",
      "\u001b[0;32m<ipython-input-3-66507a1cc811>\u001b[0m in \u001b[0;36m<module>\u001b[0;34m\u001b[0m\n\u001b[1;32m      1\u001b[0m \u001b[0mmy_dict\u001b[0m \u001b[0;34m=\u001b[0m \u001b[0;34m{\u001b[0m\u001b[0;34m'India'\u001b[0m\u001b[0;34m:\u001b[0m\u001b[0;34m'New Delhi'\u001b[0m\u001b[0;34m,\u001b[0m \u001b[0;34m'Japan'\u001b[0m\u001b[0;34m:\u001b[0m\u001b[0;34m'Tokyo'\u001b[0m\u001b[0;34m,\u001b[0m \u001b[0;34m'Russia'\u001b[0m\u001b[0;34m:\u001b[0m\u001b[0;34m'Moscow'\u001b[0m\u001b[0;34m,\u001b[0m \u001b[0;34m'Australia'\u001b[0m\u001b[0;34m:\u001b[0m\u001b[0;34m'Canberra'\u001b[0m\u001b[0;34m}\u001b[0m\u001b[0;34m\u001b[0m\u001b[0;34m\u001b[0m\u001b[0m\n\u001b[0;32m----> 2\u001b[0;31m \u001b[0mmy_dict\u001b[0m\u001b[0;34m[\u001b[0m\u001b[0;36m0\u001b[0m\u001b[0;34m]\u001b[0m\u001b[0;34m\u001b[0m\u001b[0;34m\u001b[0m\u001b[0m\n\u001b[0m",
      "\u001b[0;31mKeyError\u001b[0m: 0"
     ]
    }
   ],
   "source": [
    "my_dict = {'India':'New Delhi', 'Japan':'Tokyo', 'Russia':'Moscow', 'Australia':'Canberra'}\n",
    "my_dict[0]"
   ]
  },
  {
   "cell_type": "markdown",
   "metadata": {},
   "source": [
    "As the above example suggests, there is no mapping between the key supplied as part of dictionary definition and integr index. Any immutable object can be a key. This means that tuple can be a key whereas list cannot. Also items are stored in a random order inside a dictionary.\n",
    "Unlike list, dictionary doesn't support the '+' operator to add elements."
   ]
  },
  {
   "cell_type": "code",
   "execution_count": 2,
   "metadata": {},
   "outputs": [
    {
     "ename": "TypeError",
     "evalue": "unsupported operand type(s) for +: 'dict' and 'dict'",
     "output_type": "error",
     "traceback": [
      "\u001b[1;31m---------------------------------------------------------------------------\u001b[0m",
      "\u001b[1;31mTypeError\u001b[0m                                 Traceback (most recent call last)",
      "\u001b[1;32m<ipython-input-2-87a6ee16729d>\u001b[0m in \u001b[0;36m<module>\u001b[1;34m()\u001b[0m\n\u001b[1;32m----> 1\u001b[1;33m \u001b[0mmy_dict\u001b[0m \u001b[1;33m=\u001b[0m \u001b[0mmy_dict\u001b[0m \u001b[1;33m+\u001b[0m \u001b[1;33m{\u001b[0m\u001b[1;34m'France'\u001b[0m\u001b[1;33m:\u001b[0m\u001b[1;34m'Paris'\u001b[0m\u001b[1;33m,\u001b[0m \u001b[1;34m'Germany'\u001b[0m\u001b[1;33m:\u001b[0m\u001b[1;34m'Berlin'\u001b[0m\u001b[1;33m}\u001b[0m\u001b[1;33m\u001b[0m\u001b[0m\n\u001b[0m\u001b[0;32m      2\u001b[0m \u001b[0mmy_dict\u001b[0m\u001b[1;33m\u001b[0m\u001b[0m\n",
      "\u001b[1;31mTypeError\u001b[0m: unsupported operand type(s) for +: 'dict' and 'dict'"
     ]
    }
   ],
   "source": [
    "my_dict = my_dict + {'France':'Paris', 'Germany':'Berlin'}\n",
    "my_dict"
   ]
  },
  {
   "cell_type": "markdown",
   "metadata": {},
   "source": [
    "To add new elements to the dictionary:"
   ]
  },
  {
   "cell_type": "code",
   "execution_count": 3,
   "metadata": {},
   "outputs": [
    {
     "data": {
      "text/plain": [
       "{'Australia': 'Canberra',\n",
       " 'France': 'Paris',\n",
       " 'Germany': 'Berlin',\n",
       " 'India': 'New Delhi',\n",
       " 'Japan': 'Tokyo',\n",
       " 'Russia': 'Moscow',\n",
       " 'United Kingdom': 'London'}"
      ]
     },
     "execution_count": 3,
     "metadata": {},
     "output_type": "execute_result"
    }
   ],
   "source": [
    "my_dict['France'] = 'Paris'\n",
    "my_dict.update({'Germany':'Berlin', 'United Kingdom':'London'})\n",
    "my_dict"
   ]
  },
  {
   "cell_type": "markdown",
   "metadata": {},
   "source": [
    "Dictionaries can also be created using *dict()* function"
   ]
  },
  {
   "cell_type": "code",
   "execution_count": 15,
   "metadata": {},
   "outputs": [
    {
     "name": "stdout",
     "output_type": "stream",
     "text": [
      "{'Apple': 'Macintosh', 'Microsoft': 'Windows'}\n",
      "{'Apple': 'Macintosh', 'Microsoft': 'Windows'}\n",
      "{'Apple': 'Macintosh', 'Microsoft': 'Windows'}\n"
     ]
    }
   ],
   "source": [
    "source = [('Apple', 'Macintosh'), ('Microsoft', 'Windows')]\n",
    "print(dict(source))\n",
    "\n",
    "another_source = [['Apple', 'Macintosh'], ['Microsoft', 'Windows']]\n",
    "print(dict(another_source))\n",
    "\n",
    "yet_another_source = (['Apple', 'Macintosh'], ['Microsoft', 'Windows'])\n",
    "print(dict(yet_another_source))"
   ]
  },
  {
   "cell_type": "markdown",
   "metadata": {},
   "source": [
    "## Keys and Values"
   ]
  },
  {
   "cell_type": "code",
   "execution_count": 18,
   "metadata": {},
   "outputs": [
    {
     "name": "stdout",
     "output_type": "stream",
     "text": [
      "dict_keys(['India', 'Japan', 'Russia', 'Australia', 'France', 'Germany', 'United Kingdom'])\n",
      "dict_values(['New Delhi', 'Tokyo', 'Moscow', 'Canberra', 'Paris', 'Berlin', 'London'])\n",
      "dict_items([('India', 'New Delhi'), ('Japan', 'Tokyo'), ('Russia', 'Moscow'), ('Australia', 'Canberra'), ('France', 'Paris'), ('Germany', 'Berlin'), ('United Kingdom', 'London')])\n"
     ]
    }
   ],
   "source": [
    "print(my_dict.keys())\n",
    "print(my_dict.values())\n",
    "print(my_dict.items())"
   ]
  },
  {
   "cell_type": "markdown",
   "metadata": {},
   "source": [
    "The dict.keys() function generates a dictionary view object. Its contents are not independent of the original dictionary."
   ]
  },
  {
   "cell_type": "code",
   "execution_count": 1,
   "metadata": {},
   "outputs": [
    {
     "name": "stdout",
     "output_type": "stream",
     "text": [
      "dict_keys(['a', 'b', 'c'])\n",
      "dict_keys(['b', 'c'])\n"
     ]
    }
   ],
   "source": [
    "a = {'a':1, 'b':2, 'c':3}\n",
    "b = a.keys()\n",
    "print(b)\n",
    "del a['a']\n",
    "print(b)"
   ]
  },
  {
   "cell_type": "markdown",
   "metadata": {},
   "source": [
    "Iterating over a dictionary:"
   ]
  },
  {
   "cell_type": "code",
   "execution_count": 5,
   "metadata": {},
   "outputs": [
    {
     "name": "stdout",
     "output_type": "stream",
     "text": [
      "India, Japan, Russia, Australia, France, Germany, United Kingdom, "
     ]
    }
   ],
   "source": [
    "for key in my_dict:\n",
    "    print(key, end=', ')"
   ]
  },
  {
   "cell_type": "code",
   "execution_count": 7,
   "metadata": {},
   "outputs": [
    {
     "name": "stdout",
     "output_type": "stream",
     "text": [
      "India:New Delhi, Japan:Tokyo, Russia:Moscow, Australia:Canberra, France:Paris, Germany:Berlin, United Kingdom:London, "
     ]
    }
   ],
   "source": [
    "for key, value in my_dict.items():\n",
    "    print(key +':'+ value, end=', ')"
   ]
  },
  {
   "cell_type": "code",
   "execution_count": 8,
   "metadata": {
    "scrolled": true
   },
   "outputs": [
    {
     "name": "stdout",
     "output_type": "stream",
     "text": [
      "New Delhi, Tokyo, Moscow, Canberra, Paris, Berlin, London, "
     ]
    }
   ],
   "source": [
    "for value in my_dict.values():\n",
    "    print(value, end=', ')"
   ]
  },
  {
   "cell_type": "markdown",
   "metadata": {},
   "source": [
    "## Boolean Context"
   ]
  },
  {
   "cell_type": "code",
   "execution_count": 10,
   "metadata": {},
   "outputs": [
    {
     "data": {
      "text/plain": [
       "False"
      ]
     },
     "execution_count": 10,
     "metadata": {},
     "output_type": "execute_result"
    }
   ],
   "source": [
    "'Paris' in my_dict"
   ]
  },
  {
   "cell_type": "code",
   "execution_count": 11,
   "metadata": {},
   "outputs": [
    {
     "data": {
      "text/plain": [
       "True"
      ]
     },
     "execution_count": 11,
     "metadata": {},
     "output_type": "execute_result"
    }
   ],
   "source": [
    "'France' in my_dict"
   ]
  },
  {
   "cell_type": "code",
   "execution_count": 12,
   "metadata": {},
   "outputs": [
    {
     "name": "stdout",
     "output_type": "stream",
     "text": [
      "hello\n"
     ]
    }
   ],
   "source": [
    "empty_dict = {} #empty dictionary evaluated as false\n",
    "if empty_dict:\n",
    "    print('hi')\n",
    "else:\n",
    "    print('hello')"
   ]
  },
  {
   "cell_type": "markdown",
   "metadata": {},
   "source": [
    "## Dictionary Comprehension"
   ]
  },
  {
   "cell_type": "code",
   "execution_count": 5,
   "metadata": {},
   "outputs": [
    {
     "name": "stdout",
     "output_type": "stream",
     "text": [
      "{1: 1, 2: 4, 3: 9, 4: 16, 5: 25}\n"
     ]
    }
   ],
   "source": [
    "numbers = [1,2,3,4,5]\n",
    "sq_dict = {x:x*x for x in numbers}\n",
    "print(sq_dict)"
   ]
  },
  {
   "cell_type": "code",
   "execution_count": 17,
   "metadata": {},
   "outputs": [
    {
     "name": "stdout",
     "output_type": "stream",
     "text": [
      "{'New Delhi': 'India', 'Tokyo': 'Japan', 'Moscow': 'Russia', 'Canberra': 'Australia', 'Paris': 'France', 'Berlin': 'Germany', 'London': 'United Kingdom'}\n"
     ]
    }
   ],
   "source": [
    "reverse_dict = { value:key for key,value in my_dict.items()}\n",
    "print(reverse_dict)"
   ]
  },
  {
   "cell_type": "markdown",
   "metadata": {},
   "source": [
    "## Ordered Dictionary\n",
    "`OrderedDict`, subclass of dict remembers the order of insertion."
   ]
  },
  {
   "cell_type": "code",
   "execution_count": 4,
   "metadata": {},
   "outputs": [
    {
     "name": "stdout",
     "output_type": "stream",
     "text": [
      "Normal dict\n",
      "key: one_1, value: 1\n",
      "key: two, value: 2\n",
      "key: three, value: 3\n",
      "key: four, value: 4\n",
      "key: five, value: 5\n",
      "\n",
      "Ordered dict\n",
      "key: one, value: 1\n",
      "key: two, value: 2\n",
      "key: three, value: 3\n",
      "key: four, value: 4\n",
      "key: five, value: 5\n"
     ]
    }
   ],
   "source": [
    "normal_dict = {'one': 1, 'two': 2, 'three': 3, 'four': 4, 'five': 5}\n",
    "print('Normal dict')\n",
    "for k,v in normal_dict.items():\n",
    "    print(f'key: {k}, value: {v}')\n",
    "\n",
    "from collections import OrderedDict\n",
    "ord_dict = OrderedDict()\n",
    "ord_dict['one'] = 1\n",
    "ord_dict['two'] = 2\n",
    "ord_dict['three'] = 3\n",
    "ord_dict['four'] = 4\n",
    "ord_dict['five'] = 5\n",
    "print('\\nOrdered dict')\n",
    "for k,v in ord_dict.items():\n",
    "    print(f'key: {k}, value: {v}')"
   ]
  },
  {
   "cell_type": "markdown",
   "metadata": {},
   "source": [
    "## Dictionary Methods\n",
    " \n",
    "- **update:**  adds multiple keys at ones `mydict.update({'Germany':'Berlin', 'Turkey':'Ankara'})`\n",
    "- **get:** gets an element provided the key. Returns a value if key not present `mydict.get('New Zealand', None)`\n",
    "- **pop:** removes a key and returns its value. `mydict.pop('India')`"
   ]
  },
  {
   "cell_type": "markdown",
   "metadata": {},
   "source": [
    "## Implementation Details\n",
    "A list in Python is represented as an array internally (array of 8 elements).  \n",
    "  \n",
    "Keys are hashed to generate index. The `hash()` function returns 32 bit hash of any object passed to it. To get index from hash we do $hash(key) & (n-1)$. So the index for string key 'a' is $hash('a') & 7 = 0$\n",
    "  \n",
    "What happens when there is a collision? Collision in this case means same index is obtained (even though hash maybe different). Python uses open addressing to get new index. When the hash table is 2/3rd full, python resizes the hash table, copies values from old array to same indexes in new one."
   ]
  },
  {
   "cell_type": "code",
   "execution_count": null,
   "metadata": {},
   "outputs": [],
   "source": []
  }
 ],
 "metadata": {
  "kernelspec": {
   "display_name": "Python 3",
   "language": "python",
   "name": "python3"
  },
  "language_info": {
   "codemirror_mode": {
    "name": "ipython",
    "version": 3
   },
   "file_extension": ".py",
   "mimetype": "text/x-python",
   "name": "python",
   "nbconvert_exporter": "python",
   "pygments_lexer": "ipython3",
   "version": "3.7.4"
  }
 },
 "nbformat": 4,
 "nbformat_minor": 4
}
