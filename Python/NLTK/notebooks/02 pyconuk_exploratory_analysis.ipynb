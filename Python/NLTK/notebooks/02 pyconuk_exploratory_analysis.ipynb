{
 "cells": [
  {
   "cell_type": "markdown",
   "metadata": {},
   "source": [
    "# Exploring Text Data (2)\n",
    "\n",
    "## PyConUK talk abstract\n",
    "\n",
    "Data set of abstracts for the PyConUK 2016 talks (retrieved 14th Sept 2016 from https://github.com/PyconUK/2016.pyconuk.org)\n",
    "\n",
    "The data can be found in `../data/pyconuk2016/{keynotes,workshops,talks}/*`\n",
    "\n",
    "There are 101 abstracts"
   ]
  },
  {
   "cell_type": "markdown",
   "metadata": {},
   "source": [
    "## Load the data\n",
    "\n",
    "Firstly, we load all the data into the `documents` dictionary\n",
    "\n",
    "We also merge the documents into one big string, `corpus_all_in_one`, for convenience"
   ]
  },
  {
   "cell_type": "code",
   "execution_count": null,
   "metadata": {
    "collapsed": false
   },
   "outputs": [],
   "source": [
    "import os\n",
    "\n",
    "data_dir = os.path.join('..', 'data', 'pyconuk2016')\n",
    "\n",
    "talk_types = ['keynotes', 'workshops', 'talks']\n",
    "\n",
    "all_talk_files = [os.path.join(data_dir, talk_type, fname)\n",
    "                  for talk_type in talk_types\n",
    "                  for fname in os.listdir(os.path.join(data_dir, talk_type))]\n",
    "\n",
    "documents = {}\n",
    "for talk_fname in all_talk_files:\n",
    "    bname = os.path.basename(talk_fname)\n",
    "    talk_title = os.path.splitext(bname)[0]\n",
    "    with open(talk_fname, 'r') as f:\n",
    "        content = f.read()\n",
    "        documents[talk_title] = content\n",
    "        \n",
    "corpus_all_in_one = ' '.join([doc for doc in documents.values()])\n",
    "        \n",
    "print(\"Number of talks: {}\".format(len(all_talk_files)))\n",
    "print(\"Corpus size (char): {}\".format(len(corpus_all_in_one)))"
   ]
  },
  {
   "cell_type": "code",
   "execution_count": null,
   "metadata": {
    "collapsed": false
   },
   "outputs": [],
   "source": [
    "%matplotlib inline\n",
    "import matplotlib.pyplot as plt\n",
    "from wordcloud import WordCloud\n",
    "\n",
    "cloud = WordCloud(max_words=100)\n",
    "cloud.generate_from_text(corpus_all_in_one)\n",
    "\n",
    "plt.figure(figsize=(12,8))\n",
    "plt.imshow(cloud)\n",
    "plt.axis('off')\n",
    "plt.show()"
   ]
  },
  {
   "cell_type": "code",
   "execution_count": null,
   "metadata": {
    "collapsed": false
   },
   "outputs": [],
   "source": [
    "all_talk_files[0]"
   ]
  },
  {
   "cell_type": "code",
   "execution_count": null,
   "metadata": {
    "collapsed": false
   },
   "outputs": [],
   "source": [
    "%cat {all_talk_files[0]}\n",
    "\n",
    "# For a list of magics type:\n",
    "# %lsmagic"
   ]
  },
  {
   "cell_type": "code",
   "execution_count": null,
   "metadata": {
    "collapsed": false
   },
   "outputs": [],
   "source": [
    "documents = {}\n",
    "for talk_fname in all_talk_files:\n",
    "    bname = os.path.basename(talk_fname)\n",
    "    talk_title = os.path.splitext(bname)[0]\n",
    "    with open(talk_fname, 'r') as f:\n",
    "        content = \"\"\n",
    "        for line in f:\n",
    "            if line.startswith('title:'):\n",
    "                line = line[6:]\n",
    "            if line.startswith('subtitle:') \\\n",
    "            or line.startswith('speaker:') \\\n",
    "            or line.startswith('---'):\n",
    "                continue\n",
    "            content += line\n",
    "        documents[talk_title] = content\n",
    "\n",
    "corpus_all_in_one = ' '.join([doc for doc in documents.values()])"
   ]
  },
  {
   "cell_type": "code",
   "execution_count": null,
   "metadata": {
    "collapsed": false
   },
   "outputs": [],
   "source": [
    "%matplotlib inline\n",
    "import matplotlib.pyplot as plt\n",
    "from wordcloud import WordCloud\n",
    "\n",
    "cloud = WordCloud(max_words=100)\n",
    "cloud.generate_from_text(corpus_all_in_one)\n",
    "\n",
    "plt.figure(figsize=(12,8))\n",
    "plt.imshow(cloud)\n",
    "plt.axis('off')\n",
    "plt.show()"
   ]
  },
  {
   "cell_type": "code",
   "execution_count": null,
   "metadata": {
    "collapsed": false
   },
   "outputs": [],
   "source": [
    "from collections import Counter\n",
    "import string\n",
    "from nltk.tokenize import word_tokenize\n",
    "from nltk.corpus import stopwords\n",
    "\n",
    "stop_list = stopwords.words('english') + list(string.punctuation)\n",
    "\n",
    "document_frequency = Counter()\n",
    "\n",
    "for talk_id, content in documents.items():\n",
    "    try:  # py3\n",
    "        tokens = word_tokenize(content)\n",
    "    except UnicodeDecodeError:  # py27\n",
    "        tokens = word_tokenize(content.decode('utf-8'))\n",
    "    unique_tokens = [token.lower() for token in set(tokens)\n",
    "                     if token.lower() not in stop_list]\n",
    "    document_frequency.update(unique_tokens)\n",
    "\n",
    "for word, freq in document_frequency.most_common(20):\n",
    "    print(\"{}\\t{}\".format(word, freq))"
   ]
  },
  {
   "cell_type": "code",
   "execution_count": null,
   "metadata": {
    "collapsed": false
   },
   "outputs": [],
   "source": [
    "# print(stop_list)\n",
    "for item in ['will', \"'ll\", 'll']:\n",
    "    print(\"{} in stop_list == {}\".format(item, item in stop_list))"
   ]
  },
  {
   "cell_type": "code",
   "execution_count": null,
   "metadata": {
    "collapsed": false
   },
   "outputs": [],
   "source": [
    "from nltk import ngrams\n",
    "\n",
    "try:\n",
    "    all_tokens = [t for t in word_tokenize(corpus_all_in_one)]\n",
    "except UnicodeDecodeError:\n",
    "    all_tokens = [t for t in word_tokenize(corpus_all_in_one.decode('utf-8'))]\n",
    "\n",
    "bigrams = ngrams(all_tokens, 2)\n",
    "trigrams = ngrams(all_tokens, 3)\n",
    "\n",
    "bi_count = Counter(bigrams)\n",
    "tri_count = Counter(trigrams)\n",
    "\n",
    "for phrase, freq in bi_count.most_common(20):\n",
    "    print(\"{}\\t{}\".format(phrase, freq))\n",
    "    \n",
    "for phrase, freq in tri_count.most_common(20):\n",
    "    print(\"{}\\t{}\".format(phrase, freq))"
   ]
  },
  {
   "cell_type": "markdown",
   "metadata": {},
   "source": [
    "## Term Frequency (TF)\n",
    "\n",
    "TF provides a weight of a term within a document, based on the term frequency\n",
    "\n",
    "TF(term, doc) = count(term in doc)\n",
    "\n",
    "TF(term, doc) = count(term in doc) / len(doc)\n",
    "\n",
    "\n",
    "## Inverse Document Frequency (IDF)\n",
    "\n",
    "IDF provides a weight of a term across the collection, based on the document frequency of such term\n",
    "\n",
    "IDF(term) = log( N / DF(term) )\n",
    "\n",
    "IDF(term) = log( 1 + N / DF(term) )"
   ]
  },
  {
   "cell_type": "markdown",
   "metadata": {},
   "source": [
    "## Introducing sklearn\n",
    "\n",
    "So far, we have used some homemade implementation to count words\n",
    "\n",
    "What if we need something more involved?\n",
    "\n",
    "sklearn (http://scikit-learn.org/) is one of the main libraries for Machine Learning in Python\n",
    "\n",
    "With an easy-to-use interface, it provides support for a variety of Machine Learning models\n",
    "\n",
    "We're going to use it to tackle a Text Classification problem\n"
   ]
  },
  {
   "cell_type": "code",
   "execution_count": null,
   "metadata": {
    "collapsed": true
   },
   "outputs": [],
   "source": []
  }
 ],
 "metadata": {
  "kernelspec": {
   "display_name": "Python 3",
   "language": "python",
   "name": "python3"
  },
  "language_info": {
   "codemirror_mode": {
    "name": "ipython",
    "version": 3
   },
   "file_extension": ".py",
   "mimetype": "text/x-python",
   "name": "python",
   "nbconvert_exporter": "python",
   "pygments_lexer": "ipython3",
   "version": "3.5.1"
  }
 },
 "nbformat": 4,
 "nbformat_minor": 0
}
