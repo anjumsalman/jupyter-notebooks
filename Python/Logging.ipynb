{
 "cells": [
  {
   "cell_type": "markdown",
   "metadata": {},
   "source": [
    "### Basics\n",
    "The logging module defines the following logging levels\n",
    "- DEBUG\n",
    "- INFO\n",
    "- WARNING or WARN\n",
    "- ERROR\n",
    "- CRITICAL or FATAL\n",
    "If the logging level is set as INFO, then only info, warning, error or critical logs are recorded. If it is error, then only error or critical logs are recorded and so on. The default log level is WARNING."
   ]
  },
  {
   "cell_type": "code",
   "execution_count": 1,
   "metadata": {},
   "outputs": [
    {
     "name": "stderr",
     "output_type": "stream",
     "text": [
      "WARNING:root:A warning message\n",
      "ERROR:root:An error message\n",
      "CRITICAL:root:A critical message\n"
     ]
    }
   ],
   "source": [
    "import logging\n",
    "\n",
    "logging.debug('A debug message')\n",
    "logging.info('An info message')\n",
    "logging.warning('A warning message')\n",
    "logging.error('An error message')\n",
    "logging.critical('A critical message')"
   ]
  },
  {
   "cell_type": "markdown",
   "metadata": {},
   "source": [
    "In the above example, default logger is used."
   ]
  },
  {
   "cell_type": "markdown",
   "metadata": {},
   "source": [
    "### Configuring Default Logger\n",
    "We can configure the default logger and set the level, message format, etc. Use the function `basicConfig(**kwargs)`. Some of the keywords are:\n",
    "- level: sets the log level\n",
    "- filename: file where the log should be written\n",
    "- filemode: 'a' for append, 'w' for write\n",
    "- format: message format, things to display. This has its own little syntax.\n",
    "The function basicConfig can be invoked only once."
   ]
  },
  {
   "cell_type": "code",
   "execution_count": 2,
   "metadata": {},
   "outputs": [],
   "source": [
    "import logging\n",
    "logging.basicConfig(filename='app.log', filemode='w', format='%(name)s - %(levelname)s - %(message)s')\n",
    "logging.warning('This will get logged to a file')   # not displayed on screen"
   ]
  },
  {
   "cell_type": "markdown",
   "metadata": {},
   "source": [
    "### Capturing Stack Trace\n",
    "Stack trace can be captured by padding `exc_info=True` to the logging functions."
   ]
  },
  {
   "cell_type": "code",
   "execution_count": 3,
   "metadata": {},
   "outputs": [],
   "source": [
    "try:\n",
    "    c = 2/0\n",
    "except Exception as e:\n",
    "    logging.error('Divide by zero', exc_info=True)\n",
    "    # or logging.exception('Divide by zero')"
   ]
  },
  {
   "cell_type": "markdown",
   "metadata": {},
   "source": [
    "### Logger Present in Another Module\n",
    "Consider the example where we import a module which uses the default logger to log things. Example:\n",
    "```py\n",
    "# module1\n",
    "import logging\n",
    "logging.basicConfig(level=logging.INFO)\n",
    "logging.info('Module 1 loaded')\n",
    "```\n",
    "```py\n",
    "# main\n",
    "import module1\n",
    "import logging\n",
    "logging.basicConfig(level=logging.ERROR) # Does not work\n",
    "```"
   ]
  },
  {
   "cell_type": "markdown",
   "metadata": {},
   "source": [
    "To avoid this we need to use objects of `Logger` class"
   ]
  },
  {
   "cell_type": "markdown",
   "metadata": {},
   "source": [
    "### Logger Class\n",
    "Use the `getLogger` function to create custom logger."
   ]
  },
  {
   "cell_type": "code",
   "execution_count": 4,
   "metadata": {},
   "outputs": [],
   "source": [
    "logger = logging.getLogger('My Custom Logger') # __name__ is a good candidate as argument\n",
    "\n",
    "# can't write logger.basicConfig, we need to use Handlers and Formatters"
   ]
  },
  {
   "cell_type": "code",
   "execution_count": 5,
   "metadata": {},
   "outputs": [
    {
     "name": "stderr",
     "output_type": "stream",
     "text": [
      "__main__ - WARNING - This is a warning\n",
      "__main__ - ERROR - This is an error\n"
     ]
    }
   ],
   "source": [
    "# Create a custom logger\n",
    "logger = logging.getLogger(__name__)\n",
    "\n",
    "# Create handlers\n",
    "c_handler = logging.StreamHandler()\n",
    "f_handler = logging.FileHandler('file.log')\n",
    "c_handler.setLevel(logging.WARNING)\n",
    "f_handler.setLevel(logging.ERROR)\n",
    "\n",
    "# Create formatters and add it to handlers\n",
    "c_format = logging.Formatter('%(name)s - %(levelname)s - %(message)s')\n",
    "f_format = logging.Formatter('%(asctime)s - %(name)s - %(levelname)s - %(message)s')\n",
    "c_handler.setFormatter(c_format)\n",
    "f_handler.setFormatter(f_format)\n",
    "\n",
    "# Add handlers to the logger\n",
    "logger.addHandler(c_handler)\n",
    "logger.addHandler(f_handler)\n",
    "\n",
    "logger.warning('This is a warning')\n",
    "logger.error('This is an error')"
   ]
  },
  {
   "cell_type": "code",
   "execution_count": null,
   "metadata": {},
   "outputs": [],
   "source": []
  }
 ],
 "metadata": {
  "kernelspec": {
   "display_name": "Python 3",
   "language": "python",
   "name": "python3"
  },
  "language_info": {
   "codemirror_mode": {
    "name": "ipython",
    "version": 3
   },
   "file_extension": ".py",
   "mimetype": "text/x-python",
   "name": "python",
   "nbconvert_exporter": "python",
   "pygments_lexer": "ipython3",
   "version": "3.6.7"
  }
 },
 "nbformat": 4,
 "nbformat_minor": 2
}
