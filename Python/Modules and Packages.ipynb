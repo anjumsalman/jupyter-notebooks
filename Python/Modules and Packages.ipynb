{
 "cells": [
  {
   "cell_type": "markdown",
   "metadata": {},
   "source": [
    "## Modules Search Path\n",
    "```py\n",
    "import database\n",
    "```\n",
    "\n",
    "When this code is run, python searches for database modules in a number of directories."
   ]
  },
  {
   "cell_type": "code",
   "execution_count": 1,
   "metadata": {},
   "outputs": [
    {
     "data": {
      "text/plain": [
       "['/usr/lib/python36.zip',\n",
       " '/usr/lib/python3.6',\n",
       " '/usr/lib/python3.6/lib-dynload',\n",
       " '',\n",
       " '/home/salman/.local/lib/python3.6/site-packages',\n",
       " '/usr/local/lib/python3.6/dist-packages',\n",
       " '/usr/lib/python3/dist-packages',\n",
       " '/home/salman/.local/lib/python3.6/site-packages/IPython/extensions',\n",
       " '/home/salman/.ipython']"
      ]
     },
     "execution_count": 1,
     "metadata": {},
     "output_type": "execute_result"
    }
   ],
   "source": [
    "import sys\n",
    "sys.path"
   ]
  },
  {
   "cell_type": "markdown",
   "metadata": {},
   "source": [
    "The above set of directories includes the current directory and a bunch of other directories. This means that one can put module to be imported in any directory and import it just by appending that directory to `sys.path`. One can also locate from where the module was imported from."
   ]
  },
  {
   "cell_type": "code",
   "execution_count": 2,
   "metadata": {},
   "outputs": [
    {
     "data": {
      "text/plain": [
       "'/home/salman/.local/lib/python3.6/site-packages/flask/__init__.py'"
      ]
     },
     "execution_count": 2,
     "metadata": {},
     "output_type": "execute_result"
    }
   ],
   "source": [
    "import flask\n",
    "flask.__file__"
   ]
  },
  {
   "cell_type": "markdown",
   "metadata": {},
   "source": [
    "## The dir() function\n",
    "This function returns all the names in the current namespace. It can also be used to check all the names in the namespace of a module."
   ]
  },
  {
   "cell_type": "code",
   "execution_count": 8,
   "metadata": {},
   "outputs": [
    {
     "name": "stdout",
     "output_type": "stream",
     "text": [
      "In, Out, _, _1, _2, _4, __, ___, __builtin__, __builtins__, __doc__, __loader__, __name__, __package__, __spec__, _dh, _i, _i1, _i2, _i3, _i4, _i5, _i6, _i7, _i8, _ih, _ii, _iii, _oh, exit, flask, get_ipython, i, quit, sys, \n",
      "\n",
      "-----------------\n",
      "\n",
      "Blueprint, Config, Flask, Markup, Request, Response, Session, __builtins__, __cached__, __doc__, __file__, __loader__, __name__, __package__, __path__, __spec__, __version__, _app_ctx_stack, _compat, _request_ctx_stack, abort, after_this_request, app, appcontext_popped, appcontext_pushed, appcontext_tearing_down, before_render_template, blueprints, cli, config, copy_current_request_context, ctx, current_app, escape, flash, g, get_flashed_messages, get_template_attribute, globals, got_request_exception, has_app_context, has_request_context, helpers, json, json_available, jsonify, logging, make_response, message_flashed, redirect, render_template, render_template_string, request, request_finished, request_started, request_tearing_down, safe_join, send_file, send_from_directory, session, sessions, signals, signals_available, stream_with_context, template_rendered, templating, url_for, wrappers, "
     ]
    }
   ],
   "source": [
    "for i in list(dir()):\n",
    "    print(i, end=', ')\n",
    "    \n",
    "print('\\n\\n-----------------\\n')\n",
    "    \n",
    "for i in list(dir(flask)):\n",
    "    print(i, end=', ')"
   ]
  },
  {
   "cell_type": "markdown",
   "metadata": {},
   "source": [
    "## Modules\n",
    "A Python module is just a python file. The name of the module is the name of the python file. Consider two python files, payments.py and database.py in the same directory.\n",
    "```python\n",
    "# payments.py\n",
    "\n",
    "import database\n",
    "\n",
    "db = database.Database() # where Database is a class\n",
    "```\n",
    "\n",
    "from keyword can also be used.\n",
    "```python\n",
    "# payments.py\n",
    "\n",
    "from database import Database\n",
    "\n",
    "db = Database()\n",
    "```\n",
    "\n",
    "Never do ```from module import *```. It makes namespace dirty. Also within a function you cant write ```from module import *```"
   ]
  },
  {
   "cell_type": "code",
   "execution_count": 3,
   "metadata": {},
   "outputs": [
    {
     "name": "stdout",
     "output_type": "stream",
     "text": [
      "Module does not exist\n"
     ]
    }
   ],
   "source": [
    "## ImportError\n",
    "try:\n",
    "    import some_module\n",
    "except ImportError:\n",
    "    print('Module does not exist')"
   ]
  },
  {
   "cell_type": "markdown",
   "metadata": {},
   "source": [
    "## Running Modules as Script\n",
    "When you import a module, it is executed. This means that any output statements in the module will also be executed when you import that module. When a .py file is imported as a module, Python sets the special dunder variable \\__name__ to the name of the module. However, if a file is run as a standalone script, \\__name__ is set to the string '\\__main__'. This is why we attach an if statement to the script parts of the module.\n",
    "\n",
    "```py\n",
    "if(__name__ == '__main__'):\n",
    "    # output stuff\n",
    "```"
   ]
  },
  {
   "cell_type": "code",
   "execution_count": null,
   "metadata": {},
   "outputs": [],
   "source": [
    "# fact.py\n",
    "def fact(n):\n",
    "    if(n == 0 or n == 1):\n",
    "        return 1\n",
    "    else:\n",
    "        return n*fact(n-1)\n",
    "    \n",
    "if(__name__ == '__main__'):\n",
    "    import sys\n",
    "    if(len(sys.argv) > 1):\n",
    "        print(fact(int(sys.argv[1])))"
   ]
  },
  {
   "cell_type": "markdown",
   "metadata": {},
   "source": [
    "## \\__all__\n",
    "If a module modA has \\__all__ list defined, then when we write `from modA import *`, it will import only the items defined in that list.\n",
    "\n",
    "```py\n",
    "# modA.py\n",
    "__all__ = ['fun1', 'fun2', 'fun3']\n",
    "\n",
    "def fun1():\n",
    "    pass\n",
    "    \n",
    "fun2 = None\n",
    "\n",
    "\n",
    "class fun3:\n",
    "    pass\n",
    "    \n",
    "fun4 = []\n",
    "```\n",
    "\n",
    "```py\n",
    "# main.py\n",
    "print(dir())\n",
    "\n",
    "from modA import *\n",
    "\n",
    "print(dir()) # fun4 absent\n",
    "```"
   ]
  },
  {
   "cell_type": "markdown",
   "metadata": {},
   "source": [
    "## Packages"
   ]
  },
  {
   "cell_type": "markdown",
   "metadata": {},
   "source": [
    "A package is a directory with a ```__init__.py``` file and other modules. The ```__init__.py``` file can be empty. Consider the following directory structure:\n",
    "```\n",
    "pkg\n",
    "|__ main.py\n",
    "|__ ecommerce\n",
    "        |__ __init__.py\n",
    "        |__ database.py\n",
    "        |__ products.py\n",
    "        |__ ecommerce_main.py\n",
    "        |__ payments\n",
    "                |__ __init__.py\n",
    "                |__ square.py\n",
    "                |__ stripe.py\n",
    "                |__ payments_main.py\n",
    "                \n",
    "```\n",
    "To access Product class present inside products module, in main.py\n",
    "```python\n",
    "import ecommerce.products\n",
    "\n",
    "product = ecommerce.products.Product()\n",
    "```\n",
    "Or\n",
    "```python\n",
    "from ecommerce.products import Product\n",
    "\n",
    "product = Product()\n",
    "```\n",
    "Or\n",
    "```python\n",
    "from ecommerce import products\n",
    "\n",
    "product = products.Product()\n",
    "```\n",
    "        \n",
    "In products.py if we want to access Database class inside database.py,\n",
    "```python\n",
    "from .database import Database\n",
    "```\n",
    "\n",
    "Similarly in square.py to access Database. Both square.py and products\n",
    "```python\n",
    "from ..database import Database\n",
    "```\n",
    "\n",
    "Or use absolute import\n",
    "```python\n",
    "from pkg.ecommerce.database import Database\n",
    "```\n",
    "\n",
    "Note that in ecommerce_main.py we cannot write ``` from .database import Database``` and **run the script**. In that case ```__name__``` is set as ```__main__```. Python is unable to figure out the package structure. However if we import ecommerce_min.py in some other script (main.py), the previous code would work fine. In that case ```__name__``` would be set as the name of the module."
   ]
  },
  {
   "cell_type": "markdown",
   "metadata": {},
   "source": [
    "## \\__init__.py"
   ]
  },
  {
   "cell_type": "markdown",
   "metadata": {},
   "source": [
    "Suppose the Database class is needed frequently. It would be cumbersome to write ``` from ecommerce.database import Database``` all the time. We can shorten it to ``` from ecommerce import Database```. Open \\__init__.py and write one line ``` from .database import Database```"
   ]
  },
  {
   "cell_type": "markdown",
   "metadata": {},
   "source": [
    "## Circular Imports"
   ]
  },
  {
   "cell_type": "markdown",
   "metadata": {},
   "source": [
    "Consider 2 programs:\n",
    "```python\n",
    "# c1.py\n",
    "from c2 import c2Hi\n",
    "\n",
    "def c1Hi():\n",
    "    print('Hi from c1')\n",
    "\n",
    "c2Hi()\n",
    "```\n",
    "And\n",
    "```python\n",
    "# c2.py\n",
    "from c1 import c1Hi\n",
    "\n",
    "def c2Hi():\n",
    "    print('Hello from c2')\n",
    "\n",
    "c1Hi()\n",
    "```\n",
    "Both the programs are dependent upon each other. This is a case of circular dependency. This will lead to error."
   ]
  },
  {
   "cell_type": "markdown",
   "metadata": {},
   "source": [
    "## Conclusion\n",
    "Consider the structure\n",
    "```\n",
    "code--+\n",
    "      |-- main.py\n",
    "      +-- pkg\n",
    "           |-- mod1.py\n",
    "           |-- mod2.py\n",
    "           +-- subpkg\n",
    "                  |-- mod3.py\n",
    "                  +-- mod4.py\n",
    "        \n",
    "```\n",
    "```py\n",
    "# mod1.py\n",
    "def foo():\n",
    "    print('Foo')\n",
    "```\n",
    "```py\n",
    "# mod2.py\n",
    "def foo():\n",
    "    print('Bar')\n",
    "```\n",
    "```py\n",
    "# mod3.py\n",
    "def foo():\n",
    "    print('Baz')\n",
    "```\n",
    "```py\n",
    "# mod4.py\n",
    "def foo():\n",
    "    print('Qux')\n",
    "```\n",
    "\n",
    "In main.py, we can write\n",
    "```py\n",
    "# main.py\n",
    "from pkg.mod1 import foo\n",
    "from pkg.subpkg.mod3 import baz\n",
    "```\n",
    "\n",
    "Suppose from mod1 we need to access mod3\n",
    "```py\n",
    "# mod1.py\n",
    "from subpkg.mod3 import baz\n",
    "```\n",
    "\n",
    "The above code will give error when we run main.py. We have to write\n",
    "```py\n",
    "# mod1.py\n",
    "from pkg.subpkg.mod3 import baz\n",
    "```\n",
    "Or\n",
    "```py\n",
    "# mod1.py\n",
    "from .subpkg.mod3 import baz\n",
    "```\n",
    "\n",
    "Now what if mod4 needs access to mod1? We can write,\n",
    "```py\n",
    "# mod4.py\n",
    "from pkg.mod1 import foo\n",
    "```\n",
    "\n",
    "We can also write,\n",
    "```py\n",
    "# mod4.py\n",
    "from ..mod1 import foo\n",
    "```\n",
    "\n",
    "Lastly if mod4 wants access to mod3, we can write\n",
    "```py\n",
    "# mod4.py\n",
    "from .mod3 import baz\n",
    "```\n",
    "\n",
    "Neither\n",
    "```py\n",
    "# mod4.py\n",
    "from subpkg.mod3 import baz\n",
    "```\n",
    "Or\n",
    "```py\n",
    "# mod4.py\n",
    "from mod3 import baz\n",
    "```\n",
    "will work. But, \n",
    "\n",
    "```py\n",
    "# mod4.py\n",
    "from pkg.subpkg.mod3 import baz\n",
    "```\n",
    "works."
   ]
  },
  {
   "cell_type": "code",
   "execution_count": null,
   "metadata": {},
   "outputs": [],
   "source": []
  }
 ],
 "metadata": {
  "kernelspec": {
   "display_name": "Python 3",
   "language": "python",
   "name": "python3"
  },
  "language_info": {
   "codemirror_mode": {
    "name": "ipython",
    "version": 3
   },
   "file_extension": ".py",
   "mimetype": "text/x-python",
   "name": "python",
   "nbconvert_exporter": "python",
   "pygments_lexer": "ipython3",
   "version": "3.6.2"
  }
 },
 "nbformat": 4,
 "nbformat_minor": 2
}
