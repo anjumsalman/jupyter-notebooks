{
 "cells": [
  {
   "cell_type": "markdown",
   "metadata": {},
   "source": [
    "### Basics of Regular Expression\n",
    "**Special Characters:** . ^ $ \\* + ? \\{ \\} \\[ \\] \\ | \\( \\)  \n",
    "**Rules:** \n",
    "- \\d : matches digits only, equivalent to \\[0-9\\]\n",
    "- \\D : matches non-digits, equivalent to \\[^0-9\\]\n",
    "- \\s : matches any whitespace character, equivalent to \\[\\t\\n\\r\\f\\v\\]\n",
    "- \\S : matches any non-whitespace character, equivalent to \\[^\\t\\n\\r\\f\\v\\]\n",
    "- \\w : matches alphanumeric characters, equivalent to \\[a-zA-Z0-9_\\]\n",
    "- \\W : matches non-alphanumeric characters, equivalent to \\[^a-zA-Z0-9_\\]\n",
    "- . : matches everything except new line character\n",
    "- ca*t : matches ct, cat, caat, any number of a's, equivalent to ca\\{0,\\}t\n",
    "- ca+t : matches cat, caat, one or more number of a's, equivalent to ca\\{1,\\}t\n",
    "- ca?t : matches ct or cat, equivalent to ca\\{0,1\\}t\n",
    "- ca\\{2\\}t : matches caat\n",
    "- ca\\{2,4\\}t : matches caat, caaat, caaaat"
   ]
  },
  {
   "cell_type": "markdown",
   "metadata": {},
   "source": [
    "### Using Regular Expressions\n",
    "The `re` package contains functionality to work with regular expressions."
   ]
  },
  {
   "cell_type": "code",
   "execution_count": 2,
   "metadata": {},
   "outputs": [
    {
     "data": {
      "text/plain": [
       "re.compile(r'[a-z]+', re.UNICODE)"
      ]
     },
     "execution_count": 2,
     "metadata": {},
     "output_type": "execute_result"
    }
   ],
   "source": [
    "import re\n",
    "p = re.compile('[a-z]+')\n",
    "p"
   ]
  },
  {
   "cell_type": "markdown",
   "metadata": {},
   "source": [
    "It is suggested to use python's raw string when working with regular expressions because regular expressions themselves have backslash as special character."
   ]
  },
  {
   "cell_type": "markdown",
   "metadata": {},
   "source": [
    "### Performing Matches\n",
    "The four main methods when it comes to performing matches are:\n",
    "- match() : Determine if the RE matches at the beginning of the string.\n",
    "- search() : Scan through a string, looking for any location where this RE matches.\n",
    "- findall() : Find all substrings where the RE matches, and returns them as a list.\n",
    "- finditer() : Find all substrings where the RE matches, and returns them as an iterator."
   ]
  },
  {
   "cell_type": "code",
   "execution_count": 4,
   "metadata": {},
   "outputs": [
    {
     "data": {
      "text/plain": [
       "<_sre.SRE_Match object; span=(0, 5), match='every'>"
      ]
     },
     "execution_count": 4,
     "metadata": {},
     "output_type": "execute_result"
    }
   ],
   "source": [
    "m = p.match('every word will be matched') # match and search return match object\n",
    "m"
   ]
  },
  {
   "cell_type": "code",
   "execution_count": 5,
   "metadata": {},
   "outputs": [
    {
     "name": "stdout",
     "output_type": "stream",
     "text": [
      "etermine\n",
      "1 9\n",
      "(1, 9)\n"
     ]
    }
   ],
   "source": [
    "m2 = p.search('Determine if the RE matches at the beginning of the string')\n",
    "print(m2.group())\n",
    "print(m2.start(), m2.end())  # in case of match(), start() will always be 0\n",
    "print(m2.span())"
   ]
  },
  {
   "cell_type": "code",
   "execution_count": 6,
   "metadata": {},
   "outputs": [
    {
     "data": {
      "text/plain": [
       "['12', '11', '10']"
      ]
     },
     "execution_count": 6,
     "metadata": {},
     "output_type": "execute_result"
    }
   ],
   "source": [
    "p2 = re.compile(r'\\d+')\n",
    "p2.findall('12 drummers drumming, 11 pipers piping, 10 lords a-leaping')"
   ]
  },
  {
   "cell_type": "code",
   "execution_count": null,
   "metadata": {},
   "outputs": [],
   "source": []
  }
 ],
 "metadata": {
  "kernelspec": {
   "display_name": "Python 3",
   "language": "python",
   "name": "python3"
  },
  "language_info": {
   "codemirror_mode": {
    "name": "ipython",
    "version": 3
   },
   "file_extension": ".py",
   "mimetype": "text/x-python",
   "name": "python",
   "nbconvert_exporter": "python",
   "pygments_lexer": "ipython3",
   "version": "3.6.7"
  }
 },
 "nbformat": 4,
 "nbformat_minor": 2
}
