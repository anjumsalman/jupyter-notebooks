{
 "cells": [
  {
   "cell_type": "markdown",
   "metadata": {},
   "source": [
    "## Series and DataFrame"
   ]
  },
  {
   "cell_type": "markdown",
   "metadata": {},
   "source": [
    "A series is a one dimensional array. Dataframe is 2D."
   ]
  },
  {
   "cell_type": "code",
   "execution_count": 2,
   "metadata": {},
   "outputs": [
    {
     "name": "stdout",
     "output_type": "stream",
     "text": [
      "           name                           capitals  population    area\n",
      "0        Brazil                           Brasilia   210867954   8.516\n",
      "1        Russia                             Moscow   143964709  17.100\n",
      "2         India                          New Delhi  1367089879   3.286\n",
      "3         China                            Beijing  1415045928   9.597\n",
      "4  South Africa  Cape Town, Pretoria, Bloemfontein    57398421   1.221\n"
     ]
    }
   ],
   "source": [
    "import pandas as pd\n",
    "from pandas import DataFrame\n",
    "\n",
    "# Converting a dictionary to a DataFrame\n",
    "country_stats = {\n",
    "    'name': ['Brazil', 'Russia', 'India', 'China', 'South Africa'],\n",
    "    'capitals': ['Brasilia', 'Moscow', 'New Delhi', 'Beijing', 'Cape Town, Pretoria, Bloemfontein'],\n",
    "    'population': [210867954, 143964709, 1367089879, 1415045928, 57398421],\n",
    "    'area': [8.516, 17.10, 3.286, 9.597, 1.221]\n",
    "}\n",
    "\n",
    "brics = pd.DataFrame(country_stats)\n",
    "print(brics)"
   ]
  },
  {
   "cell_type": "markdown",
   "metadata": {},
   "source": [
    "The index is 0 to 4 in the above dataframe. We can add our own index value."
   ]
  },
  {
   "cell_type": "code",
   "execution_count": 3,
   "metadata": {},
   "outputs": [
    {
     "name": "stdout",
     "output_type": "stream",
     "text": [
      "            name                           capitals  population    area\n",
      "BR        Brazil                           Brasilia   210867954   8.516\n",
      "RU        Russia                             Moscow   143964709  17.100\n",
      "IN         India                          New Delhi  1367089879   3.286\n",
      "CH         China                            Beijing  1415045928   9.597\n",
      "SA  South Africa  Cape Town, Pretoria, Bloemfontein    57398421   1.221\n"
     ]
    }
   ],
   "source": [
    "brics.index = ['BR', 'RU', 'IN', 'CH', 'SA']\n",
    "print(brics)"
   ]
  },
  {
   "cell_type": "markdown",
   "metadata": {},
   "source": [
    "### Reading CSV\n",
    "CSV is one of the most common data store. In pandas, to read a CSV,"
   ]
  },
  {
   "cell_type": "code",
   "execution_count": null,
   "metadata": {},
   "outputs": [],
   "source": [
    "pokemons = pd.read_csv('Data/pokemon.csv')\n",
    "pokemons."
   ]
  }
 ],
 "metadata": {
  "kernelspec": {
   "display_name": "Python 3",
   "language": "python",
   "name": "python3"
  },
  "language_info": {
   "codemirror_mode": {
    "name": "ipython",
    "version": 3
   },
   "file_extension": ".py",
   "mimetype": "text/x-python",
   "name": "python",
   "nbconvert_exporter": "python",
   "pygments_lexer": "ipython3",
   "version": "3.6.2"
  }
 },
 "nbformat": 4,
 "nbformat_minor": 2
}
