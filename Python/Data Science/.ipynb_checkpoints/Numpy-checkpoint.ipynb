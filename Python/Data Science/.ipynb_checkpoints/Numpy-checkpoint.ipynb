{
 "cells": [
  {
   "cell_type": "markdown",
   "metadata": {},
   "source": [
    "## Numpy Data Types\n",
    "Numpy has a number of different data types available as `np.<data_type>`. The size of data type is platform dependent. The corresponding C data types are:\n",
    "- np.bool, equivalent to bool\n",
    "- np.byte, equivalent to signed char\n",
    "- np.ubyte, equivalent to unsigned char\n",
    "- np.short, equivalent to short\n",
    "- np.ushort, equivalent to unsigned short\n",
    "- np.intc, equivalent to int\n",
    "- np.uintc, equivalent to unsigned int\n",
    "- np.int_, equivalent to long\n",
    "- np.single, equivalent to float\n",
    "- np.double, equivalent to double\n",
    "\n",
    "Fixed size data types are also available:\n",
    "- np.int8, np.int16, np.int32, np.int64\n",
    "- np.uint8, np.uint16, np.uint32, np.uint64\n",
    "- np.float32, np.float64\n",
    "- np.complex64, np.complex128"
   ]
  },
  {
   "cell_type": "markdown",
   "metadata": {},
   "source": [
    "The above data types can also be used as functions to convert Python's inbuilt data type to Numpy"
   ]
  },
  {
   "cell_type": "code",
   "execution_count": 1,
   "metadata": {},
   "outputs": [
    {
     "name": "stdout",
     "output_type": "stream",
     "text": [
      "54\n",
      "32.0\n"
     ]
    }
   ],
   "source": [
    "import numpy as np\n",
    "small_integer = np.int8(54.0)\n",
    "small_float = np.float32(32)\n",
    "print(small_integer)\n",
    "print(small_float)"
   ]
  },
  {
   "cell_type": "markdown",
   "metadata": {},
   "source": [
    "Unlike Python's data types, Numpy's data type can over/under flow. Besides the above data types numpy has `np.nan` and `np.inf` to use as filler and infinity value respectively."
   ]
  },
  {
   "cell_type": "markdown",
   "metadata": {},
   "source": [
    "## Creating Numpy Arrays\n",
    "### Convert Python array/tuple"
   ]
  },
  {
   "cell_type": "code",
   "execution_count": 4,
   "metadata": {},
   "outputs": [
    {
     "name": "stdout",
     "output_type": "stream",
     "text": [
      "<class 'numpy.ndarray'>\n",
      "int32\n",
      "(5,)\n"
     ]
    }
   ],
   "source": [
    "simple_array = np.array([1, 2, 3, 4, 5])\n",
    "print(type(simple_array))\n",
    "print(simple_array.dtype)\n",
    "print(simple_array.shape)"
   ]
  },
  {
   "cell_type": "code",
   "execution_count": 5,
   "metadata": {},
   "outputs": [
    {
     "data": {
      "text/plain": [
       "array(['1', '2.0', 'three'], dtype='<U32')"
      ]
     },
     "execution_count": 5,
     "metadata": {},
     "output_type": "execute_result"
    }
   ],
   "source": [
    "np.array([1, 2.0, 'three'])    # everthing upcasted"
   ]
  },
  {
   "cell_type": "markdown",
   "metadata": {},
   "source": [
    "### Creating Arrays from Special Functions"
   ]
  },
  {
   "cell_type": "code",
   "execution_count": 6,
   "metadata": {},
   "outputs": [
    {
     "data": {
      "text/plain": [
       "array([[0., 0., 0.],\n",
       "       [0., 0., 0.]])"
      ]
     },
     "execution_count": 6,
     "metadata": {},
     "output_type": "execute_result"
    }
   ],
   "source": [
    "np.zeros((2, 3))"
   ]
  },
  {
   "cell_type": "code",
   "execution_count": 7,
   "metadata": {},
   "outputs": [
    {
     "data": {
      "text/plain": [
       "array([[1., 1.],\n",
       "       [1., 1.],\n",
       "       [1., 1.]])"
      ]
     },
     "execution_count": 7,
     "metadata": {},
     "output_type": "execute_result"
    }
   ],
   "source": [
    "np.ones((3, 2))"
   ]
  },
  {
   "cell_type": "code",
   "execution_count": 8,
   "metadata": {},
   "outputs": [
    {
     "data": {
      "text/plain": [
       "array([1. , 1.2, 1.4, 1.6, 1.8, 2. , 2.2, 2.4, 2.6, 2.8, 3. , 3.2, 3.4,\n",
       "       3.6, 3.8, 4. , 4.2, 4.4, 4.6, 4.8, 5. , 5.2, 5.4, 5.6, 5.8, 6. ,\n",
       "       6.2, 6.4, 6.6, 6.8, 7. , 7.2, 7.4, 7.6, 7.8, 8. , 8.2, 8.4, 8.6,\n",
       "       8.8, 9. , 9.2, 9.4, 9.6, 9.8])"
      ]
     },
     "execution_count": 8,
     "metadata": {},
     "output_type": "execute_result"
    }
   ],
   "source": [
    "np.arange(1, 10, 0.2)"
   ]
  },
  {
   "cell_type": "code",
   "execution_count": 9,
   "metadata": {},
   "outputs": [
    {
     "data": {
      "text/plain": [
       "array([ 1.        ,  1.18367347,  1.36734694,  1.55102041,  1.73469388,\n",
       "        1.91836735,  2.10204082,  2.28571429,  2.46938776,  2.65306122,\n",
       "        2.83673469,  3.02040816,  3.20408163,  3.3877551 ,  3.57142857,\n",
       "        3.75510204,  3.93877551,  4.12244898,  4.30612245,  4.48979592,\n",
       "        4.67346939,  4.85714286,  5.04081633,  5.2244898 ,  5.40816327,\n",
       "        5.59183673,  5.7755102 ,  5.95918367,  6.14285714,  6.32653061,\n",
       "        6.51020408,  6.69387755,  6.87755102,  7.06122449,  7.24489796,\n",
       "        7.42857143,  7.6122449 ,  7.79591837,  7.97959184,  8.16326531,\n",
       "        8.34693878,  8.53061224,  8.71428571,  8.89795918,  9.08163265,\n",
       "        9.26530612,  9.44897959,  9.63265306,  9.81632653, 10.        ])"
      ]
     },
     "execution_count": 9,
     "metadata": {},
     "output_type": "execute_result"
    }
   ],
   "source": [
    "np.linspace(1, 10, 50)    # 50 values between 1 and 10"
   ]
  },
  {
   "cell_type": "markdown",
   "metadata": {},
   "source": [
    "### Arrays with Random Values"
   ]
  },
  {
   "cell_type": "code",
   "execution_count": 25,
   "metadata": {},
   "outputs": [
    {
     "name": "stdout",
     "output_type": "stream",
     "text": [
      "[0.13288865 0.85589615 0.95342979 0.91255507 0.86834711]\n",
      "[[0.39807532 0.82746553]\n",
      " [0.49784157 0.76389161]]\n",
      "[59 62 51 62 61 67 53 68 64 51]\n",
      "[[17 17]\n",
      " [12 14]]\n"
     ]
    }
   ],
   "source": [
    "random_arr = np.random.random(5)\n",
    "random_2d_arr = np.random.random((2,2))\n",
    "random_int_arr = np.random.randint(50, 70, 10)    # 10 random ints between 50 and 70\n",
    "random_2d_int_arr = np.random.randint(10, 20, (2,2))\n",
    "print(random_arr)\n",
    "print(random_2d_arr)\n",
    "print(random_int_arr)\n",
    "print(random_2d_int_arr)"
   ]
  },
  {
   "cell_type": "markdown",
   "metadata": {},
   "source": [
    "There are some useful utility like `np.random.seed` and `np.random.shuffle` which shuffles an existing array."
   ]
  },
  {
   "cell_type": "code",
   "execution_count": 29,
   "metadata": {},
   "outputs": [
    {
     "name": "stdout",
     "output_type": "stream",
     "text": [
      "[1 3 5 2 4]\n"
     ]
    }
   ],
   "source": [
    "an_array = np.array([1,2,3,4,5])\n",
    "np.random.shuffle(an_array)\n",
    "print(an_array)"
   ]
  },
  {
   "cell_type": "markdown",
   "metadata": {},
   "source": [
    "### Creating Boolean Arrays"
   ]
  },
  {
   "cell_type": "code",
   "execution_count": 12,
   "metadata": {},
   "outputs": [
    {
     "data": {
      "text/plain": [
       "array([[False, False],\n",
       "       [False,  True]])"
      ]
     },
     "execution_count": 12,
     "metadata": {},
     "output_type": "execute_result"
    }
   ],
   "source": [
    "random_2d_arr > 0.5"
   ]
  },
  {
   "cell_type": "code",
   "execution_count": 39,
   "metadata": {},
   "outputs": [
    {
     "data": {
      "text/plain": [
       "array([[ True,  True],\n",
       "       [ True,  True]])"
      ]
     },
     "execution_count": 39,
     "metadata": {},
     "output_type": "execute_result"
    }
   ],
   "source": [
    "~ (random_2d_arr == 0.6) # ~ stands for not"
   ]
  },
  {
   "cell_type": "code",
   "execution_count": 40,
   "metadata": {},
   "outputs": [
    {
     "data": {
      "text/plain": [
       "array([[False, False,  True],\n",
       "       [False,  True, False],\n",
       "       [ True, False, False]])"
      ]
     },
     "execution_count": 40,
     "metadata": {},
     "output_type": "execute_result"
    }
   ],
   "source": [
    "arr_with_nan = np.array([[0, 2, np.nan],\n",
    "                [1, np.nan, -6],\n",
    "                [np.nan, -2, 1]])\n",
    "np.isnan(arr_with_nan)"
   ]
  },
  {
   "cell_type": "markdown",
   "metadata": {},
   "source": [
    "### Copy Existing Array"
   ]
  },
  {
   "cell_type": "code",
   "execution_count": 13,
   "metadata": {},
   "outputs": [
    {
     "name": "stdout",
     "output_type": "stream",
     "text": [
      "[0.38515865 0.25097726 0.55149167 0.75063473 0.40390824]\n"
     ]
    }
   ],
   "source": [
    "random_arr_copy = random_arr.copy()\n",
    "print(random_arr_copy)"
   ]
  },
  {
   "cell_type": "markdown",
   "metadata": {},
   "source": [
    "## Miscellaneous Operations\n",
    "Reshaping a numpy array:"
   ]
  },
  {
   "cell_type": "code",
   "execution_count": 15,
   "metadata": {},
   "outputs": [
    {
     "name": "stdout",
     "output_type": "stream",
     "text": [
      "(10,)\n",
      "(2, 5)\n",
      "(5, 2)\n"
     ]
    }
   ],
   "source": [
    "shape1 = np.arange(10)\n",
    "print(shape1.shape)\n",
    "shape2 = np.reshape(shape1, (2,5))\n",
    "print(shape2.shape)\n",
    "shape1.shape = (5,2)\n",
    "print(shape1.shape)"
   ]
  },
  {
   "cell_type": "markdown",
   "metadata": {},
   "source": [
    "Transposing a numpy array"
   ]
  },
  {
   "cell_type": "code",
   "execution_count": 16,
   "metadata": {},
   "outputs": [
    {
     "data": {
      "text/plain": [
       "array([[0, 2, 4, 6, 8],\n",
       "       [1, 3, 5, 7, 9]])"
      ]
     },
     "execution_count": 16,
     "metadata": {},
     "output_type": "execute_result"
    }
   ],
   "source": [
    "np.transpose(shape1)"
   ]
  },
  {
   "cell_type": "markdown",
   "metadata": {},
   "source": [
    "We can transpose an array of n dimensions, we need to provide `axes` keyword argument."
   ]
  },
  {
   "cell_type": "markdown",
   "metadata": {},
   "source": [
    "## Math Operations\n",
    "Multiple arithmetic operations are supported between\n",
    "- scalar and array\n",
    "- array and array\n",
    "- matrix multiplication"
   ]
  },
  {
   "cell_type": "code",
   "execution_count": 17,
   "metadata": {},
   "outputs": [
    {
     "data": {
      "text/plain": [
       "array([ 1,  2,  3,  4,  5,  6,  7,  8,  9, 10])"
      ]
     },
     "execution_count": 17,
     "metadata": {},
     "output_type": "execute_result"
    }
   ],
   "source": [
    "few_numbers = np.arange(10)\n",
    "few_numbers + 1"
   ]
  },
  {
   "cell_type": "markdown",
   "metadata": {},
   "source": [
    "If we try to do operations on arrays of different dimensions we need to follow broadcasting rules. According to broadcasting rules, we can do operations between matrices having shapes as 1x2x3 and 2x3. In case the dimensions are same then one of the dimensin should be 1, 4x2 and 1x2 are compatible. "
   ]
  },
  {
   "cell_type": "code",
   "execution_count": 18,
   "metadata": {},
   "outputs": [
    {
     "data": {
      "text/plain": [
       "array([[0, 1, 2],\n",
       "       [3, 4, 5],\n",
       "       [6, 7, 8]])"
      ]
     },
     "execution_count": 18,
     "metadata": {},
     "output_type": "execute_result"
    }
   ],
   "source": [
    "A_ = np.arange(1,10).reshape((3,3))\n",
    "B_ = np.array([1, 1, 1])\n",
    "A_ - B_"
   ]
  },
  {
   "cell_type": "code",
   "execution_count": 19,
   "metadata": {},
   "outputs": [
    {
     "data": {
      "text/plain": [
       "array([[0, 1, 2],\n",
       "       [3, 4, 5],\n",
       "       [6, 7, 8]])"
      ]
     },
     "execution_count": 19,
     "metadata": {},
     "output_type": "execute_result"
    }
   ],
   "source": [
    "C_ = np.reshape(B_, (1,3))\n",
    "A_ - C_"
   ]
  },
  {
   "cell_type": "code",
   "execution_count": 24,
   "metadata": {},
   "outputs": [
    {
     "data": {
      "text/plain": [
       "array([[12],\n",
       "       [30],\n",
       "       [48]])"
      ]
     },
     "execution_count": 24,
     "metadata": {},
     "output_type": "execute_result"
    }
   ],
   "source": [
    "D_ = np.array([[2, 2, 2]]).reshape((3,1))    # matrix multiplication, dimensions must be MxN and NxP\n",
    "np.dot(A_, D_)"
   ]
  },
  {
   "cell_type": "markdown",
   "metadata": {},
   "source": [
    "Some other non-linear operations available are:\n",
    "- np.log\n",
    "- np.log2\n",
    "- np.log10\n",
    "- np.sin and other trignometric operations\n",
    "- np.exp\n",
    "- np.exp2\n",
    "\n",
    "np.e and np.pi are two available constants. Apart from these some statistical operations are also present like\n",
    "- np.min\n",
    "- np.max\n",
    "- np.sum\n",
    "- np.cumsum\n",
    "- np.mean\n",
    "- np.std\n",
    "- np.var\n",
    "The above functions also accept `axis` as argument. In a 2d array `axis = 0` means each column, whereas `axis = 1` means each row.\n",
    "\n",
    "To know the index of minimum or maximum value, use `np.argmin` and `np.argmax`"
   ]
  },
  {
   "cell_type": "code",
   "execution_count": 37,
   "metadata": {},
   "outputs": [
    {
     "name": "stdout",
     "output_type": "stream",
     "text": [
      "array([2, 0, 1], dtype=int32)\n",
      "array([2, 2, 0], dtype=int32)\n",
      "array([1, 1, 1], dtype=int32)\n"
     ]
    }
   ],
   "source": [
    "arr = np.array([[-2, -1, -3],\n",
    "                [4, 5, -6],\n",
    "                [-3, 9, 1]])\n",
    "print(repr(np.argmin(arr, axis=0)))\n",
    "print(repr(np.argmin(arr, axis=1)))\n",
    "print(repr(np.argmax(arr, axis=-1)))"
   ]
  },
  {
   "cell_type": "markdown",
   "metadata": {},
   "source": [
    "## Indexing\n",
    "Consider single dimension array as"
   ]
  },
  {
   "cell_type": "code",
   "execution_count": 32,
   "metadata": {},
   "outputs": [
    {
     "data": {
      "text/plain": [
       "array([10., 12., 14.], dtype=float32)"
      ]
     },
     "execution_count": 32,
     "metadata": {},
     "output_type": "execute_result"
    }
   ],
   "source": [
    "some_numbers = np.arange(10,21, dtype=np.float32)\n",
    "some_numbers[[0, 2, 4]]    # pick listed indices"
   ]
  },
  {
   "cell_type": "markdown",
   "metadata": {},
   "source": [
    "For multidimensional arrays,"
   ]
  },
  {
   "cell_type": "code",
   "execution_count": 35,
   "metadata": {},
   "outputs": [
    {
     "name": "stdout",
     "output_type": "stream",
     "text": [
      "[[5.         5.11111111]\n",
      " [5.22222222 5.33333333]\n",
      " [5.44444444 5.55555556]\n",
      " [5.66666667 5.77777778]\n",
      " [5.88888889 6.        ]]\n",
      "5.333333333333333\n"
     ]
    }
   ],
   "source": [
    "x = np.linspace(5,6,10)\n",
    "x.shape = (5,2)\n",
    "print(x)\n",
    "print(x[1,1])"
   ]
  },
  {
   "cell_type": "markdown",
   "metadata": {},
   "source": [
    "Similar to indexing, we can also slice multidimensional arrays. Remember that a slice is a view into the original array."
   ]
  },
  {
   "cell_type": "code",
   "execution_count": 36,
   "metadata": {},
   "outputs": [
    {
     "name": "stdout",
     "output_type": "stream",
     "text": [
      "[[5.44444444 5.55555556]\n",
      " [5.66666667 5.77777778]]\n",
      "[5.33333333 5.55555556]\n"
     ]
    }
   ],
   "source": [
    "print(x[2:4])\n",
    "print(x[1:3, 1])"
   ]
  },
  {
   "cell_type": "markdown",
   "metadata": {},
   "source": [
    "## Joining Arrays\n",
    "- vstack\n",
    "- hstack\n",
    "- row_stack: convenience function for hstack\n",
    "- column_stack: convenience function for vstack\n",
    "- concatenate"
   ]
  },
  {
   "cell_type": "code",
   "execution_count": 42,
   "metadata": {},
   "outputs": [
    {
     "name": "stdout",
     "output_type": "stream",
     "text": [
      "[[1. 1.]\n",
      " [1. 1.]\n",
      " [0. 0.]\n",
      " [0. 0.]\n",
      " [0. 0.]]\n"
     ]
    }
   ],
   "source": [
    "vs1 = np.ones((2,2))\n",
    "vs2 = np.zeros((3,2))\n",
    "vs = np.vstack((vs1, vs2))    # vs1 and vs2 must have same number of columns\n",
    "print(vs)"
   ]
  },
  {
   "cell_type": "code",
   "execution_count": 44,
   "metadata": {},
   "outputs": [
    {
     "name": "stdout",
     "output_type": "stream",
     "text": [
      "[[1. 1. 1. 0. 0. 0. 0. 0.]\n",
      " [1. 1. 1. 0. 0. 0. 0. 0.]]\n"
     ]
    }
   ],
   "source": [
    "hs1 = np.ones((2,3))\n",
    "hs2 = np.zeros((2,5))\n",
    "hs = np.hstack((hs1, hs2))    # hs1 and hs2 must have same number of rows\n",
    "print(hs)"
   ]
  },
  {
   "cell_type": "code",
   "execution_count": null,
   "metadata": {},
   "outputs": [],
   "source": []
  }
 ],
 "metadata": {
  "kernelspec": {
   "display_name": "Python 3",
   "language": "python",
   "name": "python3"
  },
  "language_info": {
   "codemirror_mode": {
    "name": "ipython",
    "version": 3
   },
   "file_extension": ".py",
   "mimetype": "text/x-python",
   "name": "python",
   "nbconvert_exporter": "python",
   "pygments_lexer": "ipython3",
   "version": "3.7.4"
  }
 },
 "nbformat": 4,
 "nbformat_minor": 4
}
