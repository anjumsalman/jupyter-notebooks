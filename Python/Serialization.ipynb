{
 "cells": [
  {
   "cell_type": "markdown",
   "metadata": {},
   "source": [
    "### Serialization Basics\n",
    "Pickling is the name of the serialization process in Python. By pickling, we can convert an object hierarchy to a binary format (usually not human readable) that can be stored."
   ]
  },
  {
   "cell_type": "markdown",
   "metadata": {},
   "source": [
    "### Pickle Package"
   ]
  },
  {
   "cell_type": "code",
   "execution_count": 1,
   "metadata": {},
   "outputs": [
    {
     "data": {
      "text/plain": "b'\\x80\\x03c__main__\\nSheep\\nq\\x00)\\x81q\\x01}q\\x02(X\\x0e\\x00\\x00\\x00number_of_pawsq\\x03K\\x04X\\x04\\x00\\x00\\x00nameq\\x04X\\x05\\x00\\x00\\x00Dollyq\\x05ub.'"
     },
     "execution_count": 1,
     "metadata": {},
     "output_type": "execute_result"
    }
   ],
   "source": [
    "import pickle\n",
    "\n",
    "class Animal():\n",
    "    def __init__(self, name, paws):\n",
    "        self.number_of_paws = paws\n",
    "        self.name = name\n",
    "        \n",
    "class Sheep(Animal):\n",
    "    def _init__(self, name, paws):\n",
    "        Animal.__init__(name, paws)\n",
    "        \n",
    "dolly = Sheep('Dolly', 4)\n",
    "pickled_dolly = pickle.dumps(dolly)\n",
    "pickled_dolly"
   ]
  },
  {
   "cell_type": "code",
   "execution_count": 3,
   "metadata": {},
   "outputs": [
    {
     "name": "stdout",
     "output_type": "stream",
     "text": [
      "Dolly\n"
     ]
    }
   ],
   "source": [
    "with open('pickling.pkl', 'wb') as f:\n",
    "    pickle.dump(dolly, f)\n",
    "    \n",
    "with open('pickling.pkl', 'rb') as f:\n",
    "    unpickled_obj = pickle.load(f)\n",
    "    print(unpickled_obj.name)"
   ]
  },
  {
   "cell_type": "markdown",
   "execution_count": null,
   "metadata": {},
   "outputs": [],
   "source": [
    "Note that `Sheep` class must be present in the module when we try to deserialize, else we'll get an error."
   ]
  },
  {
   "cell_type": "markdown",
   "metadata": {},
   "source": [
    "### What can be pickled and unpickled?\n",
    "- None, True, and False\n",
    "- integers, long integers, floating point numbers, complex numbers\n",
    "- normal and Unicode strings\n",
    "- tuples, lists, sets, and dictionaries containing only picklable objects\n",
    "- functions defined at the top level of a module\n",
    "- built-in functions defined at the top level of a module\n",
    "- classes that are defined at the top level of a module\n",
    "- instances of such classes whose __dict__ or __setstate__() is picklable\n",
    "\n",
    "Attempting to pickle unpicklable object leads to `PicklingError` exception."
   ]
  },
  {
   "cell_type": "markdown",
   "execution_count": null,
   "metadata": {},
   "outputs": [],
   "source": [
    "Use `pickletools` module to know more about how pickled files are stored."
   ]
  },
  {
   "cell_type": "code",
   "execution_count": 2,
   "metadata": {},
   "outputs": [
    {
     "name": "stdout",
     "output_type": "stream",
     "text": "0: \\x80 PROTO      3\n    2: c    GLOBAL     '__main__ Sheep'\n   18: q    BINPUT     0\n   20: )    EMPTY_TUPLE\n   21: \\x81 NEWOBJ\n   22: q    BINPUT     1\n   24: }    EMPTY_DICT\n   25: q    BINPUT     2\n   27: (    MARK\n   28: X        BINUNICODE 'number_of_paws'\n   47: q        BINPUT     3\n   49: K        BININT1    4\n   51: X        BINUNICODE 'name'\n   60: q        BINPUT     4\n   62: X        BINUNICODE 'Dolly'\n   72: q        BINPUT     5\n   74: u        SETITEMS   (MARK at 27)\n   75: b    BUILD\n   76: .    STOP\nhighest protocol among opcodes = 2\n"
    }
   ],
   "source": [
    "import pickletools\n",
    "\n",
    "pickletools.dis(pickled_dolly)"
   ]
  },
  {
   "cell_type": "markdown",
   "execution_count": null,
   "metadata": {},
   "outputs": [],
   "source": [
    "### Pickling and Security\n",
    "Pickle documentation states \"The pickle module is not intended to be secure against erroneous or maliciously con-structed data.  Never unpickle data received from an untrusted or unauthenticated source\".  \n",
    "\n",
    "When a class instance is pickled, only data specific to the instance is stored in the pickle.  This meansthat Python code and class variables are not included in the pickle stream.  \n",
    "\n",
    "The main source of pickle vulnerability is the `__reduce__` function. We know that certain objects are unpicklable like file, thread, etc. Using \\_\\_reduce\\_\\_ we can pickle such objects. The \\_\\_reduce\\_\\_ function should return a tuple whose first argument is the type of object to be constructed and rest are arguments to the first parameter. Whenever unpickling is done, the \\_\\_reduce\\_\\_ method is executed."
   ]
  },
  {
   "cell_type": "code",
   "execution_count": 4,
   "metadata": {},
   "outputs": [
    {
     "data": {
      "text/plain": "'Always this value'"
     },
     "execution_count": 4,
     "metadata": {},
     "output_type": "execute_result"
    }
   ],
   "source": [
    "class UsingReduce:\n",
    "    def __init__(self, value):\n",
    "        self.value = value\n",
    "\n",
    "    def __reduce__(self):\n",
    "        return (self.__class__, ('Always this value',))\n",
    "\n",
    "testObject = UsingReduce('test')\n",
    "\n",
    "pickledTestObject = pickle.dumps(testObject)\n",
    "unpickledTestObject = pickle.loads(pickledTestObject)\n",
    "\n",
    "unpickledTestObject.value"
   ]
  },
  {
   "cell_type": "code",
   "execution_count": 6,
   "metadata": {},
   "outputs": [],
   "source": [
    "import os\n",
    "class CmdExecutor:\n",
    "    def __reduce__(self):\n",
    "        return (os.system, ('echo HI',))\n",
    "\n",
    "# Pickle it to a file\n",
    "with open('test.pkl', 'wb') as f:\n",
    "\tpickle.dump(CmdExecutor(), f)"
   ]
  },
  {
   "cell_type": "code",
   "execution_count": 7,
   "metadata": {},
   "outputs": [],
   "source": [
    "# We can restart shell now, import pickle, no need to import os\n",
    "with open('test.pkl', 'rb') as f:\n",
    "\tpickle.load(f)  # os.system('echo Hi') executed"
   ]
  },
  {
   "cell_type": "code",
   "execution_count": null,
   "metadata": {},
   "outputs": [],
   "source": []
  }
 ],
 "metadata": {
  "kernelspec": {
   "display_name": "Python 3",
   "language": "python",
   "name": "python3"
  },
  "language_info": {
   "codemirror_mode": {
    "name": "ipython",
    "version": 3
   },
   "file_extension": ".py",
   "mimetype": "text/x-python",
   "name": "python",
   "nbconvert_exporter": "python",
   "pygments_lexer": "ipython3",
   "version": "3.7.4"
  }
 },
 "nbformat": 4,
 "nbformat_minor": 2
}