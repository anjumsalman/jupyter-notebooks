{
 "cells": [
  {
   "cell_type": "markdown",
   "metadata": {},
   "source": [
    "### The Problem\n",
    "As the number of users of an application grows, one server is not enough. We can try vertical scaling, but it has its limit. So we try to increase the number of servers. But how are requests redirected to all our servers? The answer lies in load balancer."
   ]
  },
  {
   "cell_type": "markdown",
   "metadata": {},
   "source": [
    "### Load Balancer\n",
    "Load balancer is a machine (or software) which distributes network or application traffic across a number of servers.  \n",
    "![load balancer](https://i.imgur.com/Ec37PI3.png)\n",
    "\n",
    "Load balancer can be put between application server and database servers also.  \n",
    "![db load balancer](https://i.imgur.com/PUmIOLe.png)\n",
    "\n",
    "Load balancer can be:\n",
    "- software load balancer running on client\n",
    "- software load balancer running on server\n",
    "- hardware load balancer"
   ]
  },
  {
   "cell_type": "markdown",
   "metadata": {},
   "source": [
    "### Algorithms\n",
    "Load balancers should only forward traffic to “healthy” backend servers. To monitor the health of a backend server, **health checks** regularly attempt to connect to backend servers to ensure that servers are listening. If a server fails a health check, it is automatically removed from the pool, and traffic will not be forwarded to it until it responds to the health checks again.\n",
    "\n",
    "Algorithms to determine which backend server to forward request to:\n",
    "- Round robin: requests are sequentially assigned to available servers\n",
    "- Least connections: server which has minimum number of active request\n",
    "- Least response time\n",
    "- Hash: hash based on some key, part of request\n",
    "- IP Address\n",
    "- Consistent Hashing"
   ]
  },
  {
   "cell_type": "code",
   "execution_count": null,
   "metadata": {},
   "outputs": [],
   "source": []
  }
 ],
 "metadata": {
  "kernelspec": {
   "display_name": "Python 3 (ipykernel)",
   "language": "python",
   "name": "python3"
  },
  "language_info": {
   "codemirror_mode": {
    "name": "ipython",
    "version": 3
   },
   "file_extension": ".py",
   "mimetype": "text/x-python",
   "name": "python",
   "nbconvert_exporter": "python",
   "pygments_lexer": "ipython3",
   "version": "3.11.2"
  }
 },
 "nbformat": 4,
 "nbformat_minor": 4
}
