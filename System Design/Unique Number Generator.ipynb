{
 "cells": [
  {
   "cell_type": "markdown",
   "id": "b952e8d8-788a-42b8-b11d-6db53ee69a06",
   "metadata": {},
   "source": [
    "## Overview\n",
    "We need a system that generates ids having the following characteristics:\n",
    "- contains only numeric values\n",
    "- is unique\n",
    "- is sortable\n",
    "- is 64 bits in length\n",
    "\n",
    "## Approach\n",
    "- Use a database's *auto_increment* feature. The problem is that regular RDBMS database's value consistency over availability. In this particular scenario we need a more available system.\n",
    "- Use a distributed system where each node generates UUID. UUIDs have very low probability of collision. It can be generated independently without coordination between servers. However, UUIDs are 128 bit, therefore do not meet size restriction of the problem statement. It incorporates UNIX epoch with MAC address.\n",
    "- Snowflake ID\n",
    "\n",
    "## Snowflake ID\n",
    "Uses 64 bits and requires no coordination between servers like UUID.  \n",
    "<img src=\"images/snowflake_id.png\" />\n",
    "\n",
    "**Reserved bit:** 1 bit at the start set to 0.  \n",
    "**Timestamp:** number of milliseconds passed since a given epoch. Unix epoch needs starts at January 1st 1970. Snowflake IDs at Discord use custom epoch starting on Jan 1st 2015. 41 bits can last for 69 years.  \n",
    "**Datacenter and Machine IDs:** 32 unique combinations of each  \n",
    "**Sequence:** 12 bits to represent incrementing number, is reset every millisecond. 12 bits means 4096 unique IDs per millisecond.\n",
    "\n",
    "## UUID\n",
    "Though UUIDs don't fulfill the criteria mentioned, it is worthwhile to discuss them. UUIDs are 128 bits in size and have extremely low probability of duplicating. UUIDs are referred to as GUID in Microsoft systems. UUIDs don't require coordination between nodes in a distributed system to remain unique. There are multiple versions as documented below:\n",
    "\n",
    "### Version 1 and 6\n",
    "Are time and MAC based. Components:\n",
    "- 48 bits of MAC address.\n",
    "- 60 bits of timestamp. The timestamp is the number of 100-nanosecond intervals since midnight 15 October 1582. This is divided into:\n",
    "  - time_low: 32 or 12 bits of low field of the timestamp\n",
    "  - time_mid: 16 bits of middle field of the timestamp\n",
    "  - time_high: 12 or 32 bits of high field of timestamp\n",
    "- 14 bits of clock sequence, which starts at a random number and goes up by one if time goes backwards, to ensure that things like clock drift or leap seconds don't lead to collisions. (It reserves 16 bits).\n",
    "- 4 bits for version\n",
    "\n",
    "UUID v6 is newer and is sortable. Both are bad in terms of privacy since it contains MAC address. \n",
    "\n",
    "Java doesn't provide a built-in way to generte UUID v1 and v6.\n",
    "\n",
    "![UUID v1 and v6](./images/UUID_v1_v6.png)\n",
    "\n",
    "### Version 2\n",
    "Very similar to v1, but not used often.\n",
    "\n",
    "### Version 3 and 5\n",
    "Are based on hashing some data like DNS or URL. Version 3 uses MD5 whereas version 5 uses SHA1. These are deterministic and name based.\n",
    "\n",
    "Java doesn't provide a built-in way to generte UUID v3 and v5.\n",
    "\n",
    "### Version 4\n",
    "Is composed of entirely random bits. Components:\n",
    "- 4 bits for version\n",
    "- 2 bits for variant\n",
    "- 122 bits of random data\n",
    "\n",
    "Version 4 is usually the version meant when talking about UUIDs. It can be generated in Java as:"
   ]
  },
  {
   "cell_type": "code",
   "execution_count": 1,
   "id": "f6b40591-b83e-4ed6-9bcf-1a7ed35ced8a",
   "metadata": {},
   "outputs": [
    {
     "name": "stdout",
     "output_type": "stream",
     "text": [
      "27c0b626-cd0e-4225-81aa-87af6082aa6b\n"
     ]
    }
   ],
   "source": [
    "import java.util.UUID;\n",
    "\n",
    "UUID uuid = UUID.randomUUID();\n",
    "System.out.println(uuid);"
   ]
  },
  {
   "cell_type": "markdown",
   "id": "406a3d0a-f2a0-4ab4-ae1a-0fa38e5d6907",
   "metadata": {},
   "source": [
    "![UUID v4](./images/UUID_v4.png)"
   ]
  },
  {
   "cell_type": "markdown",
   "id": "bd914bca-e043-41c6-929e-881ba168b6a6",
   "metadata": {},
   "source": [
    "### Version 7\n",
    "Designed specifically to be used in distributed environments and databases. Like v1 and v6, this is also time based, but uses UNIX epoch instead. The other difference is that the node component is replaced with random data. This is also sortable like UUID v6."
   ]
  },
  {
   "cell_type": "code",
   "execution_count": null,
   "id": "cb6d4b21-507a-497b-b97d-0bf368949aed",
   "metadata": {},
   "outputs": [],
   "source": []
  }
 ],
 "metadata": {
  "kernelspec": {
   "display_name": "Java",
   "language": "java",
   "name": "java"
  },
  "language_info": {
   "codemirror_mode": "java",
   "file_extension": ".jshell",
   "mimetype": "text/x-java-source",
   "name": "Java",
   "pygments_lexer": "java",
   "version": "21.0.2+13-58"
  }
 },
 "nbformat": 4,
 "nbformat_minor": 5
}
