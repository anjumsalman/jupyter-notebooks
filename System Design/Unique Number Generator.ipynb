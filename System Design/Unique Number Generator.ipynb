{
 "cells": [
  {
   "cell_type": "markdown",
   "id": "b952e8d8-788a-42b8-b11d-6db53ee69a06",
   "metadata": {},
   "source": [
    "## Overview\n",
    "We need a system that generates ids having the following characteristics:\n",
    "- contains only numeric values\n",
    "- is unique\n",
    "- is sortable\n",
    "- is 64 bits in length\n",
    "\n",
    "## Approach\n",
    "- Use a database's *auto_increment* feature. The problem is that regular RDBMS database's value consistency over availability. In this particular scenario we need a more available system.\n",
    "- Use a distributed system where each node generates UUID. UUIDs have very low probability of collision. It can be generated independently without coordination between servers. However, UUIDs are 128 bit, therefore do not meet size restriction of the problem statement. It incorporates UNIX epoch with MAC address.\n",
    "- Snowflake ID\n",
    "\n",
    "## Snowflake ID\n",
    "Uses 64 bits and requires no coordination between servers like UUID.  \n",
    "<img src=\"images/snowflake_id.png\" />\n",
    "\n",
    "**Reserved bit:** 1 bit at the start set to 0.  \n",
    "**Timestamp:** number of milliseconds passed since a given epoch. Unix epoch needs starts at January 1st 1970. Snowflake IDs at Discord use custom epoch starting on Jan 1st 2015. 41 bits can last for 69 years.  \n",
    "**Datacenter and Machine IDs:** 32 unique combinations of each  \n",
    "**Sequence:** 12 bits to represent incrementing number, is reset every millisecond. 12 bits means 4096 unique IDs per millisecond."
   ]
  },
  {
   "cell_type": "code",
   "execution_count": null,
   "id": "58aa5346-3a88-46c0-a5e9-b1d60dbc45fe",
   "metadata": {},
   "outputs": [],
   "source": []
  }
 ],
 "metadata": {
  "kernelspec": {
   "display_name": "Java",
   "language": "java",
   "name": "java"
  },
  "language_info": {
   "codemirror_mode": "java",
   "file_extension": ".jshell",
   "mimetype": "text/x-java-source",
   "name": "Java",
   "pygments_lexer": "java",
   "version": "21.0.1+12-29"
  }
 },
 "nbformat": 4,
 "nbformat_minor": 5
}
