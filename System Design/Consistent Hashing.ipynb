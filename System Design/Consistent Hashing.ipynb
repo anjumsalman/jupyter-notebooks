{
 "cells": [
  {
   "cell_type": "markdown",
   "metadata": {},
   "source": [
    "### The Problem\n",
    "In a simplistic architecture, the request from a client goes to any of the $N$ servers using the simple calculation $hash(request)\\ \\%\\ N$. There are many reasons why we would want same request (request with similar characteristics) to go to the same server. The server may be holding some cache that corresponds to the resource key in request. The server may be storing the session corresponding to the request.So it is clear that if we add a new server or remove a new server we cannot change our distribution calculation to $hash(request)\\ \\%\\ (N+1)$.  \n",
    "\n",
    "We can also look it in terms of database. Suppose we have $N$ database servers, each storing key-value pair of information. Which server stores which key-value pair is again calculated by $hash(key)\\ \\%\\ N$ .  \n",
    "![db](https://i.imgur.com/Xn2Loly.png)  \n",
    "\n",
    "If second database dies then there will be a lot of redistribution of data. 100% of the databases need to be updated.\n",
    "![db removed](https://i.imgur.com/5zXG1Gd.png)\n",
    "\n",
    "Similarly, if we added a new database,\n",
    "![db added](https://i.imgur.com/lJ0vAdZ.png)"
   ]
  },
  {
   "cell_type": "markdown",
   "metadata": {},
   "source": [
    "### Consistent Hashing\n",
    "Consistent hashing facilitates the distribution of data across a set of nodes in such a way that minimizes the re-mapping/ reorganization of data when nodes are added or removed.  \n",
    "\n",
    "**Hash Function:** we take a hash function which distributes hash across a large space, $hash(x) = y$, where $y$ is a large number.  \n",
    "**Hash Ring:** the hash value is represented in form of ring as shown below:  \n",
    "![ring](https://i.imgur.com/eFQc813.png)\n",
    "\n",
    "Next we have to place our database servers in the ring. So we hash the databases using the choosen hashing function. $hash(ip\\_address)$.\n",
    "![db ring](https://i.imgur.com/sFaNJDJ.png)\n",
    "\n",
    "One a query for a key (or a key needs to be inserted), the same hashing function calculates the hash for that key and it is placed on the ring. The first database after the key hash found in counter clock direction is the database corresponding to the key.  \n",
    "![key ring](https://i.imgur.com/JEDPCtC.png)  \n",
    "\n",
    "If a database is removed, then only the keys corresponding to the removed server need to be updated.\n",
    "![removed](https://i.imgur.com/iNNv4h1.png)\n",
    "\n",
    "If the database server is added,\n",
    "![added](https://i.imgur.com/qpYfnnE.png)"
   ]
  },
  {
   "cell_type": "markdown",
   "metadata": {},
   "source": [
    "### Add Nodes\n",
    "The problem with the above approach is that distribution of the database servers on the ring may be very skewed. For example:  \n",
    "![non-uniform](https://i.imgur.com/ztlNuZ1.png)\n",
    "Database server 1 gets the most load. To make sure that all servers get roughly the same load, we have to increase the number of servers. So we introduce virtual database servers. Each server has equal number of copies of the database server.  \n",
    "![virtual nodes](https://i.imgur.com/nmzT6gG.png)\n",
    "\n",
    "Now whenever we remove or add database servers, load gets distributed roughly equally among all other servers."
   ]
  },
  {
   "cell_type": "markdown",
   "metadata": {},
   "source": [
    "### Implementation\n",
    "Server class:"
   ]
  },
  {
   "cell_type": "code",
   "execution_count": 1,
   "metadata": {},
   "outputs": [],
   "source": [
    "class Server:\n",
    "    def __init__(self, ip):\n",
    "        self.ip = ip"
   ]
  },
  {
   "cell_type": "code",
   "execution_count": null,
   "metadata": {},
   "outputs": [],
   "source": [
    "import md5\n",
    "class HashRing:\n",
    "    def __init__(self, replicas=100):\n",
    "        self.replicas = replicas\n",
    "        \n",
    "        # Storage for servers\n",
    "        self.nodes = {}\n",
    "        \n",
    "        # Storage for keys\n",
    "        self.keys = []\n",
    "        \n",
    "    def hash_key(self, key):\n",
    "        return long(md5.md5(key).hexdigest, 16)\n",
    "    \n",
    "    def replica_hashes(self, server_ip):\n",
    "        return (self.hash_key(server_ip + i) for i in range(replicas))\n",
    "    \n",
    "    def __setitem__(self, server_ip, server):\n",
    "        for h in self.replica_hashes(server_ip):\n",
    "            # Check if server is already present in the ring\n",
    "            if h in self.nodes:\n",
    "                raise ValueError('Server already added')\n",
    "            \n",
    "            self.nodes[h] = server\n",
    "            \n",
    "    def __getitem__(self, key):\n",
    "        # Get hash for the key\n",
    "        h = self.hash_key(key)"
   ]
  }
 ],
 "metadata": {
  "kernelspec": {
   "display_name": "Python 3",
   "language": "python",
   "name": "python3"
  },
  "language_info": {
   "codemirror_mode": {
    "name": "ipython",
    "version": 3
   },
   "file_extension": ".py",
   "mimetype": "text/x-python",
   "name": "python",
   "nbconvert_exporter": "python",
   "pygments_lexer": "ipython3",
   "version": "3.7.4"
  }
 },
 "nbformat": 4,
 "nbformat_minor": 4
}
