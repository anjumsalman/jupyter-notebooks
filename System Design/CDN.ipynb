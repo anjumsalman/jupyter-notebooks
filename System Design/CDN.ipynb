{
 "cells": [
  {
   "cell_type": "markdown",
   "id": "bb15489f-8ef9-4bbe-86d3-12f4a75579bb",
   "metadata": {},
   "source": [
    "## Introduction\n",
    "A content delivery network (CDN) is a globally distributed network of proxy servers, serving content from locations closer to the user. Generally, static files such as HTML/CSS/JS, photos, and videos are served from CDN, although some CDNs such as Amazon's CloudFront support dynamic content.\n",
    "\n",
    "CDN helps in two ways:\n",
    "- decreases response time, since request is served from server closer to the user\n",
    "- lowers load on server since lot of data is served from the CDN instead"
   ]
  },
  {
   "cell_type": "markdown",
   "id": "43ce216e-88ca-44bf-a250-58246bb65ade",
   "metadata": {},
   "source": [
    "## Pull vs Push CDN\n",
    "In a **pull** configuration the very first request that arrives to the server is not directly served by the CDN, since it doesn't have the static contents yet. During this first request, the CDN “pulls” the images and so forth to CDN server nearest to the user from te actual service's server. A time-to-live (TTL) determines how long content is cached on the CDN - this can however create redundant traffic if files expire and are pulled before they have actually changed.\n",
    "\n",
    "In **push** CDNs, we push ou static assets to the CDN beforehand. Content is placed on the CDNs once, instead of being re-pulled at regular intervals. It may seem like a push CDN is superior to a pull, but that’s not always the case.\n",
    "\n",
    "In general, a pull CDN is much easier to configure than a push CDN. Once initially configured, a pull CDN rather seamlessly stores and updates content on its servers as its requested."
   ]
  },
  {
   "cell_type": "code",
   "execution_count": null,
   "id": "cd93e819-0284-4c7b-987b-e16440b3b360",
   "metadata": {},
   "outputs": [],
   "source": []
  }
 ],
 "metadata": {
  "kernelspec": {
   "display_name": "Java",
   "language": "java",
   "name": "java"
  },
  "language_info": {
   "codemirror_mode": "java",
   "file_extension": ".jshell",
   "mimetype": "text/x-java-source",
   "name": "Java",
   "pygments_lexer": "java",
   "version": "17.0.5+9-LTS-191"
  }
 },
 "nbformat": 4,
 "nbformat_minor": 5
}
