{
 "cells": [
  {
   "cell_type": "markdown",
   "id": "70c0996e-3b5a-414f-88cd-9460588c8842",
   "metadata": {},
   "source": [
    "## Overview\n",
    "We need to create an application that takes a URL as input and return a shorter URL in length. For example, if we have an input URL like `https://photos.google.com/?pli=1`, the shortener would return something like `https://sh.rt/30b895e`.\n",
    "\n",
    "The system should have the following characteristics:\n",
    "- 100 million URLs generated per day\n",
    "- Length of shortened URL should be as short as possible\n",
    "- The shortened URL can contain both alphabets and numbers\n",
    "\n",
    "The system should support the following two operations:\n",
    "- Given a URL, return shortened URL\n",
    "- Given a shortened URL, redirect it to the original URL\n",
    "\n",
    "## Calculations\n",
    "100 million URLs generated per day. This equals:\n",
    "- $\\frac{100000000}{24\\times3600} = 1160/s$\n",
    "- $36500000000/year$\n",
    "\n",
    "Assuming $10:1$ read-write ratio, the system would serve reads $11600/s$.\n",
    "\n",
    "In terms of storage, lets assume an average URL to be 100 characters long and each character taking 1 byte (assuming ASCII character-set). Therefore, we would need $36500000000\\times1$ bytes, which equals $365$TB.\n",
    "\n",
    "## API Design\n",
    "Both the operations would be served by two APIs. To shorten a URL, our application would expose the following API:\n",
    "- `POST https://sh.rt/api/v1/short-url` accepting body `{ \"url\": \"https://photos.google.com/?pli=1\" }`\n",
    "- Response would be status 201 with response body `{ \"url\": \"https://photos.google.com/?pli=1\", \"shortURL\": \"https://sh.rt/30b895e\" }`\n",
    "\n",
    "The read operation would be realised by `GET https://sh.rt/30b895e`. Our system can respond with:\n",
    "- Status 301 (permanently moved), with `location` header containing `https://photos.google.com/?pli=1`. When browser receives status 301, it also caches the location header. Subsequent requests would get redirected by the browser itself. Request would not reach our server. This is preferred if we want to keep server load less.\n",
    "- Status 302 (temporarily moved) doesn't lead to any caching by the browser. Subsequent request gets served by the server. This is preferred if analytics is important.\n",
    "\n",
    "## Operation In Details\n",
    "### Shorten URL\n",
    "A simplistic implementation would involve a map which has the shortened URL key as the map key and the original URL as the value. A hash function would convert the original URL to the shortened URL key.\n",
    "\n",
    "<img src=\"images/hash_url.png\"/>\n",
    "\n",
    "An in-memory map is not feasible since we have requirement of 3.65TB per year. We can possibly explore distributed key value stores like Cassandra. However, lets stick to RDBMS for this example. We propose the following DB schema:\n",
    "\n",
    "<img src=\"images/hash_db_schema.png\"/>\n",
    "\n",
    "Lets focus on hash function. We have total of 62 choices *a-z*, *A-Z* and *0-9*. Therefore we need to calculate:\n",
    "$$62^n = 365000000000$$\n",
    "$$n = \\log_{62}(365000000000) \\approx 7$$\n",
    "\n",
    "Therefore, we need total of 7 characters. There are two ways to generate the shortened URL:  \n",
    "**Hash + Collision Resolution:** Lets evaluate a few hash functions:  \n",
    "<img src=\"images/hash_fn.png\"/>\n",
    "\n",
    "CRC32 looks to be a good choice, though it is 8 characters long (1 more than required). We can pick the first 7 characters, though it will increase the probability of hash collision. So how do we resolve collisions? One way is to recursively add extra characters. For example, if the original URL was `http://www.google.com` and it leads to collision, we change the URL to `(http://www.google.com)`.\n",
    "\n",
    "<img src=\"images/flowchart_shorten.png\"/>\n",
    "\n",
    "**Base-62 Conversion:** there are 62 possible characters that we can use for the shortened URL, therefore base-62 is another way to generate the shortened URL. In this system, we map a character to a number.\n",
    "\n",
    "<img src=\"images/base62.png\" />\n",
    "We first generate a unique number corresponding to the number and then base62 convert the number. As the generated number is unique, we don't have to worry about collision. The downside is that we can generate the next possible URL easily."
   ]
  },
  {
   "cell_type": "markdown",
   "id": "0c411b49-7e06-4203-885f-c158ac95a81c",
   "metadata": {},
   "source": [
    "### Redirect\n",
    "<img src=\"images/redirect.png\" />"
   ]
  },
  {
   "cell_type": "code",
   "execution_count": null,
   "id": "8edf281a-2add-4ae6-869c-112eb368b13e",
   "metadata": {},
   "outputs": [],
   "source": []
  }
 ],
 "metadata": {
  "kernelspec": {
   "display_name": "Java",
   "language": "java",
   "name": "java"
  },
  "language_info": {
   "codemirror_mode": "java",
   "file_extension": ".jshell",
   "mimetype": "text/x-java-source",
   "name": "Java",
   "pygments_lexer": "java",
   "version": "21.0.1+12-29"
  }
 },
 "nbformat": 4,
 "nbformat_minor": 5
}
