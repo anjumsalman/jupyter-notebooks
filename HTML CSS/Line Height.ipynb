{
 "cells": [
  {
   "cell_type": "markdown",
   "metadata": {},
   "source": [
    "## Line Height"
   ]
  },
  {
   "cell_type": "markdown",
   "metadata": {},
   "source": [
    "Before jumping to line height it is important to know about the **font-size** property. The below text discusses the font-size property.\n",
    "\n",
    "### Font Size\n",
    "One thing to note is that font-size: 100px does not create elements with 100px height. Different font-families, same font-size, give various heights.\n",
    "\n",
    "![Font Metrics](https://i.stack.imgur.com/ntg5f.png \"Font Metrics\")\n",
    "\n",
    "The actual size of the font therefore can be bigger/smaller depending upon the ascender/descender heights set by the font author.\n",
    "\n",
    "![Same size different fonts](https://iamvdo.me/content/01-blog/30-css-avance-metriques-des-fontes-line-height-et-vertical-align/font-size-line-height.png \"Same size different fonts\")\n",
    "\n",
    "### Line Height\n",
    "Consider a line. The height of the line maybe equal to, less than or greater than point size depending upon the value. Line height set to 1 means the height of line will be equal to font-size. Now depending upon the font, this may look cramped or airy, since point size is not equal to font-size.\n",
    "\n",
    "To get a better idea of what line-height is consider the below image:\n",
    "\n",
    "![Line height](https://iamvdo.me/content/01-blog/30-css-avance-metriques-des-fontes-line-height-et-vertical-align/line-height-yes-no.png \"Line height\")\n",
    "\n",
    "As can be seen above, the font content area (of height point size) is in the middle of the line area.\n",
    "\n",
    "In case a line has multiple font sizes, line height becomes a bit more complex, refer to https://iamvdo.me/en/blog/css-font-metrics-line-height-and-vertical-align\n",
    "\n",
    "### Use Case\n",
    "Line height can be used to center a sigle line inside a div, just set the div's height and line-height as equal."
   ]
  },
  {
   "cell_type": "code",
   "execution_count": null,
   "metadata": {},
   "outputs": [],
   "source": []
  }
 ],
 "metadata": {
  "kernelspec": {
   "display_name": "Python 3",
   "language": "python",
   "name": "python3"
  },
  "language_info": {
   "codemirror_mode": {
    "name": "ipython",
    "version": 3
   },
   "file_extension": ".py",
   "mimetype": "text/x-python",
   "name": "python",
   "nbconvert_exporter": "python",
   "pygments_lexer": "ipython3",
   "version": "3.6.7"
  }
 },
 "nbformat": 4,
 "nbformat_minor": 2
}
