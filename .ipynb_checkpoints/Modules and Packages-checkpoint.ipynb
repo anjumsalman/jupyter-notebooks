{
 "cells": [
  {
   "cell_type": "markdown",
   "metadata": {},
   "source": [
    "## Modules"
   ]
  },
  {
   "cell_type": "markdown",
   "metadata": {},
   "source": [
    "A Python module is just a python file. The name of the module is the name of the python file. Consider two python files, payments.py and database.py in the same directory.\n",
    "```python\n",
    "# payments.py\n",
    "\n",
    "import database\n",
    "\n",
    "db = database.Database() # where Database is a class\n",
    "```\n",
    "\n",
    "from keyword can also be used.\n",
    "```python\n",
    "# payments.py\n",
    "\n",
    "from database import Database\n",
    "\n",
    "db = Database()\n",
    "```\n",
    "\n",
    "Never do ```from module import *```. It makes namespace dirty."
   ]
  },
  {
   "cell_type": "markdown",
   "metadata": {},
   "source": [
    "## Packages"
   ]
  },
  {
   "cell_type": "markdown",
   "metadata": {},
   "source": [
    "A package is a directory with a ```__init__.py``` file and other modules. The ```__init__.py``` file can be empty. Consider the following directory structure:\n",
    "```\n",
    "/\n",
    "|__ main.py\n",
    "|__ ecommerce\n",
    "        |__ __init__.py\n",
    "        |__ database.py\n",
    "        |__ products.py\n",
    "        |__ ecommerce_main.py\n",
    "        |__ payments\n",
    "                |__ __init__.py\n",
    "                |__ square.py\n",
    "                |__ stripe.py\n",
    "                |__ payments_main.py\n",
    "                \n",
    "```\n",
    "To access Product class present inside products module, in main.py\n",
    "```python\n",
    "import ecommerce.products\n",
    "\n",
    "product = ecommerce.products.Product()\n",
    "```\n",
    "Or\n",
    "```python\n",
    "from ecommerce.products import Product\n",
    "\n",
    "product = Product()\n",
    "```\n",
    "Or\n",
    "```python\n",
    "from ecommerce import products\n",
    "\n",
    "product = products.Product()\n",
    "```\n",
    "        \n",
    "In products.py if we want to access Database class inside database.py,\n",
    "```python\n",
    "from .database import Database\n",
    "```\n",
    "\n",
    "Similarly in square.py to access Database. Both square.py and products\n",
    "```python\n",
    "from ..database import Database\n",
    "```\n",
    "\n",
    "Note that in ecommerce_main.py we cannot write ``` from .database import Database``` and **run the script**. In that case ```__name__``` is set as ```__main__```. Python is unable to figure out the package structure. However if we import ecommerce_min.py in some other script (main.py), the previous code would work fine. In that case ```__name__``` would be set as the name of the module."
   ]
  },
  {
   "cell_type": "markdown",
   "metadata": {},
   "source": [
    "## \\__init__.py"
   ]
  },
  {
   "cell_type": "markdown",
   "metadata": {},
   "source": [
    "Suppose the Database class is needed frequently. It would be cumbersome to write ``` from ecommerce.database import Database``` all the time. We can shorten it to ``` from ecommerce import Database```. Open \\__init__.py and write one line ``` from .database import Database```"
   ]
  },
  {
   "cell_type": "markdown",
   "metadata": {},
   "source": [
    "## Circular Imports"
   ]
  },
  {
   "cell_type": "markdown",
   "metadata": {},
   "source": [
    "Consider 2 programs:\n",
    "```python\n",
    "# c1.py\n",
    "from c2 import c2Hi\n",
    "\n",
    "def c1Hi():\n",
    "    print('Hi from c1')\n",
    "\n",
    "c2Hi()\n",
    "```\n",
    "And\n",
    "```python\n",
    "# c2.py\n",
    "from c1 import c1Hi\n",
    "\n",
    "def c2Hi():\n",
    "    print('Hello from c2')\n",
    "\n",
    "c1Hi()\n",
    "```\n",
    "Both the programs are dependent upon each other. This is a case of circular dependency. This will lead to error."
   ]
  },
  {
   "cell_type": "code",
   "execution_count": null,
   "metadata": {},
   "outputs": [],
   "source": []
  }
 ],
 "metadata": {
  "kernelspec": {
   "display_name": "Python 3",
   "language": "python",
   "name": "python3"
  },
  "language_info": {
   "codemirror_mode": {
    "name": "ipython",
    "version": 3
   },
   "file_extension": ".py",
   "mimetype": "text/x-python",
   "name": "python",
   "nbconvert_exporter": "python",
   "pygments_lexer": "ipython3",
   "version": "3.6.2"
  }
 },
 "nbformat": 4,
 "nbformat_minor": 2
}
