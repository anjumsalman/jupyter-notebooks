{
 "cells": [
  {
   "cell_type": "markdown",
   "metadata": {},
   "source": [
    "## Creating new thread"
   ]
  },
  {
   "cell_type": "markdown",
   "metadata": {},
   "source": [
    "Either extend **Thread** class or implement **Runnable** interface."
   ]
  },
  {
   "cell_type": "code",
   "execution_count": 4,
   "metadata": {},
   "outputs": [
    {
     "name": "stdout",
     "output_type": "stream",
     "text": [
      "Thread created!\n",
      "Thread alive?false\n"
     ]
    }
   ],
   "source": [
    "class MyThread extends Thread{\n",
    "    public void run(){\n",
    "        System.out.println(\"Thread created!\");\n",
    "    }\n",
    "}\n",
    "\n",
    "MyThread t = new MyThread();\n",
    "t.start();\n",
    "System.out.println(\"Thread alive?\" + t.isAlive());"
   ]
  },
  {
   "cell_type": "code",
   "execution_count": 5,
   "metadata": {},
   "outputs": [
    {
     "name": "stdout",
     "output_type": "stream",
     "text": [
      "Thread created!\n",
      "Thread alive?false\n"
     ]
    }
   ],
   "source": [
    "class MyThread implements Runnable{\n",
    "    public void run(){\n",
    "        System.out.println(\"Thread created!\");\n",
    "    }\n",
    "}\n",
    "\n",
    "Thread t = new Thread(new MyThread());\n",
    "t.start();\n",
    "System.out.println(\"Thread alive?\" + t.isAlive());"
   ]
  },
  {
   "cell_type": "code",
   "execution_count": null,
   "metadata": {},
   "outputs": [],
   "source": []
  }
 ],
 "metadata": {
  "kernelspec": {
   "display_name": "Java",
   "language": "java",
   "name": "java"
  },
  "language_info": {
   "codemirror_mode": "java",
   "file_extension": ".java",
   "mimetype": "text/x-java-source",
   "name": "Java",
   "pygments_lexer": "java",
   "version": "9+181"
  }
 },
 "nbformat": 4,
 "nbformat_minor": 2
}
