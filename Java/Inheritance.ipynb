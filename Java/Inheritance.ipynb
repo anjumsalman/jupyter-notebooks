{
 "cells": [
  {
   "cell_type": "markdown",
   "metadata": {},
   "source": [
    "### Inheritance Basics\n",
    "A class can inherit from one class. `private` attributes and methods are not inherited. `protected` members are same as private except that they can be inherited."
   ]
  },
  {
   "cell_type": "markdown",
   "metadata": {},
   "source": [
    "```java\n",
    "class Person{\n",
    "\tprotected String name;\n",
    "\tprotected int age;\n",
    "\tprotected char gender;\n",
    "\t\n",
    "\tPerson(){\n",
    "\t\tname = \"Undefined\";\n",
    "\t\tage = 0;\n",
    "\t\tgender = 'U';\n",
    "\t}\n",
    "\t\n",
    "\tPerson(String name, int age, char gender){\n",
    "\t\tthis.name = name;\n",
    "\t\tthis.age = age;\n",
    "\t\tthis.gender = gender;\n",
    "\t}\n",
    "}\n",
    "\n",
    "class Employee extends Person{\n",
    "\tprotected int empId;\n",
    "\tprotected String dept;\n",
    "\t\n",
    "\tEmployee(int empId, String dept){\n",
    "\t\t// super() implicitly being called\n",
    "\t\tthis.empId = empId;\n",
    "\t\tthis.dept = dept;\n",
    "\t}\n",
    "\t\n",
    "\t// Since super() and this() need to be the first statement,\n",
    "\t// can't use them both inside constructor\n",
    "\tEmployee(String name, int age, char gender, \n",
    "\t\t\tint empId, String dept){\n",
    "\t\tsuper(name, age, gender);\n",
    "\t\tthis.empId = empId;\n",
    "\t\tthis.dept = dept;\n",
    "\t}\n",
    "}\n",
    "```"
   ]
  },
  {
   "cell_type": "markdown",
   "metadata": {},
   "source": [
    "### Method Overriding\n",
    "`Method signature` is name of the method and its parameter list. In case of method overriding, signature must be the same. Below code block lists some scenarios"
   ]
  },
  {
   "cell_type": "markdown",
   "metadata": {},
   "source": [
    "```java\n",
    "class A{\n",
    "\tprotected void sayHi() {\n",
    "\t\tSystem.out.println(\"Hi from A\");\n",
    "\t}\n",
    "\t\n",
    "\tpublic A getNew() {\n",
    "\t\treturn new A();\n",
    "\t}\n",
    "\t\n",
    "}\n",
    "\n",
    "class B extends A{\n",
    "\t\n",
    "\t// Subclass implementation can have less or same restrictive\n",
    "\t// visibility. If super class is protected then subclass can\n",
    "\t// be protected, package protected or public\n",
    "\t@Override\n",
    "\tpublic void sayHi() {\n",
    "\t\tSystem.out.println(\"Hi from B\");\n",
    "\t}\n",
    "\t\n",
    "\t// If in superclass return type is a) void, then subclass return\n",
    "\t// type must be void b) primitive type, then subclass return type\n",
    "\t// must be primitive (int and Integer doesn't work) c) reference\n",
    "\t// type, then any reference type subclasses work\n",
    "\t@Override\n",
    "\tpublic B getNew() {\n",
    "\t\treturn new B();\n",
    "\t}\n",
    "\t\n",
    "\t// === Exception and Overriding ===\n",
    "\t// a) If superclass method doesn't throw a checked exception, then\n",
    "\t// overriding method can't throw a checked exception\n",
    "\t// b) Subclass method can throw exceptions which are same or subtype\n",
    "\t// of parent method's exception. Or it can ignore throwing exception.\n",
    "\n",
    "}\n",
    "```"
   ]
  },
  {
   "cell_type": "markdown",
   "metadata": {},
   "source": [
    "`static methods` can't be overridden in Java."
   ]
  },
  {
   "cell_type": "code",
   "execution_count": null,
   "metadata": {},
   "outputs": [],
   "source": []
  }
 ],
 "metadata": {
  "kernelspec": {
   "display_name": "Java",
   "language": "java",
   "name": "java"
  },
  "language_info": {
   "codemirror_mode": "java",
   "file_extension": ".java",
   "mimetype": "text/x-java-source",
   "name": "Java",
   "pygments_lexer": "java",
   "version": "9+181"
  }
 },
 "nbformat": 4,
 "nbformat_minor": 2
}
