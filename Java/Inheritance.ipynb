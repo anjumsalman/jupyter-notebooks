{
 "cells": [
  {
   "cell_type": "markdown",
   "metadata": {},
   "source": [
    "### Inheritance Basics\n",
    "A subclass inherits all the members (fields, methods, and nested classes) from its superclass. Constructors are not members, so they are not inherited by subclasses. `private` memebers are not inherited."
   ]
  },
  {
   "cell_type": "code",
   "execution_count": null,
   "metadata": {},
   "outputs": [],
   "source": [
    "class Person {\n",
    "    protected String name;\n",
    "    protected int age;\n",
    "    protected char gender;\n",
    "\n",
    "    Person() {\n",
    "        name = \"Undefined\";\n",
    "        age = 0;\n",
    "        gender = 'U';\n",
    "    }\n",
    "\n",
    "    Person(String name, int age, char gender) {\n",
    "        this.name = name;\n",
    "        this.age = age;\n",
    "        this.gender = gender;\n",
    "    }\n",
    "}\n",
    "\n",
    "class Employee extends Person {\n",
    "    protected int empId;\n",
    "    protected String dept;\n",
    "\n",
    "    Employee(int empId, String dept) {\n",
    "        // super() implicitly being called\n",
    "        this.empId = empId;\n",
    "        this.dept = dept;\n",
    "    }\n",
    "\n",
    "    // Since super() and this() need to be the first statement,\n",
    "    // can't use them both inside constructor\n",
    "    Employee(String name, int age, char gender, \n",
    "            int empId, String dept) {\n",
    "        super(name, age, gender);\n",
    "        this.empId = empId;\n",
    "        this.dept = dept;\n",
    "    }\n",
    "}"
   ]
  },
  {
   "cell_type": "markdown",
   "metadata": {},
   "source": [
    "We can use the inherited members as is, replace them, hide them, or supplement them with new members:\n",
    "- The inherited fields can be used directly, just like any other fields.\n",
    "- We can declare a field in the subclass with the same name as the one in the superclass, thus hiding it (not recommended).\n",
    "- We can declare new fields in the subclass that are not in the superclass.\n",
    "- The inherited methods can be used directly as they are.\n",
    "- We can write a new instance method in the subclass that has the same signature as the one in the superclass, thus overriding it.\n",
    "- We can write a new static method in the subclass that has the same signature as the one in the superclass, thus hiding it. (Remember `super` cannot be used in static context)\n",
    "- We can declare new methods in the subclass that are not in the superclass.\n",
    "- We can write a subclass constructor that invokes the constructor of the superclass, either implicitly or by using the keyword `super`.\n",
    "\n",
    "If the parent class doesn't have zero-arg constructor, the child class must explicitly call parent class' other constructor in each of its own constructors.\n",
    "\n",
    "If a class B located in package `pkgB` inherits a class A in `pkgA` then only public or protected members of parent class A is available to class B."
   ]
  },
  {
   "cell_type": "markdown",
   "metadata": {},
   "source": [
    "### Method Overriding\n",
    "`Method signature` is name of the method and its parameter list. In case of method overriding, signature must be the same. Below code block lists some scenarios"
   ]
  },
  {
   "cell_type": "code",
   "execution_count": null,
   "metadata": {},
   "outputs": [],
   "source": [
    "class A{\n",
    "    protected void sayHi() {\n",
    "        System.out.println(\"Hi from A\");\n",
    "    }\n",
    "\n",
    "    public A getNew() {\n",
    "        return new A();\n",
    "    }\n",
    "\n",
    "    private void privateMethod(){}\n",
    "\n",
    "    }\n",
    "\n",
    "    class B extends A{\n",
    "\n",
    "    // Subclass implementation can have less or same restrictive\n",
    "    // visibility. If super class is protected then subclass can\n",
    "    // be protected or public. Note that private members are not\n",
    "    // inherited, therefore we can have method with same signature\n",
    "    // as that of private super class method    \n",
    "    @Override\n",
    "    public void sayHi() {\n",
    "        System.out.println(\"Hi from B\");\n",
    "    }\n",
    "\n",
    "    // If in superclass return type is a) void, then subclass return\n",
    "    // type must be void b) primitive type, then subclass return type\n",
    "    // must be primitive (int and Integer doesn't work) c) reference\n",
    "    // type, then any reference type subclasses work\n",
    "    @Override\n",
    "    public B getNew() {\n",
    "        return new B();\n",
    "    }\n",
    "\n",
    "    // === Exception and Overriding ===\n",
    "    // a) If superclass method doesn't throw a checked exception, then\n",
    "    // overriding method can't throw a checked exception\n",
    "    // b) Subclass method can throw exceptions which are same or subtype\n",
    "    // of parent method's exception. Or it can ignore throwing exception.\n",
    "\n",
    "    private void privateMethod(){}  // compiles without issues\n",
    "                                   // this method is different from the one\n",
    "                                   // defined in the super class\n",
    "}"
   ]
  },
  {
   "cell_type": "markdown",
   "metadata": {},
   "source": [
    "Parent class methods that are `static` are not part of a child class (although they are accessible), so there is no question of overriding it. Even if you add another static method in a subclass, identical to the one in its parent class, this subclass static method is unique and distinct from the static method in its parent class.  \n",
    "\n",
    "If super class' method is marked as static and child class method must be marked static as well. \n",
    "\n",
    "[Overriding Synchronized method](https://stackoverflow.com/questions/15374521/overriding-synchronized-methods-in-java)"
   ]
  },
  {
   "cell_type": "markdown",
   "metadata": {},
   "source": [
    "### Parent Reference Child Object\n",
    "When the program is compiled, the reference variable of the base class gets memory and compiler checks all the methods in that class. So it checks all the base class methods but not the child class methods. Now at runtime when the object is created, only checked methods can run. In case a method is overridden in the child class, that method runs. Child class other functions aren't run because the compiler hasn't recognized them at the compile time.  \n",
    "Also, if you are accesing member variables of an object, you always access the variables of the type the object is declared with."
   ]
  },
  {
   "cell_type": "code",
   "execution_count": null,
   "metadata": {},
   "outputs": [],
   "source": [
    "class Parent{\n",
    "    public int someNumber = 10;\n",
    "\n",
    "    public static int staticNumber = 25; \n",
    "    public static int getStaticNumber(){\n",
    "        return staticNumber;\n",
    "    }    \n",
    "\n",
    "    public int someOtherNumber = 20;\n",
    "    public int getSomeOtherNumber() {\n",
    "        return someOtherNumber;\n",
    "    }\n",
    "\n",
    "    public void whichClass(){\n",
    "        System.out.println(\"Parent\");\n",
    "    }\n",
    "}\n",
    "\n",
    "class Child extends Parent{\n",
    "    public int someNumber = 9;\n",
    "    public int someOtherNumber = 19;\n",
    "\n",
    "    public static int staticNumber = 24; \n",
    "    public static int getStaticNumber(){\n",
    "        return staticNumber;\n",
    "    }\n",
    "\n",
    "    public int thirdNumber = 29;\n",
    "    public int getThirdNumber() {\n",
    "        return thirdNumber;\n",
    "    }\n",
    "\n",
    "    public void whichClass(){\n",
    "        System.out.println(\"Child\");\n",
    "    }\n",
    "}\n",
    "\n",
    "class Demo{\n",
    "    public static void main(String... args){\n",
    "        Parent p = new Child();\n",
    "        System.out.println(p.someNumber);                // prints 10\n",
    "        System.out.println(p.getStaticNumber());         // prints 25\n",
    "        System.out.println(p.getSomeOtherNumber());      // prints 20\n",
    "        System.out.println(p.getThirdNumber());          // Error, can't access using Parent reference\n",
    "        p.whichClass();                                  // Child\n",
    "    }\n",
    "}"
   ]
  },
  {
   "cell_type": "markdown",
   "metadata": {},
   "source": [
    "If we override getSomeOtherNumber in the child class like below, we get 19 as output"
   ]
  },
  {
   "cell_type": "code",
   "execution_count": null,
   "metadata": {},
   "outputs": [],
   "source": [
    "public int getSomeOtherNumber() {\n",
    "    return someOtherNumber;\n",
    "}"
   ]
  },
  {
   "cell_type": "markdown",
   "metadata": {},
   "source": [
    "**Runtime Polymorphism (Dynamic Method Dispatch):** method overriding is an example of runtime polymorphism."
   ]
  },
  {
   "cell_type": "markdown",
   "metadata": {},
   "source": [
    "### Abstract Classes\n",
    "Some points to remember\n",
    "- Abstract classes need not have any abstract method\n",
    "- Any class which contains even one abstract method must be marked as abstract\n",
    "- Abstract class cannot be final or private\n",
    "- Abstract method cannot be final or private\n",
    "- Abstract method definitions cannot be marked as synchronized"
   ]
  },
  {
   "cell_type": "markdown",
   "metadata": {},
   "source": [
    "### Casting Class\n",
    "Some rules\n",
    "- Casting from child to parent class is OK. No casting required.\n",
    "```java\n",
    "Child c = new Child();\n",
    "Parent p = c;\n",
    "```\n",
    "  \n",
    "- Casting from parent to child requires casting\n",
    "```java\n",
    "Parent p = new Child();\n",
    "Child c = (Child) p;\n",
    "```\n",
    "  \n",
    "- Unrelated types cannot be cast\n",
    "```java\n",
    "String s = new String(\"Some words\");\n",
    "Integer i = (Integer) s;    // error\n",
    "```\n",
    "  \n",
    "- Casting may lead to runtime `ClassCastException`\n",
    "```java\n",
    "Object o = new String(\"Blank\");\n",
    "Integer i = (Integer) o;    // Runtime error\n",
    "```"
   ]
  }
 ],
 "metadata": {
  "kernelspec": {
   "display_name": "Java",
   "language": "java",
   "name": "java"
  },
  "language_info": {
   "codemirror_mode": "java",
   "file_extension": ".jshell",
   "mimetype": "text/x-java-source",
   "name": "Java",
   "pygments_lexer": "java",
   "version": "21.0.2+13-58"
  }
 },
 "nbformat": 4,
 "nbformat_minor": 4
}
