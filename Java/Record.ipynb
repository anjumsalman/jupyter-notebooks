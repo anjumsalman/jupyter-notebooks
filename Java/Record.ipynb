{
 "cells": [
  {
   "cell_type": "markdown",
   "id": "1d32187b-e3c1-4cd8-956a-2c7877fc3469",
   "metadata": {},
   "source": [
    "## Record\n",
    "A record is a convenient way to represent aggregate of values. A data `Server` containing a host and a port can be represented using: "
   ]
  },
  {
   "cell_type": "code",
   "execution_count": null,
   "id": "bf226f2c-dbfb-41a3-b4d4-40e6e3704a59",
   "metadata": {},
   "outputs": [],
   "source": [
    "public record Server(String host, int port) {}"
   ]
  },
  {
   "cell_type": "markdown",
   "id": "9dd02b38-1189-41d8-90ba-1ed207d97cb4",
   "metadata": {},
   "source": [
    "This is equivalent to creating a class as:"
   ]
  },
  {
   "cell_type": "code",
   "execution_count": null,
   "id": "e87ae820-7a9e-480f-8802-7dace8aefdc2",
   "metadata": {},
   "outputs": [],
   "source": [
    "class Server {\n",
    "    private final String host;\n",
    "    private final int port;\n",
    "\n",
    "    Server(String host, int port) {\n",
    "        this.host = host;\n",
    "        this.port = port;\n",
    "    }\n",
    "\n",
    "    String host() { return host; }\n",
    "    int port() { return port; }\n",
    "\n",
    "    public boolean equals(Object o) {\n",
    "        if (!(o instanceof Server)) return false;\n",
    "        Server other = (Server) o;\n",
    "        return Objects.equals(other.host, host) && other.port == port;\n",
    "    }\n",
    "\n",
    "    public int hashCode() {\n",
    "        return Objects.hash(host, port);\n",
    "    }\n",
    "\n",
    "    public String toString() {\n",
    "        return String.format(\"Point[host=%d, y=%d]\", host, port);\n",
    "    }\n",
    "}"
   ]
  },
  {
   "cell_type": "markdown",
   "id": "c82031c9-4f2f-401f-aaed-f2b9c5c52926",
   "metadata": {},
   "source": [
    "Records represent immutable data carriers. The syntax of record therefore is chosen such that it contains list of all the states in the header. With the short syntax, the compiler automatically generates:\n",
    "- a `public` accessor method with the same name and return type as the component, and a `private final` field with the same type as the component\n",
    "- a *cononical constructor* whose signature is the same as the header\n",
    "- `equals` and `hashCode` methods which ensure that two record values are equal if they are of the same type and contain equal component values\n",
    "- `toString` method\n",
    "\n",
    "**Record Restrictions:**\n",
    "- A record class is implicitly final and therefore cannot be extended.\n",
    "- It implicitly extends `java.lang.Record`, therefore it cannot extend another class.\n",
    "- It cannot be `abstract`\n",
    "- A record class cannot explicitly declare instance fields, and cannot contain instance initializers.\n",
    "- A nested record class is implicitly `static`. Why? Because a non-static nested class by default contains reference to the instance of enclosing class. We don't want a record to contain anything more than what the record header advertises.\n",
    "\n",
    "A record class can:\n",
    "- be generic\n",
    "- can have `static` fields, methods and initializers\n",
    "- can declare instnce methods\n",
    "- can implement interfaces\n",
    "- can declare nested types\n",
    "- header components can be annotated, the annotations are passed on to the fields, methods and constructors as per the annoatation targets. Propagation does not happen if accessor method and canonical constructor is explicitly provided (and don't specify the annotations).\n",
    "\n",
    "## Constructor\n",
    "A record class imnplicitly contains a constructor as shown in the example above. However, we can also explicitly provide the *canonical constructor* as:"
   ]
  },
  {
   "cell_type": "code",
   "execution_count": null,
   "id": "fe1a318d-7f7f-47da-99ea-3e9f07a6024d",
   "metadata": {},
   "outputs": [],
   "source": [
    "public record Server(String host, int port) {\n",
    "    // Access modifier should atleast be that of the record, so\n",
    "    // in this example, constructor cannot be package protected\n",
    "    public Server {\n",
    "        if (port < 0 || port > 65536)\n",
    "            throw new IllegalArgumentException(\"Invalid port: \" + port);\n",
    "\n",
    "        host = host.trim();\n",
    "    }\n",
    "}"
   ]
  },
  {
   "cell_type": "markdown",
   "id": "cadbb454-cd6f-446d-98ba-a41c2d560a93",
   "metadata": {},
   "source": [
    "In the above compact constructor, the compiler automatically adds the `this.x = x;` statements. The compact form helps developers focus on validating and normalizing parameters without the tedious work of assigning parameters to fields. The above compact constructor is equivalent to:"
   ]
  },
  {
   "cell_type": "code",
   "execution_count": null,
   "id": "8ec09f1d-cbbe-45f3-8d79-08616bc99c4a",
   "metadata": {},
   "outputs": [],
   "source": [
    "public Server(String host, int port) {\n",
    "    if (port < 0 || port > 65536)\n",
    "        throw new IllegalArgumentException(\"Invalid port: \" + port);\n",
    "\n",
    "    host = host.trim();\n",
    "    \n",
    "    this.host = host;\n",
    "    this.port = port;\n",
    "}"
   ]
  },
  {
   "cell_type": "markdown",
   "id": "35f5792d-f398-4f74-9b7e-726a473e353f",
   "metadata": {},
   "source": [
    "We can also declare additional constructors or use the non-compact form to define canonical constructor:"
   ]
  },
  {
   "cell_type": "code",
   "execution_count": null,
   "id": "765026c6-68a7-477d-8b9c-d26442dbd38e",
   "metadata": {},
   "outputs": [],
   "source": [
    "public record Server(String host, int port) {\n",
    "    // Using the non-compact form to define canonical constructor, this\n",
    "    // must contain this.x = x statements\n",
    "    public Server(String host, int port) {\n",
    "        if (port < 0 || port > 65536)\n",
    "            throw new IllegalArgumentException(\"Invalid port: \" + port);\n",
    "        \n",
    "        this.host = host;\n",
    "        this.port = port;\n",
    "    }\n",
    "\n",
    "    // Doesn't have to be public    \n",
    "    public Server(int port) {\n",
    "        this(\"localhost\", port);\n",
    "    }\n",
    "}"
   ]
  },
  {
   "cell_type": "markdown",
   "id": "035c23c2-21b4-4c05-8251-fb723c801e5a",
   "metadata": {},
   "source": [
    "## Local Record\n",
    "A local record is implicitly static (as any nested record). This is different from local classes which cannot be static. Thus a local record cannot access local variables of the enclosing method."
   ]
  },
  {
   "cell_type": "markdown",
   "id": "97d286c0-bd4b-4001-8a30-20b7e7d5f2f4",
   "metadata": {},
   "source": [
    "## Accessing State\n",
    "As stated earlier, a record class automatically creates accessors for each state variable defined in the record header. We can also override this by specifying our own accessors:"
   ]
  },
  {
   "cell_type": "code",
   "execution_count": null,
   "id": "e0250c3d-c263-4c2a-8801-343c7d41392f",
   "metadata": {},
   "outputs": [],
   "source": [
    "// The example demostrates techniques to ensure immutability\n",
    "record Province (String name, List<String> cities) {\n",
    "    Province {\n",
    "        cities = List.copyOf(cities); // ensures that outside code doesn't alter record's state\n",
    "    }\n",
    "\n",
    "    // Accessors must be public\n",
    "    public List<String> cities() {\n",
    "        return List.copyOf(cities);\n",
    "    }\n",
    "}"
   ]
  }
 ],
 "metadata": {
  "kernelspec": {
   "display_name": "Java",
   "language": "java",
   "name": "java"
  },
  "language_info": {
   "codemirror_mode": "java",
   "file_extension": ".jshell",
   "mimetype": "text/x-java-source",
   "name": "Java",
   "pygments_lexer": "java",
   "version": "21.0.2+13-58"
  }
 },
 "nbformat": 4,
 "nbformat_minor": 5
}
