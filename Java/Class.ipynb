{
 "cells": [
  {
   "cell_type": "markdown",
   "metadata": {},
   "source": [
    "## Class Components\n",
    "- Instance variables\n",
    "- Instance methods\n",
    "- Class variables\n",
    "- Class methods\n",
    "\n",
    "A class definition can only be marked as `public`, `final` or `abstract` (except for nested class). There can be multiple classes defined in a file, but only one can be `public`.\n",
    "\n",
    "Primitive type variables are initialised to zero, whereas reference types are initialised to null."
   ]
  },
  {
   "cell_type": "code",
   "execution_count": null,
   "metadata": {},
   "outputs": [],
   "source": [
    "public class Point{\n",
    "    private float x,y;    // 0.0f\n",
    "    public static counter = 0;  // no need to explicitly set to 0\n",
    "    public String label; // null\n",
    "} "
   ]
  },
  {
   "cell_type": "markdown",
   "metadata": {},
   "source": [
    "## Access Modifiers\n",
    "The four access modifiers are:\n",
    "1. `private`\n",
    "2. package private (default)\n",
    "3. `protected`\n",
    "4. `public`\n",
    "\n",
    "Consider the following package structure\n",
    "```\n",
    "com.animal(P)\n",
    "            |\n",
    "            +-- Animal(C)\n",
    "            |          +-- Cow(C)\n",
    "            +-- com.animal.birds(P)\n",
    "                               +-- Swan(P)\n",
    "```\n",
    "\n",
    "**Private:**\n",
    "Members defined as private can only be referenced within the class definition"
   ]
  },
  {
   "cell_type": "code",
   "execution_count": null,
   "metadata": {},
   "outputs": [],
   "source": [
    "package com.animal;\n",
    "public class Animal{\n",
    "    private int serialId = 24;\n",
    "    \n",
    "    public static void main(String... args){\n",
    "        System.out.println(new Animal().serialId);    // OK\n",
    "    }\n",
    "}"
   ]
  },
  {
   "cell_type": "markdown",
   "metadata": {},
   "source": [
    "You can't access private members in other classes:"
   ]
  },
  {
   "cell_type": "code",
   "execution_count": null,
   "metadata": {},
   "outputs": [],
   "source": [
    "package com.animal;\n",
    "class AnimalTestbed{\n",
    "    public static void main(String... args){\n",
    "        System.out.println(new Animal().serialId);    // error\n",
    "    }\n",
    "}"
   ]
  },
  {
   "cell_type": "markdown",
   "metadata": {},
   "source": [
    "Any child class can also not access private members of parent class:"
   ]
  },
  {
   "cell_type": "code",
   "execution_count": null,
   "metadata": {},
   "outputs": [],
   "source": [
    "package com.animal;\n",
    "class Bat extends Animal {\n",
    "    public boolean canFly() {\n",
    "        return weight < 5;    // error\n",
    "    }\n",
    "}"
   ]
  },
  {
   "cell_type": "markdown",
   "metadata": {},
   "source": [
    "Another implication of `private` can be observed by making the constructor as `private`. It is not possible to extend such a class"
   ]
  },
  {
   "cell_type": "code",
   "execution_count": null,
   "metadata": {},
   "outputs": [],
   "source": [
    "public class BaseTask {\n",
    "    private BaseTask() {\n",
    "        \n",
    "    }\n",
    "}\n",
    "\n",
    "// Error\n",
    "class SimpleTask extends BaseTask {\n",
    "    \n",
    "}"
   ]
  },
  {
   "cell_type": "markdown",
   "metadata": {},
   "source": [
    "**Package Private:** members defined as pacakge private can only be referenced within the package. We now add a constructor to the `Animal` class:"
   ]
  },
  {
   "cell_type": "code",
   "execution_count": null,
   "metadata": {},
   "outputs": [],
   "source": [
    "package com.animal;\n",
    "public class Animal {\n",
    "    private int serialId = 24;\n",
    "    String habitat;\n",
    "    \n",
    "    Animal() {\n",
    "        System.out.println(\"Animal created\");\n",
    "    }\n",
    "}"
   ]
  },
  {
   "cell_type": "markdown",
   "metadata": {},
   "source": [
    "We can access above members from any other class in the same package:"
   ]
  },
  {
   "cell_type": "code",
   "execution_count": null,
   "metadata": {},
   "outputs": [],
   "source": [
    "package com.animal;\n",
    "public class AnimalTestbed {\n",
    "\n",
    "    public static void main(String[] args) {\n",
    "        Animal animal = new Animal();                 // OK\n",
    "        System.out.println(animal.habitat);           // OK\n",
    "    }\n",
    "}"
   ]
  },
  {
   "cell_type": "markdown",
   "metadata": {},
   "source": [
    "But not from any other package:"
   ]
  },
  {
   "cell_type": "code",
   "execution_count": null,
   "metadata": {},
   "outputs": [],
   "source": [
    "package com.animal.bird;\n",
    "import com.animal.Animal;\n",
    "\n",
    "public class BirdTestbed {\n",
    "\n",
    "    public static void main(String[] args) {\n",
    "        Animal animal = new Animal();                \n",
    "        System.out.println(animal.habitat);    // error\n",
    "    }\n",
    "}"
   ]
  },
  {
   "cell_type": "markdown",
   "metadata": {},
   "source": [
    "Any package protected method in package A cannot be overridden in a subclas in package B. For that purpose, use protected"
   ]
  },
  {
   "cell_type": "code",
   "execution_count": null,
   "metadata": {},
   "outputs": [],
   "source": [
    "package a;\n",
    "public class A {\n",
    "    void format() {\n",
    "        System.out.println(\"Date formatted by A\");\n",
    "    }\n",
    "                           \n",
    "    public void print() {\n",
    "        format();\n",
    "        System.out.println(\"Printing...\");\n",
    "    }\n",
    "}\n",
    "\n",
    "package b;\n",
    "import a.A;\n",
    "\n",
    "public class B extends A {\n",
    "    // Cannot apply @Override annotation here, since it is a new method\n",
    "    // Cannot call super.format either\n",
    "    void format() {\n",
    "        System.out.println(\"Date formatted by B\");\n",
    "    }\n",
    "\n",
    "    public static void main(String[] args) {\n",
    "        B b = new B();\n",
    "        b.print();    // Prints \"Date formatted by A\" followed by \"Printing...\"\n",
    "    }\n",
    "}"
   ]
  },
  {
   "cell_type": "markdown",
   "metadata": {},
   "source": [
    "**Protected:** same as package private except that the members can be accessed from other packages as long as the class in which those are being accessed is subclass. We change `Animal` to make its constructor `protected` and also add a `protected` field"
   ]
  },
  {
   "cell_type": "code",
   "execution_count": null,
   "metadata": {},
   "outputs": [],
   "source": [
    "package com.animal;\n",
    "public class Animal {\n",
    "    private int serialId = 24;\n",
    "    String habitat;\n",
    "    protected int age;\n",
    "    \n",
    "    protected Animal() {\n",
    "        System.out.println(\"Animal created\");\n",
    "    }\n",
    "}"
   ]
  },
  {
   "cell_type": "code",
   "execution_count": null,
   "metadata": {},
   "outputs": [],
   "source": [
    "package com.animal.bird;\n",
    "import com.animal.Animal;\n",
    "\n",
    "public class Swan extends Animal{\n",
    "\n",
    "    Swan() {\n",
    "        super();    // could't write this if Animal's constructor was package-private\n",
    "    }\n",
    "\n",
    "    public static void main(String[] args) {\n",
    "        Animal animal = new Animal();        // error due to constructor being protected\n",
    "        System.out.println(animal.age);      // error\n",
    "\n",
    "        Swan swan = new Swan();              \n",
    "        System.out.println(swan.age);       // can refer to protected member only through\n",
    "                                            // child class reference\n",
    "    }\n",
    "}"
   ]
  },
  {
   "cell_type": "markdown",
   "metadata": {},
   "source": [
    "Parent Child class example that we used before is now rewritten below to use `protected`:"
   ]
  },
  {
   "cell_type": "code",
   "execution_count": null,
   "metadata": {},
   "outputs": [],
   "source": [
    "package a;\n",
    "public class A {\n",
    "    protected void format() {\n",
    "        System.out.println(\"Date formatted by A\");\n",
    "    }\n",
    "                           \n",
    "    public void print() {\n",
    "        format();\n",
    "        System.out.println(\"Printing...\");\n",
    "    }\n",
    "}\n",
    "                           \n",
    "package b;\n",
    "import a.A;\n",
    "                           \n",
    "public class B extends A {\n",
    "    @Override\n",
    "    protected void format() {\n",
    "        System.out.println(\"Date formatted by B\");\n",
    "    }\n",
    "                           \n",
    "    public static void main(String[] args) {\n",
    "        B b = new B();\n",
    "        b.print();    // Prints \"Date formatted by B\" followed by \"Printing...\"\n",
    "    }\n",
    "}"
   ]
  },
  {
   "cell_type": "markdown",
   "metadata": {},
   "source": [
    "We can say that the order of restrictiveness wrt to access modifiers is: `private` > default > `protected` > `public`."
   ]
  },
  {
   "cell_type": "markdown",
   "metadata": {},
   "source": [
    "## Constructor\n",
    "The compiler automatically provides a no argument default constructor for any class without constructors. This default constructor will call the no argument constructor of the superclass. In this situation, the compiler will complain if the superclass doesn't have a no argument constructor."
   ]
  },
  {
   "cell_type": "code",
   "execution_count": null,
   "metadata": {},
   "outputs": [],
   "source": [
    "public class Point{\n",
    "    private float x,y;                  \n",
    "\n",
    "    public static int counter = 0;\n",
    "    \n",
    "    // Every constructor implicitly calls superclass\n",
    "    // no argument constructor. So if superclass no\n",
    "    // argument constructor doesn't exist, then one\n",
    "    // must use a different super class constructor\n",
    "    // along with super keyword.\n",
    "    public Point(){\n",
    "        x = 0;\n",
    "        y = 0;\n",
    "    }\n",
    "    \n",
    "    // Constructor overloading\n",
    "    public Point(int x, int y) {\n",
    "        this.x = x;\n",
    "        this.y = y;\n",
    "    }\n",
    "}  "
   ]
  },
  {
   "cell_type": "markdown",
   "metadata": {},
   "source": [
    "Constructor can be\n",
    "- package protected, which means that we can't write `new Point()` in other packages.\n",
    "- private, which means that instance of class cannot be created using `new` keyword.  \n",
    "\n",
    "We can also call one constructor from other, use `this()`"
   ]
  },
  {
   "cell_type": "code",
   "execution_count": null,
   "metadata": {},
   "outputs": [],
   "source": [
    "public Point(){\n",
    "    this(0,0)\n",
    "}\n",
    "\n",
    "public Point(int x, int y) {\n",
    "    this.x = x;\n",
    "    this.y = y;\n",
    "}"
   ]
  },
  {
   "cell_type": "markdown",
   "metadata": {},
   "source": [
    "One thing to note that is constructors do not have a return type. If we specify a return type then it is not a constructor function."
   ]
  },
  {
   "cell_type": "code",
   "execution_count": null,
   "metadata": {},
   "outputs": [],
   "source": [
    "class Point {\n",
    "    public void Point() {    // not constructor\n",
    "        // some code\n",
    "    }\n",
    "\n",
    "    public static void main(String... args) {\n",
    "        Point p = new Point(); // error\n",
    "    }\n",
    "}"
   ]
  },
  {
   "cell_type": "markdown",
   "metadata": {},
   "source": [
    "## Static Methods\n",
    "- Instance methods can access instance variables, instance methods, `static` variables and `static` methods.\n",
    "- Static methods can access only `static` variables and `static` methods\n",
    "- `this` variable can't be referred to inside a `static` method.\n",
    "- Static methods belong to a class and are not inherited by subclasses.\n",
    "\n",
    "**Static block:** is executed when the class is loaded. By loaded, we mean either:\n",
    "1. we use `Class.forName`\n",
    "2. we reference class with static members"
   ]
  },
  {
   "cell_type": "code",
   "execution_count": null,
   "metadata": {},
   "outputs": [],
   "source": [
    "class StaticBlockDemo{\n",
    "    static{\n",
    "        System.out.println(\"Static block executed\");\n",
    "    }\n",
    "    \n",
    "    public static void greet(){\n",
    "        System.out.println(\"Hello!\");\n",
    "    }\n",
    "}\n",
    "\n",
    "public class Test{\n",
    "    public static void main(String[] args){\n",
    "        StaticBlockDemo demo;  // Just this doesn't print the static block\n",
    "    }\n",
    "}"
   ]
  },
  {
   "cell_type": "markdown",
   "metadata": {},
   "source": [
    "We modify the Test class as:"
   ]
  },
  {
   "cell_type": "code",
   "execution_count": null,
   "metadata": {},
   "outputs": [],
   "source": [
    "public class Test{\n",
    "    public static void main(String[] args){\n",
    "        StaticBlockDemo.greet();  // This print the static block\n",
    "        // Or use:\n",
    "        // StaticBlockDemo demo = new StaticBlockDemo();\n",
    "    }\n",
    "}"
   ]
  },
  {
   "cell_type": "markdown",
   "metadata": {},
   "source": [
    "Or we use `Class.forName`:"
   ]
  },
  {
   "cell_type": "code",
   "execution_count": null,
   "metadata": {},
   "outputs": [],
   "source": [
    "public class Test{\n",
    "    public static void main(String[] args){\n",
    "        Class.forName(\"StaticBlockDemo\");\n",
    "    }\n",
    "}"
   ]
  },
  {
   "cell_type": "markdown",
   "metadata": {},
   "source": [
    "Static block can be thought as class constructor."
   ]
  },
  {
   "cell_type": "code",
   "execution_count": null,
   "metadata": {},
   "outputs": [],
   "source": [
    "class Region{\n",
    "    public static Map<String, String> capitals;\n",
    "\n",
    "    static {\n",
    "        capitals = new HashMap<String, String>();\n",
    "        capitals.put(\"India\", \"New Delhi\");\n",
    "        capitals.put(\"Bangladesh\", \"Dhaka\");\n",
    "        capitals.put(\"China\", \"Beijing\");\n",
    "        capitals.put(\"Nepal\", \"Kathmandu\");\n",
    "    }\n",
    "}   "
   ]
  },
  {
   "cell_type": "markdown",
   "metadata": {},
   "source": [
    "### Static Import\n",
    "Introduced in Java 1.5. We can just import a static method, so we can replace:"
   ]
  },
  {
   "cell_type": "code",
   "execution_count": null,
   "metadata": {},
   "outputs": [],
   "source": [
    "class Test{\n",
    "    public static void main(String... args){\n",
    "        System.out.println(Math.random());\n",
    "    }\n",
    "}"
   ]
  },
  {
   "cell_type": "markdown",
   "metadata": {},
   "source": [
    "with"
   ]
  },
  {
   "cell_type": "code",
   "execution_count": null,
   "metadata": {},
   "outputs": [],
   "source": [
    "import static java.lang.Math.random;\n",
    "class Test{\n",
    "    public static void main(String... args){\n",
    "        System.out.println(random());\n",
    "    }\n",
    "}"
   ]
  },
  {
   "cell_type": "markdown",
   "metadata": {},
   "source": [
    "### Order of execution\n",
    "The order of execution is:\n",
    "1. `static` variables and `static` initializer blocks in order of appearance\n",
    "2. instance variables and instance initializer blocks in order of appearance\n",
    "3. constructor function"
   ]
  },
  {
   "cell_type": "markdown",
   "metadata": {
    "tags": []
   },
   "source": [
    "## Method Overloading\n",
    "A method in Java consists of the folowing:\n",
    "1. Modifiers: such as `public`, `private`, and others.\n",
    "2. Return type: the data type of the value returned by the method, or void if the method does not return a value.\n",
    "3. Method name\n",
    "4. Parameter list in parenthesis: a comma-delimited list of input parameters, preceded by their data types, enclosed by parentheses, (). If there are no parameters, we must use empty parentheses.\n",
    "5. Exception list\n",
    "6. Method body, enclosed between braces: the method's code, including the declaration of local variables, goes here.\n",
    " \n",
    "Two methods are said to be overloaded if they\n",
    "- share the same name\n",
    "- have different type or count of parameters\n",
    "\n",
    "Following methods are overloaded:"
   ]
  },
  {
   "cell_type": "code",
   "execution_count": null,
   "metadata": {},
   "outputs": [],
   "source": [
    "public void someMethod(int a){\n",
    "    // implementation\n",
    "}\n",
    "\n",
    "public void someMethod(Integer a){\n",
    "    // implementation\n",
    "}"
   ]
  },
  {
   "cell_type": "markdown",
   "metadata": {},
   "source": [
    "So are the below two:"
   ]
  },
  {
   "cell_type": "code",
   "execution_count": null,
   "metadata": {},
   "outputs": [],
   "source": [
    "public int sum(int x, int y, int z) { \n",
    "    return (x + y + z); \n",
    "} \n",
    "  \n",
    "public double sum(double x, double y) { \n",
    "    return (x + y); \n",
    "} "
   ]
  },
  {
   "cell_type": "markdown",
   "metadata": {},
   "source": [
    "And the below example as well:"
   ]
  },
  {
   "cell_type": "code",
   "execution_count": null,
   "metadata": {},
   "outputs": [],
   "source": [
    "public void twoInput(Integer a, Integer b) {  // called using twoInput((Integer) 5, (Integer) 6) \n",
    "    System.out.println(\"Wrapper version\");\n",
    "}\n",
    "\n",
    "public void twoInput(int a, int b) {\n",
    "    System.out.println(\"Primitive version\"); // called using twoInput(5, 6) \n",
    "}\n",
    "\n",
    "public <E> void twoInput(E a, E b) {         // Rest of the inputs\n",
    "    System.out.println(\"Generic version\");\n",
    "}"
   ]
  },
  {
   "cell_type": "markdown",
   "metadata": {},
   "source": [
    "But the below two have same signature:"
   ]
  },
  {
   "cell_type": "code",
   "execution_count": null,
   "metadata": {},
   "outputs": [],
   "source": [
    "public void anotherMethod(int[] a){\n",
    "    // implementation\n",
    "}\n",
    "\n",
    "public void anotherMethod(int... a){\n",
    "    // implementation\n",
    "}"
   ]
  },
  {
   "cell_type": "markdown",
   "metadata": {},
   "source": [
    "Usually, method overloading happens inside a single class, but a method can also be treated as overloaded in the subclass of that class — because the subclass inherits one version of the method from the parent class and then can have another overloaded version in its class definition.\n",
    "\n",
    "Sometimes method overloading is also known as **compile-time polymorphism** or **early/static binding**."
   ]
  },
  {
   "cell_type": "markdown",
   "metadata": {},
   "source": [
    "## `Object` Class\n",
    "The `Object` class lies at the top of the class hierarchy. It contains some important methods like:\n",
    "- `int hashCode()`\n",
    "- `boolean equals(Object obj)`\n",
    "- `Object clone()`\n",
    "- `String toString()`\n",
    "- `notify()`\n",
    "- `notifyAll()`\n",
    "- `wait()`\n",
    "\n",
    "Some of the above methods are explained in detail below:\n",
    "### `equals`\n",
    "Overriding `equals` is not easy as it seems, therefore the best approach is not to override it. In such as scenario an object is only equals to itself. It is desirable to override `equals` when the class has notion of *logical equality* - `String` and `Integer` are examples of such a class. \n",
    "\n",
    "As stated in javadocs, the `equals` method must satisfy the following properties:\n",
    "- *Reflexive*: `x.equals(x)` given `x != null`\n",
    "- *Symmetric*: `x.equals(y)` then `y.equals(x)` given `x != null && y != null`\n",
    "- *Transitive*: `x.equals(y)` and `y.equals(z)` then `x.equals(y)` given `x != null && y != null && z != null`\n",
    "- Multiple invocations of `equals` should lead to same result as long as the underlying properties used in `equals` do not change\n",
    "- `x.equals(null)` must return false.\n",
    "\n",
    "It is easy to violate the previously mentioned contract if we are not careful. For example, the below code violates symmetry:"
   ]
  },
  {
   "cell_type": "code",
   "execution_count": 1,
   "metadata": {
    "tags": []
   },
   "outputs": [
    {
     "name": "stdout",
     "output_type": "stream",
     "text": [
      "true\n",
      "true\n",
      "false\n"
     ]
    }
   ],
   "source": [
    "class SignInsensitiveInteger {\n",
    "    private final int value;\n",
    "\n",
    "    public SignInsensitiveInteger(int value) {\n",
    "        this.value = Math.abs(value);\n",
    "    }\n",
    "\n",
    "    @Override\n",
    "    public boolean equals(Object o) {\n",
    "        if (this == o) {\n",
    "            return true;\n",
    "        }\n",
    "        \n",
    "        if (o instanceof SignInsensitiveInteger) {\n",
    "            return value == ((SignInsensitiveInteger) o).value;\n",
    "        } else if (o instanceof Integer) {\n",
    "            return Math.abs((Integer) o) == value;\n",
    "        }\n",
    "\n",
    "        return false;\n",
    "    }\n",
    "}\n",
    "\n",
    "SignInsensitiveInteger first = new SignInsensitiveInteger(-1);\n",
    "SignInsensitiveInteger second = new SignInsensitiveInteger(-1);\n",
    "\n",
    "System.out.println(first.equals(second));\n",
    "System.out.println(first.equals(1));\n",
    "System.out.println(Integer.valueOf(1).equals(new SignInsensitiveInteger(1))); // not symmetric"
   ]
  },
  {
   "cell_type": "markdown",
   "metadata": {},
   "source": [
    "One consequence is that some functionality may not work as expected:"
   ]
  },
  {
   "cell_type": "code",
   "execution_count": 2,
   "metadata": {
    "tags": []
   },
   "outputs": [
    {
     "name": "stdout",
     "output_type": "stream",
     "text": [
      "false\n"
     ]
    }
   ],
   "source": [
    "List<SignInsensitiveInteger> numbers = new ArrayList<SignInsensitiveInteger>();\n",
    "numbers.add(first);\n",
    "System.out.println(numbers.contains(1));  // whether contains returns true or false depends upon its\n",
    "                                          // implementation. Does it do numbers[i].equals(input) or\n",
    "                                          // input.equals(numbers[i])"
   ]
  },
  {
   "cell_type": "markdown",
   "metadata": {},
   "source": [
    "Another scenario where we can see the contract being broken is when we extend a class to add some additional component (that component contributing to the *value* of the class):"
   ]
  },
  {
   "cell_type": "code",
   "execution_count": 5,
   "metadata": {
    "tags": []
   },
   "outputs": [
    {
     "name": "stdout",
     "output_type": "stream",
     "text": [
      "true\n",
      "true\n",
      "false\n"
     ]
    }
   ],
   "source": [
    "class Color {\n",
    "    private final short red, green, blue;\n",
    "\n",
    "    public Color(short red, short green, short blue) {\n",
    "        this.red = red;\n",
    "        this.green = green;\n",
    "        this.blue = blue;\n",
    "    }\n",
    "\n",
    "    @Override\n",
    "    public boolean equals(Object obj) {\n",
    "        if (this == obj) {\n",
    "            return true;\n",
    "        }\n",
    "\n",
    "        if (obj instanceof Color color) {\n",
    "            return red == color.red && green == color.green && blue == color.blue;\n",
    "        }\n",
    "\n",
    "        return false;\n",
    "    }\n",
    "}\n",
    "\n",
    "class AlphaColor extends Color {\n",
    "    private final float opacity;\n",
    "\n",
    "    public AlphaColor(short red, short green, short blue, float opacity) {\n",
    "        super(red, green, blue);\n",
    "        this.opacity = opacity;\n",
    "    }\n",
    "\n",
    "    @Override\n",
    "    public boolean equals(Object obj) {\n",
    "        if (this == obj) {\n",
    "            return true;\n",
    "        }\n",
    "\n",
    "        if (obj instanceof AlphaColor alphaColor) {\n",
    "            return super.equals(alphaColor) && opacity == alphaColor.opacity;\n",
    "        }\n",
    "\n",
    "        if (obj instanceof Color color) {\n",
    "            return color.equals(this);    // why not super.equals(color) ?\n",
    "        }\n",
    "\n",
    "        return false;\n",
    "    }\n",
    "}\n",
    "\n",
    "AlphaColor firstAlphaColor = new AlphaColor((short) 25, (short) 25, (short) 25, 0.5f);\n",
    "Color color = new Color((short) 25, (short) 25, (short) 25);\n",
    "AlphaColor secondAlphaColor = new AlphaColor((short) 25, (short) 25, (short) 25, 1.0f);\n",
    "\n",
    "System.out.println(firstAlphaColor.equals(color));\n",
    "System.out.println(color.equals(secondAlphaColor));\n",
    "System.out.println(firstAlphaColor.equals(secondAlphaColor));  // Breaks transitivity"
   ]
  },
  {
   "cell_type": "markdown",
   "metadata": {},
   "source": [
    "Not only does the above code break transitive contract, but there is also a possibility of `StackOverflowException`:"
   ]
  },
  {
   "cell_type": "code",
   "execution_count": null,
   "metadata": {},
   "outputs": [],
   "source": [
    "class NamedColor extends Color {\n",
    "    private final String name;\n",
    "\n",
    "    public NamedColor(short red, short green, short blue, String name) {\n",
    "        super(red, green, blue);\n",
    "        this.name = name;\n",
    "    }\n",
    "\n",
    "    @Override\n",
    "    public boolean equals(Object obj) {\n",
    "        if (this == obj) {\n",
    "            return true;\n",
    "        }\n",
    "\n",
    "        if (obj instanceof NamedColor namedColor) {\n",
    "            return super.equals(namedColor) && name.equals(namedColor.name);\n",
    "        }\n",
    "\n",
    "        if (obj instanceof Color color) {\n",
    "            return color.equals(this);\n",
    "        }\n",
    "\n",
    "        return false;\n",
    "    }\n",
    "}\n",
    "\n",
    "// Below code will lead to stack overflow\n",
    "System.out.println(firstAlphaColor.equals(new NamedColor((short) 25, (short) 25, (short) 25, \"Some Color\")));"
   ]
  },
  {
   "cell_type": "markdown",
   "metadata": {},
   "source": [
    "Another way `equals` is usually implemented is using `getClass()` method. However this breaks Liskov's substitution principle."
   ]
  },
  {
   "cell_type": "code",
   "execution_count": null,
   "metadata": {},
   "outputs": [],
   "source": [
    "// Color class\n",
    "@Override\n",
    "public boolean equals(Object obj) {\n",
    "    if (this == obj) {\n",
    "        return true;\n",
    "    }\n",
    "\n",
    "    if (obj == null || obj.getClass() != getClass()) {\n",
    "        return false;\n",
    "    }\n",
    "    \n",
    "    Color color = (Color) obj;\n",
    "    return red == color.red && green == color.green && blue == color.blue;;\n",
    "}"
   ]
  },
  {
   "cell_type": "markdown",
   "metadata": {},
   "source": [
    "All in all, there is **no satisfactory way** to extend an instantiable class, add a value component and then override `equals` method. We compare the two approaches below:\n",
    "\n",
    "|                                                                      | **instanceof** | **getClass()** |\n",
    "|----------------------------------------------------------------------|----------------|----------------|\n",
    "| Allows instances of subclasses to equal instances of the superclass  | Y              | N              |\n",
    "| Allows instances of different subclasses to equal each other         | Y              | N              |\n",
    "| Overriding the generated equals() method does not break its contract | N              | Y              |\n",
    "| Avoids extra null check                                              | Y              | N              |\n",
    "| Obeys the Liskov substitution principle                              | Y              | N              |\n",
    "\n",
    "How do we compare attributes?\n",
    "- For primitives (except `float` and `double`), use `==`\n",
    "- For `float` and `double` use `Float.compare(float, float)` or `Double.compare(double, double)`\n",
    "- For arrays we can use `Arrays.equals`\n",
    "- For objects, use `equals` but the object can be null, so consider `Objects.equals` which checks for null\n",
    "\n",
    "First compare fields that are more likely to differ or less expensive to compare. Apache CommonUtils and Guava also provide helper methods to generate equals."
   ]
  },
  {
   "cell_type": "markdown",
   "metadata": {},
   "source": [
    "### `hashCode`\n",
    "Returns the hash code associated with an object. As stated in javadocs, the `hashCode` method must satisfy the following properties:\n",
    "- calling the method on the same object multiple times must return the same value (provided ofcourse that properties used in `equals` do not change). \n",
    "- objects that are `equals` must return the same hash code. \n",
    "- unequal objects can return the same hash code, though ensuring different values improves performance of hash tables.\n",
    "\n",
    "If we override `equals`, we must override `hashCode`, otherwise collections such as `HashMap` and `HashSet` wouldn't work as expected:"
   ]
  },
  {
   "cell_type": "code",
   "execution_count": 7,
   "metadata": {
    "tags": []
   },
   "outputs": [
    {
     "name": "stdout",
     "output_type": "stream",
     "text": [
      "null\n"
     ]
    }
   ],
   "source": [
    "Map<Color, String> colorNames = new HashMap<>();\n",
    "colorNames.put(new Color((short) 255, (short) 0, (short) 0), \"RED\");\n",
    "System.out.println(colorNames.get(new Color((short) 255, (short) 0, (short) 0)));              "
   ]
  },
  {
   "cell_type": "markdown",
   "metadata": {},
   "source": [
    "So how do we write an effective `hashCode` method? The next code example gives us an idea:"
   ]
  },
  {
   "cell_type": "code",
   "execution_count": null,
   "metadata": {},
   "outputs": [],
   "source": [
    "// 31 was chosen because it is an odd prime number and the term\n",
    "// 31*x can easily be replaced with (x << 5) - x\n",
    "\n",
    "@Override public int hashCode() {\n",
    "    int result = Short.hashCode(areaCode);\n",
    "    result = 31 * result + Short.hashCode(prefix);\n",
    "    result = 31 * result + Short.hashCode(lineNum);\n",
    "    return result;\n",
    "}\n",
    "\n",
    "// Another way to hash, little slower\n",
    "@Override public int hashCode() {\n",
    "    return Objects.hash(lineNum, prefix, areaCode);\n",
    "}"
   ]
  },
  {
   "cell_type": "markdown",
   "metadata": {},
   "source": [
    "In short, for each attribute used for hash code calculation follow the below:\n",
    "- For primitive members, use `hashCode` method of the corresponding wrapper class\n",
    "- For an object recursively call its `hashCode`, if the value is null it can be replaced with 0\n",
    "- For arrays, we can use `Arrays.hashCode`\n",
    "\n",
    "Common knowledge is that the default implementation of `hashCode()` is called *identity hash code*. The identity hash code is also available by calling `System.identityHashCode(o)`. Identity hash code uses the integer representation of the memory address. But during garbage collection, object are often rearranged in memory. So to ensure that the hashcode remains the same, the original hashcode must be saved somewhere.\n",
    "\n",
    "An interesting consequence is that two different object can have the same hash code (this is allowed as per spec) if the second object got allocated the memory address of the first object. However, modern Java implementations may not use memory address for default hash code, for example it can use random number generator."
   ]
  },
  {
   "cell_type": "markdown",
   "metadata": {},
   "source": [
    "### `toString`\n",
    "The default implementation has the syntax `<class name>@<hexadecimal hash code>`. It is recommended that `toString` implementation of an object should return all the important information associated with the object.\n",
    "\n",
    "Apache Commons Util can help with generating a string representation of an object using `ToStringBuilder`.\n",
    "\n",
    "### `clone`\n",
    "The `clone` method is used in conjunction with the `Cloneable` interface. If a class implements `Cloneable`, `Object`’s clone method returns a field-by-field copy of the object, else it throws `CloneNotSupportedException`. Any class implementing `Cloneable` should override the `clone` method and provide a public functioning implementation. There are some expectations from the implementation (though none of these are a requirement):\n",
    "- `x.clone() != x`\n",
    "- `x.clone().getClass() == x.getClass()`\n",
    "- `x.clone().equals(x)`\n",
    "\n",
    "Below is the `clone` implementation for a simple class like `Color` described above:"
   ]
  },
  {
   "cell_type": "code",
   "execution_count": null,
   "metadata": {},
   "outputs": [],
   "source": [
    "class Color implements Cloneable {  // implement CLoneable or else super.clone would throw exception\n",
    "    public short red, green, blue;  // this class only has primitive members, so clone is easy\n",
    "    \n",
    "    @Override\n",
    "    public Color clone() {  // return Color instead of Object\n",
    "        try {\n",
    "            return (Color) super.clone();\n",
    "        } catch (CloneNotSupportedException e) {  // CloneNotSupportedException is cheked, so we need to\n",
    "            throw new AssertionError();           // to catch it. It should have been unchecked\n",
    "        }\n",
    "    }\n",
    "}"
   ]
  },
  {
   "cell_type": "markdown",
   "metadata": {},
   "source": [
    "Cloning objects containing mutable object references is more complicated:"
   ]
  },
  {
   "cell_type": "code",
   "execution_count": null,
   "metadata": {},
   "outputs": [],
   "source": [
    "class Stack implements Cloneable {\n",
    "    private int[] elements = new int[10];\n",
    "    \n",
    "    // push, pop, resize methods\n",
    "    \n",
    "    @Override\n",
    "    public Stack clone() {\n",
    "        try {\n",
    "            Stack output = (Stack) super.clone();\n",
    "            output.elements = elements.clone();   // use the clone method of array\n",
    "        } catch (CloneNotSupportedException e) {\n",
    "            throw new AssertionError();         \n",
    "        }\n",
    "    }\n",
    "}\n",
    "\n",
    "// Clone method of arrays - makes shallow copy\n",
    "int[] a = {1, 2, 3};\n",
    "int[] b = a.clone();  // no need to cast\n",
    "a == b; // false\n",
    "a[1] == b[1]; // true\n",
    "\n",
    "Color[] colors = new Color[]{\n",
    "                new Color((short) 25, (short) 25, (short) 25),\n",
    "                new Color((short) 15, (short) 15, (short) 15)\n",
    "        };\n",
    "Color[] colorClone = colors.clone();\n",
    "colors == colorClone;  // false\n",
    "color[1] = colorClone[1]; // true"
   ]
  },
  {
   "cell_type": "markdown",
   "metadata": {},
   "source": [
    "One of the big disadvantage of this clone pattern is that it doesn't work when we have `final` references to mutable objects (`private final int[] elements;`). Clone still works with `final` fields, however it leaves us with shallow copies.\n",
    "\n",
    "Another example of object containing mutable object reference:"
   ]
  },
  {
   "cell_type": "code",
   "execution_count": null,
   "metadata": {},
   "outputs": [],
   "source": [
    "public class HashMap implements Cloneable {\n",
    "    private Entry[] entries;\n",
    "    \n",
    "    private static class Entry {\n",
    "        final Object key;\n",
    "        Object value;\n",
    "        Entry next;\n",
    "        \n",
    "        // Entry constructor ...\n",
    "        \n",
    "        Entry deepCopy() {\n",
    "            Entry copy = new Entry(key, value, next);\n",
    "            for(Entry e = copy; e.next != null; e = e.next) {\n",
    "                e.next = new Entry(e.next.key, e.next.value, e.next.next);\n",
    "            }\n",
    "            return copy;\n",
    "        }\n",
    "    }\n",
    "    \n",
    "    @Override \n",
    "    public HashMap clone() {  // though keys and values are the same objects in both\n",
    "        try {\n",
    "            HashMap result = (HashMap) super.clone();\n",
    "            result.entries = new Entry[entries.length];\n",
    "            for (int i = 0; i < entries.length; i++)\n",
    "                if (entries[i] != null)\n",
    "                    result.entries[i] = entries[i].deepCopy();\n",
    "            return result;\n",
    "        } catch (CloneNotSupportedException e) {\n",
    "            throw new AssertionError();\n",
    "        }\n",
    "    }\n",
    "}"
   ]
  },
  {
   "cell_type": "markdown",
   "metadata": {},
   "source": [
    "If an object is expected to be accessed by multiple threads, its `clone` implementation must be thread safe.\n",
    "\n",
    "A *copy constructor* is a better way to clone objects."
   ]
  },
  {
   "cell_type": "markdown",
   "metadata": {},
   "source": [
    "## `Objects` Class"
   ]
  },
  {
   "cell_type": "markdown",
   "metadata": {},
   "source": [
    "## `ClassLoader`s\n",
    "Explained in embedded PDF."
   ]
  },
  {
   "cell_type": "code",
   "execution_count": null,
   "metadata": {},
   "outputs": [],
   "source": []
  }
 ],
 "metadata": {
  "kernelspec": {
   "display_name": "Java",
   "language": "java",
   "name": "java"
  },
  "language_info": {
   "codemirror_mode": "java",
   "file_extension": ".jshell",
   "mimetype": "text/x-java-source",
   "name": "Java",
   "pygments_lexer": "java",
   "version": "21.0.2+13-58"
  }
 },
 "nbformat": 4,
 "nbformat_minor": 4
}
