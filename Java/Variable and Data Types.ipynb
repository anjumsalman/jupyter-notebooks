{
 "cells": [
  {
   "cell_type": "markdown",
   "metadata": {},
   "source": [
    "### Primitive Data Types\n",
    "Following are primitive Java data types\n",
    "| Type     | Size (bytes) | Range                                |\n",
    "|----------|--------------|--------------------------------------|\n",
    "| byte     | 1            | -128 to 127                          |\n",
    "| short    | 2            | -32,768 to 32,767                    |\n",
    "| int      | 4            | -2,147,483,648 to 2,147,483,647      |\n",
    "| long     | 8            | -9,223,372,036,854,775,808 to 9,223,372,036,854,775,807 |\n",
    "| float    | 4            | ±1.4E-45 to ±3.4028235E38            |\n",
    "| double   | 8            | ±4.9E-324 to ±1.7976931348623157E308 |\n",
    "| char     | 2            | 0 to 65,535 (Unicode)                |\n",
    "| boolean  | 1            | true or false                        |"
   ]
  },
  {
   "cell_type": "markdown",
   "metadata": {},
   "source": [
    "### char Data Type\n",
    "The `char` data type is the only unsigned data type and is specialized for storing characters. It uses UTF-16 internally."
   ]
  },
  {
   "cell_type": "code",
   "execution_count": 1,
   "metadata": {},
   "outputs": [],
   "source": [
    "char c1 = 'A';\n",
    "char c2 = '\\u0041';    // unicode code point for A\n",
    "char c3 = '\\u00DF';    // unicode code point for β\n",
    "\n",
    "// Or directly input integer\n",
    "char c4 = 223;         // β again"
   ]
  },
  {
   "cell_type": "markdown",
   "metadata": {},
   "source": [
    "We cannot directly assign negative value to char. Since it is out of range, we need to explicitly cast."
   ]
  },
  {
   "cell_type": "code",
   "execution_count": 2,
   "metadata": {},
   "outputs": [
    {
     "ename": "CompilationException",
     "evalue": "",
     "output_type": "error",
     "traceback": [
      "\u001b[1m\u001b[30m|   \u001b[1m\u001b[30mchar c5 = \u001b[0m\u001b[1m\u001b[30m\u001b[41m-20\u001b[0m\u001b[1m\u001b[30m;\u001b[0m",
      "\u001b[1m\u001b[31mincompatible types: possible lossy conversion from int to char\u001b[0m",
      ""
     ]
    }
   ],
   "source": [
    "char c5 = -20;         // error\n",
    "// But can use casting, integer value is 65516, (65536 - 20)\n",
    "char c6 = (char) -20;"
   ]
  },
  {
   "cell_type": "markdown",
   "metadata": {},
   "source": [
    "### Integer Data Types\n",
    "**Widening**: smaller type to larger type. No need to cast, happens implicitly.  \n",
    "**Narrowing**: larger to smaller type. Explicit casting required. Potential data loss.  "
   ]
  },
  {
   "cell_type": "code",
   "execution_count": 3,
   "metadata": {},
   "outputs": [
    {
     "ename": "CompilationException",
     "evalue": "",
     "output_type": "error",
     "traceback": [
      "\u001b[1m\u001b[30m|   \u001b[1m\u001b[30mint i1 = \u001b[0m\u001b[1m\u001b[30m\u001b[41m\u001b[0m\u001b[1m\u001b[30m12345678910;        // error because number out of range for int\u001b[0m",
      "\u001b[1m\u001b[31minteger number too large\u001b[0m",
      ""
     ]
    }
   ],
   "source": [
    "byte b1 = (byte) 128;        // 128 is out of range, explicit casting required, b1 is -128\n",
    "long l1 = 12345678910L;\n",
    "int longInt = (int) l1;      // similar for int\n",
    "\n",
    "long l3 = 125L;\n",
    "int smallInt = (int) l3;     // casting required even though it is within int's range. \n",
    "                             // the types are different and this is narrowing operation.\n",
    "\n",
    "int i1 = 12345678910;        // error because number out of range for int"
   ]
  },
  {
   "cell_type": "markdown",
   "metadata": {},
   "source": [
    "When doing arithmetic on data types smaller than int, Java promotes those data types to int."
   ]
  },
  {
   "cell_type": "code",
   "execution_count": 4,
   "metadata": {},
   "outputs": [
    {
     "ename": "CompilationException",
     "evalue": "",
     "output_type": "error",
     "traceback": [
      "\u001b[1m\u001b[30m|   \u001b[1m\u001b[30mshort s3 = \u001b[0m\u001b[1m\u001b[30m\u001b[41ms1 * s3\u001b[0m\u001b[1m\u001b[30m;\u001b[0m",
      "\u001b[1m\u001b[31mincompatible types: possible lossy conversion from int to short\u001b[0m",
      ""
     ]
    }
   ],
   "source": [
    "short s1 = 10;\n",
    "short s2 = 3;\n",
    "\n",
    "short s3 = s1 * s3;          // error because computed value is an int\n",
    "short s4 = (short)(s1 * s3); // correct way"
   ]
  },
  {
   "cell_type": "markdown",
   "metadata": {},
   "source": [
    "Writing binary, octal and hexadecimal"
   ]
  },
  {
   "cell_type": "code",
   "execution_count": null,
   "metadata": {},
   "outputs": [],
   "source": [
    "int binary = 0b101010;\n",
    "int hexadecimal = 0x2fe7;\n",
    "int octal = 07125;"
   ]
  },
  {
   "cell_type": "markdown",
   "metadata": {},
   "source": [
    "### Floating Point Data Type\n",
    "**float:** 4 bytes, single precision  \n",
    "**double:** 8 bytes, double precision\n",
    "\n",
    "Converting double to float gives error"
   ]
  },
  {
   "cell_type": "code",
   "execution_count": null,
   "metadata": {},
   "outputs": [],
   "source": [
    "float f1 = 25.50;         // this is an error\n",
    "float f2 = 25.50f;        // float literals should have f at end\n",
    "\n",
    "double d1 = f1;           // implicit casting occurs, because widening operation\n",
    "\n",
    "float f3 = 25;            // implicit casting here as well, because of widening"
   ]
  },
  {
   "cell_type": "markdown",
   "metadata": {},
   "source": [
    "The operators `+=, -=, *=, /=` do casting for us"
   ]
  },
  {
   "cell_type": "code",
   "execution_count": null,
   "metadata": {},
   "outputs": [],
   "source": [
    "float extra = 12.5f;\n",
    "int sum = 212;\n",
    "\n",
    "sum = sum + extra;        // error, casting required\n",
    "sum += extra;             // no casting required"
   ]
  },
  {
   "cell_type": "markdown",
   "metadata": {},
   "source": [
    "### Type Promotion Rules\n",
    "As stated earlier, when we do arithmetic operations, the numbers are automatically promoted to certain type. The rules are:\n",
    "1. All byte and short values are promoted to int.\n",
    "2. If one operand is a long, the whole expression is promoted to long.\n",
    "3. If one operand is a float, the entire expression is promoted to float.\n",
    "4. If any of the operands is double, the result is double."
   ]
  },
  {
   "cell_type": "markdown",
   "metadata": {},
   "source": [
    "### Wrapper Types\n",
    "Every primitive type has an associated wrapper class.\n",
    "- byte has Byte\n",
    "- short has Short\n",
    "- char has Character\n",
    "- int has Integer\n",
    "- long has Long\n",
    "- float has Float\n",
    "- double has Double\n",
    "- boolean has Boolean\n",
    "\n",
    "Every wrapper type has these two methods which can help to convert String to the respective data type"
   ]
  },
  {
   "cell_type": "code",
   "execution_count": null,
   "metadata": {},
   "outputs": [],
   "source": [
    "Integer num1 = Integer.valueOf(\"25\");    //valueOf returns wrapper class\n",
    "int num2 = Integer.parseInt(\"25\");       // parseInt returns primitive type"
   ]
  },
  {
   "cell_type": "markdown",
   "metadata": {},
   "source": [
    "A strange scenario"
   ]
  },
  {
   "cell_type": "code",
   "execution_count": null,
   "metadata": {},
   "outputs": [],
   "source": [
    "Integer a = 1000, b = 1000;\n",
    "boolean compare = a == b;                // compare is false because a and b are different objects\n",
    "\n",
    "Integer c = 100, d = 100;\n",
    "boolean compare2 = c == d;               // compare is true because Integer objects in range -128 to\n",
    "                                         // 127 are cached. c and d here refer to the same object."
   ]
  },
  {
   "cell_type": "markdown",
   "metadata": {},
   "source": [
    "### Boxing Unboxing\n",
    "Java automatically converts between primitive and its corresponding wrapper classes. This is called *autoboxing*.  \n",
    "**Boxing**: primtive type -> wrapper  \n",
    "**Unboxing**: wrapper -> primitive  \n",
    "\n",
    "```java\n",
    "Character b_ch = 'a';    // Boxing\n",
    "char ub_ch = b_ch;       // Unboxing\n",
    "```\n",
    "\n",
    "Unboxing `null` can lead to `NullPointerException`\n",
    "```java\n",
    "Integer nullNumber = null;\n",
    "int unboxedNumber = nullNumber;    // error\n",
    "```\n",
    "\n",
    "Wrapper types are the only few classes supporting arithmetic operators\n",
    "```java\n",
    "Integer n1 = 10, n2 = 15;\n",
    "Integer n3 = n1 + n2;\n",
    "```\n",
    "\n",
    "Java does autoboxing when\n",
    "- primitive value is passed as method argument\n",
    "- primitive value is assigned to a wrapper variable\n",
    "```java\n",
    "List<Integer> numberList = new ArrayList<>();\n",
    "for(int i=0; i<10; i++){\n",
    "    numberList.add(i);\n",
    "}\n",
    "```"
   ]
  },
  {
   "cell_type": "code",
   "execution_count": null,
   "metadata": {},
   "outputs": [],
   "source": []
  }
 ],
 "metadata": {
  "kernelspec": {
   "display_name": "Java",
   "language": "java",
   "name": "java"
  },
  "language_info": {
   "codemirror_mode": "java",
   "file_extension": ".jshell",
   "mimetype": "text/x-java-source",
   "name": "Java",
   "pygments_lexer": "java",
   "version": "21.0.2+13-58"
  }
 },
 "nbformat": 4,
 "nbformat_minor": 4
}
