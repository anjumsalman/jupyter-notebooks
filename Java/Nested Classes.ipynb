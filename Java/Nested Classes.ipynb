{
 "cells": [
  {
   "cell_type": "markdown",
   "metadata": {},
   "source": [
    "### Nested Class\n",
    "Class defined within a class is a nested class. A nested class can be:\n",
    "1. Static: such class can only access static members of the enclosing class\n",
    "2. Non static (also called inner class): can access every member of enclosing class (even private one)"
   ]
  },
  {
   "cell_type": "markdown",
   "metadata": {},
   "source": [
    "```java\n",
    "public class NestedClassDemo {\n",
    "\n",
    "\tpublic static void main(String[] args) {\n",
    "\t\t// Creating instance of StaticClass\n",
    "\t\tOuter.StaticClass staticClass = new Outer.StaticClass();\n",
    "\t\t\n",
    "\t\t// Creating instance of Inner Class\n",
    "\t\tOuter outer = new Outer();\n",
    "\t\tOuter.InnerClass innerClass1 = outer.new InnerClass();\n",
    "\t\t// ---or---\n",
    "\t\tOuter.InnerClass innerClass2 = new Outer().new InnerClass();\n",
    "\t}\n",
    "\n",
    "}\n",
    "\n",
    "class Outer{\n",
    "\tprivate int outerMember;\n",
    "\tprivate static int outerStaticMember;\n",
    "\tpublic String x = \"Outer\";\n",
    "\t\n",
    "\tpublic static class StaticClass{\n",
    "\t\tprivate int innerMember;\n",
    "\t\t\n",
    "\t\tpublic StaticClass(){\n",
    "\t\t\t// The only enclosing class member this class\n",
    "\t\t\t// can access\n",
    "\t\t\tinnerMember = outerStaticMember;\n",
    "\t\t}\n",
    "\t}\n",
    "\t\n",
    "\tpublic class InnerClass{\n",
    "\t\tprivate int innerMember;\n",
    "\t\tpublic String x = \"Inner\";\n",
    "\t\t\n",
    "\t\tpublic InnerClass() {\n",
    "\t\t\tinnerMember = outerStaticMember;\n",
    "\t\t}\n",
    "\t\t\n",
    "\t\t// Shadowing\n",
    "\t\tpublic void printData(String x) {\n",
    "\t\t\tSystem.out.println(\"Local = \" + x);\n",
    "\t\t\tSystem.out.println(\"Inner = \" + this.x);\n",
    "\t\t\tSystem.out.println(\"Outer = \" + Outer.this.x);\n",
    "\t\t}\n",
    "\t}\n",
    "}\n",
    "```"
   ]
  },
  {
   "cell_type": "markdown",
   "metadata": {},
   "source": [
    "### Local Class\n",
    "Local class is a variant of inner class. It is defined inside a method definition. Similar to inner classes, a local class can also access every member of enclosing class. It can also access local variables as long as they are `effectively final`."
   ]
  },
  {
   "cell_type": "markdown",
   "metadata": {},
   "source": [
    "```java\n",
    "public class LocalClassDemo {\n",
    "\tprivate int outerMember;\n",
    "\t\n",
    "\tpublic void outerMethod() {\n",
    "\t\tint localVar = 5;\n",
    "\t\t\n",
    "\t\t// Local class can only have abstract or\n",
    "\t\t// final modifiers\n",
    "\t\tclass Worker extends Thread{\n",
    "\t\t\t// Can't modify localVar here\n",
    "\t\t\tpublic void run() {\n",
    "\t\t\t\tSystem.out.println(localVar);\n",
    "\t\t\t\tSystem.out.println(outerMember);\n",
    "\t\t\t}\n",
    "\t\t}\n",
    "\t\t\n",
    "\t\tnew Worker().start();\n",
    "\t}\n",
    "}\n",
    "```"
   ]
  },
  {
   "cell_type": "markdown",
   "metadata": {},
   "source": [
    "### Anonymous Class\n",
    "Very similar to local class, and follows similar rules."
   ]
  },
  {
   "cell_type": "markdown",
   "metadata": {},
   "source": [
    "```java\n",
    "// Anonymous class cannot have explicit constructor\n",
    "addOnClickListener(new OnClickListener(){\n",
    "    public onClick(Event e){\n",
    "        // Implementation\n",
    "    }\n",
    "});\n",
    "```"
   ]
  },
  {
   "cell_type": "code",
   "execution_count": null,
   "metadata": {},
   "outputs": [],
   "source": []
  }
 ],
 "metadata": {
  "kernelspec": {
   "display_name": "Java",
   "language": "java",
   "name": "java"
  },
  "language_info": {
   "codemirror_mode": "java",
   "file_extension": ".java",
   "mimetype": "text/x-java-source",
   "name": "Java",
   "pygments_lexer": "java",
   "version": "9+181"
  }
 },
 "nbformat": 4,
 "nbformat_minor": 2
}
