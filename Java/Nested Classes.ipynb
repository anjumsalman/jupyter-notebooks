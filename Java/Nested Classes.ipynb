{
 "cells": [
  {
   "cell_type": "markdown",
   "metadata": {},
   "source": [
    "### Nested Class\n",
    "Class defined within a class is a nested class. A nested class can be:\n",
    "1. Static: such class can only access static members of the enclosing class\n",
    "2. Non static (also called inner class): can access every member of enclosing class (even private one)"
   ]
  },
  {
   "cell_type": "code",
   "execution_count": null,
   "metadata": {},
   "outputs": [],
   "source": [
    "public class NestedClassDemo {\n",
    "\n",
    "    public static void main(String[] args) {\n",
    "        // Creating instance of StaticClass\n",
    "        Outer.StaticClass staticClass = new Outer.StaticClass();\n",
    "\n",
    "        // Creating instance of Inner Class\n",
    "        Outer outer = new Outer();\n",
    "        Outer.InnerClass innerClass1 = outer.new InnerClass();\n",
    "        // ---or---\n",
    "        Outer.InnerClass innerClass2 = new Outer().new InnerClass();\n",
    "    }\n",
    "\n",
    "}\n",
    "\n",
    "class Outer{\n",
    "    private int outerMember;\n",
    "    private static int outerStaticMember;\n",
    "    public String x = \"Outer\";\n",
    "\n",
    "    // Static nested class\n",
    "    public static class StaticClass{\n",
    "        private int innerMember;\n",
    "\n",
    "        public StaticClass(){\n",
    "            // Can only access static members of the Outer class\n",
    "            innerMember = outerStaticMember;\n",
    "        }\n",
    "    }\n",
    "\n",
    "    // Non-static nested class\n",
    "    public class InnerClass{\n",
    "        private int innerMember;\n",
    "        public String x = \"Inner\";\n",
    "\n",
    "        // static variables inside inner class must be final\n",
    "        public static final innerStatic = 25;\n",
    "\n",
    "        public InnerClass() {\n",
    "            innerMember = outerStaticMember;\n",
    "        }\n",
    "\n",
    "        // Shadowing\n",
    "        public void printData(String x) {\n",
    "            System.out.println(\"Local = \" + x);\n",
    "            System.out.println(\"Inner = \" + this.x);\n",
    "            System.out.println(\"Outer = \" + Outer.this.x);\n",
    "        }\n",
    "    }\n",
    "}"
   ]
  },
  {
   "cell_type": "markdown",
   "metadata": {},
   "source": [
    "The reason why non static nested class can only have final static members can be illustrated by assuming the scenario where it is possible to create non-final static variables."
   ]
  },
  {
   "cell_type": "code",
   "execution_count": null,
   "metadata": {},
   "outputs": [],
   "source": [
    "class Outer{\n",
    "    class Inner{\n",
    "        public static count = 0;\n",
    "    }\n",
    "\n",
    "    public static void main(String[] args){\n",
    "        Outer o1 = new Outer();\n",
    "        Outer o2 = new Outer();\n",
    "        \n",
    "        Outer.Inner i1 = o1.new Inner();\n",
    "        Outer.Inner i2 = o1.new Inner();\n",
    "        \n",
    "        i1.count++;\n",
    "        System.out.println(i2.count); // This would have printed 1\n",
    "    }\n",
    "}"
   ]
  },
  {
   "cell_type": "markdown",
   "metadata": {},
   "source": [
    "An increment on a child of parent 1 causes a change in a child of a different parent, even though a Child class is attached to its Parent class, so children of different parents should have independent contexts."
   ]
  },
  {
   "cell_type": "markdown",
   "metadata": {},
   "source": [
    "### Local Class\n",
    "Local class is a variant of inner class. It is defined inside a method definition. Similar to inner classes, a local class can also access every member of enclosing class. It can also access local variables as long as they are `effectively final`."
   ]
  },
  {
   "cell_type": "code",
   "execution_count": null,
   "metadata": {},
   "outputs": [],
   "source": [
    "public class LocalClassDemo {\n",
    "    private int outerMember;\n",
    "\n",
    "    public void outerMethod() {\n",
    "        int localVar = 5;\n",
    "\n",
    "        // Local class can only have abstract or\n",
    "        // final modifiers\n",
    "        class Worker extends Thread{\n",
    "            // Can't modify localVar here\n",
    "            public void run() {\n",
    "                System.out.println(localVar);\n",
    "                System.out.println(outerMember);\n",
    "            }\n",
    "        }\n",
    "\n",
    "        new Worker().start();\n",
    "    }\n",
    "}"
   ]
  },
  {
   "cell_type": "markdown",
   "metadata": {},
   "source": [
    "Local class inside a static method can only access static variables of enclosing class."
   ]
  },
  {
   "cell_type": "markdown",
   "metadata": {},
   "source": [
    "### Anonymous Class\n",
    "Very similar to local class, and follows similar rules."
   ]
  },
  {
   "cell_type": "code",
   "execution_count": null,
   "metadata": {},
   "outputs": [],
   "source": [
    "// Anonymous class cannot have explicit constructor\n",
    "addOnClickListener(new OnClickListener(){\n",
    "    public onClick(Event e){\n",
    "        // Implementation\n",
    "    }\n",
    "});"
   ]
  },
  {
   "cell_type": "markdown",
   "metadata": {},
   "source": [
    "Coming to the question of local variables being effectively final, this can be explained by noticing the fact that the local variables in this case continue to exist even though the method has gone out of scope (closure). It would be odd if the variable could be altered by an area out of the inner class."
   ]
  },
  {
   "cell_type": "markdown",
   "metadata": {},
   "source": [
    "### Lambda Expression\n",
    "A lambda expression is a simplified syntax for implementation of *functional interfaces*. Consider the snippet below:"
   ]
  },
  {
   "cell_type": "code",
   "execution_count": null,
   "metadata": {},
   "outputs": [],
   "source": [
    "public class LambdaExpression {\n",
    "    public static void main(String[] args) {\n",
    "        LambdaExpression expr = new LambdaExpression();\n",
    "        expr.addStateChangeListener(new StateChangeListener() {\n",
    "\n",
    "            @Override\n",
    "            public void onStateChange(String oldState, String newState) {\n",
    "                // Implementation\n",
    "            }\n",
    "        });\n",
    "    }\n",
    "\n",
    "    public void addStateChangeListener(StateChangeListener sL) {\n",
    "        String prev = \"Previous State\";\n",
    "        String next = \"Next State\";\n",
    "        sL.onStateChange(prev, next);\n",
    "    }\n",
    "}\n",
    "\n",
    "@FunctionalInterface\n",
    "interface StateChangeListener{\n",
    "    public void onStateChange(String oldState, String newState);\n",
    "}"
   ]
  },
  {
   "cell_type": "markdown",
   "metadata": {},
   "source": [
    "The above code can be shortened to:"
   ]
  },
  {
   "cell_type": "code",
   "execution_count": null,
   "metadata": {},
   "outputs": [],
   "source": [
    "public class LambdaExpression {\n",
    "    public static void main(String[] args) {\n",
    "        LambdaExpression expr = new LambdaExpression();\n",
    "        expr.addStateChangeListener((x, y) -> {\n",
    "            // Implementation\n",
    "        });\n",
    "    }\n",
    "\n",
    "    public void addStateChangeListener(StateChangeListener sL) {\n",
    "        String prev = \"Previous State\";\n",
    "        String next = \"Next State\";\n",
    "        sL.onStateChange(prev, next);\n",
    "    }\n",
    "}\n",
    "\n",
    "@FunctionalInterface\n",
    "interface StateChangeListener {\n",
    "    public void onStateChange(String oldState, String newState);\n",
    "}"
   ]
  },
  {
   "cell_type": "markdown",
   "metadata": {},
   "source": [
    "The lambda expression syntax can take various forms as listed:\n",
    "- `(x, y) -> { //Statements }`\n",
    "- `(x, y) -> // One line implmentation`\n",
    "- `x -> { //Statements }`\n",
    "- `x -> // One line implmentation`\n",
    "- `() -> { //Statements }`\n",
    "\n",
    "Lambda expressions are basically objects, so we can assign it to variables\n",
    "```java\n",
    "StateChangeListener sL = (x, y) -> { /*Implementatoin*/ };\n",
    "```\n",
    "\n",
    "Lambda expression can only be used with functional interfaces. Even if an interface has 3 methods out of which 2 are default or static, then also it can be used in a lambda expression. `java.util.function` interface provides a number of different functional interfaces, each has a single method differing only in signature and return value:\n",
    "\n",
    "- **Function:** takes a parameter of type T and returns value with type R\n",
    "```java\n",
    "Function<String, Integer> toInteger = (inputString) -> { return Integer.parseInt(inputString } // can even skip the return keyword here;\n",
    "```\n",
    "\n",
    "- **Predicate:** takes a single value as parameter, and returns true or false.\n",
    "```java\n",
    "Function<Object> isNull = obj -> obj == null;\n",
    "```\n",
    "\n",
    "- **UnaryOperator:** takes a single parameter and returns a parameter of the same type\n",
    "```java\n",
    "UnaryOperator<String> toUpper = str -> str.toUpperCase();\n",
    "```\n",
    "\n",
    "- **BinaryOperator:** takes a two parameters and returns a parameter of the same type\n",
    "```java\n",
    "BinaryOperator<Integer, Integer> adder = (x, y) -> { return x + y};\n",
    "```\n",
    "\n",
    "- **Supplier:** represents a function that supplies a value of some sorts\n",
    "```java\n",
    "Supplier<Integer> random = () -> { Random rnd = new Random(); return rnd.nextInt(); }\n",
    "```\n",
    "\n",
    "- **Consumer:**  represents an function that consumes a value without returning any value\n",
    "```java\n",
    "Consumer<String> logger = (data) -> { // Log it };\n",
    "```"
   ]
  },
  {
   "cell_type": "code",
   "execution_count": null,
   "metadata": {},
   "outputs": [],
   "source": []
  }
 ],
 "metadata": {
  "kernelspec": {
   "display_name": "Java",
   "language": "java",
   "name": "java"
  },
  "language_info": {
   "codemirror_mode": "java",
   "file_extension": ".jshell",
   "mimetype": "text/x-java-source",
   "name": "Java",
   "pygments_lexer": "java",
   "version": "13+33"
  }
 },
 "nbformat": 4,
 "nbformat_minor": 4
}
