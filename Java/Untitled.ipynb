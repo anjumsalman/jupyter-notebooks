{
 "cells": [
  {
   "cell_type": "markdown",
   "metadata": {},
   "source": [
    "### ThreadsLocking can guarantee both visibility and atomicity; volatile variables can\n",
    "only guarantee visibility.\n",
    "There are two primary ways to create a thread. 1) Extend the `Thread` class and override the run method."
   ]
  },
  {
   "cell_type": "code",
   "execution_count": null,
   "metadata": {},
   "outputs": [],
   "source": [
    "public class Worker extends Thread{\n",
    "    @Override\n",
    "    public void run(){\n",
    "        System.out.println(\"Worker thread running\");\n",
    "    }\n",
    "}\n",
    "\n",
    "Worker worker = new Worker();"
   ]
  },
  {
   "cell_type": "markdown",
   "metadata": {},
   "source": [
    "2) The preferred way is to pass a `Runnable` instance to Thread constructor"
   ]
  },
  {
   "cell_type": "code",
   "execution_count": null,
   "metadata": {},
   "outputs": [],
   "source": [
    "Runnable runnable = new Runnable{\n",
    "    public void run(){\n",
    "        System.out.println(\"Worker thread running\");\n",
    "    }\n",
    "}\n",
    "\n",
    "Thread worker = new Thread(runnable);"
   ]
  },
  {
   "cell_type": "markdown",
   "metadata": {},
   "source": [
    "**Starting a thread:** use the `start` method of the Thread class. The `isAlive` method can tell if the thread is currently running or not. isAlive returns false if the thread has not been started or the thread has been terminated.  \n",
    "\n",
    "**Stopping a thread:** is not as straight forward as starting it. The only way to terminate a thread is to arrange for its run method to complete. The thread class has a `stop` method, but it has been deprecated. Thread throwing an unchecked exception can also terminate the thread. Two approaches for stopping a thread: \n",
    "1) setting a flag"
   ]
  },
  {
   "cell_type": "code",
   "execution_count": null,
   "metadata": {},
   "outputs": [],
   "source": [
    "public class Worker extends Thread{\n",
    "    private volatile boolean done = false;\n",
    "    \n",
    "    @Override\n",
    "    public void run(){\n",
    "        while(!done){\n",
    "            // Do something\n",
    "        }\n",
    "    }\n",
    "    \n",
    "    // Other methods\n",
    "}"
   ]
  },
  {
   "cell_type": "markdown",
   "metadata": {},
   "source": [
    "An external code can stop this thread by setting done as true. But the thread will only stop when the execution reaches the top of the loop (and not immediately).  \n",
    "2) Using interrupts: we can call `interrupt` method of any thread. It has two effects. First, it sets internal interrupted flag of the thread to true. Second, it causes any blocking method like `sleep`, `join`, `wait` to stop blocking and throw `InterruptedException`."
   ]
  },
  {
   "cell_type": "code",
   "execution_count": null,
   "metadata": {},
   "outputs": [],
   "source": [
    "public class Worker extends Thread{\n",
    "    \n",
    "    @Override\n",
    "    public void run(){\n",
    "        while(!isInterrupted()){\n",
    "            // Do something\n",
    "        }\n",
    "    }\n",
    "    \n",
    "    // Other methods\n",
    "}\n",
    "\n",
    "Worker worker = new Worker();\n",
    "worker.start();\n",
    "worker.interrupt();"
   ]
  },
  {
   "cell_type": "markdown",
   "metadata": {},
   "source": [
    "**Pausing a thread:** the Thread class has `suspend` and `resume` methods which have been deprecated. It is still possible for a thread to suspend its own execution for a specified amount of time using `sleep` method. The least amount of time a thread can sleep on most Java implementations is 20 to 50 ms."
   ]
  },
  {
   "cell_type": "code",
   "execution_count": 6,
   "metadata": {},
   "outputs": [
    {
     "name": "stdout",
     "output_type": "stream",
     "text": [
      "1152488192\t2140810343\t1285862342\t1650368227\t-1184878083\t1039227028\t278517272\t-1543200418\t401414008\t-531716027\t"
     ]
    }
   ],
   "source": [
    "public class DelayedRandomGenerator extends Thread {\n",
    "    public void run() {\n",
    "        Random random = new Random();\n",
    "        while (!isInterrupted()) {\n",
    "            System.out.print(random.nextInt() + \"\\t\");\n",
    "            try {\n",
    "                sleep(200);\n",
    "            } catch (InterruptedException e) {\n",
    "                break;\n",
    "            }\n",
    "        }\n",
    "    }\n",
    "}\n",
    "\n",
    "DelayedRandomGenerator generator = new DelayedRandomGenerator();\n",
    "generator.start();\n",
    "\n",
    "try {\n",
    "    Thread.sleep(1000);\n",
    "} catch (InterruptedException e) {\n",
    "    System.exit(0);\n",
    "}        \n",
    "\n",
    "generator.interrupt();"
   ]
  },
  {
   "cell_type": "markdown",
   "metadata": {},
   "source": [
    "### Race Condition\n",
    "When two or more threads access a given state variable, and try to change it, it can lead to a race condition."
   ]
  },
  {
   "cell_type": "code",
   "execution_count": null,
   "metadata": {},
   "outputs": [],
   "source": [
    "class SharedUnsafeObject {\n",
    "    private long counter = 0;\n",
    "\n",
    "    public void incrementCounter() {\n",
    "        this.counter++;\n",
    "    }\n",
    "\n",
    "    public long getCounter() {\n",
    "        return this.counter;\n",
    "    }\n",
    "}\n",
    "\n",
    "SharedUnsafeObject obj = new SharedUnsafeObject();\n",
    "\n",
    "// 5 threads trying to access counter variable of the\n",
    "// same object\n",
    "for (int i = 0; i < 5; i++) {\n",
    "    new Thread(() -> {\n",
    "        obj.incrementCounter();\n",
    "    }).start();\n",
    "}\n",
    "\n",
    "try {\n",
    "    Thread.sleep(1000);\n",
    "    System.out.println(obj.getCounter()); // Output not guaranteed as 5\n",
    "} catch (InterruptedException e) {\n",
    "    e.printStackTrace();\n",
    "}"
   ]
  },
  {
   "cell_type": "markdown",
   "metadata": {},
   "source": [
    "Race condition in above case happens because the operation `this.counter++;` is not atomic. It is comprised of few substeps and different threads can interleave execution of these steps. Another race condition is present in the below version of singleton:"
   ]
  },
  {
   "cell_type": "code",
   "execution_count": null,
   "metadata": {},
   "outputs": [],
   "source": [
    "public class Singleton{\n",
    "    private static Singleton instance = null;\n",
    "    \n",
    "    public Singleton getInstance(){\n",
    "        if(instance == null){\n",
    "            instance = new Singleton();\n",
    "        }\n",
    "        \n",
    "        return instance;\n",
    "    }\n",
    "    \n",
    "    // Private constructors, etc\n",
    "}"
   ]
  },
  {
   "cell_type": "markdown",
   "metadata": {},
   "source": [
    "Calling `getInstance` can lead to creation of two different objects. One way to prevent race condition is to utilise *atomic operations*. The increment operation in previous example is a *read-modify-write* operation, whereas operation in singleton example is *check then act* operation. Both of these must be atomic. The read-modify-write operation problem can be solved using an *Atomic Type*."
   ]
  },
  {
   "cell_type": "code",
   "execution_count": null,
   "metadata": {},
   "outputs": [],
   "source": [
    "class SharedSafeObject {\n",
    "    private AtomicLong counter = new AtomicLong(0);\n",
    "\n",
    "    public void incrementCounter() {\n",
    "        this.counter.incrementAndGet();\n",
    "    }\n",
    "\n",
    "    public long getCounter() {\n",
    "        return this.counter.get();\n",
    "    }\n",
    "}"
   ]
  },
  {
   "cell_type": "markdown",
   "metadata": {},
   "source": [
    "Another solution is to use `synchronized` keyword. A method marked as synchronized can be executed by a single thread at any given moment. Whenever a thread wants to execute a synchronized method, it first obtain the corresponding lock. If the lock is held by another thread, then the thread requesting lock must wait till the lock is released.  \n",
    "\n",
    "Below is the synchronized version of the shared object example used earlier:"
   ]
  },
  {
   "cell_type": "code",
   "execution_count": null,
   "metadata": {},
   "outputs": [],
   "source": [
    "class SharedObject {\n",
    "    private long counter = 0;\n",
    "\n",
    "    public synchronized void incrementCounter() {\n",
    "        this.counter++;\n",
    "    }\n",
    "\n",
    "    public synchronized long getCounter() {\n",
    "        return this.counter;\n",
    "    }\n",
    "}"
   ]
  },
  {
   "cell_type": "markdown",
   "metadata": {},
   "source": [
    "The above example is equivalent to:"
   ]
  },
  {
   "cell_type": "code",
   "execution_count": null,
   "metadata": {},
   "outputs": [],
   "source": [
    "// The lock object is 'this'\n",
    "class SharedObject {\n",
    "    private long counter = 0;\n",
    "\n",
    "    public void incrementCounter() {\n",
    "        synchronized(this){\n",
    "            this.counter++;\n",
    "        }\n",
    "    }\n",
    "\n",
    "    public long getCounter() {\n",
    "        synchronized(this){\n",
    "            return this.counter;\n",
    "        }\n",
    "    }\n",
    "}"
   ]
  },
  {
   "cell_type": "markdown",
   "metadata": {},
   "source": [
    "If an object has two independent state variables, it better to use to different lock objects such that two different threads can access two states concurrently."
   ]
  },
  {
   "cell_type": "code",
   "execution_count": null,
   "metadata": {},
   "outputs": [],
   "source": [
    "class SharedObject {\n",
    "    private long c1 = 0;\n",
    "    private long c2 = 0;\n",
    "    private Object o1 = new Object();\n",
    "    private Object o2 = new Object();\n",
    "\n",
    "    public void incrementC1() {\n",
    "        synchronized(o1){\n",
    "            this.c1++;\n",
    "        }\n",
    "    }\n",
    "\n",
    "    public void incrementC2() {\n",
    "        synchronized(o2){\n",
    "            this.c2++;\n",
    "        }\n",
    "    }\n",
    "}"
   ]
  },
  {
   "cell_type": "markdown",
   "metadata": {},
   "source": [
    "### Visibility\n",
    "Synchronization also has another significant, and subtle, aspect: memory visibility. We want not only to prevent one thread from modifying the state of an object when another is using it, but also to ensure that when a thread modifies the state of an object, other threads can actually see the changes that were made.  \n",
    "\n",
    "In general, there is no guarantee that the reading thread will see a value written by another thread on a timely basis, or even at all."
   ]
  },
  {
   "cell_type": "code",
   "execution_count": null,
   "metadata": {},
   "outputs": [],
   "source": [
    "public class NoVisibility {\n",
    "    private static boolean ready;\n",
    "    private static int number;\n",
    "    \n",
    "    private static class ReaderThread extends Thread {\n",
    "        public void run() {\n",
    "            while (!ready)\n",
    "                // Yield means the current thread is willing to relinquish its current use of processor\n",
    "                // but it'd like to be scheduled back soon as possible. \n",
    "                Thread.yield();\n",
    "            System.out.println(number);\n",
    "        }\n",
    "    }\n",
    "    \n",
    "    public static void main(String[] args) {\n",
    "        new ReaderThread().start();\n",
    "        number = 42;\n",
    "        ready = true;\n",
    "    }\n",
    "}"
   ]
  },
  {
   "cell_type": "markdown",
   "metadata": {},
   "source": [
    "The problem with above code is that it is not necessary that the updated values of number or ready (made by main thread), is visible to the ReaderThread. The ReaderThread may print 42, or the loop may run indefinitely.  \n",
    "\n",
    "One reason for reading stale values is the cache of the CPU cores. Each core of modern CPUs has its own cache. So if the reading and writing thread runs on different cores the reading thread sees a cached value and not the value written by the writing thread.\n",
    "\n",
    "The ReaderThread may also output 0. This can be due to *instruction reordering*. JVM may reorder two instructions which are not related to each other. For example:\n",
    "```\n",
    "a = b + c\n",
    "d = a + e\n",
    "\n",
    "l = m + n\n",
    "y = x + z\n",
    "```\n",
    "can be reordered to:\n",
    "```\n",
    "a = b + c\n",
    "\n",
    "l = m + n\n",
    "y = x + z\n",
    "\n",
    "d = a + e\n",
    "```\n",
    "\n",
    "It is not sufficient to synchronize just the setter. The getter must also be synchronized, else we may get stale value."
   ]
  },
  {
   "cell_type": "code",
   "execution_count": null,
   "metadata": {},
   "outputs": [],
   "source": [
    "public class SynchronizedInteger {\n",
    "    private int value;\n",
    "    \n",
    "    public synchronized int get() { \n",
    "        return value; \n",
    "    }\n",
    "    \n",
    "    public synchronized void set(int value) { \n",
    "        this.value = value; \n",
    "    }\n",
    "}"
   ]
  },
  {
   "cell_type": "markdown",
   "metadata": {},
   "source": [
    "Unlike primitives like int, float and double are not read from memory in one atomic step. Rather, 32 bits are read at a time. So it may be possible to read 32 bits of fresh value and 32 bits of stale value."
   ]
  },
  {
   "cell_type": "markdown",
   "metadata": {},
   "source": [
    "**Volatile variables:** are another solution to visibility problem. Any read or write on volatile variables are done to the main memory rather than CPU caches. The visibility effects of volatile variables extend beyond the value of the volatile variable itself. When thread A writes to a volatile variable and subsequently thread B reads that same variable, the values of all variables that were visible to A prior to writing to the volatile variable become visible to B after reading the volatile variable.\n",
    "\n",
    "The above example of SynchronizedInteger can modified to:"
   ]
  },
  {
   "cell_type": "code",
   "execution_count": null,
   "metadata": {},
   "outputs": [],
   "source": [
    "public class VolatileInteger {\n",
    "    private volatile int value;\n",
    "    \n",
    "    public int get() { \n",
    "        return value; \n",
    "    }\n",
    "    \n",
    "    public void set(int value) { \n",
    "        this.value = value; \n",
    "    }\n",
    "}"
   ]
  },
  {
   "cell_type": "markdown",
   "metadata": {},
   "source": [
    "Locking using synchronized blocks can guarantee both visibility and atomicity; volatile variables can only guarantee visibility."
   ]
  },
  {
   "cell_type": "code",
   "execution_count": null,
   "metadata": {},
   "outputs": [],
   "source": []
  }
 ],
 "metadata": {
  "kernelspec": {
   "display_name": "Java",
   "language": "java",
   "name": "java"
  },
  "language_info": {
   "codemirror_mode": "java",
   "file_extension": ".jshell",
   "mimetype": "text/x-java-source",
   "name": "Java",
   "pygments_lexer": "java",
   "version": "13+33"
  }
 },
 "nbformat": 4,
 "nbformat_minor": 4
}
