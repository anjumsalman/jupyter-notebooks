{
 "cells": [
  {
   "cell_type": "markdown",
   "metadata": {},
   "source": [
    "### Interface Members\n",
    "All interface members are `public` by default. You can't make an interface member private/protected. In Java 9, we can create private methods inside an interface. Interface allows us to declare private methods that help to share common code between non-abstract methods (default method). In addition to this,\n",
    "- interface variables are `public`, `static` and `final`. It doesn't matter if you specify those modifiers or not\n",
    "- interface methods are `public` and `abstract` by default\n",
    "- `static` interface methods must have a body. Also in classes implementing the given interface, to access static methods we must use interface name.\n",
    "- interface methods marked as `default` must have a body as well"
   ]
  },
  {
   "cell_type": "code",
   "execution_count": null,
   "metadata": {},
   "outputs": [],
   "source": [
    "public interface SampleInterface {\n",
    "    double pi = 3.14; // public, static and final\n",
    "    \n",
    "    void doSomething();\n",
    "    \n",
    "    static void printSomething(){\n",
    "        System.out.println(\"Something\");\n",
    "    }\n",
    "    \n",
    "    default void doSomethingElse(){\n",
    "        System.out.println(\"Something else\");\n",
    "    }\n",
    "}"
   ]
  },
  {
   "cell_type": "markdown",
   "metadata": {},
   "source": [
    "### Implementing Multiple Interfaces\n",
    "If a class implements two interfaces as defined below, it is an error due to ambiguity"
   ]
  },
  {
   "cell_type": "code",
   "execution_count": null,
   "metadata": {},
   "outputs": [],
   "source": [
    "interface A{\n",
    "    int something();\n",
    "}\n",
    "\n",
    "interface B{\n",
    "    String something();\n",
    "}\n",
    "\n",
    "class C implements A, B{    // error\n",
    "\n",
    "}"
   ]
  },
  {
   "cell_type": "markdown",
   "metadata": {},
   "source": [
    "But the below code works fine"
   ]
  },
  {
   "cell_type": "code",
   "execution_count": null,
   "metadata": {},
   "outputs": [],
   "source": [
    "interface A{\n",
    "    int something();\n",
    "}\n",
    "\n",
    "interface B{\n",
    "    int something();\n",
    "}\n",
    "\n",
    "class C implements A, B{    \n",
    "}"
   ]
  }
 ],
 "metadata": {
  "kernelspec": {
   "display_name": "Java",
   "language": "java",
   "name": "java"
  },
  "language_info": {
   "codemirror_mode": "java",
   "file_extension": ".jshell",
   "mimetype": "text/x-java-source",
   "name": "Java",
   "pygments_lexer": "java",
   "version": "21.0.2+13-58"
  }
 },
 "nbformat": 4,
 "nbformat_minor": 4
}
