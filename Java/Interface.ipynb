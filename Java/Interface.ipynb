{
 "cells": [
  {
   "cell_type": "markdown",
   "metadata": {},
   "source": [
    "### Interface Members\n",
    "All interface members are public by default. You can't make an interface member private/protected. In addition to this,\n",
    "- interface variables are public, static and final. It doesn't matter if you specify those modifiers or not\n",
    "- interface methods are public and abstract by default\n",
    "- static interface methods must have a body\n",
    "- interface methods marked as default must have a body as well"
   ]
  },
  {
   "cell_type": "markdown",
   "metadata": {},
   "source": [
    "```java\n",
    "public interface SampleInterface {\n",
    "    double pi = 3.14; // public, static and final\n",
    "    \n",
    "    void doSomething();\n",
    "    \n",
    "    static void printSomething(){\n",
    "        System.out.println(\"Something\");\n",
    "    }\n",
    "    \n",
    "    default void doSomethingElse(){\n",
    "        System.out.println(\"Something else\");\n",
    "    }\n",
    "}\n",
    "```"
   ]
  },
  {
   "cell_type": "code",
   "execution_count": null,
   "metadata": {},
   "outputs": [],
   "source": []
  }
 ],
 "metadata": {
  "kernelspec": {
   "display_name": "Java",
   "language": "java",
   "name": "java"
  },
  "language_info": {
   "codemirror_mode": "java",
   "file_extension": ".java",
   "mimetype": "text/x-java-source",
   "name": "Java",
   "pygments_lexer": "java",
   "version": "9+181"
  }
 },
 "nbformat": 4,
 "nbformat_minor": 2
}
