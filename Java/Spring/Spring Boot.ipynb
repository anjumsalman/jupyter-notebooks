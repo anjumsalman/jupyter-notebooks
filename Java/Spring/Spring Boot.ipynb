{
 "cells": [
  {
   "cell_type": "markdown",
   "id": "36bafa4f-6101-4c2b-883b-225d4dd7d37b",
   "metadata": {},
   "source": [
    "## Spring Boot Starters\n",
    "Starters contain a lot of the dependencies that we need to get a project up and running quickly and with a consistent, supported set of managed transitive dependencies. All official starters follow a similar naming pattern; `spring-boot-starter-*`, where `*` is a particular type of application.\n",
    "\n",
    "Some major starters:\n",
    "\n",
    "| Starter       | Description                                                                |\n",
    "|---------------|--------------------------------------------------------------------------- |\n",
    "| spring-boot-starter | Core starter, including auto-configuration support, logging and YAML |\n",
    "| spring-boot-starter-batch | Starter for Spring Batch applications                          |\n",
    "| spring-boot-starter-cache | Starter ffor Spring cache support                              |\n",
    "| spring-boot-starter-jdbc | Starter for using JDBC with the HikariCP connection pool        |\n",
    "| spring-boot-starter-data-jdbc | Starter for using Spring Data JDBC                         |\n",
    "| spring-boot-starter-data-jpa | Starter for using Spring Data JPA with Hibernate            |\n",
    "| spring-boot-starter-json | Starter for reading and writing json                            |\n",
    "| spring-boot-starter-test | Starter for testing Spring Boot applications with JUnit Jupiter, Hamcrest and Mockito |\n",
    "| spring-boot-starter-web  | Starter for building web applications using Spring MVC. Uses Tomcat as the default embedded container |\n",
    "| spring-boot-starter-actuator | Starter for using Spring Boot’s Actuator                    |\n",
    "| spring-boot-starter-logging | Starter for logging using Logback.                           |"
   ]
  },
  {
   "cell_type": "markdown",
   "id": "e2f25a5d-c9a6-44c4-ae3d-64b4857bb649",
   "metadata": {},
   "source": [
    "## Starter in Details\n",
    "### spring-boot-starter\n",
    "Includes the following dependencies (using Spring Boot version 2.4.3):\n",
    "\n",
    "```\n",
    "org.springframework.boot:spring-boot:2.4.3\n",
    "        org.springframework:spring-core:5.3.4\n",
    "        org.springframework:spring-context:5.3.4\n",
    "                org.springframework:spring-aop:5.3.4\n",
    "                org.springframework:spring-bean:5.3.4\n",
    "                ...\n",
    "org.springframework.boot:spring-boot-autoconfigure:2.4.3\n",
    "\n",
    "org.springframework.boot:spring-boot-starter-logging:2.4.3\n",
    "\n",
    "org.springframework:spring-core:5.3.4\n",
    "\n",
    "org.yaml:snakeyaml:1.27\n",
    "\n",
    "jakarta.annotation:jakarta.annotation-api:1.3.5\n",
    "```\n",
    "\n",
    "### spring-boot-starter-cache\n",
    "Includes the following dependencies (using Spring Boot version 2.4.3):\n",
    "\n",
    "```\n",
    "org.springframework.boot:spring-boot-starter:2.4.3\n",
    "\n",
    "org.springframework:spring-context-support:5.3.4\n",
    "```\n",
    "\n",
    "### spring-boot-starter-jdbc\n",
    "Includes the following dependencies (using Spring Boot version 2.4.3):\n",
    "\n",
    "```\n",
    "org.springframework.boot:spring-boot-starter:2.4.3\n",
    "\n",
    "org.springframework:spring-jdbc:5.3.4\n",
    "\n",
    "com.zaxxer:HikariCP:3.4.5\n",
    "```\n",
    "\n",
    "### spring-boot-starter-web\n",
    "Includes the following dependencies (using Spring Boot version 2.4.3):\n",
    "\n",
    "```\n",
    "org.springframework.boot:spring-boot-starter:2.4.3\n",
    "org.springframework.boot:spring-boot-starter-json:2.4.3\n",
    "org.springframework.boot:spring-boot-starter-tomcat:2.4.3\n",
    "\n",
    "org.springframework:spring-web:5.3.4\n",
    "org.springframework:spring-webmvc:5.3.4\n",
    "```"
   ]
  },
  {
   "cell_type": "markdown",
   "id": "235a9798-166c-412b-a133-c3d2520be18b",
   "metadata": {},
   "source": [
    "## AutoConfiguration\n",
    "The `@EnableAutoConfiguration` annotation is defined as:"
   ]
  },
  {
   "cell_type": "code",
   "execution_count": null,
   "id": "d110901e-7868-4bb8-a8aa-b7538ef0c830",
   "metadata": {},
   "outputs": [],
   "source": [
    "@Target(ElementType.TYPE)\n",
    "@Retention(RetentionPolicy.RUNTIME)\n",
    "@Documented\n",
    "@Inherited\n",
    "@AutoConfigurationPackage\n",
    "@Import(AutoConfigurationImportSelector.class)\n",
    "public @interface EnableAutoConfiguration {\n",
    "    // fields\n",
    "}"
   ]
  },
  {
   "cell_type": "markdown",
   "id": "8ff7b60a-33c5-47f5-8afb-453d563dd285",
   "metadata": {},
   "source": [
    "Contrary to the expectation, `AutoConfigurationImportSelector` class is not a configuration class. If we look at the documentation for `@Import` we can see that:\n",
    "> `@Import` Allows for importing `@Configuration` classes, `ImportSelector` and `ImportBeanDefinitionRegistrar` implementations, as well as regular component classes.\n",
    "\n",
    "`AutoConfigurationImportSelector` implements `DeferredImportSelector` which in turn imports `ImportSelector`. The implementation for `ImportSelector` provides a way to programmatically select which configuration classes to import. For example, the below code snippet shows how different configuration classes are selected based on value of an environment variable:"
   ]
  },
  {
   "cell_type": "code",
   "execution_count": null,
   "id": "ca940ae0-ebce-4ade-b6f6-7a3786cb4d07",
   "metadata": {},
   "outputs": [],
   "source": [
    "public class MyImportSelector implements ImportSelector {\n",
    "    @Override\n",
    "    public String[] selectImports (AnnotationMetadata importingClassMetadata) {\n",
    "      String prop = System.env(\"environment\");\n",
    "      if (\"test\".equals(prop)) {\n",
    "          return new String[]{TestConfig.class.getName()};\n",
    "      } else {\n",
    "          return new String[]{ProdConfig.class.getName()};\n",
    "      }\n",
    "    }\n",
    "}\n",
    "\n",
    "@Configuration\n",
    "class TestConfig{\n",
    "    // Beans\n",
    "}\n",
    "\n",
    "@Configuration\n",
    "class ProdConfig{\n",
    "    // Beans\n",
    "}\n",
    "\n",
    "@Configuration\n",
    "@Import(MyImportSelector.class)\n",
    "class AppConfig{\n",
    "}"
   ]
  },
  {
   "cell_type": "markdown",
   "id": "3cdb1fa5-99f9-413e-8fbc-7a2fc9116776",
   "metadata": {},
   "source": [
    "`DeferredImportSelector` runs after all configuration classes have been processed. `AutoConfigurationImportSelector` gets the list of all configuration classes from `spring.factories` file present in `spring-boot-autoconfigure.jar`. All configuration classes (over 150) are listed here. From this list some configuration classes are removed as per value passed to `exclude` or `excludeName` attribute of `@SpringBootApplication` annotation.\n",
    "\n",
    "Sample `spring.factories`:\n",
    "\n",
    "```\n",
    "org.springframework.boot.autoconfigure.EnableAutoConfiguration=\\\n",
    "org.springframework.boot.autoconfigure.admin.SpringApplicationAdminJmxAutoConfiguration,\\\n",
    "org.springframework.boot.autoconfigure.aop.AopAutoConfiguration,\\\n",
    "org.springframework.boot.autoconfigure.amqp.RabbitAutoConfiguration\n",
    "```"
   ]
  },
  {
   "cell_type": "markdown",
   "id": "10b908c9-7f49-4352-b28b-9065025b10c0",
   "metadata": {},
   "source": [
    "### Conditional\n",
    "Spring Boot auto-configuration classes heavily make use of `@Conditional` Spring annotation. Spring infact provides several variations of conditionals such as:\n",
    "- `@ConditionalOnProperty` : enables bean registration only if an environment property is present and has a specific value. By default, the specified property must be defined and not equal to false."
   ]
  },
  {
   "cell_type": "code",
   "execution_count": null,
   "id": "46557af7-14c8-4e92-8070-eb9f2ebb6b1d",
   "metadata": {},
   "outputs": [],
   "source": [
    "@Bean(name = \"smsNotification\")\n",
    "// Bean created when there is a property notifocation.service=sms\n",
    "// we can skip havingValue, that would mean just presence of property is enough\n",
    "@ConditionalOnProperty(prefix = \"notification\", name = \"service\", havingValue = \"sms\")\n",
    "public NotificationSender getSmsNotificationSender() {\n",
    "    return new SmsNotification();\n",
    "}"
   ]
  },
  {
   "cell_type": "markdown",
   "id": "cbf60fb0-94ca-47d7-9a5d-c1d42311a55c",
   "metadata": {},
   "source": [
    "- `@ConditionalOnClass`, `@ConditionalOnMissingClass` : allows configuration to be skipped based on the presence or absence of specific classes."
   ]
  },
  {
   "cell_type": "code",
   "execution_count": null,
   "id": "3327de4f-06ab-43be-a727-3c5d8fbcd63d",
   "metadata": {},
   "outputs": [],
   "source": [
    "@Configuration\n",
    "@ConditionalOnClass(HikariDataSource.class)\n",
    "public class DatasourceConfiguration {\n",
    "    @Bean\n",
    "    public DataSource getDataSource(DataSourceProperties properties) {\n",
    "      HikariDataSource dataSource = createDataSource(properties, HikariDataSource.class);\n",
    "      if (StringUtils.hasText(properties.getName())) {\n",
    "          dataSource.setPoolName(properties.getName());\n",
    "      }\n",
    "      return dataSource;\n",
    "    }\n",
    "}"
   ]
  },
  {
   "cell_type": "markdown",
   "id": "60444b14-fdcf-46c9-8891-5cec55bd2bfd",
   "metadata": {},
   "source": [
    "- `@ConditionalOnBean` , `@ConditionalOnMissingBean` : allow configurations to be skipped based on the presence or absence of specific beans. We can use the value attribute to specify beans by type, or name to specify beans by name. When placed on a `@Bean` method, the bean class defaults to the return type of the factory method.\n",
    "\n",
    "Some other variants are `@ConditionalOnNotWebApplication`, `@ConditionalOnExpression` , `@ConditionalOnProperty`, `@ConditionalOnResource`, `@ConditionalOnJava`, etc."
   ]
  },
  {
   "cell_type": "markdown",
   "id": "07016617-296a-493f-850d-48ce65fce6ca",
   "metadata": {},
   "source": [
    "### Custom AutoConfiguration\n",
    "This section is intended for library authors who would want to develop their own auto-configuration. Auto-configuration classes can be bundled in external jars and still be picked-up by Spring Boot.\n",
    "\n",
    "Starter dependencies for example provide both auto-configuration code as well as the typical libraries that we would use with it. In case, we just want to include the auto-configurations we need to mark the libraries as optional dependency in Maven.\n",
    "\n",
    "Spring Boot checks for the presence of a `META-INF/spring.factories` (put this in resources folder) file within the published jar. This file is essentially a properties file. The auto-configuration class should be listed in the file as:\n",
    "\n",
    "```\n",
    "org.springframework.boot.autoconfigure.EnableAutoConfiguration=\\\n",
    "com.example.autoconfigure.LibXAutoConfiguration,\\\n",
    "com.example.autoconfigure.LibYAutoConfiguration\n",
    "```\n",
    "\n",
    "A typical configuration class would then look like:"
   ]
  },
  {
   "cell_type": "code",
   "execution_count": null,
   "id": "1dd76d78-a088-412f-954e-538594a0db27",
   "metadata": {},
   "outputs": [],
   "source": [
    "@Configuration\n",
    "// Some conditions\n",
    "public class MyAutoConfiguration {\n",
    "\n",
    "    // Auto-configured beans\n",
    "    @Configuration\n",
    "    @ConditionalOnClass(EmbeddedAcmeService.class)\n",
    "    static class EmbeddedConfiguration {\n",
    "        @Bean@ConditionalOnMissingBeanpublic \n",
    "        EmbeddedAcmeService embeddedAcmeService() {\n",
    "            // ...\n",
    "        }\n",
    "    }\n",
    "}"
   ]
  },
  {
   "cell_type": "markdown",
   "id": "f317565e-d50e-4e12-a249-45a5503a13f6",
   "metadata": {},
   "source": [
    "## Bootstrapping Spring Boot\n",
    "A typical Spring Boot application bootstraps as:"
   ]
  },
  {
   "cell_type": "code",
   "execution_count": null,
   "id": "76cc0177-434f-4e13-9626-bb0ed9cb0d12",
   "metadata": {},
   "outputs": [],
   "source": [
    "@SpringBootApplication\n",
    "public class Application{\n",
    "    public static void main(String[] args){\n",
    "        SpringApplication.run(Application.class);\n",
    "    }\n",
    "}"
   ]
  },
  {
   "cell_type": "markdown",
   "id": "ce081d0e-976b-4874-a829-662fa7db2a1d",
   "metadata": {},
   "source": [
    "The `@SpringBootApplication` annotation is a combination of the following:"
   ]
  },
  {
   "cell_type": "code",
   "execution_count": null,
   "id": "c70c9551-718f-41e5-bcd6-767276caeba4",
   "metadata": {},
   "outputs": [],
   "source": [
    "@Target(ElementType.TYPE)\n",
    "@Retention(RetentionPolicy.RUNTIME)\n",
    "@Documented\n",
    "@Inherited\n",
    "@SpringBootConfiguration\n",
    "@EnableAutoConfiguration\n",
    "@ComponentScan(excludeFilters = { @Filter(type = FilterType.CUSTOM, classes = TypeExcludeFilter.class),\n",
    "@Filter(type = FilterType.CUSTOM, classes = AutoConfigurationExcludeFilter.class) })\n",
    "public @interface SpringBootApplication {\n",
    "    // fields\n",
    "}"
   ]
  },
  {
   "cell_type": "markdown",
   "id": "6017d025-4ad1-49f0-8804-aad108f0a7d6",
   "metadata": {},
   "source": [
    "The `@EnableAutoConfiguration` annotation is what enables all the magic.\n",
    "\n",
    "### Startup Sequence\n",
    "One of the most important event during startup is creation of `ApplicationContext`. For this, first Spring deduces the application type using classes present in the classpath. For example, if the classpath has `org.springframework.web.reactive.DispatcherHandler` (and Spring MVC & Jersey servlet absent) then application type is Reactive . If no servlet class is present, then application type is None. Else it is Servlet.\n",
    "\n",
    "For application type:\n",
    "- web: `AnnotationConfigServletWebServerApplicationContext`\n",
    "- reactive: `AnnotationConfigReactiveWebServerApplicationContext`\n",
    "- none: `AnnotationConfigApplicationContext`\n",
    "\n",
    "### Application Exit\n",
    "Each SpringApplication registers a shutdown hook with the JVM to ensure that the `ApplicationContext` closes gracefully on exit. This can be done by annotating a method in class annotated with `@SpringBootApplication` with `@PreDestroy` annotation.\n",
    "\n",
    "We can also add an `ExitCodeGenerator` bean to return custom exit code:"
   ]
  },
  {
   "cell_type": "code",
   "execution_count": null,
   "id": "bfc46202-c66f-477e-9f19-c8fdb11fc59d",
   "metadata": {},
   "outputs": [],
   "source": [
    "@Bean\n",
    "public ExitCodeGenerator exitCodeGenerator() {\n",
    "    return () -> 42;\n",
    "}"
   ]
  },
  {
   "cell_type": "markdown",
   "id": "6a4e1c3e-0abe-4d2a-9d18-0f6ea06f394c",
   "metadata": {},
   "source": [
    "### Tomcat Server\n",
    "Spring boot starter web contains Spring boot starter tomcat. This starter contains embedded Tomcat. Spring boot auto-configuration `ServletWebServerFactoryConfiguration` contains the following bean definition (conditional annotations not shown).  \n",
    "<img width=700 src=\"https://thepracticaldeveloper.com/images/posts/uploads/2020/04/auto-configuration-1024.webp\" >  \n",
    "The embedded Tomcat server can be configured using various property values listed [here](https://www.amitph.com/spring-boot-configure-embedded-tomcat/)."
   ]
  },
  {
   "cell_type": "markdown",
   "id": "92462e4f-f808-4b76-99a5-44636ca79d06",
   "metadata": {},
   "source": [
    "## Runners\n",
    "When the `ApplicationContext` is up and running, Spring Boot will run all the registered `CommandLineRunner` and `ApplicationRunner` beans (in order specified using `Ordered` interface or `@Order` annotation).\n",
    "\n",
    "Both the variants can run arbitrary code, the difference between `ApplicationRunner` and `CommandLineRunner` is that, on `ApplicationRunner`, instead of raw string arguments passed to the run method, we have an instance of `ApplicationArguments` so that we can access the bootstrap arguments passed when initializing the application."
   ]
  },
  {
   "cell_type": "code",
   "execution_count": null,
   "id": "423a541b-73c6-40f4-8611-b5b90691994a",
   "metadata": {},
   "outputs": [],
   "source": [
    "@Bean\n",
    "public ApplicationRunner getApplicationRunner() {\n",
    "    return new ApplicationRunner() {\n",
    "        @Override\n",
    "        public void run(ApplicationArguments args) throws Exception {\n",
    "\n",
    "        }\n",
    "    };\n",
    "}\n",
    "\n",
    "@Bean\n",
    "public CommandLineRunner getCommandLineRunner() {\n",
    "    return new CommandLineRunner(){\n",
    "      @Override\n",
    "      public void run(String... args) throws Exception {\n",
    "\n",
    "      }\n",
    "    };\n",
    "}"
   ]
  },
  {
   "cell_type": "markdown",
   "id": "7ca672e3-c1ab-4d53-aa6a-562953fa3f59",
   "metadata": {},
   "source": [
    "## Environment\n",
    "Spring Boot application's `Environment` contain multiple additional `PropertySource`s (note that normal Spring application has java system variables and environment variables only). Spring Boot uses a very particular `PropertySource` order that is designed to allow sensible overriding of values. Later property sources can override the values defined in earlier ones.\n",
    "\n",
    "1. Default properties (specified by setting `SpringApplication.setDefaultProperties`).\n",
    "2. `@PropertySource` annotations on `@Configuration` classes.\n",
    "3. Config data (such as `application.properties` files). These are evaluated in following order:\n",
    "    i. Application properties packaged inside our jar (`application.properties` and YAML variants).\n",
    "    ii. Profile-specific application properties packaged inside our jar (`application-{profile}.properties` and YAML variants).\n",
    "    iii. Application properties outside of our packaged jar (`application.properties` and YAML variants).\n",
    "    iv. Profile-specific application properties outside of our packaged jar (`application-{profile}.properties` and YAML variants).\n",
    "4. `RandomValuePropertySource`\n",
    "5. OS environment variables.\n",
    "6. Java System properties (`System.getProperties()`).\n",
    "7. JNDI attributes from `java:comp/env`.\n",
    "8. `ServletContext` init parameters.\n",
    "9. `ServletConfig` init parameters.\n",
    "10. Properties from `SPRING_APPLICATION_JSON` (inline JSON embedded in an environment variable or system property).\n",
    "11. Command line arguments.\n",
    "12. `properties` attribute on tests. Available on `@SpringBootTest`\n",
    "13. `@DynamicPropertySource` annotations in tests.\n",
    "14. `@TestPropertySource` annotations on tests.\n",
    "\n",
    "### Command Line Properties\n",
    "Spring boot converts any command line option arguments (that is, arguments starting with `--`, such as `--server.port=9000`) to a property and adds them to the Spring `Environment`.\n",
    "\n",
    "### JSON Application Properties\n",
    "When application starts, any `spring.application.json` or `SPRING_APPLICATION_JSON` properties will be parsed and added to the `Environment`.\n",
    "\n",
    "```bash\n",
    "$ SPRING_APPLICATION_JSON='{\"my\":{\"name\":\"test\"}}' \n",
    "$ java -jar myapp.jar\n",
    "$ java -Dspring.application.json='{\"my\":{\"name\":\"test\"}}' -jar myapp.jar\n",
    "$ java -jar myapp.jar --spring.application.json='{\"my\":{\"name\":\"test\"}}'\n",
    "```\n",
    "\n",
    "### Profile Specific Files\n",
    "Spring Boot will also attempt to load profile-specific files using the naming convention `application-{profile}`. For example, if the application activates a profile named prod and uses YAML files, then both `application.yml` and `application-prod.yml` will be considered.\n",
    "\n",
    "Profile-specific files always override the non-specific ones. If several profiles are specified, a last-wins strategy applies. We can specify properties for multiple profiles in one `application.yaml` file using the triple dash syntax:\n",
    "\n",
    "```yaml\n",
    "spring:\n",
    "    config:\n",
    "        activate:\n",
    "            on-profile: test\n",
    "name: test-YAML\n",
    "environment: testing\n",
    "enabled: false\n",
    "servers: \n",
    "    - www.abc.test.com\n",
    "    - www.xyz.test.com\n",
    "\n",
    "---\n",
    "spring:\n",
    "    config:\n",
    "        activate:\n",
    "            on-profile: prod\n",
    "name: prod-YAML\n",
    "environment: production\n",
    "enabled: true\n",
    "servers: \n",
    "    - www.abc.com\n",
    "    - www.xyz.com\n",
    "```"
   ]
  },
  {
   "cell_type": "markdown",
   "id": "d4771b50-a2de-400f-a3c4-141a56aae8ac",
   "metadata": {},
   "source": [
    "## Type-safe Configuration Properties\n",
    "Using the `@Value(\"${property}\")` annotation to inject configuration properties can sometimes be cumbersome, which is why Spring Boot provides an alternate way of working with properties. This involves use of `@ConfigurationProperties` and `@EnableConfigurationProperties` annotations and the following rules:\n",
    "- The prefix defines which external properties will be bound to the fields of the class.\n",
    "- The classes' property names must match the names of the external properties according to Spring Boot’s *relaxed binding rules*.\n",
    "- We can define a default values by simply initializing a field with a value.\n",
    "- The class itself can be package private.\n",
    "- The classes' fields must have public setters.\n",
    "\n",
    "Consider the example below:"
   ]
  },
  {
   "cell_type": "code",
   "execution_count": null,
   "id": "e8607498-1b15-4293-a271-ee1ee4bdd825",
   "metadata": {},
   "outputs": [],
   "source": [
    "@ConfigurationProperties(\"my.service\")  // my.service is prefix of property name\n",
    "public class MyProperties {\n",
    "\n",
    "    private boolean enabled;  // my.service.enabled, with a value of false by default. To specify default value, just initialize it\n",
    "    private InetAddress remoteAddress;  // my.service.remote-address (this is the relaxed binding rule mentioned above),\n",
    "                                        // with a type that can be coerced from String.\n",
    "    private final Security security = new Security();\n",
    "\n",
    "    // getters / setters...\n",
    "\n",
    "    public static class Security {\n",
    "\n",
    "        private String username;  // my.service.security.username, with a nested \"security\" object whose name is determined by the \n",
    "                                  // name of the property\n",
    "        private String password;\n",
    "        private List<String> roles = new ArrayList<>(Collections.singleton(\"USER\")); // my.service.security.roles, with a collection of \n",
    "                                                                                     // String that defaults to USER.\n",
    "\n",
    "        // getters / setters...\n",
    "    }\n",
    "}"
   ]
  },
  {
   "cell_type": "markdown",
   "id": "08c78ab8-1dd4-43d9-bbfd-5acd5cf9481d",
   "metadata": {},
   "source": [
    "In the above example, how did a string property `my.service.remote-address` create an `InetAddress` object? Automatic conversion happens when:\n",
    "- class provides a constructor that takes a single string as an argument\n",
    "- class provides a static `valueOf` method that takes a single string as an argument and returns the desired object\n",
    "\n",
    "In cases where the class is not under our control, we can implement a converter;"
   ]
  },
  {
   "cell_type": "code",
   "execution_count": null,
   "id": "770c9853-8074-4ea3-b712-48cfe45a5f38",
   "metadata": {},
   "outputs": [],
   "source": [
    "@Component\n",
    "@ConfigurationPropertiesBinding // this annotation is important\n",
    "class InetAddressConverter implements Converter<String, InetAddress> {\n",
    "\n",
    "  @Override\n",
    "  public InetAddress convert(String source) {\n",
    "    // create and return a InetAddress object from the String\n",
    "  }\n",
    "\n",
    "}"
   ]
  },
  {
   "cell_type": "markdown",
   "id": "81f86454-d67e-4977-8b57-d37bf02cc1f8",
   "metadata": {},
   "source": [
    "For Spring Boot to create a bean of the `MyProperties` class, we need to add it to the application context in one of several ways:\n",
    "- First, we can simply let it be part of a component scan by adding the `@Component` annotation:"
   ]
  },
  {
   "cell_type": "code",
   "execution_count": null,
   "id": "c4eaca75-231a-4593-b52f-5eaaa3374c8c",
   "metadata": {},
   "outputs": [],
   "source": [
    "@Component\n",
    "@ConfigurationProperties(\"my.service\")\n",
    "public class MyProperties {\n",
    "    // ...\n",
    "}"
   ]
  },
  {
   "cell_type": "markdown",
   "id": "237b51cd-1a8d-4f0d-95ef-fe762b96533b",
   "metadata": {},
   "source": [
    "- Alternatively, we can use the `@EnableConfigurationProperties` annotation to make our class known to Spring Boot:"
   ]
  },
  {
   "cell_type": "code",
   "execution_count": null,
   "id": "eeb08ad1-5ab5-45a8-96d3-63c55e95db33",
   "metadata": {},
   "outputs": [],
   "source": [
    "@Configuration\n",
    "@EnableConfigurationProperties(MyProperties.class)\n",
    "class MyPropertiesConfiguration {\n",
    "    // ...\n",
    "}"
   ]
  },
  {
   "cell_type": "markdown",
   "id": "03e5791d-f371-4411-9cbd-6bb98ffb52be",
   "metadata": {},
   "source": [
    "In case a wrong value has been passed, for example `my.service.enabled=hello`, this will result in error and Spring Boot application context will not load. To remedy this:"
   ]
  },
  {
   "cell_type": "code",
   "execution_count": null,
   "id": "abcba681-a3f0-4bcd-8d01-c90ac60f127f",
   "metadata": {},
   "outputs": [],
   "source": [
    "@ConfigurationProperties(prefix = \"myapp.mail\", ignoreInvalidFields = true)"
   ]
  },
  {
   "cell_type": "markdown",
   "id": "e606f80a-cdfb-4825-af32-be4123a04978",
   "metadata": {},
   "source": [
    "Properties that are present in `Environment`, but not in our configuration properties file are ignored. We can also add bean validation annotations to check if properties have been initialised correctly:"
   ]
  },
  {
   "cell_type": "code",
   "execution_count": null,
   "id": "a7697f90-6bbd-44eb-b906-1f7a6a642955",
   "metadata": {},
   "outputs": [],
   "source": [
    "@ConfigurationProperties(\"my.service\")\n",
    "@Validated\n",
    "public class MyProperties {\n",
    "\n",
    "    private boolean enabled;\n",
    "    @NotNull private InetAddress remoteAddress;  // Will generate BindValidationException if null\n",
    "    \n",
    "    // ...\n",
    "    \n",
    "    public static class Security {\n",
    "\n",
    "        @NotEmpty private String username; \n",
    "        @NotEmpty private String password;"
   ]
  },
  {
   "cell_type": "markdown",
   "id": "b280aa96-9bca-4984-b4d3-23c9a82c4089",
   "metadata": {},
   "source": [
    "As well as using `@ConfigurationProperties` to annotate a class, you can also use it on public `@Bean` methods. Doing so can be particularly useful when you want to bind properties to third-party components that are outside of your control:"
   ]
  },
  {
   "cell_type": "code",
   "execution_count": null,
   "id": "eb5780f0-db49-477d-aa89-1477526ff60b",
   "metadata": {},
   "outputs": [],
   "source": [
    "@Configuration(proxyBeanMethods = false)\n",
    "public class ThirdPartyConfiguration {\n",
    "\n",
    "    @Bean\n",
    "    @ConfigurationProperties(prefix = \"another\")\n",
    "    public AnotherComponent anotherComponent() {\n",
    "        return new AnotherComponent();\n",
    "    }\n",
    "\n",
    "}"
   ]
  },
  {
   "cell_type": "markdown",
   "id": "21139c0b-cddb-4e1f-b15c-7ccfbddc706a",
   "metadata": {},
   "source": [
    "## Testing\n",
    "`spring-boot-starter-test` provides bulk of Spring Boot's test capability. It packages multiple helpful packages like JUnit Jupiter, Hamcrest, JsonPath, AssertJ, Mockito and JSONAssert.\n",
    "\n",
    "Spring Boot provides an alternative to `@ContextConfiguration` to configure the application context through `@SpringBootTest` annotation. `@SpringBootTest` can also start a webserver:"
   ]
  },
  {
   "cell_type": "code",
   "execution_count": null,
   "id": "27d1046c-8956-4a3b-9680-5cb50575465f",
   "metadata": {},
   "outputs": [],
   "source": [
    "@SpringBootTest(\n",
    "        webEnvironment = SpringBootTest.WebEnvironment.RANDOM_PORT\n",
    ")\n",
    "@RunWith(SpringRunner.class)\n",
    "public class BaseTest {\n",
    "    @LocalServerPort\n",
    "    int port; // inject the actual port on which the server is running\n",
    "}"
   ]
  },
  {
   "cell_type": "markdown",
   "id": "ffeb05ce-ddc8-4fba-9c57-ee173e881cca",
   "metadata": {},
   "source": [
    "So how is configuration loaded? Similar to `@ContextConfiguration`, we can pass a list of classes to load context from. Usually, this is not needed though since if no class is specified, Spring Boot would search for class annotated with `@SpringBootApplication` or `@SpringBootConfiguration` and load context (if no inner static `@Configuration` existed).\n",
    "\n",
    "We can also add to the primary context loaded using `@SpringBootApplication`, by utilising `@TestConfiguration` annotation:"
   ]
  },
  {
   "cell_type": "code",
   "execution_count": null,
   "id": "b46bda0d-9bd2-4c36-9977-ee369f09bd96",
   "metadata": {},
   "outputs": [],
   "source": [
    "@RunWith(SpringJUnit4ClassRunner.class)\n",
    "@SpringBootTest(\n",
    "        webEnvironment = SpringBootTest.WebEnvironment.NONE\n",
    ")\n",
    "public class BaseTest {\n",
    "    @TestConfiguration\n",
    "    static class BaseTestConfiguration {\n",
    "        @Bean\n",
    "        public String connection() {\n",
    "            return \"jdbc:postgresql://localhost:5432/postgres\";\n",
    "        }\n",
    "    }\n",
    "\n",
    "    @Autowired\n",
    "    private String connection;\n",
    "\n",
    "    @Test\n",
    "    public void connectionTest() {\n",
    "        Assertions.assertThat(connection).contains(\"postgres\");\n",
    "    }\n",
    "}"
   ]
  },
  {
   "cell_type": "markdown",
   "id": "0bccc2cb-7cc5-4a73-bb78-048f28e2b689",
   "metadata": {},
   "source": [
    "### `@MockBean`\n",
    "We can use the @MockBean to add mock objects to the Spring application context. The mock will replace any existing bean of the same type in the application context.\n",
    "\n",
    "If no bean of the same type is defined, a new one will be added. This annotation is useful in integration tests where a particular bean, like an external service, needs to be mocked."
   ]
  },
  {
   "cell_type": "code",
   "execution_count": null,
   "id": "f52fbad5-6160-4910-87ea-f4af39d80882",
   "metadata": {},
   "outputs": [],
   "source": []
  }
 ],
 "metadata": {
  "kernelspec": {
   "display_name": "Java",
   "language": "java",
   "name": "java"
  },
  "language_info": {
   "codemirror_mode": "java",
   "file_extension": ".jshell",
   "mimetype": "text/x-java-source",
   "name": "Java",
   "pygments_lexer": "java",
   "version": "21.0.2+13-58"
  }
 },
 "nbformat": 4,
 "nbformat_minor": 5
}
