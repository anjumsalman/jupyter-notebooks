{
 "cells": [
  {
   "cell_type": "markdown",
   "id": "2edf90ae-37c9-46a5-aff6-858fe6d207f1",
   "metadata": {},
   "source": [
    "## Netflix Hysterix\n",
    "Hystrix is a library that helps you control the interactions between these distributed services by adding latency tolerance and fault tolerance logic. It provides us:\n",
    "- Support for Bulkhead pattern\n",
    "- Circuit breaker\n",
    "- Fallback logic in case of failures\n",
    "- Caching\n",
    "\n",
    "### Bulkhead Pattern\n",
    "A typical Tomcat container provides 200 threads that handle user request. Now suppose one of the upstream service starts misbehaving and all the calls to this service start experiencing high latency. Any call to our service that relies on misbehaving service would get stuck. This will soon lead to all our Tomcat threads getting saturated by network call to the misbehaving service:\n",
    "\n",
    "<img src=\"./images/thread_saturation.png\" />\n",
    "\n",
    "Failure in one service leads to cascading failure in other service. One way to solve the issue, is to use a dedicated thread pool to make the dependency service call. Every dependency would have its own fixed thread pool and instead of making the request on Tomcat thread, the request is made using the dependency's dedicated thread. In a simplistic implementation where we have *x* Tomcat threads and there are *n*dependencies, each dependency can use its own threadpool with *x/n* threads. This would mean if a dependency misbehaves, at max *x/n* Tomcat threads would be blocked.\n",
    "\n",
    "<img src=\"./images/bulkhead.png\" />\n",
    "\n",
    "Hystrix can deploy Bulkhead pattern using either\n",
    "- thread pool: runs our code in a thread from a thread pool and controls the number of concurrent threads by a bounded queue and thread pool.\n",
    "- semaphores: runs our code in the current thread and controls the number of concurrent threads by a `Semaphore`."
   ]
  },
  {
   "cell_type": "markdown",
   "id": "74c57e61-7d38-454b-ad37-653db67a0888",
   "metadata": {},
   "source": [
    "### Circuit Breaker\n",
    "If a certain number of calls to a dependency fails in a given time period, there is no point making additional calls to the same service. Circuit breaker does exactly the same, in open state any call going through the circuit breaker to downstream service would immediately fail and get routed to the fallback method. Circuit breaker has 3 states:\n",
    "- Closed: normal state, all calls are permitted\n",
    "- Open: when the amount of failure exceeds a predefined threshold, circuit breaker transitions to open state and no call passes through. This allows the affected downstream service a chance to recover without being overwhelmed by incoming calls\n",
    "- Half Open: after the set cooldown period, a few calls are permitted to check if the downstream service is bacak up, or still down. If the call succeeds, the circuit breaker returns back to closed state, else it stays in open state.\n",
    "\n",
    "Aim of circuit breaker is to fail fast and not waste any resource making call to a dependency that we know is going to fail."
   ]
  },
  {
   "cell_type": "markdown",
   "id": "bcfaea9e-6231-4a05-8a3a-d485d885a91a",
   "metadata": {},
   "source": [
    "### Hystrix Flow Diagram\n",
    "<img src=\"https://github.com/Netflix/Hystrix/wiki/images/hystrix-command-flow-chart.png\" />\n",
    "\n",
    "Steps:\n",
    "1. Construct a `HystrixCommand` object to represent the request we are making to the dependency:"
   ]
  },
  {
   "cell_type": "code",
   "execution_count": null,
   "id": "8043f86f-0a24-4d3d-8392-3b13c26221a3",
   "metadata": {},
   "outputs": [],
   "source": [
    "HystrixCommand command = new HystrixCommand(arg1, arg2);"
   ]
  },
  {
   "cell_type": "markdown",
   "id": "d5b97151-5df3-47d7-bd59-bfbe9438f5ae",
   "metadata": {
    "tags": []
   },
   "source": [
    "2. Execute the Command"
   ]
  },
  {
   "cell_type": "code",
   "execution_count": null,
   "id": "be840506-e5cd-45f7-ac5d-2b94d77b3359",
   "metadata": {},
   "outputs": [],
   "source": [
    "K             value   = command.execute();\n",
    "Future<K>     fValue  = command.queue();"
   ]
  },
  {
   "cell_type": "markdown",
   "id": "3dd67f70-87c2-4cd6-ae00-9201cfe38cba",
   "metadata": {},
   "source": [
    "3. If request caching is enabled for this command, and if the response to the request is available in the cache, this cached response will be immediately returned.\n",
    "\n",
    "4. If the circuit is open (or “tripped”) then Hystrix will not execute the command but will route the flow to (8) get the fallback. If the circuit is closed then the flow proceeds to (5) to check if there is capacity available to run the command.\n",
    "\n",
    "5. If the thread-pool and queue (or semaphore, if not running in a thread) that are associated with the command are full then Hystrix will not execute the command but will immediately route the flow to (8) Get the Fallback.\n",
    "\n",
    "6. If the `run()` method exceeds the command’s timeout value, the thread will throw a `TimeoutException` (or a separate timer thread will, if the command itself is not running in its own thread). In that case Hystrix routes the response through 8. Get the fallback, and it discards the eventual return value `run()` method if that method does not cancel/interrupt.\n",
    "\n",
    "7. Hystrix reports successes, failures, rejections, and timeouts to the circuit breaker, which maintains a rolling set of counters that calculate statistics. This statistic determines whether the circuit should be closed or open.\n",
    "\n",
    "8. Hystrix tried to revert to fallback whenever a command execution fails: when an exception is thrown by `run()` (6.), when the command is short-circuited because the circuit is open (4.), when the command’s thread pool and queue or semaphore are at capacity (5.), or when the command has exceeded its timeout length."
   ]
  },
  {
   "cell_type": "markdown",
   "id": "3cbb7666-33c1-4d6f-a62d-7e4acde34a0f",
   "metadata": {},
   "source": [
    "### Implementation Example"
   ]
  },
  {
   "cell_type": "code",
   "execution_count": null,
   "id": "e65d9157-39e9-4b74-b449-24ba80f3c4f6",
   "metadata": {},
   "outputs": [],
   "source": [
    "public class CommandHelloWorld extends HystrixCommand<String> {\n",
    "\n",
    "    private final String name;\n",
    "\n",
    "    public CommandHelloWorld(String name) {\n",
    "        super(HystrixCommandGroupKey.Factory.asKey(\"ExampleGroup\"));\n",
    "        this.name = name;\n",
    "    }\n",
    "\n",
    "    @Override\n",
    "    protected String run() {\n",
    "        // a real example would do work like a network call here\n",
    "        return \"Hello \" + name + \"!\";\n",
    "    }\n",
    "}"
   ]
  },
  {
   "cell_type": "markdown",
   "id": "7b2cdf17-f7e4-49cb-bb62-48c22f3a7446",
   "metadata": {},
   "source": [
    "To specify fallback:"
   ]
  },
  {
   "cell_type": "code",
   "execution_count": null,
   "id": "4c7f035f-e1b7-486f-a526-12e21e1e9e09",
   "metadata": {},
   "outputs": [],
   "source": [
    "public class CommandHelloFailure extends HystrixCommand<String> {\n",
    "\n",
    "    private final String name;\n",
    "\n",
    "    public CommandHelloFailure(String name) {\n",
    "        super(HystrixCommandGroupKey.Factory.asKey(\"ExampleGroup\"));\n",
    "        this.name = name;\n",
    "    }\n",
    "\n",
    "    @Override\n",
    "    protected String run() {\n",
    "        throw new RuntimeException(\"this command always fails\");\n",
    "    }\n",
    "\n",
    "    @Override\n",
    "    protected String getFallback() {\n",
    "        return \"Hello Failure \" + name + \"!\";\n",
    "    }\n",
    "}"
   ]
  },
  {
   "cell_type": "markdown",
   "id": "10b5ea2b-dfd7-4919-a1dc-86f760ad332a",
   "metadata": {},
   "source": [
    "All exceptions thrown from the `run()` method except for `HystrixBadRequestException` count as failures and trigger `getFallback()` and circuit-breaker logic."
   ]
  },
  {
   "cell_type": "code",
   "execution_count": null,
   "id": "12b8afcc-1919-4e58-9c2b-05591583bd98",
   "metadata": {},
   "outputs": [],
   "source": [
    "@Override\n",
    "protected String run() {\n",
    "    try {\n",
    "        dependencyClient.getData();\n",
    "    } catch (BadRequestException e) {\n",
    "        throw new HystrixBadRequestException(e);\n",
    "    }\n",
    "}"
   ]
  },
  {
   "cell_type": "markdown",
   "id": "14715e5f-08d5-4306-b838-88e9031abc66",
   "metadata": {},
   "source": [
    "Hystrix uses `HystrixCommandGroupKey` to group together commands such as for reporting, alerting, dashboards, or team/library ownership. By default Hystrix uses this to define the command thread-pool unless a separate one is defined. In simple implementation, we can have a command group per dependency service. `HystrixCommandKey` similarly used for reporting purpose.\n",
    "\n",
    "**Thread Pool:** `HystrixThreadPoolKey` lets us use a different threadpool (if we don't want to use the default one created using `HystrixCommandGroupKey`). But why would we want to do so? Multiple commands may belong to the same “group” of ownership or logical functionality, but certain commands may need to be isolated from each other. Consider two commands used to access user metadata. The Hystrix command group for both may be the same - “UserMetadata”. Maybe command A accesses Asia specific users and command B accesses EMEA users. If command A becomes latent and saturates its thread-pool it should not prevent command B from executing requests since they each hit different back-end resources.\n",
    "\n",
    "Hystrix allows us to modify the threadpool properties using `HystrixThreadPoolProperties.Setter()`. We can set properties like core size, max size, keepalive duration, queue size. The default values are:"
   ]
  },
  {
   "cell_type": "code",
   "execution_count": null,
   "id": "78d33035-27c5-4c35-8250-0fb91d77e853",
   "metadata": {},
   "outputs": [],
   "source": [
    "static int default_coreSize = 10;            // core size of thread pool\n",
    "static int default_maximumSize = 10;         // maximum size of thread pool\n",
    "static int default_keepAliveTimeMinutes = 1; // minutes to keep a thread alive\n",
    "static int default_maxQueueSize = -1;        // -1 means SynchronousQueue"
   ]
  },
  {
   "cell_type": "code",
   "execution_count": null,
   "id": "9567cf05-8660-4787-bacc-13f64ab410e1",
   "metadata": {},
   "outputs": [],
   "source": [
    "class HelloWorldCommand extends HystrixCommand<String> {\n",
    "    private final String name;\n",
    "\n",
    "    public HelloWorldCommand(String name) {\n",
    "        super(Setter.withGroupKey(HystrixCommandGroupKey.Factory.asKey(\"HelloWorld\"))\n",
    "                .andCommandKey(HystrixCommandKey.Factory.asKey(\"Hello\"))\n",
    "                .andThreadPoolPropertiesDefaults(HystrixThreadPoolProperties.Setter().withCoreSize(50)));\n",
    "        this.name = name;\n",
    "    }\n",
    "    \n",
    "    // ...\n",
    "}"
   ]
  },
  {
   "cell_type": "markdown",
   "id": "113656e7-7707-4056-af65-bf758fc92c15",
   "metadata": {},
   "source": [
    "If we want to use `Semaphore` based command:"
   ]
  },
  {
   "cell_type": "code",
   "execution_count": null,
   "id": "4ea4965f-e630-45ae-8f66-4e32e6619798",
   "metadata": {},
   "outputs": [],
   "source": [
    "class HelloWorldCommand extends HystrixCommand<String> {\n",
    "    private final String name;\n",
    "\n",
    "    public HelloWorldCommand(String name) {\n",
    "        super(Setter.withGroupKey(HystrixCommandGroupKey.Factory.asKey(\"HelloWorld\"))\n",
    "                .andCommandKey(HystrixCommandKey.Factory.asKey(\"Hello\"))\n",
    "                .andCommandPropertiesDefaults(HystrixCommandProperties.Setter()\n",
    "                    .withExecutionIsolationStrategy(HystrixCommandProperties.ExecutionIsolationStrategy.SEMAPHORE)));\n",
    "        this.name = name;\n",
    "    }\n",
    "    \n",
    "    // ...\n",
    "}"
   ]
  },
  {
   "cell_type": "markdown",
   "id": "bc3c6299-cbec-4177-a2bf-335fcecccaf7",
   "metadata": {},
   "source": [
    "**Circuit Breaker:** the following properties can be associated:"
   ]
  },
  {
   "cell_type": "code",
   "execution_count": null,
   "id": "ac2bde4e-8b46-48b2-a979-fdf9c5e63ae0",
   "metadata": {},
   "outputs": [],
   "source": [
    "// The default value for these properties in the below examples are the values being set\n",
    "HystrixCommandProperties.Setter().withCircuitBreakerEnabled(true); // Enable or disable circuit breaker\n",
    "HystrixCommandProperties.Setter().withCircuitBreakerRequestVolumeThreshold(20);\n",
    "                                                                  // Sets the minimum number of requests in a rolling window that will trip the circuit. If the value is 20, \n",
    "                                                                  // then if only 19 requests are received in the rolling window (say a window of 10 seconds)\n",
    "                                                                  // the circuit will not trip open even if all 19 failed.\n",
    "HystrixCommandProperties.Setter().withCircuitBreakerSleepWindowInMilliseconds(5000)\n",
    "                                                                  // Sets the amount of time, after tripping the circuit, to reject requests before allowing attempts again\n",
    "                                                                  // to determine if the circuit should again be closed.\n",
    "HystrixCommandProperties.Setter().withCircuitBreakerErrorThresholdPercentage(50);\n",
    "                                                                  // Sets the error percentage at or above which the circuit should trip open and start short-circuiting\n",
    "                                                                  // requests to fallback logic.\n",
    "HystrixCommandProperties.Setter().withMetricsRollingStatisticalWindowInMilliseconds(10000);\n",
    "                                                                  // Sets the duration of the statistical rolling window, in milliseconds. This is how long Hystrix keeps\n",
    "                                                                  // metrics for the circuit breaker to use and for publishing.\n",
    "HystrixCommandProperties.Setter().withMetricsRollingStatisticalWindowBuckets(10);\n",
    "                                                                  // Sets the number of buckets the rolling statistical window is divided into. Following must be true — \n",
    "                                                                  // metrics.rollingStats.timeInMilliseconds % metrics.rollingStats.numBuckets == 0"
   ]
  },
  {
   "cell_type": "markdown",
   "id": "64d9abec-95e9-4aa3-b6de-79285b59620d",
   "metadata": {},
   "source": [
    "After sleep window expires, Hystrix transitions to HALF-OPEN state, after which it allows 1 (hardcoded) request to check if dependency is back to normal."
   ]
  },
  {
   "cell_type": "markdown",
   "id": "943dd6e3-723b-453a-b28c-b310a26c9da1",
   "metadata": {},
   "source": [
    "## Resilience4J\n",
    "Resilience4j is a lightweight fault tolerance library designed for functional programming. Resilience4j provides higher-order functions (decorators) to enhance any functional interface, lambda expression or method reference with a Circuit Breaker, Rate Limiter, Retry or Bulkhead.\n",
    "\n",
    "### Circuit Breaker\n",
    "Resilience4j's Circuit Breaker has these 5 states: `OPEN`, `CLOSED`, `HALF_OPEN`, `DISABLED` and `FORCED_OPEN`.  \n",
    "<img src=\"images/cb_states.png\" >  \n",
    "\n",
    "**How is the threshold violation determined?** using either count based or time based sliding window\n",
    "- count based: 50% of the last N calls failed, transition circuit breaker to open state\n",
    "- time based: 50% of the calls in last N seconds failed, transition circuit breaker to open state (closer to what Hystrix does)  \n",
    "\n",
    "The state of the CircuitBreaker changes from CLOSED to OPEN when the failure rate is equal or greater than a configurable threshold. The CircuitBreaker also changes from CLOSED to OPEN when the percentage of slow calls is equal or greater than a configurable threshold. The failure rate and slow call rate can only be calculated, if a minimum number of calls were recorded. For example, if the minimum number of required calls is 10, then at least 10 calls must be recorded, before the failure rate can be calculated. If only 9 calls have been evaluated the CircuitBreaker will not trip open even if all 9 calls have failed (how does this work in case of count based window?).\n",
    "\n",
    "The CircuitBreaker rejects calls with a `CallNotPermittedException` when it is `OPEN`. After a wait time duration has elapsed, the CircuitBreaker state changes from `OPEN` to `HALF_OPEN` and permits a configurable number of calls to see if the backend is still unavailable or has become available again. Further calls are rejected with a `CallNotPermittedException`, until all permitted calls have completed.\n",
    "If the failure rate or slow call rate is then equal or greater than the configured threshold, the state changes back to `OPEN`. If the failure rate and slow call rate is below the threshold, the state changes back to `CLOSED`.\n",
    "\n",
    "**Circuit Breaker Registry:** manages (create and retrieve) CircuitBreaker instances. We can create a `CircuitBreakerRegistry` with a global default `CircuitBreakerConfig` for all of your CircuitBreaker instances as follows:"
   ]
  },
  {
   "cell_type": "code",
   "execution_count": null,
   "id": "816bf740-3443-4f3f-9088-9ee2de572fc2",
   "metadata": {},
   "outputs": [],
   "source": [
    "CircuitBreakerRegistry circuitBreakerRegistry = CircuitBreakerRegistry.ofDefaults();"
   ]
  },
  {
   "cell_type": "markdown",
   "id": "26f8ebd1-76a6-45a3-9391-7790ef5121b2",
   "metadata": {},
   "source": [
    "To specify custom configuration, we use:"
   ]
  },
  {
   "cell_type": "code",
   "execution_count": null,
   "id": "8a67154d-7db7-4cb8-969b-f324fdde9cf2",
   "metadata": {},
   "outputs": [],
   "source": [
    "// Values specified are the default value\n",
    "CircuitBreakerConfig circuitBreakerConfig = CircuitBreakerConfig.custom()\n",
    "    .failureRateThreshold(50)                      // Configures the failure rate threshold in percentage.\n",
    "    .slowCallRateThreshold(100)                    // Configures a threshold in percentage.\n",
    "    .slowCallDurationThreshold(60000)              // Slow call duration threshold in ms\n",
    "    .permittedNumberOfCallsInHalfOpenState(10)     // Number of calls that go through in half open state (hardcoded as 1 in Hystrix)\n",
    "    .maxWaitDurationInHalfOpenState(0)             // Configures a maximum wait duration which controls the longest amount of time a\n",
    "                                                   // CircuitBreaker could stay in Half Open state, before it switches to open.\n",
    "    .slidingWindowType(SlidingWindowType.COUNT_BASED)  // Type of sliding window TIME_BASED or COUNT_BASED\n",
    "    .slidingWindowSize(100)                        // Count size or number of seconds\n",
    "    .waitDurationInOpenState(60000)                // The time that the CircuitBreaker should wait before transitioning from open to half-open.\n",
    "    .automaticTransitionFromOpenToHalfOpenEnabled(false) // If set to true it means that the CircuitBreaker will automatically transition from \n",
    "                                                         // open to half-open state and no call is needed to trigger the transition.\n",
    "    .recordExceptions(IOException.class, TimeoutException.class)  // Not the default value, by default all exceptions are recorded as failure\n",
    "    .ignoreExceptions(BusinessException.class)     // Not the default value. List of exceptions that are ignored and neither count as a failure nor success. \n",
    "    .build();\n",
    "\n",
    "// Create a CircuitBreakerRegistry with a custom global configuration\n",
    "CircuitBreakerRegistry circuitBreakerRegistry = CircuitBreakerRegistry.of(circuitBreakerConfig);\n",
    "\n",
    "// Get or create a CircuitBreaker from the CircuitBreakerRegistry with the global default configuration\n",
    "CircuitBreaker circuitBreakerWithDefaultConfig = circuitBreakerRegistry.circuitBreaker(\"name1\");\n",
    "\n",
    "// Get or create a CircuitBreaker from the CircuitBreakerRegistry with a custom configuration\n",
    "CircuitBreaker circuitBreakerWithCustomConfig = circuitBreakerRegistry.circuitBreaker(\"name2\", circuitBreakerConfig);\n",
    "\n",
    "// Standalone circuit breaker without registry\n",
    "CircuitBreaker customCircuitBreaker = CircuitBreaker.of(\"testName\", circuitBreakerConfig);"
   ]
  },
  {
   "cell_type": "markdown",
   "id": "f09e92dc-37dc-4386-971c-fadafedf9798",
   "metadata": {},
   "source": [
    "**Usage:** we can decorate a `Supplier`, `Callable`, `Runnable`, `Consumer`, `Function` and other type of functional components with CircuitBreaker. Just to recap, below we the definition of the different classes:"
   ]
  },
  {
   "cell_type": "code",
   "execution_count": null,
   "id": "413a758d-d72e-4635-a4ab-8091cee226a1",
   "metadata": {},
   "outputs": [],
   "source": [
    "@FunctionalInterface\n",
    "public interface Supplier<T> {\n",
    "    T get();\n",
    "}\n",
    "\n",
    "@FunctionalInterface\n",
    "public interface Callable<V> {\n",
    "    V call() throws Exception;\n",
    "}\n",
    "\n",
    "@FunctionalInterface\n",
    "public interface Consumer<T> {\n",
    "    void accept(T var1);\n",
    "}\n",
    "\n",
    "@FunctionalInterface\n",
    "public interface Runnable {\n",
    "    public abstract void run();\n",
    "}\n",
    "\n",
    "@FunctionalInterface\n",
    "public interface Function<T, R> {\n",
    "    R apply(T t);\n",
    "}\n",
    "\n",
    "public static void main(String[] args){\n",
    "    Supplier supplier = () -> {\n",
    "        Date date = new Date();\n",
    "        if(date.getSeconds() > 30)\n",
    "            return date.toString();\n",
    "        else\n",
    "            throw new RuntimeException(\"Odd second\");\n",
    "    };\n",
    "    \n",
    "    Supplier<String> decoratedSupplier = Decorators.ofSupplier(supplier)\n",
    "        .withCircuitBreaker(circuitBreaker)\n",
    "        .decorate();\n",
    "\n",
    "    System.out.println(decoratedSupplier.get());\n",
    "}\n",
    "\n",
    "// Decorators has other methods to pass in Function, Runnable, etc\n",
    "// Decorators.ofFunction(function).withCircuitBreaker(circuitBreaker).decorate();"
   ]
  },
  {
   "cell_type": "markdown",
   "id": "98cc96f4-c852-4114-b4cc-01c434e2eb65",
   "metadata": {},
   "source": [
    "To listen for events:"
   ]
  },
  {
   "cell_type": "code",
   "execution_count": null,
   "id": "683cf71b-dbc6-4405-9052-692b4624cb15",
   "metadata": {},
   "outputs": [],
   "source": [
    "circuitBreaker.getEventPublisher()\n",
    "    .onSuccess(event -> logger.info(...))\n",
    "    .onError(event -> logger.info(...))\n",
    "    .onIgnoredError(event -> logger.info(...))\n",
    "    .onReset(event -> logger.info(...))\n",
    "    .onStateTransition(event -> logger.info(...));\n",
    "\n",
    "// Or if you want to register a consumer listening\n",
    "// to all events, you can do:\n",
    "circuitBreaker.getEventPublisher()\n",
    "    .onEvent(event -> logger.info(...));"
   ]
  }
 ],
 "metadata": {
  "kernelspec": {
   "display_name": "Java",
   "language": "java",
   "name": "java"
  },
  "language_info": {
   "codemirror_mode": "java",
   "file_extension": ".jshell",
   "mimetype": "text/x-java-source",
   "name": "Java",
   "pygments_lexer": "java",
   "version": "17.0.5+9-LTS-191"
  }
 },
 "nbformat": 4,
 "nbformat_minor": 5
}
