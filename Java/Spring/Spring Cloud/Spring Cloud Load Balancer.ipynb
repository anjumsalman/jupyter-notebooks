{
 "cells": [
  {
   "cell_type": "markdown",
   "id": "d6688bd0-b0c2-483e-8658-6900b4f3b9c2",
   "metadata": {},
   "source": [
    "## Spring Cloud Load Balancer"
   ]
  }
 ],
 "metadata": {
  "kernelspec": {
   "display_name": "Java",
   "language": "java",
   "name": "java"
  },
  "language_info": {
   "codemirror_mode": "java",
   "file_extension": ".jshell",
   "mimetype": "text/x-java-source",
   "name": "Java",
   "pygments_lexer": "java",
   "version": "17.0.5+9-LTS-191"
  }
 },
 "nbformat": 4,
 "nbformat_minor": 5
}
