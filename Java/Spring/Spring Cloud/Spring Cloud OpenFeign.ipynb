{
 "cells": [
  {
   "cell_type": "markdown",
   "id": "53847d0a-04f4-48ca-a561-f25e781b8603",
   "metadata": {},
   "source": [
    "## OpenFeign\n",
    "OpenFeign utilizes a service contract and creates service client implementation using it. As a simplistic example:"
   ]
  },
  {
   "cell_type": "code",
   "execution_count": null,
   "id": "39794913-951d-4044-8f28-a22daeb3b46f",
   "metadata": {},
   "outputs": [],
   "source": [
    "// This interface defines service contract with Github\n",
    "interface GitHub {\n",
    "  @RequestLine(\"GET /repos/{owner}/{repo}/contributors\")\n",
    "  List<Contributor> contributors(@Param(\"owner\") String owner, @Param(\"repo\") String repo);\n",
    "}\n",
    "\n",
    "class Contributer {\n",
    "  String login;\n",
    "  int contributions;\n",
    "}\n",
    "\n",
    "public class Demo {\n",
    "  public static void main(String... args) {\n",
    "    GitHub github = Feign.builder()\n",
    "                         .decoder(new GsonDecoder())\n",
    "                         .target(GitHub.class, \"https://api.github.com\");\n",
    "\n",
    "    // Fetch and print a list of the contributors to this library.\n",
    "    List<Contributor> contributors = github.contributors(\"OpenFeign\", \"feign\");\n",
    "    for (Contributor contributor : contributors) {\n",
    "      System.out.println(contributor.login + \" (\" + contributor.contributions + \")\");\n",
    "    }\n",
    "  }\n",
    "}"
   ]
  },
  {
   "cell_type": "markdown",
   "id": "c79ac54c-3e51-4d7d-847d-4c98d056a3e1",
   "metadata": {},
   "source": [
    "### Contract\n",
    "`Contract` defines the contract between the interface and how the underlying client should work. The default `Contract` bundled with Feign utilises annotations like `@RequestLine`, `@Param`, `@Headers`, `@QueryMap`, `@HeaderMap` and `@Body`. Sample interface demonstrating various options:"
   ]
  },
  {
   "cell_type": "code",
   "execution_count": null,
   "id": "7618a98d-6ee7-4a5c-b9ae-9f347eacf1d7",
   "metadata": {},
   "outputs": [],
   "source": [
    "interface MyApi {\n",
    "  @RequestLine(\"GET /api/documents/{contentType}\")\n",
    "  @Headers(\"Accept: {contentType}\")\n",
    "  String getDocumentByType(@Param(\"contentType\") String type);\n",
    "    \n",
    "  @RequestLine(\"POST /\")\n",
    "  void postData(@HeaderMap Map<String, Object> headerMap);\n",
    "  \n",
    "  @RequestLine(\"GET /find\")\n",
    "  Book findBook(@QueryMap Map<String, Object> queryMap);\n",
    "    \n",
    "  @RequestLine(\"POST /LOGIN\")\n",
    "  @Headers(\"Content-Type: application/json\")\n",
    "  // json curly braces must be escaped!\n",
    "  @Body(\"%7B\\\"user_name\\\": \\\"{user_name}\\\", \\\"password\\\": \\\"{password}\\\"%7D\")\n",
    "  void LOGIN(@Param(\"user_name\") String user, @Param(\"password\") String password);\n",
    "}"
   ]
  },
  {
   "cell_type": "markdown",
   "id": "c4a24488-34bd-431f-801c-e8f5353b6feb",
   "metadata": {},
   "source": [
    "Users using JAX-RS would prefer using JAX-RS conforming service contract. In that case, we need to specify contract while building the Feign client:"
   ]
  },
  {
   "cell_type": "code",
   "execution_count": null,
   "id": "596d659f-73b2-4803-a06f-6c6c587e4644",
   "metadata": {},
   "outputs": [],
   "source": [
    "interface GitHub {\n",
    "  @GET @Path(\"/repos/{owner}/{repo}/contributors\")\n",
    "  List<Contributor> contributors(@PathParam(\"owner\") String owner, @PathParam(\"repo\") String repo);\n",
    "}\n",
    "\n",
    "public class Example {\n",
    "  public static void main(String[] args) {\n",
    "    GitHub github = Feign.builder()\n",
    "                       .contract(new JAXRSContract())\n",
    "                       .target(GitHub.class, \"https://api.github.com\");\n",
    "  }\n",
    "}"
   ]
  },
  {
   "cell_type": "markdown",
   "id": "60bf48c4-e241-44b2-8948-38be8cc4a742",
   "metadata": {},
   "source": [
    "A `Contract` implementation defines what annotations and values are valid on interfaces. It is called to parse the methods in the class that are linked to HTTP requests."
   ]
  },
  {
   "cell_type": "markdown",
   "id": "95e25fa9-ee41-4493-9c7f-fc5b5dbecd9c",
   "metadata": {},
   "source": [
    "### Decoder\n",
    "Decodes an HTTP response into a single object of the given type. Invoked when `Response.status()` is in the 2xx range and the return type is neither void nor `Response`."
   ]
  },
  {
   "cell_type": "code",
   "execution_count": null,
   "id": "53b1ba10-6342-4d44-bc93-66578a88150c",
   "metadata": {},
   "outputs": [],
   "source": [
    "import java.io.IOException;\n",
    "import java.lang.reflect.Type;\n",
    "import feign.FeignException;\n",
    "import feign.Response;\n",
    "\n",
    "public interface Decoder {\n",
    "  Object decode(Response response, Type type) throws IOException, DecodeException, FeignException;\n",
    "}"
   ]
  },
  {
   "cell_type": "markdown",
   "id": "19930182-6ec4-49ee-bd58-7c20d92c8b3e",
   "metadata": {},
   "source": [
    "As an example, `GsonDecoder` works on JSON outputs:"
   ]
  },
  {
   "cell_type": "code",
   "execution_count": null,
   "id": "041422b9-b1d8-464b-b171-17b6397d1faa",
   "metadata": {},
   "outputs": [],
   "source": [
    "GitHub github = Feign.builder()\n",
    "                     .decoder(new GsonDecoder())\n",
    "                     .target(GitHub.class, \"https://api.github.com\");"
   ]
  },
  {
   "cell_type": "markdown",
   "id": "469b4433-6a01-41df-9f9f-0a7d5b7a5808",
   "metadata": {},
   "source": [
    "### Encoder\n",
    "Encodes an object into an HTTP request body. By configuring an Encoder, we can send a type-safe request body. "
   ]
  },
  {
   "cell_type": "code",
   "execution_count": null,
   "id": "259d6f25-92e1-4f9a-b2e9-878aa09d7086",
   "metadata": {},
   "outputs": [],
   "source": [
    "// instead of a String representing request body\n",
    "interface LoginClient {\n",
    "  @RequestLine(\"POST /\")\n",
    "  @Headers(\"Content-Type: application/json\")\n",
    "  void login(String content);\n",
    "}\n",
    "\n",
    "// we can have a Java class representing the same\n",
    "interface LoginClient {\n",
    "  @RequestLine(\"POST /\")\n",
    "  @Headers(\"Content-Type: application/json\")\n",
    "  void login(LoginCredentials credentials);\n",
    "}"
   ]
  },
  {
   "cell_type": "markdown",
   "id": "13a9a542-d0a5-4962-b5b0-15eac521a0ba",
   "metadata": {},
   "source": [
    "Some examples include `SpringEncoder`, `SpringFormEncoder`, `JacksonEncoder`."
   ]
  },
  {
   "cell_type": "code",
   "execution_count": null,
   "id": "30ce59ad-71c7-4d98-99de-01f0be269456",
   "metadata": {},
   "outputs": [],
   "source": [
    "public interface Encoder {\n",
    "  void encode(Object object, Type bodyType, RequestTemplate template) throws EncodeException;\n",
    "}"
   ]
  },
  {
   "cell_type": "markdown",
   "id": "cf5dea27-9c19-437b-9f9a-ccd40ce81439",
   "metadata": {},
   "source": [
    "### Client\n",
    "Feign lets us specify the HTTP client to use such as OkHttpClient or Apache HTTP Client. Any client that we intend to use must conform to:"
   ]
  },
  {
   "cell_type": "code",
   "execution_count": null,
   "id": "7691c992-ee10-4250-aceb-e59ed933d73a",
   "metadata": {},
   "outputs": [],
   "source": [
    "// Option class contains value for connect timeout, read timeout and\n",
    "// whether to follow redirects or not\n",
    "public interface Client {\n",
    "  Response execute(Request request, Options options) throws IOException;\n",
    "}"
   ]
  },
  {
   "cell_type": "markdown",
   "id": "e0820f64-374a-4adb-84e5-f0eb3eec30ea",
   "metadata": {},
   "source": [
    "As an example, if we decide to use Apache HTTPClient 5, it would look like:"
   ]
  },
  {
   "cell_type": "code",
   "execution_count": null,
   "id": "8ed48578-6924-41fe-aefe-7fb81b395794",
   "metadata": {},
   "outputs": [],
   "source": [
    "public final class ApacheHttp5Client implements Client {\n",
    "  private final HttpClient client;\n",
    "\n",
    "  @Override\n",
    "  public Response execute(Request request, Request.Options options) throws IOException {\n",
    "    ClassicHttpRequest httpUriRequest;\n",
    "    try {\n",
    "      httpUriRequest = toClassicHttpRequest(request, options);\n",
    "    } catch (final URISyntaxException e) {\n",
    "      throw new IOException(\"URL '\" + request.url() + \"' couldn't be parsed into a URI\", e);\n",
    "    }\n",
    "    final HttpHost target = HttpHost.create(URI.create(request.url()));\n",
    "    final HttpClientContext context = configureTimeouts(options);\n",
    "\n",
    "    final ClassicHttpResponse httpResponse =\n",
    "        (ClassicHttpResponse) client.execute(target, httpUriRequest, context);\n",
    "    return toFeignResponse(httpResponse, request);\n",
    "  }\n",
    "  \n",
    "    \n",
    "  // Other methods  \n",
    "}"
   ]
  },
  {
   "cell_type": "markdown",
   "id": "2dc7bb1b-8289-4550-b6a6-2e1c6a6a7c1f",
   "metadata": {},
   "source": [
    "For Apache HTTP Client 5 to be TLS aware, we need to set the `javax.net.ssl.*` properties."
   ]
  },
  {
   "cell_type": "markdown",
   "id": "2d702269-02de-4017-a594-f2073a5b91ad",
   "metadata": {},
   "source": [
    "### Options\n",
    "Lets you specify additional configuration related to the client"
   ]
  },
  {
   "cell_type": "code",
   "execution_count": null,
   "id": "e3785756-e636-4d47-88e7-699091cd14ea",
   "metadata": {},
   "outputs": [],
   "source": [
    "Bank bank = Feign.builder()\n",
    "        .decoder(new AccountDecoder())\n",
    "        // Connect timeout, Read timeout and Follow Redirect\n",
    "        .options(new Request.Options(10, TimeUnit.SECONDS, 60, TimeUnit.SECONDS, true))\n",
    "        .target(Bank.class, \"https://api.examplebank.com\");"
   ]
  },
  {
   "cell_type": "markdown",
   "id": "dabc8484-6980-48d2-b3d8-ae99df350165",
   "metadata": {},
   "source": [
    "### Request Interceptor\n",
    "When we need to change all requests, regardless of their target, we can configure a `RequestInterceptor`."
   ]
  },
  {
   "cell_type": "code",
   "execution_count": null,
   "id": "dbeb7857-b7f4-4da0-a7b8-558f16890552",
   "metadata": {},
   "outputs": [],
   "source": [
    "Bank bank = Feign.builder()\n",
    "             .decoder(accountDecoder)\n",
    "             .requestInterceptor(new BasicAuthRequestInterceptor(username, password))\n",
    "             .target(Bank.class, \"https://api.examplebank.com\");"
   ]
  },
  {
   "cell_type": "code",
   "execution_count": null,
   "id": "a938f6c0-fb2e-45ec-b864-14180c3633d3",
   "metadata": {},
   "outputs": [],
   "source": [
    "public interface RequestInterceptor {\n",
    "  void apply(RequestTemplate template);\n",
    "}"
   ]
  },
  {
   "cell_type": "markdown",
   "id": "fdb8a753-649b-4f88-b274-3aeba034d11a",
   "metadata": {},
   "source": [
    "### ErrorDecoder\n",
    "Responses where Response.status() is not in the 2xx range are classified as errors, addressed by the `ErrorDecoder`. If we need more control over handling unexpected responses, Feign instances can register a custom `ErrorDecoder` via the builder. All responses that result in an HTTP status not in the 2xx range will trigger the `ErrorDecoder`'s `decode` method. If we want to retry the request again, we can throw a `RetryableException`."
   ]
  },
  {
   "cell_type": "code",
   "execution_count": null,
   "id": "ba4fe6f8-3b88-4d73-bd9e-e21c54450a07",
   "metadata": {},
   "outputs": [],
   "source": [
    "public class MyErrorDecoder implements ErrorDecoder {\n",
    "    @Override\n",
    "    public Exception decode(String methodKey, Response response) {\n",
    "        return new WebApplicationException(new FeignJaxRsResponse);\n",
    "    }\n",
    "}"
   ]
  },
  {
   "cell_type": "markdown",
   "id": "89a4a480-753a-4947-8ce4-1b5682cf843f",
   "metadata": {},
   "source": [
    "### Retryer\n",
    "Feign, by default, will automatically retry `IOExceptions`, regardless of HTTP method, treating them as transient network related exceptions, and any `RetryableException` thrown from an `ErrorDecoder`. To customize this behavior, register a custom `Retryer` instance via the builder."
   ]
  },
  {
   "cell_type": "code",
   "execution_count": null,
   "id": "909de292-7dfb-48e2-8f65-d8a7ea944f2f",
   "metadata": {},
   "outputs": [],
   "source": [
    "public interface Retryer extends Cloneable {\n",
    "  // if retry is permitted, return (possibly after sleeping). Otherwise propagate the exception\n",
    "  void continueOrPropagate(RetryableException e);\n",
    "    \n",
    "  Retryer clone();\n",
    "}"
   ]
  },
  {
   "cell_type": "markdown",
   "id": "810dcc0a-289c-4fe8-8fb1-9b8d71e741b5",
   "metadata": {},
   "source": [
    "## Spring OpenFeign\n",
    "Lets us configure Feign clients using annotations. Example:"
   ]
  },
  {
   "cell_type": "code",
   "execution_count": null,
   "id": "b3f6bfd8-341e-443f-b685-63cfa43de9a6",
   "metadata": {},
   "outputs": [],
   "source": [
    "@SpringBootApplication\n",
    "@EnableFeignClients\n",
    "public class AppMain {\n",
    "    public static void main(String[] args) {\n",
    "        SpringApplication.run(Application.class, args);\n",
    "    }\n",
    "}\n",
    "\n",
    "@FeignClient(\"github\")\n",
    "@Path(\"/repos/{owner}/{repo}/contributors\")\n",
    "interface GitHub {\n",
    "  @GET\n",
    "  Response contributors(@PathParam(\"owner\") String owner, @PathParam(\"repo\") String repo);\n",
    "}"
   ]
  },
  {
   "cell_type": "markdown",
   "id": "f5bef2ff-8341-47c9-ab4f-6f9040ee9309",
   "metadata": {},
   "source": [
    "`FeignClientsConfiguration` class contains configuration for Feign components like `Decoder`, `Encoder`, `Contract`, etc. We can configure specific configuration per client by:"
   ]
  },
  {
   "cell_type": "code",
   "execution_count": null,
   "id": "25c0aa84-69ba-41fb-84ca-b029dab0c03b",
   "metadata": {},
   "outputs": [],
   "source": [
    "// Do not add @Configuration else beans defined here will become the default bean\n",
    "@FeignClient(name = \"stores\", configuration = FooConfiguration.class)\n",
    "public interface StoreClient {"
   ]
  },
  {
   "cell_type": "markdown",
   "id": "2d86d067-3b68-4681-86fe-1a8d3dbb2771",
   "metadata": {},
   "source": [
    "Host URL, can be specified by setting the url property. In case we want service discovery to provide that, we need to not pass in this property."
   ]
  },
  {
   "cell_type": "code",
   "execution_count": null,
   "id": "7ee2043b-0776-4411-a2d6-a7ff72f8e8bd",
   "metadata": {},
   "outputs": [],
   "source": [
    "@FeignClient(name = \"stores\", url = \"http://stores.com\")\n",
    "public interface StoreClient {"
   ]
  },
  {
   "cell_type": "markdown",
   "id": "27769060-4794-4f72-bc07-7dda60280a1b",
   "metadata": {},
   "source": [
    "There may be instance where we need two different clients that point to the same URL. In this case just specifying the name would not be enough. Therefore, we would need to pass in `contextId` which would be used (instead of name) to uniquely identify a client."
   ]
  },
  {
   "cell_type": "code",
   "execution_count": null,
   "id": "97aef0b1-e9f6-4be3-99ca-613dd6cce887",
   "metadata": {},
   "outputs": [],
   "source": [
    "@FeignClient(name = \"stores\", contextId=\"firstStore\")\n",
    "public interface StoreClient {"
   ]
  },
  {
   "cell_type": "markdown",
   "id": "f00e5c11-bd69-4acf-83ca-2866438d0a16",
   "metadata": {},
   "source": [
    "We can also configure Feign clients through properties, for example in `application.yaml`\n",
    "```yaml\n",
    "feign:\n",
    "    client:\n",
    "        config:\n",
    "            stores:\n",
    "                connectTimeout: 5000\n",
    "                readTimeout: 5000\n",
    "                    \n",
    "# Default configuration applying to all clients\n",
    "feign:\n",
    "    client:\n",
    "        config:\n",
    "            default:\n",
    "                connectTimeout: 5000\n",
    "                readTimeout: 5000\n",
    "```"
   ]
  },
  {
   "cell_type": "markdown",
   "id": "b48ea8c1-56bc-4e27-a964-009413ce3428",
   "metadata": {},
   "source": [
    "### Contract\n",
    "By default Spring provides `SpringMvcContract` bean. To change `Contract` bean, we need to configure a different implementation of `Contract` either through Java or through property definition"
   ]
  },
  {
   "cell_type": "code",
   "execution_count": null,
   "id": "f62f6e42-2c22-4f8e-b753-dc725e2a7e8f",
   "metadata": {},
   "outputs": [],
   "source": [
    "@Bean\n",
    "public Contract getContract() {\n",
    "    return new JAXRSContract();\n",
    "}"
   ]
  },
  {
   "cell_type": "markdown",
   "id": "ce9f82c7-307e-4f4c-9126-9bb63924edad",
   "metadata": {},
   "source": [
    "```yaml\n",
    "feign:\n",
    "    client:\n",
    "        config:\n",
    "            default:\n",
    "                contract: feign.jaxrs.JAXRSContract\n",
    "```\n",
    "\n",
    "Property definitions take higher precedence."
   ]
  },
  {
   "cell_type": "markdown",
   "id": "272153f9-f816-444e-81ad-6045c07b4be6",
   "metadata": {},
   "source": [
    "### Encoder\n",
    "By default Spring provides `SpringEncoder` bean. `SpringEncoder` sets null charset for binary content types and UTF-8 for all the other ones. We can modify this behaviour to derive the charset from the `Content-Type` header charset instead by setting the value of `feign.encoder.charset-from-content-type` to true."
   ]
  },
  {
   "cell_type": "markdown",
   "id": "43c89485-6d1a-4989-961a-bdf8ad4d30af",
   "metadata": {},
   "source": [
    "### Decoder\n",
    "Spring sets `ResponseEntityDecoder` as the default `Encoder`\n",
    "\n",
    "```yaml\n",
    "feign:\n",
    "    client:\n",
    "        config:\n",
    "            default:\n",
    "                encoder: com.example.SimpleEncoder\n",
    "                decoder: com.example.SimpleDecoder\n",
    "```"
   ]
  },
  {
   "cell_type": "markdown",
   "id": "553c9cb7-839e-4d97-a4c6-85c370c998dd",
   "metadata": {},
   "source": [
    "### Client\n",
    "If Spring Cloud LoadBalancer is on the classpath, `FeignBlockingLoadBalancerClient` is used. If none of them is on the classpath, the default feign client is used. If we have Spring Retry in the classpath and `spring.cloud.loadbalancer.retry.enabled` is set to true, `RetryableFeignBlockingLoadBalancerClient` is used instead. Both the implementations make use of service discovery and make load balanced service calls.\n",
    "\n",
    "Both the above implementations delegate to an actual HTTP Client such as `OkHttpClient` or `ApacheHttpClient` or `ApacheHC5` based on the following properties:\n",
    "- `feign.okhttp.enabled`\n",
    "- `feign.httpclient.enabled`\n",
    "- `feign.httpclient.hc5.enabled`"
   ]
  },
  {
   "cell_type": "markdown",
   "id": "598a3208-b957-4ef4-a966-b5faa2c59d9b",
   "metadata": {},
   "source": [
    "### ErrorDecoder\n",
    "Spring does not provider a default bean for `ErrorDecoder`. \n",
    "\n",
    "```yaml\n",
    "feign:\n",
    "    client:\n",
    "        config:\n",
    "            default:\n",
    "                errorDecoder: com.example.SimpleErrorDecoder\n",
    "```"
   ]
  },
  {
   "cell_type": "markdown",
   "id": "b47ba1c7-2613-4438-a5e0-cc2af838da17",
   "metadata": {},
   "source": [
    "### Retryer\n",
    "A bean of `Retryer.NEVER_RETRY` with the type `Retryer` is created by default, which will disable retrying. This retrying behavior is different from the Feign default one, where it will automatically retry `IOExceptions`, treating them as transient network related exceptions, and any `RetryableException` thrown from an `ErrorDecoder`."
   ]
  },
  {
   "cell_type": "code",
   "execution_count": null,
   "id": "0d17aad3-4757-463c-9797-8edd287aa6ca",
   "metadata": {},
   "outputs": [],
   "source": []
  }
 ],
 "metadata": {
  "kernelspec": {
   "display_name": "Java",
   "language": "java",
   "name": "java"
  },
  "language_info": {
   "codemirror_mode": "java",
   "file_extension": ".jshell",
   "mimetype": "text/x-java-source",
   "name": "Java",
   "pygments_lexer": "java",
   "version": "17.0.5+9-LTS-191"
  }
 },
 "nbformat": 4,
 "nbformat_minor": 5
}
