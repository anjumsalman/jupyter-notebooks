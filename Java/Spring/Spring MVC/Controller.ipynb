{
 "cells": [
  {
   "cell_type": "markdown",
   "metadata": {},
   "source": [
    "### Controller\n",
    "Controller is a class annotated with `@Controller` which handles the request sent to it by Dispatcher Servlet. A typical controller:"
   ]
  },
  {
   "cell_type": "code",
   "execution_count": null,
   "metadata": {},
   "outputs": [],
   "source": [
    "@Controller\n",
    "public class LoginController{\n",
    "    \n",
    "    @PostMapping(\"/login\")\n",
    "    public String doLogin(@RequestBody LoginData data, Model model){\n",
    "        // ...\n",
    "        return \"login\";\n",
    "    }\n",
    "}"
   ]
  },
  {
   "cell_type": "markdown",
   "metadata": {},
   "source": [
    "Controllers extensively make use of annotations. How the request is processed and how response is prepared is influenced by:\n",
    "- Annotations (method annotation, parameter annotation, type annotation, etc)\n",
    "- Parameter type\n",
    "- Return value"
   ]
  },
  {
   "cell_type": "markdown",
   "metadata": {},
   "source": [
    "### Request Data"
   ]
  },
  {
   "cell_type": "markdown",
   "metadata": {},
   "source": [
    "**Get request parameter:** for below method to run, request should be sent to `/param?foo=Bar`"
   ]
  },
  {
   "cell_type": "code",
   "execution_count": null,
   "metadata": {},
   "outputs": [],
   "source": [
    "@GetMapping(\"param\")\n",
    "@ResponseBody\n",
    "public String withParam(@RequestParam String foo) {\n",
    "    return \"Obtained 'foo' query parameter value '\" + foo + \"'\";\n",
    "}"
   ]
  },
  {
   "cell_type": "markdown",
   "metadata": {},
   "source": [
    "If we want the request parameter and method parameter name to vary:"
   ]
  },
  {
   "cell_type": "code",
   "execution_count": null,
   "metadata": {},
   "outputs": [],
   "source": [
    "@GetMapping(\"param\")\n",
    "@ResponseBody\n",
    "public String withParam(@RequestParam(\"foo\") String val) {\n",
    "    return \"Obtained 'foo' query parameter value '\" + foo + \"'\";\n",
    "}"
   ]
  },
  {
   "cell_type": "markdown",
   "metadata": {},
   "source": [
    "**Request with group of parameters:** we can get group of parameters as a single object. This may require additional library like Jackson. "
   ]
  },
  {
   "cell_type": "code",
   "execution_count": null,
   "metadata": {},
   "outputs": [],
   "source": [
    "@GetMapping(\"group\")\n",
    "@ResponseBody\n",
    "public String withParamGroup(JavaBean bean) {\n",
    "    return \"Obtained parameter group \" + bean;\n",
    "}"
   ]
  },
  {
   "cell_type": "markdown",
   "metadata": {},
   "source": [
    "In the above example, if the request looks like: `/group?param1=2K&param2=Ubisoft&param3=ID`, then the JavaBeans object must be:"
   ]
  },
  {
   "cell_type": "code",
   "execution_count": null,
   "metadata": {},
   "outputs": [],
   "source": [
    "public class JavaBean {\n",
    "\n",
    "    private String param1;\n",
    "    private String param2;\n",
    "    private String param3;\n",
    "    \n",
    "    // Getter and setters\n",
    "}"
   ]
  },
  {
   "cell_type": "markdown",
   "metadata": {},
   "source": [
    "**Path variables:** for below method to run, request should be sent to `/path/hello`"
   ]
  },
  {
   "cell_type": "code",
   "execution_count": null,
   "metadata": {},
   "outputs": [],
   "source": [
    "@GetMapping(\"path/{var}\")\n",
    "@ResponseBody\n",
    "public String withPathVariable(@PathVariable String var) {\n",
    "    return \"Obtained 'var' path variable value '\" + var + \"'\";\n",
    "}"
   ]
  },
  {
   "cell_type": "markdown",
   "metadata": {},
   "source": [
    "Type conversion also automatically happens"
   ]
  },
  {
   "cell_type": "code",
   "execution_count": null,
   "metadata": {},
   "outputs": [],
   "source": [
    "@GetMapping(path = \"/home/add/{a}/{b}\")\n",
    "@ResponseBody\n",
    "public String add(@PathVariable int a, @PathVariable int b) {\n",
    "    return new String((a + b) + \"\");\n",
    "}"
   ]
  },
  {
   "cell_type": "markdown",
   "metadata": {},
   "source": [
    "**Get request header:**"
   ]
  },
  {
   "cell_type": "code",
   "execution_count": null,
   "metadata": {},
   "outputs": [],
   "source": [
    "@GetMapping(\"header\")\n",
    "@ResponseBody\n",
    "public String withHeader(@RequestHeader String Accept) {\n",
    "    return \"Obtained 'Accept' header '\" + Accept + \"'\";\n",
    "}"
   ]
  },
  {
   "cell_type": "markdown",
   "metadata": {},
   "source": [
    "**Get cookies:**"
   ]
  },
  {
   "cell_type": "code",
   "execution_count": null,
   "metadata": {},
   "outputs": [],
   "source": [
    "@GetMapping(\"cookie\")\n",
    "@ResponseBody\n",
    "public String withCookie(@CookieValue String openid_provider) {\n",
    "    return \"Obtained 'openid_provider' cookie '\" + openid_provider + \"'\";\n",
    "}"
   ]
  },
  {
   "cell_type": "markdown",
   "metadata": {},
   "source": [
    "**Get request body:**"
   ]
  },
  {
   "cell_type": "code",
   "execution_count": null,
   "metadata": {},
   "outputs": [],
   "source": [
    "@PostMapping(\"body\")\n",
    "@ResponseBody\n",
    "public String withBody(@RequestBody String body) {\n",
    "    return \"Posted request body '\" + body + \"'\";\n",
    "}"
   ]
  },
  {
   "cell_type": "markdown",
   "metadata": {},
   "source": [
    "**Get entity:** entity is body + headers"
   ]
  },
  {
   "cell_type": "code",
   "execution_count": null,
   "metadata": {},
   "outputs": [],
   "source": [
    "@PostMapping(\"entity\")\n",
    "@ResponseBody\n",
    "public String withEntity(HttpEntity<String> entity) {\n",
    "    return \"Posted request body '\" + entity.getBody() + \"'; headers = \" + entity.getHeaders();\n",
    "}"
   ]
  },
  {
   "cell_type": "markdown",
   "metadata": {},
   "source": [
    "**Standard Servlet Objects**"
   ]
  },
  {
   "cell_type": "code",
   "execution_count": null,
   "metadata": {},
   "outputs": [],
   "source": [
    "@GetMapping(\"/data/standard/request\")\n",
    "@ResponseBody\n",
    "public String standardRequestArgs(HttpServletRequest request, Principal user, Locale locale) {\n",
    "    StringBuilder buffer = new StringBuilder();\n",
    "    buffer.append(\"request = \").append(request).append(\", \");\n",
    "    buffer.append(\"userPrincipal = \").append(user).append(\", \");\n",
    "    buffer.append(\"requestLocale = \").append(locale);\n",
    "    return buffer.toString();\n",
    "}\n",
    "\n",
    "@PostMapping(\"/data/standard/request/reader\")\n",
    "@ResponseBody\n",
    "public String requestReader(Reader requestBodyReader) throws IOException {\n",
    "    return \"Read char request body = \" + FileCopyUtils.copyToString(requestBodyReader);\n",
    "}\n",
    "\n",
    "@PostMapping(\"/data/standard/request/is\")\n",
    "@ResponseBody\n",
    "public String requestReader(InputStream requestBodyIs) throws IOException {\n",
    "    return \"Read binary request body = \" + new String(FileCopyUtils.copyToByteArray(requestBodyIs));\n",
    "}\n",
    "\n",
    "@GetMapping(\"/data/standard/session\")\n",
    "@ResponseBody\n",
    "public String session(HttpSession session) {\n",
    "    StringBuilder buffer = new StringBuilder();\n",
    "    buffer.append(\"session=\").append(session);\n",
    "    return buffer.toString();\n",
    "}"
   ]
  },
  {
   "cell_type": "markdown",
   "metadata": {},
   "source": [
    "### Request Matching\n",
    "**General request mapping:**"
   ]
  },
  {
   "cell_type": "code",
   "execution_count": null,
   "metadata": {},
   "outputs": [],
   "source": [
    "@RequestMapping(path=\"/simple\")\n",
    "public String simple() {\n",
    "    return \"Maps all HTTP methods\";\n",
    "}"
   ]
  },
  {
   "cell_type": "markdown",
   "metadata": {},
   "source": [
    "Spring MVC provides annotations specific to HTTP methods: `@GetMapping`, `@PostMapping`, `@PutMapping`, `@DeleteMapping`, etc."
   ]
  },
  {
   "cell_type": "markdown",
   "metadata": {},
   "source": [
    "**Presence or absence of params:**"
   ]
  },
  {
   "cell_type": "code",
   "execution_count": null,
   "metadata": {},
   "outputs": [],
   "source": [
    "@GetMapping(path=\"/mapping/parameter\", params=\"foo\")\n",
    "public String byParameter() {\n",
    "    return \"Mapped by path + method + presence of query parameter!\";\n",
    "}\n",
    "\n",
    "@GetMapping(path=\"/mapping/parameter\", params=\"!foo\")\n",
    "public String byParameterNegation() {\n",
    "    return \"Mapped by path + method + not presence of query parameter!\";\n",
    "}"
   ]
  },
  {
   "cell_type": "markdown",
   "metadata": {},
   "source": [
    "**Presence or absence of header:**"
   ]
  },
  {
   "cell_type": "code",
   "execution_count": null,
   "metadata": {},
   "outputs": [],
   "source": [
    "@GetMapping(path=\"/mapping/header\", headers=\"FooHeader=foo\")\n",
    "public String byHeader() {\n",
    "    return \"Mapped by path + method + presence of header!\";\n",
    "}\n",
    "\n",
    "@GetMapping(path=\"/mapping/header\", headers=\"!FooHeader\")\n",
    "public String byHeaderNegation() {\n",
    "    return \"Mapped by path + method + absence of header!\";\n",
    "}"
   ]
  },
  {
   "cell_type": "markdown",
   "metadata": {},
   "source": [
    "@RequestMapping can also be applied at class level"
   ]
  },
  {
   "cell_type": "code",
   "execution_count": null,
   "metadata": {},
   "outputs": [],
   "source": [
    "@Controller\n",
    "@RequestMapping(\"/login\")\n",
    "public class LoginController{\n",
    "    // ...\n",
    "}"
   ]
  },
  {
   "cell_type": "markdown",
   "metadata": {},
   "source": [
    "### Custom Argument Resolver\n",
    "Whenever we pass in an argument to the controller method, it uses a `HandlerMethodArgumentResolver` to extract data from it. For example, when we use an argument annotated with `@CookieValue`, the argument resolver parses the request and returns cookie. Similar process occurs if we pass an object. We can create our own custom argument resolver. For example `@RequestAttribute` is not part of Spring MVC. So we create a custom argument resolver:"
   ]
  },
  {
   "cell_type": "code",
   "execution_count": null,
   "metadata": {},
   "outputs": [],
   "source": [
    "// RequestAttribute.class\n",
    "@Target(ElementType.PARAMETER)\n",
    "@Retention(RetentionPolicy.RUNTIME)\n",
    "@Documented\n",
    "public @interface RequestAttribute {\n",
    "    String value();\n",
    "}"
   ]
  },
  {
   "cell_type": "code",
   "execution_count": null,
   "metadata": {},
   "outputs": [],
   "source": [
    "// CustomArgumentResolver.java\n",
    "// We need to register this in our bean configuration file\n",
    "public class CustomArgumentResolver implements HandlerMethodArgumentResolver {\n",
    "\n",
    "    public boolean supportsParameter(MethodParameter parameter) {\n",
    "        return parameter.getParameterAnnotation(RequestAttribute.class) != null;\n",
    "    }\n",
    "\n",
    "    public Object resolveArgument(MethodParameter parameter, ModelAndViewContainer mavContainer,\n",
    "            NativeWebRequest webRequest, WebDataBinderFactory binderFactory)\n",
    "            throws Exception {\n",
    "\n",
    "        RequestAttribute attr = parameter.getParameterAnnotation(RequestAttribute.class);\n",
    "        return webRequest.getAttribute(attr.value(), WebRequest.SCOPE_REQUEST);\n",
    "    }\n",
    "\n",
    "}"
   ]
  },
  {
   "cell_type": "code",
   "execution_count": null,
   "metadata": {},
   "outputs": [],
   "source": [
    "// AppConfig.java\n",
    "@Configuration\n",
    "@ComponentScan(basePackages = \"org.springframework.samples.mvc\")\n",
    "@EnableWebMvc\n",
    "public class AppConfig implements WebMvcConfigurer{\n",
    "    @Override\n",
    "    public void addArgumentResolvers(List<HandlerMethodArgumentResolver> resolvers) {\n",
    "        resolvers.add(new CustomArgumentResolver());\n",
    "    }\n",
    "}"
   ]
  },
  {
   "cell_type": "markdown",
   "metadata": {},
   "source": [
    "Notice the `@ComponentScan` line : this enables Spring to find all controllers. `WebMvcConfigurer` makes it easy to register our custom implementations for a number of different things."
   ]
  },
  {
   "cell_type": "code",
   "execution_count": null,
   "metadata": {},
   "outputs": [],
   "source": [
    "@GetMapping(\"/data/custom\")\n",
    "@ResponseBody\n",
    "public String custom(@RequestAttribute(\"foo\") String foo) {\n",
    "    return \"Got 'foo' request attribute value '\" + foo + \"'\";\n",
    "}"
   ]
  },
  {
   "cell_type": "markdown",
   "metadata": {},
   "source": [
    "### Response\n",
    "If we mark the return type (or the method) with `@ResponseBody`, Spring MVC serializes the returned object and sends it directly to the client. The response is a JSON object if appropriate library is in path."
   ]
  },
  {
   "cell_type": "code",
   "execution_count": null,
   "metadata": {},
   "outputs": [],
   "source": [
    "@PostMapping(path = \"/home/colors\", produces = MediaType.APPLICATION_JSON_VALUE)\n",
    "public @ResponseBody ArrayList<Color> getColor() {\n",
    "    Color red = new Color(\"red\", \"#f00\");\n",
    "    Color green = new Color(\"green\", \"#0f0\");\n",
    "    Color blue = new Color(\"blue\", \"#00f\");\n",
    "\n",
    "    ArrayList<Color> colors = new ArrayList<Color>();\n",
    "    colors.add(red);\n",
    "    colors.add(green);\n",
    "    colors.add(blue);\n",
    "\n",
    "    return colors;\n",
    "}"
   ]
  },
  {
   "cell_type": "markdown",
   "metadata": {},
   "source": [
    "Behind the scenes, a `HttpMessageConverter` underpins reading the request body and generating the response. Multiple converters may be registered for different content types. For `@RequestBody`, the first converter that can read the POSTed \"Content-Type\" into the desired method parameter type is used. For `@ResponseBody`, the first converter that can write the method return type into one of the client’s \"Accept\"ed content types is used.  \n",
    "\n",
    "Different message converters (available after we add @EnableWebMvc):\n",
    "- `StringHttpMessageConverter`: reads \"text/*\" into Strings; writes Strings as \"text/plain\"\n",
    "- `FormHttpMessageConverter`: reads \"application/x-www-form-urlencoded\" into `MultiValueMap<String, String>` ; writes `MultiValueMap<String, String>` into \"application/x-www-form-urlencoded\"\n",
    "- `ByteArrayMessageConverter`: reads \"*/*\" into a `byte[]`; writes Objects as \"application/octet-stream\"\n",
    "- `Jaxb2RootElementHttpMessageConverter`: reads \"text/xml\" or \"application/xml\" into Objects annotated by JAXB annotations; writes JAXB-annotated Objects as \"text/xml\" or \"application/xml\". Only registered by default if JAXB is present on the classpath.\n",
    "- `MappingJacksonHttpMessageConverter`: reads \"application/json\" into Objects; writes Objects as \"application/json\"; delegates to the Jackson JSON Processing Library. Only registered by default if Jackson API is in your classpath."
   ]
  },
  {
   "cell_type": "markdown",
   "metadata": {},
   "source": [
    "If we just return a string from controller method, that indicates we want to render a view instead. "
   ]
  },
  {
   "cell_type": "code",
   "execution_count": null,
   "metadata": {},
   "outputs": [],
   "source": []
  }
 ],
 "metadata": {
  "kernelspec": {
   "display_name": "Java",
   "language": "java",
   "name": "java"
  },
  "language_info": {
   "codemirror_mode": "java",
   "file_extension": ".jshell",
   "mimetype": "text/x-java-source",
   "name": "Java",
   "pygments_lexer": "java",
   "version": "13+33"
  }
 },
 "nbformat": 4,
 "nbformat_minor": 4
}
