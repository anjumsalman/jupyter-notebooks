{
 "cells": [
  {
   "cell_type": "markdown",
   "metadata": {},
   "source": [
    "### Dispatcher Servlet\n",
    "Idea is to act as single point for all request. To configure dispatcher servlet, in web.xml:\n",
    "```xml\n",
    "<servlet>\n",
    "    <servlet-name>app</servlet-name>\n",
    "    <servlet-class>org.springframework.web.servlet.DispatcherServlet</servlet-class>\n",
    "    <load-on-startup>1</load-on-startup>\n",
    "</servlet>\n",
    "```\n",
    "\n",
    "Dispatcher servlet needs a `WebApplicationContext`. By default it will search for `<servlet-name>-context.xml` file in WEB-INF folder for bean definition.\n",
    "\n",
    "The other way is to use Java class for defining Dispatcher servlet. In the below example, we will use a Java based configuration (instead of XML)"
   ]
  },
  {
   "cell_type": "code",
   "execution_count": null,
   "metadata": {},
   "outputs": [],
   "source": [
    "public class MyWebApplicationInitializer implements WebApplicationInitializer {\n",
    "\n",
    "    @Override\n",
    "    public void onStartup(ServletContext servletContext) {\n",
    "\n",
    "        // Load Spring web application configuration\n",
    "        AnnotationConfigWebApplicationContext context = new AnnotationConfigWebApplicationContext();\n",
    "        context.register(AppConfig.class);\n",
    "\n",
    "        // Create and register the DispatcherServlet\n",
    "        DispatcherServlet servlet = new DispatcherServlet(context);\n",
    "        ServletRegistration.Dynamic registration = servletContext.addServlet(\"app\", servlet);\n",
    "        registration.setLoadOnStartup(1);\n",
    "        registration.addMapping(\"/\");\n",
    "    }\n",
    "}"
   ]
  },
  {
   "cell_type": "markdown",
   "metadata": {},
   "source": [
    "The configuration file:"
   ]
  },
  {
   "cell_type": "code",
   "execution_count": null,
   "metadata": {},
   "outputs": [],
   "source": [
    "@Configuration\n",
    "public class AppConfig {\n",
    "}"
   ]
  },
  {
   "cell_type": "markdown",
   "metadata": {},
   "source": [
    "### Dispatcher Servlet Initialization\n",
    "As the dispatcher servlet starts it looks into the WebApplicationContext for some special beans. If it doesn't find those beans it uses the default beans of each type. The special beans it looks for are:\n",
    "- `MultipartResolver` : defaults to none\n",
    "- `LocaleResolver`: defaults to `AcceptHeaderLocaleResolver`\n",
    "- `ThemeResolver`: defaults to `FixedThemeResolver`\n",
    "- `ViewResolver`s: decides what `View` to use to render response. Defaults to `InternalResourceViewResolver`\n",
    "- `HandlerMapping`s: maps a request to a handler. Defaults to list `BeanNameUrlHandler`, `RequestMappingHandlerMapping`, `RouterFunctionMapping`\n",
    "- `HandlerAdapter`s: invokes a handler mapped to a request. Defaults to list `SimpleControllerHandlerAdapter`, `HttpRequestHandlerAdapter`, `RequestMappingHandlerAdapter`, `HandlerFunctionAdapter`\n",
    "- `HandlerExceptionResolver`s: defaults to none\n",
    "\n",
    "If we do not want to use the defaults, we can configure a corresponding bean and Dispatcher servlet will use that instead. For example if we want a ViewResolver to use JSPs in a specific folder:"
   ]
  },
  {
   "cell_type": "code",
   "execution_count": null,
   "metadata": {},
   "outputs": [],
   "source": [
    "@Configuration\n",
    "public class AppConfig {\n",
    "    @Bean\n",
    "    public InternalResourceViewResolver resolver() {\n",
    "        InternalResourceViewResolver resolver = new InternalResourceViewResolver();\n",
    "        // The default version doesn't have the below two\n",
    "        // properties set\n",
    "        resolver.setPrefix(\"/WEB-INF/views/\");\n",
    "        resolver.setSuffix(\".jsp\");\n",
    "        return resolver;\n",
    "    }\n",
    "}"
   ]
  },
  {
   "cell_type": "markdown",
   "metadata": {},
   "source": [
    "### @EnableWebMvc\n",
    "We can add the above annotation to our configuration file to make available some useful beans. The most important being `HttpMessageConverter`. It also enable support for validators and formatters."
   ]
  },
  {
   "cell_type": "code",
   "execution_count": null,
   "metadata": {},
   "outputs": [],
   "source": [
    "@EnableWebMvc\n",
    "@Configuration\n",
    "public class AppConfig {\n",
    "}"
   ]
  },
  {
   "cell_type": "markdown",
   "metadata": {},
   "source": [
    "The XML equivalent is:\n",
    "```xml\n",
    "<?xml version=\"1.0\" encoding=\"UTF-8\"?>\n",
    "<beans xmlns=\"http://www.springframework.org/schema/beans\"\n",
    "    xmlns:mvc=\"http://www.springframework.org/schema/mvc\"\n",
    "    xmlns:xsi=\"http://www.w3.org/2001/XMLSchema-instance\"\n",
    "    xsi:schemaLocation=\"\n",
    "        http://www.springframework.org/schema/beans\n",
    "        https://www.springframework.org/schema/beans/spring-beans.xsd\n",
    "        http://www.springframework.org/schema/mvc\n",
    "        https://www.springframework.org/schema/mvc/spring-mvc.xsd\">\n",
    "\n",
    "    <!--Equivalent-->\n",
    "    <mvc:annotation-driven/>\n",
    "\n",
    "</beans>\n",
    "```"
   ]
  },
  {
   "cell_type": "markdown",
   "metadata": {},
   "source": [
    "### Dispatcher Servlet Flow\n",
    "![DS Flow](https://i.imgur.com/C4keNkJ.png)"
   ]
  },
  {
   "cell_type": "code",
   "execution_count": null,
   "metadata": {},
   "outputs": [],
   "source": []
  }
 ],
 "metadata": {
  "kernelspec": {
   "display_name": "Java",
   "language": "java",
   "name": "java"
  },
  "language_info": {
   "codemirror_mode": "java",
   "file_extension": ".jshell",
   "mimetype": "text/x-java-source",
   "name": "Java",
   "pygments_lexer": "java",
   "version": "13+33"
  }
 },
 "nbformat": 4,
 "nbformat_minor": 4
}
