{
 "cells": [
  {
   "cell_type": "markdown",
   "id": "983615f3-c921-427d-bfbf-82f386e4b3c8",
   "metadata": {},
   "source": [
    "## Inversion of Control\n",
    "Spring framework demonstrates *inversion of control* by moving the responsibility of providing dependencies away from the user to the framework through *dependency injection*. The terms *dependency injection* and *inversion of control* are explained [here](https://martinfowler.com/articles/injection.html).\n",
    "\n",
    "## IoC Container\n",
    "`BeanFactory` interface forms the basis of Spring IOC container. `BeanFactory` provides few basic functionalities to manage beans, the most important being the ability to get a bean using its name. A bean is an object that is instantiated, assembled, and otherwise managed by a Spring IoC container."
   ]
  },
  {
   "cell_type": "code",
   "execution_count": null,
   "id": "97ddd250-ad44-4743-a3d8-68f69188c7c3",
   "metadata": {},
   "outputs": [],
   "source": [
    "public interface BeanFactory {\n",
    "    // Will have to explicitly cast to the required type\n",
    "    Object getBean(String name) throws BeansException;\n",
    "    // No casting required!\n",
    "    <T> T getBean(String name, Class<T> requiredType) throws BeansException;\n",
    "    \n",
    "    // Many other methods\n",
    "}"
   ]
  },
  {
   "cell_type": "markdown",
   "id": "e6d196f3-f3da-4201-9ed5-5c3693369df0",
   "metadata": {},
   "source": [
    "`BeanFactory` creates beans from bean definitions - defined using XML or in Java itself. `BeanDefinition` is the blueprint of a bean instance. Some of the information contained within the `BeanDefinition` is highlighted using the source of the interface below:"
   ]
  },
  {
   "cell_type": "code",
   "execution_count": null,
   "id": "ec6e137f-b567-42d8-90ca-d35445d97b3b",
   "metadata": {},
   "outputs": [],
   "source": [
    "public interface BeanDefinition extends AttributeAccessor, BeanMetadataElement {\n",
    "    // Whether to initialize the bean lazily\n",
    "    boolean isLazyInit();\n",
    "    \n",
    "    // What is the scope of the bean? Singleton, Prototype, etc?\n",
    "    @Nullable\n",
    "    String getScope();\n",
    "    \n",
    "    // Is the bean going to be the primary autowire candidate?\n",
    "    boolean isPrimary();\n",
    "    \n",
    "    // Provides Type information\n",
    "    ResolvableType getResolvableType();\n",
    "    \n",
    "    @Nullable\n",
    "    String getFactoryMethodName();\n",
    "    \n",
    "    @Nullable\n",
    "    String getInitMethodName();\n",
    "    \n",
    "    @Nullable\n",
    "    String getDestroyMethodName();\n",
    "    \n",
    "    // Other methods\n",
    "}"
   ]
  },
  {
   "cell_type": "markdown",
   "id": "b55ee0a5-962b-4037-a4ae-7b5e14b1ee68",
   "metadata": {},
   "source": [
    "`BeanDefinitions` are registered in `BeanDefinitionRegistry`:"
   ]
  },
  {
   "cell_type": "code",
   "execution_count": null,
   "id": "41e15b93-f94c-4886-beda-5810a102732d",
   "metadata": {},
   "outputs": [],
   "source": [
    "public interface BeanDefinitionRegistry extends AliasRegistry {\n",
    "\n",
    "    void registerBeanDefinition(String beanName, BeanDefinition beanDefinition)\n",
    "            throws BeanDefinitionStoreException;\n",
    "\n",
    "    void removeBeanDefinition(String beanName) throws NoSuchBeanDefinitionException;\n",
    "\n",
    "    BeanDefinition getBeanDefinition(String beanName) throws NoSuchBeanDefinitionException;\n",
    "\n",
    "    boolean containsBeanDefinition(String beanName);\n",
    "    \n",
    "    // Other methods\n",
    "}"
   ]
  },
  {
   "cell_type": "markdown",
   "id": "11455b84-a553-438c-983f-3ad6ceb84d8e",
   "metadata": {},
   "source": [
    "As an example, if we have a bean defined using configuration class below:"
   ]
  },
  {
   "cell_type": "code",
   "execution_count": null,
   "id": "7a6b10a2-9a54-49bc-950d-0dc451b4a3c7",
   "metadata": {},
   "outputs": [],
   "source": [
    "@Configuration\n",
    "public class ApplicationConfiguration {\n",
    "    @Bean\n",
    "    public CurrencyService getCurrencyService() {\n",
    "        return new CurrencyService();\n",
    "    }\n",
    "}"
   ]
  },
  {
   "cell_type": "markdown",
   "id": "236ad0e2-283d-4bb1-8395-0c6d7d9d5c6b",
   "metadata": {},
   "source": [
    "<style>\n",
    "    table {\n",
    "        display: inline-block\n",
    "    }\n",
    "</style>\n",
    "The `BeanDefinition` for the `CurrencyService` bean above, looks like:\n",
    "- Type: `CurrencyService`\n",
    "- Factory bean: `ApplicationConfiguration`\n",
    "- Factory method: `getCurrencyService()`\n",
    "\n",
    "The two interfaces `BeanFactory` and `BeanRegistry` come together in `DefaultListableBeanFactory`. This class stores all the `BeanDefinitions` in a concurrent hashmap with key pointing to the bean name and value pointing to the bean definition. `DefaultListableBeanFactory` forms the heart of the Spring framework since it manages the bean definitions as well as the bean instances.\n",
    "\n",
    "### ApplicationContext\n",
    "`ApplicationContext` interface extends `BeanFactory` and adds some additional features. Simple comparison:  \n",
    "|                                    | ApplicationContext | BeanFactory |\n",
    "|------------------------------------|--------------------|-------------|\n",
    "| Annotation support                 | Yes                | No          |\n",
    "| `BeanPostProcessor` Registration   | Auto               | Manual      |\n",
    "| Internationalization               | Yes                | No          |\n",
    "| Enterprise services                | Yes                | No          |\n",
    "| `ApplicationEvent` publication     | Yes                | No          |\n",
    "| `Environment` abstraction          | Yes                | No          |\n",
    "\n",
    "The hierarchy of `ApplicationContext` classes looks like:\n",
    "```\n",
    "ApplicationContext\n",
    "|\n",
    "+-- AbstractApplicationContext : can detect special beans like post processors\n",
    "    |\n",
    "    +-- GenericApplicationContext : contains DefaultListableBeanFactory\n",
    "        |\n",
    "        +-- AnnotationConfigApplicationContext\n",
    "```\n",
    "\n",
    "Like `AnnotationConfigApplicationContext`, there are several concrete implementations catering to different possible sources of configuration metadata. For example: `ClassPathXmlApplicationContext`, `FileSystemXmlApplicationContext`, `GenericGroovyApplicationContext`, etc. These `ApplicationContext` delegate the resposibility of registering and creating bean instances to the `DefaultListableBeanFactory` contained within its parent class.\n",
    "\n",
    "Configuration metadata can be supplied as XML, annotations (ver 2.5) or as Jave code (ver 3.0). Once the configuration is ready, we can get the bean instance by:"
   ]
  },
  {
   "cell_type": "code",
   "execution_count": null,
   "id": "ad29715b-26c5-4924-9d1e-71f333a4d6fc",
   "metadata": {},
   "outputs": [],
   "source": [
    "// Create the context\n",
    "ApplicationContext context = new ClassPathXmlApplicationContext(\"services.xml\");\n",
    "\n",
    "// Get the bean\n",
    "UserService userService = context.getBean(\"userService\", UserService.class);"
   ]
  },
  {
   "cell_type": "markdown",
   "id": "e9021089-30c6-4bba-8200-7077f5f0a71c",
   "metadata": {},
   "source": [
    "### AnnotationConfigApplicationContext\n",
    "Reads classes annotated with `@Component` to obtain bean definition and creates bean instances from it. We can also make use of `@Configuration` since it is also a component. Another related annotation is `@ComponentScan` which specifies the packages to search for components.  `@Configuration` is defined as:"
   ]
  },
  {
   "cell_type": "code",
   "execution_count": null,
   "id": "650ba181-4f4f-456b-b442-92d8579e8f8b",
   "metadata": {},
   "outputs": [],
   "source": [
    "@Target({ElementType.TYPE})\n",
    "@Retention(RetentionPolicy.RUNTIME)\n",
    "@Documented\n",
    "@Component\n",
    "public @interface Configuration {\n",
    "    @AliasFor(annotation = Component.class)\n",
    "    String value() default \"\";\n",
    "\n",
    "    boolean proxyBeanMethods() default true;\n",
    "}"
   ]
  },
  {
   "cell_type": "markdown",
   "id": "343468ec-6c7f-4404-b4c6-ac54c867839b",
   "metadata": {},
   "source": [
    "And `@ComponentScan` as below. By default, `@ComponentScan` would scan for components in the same package (and its subpackages)."
   ]
  },
  {
   "cell_type": "code",
   "execution_count": null,
   "id": "cfbd0df8-faa6-427c-aa65-cf20eff44b0c",
   "metadata": {},
   "outputs": [],
   "source": [
    "public @interface ComponentScan {\n",
    "    // Array of package names to scan\n",
    "    String[] basePackages() default {};\n",
    "\n",
    "    // Type safe alternative to above\n",
    "    Class<?>[] basePackageClasses() default {};\n",
    "    \n",
    "    // Lazy init the discovered components?\n",
    "    boolean lazyInit() default false;\n",
    "    \n",
    "    // Specifies which types are eligible for component scanning\n",
    "    Filter[] includeFilters() default {};\n",
    "\n",
    "    // Specifies which types are not eligible for component scanning\n",
    "    Filter[] excludeFilters() default {};\n",
    "    \n",
    "    @interface Filter {\n",
    "        // The type of filter to use\n",
    "        FilterType type() default FilterType.ANNOTATION;\n",
    "        \n",
    "        // The class or classes to use as the filter\n",
    "        Class<?>[] classes() default {};\n",
    "        \n",
    "        // The pattern (or patterns) to use for the filter, as an alternative to specifying a Class value\n",
    "        String[] pattern() default {};\n",
    "        \n",
    "        // Other fields\n",
    "    }\n",
    "    \n",
    "    // Other fields\n",
    "}"
   ]
  },
  {
   "cell_type": "markdown",
   "id": "67e073a0-f8e0-49a5-b774-8248cbf27bd5",
   "metadata": {},
   "source": [
    "There are quite a few different ways to filter out components using the `@Filter` annotation. For example, to filter out using regular expression:"
   ]
  },
  {
   "cell_type": "code",
   "execution_count": null,
   "id": "e742f272-1bb1-4a74-a261-327234db26fc",
   "metadata": {},
   "outputs": [],
   "source": [
    "@Configuration\n",
    "// Will include compenents named Compiler, Processor, etc. But not Store, Repository\n",
    "@ComponentScan(includeFilters = @Filter(type = FilterType.REGEX, pattern = \".*[er]\"))\n",
    "public class ComponentScanRegexFilterApp { }"
   ]
  },
  {
   "cell_type": "markdown",
   "id": "f4a01f6b-9a6c-4672-8a3e-09da81fa0dd0",
   "metadata": {},
   "source": [
    "Another way is to include/exclude classes having certain annotations:"
   ]
  },
  {
   "cell_type": "code",
   "execution_count": null,
   "id": "605fe3e6-9c32-4570-9e9a-1627f1446da4",
   "metadata": {},
   "outputs": [],
   "source": [
    "@Configuration\n",
    "// Will pick up components annotated with @Animal\n",
    "@ComponentScan(includeFilters = @Filter(type = FilterType.ANNOTATION, classes = Animal.class))\n",
    "public class ComponentScanAnnotationFilterApp { }"
   ]
  },
  {
   "cell_type": "markdown",
   "id": "3c0c79de-e9d7-456b-9f0f-a2d4a8fb2d07",
   "metadata": {},
   "source": [
    "Some other type of `FilterType`s are:\n",
    "- CUSTOM\n",
    "- ASPECTJ\n",
    "- ASSIGNABLE_TYPE"
   ]
  },
  {
   "cell_type": "markdown",
   "id": "f6bfbaef-1908-47db-bcef-14279850c81f",
   "metadata": {},
   "source": [
    "## Bean Definition\n",
    "Some important bean definition properties:\n",
    "\n",
    "### Bean Identifier\n",
    "We can supply an *id* or *name* to a bean. However this is not mandatory and Spring container would automatically generate a unique name for that bean."
   ]
  },
  {
   "cell_type": "code",
   "execution_count": null,
   "id": "331595d4-0393-46ff-8fe8-463d139bcfc4",
   "metadata": {},
   "outputs": [],
   "source": [
    "@Component\n",
    "// Spring names this bean as cat\n",
    "public class Cat extends Animal{\n",
    "}\n",
    "\n",
    "@Component(\"myDog\")\n",
    "// We provide name explicitly\n",
    "public class Dog extends Animal{\n",
    "}\n",
    "\n",
    "@Component\n",
    "@Qualifier(\"petGoat\")\n",
    "// Another way to name our bean\n",
    "public class Goat extends Animal{\n",
    "}"
   ]
  },
  {
   "cell_type": "markdown",
   "id": "d257cf45-ffdf-4ded-9f3d-3a123dbcfd39",
   "metadata": {},
   "source": [
    "When using `@Bean` Spring uses method name as bean name"
   ]
  },
  {
   "cell_type": "code",
   "execution_count": null,
   "id": "1f9e2806-064f-4b84-8479-f529867eba0b",
   "metadata": {},
   "outputs": [],
   "source": [
    "@Bean\n",
    "// Bean named as getCat\n",
    "public Cat getCat(){\n",
    "    return new Cat();\n",
    "}\n",
    "\n",
    "@Bean(\"petDog\")\n",
    "// Bean named as petDog\n",
    "public Dog getDog(){\n",
    "    return new Dog();\n",
    "}"
   ]
  },
  {
   "cell_type": "markdown",
   "id": "02fbea69-216b-4570-b232-b73976ed934f",
   "metadata": {},
   "source": [
    "### Dependencies\n",
    "Dependencies can be injected using either constructors or setters. Constructor-based DI is accomplished by the container invoking a constructor with a number of arguments, each representing a dependency. Setter-based DI is accomplished by the container calling setter methods on beans after invoking a no-argument constructor or a no-argument static factory method to instantiate bean.\n",
    "\n",
    "**Lazy initialization:** by default Spring would eagerly create and configure all singleton beans as part of the initialization process. `@Lazy` annotation can be used to specify that a particular bean should not be eagerly initialized. If applied to: \n",
    "- `@Component` `@Bean` these beans will be lazily initialized\n",
    "- `@Configuration` all beans will be lazily initialized\n",
    "\n",
    "**Autowiring:** Use `@Autowired` annotation to specify that a dependency should be automatically injected. `@Autowired` can be applied to:\n",
    "- field : works even for private member\n",
    "- method\n",
    "- constructor\n",
    "- method parameter : not really used much\n",
    "By default Spring autowires by type, to autowire by name:"
   ]
  },
  {
   "cell_type": "code",
   "execution_count": null,
   "id": "05e65ec5-5b48-4759-a272-38e449fd5079",
   "metadata": {},
   "outputs": [],
   "source": [
    "@Autowired\n",
    "@Qualifier(\"ldap\")\n",
    "private NamingService nameService;"
   ]
  },
  {
   "cell_type": "markdown",
   "id": "2b2dde88-5ff3-4f29-bee7-d5c9a47725e7",
   "metadata": {},
   "source": [
    "Other possibility is that we can mark one of the bean as primary candidate for autowiring"
   ]
  },
  {
   "cell_type": "code",
   "execution_count": null,
   "id": "ebd103c7-21b8-4e32-81d5-8b173c064806",
   "metadata": {},
   "outputs": [],
   "source": [
    "@Component\n",
    "@Primary\n",
    "public class LdapNamingService{\n",
    "    // ...\n",
    "}"
   ]
  },
  {
   "cell_type": "markdown",
   "id": "c41772b0-8466-45a2-8f21-1d38f7d85b89",
   "metadata": {},
   "source": [
    "Spring by default autowires constructor arguments, we don’t have to use the `@Autowired` annotation. Instead of `@Autowired` we can also use Java EE `@Inject` annotation."
   ]
  },
  {
   "cell_type": "markdown",
   "id": "ba430062-70e5-4b29-a323-b3d558a16494",
   "metadata": {},
   "source": [
    "### Bean Scopes\n",
    "The Spring Framework supports six scopes, four of which are available only if we use a web-aware `ApplicationContext`.\n",
    "| Scope       | Description                                                                                                                                                                            |\n",
    "|-------------|----------------------------------------------------------------------------------------------------------------------------------------------------------------------------------------|\n",
    "| singleton   | (Default) Scopes a single bean definition to a single object instance for each Spring IoC container.                                                                                   |\n",
    "| prototype   | Scopes a single bean definition to any number of object instances.                                                                                                                     |\n",
    "| request     | Scopes a single bean definition to the lifecycle of a single HTTP request. That is, each HTTP request has its own instance of a bean created off the back of a single bean definition. |\n",
    "| session     | Scopes a single bean definition to the lifecycle of an HTTP Session.                                                                                                                   |\n",
    "| application | Scopes a single bean definition to the lifecycle of a ServletContext.                                                                                                                  |\n",
    "| websocket   | Scopes a single bean definition to the lifecycle of a WebSocket.                                                                                                                       |\n",
    "\n",
    "Use `@Scope`, `@RequestScope`, `@SessionScope`, `@ApplicationScope` annotations to mark a bean’s scope as required."
   ]
  },
  {
   "cell_type": "markdown",
   "id": "1714a8f5-6cb2-44e5-8749-ff4cf0e283dc",
   "metadata": {},
   "source": [
    "## Bean Lifecycle\n",
    "<img src=\"./images/bean_lifecycle.png\" />  \n",
    "\n",
    "1. Read Bean definitions from various sources and form `BeanDefinition` objects and registering with `BeanDefinitionRegistry`  \n",
    "2. **BeanFactoryPostProcessor:** Factory hook that allows for custom modification of an application context's bean definitions. It is executed before instantiation of bean. The interface looks like:"
   ]
  },
  {
   "cell_type": "code",
   "execution_count": null,
   "id": "3b39607d-303b-401b-a663-cfd4c0cd0705",
   "metadata": {},
   "outputs": [],
   "source": [
    "@FunctionalInterface\n",
    "public interface BeanFactoryPostProcessor {\n",
    "    void postProcessBeanFactory(ConfigurableListableBeanFactory beanFactory) throws BeansException;\n",
    "}"
   ]
  },
  {
   "cell_type": "markdown",
   "id": "90bf905d-20c1-47aa-a36f-7b43aced5bda",
   "metadata": {
    "tags": []
   },
   "source": [
    "Several implementations of `BeanFactoryPostProcessor` is provided by Spring as listed below:  \n",
    "**PropertySourcesPlaceholderConfigurer:** resolves ${...} placeholders within bean definition property values and `@Value` annotations against the current Spring `Environment` and its set of `PropertySources`:"
   ]
  },
  {
   "cell_type": "code",
   "execution_count": null,
   "id": "65ec1d88-bb6d-4d0e-a2a9-3c9e5d84af4c",
   "metadata": {},
   "outputs": [],
   "source": [
    "@Configuration\n",
    "@PropertySource(\"classpath:foo.properties\") // used in conjunction with @Configuration\n",
    "public class PropertiesWithJavaConfig {\n",
    "    \n",
    "    @Value( \"${jdbc.url}\" ) // from foo.properties\n",
    "    private String jdbcUrl;\n",
    "    \n",
    "    //...\n",
    "}\n",
    "\n",
    "// Property source can also have the following variants:\n",
    "@Configuration\n",
    "@PropertySource({\"classpath:foo.properties\", \"classpath:bar.properties\"})\n",
    "class AnotherConfiguration {\n",
    "    // ...\n",
    "}\n",
    "\n",
    "@Configuration\n",
    "@PropertySources({\n",
    "    @PropertySource(\"classpath:foo.properties\"),\n",
    "    @PropertySource(\"classpath:bar.properties\")\n",
    "})\n",
    "class YetAnotherConfiguration {\n",
    "    // ...\n",
    "}"
   ]
  },
  {
   "cell_type": "markdown",
   "id": "14680da7-2e20-4829-9926-b185a34aa54c",
   "metadata": {},
   "source": [
    "An `ApplicationContext` auto-detects `BeanFactoryPostProcessor` beans in its bean definitions and applies them before any other beans get created. A `BeanFactoryPostProcessor` may also be registered programmatically with a `ConfigurableApplicationContext`. \n",
    "\n",
    "`BeanFactoryPostProcessor` beans that are autodetected in an `ApplicationContext` will be ordered according to `PriorityOrdered` and `Ordered` semantics. In contrast, `BeanFactoryPostProcessor` beans that are registered programmatically with a `ConfigurableApplicationContext` will be applied in the order of registration. Furthermore, the `@Order` annotation is not taken into account for `BeanFactoryPostProcessor` beans.\n",
    "\n",
    "3. **Bean Instantiation:** Bean is constructed and its dependencies injected. All `*Aware` beans are also injected in this phase. Some examples of `*Aware` beans are:  \n",
    "    a. `ApplicationContextAware` interface to get access to the IOC container inside a bean  \n",
    "    b. `BeanNameAware` interface lets a bean access its name provided by the container  \n",
    "    c. `EnvironmentAware`, etc  \n",
    "    We don’t even need to use the `Aware` interfaces, Spring can automatically inject `ApplicationContext`, `Environment`, etc. Many other objects can also get autowired without using equivalent Aware interface such as `BeanFactory`, `MessageSource`, `Environment`, `ResourceLoader`, `ApplicationEventPublisher`, etc\n",
    "4. **BeanPostProcessor:** Factory hook that allows for custom modification of new bean instances — for example, checking for marker interfaces or wrapping beans with proxies. Provides two methods - one that acts before initialization and the other after initialization as shown below:"
   ]
  },
  {
   "cell_type": "code",
   "execution_count": null,
   "id": "ccf0a300-88e2-4744-af16-749b7c2b7e5a",
   "metadata": {},
   "outputs": [],
   "source": [
    "public interface BeanPostProcessor {\n",
    "    @Nullable\n",
    "    default Object postProcessBeforeInitialization(Object bean, String beanName) throws BeansException {\n",
    "        return bean;\n",
    "    }\n",
    "\n",
    "    @Nullable\n",
    "    default Object postProcessAfterInitialization(Object bean, String beanName) throws BeansException {\n",
    "        return bean;\n",
    "    }\n",
    "}"
   ]
  },
  {
   "cell_type": "markdown",
   "id": "ba8acbaa-7f8a-4625-9e27-5ccc991c5d02",
   "metadata": {},
   "source": [
    "It follows the same oredering logic that `BeanFactoryPostProcessor`s follow.  \n",
    "\n",
    "5. **Initialization:** Spring supports multiple initialization methods in the order as follows:  \n",
    "    a. Methods annotated with `@PostConstruct` (required JavaEE)  \n",
    "    b. `afterPropertiesSet()` as defined by the `InitializingBean` callback interface  \n",
    "    c. A custom configured `init()` method by using `@Bean(name = \"demoBean\", initMethod = \"init\")`  "
   ]
  },
  {
   "cell_type": "markdown",
   "id": "3dc2ac9e-31ac-4c0c-a5e5-7d846bea609b",
   "metadata": {},
   "source": [
    "## Environment\n",
    "Spring `Environment` is combination of `Profile` and `PropertySource`. It is a convenient abstraction to access key value pairs present in OS environment variables, JVM system properties, JNDI, servlet context parameters, ad-hoc `Properties` objects, `Map` objects, etc."
   ]
  },
  {
   "cell_type": "code",
   "execution_count": null,
   "id": "dff455a6-0444-48f8-aec7-0317d406c361",
   "metadata": {},
   "outputs": [],
   "source": [
    "AnnotationConfigApplicationContext annotationConfigApplicationContext = \n",
    "    new AnnotationConfigApplicationContext();\n",
    "Environment environment = annotationConfigApplicationContext.getEnvironment();"
   ]
  },
  {
   "cell_type": "markdown",
   "id": "49135218-7ea9-40ef-a69e-c70b5ebaffe2",
   "metadata": {},
   "source": [
    "This returns instance of `StandardEnvironment` which has two property sources\n",
    "- `System.getProperties()` (JVM)\n",
    "- `System.env()` (environment variables)\n",
    "\n",
    "Other application context may supply different implementation of environment with different `PropertySource`s. For example, web application context returns `StandardServletEnvironment` with the following priority:\n",
    "- `ServletConfig` parameters (if applicable — for eg, in case of a `DispatcherServlet` context)\n",
    "- `ServletContext` parameters (web.xml context-param entries)\n",
    "- JNDI environment variables (java:comp/env/ entries)\n",
    "- JVM system properties (-D command-line arguments)\n",
    "- JVM system environment (operating system environment variables)\n",
    "\n",
    "We can configure an `Environment` and add `PropertySource`:"
   ]
  },
  {
   "cell_type": "code",
   "execution_count": null,
   "id": "327cf55c-320c-4807-b8ed-13ecb28521c4",
   "metadata": {},
   "outputs": [],
   "source": [
    "ConfigurableApplicationContext configurableApplicationContext = \n",
    "    new GenericApplicationContext();\n",
    "ConfigurableEnvironment configurableEnvironment = configurableApplicationContext.getEnvironment();\n",
    "\n",
    "// Configurable environment is implemented by StandardEnvironment\n",
    "MutablePropertySources sources = configurableEnvironment.getPropertySources();\n",
    "sources.addFirst( // addFirst gives this PropertySource highest precedence\n",
    "    new ResourcePropertySource(new ClassPathResource(\"container/values.properties\")));\n",
    "\n",
    "for (PropertySource<?> propertySource : sources) {\n",
    "    System.out.println(\"Name =  \" + propertySource.getName() +\n",
    "            \"\\nSource = \" + propertySource.getSource().getClass() + \"\\n\");\n",
    "}"
   ]
  },
  {
   "cell_type": "markdown",
   "id": "bb5ccd72-ddfc-41af-9e19-92af74b22481",
   "metadata": {},
   "source": [
    "There are multiple different flavours of `PropertySource` as listed in the hierarchy below:  \n",
    "```\n",
    "PropertySource (abstract)\n",
    "    |\n",
    "    +-- EnumerablePropertySource (abstract)\n",
    "            |\n",
    "            +-- CommandLinePropertySource (abstract)\n",
    "            |       |\n",
    "            |       +-- SimpleCommandLinePropertySource\n",
    "            +-- MapPropertySource (sources properties from Map) \n",
    "                    |\n",
    "                    +-- PropertiesPropertySource (sources properties from Properties)\n",
    "                            |\n",
    "                            +-- ResourcePropertySource (sources from Resource)\n",
    "```\n",
    "\n",
    "**CommandLinePropertySource:** sources its properties from command line arguments. For example, if we pass the `--o1=v1 --o2` as the commandline argument, following holds true:"
   ]
  },
  {
   "cell_type": "code",
   "execution_count": null,
   "id": "868fcbb1-2076-42b1-8865-2c4924ca8ebd",
   "metadata": {},
   "outputs": [],
   "source": [
    "// use of -- incdicates option argument\n",
    "CommandLinePropertySource<?> ps = ...\n",
    "assert ps.containsProperty(\"o1\") == true;\n",
    "assert ps.containsProperty(\"o2\") == true;\n",
    "assert ps.containsProperty(\"o3\") == false;\n",
    "assert ps.getProperty(\"o1\").equals(\"v1\");\n",
    "assert ps.getProperty(\"o2\").equals(\"\"); // and not null\n",
    "assert ps.getProperty(\"o3\") == null;"
   ]
  },
  {
   "cell_type": "markdown",
   "id": "98ba001c-dc03-419d-9247-2de72f527cd8",
   "metadata": {},
   "source": [
    "Any arguments supplied without an option-style prefix such as \"-\" or \"--\" are considered \"non-option arguments\" and available through the special \"nonOptionArgs\" property. For example, consider `--o1=v1 --o2=v2 /path/to/file1 /path/to/file2` being passed as argument, then:"
   ]
  },
  {
   "cell_type": "code",
   "execution_count": null,
   "id": "3021a017-e0ab-4df6-bb7c-20df50190897",
   "metadata": {},
   "outputs": [],
   "source": [
    "CommandLinePropertySource<?> ps = ...\n",
    "assert ps.containsProperty(\"o1\") == true;\n",
    "assert ps.containsProperty(\"o2\") == true;\n",
    "assert ps.containsProperty(\"nonOptionArgs\") == true;\n",
    "assert ps.getProperty(\"o1\").equals(\"v1\");\n",
    "assert ps.getProperty(\"o2\").equals(\"v2\");\n",
    "assert ps.getProperty(\"nonOptionArgs\")\n",
    "    .equals(\"/path/to/file1,/path/to/file2\"); // all nonoption arguments\n",
    "                                              // get concatenated\n",
    "\n",
    "// When used in conjunction with the Spring Environment abstraction, \n",
    "// this comma-delimited string may easily be converted to a String array or list:\n",
    "Environment env = applicationContext.getEnvironment();\n",
    "String[] nonOptionArgs = env.getProperty(\"nonOptionArgs\", String[].class);\n",
    "assert nonOptionArgs[0].equals(\"/path/to/file1\");\n",
    "assert nonOptionArgs[1].equals(\"/path/to/file2\");"
   ]
  },
  {
   "cell_type": "markdown",
   "id": "ce0568fb-e0ee-4a0a-ab56-aea2d325222d",
   "metadata": {},
   "source": [
    "**Annotation:** `@PropertySource` annotation provides a convenient and declarative mechanism for adding a `PropertySource` to Spring’s `Environment`.\n",
    "\n",
    "### Profile\n",
    "The `@Profile` annotation lets us indicate that a component is eligible for registration when one or more specified profiles are active."
   ]
  },
  {
   "cell_type": "code",
   "execution_count": null,
   "id": "8521a061-89bb-4214-a451-4dc9a27615ef",
   "metadata": {},
   "outputs": [],
   "source": [
    "@Configuration\n",
    "public class AppConfig {\n",
    "\n",
    "    @Bean(\"dataSource\")\n",
    "    @Profile(\"development\") \n",
    "    public DataSource standaloneDataSource() {\n",
    "        return new EmbeddedDatabaseBuilder()\n",
    "            .setType(EmbeddedDatabaseType.HSQL)\n",
    "            .addScript(\"classpath:com/bank/config/sql/schema.sql\")\n",
    "            .addScript(\"classpath:com/bank/config/sql/test-data.sql\")\n",
    "            .build();\n",
    "    }\n",
    "\n",
    "    @Bean(\"dataSource\")\n",
    "    @Profile(\"production\") \n",
    "    public DataSource jndiDataSource() throws Exception {\n",
    "        Context ctx = new InitialContext();\n",
    "        return (DataSource) ctx.lookup(\"java:comp/env/jdbc/datasource\");\n",
    "    }\n",
    "}"
   ]
  },
  {
   "cell_type": "markdown",
   "id": "85c342a4-cffc-4132-9f2e-9d2de5546b42",
   "metadata": {},
   "source": [
    "`@Profile` annotation can also be applied at class level. Profile string may contain a simple profile name (for example, production) or a profile expression. A profile expression allows for more complicated profile logic to be expressed (for example, production & us-east). The following operators are supported in profile expressions:\n",
    "- !: A logical “not” of the profile\n",
    "- &: A logical “and” of the profiles\n",
    "- |: A logical “or” of the profiles\n",
    "\n",
    "There can be more than one profile active at a time. To see which profiles are currently active:"
   ]
  },
  {
   "cell_type": "code",
   "execution_count": null,
   "id": "b29197e8-1e84-4260-ba2a-14ebad384059",
   "metadata": {},
   "outputs": [],
   "source": [
    "String[] activeProfiles = environment.getActiveProfiles();\n",
    "System.out.println(Arrays.toString(activeProfiles));"
   ]
  },
  {
   "cell_type": "markdown",
   "id": "2241388a-fdfe-4210-ade5-e6d11c541136",
   "metadata": {},
   "source": [
    "**Activating a profile programmatically:**"
   ]
  },
  {
   "cell_type": "code",
   "execution_count": null,
   "id": "c8eeca3a-1123-4206-87d0-77a930834e7a",
   "metadata": {},
   "outputs": [],
   "source": [
    "AnnotationConfigApplicationContext ctx = new AnnotationConfigApplicationContext(AppConfig.class);\n",
    "ctx.getEnvironment().setActiveProfiles(\"development\");\n",
    "ctx.refresh();"
   ]
  },
  {
   "cell_type": "markdown",
   "id": "519c9007-c9c3-4146-a8a7-dd79faeae92f",
   "metadata": {},
   "source": [
    "**Activating a profile declaratively:** set `spring.profiles.active` to comma separated list of profile names. We can pass this as our program argument. The below code will throw `NoUniqueBeanDefinitionException`. This is because the beans with no profiles attached to them are always loaded."
   ]
  },
  {
   "cell_type": "code",
   "execution_count": null,
   "id": "7f588d1d-7f15-4abf-9bdd-509363c8ba80",
   "metadata": {},
   "outputs": [],
   "source": [
    "@Configuration\n",
    "public class ProfilesDemo {\n",
    "    @Component\n",
    "    class DateFormatter {\n",
    "        @Autowired\n",
    "        private String format;\n",
    "\n",
    "        public String format(Date date){\n",
    "            return new SimpleDateFormat(format).format(date);\n",
    "        }\n",
    "    }\n",
    "\n",
    "    @Bean\n",
    "    @Profile(\"us\")\n",
    "    public String getUSDateFormat(){\n",
    "        return \"MM/dd/yyyy\";\n",
    "    }\n",
    "\n",
    "    @Bean\n",
    "    @Profile(\"utc\")\n",
    "    public String getUTCDateFormat(){\n",
    "        return \"dd-MM-yyyy\";\n",
    "    }\n",
    "\n",
    "    @Bean\n",
    "    public String getDefaultDateFormat(){\n",
    "        return \"dd/MM/yyyy\";\n",
    "    }\n",
    "\n",
    "    public static void main(String[] args) {\n",
    "        AnnotationConfigApplicationContext context =  new AnnotationConfigApplicationContext();\n",
    "        context.register(ProfilesDemo.class);\n",
    "        context.getEnvironment().getSystemProperties()\n",
    "            .put(AbstractEnvironment.ACTIVE_PROFILES_PROPERTY_NAME, \"us\");\n",
    "        context.refresh();\n",
    "\n",
    "        System.out.println(Arrays.toString(context.getEnvironment().getActiveProfiles()));\n",
    "\n",
    "        DateFormatter formatter = context.getBean(DateFormatter.class);\n",
    "        System.out.println(formatter.format(new Date()));\n",
    "    }\n",
    "}"
   ]
  }
 ],
 "metadata": {
  "kernelspec": {
   "display_name": "Java",
   "language": "java",
   "name": "java"
  },
  "language_info": {
   "codemirror_mode": "java",
   "file_extension": ".jshell",
   "mimetype": "text/x-java-source",
   "name": "Java",
   "pygments_lexer": "java",
   "version": "17.0.5+9-LTS-191"
  }
 },
 "nbformat": 4,
 "nbformat_minor": 5
}
