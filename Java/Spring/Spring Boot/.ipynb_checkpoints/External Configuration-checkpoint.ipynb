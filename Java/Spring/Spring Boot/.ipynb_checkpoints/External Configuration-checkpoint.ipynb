{
 "cells": [
  {
   "cell_type": "markdown",
   "metadata": {},
   "source": [
    "### External Configurations\n",
    "Spring looks at a number of locations for external parameters. Whether it is properties files or environment variables."
   ]
  },
  {
   "cell_type": "markdown",
   "metadata": {},
   "source": [
    "### Properties Files\n",
    "Spring Boot will automatically find and load `application.properties` and `application.yaml` files from the classpath and other locations. Other property files can also be specified using the `@PropertySource` annotation."
   ]
  },
  {
   "cell_type": "code",
   "execution_count": null,
   "metadata": {},
   "outputs": [],
   "source": [
    "// The component\n",
    "@Component(\"configDemo\")\n",
    "public class ExternalConfigDemo {\n",
    "    @Value(\"${name}\") // read from application.properties in this case\n",
    "    private String value;\n",
    "\n",
    "    public String getValue() {\n",
    "        return value;\n",
    "    }\n",
    "\n",
    "    public void setValue(String value) {\n",
    "        this.value = value;\n",
    "    }\n",
    "}\n",
    "\n",
    "// The class with main\n",
    "@Configuration\n",
    "@EnableAutoConfiguration\n",
    "@ComponentScan(\"demo\")\n",
    "public class Application implements CommandLineRunner {\n",
    "    @Autowired\n",
    "    private ApplicationContext context;\n",
    "\n",
    "    public static void main(String[] args) {\n",
    "        System.setProperty(\"spring.devtools.restart.log-condition-evaluation-delta\", \"false\");\n",
    "        SpringApplication app = new SpringApplication(Application.class);\n",
    "        app.run(args);\n",
    "    }\n",
    "\n",
    "    @Override\n",
    "    public void run(String... args) throws Exception {\n",
    "        ExternalConfigDemo test = context.getBean(\"configDemo\", ExternalConfigDemo.class);\n",
    "        System.out.println(test.getValue());\n",
    "    }\n",
    "}"
   ]
  },
  {
   "cell_type": "markdown",
   "metadata": {},
   "source": [
    "If we want to name our `application.properties` file differently, we need to set `spring.config.name` appropriately. Now this property can be set using commandline parameter or environment variable as we'll see later."
   ]
  },
  {
   "cell_type": "markdown",
   "metadata": {},
   "source": [
    "### Commandline Properties\n",
    "`SpringApplication` converts any command line option arguments (that is, arguments starting with --, such as --server.port=9000) to a property and adds them to the Spring Environment. Also, command line properties always take precedence over file based property sources. We can pass JSON objects as shown in next section."
   ]
  },
  {
   "cell_type": "code",
   "execution_count": null,
   "metadata": {},
   "outputs": [],
   "source": [
    "@Value(\"${configObject.name}\") // read from command line JSON\n",
    "private String value;"
   ]
  },
  {
   "cell_type": "markdown",
   "metadata": {},
   "source": [
    "### Environment Variable\n",
    "Spring can read any environment variable named `spring.application.json` or `SPRING_APPLICATION_JSON`. These environment variables should contain JSON data.  \n",
    "```\n",
    "$ SPRING_APPLICATION_JSON='{\"name\":\"Steve Jobs\"}'\n",
    "```"
   ]
  },
  {
   "cell_type": "markdown",
   "metadata": {},
   "source": [
    "### Default Value\n",
    "In case a configuration key is not found, we can specify a default"
   ]
  },
  {
   "cell_type": "code",
   "execution_count": null,
   "metadata": {},
   "outputs": [],
   "source": [
    "@Value(\"${name:default_name}\") // default specified after :\n",
    "private String value;"
   ]
  }
 ],
 "metadata": {
  "kernelspec": {
   "display_name": "Java",
   "language": "java",
   "name": "java"
  },
  "language_info": {
   "codemirror_mode": "java",
   "file_extension": ".jshell",
   "mimetype": "text/x-java-source",
   "name": "Java",
   "pygments_lexer": "java",
   "version": "13+33"
  }
 },
 "nbformat": 4,
 "nbformat_minor": 4
}
