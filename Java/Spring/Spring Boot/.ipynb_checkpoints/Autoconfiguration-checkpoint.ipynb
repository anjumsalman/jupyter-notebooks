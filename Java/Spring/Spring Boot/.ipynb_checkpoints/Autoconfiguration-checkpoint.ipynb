{
 "cells": [
  {
   "cell_type": "markdown",
   "metadata": {},
   "source": [
    "### Annotation Hierarchy\n",
    "The primary Spring Boot annotation is `@SpringBootApplication` which in turn is composed of:\n",
    "```\n",
    "@SpringBootApplication\n",
    "        |\n",
    "        +-- @SpringBootConfiguration\n",
    "        |                |\n",
    "        |                +-- @Configuration\n",
    "        |\n",
    "        +-- @EnableAutoConfiguration\n",
    "        |                |\n",
    "        |                + @Import\n",
    "        +-- @ComponentScan\n",
    "```\n",
    "\n",
    "So we can replace @SpringBootApplication annotation with"
   ]
  },
  {
   "cell_type": "code",
   "execution_count": null,
   "metadata": {},
   "outputs": [],
   "source": [
    "@Configuration\n",
    "@EnableAutoConfiguration\n",
    "@ComponentScan(\"package to import\")\n",
    "public class Application {\n",
    "    // ...\n",
    "}"
   ]
  },
  {
   "cell_type": "markdown",
   "metadata": {},
   "source": [
    "`@EnableAutoConfiguration` is what makes Spring Boot, Spring Boot. Spring Boot based on external properties set and classes in classpath (jars loaded) configures a number of beans."
   ]
  },
  {
   "cell_type": "markdown",
   "metadata": {},
   "source": [
    "### @Conditional\n",
    "`@Conditional` allows us to define custom conditions to apply to parts of our application context. We can put it on `@Bean` methods, `@Components` or even `@Configurations`. In case of configuration, that configuration will not be further processed if the conditional fails. @Conditional is used as:"
   ]
  },
  {
   "cell_type": "code",
   "execution_count": null,
   "metadata": {},
   "outputs": [],
   "source": [
    "@Conditional(SomeCondition.class)"
   ]
  },
  {
   "cell_type": "markdown",
   "metadata": {},
   "source": [
    "Example conditional class:"
   ]
  },
  {
   "cell_type": "code",
   "execution_count": null,
   "metadata": {},
   "outputs": [],
   "source": [
    "// The below condition class evaluates to true if a particular property is present\n",
    "// in Spring Environment and OracleDriver class is present in classpath\n",
    "public class IsRelationalDatabaseCondition implements Condition {\n",
    "\n",
    "    // The conditional evaluates to true or false based on the returning value\n",
    "    // of the below method\n",
    "    @Override\n",
    "    public boolean matches(ConditionContext context, AnnotatedTypeMetadata metadata) {\n",
    "        return oracleJdbcDriverOnClassPath() && databaseUrlSet(context);\n",
    "    }\n",
    "\n",
    "    private boolean databaseUrlSet(ConditionContext context) {\n",
    "        return context.getEnvironment().containsProperty(\"spring.datasource.url\");\n",
    "    }\n",
    "\n",
    "    private boolean oracleJdbcDriverOnClassPath() {\n",
    "        try {\n",
    "            Class.forName(\"oracle.jdbc.driver.OracleDriver\");\n",
    "            return true;\n",
    "        } catch (ClassNotFoundException e) {\n",
    "            return false;\n",
    "        }\n",
    "    }\n",
    "}"
   ]
  },
  {
   "cell_type": "markdown",
   "metadata": {},
   "source": [
    "`@Conditional` is low level, Spring Boot provides a number of different conditional annotations:\n",
    "- `@ConditionalOnBean(Bean.class)`: The condition is true only if the user specified a Bean @Bean in a @Configuration.\n",
    "- `@ConditionalOnClass(Clazz.class)`: The condition is true if the Clazz class is on the classpath.\n",
    "- `@ConditionalOnExpression(\"someSpELExpression\")`: The condition is true if the SpEL expression is true.\n",
    "- `@ConditionalOnJava(JavaVersion.EIGHT)`: The condition is true if the current Java version is 8.\n",
    "- `@ConditionalOnMissingBean(MissingBean.class)`: The condition is true if the user did not specify a MissingBean @Bean in any @Configuration.\n",
    "- `@ConditionalOnMissingClass(MissingClass.class)`: The condition is true if the MissingClass class is not on the classpath.\n",
    "- `@ConditionalOnProperty(\"my.property\")`: The condition is true if my.property is set.\n",
    "And a few more"
   ]
  },
  {
   "cell_type": "markdown",
   "metadata": {},
   "source": [
    "### Autoconfiguration\n",
    "The @EnableAutoConfiguration annotation contains `@Import(AutoConfigurationImportSelector.class)`.  Usually, @Import is used to add more Spring configurations to the application context. However, in addition to classes annotated with @Configuration, @Import may also refer to classes that implement either `ImportSelector` or `ImportBeanDefinitionRegistrar`. The AutoConfigurationImportSelector class implements `DeferredImportSelector`.  \n",
    "\n",
    "This class reads a number of class names from `spring.factories` file present in `spring-boot-autoconfigure.jar`. Contents of the file:\n",
    "```\n",
    "#...\n",
    "# Auto Configure\n",
    "org.springframework.boot.autoconfigure.EnableAutoConfiguration=\\\n",
    "org.springframework.boot.autoconfigure.admin.SpringApplicationAdminJmxAutoConfiguration,\\\n",
    "org.springframework.boot.autoconfigure.aop.AopAutoConfiguration,\\\n",
    "org.springframework.boot.autoconfigure.amqp.RabbitAutoConfiguration,\\\n",
    "org.springframework.boot.autoconfigure.batch.BatchAutoConfiguration,\\\n",
    "org.springframework.boot.autoconfigure.cache.CacheAutoConfiguration,\\\n",
    "org.springframework.boot.autoconfigure.cassandra.CassandraAutoConfiguration,\\\n",
    "org.springframework.boot.autoconfigure.context.ConfigurationPropertiesAutoConfiguration,\\\n",
    "org.springframework.boot.autoconfigure.context.LifecycleAutoConfiguration,\\\n",
    "org.springframework.boot.autoconfigure.context.MessageSourceAutoConfiguration,\\\n",
    "org.springframework.boot.autoconfigure.context.PropertyPlaceholderAutoConfiguration,\\\n",
    "org.springframework.boot.autoconfigure.couchbase.CouchbaseAutoConfiguration,\\\n",
    "#...\n",
    "```\n",
    "All these (over 150) autoconguration classes are executed (except for the ones we excluded). Thus we get a number of autoconfigured beans. We can take a look at one such autoconfiguration class"
   ]
  },
  {
   "cell_type": "code",
   "execution_count": null,
   "metadata": {},
   "outputs": [],
   "source": [
    "@Configuration(proxyBeanMethods = false)  // Specifies this is a configuration which is imported by spring boot\n",
    "@ConditionalOnClass({ DataSource.class, EmbeddedDatabaseType.class }) // Only if the given classes are in classpath\n",
    "@EnableConfigurationProperties(DataSourceProperties.class) // Allows to convert properties in .properties files \n",
    "                                                           // to an object\n",
    "@Import({ DataSourcePoolMetadataProvidersConfiguration.class, DataSourceInitializationConfiguration.class }) // These configs are imported\n",
    "\n",
    "public class DataSourceAutoConfiguration {\n",
    "\n",
    "    @Configuration(proxyBeanMethods = false)\n",
    "    @Conditional(EmbeddedDatabaseCondition.class)\n",
    "    @ConditionalOnMissingBean({ DataSource.class, XADataSource.class })\n",
    "    @Import(EmbeddedDataSourceConfiguration.class)\n",
    "    protected static class EmbeddedDatabaseConfiguration {\n",
    "\n",
    "    }\n",
    "\n",
    "    // Below configuration will configure a DataSource for us\n",
    "    @Configuration(proxyBeanMethods = false)\n",
    "    @Conditional(PooledDataSourceCondition.class)\n",
    "    @ConditionalOnMissingBean({ DataSource.class, XADataSource.class }) // Configure DataSource only if the user\n",
    "                                                                        // has not configured one himself\n",
    "    // DataSource type created depend on the below imported configurations\n",
    "    @Import({ DataSourceConfiguration.Hikari.class, DataSourceConfiguration.Tomcat.class,\n",
    "                    DataSourceConfiguration.Dbcp2.class, DataSourceConfiguration.Generic.class,\n",
    "                    DataSourceJmxConfiguration.class })\n",
    "    protected static class PooledDataSourceConfiguration {\n",
    "\n",
    "    }\n",
    "\n",
    "    // some more\n",
    "}"
   ]
  },
  {
   "cell_type": "markdown",
   "metadata": {},
   "source": [
    "The Hikari CP configuration class looks like:"
   ]
  },
  {
   "cell_type": "code",
   "execution_count": null,
   "metadata": {},
   "outputs": [],
   "source": [
    "@Configuration(proxyBeanMethods = false)\n",
    "@ConditionalOnClass(HikariDataSource.class)\n",
    "@ConditionalOnMissingBean(DataSource.class)\n",
    "@ConditionalOnProperty(name = \"spring.datasource.type\", havingValue = \"com.zaxxer.hikari.HikariDataSource\",\n",
    "        matchIfMissing = true)\n",
    "static class Hikari {\n",
    "\n",
    "    @Bean\n",
    "    @ConfigurationProperties(prefix = \"spring.datasource.hikari\")\n",
    "    HikariDataSource dataSource(DataSourceProperties properties) {\n",
    "        HikariDataSource dataSource = createDataSource(properties, HikariDataSource.class);\n",
    "        if (StringUtils.hasText(properties.getName())) {\n",
    "            dataSource.setPoolName(properties.getName());\n",
    "        }\n",
    "        return dataSource;\n",
    "    }\n",
    "\n",
    "}"
   ]
  }
 ],
 "metadata": {
  "kernelspec": {
   "display_name": "Java",
   "language": "java",
   "name": "java"
  },
  "language_info": {
   "codemirror_mode": "java",
   "file_extension": ".jshell",
   "mimetype": "text/x-java-source",
   "name": "Java",
   "pygments_lexer": "java",
   "version": "13+33"
  }
 },
 "nbformat": 4,
 "nbformat_minor": 4
}
