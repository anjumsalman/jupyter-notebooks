{
 "cells": [
  {
   "cell_type": "markdown",
   "metadata": {},
   "source": [
    "### Logging\n",
    "By default if we use Spring Boot starter, it uses *Logback* for logging purpose. Spring lets us set `logging` properties which can be common configuration regardless of actual logging framework being used whether it is Log4j or Logback. However there are some configurations that affect only Logback. For configuring Log4j equivalently, we need to edit log4j logging properties. Some configurations:\n",
    "\n",
    "**Log Level:** By default, logging level is set to INFO. We can set per package logging level\n",
    "```properties\n",
    "# application.properties\n",
    "logging.level.org.springframework.web=debug\n",
    "logging.level.org.hibernate=error\n",
    "```\n",
    "\n",
    "**File Output:** use either `logging.file.name` or `logging.file.path` property. The latter one uses Spring.log as filename\n",
    "```properties\n",
    "# application.properties\n",
    "logging.file.name=/temp/trace.log\n",
    "```\n",
    "\n",
    "**Logging Pattern:**\n",
    "```properties\n",
    "# application.properties\n",
    "# Logging pattern for the console\n",
    "logging.pattern.console= %d{yyyy-MM-dd HH:mm:ss} - %logger{36} - %msg%n  \n",
    "# Logging pattern for file\n",
    "logging.pattern.file= %d{yyyy-MM-dd HH:mm:ss} [%thread] %-5level %logger{36} - %msg%\n",
    "```\n",
    "\n",
    "Since Spring Boot by default uses Logback, we can add a `logback.xml` file in classpath and it will be read for logging configuration."
   ]
  },
  {
   "cell_type": "markdown",
   "metadata": {},
   "source": [
    "### Log4j2\n",
    "In order to use Log4j2, we need to exclude the default logging starter and add log4j logging starter:\n",
    "\n",
    "```xml\n",
    "<dependency>\n",
    "    <groupId>org.springframework.boot</groupId>\n",
    "    <artifactId>spring-boot-starter-web</artifactId>\n",
    "    <exclusions>\n",
    "        <exclusion>\n",
    "            <groupId>org.springframework.boot</groupId>\n",
    "            <artifactId>spring-boot-starter-logging</artifactId>\n",
    "        </exclusion>\n",
    "    </exclusions>\n",
    "</dependency>\n",
    " \n",
    "<dependency>\n",
    "    <groupId>org.springframework.boot</groupId>\n",
    "    <artifactId>spring-boot-starter-log4j2</artifactId>\n",
    "</dependency>\n",
    "```\n",
    "\n",
    "Spring Boot automatically configures Log4j if it finds a file named `log4j2.xml` or `log4j2.json` or `log4j2.yaml` in the classpath."
   ]
  },
  {
   "cell_type": "code",
   "execution_count": null,
   "metadata": {},
   "outputs": [],
   "source": []
  }
 ],
 "metadata": {
  "kernelspec": {
   "display_name": "Java",
   "language": "java",
   "name": "java"
  },
  "language_info": {
   "codemirror_mode": "java",
   "file_extension": ".jshell",
   "mimetype": "text/x-java-source",
   "name": "Java",
   "pygments_lexer": "java",
   "version": "13+33"
  }
 },
 "nbformat": 4,
 "nbformat_minor": 4
}
