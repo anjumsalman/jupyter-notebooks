{
 "cells": [
  {
   "cell_type": "markdown",
   "metadata": {},
   "source": [
    "### Constructor Based DI\n",
    "We use `<constructor-arg>` tag to do constructor based dependency injection. Consider the below example:"
   ]
  },
  {
   "cell_type": "markdown",
   "metadata": {},
   "source": [
    "```java\n",
    "// PersonInfoServiceImpl.java\n",
    "public class PersonInfoServiceImpl {\n",
    "\tprivate Person person;\n",
    "\t\n",
    "\tpublic PersonInfoServiceImpl(Person person) {\n",
    "\t\tthis.person = person;\n",
    "\t}\n",
    "}\n",
    "```\n",
    "```xml\n",
    "<!-- bean.xml -->\n",
    "<bean id=\"personService\" class=\"com.weblogic.starter.PersonInfoServiceImpl\">\n",
    "    <constructor-arg ref=\"person\"></constructor-arg>\n",
    "</bean>\n",
    "```\n",
    "```java\n",
    "// Application.java\n",
    "ApplicationContext applicationContext = \n",
    "\t\t\t\tnew ClassPathXmlApplicationContext(\"beans.xml\");\n",
    "\t\tPersonInfoServiceImpl personInfoServiceImpl = \n",
    "\t\t\t\t(PersonInfoServiceImpl) applicationContext.getBean(\"personService\");\n",
    "\t\tpersonInfoServiceImpl.printPerson();\n",
    "```"
   ]
  },
  {
   "cell_type": "code",
   "execution_count": null,
   "metadata": {},
   "outputs": [],
   "source": []
  }
 ],
 "metadata": {
  "kernelspec": {
   "display_name": "Java",
   "language": "java",
   "name": "java"
  },
  "language_info": {
   "codemirror_mode": "java",
   "file_extension": ".java",
   "mimetype": "text/x-java-source",
   "name": "Java",
   "pygments_lexer": "java",
   "version": "9+181"
  }
 },
 "nbformat": 4,
 "nbformat_minor": 2
}
