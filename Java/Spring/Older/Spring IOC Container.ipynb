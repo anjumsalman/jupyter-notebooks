{
 "cells": [
  {
   "cell_type": "markdown",
   "metadata": {},
   "source": [
    "### Introduction\n",
    "Before diving into IOC container, we need to know what a **Spring Bean** is. A Spring Bean is an object created, managed and destroyed by Spring. There are some other terms which we may be familiar with like **Java Bean** and **POJO**. A Java Bean is an object which\n",
    "1. has all properties private\n",
    "2. has public getter and setters\n",
    "3. has public no-args constructor\n",
    "4. implements Serializable interface  \n",
    "\n",
    "On the other hand, POJOs are just Plain Old Java Objects with not guidelines as to how they should be constructed. Spring can manage just about any object, even if it doesn’t have JavaBean type characteristics such as default constructors or mutator methods (getter/setter).  \n",
    "\n",
    "The `org.springframework.beans` and `org.springframework.context` packages are the basis for Spring Framework's IoC container."
   ]
  },
  {
   "cell_type": "markdown",
   "metadata": {},
   "source": [
    "### Bean Factory\n",
    "The interface `org.springframework.beans.factory.BeanFactory` is at the top of the hierarchy and its concrete implementations act as IOC containers. We provide  configuration to BeanFactory and it manages creation of objects (beans). Configuration can be provided in multiple ways. Below is the XML form:"
   ]
  },
  {
   "cell_type": "markdown",
   "metadata": {},
   "source": [
    "```xml\n",
    "<beans xmlns=\"http://www.springframework.org/schema/beans\"\n",
    "       xmlns:xsi=\"http://www.w3.org/2001/XMLSchema-instance\"\n",
    "       xsi:schemaLocation=\"http://www.springframework.org/schema/beans\n",
    "           http://www.springframework.org/schema/beans/spring-beans.xsd\">\n",
    "        \n",
    "        <bean id=\"john\" class=\"com.weblogic.starter.Person\">\n",
    "        \t<property name=\"name\" value=\"John Doe\"></property>\n",
    "        \t<property name=\"location\" value=\"Paris\"></property>\n",
    "        \t<property name=\"age\" value=\"28\"></property>\n",
    "        </bean>\n",
    "           \n",
    "</beans>    \n",
    "```"
   ]
  },
  {
   "cell_type": "code",
   "execution_count": null,
   "metadata": {},
   "outputs": [],
   "source": [
    "// Person.java\n",
    "public class Person {\n",
    "    private String name;\n",
    "    private String location;\n",
    "    private int age;\n",
    "    \n",
    "    // Constructor\n",
    "    // Getter and Setter\n",
    "\n",
    "// Application.java\n",
    "public class Application {\n",
    "\n",
    "    public static void main(String[] args) {\n",
    "        BeanFactory beanFactory = new XmlBeanFactory(\n",
    "                new FileSystemResource(\"beans.xml\"));\n",
    "        Person person = (Person) beanFactory.getBean(\"john\");\n",
    "        System.out.println(person);\n",
    "    }\n",
    "\n",
    "}"
   ]
  },
  {
   "cell_type": "markdown",
   "metadata": {},
   "source": [
    "The `XMLBeanFactory` uses XML files to get configuration for bean. Its constructor accepts any `Resource` object."
   ]
  },
  {
   "cell_type": "markdown",
   "metadata": {},
   "source": [
    "### Application Context\n",
    "`org.springframework.context.ApplicationContext` interface extends BeanFactory and adds some features on top of it. It is the recommended way of using Spring IOC containers. Some common concrete implementations are:\n",
    "```\n",
    "ApplicationContext\n",
    "            |\n",
    "            +--- org.springframework.context.support.ClassPathXmlApplicationContext: use this if xml file is present in classpath\n",
    "            +--- org.springframework.context.support.FileSystemXmlApplicationContext: use this if file present in any other location\n",
    "            +--- org.springframework.context.support.GenericApplicationContext: use this to load configuration from multiple different types of configurations\n",
    "            +--- org.springframework.context.annotation.AnnotationConfigApplicationContext\n",
    "```"
   ]
  },
  {
   "cell_type": "code",
   "execution_count": null,
   "metadata": {},
   "outputs": [],
   "source": [
    "ApplicationContext applicationContext = \n",
    "    new ClassPathXmlApplicationContext(\"beans.xml\");\n",
    "Person person2 = (Person) applicationContext.getBean(\"john\");\n",
    "System.out.println(person2);"
   ]
  },
  {
   "cell_type": "markdown",
   "metadata": {},
   "source": [
    "In many cases, it is not even required to explicitly instantiate the application context, the framework does that automatically."
   ]
  },
  {
   "cell_type": "markdown",
   "metadata": {},
   "source": [
    "### Spring Beans\n",
    "Every bean defined to supported configurations is internally represented as BeanDefinition objects. All Information supplied to define a bean can be one of the following\n",
    "- Class, bean definition.getClass()*\n",
    "- Name\n",
    "- Scope\n",
    "- Constructor Argument\n",
    "- Setter based Injection\n",
    "- Autowiring mode\n",
    "- Lazy Initialization\n",
    "- Initialization method\n",
    "- Destruction Method"
   ]
  },
  {
   "cell_type": "code",
   "execution_count": null,
   "metadata": {},
   "outputs": [],
   "source": []
  }
 ],
 "metadata": {
  "kernelspec": {
   "display_name": "Java",
   "language": "java",
   "name": "java"
  },
  "language_info": {
   "codemirror_mode": "java",
   "file_extension": ".jshell",
   "mimetype": "text/x-java-source",
   "name": "Java",
   "pygments_lexer": "java",
   "version": "17.0.5+9-LTS-191"
  }
 },
 "nbformat": 4,
 "nbformat_minor": 4
}
