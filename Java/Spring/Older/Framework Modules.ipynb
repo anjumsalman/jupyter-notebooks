{
 "cells": [
  {
   "cell_type": "markdown",
   "metadata": {},
   "source": [
    "### Framework Modules\n",
    "Spring is divided into about 20 modules divided into:\n",
    "- Core container\n",
    "- Data Access/ Integration\n",
    "- Web\n",
    "- Aspect Oriented Programming\n",
    "- Instrumentation\n",
    "- Messaging\n",
    "- Test"
   ]
  },
  {
   "cell_type": "markdown",
   "metadata": {},
   "source": [
    "### Core Container\n",
    "Consists of:\n",
    "- spring-core: (along with spring-beans) provides fundamental parts of framework likw IoC and Dependency Injection.\n",
    "- spring-beans: Focus BeanFactory\n",
    "- spring-context: provides means to access objects in a framework-style manner. Focus ApplicationContext.\n",
    "- spring-context-support\n",
    "- spring-expression: provides means to query and manipulate object graph at runtime."
   ]
  },
  {
   "cell_type": "code",
   "execution_count": null,
   "metadata": {},
   "outputs": [],
   "source": []
  }
 ],
 "metadata": {
  "kernelspec": {
   "display_name": "Java",
   "language": "java",
   "name": "java"
  },
  "language_info": {
   "codemirror_mode": "java",
   "file_extension": ".jshell",
   "mimetype": "text/x-java-source",
   "name": "Java",
   "pygments_lexer": "java",
   "version": "13+33"
  }
 },
 "nbformat": 4,
 "nbformat_minor": 4
}
