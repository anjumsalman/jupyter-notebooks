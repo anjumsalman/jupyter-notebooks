{
 "cells": [
  {
   "cell_type": "markdown",
   "metadata": {},
   "source": [
    "### Spring JDBC\n",
    "Spring JDBC is an abstraction over Java JDBC and does the following things for us:\n",
    "- Open the connection\n",
    "- Prepare and run the statement\n",
    "- Set up the loop to iterate through the results (if any)\n",
    "- Process and handle any exception\n",
    "- Close the connection, the statement, and the resultset\n",
    "\n",
    "Spring JDBC provides a few different DataSource implementations like `SingleConnectionDataSource`, `DriverManagerDataSource`, etc. In order to connect with a database, we first need a DataSource"
   ]
  },
  {
   "cell_type": "code",
   "execution_count": null,
   "metadata": {},
   "outputs": [],
   "source": [
    "@Bean(\"mysql-datasource\")\n",
    "public DataSource mysqlDataSource() {\n",
    "    DriverManagerDataSource dataSource = new DriverManagerDataSource();\n",
    "    dataSource.setUrl(\"jdbc:mysql://localhost:3306/employees?autoReconnect=true&useSSL=false\");\n",
    "    dataSource.setUsername(\"root\");\n",
    "    dataSource.setPassword(\"root\");\n",
    "\n",
    "    return dataSource;\n",
    "}"
   ]
  },
  {
   "cell_type": "markdown",
   "metadata": {},
   "source": [
    "`DriverManagerDataSource` is provided by Spring JDBC. This implementation does not provide any connection pooling. Spring provides `JdbcTemplate` object which is the main object responsible for executing sql statements."
   ]
  },
  {
   "cell_type": "code",
   "execution_count": null,
   "metadata": {},
   "outputs": [],
   "source": [
    "ApplicationContext context = new AnnotationConfigApplicationContext(ApplicationConfiguration.class);\n",
    "\n",
    "DataSource ds = context.getBean(\"mysql-datasource\", DataSource.class);\n",
    "JdbcTemplate template = new JdbcTemplate(ds);"
   ]
  },
  {
   "cell_type": "markdown",
   "metadata": {},
   "source": [
    "### Querying Database\n",
    "**Non-parameterised query with 1 result:** `IncorrectResultSizeDataAccessException` is thrown if more than one row is fetched"
   ]
  },
  {
   "cell_type": "code",
   "execution_count": null,
   "metadata": {},
   "outputs": [],
   "source": [
    "// Simple objects\n",
    "String countSql = \"SELECT COUNT(*) FROM employees\";\n",
    "int employeeCount = template.queryForObject(countSql, Integer.class);\n",
    "\n",
    "String typeSql = \"SELECT `Type 1` FROM pokemon WHERE name=\\\"Bulbasaur\\\"\";\n",
    "String name = template.queryForObject(typeSql, String.class);"
   ]
  },
  {
   "cell_type": "markdown",
   "metadata": {},
   "source": [
    "For complex objects, we make use of `RowMapper` interface"
   ]
  },
  {
   "cell_type": "code",
   "execution_count": null,
   "metadata": {},
   "outputs": [],
   "source": [
    "String pokemonSql = \"SELECT * FROM pokemon WHERE name=\\\"Bulbasaur\\\"\";\n",
    "Pokemon bulbasaur = template.queryForObject(pokemonSql, new RowMapper<Pokemon>() {\n",
    "\n",
    "    public Pokemon mapRow(ResultSet rs, int rowNum) throws SQLException {\n",
    "        Pokemon pokemon = new Pokemon();\n",
    "        pokemon.name = rs.getString(\"name\");\n",
    "        pokemon.type1 = rs.getString(\"Type 1\");\n",
    "        pokemon.type2 = rs.getString(\"Type 2\");\n",
    "        pokemon.hp = rs.getInt(\"hp\");\n",
    "        pokemon.attack = rs.getInt(\"attack\");\n",
    "        pokemon.defense = rs.getInt(\"defense\");\n",
    "\n",
    "        return pokemon;\n",
    "    }\n",
    "\n",
    "});"
   ]
  },
  {
   "cell_type": "markdown",
   "metadata": {},
   "source": [
    "**Parameterised query with 1 result:** use an overloaded version of queryForObject"
   ]
  },
  {
   "cell_type": "code",
   "execution_count": null,
   "metadata": {},
   "outputs": [],
   "source": [
    "// Single parameter (last argument)\n",
    "int countOfActorsNamedJoe = this.jdbcTemplate.queryForObject(\n",
    "        \"SELECT COUNT(*) FROM actors WHERE first_name = ?\", Integer.class, \"Joe\");\n",
    "\n",
    "// Another way to pass single parameter\n",
    "// This method is more suited for passing multiple parameters\n",
    "String pokemonSql = \"SELECT * FROM pokemon WHERE name= ?\";\n",
    "Pokemon raticate = template.queryForObject(pokemonSql, new Object[] { \"Raticate\" }, new RowMapper<Pokemon>() {\n",
    "\n",
    "    public Pokemon mapRow(ResultSet rs, int rowNum) throws SQLException {\n",
    "        Pokemon pokemon = new Pokemon();\n",
    "        pokemon.name = rs.getString(\"name\");\n",
    "        pokemon.type1 = rs.getString(\"Type 1\");\n",
    "        pokemon.type2 = rs.getString(\"Type 2\");\n",
    "        pokemon.hp = rs.getInt(\"hp\");\n",
    "        pokemon.attack = rs.getInt(\"attack\");\n",
    "        pokemon.defense = rs.getInt(\"defense\");\n",
    "\n",
    "        return pokemon;\n",
    "    }\n",
    "\n",
    "});"
   ]
  },
  {
   "cell_type": "markdown",
   "metadata": {},
   "source": [
    "**Multiple Results:** "
   ]
  },
  {
   "cell_type": "code",
   "execution_count": null,
   "metadata": {},
   "outputs": [],
   "source": [
    "String pokemonSql = \"SELECT * FROM pokemon WHERE hp > ?\";\n",
    "List<Pokemon> pokemons = template.query(pokemonSql, new Object[] { 100 }, new RowMapper<Pokemon>() {\n",
    "\n",
    "    public Pokemon mapRow(ResultSet rs, int rowNum) throws SQLException {\n",
    "        Pokemon pokemon = new Pokemon();\n",
    "        pokemon.name = rs.getString(\"name\");\n",
    "        pokemon.type1 = rs.getString(\"Type 1\");\n",
    "        pokemon.type2 = rs.getString(\"Type 2\");\n",
    "        pokemon.hp = rs.getInt(\"hp\");\n",
    "        pokemon.attack = rs.getInt(\"attack\");\n",
    "        pokemon.defense = rs.getInt(\"defense\");\n",
    "\n",
    "        return pokemon;\n",
    "    }\n",
    "\n",
    "});\n",
    "\n",
    "/ "
   ]
  },
  {
   "cell_type": "markdown",
   "metadata": {},
   "source": [
    "If the result contains high number of rows it can lead to memory error. The below technique can be used to iterate over resultset."
   ]
  },
  {
   "cell_type": "code",
   "execution_count": null,
   "metadata": {},
   "outputs": [],
   "source": [
    "template.query(pokemonSql, new Object[] { 100 }, new RowCallbackHandler() {\n",
    "\n",
    "    public void processRow(ResultSet rs) throws SQLException {\n",
    "        System.out.println(\"Pokemon name is \" + rs.getString(\"name\"));\n",
    "    }\n",
    "});"
   ]
  },
  {
   "cell_type": "markdown",
   "metadata": {},
   "source": [
    "### Updating\n",
    "Use the `update` method to execute insert, delete or update queries. The update method returns the number of rows affected."
   ]
  },
  {
   "cell_type": "code",
   "execution_count": null,
   "metadata": {},
   "outputs": [],
   "source": [
    "String delSql = \"DELETE FROM actors WHERE id = ?\"\n",
    "int deleteCount = template.update(delSql, 45);\n",
    "\n",
    "String insSql = \"INSERT INTO actors (first_name, last_name) VALUES (?, ?)\"\n",
    "int insCount = template.update(insSql, \"Steve\", \"Jobs\");"
   ]
  },
  {
   "cell_type": "markdown",
   "metadata": {},
   "source": [
    "### Batch Update\n",
    "One way is to use `BatchPreparedStatementSetter`. The `batchUpdate` method returns an integer array."
   ]
  },
  {
   "cell_type": "code",
   "execution_count": null,
   "metadata": {},
   "outputs": [],
   "source": [
    "final List<Pokemon> pokemonList = pokemonRepo.findAll();\n",
    "String batchSql = \"INSERT INTO pokemon (name, hp) VALUES (?, ?)\";\n",
    "template.batchUpdate(batchSql, new BatchPreparedStatementSetter() {\n",
    "\n",
    "    public void setValues(PreparedStatement ps, int i) throws SQLException {\n",
    "        ps.setString(1, pokemonList.get(i).name);\n",
    "        ps.setInt(2, pokemonList.get(i).hp);\n",
    "    }\n",
    "\n",
    "    public int getBatchSize() {\n",
    "        return pokemonList.size();\n",
    "    }\n",
    "});"
   ]
  },
  {
   "cell_type": "markdown",
   "metadata": {},
   "source": [
    "Another way:"
   ]
  },
  {
   "cell_type": "code",
   "execution_count": null,
   "metadata": {},
   "outputs": [],
   "source": [
    "final List<Pokemon> pokemonList = pokemonRepo.findAll();\n",
    "\n",
    "List<Object[]> params = new ArrayList<Object[]>();\n",
    "for (Pokemon p : pokemonList) {\n",
    "    params.add(new Object[] { p.name, p.hp });\n",
    "}\n",
    "\n",
    "String batchSql = \"INSERT INTO pokemon (name, hp) VALUES (?, ?)\";\n",
    "template.batchUpdate(batchSql, params);"
   ]
  },
  {
   "cell_type": "markdown",
   "metadata": {},
   "source": [
    "### Exception Handling\n",
    "The query and update methods do not throw any checked exception. In order to catch exception:"
   ]
  },
  {
   "cell_type": "code",
   "execution_count": null,
   "metadata": {},
   "outputs": [],
   "source": [
    "try {\n",
    "    // Execute, query, update statements\n",
    "} catch (DataAccessException e) {\n",
    "    // Handle the exception\n",
    "}"
   ]
  },
  {
   "cell_type": "markdown",
   "metadata": {},
   "source": [
    "DataAccessException is thrown rather than SQLException"
   ]
  },
  {
   "cell_type": "code",
   "execution_count": null,
   "metadata": {},
   "outputs": [],
   "source": []
  }
 ],
 "metadata": {
  "kernelspec": {
   "display_name": "Java",
   "language": "java",
   "name": "java"
  },
  "language_info": {
   "codemirror_mode": "java",
   "file_extension": ".jshell",
   "mimetype": "text/x-java-source",
   "name": "Java",
   "pygments_lexer": "java",
   "version": "13+33"
  }
 },
 "nbformat": 4,
 "nbformat_minor": 4
}
