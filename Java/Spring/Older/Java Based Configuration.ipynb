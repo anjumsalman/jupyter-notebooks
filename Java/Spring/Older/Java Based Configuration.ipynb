{
 "cells": [
  {
   "cell_type": "markdown",
   "metadata": {},
   "source": [
    "Java based configuration is an alternative to XML based configuration. Using Java based configuration we can go completely XML free. It was introduced in Sring 3. The two primary annotations are `@Configuration` and `@Bean`. There are other annotations replicating behaviour of various bean attributes available in XML based configurations."
   ]
  },
  {
   "cell_type": "markdown",
   "metadata": {},
   "source": [
    "### @Bean\n",
    "A simple configuration and bean example\n",
    "\n",
    "```java\n",
    "@Configuration\n",
    "public class ApplicationConfiguration {\n",
    "\t\n",
    "    // Bean with id getMusicFinderService\n",
    "\t@Bean\n",
    "\tpublic MusicFinderService getMusicFinderService() {\n",
    "\t\treturn new MusicFinderService(\"Open\");\n",
    "\t}\n",
    "    \n",
    "    // Specifying name explicitly\n",
    "    @Bean(name=\"close\")\n",
    "\tpublic MusicFinderService getAnotherMusicFinderService() {\n",
    "\t\treturn new MusicFinderService(\"Close\");\n",
    "\t}\n",
    "}\n",
    "```\n",
    "\n",
    "@Bean annotated methods can also have arguments. In that case the arguments are automatically injected. Spring searches the container for @Beans/@Components/@Service, etc of type matching the argument. So if we have multiple such beans it can be a problem. If we have multiple such beans, use `@Qualifier`.\n",
    "```java\n",
    "@Bean\n",
    "public Player player(@Qualifier(\"open\") MusicFinderService service) {\n",
    "    Player player = new Player();\n",
    "    player.setMusicFinderService(service);\n",
    "    return player;\n",
    "}\n",
    "```"
   ]
  },
  {
   "cell_type": "markdown",
   "metadata": {},
   "source": [
    "### Spring Container for Java Based Configuration\n",
    "```java\n",
    "ApplicationContext context = new AnnotationConfigApplicationContext(ApplicationConfiguration.class);\n",
    "context.getBean(Player.class).printLyrics(\"Pokemon\");\n",
    "\n",
    "// Or use name\n",
    "context.getBean(\"beanName\", Player.class);\n",
    "```\n",
    "\n",
    "We can add multiple configuration classes to the AnnotationConfigApplicationContext container by using `register` method.\n",
    "```java\n",
    "ApplicationContext context = new AnnotationConfigApplicationContext();\n",
    "context.register(ApplicationConfiguration.class, OtherConfiguration.class);\n",
    "context.refresh();\n",
    "```\n",
    "\n",
    "We can also import another configuration in a configuration class. This is similar to `<import>` in XML based configuration. We can also import @Component classes with this.\n",
    "```java\n",
    "@Configuration\n",
    "@Import(OtherConfiguration.class)\n",
    "public class ApplicationConfiguration{}\n",
    "```\n",
    "\n",
    "To do configuration scanning, in XML based configuration we used `context: config-scan`, for Java based configuration\n",
    "```java\n",
    "@Configuration\n",
    "@ComponentScan(basePackages = {\"com.base.packages\"})\n",
    "public class ApplicationConfiguration {\n",
    "}\n",
    "```\n",
    "\n",
    "Or,\n",
    "```java\n",
    "ApplicationContext context = new AnnotationConfigApplicationContext();\n",
    "context.register(ApplicationConfiguration.class);\n",
    "context.scan(\"com.base.packages\");\n",
    "context.refresh();\n",
    "```"
   ]
  },
  {
   "cell_type": "markdown",
   "metadata": {},
   "source": [
    "### @Scope\n",
    "By default beans have singleton scpoe. We can have other scope using `@Scope`\n",
    "```java\n",
    "@Bean\n",
    "@Scope(\"prototype\")\n",
    "public MusicFinderService getMusicFinderService() {\n",
    "    return new MusicFinderService(\"Open\");\n",
    "}\n",
    "```"
   ]
  },
  {
   "cell_type": "code",
   "execution_count": null,
   "metadata": {},
   "outputs": [],
   "source": []
  }
 ],
 "metadata": {
  "kernelspec": {
   "display_name": "Java",
   "language": "java",
   "name": "java"
  },
  "language_info": {
   "codemirror_mode": "java",
   "file_extension": ".jshell",
   "mimetype": "text/x-java-source",
   "name": "Java",
   "pygments_lexer": "java",
   "version": "13+33"
  }
 },
 "nbformat": 4,
 "nbformat_minor": 4
}
