{
 "cells": [
  {
   "cell_type": "markdown",
   "metadata": {},
   "source": [
    "### ServletContext\n",
    "The ServletContext interface defines a servlet’s view of the Web application within which the servlet is running. There is one instance object of the ServletContext interface associated with each Web application deployed into a container."
   ]
  },
  {
   "cell_type": "markdown",
   "metadata": {},
   "source": [
    "### Servlet Context Init Parameters\n",
    "If we use web.xml, we can configure some initialization parameters as key value pairs\n",
    "\n",
    "```xml\n",
    "<web-app>\n",
    "    <context-param>  \n",
    "        <param-name>web-master</param-name>  \n",
    "        <param-value>webmaster@mysite.com</param-value>  \n",
    "    </context-param>  \n",
    "</web-app>    \n",
    "```\n",
    "\n",
    "We don't have a corresponding annotation style for this because it would mean hardcoding parameters inside Java file. To retrieve servlet context init params,"
   ]
  },
  {
   "cell_type": "code",
   "execution_count": null,
   "metadata": {},
   "outputs": [],
   "source": [
    "ServletContext context = request.getServletContext();\n",
    "context.getInitParameter(\"web-master\");"
   ]
  },
  {
   "cell_type": "markdown",
   "metadata": {},
   "source": [
    "### Servlet Context Attributes\n",
    "A servlet can bind an object attribute into the context by name. Any attribute bound into a context is available to any other servlet that is part of the same Web application. "
   ]
  },
  {
   "cell_type": "code",
   "execution_count": null,
   "metadata": {},
   "outputs": [],
   "source": [
    "context.setAttribute(\"attr\", \"value\");\n",
    "context.getAttribute(\"attr\");"
   ]
  },
  {
   "cell_type": "markdown",
   "metadata": {},
   "source": [
    "### Resources\n",
    "The ServletContext interface provides direct access only to the hierarchy of static content documents that are part of the Web application, including HTML, GIF, and JPEG files. One of the method merely returns the URL of the resource, whereas the other returns an InputStream."
   ]
  },
  {
   "cell_type": "code",
   "execution_count": null,
   "metadata": {},
   "outputs": [],
   "source": [
    "URL url = context.getResource(\"/resource.xml\");  // will be searched in context root\n",
    "                                                 // which in case of Dynamic Web App project\n",
    "                                                 // is the WebContent folder"
   ]
  },
  {
   "cell_type": "markdown",
   "metadata": {},
   "source": [
    "### Configuration\n",
    "Servlet 3.0 enables programmatic definition of servlets, filters and the url pattern that they map to. These methods can only be called during the initialization of the application either from the `contexInitialized` method of a `ServletContextListener` implementation or from the `onStartup` method of a `ServletContainerInitializer` implementation.  \n",
    "\n",
    "Both the above implementations enable framework designer to add the framework specific web components during startup. The disadvantage of using `ServletContextListener` approach is that it will not work if the application's web.xml file has been decidedly configured with `metadata-complete=\"true\"` to improve performance. Setting this flag causes the container not to scan JARs for annotations. `ServletContainerInitializer` approach is more standard way to go."
   ]
  },
  {
   "cell_type": "code",
   "execution_count": null,
   "metadata": {},
   "outputs": [],
   "source": [
    "@WebListener\n",
    "public class AppContextListener implements ServletContextListener {\n",
    "    @Override\n",
    "    public void contextInitialized(ServletContextEvent event) {\n",
    "        Locale locale = Locale.getDefault();\n",
    "        ServletRegistration.Dynamic registration = \n",
    "            event.getServletContext().addServlet(\n",
    "                \"appController\", locale.getISO3Country().equals(\"USA\") ? DefaultAppController.class : NonUSAppController.class);\n",
    "        registration.addMapping(\"/app/\");\n",
    "\n",
    "    }\n",
    "\n",
    "    @Override\n",
    "    public void contextDestroyed(ServletContextEvent sce) {\n",
    "\n",
    "    }\n",
    "}\n",
    "\n",
    "class DefaultAppController extends HttpServlet {\n",
    "    @Override\n",
    "    protected void doGet(HttpServletRequest req, HttpServletResponse resp) throws ServletException, IOException {\n",
    "        // ...\n",
    "    }\n",
    "}\n",
    "\n",
    "class NonUSAppController extends HttpServlet {\n",
    "    @Override\n",
    "    protected void doGet(HttpServletRequest req, HttpServletResponse resp) throws ServletException, IOException {\n",
    "        // ...\n",
    "    }\n",
    "}"
   ]
  },
  {
   "cell_type": "markdown",
   "metadata": {},
   "source": [
    "`Listeners` are explored in another section."
   ]
  }
 ],
 "metadata": {
  "kernelspec": {
   "display_name": "Java",
   "language": "java",
   "name": "java"
  },
  "language_info": {
   "codemirror_mode": "java",
   "file_extension": ".jshell",
   "mimetype": "text/x-java-source",
   "name": "Java",
   "pygments_lexer": "java",
   "version": "13+33"
  }
 },
 "nbformat": 4,
 "nbformat_minor": 4
}
