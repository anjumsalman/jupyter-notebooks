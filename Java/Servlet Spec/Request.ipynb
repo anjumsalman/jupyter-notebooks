{
 "cells": [
  {
   "cell_type": "markdown",
   "metadata": {},
   "source": [
    "### Request Structure\n",
    "\n",
    "![Structure](https://i.imgur.com/XbubqrG.png)"
   ]
  },
  {
   "cell_type": "markdown",
   "metadata": {},
   "source": [
    "### Request Path\n",
    "\n",
    "![Paths](https://i.imgur.com/MPyc04h.png)  \n",
    "\n",
    "- **Context Path:** The path prefix associated with the `ServletContext` that this servlet is a part of. If this context is the “default” context rooted at the base of the Web server’s URL name space, this path will be an empty string. Otherwise, if the context is not rooted at the root of the server’s name space, the path starts with a / character but does not end with a / character.\n",
    "- **Servlet Path:** The path section that directly corresponds to the mapping which activated this request. This path starts with a ’/’ character except in the case where the request is matched with the ‘/\\*’ or ““ pattern, in which case it is an empty string. \n",
    "- **PathInfo:** The part of the request path that is not part of the Context Path or the Servlet Path. It is either null if there is no extra path, or is a string with a leading ‘/’.  \n",
    "\n",
    "The following methods exist in the HttpServletRequest interface to access this information:\n",
    "- `getContextPath`\n",
    "- `getServletPath`\n",
    "- `getPathInfo`"
   ]
  },
  {
   "cell_type": "markdown",
   "metadata": {},
   "source": [
    "### Request Parameter\n",
    "In servlet spec request parameter can refer to both url parameters and post form body.  \n",
    "**Form Data:** form data can either be\n",
    "- multipart/form-data: use this if form contains binary data (like file uploads) or big forms.\n",
    "- application/x-www-form-urlencoded: small text form data. This is the one that can be obtained using the below code example. The body of the HTTP message sent to the server is essentially one giant query string -- name/value pairs are separated by the ampersand"
   ]
  },
  {
   "cell_type": "code",
   "execution_count": null,
   "metadata": {},
   "outputs": [],
   "source": [
    "// Request parameter\n",
    "writer.write(\"<br><b>Request Parameters</b><br>\");\n",
    "Enumeration<String> reqParamNames = request.getParameterNames();\n",
    "while(reqParamNames.hasMoreElements()) {\n",
    "    String param = reqParamNames.nextElement();\n",
    "    writer.write( param + \" : \" + request.getParameter(param) + \"<br>\");\n",
    "}"
   ]
  },
  {
   "cell_type": "markdown",
   "metadata": {},
   "source": [
    "If we have a url like http://localhost:8080/WebProject2.5/requestinfo?language=en&location=in, request parameter would be (language, en) and (location,in). We can differentiate a bit between these two by parsing query string."
   ]
  },
  {
   "cell_type": "markdown",
   "metadata": {},
   "source": [
    "There is no direct way to obtain path parameters, one would need to parse the request URI obtained using `getRequestURI` method or the `getPathInfo` method."
   ]
  },
  {
   "cell_type": "code",
   "execution_count": null,
   "metadata": {},
   "outputs": [],
   "source": [
    "writer.write(request.getQueryString() + \"<br>\");"
   ]
  },
  {
   "cell_type": "markdown",
   "metadata": {},
   "source": [
    "To read request body:"
   ]
  },
  {
   "cell_type": "code",
   "execution_count": null,
   "metadata": {},
   "outputs": [],
   "source": [
    "// Read request body\n",
    "BufferedReader reader = new BufferedReader(req.getReader());\n",
    "StringBuilder builder = new StringBuilder();\n",
    "\n",
    "String line = \"\";\n",
    "while ((line = reader.readLine()) != null) {\n",
    "    builder.append(line);\n",
    "}"
   ]
  },
  {
   "cell_type": "markdown",
   "metadata": {},
   "source": [
    "### Request Attribute\n",
    "Request attribute is essentially a name value pair used by a servlet to communicate with another servlet."
   ]
  },
  {
   "cell_type": "code",
   "execution_count": null,
   "metadata": {},
   "outputs": [],
   "source": [
    "request.getAttribute(attributeName);\n",
    "request.setAttribute(attributeName, attributeValue);"
   ]
  },
  {
   "cell_type": "markdown",
   "metadata": {},
   "source": [
    "### Headers\n",
    "To get request headers defined in the request,"
   ]
  },
  {
   "cell_type": "code",
   "execution_count": null,
   "metadata": {},
   "outputs": [],
   "source": [
    "StringBuilder respStr = new StringBuilder();\n",
    "Enumeration<String> reqHeaders = request.getHeaderNames();\n",
    "while (reqHeaders.hasMoreElements()) {\n",
    "    String header = reqHeaders.nextElement();\n",
    "    respStr.append(\"<b>\" + header + \"</b>\" + \":\" + request.getHeader(header) + \"<br>\");\n",
    "}"
   ]
  },
  {
   "cell_type": "markdown",
   "metadata": {},
   "source": [
    "### Cookies\n",
    "To get cookies associated with a request:"
   ]
  },
  {
   "cell_type": "code",
   "execution_count": null,
   "metadata": {},
   "outputs": [],
   "source": [
    "Cookie[] cookies = request.getCookies();\n",
    "for (Cookie cookie : cookies) {\n",
    "    respStr.append(\n",
    "            \"<tr><td>\" + cookie.getName() + \"</td><td>\" + cookie.getValue() + \"</td><td>\" + cookie.getPath()\n",
    "                    + \"</td><td>\" + cookie.getDomain() + \"</td><td>\" + cookie.getMaxAge() + \"</td></tr>\");\n",
    "}"
   ]
  },
  {
   "cell_type": "markdown",
   "metadata": {},
   "source": [
    "**Cookie Primer:** a server can request client to save a cookie by using the following header:  \n",
    "Cookie with expiration time (cookie without expires or max-age is a session cookie)\n",
    "```\n",
    "Set-Cookie: id=a3fWa; Expires=Thu, 31 Oct 2021 07:28:00 GMT;\n",
    "```\n",
    "Cookie with max age (in seconds)\n",
    "```\n",
    "Set-Cookie: id=re34df; Max-Age=300\n",
    "```\n",
    "Secure cookie can only be sent over HTTPS connection. Cookie with the HttpOnly attribute is inaccessible to the JavaScript `Document.cookie` API\n",
    "```\n",
    "Set-Cookie: id=a3fWa; Expires=Thu, 21 Oct 2021 07:28:00 GMT; Secure; HttpOnly\n",
    "```\n",
    "Domain attribute specifies which hosts can receive a cookie. If the server does not specify a Domain, the browser defaults the domain to the same host that set the cookie, excluding subdomains. Path attribute indicates a URL path that must exist in the requested URL in order to send the Cookie header."
   ]
  },
  {
   "cell_type": "markdown",
   "metadata": {},
   "source": [
    "### Locale\n",
    "Client may indicate what language they would prefer the response be given in using the `Accept-Language`  header along with other mechanisms described in the HTTP/1.1 specification. `ServletRequest` interface provides following to determine the preferred locale of the sender:\n",
    "- getLocale\n",
    "- getLocales"
   ]
  },
  {
   "cell_type": "markdown",
   "metadata": {},
   "source": [
    "### Request Dispatcher\n",
    "Request dispatcher helps to transfer request from one servlet to another. The request then either comes back (include), or the new servlet sends the response (forward).  \n",
    "\n",
    "![include](https://i.imgur.com/T9RrGmN.png)\n",
    "\n",
    "![forward](https://i.imgur.com/HAGxiSm.png)"
   ]
  },
  {
   "cell_type": "markdown",
   "metadata": {},
   "source": [
    "The key difference between the two is that the forward will CLOSE the output stream after it has been invoked, whereas the include leaves the output stream OPEN."
   ]
  },
  {
   "cell_type": "code",
   "execution_count": null,
   "metadata": {},
   "outputs": [],
   "source": [
    "RequestDispatcher rd = request.getRequestDispatcher(\"Processor.jsp\");\n",
    "rd.forward(request,response);\n",
    "out.println(\"back to servlet\"); // this won't be displayed"
   ]
  },
  {
   "cell_type": "markdown",
   "metadata": {},
   "source": [
    "### Request Object Lifecycle\n",
    "Each request object is valid only within the scope of a servlet’s `service` method, or within the scope of a filter’s `doFilter` method, unless the asynchronous processing is enabled for the component and the `startAsync` method is invoked on the request object. In the case where asynchronous processing occurs, the request object remains valid until `complete` is invoked on the `AsyncContext`. \n",
    "\n",
    "Containers commonly recycle request objects in order to avoid the performance overhead of request object creation. The developer must be aware that maintaining references to request objects for which `startAsync` has not been called outside the scope described above is not\n",
    "recommended as it may have indeterminate results."
   ]
  },
  {
   "cell_type": "code",
   "execution_count": null,
   "metadata": {},
   "outputs": [],
   "source": []
  }
 ],
 "metadata": {
  "kernelspec": {
   "display_name": "Java",
   "language": "java",
   "name": "java"
  },
  "language_info": {
   "codemirror_mode": "java",
   "file_extension": ".jshell",
   "mimetype": "text/x-java-source",
   "name": "Java",
   "pygments_lexer": "java",
   "version": "13+33"
  }
 },
 "nbformat": 4,
 "nbformat_minor": 4
}
