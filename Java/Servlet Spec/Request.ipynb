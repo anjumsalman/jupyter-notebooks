{
 "cells": [
  {
   "cell_type": "markdown",
   "metadata": {},
   "source": [
    "### Request Structure\n",
    "\n",
    "![Structure](https://i.imgur.com/XbubqrG.png)"
   ]
  },
  {
   "cell_type": "markdown",
   "metadata": {},
   "source": [
    "### Request Path\n",
    "\n",
    "![Paths](https://i.imgur.com/MPyc04h.png)"
   ]
  },
  {
   "cell_type": "markdown",
   "metadata": {},
   "source": [
    "### Request Parameter\n",
    "In servlet spec request parameter can refer to both url parameters and post form body.  \n",
    "**Form Data:** form data can either be\n",
    "- multipart/form-data: use this if form contains binary data (like file uploads) or big forms.\n",
    "- application/x-www-form-urlencoded: small text form data. This is the one that can be obtained using the below code example. The body of the HTTP message sent to the server is essentially one giant query string -- name/value pairs are separated by the ampersand"
   ]
  },
  {
   "cell_type": "code",
   "execution_count": null,
   "metadata": {},
   "outputs": [],
   "source": [
    "// Request parameter\n",
    "writer.write(\"<br><b>Request Parameters</b><br>\");\n",
    "Enumeration<String> reqParamNames = request.getParameterNames();\n",
    "while(reqParamNames.hasMoreElements()) {\n",
    "    String param = reqParamNames.nextElement();\n",
    "    writer.write( param + \" : \" + request.getParameter(param) + \"<br>\");\n",
    "}"
   ]
  },
  {
   "cell_type": "markdown",
   "metadata": {},
   "source": [
    "If we have a url like http://localhost:8080/WebProject2.5/requestinfo?language=en&location=in, request parameter would be (language, en) and (location,in). We can differentiate a bit between these two by parsing query string."
   ]
  },
  {
   "cell_type": "code",
   "execution_count": null,
   "metadata": {},
   "outputs": [],
   "source": [
    "writer.write(request.getQueryString() + \"<br>\");"
   ]
  },
  {
   "cell_type": "markdown",
   "metadata": {},
   "source": [
    "To read request body:"
   ]
  },
  {
   "cell_type": "code",
   "execution_count": null,
   "metadata": {},
   "outputs": [],
   "source": [
    "// Read request body\n",
    "BufferedReader reader = new BufferedReader(req.getReader());\n",
    "StringBuilder builder = new StringBuilder();\n",
    "\n",
    "String line = \"\";\n",
    "while ((line = reader.readLine()) != null) {\n",
    "    builder.append(line);\n",
    "}"
   ]
  },
  {
   "cell_type": "markdown",
   "metadata": {},
   "source": [
    "### Request Attribute\n",
    "Request attribute is essentially a name value pair used by a servlet to communicate with another servlet."
   ]
  },
  {
   "cell_type": "code",
   "execution_count": null,
   "metadata": {},
   "outputs": [],
   "source": [
    "request.getAttribute(attributeName);\n",
    "request.setAttribute(attributeName, attributeValue);"
   ]
  },
  {
   "cell_type": "markdown",
   "metadata": {},
   "source": [
    "### Headers\n",
    "To get request headers defined in the request,"
   ]
  },
  {
   "cell_type": "code",
   "execution_count": null,
   "metadata": {},
   "outputs": [],
   "source": [
    "StringBuilder respStr = new StringBuilder();\n",
    "Enumeration<String> reqHeaders = request.getHeaderNames();\n",
    "while (reqHeaders.hasMoreElements()) {\n",
    "    String header = reqHeaders.nextElement();\n",
    "    respStr.append(\"<b>\" + header + \"</b>\" + \":\" + request.getHeader(header) + \"<br>\");\n",
    "}"
   ]
  },
  {
   "cell_type": "markdown",
   "metadata": {},
   "source": [
    "### Cookies\n",
    "To get cookies associated with a request:"
   ]
  },
  {
   "cell_type": "code",
   "execution_count": null,
   "metadata": {},
   "outputs": [],
   "source": [
    "Cookie[] cookies = request.getCookies();\n",
    "for (Cookie cookie : cookies) {\n",
    "    respStr.append(\n",
    "            \"<tr><td>\" + cookie.getName() + \"</td><td>\" + cookie.getValue() + \"</td><td>\" + cookie.getPath()\n",
    "                    + \"</td><td>\" + cookie.getDomain() + \"</td><td>\" + cookie.getMaxAge() + \"</td></tr>\");\n",
    "}"
   ]
  },
  {
   "cell_type": "markdown",
   "metadata": {},
   "source": [
    "### Request Dispatcher\n",
    "Request dispatcher helps to transfer request from one servlet to another. The request then either comes back (include), or the new servlet sends the response (forward).  \n",
    "\n",
    "![include](https://i.imgur.com/T9RrGmN.png)\n",
    "\n",
    "![forward](https://i.imgur.com/HAGxiSm.png)"
   ]
  },
  {
   "cell_type": "code",
   "execution_count": null,
   "metadata": {},
   "outputs": [],
   "source": []
  }
 ],
 "metadata": {
  "kernelspec": {
   "display_name": "Java",
   "language": "java",
   "name": "java"
  },
  "language_info": {
   "codemirror_mode": "java",
   "file_extension": ".jshell",
   "mimetype": "text/x-java-source",
   "name": "Java",
   "pygments_lexer": "java",
   "version": "13+33"
  }
 },
 "nbformat": 4,
 "nbformat_minor": 4
}
