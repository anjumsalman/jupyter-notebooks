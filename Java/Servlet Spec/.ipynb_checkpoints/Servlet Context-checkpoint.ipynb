{
 "cells": [
  {
   "cell_type": "markdown",
   "metadata": {},
   "source": [
    "### ServletContext\n",
    "The ServletContext interface defines a servlet’s view of the Web application within which the servlet is running. There is one instance object of the ServletContext interface associated with each Web application deployed into a container."
   ]
  },
  {
   "cell_type": "markdown",
   "metadata": {},
   "source": [
    "### Servlet Context Init Parameters\n",
    "If we use web.xml, we can configure some initialization parameters as key value pairs\n",
    "\n",
    "```xml\n",
    "<web-app>\n",
    "    <context-param>  \n",
    "        <param-name>web-master</param-name>  \n",
    "        <param-value>webmaster@mysite.com</param-value>  \n",
    "    </context-param>  \n",
    "</web-app>    \n",
    "```\n",
    "\n",
    "We don't have a corresponding annotation style for this because it would mean hardcoding parameters inside Java file. To retrieve servlet context init params,"
   ]
  },
  {
   "cell_type": "code",
   "execution_count": null,
   "metadata": {},
   "outputs": [],
   "source": [
    "ServletContext context = request.getServletContext();\n",
    "context.getInitParameter(\"web-master\");"
   ]
  },
  {
   "cell_type": "markdown",
   "metadata": {},
   "source": [
    "### Servlet Context Attributes\n",
    "A servlet can bind an object attribute into the context by name. Any attribute bound into a context is available to any other servlet that is part of the same Web application. "
   ]
  },
  {
   "cell_type": "code",
   "execution_count": null,
   "metadata": {},
   "outputs": [],
   "source": [
    "context.setAttribute(\"attr\", \"value\");\n",
    "context.getAttribute(\"attr\");"
   ]
  },
  {
   "cell_type": "markdown",
   "metadata": {},
   "source": [
    "### Resources\n",
    "The ServletContext interface provides direct access only to the hierarchy of static content documents that are part of the Web application, including HTML, GIF, and JPEG files. One of the method merely returns the URL of the resource, whereas the other returns an InputStream."
   ]
  },
  {
   "cell_type": "code",
   "execution_count": null,
   "metadata": {},
   "outputs": [],
   "source": [
    "URL url = context.getResource(\"/resource.xml\");  // will be searched in context root\n",
    "                                                 // which in case of Dynamic Web App project\n",
    "                                                 // is the WebContent folder"
   ]
  }
 ],
 "metadata": {
  "kernelspec": {
   "display_name": "Java",
   "language": "java",
   "name": "java"
  },
  "language_info": {
   "codemirror_mode": "java",
   "file_extension": ".jshell",
   "mimetype": "text/x-java-source",
   "name": "Java",
   "pygments_lexer": "java",
   "version": "13+33"
  }
 },
 "nbformat": 4,
 "nbformat_minor": 4
}
