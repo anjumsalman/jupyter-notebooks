{
 "cells": [
  {
   "cell_type": "markdown",
   "metadata": {},
   "source": [
    "### Response Structure\n",
    "![response](https://i.imgur.com/KuVVh20.png)"
   ]
  },
  {
   "cell_type": "markdown",
   "metadata": {},
   "source": [
    "### Headers\n",
    "Response headers can be set by either `addHeader` or `setHeader`."
   ]
  },
  {
   "cell_type": "code",
   "execution_count": null,
   "metadata": {},
   "outputs": [],
   "source": [
    "// Below code adds two headers having same name, different values\n",
    "response.addHeader(\"x-served-by\", \"InformationServlet\");\n",
    "response.addHeader(\"x-served-by\", \"Java\");\n",
    "\n",
    "// Below code overwrites header\n",
    "response.setHeader(\"x-version\", \"1.2.5\");"
   ]
  },
  {
   "cell_type": "markdown",
   "metadata": {},
   "source": [
    "### Body\n",
    "To set response body, we get reference to the `Writer` object"
   ]
  },
  {
   "cell_type": "code",
   "execution_count": null,
   "metadata": {},
   "outputs": [],
   "source": [
    "// Sending JSON response\n",
    "String json = new Gson().toJson(someObject); // converting an object to JSON using GSON library\n",
    "response.setContentType(\"application/json\");\n",
    "response.setCharacterEncoding(\"UTF-8\");\n",
    "\n",
    "response.getWriter().write(json);"
   ]
  },
  {
   "cell_type": "markdown",
   "metadata": {},
   "source": [
    "### Redirection\n",
    "Redirection is triggered by a server sending a special redirect response to a request. Redirect responses have status codes that start with 3, and a Location header holding the URL to redirect to.  \n",
    "![redirection](https://i.imgur.com/4RFFOpK.png)"
   ]
  },
  {
   "cell_type": "code",
   "execution_count": null,
   "metadata": {},
   "outputs": [],
   "source": [
    "response.sendRedirect(\"/new_location\");"
   ]
  },
  {
   "cell_type": "markdown",
   "metadata": {},
   "source": [
    "### Commiting Response\n",
    "The web container buffers all data that you write to the client. Data will be sent to the client when :\n",
    "- the buffer's capacity is exceeded, or\n",
    "- you call flushBuffer, or\n",
    "- the amount of bytes specified with setContentLength has been written, or\n",
    "- the OutputStream or PrintWriter has been closed, or\n",
    "- the service method (doGet, doPost etc) has finished.\n",
    "\n",
    "We can use `getBufferSize` to get the buffer size.  \n",
    "\n",
    "So request dispatching like forward should be called before the response has been committed."
   ]
  },
  {
   "cell_type": "code",
   "execution_count": null,
   "metadata": {},
   "outputs": [],
   "source": []
  }
 ],
 "metadata": {
  "kernelspec": {
   "display_name": "Java",
   "language": "java",
   "name": "java"
  },
  "language_info": {
   "codemirror_mode": "java",
   "file_extension": ".jshell",
   "mimetype": "text/x-java-source",
   "name": "Java",
   "pygments_lexer": "java",
   "version": "13+33"
  }
 },
 "nbformat": 4,
 "nbformat_minor": 4
}
