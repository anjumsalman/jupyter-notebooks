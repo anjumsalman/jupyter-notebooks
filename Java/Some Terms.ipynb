{
 "cells": [
  {
   "cell_type": "markdown",
   "metadata": {},
   "source": [
    "### Dynamic Dispatch\n",
    "'Dispatch' in dynamic dipatch means which method to call. 'Dynamic' means that it is determined during runtime. Without inheritance/polymorphism, we wouldn't need dynamic dispatch. It is also referred to as `late binding` (though late binding is a related concept as per Wikipedia). For example,"
   ]
  },
  {
   "cell_type": "code",
   "execution_count": 1,
   "metadata": {},
   "outputs": [],
   "source": [
    "public void getCount(List l){\n",
    "    int count = l.size();\n",
    "    // implementation\n",
    "}"
   ]
  },
  {
   "cell_type": "markdown",
   "metadata": {},
   "source": [
    "In the above code, the implementation of size method is determined  during runtime depending upon what concrete implementation of List is passed as argument."
   ]
  },
  {
   "cell_type": "code",
   "execution_count": null,
   "metadata": {},
   "outputs": [],
   "source": []
  }
 ],
 "metadata": {
  "kernelspec": {
   "display_name": "Java",
   "language": "java",
   "name": "java"
  },
  "language_info": {
   "codemirror_mode": "java",
   "file_extension": ".jshell",
   "mimetype": "text/x-java-source",
   "name": "Java",
   "pygments_lexer": "java",
   "version": "13+33"
  }
 },
 "nbformat": 4,
 "nbformat_minor": 4
}
