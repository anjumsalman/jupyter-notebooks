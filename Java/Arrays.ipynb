{
 "cells": [
  {
   "cell_type": "markdown",
   "metadata": {},
   "source": [
    "### Declaration\n",
    "To create an array:\n",
    "```java\n",
    "String[] strArr = new String[5];          // must specify size\n",
    "String[] strArr2 = {\"A\", \"few\", \"words\"}; // or use initializer list\n",
    "String[] strArr3 = new String[]{\"A\",\"B\"}; // or this way\n",
    "```\n",
    "\n",
    "And this is how we cast:\n",
    "```java\n",
    "Object[] objects = new String[5];\n",
    "String[] strings = (String[]) objects;\n",
    "\n",
    "Object[] others = new Object[5];\n",
    "String[] otherStrings = (String[]) others; // ClassCastException\n",
    "```"
   ]
  },
  {
   "cell_type": "markdown",
   "metadata": {},
   "source": [
    "### The *Arrays* Utility Class\n",
    "`java.util.Arrays` class contains several methods that perform various operations on Arrays\n",
    "- **string representation**\n",
    "```java\n",
    "int[] someNumbers = {1,2,3,4,5};\n",
    "System.out.println(someNumbers);    // [I@4aa298b7\n",
    "System.out.println(Arrays.toString(someNumbers)); // [1, 2, 3, 4, 5]\n",
    "```\n",
    "- **sorting**\n",
    "```java\n",
    "int[] randomNumbers = {8,2,9,7,11};\n",
    "Arrays.sort(randomNumbers);         // modifies the array\n",
    "System.out.println(Arrays.toString(randomNumbers)); \n",
    "```\n",
    "- **binary search**\n",
    "- **array to list conversion**: we can convert an array to a list\n",
    "```java\n",
    "Integer[] array = {2,3,5,7,11};              // int[] won't work\n",
    "\n",
    "List<Integer> list = Arrays.asList(array);   // this list is of fixed size (not ArrayList)\n",
    "                                             // changing array changes list\n",
    "                                             // and vice versa\n",
    "array[0] = 1;\n",
    "System.out.println(list);                    // prints [1,3,5,7,11]\n",
    "\n",
    "list.set(1, 2);\n",
    "System.out.println(Arrays.toString(array));  // prints [2,3,5,7,11]\n",
    "```"
   ]
  },
  {
   "cell_type": "markdown",
   "metadata": {},
   "source": [
    "### Multidimensinal Array\n",
    "To define a multidimensinal array,\n",
    "```java\n",
    "int[][] squareMatrix = new int[4][4];\n",
    "int[][] matrix = new int[3][];        // must specify atleast the first dimension's size\n",
    "int[] tensor[] = new int[4][];        // other way\n",
    "\n",
    "int[][] staggered = {{1},{2,3}{4,5,6}};\n",
    "```\n",
    "\n",
    "In Java, the JVM does not guarantee that array elements will occupy contiguous memory location."
   ]
  },
  {
   "cell_type": "code",
   "execution_count": null,
   "metadata": {},
   "outputs": [],
   "source": []
  }
 ],
 "metadata": {
  "kernelspec": {
   "display_name": "Java",
   "language": "java",
   "name": "java"
  },
  "language_info": {
   "codemirror_mode": "java",
   "file_extension": ".java",
   "mimetype": "text/x-java-source",
   "name": "Java",
   "pygments_lexer": "java",
   "version": "9+181"
  }
 },
 "nbformat": 4,
 "nbformat_minor": 2
}
