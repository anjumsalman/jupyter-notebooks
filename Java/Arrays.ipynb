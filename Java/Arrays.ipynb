{
 "cells": [
  {
   "cell_type": "markdown",
   "metadata": {},
   "source": [
    "## Overview\n",
    "To create an array:"
   ]
  },
  {
   "cell_type": "code",
   "execution_count": null,
   "metadata": {},
   "outputs": [],
   "source": [
    "String[] strArr = new String[5];          // must specify size\n",
    "String[] strArr2 = {\"A\", \"few\", \"words\"}; // or use initializer list\n",
    "String[] strArr3 = new String[]{\"A\",\"B\"}; // or this way\n",
    "Observable[] observables1 = new Observable[]{new Observable(), new Observable()}; // or this\n",
    "Observable[] observables2 = {new Observable(), new Observable()};\n",
    "\n",
    "// Cleaner syntax to create array using streams\n",
    "Observable[] observables3 = Stream.generate(() -> new Observable())\n",
    "                                .limit(10)\n",
    "                                .toArray(Observable[]::new);"
   ]
  },
  {
   "cell_type": "markdown",
   "metadata": {},
   "source": [
    "And this is how we cast:"
   ]
  },
  {
   "cell_type": "code",
   "execution_count": null,
   "metadata": {},
   "outputs": [],
   "source": [
    "// Arrays are covariant, String[] is subtype of Object[]\n",
    "Object[] objects = new String[5];\n",
    "String[] strings = (String[]) objects;\n",
    "\n",
    "Object[] others = new Object[5];\n",
    "String[] otherStrings = (String[]) others; // ClassCastException"
   ]
  },
  {
   "cell_type": "markdown",
   "metadata": {},
   "source": [
    "Arrays in Java are objects. However, inside the JVM, arrays are notably different from all other objects. The first major difference is that arrays are created by the JVM — not by an implicit or explicit call to `new()` by the developer. All the methods available in `Object` — which arrays inherit—for example, `toString()`, are available to arrays. The elements of the last dimension of a newly created array are initialized to the default value for the data type (zero for the numeric types, `null` for objects).\n",
    "\n",
    "It is allowed to defined an array of length 0.\n",
    "\n",
    "Arrays have a field `length` which returns the length of the array (remember that array inherits from `Object`, but `Object` doesn't have a `length` property). When the compiler detects a reference to the length of an array, it emits a special bytecode, `ARRAYLENGTH`, which obtains the length of the array and returns it. This looks and behaves like a method call, but all method calls in the JVM require one of a small set of bytecodes, and they are implemented via the creation of a new frame with stack allocation and several other operations. None of that happens with this special bytecode."
   ]
  },
  {
   "cell_type": "markdown",
   "metadata": {},
   "source": [
    "## `Arrays` Utility Class\n",
    "`java.util.Arrays` class contains several methods that perform various operations on arrays.  \n",
    "**string representation**"
   ]
  },
  {
   "cell_type": "code",
   "execution_count": 1,
   "metadata": {
    "tags": []
   },
   "outputs": [
    {
     "name": "stdout",
     "output_type": "stream",
     "text": [
      "[I@574715f1\n",
      "[1, 2, 3, 4, 5]\n"
     ]
    }
   ],
   "source": [
    "int[] someNumbers = {1,2,3,4,5};\n",
    "System.out.println(someNumbers);\n",
    "System.out.println(Arrays.toString(someNumbers));"
   ]
  },
  {
   "cell_type": "markdown",
   "metadata": {},
   "source": [
    "**sorting**"
   ]
  },
  {
   "cell_type": "code",
   "execution_count": 2,
   "metadata": {
    "tags": []
   },
   "outputs": [
    {
     "name": "stdout",
     "output_type": "stream",
     "text": [
      "[2, 7, 8, 9, 11]\n"
     ]
    }
   ],
   "source": [
    "int[] randomNumbers = {8,2,9,7,11};\n",
    "Arrays.sort(randomNumbers);         // modifies the array\n",
    "System.out.println(Arrays.toString(randomNumbers)); "
   ]
  },
  {
   "cell_type": "markdown",
   "metadata": {},
   "source": [
    "**binary search**"
   ]
  },
  {
   "cell_type": "code",
   "execution_count": 3,
   "metadata": {
    "tags": []
   },
   "outputs": [
    {
     "name": "stdout",
     "output_type": "stream",
     "text": [
      "3\n",
      "-6\n"
     ]
    }
   ],
   "source": [
    "int[] sortedNumbers = {1,2,3,4,5};\n",
    "System.out.println(Arrays.binarySearch(someNumbers, 4));\n",
    "System.out.println(Arrays.binarySearch(someNumbers, 22));  // (-(insertion point) - 1)"
   ]
  },
  {
   "cell_type": "markdown",
   "metadata": {},
   "source": [
    "**array to list conversion**: we can convert an array to a list"
   ]
  },
  {
   "cell_type": "code",
   "execution_count": 4,
   "metadata": {
    "tags": []
   },
   "outputs": [
    {
     "name": "stdout",
     "output_type": "stream",
     "text": [
      "[1, 3, 5, 7, 11]\n",
      "[1, 2, 5, 7, 11]\n"
     ]
    }
   ],
   "source": [
    "Integer[] array = {2,3,5,7,11};              // int[] won't work\n",
    "\n",
    "List<Integer> list = Arrays.asList(array);   // this list is of fixed size (not ArrayList)\n",
    "                                             // changing array changes list\n",
    "                                             // and vice versa\n",
    "array[0] = 1;\n",
    "System.out.println(list); \n",
    "\n",
    "list.set(1, 2);\n",
    "System.out.println(Arrays.toString(array));"
   ]
  },
  {
   "cell_type": "markdown",
   "metadata": {},
   "source": [
    "**copying array**"
   ]
  },
  {
   "cell_type": "code",
   "execution_count": 12,
   "metadata": {
    "tags": []
   },
   "outputs": [
    {
     "name": "stdout",
     "output_type": "stream",
     "text": [
      "[1, 5, 2, 7, 0, 0, 0, 0, 0, 0]\n",
      "[H, L]\n"
     ]
    }
   ],
   "source": [
    "int[] intSource = {1,5,2,7};\n",
    "int[] intDestination = Arrays.copyOf(intSource, 10);  // source, length of new array\n",
    "intSource[0] = 0;\n",
    "System.out.println(Arrays.toString(intDestination));\n",
    "\n",
    "String[] strSource = {\"A\",\"H\",\"L\",\"Z\"};\n",
    "String[] strDestination = Arrays.copyOfRange(strSource, 1,3);  // source, from, to (exclusive)\n",
    "System.out.println(Arrays.toString(strDestination));"
   ]
  },
  {
   "cell_type": "markdown",
   "metadata": {},
   "source": [
    "## Multidimensional Array\n",
    "To define a multidimensional array,"
   ]
  },
  {
   "cell_type": "code",
   "execution_count": null,
   "metadata": {},
   "outputs": [],
   "source": [
    "int[][] squareMatrix = new int[4][4];\n",
    "int[][] matrix = new int[3][];        // must specify atleast the first dimension's size\n",
    "int[] tensor[] = new int[4][];        // other way\n",
    "\n",
    "int[][] staggered = {{1},{2,3}{4,5,6}};"
   ]
  },
  {
   "cell_type": "markdown",
   "metadata": {},
   "source": [
    "Consider the code `new int[2][3][4];`. The first two dimensions  contain only pointers to other arrays. The previous code snippet is an array of two pointers to arrays of three pointers to arrays of four ints.\n",
    "\n",
    "This design has important performance implications. The first is that to access an individual element in this example array, the JVM must dereference three pointers to get to the integer. One way to reduce this overhead is to consider unfolding the arrays into a single-dimension array. Thus creating a one dimensional array of 24 elements should be preferred."
   ]
  },
  {
   "cell_type": "markdown",
   "metadata": {},
   "source": [
    "## `ArrayStoreException`\n",
    "Consider the scenario below:"
   ]
  },
  {
   "cell_type": "code",
   "execution_count": null,
   "metadata": {},
   "outputs": [],
   "source": [
    "public static void main(String args[]){\n",
    "    Integer[] i = {1,2,3};\n",
    "    addFirst(i);    // ArrayStoreException (runtime)\n",
    "}\n",
    "\n",
    "public static void addFirst(Object[] obj){\n",
    "    obj[0] = new String(\"First element\");\n",
    "}"
   ]
  }
 ],
 "metadata": {
  "kernelspec": {
   "display_name": "Java",
   "language": "java",
   "name": "java"
  },
  "language_info": {
   "codemirror_mode": "java",
   "file_extension": ".jshell",
   "mimetype": "text/x-java-source",
   "name": "Java",
   "pygments_lexer": "java",
   "version": "21.0.2+13-58"
  }
 },
 "nbformat": 4,
 "nbformat_minor": 4
}
