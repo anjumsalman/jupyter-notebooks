{
 "cells": [
  {
   "cell_type": "markdown",
   "id": "585207e0-a7c1-4653-83f7-82856a61bafc",
   "metadata": {},
   "source": [
    "## Executor\n",
    "It executes a command (`Runnable`) in the future - can be using a new `Thread`, a pooled thread or calling thread. It provides a standard means of decoupling *task submission* from *task execution*. The interface is defined as:"
   ]
  },
  {
   "cell_type": "code",
   "execution_count": null,
   "id": "fe7a5c40-6c23-4b0b-90de-50cf700b6a3e",
   "metadata": {},
   "outputs": [],
   "source": [
    "public interface Executor {\n",
    "    void execute(Runnable command);\n",
    "}"
   ]
  },
  {
   "cell_type": "markdown",
   "id": "794510d8-86a7-4f46-a6c7-b871072a02e5",
   "metadata": {},
   "source": [
    "A very simplistic implementaion of an executor can be:"
   ]
  },
  {
   "cell_type": "code",
   "execution_count": null,
   "id": "1daa9be4-e3ee-489e-a3ca-6e19aee26814",
   "metadata": {},
   "outputs": [],
   "source": [
    "class SimpleExecutor implements Executor {\n",
    "\n",
    "    @Override\n",
    "    public void execute(Runnable command) {\n",
    "        command.run();\n",
    "    }\n",
    "}"
   ]
  },
  {
   "cell_type": "markdown",
   "id": "8c81d258-660e-4d91-9173-96879591145f",
   "metadata": {},
   "source": [
    "Another executor which runs tasks in new thread can be:"
   ]
  },
  {
   "cell_type": "code",
   "execution_count": null,
   "id": "faa3adb8-e33e-478d-8116-796fdf4ae492",
   "metadata": {},
   "outputs": [],
   "source": [
    "class ThreadPerTaskExecutor implements Executor {\n",
    "\n",
    "    @Override\n",
    "    public void execute(Runnable command) {\n",
    "        new Thread(command).run();\n",
    "    }\n",
    "}"
   ]
  },
  {
   "cell_type": "markdown",
   "id": "29243212-a17c-4088-8a6b-ed2ca9b8c78b",
   "metadata": {},
   "source": [
    "Decoupling submission from execution lets us easily specify, and subsequently change without great difficulty, the *execution policy* for tasks. It defines things sucha as:\n",
    "- what thread will be used to execute tasks\n",
    "- what order should tasks be executed (LIFO, FIFO, priority based)\n",
    "- how many tasks will be executing concurrently\n",
    "- how many tasks will wait for execution\n",
    "- if a task has to be rejected, which one should it be?\n",
    "- action taken before and after executing a task"
   ]
  },
  {
   "cell_type": "markdown",
   "id": "77008c46-a97e-4fad-a6f4-41bef7480ef1",
   "metadata": {},
   "source": [
    "## ExecutorService\n",
    "Builds upon `Executor` and provides many additional functionality to manage termination and methods that can produce a `Future` for tracking progress of one or more asynchronous tasks. For lifecycle management, the following methods are available:"
   ]
  },
  {
   "cell_type": "code",
   "execution_count": null,
   "id": "a1fdbc93-e6b0-4895-a10a-964657266878",
   "metadata": {},
   "outputs": [],
   "source": [
    "public interface ExecutorService implements Executor {\n",
    "    void shutdown();\n",
    "    List<Runnable> shutdownNow();\n",
    "    boolean isShutdown();\n",
    "    boolean isTerminated();\n",
    "    boolean awaitTermination(long timeout, TimeUnit unit) throws InterruptedException;\n",
    "    // other methods\n",
    "}"
   ]
  },
  {
   "cell_type": "markdown",
   "id": "41f4804c-4bd2-4bb8-8c4f-2b8d0f1fe67c",
   "metadata": {},
   "source": [
    "`shutdown` method is meant for graceful shutdown: no new tasks are accepted but previously submitted tasks are allowed to complete—including those that\n",
    "have not yet begun execution.  \n",
    "`shutdownNow` method initiates abrupt shutdown: it *attempts* to cancel running tasks, and does not start queued tasks.  \n",
    "\n",
    "Tasks submitted to an `ExecutorService` after it has been shutdown are handled by the *rejected execution handler*. `ExecutorService` thereby offers a way to cancel tasks: tasks that have been submitted but not yet started can always be cancelled, and tasks that have started can sometimes be cancelled if they are responsive to interruption."
   ]
  },
  {
   "cell_type": "markdown",
   "id": "2cb8745f-dd2c-4496-b9e1-6c820cbce0a6",
   "metadata": {},
   "source": [
    "In order to understand task cancellation better, we need to understand a few topics. Java doesn't provide a mechanism for safely forcing a thread to stop what it is doing. Why? Because abruptly stopping a thread is inherently unsafe. Stopping a thread makes it release all its monitors, so any object protected by this monitor may be in an inconsistent state and other objects waiting for lock would now access this object in an inconsistent state. Consider the following example:"
   ]
  },
  {
   "cell_type": "code",
   "execution_count": null,
   "id": "d7008bbf-1825-42bb-a71c-15fb80a923bf",
   "metadata": {},
   "outputs": [],
   "source": [
    "class Shared {\n",
    "    private int a, b;\n",
    "    public Shared(int a, int b){\n",
    "        this.a = a; this.b = b;\n",
    "    }\n",
    "    public synchronized void swap(){\n",
    "        int temp = a;\n",
    "        a = b; // What if the Thread A having lock on Shared, \n",
    "               // is stopped here? We end up in an inconsistent state\n",
    "        b = temp;\n",
    "    }\n",
    "}"
   ]
  },
  {
   "cell_type": "markdown",
   "id": "7c5da57e-7bbb-4715-99ef-535d67d003c0",
   "metadata": {},
   "source": [
    "Which is why, we need a cooperative approach - a thread can request another thread to terminate. How (or if) the thread terminates depends upon the thread. So, how do we stop a thread?\n",
    "\n",
    "We can introduce a cancellation flag:"
   ]
  },
  {
   "cell_type": "code",
   "execution_count": null,
   "id": "934894c2-3490-4900-bee4-fe074304b266",
   "metadata": {},
   "outputs": [],
   "source": [
    "class PrimeNumbers implements Runnable {\n",
    "    private final List<Integer> nums = new ArrayList<>();\n",
    "    private volatile boolean cancelled; // Must be volatile, so that changes are\n",
    "                                        // visible to other threads\n",
    "    public void run(){\n",
    "        while(!cancelled){\n",
    "            int p = getNextPrime();\n",
    "            synchronized(this) { // Need synchronization since ArrayList \n",
    "                nums.add(p);     // is not thread safe\n",
    "            }\n",
    "        }\n",
    "    }\n",
    "    \n",
    "    public void cancel(){ cancelled = true; }\n",
    "    \n",
    "    public synchronized List<Integer> get() {\n",
    "        return new ArrayList<Integer>(nums); \n",
    "    }\n",
    "}"
   ]
  },
  {
   "cell_type": "markdown",
   "id": "523f291c-db8d-4938-bac7-a5819748c7a0",
   "metadata": {},
   "source": [
    "In other scnerios, Interrupts can be more helpful than cancellation flags. For example, if we use `BlockingQueue` (thread safe, blocks till queue is non-empty while fetching; and for space to be available before storing):"
   ]
  },
  {
   "cell_type": "code",
   "execution_count": null,
   "id": "75741298-74cc-4d48-a665-3029c869258b",
   "metadata": {},
   "outputs": [],
   "source": [
    "class PrimeNumbers implements Runnable {\n",
    "    private final BlockingQueue<Integer> nums; // Initialize in constructor\n",
    "    private volatile boolean cancelled;\n",
    "    \n",
    "    public void run(){\n",
    "        try {\n",
    "            while(!cancelled){\n",
    "                nums.put(getNextPrime());  // -- A\n",
    "            }\n",
    "        } catch (InterruptedException e) {}\n",
    "    }\n",
    "    \n",
    "    public void cancel(){ cancelled = true; }\n",
    "    // ...\n",
    "}\n",
    "\n",
    "// A consumer method\n",
    "void consumePrimes() throws InterruptedException {\n",
    "    BlockingQueue<Integer> q = new ArrayBlockingQueue<>();\n",
    "    PrimeNumbers primes = new PrimeNumbers(q);\n",
    "    Thread pN = new Thread(primes);\n",
    "    pN.start();\n",
    "    \n",
    "    try{\n",
    "        while(needMorePrimes()) {\n",
    "            consume(q.take()); // take method blocks\n",
    "        }\n",
    "    } finally {\n",
    "        primes.cancel();\n",
    "    }\n",
    "}"
   ]
  },
  {
   "cell_type": "markdown",
   "id": "5cf3e8c7-c80c-4acf-aff5-e77d710cfb05",
   "metadata": {},
   "source": [
    "There is a problem with the above implementation. If consumer is not able to consume faster than the producer is able to produce, the producer thread will get stuck at A. Even if the cancel method is called, it will not cancel execution.  \n",
    "\n",
    "In this case, interrupts are the way to go. Many methods in Java respond to interruption, for example:\n",
    "- `Object.wait`\n",
    "- `Thread.sleep`, `Thread.join`\n",
    "- Many methods in `java.util.concurrent`\n",
    "\n",
    "Interrupting a thread which doesn't respond to interruptions has no visible effect:"
   ]
  },
  {
   "cell_type": "code",
   "execution_count": null,
   "id": "cca3b92f-4948-4070-8ff0-7045fdb8779b",
   "metadata": {},
   "outputs": [],
   "source": [
    "public class InfiniteThread extends Thread {\n",
    "    public void run() {\n",
    "        while(true)\n",
    "            System.out.println(\"Running...\");\n",
    "    }\n",
    "}\n",
    "\n",
    "// calling infiniteThrad.interrupt() will have no\n",
    "// effect since run block has no interruption points"
   ]
  },
  {
   "cell_type": "markdown",
   "id": "70447444-87b5-4259-a878-9592a046ae69",
   "metadata": {},
   "source": [
    "The `Thread` class has the following interruption related methods:\n",
    "- `interrupt()`: sets thread's interrupt flag to true\n",
    "- `interrupted()`: returns value of interrupt flag and then resets it to false\n",
    "- `isInterrupted()`: returns value of interrupt flag\n",
    "\n",
    "Now, if we re-write the PrimeNumbers class:"
   ]
  },
  {
   "cell_type": "code",
   "execution_count": null,
   "id": "30387374-d73c-4d88-b568-c8da5a0dcca4",
   "metadata": {},
   "outputs": [],
   "source": [
    "class PrimeNumbers implements Runnable {\n",
    "    private final BlockingQueue<Integer> nums; // Initialized in constructor\n",
    "    \n",
    "    public void run(){\n",
    "        try {\n",
    "            while(!Thread.currentThread().isInterrupted()) { // Checking for interrupt flag here\n",
    "                nums.put(getNextPrime());                    // makes code a bit more efficient\n",
    "            }\n",
    "        } catch (InterruptedException e) { // Ignore so that Thread exits }\n",
    "    }\n",
    "    \n",
    "    public void cancel(){ Thread.currentThread().interrupt(); }\n",
    "    // ...\n",
    "}"
   ]
  },
  {
   "cell_type": "markdown",
   "id": "cc0450b1-3b5d-4d10-8624-e0d25f1fe843",
   "metadata": {},
   "source": [
    "As we'll see ahead, in many cases we have control over tasks, but not threads (as in `ThreadPoolExecutor`). In such cases, we should try to retain interruption status - one way is to propagate exception up the stack (interrupt again).  \n",
    "\n",
    "**Non-interruptible Blocking:** not all blocking methods are responsive to interruption. For example:\n",
    "- Synchronous socket I/O: server apps reading and writing to sockets. The read and write methods are not interruptible, but closing the underlying socket unblocks the blocking read and write, by throwing `SocketException`\n",
    "- Synchronous I/O in `java.nio`\n",
    "- Lock acquisition: if a thread is waiting to acquire an intrinsic lock, we can't do anything other than waiting. Use the `Lock` class' `lockInterruptibly` method."
   ]
  },
  {
   "cell_type": "code",
   "execution_count": null,
   "id": "0442cffc-e376-4a7d-8c90-6c2414fceee2",
   "metadata": {},
   "outputs": [],
   "source": [
    "class SocketReader extends Thread {\n",
    "    private Socket socket;\n",
    "    private InputStream input;\n",
    "    \n",
    "    public SocketReader (Socket socket) {\n",
    "       this.socket = socket;\n",
    "       input = socket.getInputStream();\n",
    "    }\n",
    "    \n",
    "    public void run() {\n",
    "        try{\n",
    "            byte[] buffer = new byte[BUF_SIZE];\n",
    "            while(true){\n",
    "                int c = input.read(buffer);\n",
    "                if(c < 0){\n",
    "                    break;\n",
    "                } else if (c > 0){\n",
    "                    processBuffer(buffer, c);\n",
    "                }\n",
    "            }\n",
    "        } catch (IOException e) { \n",
    "            //... \n",
    "        }\n",
    "    }\n",
    "    \n",
    "    public void interrupt(){\n",
    "        try {\n",
    "            socket.close();  // This would bring the thread out from being blocked by read\n",
    "        } catch (IOException e) { \n",
    "            //... \n",
    "        } finally {\n",
    "            super.interrupt();\n",
    "        }\n",
    "    }\n",
    "}"
   ]
  },
  {
   "cell_type": "markdown",
   "id": "841858e7-dd26-4f5c-90de-f793ac7cbd07",
   "metadata": {},
   "source": [
    "### Callable and Future\n",
    "Callable and Future provide better mechanics to control lifecycle of a task.. `Callable` is a task that returns a result and may throw an exception. It is defined as:"
   ]
  },
  {
   "cell_type": "code",
   "execution_count": 1,
   "id": "d59536ee-e849-4b46-b321-ad9590cbbb0e",
   "metadata": {
    "tags": []
   },
   "outputs": [],
   "source": [
    "@FunctionalInterface\n",
    "public interface Callable<V> {\n",
    "    \n",
    "    V call() throws Exception;\n",
    "}"
   ]
  },
  {
   "cell_type": "markdown",
   "id": "e6b4fd16-0785-436e-b930-2e42ccc9a82f",
   "metadata": {},
   "source": [
    "To create a callable which returns nothing, use `Callable<Void>` variant.  \n",
    "\n",
    "`Future` on the other hand, represents the result of an asynchronous computation. It provides methods to test whether the task has completed or been cancelled, retrieve its result, and cancel the task. It is defined as:"
   ]
  },
  {
   "cell_type": "code",
   "execution_count": null,
   "id": "093dca63-920b-4802-b468-38a2ba458d71",
   "metadata": {},
   "outputs": [],
   "source": [
    "public interface Future<V> {\n",
    "    boolean cancel(boolean mayInterruptIfRunning);\n",
    "    boolean isCancelled();\n",
    "    boolean isDone();\n",
    "    V get() throws InterruptedException, ExecutionException;\n",
    "    V get(long timeout, TimeUnit unit) throws InterruptedException, ExecutionException, TimeoutException;\n",
    "}"
   ]
  },
  {
   "cell_type": "markdown",
   "id": "67727ccb-cace-4611-b495-e80713d826ac",
   "metadata": {},
   "source": [
    "If an exception occurs while processing the task, it is wrapped in `ExecutionException`, the underlying exception can be retreived using `getCause` method. If we cancel a future, we get `CancellationException`, if we are waiting for it to complete:"
   ]
  },
  {
   "cell_type": "code",
   "execution_count": null,
   "id": "78feb812-8286-4e46-8022-3010396ea541",
   "metadata": {},
   "outputs": [],
   "source": [
    "ExecutorService executor = Executors.newFixedThreadPool(5);\n",
    "Future<String> f = executor.submit(() -> {\n",
    "   throw new RuntimeException(\"Hola!\");\n",
    "});\n",
    "\n",
    "executor.shutdown();\n",
    "try {\n",
    "    f.get();\n",
    "} catch (ExecutionException e) {\n",
    "    System.out.println(e.getCause()); // Hola!\n",
    "}"
   ]
  },
  {
   "cell_type": "markdown",
   "id": "6690a479-661f-4652-acb0-76354a0117f7",
   "metadata": {},
   "source": [
    "The `cancel` method fails if the task has already completed, has already been cancelled, or could not be cancelled for some other reason. If successful, and this task has not started when cancel is called, this task should never run. If the task has already started, then the `mayInterruptIfRunning` parameter determines whether the thread executing this task should be interrupted in an attempt to stop the task. \n",
    "\n",
    "`ExecutorService` provides multiple ways to create a `Future` to describe a task:"
   ]
  },
  {
   "cell_type": "code",
   "execution_count": null,
   "id": "c0a13656-8b4f-4ab0-bcf2-1738d681e387",
   "metadata": {},
   "outputs": [],
   "source": [
    "public interface ExecutorService implements Executor {\n",
    "    <T> Future<T> submit(Callable<T> task);\n",
    "    <T> Future<T> submit(Runnable task, T result);\n",
    "    Future<?> submit(Runnable task);\n",
    "    <T> List<Future<T>> invokeAll(Collection<? extends Callable<T>> tasks) throws InterruptedException;\n",
    "    <T> List<Future<T>> invokeAll(Collection<? extends Callable<T>> tasks, long timeout, TimeUnit unit) throws InterruptedException;\n",
    "    <T> T invokeAny(Collection<? extends Callable<T>> tasks) throws InterruptedException, ExecutionException;\n",
    "    <T> T invokeAny(Collection<? extends Callable<T>> tasks, long timeout, TimeUnit unit) \n",
    "        throws InterruptedException, ExecutionException, TimeoutException;\n",
    "    // other methods\n",
    "}"
   ]
  },
  {
   "cell_type": "markdown",
   "id": "9bd132b8-9f23-4b5d-a67d-987b2bdf1d40",
   "metadata": {},
   "source": [
    "The `get` method is a blocking call, so how do we act on a future (from a list of multiple futures) as soon as it is available? A crude way would be to get result with timeout 0 and continuously keep polling. This is a crude implementation:"
   ]
  },
  {
   "cell_type": "code",
   "execution_count": null,
   "id": "88764d6d-8a1d-482c-bd31-70deb830b1b2",
   "metadata": {},
   "outputs": [],
   "source": [
    "ExecutorService executorService = Executors.newFixedThreadPool(5);\n",
    "List<Future<Long>> futureList = new ArrayList<>(5);\n",
    "for (int i = 0; i < 5; i++) {\n",
    "    futureList.add(executorService.submit(getRandomSleepCallable()));\n",
    "}\n",
    "executorService.shutdown();\n",
    "\n",
    "while (true) {\n",
    "    Iterator<Future<Long>> iterator = futureList.iterator();\n",
    "    while (iterator.hasNext()) {\n",
    "        Future<Long> future = iterator.next();\n",
    "        if (future.isDone()) {\n",
    "            iterator.remove();\n",
    "        }\n",
    "\n",
    "        try {\n",
    "            System.out.println(\"Completed thread that slept for: \" + future.get(0, TimeUnit.SECONDS));\n",
    "        } catch (TimeoutException e) {\n",
    "            // Do nothing\n",
    "        }\n",
    "\n",
    "    }\n",
    "\n",
    "    if (futureList.isEmpty()) {\n",
    "        break;\n",
    "    }\n",
    "}"
   ]
  },
  {
   "cell_type": "markdown",
   "id": "40f6f5fc-2416-4ecf-996a-920a2b574f96",
   "metadata": {},
   "source": [
    "The better way is to use `CompletionService` defined as:"
   ]
  },
  {
   "cell_type": "code",
   "execution_count": null,
   "id": "24edaa77-427f-4686-bec4-6b44a1613496",
   "metadata": {},
   "outputs": [],
   "source": [
    "public interface CompletionService<V> {\n",
    "    Future<V> submit(Callable<V> task);\n",
    "    Future<V> submit(Runnable task, V result); // result is what is returned upon successful completion\n",
    "    Future<V> take() throws InterruptedException; // Retrieves and removes the Future representing the next\n",
    "                                                  // completed task, waiting if none are yet present.\n",
    "    Future<V> poll(); // Retrieves and removes the Future representing the next completed task, or null if none are present.\n",
    "    Future<V> poll(long timeout, TimeUnit unit) throws InterruptedException; // Waits in this case\n",
    "}"
   ]
  },
  {
   "cell_type": "code",
   "execution_count": null,
   "id": "f2d4d8b5-1d50-465d-8451-ff7d95ea45f9",
   "metadata": {},
   "outputs": [],
   "source": [
    "ExecutorService executorService = Executors.newFixedThreadPool(5);\n",
    "CompletionService<Long> completionService = new ExecutorCompletionService<>(executorService);\n",
    "for (int i = 0; i < 5; i++) {\n",
    "    completionService.submit(getRandomSleepCallable());\n",
    "}\n",
    "for (int i = 0; i < 5; i++) {\n",
    "    System.out.println(\"Completed thread that slept for: \" + completionService.take().get());\n",
    "}"
   ]
  },
  {
   "cell_type": "markdown",
   "id": "7c0a0bde-1c18-4d6b-9b4a-0fe70cda5c12",
   "metadata": {},
   "source": [
    "## Thread Pools\n",
    "Independent and homogenous tasks are most suited for being distribted to multiple threads in a thread pool. However, the following tasks need special consideration:\n",
    "- Dependent tasks: those that depend upon other tasks in the thread pool - we need to implicitly create constraints on the execution policy\n",
    "- Tasks that use `ThreadLocal`: executors are free to use whichever thread from the pool to execute tasks\n",
    "- Long running tasks.\n",
    "\n",
    "We can see below how dependent tasks can lead to deadlock. As an example consider two tasks A and B, where B is submitted by  A and A waits for B to get completed. In a single thread executor this will always deadlock."
   ]
  },
  {
   "cell_type": "code",
   "execution_count": null,
   "id": "9a928111-b01b-4738-80dd-54029e548d93",
   "metadata": {},
   "outputs": [],
   "source": [
    "ExecutorService executor = Executors.newSingleThreadExecutor();\n",
    "\n",
    "public class RenderPageTask implements Callable<String> {\n",
    "    public String call() throws Exception {\n",
    "        Future<String> header, footer;\n",
    "        \n",
    "        header = executor.submit(new LoadFileTask(\"header.html\"));\n",
    "        footer = executor.submit(new LoadFileTask(\"footer.html\"));\n",
    "        \n",
    "        String body = renderBody();\n",
    "        \n",
    "        return header.get() + body + footer.get();\n",
    "    }\n",
    "}"
   ]
  }
 ],
 "metadata": {
  "kernelspec": {
   "display_name": "Java",
   "language": "java",
   "name": "java"
  },
  "language_info": {
   "codemirror_mode": "java",
   "file_extension": ".jshell",
   "mimetype": "text/x-java-source",
   "name": "Java",
   "pygments_lexer": "java",
   "version": "17.0.5+9-LTS-191"
  }
 },
 "nbformat": 4,
 "nbformat_minor": 5
}
