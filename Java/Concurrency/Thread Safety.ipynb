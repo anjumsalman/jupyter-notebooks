{
 "cells": [
  {
   "cell_type": "markdown",
   "id": "bf2445d6-8790-4abe-8740-e698f98bed10",
   "metadata": {},
   "source": [
    "## Java Memory Model\n",
    "The JMM specifies the minimal guarantees the JVM must make about when writes to variables become visible to other threads. Modern shared-memory multiprocessors (and compilers) can do some surprising things when data is shared across threads.\\\n",
    "\n",
    "### Reordering\n",
    "To make matters worse, the JMM can permit actions to appear to execute in different orders from the perspective of different threads, making reasoning about ordering in the absence of synchronization even more complicated. Consider the scenario below ($r1$, $r2$ are local variables, whereas $A$ and $B$ are shared):\n",
    "\n",
    "<img src=\"images/reordering_1.png\" >"
   ]
  },
  {
   "cell_type": "markdown",
   "id": "1f9ffa29-96da-45ae-911b-6e7b93e1a30b",
   "metadata": {},
   "source": [
    "It may appear that the result $r2 == 2, r1 == 1$ is impossible. Intuitively, either instruction 1 or instruction 3 should come first in an execution. If instruction 1 comes first, it should not be able to see the write at instruction 4. If instruction 3 comes first, it should not be able to see the write at instruction 2. However, compilers are allowed to reorder the instructions in either thread, when this does not affect the execution of that thread in isolation. Another example:\n",
    "\n",
    "<img src=\"images/reordering_2.png\" >"
   ]
  },
  {
   "cell_type": "markdown",
   "id": "78de0a18-3910-4e2e-8053-7696a0f49d20",
   "metadata": {},
   "source": [
    "### Happens Before\n",
    "JMM defines a partial ordering2 called happens-before on all actions within the program. To guarantee that the thread executing action B can see the\n",
    "results of action A (whether or not A and B occur in different threads), there must be a *happens-before relationship* between A and B. Rules of happens-before:\n",
    "- **Program order rule:** Each action in a thread happens-before every action in that thread that comes later in the program order.\n",
    "- **Monitor lock rule:** An unlock on a monitor lock happens-before every subsequent lock on that same monitor lock.\n",
    "- **Volatile variable rule:** A write to a volatile field happens-before every subsequent read of that same field.\n",
    "- **Thread start rule:** A call to `Thread.start` on a thread happens-before every action in the started thread.\n",
    "- **Thread termination rule:** Any action in a thread happens-before any other thread detects that thread has terminated, either by successfully\n",
    "return from `Thread.join` or by `Thread.isAlive` returning `false`.\n",
    "- **Interruption rule:** A thread calling `interrupt` on another thread happens-before the interrupted thread detects the interrupt (either by having `InterruptedException` thrown, or invoking `isInterrupted` or `interrupted`).\n",
    "- **Finalizer rule:** The end of a constructor for an object happens-before the start of the finalizer for that object.\n",
    "- **Transitivity:** If A happens-before B, and B happens-before C, then A happens-before C.\n",
    "\n",
    "<img src=\"images/happens_before.png\" >"
   ]
  },
  {
   "cell_type": "markdown",
   "id": "01942af3-664d-4d7e-ae4a-1a5a4373a767",
   "metadata": {},
   "source": [
    "## Thread Safety\n",
    "Whenever more than one thread accesses a given state variable, and one of them might write to it, they all must coordinate their access to it using synchronization. Without proper synchronization, the program is broken and to fix it:\n",
    "- Don’t share the state variable across threads;\n",
    "- Make the state variable immutable; or\n",
    "- Use synchronization whenever accessing the state variable.\n",
    "\n",
    ">A class is thread-safe if it behaves correctly when accessed from multiple threads, regardless of the scheduling or interleaving of the execution of those threads by the runtime environment, and with no additional synchronization or other coordination on the part of the calling code.\n",
    "\n",
    "Below is an example of thread safe class utilizing servlet:"
   ]
  },
  {
   "cell_type": "code",
   "execution_count": null,
   "id": "93e83204-d283-44a8-92f6-926fe9dabee7",
   "metadata": {},
   "outputs": [],
   "source": [
    "// Stateless objects are always thread-safe.\n",
    "public class StatelessFactorizer implements Servlet {\n",
    "    public void service(ServletRequest req, ServletResponse resp) {\n",
    "        BigInteger i = extractFromRequest(req);\n",
    "        BigInteger[] factors = factor(i);\n",
    "        encodeIntoResponse(resp, factors);\n",
    "    }\n",
    "}"
   ]
  },
  {
   "cell_type": "markdown",
   "id": "4febae0c-5597-4b89-b540-d994afbe80ce",
   "metadata": {},
   "source": [
    "### Race Condition\n",
    "Let's tweak the above example, to iinclude a hit counter:"
   ]
  },
  {
   "cell_type": "code",
   "execution_count": null,
   "id": "c276f8af-5d7c-4ae8-9796-ab77567f0f7c",
   "metadata": {},
   "outputs": [],
   "source": [
    "public class UnsafeCountingFactorizer implements Servlet {\n",
    "    private long count = 0;\n",
    "    public long getCount() { return count; }\n",
    "    \n",
    "    public void service(ServletRequest req, ServletResponse resp) {\n",
    "        BigInteger i = extractFromRequest(req);\n",
    "        BigInteger[] factors = factor(i);\n",
    "        ++count;\n",
    "        encodeIntoResponse(resp, factors);\n",
    "    }\n",
    "}"
   ]
  },
  {
   "cell_type": "markdown",
   "id": "9b4551c1-3d77-4210-87c4-9c59f9de7078",
   "metadata": {},
   "source": [
    "The `++count` operation is not atomic, it is made up of three smaller instructions - read value of count, add 1 to it and finally write updated value to the variable. This is a *read-modify-write* operation. In te previous example, if the counter is initially 9, with some unlucky timing each thread could read the value, see that it is 9, add one to it, and each set the counter to 10 - something that we don't want.\n",
    "\n",
    "Above failure is an example of *race condition*. A race condition occurs when the correctness of a computation depends on the relative timing or interleaving of multiple threads by the runtime. In addition oto *read-modify-write* race condition, we can have *check-then-act* race condition. Below example of lazy initialization explains it:"
   ]
  },
  {
   "cell_type": "code",
   "execution_count": null,
   "id": "53aeeb08-884e-4105-8104-ce7c140164d7",
   "metadata": {},
   "outputs": [],
   "source": [
    "public class LazyInitRace {\n",
    "    private ExpensiveObject instance = null;\n",
    "    \n",
    "    public ExpensiveObject getInstance() {\n",
    "        if (instance == null)\n",
    "            instance = new ExpensiveObject();\n",
    "        return instance;\n",
    "    }\n",
    "}"
   ]
  },
  {
   "cell_type": "markdown",
   "id": "7a832c27-a906-472c-92e5-76c1f4a55d63",
   "metadata": {},
   "source": [
    "The above example has race condition because two threads can view instance variable to be null at the same time, thereby two different instance objects get created, which isn't what we would want. To solve the problem, we need to perform the increment operation as an atomic operation."
   ]
  },
  {
   "cell_type": "code",
   "execution_count": null,
   "id": "d8c7e050-0d11-47c2-a027-337dfadfc7ee",
   "metadata": {},
   "outputs": [],
   "source": [
    "public class CountingFactorizer implements Servlet {\n",
    "    private final AtomicLong count = new AtomicLong(0);\n",
    "    public long getCount() { return count.get(); }\n",
    "    \n",
    "    public void service(ServletRequest req, ServletResponse resp) {\n",
    "        BigInteger i = extractFromRequest(req);\n",
    "        BigInteger[] factors = factor(i);\n",
    "        count.incrementAndGet();\n",
    "        encodeIntoResponse(resp, factors);\n",
    "    }\n",
    "}"
   ]
  },
  {
   "cell_type": "markdown",
   "id": "1d95b0ef-f2f1-4964-a37d-ad8b831eacc7",
   "metadata": {},
   "source": [
    "### Locking\n",
    "Just wrapping every shared state as thread-safe variable doesn't work. For example, consider the below example where we want to add caching to the factorization service:"
   ]
  },
  {
   "cell_type": "code",
   "execution_count": null,
   "id": "e9376e77-e3db-4160-8cc1-f32f6cad4c73",
   "metadata": {},
   "outputs": [],
   "source": [
    "public class UnsafeCachingFactorizer implements Servlet {\n",
    "    private final AtomicReference<BigInteger> lastNumber = new AtomicReference<BigInteger>();\n",
    "    private final AtomicReference<BigInteger[]> lastFactors = new AtomicReference<BigInteger[]>();\n",
    "    \n",
    "    public void service(ServletRequest req, ServletResponse resp) {\n",
    "        BigInteger i = extractFromRequest(req);\n",
    "        if (i.equals(lastNumber.get()))\n",
    "            encodeIntoResponse(resp, lastFactors.get());\n",
    "        else {\n",
    "            BigInteger[] factors = factor(i);\n",
    "            lastNumber.set(i);\n",
    "            lastFactors.set(factors);\n",
    "            encodeIntoResponse(resp, factors);\n",
    "        }\n",
    "    }\n",
    "}"
   ]
  },
  {
   "cell_type": "markdown",
   "id": "fab03c22-a7bf-4f24-a586-416c1fd5ad37",
   "metadata": {},
   "source": [
    "Even though the atomic references are individually thread-safe, `UnsafeCachingFactorizer` has race conditions that could make it produce the wrong answer. When updating one, you must update the others in the same atomic operation. To solve the above problem, we can use synchronization block.\n",
    "\n",
    "A synchronized block has two parts: a reference to an object that will serve as the lock, and a block of code to be guarded by that lock. A synchronized method is a shorthand for a synchronized block that spans an entire method body, and whose lock is the object on which the method is being invoked. (Static synchronized methods use the Class object for the lock.) Every Java object can implicitly act as a lock for purposes of synchronization;\n",
    "these built-in locks are called intrinsic locks or monitor locks. When thread A attempts to acquire a lock held by thread B, A must wait, or block, until B releases it. If B never releases the lock, A waits forever.\n",
    "\n",
    "Locks are **reentrant**, if a thread tries to acquire a lock that it already holds, the request succeeds. If threads were not reenterent, this would cause deadlock - imagine a thread calling another synchronized method of the same object from a synchronized method."
   ]
  },
  {
   "cell_type": "code",
   "execution_count": null,
   "id": "17a96cde-a595-4ba9-8bfa-50cfeb840561",
   "metadata": {},
   "outputs": [],
   "source": [
    "// Thread-safe however it has big performance problem\n",
    "public class SynchronizedFactorizer implements Servlet {\n",
    "    private BigInteger lastNumber;\n",
    "    private BigInteger[] lastFactors;\n",
    "    \n",
    "    public synchronized void service(ServletRequest req, ServletResponse resp) {\n",
    "        BigInteger i = extractFromRequest(req);\n",
    "        if (i.equals(lastNumber))\n",
    "            encodeIntoResponse(resp, lastFactors);\n",
    "        else {\n",
    "            BigInteger[] factors = factor(i);\n",
    "            lastNumber = i;\n",
    "            lastFactors = factors;\n",
    "            encodeIntoResponse(resp, factors);\n",
    "        }\n",
    "    }\n",
    "}"
   ]
  },
  {
   "cell_type": "markdown",
   "id": "ca0943c4-8a3e-42ef-8358-491193b77b05",
   "metadata": {},
   "source": [
    "Just wrapping the compound action with a synchronized block is not sufficient; if synchronization is used to coordinate access to a variable, it is needed everywhere that variable is accessed. This would mean any getters for the shared state must also be synchronized.\n",
    "\n",
    ">For each mutable state variable that may be accessed by more than one thread, all accesses to that variable must be performed with the same lock held. In this case, we say that the variable is guarded by that lock.\n",
    "\n",
    "Not all data needs to be guarded by locks—only mutable data that will be accessed from multiple threads. While synchronized methods can make indi\n",
    "vidual operations atomic, additional locking is required when multiple operations are combined into a compound action. For example, consider the code block below, `Vector` has thread-safe methods, however the below code is not thread safe:"
   ]
  },
  {
   "cell_type": "code",
   "execution_count": null,
   "id": "b1bf2006-cfd7-4845-9b3e-ad9dfbbee618",
   "metadata": {},
   "outputs": [],
   "source": [
    "// A check-then-act race condition\n",
    "if (!vector.contains(element))\n",
    "    vector.add(element);"
   ]
  },
  {
   "cell_type": "markdown",
   "id": "af95d2b6-13cb-4322-a7e3-0bbb68254f16",
   "metadata": {},
   "source": [
    "The solution to poor performance, is to synchronize just the critical section:"
   ]
  },
  {
   "cell_type": "code",
   "execution_count": null,
   "id": "8647b8bf-6e72-4aaa-88de-85c5b8dd6f4a",
   "metadata": {},
   "outputs": [],
   "source": [
    "public class CachedFactorizer implements Servlet {\n",
    "    private BigInteger lastNumber;\n",
    "    private BigInteger[] lastFactors;\n",
    "    private long hits;\n",
    "    private long cacheHits;\n",
    "    \n",
    "    public synchronized long getHits() { return hits; }\n",
    "    public synchronized double getCacheHitRatio() {\n",
    "        return (double) cacheHits / (double) hits;\n",
    "    }\n",
    "    \n",
    "    public void service(ServletRequest req, ServletResponse resp) {\n",
    "        BigInteger i = extractFromRequest(req);\n",
    "        BigInteger[] factors = null;\n",
    "        synchronized (this) {\n",
    "            ++hits;\n",
    "            if (i.equals(lastNumber)) {\n",
    "                ++cacheHits;\n",
    "            factors = lastFactors.clone();\n",
    "            }\n",
    "        }\n",
    "        \n",
    "        if (factors == null) {\n",
    "            factors = factor(i);\n",
    "            synchronized (this) {\n",
    "                lastNumber = i;\n",
    "                lastFactors = factors.clone();\n",
    "            }\n",
    "        }\n",
    "        encodeIntoResponse(resp, factors);\n",
    "    }\n",
    "}"
   ]
  },
  {
   "cell_type": "markdown",
   "id": "8b6b1886-ceeb-4259-a721-568c2fa2a09e",
   "metadata": {},
   "source": [
    "Acquiring and releasing a lock has some overhead, so it is undesirable to break down synchronized blocks too far. Avoid holding locks during lengthy computations or operations at risk of not completing quickly such as network or console I/O. \n",
    "\n",
    "If an object has two independent state variables, it better to use to different lock objects such that two different threads can access two states concurrently."
   ]
  },
  {
   "cell_type": "code",
   "execution_count": null,
   "id": "6ae4eafd-5bff-4309-a88c-f04e6fe5c881",
   "metadata": {},
   "outputs": [],
   "source": [
    "class SharedObject {\n",
    "    private long c1 = 0;\n",
    "    private long c2 = 0;\n",
    "    private Object o1 = new Object();\n",
    "    private Object o2 = new Object();\n",
    "\n",
    "    public void incrementC1() {\n",
    "        synchronized(o1){\n",
    "            this.c1++;\n",
    "        }\n",
    "    }\n",
    "\n",
    "    public void incrementC2() {\n",
    "        synchronized(o2){\n",
    "            this.c2++;\n",
    "        }\n",
    "    }\n",
    "}"
   ]
  },
  {
   "cell_type": "markdown",
   "id": "1017c8cb-9324-453c-a8c3-8482212bd12c",
   "metadata": {},
   "source": [
    "### Visibility\n",
    "As discussed earlier, writes by a thread may not be visible to other threads. In the example below, `NoVisibility` could loop forever because the value of ready might never become visible to the reader thread. Even more strangely, `NoVisibility` could print zero because the write to ready might be made visible to the reader thread before the write to number, due to reordering:"
   ]
  },
  {
   "cell_type": "code",
   "execution_count": null,
   "id": "2b7599ed-1e44-4509-8b49-1205ad882362",
   "metadata": {},
   "outputs": [],
   "source": [
    "public class NoVisibility {\n",
    "    private static boolean ready;\n",
    "    private static int number;\n",
    "    \n",
    "    private static class ReaderThread extends Thread {\n",
    "        public void run() {\n",
    "            while (!ready)\n",
    "                // Yield means the current thread is willing to relinquish its current use of processor\n",
    "                // but it'd like to be scheduled back soon as possible.\n",
    "                Thread.yield();\n",
    "            System.out.println(number);\n",
    "        }\n",
    "    }\n",
    "    \n",
    "    public static void main(String[] args) {\n",
    "        new ReaderThread().start();\n",
    "        // The compiler can reorder the below two operations\n",
    "        number = 42;\n",
    "        ready = true;\n",
    "    }\n",
    "}"
   ]
  },
  {
   "cell_type": "markdown",
   "id": "636625e0-f1f0-4fad-80f8-1b569cffdfc8",
   "metadata": {},
   "source": [
    "Usually lack of synchronization causes threads to receive stale data - however in one case the value can be totally random. Non volatile `long` and `double`  values (64 bit) are read as two 32 bit values.\n",
    "\n",
    "**volatile:** ensure that updates to a variable are propagated predictably to other threads. Accessing a `volatile` variable performs no locking and so cannot cause the executing thread to block, making volatile variables a lighter-weight synchronization mechanism than `synchronized`.\n",
    "\n",
    "When thread A writes to a volatile variable and subsequently thread B reads that same variable, the values of all variables that were visible to A prior to writing to the volatile variable become visible to B after reading the volatile variable.\n",
    "\n",
    "Locking can guarantee both visibility and atomicity; volatile variables can only guarantee visibility. The semantics of volatile are not strong enough to make the increment operation volatile (`count++`) atomic, unless you can guarantee that the variable is written only from a single thread. We use volatile when the following conditions are met:\n",
    "- Writes to the variable do not depend on its current value, or you can ensure that only a single thread ever updates the value;\n",
    "- The variable does not participate in invariants with other state variables;\n",
    "- Locking is not required for any other reason while the variable is being accessed.\n",
    "\n",
    "The effect of the volatile keyword is approximately that each individual read or write operation on that variable is made atomically visible to all threads. Notably, however, an operation that requires more than one read/write, such as `i++`, which is equivalent to `i = i + 1`, which does one read and one write, is not atomic, since another thread may write to `i` between the read and the write."
   ]
  },
  {
   "cell_type": "code",
   "execution_count": null,
   "id": "6ba0aad9-9d55-4ecb-8e08-2ac1a578863a",
   "metadata": {},
   "outputs": [],
   "source": []
  }
 ],
 "metadata": {
  "kernelspec": {
   "display_name": "Java",
   "language": "java",
   "name": "java"
  },
  "language_info": {
   "codemirror_mode": "java",
   "file_extension": ".jshell",
   "mimetype": "text/x-java-source",
   "name": "Java",
   "pygments_lexer": "java",
   "version": "21.0.2+13-58"
  }
 },
 "nbformat": 4,
 "nbformat_minor": 5
}
