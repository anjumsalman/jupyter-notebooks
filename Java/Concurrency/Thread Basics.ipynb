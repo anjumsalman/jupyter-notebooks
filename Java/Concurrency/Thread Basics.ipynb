{
 "cells": [
  {
   "cell_type": "markdown",
   "metadata": {},
   "source": [
    "### Threads\n",
    "There are two primary ways to create a thread. 1) Extend the `Thread` class and override the run method."
   ]
  },
  {
   "cell_type": "code",
   "execution_count": null,
   "metadata": {},
   "outputs": [],
   "source": [
    "public class Worker extends Thread{\n",
    "    @Override\n",
    "    public void run(){\n",
    "        System.out.println(\"Worker thread running\");\n",
    "    }\n",
    "}\n",
    "\n",
    "Worker worker = new Worker();"
   ]
  },
  {
   "cell_type": "markdown",
   "metadata": {},
   "source": [
    "2) The preferred way is to pass a `Runnable` instance to Thread constructor"
   ]
  },
  {
   "cell_type": "code",
   "execution_count": null,
   "metadata": {},
   "outputs": [],
   "source": [
    "Runnable runnable = new Runnable{\n",
    "    public void run(){\n",
    "        System.out.println(\"Worker thread running\");\n",
    "    }\n",
    "}\n",
    "\n",
    "Thread worker = new Thread(runnable);"
   ]
  },
  {
   "cell_type": "markdown",
   "metadata": {},
   "source": [
    "**Starting a thread:** use the `start` method of the Thread class. The `isAlive` method can tell if the thread is currently running or not. isAlive returns false if the thread has not been started or the thread has been terminated.  \n",
    "\n",
    "**Stopping a thread:** is not as straight forward as starting it. The only way to terminate a thread is to arrange for its run method to complete. The thread class has a `stop` method, but it has been deprecated. It has been deprecated because stopping a thread releases all the locks it may have. If the thread was inside a critical section when stopped, it would lead to corrupted state. Other threads which access that critical section might be working with corrupted state.\n",
    "\n",
    "Thread throwing an unchecked exception can also terminate the thread. Two approaches for stopping a thread: \n",
    "1) setting a flag"
   ]
  },
  {
   "cell_type": "code",
   "execution_count": null,
   "metadata": {},
   "outputs": [],
   "source": [
    "public class Worker extends Thread{\n",
    "    private volatile boolean done = false;\n",
    "    \n",
    "    @Override\n",
    "    public void run(){\n",
    "        while(!done){\n",
    "            // Do something\n",
    "        }\n",
    "    }\n",
    "    \n",
    "    // Other methods\n",
    "}"
   ]
  },
  {
   "cell_type": "markdown",
   "metadata": {},
   "source": [
    "An external code can stop this thread by setting done as true. But the thread will only stop when the execution reaches the top of the loop (and not immediately).  \n",
    "2) Using interrupts: we can call `interrupt` method of any thread. It has two effects. First, it sets internal interrupted flag of the thread to true. Second, it causes any blocking method like `sleep`, `join`, `wait` to stop blocking and throw `InterruptedException`."
   ]
  },
  {
   "cell_type": "code",
   "execution_count": null,
   "metadata": {},
   "outputs": [],
   "source": [
    "public class Worker extends Thread{\n",
    "    \n",
    "    @Override\n",
    "    public void run(){\n",
    "        while(!isInterrupted()){\n",
    "            // Do something\n",
    "        }\n",
    "    }\n",
    "    \n",
    "    // Other methods\n",
    "}\n",
    "\n",
    "Worker worker = new Worker();\n",
    "worker.start();\n",
    "worker.interrupt();"
   ]
  },
  {
   "cell_type": "markdown",
   "metadata": {},
   "source": [
    "**Pausing a thread:** the Thread class has `suspend` and `resume` methods which have been deprecated (due to possibility of deadlock). It is still possible for a thread to suspend its own execution for a specified amount of time using `sleep` method. The least amount of time a thread can sleep on most Java implementations is 20 to 50 ms."
   ]
  },
  {
   "cell_type": "code",
   "execution_count": 6,
   "metadata": {},
   "outputs": [
    {
     "name": "stdout",
     "output_type": "stream",
     "text": [
      "1152488192\t2140810343\t1285862342\t1650368227\t-1184878083\t1039227028\t278517272\t-1543200418\t401414008\t-531716027\t"
     ]
    }
   ],
   "source": [
    "public class DelayedRandomGenerator extends Thread {\n",
    "    public void run() {\n",
    "        Random random = new Random();\n",
    "        while (!isInterrupted()) {\n",
    "            System.out.print(random.nextInt() + \"\\t\");\n",
    "            try {\n",
    "                sleep(200);\n",
    "            } catch (InterruptedException e) {\n",
    "                break;\n",
    "            }\n",
    "        }\n",
    "    }\n",
    "}\n",
    "\n",
    "DelayedRandomGenerator generator = new DelayedRandomGenerator();\n",
    "generator.start();\n",
    "\n",
    "try {\n",
    "    Thread.sleep(1000);\n",
    "} catch (InterruptedException e) {\n",
    "    System.exit(0);\n",
    "}        \n",
    "\n",
    "generator.interrupt();"
   ]
  },
  {
   "cell_type": "markdown",
   "metadata": {},
   "source": [
    "Unlike primitives like int, float and double are not read from memory in one atomic step. Rather, 32 bits are read at a time. So it may be possible to read 32 bits of fresh value and 32 bits of stale value."
   ]
  },
  {
   "cell_type": "markdown",
   "metadata": {},
   "source": [
    "### Thread Notification\n",
    "The `wait` and `notify` semantics allows threads to communicate among each other. Wait (and its overloaded variants) forces a thread to wait and notify signals a waiting thread that it can continue execution. Both methods must be called from within a synchronized block. Synchronized block because of the inherent race condition:\n",
    "1. Thread A tests a condition and discovers it must wait.\n",
    "2. Thread B sets the condition and calls notify() to inform A to resume execution. Because A is not yet waiting, nothing happens.\n",
    "3. Thread A waits, by calling wait().\n",
    "4. Because of the prior notify() call, A waits indefinitely.\n",
    "\n",
    "The thread that calls wait (the waiting thread) and the thread that calls notify (the notification thread) must compete for the same lock. Either thread must call wait or notify via the same object on which they enter their synchronized contexts because wait tightly integrates with the lock. Prior to waiting, a thread executing wait releases the lock, which allows the notification thread to enter its synchronized context to set the condition and notify the waiting thread. Notify on the other hand doesn't release any lock. Since any Java object can act as lock, the wait and notify methods are the Object class' methods."
   ]
  },
  {
   "cell_type": "code",
   "execution_count": null,
   "metadata": {},
   "outputs": [],
   "source": [
    "class Data {\n",
    "    private String data;\n",
    "    private Object lock = new Object();\n",
    "    private boolean sent = true;\n",
    "\n",
    "    public void send(String data) {\n",
    "        synchronized (lock) {\n",
    "            while (!sent) {\n",
    "                try {\n",
    "                    lock.wait();\n",
    "                } catch (InterruptedException e) {\n",
    "                    e.printStackTrace();\n",
    "                }\n",
    "            }\n",
    "\n",
    "            sent = false;\n",
    "            this.data = data;\n",
    "\n",
    "            lock.notifyAll();\n",
    "        }\n",
    "    }\n",
    "\n",
    "    public String receive(){\n",
    "        synchronized (lock) {\n",
    "            while (sent) {\n",
    "                try {\n",
    "                    lock.wait();\n",
    "                } catch (InterruptedException e) {\n",
    "                    e.printStackTrace();\n",
    "                }\n",
    "            }\n",
    "\n",
    "            sent = true;\n",
    "            lock.notifyAll();\n",
    "\n",
    "            return this.data;\n",
    "        }\n",
    "    }\n",
    "}"
   ]
  },
  {
   "cell_type": "markdown",
   "metadata": {},
   "source": [
    "Wait/notify forms the basis of producer consumer pattern."
   ]
  },
  {
   "cell_type": "code",
   "execution_count": null,
   "metadata": {},
   "outputs": [],
   "source": [
    "class Common {\n",
    "    private int number;\n",
    "    private boolean writeable = true;\n",
    "\n",
    "    public synchronized void setNumber(int number) {\n",
    "        // If writeable is false, this means the consumer\n",
    "        // has not consumed the data, wait\n",
    "        while (!writeable) {\n",
    "            try {\n",
    "                wait();\n",
    "            } catch (InterruptedException e) {\n",
    "                e.printStackTrace();\n",
    "            }\n",
    "        }\n",
    "\n",
    "        writeable = false;\n",
    "        this.number = number;\n",
    "        System.out.println(\"Number \" + this.number + \" set\");\n",
    "\n",
    "        notify(); // If we miss this all consumers will continue\n",
    "                  // waiting. Here we notify all waiting consumers that\n",
    "                  // that new data is ready\n",
    "    }\n",
    "\n",
    "    public synchronized int getNumber() {\n",
    "        // Producer has not produced new data, so better wait\n",
    "        while (writeable) {\n",
    "            try {\n",
    "                wait();\n",
    "            } catch (InterruptedException e) {\n",
    "                e.printStackTrace();\n",
    "            }\n",
    "        }\n",
    "\n",
    "        writeable = true;\n",
    "        notify(); // Notify producer that data has been consumed\n",
    "                  // they can stop waiting (after this method\n",
    "                  // has been executed)\n",
    "\n",
    "        System.out.println(\"Number \" + this.number + \" read\");\n",
    "        return this.number;\n",
    "    }\n",
    "}\n",
    "\n",
    "class Producer extends Thread {\n",
    "    private Common common;\n",
    "\n",
    "    public Producer(Common common) {\n",
    "        this.common = common;\n",
    "    }\n",
    "\n",
    "    @Override\n",
    "    public void run() {\n",
    "        // Produce even numbers sequentially\n",
    "        for (int i = 0; i < 100; i++) {\n",
    "            if (i % 2 == 0) {\n",
    "                common.setNumber(i);\n",
    "            }\n",
    "        }\n",
    "    }\n",
    "}\n",
    "\n",
    "class Consumer extends Thread {\n",
    "    private Common common;\n",
    "\n",
    "    public Consumer(Common common) {\n",
    "        this.common = common;\n",
    "    }\n",
    "\n",
    "    @Override\n",
    "    public void run() {\n",
    "        // Consume all generated numbers\n",
    "        for (int i = 0; i < 50; i++) {\n",
    "            common.getNumber();\n",
    "        }\n",
    "    }\n",
    "}"
   ]
  },
  {
   "cell_type": "markdown",
   "metadata": {},
   "source": [
    "What if a waiting thread is never notified. There is another overloaded version `void wait(long timeout)` which waits only for a certain duration. It is important to note that the wait method is called from inside a while loop and not an if block. Why?:\n",
    "1. Thread A calls a method that acquires the synchronization lock.\n",
    "2. Thread A examines a state flag and determines that the data is not in the desired state.\n",
    "3. Thread A calls the wait() method, which frees the lock.\n",
    "4. Thread B calls a method that acquires the same synchronization lock.\n",
    "5. Thread C calls a method that blocks waiting for the lock.\n",
    "6. Thread B sets the state flag and calls the notifyAll() method.\n",
    "7. Thread B finishes its method and frees the lock.\n",
    "8. Thread C acquires the lock and proceeds to process the data; it sees that the data is in the desired state, so it processes the data and resets the state flag.\n",
    "9. Thread C exits without needing to wait.\n",
    "10. Thread A receives the notification and wakes up.\n",
    "\n",
    "This above sequence is not the one we expected. Therefore it is necessary to check the condition after waking from wait."
   ]
  },
  {
   "cell_type": "markdown",
   "metadata": {},
   "source": [
    "### ThreadLocal\n",
    "ThreadLocal enables us to create variables that can only be read and written by the same thread. Consider the code below:"
   ]
  },
  {
   "cell_type": "code",
   "execution_count": 1,
   "metadata": {},
   "outputs": [],
   "source": [
    "class BirthdayService{\n",
    "    public String getFormattedBirthdate(int userId){\n",
    "        Date birthDate = getBirthdate(userId);\n",
    "        return new SimpleDateFormat(\"yyyy-mm-dd\").format(birthDate);\n",
    "    }\n",
    "    \n",
    "    // More methods\n",
    "}\n",
    "\n",
    "class Demo{\n",
    "    public static void main(String[] args){\n",
    "        BirthdayService service = new BirthdayService();\n",
    "        \n",
    "        Thread t1 = new Thread(()->{\n",
    "            String birthDate = service.getBirthdate(50);\n",
    "            System.out.println(birthDate);\n",
    "        });\n",
    "        \n",
    "        Thread t2 = new Thread(()->{\n",
    "            String birthDate = service.getBirthdate(150);\n",
    "            System.out.println(birthDate);\n",
    "        });\n",
    "        \n",
    "        t1.start();\n",
    "        t2.start();\n",
    "    }\n",
    "}"
   ]
  },
  {
   "cell_type": "markdown",
   "metadata": {},
   "source": [
    "We created two `SimpleDateFormat` objects, one per each thread call. What about the following modification?"
   ]
  },
  {
   "cell_type": "code",
   "execution_count": null,
   "metadata": {},
   "outputs": [],
   "source": [
    "class Demo{\n",
    "    public static void main(String[] args){\n",
    "        BirthdayService service = new BirthdayService();\n",
    "        \n",
    "        for(int i=0; i<1000; i++){\n",
    "            Thread t = new Thread(()->{\n",
    "                String birthDate = service.getBirthdate(i);\n",
    "                System.out.println(birthDate);\n",
    "            });\n",
    "\n",
    "            t.start();\n",
    "        }\n",
    "    }\n",
    "}"
   ]
  },
  {
   "cell_type": "markdown",
   "metadata": {},
   "source": [
    "Now we are creating 1000 SimpleDateFormat objects. We are also creating 1000 new threads. As we'll see later, 1000 new threads are not ideal, they are expensive to create and consume memory. We have 1000 tasks, we may want to use only 10 threads to execute these 1000 tasks. We can't use the same shared SimpleFormat object, but we can use the same SimpleFormat per thread. That is where ThreadLocal comes into play. To maintain 10 threads, we can make use of thread pools:"
   ]
  },
  {
   "cell_type": "code",
   "execution_count": null,
   "metadata": {},
   "outputs": [],
   "source": [
    "public class ThreadSafeFormatter {\n",
    "    // We are extending ThreadLocal because we have to initialize the\n",
    "    // SimpleDateFormat in a specific way\n",
    "    public static ThreadLocal<SimpleDateFormat> simpleDateFormat = new ThreadLocal<SimpleDateFormat>() {\n",
    "        @Override\n",
    "        protected SimpleDateFormat initialValue() {\n",
    "            return new SimpleDateFormat(\"yyyy-mm-dd\");\n",
    "        };\n",
    "    };\n",
    "}\n",
    "\n",
    "class BirthdayService{\n",
    "    public String getFormattedBirthdate(int userId){\n",
    "        Date birthDate = getBirthdate(userId);\n",
    "        return new ThreadSafeFormatter.simpleDateFormat.get().format(birthDate);\n",
    "    }\n",
    "    \n",
    "    // More methods\n",
    "}\n",
    "\n",
    "// We'll be using a FixedThreadPool\n",
    "class Demo{\n",
    "    public static void main(String[] args){\n",
    "        BirthdayService service = new BirthdayService();\n",
    "        \n",
    "        ExecutorService service = Executors.newFixedThreadPool(10);\n",
    "        // Each thread pool thread will have the its own\n",
    "        // SimpleDateFormat object for all the tasks it gets\n",
    "        for(int i=0; i<1000; i++){\n",
    "            service.execute(()->{\n",
    "                String birthDate = service.getBirthdate(i);\n",
    "                System.out.println(birthDate);\n",
    "            });\n",
    "        }\n",
    "        \n",
    "        // Waiting for executor to finish\n",
    "    }\n",
    "}"
   ]
  },
  {
   "cell_type": "markdown",
   "metadata": {},
   "source": [
    "If the `get` method is being called for the first time (by a thread), it internally calls the `initialValue` method. Subsequent calls to get by the same thread, returns the same object (with same initialized value).  \n",
    "\n",
    "An important point to remember is that whenever the object has been completely used by a thread, we need to remove that object from ThreadLocal."
   ]
  },
  {
   "cell_type": "code",
   "execution_count": null,
   "metadata": {},
   "outputs": [],
   "source": [
    "ThreadSafeFormatter.simpleDateFormat.remove();"
   ]
  }
 ],
 "metadata": {
  "kernelspec": {
   "display_name": "Java",
   "language": "java",
   "name": "java"
  },
  "language_info": {
   "codemirror_mode": "java",
   "file_extension": ".jshell",
   "mimetype": "text/x-java-source",
   "name": "Java",
   "pygments_lexer": "java",
   "version": "17.0.5+9-LTS-191"
  }
 },
 "nbformat": 4,
 "nbformat_minor": 4
}
