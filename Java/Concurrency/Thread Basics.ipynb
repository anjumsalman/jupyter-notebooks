{
 "cells": [
  {
   "cell_type": "markdown",
   "metadata": {},
   "source": [
    "## Threads\n",
    "There are two primary ways to create a thread. 1) Extend the `Thread` class and override the run method."
   ]
  },
  {
   "cell_type": "code",
   "execution_count": null,
   "metadata": {},
   "outputs": [],
   "source": [
    "// Worker cannot inherit some functionality from other classes\n",
    "public class Worker extends Thread {\n",
    "    @Override\n",
    "    public void run(){\n",
    "        System.out.println(\"Worker thread running\");\n",
    "    }\n",
    "}\n",
    "\n",
    "Worker worker = new Worker();"
   ]
  },
  {
   "cell_type": "markdown",
   "metadata": {},
   "source": [
    "2) The preferred way is to pass a `Runnable` instance to `Thread` constructor:"
   ]
  },
  {
   "cell_type": "code",
   "execution_count": null,
   "metadata": {},
   "outputs": [],
   "source": [
    "Runnable runnable = new Runnable{\n",
    "    public void run(){\n",
    "        System.out.println(\"Worker thread running\");\n",
    "    }\n",
    "}\n",
    "\n",
    "Thread worker = new Thread(runnable);"
   ]
  },
  {
   "cell_type": "markdown",
   "metadata": {},
   "source": [
    "**Starting a thread:** use the `start` method of the `Thread` class. The `isAlive` method can tell if the thread is currently running or not. `isAlive` returns false if the thread has not been started or the thread has been terminated.  \n",
    "\n",
    "**Stopping a thread:** is not as straight forward as starting it. The only way to terminate a thread is to arrange for its `run` method to complete. The thread class has a `stop` method, but it has been deprecated. It has been deprecated because stopping a thread releases all the locks it may have. If the thread was inside a critical section when stopped, it would lead to corrupted state. Other threads which access that critical section might be working with corrupted state.\n",
    "\n",
    "Thread throwing an unchecked exception can also terminate the thread. Two approaches for stopping a thread: \n",
    "1) setting a flag"
   ]
  },
  {
   "cell_type": "code",
   "execution_count": null,
   "metadata": {},
   "outputs": [],
   "source": [
    "public class Worker extends Thread {\n",
    "    // done must be set as volatile for this to work\n",
    "    private volatile boolean done = false;\n",
    "    \n",
    "    @Override\n",
    "    public void run(){\n",
    "        while(!done){\n",
    "            // Do something\n",
    "        }\n",
    "    }\n",
    "    \n",
    "    // Other methods\n",
    "}"
   ]
  },
  {
   "cell_type": "markdown",
   "metadata": {},
   "source": [
    "An external code can stop this thread by setting done as true. But the thread will only stop when the execution reaches the top of the loop (and not immediately).  \n",
    "2) Using interrupts: we can call `interrupt` method of any thread. It has two effects. First, it sets internal interrupted flag of the thread to true. Second, it causes any blocking method like `sleep`, `join`, `wait` to stop blocking and throw `InterruptedException`."
   ]
  },
  {
   "cell_type": "code",
   "execution_count": null,
   "metadata": {},
   "outputs": [],
   "source": [
    "public class Worker extends Thread{\n",
    "    \n",
    "    @Override\n",
    "    public void run(){\n",
    "        while(!isInterrupted()){\n",
    "            // Do something\n",
    "        }\n",
    "    }\n",
    "    \n",
    "    // Other methods\n",
    "}\n",
    "\n",
    "Worker worker = new Worker();\n",
    "worker.start();\n",
    "worker.interrupt();"
   ]
  },
  {
   "cell_type": "markdown",
   "metadata": {},
   "source": [
    "**Pausing a thread:** the Thread class has `suspend` and `resume` methods which have been deprecated (due to possibility of deadlock). It is still possible for a thread to suspend its own execution for a specified amount of time using `sleep` method. The least amount of time a thread can sleep on most Java implementations is 20 to 50 ms."
   ]
  },
  {
   "cell_type": "code",
   "execution_count": 6,
   "metadata": {},
   "outputs": [
    {
     "name": "stdout",
     "output_type": "stream",
     "text": [
      "1152488192\t2140810343\t1285862342\t1650368227\t-1184878083\t1039227028\t278517272\t-1543200418\t401414008\t-531716027\t"
     ]
    }
   ],
   "source": [
    "public class DelayedRandomGenerator extends Thread {\n",
    "    public void run() {\n",
    "        Random random = new Random();\n",
    "        // If DelayedRandomGenerator implemented Runnable instead, use Thread.currentThread().isInterrupted()\n",
    "        while (!isInterrupted()) {\n",
    "            System.out.print(random.nextInt() + \"\\t\");\n",
    "            try {\n",
    "                sleep(200);\n",
    "            } catch (InterruptedException e) {\n",
    "                break;\n",
    "            }\n",
    "        }\n",
    "    }\n",
    "}\n",
    "\n",
    "DelayedRandomGenerator generator = new DelayedRandomGenerator();\n",
    "generator.start();\n",
    "\n",
    "try {\n",
    "    Thread.sleep(1000);\n",
    "} catch (InterruptedException e) {\n",
    "    System.exit(0);\n",
    "}        \n",
    "\n",
    "generator.interrupt();"
   ]
  },
  {
   "cell_type": "markdown",
   "metadata": {},
   "source": [
    "## Thread Notification\n",
    "`wait` and `notify` semantics allows threads to communicate among each other. The idea is that one thread needs a certain condition to exist and assumes that another thread will create that condition. When another thread creates that condition it notifies the first thread that has been waiting for the condition.\n",
    "\n",
    "The semantics is achieved using the following methods that are present in the `Object` class:\n",
    "- `wait`: waits for the condition to occur. The current thread lets go of the lock\n",
    "- `wait(long timeout)`: similar to the first except that it comes back into contention for the lock acquisition after the timeout\n",
    "- `notify`: signals another thread that the condition has happened and it should stop waiting. The notified thread would then try to acquire lock.\n",
    "- `notifyAll`: signals all the waiting threads (waiting on the same lock). One of the waiting thread would ultimately acquire lock.\n",
    "\n",
    "All the above methods must be called from within synchronization method or block. Why? Because of  inherent race condition:\n",
    "1. Thread A tests a condition and discovers it must wait.\n",
    "2. Thread B sets the condition and calls notify() to inform A to resume execution. Because A is not yet waiting, nothing happens.\n",
    "3. Thread A waits, by calling wait().\n",
    "4. Because of the prior notify() call, A waits indefinitely.\n",
    "\n",
    "It is mandatory for `wait` and `notify` to hold the locks for the object they are operating on. The `wait` method releases the lock prior to waiting and reacquires the lock prior to returning from the `wait` method.\n",
    "\n",
    "If a thread receives a notification, it is not guaranteed that the condition is set correctly. Prior to calling the `wait` method, thread should test for the condition while holding the lock. Upon returning from the `wait` method the thread should retest the condition (to check whether it should wait again). Why? Suppose three threads A, B and C.\n",
    "1. Thread A calls a method that acquires the synchronization lock.\n",
    "2. Thread A examines a state flag and determines that the data is not in the desired state.\n",
    "3. Thread A calls the `wait()` method, which frees the lock.\n",
    "4. Thread B calls a method that acquires the same synchronization lock.\n",
    "5. Thread C calls a method that blocks waiting for the lock.\n",
    "6. Thread B sets the state flag and calls the `notifyAll()` method.\n",
    "7. Thread B finishes its method and frees the lock.\n",
    "8. Thread C acquires the lock and proceeds to process the data; it sees that the data is in the desired state, so it processes the data and resets the state flag.\n",
    "9. Thread C exits without needing to wait.\n",
    "10. Thread A receives the notification and wakes up.\n",
    "\n",
    "Threads that are waiting can be considered as consumers - there is no guarantee that when the thread wakes up the data has not been processed by another consumer. When the thread wakes up, it cannot assume that the condition it has been waiting for would still be true. Waiting thread must provide an option to check the state and return back to waiting state in case the notification has already been handled. This is something that calls to `wait` inside a for loop can achieve."
   ]
  },
  {
   "cell_type": "code",
   "execution_count": null,
   "metadata": {},
   "outputs": [],
   "source": [
    "// Consider that this object is accessed by two consumer threads and one producer\n",
    "class SharedData {\n",
    "    private String data;\n",
    "\n",
    "    public synchronized void consume() throws InterruptedException {\n",
    "        // Check for condition before waiting\n",
    "        if (data == null) {\n",
    "            wait();\n",
    "        }\n",
    "\n",
    "        // Process the data\n",
    "        System.out.println(data);\n",
    "        // Signal that data has been processed\n",
    "        data = null;\n",
    "    }\n",
    "\n",
    "    public synchronized void produce() {\n",
    "        data = \"Hello world!\";\n",
    "        notifyAll();\n",
    "    }\n",
    "}"
   ]
  },
  {
   "cell_type": "markdown",
   "metadata": {},
   "source": [
    "The output in this case is:\n",
    "```\n",
    "Hello world!\n",
    "null\n",
    "```\n",
    "\n",
    "The thread that calls `wait` (the waiting thread) and the thread that calls notify (the notification thread) must compete for the same lock. Either thread must call `wait` or `notify` via the same object on which they enter their synchronized contexts because wait tightly integrates with the lock. Below example elaborates this using another object as lock:"
   ]
  },
  {
   "cell_type": "code",
   "execution_count": null,
   "metadata": {},
   "outputs": [],
   "source": [
    "class Data {\n",
    "    private String data;\n",
    "    private Object lock = new Object();\n",
    "    private boolean sent = true;\n",
    "\n",
    "    public void send(String data) {\n",
    "        synchronized (lock) {\n",
    "            while (!sent) {\n",
    "                try {\n",
    "                    // Notice that wait is called on the lock object\n",
    "                    lock.wait();\n",
    "                } catch (InterruptedException e) {\n",
    "                    e.printStackTrace();\n",
    "                }\n",
    "            }\n",
    "\n",
    "            sent = false;\n",
    "            this.data = data;\n",
    "\n",
    "            // Notify is also called on the same lock\n",
    "            lock.notifyAll();\n",
    "        }\n",
    "    }\n",
    "\n",
    "    public String receive(){\n",
    "        synchronized (lock) {\n",
    "            while (sent) {\n",
    "                try {\n",
    "                    lock.wait();\n",
    "                } catch (InterruptedException e) {\n",
    "                    e.printStackTrace();\n",
    "                }\n",
    "            }\n",
    "\n",
    "            sent = true;\n",
    "            lock.notifyAll();\n",
    "\n",
    "            return this.data;\n",
    "        }\n",
    "    }\n",
    "}"
   ]
  },
  {
   "cell_type": "markdown",
   "metadata": {},
   "source": [
    "Wait/notify forms the basis of producer consumer pattern."
   ]
  },
  {
   "cell_type": "code",
   "execution_count": null,
   "metadata": {},
   "outputs": [],
   "source": [
    "class Common {\n",
    "    private int number;\n",
    "    private boolean writeable = true;\n",
    "\n",
    "    public synchronized void setNumber(int number) {\n",
    "        // If writeable is false, this means the consumer\n",
    "        // has not consumed the data, wait\n",
    "        // Also notice that this is inside a while loop and not a simple if condition\n",
    "        while (!writeable) {\n",
    "            try {\n",
    "                wait();\n",
    "            } catch (InterruptedException e) {\n",
    "                e.printStackTrace();\n",
    "            }\n",
    "        }\n",
    "\n",
    "        writeable = false;\n",
    "        this.number = number;\n",
    "        System.out.println(\"Number \" + this.number + \" set\");\n",
    "\n",
    "        notify(); // If we miss this all consumers will continue\n",
    "                  // waiting. Here we notify all waiting consumers that\n",
    "                  // that new data is ready\n",
    "    }\n",
    "\n",
    "    public synchronized int getNumber() {\n",
    "        // Producer has not produced new data, so better wait\n",
    "        while (writeable) {\n",
    "            try {\n",
    "                wait();\n",
    "            } catch (InterruptedException e) {\n",
    "                e.printStackTrace();\n",
    "            }\n",
    "        }\n",
    "\n",
    "        writeable = true;\n",
    "        notify(); // Notify producer that data has been consumed\n",
    "                  // they can stop waiting (after this method\n",
    "                  // has been executed)\n",
    "\n",
    "        System.out.println(\"Number \" + this.number + \" read\");\n",
    "        return this.number;\n",
    "    }\n",
    "}\n",
    "\n",
    "class Producer extends Thread {\n",
    "    private Common common;\n",
    "\n",
    "    public Producer(Common common) {\n",
    "        this.common = common;\n",
    "    }\n",
    "\n",
    "    @Override\n",
    "    public void run() {\n",
    "        // Produce even numbers sequentially\n",
    "        for (int i = 0; i < 100; i++) {\n",
    "            if (i % 2 == 0) {\n",
    "                common.setNumber(i);\n",
    "            }\n",
    "        }\n",
    "    }\n",
    "}\n",
    "\n",
    "class Consumer extends Thread {\n",
    "    private Common common;\n",
    "\n",
    "    public Consumer(Common common) {\n",
    "        this.common = common;\n",
    "    }\n",
    "\n",
    "    @Override\n",
    "    public void run() {\n",
    "        // Consume all generated numbers\n",
    "        for (int i = 0; i < 50; i++) {\n",
    "            common.getNumber();\n",
    "        }\n",
    "    }\n",
    "}"
   ]
  }
 ],
 "metadata": {
  "kernelspec": {
   "display_name": "Java",
   "language": "java",
   "name": "java"
  },
  "language_info": {
   "codemirror_mode": "java",
   "file_extension": ".jshell",
   "mimetype": "text/x-java-source",
   "name": "Java",
   "pygments_lexer": "java",
   "version": "21.0.2+13-58"
  }
 },
 "nbformat": 4,
 "nbformat_minor": 4
}
