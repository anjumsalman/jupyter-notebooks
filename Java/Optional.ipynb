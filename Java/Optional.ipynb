{
 "cells": [
  {
   "cell_type": "markdown",
   "id": "72f4eebe-6c7e-4596-89f4-1ec743abfcb5",
   "metadata": {},
   "source": [
    "## Optional\n",
    "Represents a value that may or may not be present. The main use case of `Optional` is when we are returning a value from a method and that value may or may not be present. It was added in Java 1.8.\n",
    "\n",
    "To illustrate the need for `Optional`, we consider the next example. Consider a `search` method on a stream which returns `null` in case the search did not yield a result."
   ]
  },
  {
   "cell_type": "code",
   "execution_count": null,
   "id": "efe09f38-48a6-44d9-a48d-a0b68178b37d",
   "metadata": {},
   "outputs": [],
   "source": [
    "// Below code returns NullPointerException if no red coloured fruit was found\n",
    "fruits.stream()\n",
    "    .search(fruit -> fruit.getColor().equals(\"RED\"))\n",
    "    .quantity();"
   ]
  },
  {
   "cell_type": "markdown",
   "id": "217b33c1-0a83-4c18-b3e5-0731d373b573",
   "metadata": {},
   "source": [
    "To prevent NPE, we can do the following:"
   ]
  },
  {
   "cell_type": "code",
   "execution_count": null,
   "id": "c8118f20-69fa-442b-8e89-dd92229fee71",
   "metadata": {},
   "outputs": [],
   "source": [
    "Fruit fruit = fruits.stream()\n",
    "    .search(fruit -> fruit.getColor().equals(\"RED\"));\n",
    "\n",
    "int quantity = fruit == null ? 0 : fruit.getQuantity();"
   ]
  },
  {
   "cell_type": "markdown",
   "id": "8f5309f8-6775-4e8e-9649-6e0f5ab7509d",
   "metadata": {},
   "source": [
    "The `Optional<T>` class was added in Java 8. An optional can be in two states:\n",
    "- contains non null reference to `T`\n",
    "- is empty\n",
    "\n",
    "There are also equivalent primitives `OptionalInt`, `OptionalFloat`, `OptionalLong`, etc. In the previous example, where we were using the search method, Java provides an alternative `findFirst` which returns an `Optional`:"
   ]
  },
  {
   "cell_type": "code",
   "execution_count": null,
   "id": "8e316556-24e9-45a5-a50a-00753fef69b0",
   "metadata": {},
   "outputs": [],
   "source": [
    "// One difference to note as compared to search is that in this case the predicate\n",
    "// is used upstream, and not in the findFirst method itself\n",
    "Optional<Fruit> fruit = fruits.stream()\n",
    "    .filter(fruit -> fruit.getColor().equals(\"RED\"))\n",
    "    .findFirst();\n",
    "\n",
    "// If we had used int quantity = fruit.get().getQuantity(); we would have got\n",
    "// NoSuchElementException when fruit optional was empty\n",
    "int quantity = fruit.isPresent() ? fruit.get().getQuantity() : 0;"
   ]
  },
  {
   "cell_type": "markdown",
   "id": "4b16b852-dce1-4494-b027-b24ec9c0e7cd",
   "metadata": {},
   "source": [
    "The above code uses two of the methods of `Optional` - `isPresent` which checks for empty and `get` which retreives the value associated with optional. However, the above case is no different than explicitly doing null checks like in example code in previous section.\n",
    "\n",
    "Also, NEVER call `get` unless we're sure that the optional is non-empty.\n",
    "\n",
    "The better alternative is to use the `orElse` methods:\n",
    "- `orElse(<default_value>)` : return the value if present, else return the provided default value\n",
    "- `orElseGet(<supplier_function>)` : return the value if present, else use the supplier to get default value\n",
    "- `orElseThrow(<exception_object>)` : return the value if present, else throw exception provided"
   ]
  },
  {
   "cell_type": "code",
   "execution_count": null,
   "id": "dc77500c-79ae-48d0-ab11-2e88ada46c31",
   "metadata": {},
   "outputs": [],
   "source": [
    "int quantity = fruits.stream()\n",
    "    .filter(fruit -> fruit.getColor().equals(\"RED\"))\n",
    "    .findFirst()\n",
    "    .orElse(new Fruit())\n",
    "    .getQuantity();"
   ]
  },
  {
   "cell_type": "markdown",
   "id": "e92019a8-b672-45a6-81a3-3a6f4759eda8",
   "metadata": {},
   "source": [
    "## Map and Filter\n",
    "Are two available methods on an optional;\n",
    "- `map` : if the optional is non-empty, it transforms the value into another in an optional. Else if the optional is empty it simply returns the optional.\n",
    "- `filter`: if the optional is empty return that empty optional. If the optional is non-empty, apply the predicate. If the predicate passes, return the value in optional; else return empty optional."
   ]
  },
  {
   "cell_type": "code",
   "execution_count": null,
   "id": "5b67bd93-00a0-4778-9d14-0fb18d9c5a1a",
   "metadata": {},
   "outputs": [],
   "source": [
    "int quantity = fruits.stream()\n",
    "    .filter(fruit -> fruit.getColor().equals(\"RED\"))\n",
    "    .findFirst()\n",
    "    .map(fruit -> fruit.getQuantity())\n",
    "    .orElse(0);"
   ]
  },
  {
   "cell_type": "markdown",
   "id": "45e4e299-0ae3-4c3e-b716-e4a33b0831a4",
   "metadata": {},
   "source": [
    "## Creating Optional\n",
    "Never initialise an `Optional` reference to `null`. Instead use the `of` and `empty` methods:"
   ]
  },
  {
   "cell_type": "code",
   "execution_count": null,
   "id": "99a82747-0e36-4f5b-b1b4-95a12862fa66",
   "metadata": {},
   "outputs": [],
   "source": [
    "Optional<String> nonEmpty = Optional.of(\"Hello!\");\n",
    "\n",
    "Optional<String> empty = Optional.empty();\n",
    "empty.get(); // NoSuchElementException"
   ]
  },
  {
   "cell_type": "markdown",
   "id": "819d251e-e520-430c-a425-acc19c468e46",
   "metadata": {},
   "source": [
    "What if we have a normal reference and want to convert it into `Optional`? We can use the following method:"
   ]
  },
  {
   "cell_type": "code",
   "execution_count": null,
   "id": "f64549a8-f6df-428d-b345-cb4768aee3d0",
   "metadata": {},
   "outputs": [],
   "source": [
    "Fruit nullRef = null;\n",
    "\n",
    "Optional<Fruit> fruitOptional = Optional.ofNullable(nullRef);\n",
    "fruitOptional.equals(Optional.empty());  // true\n",
    "\n",
    "Fruit fruit = new Fruit();\n",
    "Optional<Fruit> anotherFruitOptional = Optional.ofNullable(fruit);\n",
    "anotherFruitOptional.equals(Optional.of(fruit));  // true"
   ]
  },
  {
   "cell_type": "markdown",
   "id": "9545e857-bef3-4625-8f55-0b9d57c2e093",
   "metadata": {},
   "source": [
    "The `map` method alongwith `ofNullable` can help us avoid multiple levels of null checks:"
   ]
  },
  {
   "cell_type": "code",
   "execution_count": null,
   "id": "7bfbf215-51d1-445e-b36c-5012a33696be",
   "metadata": {},
   "outputs": [],
   "source": [
    "/* Suppose the class structure be\n",
    "Product\n",
    "    ProductData\n",
    "        Supplier\n",
    "            supplierCode\n",
    "\n",
    "And we want to get:\n",
    "String id = product.getProductData().getSuppliers().get(0).getSupplierCode();\n",
    "*/\n",
    "\n",
    "String id = null;\n",
    "if(product != null && product.getProductData() != null && product.getProductData().getSuppliers() != null) {\n",
    "    Supplier supplier = product.getProductData().getSuppliers().get(0);\n",
    "    if(supplier != null) {\n",
    "        id = supplier.getSupplierCode();\n",
    "    }\n",
    "}\n",
    "\n",
    "// Simplified with Optional as:\n",
    "String id_ = Optional.ofNullable(product)\n",
    "                .map(Product::getProductData)\n",
    "                .map(ProductData::getSuppliers)\n",
    "                .map(s -> s.get(0))\n",
    "                .map(Supplier::getSupplierCode)\n",
    "                .orElse(null);"
   ]
  }
 ],
 "metadata": {
  "kernelspec": {
   "display_name": "Java",
   "language": "java",
   "name": "java"
  },
  "language_info": {
   "codemirror_mode": "java",
   "file_extension": ".jshell",
   "mimetype": "text/x-java-source",
   "name": "Java",
   "pygments_lexer": "java",
   "version": "21.0.2+13-58"
  }
 },
 "nbformat": 4,
 "nbformat_minor": 5
}
