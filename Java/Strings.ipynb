{
 "cells": [
  {
   "cell_type": "markdown",
   "metadata": {},
   "source": [
    "## Overview\n",
    "Few things to note about Strings\n",
    "- Strings are immutable\n",
    "- Can be created either by using constructor or by just assigning string literal\n",
    "- Strings are stored internally (in memory) as `char[]`, each element containing a 16-bit UTF-16 Unicode character\n",
    "\n",
    "The third point is expanded here. To get the byte representation of a String,"
   ]
  },
  {
   "cell_type": "code",
   "execution_count": 5,
   "metadata": {
    "tags": []
   },
   "outputs": [
    {
     "name": "stdout",
     "output_type": "stream",
     "text": [
      "[72, 101, 108, 108, 111, 32, 97, 108, 108, 33]\n",
      "UTF-8\n",
      "[-2, -1, 0, 72, 0, 101, 0, 108, 0, 108, 0, 111, 0, 32, 0, 97, 0, 108, 0, 108, 0, 33]\n"
     ]
    }
   ],
   "source": [
    "import java.nio.charset.Charset;\n",
    "\n",
    "String word = \"Hello all!\";\n",
    "System.out.println(Arrays.toString(word.getBytes())); // sequence of bytes using the default charset: `Charset.defaultCharset()`\n",
    "System.out.println(Charset.defaultCharset());\n",
    "\n",
    "System.out.println(Arrays.toString(word.getBytes(Charset.forName( \"UTF-16\"))));"
   ]
  },
  {
   "cell_type": "markdown",
   "metadata": {
    "tags": []
   },
   "source": [
    "UTF-8 vs UTF-16 and other encoding systems are explained here: [Encoding formats](https://www.youtube.com/watch?v=uTJoJtNYcaQ)"
   ]
  },
  {
   "cell_type": "code",
   "execution_count": 1,
   "metadata": {
    "jupyter": {
     "is_executing": true
    },
    "tags": []
   },
   "outputs": [
    {
     "name": "stdout",
     "output_type": "stream",
     "text": [
      "2\n"
     ]
    }
   ],
   "source": [
    "System.out.println(\"💩\".length());  // Poop emoji takes 4 bytes to store in UTF-16 format"
   ]
  },
  {
   "cell_type": "markdown",
   "metadata": {},
   "source": [
    "As part of [JEP 254](https://openjdk.org/jeps/254) included in Java 9, Strings are now internally represented differently. Instead of `char[]` array, Java now uses a `byte[]` and another `byte` variable to store encoding. Since most of the times the characters stored in the string are English character which can be stored in one byte. In other cases it uses 2 bytes per character like in UTF-16. This has significant space savings alongwth reduced GC activity."
   ]
  },
  {
   "cell_type": "markdown",
   "metadata": {},
   "source": [
    "## Text Block\n",
    "Introduced as Preview in Java 13 and moved to permanent status in Java 15 ([JEP 378](https://openjdk.org/jeps/378)), text block lets us construct multiline strings in a less verbose fashion."
   ]
  },
  {
   "cell_type": "code",
   "execution_count": 10,
   "metadata": {
    "tags": []
   },
   "outputs": [
    {
     "name": "stdout",
     "output_type": "stream",
     "text": [
      "<person>\n",
      "    <firstName>Bob</firstName>\n",
      "    <lastName>Jones</lastName>\n",
      "</person>\n",
      "\n",
      "{\n",
      "    \"name\": \"John\",\n",
      "    \"age\": 54\n",
      "}\n",
      "\n"
     ]
    }
   ],
   "source": [
    "System.out.println(\"\"\"\n",
    "                       <person>\n",
    "                           <firstName>Bob</firstName>\n",
    "                           <lastName>Jones</lastName>\n",
    "                       </person>\n",
    "                       \"\"\");\n",
    "\n",
    "// Note that we don't have to escape \" character inside\n",
    "System.out.println(\"\"\"\n",
    "                   {\n",
    "                       \"name\": \"John\",\n",
    "                       \"age\": 54\n",
    "                   }\n",
    "                   \"\"\");"
   ]
  },
  {
   "cell_type": "markdown",
   "metadata": {},
   "source": [
    "Notice that the indentation before the \"\\<person>\" opening and closing tags are gone - part of reason why this is called text block and not multiline string literals."
   ]
  },
  {
   "cell_type": "code",
   "execution_count": 13,
   "metadata": {
    "tags": []
   },
   "outputs": [
    {
     "ename": "CompilationException",
     "evalue": "",
     "output_type": "error",
     "traceback": [
      "\u001b[1m\u001b[30m|   \u001b[1m\u001b[30mSystem.out.println(\"\"\"\u001b[0m\u001b[1m\u001b[30m\u001b[41m\u001b[0m\u001b[1m\u001b[30mSome long lines of text below.\u001b[0m",
      "\u001b[1m\u001b[31millegal text block open delimiter sequence, missing line terminator\u001b[0m",
      ""
     ]
    }
   ],
   "source": [
    "// Literal needs to have line break after \"\"\"\n",
    "System.out.println(\"\"\"Some long lines of text below.\n",
    "Starting at the very beginning of the text.\n",
    "    We have some more indented text.\n",
    "Back to no indentation.\n",
    "                   \"\"\");"
   ]
  },
  {
   "cell_type": "code",
   "execution_count": null,
   "metadata": {},
   "outputs": [],
   "source": [
    "// Equivalent to \"                   Some long lines of text below.\\nStarting at the very beginning of the text.\\n    We have some more indented text.\\nBack to no indentation.\\n\"\n",
    "System.out.println(\"\"\"\n",
    "                   Some long lines of text below.\n",
    "Starting at the very beginning of the text.\n",
    "    We have some more indented text.\n",
    "Back to no indentation.\n",
    "                   \"\"\");\n",
    "// Equivalent to \"                   Some long lines of text below.\\nStarting at the very beginning of the text.\\n    We have some more indented text.\\nBack to no indentation.\"                   \n",
    "System.out.println(\"\"\"\n",
    "                   Some long lines of text below.\n",
    "Starting at the very beginning of the text.\n",
    "    We have some more indented text.\n",
    "Back to no indentation.\"\"\");\n",
    "                   \n",
    "// Equivalent to \"                   Some long lines of text below.\\nStarting at the very beginning of the text.\\n    We have some more indented text.\\nBack to no indentation.\"                   \n",
    "// Trailing whitespace is removed\n",
    "System.out.println(\"\"\"\n",
    "                   Some long lines of text below.\n",
    "Starting at the very beginning of the text.\n",
    "    We have some more indented text.\n",
    "Back to no indentation.    \"\"\"); "
   ]
  },
  {
   "cell_type": "markdown",
   "metadata": {},
   "source": [
    "To prevent automatic insertion of newline, we can use the newly introduced escape character `\\<line-terminator>`"
   ]
  },
  {
   "cell_type": "code",
   "execution_count": 4,
   "metadata": {},
   "outputs": [
    {
     "name": "stdout",
     "output_type": "stream",
     "text": [
      "Warning! An error has occurred. Please go to the home page.\n"
     ]
    }
   ],
   "source": [
    "String longText = \"\"\"\n",
    "     Warning! An error has occurred.\\\n",
    "      Please go to the home page. \"\"\";\n",
    "System.out.println(longText);"
   ]
  },
  {
   "cell_type": "markdown",
   "metadata": {},
   "source": [
    "To add space at the end of a line, use `\\s` since normally it gets removed:"
   ]
  },
  {
   "cell_type": "code",
   "execution_count": 5,
   "metadata": {},
   "outputs": [
    {
     "name": "stdout",
     "output_type": "stream",
     "text": [
      "red   \n",
      "green \n",
      "blue  \n",
      "\n"
     ]
    }
   ],
   "source": [
    "String colours = \"\"\"\n",
    "    red  \\s\n",
    "    green\\s\n",
    "    blue \\s\n",
    "    \"\"\";\n",
    "System.out.println(colours);"
   ]
  },
  {
   "cell_type": "markdown",
   "metadata": {},
   "source": [
    "## String Pool\n",
    "Whenever we use string literals to create a string variable, these literals are stored in a part of JVM called String Pool."
   ]
  },
  {
   "cell_type": "code",
   "execution_count": 1,
   "metadata": {},
   "outputs": [
    {
     "name": "stdout",
     "output_type": "stream",
     "text": [
      "a and b are same\n",
      "a and c are diff\n",
      "a and c have same content\n"
     ]
    }
   ],
   "source": [
    "String a = \"Java\";    // Java added to String Pool\n",
    "String b = \"Java\";    // Java refers to the same string\n",
    "                      // present in String Pool\n",
    "\n",
    "String c = new String(\"Java\");    // new object created\n",
    "\n",
    "if(a == b)\n",
    "    System.out.println(\"a and b are same\");    // same\n",
    "else\n",
    "    System.out.println(\"a and b are diff\");\n",
    "\n",
    "if(a == c)\n",
    "    System.out.println(\"a and c are same\");\n",
    "else\n",
    "    System.out.println(\"a and c are diff\");    // diff\n",
    "\n",
    "if(a.equals(c))\n",
    "    System.out.println(\"a and c have same content\"); // same content\n",
    "else\n",
    "    System.out.println(\"a and c have diff content\")"
   ]
  },
  {
   "cell_type": "markdown",
   "metadata": {},
   "source": [
    "## StringBuilder and StringBuffer\n",
    "Below is the String hierarchy to note\n",
    "```\n",
    "CharSequence(I)\n",
    "        +-- String(C)\n",
    "        +-- StringBuilder(C)\n",
    "        +-- StringBuffer(C)\n",
    "```\n",
    "\n",
    "`StringBuilder` and `StringBuffer` are two mutable classes equivalent to String. Both make use of methods such as `append()`, `insert()`, `delete()` etc to modify the contents.  \n",
    " \n",
    "`StringBuffer` is the thread-safe version of StringBuilder. If multiple threads need to access `StringBuilder`, it is better to use `StringBuffer`."
   ]
  },
  {
   "cell_type": "markdown",
   "metadata": {},
   "source": [
    "## Newly Introduced String APIs\n",
    "**Java 9**"
   ]
  },
  {
   "cell_type": "code",
   "execution_count": 22,
   "metadata": {
    "tags": []
   },
   "outputs": [
    {
     "name": "stdout",
     "output_type": "stream",
     "text": [
      "83\n",
      "116\n",
      "114\n",
      "105\n",
      "110\n",
      "103\n"
     ]
    }
   ],
   "source": [
    "// Character stream\n",
    "\"String\".chars().forEach(System.out::println);"
   ]
  },
  {
   "cell_type": "markdown",
   "metadata": {},
   "source": [
    "**Java 11** "
   ]
  },
  {
   "cell_type": "code",
   "execution_count": 21,
   "metadata": {
    "tags": []
   },
   "outputs": [
    {
     "name": "stdout",
     "output_type": "stream",
     "text": [
      "Hello World\n",
      "   Hello World      Hello World   \n",
      "false\n",
      "A big sentence divided across multiple lines "
     ]
    }
   ],
   "source": [
    "String text = \"   Hello World   \";\n",
    "// Strip is Unicode whitespace character aware (trim is not)\n",
    "System.out.println(text.strip());\n",
    "System.out.println(text.repeat(2));\n",
    "// Checks if String only has whitespaces\n",
    "System.out.println(text.isBlank());\n",
    "\n",
    "String multiLine = \"A big sentence\\ndivided across\\nmultiple lines\";\n",
    "// generates a stream of lines\n",
    "multiLine.lines().forEach(line -> System.out.print(line + \" \"));"
   ]
  },
  {
   "cell_type": "markdown",
   "metadata": {},
   "source": [
    "**Java 12**"
   ]
  },
  {
   "cell_type": "code",
   "execution_count": 19,
   "metadata": {
    "tags": []
   },
   "outputs": [
    {
     "name": "stdout",
     "output_type": "stream",
     "text": [
      "    Hello World\n",
      "\n",
      "dlroW olleH\n"
     ]
    }
   ],
   "source": [
    "String text = \"Hello World\";\n",
    "// Adds n spaces to the start\n",
    "System.out.println(text.indent(4));\n",
    "// Applies a function to String\n",
    "System.out.println(text.transform(str -> new StringBuilder(str).reverse().toString()).toString());"
   ]
  },
  {
   "cell_type": "code",
   "execution_count": null,
   "metadata": {},
   "outputs": [],
   "source": []
  }
 ],
 "metadata": {
  "kernelspec": {
   "display_name": "Java",
   "language": "java",
   "name": "java"
  },
  "language_info": {
   "codemirror_mode": "java",
   "file_extension": ".jshell",
   "mimetype": "text/x-java-source",
   "name": "Java",
   "pygments_lexer": "java",
   "version": "21.0.2+13-58"
  }
 },
 "nbformat": 4,
 "nbformat_minor": 4
}
