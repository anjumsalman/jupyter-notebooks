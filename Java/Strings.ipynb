{
 "cells": [
  {
   "cell_type": "markdown",
   "metadata": {},
   "source": [
    "### Overview\n",
    "Few things to note about Strings\n",
    "- Strings are immutable\n",
    "- Can be created either by using constructor or by just assigning string literal\n",
    "- Uses UTF-16 encoding.\n",
    "\n",
    "The third point is expanded here. To get the byte representation of a String,\n",
    "```java\n",
    "String word = \"Hello all!\";\n",
    "System.out.println(Arrays.toString(word.getBytes()));\n",
    "System.out.println(Arrays.toString(word.getBytes(Charset.forName( \"UTF-8\"))));\n",
    "```"
   ]
  },
  {
   "cell_type": "markdown",
   "metadata": {},
   "source": [
    "### String Pool\n",
    "Whenever we use string literals to create a string variable, these literals are stored in a part of JVM called String Pool.\n",
    "```java\n",
    "String a = \"Java\";    // Java added to String Pool\n",
    "String b = \"Java\";    // Java refers to the same string\n",
    "                      // present in String Pool\n",
    "\n",
    "String c = new String(\"Java\");    // new object created\n",
    "\n",
    "if(a == b)\n",
    "    System.out.println(\"a and b are same\");    // same\n",
    "else\n",
    "    System.out.println(\"a and b are diff\");\n",
    "\n",
    "if(a == c)\n",
    "    System.out.println(\"a and c are same\");\n",
    "else\n",
    "    System.out.println(\"a and c are diff\");    // diff\n",
    "\n",
    "if(a.equals(c))\n",
    "    System.out.println(\"a and c have same content\"); // same content\n",
    "else\n",
    "    System.out.println(\"a and c have diff content\");\n",
    "```"
   ]
  },
  {
   "cell_type": "markdown",
   "metadata": {},
   "source": [
    "### StringBuilder and StringBuffer\n",
    "Below is the String hierarchy to note\n",
    "```\n",
    "CharSequence(I)\n",
    "        +-- String(C)\n",
    "        +-- StringBuilder(C)\n",
    "        +-- StringBuffer(C)\n",
    "```\n",
    "\n",
    "StringBuilder and StringBuffer are two mutable classes equivalent to String. Both make use of methods such as `append()`, `insert()`, `delete()` etc to modify the contents.  \n",
    " \n",
    "StringBuffer is the thread-safe version of StringBuilder. If multiple threads need to access StringBuilder, it is better to use StringBuffer."
   ]
  }
 ],
 "metadata": {
  "kernelspec": {
   "display_name": "Java",
   "language": "java",
   "name": "java"
  },
  "language_info": {
   "codemirror_mode": "java",
   "file_extension": ".jshell",
   "mimetype": "text/x-java-source",
   "name": "Java",
   "pygments_lexer": "java",
   "version": "13+33"
  }
 },
 "nbformat": 4,
 "nbformat_minor": 4
}
