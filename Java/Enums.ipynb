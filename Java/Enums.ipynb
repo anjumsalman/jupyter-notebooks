{
 "cells": [
  {
   "cell_type": "markdown",
   "metadata": {},
   "source": [
    "## Enums\n",
    "Enums are constants that enables for a variable to be a set of predefined values. To define an enum:"
   ]
  },
  {
   "cell_type": "code",
   "execution_count": 1,
   "metadata": {
    "tags": []
   },
   "outputs": [],
   "source": [
    "public enum Days{\n",
    "    MONDAY, TUESDAY, WEDNESDAY, THURSDAY, FRIDAY, SATURDAY\n",
    "}"
   ]
  },
  {
   "cell_type": "markdown",
   "metadata": {},
   "source": [
    "Each enum type implicitly inherits from the `java.lang.Enum` class. The following methods are defined as `final` in `Enum`, therefore we cannot override these in an enum:\n",
    "- `compareTo()`\n",
    "- `equals()`\n",
    "- `hashCode()`\n",
    "- `name()`\n",
    "- `ordinal()`\n",
    "\n",
    "We can create complex Enum like below:"
   ]
  },
  {
   "cell_type": "code",
   "execution_count": 2,
   "metadata": {},
   "outputs": [],
   "source": [
    "public enum Planet{\n",
    "    MERCURY(3.3e23, 2.5e6),\n",
    "    VENUS(4.8e24, 6.05e6),\n",
    "    EARTH(5.97e24, 6.5e6),\n",
    "    MARS(6.4e23, 3.4e6); // Notice semicolon. Required when we have member variables\n",
    "    \n",
    "    private double mass, radius;\n",
    "    \n",
    "    // Enum constructors are private by default\n",
    "    Planet(double mass, double radius){\n",
    "        this.mass = mass;\n",
    "        this.radius = radius;\n",
    "    }\n",
    "    \n",
    "    public double gravity(){\n",
    "        return (this.mass * 6.67e-11)/(radius * radius);\n",
    "    }\n",
    "}"
   ]
  },
  {
   "cell_type": "markdown",
   "metadata": {},
   "source": [
    "## Usage\n",
    "Consider the enum below"
   ]
  },
  {
   "cell_type": "code",
   "execution_count": 7,
   "metadata": {},
   "outputs": [],
   "source": [
    "public enum Color{\n",
    "    RED, GREEN, BLUE, ORANGE, WHITE, BLACK, TEAL\n",
    "}"
   ]
  },
  {
   "cell_type": "markdown",
   "metadata": {},
   "source": [
    "To access an enum"
   ]
  },
  {
   "cell_type": "code",
   "execution_count": null,
   "metadata": {},
   "outputs": [],
   "source": [
    "Color RED = Color.RED;\n",
    "// Or\n",
    "Color BLUE = Color.valueOf(\"BLUE\");"
   ]
  },
  {
   "cell_type": "markdown",
   "metadata": {},
   "source": [
    "There is also a helpful `values()` method"
   ]
  },
  {
   "cell_type": "code",
   "execution_count": 9,
   "metadata": {},
   "outputs": [
    {
     "name": "stdout",
     "output_type": "stream",
     "text": [
      "Name: RED\t\tOrdinal: 0\n",
      "Name: GREEN\t\tOrdinal: 1\n",
      "Name: BLUE\t\tOrdinal: 2\n",
      "Name: ORANGE\t\tOrdinal: 3\n",
      "Name: WHITE\t\tOrdinal: 4\n",
      "Name: BLACK\t\tOrdinal: 5\n",
      "Name: TEAL\t\tOrdinal: 6\n"
     ]
    }
   ],
   "source": [
    "for(Color c: Color.values()){\n",
    "    System.out.print(\"Name: \" + c.name());\n",
    "    System.out.println(\"\\t\\tOrdinal: \" + c.ordinal());\n",
    "}"
   ]
  },
  {
   "cell_type": "markdown",
   "metadata": {},
   "source": [
    "Enums can also be used along with switch case"
   ]
  },
  {
   "cell_type": "code",
   "execution_count": null,
   "metadata": {},
   "outputs": [],
   "source": [
    "Planet p = Planet.MARS;\n",
    "\n",
    "switch(p) {\n",
    "    case MERCURY:\n",
    "        System.out.print(\"Too close to sun\");\n",
    "        break;\n",
    "    case VENUS:\n",
    "        System.out.print(\"Too hot\");\n",
    "        break;\n",
    "    case EARTH:\n",
    "        System.out.print(\"About right\");\n",
    "        break;\n",
    "    case MARS:\n",
    "        System.out.print(\"Too red\");\n",
    "        break;\n",
    "    default:\n",
    "        System.out.print(\"Nowhere\");\n",
    "}"
   ]
  },
  {
   "cell_type": "markdown",
   "metadata": {},
   "source": [
    "Enums also implement `Comparable` interface, enums are ordered as per their ordinal:"
   ]
  },
  {
   "cell_type": "code",
   "execution_count": 2,
   "metadata": {
    "tags": []
   },
   "outputs": [
    {
     "data": {
      "text/plain": [
       "1"
      ]
     },
     "execution_count": 2,
     "metadata": {},
     "output_type": "execute_result"
    }
   ],
   "source": [
    "Days.TUESDAY.compareTo(Days.MONDAY);"
   ]
  },
  {
   "cell_type": "markdown",
   "metadata": {},
   "source": [
    "## Abstract Methods\n",
    "Enums cannot be extended, however they can still have `abstract` methods. Those abstract methods must be implemented by individual instances:"
   ]
  },
  {
   "cell_type": "code",
   "execution_count": null,
   "metadata": {},
   "outputs": [],
   "source": [
    "public enum Colors {\n",
    "    RED {\n",
    "        @Override\n",
    "        public boolean isPrimary() {\n",
    "            return true;\n",
    "        }\n",
    "    }, \n",
    "    GREEN {\n",
    "        @Override\n",
    "        public boolean isPrimary() {\n",
    "            return true;\n",
    "        }\n",
    "    },\n",
    "    VIOLET {\n",
    "        @Override\n",
    "        public boolean isPrimary() {\n",
    "            return false;\n",
    "        }\n",
    "    };\n",
    "    \n",
    "    // Not the best example, but illustrates the point\n",
    "    public abstract boolean isPrimary();\n",
    "}"
   ]
  }
 ],
 "metadata": {
  "kernelspec": {
   "display_name": "Java",
   "language": "java",
   "name": "java"
  },
  "language_info": {
   "codemirror_mode": "java",
   "file_extension": ".jshell",
   "mimetype": "text/x-java-source",
   "name": "Java",
   "pygments_lexer": "java",
   "version": "21.0.2+13-58"
  }
 },
 "nbformat": 4,
 "nbformat_minor": 4
}
