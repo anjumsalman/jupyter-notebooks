{
 "cells": [
  {
   "cell_type": "markdown",
   "metadata": {},
   "source": [
    "### Creational Pattern\n",
    "- Singleton Pattern\n",
    "- Builder Pattern\n",
    "- Factory Method Pattern\n",
    "- Abstract Factory Pattern"
   ]
  },
  {
   "cell_type": "markdown",
   "metadata": {},
   "source": [
    "### Structural Pattern\n",
    "- Adapter Pattern\n",
    "- Bridge Pattern\n",
    "- Composite Pattern\n",
    "- Decorator Pattern\n",
    "- Facade Pattern\n",
    "- Flyweight Pattern\n",
    "- Proxy Pattern"
   ]
  },
  {
   "cell_type": "markdown",
   "metadata": {},
   "source": [
    "### Behavioural Pattern\n",
    "- Iterator Pattern\n",
    "- Command Pattern\n",
    "- Observer Pattern\n",
    "- Strategy Pattern\n",
    "- Visitor Pattern"
   ]
  }
 ],
 "metadata": {
  "kernelspec": {
   "display_name": "Java",
   "language": "java",
   "name": "java"
  },
  "language_info": {
   "codemirror_mode": "java",
   "file_extension": ".jshell",
   "mimetype": "text/x-java-source",
   "name": "Java",
   "pygments_lexer": "java",
   "version": "21.0.1+12-29"
  }
 },
 "nbformat": 4,
 "nbformat_minor": 4
}
