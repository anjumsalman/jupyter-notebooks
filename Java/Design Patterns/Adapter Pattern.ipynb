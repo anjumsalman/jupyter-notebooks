{
 "cells": [
  {
   "cell_type": "markdown",
   "metadata": {},
   "source": [
    "## Adapter Pattern\n",
    "The following image illustrates the need of Adapters:  \n",
    "\n",
    "![Adapter](images/fGxaY7n.png)"
   ]
  },
  {
   "cell_type": "markdown",
   "metadata": {},
   "source": [
    "## Implementation\n",
    "Consider the client code:"
   ]
  },
  {
   "cell_type": "code",
   "execution_count": null,
   "metadata": {},
   "outputs": [],
   "source": [
    "// We fit a RoundPeg into round hole\n",
    "class RoundHole {\n",
    "    private int radius;\n",
    "\n",
    "    public boolean fits(RoundPeg peg) {\n",
    "        if (this.radius == peg.getRadius()) {\n",
    "            return true;\n",
    "        }\n",
    "\n",
    "        return false;\n",
    "    }\n",
    "\n",
    "    public int getRadius() {\n",
    "        return radius;\n",
    "    }\n",
    "\n",
    "    public void setRadius(int radius) {\n",
    "        this.radius = radius;\n",
    "    }\n",
    "}\n",
    "\n",
    "class RoundPeg{\n",
    "    private int radius;\n",
    "\n",
    "    public int getRadius() {\n",
    "        return radius;\n",
    "    }\n",
    "\n",
    "    public void setRadius(int radius) {\n",
    "        this.radius = radius;\n",
    "    }\n",
    "}"
   ]
  },
  {
   "cell_type": "markdown",
   "metadata": {},
   "source": [
    "However, the vendor supplies a `SquarePeg`. A squarepeg is incompatible with `RoundHole`."
   ]
  },
  {
   "cell_type": "code",
   "execution_count": null,
   "metadata": {},
   "outputs": [],
   "source": [
    "class SquarePeg {\n",
    "    private int width;\n",
    "\n",
    "    public int getWidth() {\n",
    "        return width;\n",
    "    }\n",
    "\n",
    "    public void setWidth(int width) {\n",
    "        this.width = width;\n",
    "    }\n",
    "}"
   ]
  },
  {
   "cell_type": "markdown",
   "metadata": {},
   "source": [
    "So we create a `SquarePegAdapter` which extends `RoundPeg`. Adaptor class extends the old class while containing instance of new class."
   ]
  },
  {
   "cell_type": "code",
   "execution_count": null,
   "metadata": {},
   "outputs": [],
   "source": [
    "class SquarePegAdapter extends RoundPeg {\n",
    "    private SquarePeg peg;\n",
    "\n",
    "    public SquarePeg getPeg() {\n",
    "        return peg;\n",
    "    }\n",
    "\n",
    "    public void setPeg(SquarePeg peg) {\n",
    "        this.peg = peg;\n",
    "    }\n",
    "\n",
    "    @Override\n",
    "    public int getRadius() {\n",
    "        // Return minimum radius circle that can fit this square\n",
    "        return (int) (Math.sqrt(Math.pow((peg.getWidth() / 2), 2) * 2));\n",
    "    }\n",
    "}"
   ]
  },
  {
   "cell_type": "markdown",
   "metadata": {},
   "source": [
    "## Example\n",
    "Consider `Iterator` and `Enumeration`. Older Java used `Enumeration`. Iterators offer the following advantage:\n",
    "- Iterators allow the caller to remove elements from the underlying collection during the iteration with well-defined semantics.\n",
    "- Method names have been improved. `hasMoreElements`→`hasNext`, `nextElement`→`next`\n",
    "\n",
    "Suppose the client code makes use of iterators whereas vendor code makes use of Enumerations. We can create an Adapter EnumerationAdapter"
   ]
  },
  {
   "cell_type": "code",
   "execution_count": null,
   "metadata": {},
   "outputs": [],
   "source": [
    "public class EnumerationAdaptor<E> implements Iterator<E> {\n",
    "    private Enumeration<E> enumeration;\n",
    "\n",
    "    @Override\n",
    "    public boolean hasNext() {\n",
    "        return enumeration.hasMoreElements();\n",
    "    }\n",
    "\n",
    "    @Override\n",
    "    public E next() {\n",
    "        return enumeration.nextElement();\n",
    "    }\n",
    "\n",
    "    @Override\n",
    "    public void remove() {\n",
    "        throw new UnsupportedOperationException(\"Not supported\");\n",
    "    }\n",
    "\n",
    "    public Enumeration<E> getEnumeration() {\n",
    "        return enumeration;\n",
    "    }\n",
    "\n",
    "    public void setEnumeration(Enumeration<E> enumeration) {\n",
    "        this.enumeration = enumeration;\n",
    "    }\n",
    "}"
   ]
  }
 ],
 "metadata": {
  "kernelspec": {
   "display_name": "Java",
   "language": "java",
   "name": "java"
  },
  "language_info": {
   "codemirror_mode": "java",
   "file_extension": ".jshell",
   "mimetype": "text/x-java-source",
   "name": "Java",
   "pygments_lexer": "java",
   "version": "21.0.1+12-29"
  }
 },
 "nbformat": 4,
 "nbformat_minor": 4
}
