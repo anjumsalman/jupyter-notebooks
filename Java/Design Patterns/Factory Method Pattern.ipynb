{
 "cells": [
  {
   "cell_type": "markdown",
   "metadata": {},
   "source": [
    "### Factory Method Pattern\n",
    "Consider the following classes:"
   ]
  },
  {
   "cell_type": "code",
   "execution_count": null,
   "metadata": {},
   "outputs": [],
   "source": [
    "public abstract class Shape{\n",
    "    \n",
    "}\n",
    "\n",
    "class Circle extends Shape{\n",
    "    // Implementation\n",
    "}\n",
    "\n",
    "class Square extends Shape{\n",
    "    // Implementation\n",
    "}\n",
    "\n",
    "class Rectangle extends Shape{\n",
    "    // Implementation\n",
    "}"
   ]
  },
  {
   "cell_type": "markdown",
   "metadata": {},
   "source": [
    "We would often have scenarios where we would want to create different types of shapes. We employ a programming idiom called factory."
   ]
  },
  {
   "cell_type": "code",
   "execution_count": null,
   "metadata": {},
   "outputs": [],
   "source": [
    "public class ShapeFactory{\n",
    "    public Shape getShape(String type) {\n",
    "        if (type.equalsIgnoreCase(\"circle\")) {\n",
    "            return new Circle();\n",
    "        } else if (type.equalsIgnoreCase(\"square\")) {\n",
    "            return new Square();\n",
    "        } else if (type.equalsIgnoreCase(\"rectangle\")) {\n",
    "            return new Rectangle();\n",
    "        } else {\n",
    "            throw new IllegalArgumentException();\n",
    "        }\n",
    "    }\n",
    "}"
   ]
  },
  {
   "cell_type": "markdown",
   "metadata": {},
   "source": [
    "The advantage is that if we have had multiple places in code where this shape creation logic was being repeated, we have consolidated all into one factory method. The `getShape` method could also have been `static`. But what if we wanted to create a new `ComplexShapeFactory` class which extends `ShapeFactory` to override the getShape method. That would not have been possible."
   ]
  },
  {
   "cell_type": "markdown",
   "metadata": {},
   "source": [
    "The factory method pattern builds upon the above concept. The Factory Method Pattern defines an interface for creating an object (*Creator*), but lets subclasses decide which class (*Product*) to instantiate. Factory Method lets a class defer instantiation to subclasses. Factory Method Pattern decouples implementation of a product from its use.\n",
    "\n",
    "<img src=\"images/creator_product.png\" width=\"700px\" height=\"auto\">"
   ]
  },
  {
   "cell_type": "markdown",
   "metadata": {},
   "source": [
    "### Class Diagram\n",
    "<img src=\"images/factory_method_diagram.png\" width=\"700px\" height=\"auto\">"
   ]
  },
  {
   "cell_type": "markdown",
   "metadata": {},
   "source": [
    "### Implementation\n",
    "**Products**"
   ]
  },
  {
   "cell_type": "code",
   "execution_count": null,
   "metadata": {},
   "outputs": [],
   "source": [
    "public abstract class Shape{\n",
    "    public abstract draw();\n",
    "}\n",
    "\n",
    "class Circle extends Shape{\n",
    "    // Implementation\n",
    "}\n",
    "\n",
    "class Square extends Shape{\n",
    "    // Implementation\n",
    "}\n",
    "\n",
    "class Rectangle extends Shape{\n",
    "    // Implementation\n",
    "}\n",
    "\n",
    "class Ellipse extends Shape{\n",
    "    // Implementation\n",
    "}"
   ]
  },
  {
   "cell_type": "markdown",
   "metadata": {},
   "source": [
    "**Creator:**"
   ]
  },
  {
   "cell_type": "code",
   "execution_count": null,
   "metadata": {},
   "outputs": [],
   "source": [
    "public abstract ShapeRender{\n",
    "    public void render(String type){\n",
    "        Shape s = getShape(type);\n",
    "            \n",
    "        // Draw the shape\n",
    "        shape.draw();\n",
    "    }\n",
    "    \n",
    "    public abstract Shape getShape(String type);\n",
    "}"
   ]
  },
  {
   "cell_type": "markdown",
   "metadata": {},
   "source": [
    "**Concrete creator:**"
   ]
  },
  {
   "cell_type": "code",
   "execution_count": null,
   "metadata": {},
   "outputs": [],
   "source": [
    "public EllipseRender extends ShapeRender{\n",
    "    public void render(String type){\n",
    "        Shape s = getShape(type);\n",
    "            \n",
    "        // Draw the shape\n",
    "        shape.draw();\n",
    "    }\n",
    "    \n",
    "    public Shape getShape(String type){\n",
    "        if (type.equalsIgnoreCase(\"circle\")) {\n",
    "            return new Circle();\n",
    "        } else if (type.equalsIgnoreCase(\"ellipse\")) {\n",
    "            return new Ellipse();\n",
    "        } else {\n",
    "            throw new IllegalArgumentException();\n",
    "        }\n",
    "    }\n",
    "}\n",
    "\n",
    "public PolygonRender extends ShapeRender{\n",
    "    public void render(String type){\n",
    "        Shape s = getShape(type);\n",
    "            \n",
    "        // Draw the shape\n",
    "        shape.draw();\n",
    "    }\n",
    "    \n",
    "    public Shape getShape(String type){\n",
    "        if (type.equalsIgnoreCase(\"square\")) {\n",
    "            return new Square();\n",
    "        } else if (type.equalsIgnoreCase(\"rectangle\")) {\n",
    "            return new Rectangle();\n",
    "        } else {\n",
    "            throw new IllegalArgumentException();\n",
    "        }\n",
    "    }\n",
    "}"
   ]
  }
 ],
 "metadata": {
  "kernelspec": {
   "display_name": "Java",
   "language": "java",
   "name": "java"
  },
  "language_info": {
   "codemirror_mode": "java",
   "file_extension": ".jshell",
   "mimetype": "text/x-java-source",
   "name": "Java",
   "pygments_lexer": "java",
   "version": "17.0.5+9-LTS-191"
  }
 },
 "nbformat": 4,
 "nbformat_minor": 4
}
