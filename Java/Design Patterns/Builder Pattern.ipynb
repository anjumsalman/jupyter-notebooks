{
 "cells": [
  {
   "cell_type": "markdown",
   "metadata": {},
   "source": [
    "## Builder Pattern\n",
    "Allows objects to be created in multistep and varying process. It encapsulates the way a complex object is constructed. Certain classes have many instance variables which can have to be specified to construct its instance. One possible approach is to use multiple constructors"
   ]
  },
  {
   "cell_type": "code",
   "execution_count": null,
   "metadata": {},
   "outputs": [],
   "source": [
    "public class Recipe {\n",
    "    // Required\n",
    "    private String recipeName;\n",
    "    private Character difficulty;\n",
    "\n",
    "    // Optional\n",
    "    private List<String> vegetables;\n",
    "    private List<String> meat;\n",
    "    private List<String> spices;\n",
    "    private List<String> others;\n",
    "    private int calories;\n",
    "\n",
    "    // Telescoping constructors\n",
    "    public Recipe(String recipeName, Character difficulty) {\n",
    "        this.recipeName = recipeName;\n",
    "        this.difficulty = difficulty;\n",
    "    }\n",
    "\n",
    "    public Recipe(String recipeName, Character difficulty, List<String> vegetables) {\n",
    "        this.recipeName = recipeName;\n",
    "        this.difficulty = difficulty;\n",
    "        this.vegetables = vegetables;\n",
    "    }\n",
    "\n",
    "    public Recipe(String recipeName, Character difficulty, List<String> vegetables, List<String> meat) {\n",
    "        this.recipeName = recipeName;\n",
    "        this.difficulty = difficulty;\n",
    "        this.vegetables = vegetables;\n",
    "        this.meat = meat;\n",
    "    }\n",
    "    \n",
    "    // More constructors...\n",
    "}\n"
   ]
  },
  {
   "cell_type": "markdown",
   "metadata": {},
   "source": [
    "Telescoping constructor pattern isn't particularly helpful - it requires a lot of effort and it is difficult to remember all the different constructors. So another possible solution is Java Beans style: use setters."
   ]
  },
  {
   "cell_type": "code",
   "execution_count": null,
   "metadata": {},
   "outputs": [],
   "source": [
    "public class Recipe {\n",
    "    private String recipeName;\n",
    "    private Character difficulty;\n",
    "\n",
    "    private List<String> vegetables;\n",
    "    private List<String> meat;\n",
    "    private List<String> spices;\n",
    "    private List<String> others;\n",
    "    private int calories;\n",
    "\n",
    "    public Recipe(String recipeName, Character difficulty) {\n",
    "        this.recipeName = recipeName;\n",
    "        this.difficulty = difficulty;\n",
    "    }\n",
    "\n",
    "    public void setVegetables(List<String> vegetables) {\n",
    "        this.vegetables = vegetables;\n",
    "    }\n",
    "\n",
    "    public void setMeat(List<String> meat) {\n",
    "        this.meat = meat;\n",
    "    }\n",
    "\n",
    "    public void setSpices(List<String> spices) {\n",
    "        this.spices = spices;\n",
    "    }\n",
    "    \n",
    "    // More setters...\n",
    "}"
   ]
  },
  {
   "cell_type": "markdown",
   "metadata": {},
   "source": [
    "JavaBeans pattern has serious disadvantages of its own. Because construction is split across multiple calls, a JavaBean may be in an\n",
    "inconsistent state partway through its construction. Also, we can't create an Immutable object in this manner.  \n",
    "\n",
    "This is where Builder pattern comes into play."
   ]
  },
  {
   "cell_type": "markdown",
   "metadata": {},
   "source": [
    "## Implementation"
   ]
  },
  {
   "cell_type": "code",
   "execution_count": null,
   "metadata": {},
   "outputs": [],
   "source": [
    "public class Recipe {\n",
    "    private String recipeName;\n",
    "    private Character difficulty;\n",
    "\n",
    "    private List<String> vegetables;\n",
    "    private List<String> meat;\n",
    "    private List<String> spices;\n",
    "    private List<String> others;\n",
    "    private int calories;\n",
    "\n",
    "    // Contains same instance variables\n",
    "    public static class Builder {\n",
    "        private String recipeName;\n",
    "        private Character difficulty;\n",
    "\n",
    "        private List<String> vegetables;\n",
    "        private List<String> meat;\n",
    "        private List<String> spices;\n",
    "        private List<String> others;\n",
    "        private int calories;\n",
    "\n",
    "        public Builder(String recipeName, Character difficulty) {\n",
    "            this.recipeName = recipeName;\n",
    "            this.difficulty = difficulty;\n",
    "        }\n",
    "\n",
    "        public Builder vegetables(List<String> vegetables) {\n",
    "            this.vegetables = vegetables;\n",
    "            return this;\n",
    "        }\n",
    "\n",
    "        public Builder meat(List<String> meat) {\n",
    "            this.meat = meat;\n",
    "            return this;\n",
    "        }\n",
    "\n",
    "        public Builder spices(List<String> spices) {\n",
    "            this.spices = spices;\n",
    "            return this;\n",
    "        }\n",
    "\n",
    "        public Builder others(List<String> other) {\n",
    "            this.others = others;\n",
    "            return this;\n",
    "        }\n",
    "\n",
    "        public Builder calories(int calories) {\n",
    "            this.calories = calories;\n",
    "            return this;\n",
    "        }\n",
    "\n",
    "        public Recipe build() {\n",
    "            return new Recipe(this);\n",
    "        }\n",
    "\n",
    "    }\n",
    "\n",
    "    // Private constructor to ensure that the only way to build\n",
    "    // an instance of Recipe is throught the Builder object\n",
    "    private Recipe(Builder builder) {\n",
    "        this.recipeName = builder.recipeName;\n",
    "        this.difficulty = builder.difficulty;\n",
    "        this.vegetables = builder.vegetables;\n",
    "        this.meat = builder.meat;\n",
    "        this.spices = builder.spices;\n",
    "        this.others = builder.others;\n",
    "        this.calories = builder.calories;\n",
    "    }\n",
    "}"
   ]
  },
  {
   "cell_type": "code",
   "execution_count": null,
   "metadata": {},
   "outputs": [],
   "source": [
    "ArrayList<String> meat = new ArrayList<String>();\n",
    "meat.add(\"Chicken\");\n",
    "meat.add(\"Lamb\");\n",
    "\n",
    "Recipe recipe = new Recipe.Builder(\"Pizza\", 'H').meat(meat).calories(4500).build();"
   ]
  },
  {
   "cell_type": "markdown",
   "metadata": {},
   "source": [
    "## Validations\n",
    "Object parameters often have a valid range associated. For example, in the above Recipe class, difficulty shouldn't be negative. To prevent this we must validate these parameters. We have two choices:\n",
    "- Inside the setters of Builder class: this follows fail early principle\n",
    "- Inside the build method: sometimes the validation can be more complex involving multiple attributes. In this case it is better to fail in the build method.\n",
    "\n",
    "Another option is to do validation inside the constructor of the main class. The advantage here is that we can reuse the validation logic present in the main class setters."
   ]
  },
  {
   "cell_type": "code",
   "execution_count": null,
   "metadata": {},
   "outputs": [],
   "source": []
  }
 ],
 "metadata": {
  "kernelspec": {
   "display_name": "Java",
   "language": "java",
   "name": "java"
  },
  "language_info": {
   "codemirror_mode": "java",
   "file_extension": ".jshell",
   "mimetype": "text/x-java-source",
   "name": "Java",
   "pygments_lexer": "java",
   "version": "21.0.1+12-29"
  }
 },
 "nbformat": 4,
 "nbformat_minor": 4
}
