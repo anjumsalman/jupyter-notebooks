{
 "cells": [
  {
   "cell_type": "markdown",
   "metadata": {},
   "source": [
    "### The Observer Pattern\n",
    "The observer pattern is essentially a **Publisher** + **Subscriber** system. Publishers are also known as **Subject** and Subscribers are known as **Observers**.  \n",
    "\n",
    "![Observer Pattern In Action](https://i.imgur.com/71tLE8e.jpg)  \n",
    "\n",
    "The Observer Pattern defines a one-to-many dependency between objects so that when one object changes state, all of its dependents are notified and updated automatically.  \n",
    "\n",
    "![Observer Pattern Relationship](https://i.imgur.com/3PtE8l0.jpg)  \n",
    "\n"
   ]
  },
  {
   "cell_type": "markdown",
   "metadata": {},
   "source": [
    "### Class Diagram\n",
    "![Class Structure](https://i.imgur.com/z2f4DhT.jpg)  \n",
    "\n",
    "The Subject and Observer classes are loosely coupled, they interact but have very little knowledge of each other."
   ]
  },
  {
   "cell_type": "markdown",
   "metadata": {},
   "source": [
    "### Implementation"
   ]
  },
  {
   "cell_type": "code",
   "execution_count": 2,
   "metadata": {},
   "outputs": [],
   "source": [
    "public interface Observer{\n",
    "    // The argument of the Observer depend upon what\n",
    "    // data is emitted by the Subject\n",
    "    public void update(float p, float t, float v);\n",
    "}"
   ]
  },
  {
   "cell_type": "code",
   "execution_count": 3,
   "metadata": {},
   "outputs": [],
   "source": [
    "public interface Subject{\n",
    "    public void registerObserver(Observer o);\n",
    "    public void removeObserver(Observer o);\n",
    "    public void notifyObservers();\n",
    "}"
   ]
  },
  {
   "cell_type": "code",
   "execution_count": 4,
   "metadata": {},
   "outputs": [],
   "source": [
    "public class Sensor implements Subject{\n",
    "    private ArrayList<Observer> observers;\n",
    "    private float pressure, temperature, volume;\n",
    "    \n",
    "    public Sensor(){\n",
    "        observers = new ArrayList<>();\n",
    "    }\n",
    "    \n",
    "    public void registerObserver(Observer o){\n",
    "        this.observers.add(o);\n",
    "    }\n",
    "    \n",
    "    public void removeObserver(Observer o){\n",
    "        this.observers.remove(o);\n",
    "    }\n",
    "    \n",
    "    public void notifyObservers(){\n",
    "        for(Observer observer: this.observers){\n",
    "            observer.update(pressure, temperature, volume);\n",
    "        }\n",
    "    }\n",
    "    \n",
    "    public void measurementUpdated(){\n",
    "        notifyObservers();\n",
    "    }\n",
    "    \n",
    "    public void setMeasurement(float pressure, float temperature, float volume){\n",
    "        this.pressure = pressure;\n",
    "        this.temperature = temperature;\n",
    "        this.volume = volume;\n",
    "        \n",
    "        measurementUpdated();\n",
    "    }\n",
    "}"
   ]
  },
  {
   "cell_type": "code",
   "execution_count": 7,
   "metadata": {},
   "outputs": [],
   "source": [
    "public class DisplayDevice implements Observer{\n",
    "    private float pressure, temperature, volume;\n",
    "    // Hold reference to the subject in case you want to \n",
    "    // unsubscribe in the future\n",
    "    private Subject subject;\n",
    "    private float pressure, temperature, volume;\n",
    "    \n",
    "    public DisplayDevice(Subject subject){\n",
    "        this.subject = subject;\n",
    "        subject.registerObserver(this);\n",
    "    }\n",
    "    \n",
    "    public void update(float p, float t, float v){\n",
    "        this.pressure = p;\n",
    "        this.temperature = t;\n",
    "        this.volume = v;\n",
    "        \n",
    "        display();\n",
    "    }\n",
    "    \n",
    "    public void display(){\n",
    "        System.out.println(\"Pressure: \" + pressure + \" Temperature: \" + temperature + \" Volume: \" + volume);\n",
    "    }\n",
    "}"
   ]
  },
  {
   "cell_type": "markdown",
   "metadata": {},
   "source": [
    "### Inbuilt Support in Java\n",
    "Java has inbuilt support for Observer Pattern. The replacements for the above interfaces are:\n",
    "- `java.util.Observable` for Subject\n",
    "- `java.util.Observer` for Observer\n",
    "\n",
    "The Observable *class* has the following methods (not all listed):\n",
    "- addObserver(Observer o)\n",
    "- deleteObserver(Observer o)\n",
    "- notifyObservers()\n",
    "- setChanged()\n",
    "\n",
    "**Pull vs Push Pattern:** The above code example illustrated *Push* pattern where Subject pushed updates to Observers. We can also have a *pull* pattern where the Observer query Subject if there is any new update. The Java implementation supports both patterns.\n",
    "\n",
    "The observer interface has the following method:\n",
    "- update(Observable o, Object arg)"
   ]
  },
  {
   "cell_type": "code",
   "execution_count": 8,
   "metadata": {},
   "outputs": [],
   "source": [
    "public class Sensor extends Observable{\n",
    "    // Since Observable is a class, addObserver, deleteObserver, etc\n",
    "    // have already been implemented.\n",
    "\n",
    "    // For an Observable to send notifications:\n",
    "    // a) Call setChanged() to signal that new data has come\n",
    "    // b) Call any of the notifyObservers() or notifyObservers(Object arg)\n",
    "    //    first one calls update(this, null) other calls update(this, arg)\n",
    "\n",
    "    private float pressure, temperature, volume;\n",
    "\n",
    "    public void measurementUpdated(){\n",
    "        setChanged();\n",
    "        notifyObservers();\n",
    "    }\n",
    "    \n",
    "    public void setMeasurement(float pressure, float temperature, float volume){\n",
    "        this.pressure = pressure;\n",
    "        this.temperature = temperature;\n",
    "        this.volume = volume;\n",
    "        \n",
    "        measurementUpdated();\n",
    "    }\n",
    "}"
   ]
  },
  {
   "cell_type": "code",
   "execution_count": null,
   "metadata": {},
   "outputs": [],
   "source": [
    "public class DisplayDevice implements Observer{\n",
    "    private float pressure, temperature, volume;\n",
    "    // Hold reference to the subject in case you want to \n",
    "    // unsubscribe in the future\n",
    "    private Observable observable;\n",
    "    private float pressure, temperature, volume;\n",
    "    \n",
    "    public DisplayDevice(Observable observable){\n",
    "        this.observable = observable;\n",
    "        observable.addObserver(this);\n",
    "    }\n",
    "    \n",
    "    public void update(Observable o, Object arg){\n",
    "        if (o instanceof Sensor){\n",
    "            Sensor s = (Sensor) o;\n",
    "            this.pressure = o.getPressure();\n",
    "            this.temperature = o.getTemperature();\n",
    "            this.volume = o.getVolume();\n",
    "\n",
    "            display();\n",
    "        }\n",
    "    }\n",
    "    \n",
    "    public void display(){\n",
    "        System.out.println(\"Pressure: \" + pressure + \" Temperature: \" + temperature + \" Volume: \" + volume);\n",
    "    }\n",
    "}"
   ]
  }
 ],
 "metadata": {
  "kernelspec": {
   "display_name": "Java",
   "language": "java",
   "name": "java"
  },
  "language_info": {
   "codemirror_mode": "java",
   "file_extension": ".jshell",
   "mimetype": "text/x-java-source",
   "name": "Java",
   "pygments_lexer": "java",
   "version": "13+33"
  }
 },
 "nbformat": 4,
 "nbformat_minor": 4
}
