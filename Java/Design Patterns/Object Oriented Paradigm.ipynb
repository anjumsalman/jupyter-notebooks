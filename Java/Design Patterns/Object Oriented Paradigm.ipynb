{
 "cells": [
  {
   "cell_type": "markdown",
   "metadata": {},
   "source": [
    "### Object Oriented Programming\n",
    "Software development paradigm where the problem is modelled as objects which have attributes and behaviours and multiple such objects interact with each other. There are a number of principles which define an object oriented language."
   ]
  },
  {
   "cell_type": "markdown",
   "metadata": {},
   "source": [
    "### Encapsulation\n",
    "Binding properties and behaviours together in order to prevent unwanted outside modification to our data. Some programming languages provide strict encapsulation using access modifiers like `private`, `public`, etc. Whereas in others private entities are enforced only through convention (double underscore in Python).  \n",
    "The aim is to only expose what is needed for others to use it, and no more. This in turn makes it possible for the programmer to change the internal implementation (as long as the outside world interface remains the same) without breaking the code. Encapsulation and *abstraction* are  closely related. Encapsulation is more related to data hiding, whereas abstraction is related to implementation hiding."
   ]
  },
  {
   "cell_type": "markdown",
   "metadata": {},
   "source": [
    "### Polymorphism\n",
    "Allows values of different data types to be handled using a uniform interface. Types:\n",
    "- **Adhoc Polymorphism:** allows polymorphic functions to be applied to arguments of different types. *Method overloading* and *Operator Overloading* are both examples of adhoc polymorphism. The uniform interface in case of method overloading is the same function name. In case of operator overloading, it is the operator being used. *Method overriding* is also considered as adhoc polymorphsim.\n",
    "- **Parametric Polymorphism:** Using this a function or a data type can be written generically so that it can handle values identically without depending on their type. It differs from adhoc polymorphism because in case of adhoc polymorphism new implementations have to be provided for each new type. Whereas in parametric polymorphism the aim is that one implementation should support different types. *Generics* is an example of parametric polymorphism. \n",
    "- **Subtyping:** this comes into picture when inheritance is involved. Using a parent reference to child object is an example of subtyping.  \n",
    "\n",
    "**Static polymorphism:**  method implementation determined at compile time.  \n",
    "**Runtime polymorphism:**  mechanism by which a call to an overridden method is resolved at runtime."
   ]
  },
  {
   "cell_type": "code",
   "execution_count": 2,
   "metadata": {},
   "outputs": [],
   "source": [
    "class Parent{\n",
    "    public void sayHi(){\n",
    "        System.out.println(\"From parent\");\n",
    "    }\n",
    "}\n",
    "\n",
    "class Child extends Parent{\n",
    "    public void sayHi(){\n",
    "        System.out.println(\"From child\");\n",
    "    }\n",
    "}\n",
    "\n",
    "class Demo{\n",
    "    public static void main(String... args){\n",
    "        Parent ref = new Child();\n",
    "        ref.sayHi(); // Which version of hi to use is determined at runtime\n",
    "    }\n",
    "}"
   ]
  },
  {
   "cell_type": "markdown",
   "metadata": {},
   "source": [
    "### Inheritance\n"
   ]
  }
 ],
 "metadata": {
  "kernelspec": {
   "display_name": "Java",
   "language": "java",
   "name": "java"
  },
  "language_info": {
   "codemirror_mode": "java",
   "file_extension": ".jshell",
   "mimetype": "text/x-java-source",
   "name": "Java",
   "pygments_lexer": "java",
   "version": "13+33"
  }
 },
 "nbformat": 4,
 "nbformat_minor": 4
}
