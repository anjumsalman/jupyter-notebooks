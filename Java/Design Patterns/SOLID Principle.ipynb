{
 "cells": [
  {
   "cell_type": "markdown",
   "metadata": {},
   "source": [
    "### Single Responsibility\n",
    "A class should only have one responsibility. Consider a Book class"
   ]
  },
  {
   "cell_type": "code",
   "execution_count": null,
   "metadata": {},
   "outputs": [],
   "source": [
    "public class Book {\n",
    "\n",
    "    private String name;\n",
    "    private String author;\n",
    "    private String text;\n",
    "\n",
    "    //constructor, getters and setters\n",
    "}"
   ]
  },
  {
   "cell_type": "markdown",
   "metadata": {},
   "source": [
    "We can have methods which are directly related to the properties. However introducing a method not directly related to property is violation of the Single Responsibility principle."
   ]
  },
  {
   "cell_type": "code",
   "execution_count": null,
   "metadata": {},
   "outputs": [],
   "source": [
    "public class Book {\n",
    "    //...\n",
    "\n",
    "    void saveBookToDatabase(){\n",
    "        // save current book to database\n",
    "    }\n",
    "}"
   ]
  },
  {
   "cell_type": "markdown",
   "metadata": {},
   "source": [
    "The solution is to separate the functionality into a different class"
   ]
  },
  {
   "cell_type": "code",
   "execution_count": null,
   "metadata": {},
   "outputs": [],
   "source": [
    "public class BookRepository{\n",
    "    public void saveBook(Book book){\n",
    "        // Implementation\n",
    "    }\n",
    "}"
   ]
  },
  {
   "cell_type": "markdown",
   "metadata": {},
   "source": [
    "### Open to Extension, Closed for Modification\n",
    "The idea is to maintain class stability. It is better to extend a given class than to add functinality to the existing class. For example, consider the class below:"
   ]
  },
  {
   "cell_type": "code",
   "execution_count": null,
   "metadata": {},
   "outputs": [],
   "source": [
    "public class Payment{\n",
    "    public void payWithCard(){\n",
    "        // Implementation\n",
    "    }\n",
    "    \n",
    "    public void payWithPaypal(){\n",
    "        // Implementation\n",
    "    }\n",
    "}"
   ]
  },
  {
   "cell_type": "markdown",
   "metadata": {},
   "source": [
    "Now if we want to add another payment method such as cash or COD, we maybe tempted to add extra methods to the existing Payment class. However this is violation of above principle"
   ]
  },
  {
   "cell_type": "code",
   "execution_count": null,
   "metadata": {},
   "outputs": [],
   "source": [
    "public class Payment{\n",
    "    public void payWithCard(Float amount){\n",
    "        // Implementation\n",
    "    }\n",
    "    \n",
    "    public void payWithPaypal(Float amount){\n",
    "        // Implementation\n",
    "    }\n",
    "    \n",
    "    public void payWithCash(Float amount){\n",
    "        // Implementation\n",
    "    }\n",
    "    \n",
    "    public void payOnDelivery(Float amount){\n",
    "        // Implementation\n",
    "    }\n",
    "}"
   ]
  },
  {
   "cell_type": "markdown",
   "metadata": {},
   "source": [
    "The solution is to employ factory method."
   ]
  },
  {
   "cell_type": "code",
   "execution_count": null,
   "metadata": {},
   "outputs": [],
   "source": [
    "public interface Payment{\n",
    "    public void pay(Float amount);\n",
    "}\n",
    "\n",
    "public CardPayment implements Payment{\n",
    "    public void pay(Float amount){\n",
    "        // Implementation\n",
    "    }\n",
    "}\n",
    "\n",
    "// ... other payment classes"
   ]
  },
  {
   "cell_type": "markdown",
   "metadata": {},
   "source": [
    "### Liskov Substitution\n",
    "If class *A* is a subtype of class *B*, then we should be able to replace *B* with *A* without disrupting the behavior of our program. Suppose we have a Duck class"
   ]
  },
  {
   "cell_type": "code",
   "execution_count": null,
   "metadata": {},
   "outputs": [],
   "source": [
    "public abstract class Duck{\n",
    "    public abstract void quack();\n",
    "    \n",
    "    public abstract void fly();\n",
    "\n",
    "}\n",
    "\n",
    "public class RubberDuck extends Duck{\n",
    "    public void quack(){\n",
    "        Person p = new Person();\n",
    "        if(p.canSqueeze(this)){\n",
    "            System.out.println(\"Quack!\");\n",
    "        } else {\n",
    "            throw new RuntimeException(\"Can't quack on its own\");\n",
    "        }\n",
    "    }\n",
    "    \n",
    "    public void fly(){\n",
    "        throw new RuntimeException(\"Can't fly\");\n",
    "    }\n",
    "\n",
    "}"
   ]
  },
  {
   "cell_type": "markdown",
   "metadata": {},
   "source": [
    "The Rubber duck class violates the Liskov substitution principle because a rubber duck doesn't respond correctly to the fly method defined by the Duck class. In essense, Rubber duck is not really a duck. The solution is to code by contract rather than extending."
   ]
  },
  {
   "cell_type": "code",
   "execution_count": null,
   "metadata": {},
   "outputs": [],
   "source": [
    "public interface Quackable{\n",
    "    public void quack();\n",
    "}\n",
    "\n",
    "public interface Flyable{\n",
    "    public void fly();\n",
    "}\n",
    "\n",
    "public class RubberDuck implements Quackable{\n",
    "    public void quack(){\n",
    "        Person p = new Person();\n",
    "        if(p.canSqueeze(this)){\n",
    "            System.out.println(\"Quack!\");\n",
    "        } else {\n",
    "            throw new RuntimeException(\"Can't quack on its own\");\n",
    "        }\n",
    "    }\n",
    "}"
   ]
  },
  {
   "cell_type": "markdown",
   "metadata": {},
   "source": [
    "### Interface Segregation\n",
    "The Interface Segregation Principle states that you should never force the client to depend on methods it doesn’t use. In short, break big interfaces into smaller logical ones. So instead of one big interface given below:"
   ]
  },
  {
   "cell_type": "code",
   "execution_count": null,
   "metadata": {},
   "outputs": [],
   "source": [
    "public interface Operations<T>{\n",
    "    public T add(T a, T b);\n",
    "    \n",
    "    public T subtract(T a, T b);\n",
    "    \n",
    "    public T multiply(T a, T b);\n",
    "    \n",
    "    public T divide(T a, T b);\n",
    "}"
   ]
  },
  {
   "cell_type": "markdown",
   "metadata": {},
   "source": [
    "Divide it into smaller interfaces, such that a class which wants to implement those functionalities can pick and choose."
   ]
  },
  {
   "cell_type": "code",
   "execution_count": null,
   "metadata": {},
   "outputs": [],
   "source": [
    "public interface Add<T>{\n",
    "    public T add(T a, T b);\n",
    "}\n",
    "\n",
    "public interface Subtract<T>{\n",
    "    public T subtract(T a, T b);\n",
    "}\n",
    "\n",
    "public interface Multiply<T>{\n",
    "    public T multiply(T a, T b);\n",
    "}\n",
    "    \n",
    "public interface Divide<T>{\n",
    "    public T divide(T a, T b);\n",
    "}"
   ]
  },
  {
   "cell_type": "markdown",
   "metadata": {},
   "source": [
    "### Dependency Injection"
   ]
  },
  {
   "cell_type": "code",
   "execution_count": null,
   "metadata": {},
   "outputs": [],
   "source": []
  }
 ],
 "metadata": {
  "kernelspec": {
   "display_name": "Java",
   "language": "java",
   "name": "java"
  },
  "language_info": {
   "codemirror_mode": "java",
   "file_extension": ".jshell",
   "mimetype": "text/x-java-source",
   "name": "Java",
   "pygments_lexer": "java",
   "version": "13+33"
  }
 },
 "nbformat": 4,
 "nbformat_minor": 4
}
