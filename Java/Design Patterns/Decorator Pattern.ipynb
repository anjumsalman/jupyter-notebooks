{
 "cells": [
  {
   "cell_type": "markdown",
   "id": "6eebf4c9-80f5-4d03-9b4d-74948c7fcebe",
   "metadata": {},
   "source": [
    "### The Decorator Pattern\n",
    "Provides an alternative to subclassing for extending behavior. The Decorator Pattern involves a set of decorator classes that are used to wrap concrete components. It allows us to extend the beahviour without the need to modify existing code. For example, consider the following:"
   ]
  },
  {
   "cell_type": "code",
   "execution_count": null,
   "id": "8a067669-f9b1-4328-9deb-83631ec80bb5",
   "metadata": {},
   "outputs": [],
   "source": [
    "// We have an abstract client component\n",
    "abstract class Client {\n",
    "    String domain;\n",
    "    \n",
    "    public abstract Response execute(String path);\n",
    "}\n",
    "\n",
    "// And we have several implementations like\n",
    "class GithubClient extends Client {\n",
    "    // ...\n",
    "}"
   ]
  },
  {
   "cell_type": "markdown",
   "id": "db48c2fb-9853-4e5e-8281-43344b08710b",
   "metadata": {},
   "source": [
    "What if want to add new functionality to the clients such as ability to retry, or circuit breaker or proxy? One way is to extend the concrete implementations and add the functionality:"
   ]
  },
  {
   "cell_type": "code",
   "execution_count": null,
   "id": "48358ac9-2f0c-4114-aa74-ab84a5728301",
   "metadata": {},
   "outputs": [],
   "source": [
    "class GithubClientWithCircuitBreaker extends GHithubClient { /* ... */ }\n",
    "class GithubClientWithCircuitBreakerAndRetry extends GHithubClient { /* ... */ }\n",
    "class GithubClientWithCircuitBreakerAndProxy extends GHithubClient { /* ... */ }\n",
    "class GithubClientWithProxyAndRetry extends GHithubClient { /* ... */ }"
   ]
  },
  {
   "cell_type": "markdown",
   "id": "2effbc5f-b96f-4dcc-982d-d178546863d7",
   "metadata": {},
   "source": [
    "As we can see this creates an explosion of subclasses making it a maintainance nightmare. Another approach could be bundle these different components with the abstract class:"
   ]
  },
  {
   "cell_type": "code",
   "execution_count": null,
   "id": "5fb50357-9f59-4a89-a4f6-492fe94cdc7a",
   "metadata": {
    "tags": []
   },
   "outputs": [],
   "source": [
    "abstract class Client {\n",
    "    String domain;\n",
    "    Retry retry;\n",
    "    Proxy proxy;\n",
    "    CircuitBreaker circuitbreaker;\n",
    "    \n",
    "    public abstract Response execute(String path);\n",
    "    \n",
    "    public void setRetry(Retry retry){this.retry = retry;}\n",
    "    public void setProxy(Proxy proxy){this.proxy = proxy;}\n",
    "    public void setCircuitbreaker(CircuitBreaker circuitbreaker){this.circuitbreaker = circuitbreaker;}\n",
    "    \n",
    "    public Retry getRetry(){return retry;}\n",
    "    public Proxy getProxy(){return proxy;}\n",
    "    public CircuitBreaker getCircuitbreaker(){return circuitbreaker;}\n",
    "}\n",
    "\n",
    "GatewayClient extends Client { /* ... */ }"
   ]
  },
  {
   "cell_type": "markdown",
   "id": "b4dbea78-f180-416e-9573-184f221b72a2",
   "metadata": {},
   "source": [
    "The problem is that clients extending `Client` would inherit all the components even though not all of those are not needed. For example, `GatewayClient` doesn't need circuit breaker, yet it has it bundled. Another problem arises when we want to add in another component for example cache. We'll have to modify the `Client` class. Decorator problem provides a way to solve these problems by adhering to **Open-Closed Principle** - Open for extension, Closed for Modification. Goal is to allow classes to be easily extended to\n",
    "incorporate new behavior without modifying existing code.\n",
    "\n",
    "Here is how we'll be implementing the decorator pattern:\n",
    "<img src=\"images/decorator.png\"  width=\"700px\" height=\"auto\">"
   ]
  },
  {
   "cell_type": "markdown",
   "id": "22abd760-ab97-44aa-9a39-a265d52230f5",
   "metadata": {
    "tags": []
   },
   "source": [
    "### Class Diagram\n",
    "<img src=\"images/decorator_diagram.png\"  width=\"700px\" height=\"auto\">"
   ]
  },
  {
   "cell_type": "markdown",
   "id": "b5481181-c30e-4776-824f-3bf5b159dc86",
   "metadata": {},
   "source": [
    "### Implementation"
   ]
  },
  {
   "cell_type": "code",
   "execution_count": null,
   "id": "384ad0dd-d00d-4320-8742-f4074c0cfc29",
   "metadata": {},
   "outputs": [],
   "source": [
    "// The Client and GithubClient classes would remain as originally defined\n",
    "abstract class Client {\n",
    "    String domain;\n",
    "    \n",
    "    public abstract Response execute(String path);\n",
    "}\n",
    "\n",
    "class GithubClient extends Client {\n",
    "    // ...\n",
    "}\n",
    "\n",
    "// Now we define our decorator classes\n",
    "abstract class ClientDecorator extends Client {\n",
    "    Client client;\n",
    "    \n",
    "    public abstract Response execute(String path);\n",
    "    \n",
    "    // Getter setter for client\n",
    "}\n",
    "\n",
    "class Retry extends ClientDecorator {\n",
    "    com.util.Retry retry;\n",
    "    \n",
    "    public Retry(Client client) {\n",
    "        setClient(client);\n",
    "    }\n",
    "    \n",
    "    public Response execute(String path) {\n",
    "        try {\n",
    "            // ...\n",
    "        } catch(Exception e) {\n",
    "            // Retry using the retry object\n",
    "        }\n",
    "    }\n",
    "}"
   ]
  },
  {
   "cell_type": "markdown",
   "id": "fd5ae033-bc7a-48da-9951-3607c092f8f8",
   "metadata": {},
   "source": [
    "### Usage\n",
    "Java's input and output stream classes utilize the decorator pattern. If we check `FilterInputStream`:"
   ]
  },
  {
   "cell_type": "code",
   "execution_count": null,
   "id": "58a9b50a-a37f-42fe-ac6d-d9c565d7a002",
   "metadata": {},
   "outputs": [],
   "source": [
    "// Decorator class\n",
    "public class FilterInputStream extends InputStream {\n",
    "    protected volatile InputStream in;\n",
    "\n",
    "    protected FilterInputStream(InputStream in) {\n",
    "        this.in = in;\n",
    "    }\n",
    "    \n",
    "    public int read() throws IOException {\n",
    "        return in.read();\n",
    "    }\n",
    "}\n",
    "\n",
    "// There are many classes that inherit FilterInputStream\n",
    "// - ZipInputStream\n",
    "// - BufferedInputStream\n",
    "// - PushbackInputStream"
   ]
  }
 ],
 "metadata": {
  "kernelspec": {
   "display_name": "Java",
   "language": "java",
   "name": "java"
  },
  "language_info": {
   "codemirror_mode": "java",
   "file_extension": ".jshell",
   "mimetype": "text/x-java-source",
   "name": "Java",
   "pygments_lexer": "java",
   "version": "17.0.5+9-LTS-191"
  }
 },
 "nbformat": 4,
 "nbformat_minor": 5
}
