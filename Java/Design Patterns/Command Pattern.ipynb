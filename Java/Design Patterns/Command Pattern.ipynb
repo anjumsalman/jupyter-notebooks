{
 "cells": [
  {
   "cell_type": "markdown",
   "metadata": {},
   "source": [
    "### Command Pattern\n",
    "Suppose we want to perform an action, as in example below:"
   ]
  },
  {
   "cell_type": "code",
   "execution_count": null,
   "metadata": {},
   "outputs": [],
   "source": [
    "public class Client{\n",
    "    public static void main(String[] args)    {\n",
    "        RemoteControl control = new RemoteControl();\n",
    "        \n",
    "        Light light = new Light();\n",
    "        \n",
    "        // Switch on the light\n",
    "        light.switchOn();\n",
    "        \n",
    "        // Switch off the light\n",
    "        light.switchOff();\n",
    "    }\n",
    "}"
   ]
  },
  {
   "cell_type": "markdown",
   "metadata": {},
   "source": [
    "Later a need may arise to\n",
    "- log the actions performed\n",
    "- store the actions to be performed and execute later\n",
    "- provide support for undoing actions\n",
    "\n",
    "In such scenario, we employ Command Pattern. The Command Pattern encapsulates a request as an object, thereby letting you parameterize other objects with different requests, queue or log requests, and support undoable operations. "
   ]
  },
  {
   "cell_type": "markdown",
   "metadata": {},
   "source": [
    "### Implementation\n",
    "**Command Interface:**"
   ]
  },
  {
   "cell_type": "code",
   "execution_count": null,
   "metadata": {},
   "outputs": [],
   "source": [
    "public interface Command{\n",
    "    public void execute();\n",
    "}"
   ]
  },
  {
   "cell_type": "markdown",
   "metadata": {},
   "source": [
    "**Concrete implementation:**"
   ]
  },
  {
   "cell_type": "code",
   "execution_count": null,
   "metadata": {},
   "outputs": [],
   "source": [
    "public class LightOnCommand implements Command{\n",
    "    // Light is Receiver\n",
    "    Light light;\n",
    "    \n",
    "    public LightOnCommand(Light light){\n",
    "        this.light = light;\n",
    "    }\n",
    "    \n",
    "    public void execute(){\n",
    "        light.switchOn();\n",
    "    }\n",
    "}\n",
    "\n",
    "public class LightOffCommand implements Command{\n",
    "    // Light is Receiver\n",
    "    Light light;\n",
    "    \n",
    "    public LightOffCommand(Light light){\n",
    "        this.light = light;\n",
    "    }\n",
    "    \n",
    "    public void execute(){\n",
    "        light.switchOff();\n",
    "    }\n",
    "}"
   ]
  },
  {
   "cell_type": "markdown",
   "metadata": {},
   "source": [
    "**Receiver:**"
   ]
  },
  {
   "cell_type": "code",
   "execution_count": null,
   "metadata": {},
   "outputs": [],
   "source": [
    "public class Light{\n",
    "    private boolean on;\n",
    "    \n",
    "    public void switchOn(){\n",
    "        on = true;\n",
    "    }\n",
    "    \n",
    "    public void switchOff(){\n",
    "        on = false;\n",
    "    }\n",
    "}"
   ]
  },
  {
   "cell_type": "markdown",
   "metadata": {},
   "source": [
    "**Invoker:** the purpose of Invoker is to act as a central place from where all the commands will be executed. It serves as command storage facility."
   ]
  },
  {
   "cell_type": "code",
   "execution_count": null,
   "metadata": {},
   "outputs": [],
   "source": [
    "public class RemoteControl{\n",
    "    private Command command;\n",
    "    \n",
    "    public void setCommand(Command command){\n",
    "        this.command = command;\n",
    "    }\n",
    "    \n",
    "    public void pressButton(){\n",
    "        command.execute();\n",
    "    }\n",
    "}"
   ]
  },
  {
   "cell_type": "markdown",
   "metadata": {},
   "source": [
    "**Client Code:**"
   ]
  },
  {
   "cell_type": "code",
   "execution_count": null,
   "metadata": {},
   "outputs": [],
   "source": [
    "public class Client{\n",
    "    public static void main(String[] args)    {\n",
    "        RemoteControl control = new RemoteControl();\n",
    "        \n",
    "        Light light = new Light();\n",
    "        Command lightsOn = new LightsOnCommand(light);\n",
    "        Command lightsOff = new LightsOffCommand(light);\n",
    "\n",
    "        //Switch on\n",
    "        control.setCommand(lightsOn);\n",
    "        control.pressButton();\n",
    "\n",
    "        //Switch off\n",
    "        control.setCommand(lightsOff);\n",
    "        control.pressButton();\n",
    "    }\n",
    "}"
   ]
  },
  {
   "cell_type": "markdown",
   "metadata": {},
   "source": [
    "Instead of having reference to one single command, invoker can reference a list of commands. \n",
    "    \n",
    "### Undo Functionality"
   ]
  },
  {
   "cell_type": "code",
   "execution_count": null,
   "metadata": {},
   "outputs": [],
   "source": [
    "//Reciver\n",
    "public class Fan {\n",
    "    public enum Speed {\n",
    "        LOW, MEDIUM, HIGH\n",
    "    };\n",
    "\n",
    "    private Speed speed;\n",
    "    private boolean isOn;\n",
    "\n",
    "    public Speed getSpeed() {\n",
    "        return this.speed;\n",
    "    }\n",
    "\n",
    "    public void switchOn() {\n",
    "        this.isOn = true;\n",
    "    }\n",
    "\n",
    "    public void switchOff() {\n",
    "        this.isOn = false;\n",
    "    }\n",
    "\n",
    "    public void setSpeed(Speed speed) {\n",
    "        this.speed = speed;\n",
    "    }\n",
    "}\n",
    "\n",
    "// Command\n",
    "public interface Command {\n",
    "    public void execute();\n",
    "\n",
    "    public void undo();\n",
    "}\n",
    "\n",
    "// Concrete command\n",
    "public class FanHighSpeedCommand implements Command {\n",
    "    private Fan fan;\n",
    "    private Fan.Speed prevSpeed;\n",
    "\n",
    "    public FanHighSpeedCommand(Fan fan) {\n",
    "        this.fan = fan;\n",
    "    }\n",
    "\n",
    "    @Override\n",
    "    public void execute() {\n",
    "        this.prevSpeed = fan.getSpeed();\n",
    "        this.fan.setSpeed(Fan.Speed.HIGH);\n",
    "    }\n",
    "\n",
    "    @Override\n",
    "    public void undo() {\n",
    "        if (prevSpeed == Fan.Speed.HIGH) {\n",
    "            fan.setSpeed(Fan.Speed.HIGH);\n",
    "        } else if (prevSpeed == Fan.Speed.MEDIUM) {\n",
    "            fan.setSpeed(Fan.Speed.MEDIUM);\n",
    "        } else if (prevSpeed == Fan.Speed.LOW) {\n",
    "            fan.setSpeed(Fan.Speed.LOW);\n",
    "        }\n",
    "    }\n",
    "}\n",
    "\n",
    "//Invoker\n",
    "public class RemoteControl {\n",
    "    private Map<String, Command> fanCommands = new HashMap<>();\n",
    "\n",
    "    private Stack<Command> undoStack = new Stack<Command>();\n",
    "\n",
    "    public void setFanSpeedCommand(Command command, String state) {\n",
    "        this.fanCommands.put(state, command);\n",
    "    }\n",
    "\n",
    "    public void fanSpeedButton(String speed) {\n",
    "        if (speed.equals(\"HIGH\")) {\n",
    "            Command command = this.fanCommands.get(\"HIGH\");\n",
    "            command.execute();\n",
    "            undoStack.add(command);\n",
    "        }\n",
    "    }\n",
    "\n",
    "    public void fanStateButton(String state) {\n",
    "        if (state.equals(\"ON\")) {\n",
    "            Command command = this.fanCommands.get(\"ON\");\n",
    "            command.execute();\n",
    "            undoStack.add(command);\n",
    "        } else if (state.equals(\"OFF\")) {\n",
    "            Command command = this.fanCommands.get(\"OFF\");\n",
    "            command.execute();\n",
    "            undoStack.add(command);\n",
    "        }\n",
    "    }\n",
    "\n",
    "    public void undoButton() {\n",
    "        Command command = undoStack.pop();\n",
    "        command.undo();\n",
    "    }\n",
    "}"
   ]
  }
 ],
 "metadata": {
  "kernelspec": {
   "display_name": "Java",
   "language": "java",
   "name": "java"
  },
  "language_info": {
   "codemirror_mode": "java",
   "file_extension": ".jshell",
   "mimetype": "text/x-java-source",
   "name": "Java",
   "pygments_lexer": "java",
   "version": "21.0.2+13-58"
  }
 },
 "nbformat": 4,
 "nbformat_minor": 4
}
