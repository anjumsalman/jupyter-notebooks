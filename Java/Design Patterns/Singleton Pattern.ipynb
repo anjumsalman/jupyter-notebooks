{
 "cells": [
  {
   "cell_type": "markdown",
   "metadata": {},
   "source": [
    "### Singleton Pattern\n",
    "Many times we just need a single instance of a class. Everytime an instance is requested, the same object is returned thereby reducing object creation overhead. For example:\n",
    "- Logging frameworks\n",
    "- Java beans provided by Spring framework\n",
    "- Runtime"
   ]
  },
  {
   "cell_type": "markdown",
   "metadata": {},
   "source": [
    "### Implementation\n",
    "The main step is to mark constructor as private so that new instance of the Singleton class cannot be instantiated using the new keyword. Instead provide a `getInstance` method"
   ]
  },
  {
   "cell_type": "code",
   "execution_count": 1,
   "metadata": {},
   "outputs": [],
   "source": [
    "class Singleton{\n",
    "    private static Singleton instance = new Singleton();\n",
    "    \n",
    "    private Singleton(){}\n",
    "    \n",
    "    public static Singleton getInstance(){\n",
    "        return instance;\n",
    "    }\n",
    "}"
   ]
  },
  {
   "cell_type": "code",
   "execution_count": 2,
   "metadata": {},
   "outputs": [
    {
     "name": "stdout",
     "output_type": "stream",
     "text": [
      "Same object\n"
     ]
    }
   ],
   "source": [
    "Singleton s1 = Singleton.getInstance();\n",
    "Singleton s2 = Singleton.getInstance();\n",
    "\n",
    "if(s1 == s2)\n",
    "    System.out.println(\"Same object\");\n",
    "else\n",
    "    System.out.println(\"Different objects\");"
   ]
  },
  {
   "cell_type": "markdown",
   "metadata": {},
   "source": [
    "The above implementation is an example for eager initialisation, we have an instance whether we want it or not. Another alternative is to go for lazy initialized version, which can lead to performance gain"
   ]
  },
  {
   "cell_type": "code",
   "execution_count": null,
   "metadata": {},
   "outputs": [],
   "source": [
    "class Singleton{\n",
    "    private static Singleton instance;\n",
    "    \n",
    "    private Singleton(){}\n",
    "    \n",
    "    public static Singleton getInstance(){\n",
    "        if(instance == null){\n",
    "            instance = new Singleton();\n",
    "        }\n",
    "        \n",
    "        return instance;\n",
    "    }\n",
    "}"
   ]
  },
  {
   "cell_type": "markdown",
   "metadata": {},
   "source": [
    "What if multiple threads call getInstance method at the same time? The above code snippet is not thread safe, therefore instead of getting a single object, multiple different objects can get created.  \n",
    "The eager initialization version can be made thread safe just by a small change:"
   ]
  },
  {
   "cell_type": "code",
   "execution_count": null,
   "metadata": {},
   "outputs": [],
   "source": [
    "// Make the instance reference final\n",
    "private static final Singleton instance = new Singleton();"
   ]
  },
  {
   "cell_type": "markdown",
   "metadata": {},
   "source": [
    "To make the lazy initialized version thread safe, we can make the `getInstance` method synchronized. However, making the entire method synchronized has performance penalty specially if it will be called multiple times in multiple threads. Instead, we employ the following:"
   ]
  },
  {
   "cell_type": "code",
   "execution_count": null,
   "metadata": {},
   "outputs": [],
   "source": [
    "class Singleton{\n",
    "    private static volatile Singleton instance;\n",
    "    \n",
    "    private Singleton(){}\n",
    "    \n",
    "    public static Singleton getInstance(){\n",
    "        if(instance == null){\n",
    "            synchronized(Singleton.class){\n",
    "                if(instance == null)\n",
    "                    instance = new Singleton();\n",
    "            }\n",
    "        }\n",
    "        \n",
    "        return instance;\n",
    "    }\n",
    "}"
   ]
  },
  {
   "cell_type": "markdown",
   "metadata": {},
   "source": [
    "Singleton class is now thread safe, however there is still a way to multiple different objects using reflection"
   ]
  },
  {
   "cell_type": "code",
   "execution_count": 6,
   "metadata": {},
   "outputs": [],
   "source": [
    "import java.lang.reflect.Constructor;\n",
    "    \n",
    "class CreateObjects{\n",
    "    public static void main(String[] args) throws Exception{\n",
    "        Constructor<Singleton> constructor = Singleton.class.getDeclaredConstructor();\n",
    "        constructor.setAccessible(true);\n",
    "        Singleton obj1 = constructor.newInstance();\n",
    "        Singleton obj2 = constructor.newInstance();\n",
    "    }\n",
    "}"
   ]
  },
  {
   "cell_type": "markdown",
   "metadata": {},
   "source": [
    "To prevent this, we can add the following check to the constructor:"
   ]
  },
  {
   "cell_type": "code",
   "execution_count": null,
   "metadata": {},
   "outputs": [],
   "source": [
    "private Singleton() {\n",
    "    if(instance != null) {\n",
    "        throw new RuntimeException(\"Cannot call constructor\");\n",
    "    }\n",
    "}"
   ]
  },
  {
   "cell_type": "markdown",
   "metadata": {},
   "source": [
    "However this still doesn't cover the case when the constructor is called before `getInstance`. Enums are yet another way to implement singleton pattern."
   ]
  },
  {
   "cell_type": "code",
   "execution_count": null,
   "metadata": {},
   "outputs": [],
   "source": []
  }
 ],
 "metadata": {
  "kernelspec": {
   "display_name": "Java",
   "language": "java",
   "name": "java"
  },
  "language_info": {
   "codemirror_mode": "java",
   "file_extension": ".jshell",
   "mimetype": "text/x-java-source",
   "name": "Java",
   "pygments_lexer": "java",
   "version": "13+33"
  }
 },
 "nbformat": 4,
 "nbformat_minor": 4
}
