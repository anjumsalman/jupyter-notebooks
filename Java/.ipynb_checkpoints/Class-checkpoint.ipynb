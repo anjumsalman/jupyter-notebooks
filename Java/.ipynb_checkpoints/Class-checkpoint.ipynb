{
 "cells": [
  {
   "cell_type": "markdown",
   "metadata": {},
   "source": [
    "### Class Components\n",
    "- Instance variables\n",
    "- Instance methods\n",
    "- Class variables\n",
    "- Class methods\n",
    "\n",
    "A class definition can only be marked as public or as default (except for nested class). Also multiple classes can be defined in a file, but at max one can be public.  \n",
    "\n",
    "Also primitive type variables are initialised to zero, whereas reference types are initialised to null."
   ]
  },
  {
   "cell_type": "markdown",
   "metadata": {},
   "source": [
    "```java\n",
    "public class Point{\n",
    "    private float x,y;                  \n",
    "                                        \n",
    "    public static counter = 0\n",
    "    \n",
    "} \n",
    "```"
   ]
  },
  {
   "cell_type": "markdown",
   "metadata": {},
   "source": [
    "### Constructor\n",
    "The compiler automatically provides a no argument default constructor for any class without constructors. This default constructor will call the no argument constructor of the superclass. In this situation, the compiler will complain if the superclass doesn't have a no argument constructor."
   ]
  },
  {
   "cell_type": "markdown",
   "metadata": {},
   "source": [
    "```java\n",
    "public class Point{\n",
    "    private float x,y;                  \n",
    "\n",
    "    public static int counter = 0;\n",
    "    \n",
    "    // Every constructor implicitly calls superclass\n",
    "    // no argument constructor. So if superclass no\n",
    "    // argument constructor doesn't exist, then one\n",
    "    // must use a different super class constructor\n",
    "    // along with super keyword.\n",
    "    public Point(){\n",
    "        x = 0;\n",
    "        y = 0;\n",
    "    }\n",
    "    \n",
    "    // Constructor overloading\n",
    "    public Point(int x, int y) {\n",
    "    \tthis.x = x;\n",
    "    \tthis.y = y;\n",
    "    }\n",
    "}  \n",
    "```"
   ]
  },
  {
   "cell_type": "markdown",
   "metadata": {},
   "source": [
    "Constructor can be\n",
    "- package protected, which means that we can't write `new Point()` in other packages.\n",
    "- private, which means that instance of class cannot be created using `new` keyword.  \n",
    "\n",
    "We can also call one constructor from other, use `this()`\n",
    "```java\n",
    "    public Point(){\n",
    "        this(0,0)\n",
    "    }\n",
    "\n",
    "    public Point(int x, int y) {\n",
    "        this.x = x;\n",
    "        this.y = y;\n",
    "    }\n",
    "```"
   ]
  },
  {
   "cell_type": "markdown",
   "metadata": {},
   "source": [
    "### Static Methods\n",
    "- Instance methods can access instance variables, instance methods, static variables and static methods\n",
    "- Static methods can access only static variables and static methods  \n",
    "`this` variable can't be referred to inside a static method.  \n",
    "\n",
    "**Static block:** is executed when the class is loaded. It can be thought as class constructor."
   ]
  },
  {
   "cell_type": "markdown",
   "metadata": {},
   "source": [
    "```java\n",
    "class Region{\n",
    "    public static Map<String, String> capitals;\n",
    "\t\n",
    "\tstatic {\n",
    "\t\tcapitals = new HashMap<String, String>();\n",
    "\t\tcapitals.put(\"India\", \"New Delhi\");\n",
    "\t\tcapitals.put(\"Bangladesh\", \"Dhaka\");\n",
    "\t\tcapitals.put(\"China\", \"Beijing\");\n",
    "\t\tcapitals.put(\"Nepal\", \"Kathmandu\");\n",
    "\t}\n",
    "}   \n",
    "```"
   ]
  },
  {
   "cell_type": "code",
   "execution_count": null,
   "metadata": {},
   "outputs": [],
   "source": []
  }
 ],
 "metadata": {
  "kernelspec": {
   "display_name": "Java",
   "language": "java",
   "name": "java"
  },
  "language_info": {
   "codemirror_mode": "java",
   "file_extension": ".java",
   "mimetype": "text/x-java-source",
   "name": "Java",
   "pygments_lexer": "java",
   "version": "9+181"
  }
 },
 "nbformat": 4,
 "nbformat_minor": 2
}
