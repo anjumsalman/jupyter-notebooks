{
 "cells": [
  {
   "cell_type": "markdown",
   "metadata": {},
   "source": [
    "### About\n",
    "Gradle is a Groovy-based build management system designed specifically for building Java-based projects. Recent version allows to use Kotlin instead."
   ]
  },
  {
   "cell_type": "markdown",
   "metadata": {},
   "source": [
    "### Just Enough Groovy\n",
    "**Variables and Types:** No primitives, Java wrapper classes are used instead. Use `def` to avoid setting type explicitly"
   ]
  },
  {
   "cell_type": "code",
   "execution_count": null,
   "metadata": {},
   "outputs": [],
   "source": [
    "Integer n = 3\n",
    "\n",
    "// Or use def\n",
    "def x = 3 // assert x.class == Integer"
   ]
  },
  {
   "cell_type": "markdown",
   "metadata": {},
   "source": [
    "Two string types\n",
    "- single-quoted equivalent to Java String\n",
    "- double-quoted strings are also Java strings unless you interpolate"
   ]
  },
  {
   "cell_type": "code",
   "execution_count": null,
   "metadata": {},
   "outputs": [],
   "source": [
    "String name = 'Dolly'\n",
    "GString message = \"Hello, $name!\""
   ]
  },
  {
   "cell_type": "markdown",
   "metadata": {},
   "source": [
    "**Operator Overloading:** In Groovy, every operator corresponds to a method call. For example, the + sign invokes the plus method on Number."
   ]
  },
  {
   "cell_type": "code",
   "execution_count": null,
   "metadata": {},
   "outputs": [],
   "source": [
    "assert 3 + 4 == 3.plus(4)\n",
    "assert 3 * 4 == 3.multiply(4)\n",
    "assert 2**6 == 64\n",
    "assert 2**6 == 2.power(6)\n",
    "    \n",
    "assert 'abc' * 3 == 'abcabcabc'\n",
    "    \n",
    "Date now = new Date()\n",
    "Date tomorrow = now + 1"
   ]
  },
  {
   "cell_type": "markdown",
   "metadata": {},
   "source": [
    "**Collections and Maps:** "
   ]
  },
  {
   "cell_type": "code",
   "execution_count": null,
   "metadata": {},
   "outputs": [],
   "source": [
    "def numbers = [1, 4, 8, 2] // ArrayList\n",
    "assert nums[0..3] == [3, 1, 4, 1]\n",
    "\n",
    "// use the as operator to convert one collection type to another\n",
    "def unique = numbers as Set // LinkedHashSet\n",
    "def sortedUnique = numbers as SortedSet // TreeSet\n",
    "\n",
    "def map = [a:1, b:2, c:2] // LinkedHashMap\n",
    "map['c'] = 3"
   ]
  },
  {
   "cell_type": "markdown",
   "metadata": {},
   "source": [
    "**Closure:** Groovy has a class called `Closure` that represents a block of code that can be used like an object. Think of it as the body of an anonymous method (oversimplification). Many methods in Groovy take closures as arguments."
   ]
  },
  {
   "cell_type": "code",
   "execution_count": null,
   "metadata": {},
   "outputs": [],
   "source": [
    "def nums = [3, 1, 4, 1, 5, 9]\n",
    "def doubles = []\n",
    "\n",
    "nums.each { n ->      // n is closure argument\n",
    "    doubles << n * 2  // << operators appends to collection\n",
    "}\n",
    "assert doubles == [6, 2, 8, 2, 10, 18]"
   ]
  },
  {
   "cell_type": "markdown",
   "metadata": {},
   "source": [
    "If there is only one argument to the closure, it is implicitly available as `it`"
   ]
  },
  {
   "cell_type": "code",
   "execution_count": null,
   "metadata": {},
   "outputs": [],
   "source": [
    "nums.each {\n",
    "    doubles << it * 2\n",
    "}"
   ]
  },
  {
   "cell_type": "markdown",
   "metadata": {},
   "source": [
    "**Method Call:** Groovy allows you to omit the parentheses for top-level expressions, so methods with at least one parameter can be invoked without parentheses."
   ]
  },
  {
   "cell_type": "code",
   "execution_count": null,
   "metadata": {},
   "outputs": [],
   "source": [
    "println \"Hello\"\n",
    "method a, b\n",
    "\n",
    "// Equivalent to\n",
    "println(\"Hello\")\n",
    "method(a, b)"
   ]
  },
  {
   "cell_type": "markdown",
   "metadata": {},
   "source": [
    "If closure is the last argument then you can put the closure outside the closing parentheses, and even omit the parentheses:"
   ]
  },
  {
   "cell_type": "code",
   "execution_count": null,
   "metadata": {},
   "outputs": [],
   "source": [
    "list.each( { println it } )\n",
    "list.each(){ println it }\n",
    "list.each  { println it }"
   ]
  },
  {
   "cell_type": "markdown",
   "metadata": {},
   "source": [
    "In some cases parentheses are required, such as when making nested method calls or when calling a method without parameters."
   ]
  },
  {
   "cell_type": "code",
   "execution_count": null,
   "metadata": {},
   "outputs": [],
   "source": [
    "def foo(n) { n }\n",
    "def bar() { 1 }\n",
    "\n",
    "println foo 1 // won't work\n",
    "def m = bar   // won't work"
   ]
  },
  {
   "cell_type": "markdown",
   "metadata": {},
   "source": [
    "### Project\n",
    "In Gradle is an artifact that needs to be built. A Gradle project could be a Java application that gets assembled into a JAR file. A Gradle project can also represent a piece of work that needs to be accomplished. For each project in the build, Gradle creates an instance of `org.gradle.api.Project` and associates it with the build script. Some common project object property/methods:\n",
    "\n",
    "| Property/Method \t| Description \t|\n",
    "|-\t|-\t|\n",
    "| name \t| Name of the project and can be changed using the settings.gradle file. By default, the project directory name. \t|\n",
    "| description \t| Description of the project. \t|\n",
    "| version \t| Project version. \t|\n",
    "| parent \t| Returns the parent project (if exists). \t|\n",
    "| group \t| User-defined identifier indicating group or organization responsible for the project. For example, `org.hibernate` or `org.springframework`. \t|\n",
    "| task \t| Overloaded method to create a new task. \t|\n",
    "| dependencies \t| Configures dependencies for a project. \t|\n",
    "| repositories \t| Configures repositories for a project. \t|\n",
    "| defaultTasks \t| Configures the names of the default tasks to run for a project. \t|"
   ]
  },
  {
   "cell_type": "code",
   "execution_count": null,
   "metadata": {},
   "outputs": [],
   "source": [
    "name = 'Test' // Equivalent to project.name = 'Test'\n",
    "version = '0.1.0'"
   ]
  },
  {
   "cell_type": "markdown",
   "metadata": {},
   "source": [
    "### Task\n",
    "A Gradle task is a single piece of work. To define a task (in Groovy) we can call `task(name: String, c:Closure)` method. However if we look at code below we are not passing name of task as String (although we can). Gradle uses AST Transformations to extend the Groovy syntax."
   ]
  },
  {
   "cell_type": "code",
   "execution_count": null,
   "metadata": {},
   "outputs": [],
   "source": [
    "task sayHello {\n",
    "    doLast {\n",
    "        println \"Hello\"\n",
    "    }\n",
    "}"
   ]
  },
  {
   "cell_type": "markdown",
   "metadata": {},
   "source": [
    "There is also a doFirst option (which will be executed before doLast):"
   ]
  },
  {
   "cell_type": "code",
   "execution_count": null,
   "metadata": {},
   "outputs": [],
   "source": [
    "task helloWorld {\n",
    "    doFirst {\n",
    "        print \"Hello, \"\n",
    "    }\n",
    "    \n",
    "    doLast {\n",
    "        print \"World\"\n",
    "    }\n",
    "}"
   ]
  },
  {
   "cell_type": "markdown",
   "metadata": {},
   "source": [
    "To execute a task, in the shell prompt execute:\n",
    "```\n",
    "gradle helloWorld\n",
    "\n",
    "> Task :helloWorld\n",
    "Hello, World\n",
    "BUILD SUCCESSFUL in 5s\n",
    "1 actionable task: 1 executed\n",
    "```\n",
    "\n",
    "One task can depend upon other task"
   ]
  },
  {
   "cell_type": "code",
   "execution_count": null,
   "metadata": {},
   "outputs": [],
   "source": [
    "task hello {\n",
    "    doFirst {\n",
    "        print \"Hello, \"\n",
    "    }\n",
    "}\n",
    "\n",
    "task world {\n",
    "    dependsOn hello\n",
    "    \n",
    "    doFirst {\n",
    "        print \"World\"\n",
    "    }\n",
    "}\n",
    "\n",
    "// Alternatively:\n",
    "// world.dependsOn 'hello'"
   ]
  },
  {
   "cell_type": "markdown",
   "metadata": {},
   "source": [
    "If we run the world task:\n",
    "```\n",
    "gradle world\n",
    "\n",
    "> Task :hello\n",
    "Hello, \n",
    "> Task :world\n",
    "World\n",
    "BUILD SUCCESSFUL in 243ms\n",
    "2 actionable tasks: 2 executed\n",
    "```\n",
    "\n",
    "We can see that the hello task ran first. A task can also depend on multiple other tasks. This is one way to create an aggregated task:"
   ]
  },
  {
   "cell_type": "code",
   "execution_count": null,
   "metadata": {},
   "outputs": [],
   "source": [
    "task hello {\n",
    "    doFirst {\n",
    "        print \"Hello, \"\n",
    "    }\n",
    "}\n",
    "\n",
    "task world {    \n",
    "    doFirst {\n",
    "        print \"World\"\n",
    "    }\n",
    "}\n",
    "\n",
    "task helloWorld {\n",
    "    dependsOn hello\n",
    "    dependsOn world\n",
    "\n",
    "    tasks.findByName('world').mustRunAfter hello\n",
    "}\n",
    "\n",
    "// Alternatively\n",
    "// helloWorld.dependsOn hello\n",
    "// helloWorld.dependsOn world\n",
    "// world.mustRunAfter hello"
   ]
  },
  {
   "cell_type": "markdown",
   "metadata": {},
   "source": [
    "```\n",
    "gradle helloWorld\n",
    "\n",
    "> Task :hello\n",
    "Hello, \n",
    "> Task :world\n",
    "World\n",
    "> Task :helloWorld\n",
    "\n",
    "BUILD SUCCESSFUL in 324ms\n",
    "2 actionable tasks: 2 executed\n",
    "```\n",
    "\n",
    "There is a shortcut for doLast:"
   ]
  },
  {
   "cell_type": "code",
   "execution_count": null,
   "metadata": {},
   "outputs": [],
   "source": [
    "// This syntax has been removed in Gradle 5+\n",
    "task greet << {\n",
    "    print \"Greetings!\"\n",
    "}"
   ]
  },
  {
   "cell_type": "markdown",
   "metadata": {},
   "source": [
    "### Plugins\n",
    "Gradle plugins are collection of tasks. Gradle recognises a number of plugins out of the box. For example, the Java plugin can be applied using:"
   ]
  },
  {
   "cell_type": "code",
   "execution_count": null,
   "metadata": {},
   "outputs": [],
   "source": [
    "apply plugin: 'java'"
   ]
  },
  {
   "cell_type": "markdown",
   "metadata": {},
   "source": [
    "We can add multiple plugins, each will make its own set of tasks available."
   ]
  },
  {
   "cell_type": "code",
   "execution_count": null,
   "metadata": {},
   "outputs": [],
   "source": [
    "apply plugin: 'war'\n",
    "apply plugin: 'java'"
   ]
  },
  {
   "cell_type": "markdown",
   "metadata": {},
   "source": [
    "To see all available tasks (below output is when only java plugin is set):\n",
    "\n",
    "```\n",
    "gradle tasks\n",
    "\n",
    "> Task :tasks\n",
    "\n",
    "------------------------------------------------------------\n",
    "Tasks runnable from root project\n",
    "------------------------------------------------------------\n",
    "\n",
    "Build tasks\n",
    "-----------\n",
    "assemble - Assembles the outputs of this project.\n",
    "build - Assembles and tests this project.\n",
    "buildDependents - Assembles and tests this project and all projects that depend on it.\n",
    "buildNeeded - Assembles and tests this project and all projects it depends on.\n",
    "classes - Assembles main classes.\n",
    "clean - Deletes the build directory.\n",
    "jar - Assembles a jar archive containing the main classes.\n",
    "testClasses - Assembles test classes.\n",
    "\n",
    "Build Setup tasks\n",
    "-----------------\n",
    "init - Initializes a new Gradle build.\n",
    "wrapper - Generates Gradle wrapper files.\n",
    "\n",
    "Documentation tasks\n",
    "-------------------\n",
    "javadoc - Generates Javadoc API documentation for the main source code.\n",
    "\n",
    "Help tasks\n",
    "----------\n",
    "buildEnvironment - Displays all buildscript dependencies declared in root project 'LearnGradle'.\n",
    "components - Displays the components produced by root project 'LearnGradle'. [incubating]\n",
    "dependencies - Displays all dependencies declared in root project 'LearnGradle'.\n",
    "dependencyInsight - Displays the insight into a specific dependency in root project 'LearnGradle'.\n",
    "dependentComponents - Displays the dependent components of components in root project 'LearnGradle'. [incubating]\n",
    "help - Displays a help message.\n",
    "model - Displays the configuration model of root project 'LearnGradle'. [incubating]\n",
    "outgoingVariants - Displays the outgoing variants of root project 'LearnGradle'.\n",
    "projects - Displays the sub-projects of root project 'LearnGradle'.\n",
    "properties - Displays the properties of root project 'LearnGradle'.\n",
    "tasks - Displays the tasks runnable from root project 'LearnGradle'.\n",
    "\n",
    "IDE tasks\n",
    "---------\n",
    "cleanEclipse - Cleans all Eclipse files.\n",
    "eclipse - Generates all Eclipse files.\n",
    "\n",
    "Verification tasks\n",
    "------------------\n",
    "check - Runs all checks.\n",
    "test - Runs the unit tests.\n",
    "\n",
    "Rules\n",
    "-----\n",
    "Pattern: clean<TaskName>: Cleans the output files of a task.\n",
    "Pattern: build<ConfigurationName>: Assembles the artifacts of a configuration.\n",
    "Pattern: upload<ConfigurationName>: Assembles and uploads the artifacts belonging to a configuration.\n",
    "\n",
    "To see all tasks and more detail, run gradle tasks --all\n",
    "\n",
    "To see more detail about a task, run gradle help --task <task>\n",
    "\n",
    "BUILD SUCCESSFUL in 837ms\n",
    "1 actionable task: 1 executed\n",
    "```\n",
    "\n",
    "As we can see, the Java plugin introduces a number of tasks which in turn depend upon each other. There is another way to set plugins:"
   ]
  },
  {
   "cell_type": "code",
   "execution_count": null,
   "metadata": {},
   "outputs": [],
   "source": [
    "plugins {\n",
    "    id 'java'\n",
    "    id 'org.barfuin.gradle.taskinfo' version '1.0.5'\n",
    "}"
   ]
  },
  {
   "cell_type": "markdown",
   "metadata": {},
   "source": [
    "### Dependencies\n",
    "Gradle dependencies can be used at:\n",
    "- compilation\n",
    "- runtime\n",
    "- test compilation\n",
    "- test runtime\n",
    "\n",
    "A dependency can depend upon other libraries called *transitive dependency*. Dependencies are sourced from *repositories* which can be:\n",
    "- remote (Maven or Ivy)\n",
    "- local (Gradle cache)\n",
    "- filesystem\n",
    "\n",
    "The dependency scope mentioned above is called *configuration* in Gradle. Plugins also add different configurations. For example, the Java plugin adds\n",
    "- implementation\n",
    "    - compileOnly\n",
    "    - runtimeOnly\n",
    "- testImplementation\n",
    "    - testCompileOnly\n",
    "    - testRuntimeOnly\n",
    "    \n",
    "testImplementation derives from implementation, so any dependency we have in implementation will also be used by testImplementation."
   ]
  },
  {
   "cell_type": "code",
   "execution_count": null,
   "metadata": {},
   "outputs": [],
   "source": []
  }
 ],
 "metadata": {
  "kernelspec": {
   "display_name": "Java",
   "language": "java",
   "name": "java"
  },
  "language_info": {
   "codemirror_mode": "java",
   "file_extension": ".jshell",
   "mimetype": "text/x-java-source",
   "name": "Java",
   "pygments_lexer": "java",
   "version": "13+33"
  }
 },
 "nbformat": 4,
 "nbformat_minor": 4
}
