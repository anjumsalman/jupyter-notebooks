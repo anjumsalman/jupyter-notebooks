{
 "cells": [
  {
   "cell_type": "markdown",
   "metadata": {},
   "source": [
    "### Declaration\n",
    "To create an array:\n",
    "```java\n",
    "String[] strArr = new String[5];          // must specify size\n",
    "String[] strArr2 = {\"A\", \"few\", \"words\"}; // or use initializer list\n",
    "String[] strArr3 = new String[]{\"A\",\"B\"}; // or this way\n",
    "```\n",
    "\n",
    "And this is how we cast:\n",
    "```java\n",
    "Object[] objects = new String[5];\n",
    "String[] strings = (String[]) objects;\n",
    "\n",
    "Object[] others = new Object[5];\n",
    "String[] otherStrings = (String[]) others; // ClassCastException\n",
    "```"
   ]
  },
  {
   "cell_type": "markdown",
   "metadata": {},
   "source": [
    "### The *Arrays* Utility Class\n",
    "`java.util.Arrays` class contains several methods that perform various operations on Arrays\n",
    "- **string representation**\n",
    "```java\n",
    "int[] someNumbers = {1,2,3,4,5};\n",
    "System.out.println(someNumbers);    // [I@4aa298b7\n",
    "System.out.println(Arrays.toString(someNumbers)); // [1, 2, 3, 4, 5]\n",
    "```\n",
    "- **sorting**\n",
    "```java\n",
    "int[] randomNumbers = {8,2,9,7,11};\n",
    "Arrays.sort(randomNumbers);         // modifies the array\n",
    "System.out.println(Arrays.toString(randomNumbers)); \n",
    "```\n",
    "- **binary search**"
   ]
  },
  {
   "cell_type": "code",
   "execution_count": null,
   "metadata": {},
   "outputs": [],
   "source": []
  }
 ],
 "metadata": {
  "kernelspec": {
   "display_name": "Java",
   "language": "java",
   "name": "java"
  },
  "language_info": {
   "codemirror_mode": "java",
   "file_extension": ".java",
   "mimetype": "text/x-java-source",
   "name": "Java",
   "pygments_lexer": "java",
   "version": "9+181"
  }
 },
 "nbformat": 4,
 "nbformat_minor": 2
}
