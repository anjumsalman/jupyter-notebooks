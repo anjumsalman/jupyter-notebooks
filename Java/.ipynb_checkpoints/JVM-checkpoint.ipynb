{
 "cells": [
  {
   "cell_type": "markdown",
   "metadata": {},
   "source": [
    "### Compilation\n",
    "The Java compiler compiles source code (.java) files to byte code (.class) files which are later executed by the Java Virtual Machine. The bytecode generated is same for all platforms making Java compile once, run anywhere. Below is an example of Java code and its corresponding bytecode\n",
    "\n",
    "```java\n",
    "public static void main(String[] args) {\n",
    "    for (int i = 0; i < 10; i++) {\n",
    "        if (i % 2 == 0) {\n",
    "            System.out.println(\"Even\");\n",
    "        } else {\n",
    "            System.out.println(\"Odd\");\n",
    "        }\n",
    "    }\n",
    "}\n",
    "```\n",
    "\n",
    "Bytecode:\n",
    "```\n",
    " 0 iconst_0\n",
    " 1 istore_1\n",
    " 2 goto 33 (+31)\n",
    " 5 iload_1\n",
    " 6 iconst_2\n",
    " 7 irem\n",
    " 8 ifne 22 (+14)\n",
    "11 getstatic #16 <java/lang/System.out>\n",
    "14 ldc #22 <Even>\n",
    "16 invokevirtual #24 <java/io/PrintStream.println>\n",
    "19 goto 30 (+11)\n",
    "22 getstatic #16 <java/lang/System.out>\n",
    "25 ldc #30 <Odd>\n",
    "27 invokevirtual #24 <java/io/PrintStream.println>\n",
    "30 iinc 1 by 1\n",
    "33 iload_1\n",
    "34 bipush 10\n",
    "36 if_icmplt 5 (-31)\n",
    "39 return\n",
    "```\n",
    "\n",
    "The bytecode is executed by JVM. "
   ]
  },
  {
   "cell_type": "markdown",
   "metadata": {},
   "source": [
    "### Java Virtual Machine\n",
    "JVM is made of the following components:\n",
    "- Class Loader\n",
    "- Runtime Memory/Data Area\n",
    "- Execution Engine\n",
    "\n",
    "![JVM Components](images/xGxaY7n.png)"
   ]
  },
  {
   "cell_type": "markdown",
   "metadata": {},
   "source": [
    "### Class Loader\n",
    "Loading process loads `.class` files into memory for execution. Java classes aren’t loaded into memory all at once, but when required by an application. Java classes are loaded by an instance of `java.lang.ClassLoader`.  \n",
    "\n",
    "**Bootstrap ClassLoader:** A Bootstrap Classloader is not a Java class, rather it is machine code. Its job is to load the first pure Java ClassLoader. It loads the standard Java packages like `java.lang`, `java.net`, `java.util`, `java.io`, and so on. These packages are present inside the `rt.jar` file and other core libraries present in the `JAVA_HOME/jre/lib` directory.\n",
    "\n",
    "**Extension ClassLoader:** is the immediate child of Bootstrap classloader. This classloader loads the classes in `lib\\ext` directory of the JRE or or any other directory pointed by the system property `java.ext.dirs`. \n",
    "\n",
    "**System ClassLoader:** is the immediate child of Extensions classloader. It loads the classes and jars specified by the `CLASSPATH` environment variable. By default, the classpath is set to the current directory of the application.\n",
    "\n",
    "Class loader follows the following rule:\n",
    "- It checks if the class is already loaded.\n",
    "- If the class is not loaded, ask parent class loader to load the class.\n",
    "- If parent class loader cannot load class, attempt to load it in this class loader.\n",
    "\n",
    "The linking process is the process of taking a class or interface and combining it into the run-time state of the JVM so that it can be executed. It involves three functions:\n",
    "- **Verification:**  ensuring that the code adheres to the semantics of the language. For example, if the code has been built using Java 11, but is being run on a system that has Java 8 installed, the verification phase will fail.\n",
    "- **Preparation:** JVM allocates memory for the class variables and initializes them to default values according to the type of the variable. For example, if we have a line `public static boolean DONE = true`, memory for `DONE` is set aside and it is initialised to `false`\n",
    "- **Resolution (optional):** In this phase, symbolic references are replaced with direct references present in the runtime constant pool. For example, if you have references to other classes or constant variables present in other classes, they are resolved in this phase and replaced with their actual references.\n",
    "\n",
    "The initialization process involves the following two functions:\n",
    "- Initialize class variables with the routine specified by the programmer.\n",
    "- Initialize its super classes if it is not already initialized.\n",
    "The previously defined `DONE` variable will be assigned true in this step. Since JVM is multi-threaded, it can happen that multiple threads are trying to initialize the same class at the same time."
   ]
  },
  {
   "cell_type": "markdown",
   "metadata": {},
   "source": [
    "### Runtime Data Area\n",
    "**Heap Memory:** object created using the `new` operator are placed here. Garbage collection runs over heap space.  \n",
    "\n",
    "**Method Area:** all the class level data such as the run-time constant pool, field, and method data, and the code for methods and constructors, are stored here. Consider the code below:\n",
    "```java\n",
    "public class Employee {\n",
    "  \n",
    "  private String name;\n",
    "  private int age;\n",
    "  \n",
    "  public Employee(String name, int age) {\n",
    "  \n",
    "    this.name = name;\n",
    "    this.age = age;\n",
    "  }\n",
    "}\n",
    "```\n",
    "\n",
    "Field variables `name`, `age` and constructor details are loaded here.\n",
    "\n",
    "Since the Method and Heap areas share the same memory for multiple threads, the data stored here is not thread safe.\n",
    "\n",
    "**Stack:** All local variables, method calls, and partial results are stored in the stack area - per Thread. For every method call, one entry is made in the stack memory which is called the *Stack Frame*. When the method call is complete, the Stack Frame is destroyed.  \n",
    "\n",
    "**PC Register:** Each thread has its own PC Register to hold the address of the currently executing JVM instruction. \n",
    "\n",
    "**Native Stack:** "
   ]
  },
  {
   "cell_type": "markdown",
   "metadata": {},
   "source": [
    "### Execution Engine\n",
    "Java bytecode is executed by the JVM interpreter. Interpreter goes through each bytecode line, refers to a lookup table and converts it into machine code.\n",
    "\n",
    "![Interpreter](images/yGxam9n.png)\n",
    "\n",
    "If some part of the code is repeated, the interpreter everytime the interpreter converts the same bytecode. That is where the JIT compiler comes into play. JVM keeps count of every executed lines and when a piece of code is repeated $n$ number of times, that code is sent to the **C1 compiler** which compiles and optimises the code. The compiled code is saved in an area called *code cache* which is around 240MB in size. The threshold $n$ cannot be too small or too large, it is usually set at 10000. \n",
    "\n",
    "![C1 Compiler](images/INxaU9n.png)\n",
    "\n",
    "The interpreter now instead of converting frequent code sections, it will pick up compiled code from code cache. There is another compiler **C2** which is slower but does more optimisations. C2 compiler optimises the compiled code in the code cache. C1 compiler is used mostly for local GUI applications, whereas C2 compiler is used by servers. However, since Java 8, both C1 and C2 compilers are used together.\n",
    "\n",
    "![C2 Compiler](images/bXxa2cn.png)"
   ]
  },
  {
   "cell_type": "code",
   "execution_count": null,
   "metadata": {},
   "outputs": [],
   "source": []
  }
 ],
 "metadata": {
  "kernelspec": {
   "display_name": "Java",
   "language": "java",
   "name": "java"
  },
  "language_info": {
   "codemirror_mode": "java",
   "file_extension": ".jshell",
   "mimetype": "text/x-java-source",
   "name": "Java",
   "pygments_lexer": "java",
   "version": "13+33"
  }
 },
 "nbformat": 4,
 "nbformat_minor": 4
}
