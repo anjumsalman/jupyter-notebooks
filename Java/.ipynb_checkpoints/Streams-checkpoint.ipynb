{
 "cells": [
  {
   "cell_type": "markdown",
   "metadata": {},
   "source": [
    "### Streams\n",
    "Java Streams API lets us manipulate collections of data in a declarative way. One effect is that the code size can be significantly reduced as the below example shows:"
   ]
  },
  {
   "cell_type": "code",
   "execution_count": 5,
   "metadata": {},
   "outputs": [
    {
     "name": "stdout",
     "output_type": "stream",
     "text": [
      "8\n"
     ]
    }
   ],
   "source": [
    "int[] numbers = {5, 7, 2, 9, 8, 1, 7};\n",
    "\n",
    "// Copy the above array since we don't want to mutate it\n",
    "int[] result = Arrays.copyOf(numbers, numbers.length);\n",
    "\n",
    "// Sort it\n",
    "Arrays.sort(result);\n",
    "\n",
    "// Get sum of lowest 3\n",
    "int sum = 0;\n",
    "for(int i=0; i<3; i++){\n",
    "    sum += result[i];\n",
    "}\n",
    "\n",
    "System.out.println(sum);"
   ]
  },
  {
   "cell_type": "markdown",
   "metadata": {},
   "source": [
    "The same operation can be written in a concise manner using Streams"
   ]
  },
  {
   "cell_type": "code",
   "execution_count": 4,
   "metadata": {},
   "outputs": [
    {
     "name": "stdout",
     "output_type": "stream",
     "text": [
      "8\n"
     ]
    }
   ],
   "source": [
    "int[] numbers = {5, 7, 2, 9, 8, 1, 7};\n",
    "\n",
    "int sum = Arrays.stream(numbers)\n",
    "                .sorted()\n",
    "                .limit(3)\n",
    "                .sum();\n",
    "\n",
    "System.out.println(sum);"
   ]
  },
  {
   "cell_type": "markdown",
   "metadata": {},
   "source": [
    "### Building Streams"
   ]
  },
  {
   "cell_type": "markdown",
   "metadata": {},
   "source": [
    "Object streams are the general kind of stream. To create an object stream:"
   ]
  },
  {
   "cell_type": "code",
   "execution_count": null,
   "metadata": {},
   "outputs": [],
   "source": [
    "// From values\n",
    "Stream<String> cityStream = Stream.of(\"Los Angeles\", \"Paris\", \"Tokyo\", \"Berlin\");\n",
    "\n",
    "// From arrays\n",
    "String[] cities = new String[] { \"Los Angeles\", \"Paris\", \"Tokyo\", \"Berlin\" };\n",
    "Stream<String> sameCityStream = Arrays.stream(cities);\n",
    "\n",
    "// From collections\n",
    "List<String> cityList = Arrays.asList(cities);\n",
    "Stream<String> anotherCityStream = cityList.stream();"
   ]
  },
  {
   "cell_type": "markdown",
   "metadata": {},
   "source": [
    "We have specialised Streams too: `IntStream`, `LongStream` and `DoubleStream` .  \n",
    "![Stream Inheritance](https://i.stack.imgur.com/uI6XA.png)  \n",
    "\n",
    "The stream method of Arrays has multiple overloaded versions as listed below (only a subset):\n",
    "- `stream(int[] array)` returns `IntegerStream`\n",
    "- `stream(double[] array)` returns `DoubleStream`\n",
    "- `stream(T[] array)` returns `Stream<T>`"
   ]
  },
  {
   "cell_type": "code",
   "execution_count": null,
   "metadata": {},
   "outputs": [],
   "source": [
    "int[] primes = new int[] { 2, 3, 5, 7, 11 };\n",
    "IntStream primeStream = Arrays.stream(primes);\n",
    "\n",
    "// list's stream method returns object streams\n",
    "// because list itself is a collection of objects"
   ]
  },
  {
   "cell_type": "markdown",
   "metadata": {},
   "source": [
    "To create the specialized streams we can use:"
   ]
  },
  {
   "cell_type": "code",
   "execution_count": null,
   "metadata": {},
   "outputs": [],
   "source": [
    "DoubleStream doubleSteam = DoubleStream.of(3.56, 2.91, 8.314);\n",
    "\n",
    "LongStream longStream = LongStream.range(1, 101);"
   ]
  },
  {
   "cell_type": "markdown",
   "metadata": {},
   "source": [
    "We can also convert an object stream to specialised stream"
   ]
  },
  {
   "cell_type": "code",
   "execution_count": null,
   "metadata": {},
   "outputs": [],
   "source": [
    "Stream<Integer> numbers = Stream.of(1, 4, 7, 8, 0, -5);\n",
    "IntStream integerNumbers = numbers.mapToInt(i -> i);\n",
    "\n",
    "// mapToLong and mapToDouble are the other two methods"
   ]
  },
  {
   "cell_type": "markdown",
   "metadata": {},
   "source": [
    "### Intermediate Operations\n",
    "Intermediate operations on stream return stream. These operations can be chained together and are lazy evaluated (when a terminal operation is called).\n",
    "\n",
    "| Operation \t| Description \t|\n",
    "|-\t|-\t|\n",
    "| sorted() \t| Returns a stream consisting of the elements of this stream, sorted according to natural order. \t|\n",
    "| skip(long n) \t| Returns a stream consisting of the remaining elements of this stream after discarding the first n elements of the stream. \t|\n",
    "| peek(Consumer<? super T> action) \t| Returns a stream consisting of the elements of this stream, additionally performing the provided action on each element as elements are consumed from the resulting stream. \t|\n",
    "| limit(long maxSize) \t| Returns a stream consisting of the elements of this stream, truncated to be no longer than maxSize in length. \t|\n",
    "| distinct() \t| Returns a stream consisting of the distinct elements (according to Object.equals(Object)) of this stream. \t|\n",
    "| filter(Predicate<? super T> predicate) \t| Returns a stream consisting of the elements of this stream that match the given predicate. \t|\n",
    "| map(Function<? super T,? extends R> mapper) \t| Returns a stream consisting of the results of applying the given function to the elements of this stream. \t|\n",
    "| flatMap(Function<? super T,? extends Stream<? extends R>> mapper) \t| Returns a stream consisting of the results of replacing each element of this stream with the contents of a mapped stream produced by applying the provided mapping function to each element. \t|"
   ]
  },
  {
   "cell_type": "markdown",
   "metadata": {},
   "source": [
    "The lazy evalutaion characteristic can be seen in the below example:"
   ]
  },
  {
   "cell_type": "code",
   "execution_count": null,
   "metadata": {},
   "outputs": [],
   "source": [
    "import java.util.stream.Stream;\n",
    "\n",
    "// Nothing printed\n",
    "Stream.of(\"d2\", \"a2\", \"b1\", \"b3\", \"c\")\n",
    "    .filter(s -> {\n",
    "        System.out.println(\"filter: \" + s);\n",
    "        return true;\n",
    "    });"
   ]
  },
  {
   "cell_type": "markdown",
   "metadata": {},
   "source": [
    "Some operations can also be combined together while evaluating all the chained operations."
   ]
  },
  {
   "cell_type": "markdown",
   "metadata": {},
   "source": [
    "### Terminal Operations\n",
    "These operations typically return a single value. Some examples:"
   ]
  },
  {
   "cell_type": "code",
   "execution_count": 9,
   "metadata": {},
   "outputs": [
    {
     "name": "stdout",
     "output_type": "stream",
     "text": [
      "true\n",
      "false\n",
      "true\n"
     ]
    }
   ],
   "source": [
    "// Matching terminal operations, return true or false\n",
    "List<String> movies = List.of(\"One flew over the cuckoo's nest\", \"To kill a mockingbird\", \"Gone with the wind\");\n",
    "\n",
    "// Does any element in stream match the condition?\n",
    "System.out.println(movies.stream().anyMatch(s -> s.startsWith(\"To\")));\n",
    "\n",
    "// Do all elements in stream match the condition?\n",
    "System.out.println(movies.stream().allMatch(s -> s.startsWith(\"One\")));\n",
    "\n",
    "// Do none of the elements in stream match the condition?\n",
    "System.out.println(movies.stream().noneMatch(s -> s.startsWith(\"Once\")));"
   ]
  },
  {
   "cell_type": "code",
   "execution_count": 15,
   "metadata": {},
   "outputs": [
    {
     "name": "stdout",
     "output_type": "stream",
     "text": [
      "87\n",
      "6\n"
     ]
    }
   ],
   "source": [
    "// Minimum, maximum, count\n",
    "List<Integer> integers = List.of(12, 22, 45, 65, 5, 87);\n",
    "\n",
    "// max() : Provide a Comparator, returns an Optional, since stream could have\n",
    "// been empty\n",
    "integers.stream().max((a, b) -> a - b).ifPresent(System.out::println);\n",
    "\n",
    "// Counting\n",
    "System.out.println(integers.stream().count());"
   ]
  },
  {
   "cell_type": "markdown",
   "metadata": {},
   "source": [
    "`reduce` is one of the most important terminal operations. There are two overloaded variants:\n",
    "- `reduce(BinaryOperator<T> accumulator)` returns `Optional<T>`\n",
    "- `reduce(T identity, BinaryOperator<T> accumulator)` returns `T`\n",
    "\n",
    "The first argument of the accumulator is the intermediate result, and the second argument is the stream element.\n",
    "\n",
    "The below sequence of operations occur in case we use the version with identity element:\n",
    "```\n",
    "      1    5   ...\n",
    "      |    |\n",
    "IE - op - op - ... \n",
    "```\n",
    "\n",
    "If we use the first version, three cases are possible:\n",
    "- No element in the stream: return `Optional.empty()`\n",
    "- One element: just return the element without applying the accumulator at all.\n",
    "- Two or more elements: apply the accumulator to all of them and return the result."
   ]
  },
  {
   "cell_type": "code",
   "execution_count": 19,
   "metadata": {},
   "outputs": [
    {
     "name": "stdout",
     "output_type": "stream",
     "text": [
      "236\n",
      "Pamela\n",
      "MaxPeterPamelaDavid\n"
     ]
    }
   ],
   "source": [
    "// Sum all the elements\n",
    "integers.stream().reduce((a, b) -> a + b).ifPresent(System.out::println);\n",
    "\n",
    "// Using below class for subsequent examples\n",
    "class Person {\n",
    "    String name;\n",
    "    int age;\n",
    "\n",
    "    Person(String name, int age) {\n",
    "        this.name = name;\n",
    "        this.age = age;\n",
    "    }\n",
    "\n",
    "    @Override\n",
    "    public String toString() {\n",
    "        return name;\n",
    "    }\n",
    "}\n",
    "\n",
    "List<Person> persons = Arrays.asList(new Person(\"Max\", 18), new Person(\"Peter\", 23), new Person(\"Pamela\", 23), new Person(\"David\", 12));\n",
    "\n",
    "// Person with maximum age\n",
    "persons.stream().reduce((p1, p2) -> p1.age > p2.age ? p1 : p2).ifPresent(System.out::println);\n",
    "\n",
    "// Get combined name\n",
    "System.out.println(persons.stream().reduce(new Person(\"\", 0), (p1, p2) -> { p1.age += p2.age; p1.name += p2.name; return p1;}));"
   ]
  },
  {
   "cell_type": "markdown",
   "metadata": {},
   "source": [
    "`IntStream`, `LongStream`, `DoubleStream` provide some other terminal operations like `sum`, `average`, `summaryStatistics`."
   ]
  },
  {
   "cell_type": "markdown",
   "metadata": {},
   "source": [
    "The `collect` terminal operator is one of the most important terminal operator. With collect operation, we can use the result to form a collection, map, set, etc. We make use of the many static methods of the `Collectors` class."
   ]
  },
  {
   "cell_type": "code",
   "execution_count": null,
   "metadata": {},
   "outputs": [],
   "source": [
    "// Collect to a list\n",
    "List<Integer> ageList = persons.stream().map(p -> p.age).sorted().collect(Collectors.toList()); // ArrayList\n",
    "\n",
    "// Collect to an unmodifiable list\n",
    "// nothing can be added after the list has been formed\n",
    "List<Integer> immutableAgeList = persons.stream().map(a -> a.age).collect(Collectors.toUnmodifiableList());\n",
    "\n",
    "// Collect to a Set\n",
    "Set<String> nameSet = persons.stream().map(p -> p.name).collect(Collectors.toSet());\n",
    "\n",
    "// There is also a unmodifiable set counterpart"
   ]
  },
  {
   "cell_type": "markdown",
   "metadata": {},
   "source": [
    "In order to get a map, use the `toMap` collector."
   ]
  },
  {
   "cell_type": "code",
   "execution_count": null,
   "metadata": {},
   "outputs": [],
   "source": [
    "// Name -> Age map\n",
    "Map<String, Integer> nameAgeMap = persons.stream().collect(Collectors.toMap(a -> a.name, a -> a.age));\n",
    "\n",
    "// There is also a unmodifiable map counterpart"
   ]
  },
  {
   "cell_type": "markdown",
   "metadata": {},
   "source": [
    "To join values, use the `joining` collector. It provides the nice benefit that joins are done between two elements."
   ]
  },
  {
   "cell_type": "code",
   "execution_count": null,
   "metadata": {},
   "outputs": [],
   "source": [
    "// Join together as string\n",
    "String s = persons.stream().map(p -> p.name).collect(Collectors.joining(\", \")); // No comma at the end!\n",
    "\n",
    "// The same can be achieved using reduce, but is a bit clunky\n",
    "String[] s_ = { \"\" };\n",
    "persons.stream().map(p -> p.name).reduce((a, b) -> a + \", \" + b).ifPresent(a -> s_[0] = a);"
   ]
  },
  {
   "cell_type": "markdown",
   "metadata": {},
   "source": [
    "Using `partitioningBy` we can partition our stream into two segments. The two partitions are true and false partition and depend upon the condition we specify."
   ]
  },
  {
   "cell_type": "code",
   "execution_count": null,
   "metadata": {},
   "outputs": [],
   "source": [
    "Map<Boolean, List<Person>> agePartition = persons.stream().collect(Collectors.partitioningBy(p -> p.age > 30));"
   ]
  },
  {
   "cell_type": "markdown",
   "metadata": {},
   "source": [
    "For multiple partitions, we can use `groupingBy`. By grouping, we are essentially creating buckets."
   ]
  },
  {
   "cell_type": "code",
   "execution_count": null,
   "metadata": {},
   "outputs": [],
   "source": [
    "// Name -> person list\n",
    "Map<Integer, List<Person>> ageToPersonMap = persons.stream()\n",
    "    .collect(Collectors.groupingBy((p) -> p.age));\n",
    "\n",
    "// Name -> Age list\n",
    "// We employ an overloaded version of groupingBy which accepts another Collector\n",
    "Map<String, List<Integer>> nameAgeGroup = persons.stream()\n",
    "    .collect(Collectors.groupingBy(p -> p.name, Collectors.mapping(p -> p.age, Collectors.toList()))); \n",
    "// Why do we need toList collector in above case? Because the value is a list, if we want a set, we\n",
    "// can use toSet collector\n",
    "\n",
    "// Name -> name count\n",
    "Map<String, Long> nameFrequency = persons.stream()\n",
    "    .collect(Collectors.groupingBy(p -> p.name, Collectors.counting()));\n",
    "// What if we want Integer and not Long?\n",
    "Map<String, Integer> nameFrequency_ = persons.stream()\n",
    "    .collect(Collectors.groupingBy(p -> p.name, Collectors.collectingAndThen(Collectors.counting(), Long::intValue)));"
   ]
  },
  {
   "cell_type": "markdown",
   "metadata": {},
   "source": [
    "### Optional\n",
    "Consider the classes below:"
   ]
  },
  {
   "cell_type": "code",
   "execution_count": null,
   "metadata": {},
   "outputs": [],
   "source": [
    "public class Person {\n",
    "    private Car car;\n",
    "    public Car getCar() { return car; }\n",
    "}\n",
    "\n",
    "public class Car {\n",
    "    private Insurance insurance;\n",
    "    public Insurance getInsurance() { return insurance; }\n",
    "}\n",
    "\n",
    "public class Insurance {\n",
    "    private String name;\n",
    "    public String getName() { return name; }\n",
    "}"
   ]
  },
  {
   "cell_type": "markdown",
   "metadata": {},
   "source": [
    "Now if a person does not have a car, calling `p.getCar()` would return null. Acting upon a null reference can lead to program exceptions. A solution to this is to introduce defensive null checking"
   ]
  },
  {
   "cell_type": "code",
   "execution_count": null,
   "metadata": {},
   "outputs": [],
   "source": [
    "// Too much nesting\n",
    "public string getCarInsuranceName(Person p){\n",
    "    if(p != null){\n",
    "        Car c = p.getCar();\n",
    "        if(c != null){\n",
    "            Insurance i = c.getInsurance();\n",
    "            if(i != null){\n",
    "                return i.getName();\n",
    "            }\n",
    "        }\n",
    "    }\n",
    "    \n",
    "    return 'Unknown';\n",
    "}"
   ]
  },
  {
   "cell_type": "markdown",
   "metadata": {},
   "source": [
    "Another way would be:"
   ]
  },
  {
   "cell_type": "code",
   "execution_count": null,
   "metadata": {},
   "outputs": [],
   "source": [
    "// Too many repetitions\n",
    "public string getCarInsuranceName(Person p){\n",
    "    if(p == null){\n",
    "        return 'Unknown';\n",
    "    }\n",
    "    \n",
    "    Car c = p.getCar();\n",
    "    if(c == null){\n",
    "        return 'Unknown';\n",
    "    }\n",
    "    \n",
    "    Insurance i = c.getInsurance();\n",
    "    if(i == null){\n",
    "        return 'Unknown';\n",
    "    }\n",
    "    \n",
    "    return i.getName();\n",
    "}"
   ]
  },
  {
   "cell_type": "markdown",
   "metadata": {},
   "source": [
    "Using `Optional`, we can model our previous classes like:"
   ]
  },
  {
   "cell_type": "code",
   "execution_count": null,
   "metadata": {},
   "outputs": [],
   "source": [
    "public class Person {\n",
    "    private Optional<Car> car;\n",
    "    public Optional<Car> getCar() { return car; }\n",
    "}\n",
    "\n",
    "public class Car {\n",
    "    private Optional<Insurance> insurance;\n",
    "    public Optional<Insurance> getInsurance() { return insurance; }\n",
    "}\n",
    "\n",
    "public class Insurance {\n",
    "    private String name;\n",
    "    public String getName() { return name; }\n",
    "}"
   ]
  },
  {
   "cell_type": "markdown",
   "metadata": {},
   "source": [
    "The use of Optional enriches the semantics of your model. The fact that a person references an `Optional<Car>`, and a car an `Optional<Insurance>`, makes it explicit in the domain that a person might or might not own a car, and that car might or might not be insured. The name of insurance is not optional, thereby signalling that it is a mandatory field."
   ]
  },
  {
   "cell_type": "code",
   "execution_count": null,
   "metadata": {},
   "outputs": [],
   "source": [
    "// Presence of no car\n",
    "Optional<Car> noCar = Optional.empty();\n",
    "\n",
    "// Presence of car\n",
    "Optional<Car> car = Optional.of(new Car());"
   ]
  },
  {
   "cell_type": "markdown",
   "metadata": {},
   "source": [
    "To get the car from an optional,"
   ]
  },
  {
   "cell_type": "code",
   "execution_count": null,
   "metadata": {},
   "outputs": [],
   "source": [
    "Car c = car.get()"
   ]
  },
  {
   "cell_type": "markdown",
   "metadata": {},
   "source": [
    "But, the get method return `NoSuchElementException`, for which we would have to add try-catch block. So this brings us back to where we started!"
   ]
  },
  {
   "cell_type": "markdown",
   "metadata": {},
   "source": [
    "### Parallel Streams\n",
    "We can get a parallel stream by:"
   ]
  },
  {
   "cell_type": "code",
   "execution_count": 2,
   "metadata": {},
   "outputs": [
    {
     "name": "stdout",
     "output_type": "stream",
     "text": [
      "7 4 5 1 2 10 9 3 8 6 "
     ]
    }
   ],
   "source": [
    "import java.util.stream.Stream;\n",
    "\n",
    "// Converting existing sequential stream\n",
    "Stream<Integer> stream = Stream.of(1, 2, 3, 4, 5, 6, 7, 8, 9, 10);\n",
    "stream.parallel().forEach(x -> System.out.print(x + \" \"));"
   ]
  },
  {
   "cell_type": "code",
   "execution_count": 4,
   "metadata": {},
   "outputs": [
    {
     "name": "stdout",
     "output_type": "stream",
     "text": [
      "3 1 2 9 4 8 6 7 5 10 "
     ]
    }
   ],
   "source": [
    "// Creating a parallel stream\n",
    "Integer[] numbers = { 1, 2, 3, 4, 5, 6, 7, 8, 9, 10 };\n",
    "List<Integer> integerList = Arrays.asList(numbers);\n",
    "Stream<Integer> stream = integerList.parallelStream();\n",
    "stream.parallel().forEach(x -> System.out.print(x + \" \"));"
   ]
  },
  {
   "cell_type": "markdown",
   "metadata": {},
   "source": [
    "Using streams, the structure of concurrent code is same as the sequential one. As we can see from above example, there is just one switch to turn a sequential stream to a parallel one. What about the below code, will it create a parallel or a sequential stream?"
   ]
  },
  {
   "cell_type": "code",
   "execution_count": 5,
   "metadata": {},
   "outputs": [
    {
     "name": "stdout",
     "output_type": "stream",
     "text": [
      "1.0 2.0 3.0 4.0 5.0 6.0 7.0 8.0 9.0 10.0 "
     ]
    }
   ],
   "source": [
    "Stream.of(1, 2, 3, 4, 5, 6, 7, 8, 9, 10)\n",
    "    .parallel()\n",
    "    .map(e -> (float)e )\n",
    "    .sequential() // The last parallel or sequential operation decides\n",
    "                  // since intermediate operations are lazily evaluated\n",
    "    .forEach(x -> System.out.print(x + \" \"))   "
   ]
  },
  {
   "cell_type": "markdown",
   "metadata": {},
   "source": [
    "Let's see which threads execute the intermediate operations"
   ]
  },
  {
   "cell_type": "code",
   "execution_count": 7,
   "metadata": {},
   "outputs": [
    {
     "name": "stdout",
     "output_type": "stream",
     "text": [
      "Element=7, Thread=IJava-executor-3\n",
      "Element=9, Thread=ForkJoinPool.commonPool-worker-3\n",
      "Element=5, Thread=ForkJoinPool.commonPool-worker-5\n",
      "Element=8, Thread=ForkJoinPool.commonPool-worker-27\n",
      "Element=1, Thread=ForkJoinPool.commonPool-worker-7\n",
      "Element=4, Thread=ForkJoinPool.commonPool-worker-21\n",
      "Element=10, Thread=ForkJoinPool.commonPool-worker-13\n",
      "Element=3, Thread=ForkJoinPool.commonPool-worker-9\n",
      "Element=6, Thread=ForkJoinPool.commonPool-worker-31\n",
      "Element=2, Thread=ForkJoinPool.commonPool-worker-17\n"
     ]
    }
   ],
   "source": [
    "Stream.of(1, 2, 3, 4, 5, 6, 7, 8, 9, 10)\n",
    "    .parallel()\n",
    "    .map(e -> {\n",
    "        System.out.println(\"Element=\" + e + \", Thread=\" + Thread.currentThread().getName());\n",
    "        return e*e;\n",
    "    })\n",
    "    .forEach(x -> {})"
   ]
  },
  {
   "cell_type": "markdown",
   "metadata": {},
   "source": [
    "In case of sequential streams:"
   ]
  },
  {
   "cell_type": "code",
   "execution_count": 8,
   "metadata": {},
   "outputs": [
    {
     "name": "stdout",
     "output_type": "stream",
     "text": [
      "Element=1, Thread=IJava-executor-3\n",
      "Element=2, Thread=IJava-executor-3\n",
      "Element=3, Thread=IJava-executor-3\n",
      "Element=4, Thread=IJava-executor-3\n",
      "Element=5, Thread=IJava-executor-3\n",
      "Element=6, Thread=IJava-executor-3\n",
      "Element=7, Thread=IJava-executor-3\n",
      "Element=8, Thread=IJava-executor-3\n",
      "Element=9, Thread=IJava-executor-3\n",
      "Element=10, Thread=IJava-executor-3\n"
     ]
    }
   ],
   "source": [
    "// Main thread normally, Thread=IJava-executor-3 because this code\n",
    "// is executed by IPython Java kernel\n",
    "Stream.of(1, 2, 3, 4, 5, 6, 7, 8, 9, 10)\n",
    "    .map(e -> {\n",
    "        System.out.println(\"Element=\" + e + \", Thread=\" + Thread.currentThread().getName());\n",
    "        return e*e;\n",
    "    })\n",
    "    .forEach(x -> {})"
   ]
  },
  {
   "cell_type": "markdown",
   "metadata": {},
   "source": [
    "Parallel streams internally use `Common ForkJoinPool`. The number of threads is fixed (1 - number of cores). This can be modified using a vm argument.\n",
    "\n",
    "From the `forEach` output we can see that in case of parallel stream, the order is result is different. Some methods are inherently unordered whereas some have ordered counterpart. Consider the code below:"
   ]
  },
  {
   "cell_type": "code",
   "execution_count": 9,
   "metadata": {},
   "outputs": [
    {
     "name": "stdout",
     "output_type": "stream",
     "text": [
      "2 4 6 8 10 12 14 16 18 20 "
     ]
    }
   ],
   "source": [
    "Stream.of(1, 2, 3, 4, 5, 6, 7, 8, 9, 10)\n",
    "    .parallel()\n",
    "    .map(e -> e * 2)\n",
    "    .forEachOrdered(x -> System.out.print(x + \" \"))   "
   ]
  },
  {
   "cell_type": "markdown",
   "metadata": {},
   "source": [
    "Even though we used parallel stream, the order of elements is maintained. This is still parallel execution. Let's see the threads involved:"
   ]
  },
  {
   "cell_type": "code",
   "execution_count": 11,
   "metadata": {},
   "outputs": [
    {
     "name": "stdout",
     "output_type": "stream",
     "text": [
      "**Element=7, Thread=IJava-executor-5\n",
      "**Element=10, Thread=ForkJoinPool.commonPool-worker-17\n",
      "**Element=6, Thread=ForkJoinPool.commonPool-worker-9\n",
      "**Element=8, Thread=ForkJoinPool.commonPool-worker-29\n",
      "**Element=2, Thread=ForkJoinPool.commonPool-worker-15\n",
      "**Element=5, Thread=ForkJoinPool.commonPool-worker-23\n",
      "**Element=3, Thread=ForkJoinPool.commonPool-worker-13\n",
      "**Element=1, Thread=ForkJoinPool.commonPool-worker-19\n",
      "**Element=9, Thread=ForkJoinPool.commonPool-worker-25\n",
      "**Element=4, Thread=ForkJoinPool.commonPool-worker-1\n",
      "--Element=1, Thread=ForkJoinPool.commonPool-worker-19\n",
      "--Element=4, Thread=ForkJoinPool.commonPool-worker-19\n",
      "--Element=9, Thread=ForkJoinPool.commonPool-worker-19\n",
      "--Element=16, Thread=ForkJoinPool.commonPool-worker-19\n",
      "--Element=25, Thread=ForkJoinPool.commonPool-worker-19\n",
      "--Element=36, Thread=ForkJoinPool.commonPool-worker-19\n",
      "--Element=49, Thread=ForkJoinPool.commonPool-worker-19\n",
      "--Element=64, Thread=ForkJoinPool.commonPool-worker-19\n",
      "--Element=81, Thread=ForkJoinPool.commonPool-worker-19\n",
      "--Element=100, Thread=ForkJoinPool.commonPool-worker-19\n"
     ]
    }
   ],
   "source": [
    "Stream.of(1, 2, 3, 4, 5, 6, 7, 8, 9, 10)\n",
    "    .parallel()\n",
    "    .map(e -> {\n",
    "        System.out.println(\"**Element=\" + e + \", Thread=\" + Thread.currentThread().getName());\n",
    "        return e*e;\n",
    "    })\n",
    "    .forEachOrdered(e -> {\n",
    "        System.out.println(\"--Element=\" + e + \", Thread=\" + Thread.currentThread().getName());\n",
    "    })   "
   ]
  },
  {
   "cell_type": "markdown",
   "metadata": {},
   "source": [
    "We see that the two operations (map and forEachOrdered) are separately parallel. Compare this with:"
   ]
  },
  {
   "cell_type": "code",
   "execution_count": 12,
   "metadata": {},
   "outputs": [
    {
     "name": "stdout",
     "output_type": "stream",
     "text": [
      "**Element=9, Thread=ForkJoinPool.commonPool-worker-25\n",
      "**Element=1, Thread=ForkJoinPool.commonPool-worker-9\n",
      "**Element=4, Thread=ForkJoinPool.commonPool-worker-3\n",
      "--Element=16, Thread=ForkJoinPool.commonPool-worker-3\n",
      "**Element=5, Thread=ForkJoinPool.commonPool-worker-17\n",
      "**Element=10, Thread=ForkJoinPool.commonPool-worker-23\n",
      "**Element=6, Thread=ForkJoinPool.commonPool-worker-13\n",
      "**Element=8, Thread=ForkJoinPool.commonPool-worker-29\n",
      "--Element=64, Thread=ForkJoinPool.commonPool-worker-29\n",
      "**Element=2, Thread=ForkJoinPool.commonPool-worker-15\n",
      "**Element=3, Thread=ForkJoinPool.commonPool-worker-1\n",
      "--Element=9, Thread=ForkJoinPool.commonPool-worker-1\n",
      "--Element=4, Thread=ForkJoinPool.commonPool-worker-15\n",
      "--Element=36, Thread=ForkJoinPool.commonPool-worker-13\n",
      "--Element=100, Thread=ForkJoinPool.commonPool-worker-23\n",
      "--Element=25, Thread=ForkJoinPool.commonPool-worker-17\n",
      "--Element=1, Thread=ForkJoinPool.commonPool-worker-9\n",
      "--Element=81, Thread=ForkJoinPool.commonPool-worker-25\n",
      "**Element=7, Thread=IJava-executor-6\n",
      "--Element=49, Thread=IJava-executor-6\n"
     ]
    }
   ],
   "source": [
    "Stream.of(1, 2, 3, 4, 5, 6, 7, 8, 9, 10)\n",
    "    .parallel()\n",
    "    .map(e -> {\n",
    "        System.out.println(\"**Element=\" + e + \", Thread=\" + Thread.currentThread().getName());\n",
    "        return e*e;\n",
    "    })\n",
    "    .forEach(e -> {\n",
    "        System.out.println(\"--Element=\" + e + \", Thread=\" + Thread.currentThread().getName());\n",
    "    })   "
   ]
  },
  {
   "cell_type": "markdown",
   "metadata": {},
   "source": [
    "The ordering is guaranteed by forEachOrdered because lists have ordering. If the stream was formed from a set, no ordering would have been present. Similar observation can be made when using the `findAny` method.\n",
    "\n",
    "The reduce operation is also done parallely:"
   ]
  },
  {
   "cell_type": "code",
   "execution_count": 13,
   "metadata": {},
   "outputs": [
    {
     "name": "stdout",
     "output_type": "stream",
     "text": [
      "Total=0, x=3, Thread=ForkJoinPool.commonPool-worker-21\n",
      "Total=0, x=4, Thread=ForkJoinPool.commonPool-worker-19\n",
      "Total=0, x=1, Thread=ForkJoinPool.commonPool-worker-15\n",
      "Total=0, x=5, Thread=ForkJoinPool.commonPool-worker-1\n",
      "Total=0, x=9, Thread=ForkJoinPool.commonPool-worker-7\n",
      "Total=0, x=10, Thread=ForkJoinPool.commonPool-worker-11\n",
      "Total=0, x=2, Thread=ForkJoinPool.commonPool-worker-25\n",
      "Total=0, x=8, Thread=ForkJoinPool.commonPool-worker-29\n",
      "Total=0, x=7, Thread=IJava-executor-7\n",
      "Total=1, x=2, Thread=ForkJoinPool.commonPool-worker-25\n",
      "Total=9, x=10, Thread=ForkJoinPool.commonPool-worker-11\n",
      "Total=4, x=5, Thread=ForkJoinPool.commonPool-worker-1\n",
      "Total=3, x=9, Thread=ForkJoinPool.commonPool-worker-1\n",
      "Total=0, x=6, Thread=ForkJoinPool.commonPool-worker-5\n",
      "Total=6, x=7, Thread=ForkJoinPool.commonPool-worker-5\n",
      "Total=3, x=12, Thread=ForkJoinPool.commonPool-worker-1\n",
      "Total=8, x=19, Thread=ForkJoinPool.commonPool-worker-11\n",
      "Total=13, x=27, Thread=ForkJoinPool.commonPool-worker-11\n",
      "Total=15, x=40, Thread=ForkJoinPool.commonPool-worker-11\n"
     ]
    },
    {
     "data": {
      "text/plain": [
       "55"
      ]
     },
     "execution_count": 13,
     "metadata": {},
     "output_type": "execute_result"
    }
   ],
   "source": [
    "Stream.of(1, 2, 3, 4, 5, 6, 7, 8, 9, 10)\n",
    "    .parallel()\n",
    "    .reduce(0, (total, x) -> {\n",
    "        System.out.println(\"Total=\" + total + \", x=\" + x + \", Thread=\" + Thread.currentThread().getName());\n",
    "        return total + x;\n",
    "    })"
   ]
  },
  {
   "cell_type": "markdown",
   "metadata": {},
   "source": [
    "Which is why if we pass in an incorrect identity element, the error is amplified in case of parallel stream.  "
   ]
  },
  {
   "cell_type": "code",
   "execution_count": null,
   "metadata": {},
   "outputs": [],
   "source": []
  }
 ],
 "metadata": {
  "kernelspec": {
   "display_name": "Java",
   "language": "java",
   "name": "java"
  },
  "language_info": {
   "codemirror_mode": "java",
   "file_extension": ".jshell",
   "mimetype": "text/x-java-source",
   "name": "Java",
   "pygments_lexer": "java",
   "version": "13+33"
  }
 },
 "nbformat": 4,
 "nbformat_minor": 4
}
