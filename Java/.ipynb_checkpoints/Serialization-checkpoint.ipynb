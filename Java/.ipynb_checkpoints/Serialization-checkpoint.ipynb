{
 "cells": [
  {
   "cell_type": "markdown",
   "metadata": {},
   "source": [
    "### Serialization\n",
    "Serialization is the process of converting an object to byte stream. Serialized object can be saved on disc or transferred over network. Note that only the information that identifies its class is recorded, the class's definition (\"class file\") itself is not recorded. Only classes that implement `Serializable` interface can be serialized.  \n",
    "\n",
    "Some serialization rules:\n",
    "- all primitive types and its wrapper class are serializable\n",
    "- all instance variables must also be serializable\n",
    "- if one of the fields in a serializable object consists of an array of objects, then all these objects must be serializable as well\n",
    "- if parent class is serializable, then child class is also serializable\n",
    "- members marked as `transient` are not included in serialized output\n",
    "- static members also are not part of serialized output"
   ]
  },
  {
   "cell_type": "code",
   "execution_count": null,
   "metadata": {},
   "outputs": [],
   "source": [
    "class Employee implements Serializable{\n",
    "    // All primitives are Serializable\n",
    "    private int age;\n",
    "    \n",
    "    // Address class must implement Serializable\n",
    "    private Address address;\n",
    "    \n",
    "    // Transient members are not serialized\n",
    "    private transient Thread worker;\n",
    "    \n",
    "    // Getters and setters\n",
    "}\n",
    "\n",
    "class Serializer{\n",
    "    public static void serialize(String filename, Object obj, Class clazz) {\n",
    "        try (ObjectOutputStream out = new ObjectOutputStream(new FileOutputStream(new File(filename)))) {\n",
    "            out.writeObject(Class.forName(clazz.getCanonicalName()).cast(obj));\n",
    "        } catch (NotSerializableException e) {\n",
    "            System.err.println(\"This object cannot be serialized\");\n",
    "        } catch (IOException e) {\n",
    "            System.err.println(\"IO Exception\");\n",
    "        } catch (ClassNotFoundException e) {\n",
    "            System.out.println(\"Class not found\");\n",
    "        }\n",
    "    }\n",
    "    \n",
    "    public static void main(String[] args) throws FileNotFoundException, IOException {\n",
    "        Person p = new Person();\n",
    "        p.setAge(25);\n",
    "        Address address = new Address();\n",
    "        address.setCity(\"California\");\n",
    "        p.setAddress(address);\n",
    "\n",
    "        serialize(\"serializedPerson\", p, p.getClass());\n",
    "    }\n",
    "}"
   ]
  }
 ],
 "metadata": {
  "kernelspec": {
   "display_name": "Java",
   "language": "java",
   "name": "java"
  },
  "language_info": {
   "codemirror_mode": "java",
   "file_extension": ".jshell",
   "mimetype": "text/x-java-source",
   "name": "Java",
   "pygments_lexer": "java",
   "version": "13+33"
  }
 },
 "nbformat": 4,
 "nbformat_minor": 4
}
