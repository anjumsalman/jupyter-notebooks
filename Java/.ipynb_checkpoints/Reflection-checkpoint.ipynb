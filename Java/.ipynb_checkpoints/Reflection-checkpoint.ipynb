{
 "cells": [
  {
   "cell_type": "markdown",
   "metadata": {},
   "source": [
    "### Reflection\n",
    "Allows a program to inspect itself during runtime. `java.lang.Class` provides methods to examine the runtime properties of the object including its members and type information. Class also provides the ability to create new classes and objects. Most importantly, it is the entry point for all of the Reflection APIs.  \n",
    "\n",
    "Two common syntaxes are used to refer to the Class object - `.class` and `getClass`. Both are quite different, so we should keep in mind the difference. The first one is static reference and resolves at compile time, whereas the other resolves at runtime."
   ]
  },
  {
   "cell_type": "code",
   "execution_count": 2,
   "metadata": {},
   "outputs": [
    {
     "name": "stdout",
     "output_type": "stream",
     "text": [
      "class java.lang.String\n",
      "class java.lang.String\n"
     ]
    }
   ],
   "source": [
    "Class strClass = \"Hello\".getClass();\n",
    "\n",
    "// Main usage of the below syntax are cases where we don't have an\n",
    "// instance, we just have the Class\n",
    "Class strClass2 = String.class;\n",
    "\n",
    "System.out.println(strClass);\n",
    "System.out.println(strClass2);"
   ]
  },
  {
   "cell_type": "code",
   "execution_count": 3,
   "metadata": {},
   "outputs": [
    {
     "name": "stdout",
     "output_type": "stream",
     "text": [
      "class java.lang.String\n"
     ]
    }
   ],
   "source": [
    "CharSequence characters = new String(\"Hello\");\n",
    "Class clazz = characters.getClass();\n",
    "\n",
    "System.out.println(clazz);"
   ]
  },
  {
   "cell_type": "markdown",
   "metadata": {},
   "source": [
    "Another way to get the Class is `Class.forName`. But again, this is used when we have the fully qualified name of the class, not when we have an instance of the class."
   ]
  },
  {
   "cell_type": "code",
   "execution_count": 4,
   "metadata": {},
   "outputs": [
    {
     "name": "stdout",
     "output_type": "stream",
     "text": [
      "class java.lang.String\n"
     ]
    }
   ],
   "source": [
    "Class clazz = Class.forName(\"java.lang.String\");\n",
    "\n",
    "Class clazz = characters.getClass();\n",
    "\n",
    "System.out.println(clazz);"
   ]
  },
  {
   "cell_type": "markdown",
   "metadata": {},
   "source": [
    "### Class Modifiers and Types\n",
    "To get modifiers `public`, `private`, `protected`, `static`, `final`, `abstract`, etc and to get annotation data, and to get other class information:"
   ]
  },
  {
   "cell_type": "code",
   "execution_count": 4,
   "metadata": {},
   "outputs": [
    {
     "name": "stdout",
     "output_type": "stream",
     "text": [
      "Class: java.lang.String\n",
      "Modifiers: public final\n",
      "Ancestors: \n",
      "\tjava.lang.Object\n"
     ]
    }
   ],
   "source": [
    "import java.lang.reflect.*;\n",
    "import java.util.*;\n",
    "\n",
    "Class<?> clazz = \"String\".getClass();\n",
    "\n",
    "// Get class name\n",
    "System.out.println(\"Class: \" + clazz.getCanonicalName());\n",
    "\n",
    "// Modifiers\n",
    "System.out.println(\"Modifiers: \" + Modifier.toString(clazz.getModifiers()));\n",
    "\n",
    "// Ancestors\n",
    "System.out.println(\"Ancestors: \");\n",
    "Class<?> ancestor = clazz.getSuperclass();\n",
    "System.out.println(\"\\t\" + ancestor.getCanonicalName());\n",
    "while(ancestor != Object.class){\n",
    "    ancestor = clazz.getSuperclass();\n",
    "    System.out.println(\"\\t\" + ancestor.getCanonicalName());\n",
    "}"
   ]
  },
  {
   "cell_type": "markdown",
   "metadata": {},
   "source": [
    "### Class Members\n",
    "We can get constructors, instance variables and methods of a class using the Reflectoin API. `Class` methods having *Declared* in its name means exclude inherited members."
   ]
  },
  {
   "cell_type": "code",
   "execution_count": 5,
   "metadata": {},
   "outputs": [
    {
     "name": "stdout",
     "output_type": "stream",
     "text": [
      "Fields:\n",
      "\tvalue\tcoder\thash\thashIsZero\tserialVersionUID\tCOMPACT_STRINGS\tserialPersistentFields\tCASE_INSENSITIVE_ORDER\tLATIN1\tUTF16\n",
      "Methods:\n",
      "\tvalue\tequals\tlength\ttoString\thashCode\tgetChars\tcompareTo\tcompareTo\tindexOf\tindexOf\tindexOf\tindexOf\tindexOf\tcheckIndex\tvalueOf\tvalueOf\tvalueOf\tvalueOf\tvalueOf\tvalueOf\tvalueOf\tvalueOf\tvalueOf\tcoder\trangeCheck\tcheckBoundsOffCount\tisLatin1\tcharAt\tcodePointAt\tcodePointBefore\tcodePointCount\toffsetByCodePoints\tcheckBoundsBeginEnd\tgetBytes\tgetBytes\tgetBytes\tgetBytes\tgetBytes\tcontentEquals\tcontentEquals\tnonSyncContentEquals\tregionMatches\tregionMatches\tstartsWith\tstartsWith\tlastIndexOf\tlastIndexOf\tlastIndexOf\tlastIndexOf\tlastIndexOf\tsubstring\tsubstring\tisEmpty\treplace\treplace\tmatches\treplaceFirst\treplaceAll\tsplit\tsplit\ttoLowerCase\ttoLowerCase\ttoUpperCase\ttoUpperCase\ttrim\tstrip\tstripLeading\tstripTrailing\tindexOfNonWhitespace\tlines\trepeat\tlastIndexOfNonWhitespace\toutdent\tisBlank\ttoCharArray\tformat\tformat\tresolveConstantDesc\tresolveConstantDesc\tcodePoints\tequalsIgnoreCase\tcompareToIgnoreCase\tendsWith\tsubSequence\tconcat\tcontains\tjoin\tjoin\tindent\tstripIndent\ttranslateEscapes\tchars\ttransform\tformatted\tcopyValueOf\tcopyValueOf\tintern\tcheckOffset\tvalueOfCodePoint\tdescribeConstable\tlambda$stripIndent$3\tlambda$indent$2\tlambda$indent$1\tlambda$indent$0\n",
      "Constructors: 18 count\n"
     ]
    }
   ],
   "source": [
    "Class<?> clazz = \"Integer\".getClass();\n",
    "\n",
    "// All declared instance variables:\n",
    "System.out.println(\"Fields:\");\n",
    "Field[] fields = clazz.getDeclaredFields();\n",
    "for (Field f : fields) {\n",
    "    System.out.print(\"\\t\" + f.getName());\n",
    "}\n",
    "\n",
    "// All declared instance methods:\n",
    "System.out.println(\"\\nMethods:\");\n",
    "Method[] methods = clazz.getDeclaredMethods();\n",
    "for (Method m : methods) {\n",
    "    System.out.print(\"\\t\" + m.getName());\n",
    "}\n",
    "\n",
    "// All declared instance methods:\n",
    "Constructor<?>[] constructors = clazz.getDeclaredConstructors();\n",
    "System.out.println(\"\\nConstructors: \" + constructors.length + \" count\");"
   ]
  }
 ],
 "metadata": {
  "kernelspec": {
   "display_name": "Java",
   "language": "java",
   "name": "java"
  },
  "language_info": {
   "codemirror_mode": "java",
   "file_extension": ".jshell",
   "mimetype": "text/x-java-source",
   "name": "Java",
   "pygments_lexer": "java",
   "version": "13+33"
  }
 },
 "nbformat": 4,
 "nbformat_minor": 4
}
