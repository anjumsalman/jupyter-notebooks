{
 "cells": [
  {
   "cell_type": "markdown",
   "metadata": {},
   "source": [
    "### IO Class Hierarchy \n",
    "Java supports two types of streams:\n",
    "- byte streams : read data in bytes\n",
    "- character streams : read data as characters\n",
    "\n",
    "Separate classes are there for reading data and writing data. For byte streams, `InputStream` and `OutputStream` are at the top of the hierarchy. For character stream `Reader` and `Writer` are at the top of the hierarchy."
   ]
  },
  {
   "cell_type": "markdown",
   "metadata": {},
   "source": [
    "### Byte Stream\n",
    "Hierarchy\n",
    "```\n",
    "InputStream\n",
    "        |\n",
    "        +--- FileInputStream : obtain bytes from a file\n",
    "        +--- AudioInputStream: obtain bytes from an audio stream\n",
    "        +--- ObjectInputStream: for reading serialized objects\n",
    "        +--- FilterInputStream: transforms other input streams\n",
    "        |                   |\n",
    "        |                   +--- BufferedInputStream\n",
    "        +--- PipedInputStream\n",
    "        +--- ...                      \n",
    "```\n",
    "Similarly\n",
    "```\n",
    "OutputStream\n",
    "        |\n",
    "        +--- FileOutputStream\n",
    "        +--- ObjectOutputStream\n",
    "        +--- FilterOutputStream\n",
    "        |                   |\n",
    "        |                   +--- BufferedOutputStream\n",
    "        +--- PipedOutputStream\n",
    "        +--- ...                      \n",
    "```"
   ]
  },
  {
   "cell_type": "markdown",
   "metadata": {},
   "source": [
    "### Some Use Cases\n",
    "1. Reading text file using InputStream. Reading a utf-8 encoded file with foreign characters will not give correct result if characters are outside ASCII range.  \n",
    "\n",
    "```java\n",
    "public void readTextFile(String path) {\n",
    "\t\ttry(InputStream in = new FileInputStream(new File(path))){\n",
    "\t\t\tint data = -1;\n",
    "\t\t\twhile((data = in.read())!=-1) {\n",
    "\t\t\t\tSystem.out.print((char)data);\t// Even though char is two bytes big\n",
    "\t\t\t}\t\t\t\t\t\t\t\t\t// data will always be 1 byte long\n",
    "\t\t} catch (FileNotFoundException e) {\n",
    "\t\t\te.printStackTrace();\n",
    "\t\t} catch (IOException e) {\n",
    "\t\t\te.printStackTrace();\n",
    "\t\t}\n",
    "\t}\n",
    "```"
   ]
  },
  {
   "cell_type": "markdown",
   "metadata": {},
   "source": [
    "2. Reading header of a wav file. A wave file's header is always \"RIFF\".  \n",
    "\n",
    "```java\n",
    "public void readWaveHeader(String path) {\n",
    "\t\ttry(InputStream in = new FileInputStream(new File(path))){\n",
    "\t\t\tbyte[] headerBytes = new byte[4];\n",
    "\t\t\tin.read(headerBytes, 0, 4);\n",
    "\t\t\tfor(int i=0;i<4;i++) {\n",
    "\t\t\t\tSystem.out.print((char)headerBytes[i]);\n",
    "\t\t\t}\n",
    "\t\t} catch (FileNotFoundException e) {\n",
    "\t\t\te.printStackTrace();\n",
    "\t\t} catch (IOException e) {\n",
    "\t\t\te.printStackTrace();\n",
    "\t\t}\n",
    "\t}\n",
    "```"
   ]
  },
  {
   "cell_type": "markdown",
   "metadata": {},
   "source": [
    "3. Writing to a file  \n",
    "\n",
    "```java\n",
    "public static void writeTables(String path, int start, int end) {\n",
    "\t\ttry(OutputStream out = new FileOutputStream(new File(path))){\n",
    "\t\t\tfor(int i=start;i<=end;i++) {\n",
    "\t\t\t\tfor(int j=1;j<10;j++) {\n",
    "\t\t\t\t\tint result = i*j;\n",
    "\t\t\t\t\tString line = \"\" + i + \" X \" + j + \" = \" + result + System.lineSeparator();\n",
    "\t\t\t\t\tout.write(line.getBytes());\n",
    "\t\t\t\t}\n",
    "\t\t\t}\n",
    "\t\t} catch (FileNotFoundException e) {\n",
    "\t\t\te.printStackTrace();\n",
    "\t\t} catch (IOException e) {\n",
    "\t\t\te.printStackTrace();\n",
    "\t\t}\n",
    "\t}\n",
    "```"
   ]
  },
  {
   "cell_type": "markdown",
   "metadata": {},
   "source": [
    "### Buffered Byte Stream\n",
    "If multiple reads or writes are to be made to a stream, it is better to use Buffered Input/Output stream. Buffered streams maintain a small byte buffer to/from which bytes are written/read. We supply a stream as constructor parameter to buffered stream."
   ]
  },
  {
   "cell_type": "markdown",
   "metadata": {},
   "source": [
    "```java\n",
    "\tpublic static void readTextFile(String path) {\n",
    "\t\ttry(InputStream in = new BufferedInputStream(new FileInputStream(new File(path)))){\n",
    "\t\t\tint data = -1;\n",
    "\t\t\twhile((data = in.read())!=-1) {\n",
    "\t\t\t\tSystem.out.print((char)data);\t\n",
    "\t\t\t}\t\t\t\t\t\t\t\t\t\n",
    "\t\t} catch (FileNotFoundException e) {\n",
    "\t\t\te.printStackTrace();\n",
    "\t\t} catch (IOException e) {\n",
    "\t\t\te.printStackTrace();\n",
    "\t\t}\n",
    "\t}\n",
    "```"
   ]
  },
  {
   "cell_type": "markdown",
   "metadata": {},
   "source": [
    "One additional benefit is that these classes support `mark` and `reset` operations."
   ]
  },
  {
   "cell_type": "markdown",
   "metadata": {},
   "source": [
    "### Character Streams\n",
    "Hierarchy\n",
    "```\n",
    "Reader\n",
    "    |\n",
    "    +--- BufferedReader\n",
    "    +--- InputStreamReader: bridge between byte and character stream. Lets you set encoding.\n",
    "    |                   |\n",
    "    |                   +--- FileReader\n",
    "    +--- StringReader\n",
    "    +--- FilterReader\n",
    "    +--- ...\n",
    "```\n",
    "For Writer,\n",
    "```\n",
    "Writer\n",
    "    |\n",
    "    +--- BufferedWriter\n",
    "    +--- OutputStreamWriter\n",
    "    |                   |\n",
    "    |                   +--- FileWriter\n",
    "    +--- StringWriter\n",
    "    +--- FilterWriter\n",
    "    +--- ...\n",
    "```"
   ]
  },
  {
   "cell_type": "markdown",
   "metadata": {},
   "source": [
    "### Use Cases\n",
    "1. Reading a text file. FileReader uses platform default encoding, which isn't always a great idea. It may fail to read foreign characters properly.  \n",
    "\n",
    "```java\n",
    "public static void readSomeCharacters(String path, int amount) {\n",
    "\t\ttry(Reader r = new FileReader(path)){\n",
    "\t\t\tchar[] data = new char[amount];\n",
    "\t\t\tr.read(data,0,amount);\n",
    "\t\t\tSystem.out.print(data);\n",
    "\t\t} catch (FileNotFoundException e) {\n",
    "\t\t\te.printStackTrace();\n",
    "\t\t} catch (IOException e) {\n",
    "\t\t\te.printStackTrace();\n",
    "\t\t}\n",
    "\t}\n",
    "```"
   ]
  },
  {
   "cell_type": "markdown",
   "metadata": {},
   "source": [
    "2. BufferedReader is the better choice in most cases. Above example wrapped in BufferedReader:  \n",
    "\n",
    "```java\n",
    "public static void readLines(String path) {\n",
    "\t\ttry(BufferedReader br = new BufferedReader(new FileReader(path))){\n",
    "\t\t\tString line = null;\n",
    "\t\t\twhile((line=br.readLine()) != null) {\n",
    "\t\t\t\tSystem.out.println(line);\n",
    "\t\t\t}\n",
    "\t\t} catch (FileNotFoundException e) {\n",
    "\t\t\te.printStackTrace();\n",
    "\t\t} catch (IOException e) {\n",
    "\t\t\te.printStackTrace();\n",
    "\t\t}\n",
    "\t}\n",
    "```\n",
    "\n",
    "Additionally, BufferedReader can read entire line at a time."
   ]
  },
  {
   "cell_type": "markdown",
   "metadata": {},
   "source": [
    "3. Writing UTF-16 encoded content.\n",
    "\n",
    "```java\n",
    "public void writeLines(String path) {\n",
    "\t\ttry(BufferedWriter bw = new BufferedWriter(\n",
    "\t\t\t\tnew OutputStreamWriter(\n",
    "\t\t\t\t\t\tnew FileOutputStream(\n",
    "\t\t\t\t\t\t\t\tnew File(path)), \"UTF-16\"))){\n",
    "\t\t\tString text = \"تشكيل الحروف\";\n",
    "\t\t\tbw.write(text);\n",
    "\t\t} catch (UnsupportedEncodingException e) {\n",
    "\t\t\te.printStackTrace();\n",
    "\t\t} catch (FileNotFoundException e) {\n",
    "\t\t\te.printStackTrace();\n",
    "\t\t} catch (IOException e) {\n",
    "\t\t\te.printStackTrace();\n",
    "\t\t}\n",
    "\t}\n",
    "```"
   ]
  },
  {
   "cell_type": "code",
   "execution_count": null,
   "metadata": {},
   "outputs": [],
   "source": []
  }
 ],
 "metadata": {
  "kernelspec": {
   "display_name": "Java",
   "language": "java",
   "name": "java"
  },
  "language_info": {
   "codemirror_mode": "java",
   "file_extension": ".java",
   "mimetype": "text/x-java-source",
   "name": "Java",
   "pygments_lexer": "java",
   "version": "9+181"
  }
 },
 "nbformat": 4,
 "nbformat_minor": 2
}
