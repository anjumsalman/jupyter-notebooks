{
 "cells": [
  {
   "cell_type": "markdown",
   "metadata": {},
   "source": [
    "### IO Class Hierarchy \n",
    "Java supports two types of streams:\n",
    "- byte streams : read data in bytes\n",
    "- character streams : read data as characters\n",
    "\n",
    "Separate classes are there for reading data and writing data. For byte streams, `InputStream` and `OutputStream` abstract classes are at the top of the hierarchy. For character stream `Reader` and `Writer` are at the top of the hierarchy."
   ]
  },
  {
   "cell_type": "markdown",
   "metadata": {},
   "source": [
    "### Byte Stream\n",
    "Hierarchy\n",
    "```\n",
    "InputStream\n",
    "        |\n",
    "        +--- FileInputStream : obtain bytes from a file\n",
    "        +--- AudioInputStream: obtain bytes from an audio stream\n",
    "        +--- ObjectInputStream: for reading serialized objects\n",
    "        +--- FilterInputStream: transforms other input streams\n",
    "        |                   |\n",
    "        |                   +--- BufferedInputStream\n",
    "        +--- PipedInputStream\n",
    "        +--- ...                      \n",
    "```\n",
    "Similarly\n",
    "```\n",
    "OutputStream\n",
    "        |\n",
    "        +--- FileOutputStream\n",
    "        +--- ObjectOutputStream\n",
    "        +--- FilterOutputStream\n",
    "        |                   |\n",
    "        |                   +--- BufferedOutputStream\n",
    "        +--- PipedOutputStream\n",
    "        +--- ...                      \n",
    "```"
   ]
  },
  {
   "cell_type": "markdown",
   "metadata": {},
   "source": [
    "### Some Use Cases\n",
    "1. Reading text file using InputStream. Reading a utf-8 encoded file with foreign characters will not give correct result if characters are outside ASCII range.  "
   ]
  },
  {
   "cell_type": "code",
   "execution_count": null,
   "metadata": {},
   "outputs": [],
   "source": [
    "public void readTextFile(String path) {\n",
    "        try(InputStream in = new FileInputStream(new File(path))){\n",
    "            int data = -1;\n",
    "            while((data = in.read())!=-1) {\n",
    "                System.out.print((char)data);    // Even though char is two bytes big\n",
    "            }                                    // data will always be 1 byte long\n",
    "        } catch (FileNotFoundException e) {\n",
    "            e.printStackTrace();\n",
    "        } catch (IOException e) {\n",
    "            e.printStackTrace();\n",
    "        }\n",
    "    }"
   ]
  },
  {
   "cell_type": "markdown",
   "metadata": {},
   "source": [
    "2. Reading header of a wav file. A wave file's header is always \"RIFF\".  "
   ]
  },
  {
   "cell_type": "code",
   "execution_count": null,
   "metadata": {},
   "outputs": [],
   "source": [
    "public void readWaveHeader(String path) {\n",
    "        try(InputStream in = new FileInputStream(new File(path))){\n",
    "            byte[] headerBytes = new byte[4];\n",
    "            in.read(headerBytes, 0, 4);\n",
    "            for(int i=0;i<4;i++) {\n",
    "                System.out.print((char)headerBytes[i]);\n",
    "            }\n",
    "        } catch (FileNotFoundException e) {\n",
    "            e.printStackTrace();\n",
    "        } catch (IOException e) {\n",
    "            e.printStackTrace();\n",
    "        }\n",
    "    }"
   ]
  },
  {
   "cell_type": "markdown",
   "metadata": {},
   "source": [
    "3. Writing to a file  "
   ]
  },
  {
   "cell_type": "code",
   "execution_count": null,
   "metadata": {},
   "outputs": [],
   "source": [
    "public static void writeTables(String path, int start, int end) {\n",
    "        try(OutputStream out = new FileOutputStream(new File(path))){\n",
    "            for(int i=start;i<=end;i++) {\n",
    "                for(int j=1;j<10;j++) {\n",
    "                    int result = i*j;\n",
    "                    String line = \"\" + i + \" X \" + j + \" = \" + result + System.lineSeparator();\n",
    "                    out.write(line.getBytes());\n",
    "                }\n",
    "            }\n",
    "        } catch (FileNotFoundException e) {\n",
    "            e.printStackTrace();\n",
    "        } catch (IOException e) {\n",
    "            e.printStackTrace();\n",
    "        }\n",
    "    }"
   ]
  },
  {
   "cell_type": "markdown",
   "metadata": {},
   "source": [
    "### Buffered Byte Stream\n",
    "If multiple reads or writes are to be made to a stream, it is better to use Buffered Input/Output stream. Buffered streams maintain a small byte buffer to/from which bytes are written/read. We supply a stream as constructor parameter to buffered stream."
   ]
  },
  {
   "cell_type": "code",
   "execution_count": null,
   "metadata": {},
   "outputs": [],
   "source": [
    "public static void readTextFile(String path) {\n",
    "    try(InputStream in = new BufferedInputStream(new FileInputStream(new File(path)))){\n",
    "        int data = -1;\n",
    "        while((data = in.read())!=-1) {\n",
    "            System.out.print((char)data);\n",
    "        }\n",
    "    } catch (FileNotFoundException e) {\n",
    "        e.printStackTrace();\n",
    "    } catch (IOException e) {\n",
    "        e.printStackTrace();\n",
    "    }\n",
    "}"
   ]
  },
  {
   "cell_type": "markdown",
   "metadata": {},
   "source": [
    "One additional benefit is that these classes support `mark` and `reset` operations."
   ]
  },
  {
   "cell_type": "markdown",
   "metadata": {},
   "source": [
    "### Character Streams\n",
    "Hierarchy\n",
    "```\n",
    "Reader\n",
    "    |\n",
    "    +--- BufferedReader\n",
    "    +--- InputStreamReader: bridge between byte and character stream. Lets you set encoding.\n",
    "    |                   |\n",
    "    |                   +--- FileReader\n",
    "    +--- StringReader\n",
    "    +--- FilterReader\n",
    "    +--- ...\n",
    "```\n",
    "For Writer,\n",
    "```\n",
    "Writer\n",
    "    |\n",
    "    +--- BufferedWriter\n",
    "    +--- OutputStreamWriter\n",
    "    |                   |\n",
    "    |                   +--- FileWriter\n",
    "    +--- StringWriter\n",
    "    +--- FilterWriter\n",
    "    +--- ...\n",
    "```"
   ]
  },
  {
   "cell_type": "markdown",
   "metadata": {},
   "source": [
    "### Use Cases\n",
    "1. Reading a text file. FileReader uses platform default encoding, which isn't always a great idea. It may fail to read foreign characters properly."
   ]
  },
  {
   "cell_type": "code",
   "execution_count": null,
   "metadata": {},
   "outputs": [],
   "source": [
    "public static void readSomeCharacters(String path, int amount) {\n",
    "    try(Reader r = new FileReader(path)){\n",
    "        char[] data = new char[amount];\n",
    "        r.read(data,0,amount);\n",
    "        System.out.print(data);\n",
    "    } catch (FileNotFoundException e) {\n",
    "        e.printStackTrace();\n",
    "    } catch (IOException e) {\n",
    "        e.printStackTrace();\n",
    "    }\n",
    "}"
   ]
  },
  {
   "cell_type": "markdown",
   "metadata": {},
   "source": [
    "2. BufferedReader is the better choice in most cases. It can read entire line at a time. Above example wrapped in BufferedReader:"
   ]
  },
  {
   "cell_type": "code",
   "execution_count": null,
   "metadata": {},
   "outputs": [],
   "source": [
    "public static void readLines(String path) {\n",
    "    try(BufferedReader br = new BufferedReader(new FileReader(path))){\n",
    "        String line = null;\n",
    "        while((line=br.readLine()) != null) {\n",
    "            System.out.println(line);\n",
    "        }\n",
    "    } catch (FileNotFoundException e) {\n",
    "        e.printStackTrace();\n",
    "    } catch (IOException e) {\n",
    "        e.printStackTrace();\n",
    "    }\n",
    "}"
   ]
  },
  {
   "cell_type": "markdown",
   "metadata": {},
   "source": [
    "3. Writing UTF-16 encoded content."
   ]
  },
  {
   "cell_type": "code",
   "execution_count": null,
   "metadata": {},
   "outputs": [],
   "source": [
    "public void writeLines(String path) {\n",
    "    try(BufferedWriter bw = new BufferedWriter(\n",
    "            new OutputStreamWriter(\n",
    "                    new FileOutputStream(\n",
    "                            new File(path)), \"UTF-16\"))){\n",
    "        String text = \"تشكيل الحروف\";\n",
    "        bw.write(text);\n",
    "    } catch (UnsupportedEncodingException e) {\n",
    "        e.printStackTrace();\n",
    "    } catch (FileNotFoundException e) {\n",
    "        e.printStackTrace();\n",
    "    } catch (IOException e) {\n",
    "        e.printStackTrace();\n",
    "    }\n",
    "}"
   ]
  },
  {
   "cell_type": "markdown",
   "metadata": {},
   "source": [
    "### Files API\n",
    "Java 7 introduced a new set of API for file and directory related operations located in `java.nio` package. Two important classes `Files` and `Paths` contain several static methods. Paths class helps generate Path object which is the parameter for most of the static methods of Files class."
   ]
  },
  {
   "cell_type": "code",
   "execution_count": null,
   "metadata": {},
   "outputs": [],
   "source": [
    "final String HOME = System.getProperty(\"user.home\");\n",
    "final String SEP = File.separator;\n",
    "\n",
    "Path path = Paths.get(HOME + SEP + \"Downloads\" + SEP + \"redis.conf\");\n",
    "\n",
    "// --- Checking existence ---\n",
    "if (Files.exists(path)) {\n",
    "    System.out.print (\"Path exists \");\n",
    "}\n",
    "// Check if it is a directory\n",
    "if(Files.isDirectory(path)) {\n",
    "    System.out.println(\"and is a directory\");\n",
    "} else {\n",
    "    System.out.println(\"and is a file\");\n",
    "}\n",
    "\n",
    "// --- Check permissions ---\n",
    "System.out.print(\"Path is \");\n",
    "if(Files.isReadable(path)) {\n",
    "    System.out.print(\"readable, \");\n",
    "}\n",
    "if(Files.isWritable(path)) {\n",
    "    System.out.print(\"writable, \");\n",
    "}\n",
    "if(Files.isExecutable(path)) {\n",
    "    System.out.print(\"executable, \");\n",
    "}\n",
    "System.out.println();\n",
    "\n",
    "// --- Creating files/ directories\n",
    "String filename = \"file_\" + UUID.randomUUID() + \".txt\";\n",
    "Path p = Paths.get(HOME + SEP + filename);\n",
    "try {\n",
    "    Files.createFile(p);\n",
    "} catch (IOException e) {\n",
    "    e.printStackTrace();\n",
    "}\n",
    "\n",
    "// Use createDirectories to create all intermediate\n",
    "// directories\n",
    "String directoryName = \"files\";\n",
    "Path d = Paths.get(HOME + SEP + directoryName);\n",
    "try {\n",
    "    Files.createDirectory(d);\n",
    "} catch (IOException e) {\n",
    "    e.printStackTrace();\n",
    "}"
   ]
  }
 ],
 "metadata": {
  "kernelspec": {
   "display_name": "Java",
   "language": "java",
   "name": "java"
  },
  "language_info": {
   "codemirror_mode": "java",
   "file_extension": ".jshell",
   "mimetype": "text/x-java-source",
   "name": "Java",
   "pygments_lexer": "java",
   "version": "13+33"
  }
 },
 "nbformat": 4,
 "nbformat_minor": 4
}
