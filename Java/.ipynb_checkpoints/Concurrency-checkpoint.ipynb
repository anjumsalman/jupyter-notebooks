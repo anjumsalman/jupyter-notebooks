{
 "cells": [
  {
   "cell_type": "markdown",
   "metadata": {},
   "source": [
    "### Creating and Running Threads\n",
    "To create a thread we can either extend the Thread class or pass Runnable to the Thread constructor.\n",
    "\n",
    "```java\n",
    "// Extend Thread class\n",
    "public class SampleThread extends Thread {\n",
    "\t@Override\n",
    "\tpublic void run() {\n",
    "\t\tSystem.out.println(\"Thread is running\");\n",
    "\t}\n",
    "\n",
    "\tpublic static void main(String[] args) {\n",
    "\t\tSampleThread thread = new SampleThread();\n",
    "\t\tthread.start();\n",
    "\t}\n",
    "}\n",
    "```\n",
    "\n",
    "Or\n",
    "```java\n",
    "public static void main(String[] args) {\n",
    "\t\tRunnable r = new Runnable() {\n",
    "\t\t\t@Override\n",
    "\t\t\tpublic void run() {\n",
    "\t\t\t\tSystem.out.println(\"Thread is running\");\n",
    "\t\t\t}\n",
    "\t\t};\n",
    "\t\t\n",
    "\t\tThread t = new Thread(r);\n",
    "\t\tt.start();\n",
    "\t}\n",
    "```\n",
    "\n",
    "We can assign a name to the Thread by using the constructor which accepts name as the second parameter.\n",
    "```java\n",
    "Thread t = new Thread(r, \"Thread A\");\n",
    "t.start();\n",
    "```\n",
    "\n",
    "In order to get the current thread in execution:\n",
    "```java\n",
    "public static void main(String[] args) {\n",
    "\t\tThread t1 = new Thread(() -> {\n",
    "\t\t\tSystem.out.println(\"Running thread: \" + Thread.currentThread().getName());\n",
    "\t\t}, \"Thread 1\");\n",
    "\t\tt1.start();\n",
    "\n",
    "\t\tThread t2 = new Thread(() -> {\n",
    "\t\t\tSystem.out.println(\"Running thread: \" + Thread.currentThread().getName());\n",
    "\t\t}, \"Thread 2\");\n",
    "\t\tt2.start();\n",
    "\n",
    "\t\tThread t3 = new Thread(() -> {\n",
    "\t\t\tSystem.out.println(\"Running thread: \" + Thread.currentThread().getName());\n",
    "\t\t}, \"Thread 3\");\n",
    "\t\tt3.start();\n",
    "\t}\n",
    "```"
   ]
  },
  {
   "cell_type": "markdown",
   "metadata": {},
   "source": [
    "### Race Condition and Atomicity\n",
    "Many operations in Java, consist of smaller operations. Operation as small as addition `a +=1` is actually composed of the following instructions:\n",
    "- Get data from memory\n",
    "- Add one to data\n",
    "- Put data back to the memory\n",
    "\n",
    "When multiple threads do the same operations, the above listed steps may get interleaved giving incorrect result. For example:\n",
    "```java\n",
    "public class AtomicOperation {\n",
    "\tpublic static void main(String[] args) {\n",
    "\t\tSharedUnsafeObject obj = new SharedUnsafeObject();\n",
    "\n",
    "\t\tfor (int i = 0; i < 5; i++) {\n",
    "\t\t\tnew Thread(() -> {\n",
    "\t\t\t\tobj.incrementCounter();\n",
    "\t\t\t}).start();\n",
    "\t\t}\n",
    "\t\t\n",
    "\t\ttry {\n",
    "\t\t\tThread.sleep(1000);\n",
    "\t\t\tSystem.out.println(obj.getCounter()); // Output not guaranteed as 5\n",
    "\t\t} catch (InterruptedException e) {\n",
    "\t\t\te.printStackTrace();\n",
    "\t\t}\n",
    "\t}\n",
    "}\n",
    "\n",
    "class SharedUnsafeObject {\n",
    "\tprivate long counter = 0;\n",
    "\n",
    "\tpublic void incrementCounter() {\n",
    "\t\tthis.counter++;\n",
    "\t}\n",
    "\n",
    "\tpublic long getCounter() {\n",
    "\t\treturn this.counter;\n",
    "\t}\n",
    "}\n",
    "```\n",
    "\n",
    "One possible solution is to use Atomic classes which do operations in one step:\n",
    "```java\n",
    "class SharedSafeObject {\n",
    "\tprivate AtomicLong counter;\n",
    "\t\n",
    "\tpublic void incrementCounter() {\n",
    "\t\tthis.counter.incrementAndGet();\n",
    "\t}\n",
    "\t\n",
    "\tpublic long getCounter() {\n",
    "\t\treturn this.counter.get();\n",
    "\t}\n",
    "}\n",
    "```\n",
    "\n",
    "Another solution is to use synchronized blocks. "
   ]
  },
  {
   "cell_type": "markdown",
   "metadata": {},
   "source": [
    "### Interrupts\n",
    "An interrupt is a signal to a thread to indicate that it should stop what it is currently doing and do something else. It is upto the thread to act upon the interrrupt or completely ignore it.\n",
    "\n",
    "```java\n",
    "Thread t = new Thread(() -> {\n",
    "    int i = 0;\n",
    "    for (; i < 1000000; i++) {\n",
    "        if (Thread.interrupted()) {\n",
    "            break;\n",
    "        }\n",
    "    }\n",
    "\n",
    "    System.out.println(\"Interrupted at \" + i);\n",
    "});\n",
    "\n",
    "t.start();\n",
    "\n",
    "Thread.sleep(2); // Let the thread t to run for some time\n",
    "\n",
    "t.interrupt(); // Now interrupt the thread t\n",
    "```\n",
    "\n",
    "some Thread methods also respond to interruption like the `Thread.sleep` method. In that case `InterruptedException` is thrown\n",
    "\n",
    "```java\n",
    "Thread t = new Thread(() -> {\n",
    "    try {\n",
    "        Thread.sleep(5000);\n",
    "    } catch (InterruptedException e) {\n",
    "        System.out.println(\"Thread was interrupted while sleeping\");\n",
    "    }\n",
    "});\n",
    "\n",
    "t.start();\n",
    "\n",
    "Thread.sleep(1000); // Let the thread t to run for some time\n",
    "\n",
    "t.interrupt(); // Now interrupt the thread t\n",
    "```\n",
    "\n",
    "**Interruption Flag:** The interrupt mechanism is implemented using an internal flag known as the interrupt status. Invoking `Thread.interrupt` sets this flag. When a thread checks for an interrupt by invoking the static method `Thread.interrupted`, interrupt status is cleared. The non-static `isInterrupted` method, which is used by one thread to query the interrupt status of another, does not change the interrupt status flag."
   ]
  },
  {
   "cell_type": "markdown",
   "metadata": {},
   "source": [
    "### Join\n",
    "Calling `t.join()` causes the current thread to pause execution till the threat t completes execution. Similar to sleep, join also responds to interruption. \n",
    "\n",
    "```java\n",
    "Thread[] threads = new Thread[5];\n",
    "for(int i=0; i<5; i++){\n",
    "    threads[i] = new Thread(new Runnable(){\n",
    "        void run(){\n",
    "            try {\n",
    "                Thread.sleep(5000);\n",
    "            } catch (InterruptedException e) {\n",
    "                System.err.println(\"Thread was interrupted while sleeping\");\n",
    "            }\n",
    "        }\n",
    "    });\n",
    "}\n",
    "\n",
    "for(int i=0; i<5; i++){\n",
    "    try {\n",
    "        threads[i].join();\n",
    "    } catch (InterruptedException e) {\n",
    "        System.err.println(\"Thread was interrupted while waiting for thread \" + i + \" to finish\");\n",
    "    }\n",
    "}\n",
    "\n",
    "System.out.println(\"All done\");\n",
    "```"
   ]
  },
  {
   "cell_type": "markdown",
   "metadata": {},
   "source": [
    "### Synchronization\n",
    "Synchronization prevents some form of errors which happen if multiple threads try to access the same resource at the same time. As discussed above, the situation can lead to:\n",
    "**Thread Interference:** two operations consist of multiple steps, and the sequences of steps overlap. As in the counter example above.  \n",
    "**Memory Inconsistency:** errors occur when different threads have inconsistent views of what should be the same data.\n",
    "\n",
    "**Synchronized Methods** whenever we add `synchronized` keyword to a method, the method can only be executed by one thread at a time. The counter program can be rewritten by using synchronized methods as:\n",
    "```java\n",
    "class SharedObject {\n",
    "    private long counter = 0;\n",
    "\n",
    "    public synchronized void incrementCounter() {\n",
    "        this.counter++;\n",
    "    }\n",
    "\n",
    "    public synchronized long getCounter() {\n",
    "        return this.counter;\n",
    "    }\n",
    "}\n",
    "```\n",
    "\n",
    "It should be noted that Constructors cannot be synchronized.\n",
    "\n",
    "**Synchronized Blocks** synchronization is built around the concept of *locks*. Before a thread can execute a synchronized method, it must own the lock associated with it. In case of synchronized methods, that lock is `this` reference. This can be better illustrated by rewriting the above methods as:\n",
    "```java\n",
    "class SharedObject {\n",
    "    private long counter = 0;\n",
    "\n",
    "    public void incrementCounter() {\n",
    "        synchronized(this){\n",
    "            this.counter++;\n",
    "        }\n",
    "    }\n",
    "\n",
    "    public long getCounter() {\n",
    "        synchronized(this){\n",
    "            return this.counter;\n",
    "        }\n",
    "    }\n",
    "}\n",
    "```\n",
    "\n",
    "One possible problem with synchronized method is that out of all the synchronized methods of an object instance, only one method can be run at a time. In the above example two different threads therefore cannot execute two different synchronized methods at the same time. Therefore, in certain scenarios where we we want to modify two completely unrelated data in an object, we make use of synchronized blocks with multiple locks for more granular control over concurrent access:\n",
    "```java\n",
    "class SharedObject {\n",
    "    private long c1 = 0;\n",
    "    private long c2 = 0;\n",
    "    private Object o1 = new Object();\n",
    "    private Object o2 = new Object();\n",
    "\n",
    "    public void incrementC1() {\n",
    "        synchronized(o1){\n",
    "            this.c1++;\n",
    "        }\n",
    "    }\n",
    "    \n",
    "    public void incrementC2() {\n",
    "        synchronized(o2){\n",
    "            this.c2++;\n",
    "        }\n",
    "    }\n",
    "}\n",
    "```"
   ]
  },
  {
   "cell_type": "code",
   "execution_count": null,
   "metadata": {},
   "outputs": [],
   "source": []
  },
  {
   "cell_type": "markdown",
   "metadata": {},
   "source": [
    "### Threads\n",
    "There are two primary ways to create a thread. 1) Extend the `Thread` class and override the run method."
   ]
  },
  {
   "cell_type": "code",
   "execution_count": null,
   "metadata": {},
   "outputs": [],
   "source": [
    "public class Worker extends Thread{\n",
    "    @Override\n",
    "    public void run(){\n",
    "        System.out.println(\"Worker thread running\");\n",
    "    }\n",
    "}\n",
    "\n",
    "Worker worker = new Worker();"
   ]
  },
  {
   "cell_type": "markdown",
   "metadata": {},
   "source": [
    "2) The preferred way is to pass a `Runnable` instance to Thread constructor"
   ]
  },
  {
   "cell_type": "code",
   "execution_count": null,
   "metadata": {},
   "outputs": [],
   "source": [
    "Runnable runnable = new Runnable{\n",
    "    public void run(){\n",
    "        System.out.println(\"Worker thread running\");\n",
    "    }\n",
    "}\n",
    "\n",
    "Thread worker = new Thread(runnable);"
   ]
  },
  {
   "cell_type": "markdown",
   "metadata": {},
   "source": [
    "**Starting a thread:** use the `start` method of the Thread class. The `isAlive` method can tell if the thread is currently running or not. isAlive returns false if the thread has not been started or the thread has been terminated.  \n",
    "\n",
    "**Stopping a thread:** is not as straight forward as starting it. The only way to terminate a thread is to arrange for its run method to complete. The thread class has a `stop` method, but it has been deprecated. Thread throwing an unchecked exception can also terminate the thread. Two approaches for stopping a thread: \n",
    "1) setting a flag"
   ]
  },
  {
   "cell_type": "code",
   "execution_count": null,
   "metadata": {},
   "outputs": [],
   "source": [
    "public class Worker extends Thread{\n",
    "    private volatile boolean done = false;\n",
    "    \n",
    "    @Override\n",
    "    public void run(){\n",
    "        while(!done){\n",
    "            // Do something\n",
    "        }\n",
    "    }\n",
    "    \n",
    "    // Other methods\n",
    "}"
   ]
  },
  {
   "cell_type": "markdown",
   "metadata": {},
   "source": [
    "An external code can stop this thread by setting done as true. But the thread will only stop when the execution reaches the top of the loop (and not immediately).  \n",
    "2) Using interrupts: we can call `interrupt` method of any thread. It has two effects. First, it sets internal interrupted flag of the thread to true. Second, it causes any blocking method like `sleep`, `join`, `wait` to stop blocking and throw `InterruptedException`."
   ]
  },
  {
   "cell_type": "code",
   "execution_count": null,
   "metadata": {},
   "outputs": [],
   "source": [
    "public class Worker extends Thread{\n",
    "    \n",
    "    @Override\n",
    "    public void run(){\n",
    "        while(!isInterrupted()){\n",
    "            // Do something\n",
    "        }\n",
    "    }\n",
    "    \n",
    "    // Other methods\n",
    "}\n",
    "\n",
    "Worker worker = new Worker();\n",
    "worker.start();\n",
    "worker.interrupt();"
   ]
  },
  {
   "cell_type": "markdown",
   "metadata": {},
   "source": [
    "**Pausing a thread:** the Thread class has `suspend` and `resume` methods which have been deprecated. It is still possible for a thread to suspend its own execution for a specified amount of time using `sleep` method. The least amount of time a thread can sleep on most Java implementations is 20 to 50 ms."
   ]
  },
  {
   "cell_type": "code",
   "execution_count": 6,
   "metadata": {},
   "outputs": [
    {
     "name": "stdout",
     "output_type": "stream",
     "text": [
      "1152488192\t2140810343\t1285862342\t1650368227\t-1184878083\t1039227028\t278517272\t-1543200418\t401414008\t-531716027\t"
     ]
    }
   ],
   "source": [
    "public class DelayedRandomGenerator extends Thread {\n",
    "    public void run() {\n",
    "        Random random = new Random();\n",
    "        while (!isInterrupted()) {\n",
    "            System.out.print(random.nextInt() + \"\\t\");\n",
    "            try {\n",
    "                sleep(200);\n",
    "            } catch (InterruptedException e) {\n",
    "                break;\n",
    "            }\n",
    "        }\n",
    "    }\n",
    "}\n",
    "\n",
    "DelayedRandomGenerator generator = new DelayedRandomGenerator();\n",
    "generator.start();\n",
    "\n",
    "try {\n",
    "    Thread.sleep(1000);\n",
    "} catch (InterruptedException e) {\n",
    "    System.exit(0);\n",
    "}        \n",
    "\n",
    "generator.interrupt();"
   ]
  },
  {
   "cell_type": "markdown",
   "metadata": {},
   "source": [
    "### Race Condition\n",
    "When two or more threads access a given state variable, and try to change it, it can lead to a race condition."
   ]
  },
  {
   "cell_type": "code",
   "execution_count": null,
   "metadata": {},
   "outputs": [],
   "source": [
    "class SharedUnsafeObject {\n",
    "    private long counter = 0;\n",
    "\n",
    "    public void incrementCounter() {\n",
    "        this.counter++;\n",
    "    }\n",
    "\n",
    "    public long getCounter() {\n",
    "        return this.counter;\n",
    "    }\n",
    "}\n",
    "\n",
    "SharedUnsafeObject obj = new SharedUnsafeObject();\n",
    "\n",
    "// 5 threads trying to access counter variable of the\n",
    "// same object\n",
    "for (int i = 0; i < 5; i++) {\n",
    "    new Thread(() -> {\n",
    "        obj.incrementCounter();\n",
    "    }).start();\n",
    "}\n",
    "\n",
    "try {\n",
    "    Thread.sleep(1000);\n",
    "    System.out.println(obj.getCounter()); // Output not guaranteed as 5\n",
    "} catch (InterruptedException e) {\n",
    "    e.printStackTrace();\n",
    "}"
   ]
  },
  {
   "cell_type": "markdown",
   "metadata": {},
   "source": [
    "Race condition in above case happens because the operation `this.counter++;` is not atomic. It is comprised of few substeps and different threads can interleave execution of these steps. Another race condition is present in the below version of singleton:"
   ]
  },
  {
   "cell_type": "code",
   "execution_count": null,
   "metadata": {},
   "outputs": [],
   "source": [
    "public class Singleton{\n",
    "    private static Singleton instance = null;\n",
    "    \n",
    "    public Singleton getInstance(){\n",
    "        if(instance == null){\n",
    "            instance = new Singleton();\n",
    "        }\n",
    "        \n",
    "        return instance;\n",
    "    }\n",
    "    \n",
    "    // Private constructors, etc\n",
    "}"
   ]
  },
  {
   "cell_type": "markdown",
   "metadata": {},
   "source": [
    "Calling `getInstance` can lead to creation of two different objects. One way to prevent race condition is to utilise *atomic operations*. The increment operation in previous example is a *read-modify-write* operation, whereas operation in singleton example is *check then act* operation. Both of these must be atomic. The read-modify-write operation problem can be solved using an *Atomic Type*."
   ]
  },
  {
   "cell_type": "code",
   "execution_count": null,
   "metadata": {},
   "outputs": [],
   "source": [
    "class SharedSafeObject {\n",
    "    private AtomicLong counter = new AtomicLong(0);\n",
    "\n",
    "    public void incrementCounter() {\n",
    "        this.counter.incrementAndGet();\n",
    "    }\n",
    "\n",
    "    public long getCounter() {\n",
    "        return this.counter.get();\n",
    "    }\n",
    "}"
   ]
  },
  {
   "cell_type": "markdown",
   "metadata": {},
   "source": [
    "Another solution is to use `synchronized` keyword. A method marked as synchronized can be executed by a single thread at any given moment. Whenever a thread wants to execute a synchronized method, it first obtain the corresponding lock. If the lock is held by another thread, then the thread requesting lock must wait till the lock is released.  \n",
    "\n",
    "Below is the synchronized version of the shared object example used earlier:"
   ]
  },
  {
   "cell_type": "code",
   "execution_count": null,
   "metadata": {},
   "outputs": [],
   "source": [
    "class SharedObject {\n",
    "    private long counter = 0;\n",
    "\n",
    "    public synchronized void incrementCounter() {\n",
    "        this.counter++;\n",
    "    }\n",
    "\n",
    "    public synchronized long getCounter() {\n",
    "        return this.counter;\n",
    "    }\n",
    "}"
   ]
  },
  {
   "cell_type": "markdown",
   "metadata": {},
   "source": [
    "The above example is equivalent to:"
   ]
  },
  {
   "cell_type": "code",
   "execution_count": null,
   "metadata": {},
   "outputs": [],
   "source": [
    "// The lock object is 'this'\n",
    "class SharedObject {\n",
    "    private long counter = 0;\n",
    "\n",
    "    public void incrementCounter() {\n",
    "        synchronized(this){\n",
    "            this.counter++;\n",
    "        }\n",
    "    }\n",
    "\n",
    "    public long getCounter() {\n",
    "        synchronized(this){\n",
    "            return this.counter;\n",
    "        }\n",
    "    }\n",
    "}"
   ]
  },
  {
   "cell_type": "markdown",
   "metadata": {},
   "source": [
    "If an object has two independent state variables, it better to use to different lock objects such that two different threads can access two states concurrently."
   ]
  },
  {
   "cell_type": "code",
   "execution_count": null,
   "metadata": {},
   "outputs": [],
   "source": [
    "class SharedObject {\n",
    "    private long c1 = 0;\n",
    "    private long c2 = 0;\n",
    "    private Object o1 = new Object();\n",
    "    private Object o2 = new Object();\n",
    "\n",
    "    public void incrementC1() {\n",
    "        synchronized(o1){\n",
    "            this.c1++;\n",
    "        }\n",
    "    }\n",
    "\n",
    "    public void incrementC2() {\n",
    "        synchronized(o2){\n",
    "            this.c2++;\n",
    "        }\n",
    "    }\n",
    "}"
   ]
  },
  {
   "cell_type": "markdown",
   "metadata": {},
   "source": [
    "### Visibility\n",
    "Synchronization also has another significant, and subtle, aspect: memory visibility. We want not only to prevent one thread from modifying the state of an object when another is using it, but also to ensure that when a thread modifies the state of an object, other threads can actually see the changes that were made.  \n",
    "\n",
    "In general, there is no guarantee that the reading thread will see a value written by another thread on a timely basis, or even at all."
   ]
  },
  {
   "cell_type": "code",
   "execution_count": null,
   "metadata": {},
   "outputs": [],
   "source": [
    "public class NoVisibility {\n",
    "    private static boolean ready;\n",
    "    private static int number;\n",
    "    \n",
    "    private static class ReaderThread extends Thread {\n",
    "        public void run() {\n",
    "            while (!ready)\n",
    "                // Yield means the current thread is willing to relinquish its current use of processor\n",
    "                // but it'd like to be scheduled back soon as possible. \n",
    "                Thread.yield();\n",
    "            System.out.println(number);\n",
    "        }\n",
    "    }\n",
    "    \n",
    "    public static void main(String[] args) {\n",
    "        new ReaderThread().start();\n",
    "        number = 42;\n",
    "        ready = true;\n",
    "    }\n",
    "}"
   ]
  },
  {
   "cell_type": "markdown",
   "metadata": {},
   "source": [
    "The problem with above code is that it is not necessary that the updated values of number or ready (made by main thread), is visible to the ReaderThread. The ReaderThread may print 42, or the loop may run indefinitely.  \n",
    "\n",
    "One reason for reading stale values is the cache of the CPU cores. Each core of modern CPUs has its own cache. So if the reading and writing thread runs on different cores the reading thread sees a cached value and not the value written by the writing thread.\n",
    "\n",
    "The ReaderThread may also output 0. This can be due to *instruction reordering*. JVM may reorder two instructions which are not related to each other. For example:\n",
    "```\n",
    "a = b + c\n",
    "d = a + e\n",
    "\n",
    "l = m + n\n",
    "y = x + z\n",
    "```\n",
    "can be reordered to:\n",
    "```\n",
    "a = b + c\n",
    "\n",
    "l = m + n\n",
    "y = x + z\n",
    "\n",
    "d = a + e\n",
    "```\n",
    "\n",
    "It is not sufficient to synchronize just the setter. The getter must also be synchronized, else we may get stale value."
   ]
  },
  {
   "cell_type": "code",
   "execution_count": null,
   "metadata": {},
   "outputs": [],
   "source": [
    "public class SynchronizedInteger {\n",
    "    private int value;\n",
    "    \n",
    "    public synchronized int get() { \n",
    "        return value; \n",
    "    }\n",
    "    \n",
    "    public synchronized void set(int value) { \n",
    "        this.value = value; \n",
    "    }\n",
    "}"
   ]
  },
  {
   "cell_type": "markdown",
   "metadata": {},
   "source": [
    "Unlike primitives like int, float and double are not read from memory in one atomic step. Rather, 32 bits are read at a time. So it may be possible to read 32 bits of fresh value and 32 bits of stale value."
   ]
  },
  {
   "cell_type": "markdown",
   "metadata": {},
   "source": [
    "**Volatile variables:** are another solution to visibility problem. Any read or write on volatile variables are done to the main memory rather than CPU caches. The visibility effects of volatile variables extend beyond the value of the volatile variable itself. When thread A writes to a volatile variable and subsequently thread B reads that same variable, the values of all variables that were visible to A prior to writing to the volatile variable become visible to B after reading the volatile variable.\n",
    "\n",
    "The above example of SynchronizedInteger can modified to:"
   ]
  },
  {
   "cell_type": "code",
   "execution_count": null,
   "metadata": {},
   "outputs": [],
   "source": [
    "public class VolatileInteger {\n",
    "    private volatile int value;\n",
    "    \n",
    "    public int get() { \n",
    "        return value; \n",
    "    }\n",
    "    \n",
    "    public void set(int value) { \n",
    "        this.value = value; \n",
    "    }\n",
    "}"
   ]
  },
  {
   "cell_type": "markdown",
   "metadata": {},
   "source": [
    "Locking using synchronized blocks can guarantee both visibility and atomicity; volatile variables can only guarantee visibility."
   ]
  },
  {
   "cell_type": "markdown",
   "metadata": {},
   "source": [
    "### Task Execution\n",
    "Java provides a higher level concurrency framework called `Executor` framework. It decouples task submission from task execution. Executor is an interface with a simple `execute` method:"
   ]
  },
  {
   "cell_type": "code",
   "execution_count": null,
   "metadata": {},
   "outputs": [],
   "source": [
    "public interface Executor {\n",
    "    void execute(Runnable command);\n",
    "}"
   ]
  },
  {
   "cell_type": "markdown",
   "metadata": {},
   "source": [
    "The argument `command` contains the task that will be executed. Executors are based on *Producer-Consumer* pattern where producers submit task, and consumers execute task. Some simple implementation of Executor:"
   ]
  },
  {
   "cell_type": "code",
   "execution_count": null,
   "metadata": {},
   "outputs": [],
   "source": [
    "class ThreadPerTask implements Executor{\n",
    "    public void execute(Runnable command){\n",
    "        new Thread(command).start();\n",
    "    }\n",
    "}\n",
    "\n",
    "/* This is an example of unbounded thread creation. \n",
    "   The main problems with this approach are:\n",
    "   - Thread creation and teardown is expensive. If a lot of tasks\n",
    "     are submitted, this will consume significant computing resource\n",
    "   - Active threads consume memory. A lot of idle threads\n",
    "     would put pressure on garbage collector\n",
    "   - JVMs often have limit on number of threads that can be created  \n",
    "*/"
   ]
  },
  {
   "cell_type": "markdown",
   "metadata": {},
   "source": [
    "Executor may not even make use of threads as illustrated:"
   ]
  },
  {
   "cell_type": "code",
   "execution_count": null,
   "metadata": {},
   "outputs": [],
   "source": [
    "class SingleThread implements Executor{\n",
    "    public void execute(Runnable command){\n",
    "        command.run();\n",
    "    }\n",
    "}"
   ]
  },
  {
   "cell_type": "markdown",
   "metadata": {},
   "source": [
    "Since Executors handle a bunch of tasks, it would be good if they provide lifecycle methods. They should be able to handle both graceful and forced shutdown. The `ExecutorService` interface extends `Executor` and provides a number of methods for lifecycle management and other convenience methods."
   ]
  },
  {
   "cell_type": "code",
   "execution_count": null,
   "metadata": {},
   "outputs": [],
   "source": [
    "public interface ExecutorService extends Executor {\n",
    "    // Shutdown, stop accepting new tasks. However complete the tasks\n",
    "    // already in queue. \n",
    "    void shutdown();\n",
    "    \n",
    "    // Forced shutdown, cancel any outstanding task\n",
    "    List<Runnable> shutdownNow();\n",
    "\n",
    "    // Return if the executor has been shutdown.\n",
    "    boolean isShutdown();\n",
    "\n",
    "    // All tasks have been completed\n",
    "    boolean isTerminated();\n",
    "\n",
    "    // Wait for ExecutorService to reach terminated status\n",
    "    boolean awaitTermination(long timeout, TimeUnit unit)\n",
    "        throws InterruptedException;\n",
    "    \n",
    "    // Other convenience methods\n",
    "}"
   ]
  },
  {
   "cell_type": "markdown",
   "metadata": {},
   "source": [
    "### Thread Pool\n",
    "As we have seen, having unbounded thread creation approach isn't always helpful. It is beneficial to tie number of threads to the tasks that are being submitted. That is where *thread pools* come into picture. The idea is to maintain a pool of threads which can be reused, instead of creating new threads. Java provides `ThreadPoolExecutor` class which implements the ExecutorService interface."
   ]
  },
  {
   "cell_type": "code",
   "execution_count": null,
   "metadata": {},
   "outputs": [],
   "source": [
    "int  corePoolSize  =    5;\n",
    "int  maxPoolSize   =   10;\n",
    "long keepAliveTime = 5000;\n",
    "BlockingQueue<Runnable> queue = getBlockingQueue();\n",
    "\n",
    "ExecutorService exec = new ThreadPoolExecutor(\n",
    "    corePoolSize,    \n",
    "    maxPoolSize,\n",
    "    keepAliveTime,\n",
    "    queue\n",
    ");"
   ]
  },
  {
   "cell_type": "markdown",
   "metadata": {},
   "source": [
    "Core pool size is the target size, this number of threads will exist even if there is no task. New threads will not be created until the queue is full. Max pool size is the maximum number of threads that will exist at any given moment. A thread that has been idle for keepAliveTime will be terminated (if core pool size > max pool size)."
   ]
  },
  {
   "cell_type": "code",
   "execution_count": 1,
   "metadata": {},
   "outputs": [
    {
     "name": "stdout",
     "output_type": "stream",
     "text": [
      "13"
     ]
    }
   ],
   "source": [
    "int numberOfThreads = Runtime.getRuntime().availableProcessors() + 1;\n",
    "System.out.print(numberOfThreads);"
   ]
  },
  {
   "cell_type": "markdown",
   "metadata": {},
   "source": [
    "In case of IO intensive tasks, number of threads can be set higher. In general:\n",
    "$$N_{threads} = N_{cpu}U_{cpu}(1 + \\frac{W}{C})$$\n",
    "Where\n",
    "$$N_{cpu}\\hspace{2em} \\text{is number of CPUs}$$\n",
    "$$U_{cpu}\\hspace{2em} \\text{is target CPU utilization, between 0 and 1}$$\n",
    "$$\\frac{W}{C}\\hspace{2em} \\text{is ratio of wait time to compute time}$$"
   ]
  },
  {
   "cell_type": "markdown",
   "metadata": {},
   "source": [
    "The third parameter is a `BlockingQueue`. It represents a queue which is thread safe to put elements into, and take elements out of from. If a thread tries to take an element and there are none left in the queue, the thread can be blocked until there is an element to take. It is generally used when we have a scenario where one thread produces objects, which another thread consumes."
   ]
  },
  {
   "cell_type": "code",
   "execution_count": null,
   "metadata": {},
   "outputs": [],
   "source": [
    "public class BlockingQueueDemo {\n",
    "    public static void main(String[] args) {\n",
    "        BlockingQueue<Integer> queue = new LinkedBlockingQueue<>();\n",
    "\n",
    "        Producer p = new Producer(queue);\n",
    "        Consumer c = new Consumer(queue);\n",
    "\n",
    "        new Thread(p).start();\n",
    "        new Thread(c).start();\n",
    "    }\n",
    "}\n",
    "\n",
    "class Producer implements Runnable {\n",
    "    private BlockingQueue<Integer> queue;\n",
    "\n",
    "    public Producer(BlockingQueue<Integer> queue) {\n",
    "        this.queue = queue;\n",
    "    }\n",
    "\n",
    "    @Override\n",
    "    public void run() {\n",
    "        // Put 100 even numbers in queue\n",
    "        for (int i = 0; i < 100; i++) {\n",
    "            try {\n",
    "                queue.put(i * 2);\n",
    "            } catch (InterruptedException e) {\n",
    "                e.printStackTrace();\n",
    "            }\n",
    "        }\n",
    "    }\n",
    "\n",
    "}\n",
    "\n",
    "class Consumer implements Runnable {\n",
    "    private BlockingQueue<Integer> queue;\n",
    "\n",
    "    public Consumer(BlockingQueue<Integer> queue) {\n",
    "        this.queue = queue;\n",
    "    }\n",
    "\n",
    "    @Override\n",
    "    public void run() {\n",
    "        // Consume 100 integers\n",
    "        for (int i = 0; i < 100; i++) {\n",
    "            try {\n",
    "                System.out.println(queue.take());\n",
    "            } catch (InterruptedException e) {\n",
    "                e.printStackTrace();\n",
    "            }\n",
    "        }\n",
    "    }\n",
    "\n",
    "}"
   ]
  },
  {
   "cell_type": "markdown",
   "metadata": {},
   "source": [
    "If we look at just the Executor interface, it does not enforce any queue requirement. ThreadPoolExecutor however, uses a blocking queue to store tasks. If the queue is unbounded, and a large number of tasks are recieved, it can lead to memory issues due to expanding queue. It is also possible that the ThreadPoolExecutor uses a large number of threads and the queue size remains low (or even not required, incoming tasks are directly assigned to a thread). Different BlockingQueue implementations are present which represent unbounded and bounded queues:\n",
    "- `LinkedBlockingQueue` : unbounded queue\n",
    "- `ArrayBlockingQueue` : bounded queue, need to specify its size\n",
    "- `PriorityBlockingQueue` : unbounded, same priority as `PriorityQueue`\n",
    "- `SynchronousQueue` : not a pure queue, contains a single item\n",
    "\n",
    "By modifying the thread pool sizes and blocking queue implementations, we can get many different types of ThreadPoolExecutor. "
   ]
  },
  {
   "cell_type": "code",
   "execution_count": null,
   "metadata": {},
   "outputs": [],
   "source": []
  }
 ],
 "metadata": {
  "kernelspec": {
   "display_name": "Java",
   "language": "java",
   "name": "java"
  },
  "language_info": {
   "codemirror_mode": "java",
   "file_extension": ".jshell",
   "mimetype": "text/x-java-source",
   "name": "Java",
   "pygments_lexer": "java",
   "version": "13+33"
  }
 },
 "nbformat": 4,
 "nbformat_minor": 4
}
