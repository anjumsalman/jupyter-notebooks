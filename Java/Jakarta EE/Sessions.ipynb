{
 "cells": [
  {
   "cell_type": "markdown",
   "metadata": {},
   "source": [
    "### Session\n",
    "The `HttpSession` implementation in Java is a server based session. Each session is associated with a `session id` which uniquely identifies each session (and possibly users). The session cookie set by `getSession` call is lost when the browser window is closed."
   ]
  },
  {
   "cell_type": "code",
   "execution_count": null,
   "metadata": {},
   "outputs": [],
   "source": [
    "// For both getting and setting session\n",
    "HTTPSession session = request.getSession();"
   ]
  },
  {
   "cell_type": "markdown",
   "metadata": {},
   "source": [
    "We may want to access a session only if it exists, in that case"
   ]
  },
  {
   "cell_type": "code",
   "execution_count": null,
   "metadata": {},
   "outputs": [],
   "source": [
    "HTTPSession session = request.getSession(false);\n",
    "\n",
    "// Session doesn't exist\n",
    "if(session == null){\n",
    "    // Session doesn't exist, so create new session\n",
    "    request.getSession();\n",
    "} else {\n",
    "    // Session already exists\n",
    "}"
   ]
  },
  {
   "cell_type": "markdown",
   "metadata": {},
   "source": [
    "The above code isn't very smart, because we're creating a session anyways. However the above variation of getSession can be used if we don't want to create a new session, just extract existing session.  \n",
    "\n",
    "We can check if it is a freshly created session or an existing session by:"
   ]
  },
  {
   "cell_type": "code",
   "execution_count": null,
   "metadata": {},
   "outputs": [],
   "source": [
    "if(session.isNew()){\n",
    "    // Newly created session\n",
    "}"
   ]
  },
  {
   "cell_type": "markdown",
   "metadata": {},
   "source": [
    "### URL Rewriting\n",
    "Since session id is sent and received as cookies, if cookies are disabled, this mechanism will fail. In this case we can make use of URL rewriting - we add session id to the *all* URLs present in the response body."
   ]
  },
  {
   "cell_type": "code",
   "execution_count": null,
   "metadata": {},
   "outputs": [],
   "source": [
    "protected void doGet(HttpServletRequest request, HttpServletResponse response){\n",
    "    // Get the session, if not create a session (cookie based)\n",
    "    // This will also work for session stored in URL\n",
    "    HTTPSession session = request.getSession();\n",
    "    \n",
    "    // In the response, we encode all URLs, this adds session data\n",
    "    PrintWriter printer = response.getWriter();\n",
    "    printer.println(\"<html><body>\");\n",
    "    printer.println(\"<a href=\\\"\" + response.encodeURL(\"/about\") + \"\\\">About</a>\");\n",
    "    printer.println(\"</body></html>\");\n",
    "}"
   ]
  },
  {
   "cell_type": "markdown",
   "metadata": {},
   "source": [
    "How to know if the client accepts cookies or not?\n",
    "- The first time if there is no session associated with client use both cookie based and URL based session\n",
    "- Now if in a request we have session data, then we check if we have session id cookie\n",
    "- If yes, then this client can accept cookie, do not use URL Rewriting\n",
    "- If not, use URL Rewriting"
   ]
  },
  {
   "cell_type": "code",
   "execution_count": null,
   "metadata": {},
   "outputs": [],
   "source": []
  }
 ],
 "metadata": {
  "kernelspec": {
   "display_name": "Java",
   "language": "java",
   "name": "java"
  },
  "language_info": {
   "codemirror_mode": "java",
   "file_extension": ".jshell",
   "mimetype": "text/x-java-source",
   "name": "Java",
   "pygments_lexer": "java",
   "version": "21.0.2+13-58"
  }
 },
 "nbformat": 4,
 "nbformat_minor": 4
}
