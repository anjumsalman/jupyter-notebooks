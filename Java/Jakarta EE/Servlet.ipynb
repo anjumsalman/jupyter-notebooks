{
 "cells": [
  {
   "cell_type": "markdown",
   "metadata": {},
   "source": [
    "### Introduction\n",
    "Servlet and the Servlet Container together interact with web-client via a request/reponse paradigm. So how does it all work?\n",
    "\n",
    "1. Server receives request from a web client\n",
    "2. Request is transferred to servlet container\n",
    "3. Servlet container picks which servlet to invoke based on configuration\n",
    "4. Servlet uses request and response object passed to it by the container and performs whatever logic it was programmed to\n",
    "5. Servlet container then returns control back to the server"
   ]
  },
  {
   "cell_type": "markdown",
   "metadata": {},
   "source": [
    "### Version History\n",
    "\n",
    "| Version | Release Date | Platform           | Changes                         |\n",
    "|---------|--------------|--------------------|---------------------------------|\n",
    "| 1.0     | Dec 1996     | JSDK 1.0           |                                 |\n",
    "| 2.0     | Dec 1997     | JSDK 2.0           |                                 |\n",
    "| 2.1     | Nov 1998     | -                  |                                 |\n",
    "| 2.2     | Nov 1999     | J2EE 1.2, J2SE 1.2 | Part of J2EE                    |\n",
    "| 2.3     | Aug 2001     | J2EE 1.3, J2SE 1.2 | Filter added                    |\n",
    "| 2.4     | Nov 2003     | J2EE 1.4, J2SE 1.3 |                                 |\n",
    "| 2.5     | Sep 2005     | JEE 5, JSE 5       | Support annotations and Java 5  |\n",
    "| 3.0     | Dec 2009     | JEE 6, JSE 6       | Async servlet, file upload, etc |\n",
    "| 3.1     | May 2013     | JEE 7              | Non-blocking IO, etc            |\n",
    "| 4.0     | Sep 2017     | JEE 8              | HTTP/2                          |\n"
   ]
  },
  {
   "cell_type": "markdown",
   "metadata": {},
   "source": [
    "### Class Hierarchies\n",
    "```\n",
    "(I) Servlet \n",
    "        |\n",
    "        +--- (AC) GenericServlet\n",
    "                            |\n",
    "                            +--- (AC) HttpServlet\n",
    "```"
   ]
  },
  {
   "cell_type": "markdown",
   "metadata": {},
   "source": [
    "### Servlet Lifecycle\n",
    "\n",
    "![Lifecycle](https://i.imgur.com/qiGoPWz.png)\n",
    "\n",
    "**How many servlet instance created?** One per servlet, however servlets implementing `SingleThreadModel`, servlet container may instantiate multiple instance to handle heavy request load. The use of the `SingleThreadModel` interface guarantees that only one thread at a time will execute in a given servlet instance’s service method.  \n",
    "\n",
    "**Multithreading considerations:** Since multiple request can be handled by single servlet, it is important that the `service` method is thread safe. If the developer can't guarantee that then implement `SingleThreadModel` interface. Again synchronizing service method is highly discouraged since it will lead to loss of performance as requests to the servlet will be serialized."
   ]
  },
  {
   "cell_type": "markdown",
   "metadata": {},
   "source": [
    "### Servlet Shutdown\n",
    "When the servlet container determines that a servlet should be removed fromk service, it calls the `destroy` method of the Servlet interface to allow the servlet to release any resources it is using and save any persistent state. \n",
    "\n",
    "Before the servlet container calls the `destroy` method, it must allow any threads that are currently running in the service method of the servlet to complete execution, or exceed a server-defined time limit. Once the `destroy` method is called on a servlet instance, the container may not route other requests to that instance of the servlet."
   ]
  },
  {
   "cell_type": "markdown",
   "metadata": {},
   "source": [
    "### Servlet Exceptions\n",
    "Servlet may throw:\n",
    "- ServletException\n",
    "- UnavailableException: when servlet failed to initialize."
   ]
  },
  {
   "cell_type": "markdown",
   "metadata": {},
   "source": [
    "### Configuring Servlet\n",
    "Servlet can be configured both using web.xml and annotations. A simple example including commonly used tags is listed below:\n",
    "\n",
    "```xml\n",
    "<web-app>\n",
    "    <servlet>\n",
    "        <servlet-name>InformationServlet</servlet-name>\n",
    "        <servlet-class>servlets.InformationServlet</servlet-class>\n",
    "\n",
    "        <!-- Obtain using servletConfig.getInitParameter(\"paramName\") -->\n",
    "        <init-param>\n",
    "            <param-name>paramName</param-name>\n",
    "            <param-value>paramValue</param-value>\n",
    "        </init-param>\n",
    "\n",
    "        <load-on-startup>0</load-on-startup>\n",
    "    </servlet>\n",
    "    \n",
    "    <servlet-mapping>\n",
    "        <servlet-name>InformationServlet</servlet-name>\n",
    "        <url-pattern>/info</url-pattern>\n",
    "    </servlet-mapping>\n",
    "</web-app>\n",
    "```\n",
    "\n",
    "Using annotation form"
   ]
  },
  {
   "cell_type": "code",
   "execution_count": null,
   "metadata": {},
   "outputs": [],
   "source": [
    "@WebServlet(urlPatterns = { \"/info\" }, description = \"Servlet to get request information\", loadOnStartup = 0, \n",
    "           initParams = {@WebInitParam(name = \"paramName\", value = \"paramValue\")})\n",
    "public class InformationServlet extends HttpServlet {\n",
    "\n",
    "}"
   ]
  },
  {
   "cell_type": "markdown",
   "metadata": {},
   "source": [
    "### Exception Handling\n",
    "We define Servlets (or JSPs) which will handle a particular exception object or HTTP error code as:\n",
    "\n",
    "```xml\n",
    "<!-- Servlet Mappings -->\n",
    "<servlet-mapping>\n",
    "   <servlet-name>ErrorHandlerServlet</servlet-name>\n",
    "   <url-pattern>/error</url-pattern>\n",
    "</servlet-mapping>\n",
    "\n",
    "<!-- Http Error-Code related error pages -->\n",
    "<error-page>\n",
    "   <error-code>404</error-code>\n",
    "   <location>/error</location>\n",
    "</error-page>\n",
    "\n",
    "<error-page>\n",
    "   <error-code>403</error-code>\n",
    "   <location>/error</location>\n",
    "</error-page>\n",
    "\n",
    "<!-- Exception-Type related error pages -->\n",
    "<error-page>\n",
    "   <exception-type>\n",
    "      javax.servlet.ServletException\n",
    "   </exception-type >\n",
    "   <location>/error</location>\n",
    "</error-page>\n",
    "```\n",
    "\n",
    "This error is forwarded to respective servlet as if `RequestDispatcher.forward` was invoked. There are several important information contained in the forwarded request. Important ones and repsective request attributes are:\n",
    "\n",
    "| Information      | Attribute Name                     |\n",
    "|------------------|------------------------------------|\n",
    "| HTTP status code | javax.servlet.error.status_code    |\n",
    "| Exception class  | javax.servlet.error.exception_type |\n",
    "| Message          | javax.servlet.error.message        |\n",
    "| Request URI      | javax.servlet.error.request_uri    |\n",
    "\n",
    "We can programatically forward to error page using,"
   ]
  },
  {
   "cell_type": "code",
   "execution_count": null,
   "metadata": {},
   "outputs": [],
   "source": [
    "response.sendError(ERROR_CODE);"
   ]
  },
  {
   "cell_type": "markdown",
   "metadata": {},
   "source": [
    "### Asynchronous Servlet\n",
    "Consider the scenario:  \n",
    "![Async Servlet](images/async_servlet.png)"
   ]
  },
  {
   "cell_type": "markdown",
   "metadata": {},
   "source": [
    "Using Async capability of serlvet, if a servlet or a filter reaches a potentially blocking operation when processing a request, it can assign the operation to an asynchronous execution context and return the thread associated with the request immediately to the container without generating a response. The blocking operation completes in the asynchronous execution context in a different thread, which can generate a response or dispatch the request to another servlet.  \n",
    "\n",
    "Example:"
   ]
  },
  {
   "cell_type": "code",
   "execution_count": null,
   "metadata": {},
   "outputs": [],
   "source": [
    "@WebServlet(urlPatterns={\"/asyncservlet\"}, asyncSupported=true) // asyncSupported value must be set to true\n",
    "public class AsyncServlet extends HttpServlet {\n",
    "   /* ... Same variables and init method as in SyncServlet ... */\n",
    "\n",
    "   @Override\n",
    "   public void doGet(HttpServletRequest request, \n",
    "                     HttpServletResponse response) {\n",
    "      response.setContentType(\"text/html;charset=UTF-8\");\n",
    "      final AsyncContext acontext = request.startAsync();\n",
    "      acontext.start(new Runnable() {\n",
    "         public void run() {\n",
    "            String param = acontext.getRequest().getParameter(\"param\");\n",
    "            String result = resource.process(param);\n",
    "            HttpServletResponse response = acontext.getResponse();\n",
    "            /* ... print to the response ... */\n",
    "            acontext.complete();\n",
    "   }\n",
    "}"
   ]
  }
 ],
 "metadata": {
  "kernelspec": {
   "display_name": "Java",
   "language": "java",
   "name": "java"
  },
  "language_info": {
   "codemirror_mode": "java",
   "file_extension": ".jshell",
   "mimetype": "text/x-java-source",
   "name": "Java",
   "pygments_lexer": "java",
   "version": "21.0.2+13-58"
  }
 },
 "nbformat": 4,
 "nbformat_minor": 4
}
