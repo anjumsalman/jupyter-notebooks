{
 "cells": [
  {
   "cell_type": "markdown",
   "metadata": {},
   "source": [
    "A Web application is a collection of servlets, HTML pages, classes, and other resources that make up a complete application on a Web server. The Web application can be bundled and run on multiple containers from multiple vendors.\n",
    "\n",
    "A Web application is rooted at a specific path within a Web server. For example, a catalog application could be located at http://www.example.com/catalog. All requests that start with this prefix will be routed to the ServletContext which represents the catalog application."
   ]
  },
  {
   "cell_type": "markdown",
   "metadata": {},
   "source": [
    "### Elements of Web Application\n",
    "- Servlets\n",
    "- JSPs\n",
    "- Static files like HTML, images\n",
    "- Other classes\n",
    "- Descriptive meta information about application"
   ]
  },
  {
   "cell_type": "markdown",
   "metadata": {},
   "source": [
    "### Directory Structure\n",
    "Servlet containers will recognize a special folder named as `WEB-INF`. Most of the WEB-INF node is not part of the public document tree of the application. No file contained in the WEB-INF directory may be served directly to a client by the container. However, the contents of the WEB-INF directory are visible to servlet code using the `getResource` and `getResourceAsStream` method calls on the ServletContex\n",
    "\n",
    "![ds](https://i.imgur.com/dSPDHJd.png)"
   ]
  },
  {
   "cell_type": "markdown",
   "metadata": {},
   "source": [
    "### Welcome Files\n",
    "Suppose we have the following directory structure:  \n",
    "![welcome](https://i.imgur.com/4uG7IGw.png)\n",
    "\n",
    "If someone visits '/info' and that url mapping is not done in web.xml (or through annotations), the file listed in `welcome-file-list` tag will be served.\n",
    "\n",
    "```xml\n",
    "<welcome-file-list>\n",
    "    <welcome-file>index.html</welcome-file>\n",
    "    <welcome-file>default.jsp</welcome-file>\n",
    "</welcome-file-list>\n",
    "```"
   ]
  },
  {
   "cell_type": "code",
   "execution_count": null,
   "metadata": {},
   "outputs": [],
   "source": []
  }
 ],
 "metadata": {
  "kernelspec": {
   "display_name": "Java",
   "language": "java",
   "name": "java"
  },
  "language_info": {
   "codemirror_mode": "java",
   "file_extension": ".jshell",
   "mimetype": "text/x-java-source",
   "name": "Java",
   "pygments_lexer": "java",
   "version": "21.0.2+13-58"
  }
 },
 "nbformat": 4,
 "nbformat_minor": 4
}
