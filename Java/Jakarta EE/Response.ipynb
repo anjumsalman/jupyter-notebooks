{
 "cells": [
  {
   "cell_type": "markdown",
   "metadata": {},
   "source": [
    "### Response Structure\n",
    "![response](https://i.imgur.com/KuVVh20.png)"
   ]
  },
  {
   "cell_type": "markdown",
   "metadata": {},
   "source": [
    "### Headers\n",
    "Response headers can be set by either `addHeader` or `setHeader`."
   ]
  },
  {
   "cell_type": "code",
   "execution_count": null,
   "metadata": {},
   "outputs": [],
   "source": [
    "// Below code adds two headers having same name, different values\n",
    "response.addHeader(\"x-served-by\", \"InformationServlet\");\n",
    "response.addHeader(\"x-served-by\", \"Java\");\n",
    "\n",
    "// Below code overwrites header\n",
    "response.setHeader(\"x-version\", \"1.2.5\");"
   ]
  },
  {
   "cell_type": "markdown",
   "metadata": {},
   "source": [
    "### Body\n",
    "To set response body, we get reference to the `Writer` object"
   ]
  },
  {
   "cell_type": "code",
   "execution_count": null,
   "metadata": {},
   "outputs": [],
   "source": [
    "// Sending JSON response\n",
    "String json = new Gson().toJson(someObject); // converting an object to JSON using GSON library\n",
    "response.setContentType(\"application/json\");\n",
    "response.setCharacterEncoding(\"UTF-8\");\n",
    "\n",
    "response.getWriter().write(json);"
   ]
  },
  {
   "cell_type": "markdown",
   "metadata": {},
   "source": [
    "### Redirection\n",
    "Redirection is triggered by a server sending a special redirect response to a request. Redirect responses have status codes that start with 3, and a Location header holding the URL to redirect to.  \n",
    "![redirection](https://i.imgur.com/4RFFOpK.png)"
   ]
  },
  {
   "cell_type": "code",
   "execution_count": null,
   "metadata": {},
   "outputs": [],
   "source": [
    "response.sendRedirect(\"/new_location\");"
   ]
  },
  {
   "cell_type": "markdown",
   "metadata": {},
   "source": [
    "### Send Error\n",
    "We can respond back with an HTTP error status code and a message with `sendError` convinience method."
   ]
  },
  {
   "cell_type": "code",
   "execution_count": null,
   "metadata": {},
   "outputs": [],
   "source": [
    "response.sendError(HttpServletResponse.SC_BAD_REQUEST, \"Invalid request\")"
   ]
  },
  {
   "cell_type": "markdown",
   "metadata": {},
   "source": [
    "### Response Object Lifecycle\n",
    "Each response object is valid only within the scope of a servlet’s `service` method, or within the scope of a filter’s `doFilter` method, unless the associated request object has asynchronous processing enabled for the component. If asynchronous processing on the associated request is started, then the response object remains valid until `complete` method on `AsyncContext` is called. \n",
    "\n",
    "Containers commonly recycle response objects in order to avoid the performance overhead of response object creation. The developer must be aware that maintaining references to response objects for which `startAsync` on the corresponding request has not been called, outside the scope described above may lead to non-deterministic behavior.\n",
    "\n",
    "**Closure of Response Object:** The following events indicate that the servlet has satisfied the request and that the response object is to be closed:\n",
    "- termination of the service method of the servlet.\n",
    "- amount of content specified in the `setContentLength` or `setContentLengthLong` method of the response has been greater than zero and\n",
    "has been written to the response.\n",
    "- `sendError` method is called.\n",
    "- `sendRedirect` method is called.\n",
    "- `complete` method on `AsyncContext` is called."
   ]
  },
  {
   "cell_type": "code",
   "execution_count": null,
   "metadata": {},
   "outputs": [],
   "source": []
  }
 ],
 "metadata": {
  "kernelspec": {
   "display_name": "Java",
   "language": "java",
   "name": "java"
  },
  "language_info": {
   "codemirror_mode": "java",
   "file_extension": ".jshell",
   "mimetype": "text/x-java-source",
   "name": "Java",
   "pygments_lexer": "java",
   "version": "13+33"
  }
 },
 "nbformat": 4,
 "nbformat_minor": 4
}
