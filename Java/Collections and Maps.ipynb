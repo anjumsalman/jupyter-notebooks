{
 "cells": [
  {
   "cell_type": "markdown",
   "metadata": {},
   "source": [
    "## Collections \n",
    "![Collections Hierarchy](./images/collections.png)"
   ]
  },
  {
   "cell_type": "markdown",
   "metadata": {},
   "source": [
    "## Iterable\n",
    "The `Iterable` interface allows an object to be used a *foreach* target. Defined as:"
   ]
  },
  {
   "cell_type": "code",
   "execution_count": null,
   "metadata": {},
   "outputs": [],
   "source": [
    "public interface Iterable<T> {\n",
    "    Iterator<T> iterator();\n",
    "\n",
    "    // ...\n",
    "}"
   ]
  },
  {
   "cell_type": "markdown",
   "metadata": {},
   "source": [
    "In addition there are two default methods `forEach` and `spliterator`.  The focus however is the `iterator` method that returns `Iterator` - a class that provides a uniform way of accessing elements of a collection:"
   ]
  },
  {
   "cell_type": "code",
   "execution_count": null,
   "metadata": {},
   "outputs": [],
   "source": [
    "public interface Iterator<E> {\n",
    "    boolean hasNext();\n",
    "    E next();\n",
    "    default void remove() {\n",
    "        throw new UnsupportedOperationException(\"remove\");\n",
    "    }\n",
    "}"
   ]
  },
  {
   "cell_type": "markdown",
   "metadata": {},
   "source": [
    "The first two  help with iteration, whereas the last one helps altering the structure of collection while iterating. Note that this interface doesn't expose methods to add element while iterating. Specific implementation of `Iterator` like `ListIterator` does provide an add method. Example:"
   ]
  },
  {
   "cell_type": "code",
   "execution_count": null,
   "metadata": {},
   "outputs": [],
   "source": [
    "class NRandoms implements Iterable<Integer> {\n",
    "    private final int COUNT;\n",
    "\n",
    "    public NRandoms(int n) {\n",
    "        this.COUNT = n;\n",
    "    }\n",
    "\n",
    "    @Override\n",
    "    public Iterator<Integer> iterator() {\n",
    "        return new Iterator<Integer>() {\n",
    "            private int c;\n",
    "\n",
    "            @Override\n",
    "            public boolean hasNext() {\n",
    "                return c < COUNT;\n",
    "            }\n",
    "\n",
    "            @Override\n",
    "            public Integer next() {\n",
    "                c++;\n",
    "                return new Random().nextInt();\n",
    "            }\n",
    "        };\n",
    "    }\n",
    "}\n",
    "\n",
    "for(Integer i : new NRandoms(5))\n",
    "    System.out.println(i);"
   ]
  },
  {
   "cell_type": "markdown",
   "metadata": {},
   "source": [
    "When structural change to a collection like adding and removing elements while iterating over the collection is required, iterator is directly used. Calling method like `remove` while iterating leads to `ConcurrentModificationException`:"
   ]
  },
  {
   "cell_type": "code",
   "execution_count": null,
   "metadata": {},
   "outputs": [],
   "source": [
    "List<String> cities = new ArrayList<>(List.of(\"Beijing\",\"Shenzhen\",\"Hangzhou\",\"Shanghai\",\"Guangzhou\"));\n",
    "for(String city : cities) {\n",
    "    if(city.startsWith(\"S\"))\n",
    "        cities.remove(city);  // throws exception\n",
    "}"
   ]
  },
  {
   "cell_type": "markdown",
   "metadata": {},
   "source": [
    "This exception is thrown when the iterator detects that structural modification to the collection was made not by the methods exposed by the iterator. The motivation for this behaviour is to flag that some other thread might be changing the collection while a thread is iterating over it."
   ]
  },
  {
   "cell_type": "markdown",
   "metadata": {},
   "source": [
    "## Collection\n",
    "Interface contains general purpose methods that we can expect from a container of collection of elements. To **add elements** to the collection, the following methods are available:"
   ]
  },
  {
   "cell_type": "code",
   "execution_count": null,
   "metadata": {},
   "outputs": [],
   "source": [
    "boolean add(E e);\n",
    "boolean addAll(Collection<? extends E> c);"
   ]
  },
  {
   "cell_type": "markdown",
   "metadata": {},
   "source": [
    "Based on the implementation, `add` can throw `UnsupportedOperationException` or throw `NullPointerException` when null elements are added. The return value indicates whether the contents of the collection changed. For example, adding duplicate element to a `Set` returns false.\n",
    "The `addAll` method copies contents of one collection into another. Changing the original collecition should not impact the collection into which it was copied to.\n",
    "\n",
    "Collection also provides facility to **remove elements** from a collection:"
   ]
  },
  {
   "cell_type": "code",
   "execution_count": null,
   "metadata": {},
   "outputs": [],
   "source": [
    "boolean clear();\n",
    "boolean remove(Object o);\n",
    "boolean removeAll(Collection<?> c);\n",
    "boolean retainAll(Collection<?> c);"
   ]
  },
  {
   "cell_type": "markdown",
   "metadata": {},
   "source": [
    "Remove methods uilise `equals` method for comparison and return true if the collection changed after the method execution. Similar to add, `UnsupportedOperationException` or `NullPointerException` are possibility with these operations.\n",
    "One notable difference with the `add` methods is that these accept `Object` instead of generic type.\n",
    "\n",
    "To **query contents**, the following methods are available:"
   ]
  },
  {
   "cell_type": "code",
   "execution_count": null,
   "metadata": {},
   "outputs": [],
   "source": [
    "boolean isEmpty();\n",
    "int size();                           // Maximum value it can return is Integer.MAX_VALUE\n",
    "\n",
    "boolean contains(Object o);           // Again note usage of Object instead of E\n",
    "boolean containsAll(Collection<?> c);"
   ]
  },
  {
   "cell_type": "markdown",
   "metadata": {},
   "source": [
    "`size` returning int can limit the number of elements in the collection in case of standard implementations like `ArrayList`, however custom implementations like *FastUtil* exist that overcome this by deprecating `size` and providing alternative method to return size. `contains` like `remove` utilises `equals`.\n",
    "\n",
    "Collection exposes few methods to convert **collection to array**:"
   ]
  },
  {
   "cell_type": "code",
   "execution_count": null,
   "metadata": {},
   "outputs": [],
   "source": [
    "Object[] toArray();\n",
    "<T> T[] toArray(T[] t);"
   ]
  },
  {
   "cell_type": "markdown",
   "metadata": {},
   "source": [
    "The second variant uses the supplied array to copy elements into (overriding contents), or returning a new one if the array is not large enough:"
   ]
  },
  {
   "cell_type": "code",
   "execution_count": 1,
   "metadata": {},
   "outputs": [
    {
     "name": "stdout",
     "output_type": "stream",
     "text": [
      "[1, 2, 3, 4, null]"
     ]
    }
   ],
   "source": [
    "List<Integer> l1 = List.of(1,2,3,4);\n",
    "Integer[] i1 = new Integer[]{-1,-2,-3,-4,-5};\n",
    "l1.toArray(i1);\n",
    "\n",
    "System.out.print(Arrays.toString(i1));"
   ]
  },
  {
   "cell_type": "code",
   "execution_count": 3,
   "metadata": {},
   "outputs": [
    {
     "name": "stdout",
     "output_type": "stream",
     "text": [
      "[-1, -2, -3]"
     ]
    }
   ],
   "source": [
    "Integer[] i2 = new Integer[]{-1,-2,-3};\n",
    "l1.toArray(i2);\n",
    "\n",
    "System.out.print(Arrays.toString(i2));"
   ]
  },
  {
   "cell_type": "code",
   "execution_count": null,
   "metadata": {},
   "outputs": [],
   "source": [
    "l1.toArray(new Integer[0]);\n",
    "l1.toArray(Integer[]::new);  // same as previous"
   ]
  },
  {
   "cell_type": "markdown",
   "metadata": {},
   "source": [
    "One pecularity of the method signature is that the type `T` is completely unrelated to type `E` of collection elements This shifts potential errors to runtime:"
   ]
  },
  {
   "cell_type": "code",
   "execution_count": 4,
   "metadata": {},
   "outputs": [
    {
     "ename": "EvalException",
     "evalue": "arraycopy: element type mismatch: can not cast one of the elements of java.lang.Object[] to the type of the destination array, java.lang.String",
     "output_type": "error",
     "traceback": [
      "\u001b[1m\u001b[31m---------------------------------------------------------------------------\u001b[0m",
      "\u001b[1m\u001b[31mjava.lang.ArrayStoreException: arraycopy: element type mismatch: can not cast one of the elements of java.lang.Object[] to the type of the destination array, java.lang.String\u001b[0m",
      "\u001b[1m\u001b[31m\tat java.base/java.util.Arrays.copyOf(Arrays.java:3515)\u001b[0m",
      "\u001b[1m\u001b[31m\tat java.base/java.util.ImmutableCollections$ListN.toArray(ImmutableCollections.java:711)\u001b[0m",
      "\u001b[1m\u001b[31m\tat java.base/java.util.Collection.toArray(Collection.java:418)\u001b[0m",
      "\u001b[1m\u001b[31m\tat .(#21:1)\u001b[0m"
     ]
    }
   ],
   "source": [
    "List.of(1,2,3).toArray(String[]::new); // compiles fine"
   ]
  },
  {
   "cell_type": "markdown",
   "metadata": {},
   "source": [
    "One possibility to fix this is to define `toArray` as `<T super E> T[] toArray(T[] a)`. But unlike `extends`, Java doesn't allow `super` in type variables. Another alternative way is to define a static method like:"
   ]
  },
  {
   "cell_type": "code",
   "execution_count": null,
   "metadata": {},
   "outputs": [],
   "source": [
    "<A, B extends A> A[] toArray(Collection<B> c, A[] a) {\n",
    "    return c.toArray(a);\n",
    "}"
   ]
  },
  {
   "cell_type": "markdown",
   "metadata": {},
   "source": [
    "Since generic arrays are involved, primitive arrays cannot be passed to `toArray`:"
   ]
  },
  {
   "cell_type": "code",
   "execution_count": null,
   "metadata": {},
   "outputs": [],
   "source": [
    "int[] nums = List.of(1,2,3).toArray(new int[0]);  // compile error"
   ]
  },
  {
   "cell_type": "markdown",
   "metadata": {},
   "source": [
    "## SequencedCollection\n",
    "![Sequenced Collection](./images/sequenced_collections.png)  \n",
    "Introduced in Java 21, `SequencedCollection` is the common class for unrelated collection classes that have a well defined order. Thus, `List`, `NavigableSet`, `Deque` have this class as a common ancestor. The class introduces the following methods:"
   ]
  },
  {
   "cell_type": "code",
   "execution_count": null,
   "metadata": {},
   "outputs": [],
   "source": [
    "SequencedCollection<E> reversed();\n",
    "// Below two methods do not return boolean unlike add. Why? Because it is modeled on\n",
    "// Deque where addFirst and addLast already existed and always succeeds.\n",
    "// For LinkedHashSet - what would the boolean true represent? Element was added OR element\n",
    "// existed but was moved to last? It is kind of ambigous\n",
    "default void addFirst(E e) {\n",
    "    throw new UnsupportedOperationException();\n",
    "}\n",
    "default void addLast(E e) {\n",
    "    throw new UnsupportedOperationException();\n",
    "}\n",
    "// Below two methods throws NoSuchElementException if the collection is empty\n",
    "default E getFirst() {\n",
    "    return this.iterator().next();\n",
    "}\n",
    "default E getLast() {\n",
    "    return this.reversed().iterator().next();\n",
    "}\n",
    "// also removeFirst and removeLast"
   ]
  },
  {
   "cell_type": "markdown",
   "metadata": {},
   "source": [
    "Not all the methods defined here make sense for all the child classes. For example, `NavigableSet` doesn't override the `addFirst` and `addLast` returning exception, since this set is internally sorted.\n",
    "\n",
    "`reversed` provides a reverse order view of the collection. Any modification to the view gets transmitted to the underlying collection; the reverse may not be applicable."
   ]
  },
  {
   "cell_type": "code",
   "execution_count": 5,
   "metadata": {},
   "outputs": [
    {
     "name": "stdout",
     "output_type": "stream",
     "text": [
      "[Hiroshima, Osaka]"
     ]
    }
   ],
   "source": [
    "NavigableSet<String> cities = new TreeSet<>();\n",
    "cities.add(\"Tokyo\"); cities.add(\"Osaka\"); cities.add(\"Hiroshima\");\n",
    "\n",
    "NavigableSet<String> citiesReversed = cities.reversed();\n",
    "citiesReversed.removeFirst();\n",
    "\n",
    "System.out.print(cities);"
   ]
  },
  {
   "cell_type": "markdown",
   "metadata": {},
   "source": [
    "## Set\n",
    "Collection that cannot contain duplicates, it has same set of methods as collection, but has been redefined to emphasis `Set` specific behaviours. It additinally introduces `equals` and `hashCode`. As per contract, two sets are equal if they have the same size and same elements. A set determines two elements are duplicate based on *equivalence relationship* which could be:\n",
    "- `equals` like in `HashSet`\n",
    "- identity like in `EnumSet`\n",
    "- Using custom `Comparator` or `Comparable` like in `NavigableSet`\n",
    "\n",
    "3 different mechanisms mean you can have two elements in the same set for which `equals` are equal but `compare` is not:"
   ]
  },
  {
   "cell_type": "code",
   "execution_count": null,
   "metadata": {},
   "outputs": [],
   "source": [
    " class Color implements Comparable<Color> {\n",
    "     public String name;\n",
    "     public int r,g,b;\n",
    "     public Color(String name, int r, int g, int b) {\n",
    "         this.name= name;\n",
    "         this.r = r;\n",
    "         this.g = g;\n",
    "         this.b = b;\n",
    "     }\n",
    "     public boolean equals(Object o) {\n",
    "         if(o instanceof Color othr) {\n",
    "             return this.name.equals(othr.name);\n",
    "         }\n",
    "         return false;\n",
    "     }\n",
    "     public int compareTo(Color othr) \n",
    "         return (othr.r + othr.g + othr.b) - (this.r + this.g + this.b);\n",
    "    }\n",
    "}\n",
    "\n",
    "Color c1 = new Color(\"red\", 255,0,0);\n",
    "Color c2 = new Color(\"red\", 254,0,0);\n",
    "c1.equals(c2); // true\n",
    "\n",
    "TreeSet<Color> colors = new TreeSet<>();\n",
    "colors.add(c1); // true, added to set\n",
    "colors.add(c2); // true, added to set"
   ]
  },
  {
   "cell_type": "markdown",
   "metadata": {},
   "source": [
    "### HashSet\n",
    "Is the most commonly used set implementation which internally uses a hash map implementation. Therefore the performance characteristics is same as a `HashMap` - meaning for lightly loaded `HashSet`, `add`, `remove` and `contains` take $O(1)$ time. `HashSet` is not thread safe.\n",
    "\n",
    "### CopyOnWriteArraySet\n",
    "Implementation uses `CopyOnWriteArrayList` internally therefore performance characteristic match that of an `ArrayList`. `add`, `remove` and `contains` take $O(n)$ time. The advantage over `HashSet` is that this variant provides thread safety - read operation doesn't need locking and is very fast. Write operation requires locks and is therefore expensive.\n",
    "\n",
    "`CopyOnWriteArraySet` should be used when set size is relatively small, read operations are far more frequent than writes and thread safety is required. Its iterator provides a snapshot of how the set was when the `Iterator` was constructed. No iteration required while list traversal.\n",
    "\n",
    "### EnumSet\n",
    "A set that can be used to store subset of an enum members. The maximum number of elements is therefore the number of enum instance specified."
   ]
  },
  {
   "cell_type": "code",
   "execution_count": 6,
   "metadata": {},
   "outputs": [
    {
     "data": {
      "text/plain": [
       "[MERCURY, MARS]"
      ]
     },
     "execution_count": 6,
     "metadata": {},
     "output_type": "execute_result"
    }
   ],
   "source": [
    "enum Planets { MERCURY, VENUS, EARTH, MARS, JUPITER, SATURN, NEPTUNE, URANUS }\n",
    "\n",
    "EnumSet.of(Planets.MERCURY, Planets.MARS);    // of() creates modifiable collection in this instance"
   ]
  },
  {
   "cell_type": "code",
   "execution_count": 7,
   "metadata": {},
   "outputs": [
    {
     "data": {
      "text/plain": [
       "[JUPITER, SATURN, NEPTUNE]"
      ]
     },
     "execution_count": 7,
     "metadata": {},
     "output_type": "execute_result"
    }
   ],
   "source": [
    "EnumSet.range(Planets.JUPITER, Planets.NEPTUNE);"
   ]
  },
  {
   "cell_type": "code",
   "execution_count": 8,
   "metadata": {},
   "outputs": [
    {
     "data": {
      "text/plain": [
       "[MERCURY, VENUS, EARTH, MARS, JUPITER, SATURN, NEPTUNE, URANUS]"
      ]
     },
     "execution_count": 8,
     "metadata": {},
     "output_type": "execute_result"
    }
   ],
   "source": [
    "EnumSet.allOf(Planets.class);"
   ]
  },
  {
   "cell_type": "markdown",
   "metadata": {},
   "source": [
    "Operations `add`, `remove` and `contains` all take $O(1)$ time. A simplistic implementation is given below, Java's implementation is more sophisticated and does bitwise operations on a long."
   ]
  },
  {
   "cell_type": "code",
   "execution_count": null,
   "metadata": {},
   "outputs": [],
   "source": [
    "class SimpleEnumSet<T extends Enum<T>> {\n",
    "    private final boolean[] elements;\n",
    "    \n",
    "    public ESet(Class<T> enumClass) {\n",
    "        elements = new boolean[enumClass.getEnumConstants().length];\n",
    "    }\n",
    "\n",
    "    public boolean add(T element) {\n",
    "        int pos = element.ordinal();\n",
    "        if (elements[pos]) {\n",
    "            return false;\n",
    "        } else {\n",
    "            elements[pos] = true;\n",
    "            return true;\n",
    "        }\n",
    "    }\n",
    "\n",
    "    public boolean contains(T element) {\n",
    "        return elements[element.ordinal()];\n",
    "    }\n",
    "\n",
    "    public boolean remove(T element) {\n",
    "        int pos = element.ordinal();\n",
    "        if (elements[pos]) {\n",
    "            elements[pos] = false;\n",
    "            return true;\n",
    "        } else {\n",
    "            return false;\n",
    "        }\n",
    "    }\n",
    "}"
   ]
  },
  {
   "cell_type": "markdown",
   "metadata": {},
   "source": [
    "### LinkedHashSet\n",
    "A set that maintains insertion order on iteration:"
   ]
  },
  {
   "cell_type": "code",
   "execution_count": 9,
   "metadata": {},
   "outputs": [
    {
     "data": {
      "text/plain": [
       "[California, Nevada, Texas, Vermont]"
      ]
     },
     "execution_count": 9,
     "metadata": {},
     "output_type": "execute_result"
    }
   ],
   "source": [
    "LinkedHashSet<String> states = new LinkedHashSet<>();\n",
    "states.add(\"California\"); states.add(\"Nevada\"); states.add(\"Texas\"); states.add(\"Vermont\");\n",
    "states;"
   ]
  },
  {
   "cell_type": "code",
   "execution_count": 11,
   "metadata": {},
   "outputs": [
    {
     "data": {
      "text/plain": [
       "[California, Nevada, Texas, Vermont]"
      ]
     },
     "execution_count": 11,
     "metadata": {},
     "output_type": "execute_result"
    }
   ],
   "source": [
    "states.addLast(\"Vermont\");\n",
    "states;"
   ]
  },
  {
   "cell_type": "markdown",
   "metadata": {},
   "source": [
    "Like `HashSet`, `LinkedHashSet` also has an underlying hash map.. Iterating is faster than `HashSet` though, since elements are all linked together."
   ]
  },
  {
   "cell_type": "markdown",
   "metadata": {},
   "source": [
    "### NavigableSet\n",
    "Provide gurantee that its `Iterator` would traverse the set in sorted order."
   ]
  },
  {
   "cell_type": "code",
   "execution_count": 12,
   "metadata": {},
   "outputs": [
    {
     "data": {
      "text/plain": [
       "[Car[make=Veyron, bhp=1001.0], Car[make=918 Spyder, bhp=887.0], Car[make=911 Turbo, bhp=641.0]]"
      ]
     },
     "execution_count": 12,
     "metadata": {},
     "output_type": "execute_result"
    }
   ],
   "source": [
    "record Car(String make, float bhp) {}\n",
    "\n",
    "NavigableSet<Car> cars = new TreeSet<>((c1, c2) -> Float.compare(c2.bhp(), c1.bhp()));\n",
    "cars.add(new Car(\"Veyron\", 1001.0f));\n",
    "cars.add(new Car(\"911 Turbo\", 641.0f));\n",
    "cars.add(new Car(\"918 Spyder\", 887.0f));\n",
    "cars;"
   ]
  },
  {
   "cell_type": "code",
   "execution_count": 13,
   "metadata": {},
   "outputs": [
    {
     "name": "stdout",
     "output_type": "stream",
     "text": [
      "Car[make=Veyron, bhp=1001.0]\n",
      "Car[make=911 Turbo, bhp=641.0]\n"
     ]
    },
    {
     "data": {
      "text/plain": [
       "[Car[make=918 Spyder, bhp=887.0]]"
      ]
     },
     "execution_count": 13,
     "metadata": {},
     "output_type": "execute_result"
    }
   ],
   "source": [
    "// Remove and return elements\n",
    "System.out.println(cars.pollFirst());\n",
    "System.out.println(cars.pollLast());\n",
    "cars;"
   ]
  },
  {
   "cell_type": "markdown",
   "metadata": {},
   "source": [
    "If a `Comparator` is not provides, it is assumed that elements are instance of `Comparable`.\n",
    "\n",
    "`SortedSet`, the parent of `NavigableSet` provides certain methods that establish view into the collection:"
   ]
  },
  {
   "cell_type": "code",
   "execution_count": 16,
   "metadata": {},
   "outputs": [
    {
     "name": "stdout",
     "output_type": "stream",
     "text": [
      "[Banyan, Eucalyptus]\n",
      "[Banyan, Eucalyptus]\n",
      "[Eucalyptus, Maple, Oak]\n"
     ]
    }
   ],
   "source": [
    "SortedSet<String> trees = new TreeSet<>();\n",
    "trees.add(\"Oak\"); trees.add(\"Maple\"); trees.add(\"Eucalyptus\"); trees.add(\"Banyan\");\n",
    "\n",
    "System.out.println(trees.subSet(\"Banyan\", \"Maple\"));\n",
    "System.out.println(trees.headSet(\"Maple\"));\n",
    "System.out.println(trees.tailSet(\"Eucalyptus\"));"
   ]
  },
  {
   "cell_type": "markdown",
   "metadata": {},
   "source": [
    "Adding to the view may pass or may fail with \"IllegalArgumentException: key out of range\" exception. Changing the origianl list also updates the view automatically."
   ]
  },
  {
   "cell_type": "markdown",
   "metadata": {},
   "source": [
    "**`TreeSet`** is the implementation of `NavigableSet` provided by Java. `TreeSet` internally uses *red-black tree*. `add`, `contains` and `remove` are executed in $O(\\log{n})$ time."
   ]
  },
  {
   "cell_type": "markdown",
   "metadata": {},
   "source": [
    "### ConcurrentSkipList\n",
    "Backed by [SkipList](https://en.wikipedia.org/wiki/Skip_list), this set provides thread safe and sorted set . Operations `add`, `remove` and `contains` take $O(\\log{n})$ time."
   ]
  },
  {
   "cell_type": "code",
   "execution_count": null,
   "metadata": {},
   "outputs": [],
   "source": []
  }
 ],
 "metadata": {
  "kernelspec": {
   "display_name": "Java",
   "language": "java",
   "name": "java"
  },
  "language_info": {
   "codemirror_mode": "java",
   "file_extension": ".jshell",
   "mimetype": "text/x-java-source",
   "name": "Java",
   "pygments_lexer": "java",
   "version": "21.0.2+13-58"
  }
 },
 "nbformat": 4,
 "nbformat_minor": 4
}
