{
 "cells": [
  {
   "cell_type": "markdown",
   "metadata": {},
   "source": [
    "## Collections Class Hierarchy\n",
    "Hierarchy (excluding abstract classes):\n",
    "```\n",
    "Collection (I)\n",
    "            +-- Set (I)\n",
    "            |        +-- HashSet (C)\n",
    "            |        |            +-- LinkedHashSet (C)\n",
    "            |        +-- SortedSet (I)\n",
    "            |                       +-- NavigableSet (I)\n",
    "            |                                         +-- TreeSet (C)\n",
    "            +-- List (I)\n",
    "            |         +-- ArrayList (C)\n",
    "            |         +-- Vector (C)\n",
    "            |         +-- LinkedList (C) also implements Deque\n",
    "            +-- Queue (I)\n",
    "                       +-- Deque (I)\n",
    "                       |          +-- LinkedList (C) also implements List\n",
    "                       +-- PriorityQueue (C)\n",
    "```"
   ]
  },
  {
   "cell_type": "markdown",
   "metadata": {},
   "source": [
    "## List\n",
    "`ArrayList` is the most used List implementation. `Vector` is same as ArrayList, except that it is synchronized. Both of them internally use an `Object[]` array. All the addition, removal and traversal happens on this array. The array is grown dynamically."
   ]
  },
  {
   "cell_type": "code",
   "execution_count": 1,
   "metadata": {},
   "outputs": [
    {
     "name": "stdout",
     "output_type": "stream",
     "text": [
      "2.5\n",
      "4.7\n"
     ]
    }
   ],
   "source": [
    "List<Float> someValues = new ArrayList<>();\n",
    "someValues.add(2.5f);\n",
    "someValues.add(4.7f);\n",
    "for(float f: someValues){\n",
    "    System.out.println(f);\n",
    "}"
   ]
  },
  {
   "cell_type": "markdown",
   "metadata": {},
   "source": [
    "## Set\n",
    "`HashSet` is the most common implementation of Set. Internally it uses a map to store information. The values added to the set forms the map's keys, whereas the map's values are set as null.  \n",
    "\n",
    "None of the Set implementations as synchronous. Use `Collections.synchronizedSet()`."
   ]
  },
  {
   "cell_type": "code",
   "execution_count": 2,
   "metadata": {},
   "outputs": [
    {
     "name": "stdout",
     "output_type": "stream",
     "text": [
      "4\n"
     ]
    }
   ],
   "source": [
    "Set<Integer> primes = new HashSet<>();\n",
    "primes.add(2);primes.add(2);primes.add(3);\n",
    "primes.add(5);primes.add(7);primes.add(7);\n",
    "\n",
    "System.out.println(primes.size())"
   ]
  },
  {
   "cell_type": "markdown",
   "metadata": {},
   "source": [
    "Since, HashSet is based on map, its iteration order is not the same as that of insertion order. To maintain insertion order, use `LinkedHashSet`."
   ]
  },
  {
   "cell_type": "code",
   "execution_count": 6,
   "metadata": {},
   "outputs": [
    {
     "name": "stdout",
     "output_type": "stream",
     "text": [
      "2 3 5 7 \n",
      "2 3 5 7 "
     ]
    }
   ],
   "source": [
    "Iterator<Integer> pIterator = primes.iterator();\n",
    "while(pIterator.hasNext())\n",
    "    System.out.print(pIterator.next() + \" \");\n",
    "    \n",
    "Set<Integer> anotherPrimes = new LinkedHashSet<>();\n",
    "anotherPrimes.add(2);anotherPrimes.add(2);anotherPrimes.add(3);\n",
    "anotherPrimes.add(5);anotherPrimes.add(7);anotherPrimes.add(7);\n",
    "\n",
    "System.out.println();\n",
    "Iterator<Integer> apIterator = anotherPrimes.iterator();\n",
    "while(apIterator.hasNext())\n",
    "    System.out.print(apIterator.next() + \" \");"
   ]
  },
  {
   "cell_type": "markdown",
   "metadata": {},
   "source": [
    "To maintain natural sorting order, use `TreeSet`."
   ]
  },
  {
   "cell_type": "code",
   "execution_count": 7,
   "metadata": {},
   "outputs": [
    {
     "name": "stdout",
     "output_type": "stream",
     "text": [
      "124817519 152547569 390882712 879733970 1702448752 "
     ]
    }
   ],
   "source": [
    "Set<Integer> randomNumbers = new TreeSet<>();\n",
    "for(int i=0; i<5; i++){\n",
    "    Random r = new Random();\n",
    "    randomNumbers.add(r.nextInt());\n",
    "}\n",
    "\n",
    "for(int j: randomNumbers)\n",
    "    System.out.print(j + \" \");"
   ]
  },
  {
   "cell_type": "markdown",
   "metadata": {},
   "source": [
    "## The Collections Class\n",
    "Similar to `Arrays`, class `Collections` provides several useful utility functions to perform various operations on collections. Consider class as defined below:"
   ]
  },
  {
   "cell_type": "code",
   "execution_count": 8,
   "metadata": {},
   "outputs": [],
   "source": [
    "public class Country implements Comparable<Country>{\n",
    "    String name;\n",
    "    int pop;\n",
    "    float area;\n",
    "    \n",
    "    Country(String name, int pop, float area){\n",
    "        this.name = name;\n",
    "        this.pop = pop;\n",
    "        this.area = area;\n",
    "    }\n",
    "    \n",
    "    @Override\n",
    "    public int compareTo(Country c){\n",
    "        return this.pop - c.pop;\n",
    "    }\n",
    "    \n",
    "    @Override\n",
    "    public String toString(){\n",
    "        return name + \"[pop = \" + pop + \", area = \" + area + \"]\";\n",
    "    }\n",
    "}"
   ]
  },
  {
   "cell_type": "markdown",
   "metadata": {},
   "source": [
    "Before we know how to sort collections, we must know about `Comparable` and `Comparator`. In order to use `Arrays.sort` or `Collections.sort` methods, the object in array or collection must implement `Comparable` interface thereby override `compareTo` method. Collection/array of primitive data types do not have this requirement.  \n",
    "If we want to sort by some other property of the object, we can supply a `Comparator` object to the sort methods."
   ]
  },
  {
   "cell_type": "code",
   "execution_count": 10,
   "metadata": {},
   "outputs": [
    {
     "name": "stdout",
     "output_type": "stream",
     "text": [
      "Bangladesh[pop = 140, area = 0.64]\n",
      "USA[pop = 300, area = 9.7]\n",
      "India[pop = 1300, area = 3.28]\n",
      "China[pop = 1400, area = 9.68]\n"
     ]
    }
   ],
   "source": [
    "List<Country> countries = new ArrayList<>();\n",
    "countries.add(new Country(\"India\", 1300, 3.28f)); countries.add(new Country(\"China\", 1400, 9.68f));\n",
    "countries.add(new Country(\"Bangladesh\", 140, 0.64f)); countries.add(new Country(\"USA\", 300, 9.7f));\n",
    "Collections.sort(countries);    // Sorted by population\n",
    "for(Country country: countries){\n",
    "    System.out.println(country);\n",
    "}"
   ]
  },
  {
   "cell_type": "code",
   "execution_count": 12,
   "metadata": {},
   "outputs": [
    {
     "name": "stdout",
     "output_type": "stream",
     "text": [
      "Bangladesh[pop = 140, area = 0.64]\n",
      "India[pop = 1300, area = 3.28]\n",
      "USA[pop = 300, area = 9.7]\n",
      "China[pop = 1400, area = 9.68]\n"
     ]
    }
   ],
   "source": [
    "// If we want to sort by area instead, we need to use Comparator\n",
    "Collections.sort(countries, (c1, c2)->{\n",
    "    return (int)(c1.area - c2.area);\n",
    "});\n",
    "\n",
    "/*\n",
    "Equivalently\n",
    "Collections.sort(countries, new Comparator<Country>(){\n",
    "    @Override\n",
    "    public int compare(Country c1, Country c2){\n",
    "        return c1.area - c2.area;\n",
    "    }\n",
    "});\n",
    "*/\n",
    "\n",
    "for(Country country: countries){\n",
    "    System.out.println(country);\n",
    "}"
   ]
  },
  {
   "cell_type": "code",
   "execution_count": null,
   "metadata": {},
   "outputs": [],
   "source": []
  }
 ],
 "metadata": {
  "kernelspec": {
   "display_name": "Java",
   "language": "java",
   "name": "java"
  },
  "language_info": {
   "codemirror_mode": "java",
   "file_extension": ".jshell",
   "mimetype": "text/x-java-source",
   "name": "Java",
   "pygments_lexer": "java",
   "version": "13+33"
  }
 },
 "nbformat": 4,
 "nbformat_minor": 4
}
