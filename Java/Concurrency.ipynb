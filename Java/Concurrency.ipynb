{
 "cells": [
  {
   "cell_type": "markdown",
   "metadata": {
    "jupyter": {
     "source_hidden": true
    }
   },
   "source": [
    "### Creating and Running Threads\n",
    "To create a thread we can either extend the Thread class or pass Runnable to the Thread constructor.\n",
    "\n",
    "```java\n",
    "// Extend Thread class\n",
    "public class SampleThread extends Thread {\n",
    "\t@Override\n",
    "\tpublic void run() {\n",
    "\t\tSystem.out.println(\"Thread is running\");\n",
    "\t}\n",
    "\n",
    "\tpublic static void main(String[] args) {\n",
    "\t\tSampleThread thread = new SampleThread();\n",
    "\t\tthread.start();\n",
    "\t}\n",
    "}\n",
    "```\n",
    "\n",
    "Or\n",
    "```java\n",
    "public static void main(String[] args) {\n",
    "\t\tRunnable r = new Runnable() {\n",
    "\t\t\t@Override\n",
    "\t\t\tpublic void run() {\n",
    "\t\t\t\tSystem.out.println(\"Thread is running\");\n",
    "\t\t\t}\n",
    "\t\t};\n",
    "\t\t\n",
    "\t\tThread t = new Thread(r);\n",
    "\t\tt.start();\n",
    "\t}\n",
    "```\n",
    "\n",
    "We can assign a name to the Thread by using the constructor which accepts name as the second parameter.\n",
    "```java\n",
    "Thread t = new Thread(r, \"Thread A\");\n",
    "t.start();\n",
    "```\n",
    "\n",
    "In order to get the current thread in execution:\n",
    "```java\n",
    "public static void main(String[] args) {\n",
    "\t\tThread t1 = new Thread(() -> {\n",
    "\t\t\tSystem.out.println(\"Running thread: \" + Thread.currentThread().getName());\n",
    "\t\t}, \"Thread 1\");\n",
    "\t\tt1.start();\n",
    "\n",
    "\t\tThread t2 = new Thread(() -> {\n",
    "\t\t\tSystem.out.println(\"Running thread: \" + Thread.currentThread().getName());\n",
    "\t\t}, \"Thread 2\");\n",
    "\t\tt2.start();\n",
    "\n",
    "\t\tThread t3 = new Thread(() -> {\n",
    "\t\t\tSystem.out.println(\"Running thread: \" + Thread.currentThread().getName());\n",
    "\t\t}, \"Thread 3\");\n",
    "\t\tt3.start();\n",
    "\t}\n",
    "```"
   ]
  },
  {
   "cell_type": "markdown",
   "metadata": {
    "jupyter": {
     "source_hidden": true
    }
   },
   "source": [
    "### Race Condition and Atomicity\n",
    "Many operations in Java, consist of smaller operations. Operation as small as addition `a +=1` is actually composed of the following instructions:\n",
    "- Get data from memory\n",
    "- Add one to data\n",
    "- Put data back to the memory\n",
    "\n",
    "When multiple threads do the same operations, the above listed steps may get interleaved giving incorrect result. For example:\n",
    "```java\n",
    "public class AtomicOperation {\n",
    "\tpublic static void main(String[] args) {\n",
    "\t\tSharedUnsafeObject obj = new SharedUnsafeObject();\n",
    "\n",
    "\t\tfor (int i = 0; i < 5; i++) {\n",
    "\t\t\tnew Thread(() -> {\n",
    "\t\t\t\tobj.incrementCounter();\n",
    "\t\t\t}).start();\n",
    "\t\t}\n",
    "\t\t\n",
    "\t\ttry {\n",
    "\t\t\tThread.sleep(1000);\n",
    "\t\t\tSystem.out.println(obj.getCounter()); // Output not guaranteed as 5\n",
    "\t\t} catch (InterruptedException e) {\n",
    "\t\t\te.printStackTrace();\n",
    "\t\t}\n",
    "\t}\n",
    "}\n",
    "\n",
    "class SharedUnsafeObject {\n",
    "\tprivate long counter = 0;\n",
    "\n",
    "\tpublic void incrementCounter() {\n",
    "\t\tthis.counter++;\n",
    "\t}\n",
    "\n",
    "\tpublic long getCounter() {\n",
    "\t\treturn this.counter;\n",
    "\t}\n",
    "}\n",
    "```\n",
    "\n",
    "One possible solution is to use Atomic classes which do operations in one step:\n",
    "```java\n",
    "class SharedSafeObject {\n",
    "\tprivate AtomicLong counter;\n",
    "\t\n",
    "\tpublic void incrementCounter() {\n",
    "\t\tthis.counter.incrementAndGet();\n",
    "\t}\n",
    "\t\n",
    "\tpublic long getCounter() {\n",
    "\t\treturn this.counter.get();\n",
    "\t}\n",
    "}\n",
    "```\n",
    "\n",
    "Another solution is to use synchronized blocks. "
   ]
  },
  {
   "cell_type": "markdown",
   "metadata": {
    "jupyter": {
     "source_hidden": true
    }
   },
   "source": [
    "### Interrupts\n",
    "An interrupt is a signal to a thread to indicate that it should stop what it is currently doing and do something else. It is upto the thread to act upon the interrrupt or completely ignore it.\n",
    "\n",
    "```java\n",
    "Thread t = new Thread(() -> {\n",
    "    int i = 0;\n",
    "    for (; i < 1000000; i++) {\n",
    "        if (Thread.interrupted()) {\n",
    "            break;\n",
    "        }\n",
    "    }\n",
    "\n",
    "    System.out.println(\"Interrupted at \" + i);\n",
    "});\n",
    "\n",
    "t.start();\n",
    "\n",
    "Thread.sleep(2); // Let the thread t to run for some time\n",
    "\n",
    "t.interrupt(); // Now interrupt the thread t\n",
    "```\n",
    "\n",
    "some Thread methods also respond to interruption like the `Thread.sleep` method. In that case `InterruptedException` is thrown\n",
    "\n",
    "```java\n",
    "Thread t = new Thread(() -> {\n",
    "    try {\n",
    "        Thread.sleep(5000);\n",
    "    } catch (InterruptedException e) {\n",
    "        System.out.println(\"Thread was interrupted while sleeping\");\n",
    "    }\n",
    "});\n",
    "\n",
    "t.start();\n",
    "\n",
    "Thread.sleep(1000); // Let the thread t to run for some time\n",
    "\n",
    "t.interrupt(); // Now interrupt the thread t\n",
    "```\n",
    "\n",
    "**Interruption Flag:** The interrupt mechanism is implemented using an internal flag known as the interrupt status. Invoking `Thread.interrupt` sets this flag. When a thread checks for an interrupt by invoking the static method `Thread.interrupted`, interrupt status is cleared. The non-static `isInterrupted` method, which is used by one thread to query the interrupt status of another, does not change the interrupt status flag."
   ]
  },
  {
   "cell_type": "markdown",
   "metadata": {
    "jupyter": {
     "source_hidden": true
    }
   },
   "source": [
    "### Join\n",
    "Calling `t.join()` causes the current thread to pause execution till the threat t completes execution. Similar to sleep, join also responds to interruption. \n",
    "\n",
    "```java\n",
    "Thread[] threads = new Thread[5];\n",
    "for(int i=0; i<5; i++){\n",
    "    threads[i] = new Thread(new Runnable(){\n",
    "        void run(){\n",
    "            try {\n",
    "                Thread.sleep(5000);\n",
    "            } catch (InterruptedException e) {\n",
    "                System.err.println(\"Thread was interrupted while sleeping\");\n",
    "            }\n",
    "        }\n",
    "    });\n",
    "}\n",
    "\n",
    "for(int i=0; i<5; i++){\n",
    "    try {\n",
    "        threads[i].join();\n",
    "    } catch (InterruptedException e) {\n",
    "        System.err.println(\"Thread was interrupted while waiting for thread \" + i + \" to finish\");\n",
    "    }\n",
    "}\n",
    "\n",
    "System.out.println(\"All done\");\n",
    "```"
   ]
  },
  {
   "cell_type": "markdown",
   "metadata": {
    "jupyter": {
     "source_hidden": true
    }
   },
   "source": [
    "### Synchronization\n",
    "Synchronization prevents some form of errors which happen if multiple threads try to access the same resource at the same time. As discussed above, the situation can lead to:\n",
    "**Thread Interference:** two operations consist of multiple steps, and the sequences of steps overlap. As in the counter example above.  \n",
    "**Memory Inconsistency:** errors occur when different threads have inconsistent views of what should be the same data.\n",
    "\n",
    "**Synchronized Methods** whenever we add `synchronized` keyword to a method, the method can only be executed by one thread at a time. The counter program can be rewritten by using synchronized methods as:\n",
    "```java\n",
    "class SharedObject {\n",
    "    private long counter = 0;\n",
    "\n",
    "    public synchronized void incrementCounter() {\n",
    "        this.counter++;\n",
    "    }\n",
    "\n",
    "    public synchronized long getCounter() {\n",
    "        return this.counter;\n",
    "    }\n",
    "}\n",
    "```\n",
    "\n",
    "It should be noted that Constructors cannot be synchronized.\n",
    "\n",
    "**Synchronized Blocks** synchronization is built around the concept of *locks*. Before a thread can execute a synchronized method, it must own the lock associated with it. In case of synchronized methods, that lock is `this` reference. This can be better illustrated by rewriting the above methods as:\n",
    "```java\n",
    "class SharedObject {\n",
    "    private long counter = 0;\n",
    "\n",
    "    public void incrementCounter() {\n",
    "        synchronized(this){\n",
    "            this.counter++;\n",
    "        }\n",
    "    }\n",
    "\n",
    "    public long getCounter() {\n",
    "        synchronized(this){\n",
    "            return this.counter;\n",
    "        }\n",
    "    }\n",
    "}\n",
    "```\n",
    "\n",
    "One possible problem with synchronized method is that out of all the synchronized methods of an object instance, only one method can be run at a time. In the above example two different threads therefore cannot execute two different synchronized methods at the same time. Therefore, in certain scenarios where we we want to modify two completely unrelated data in an object, we make use of synchronized blocks with multiple locks for more granular control over concurrent access:\n",
    "```java\n",
    "class SharedObject {\n",
    "    private long c1 = 0;\n",
    "    private long c2 = 0;\n",
    "    private Object o1 = new Object();\n",
    "    private Object o2 = new Object();\n",
    "\n",
    "    public void incrementC1() {\n",
    "        synchronized(o1){\n",
    "            this.c1++;\n",
    "        }\n",
    "    }\n",
    "    \n",
    "    public void incrementC2() {\n",
    "        synchronized(o2){\n",
    "            this.c2++;\n",
    "        }\n",
    "    }\n",
    "}\n",
    "```"
   ]
  },
  {
   "cell_type": "code",
   "execution_count": null,
   "metadata": {
    "jupyter": {
     "source_hidden": true
    }
   },
   "outputs": [],
   "source": []
  },
  {
   "cell_type": "markdown",
   "metadata": {},
   "source": [
    "### Threads\n",
    "There are two primary ways to create a thread. 1) Extend the `Thread` class and override the run method."
   ]
  },
  {
   "cell_type": "code",
   "execution_count": null,
   "metadata": {},
   "outputs": [],
   "source": [
    "public class Worker extends Thread{\n",
    "    @Override\n",
    "    public void run(){\n",
    "        System.out.println(\"Worker thread running\");\n",
    "    }\n",
    "}\n",
    "\n",
    "Worker worker = new Worker();"
   ]
  },
  {
   "cell_type": "markdown",
   "metadata": {},
   "source": [
    "2) The preferred way is to pass a `Runnable` instance to Thread constructor"
   ]
  },
  {
   "cell_type": "code",
   "execution_count": null,
   "metadata": {},
   "outputs": [],
   "source": [
    "Runnable runnable = new Runnable{\n",
    "    public void run(){\n",
    "        System.out.println(\"Worker thread running\");\n",
    "    }\n",
    "}\n",
    "\n",
    "Thread worker = new Thread(runnable);"
   ]
  },
  {
   "cell_type": "markdown",
   "metadata": {},
   "source": [
    "**Starting a thread:** use the `start` method of the Thread class. The `isAlive` method can tell if the thread is currently running or not. isAlive returns false if the thread has not been started or the thread has been terminated.  \n",
    "\n",
    "**Stopping a thread:** is not as straight forward as starting it. The only way to terminate a thread is to arrange for its run method to complete. The thread class has a `stop` method, but it has been deprecated. It has been deprecated because stopping a thread releases all the locks it may have. If the thread was inside a critical section when stopped, it would lead to corrupted state. Other threads which access that critical section might be working with corrupted state.\n",
    "\n",
    "Thread throwing an unchecked exception can also terminate the thread. Two approaches for stopping a thread: \n",
    "1) setting a flag"
   ]
  },
  {
   "cell_type": "code",
   "execution_count": null,
   "metadata": {},
   "outputs": [],
   "source": [
    "public class Worker extends Thread{\n",
    "    private volatile boolean done = false;\n",
    "    \n",
    "    @Override\n",
    "    public void run(){\n",
    "        while(!done){\n",
    "            // Do something\n",
    "        }\n",
    "    }\n",
    "    \n",
    "    // Other methods\n",
    "}"
   ]
  },
  {
   "cell_type": "markdown",
   "metadata": {},
   "source": [
    "An external code can stop this thread by setting done as true. But the thread will only stop when the execution reaches the top of the loop (and not immediately).  \n",
    "2) Using interrupts: we can call `interrupt` method of any thread. It has two effects. First, it sets internal interrupted flag of the thread to true. Second, it causes any blocking method like `sleep`, `join`, `wait` to stop blocking and throw `InterruptedException`."
   ]
  },
  {
   "cell_type": "code",
   "execution_count": null,
   "metadata": {},
   "outputs": [],
   "source": [
    "public class Worker extends Thread{\n",
    "    \n",
    "    @Override\n",
    "    public void run(){\n",
    "        while(!isInterrupted()){\n",
    "            // Do something\n",
    "        }\n",
    "    }\n",
    "    \n",
    "    // Other methods\n",
    "}\n",
    "\n",
    "Worker worker = new Worker();\n",
    "worker.start();\n",
    "worker.interrupt();"
   ]
  },
  {
   "cell_type": "markdown",
   "metadata": {},
   "source": [
    "**Pausing a thread:** the Thread class has `suspend` and `resume` methods which have been deprecated (due to possibility of deadlock). It is still possible for a thread to suspend its own execution for a specified amount of time using `sleep` method. The least amount of time a thread can sleep on most Java implementations is 20 to 50 ms."
   ]
  },
  {
   "cell_type": "code",
   "execution_count": 6,
   "metadata": {},
   "outputs": [
    {
     "name": "stdout",
     "output_type": "stream",
     "text": [
      "1152488192\t2140810343\t1285862342\t1650368227\t-1184878083\t1039227028\t278517272\t-1543200418\t401414008\t-531716027\t"
     ]
    }
   ],
   "source": [
    "public class DelayedRandomGenerator extends Thread {\n",
    "    public void run() {\n",
    "        Random random = new Random();\n",
    "        while (!isInterrupted()) {\n",
    "            System.out.print(random.nextInt() + \"\\t\");\n",
    "            try {\n",
    "                sleep(200);\n",
    "            } catch (InterruptedException e) {\n",
    "                break;\n",
    "            }\n",
    "        }\n",
    "    }\n",
    "}\n",
    "\n",
    "DelayedRandomGenerator generator = new DelayedRandomGenerator();\n",
    "generator.start();\n",
    "\n",
    "try {\n",
    "    Thread.sleep(1000);\n",
    "} catch (InterruptedException e) {\n",
    "    System.exit(0);\n",
    "}        \n",
    "\n",
    "generator.interrupt();"
   ]
  },
  {
   "cell_type": "markdown",
   "metadata": {},
   "source": [
    "### Race Condition\n",
    "When two or more threads access a given state variable, and try to change it, it can lead to a race condition."
   ]
  },
  {
   "cell_type": "code",
   "execution_count": null,
   "metadata": {},
   "outputs": [],
   "source": [
    "class SharedUnsafeObject {\n",
    "    private long counter = 0;\n",
    "\n",
    "    public void incrementCounter() {\n",
    "        this.counter++;\n",
    "    }\n",
    "\n",
    "    public long getCounter() {\n",
    "        return this.counter;\n",
    "    }\n",
    "}\n",
    "\n",
    "SharedUnsafeObject obj = new SharedUnsafeObject();\n",
    "\n",
    "// 5 threads trying to access counter variable of the\n",
    "// same object\n",
    "for (int i = 0; i < 5; i++) {\n",
    "    new Thread(() -> {\n",
    "        obj.incrementCounter();\n",
    "    }).start();\n",
    "}\n",
    "\n",
    "try {\n",
    "    Thread.sleep(1000);\n",
    "    System.out.println(obj.getCounter()); // Output not guaranteed as 5\n",
    "} catch (InterruptedException e) {\n",
    "    e.printStackTrace();\n",
    "}"
   ]
  },
  {
   "cell_type": "markdown",
   "metadata": {},
   "source": [
    "Race condition in above case happens because the operation `this.counter++;` is not atomic. It is comprised of few substeps and different threads can interleave execution of these steps. \n",
    "\n",
    "Another example of non-atomic operation: 32 bit read/write (int, references) operations are atomic, however long, float (64 bits) etc are not stored/loaded atomically, rather it is 2 32 bits store operations. For example:\n",
    "\n",
    "```\n",
    "ThreadA : long sharedX = 2L;\n",
    "ThreadB : long sharedY = -1L;\n",
    "\n",
    "Possible ordering\n",
    "------------------------------------------\n",
    "Thread A            | Thread B\n",
    "------------------------------------------\n",
    "setHi 0000 0000     | \n",
    "                    | setHi ffff ffff\n",
    "setLo 0000 0002     | \n",
    "                    | setLo ffff ffff\n",
    "```"
   ]
  },
  {
   "cell_type": "markdown",
   "metadata": {},
   "source": [
    " Another example of non-atomic operation is creating new object"
   ]
  },
  {
   "cell_type": "code",
   "execution_count": null,
   "metadata": {},
   "outputs": [],
   "source": [
    "Point p = new Point(5,4);"
   ]
  },
  {
   "cell_type": "markdown",
   "metadata": {},
   "source": [
    "The above statement is not atomic. It is composed of the following steps:\n",
    "1. Allocate memory for the object\n",
    "2. Call construct to initialise values\n",
    "\n",
    "Illustrated as:\n",
    "```\n",
    "local1 = calloc(sizeof(Point));\n",
    "local1.<init>(5,4);\n",
    "    Object.<init>();\n",
    "    local1.x = 5;\n",
    "    local1.y = 4;\n",
    "instance = local1;\n",
    "```"
   ]
  },
  {
   "cell_type": "code",
   "execution_count": null,
   "metadata": {},
   "outputs": [],
   "source": [
    "/* Inadequate singleton implementation. May end up with\n",
    "   multiple instances of Singleton\n",
    "*/\n",
    "public class Singleton{\n",
    "    private static Singleton instance = null;\n",
    "    \n",
    "    public Singleton getInstance(){\n",
    "        if(instance == null){\n",
    "            instance = new Singleton();\n",
    "        }\n",
    "        \n",
    "        return instance;\n",
    "    }\n",
    "}"
   ]
  },
  {
   "cell_type": "markdown",
   "metadata": {},
   "source": [
    "One way to prevent race condition is to utilise *atomic operations*. The increment operation in previous example is a *read-modify-write* operation, whereas operation in singleton example is *check then act* operation. Both of these must be atomic. The read-modify-write operation problem can be solved using an *Atomic Type*."
   ]
  },
  {
   "cell_type": "code",
   "execution_count": null,
   "metadata": {},
   "outputs": [],
   "source": [
    "class SharedSafeObject {\n",
    "    // Atomic varibles ensure memory visibility\n",
    "    private AtomicLong counter = new AtomicLong(0);\n",
    "\n",
    "    public void incrementCounter() {\n",
    "        this.counter.incrementAndGet();\n",
    "    }\n",
    "\n",
    "    public long getCounter() {\n",
    "        return this.counter.get();\n",
    "    }\n",
    "}"
   ]
  },
  {
   "cell_type": "markdown",
   "metadata": {},
   "source": [
    "Another solution is to use `synchronized` keyword. A method marked as synchronized can be executed by a single thread at any given moment. Whenever a thread wants to execute a synchronized method, it first obtain the corresponding lock. If the lock is held by another thread, then the thread requesting lock must wait till the lock is released.  \n",
    "\n",
    "Below is the synchronized version of the shared object example used earlier:"
   ]
  },
  {
   "cell_type": "code",
   "execution_count": null,
   "metadata": {},
   "outputs": [],
   "source": [
    "class SharedObject {\n",
    "    private long counter = 0;\n",
    "\n",
    "    public synchronized void incrementCounter() {\n",
    "        this.counter++;\n",
    "    }\n",
    "\n",
    "    public synchronized long getCounter() {\n",
    "        return this.counter;\n",
    "    }\n",
    "}"
   ]
  },
  {
   "cell_type": "markdown",
   "metadata": {},
   "source": [
    "The above example is equivalent to:"
   ]
  },
  {
   "cell_type": "code",
   "execution_count": null,
   "metadata": {},
   "outputs": [],
   "source": [
    "// The lock object is 'this'\n",
    "class SharedObject {\n",
    "    private long counter = 0;\n",
    "\n",
    "    public void incrementCounter() {\n",
    "        synchronized(this){\n",
    "            this.counter++;\n",
    "        }\n",
    "    }\n",
    "\n",
    "    public long getCounter() {\n",
    "        synchronized(this){\n",
    "            return this.counter;\n",
    "        }\n",
    "    }\n",
    "}"
   ]
  },
  {
   "cell_type": "markdown",
   "metadata": {},
   "source": [
    "If an object has two independent state variables, it better to use to different lock objects such that two different threads can access two states concurrently."
   ]
  },
  {
   "cell_type": "code",
   "execution_count": null,
   "metadata": {},
   "outputs": [],
   "source": [
    "class SharedObject {\n",
    "    private long c1 = 0;\n",
    "    private long c2 = 0;\n",
    "    private Object o1 = new Object();\n",
    "    private Object o2 = new Object();\n",
    "\n",
    "    public void incrementC1() {\n",
    "        synchronized(o1){\n",
    "            this.c1++;\n",
    "        }\n",
    "    }\n",
    "\n",
    "    public void incrementC2() {\n",
    "        synchronized(o2){\n",
    "            this.c2++;\n",
    "        }\n",
    "    }\n",
    "}"
   ]
  },
  {
   "cell_type": "markdown",
   "metadata": {},
   "source": [
    "### Visibility\n",
    "Synchronization also has another significant, and subtle, aspect: memory visibility. We want not only to prevent one thread from modifying the state of an object when another is using it, but also to ensure that when a thread modifies the state of an object, other threads can actually see the changes that were made.  \n",
    "\n",
    "In general, there is no guarantee that the reading thread will see a value written by another thread on a timely basis, or even at all."
   ]
  },
  {
   "cell_type": "code",
   "execution_count": null,
   "metadata": {},
   "outputs": [],
   "source": [
    "public class NoVisibility {\n",
    "    private static boolean ready;\n",
    "    private static int number;\n",
    "    \n",
    "    private static class ReaderThread extends Thread {\n",
    "        public void run() {\n",
    "            while (!ready)\n",
    "                // Yield means the current thread is willing to relinquish its current use of processor\n",
    "                // but it'd like to be scheduled back soon as possible. \n",
    "                Thread.yield();\n",
    "            System.out.println(number);\n",
    "        }\n",
    "    }\n",
    "    \n",
    "    public static void main(String[] args) {\n",
    "        new ReaderThread().start();\n",
    "        number = 42;\n",
    "        ready = true;\n",
    "    }\n",
    "}"
   ]
  },
  {
   "cell_type": "markdown",
   "metadata": {},
   "source": [
    "The problem with above code is that it is not necessary that the updated values of number or ready (made by main thread), is visible to the ReaderThread. The ReaderThread may print 42, or the loop may run indefinitely.  \n",
    "\n",
    "One reason for reading stale values is the cache of the CPU cores. Each core of modern CPUs has its own cache. So if the reading and writing thread runs on different cores the reading thread sees a cached value and not the value written by the writing thread.\n",
    "\n",
    "The ReaderThread may also output 0. This can be due to *instruction reordering*. JVM may reorder two instructions which are not related to each other. For example:\n",
    "```\n",
    "a = b + c\n",
    "d = a + e\n",
    "\n",
    "l = m + n\n",
    "y = x + z\n",
    "```\n",
    "can be reordered to:\n",
    "```\n",
    "a = b + c\n",
    "\n",
    "l = m + n\n",
    "y = x + z\n",
    "\n",
    "d = a + e\n",
    "```\n",
    "\n",
    "It is not sufficient to synchronize just the setter. The getter must also be synchronized, else we may get stale value."
   ]
  },
  {
   "cell_type": "code",
   "execution_count": null,
   "metadata": {},
   "outputs": [],
   "source": [
    "public class SynchronizedInteger {\n",
    "    private int value;\n",
    "    \n",
    "    public synchronized int get() { \n",
    "        return value; \n",
    "    }\n",
    "    \n",
    "    public synchronized void set(int value) { \n",
    "        this.value = value; \n",
    "    }\n",
    "}"
   ]
  },
  {
   "cell_type": "markdown",
   "metadata": {},
   "source": [
    "Unlike primitives like int, float and double are not read from memory in one atomic step. Rather, 32 bits are read at a time. So it may be possible to read 32 bits of fresh value and 32 bits of stale value."
   ]
  },
  {
   "cell_type": "markdown",
   "metadata": {},
   "source": [
    "**Volatile variables:** are another solution to visibility problem. Any read or write on volatile variables are done to the main memory rather than CPU caches. The visibility effects of volatile variables extend beyond the value of the volatile variable itself. When thread A writes to a volatile variable and subsequently thread B reads that same variable, the values of all variables that were visible to A prior to writing to the volatile variable become visible to B after reading the volatile variable.\n",
    "\n",
    "The above example of SynchronizedInteger can modified to:"
   ]
  },
  {
   "cell_type": "code",
   "execution_count": null,
   "metadata": {},
   "outputs": [],
   "source": [
    "public class VolatileInteger {\n",
    "    private volatile int value;\n",
    "    \n",
    "    public int get() { \n",
    "        return value; \n",
    "    }\n",
    "    \n",
    "    public void set(int value) { \n",
    "        this.value = value; \n",
    "    }\n",
    "}"
   ]
  },
  {
   "cell_type": "markdown",
   "metadata": {},
   "source": [
    "Locking using synchronized blocks can guarantee both visibility and atomicity; volatile variables can only guarantee visibility. So, the below code wouldn't work as expected. We would either need syncronization or atomic equivalent."
   ]
  },
  {
   "cell_type": "code",
   "execution_count": null,
   "metadata": {},
   "outputs": [],
   "source": [
    "// There is still a race condition in the below code\n",
    "class SharedObject {\n",
    "    private volatile long counter = 0;\n",
    "\n",
    "    public void incrementCounter() {\n",
    "        this.counter++;\n",
    "    }\n",
    "\n",
    "    public long getCounter() {\n",
    "        return this.counter;\n",
    "    }\n",
    "}"
   ]
  },
  {
   "cell_type": "markdown",
   "metadata": {},
   "source": [
    "### Thread Notification\n",
    "The `wait` and `notify` semantics allows threads to communicate among each other. Wait (and its overloaded variants) forces a thread to wait and notify signals a waiting thread that it can continue execution. Both methods must be called from within a synchronized block. Synchronized block because of the inherent race condition:\n",
    "1. Thread A tests a condition and discovers it must wait.\n",
    "2. Thread B sets the condition and calls notify() to inform A to resume execution. Because A is not yet waiting, nothing happens.\n",
    "3. Thread A waits, by calling wait().\n",
    "4. Because of the prior notify() call, A waits indefinitely.\n",
    "\n",
    "The thread that calls wait (the waiting thread) and the thread that calls notify (the notification thread) must compete for the same lock. Either thread must call wait or notify via the same object on which they enter their synchronized contexts because wait tightly integrates with the lock. Prior to waiting, a thread executing wait releases the lock, which allows the notification thread to enter its synchronized context to set the condition and notify the waiting thread. Notify on the other hand doesn't release any lock. Since any Java object can act as lock, the wait and notify methods are the Object class' methods."
   ]
  },
  {
   "cell_type": "code",
   "execution_count": null,
   "metadata": {},
   "outputs": [],
   "source": [
    "class Data {\n",
    "    private String data;\n",
    "    private Object lock = new Object();\n",
    "    private boolean sent = true;\n",
    "\n",
    "    public void send(String data) {\n",
    "        synchronized (lock) {\n",
    "            while (!sent) {\n",
    "                try {\n",
    "                    lock.wait();\n",
    "                } catch (InterruptedException e) {\n",
    "                    e.printStackTrace();\n",
    "                }\n",
    "            }\n",
    "\n",
    "            sent = false;\n",
    "            this.data = data;\n",
    "\n",
    "            lock.notifyAll();\n",
    "        }\n",
    "    }\n",
    "\n",
    "    public String receive(){\n",
    "        synchronized (lock) {\n",
    "            while (sent) {\n",
    "                try {\n",
    "                    lock.wait();\n",
    "                } catch (InterruptedException e) {\n",
    "                    e.printStackTrace();\n",
    "                }\n",
    "            }\n",
    "\n",
    "            sent = true;\n",
    "            lock.notifyAll();\n",
    "\n",
    "            return this.data;\n",
    "        }\n",
    "    }\n",
    "}"
   ]
  },
  {
   "cell_type": "markdown",
   "metadata": {},
   "source": [
    "Wait/notify forms the basis of producer consumer pattern."
   ]
  },
  {
   "cell_type": "code",
   "execution_count": null,
   "metadata": {},
   "outputs": [],
   "source": [
    "class Common {\n",
    "    private int number;\n",
    "    private boolean writeable = true;\n",
    "\n",
    "    public synchronized void setNumber(int number) {\n",
    "        // If writeable is false, this means the consumer\n",
    "        // has not consumed the data, wait\n",
    "        while (!writeable) {\n",
    "            try {\n",
    "                wait();\n",
    "            } catch (InterruptedException e) {\n",
    "                e.printStackTrace();\n",
    "            }\n",
    "        }\n",
    "\n",
    "        writeable = false;\n",
    "        this.number = number;\n",
    "        System.out.println(\"Number \" + this.number + \" set\");\n",
    "\n",
    "        notify(); // If we miss this all consumers will continue\n",
    "                  // waiting. Here we notify all waiting consumers that\n",
    "                  // that new data is ready\n",
    "    }\n",
    "\n",
    "    public synchronized int getNumber() {\n",
    "        // Producer has not produced new data, so better wait\n",
    "        while (writeable) {\n",
    "            try {\n",
    "                wait();\n",
    "            } catch (InterruptedException e) {\n",
    "                e.printStackTrace();\n",
    "            }\n",
    "        }\n",
    "\n",
    "        writeable = true;\n",
    "        notify(); // Notify producer that data has been consumed\n",
    "                  // they can stop waiting (after this method\n",
    "                  // has been executed)\n",
    "\n",
    "        System.out.println(\"Number \" + this.number + \" read\");\n",
    "        return this.number;\n",
    "    }\n",
    "}\n",
    "\n",
    "class Producer extends Thread {\n",
    "    private Common common;\n",
    "\n",
    "    public Producer(Common common) {\n",
    "        this.common = common;\n",
    "    }\n",
    "\n",
    "    @Override\n",
    "    public void run() {\n",
    "        // Produce even numbers sequentially\n",
    "        for (int i = 0; i < 100; i++) {\n",
    "            if (i % 2 == 0) {\n",
    "                common.setNumber(i);\n",
    "            }\n",
    "        }\n",
    "    }\n",
    "}\n",
    "\n",
    "class Consumer extends Thread {\n",
    "    private Common common;\n",
    "\n",
    "    public Consumer(Common common) {\n",
    "        this.common = common;\n",
    "    }\n",
    "\n",
    "    @Override\n",
    "    public void run() {\n",
    "        // Consume all generated numbers\n",
    "        for (int i = 0; i < 50; i++) {\n",
    "            common.getNumber();\n",
    "        }\n",
    "    }\n",
    "}"
   ]
  },
  {
   "cell_type": "markdown",
   "metadata": {},
   "source": [
    "What if a waiting thread is never notified. There is another overloaded version `void wait(long timeout)` which waits only for a certain duration. It is important to note that the wait method is called from inside a while loop and not an if block. Why?:\n",
    "1. Thread A calls a method that acquires the synchronization lock.\n",
    "2. Thread A examines a state flag and determines that the data is not in the desired state.\n",
    "3. Thread A calls the wait() method, which frees the lock.\n",
    "4. Thread B calls a method that acquires the same synchronization lock.\n",
    "5. Thread C calls a method that blocks waiting for the lock.\n",
    "6. Thread B sets the state flag and calls the notifyAll() method.\n",
    "7. Thread B finishes its method and frees the lock.\n",
    "8. Thread C acquires the lock and proceeds to process the data; it sees that the data is in the desired state, so it processes the data and resets the state flag.\n",
    "9. Thread C exits without needing to wait.\n",
    "10. Thread A receives the notification and wakes up.\n",
    "\n",
    "This above sequence is not the one we expected. Therefore it is necessary to check the condition after waking from wait."
   ]
  },
  {
   "cell_type": "markdown",
   "metadata": {},
   "source": [
    "### ThreadLocal\n",
    "ThreadLocal enables us to create variables that can only be read and written by the same thread. Consider the code below:"
   ]
  },
  {
   "cell_type": "code",
   "execution_count": 1,
   "metadata": {},
   "outputs": [],
   "source": [
    "class BirthdayService{\n",
    "    public String getFormattedBirthdate(int userId){\n",
    "        Date birthDate = getBirthdate(userId);\n",
    "        return new SimpleDateFormat(\"yyyy-mm-dd\").format(birthDate);\n",
    "    }\n",
    "    \n",
    "    // More methods\n",
    "}\n",
    "\n",
    "class Demo{\n",
    "    public static void main(String[] args){\n",
    "        BirthdayService service = new BirthdayService();\n",
    "        \n",
    "        Thread t1 = new Thread(()->{\n",
    "            String birthDate = service.getBirthdate(50);\n",
    "            System.out.println(birthDate);\n",
    "        });\n",
    "        \n",
    "        Thread t2 = new Thread(()->{\n",
    "            String birthDate = service.getBirthdate(150);\n",
    "            System.out.println(birthDate);\n",
    "        });\n",
    "        \n",
    "        t1.start();\n",
    "        t2.start();\n",
    "    }\n",
    "}"
   ]
  },
  {
   "cell_type": "markdown",
   "metadata": {},
   "source": [
    "We created two `SimpleDateFormat` objects, one per each thread call. What about the following modification?"
   ]
  },
  {
   "cell_type": "code",
   "execution_count": null,
   "metadata": {},
   "outputs": [],
   "source": [
    "class Demo{\n",
    "    public static void main(String[] args){\n",
    "        BirthdayService service = new BirthdayService();\n",
    "        \n",
    "        for(int i=0; i<1000; i++){\n",
    "            Thread t = new Thread(()->{\n",
    "                String birthDate = service.getBirthdate(i);\n",
    "                System.out.println(birthDate);\n",
    "            });\n",
    "\n",
    "            t.start();\n",
    "        }\n",
    "    }\n",
    "}"
   ]
  },
  {
   "cell_type": "markdown",
   "metadata": {},
   "source": [
    "Now we are creating 1000 SimpleDateFormat objects. We are also creating 1000 new threads. As we'll see later, 1000 new threads are not ideal, they are expensive to create and consume memory. We have 1000 tasks, we may want to use only 10 threads to execute these 1000 tasks. We can't use the same shared SimpleFormat object, but we can use the same SimpleFormat per thread. That is where ThreadLocal comes into play. To maintain 10 threads, we can make use of thread pools:"
   ]
  },
  {
   "cell_type": "code",
   "execution_count": null,
   "metadata": {},
   "outputs": [],
   "source": [
    "public class ThreadSafeFormatter {\n",
    "    // We are extending ThreadLocal because we have to initialize the\n",
    "    // SimpleDateFormat in a specific way\n",
    "    public static ThreadLocal<SimpleDateFormat> simpleDateFormat = new ThreadLocal<SimpleDateFormat>() {\n",
    "        @Override\n",
    "        protected SimpleDateFormat initialValue() {\n",
    "            return new SimpleDateFormat(\"yyyy-mm-dd\");\n",
    "        };\n",
    "    };\n",
    "}\n",
    "\n",
    "class BirthdayService{\n",
    "    public String getFormattedBirthdate(int userId){\n",
    "        Date birthDate = getBirthdate(userId);\n",
    "        return new ThreadSafeFormatter.simpleDateFormat.get().format(birthDate);\n",
    "    }\n",
    "    \n",
    "    // More methods\n",
    "}\n",
    "\n",
    "// We'll be using a FixedThreadPool\n",
    "class Demo{\n",
    "    public static void main(String[] args){\n",
    "        BirthdayService service = new BirthdayService();\n",
    "        \n",
    "        ExecutorService service = Executors.newFixedThreadPool(10);\n",
    "        // Each thread pool thread will have the its own\n",
    "        // SimpleDateFormat object for all the tasks it gets\n",
    "        for(int i=0; i<1000; i++){\n",
    "            service.execute(()->{\n",
    "                String birthDate = service.getBirthdate(i);\n",
    "                System.out.println(birthDate);\n",
    "            });\n",
    "        }\n",
    "        \n",
    "        // Waiting for executor to finish\n",
    "    }\n",
    "}"
   ]
  },
  {
   "cell_type": "markdown",
   "metadata": {},
   "source": [
    "If the `get` method is being called for the first time (by a thread), it internally calls the `initialValue` method. Subsequent calls to get by the same thread, returns the same object (with same initialized value).  \n",
    "\n",
    "An important point to remember is that whenever the object has been completely used by a thread, we need to remove that object from ThreadLocal."
   ]
  },
  {
   "cell_type": "code",
   "execution_count": null,
   "metadata": {},
   "outputs": [],
   "source": [
    "ThreadSafeFormatter.simpleDateFormat.remove();"
   ]
  },
  {
   "cell_type": "markdown",
   "metadata": {},
   "source": [
    "### Task Execution\n",
    "Java provides a higher level concurrency framework called `Executor` framework. It decouples task submission from task execution. Executor is an interface with a simple `execute` method:"
   ]
  },
  {
   "cell_type": "code",
   "execution_count": null,
   "metadata": {},
   "outputs": [],
   "source": [
    "public interface Executor {\n",
    "    void execute(Runnable command);\n",
    "}"
   ]
  },
  {
   "cell_type": "markdown",
   "metadata": {},
   "source": [
    "The argument `command` contains the task that will be executed. Executors are based on *Producer-Consumer* pattern where producers submit task, and consumers execute task. Some simple implementation of Executor:"
   ]
  },
  {
   "cell_type": "code",
   "execution_count": null,
   "metadata": {},
   "outputs": [],
   "source": [
    "class ThreadPerTask implements Executor{\n",
    "    public void execute(Runnable command){\n",
    "        new Thread(command).start();\n",
    "    }\n",
    "}\n",
    "\n",
    "/* This is an example of unbounded thread creation. \n",
    "   The main problems with this approach are:\n",
    "   - Thread creation and teardown is expensive. If a lot of tasks\n",
    "     are submitted, this will consume significant computing resource\n",
    "   - Active threads consume memory. A lot of idle threads\n",
    "     would put pressure on garbage collector\n",
    "   - JVMs often have limit on number of threads that can be created  \n",
    "*/"
   ]
  },
  {
   "cell_type": "markdown",
   "metadata": {},
   "source": [
    "Executor may not even make use of threads as illustrated:"
   ]
  },
  {
   "cell_type": "code",
   "execution_count": null,
   "metadata": {},
   "outputs": [],
   "source": [
    "class SingleThread implements Executor{\n",
    "    public void execute(Runnable command){\n",
    "        command.run();\n",
    "    }\n",
    "}"
   ]
  },
  {
   "cell_type": "markdown",
   "metadata": {},
   "source": [
    "Since Executors handle a bunch of tasks, it would be good if they provide lifecycle methods. They should be able to handle both graceful and forced shutdown. The `ExecutorService` interface extends `Executor` and provides a number of methods for lifecycle management and other convenience methods."
   ]
  },
  {
   "cell_type": "code",
   "execution_count": null,
   "metadata": {},
   "outputs": [],
   "source": [
    "public interface ExecutorService extends Executor {\n",
    "    // Shutdown, stop accepting new tasks. However complete the tasks\n",
    "    // already in queue. \n",
    "    void shutdown();\n",
    "    \n",
    "    // Forced shutdown, cancel any outstanding task\n",
    "    List<Runnable> shutdownNow();\n",
    "\n",
    "    // Return if the executor has been shutdown.\n",
    "    boolean isShutdown();\n",
    "\n",
    "    // All tasks have been completed\n",
    "    boolean isTerminated();\n",
    "\n",
    "    // Wait for ExecutorService to reach terminated status\n",
    "    boolean awaitTermination(long timeout, TimeUnit unit)\n",
    "        throws InterruptedException;\n",
    "    \n",
    "    // Other convenience methods\n",
    "}"
   ]
  },
  {
   "cell_type": "markdown",
   "metadata": {},
   "source": [
    "### Thread Pool\n",
    "As we have seen, having unbounded thread creation approach isn't always helpful. It is beneficial to tie number of threads to the tasks that are being submitted. That is where *thread pools* come into picture. The idea is to maintain a pool of threads which can be reused, instead of creating new threads. Java provides `ThreadPoolExecutor` class which implements the ExecutorService interface."
   ]
  },
  {
   "cell_type": "code",
   "execution_count": null,
   "metadata": {},
   "outputs": [],
   "source": [
    "int  corePoolSize  =    5;\n",
    "int  maxPoolSize   =   10;\n",
    "long keepAliveTime = 5000;\n",
    "BlockingQueue<Runnable> queue = getBlockingQueue();\n",
    "\n",
    "ExecutorService exec = new ThreadPoolExecutor(\n",
    "    corePoolSize,    \n",
    "    maxPoolSize,\n",
    "    keepAliveTime,\n",
    "    queue\n",
    ");"
   ]
  },
  {
   "cell_type": "markdown",
   "metadata": {},
   "source": [
    "Core pool size is the target size, this number of threads will exist even if there is no task. New threads will not be created until the queue is full. Max pool size is the maximum number of threads that will exist at any given moment. A thread that has been idle for keepAliveTime will be terminated (if core pool size > max pool size)."
   ]
  },
  {
   "cell_type": "code",
   "execution_count": 1,
   "metadata": {},
   "outputs": [
    {
     "name": "stdout",
     "output_type": "stream",
     "text": [
      "13"
     ]
    }
   ],
   "source": [
    "int numberOfThreads = Runtime.getRuntime().availableProcessors() + 1;\n",
    "System.out.print(numberOfThreads);"
   ]
  },
  {
   "cell_type": "markdown",
   "metadata": {},
   "source": [
    "In case of IO intensive tasks, number of threads can be set higher. In general:\n",
    "$$N_{threads} = N_{cpu}U_{cpu}(1 + \\frac{W}{C})$$\n",
    "Where\n",
    "$$N_{cpu}\\hspace{2em} \\text{is number of CPUs}$$\n",
    "$$U_{cpu}\\hspace{2em} \\text{is target CPU utilization, between 0 and 1}$$\n",
    "$$\\frac{W}{C}\\hspace{2em} \\text{is ratio of wait time to compute time}$$"
   ]
  },
  {
   "cell_type": "markdown",
   "metadata": {},
   "source": [
    "The third parameter is a `BlockingQueue`. It represents a queue which is thread safe to put elements into, and take elements out of from. If a thread tries to take an element and there are none left in the queue, the thread can be blocked until there is an element to take. It is generally used when we have a scenario where one thread produces objects, which another thread consumes."
   ]
  },
  {
   "cell_type": "code",
   "execution_count": null,
   "metadata": {},
   "outputs": [],
   "source": [
    "public class BlockingQueueDemo {\n",
    "    public static void main(String[] args) {\n",
    "        BlockingQueue<Integer> queue = new LinkedBlockingQueue<>();\n",
    "\n",
    "        Producer p = new Producer(queue);\n",
    "        Consumer c = new Consumer(queue);\n",
    "\n",
    "        new Thread(p).start();\n",
    "        new Thread(c).start();\n",
    "    }\n",
    "}\n",
    "\n",
    "class Producer implements Runnable {\n",
    "    private BlockingQueue<Integer> queue;\n",
    "\n",
    "    public Producer(BlockingQueue<Integer> queue) {\n",
    "        this.queue = queue;\n",
    "    }\n",
    "\n",
    "    @Override\n",
    "    public void run() {\n",
    "        // Put 100 even numbers in queue\n",
    "        for (int i = 0; i < 100; i++) {\n",
    "            try {\n",
    "                queue.put(i * 2);\n",
    "            } catch (InterruptedException e) {\n",
    "                e.printStackTrace();\n",
    "            }\n",
    "        }\n",
    "    }\n",
    "\n",
    "}\n",
    "\n",
    "class Consumer implements Runnable {\n",
    "    private BlockingQueue<Integer> queue;\n",
    "\n",
    "    public Consumer(BlockingQueue<Integer> queue) {\n",
    "        this.queue = queue;\n",
    "    }\n",
    "\n",
    "    @Override\n",
    "    public void run() {\n",
    "        // Consume 100 integers\n",
    "        for (int i = 0; i < 100; i++) {\n",
    "            try {\n",
    "                System.out.println(queue.take());\n",
    "            } catch (InterruptedException e) {\n",
    "                e.printStackTrace();\n",
    "            }\n",
    "        }\n",
    "    }\n",
    "\n",
    "}"
   ]
  },
  {
   "cell_type": "markdown",
   "metadata": {},
   "source": [
    "If we look at just the Executor interface, it does not enforce any queue requirement. ThreadPoolExecutor however, uses a blocking queue to store tasks. If the queue is unbounded, and a large number of tasks are recieved, it can lead to memory issues due to expanding queue. It is also possible that the ThreadPoolExecutor uses a large number of threads and the queue size remains low (or even not required, incoming tasks are directly assigned to a thread). Different BlockingQueue implementations are present which represent unbounded and bounded queues:\n",
    "- `LinkedBlockingQueue` : unbounded queue\n",
    "- `ArrayBlockingQueue` : bounded queue, need to specify its size\n",
    "- `PriorityBlockingQueue` : unbounded, same priority as `PriorityQueue`\n",
    "- `SynchronousQueue` : not a pure queue, contains a single item\n",
    "\n",
    "What to do when we use a bounded queue and the queue gets saturated with tasks? For example, consider:"
   ]
  },
  {
   "cell_type": "code",
   "execution_count": 2,
   "metadata": {},
   "outputs": [
    {
     "ename": "EvalException",
     "evalue": "Task REPL.$JShell$16$$Lambda$500/0x0000000800dab440@6816cfb8 rejected from java.util.concurrent.ThreadPoolExecutor@551e503d[Running, pool size = 24, active threads = 24, queued tasks = 50, completed tasks = 0]",
     "output_type": "error",
     "traceback": [
      "\u001b[1m\u001b[31m---------------------------------------------------------------------------\u001b[0m",
      "\u001b[1m\u001b[31mjava.util.concurrent.RejectedExecutionException: Task REPL.$JShell$16$$Lambda$500/0x0000000800dab440@6816cfb8 rejected from java.util.concurrent.ThreadPoolExecutor@551e503d[Running, pool size = 24, active threads = 24, queued tasks = 50, completed tasks = 0]\u001b[0m",
      "\u001b[1m\u001b[31m\tat java.base/java.util.concurrent.ThreadPoolExecutor$AbortPolicy.rejectedExecution(ThreadPoolExecutor.java:2055)\u001b[0m",
      "\u001b[1m\u001b[31m\tat java.base/java.util.concurrent.ThreadPoolExecutor.reject(ThreadPoolExecutor.java:825)\u001b[0m",
      "\u001b[1m\u001b[31m\tat java.base/java.util.concurrent.ThreadPoolExecutor.execute(ThreadPoolExecutor.java:1355)\u001b[0m",
      "\u001b[1m\u001b[31m\tat .(#16:1)\u001b[0m"
     ]
    }
   ],
   "source": [
    "int coreCount = Runtime.getRuntime().availableProcessors();\n",
    "ThreadPoolExecutor executor = new ThreadPoolExecutor(coreCount, coreCount * 2, 100, TimeUnit.MILLISECONDS,\n",
    "        new ArrayBlockingQueue<Runnable>(50));\n",
    "\n",
    "for (int i = 0; i < 500; i++) {\n",
    "    final int taskNumber = i;\n",
    "    executor.execute(() -> {\n",
    "        try {\n",
    "            Thread.sleep(200);\n",
    "            System.out.println(\"Task number \" + taskNumber + \" completed by \" + Thread.currentThread().getName());\n",
    "        } catch (InterruptedException e) {\n",
    "            e.printStackTrace();\n",
    "        }\n",
    "    });\n",
    "}"
   ]
  },
  {
   "cell_type": "markdown",
   "metadata": {},
   "source": [
    "We get `RejectedExecutionException` exception (in this case we will get min 50 system outs after exception). Another policy is to ignore new tasks. "
   ]
  },
  {
   "cell_type": "code",
   "execution_count": null,
   "metadata": {},
   "outputs": [],
   "source": [
    "int coreCount = Runtime.getRuntime().availableProcessors();\n",
    "ThreadPoolExecutor executor = new ThreadPoolExecutor(coreCount, coreCount * 2, 100, TimeUnit.MILLISECONDS,\n",
    "        new ArrayBlockingQueue<Runnable>(50));\n",
    "executor.setRejectedExecutionHandler(new ThreadPoolExecutor.DiscardPolicy()); // or use the overloaded constructor\n",
    "\n",
    "// This will loop 500 times, but not all tasks will be executed\n",
    "for (int i = 0; i < 500; i++) {\n",
    "    final int taskNumber = i;\n",
    "    executor.execute(() -> {\n",
    "        try {\n",
    "            Thread.sleep(200);\n",
    "            System.out.println(\"Task number \" + taskNumber + \" completed by \" + Thread.currentThread().getName());\n",
    "        } catch (InterruptedException e) {\n",
    "            e.printStackTrace();\n",
    "        }\n",
    "    });\n",
    "}\n",
    "\n",
    "// ThreadPoolExecutor.DiscardOldestPolicy discards the oldest tasks in queue, and\n",
    "// queues in new tasks"
   ]
  },
  {
   "cell_type": "markdown",
   "metadata": {},
   "source": [
    "Another saturation policy is `CallerRunsPolicy`. In this case, the calling thread (main thread in above example) will execute the task."
   ]
  },
  {
   "cell_type": "code",
   "execution_count": null,
   "metadata": {},
   "outputs": [],
   "source": [
    "int coreCount = Runtime.getRuntime().availableProcessors();\n",
    "ThreadPoolExecutor executor = new ThreadPoolExecutor(coreCount, coreCount * 2, 100, TimeUnit.MILLISECONDS,\n",
    "        new ArrayBlockingQueue<Runnable>(50));\n",
    "executor.setRejectedExecutionHandler(new ThreadPoolExecutor.CallerRunsPolicy());\n",
    "\n",
    "// This will loop 500 times, all tasks will be completed\n",
    "// some by thread pool threads, other by main thread\n",
    "for (int i = 0; i < 500; i++) {\n",
    "    final int taskNumber = i;\n",
    "    executor.execute(() -> {\n",
    "        try {\n",
    "            Thread.sleep(200);\n",
    "            System.out.println(\"Task number \" + taskNumber + \" completed by \" + Thread.currentThread().getName());\n",
    "        } catch (InterruptedException e) {\n",
    "            e.printStackTrace();\n",
    "        }\n",
    "    });\n",
    "}"
   ]
  },
  {
   "cell_type": "markdown",
   "metadata": {},
   "source": [
    "Problem with above approach in the example code is that the task being executed by main thread will block new tasks from being queued."
   ]
  },
  {
   "cell_type": "markdown",
   "metadata": {},
   "source": [
    "Java provides some built-in thread pool implementations:"
   ]
  },
  {
   "cell_type": "code",
   "execution_count": null,
   "metadata": {},
   "outputs": [],
   "source": [
    "// --- Fixed Thread Pool ---\n",
    "ThreadPoolExecutor fTP = (ThreadPoolExecutor) Executors.newFixedThreadPool(10);\n",
    "/* Equivalent to:\n",
    "new ThreadPoolExecutor(nThreads, nThreads,\n",
    "                       0L, TimeUnit.MILLISECONDS,\n",
    "                       new LinkedBlockingQueue<Runnable>()); */\n",
    "\n",
    "// --- Cached Thread Pool ---\n",
    "ThreadPoolExecutor cTP = (ThreadPoolExecutor) Executors.newCachedThreadPool();\n",
    "/* Equivalent to:\n",
    "new ThreadPoolExecutor(0, Integer.MAX_VALUE,\n",
    "                       60L, TimeUnit.SECONDS,\n",
    "                       new SynchronousQueue<Runnable>()); */\n",
    "\n",
    "// --- Single Thread Executor ---\n",
    "ThreadPoolExecutor sTP = (ThreadPoolExecutor) Executors.newSingleThreadExecutor();\n",
    "/* Equivalent to:\n",
    "new ThreadPoolExecutor(1, 1,\n",
    "                       0L, TimeUnit.MILLISECONDS,\n",
    "                       new LinkedBlockingQueue<Runnable>())) */"
   ]
  },
  {
   "cell_type": "markdown",
   "metadata": {},
   "source": [
    "### Callable and Future\n",
    "The run method of a runnable doesn't return any value. A callable can be thought of as a runnable with return value. Consider the Callable which returns a value:"
   ]
  },
  {
   "cell_type": "code",
   "execution_count": null,
   "metadata": {},
   "outputs": [],
   "source": [
    "class Task implements Callable<Integer> {\n",
    "    @Override\n",
    "    public Integer call() throws Exception {\n",
    "        return new Random().nextInt();\n",
    "    }\n",
    "}"
   ]
  },
  {
   "cell_type": "markdown",
   "metadata": {},
   "source": [
    "As we can see, callables can also throw checked exceptions, something runnables can't.  \n",
    "\n",
    "ExecutorService has a `submit` method which accepts a Callable and returns a `Future`. A future is a placeholder for a value which will be returned by the callable sometimes in future. To get the value, we can call `get` method of the future, which is a blocking operation. It will wait till the future gets a value.  \n",
    "\n",
    "If we have multiple tasks:"
   ]
  },
  {
   "cell_type": "code",
   "execution_count": null,
   "metadata": {},
   "outputs": [],
   "source": [
    "ExecutorService eS = Executors.newFixedThreadPool(12);\n",
    "List<Future<Integer>> futureList = new ArrayList<>();\n",
    "\n",
    "for (int i = 0; i < 100; i++) {\n",
    "    Future<Integer> randomFuture = eS.submit(new Task());\n",
    "    futureList.add(randomFuture);\n",
    "}\n",
    "\n",
    "eS.shutdown();\n",
    "eS.awaitTermination(1, TimeUnit.SECONDS);\n",
    "\n",
    "// Retrieve values of all futures\n",
    "for (int i = 0; i < 100; i++) {\n",
    "    Future<Integer> randomFuture = futureList.get(i);\n",
    "    System.out.println(randomFuture.get());\n",
    "}"
   ]
  },
  {
   "cell_type": "markdown",
   "metadata": {},
   "source": [
    "The problem with the above code is that getting value of future iterating through all futures is not optimal. There can be a possibility that for example, task 5 and 6 may have been completed (thus the futures have values), but since task 4 has not been completed, the call to get is blocking. We can avoid it by using an overloaded form of get which accepts a timeout."
   ]
  },
  {
   "cell_type": "markdown",
   "metadata": {},
   "source": [
    "### ForkJoinPool\n",
    "`ForkJoinPool` is another type of executor service which utilises the fork join pattern. Fork/Join addresses the need for divide-and-conquer, or recursive task-processing in Java programs. Steps:\n",
    "1. separate (fork) each large task into smaller tasks\n",
    "2. process each task in a separate thread (separating those into even smaller tasks if necessary)\n",
    "3. join the results\n",
    "\n",
    "<img src=\"https://miro.medium.com/max/1400/0*jtObAMIwxoJRT9UG\" width=\"600\" height=\"auto\">\n",
    "<img src=\"https://miro.medium.com/max/1400/0*kGam9y6Y_A73Fd8m\" width=\"600\" height=\"auto\">\n",
    "\n",
    "Like a ThreadPoolExecutor, ForkJoinPool also maintains an internal thread pools. The default constructor creates ForkJoinPool with number of threads depending upon the cores in the machine. The other overloaded version of the constructor lets us specify number of threads.  \n",
    "\n",
    "ForkJoinPool accepts `ForkJoinTask`. Concrete implementations:\n",
    "- `RecursiveTask`\n",
    "- `RecursiveAction`\n",
    "- `CountedCompleter`\n",
    "Once started, it will usually in turn start other subtasks."
   ]
  },
  {
   "cell_type": "markdown",
   "metadata": {},
   "source": [
    "### CompletableFuture\n",
    "Is same as promise in JavaScript. To create a CompletableFuture,"
   ]
  },
  {
   "cell_type": "code",
   "execution_count": 8,
   "metadata": {},
   "outputs": [
    {
     "name": "stdout",
     "output_type": "stream",
     "text": [
      "Hello from main\n"
     ]
    }
   ],
   "source": [
    "CompletableFuture<Integer> completableFuture = CompletableFuture.supplyAsync(() -> {\n",
    "    try{\n",
    "        Thread.sleep(100);\n",
    "    } catch(InterruptedException e) {\n",
    "        System.err.println(\"Interrupted\");\n",
    "    }\n",
    "    return 10;\n",
    "});\n",
    "\n",
    "completableFuture.thenAccept((val) -> {\n",
    "    System.out.println(\"CompletableFuture resolved with value: \" + val);\n",
    "});\n",
    "\n",
    "System.out.println(\"Hello from main\");"
   ]
  },
  {
   "cell_type": "code",
   "execution_count": null,
   "metadata": {},
   "outputs": [],
   "source": []
  }
 ],
 "metadata": {
  "kernelspec": {
   "display_name": "Java",
   "language": "java",
   "name": "java"
  },
  "language_info": {
   "codemirror_mode": "java",
   "file_extension": ".jshell",
   "mimetype": "text/x-java-source",
   "name": "Java",
   "pygments_lexer": "java",
   "version": "13+33"
  }
 },
 "nbformat": 4,
 "nbformat_minor": 4
}
