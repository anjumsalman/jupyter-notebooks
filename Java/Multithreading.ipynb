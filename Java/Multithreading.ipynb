{
 "cells": [
  {
   "cell_type": "markdown",
   "metadata": {},
   "source": [
    "## Creating new thread"
   ]
  },
  {
   "cell_type": "markdown",
   "metadata": {},
   "source": [
    "Either extend **Thread** class or implement **Runnable** interface."
   ]
  },
  {
   "cell_type": "code",
   "execution_count": 4,
   "metadata": {},
   "outputs": [
    {
     "name": "stdout",
     "output_type": "stream",
     "text": [
      "Thread created!\n",
      "Thread alive?false\n"
     ]
    }
   ],
   "source": [
    "class MyThread extends Thread{\n",
    "    public void run(){\n",
    "        System.out.println(\"Thread created!\");\n",
    "    }\n",
    "}\n",
    "\n",
    "MyThread t = new MyThread();\n",
    "t.start();\n",
    "System.out.println(\"Thread alive?\" + t.isAlive());"
   ]
  },
  {
   "cell_type": "code",
   "execution_count": 5,
   "metadata": {},
   "outputs": [
    {
     "name": "stdout",
     "output_type": "stream",
     "text": [
      "Thread created!\n",
      "Thread alive?false\n"
     ]
    }
   ],
   "source": [
    "class MyThread implements Runnable{\n",
    "    public void run(){\n",
    "        System.out.println(\"Thread created!\");\n",
    "    }\n",
    "}\n",
    "\n",
    "Thread t = new Thread(new MyThread());\n",
    "t.start();\n",
    "System.out.println(\"Thread alive?\" + t.isAlive());"
   ]
  },
  {
   "cell_type": "markdown",
   "metadata": {},
   "source": [
    "## Sleeping Thread"
   ]
  },
  {
   "cell_type": "markdown",
   "metadata": {},
   "source": [
    "*sleep()* class method accepts sleeping time in ms. You can interrupt sleep by calling the *interrupt()* method."
   ]
  },
  {
   "cell_type": "code",
   "execution_count": 11,
   "metadata": {},
   "outputs": [],
   "source": [
    "class MyThread extends Thread{\n",
    "    public void run(){\n",
    "        for(int i=0; i<10; i++){\n",
    "            System.out.println(i);\n",
    "            try{\n",
    "                Thread.sleep(1000);\n",
    "            } catch (InterruptedException e){\n",
    "                System.out.println(\"Sleep broken\");\n",
    "            }\n",
    "        }\n",
    "    }\n",
    "    \n",
    "    public static void main(String[] args){\n",
    "      MyThread t = new MyThread();\n",
    "      t.start();\n",
    "      t.interrupt();\n",
    "    }\n",
    "}    \n"
   ]
  },
  {
   "cell_type": "markdown",
   "metadata": {},
   "source": [
    "```\n",
    "0\n",
    "Sleep broken\n",
    "1\n",
    "2\n",
    "3\n",
    "4\n",
    "5\n",
    "6\n",
    "7\n",
    "8\n",
    "9\n",
    "```"
   ]
  },
  {
   "cell_type": "markdown",
   "metadata": {},
   "source": [
    "We can check whether an interrupt has been issued by using interrupted() method."
   ]
  },
  {
   "cell_type": "code",
   "execution_count": 12,
   "metadata": {},
   "outputs": [],
   "source": [
    "class MyThread extends Thread{\n",
    "    public void run(){\n",
    "        for(int i=0; i<10; i++){\n",
    "            System.out.println(i);\n",
    "            if(this.interrupted()){\n",
    "                System.out.println(\"Interrupted\");\n",
    "            }\n",
    "        }\n",
    "    }\n",
    "    \n",
    "    public static void main(String[] args){\n",
    "      MyThread t = new MyThread();\n",
    "      t.start();\n",
    "      t.interrupt();\n",
    "    }\n",
    "}"
   ]
  },
  {
   "cell_type": "markdown",
   "metadata": {},
   "source": [
    "```\n",
    "0\n",
    "Interrupted\n",
    "1\n",
    "2\n",
    "3\n",
    "4\n",
    "5\n",
    "6\n",
    "7\n",
    "8\n",
    "9\n",
    "```"
   ]
  },
  {
   "cell_type": "code",
   "execution_count": null,
   "metadata": {},
   "outputs": [],
   "source": []
  }
 ],
 "metadata": {
  "kernelspec": {
   "display_name": "Java",
   "language": "java",
   "name": "java"
  },
  "language_info": {
   "codemirror_mode": "java",
   "file_extension": ".java",
   "mimetype": "text/x-java-source",
   "name": "Java",
   "pygments_lexer": "java",
   "version": "9+181"
  }
 },
 "nbformat": 4,
 "nbformat_minor": 2
}
