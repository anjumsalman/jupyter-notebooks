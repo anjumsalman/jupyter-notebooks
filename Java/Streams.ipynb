{
 "cells": [
  {
   "cell_type": "markdown",
   "metadata": {},
   "source": [
    "### Streams\n",
    "Java Streams API lets us manipulate collections of data in a declarative way. One effect is that the code size can be significantly reduced as the below example shows:"
   ]
  },
  {
   "cell_type": "code",
   "execution_count": 5,
   "metadata": {},
   "outputs": [
    {
     "name": "stdout",
     "output_type": "stream",
     "text": [
      "8\n"
     ]
    }
   ],
   "source": [
    "int[] numbers = {5, 7, 2, 9, 8, 1, 7};\n",
    "\n",
    "// Copy the above array since we don't want to mutate it\n",
    "int[] result = Arrays.copyOf(numbers, numbers.length);\n",
    "\n",
    "// Sort it\n",
    "Arrays.sort(result);\n",
    "\n",
    "// Get sum of lowest 3\n",
    "int sum = 0;\n",
    "for(int i=0; i<3; i++){\n",
    "    sum += result[i];\n",
    "}\n",
    "\n",
    "System.out.println(sum);"
   ]
  },
  {
   "cell_type": "markdown",
   "metadata": {},
   "source": [
    "The same operation can be written in a concise manner using Streams"
   ]
  },
  {
   "cell_type": "code",
   "execution_count": 4,
   "metadata": {},
   "outputs": [
    {
     "name": "stdout",
     "output_type": "stream",
     "text": [
      "8\n"
     ]
    }
   ],
   "source": [
    "int[] numbers = {5, 7, 2, 9, 8, 1, 7};\n",
    "\n",
    "int sum = Arrays.stream(numbers)\n",
    "                .sorted()\n",
    "                .limit(3)\n",
    "                .sum();\n",
    "\n",
    "System.out.println(sum);"
   ]
  },
  {
   "cell_type": "markdown",
   "metadata": {},
   "source": [
    "### Building Streams"
   ]
  },
  {
   "cell_type": "markdown",
   "metadata": {},
   "source": [
    "Object streams are the general kind of stream. To create an object stream:"
   ]
  },
  {
   "cell_type": "code",
   "execution_count": null,
   "metadata": {},
   "outputs": [],
   "source": [
    "// From values\n",
    "Stream<String> cityStream = Stream.of(\"Los Angeles\", \"Paris\", \"Tokyo\", \"Berlin\");\n",
    "\n",
    "// From arrays\n",
    "String[] cities = new String[] { \"Los Angeles\", \"Paris\", \"Tokyo\", \"Berlin\" };\n",
    "Stream<String> sameCityStream = Arrays.stream(cities);\n",
    "\n",
    "// From collections\n",
    "List<String> cityList = Arrays.asList(cities);\n",
    "Stream<String> anotherCityStream = cityList.stream();"
   ]
  },
  {
   "cell_type": "markdown",
   "metadata": {},
   "source": [
    "We have specialised Streams too: `IntStream`, `LongStream` and `DoubleStream` .  \n",
    "![Stream Inheritance](https://i.stack.imgur.com/uI6XA.png)  \n",
    "\n",
    "The stream method of Arrays is smart enough to return these types of stream"
   ]
  },
  {
   "cell_type": "code",
   "execution_count": null,
   "metadata": {},
   "outputs": [],
   "source": [
    "int[] primes = new int[] { 2, 3, 5, 7, 11 };\n",
    "IntStream primeStream = Arrays.stream(primes);\n",
    "\n",
    "// list's stream method returns object streams"
   ]
  },
  {
   "cell_type": "markdown",
   "metadata": {},
   "source": [
    "Or use the above specialised stream's static methods"
   ]
  },
  {
   "cell_type": "code",
   "execution_count": null,
   "metadata": {},
   "outputs": [],
   "source": [
    "DoubleStream doubleSteam = DoubleStream.of(3.56, 2.91, 8.314);\n",
    "\n",
    "LongStream longStream = LongStream.range(1, 101);"
   ]
  },
  {
   "cell_type": "markdown",
   "metadata": {},
   "source": [
    "We can also convert an object stream to specialised stream"
   ]
  },
  {
   "cell_type": "code",
   "execution_count": null,
   "metadata": {},
   "outputs": [],
   "source": [
    "Stream<Integer> numbers = Stream.of(1, 4, 7, 8, 0, -5);\n",
    "IntStream integerNumbers = numbers.mapToInt(i -> i);"
   ]
  },
  {
   "cell_type": "markdown",
   "metadata": {},
   "source": [
    "### Intermediate Operations\n",
    "Intermediate operations on stream return stream. These operations can be chained together and are lazy evaluated (when a terminal operation is called).\n",
    "\n",
    "| Operation \t| Description \t|\n",
    "|-\t|-\t|\n",
    "| sorted() \t| Returns a stream consisting of the elements of this stream, sorted according to natural order. \t|\n",
    "| skip(long n) \t| Returns a stream consisting of the remaining elements of this stream after discarding the first n elements of the stream. \t|\n",
    "| peek(Consumer<? super T> action) \t| Returns a stream consisting of the elements of this stream, additionally performing the provided action on each element as elements are consumed from the resulting stream. \t|\n",
    "| limit(long maxSize) \t| Returns a stream consisting of the elements of this stream, truncated to be no longer than maxSize in length. \t|\n",
    "| distinct() \t| Returns a stream consisting of the distinct elements (according to Object.equals(Object)) of this stream. \t|\n",
    "| filter(Predicate<? super T> predicate) \t| Returns a stream consisting of the elements of this stream that match the given predicate. \t|\n",
    "| map(Function<? super T,? extends R> mapper) \t| Returns a stream consisting of the results of applying the given function to the elements of this stream. \t|\n",
    "| flatMap(Function<? super T,? extends Stream<? extends R>> mapper) \t| Returns a stream consisting of the results of replacing each element of this stream with the contents of a mapped stream produced by applying the provided mapping function to each element. \t|"
   ]
  },
  {
   "cell_type": "markdown",
   "metadata": {},
   "source": [
    "The lazy evalutaion characteristic can be seen in the below example:"
   ]
  },
  {
   "cell_type": "code",
   "execution_count": null,
   "metadata": {},
   "outputs": [],
   "source": [
    "// Nothing printed\n",
    "Stream.of(\"d2\", \"a2\", \"b1\", \"b3\", \"c\")\n",
    "    .filter(s -> {\n",
    "        System.out.println(\"filter: \" + s);\n",
    "        return true;\n",
    "    });"
   ]
  },
  {
   "cell_type": "markdown",
   "metadata": {},
   "source": [
    "Some operations can also be combined together while evaluating all the chained operations."
   ]
  },
  {
   "cell_type": "markdown",
   "metadata": {},
   "source": [
    "### Terminal Operations\n",
    "These operations typically return a single value. Some examples:"
   ]
  },
  {
   "cell_type": "code",
   "execution_count": 9,
   "metadata": {},
   "outputs": [
    {
     "name": "stdout",
     "output_type": "stream",
     "text": [
      "true\n",
      "false\n",
      "true\n"
     ]
    }
   ],
   "source": [
    "// Matching terminal operations\n",
    "List<String> movies = List.of(\"One flew over the cuckoo's nest\", \"To kill a mockingbird\", \"Gone with the wind\");\n",
    "\n",
    "// Does any element in stream match the condition?\n",
    "System.out.println(movies.stream().anyMatch(s -> s.startsWith(\"To\")));\n",
    "\n",
    "// Do all elements in stream match the condition?\n",
    "System.out.println(movies.stream().allMatch(s -> s.startsWith(\"One\")));\n",
    "\n",
    "// Do none of the elements in stream match the condition?\n",
    "System.out.println(movies.stream().noneMatch(s -> s.startsWith(\"Once\")));"
   ]
  },
  {
   "cell_type": "code",
   "execution_count": 15,
   "metadata": {},
   "outputs": [
    {
     "name": "stdout",
     "output_type": "stream",
     "text": [
      "87\n",
      "6\n"
     ]
    }
   ],
   "source": [
    "// Minimum, maximum, count\n",
    "List<Integer> integers = List.of(12, 22, 45, 65, 5, 87);\n",
    "\n",
    "// max() : Provide a Comparator, returns an Optional, since stream could have\n",
    "// been empty\n",
    "integers.stream().max((a, b) -> a - b).ifPresent(System.out::println);\n",
    "\n",
    "// Counting\n",
    "System.out.println(integers.stream().count());"
   ]
  },
  {
   "cell_type": "code",
   "execution_count": 19,
   "metadata": {},
   "outputs": [
    {
     "name": "stdout",
     "output_type": "stream",
     "text": [
      "236\n",
      "Pamela\n",
      "MaxPeterPamelaDavid\n"
     ]
    }
   ],
   "source": [
    "// Reduce\n",
    "\n",
    "// Sum all the elements\n",
    "integers.stream().reduce((a, b) -> a + b).ifPresent(System.out::println);\n",
    "\n",
    "// Using below class for examples\n",
    "class Person {\n",
    "    String name;\n",
    "    int age;\n",
    "\n",
    "    Person(String name, int age) {\n",
    "        this.name = name;\n",
    "        this.age = age;\n",
    "    }\n",
    "\n",
    "    @Override\n",
    "    public String toString() {\n",
    "        return name;\n",
    "    }\n",
    "}\n",
    "\n",
    "List<Person> persons = Arrays.asList(new Person(\"Max\", 18), new Person(\"Peter\", 23), new Person(\"Pamela\", 23), new Person(\"David\", 12));\n",
    "\n",
    "// Person with maximum age\n",
    "persons.stream().reduce((p1, p2) -> p1.age > p2.age ? p1 : p2).ifPresent(System.out::println);\n",
    "\n",
    "// Reduce may also accept an identity element\n",
    "// in that case, it doesn't return Optional\n",
    "System.out.println(persons.stream().reduce(new Person(\"\", 0), (p1, p2) -> { p1.age += p2.age; p1.name += p2.name; return p1;}));"
   ]
  },
  {
   "cell_type": "markdown",
   "metadata": {},
   "source": [
    "`IntStream`, `LongStream`, `DoubleStream` provide some other terminal operations like `sum`, `average`, `summaryStatistics`."
   ]
  },
  {
   "cell_type": "markdown",
   "metadata": {},
   "source": [
    "The `collect` terminal operator is one of the most important terminal operator. With collect operation, we can use the result to form a collection, map, set, etc. We make use of the many static methods of the `Collectors` class. This class also contains methods to get maximum, minimum, join together strings, etc."
   ]
  },
  {
   "cell_type": "code",
   "execution_count": null,
   "metadata": {},
   "outputs": [],
   "source": [
    "// Collect to a list\n",
    "List<Integer> ageList = persons.stream().map(p -> p.age).sorted().collect(Collectors.toList());\n",
    "\n",
    "// Join together as string\n",
    "String s = persons.stream().map(p -> p.name).collect(Collectors.joining(\", \"));\n",
    "// The same can be achieved using reduce, but is a bit clunky\n",
    "String[] s_ = { \"\" };\n",
    "persons.stream().map(p -> p.name).reduce((a, b) -> a + \", \" + b).ifPresent(a -> s_[0] = a);\n",
    "\n",
    "// Group by, collect to map\n",
    "Map<Integer, List<Person>> ageToPersonMap = persons.stream().collect(Collectors.groupingBy((p) -> p.age));\n",
    "// What if we want age-> name mapping?\n",
    "Map<Integer, String> ageToNameMap = persons.stream().collect(Collectors.toMap(p -> p.age, p -> p.name, (n1, n2) -> n1 + \",\" + n2));"
   ]
  },
  {
   "cell_type": "markdown",
   "metadata": {},
   "source": [
    "### Optional\n",
    "Consider the classes below:"
   ]
  },
  {
   "cell_type": "code",
   "execution_count": null,
   "metadata": {},
   "outputs": [],
   "source": [
    "public class Person {\n",
    "    private Car car;\n",
    "    public Car getCar() { return car; }\n",
    "}\n",
    "\n",
    "public class Car {\n",
    "    private Insurance insurance;\n",
    "    public Insurance getInsurance() { return insurance; }\n",
    "}\n",
    "\n",
    "public class Insurance {\n",
    "    private String name;\n",
    "    public String getName() { return name; }\n",
    "}"
   ]
  },
  {
   "cell_type": "markdown",
   "metadata": {},
   "source": [
    "Now if a person does not have a car, calling `p.getCar()` would return null. Acting upon a null reference can lead to program exceptions. A solution to this is to introduce defensive null checking"
   ]
  },
  {
   "cell_type": "code",
   "execution_count": null,
   "metadata": {},
   "outputs": [],
   "source": [
    "// Too much nesting\n",
    "public string getCarInsuranceName(Person p){\n",
    "    if(p != null){\n",
    "        Car c = p.getCar();\n",
    "        if(c != null){\n",
    "            Insurance i = c.getInsurance();\n",
    "            if(i != null){\n",
    "                return i.getName();\n",
    "            }\n",
    "        }\n",
    "    }\n",
    "    \n",
    "    return 'Unknown';\n",
    "}"
   ]
  },
  {
   "cell_type": "markdown",
   "metadata": {},
   "source": [
    "Another way would be:"
   ]
  },
  {
   "cell_type": "code",
   "execution_count": null,
   "metadata": {},
   "outputs": [],
   "source": [
    "// Too many repetitions\n",
    "public string getCarInsuranceName(Person p){\n",
    "    if(p == null){\n",
    "        return 'Unknown';\n",
    "    }\n",
    "    \n",
    "    Car c = p.getCar();\n",
    "    if(c == null){\n",
    "        return 'Unknown';\n",
    "    }\n",
    "    \n",
    "    Insurance i = c.getInsurance();\n",
    "    if(i == null){\n",
    "        return 'Unknown';\n",
    "    }\n",
    "    \n",
    "    return i.getName();\n",
    "}"
   ]
  },
  {
   "cell_type": "markdown",
   "metadata": {},
   "source": [
    "Using `Optional`, we can model our previous classes like:"
   ]
  },
  {
   "cell_type": "code",
   "execution_count": null,
   "metadata": {},
   "outputs": [],
   "source": [
    "public class Person {\n",
    "    private Optional<Car> car;\n",
    "    public Optional<Car> getCar() { return car; }\n",
    "}\n",
    "\n",
    "public class Car {\n",
    "    private Optional<Insurance> insurance;\n",
    "    public Optional<Insurance> getInsurance() { return insurance; }\n",
    "}\n",
    "\n",
    "public class Insurance {\n",
    "    private String name;\n",
    "    public String getName() { return name; }\n",
    "}"
   ]
  },
  {
   "cell_type": "markdown",
   "metadata": {},
   "source": [
    "The use of Optional enriches the semantics of your model. The fact that a person references an `Optional<Car>`, and a car an `Optional<Insurance>`, makes it explicit in the domain that a person might or might not own a car, and that car might or might not be insured. The name of insurance is not optional, thereby signalling that it is a mandatory field."
   ]
  },
  {
   "cell_type": "code",
   "execution_count": null,
   "metadata": {},
   "outputs": [],
   "source": [
    "// Presence of no car\n",
    "Optional<Car> noCar = Optional.empty();\n",
    "\n",
    "// Presence of car\n",
    "Optional<Car> car = Optional.of(new Car());"
   ]
  },
  {
   "cell_type": "markdown",
   "metadata": {},
   "source": [
    "To get the car from an optional,"
   ]
  },
  {
   "cell_type": "code",
   "execution_count": null,
   "metadata": {},
   "outputs": [],
   "source": [
    "Car c = car.get()"
   ]
  },
  {
   "cell_type": "markdown",
   "metadata": {},
   "source": [
    "But, the get method return `NoSuchElementException`, for which we would have to add try-catch block. So this brings us back to where we started!"
   ]
  },
  {
   "cell_type": "code",
   "execution_count": null,
   "metadata": {},
   "outputs": [],
   "source": []
  }
 ],
 "metadata": {
  "kernelspec": {
   "display_name": "Java",
   "language": "java",
   "name": "java"
  },
  "language_info": {
   "codemirror_mode": "java",
   "file_extension": ".jshell",
   "mimetype": "text/x-java-source",
   "name": "Java",
   "pygments_lexer": "java",
   "version": "13+33"
  }
 },
 "nbformat": 4,
 "nbformat_minor": 4
}
