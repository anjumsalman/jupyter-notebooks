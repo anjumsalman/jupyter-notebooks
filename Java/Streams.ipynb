{
 "cells": [
  {
   "cell_type": "markdown",
   "metadata": {},
   "source": [
    "## Streams\n",
    "Java Streams API lets us manipulate collections of data in a declarative way. One effect is that the code size can be significantly reduced as the below example shows:"
   ]
  },
  {
   "cell_type": "code",
   "execution_count": 5,
   "metadata": {},
   "outputs": [
    {
     "name": "stdout",
     "output_type": "stream",
     "text": [
      "8\n"
     ]
    }
   ],
   "source": [
    "int[] numbers = {5, 7, 2, 9, 8, 1, 7};\n",
    "\n",
    "// Copy the above array since we don't want to mutate it\n",
    "int[] result = Arrays.copyOf(numbers, numbers.length);\n",
    "\n",
    "// Sort it\n",
    "Arrays.sort(result);\n",
    "\n",
    "// Get sum of lowest 3\n",
    "int sum = 0;\n",
    "for(int i=0; i<3; i++){\n",
    "    sum += result[i];\n",
    "}\n",
    "\n",
    "System.out.println(sum);"
   ]
  },
  {
   "cell_type": "markdown",
   "metadata": {},
   "source": [
    "The same operation can be written in a concise manner using Streams"
   ]
  },
  {
   "cell_type": "code",
   "execution_count": 4,
   "metadata": {},
   "outputs": [
    {
     "name": "stdout",
     "output_type": "stream",
     "text": [
      "8\n"
     ]
    }
   ],
   "source": [
    "int[] numbers = {5, 7, 2, 9, 8, 1, 7};\n",
    "\n",
    "int sum = Arrays.stream(numbers)\n",
    "                .sorted()\n",
    "                .limit(3)\n",
    "                .sum();\n",
    "\n",
    "System.out.println(sum);"
   ]
  },
  {
   "cell_type": "markdown",
   "metadata": {},
   "source": [
    "Structure of a typical Stream computation:\n",
    "**stream source** --> **intermediate operation(s)** -> **terminal operation**"
   ]
  },
  {
   "cell_type": "markdown",
   "metadata": {},
   "source": [
    "### Stream Source"
   ]
  },
  {
   "cell_type": "markdown",
   "metadata": {},
   "source": [
    "Object streams are the general kind of stream. To create an object stream:"
   ]
  },
  {
   "cell_type": "code",
   "execution_count": null,
   "metadata": {},
   "outputs": [],
   "source": [
    "// From values\n",
    "Stream<String> cityStream = Stream.of(\"Los Angeles\", \"Paris\", \"Tokyo\", \"Berlin\");\n",
    "\n",
    "// From arrays\n",
    "String[] cities = new String[] { \"Los Angeles\", \"Paris\", \"Tokyo\", \"Berlin\" };\n",
    "Stream<String> sameCityStream = Arrays.stream(cities);\n",
    "\n",
    "// From collections\n",
    "List<String> cityList = Arrays.asList(cities);\n",
    "Stream<String> anotherCityStream = cityList.stream();\n",
    "\n",
    "// Empty stream\n",
    "Stream<Double> emptyStream = Stream.empty();\n",
    "\n",
    "// From multiline String\n",
    "String lines = \"There are\\nmultiple lines\\nin this string\";\n",
    "Stream<String> linesStream = lines.lines();\n",
    "\n",
    "// Infinite Stream using Supplier (has one method `T get()`)\n",
    "Stream<UUID> infUUIDs = Stream.generate(UUID::randomUUID);"
   ]
  },
  {
   "cell_type": "markdown",
   "metadata": {},
   "source": [
    "We have specialised Streams too: `IntStream`, `LongStream` and `DoubleStream` .  \n",
    "![Stream Inheritance](images/stream_hierarchy.png)  \n",
    "\n",
    "The stream method of Arrays has multiple overloaded versions as listed below (only a subset):\n",
    "- `stream(int[] array)` returns `IntegerStream`\n",
    "- `stream(double[] array)` returns `DoubleStream`\n",
    "- `stream(T[] array)` returns `Stream<T>`"
   ]
  },
  {
   "cell_type": "code",
   "execution_count": null,
   "metadata": {},
   "outputs": [],
   "source": [
    "int[] primes = new int[] { 2, 3, 5, 7, 11 };\n",
    "IntStream primeStream = Arrays.stream(primes);\n",
    "\n",
    "// list's stream method returns object streams\n",
    "// because list itself is a collection of objects"
   ]
  },
  {
   "cell_type": "markdown",
   "metadata": {},
   "source": [
    "To create the specialized streams we can use:"
   ]
  },
  {
   "cell_type": "code",
   "execution_count": null,
   "metadata": {},
   "outputs": [],
   "source": [
    "DoubleStream doubleSteam = DoubleStream.of(3.56, 2.91, 8.314);\n",
    "\n",
    "LongStream longStream = LongStream.range(1, 101);"
   ]
  },
  {
   "cell_type": "markdown",
   "metadata": {},
   "source": [
    "We can also convert an object stream to specialised stream"
   ]
  },
  {
   "cell_type": "code",
   "execution_count": null,
   "metadata": {},
   "outputs": [],
   "source": [
    "Stream<Integer> numbers = Stream.of(1, 4, 7, 8, 0, -5);\n",
    "IntStream integerNumbers = numbers.mapToInt(i -> i);\n",
    "// mapToLong and mapToDouble are the other two methods\n",
    "\n",
    "// Range of integers\n",
    "IntStream intStream = IntStream.range(1, 10001);  // exclusive"
   ]
  },
  {
   "cell_type": "markdown",
   "metadata": {},
   "source": [
    "Or specialized stream to object stream:"
   ]
  },
  {
   "cell_type": "code",
   "execution_count": null,
   "metadata": {},
   "outputs": [],
   "source": [
    "Stream<Double> doubles = DoubleStream.of(3.56, 2.91, 8.314).boxed();"
   ]
  },
  {
   "cell_type": "markdown",
   "metadata": {},
   "source": [
    "There are methods available to create infinite streams:"
   ]
  },
  {
   "cell_type": "code",
   "execution_count": null,
   "metadata": {},
   "outputs": [],
   "source": [
    "// Infinite Stream using iterator: initial value, next value function\n",
    "IntStream infEvens = IntStream.iterate(0, i -> i + 2);\n",
    "\n",
    "// Infinite random integers\n",
    "IntStream infRandomInts = new Random().ints();"
   ]
  },
  {
   "cell_type": "markdown",
   "metadata": {},
   "source": [
    "### Intermediate Operations\n",
    "Intermediate operations on stream return stream. These operations can be chained together and are lazy evaluated (when a terminal operation is called).\n",
    "\n",
    "| Operation                                                          | Description                                                                                                                                                                                  |\n",
    "|--------------------------------------------------------------------|----------------------------------------------------------------------------------------------------------------------------------------------------------------------------------------------|\n",
    "| sorted()                                                           | Returns a stream consisting of the elements of this stream, sorted according to natural order.                                                                                               |\n",
    "| skip(long n)                                                       | Returns a stream consisting of the remaining elements of this stream after discarding the first n elements of the stream.                                                                    |\n",
    "| peek(Consumer<? super T> action)                                   | Returns a stream consisting of the elements of this stream, additionally performing the provided action on each element as elements are consumed from the resulting stream.                  |\n",
    "| limit(long n)                                                      | Returns a stream consisting of the distinct elements (according to `Object.equals(Object)`) of this stream.                                                                                  |\n",
    "| distinct()                                                         | Working directory inside the container                                                                                                                                                       |\n",
    "| filter(Predicate<? super T> predicate)                             | Returns a stream consisting of the elements of this stream that match the given predicate.                                                                                                   |\n",
    "| map(Function<? super T, ? extends R> mapper)                       | Returns a stream consisting of the results of applying the given function to the elements of this stream.                                                                                    |\n",
    "| flatMap(Function<? super T, ? extends Stream<? extends R>> mapper) | Returns a stream consisting of the results of replacing each element of this stream with the contents of a mapped stream produced by applying the provided mapping function to each element. |\n",
    "| mapMulti(BiConsumer<? super T, ? super Consumer<R>> mapper)        | Returns a stream consisting of the results of replacing each element of this stream with multiple elements, specifically zero or more elements.                                              |"
   ]
  },
  {
   "cell_type": "markdown",
   "metadata": {},
   "source": [
    "The lazy evalutaion characteristic can be seen in the below example:"
   ]
  },
  {
   "cell_type": "code",
   "execution_count": null,
   "metadata": {},
   "outputs": [],
   "source": [
    "import java.util.stream.Stream;\n",
    "\n",
    "// Nothing printed\n",
    "Stream.of(\"d2\", \"a2\", \"b1\", \"b3\", \"c\")\n",
    "    .filter(s -> {\n",
    "        System.out.println(\"filter: \" + s);\n",
    "        return true;\n",
    "    });"
   ]
  },
  {
   "cell_type": "markdown",
   "metadata": {},
   "source": [
    "Some operations can also be combined together while evaluating all the chained operations.\n",
    "\n",
    "**`flatMap`** is an interesting intermediate operation. It transforms each element of a stream into zero or more elements and then flattens the resulting elements into a single stream. It accepts a `Function<? super T, ? extends Stream<? extends R>>` as argument (get and put principal: get element out of the original stream, put element into newer stream). Here `T` is element of original stream, `R` is the element of resulting flattened stream. In short, we need to supply a function that returns a stream from each element of the original stream. Flatmap is often used in case of nested data structures for example list of lists. We share a few examples below:"
   ]
  },
  {
   "cell_type": "code",
   "execution_count": 2,
   "metadata": {
    "tags": []
   },
   "outputs": [
    {
     "name": "stdout",
     "output_type": "stream",
     "text": [
      "21"
     ]
    }
   ],
   "source": [
    "List<List<Integer>> nestedList = List.of(List.of(1), List.of(2, 3), List.of(4, 5, 6));\n",
    "// Over every item of the outer list, we perform List.stream(), then we join the streams to one big flat stream\n",
    "int sum = nestedList.stream().flatMap(Collection::stream).mapToInt(Integer::intValue).sum();\n",
    "System.out.print(sum);"
   ]
  },
  {
   "cell_type": "code",
   "execution_count": 3,
   "metadata": {
    "tags": []
   },
   "outputs": [
    {
     "name": "stdout",
     "output_type": "stream",
     "text": [
      "[1, 10, 2, 5, 4, 2, 4, 2, 5]"
     ]
    }
   ],
   "source": [
    "// This can be considered as list of list of characters\n",
    "List<String> words = List.of(\"a collection of\", \"words that we\", \"want to count\");\n",
    "List<Integer> wordCount = words.stream().flatMap(element -> Arrays.stream(element.split(\" \")).map(String::length)).toList();\n",
    "System.out.print(wordCount);"
   ]
  },
  {
   "cell_type": "markdown",
   "metadata": {},
   "source": [
    "**`mapMulti`** is an alternative to `flatMap`. With `mapMulti`, we push elements directly into a downstream consumer, avoiding creation of intermediate streams or collections, which can reduce memory and CPU overhead."
   ]
  },
  {
   "cell_type": "code",
   "execution_count": 1,
   "metadata": {},
   "outputs": [
    {
     "name": "stdout",
     "output_type": "stream",
     "text": [
      "21"
     ]
    }
   ],
   "source": [
    "List<List<Integer>> anotherNestedList = List.of(List.of(1), List.of(2, 3), List.of(4, 5, 6));\n",
    "// Notice usage of explicit type <Integer>\n",
    "int sum = anotherNestedList.stream().<Integer>mapMulti(\n",
    "    (item, consumer) -> item.forEach(consumer)).mapToInt(Integer::intValue).sum();\n",
    "System.out.print(sum);\n",
    "\n",
    "// Use mapMultiToInt to shorten\n",
    "anotherNestedList.stream().mapMultiToInt((item, consumer) -> item.forEach(x -> x.intValue())).sum();"
   ]
  },
  {
   "cell_type": "markdown",
   "metadata": {},
   "source": [
    "### Terminal Operations\n",
    "These operations typically return a single value. Some examples:"
   ]
  },
  {
   "cell_type": "code",
   "execution_count": 9,
   "metadata": {},
   "outputs": [
    {
     "name": "stdout",
     "output_type": "stream",
     "text": [
      "true\n",
      "false\n",
      "true\n"
     ]
    }
   ],
   "source": [
    "// Matching terminal operations, return true or false\n",
    "List<String> movies = List.of(\"One flew over the cuckoo's nest\", \"To kill a mockingbird\", \"Gone with the wind\");\n",
    "\n",
    "// Does any element in stream match the condition?\n",
    "System.out.println(movies.stream().anyMatch(s -> s.startsWith(\"To\")));\n",
    "\n",
    "// Do all elements in stream match the condition?\n",
    "System.out.println(movies.stream().allMatch(s -> s.startsWith(\"One\")));\n",
    "\n",
    "// Do none of the elements in stream match the condition?\n",
    "System.out.println(movies.stream().noneMatch(s -> s.startsWith(\"Once\")));"
   ]
  },
  {
   "cell_type": "code",
   "execution_count": 5,
   "metadata": {
    "tags": []
   },
   "outputs": [
    {
     "name": "stdout",
     "output_type": "stream",
     "text": [
      "87\n",
      "6\n"
     ]
    }
   ],
   "source": [
    "// Minimum, maximum, count\n",
    "List<Integer> integers = List.of(12, 22, 45, 65, 5, 87);\n",
    "\n",
    "// max() : Provide a Comparator, returns an Optional, since stream could have\n",
    "// been empty\n",
    "integers.stream().max((a, b) -> a - b).ifPresent(System.out::println);\n",
    "\n",
    "// Counting\n",
    "System.out.println(integers.stream().count());"
   ]
  },
  {
   "cell_type": "markdown",
   "metadata": {},
   "source": [
    "`reduce` is one of the most important terminal operations. There are two overloaded variants:\n",
    "- `reduce(BinaryOperator<T> accumulator)` returns `Optional<T>`\n",
    "- `reduce(T identity, BinaryOperator<T> accumulator)` returns `T`\n",
    "\n",
    "The first argument of the accumulator is the intermediate result, and the second argument is the stream element.\n",
    "\n",
    "The below sequence of operations occur in case we use the version with identity element:\n",
    "```\n",
    "      1    5   ...\n",
    "      |    |\n",
    "IE - op - op - ... \n",
    "```\n",
    "\n",
    "If we use the first version, three cases are possible:\n",
    "- No element in the stream: return `Optional.empty()`\n",
    "- One element: just return the element without applying the accumulator at all.\n",
    "- Two or more elements: apply the accumulator to all of them and return the result.\n",
    "\n",
    "The second variant will return atleast the identity element when the stream is empty."
   ]
  },
  {
   "cell_type": "code",
   "execution_count": 9,
   "metadata": {
    "tags": []
   },
   "outputs": [
    {
     "name": "stdout",
     "output_type": "stream",
     "text": [
      "236\n",
      "Pamela\n",
      "MaxPeterPamelaDavid\n",
      "John Doe\n"
     ]
    }
   ],
   "source": [
    "import java.util.stream.*;\n",
    "\n",
    "// Sum all the elements\n",
    "integers.stream().reduce((a, b) -> a + b).ifPresent(System.out::println);\n",
    "\n",
    "// Using below class for subsequent examples\n",
    "class Person {\n",
    "    String name;\n",
    "    int age;\n",
    "\n",
    "    Person(String name, int age) {\n",
    "        this.name = name;\n",
    "        this.age = age;\n",
    "    }\n",
    "\n",
    "    @Override\n",
    "    public String toString() {\n",
    "        return name;\n",
    "    }\n",
    "}\n",
    "\n",
    "List<Person> persons = Arrays.asList(new Person(\"Max\", 18), new Person(\"Peter\", 23), new Person(\"Pamela\", 23), new Person(\"David\", 12));\n",
    "\n",
    "// Person with maximum age\n",
    "persons.stream().reduce((p1, p2) -> p1.age > p2.age ? p1 : p2).ifPresent(System.out::println);\n",
    "\n",
    "// Get combined name using second form of reduce. Notice that this doesn't return Optional like the first form\n",
    "System.out.println(persons.stream().reduce(new Person(\"\", 0), (p1, p2) -> { p1.age += p2.age; p1.name += p2.name; return p1;}));\n",
    "\n",
    "// Another demonstration of the second form of reduce\n",
    "System.out.println(Stream.<String>empty().reduce(\"John Doe\", (a,b) -> {a += b; return a;}));"
   ]
  },
  {
   "cell_type": "markdown",
   "metadata": {},
   "source": [
    "`IntStream`, `LongStream`, `DoubleStream` provide some other terminal operations like `sum`, `average`, `summaryStatistics`."
   ]
  },
  {
   "cell_type": "markdown",
   "metadata": {},
   "source": [
    "The `collect` terminal operator is one of the most important terminal operator. With collect operation, we can use the result to form a collection, map, set, etc. We make use of the many static methods of the `Collectors` class."
   ]
  },
  {
   "cell_type": "code",
   "execution_count": null,
   "metadata": {},
   "outputs": [],
   "source": [
    "// Collect to a list\n",
    "List<Integer> ageList = persons.stream().map(p -> p.age).sorted().collect(Collectors.toList()); // ArrayList\n",
    "\n",
    "// Collect to an unmodifiable list\n",
    "// nothing can be added after the list has been formed\n",
    "List<Integer> immutableAgeList = persons.stream().map(a -> a.age).collect(Collectors.toUnmodifiableList());\n",
    "\n",
    "// Collect to a Set\n",
    "Set<String> nameSet = persons.stream().map(p -> p.name).collect(Collectors.toSet());\n",
    "\n",
    "// There is also a unmodifiable set counterpart"
   ]
  },
  {
   "cell_type": "markdown",
   "metadata": {},
   "source": [
    "In order to get a map, use the `toMap` collector."
   ]
  },
  {
   "cell_type": "code",
   "execution_count": null,
   "metadata": {},
   "outputs": [],
   "source": [
    "// Name -> Age map\n",
    "Map<String, Integer> nameAgeMap = persons.stream().collect(Collectors.toMap(a -> a.name, a -> a.age));\n",
    "\n",
    "// There is also a unmodifiable map counterpart"
   ]
  },
  {
   "cell_type": "markdown",
   "metadata": {},
   "source": [
    "To join values, use the `joining` collector. It provides the nice benefit that joins are done between two elements."
   ]
  },
  {
   "cell_type": "code",
   "execution_count": null,
   "metadata": {},
   "outputs": [],
   "source": [
    "// Join together as string\n",
    "String s = persons.stream().map(p -> p.name).collect(Collectors.joining(\", \")); // No comma at the end!\n",
    "\n",
    "// The same can be achieved using reduce, but is a bit clunky\n",
    "String s_ = persons.stream().map(p -> p.name).reduce((a, b) -> a + \", \" + b).get();"
   ]
  },
  {
   "cell_type": "markdown",
   "metadata": {},
   "source": [
    "Using `partitioningBy` we can partition our stream into two segments. The two partitions are true and false partition and depend upon the condition we specify."
   ]
  },
  {
   "cell_type": "code",
   "execution_count": null,
   "metadata": {},
   "outputs": [],
   "source": [
    "Map<Boolean, List<Person>> agePartition = persons.stream().collect(Collectors.partitioningBy(p -> p.age > 30));"
   ]
  },
  {
   "cell_type": "markdown",
   "metadata": {},
   "source": [
    "For multiple partitions, we can use `groupingBy`. By grouping, we are essentially creating buckets."
   ]
  },
  {
   "cell_type": "code",
   "execution_count": null,
   "metadata": {},
   "outputs": [],
   "source": [
    "// Age -> List of person\n",
    "Map<Integer, List<Person>> ageToPersonMap = persons.stream()\n",
    "    .collect(Collectors.groupingBy(p -> p.age));\n",
    "\n",
    "// Person -> List of ages\n",
    "// We employ an overloaded version of groupingBy which accepts another Collector\n",
    "Map<String, List<Integer>> nameAgeGroup = persons.stream()\n",
    "    .collect(Collectors.groupingBy(p -> p.name, Collectors.mapping(p -> p.age, Collectors.toList()))); \n",
    "// Why do we need toList collector in above case? Because the value is a list, if we want a set, we\n",
    "// can use toSet collector\n",
    "\n",
    "// Name -> name count\n",
    "Map<String, Long> nameFrequency = persons.stream()\n",
    "    .collect(Collectors.groupingBy(p -> p.name, Collectors.counting()));\n",
    "// What if we want Integer and not Long?\n",
    "Map<String, Integer> nameFrequency_ = persons.stream()\n",
    "    .collect(Collectors.groupingBy(p -> p.name, Collectors.collectingAndThen(Collectors.counting(), Long::intValue)));"
   ]
  },
  {
   "cell_type": "markdown",
   "metadata": {},
   "source": [
    "### Notes on Lambda Expressions\n",
    "Lambda expressions passed into stream operations must adhere to the following:\n",
    "- non-interfering: the stream source should not be modified during stream execution. Why? Because a stream may be executed in parallel. Multiple threads accessing a shared mutable state (the stream source) is not the best approach.\n",
    "- stateless: lambdas passed to stream operations should be stateless (read or write any state that may change).  In the example below, if we use parallel stream, multiple threads would access the `twiceSeen` set without any coordination:"
   ]
  },
  {
   "cell_type": "code",
   "execution_count": null,
   "metadata": {},
   "outputs": [],
   "source": [
    "HashSet<Integer> twiceSeen = new HashSet<>();\n",
    "int[] result = new Random().ints().filter(e -> {\n",
    "    twiceSeen.add(e * 2);\n",
    "    return twiceSeen.contains(e);\n",
    "}).limit(100).toArray();"
   ]
  },
  {
   "cell_type": "markdown",
   "metadata": {},
   "source": [
    "- pure: lambda expressions should not have any side effect. One of the reason being sometimes the operation can be skipped, leading to side-effects also not being executed."
   ]
  },
  {
   "cell_type": "code",
   "execution_count": null,
   "metadata": {},
   "outputs": [],
   "source": [
    "int summation = IntStream.iterate(0, i -> i * 2).map(e -> {  // This map operation doesn't do much\n",
    "    System.out.print(e);\n",
    "    return e;\n",
    "}).limit(10).sum();"
   ]
  },
  {
   "cell_type": "markdown",
   "metadata": {},
   "source": [
    "## Parallel Streams\n",
    "We can get a parallel stream by:"
   ]
  },
  {
   "cell_type": "code",
   "execution_count": 2,
   "metadata": {},
   "outputs": [
    {
     "name": "stdout",
     "output_type": "stream",
     "text": [
      "7 4 5 1 2 10 9 3 8 6 "
     ]
    }
   ],
   "source": [
    "import java.util.stream.Stream;\n",
    "\n",
    "// Converting existing sequential stream\n",
    "Stream<Integer> stream = Stream.of(1, 2, 3, 4, 5, 6, 7, 8, 9, 10);\n",
    "stream.parallel().forEach(x -> System.out.print(x + \" \"));"
   ]
  },
  {
   "cell_type": "code",
   "execution_count": 4,
   "metadata": {},
   "outputs": [
    {
     "name": "stdout",
     "output_type": "stream",
     "text": [
      "3 1 2 9 4 8 6 7 5 10 "
     ]
    }
   ],
   "source": [
    "// Creating a parallel stream\n",
    "Integer[] numbers = { 1, 2, 3, 4, 5, 6, 7, 8, 9, 10 };\n",
    "List<Integer> integerList = Arrays.asList(numbers);\n",
    "Stream<Integer> stream = integerList.parallelStream();\n",
    "stream.parallel().forEach(x -> System.out.print(x + \" \"));"
   ]
  },
  {
   "cell_type": "markdown",
   "metadata": {},
   "source": [
    "Using streams, the structure of concurrent code is same as the sequential one. As we can see from above example, there is just one switch to turn a sequential stream to a parallel one. What about the below code, will it create a parallel or a sequential stream?"
   ]
  },
  {
   "cell_type": "code",
   "execution_count": 5,
   "metadata": {},
   "outputs": [
    {
     "name": "stdout",
     "output_type": "stream",
     "text": [
      "1.0 2.0 3.0 4.0 5.0 6.0 7.0 8.0 9.0 10.0 "
     ]
    }
   ],
   "source": [
    "Stream.of(1, 2, 3, 4, 5, 6, 7, 8, 9, 10)\n",
    "    .parallel()\n",
    "    .map(e -> (float)e )\n",
    "    .sequential() // The last parallel or sequential operation decides\n",
    "                  // since intermediate operations are lazily evaluated\n",
    "    .forEach(x -> System.out.print(x + \" \"))   "
   ]
  },
  {
   "cell_type": "markdown",
   "metadata": {},
   "source": [
    "Let's see which threads execute the intermediate operations"
   ]
  },
  {
   "cell_type": "code",
   "execution_count": 7,
   "metadata": {},
   "outputs": [
    {
     "name": "stdout",
     "output_type": "stream",
     "text": [
      "Element=7, Thread=IJava-executor-3\n",
      "Element=9, Thread=ForkJoinPool.commonPool-worker-3\n",
      "Element=5, Thread=ForkJoinPool.commonPool-worker-5\n",
      "Element=8, Thread=ForkJoinPool.commonPool-worker-27\n",
      "Element=1, Thread=ForkJoinPool.commonPool-worker-7\n",
      "Element=4, Thread=ForkJoinPool.commonPool-worker-21\n",
      "Element=10, Thread=ForkJoinPool.commonPool-worker-13\n",
      "Element=3, Thread=ForkJoinPool.commonPool-worker-9\n",
      "Element=6, Thread=ForkJoinPool.commonPool-worker-31\n",
      "Element=2, Thread=ForkJoinPool.commonPool-worker-17\n"
     ]
    }
   ],
   "source": [
    "Stream.of(1, 2, 3, 4, 5, 6, 7, 8, 9, 10)\n",
    "    .parallel()\n",
    "    .map(e -> {\n",
    "        System.out.println(\"Element=\" + e + \", Thread=\" + Thread.currentThread().getName());\n",
    "        return e*e;\n",
    "    })\n",
    "    .forEach(x -> {})"
   ]
  },
  {
   "cell_type": "markdown",
   "metadata": {},
   "source": [
    "In case of sequential streams:"
   ]
  },
  {
   "cell_type": "code",
   "execution_count": 8,
   "metadata": {},
   "outputs": [
    {
     "name": "stdout",
     "output_type": "stream",
     "text": [
      "Element=1, Thread=IJava-executor-3\n",
      "Element=2, Thread=IJava-executor-3\n",
      "Element=3, Thread=IJava-executor-3\n",
      "Element=4, Thread=IJava-executor-3\n",
      "Element=5, Thread=IJava-executor-3\n",
      "Element=6, Thread=IJava-executor-3\n",
      "Element=7, Thread=IJava-executor-3\n",
      "Element=8, Thread=IJava-executor-3\n",
      "Element=9, Thread=IJava-executor-3\n",
      "Element=10, Thread=IJava-executor-3\n"
     ]
    }
   ],
   "source": [
    "// Main thread normally, Thread=IJava-executor-3 because this code\n",
    "// is executed by IPython Java kernel\n",
    "Stream.of(1, 2, 3, 4, 5, 6, 7, 8, 9, 10)\n",
    "    .map(e -> {\n",
    "        System.out.println(\"Element=\" + e + \", Thread=\" + Thread.currentThread().getName());\n",
    "        return e*e;\n",
    "    })\n",
    "    .forEach(x -> {})"
   ]
  },
  {
   "cell_type": "markdown",
   "metadata": {},
   "source": [
    "Parallel streams internally use `Common ForkJoinPool`. The number of threads is fixed (1 - number of cores). This can be modified using a vm argument.\n",
    "\n",
    "From the `forEach` output we can see that in case of parallel stream, the order is result is different. Some methods are inherently unordered whereas some have ordered counterpart. Consider the code below:"
   ]
  },
  {
   "cell_type": "code",
   "execution_count": 9,
   "metadata": {},
   "outputs": [
    {
     "name": "stdout",
     "output_type": "stream",
     "text": [
      "2 4 6 8 10 12 14 16 18 20 "
     ]
    }
   ],
   "source": [
    "Stream.of(1, 2, 3, 4, 5, 6, 7, 8, 9, 10)\n",
    "    .parallel()\n",
    "    .map(e -> e * 2)\n",
    "    .forEachOrdered(x -> System.out.print(x + \" \"))   "
   ]
  },
  {
   "cell_type": "markdown",
   "metadata": {},
   "source": [
    "Even though we used parallel stream, the order of elements is maintained. This is still parallel execution. Let's see the threads involved:"
   ]
  },
  {
   "cell_type": "code",
   "execution_count": 11,
   "metadata": {},
   "outputs": [
    {
     "name": "stdout",
     "output_type": "stream",
     "text": [
      "**Element=7, Thread=IJava-executor-5\n",
      "**Element=10, Thread=ForkJoinPool.commonPool-worker-17\n",
      "**Element=6, Thread=ForkJoinPool.commonPool-worker-9\n",
      "**Element=8, Thread=ForkJoinPool.commonPool-worker-29\n",
      "**Element=2, Thread=ForkJoinPool.commonPool-worker-15\n",
      "**Element=5, Thread=ForkJoinPool.commonPool-worker-23\n",
      "**Element=3, Thread=ForkJoinPool.commonPool-worker-13\n",
      "**Element=1, Thread=ForkJoinPool.commonPool-worker-19\n",
      "**Element=9, Thread=ForkJoinPool.commonPool-worker-25\n",
      "**Element=4, Thread=ForkJoinPool.commonPool-worker-1\n",
      "--Element=1, Thread=ForkJoinPool.commonPool-worker-19\n",
      "--Element=4, Thread=ForkJoinPool.commonPool-worker-19\n",
      "--Element=9, Thread=ForkJoinPool.commonPool-worker-19\n",
      "--Element=16, Thread=ForkJoinPool.commonPool-worker-19\n",
      "--Element=25, Thread=ForkJoinPool.commonPool-worker-19\n",
      "--Element=36, Thread=ForkJoinPool.commonPool-worker-19\n",
      "--Element=49, Thread=ForkJoinPool.commonPool-worker-19\n",
      "--Element=64, Thread=ForkJoinPool.commonPool-worker-19\n",
      "--Element=81, Thread=ForkJoinPool.commonPool-worker-19\n",
      "--Element=100, Thread=ForkJoinPool.commonPool-worker-19\n"
     ]
    }
   ],
   "source": [
    "Stream.of(1, 2, 3, 4, 5, 6, 7, 8, 9, 10)\n",
    "    .parallel()\n",
    "    .map(e -> {\n",
    "        System.out.println(\"**Element=\" + e + \", Thread=\" + Thread.currentThread().getName());\n",
    "        return e*e;\n",
    "    })\n",
    "    .forEachOrdered(e -> {\n",
    "        System.out.println(\"--Element=\" + e + \", Thread=\" + Thread.currentThread().getName());\n",
    "    })   "
   ]
  },
  {
   "cell_type": "markdown",
   "metadata": {},
   "source": [
    "We see that the two operations (map and forEachOrdered) are separately parallel. Compare this with:"
   ]
  },
  {
   "cell_type": "code",
   "execution_count": 12,
   "metadata": {},
   "outputs": [
    {
     "name": "stdout",
     "output_type": "stream",
     "text": [
      "**Element=9, Thread=ForkJoinPool.commonPool-worker-25\n",
      "**Element=1, Thread=ForkJoinPool.commonPool-worker-9\n",
      "**Element=4, Thread=ForkJoinPool.commonPool-worker-3\n",
      "--Element=16, Thread=ForkJoinPool.commonPool-worker-3\n",
      "**Element=5, Thread=ForkJoinPool.commonPool-worker-17\n",
      "**Element=10, Thread=ForkJoinPool.commonPool-worker-23\n",
      "**Element=6, Thread=ForkJoinPool.commonPool-worker-13\n",
      "**Element=8, Thread=ForkJoinPool.commonPool-worker-29\n",
      "--Element=64, Thread=ForkJoinPool.commonPool-worker-29\n",
      "**Element=2, Thread=ForkJoinPool.commonPool-worker-15\n",
      "**Element=3, Thread=ForkJoinPool.commonPool-worker-1\n",
      "--Element=9, Thread=ForkJoinPool.commonPool-worker-1\n",
      "--Element=4, Thread=ForkJoinPool.commonPool-worker-15\n",
      "--Element=36, Thread=ForkJoinPool.commonPool-worker-13\n",
      "--Element=100, Thread=ForkJoinPool.commonPool-worker-23\n",
      "--Element=25, Thread=ForkJoinPool.commonPool-worker-17\n",
      "--Element=1, Thread=ForkJoinPool.commonPool-worker-9\n",
      "--Element=81, Thread=ForkJoinPool.commonPool-worker-25\n",
      "**Element=7, Thread=IJava-executor-6\n",
      "--Element=49, Thread=IJava-executor-6\n"
     ]
    }
   ],
   "source": [
    "Stream.of(1, 2, 3, 4, 5, 6, 7, 8, 9, 10)\n",
    "    .parallel()\n",
    "    .map(e -> {\n",
    "        System.out.println(\"**Element=\" + e + \", Thread=\" + Thread.currentThread().getName());\n",
    "        return e*e;\n",
    "    })\n",
    "    .forEach(e -> {\n",
    "        System.out.println(\"--Element=\" + e + \", Thread=\" + Thread.currentThread().getName());\n",
    "    })   "
   ]
  },
  {
   "cell_type": "markdown",
   "metadata": {},
   "source": [
    "The ordering is guaranteed by forEachOrdered because lists have ordering. If the stream was formed from a set, no ordering would have been present. Similar observation can be made when using the `findAny` method.\n",
    "\n",
    "The reduce operation is also done parallely:"
   ]
  },
  {
   "cell_type": "code",
   "execution_count": 13,
   "metadata": {},
   "outputs": [
    {
     "name": "stdout",
     "output_type": "stream",
     "text": [
      "Total=0, x=3, Thread=ForkJoinPool.commonPool-worker-21\n",
      "Total=0, x=4, Thread=ForkJoinPool.commonPool-worker-19\n",
      "Total=0, x=1, Thread=ForkJoinPool.commonPool-worker-15\n",
      "Total=0, x=5, Thread=ForkJoinPool.commonPool-worker-1\n",
      "Total=0, x=9, Thread=ForkJoinPool.commonPool-worker-7\n",
      "Total=0, x=10, Thread=ForkJoinPool.commonPool-worker-11\n",
      "Total=0, x=2, Thread=ForkJoinPool.commonPool-worker-25\n",
      "Total=0, x=8, Thread=ForkJoinPool.commonPool-worker-29\n",
      "Total=0, x=7, Thread=IJava-executor-7\n",
      "Total=1, x=2, Thread=ForkJoinPool.commonPool-worker-25\n",
      "Total=9, x=10, Thread=ForkJoinPool.commonPool-worker-11\n",
      "Total=4, x=5, Thread=ForkJoinPool.commonPool-worker-1\n",
      "Total=3, x=9, Thread=ForkJoinPool.commonPool-worker-1\n",
      "Total=0, x=6, Thread=ForkJoinPool.commonPool-worker-5\n",
      "Total=6, x=7, Thread=ForkJoinPool.commonPool-worker-5\n",
      "Total=3, x=12, Thread=ForkJoinPool.commonPool-worker-1\n",
      "Total=8, x=19, Thread=ForkJoinPool.commonPool-worker-11\n",
      "Total=13, x=27, Thread=ForkJoinPool.commonPool-worker-11\n",
      "Total=15, x=40, Thread=ForkJoinPool.commonPool-worker-11\n"
     ]
    },
    {
     "data": {
      "text/plain": [
       "55"
      ]
     },
     "execution_count": 13,
     "metadata": {},
     "output_type": "execute_result"
    }
   ],
   "source": [
    "Stream.of(1, 2, 3, 4, 5, 6, 7, 8, 9, 10)\n",
    "    .parallel()\n",
    "    .reduce(0, (total, x) -> {\n",
    "        System.out.println(\"Total=\" + total + \", x=\" + x + \", Thread=\" + Thread.currentThread().getName());\n",
    "        return total + x;\n",
    "    })"
   ]
  },
  {
   "cell_type": "markdown",
   "metadata": {},
   "source": [
    "Which is why if we pass in an incorrect identity element, the error is amplified in case of parallel stream.  "
   ]
  },
  {
   "cell_type": "markdown",
   "metadata": {
    "jp-MarkdownHeadingCollapsed": true
   },
   "source": [
    "## Stream Internals\n"
   ]
  },
  {
   "cell_type": "markdown",
   "metadata": {},
   "source": [
    "In the first phase data is sourced from a source and is represented as a `Spliterator`. For example, a stream using a `List` as source uses the `List` class' `Spliterator` implementation to iterate over the elements."
   ]
  },
  {
   "cell_type": "markdown",
   "metadata": {},
   "source": [
    "**Spliterator:** allows to traverse and partition a sequence. It contains two methods `tryAdvance` and `trySplit`. The second method is used for parallel streams."
   ]
  },
  {
   "cell_type": "code",
   "execution_count": null,
   "metadata": {},
   "outputs": [],
   "source": [
    "// tryAdvance steps through a sequence, returning false if no more elements are available\n",
    "List<Integer> nums = IntStream.rangeClosed(1, 10).boxed().toList();\n",
    "Spliterator<Integer> numsIterator = nums.spliterator();\n",
    "while (numsIterator.tryAdvance(i -> System.out.println(i * i)));"
   ]
  },
  {
   "cell_type": "markdown",
   "metadata": {},
   "source": [
    "`trySplit` attempts to divide the sequence into two equal halfs. This method may return null for any reason, including emptiness, inability to split after traversal has commenced, data structure constraints, and efficiency considerations."
   ]
  },
  {
   "cell_type": "code",
   "execution_count": null,
   "metadata": {},
   "outputs": [],
   "source": [
    "List<Integer> nums = IntStream.rangeClosed(1, 10).boxed().toList();\n",
    "Spliterator<Integer> firstHalf = nums.spliterator();\n",
    "Spliterator<Integer> secondHalf = firstHalf.trySplit();\n",
    "\n",
    "while (firstHalf.tryAdvance(x -> System.out.println(\"First Half: \" + x))) ;   // 6,7,8,9,10\n",
    "while (secondHalf.tryAdvance(x -> System.out.println(\"Second Half: \" + x))) ; // 1,2,3,4,5"
   ]
  },
  {
   "cell_type": "markdown",
   "metadata": {},
   "source": [
    "Each operation on stream is stored in a `LinkedList` with every operation assigned flags:\n",
    "\n",
    "| **Flag** \t| **Description**                                                                                                                                   |\n",
    "|-----------|---------------------------------------------------------------------------------------------------------------------------------------------------|\n",
    "| SIZED    \t| The size of the stream is known                                                                                                                   |\n",
    "| DISTINCT \t| The elements in the stream are unique, no duplicates.                                                                                             |\n",
    "| SORTED   \t| Elements are sorted in a natural order.                                                                                                           |\n",
    "| ORDERED  \t| Whether the stream has a meaningful encounter order; meaning that the order in which the elements are streamed should be preserved on collection. |\n",
    "\n",
    "Each operation will clear, set or preserve different flags; this is quite important because this means that each stage knows what effectsis caused by itself on these flags and this will be used to make the optimisations. For example,`map` will clear `SORTED` and `DISTINCT` bits because data may have changed; however it will always preserve `SIZED` flag. `filter` will clear `SIZED` flag because size of the stream may have changed, but it’ll always preserve `SORTED` and `DISTINCT` flags because filter will never modify the structure of the data.\n",
    "\n",
    "When terminal operation gets executed, `Stream` selects an execution plan. There are two possible scenarios i) all stages are stateless ii) no all stages are stateless.  \n",
    "\n",
    "**Stateless operations:** doesn’t need to know about any other element to be able to emit a result. Examples of stateless operations are: `filter`, `map` or `flatMap`.  \n",
    "**Stateful operations** need to know about all the elements before emitting a result. Examples of stateful operations are: `sorted`, `limit` or `distinct`.\n",
    "\n",
    "If all operations are stateless then the Stream can be processed in one go. On the other hand, if it contains stateful operations, the pipeline is divided into sections using the stateful operations as delimiters."
   ]
  },
  {
   "cell_type": "code",
   "execution_count": null,
   "metadata": {},
   "outputs": [],
   "source": []
  }
 ],
 "metadata": {
  "kernelspec": {
   "display_name": "Java",
   "language": "java",
   "name": "java"
  },
  "language_info": {
   "codemirror_mode": "java",
   "file_extension": ".jshell",
   "mimetype": "text/x-java-source",
   "name": "Java",
   "pygments_lexer": "java",
   "version": "21.0.2+13-58"
  }
 },
 "nbformat": 4,
 "nbformat_minor": 4
}
