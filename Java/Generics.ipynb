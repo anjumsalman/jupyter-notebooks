{
 "cells": [
  {
   "cell_type": "markdown",
   "metadata": {},
   "source": [
    "## Generics\n",
    "Generics enables type to be parameters. In doing so it provides the following benefits:\n",
    "- Code re-use"
   ]
  },
  {
   "cell_type": "code",
   "execution_count": null,
   "metadata": {},
   "outputs": [],
   "source": [
    "public int add(int a, int b){\n",
    "    return a + b;\n",
    "}\n",
    "\n",
    "public float add(float a, float b){\n",
    "    return a + b;\n",
    "}"
   ]
  },
  {
   "cell_type": "markdown",
   "metadata": {},
   "source": [
    "    Can be written as:"
   ]
  },
  {
   "cell_type": "code",
   "execution_count": null,
   "metadata": {},
   "outputs": [],
   "source": [
    "public T add(T a, T b){ // But we would need to limit types T can be\n",
    "    return a + b;       \n",
    "}"
   ]
  },
  {
   "cell_type": "markdown",
   "metadata": {},
   "source": [
    "- Elimination of casts"
   ]
  },
  {
   "cell_type": "code",
   "execution_count": null,
   "metadata": {},
   "outputs": [],
   "source": [
    "List oldList = new ArrayList();\n",
    "oldList.add(\"some text\");\n",
    "String str = (String) oldList.get(0);\n",
    "\n",
    "// Can be written as\n",
    "List<String> newList = new ArrayList<>();\n",
    "newList.add(\"some text\");\n",
    "String str = newList.get(0);"
   ]
  },
  {
   "cell_type": "markdown",
   "metadata": {},
   "source": [
    "This introduces type safety, saving us from class cast exceptions."
   ]
  },
  {
   "cell_type": "markdown",
   "metadata": {},
   "source": [
    "## Generic Class\n",
    "We define a generic class by specifying a type parameter inside <>. The type parameter need not be single letter, it can be a full word. Type parameter naming convention:\n",
    "- `E`: element\n",
    "- `K`: key\n",
    "- `V`: value\n",
    "- `T`: type"
   ]
  },
  {
   "cell_type": "code",
   "execution_count": null,
   "metadata": {},
   "outputs": [],
   "source": [
    "class Box<T> { // Specifying T here means this type parameter is now available\n",
    "               // throughout the class\n",
    "    private T t;\n",
    "\n",
    "    public Box(T t){\n",
    "        this.t = t;\n",
    "    }\n",
    "\n",
    "    public T get() {\n",
    "        return t;\n",
    "    }\n",
    "\n",
    "    public void set(T t) {\n",
    "        this.t = t;\n",
    "    }\n",
    "}\n",
    "\n",
    "Box<Number> numBox = new Box<>(5); // Number is the type argument\n",
    "                                   // Type inference allows us to omit the type in the second <>"
   ]
  },
  {
   "cell_type": "markdown",
   "metadata": {},
   "source": [
    "Multiple type parameters can also be specified "
   ]
  },
  {
   "cell_type": "code",
   "execution_count": null,
   "metadata": {},
   "outputs": [],
   "source": [
    "class Pair<K, V> { // Different type parameters are just separated by a comma\n",
    "    private K key;\n",
    "    private V value;\n",
    "\n",
    "    public void set(K key, V value) {\n",
    "        this.key = key;\n",
    "        this.value = value;\n",
    "    }\n",
    "\n",
    "    public V getValue() {\n",
    "        return this.value;\n",
    "    }\n",
    "\n",
    "    public V getKey() {\n",
    "        return this.value;\n",
    "    }\n",
    "}"
   ]
  },
  {
   "cell_type": "markdown",
   "metadata": {},
   "source": [
    "A type parameter can also be substituted with another parameterised type:"
   ]
  },
  {
   "cell_type": "code",
   "execution_count": null,
   "metadata": {},
   "outputs": [],
   "source": [
    "OrderedPair<String, Box<Integer>> pair;"
   ]
  },
  {
   "cell_type": "markdown",
   "metadata": {},
   "source": [
    "We can also have a generic method inside a non-generic class"
   ]
  },
  {
   "cell_type": "code",
   "execution_count": null,
   "metadata": {},
   "outputs": [],
   "source": [
    "class Util {\n",
    "    // Notice <T>, we have to define type parameter first\n",
    "    // since class is non-generic\n",
    "    public static <T> void fromArrayToCollection(T[] a, Collection<T> c) { // Type parameter T is limited\n",
    "                                                                           // to this method\n",
    "        for (T o : a) {\n",
    "            c.add(o);\n",
    "        }\n",
    "    }\n",
    "}\n",
    "\n",
    "Util.<String>fromArrayToCollection(strArray, strCollection); // Typical usage, though we can ususally remove the type argument\n",
    "Util.fromArrayToCollection(strArray, strCollection) // works"
   ]
  },
  {
   "cell_type": "markdown",
   "metadata": {},
   "source": [
    "**Raw type:** is the name of a generic class or interface without any type arguments. Mixing raw and generic type results in compiler warnings. Example:"
   ]
  },
  {
   "cell_type": "code",
   "execution_count": null,
   "metadata": {},
   "outputs": [],
   "source": [
    "Box box = new Box();\n",
    "\n",
    "// If we assign a raw type to a parameterized type, you get a warning\n",
    "Box<String> stringBox = new Box(\"Hello\");\n",
    "\n",
    "// Since the reference is generic, we can only call\n",
    "stringBox.set(\"Another value\");\n",
    "stringBox.set(55);    // Error\n",
    "\n",
    "// The below statement is also allowed for backword compatibility:\n",
    "Box rawBox = new Box<Integer>(5);\n",
    "rawBox.set(\"Greetings); // Works since reference is raw"
   ]
  },
  {
   "cell_type": "markdown",
   "metadata": {},
   "source": [
    "Example showing how mixing raw and parameterised types can lead to error:"
   ]
  },
  {
   "cell_type": "code",
   "execution_count": null,
   "metadata": {},
   "outputs": [],
   "source": [
    "Box<String> stringBox = new Box(1);\n",
    "String boxed = stringBox.get(); // ClassCastException"
   ]
  },
  {
   "cell_type": "markdown",
   "metadata": {},
   "source": [
    "Or"
   ]
  },
  {
   "cell_type": "code",
   "execution_count": null,
   "metadata": {},
   "outputs": [],
   "source": [
    "Box stringBox = new Box<Integer>(1);\n",
    "String boxed = (String) stringBox.get(); // ClassCastException"
   ]
  },
  {
   "cell_type": "markdown",
   "metadata": {},
   "source": [
    "**Bounded Type Parameter:** lets us restrict the types that can be used as type arguments."
   ]
  },
  {
   "cell_type": "code",
   "execution_count": null,
   "metadata": {},
   "outputs": [],
   "source": [
    "class Complex <T extends Number> {\n",
    "    public T real;\n",
    "    public T imaginary;\n",
    "}"
   ]
  },
  {
   "cell_type": "code",
   "execution_count": null,
   "metadata": {},
   "outputs": [],
   "source": [
    "// Multiple bounds, useful if T implements multiple interfaces\n",
    "class AnimalCollection <T extends Vertebrate & Warmblooded> { // The first type parameter has to be class\n",
    "    // ...\n",
    "}\n",
    "\n",
    "class Mammal extends Vertebrate implements Warmblooded { // Mammal can be used as Type argument\n",
    "    // ...\n",
    "}\n",
    "\n",
    "class Reptile extends Vertebrate{ // Reptiles can't be used as Type argument\n",
    "    // ...\n",
    "}"
   ]
  },
  {
   "cell_type": "markdown",
   "metadata": {},
   "source": [
    "## Generics And Inheritance\n",
    "Examples below illustrate an is-a relationship indicating parent-child inheritance:  \n",
    "> An `Integer` *is an* `Object`  \n",
    "> A `Double` *is a* `Number`  \n",
    "\n",
    "However,\n",
    "> A `Box<Integer>` *is not a* `Box<Number>`  \n",
    "> A `Box<Integer>` *is an* `Object`  \n",
    "\n",
    "In general, given two concrete types *A* and *B*, `MyClass<A>` has no relationship with `MyClass<B>` regardless of whether *A* and *B* are related or not.  \n",
    "\n",
    "The following relationships are true:\n",
    "> A `List<Integer>` *is a* `Collection<Integer>`  \n",
    "> An `ArrayList<Float>` *is a* `List<Float>`  \n",
    "> An `ArrayList<Float>` *is not a* `List<Number>`  \n",
    "\n",
    "Sybtype relationship is preserved as long as type argument is not varied. Let's consider the below example:"
   ]
  },
  {
   "cell_type": "code",
   "execution_count": null,
   "metadata": {},
   "outputs": [],
   "source": [
    "class NamedList<N, E> extends List<E> {\n",
    "    // ...\n",
    "}"
   ]
  },
  {
   "cell_type": "markdown",
   "metadata": {},
   "source": [
    "For the above definition:"
   ]
  },
  {
   "cell_type": "markdown",
   "metadata": {},
   "source": [
    "> A `NamedList<String, String>` *is a* `List<String>`  \n",
    "> A `NamedList<Integer, String>` *is a* `List<String>`  \n",
    "> A `NamedList<String, Number>` *is not a* `List<String>`  "
   ]
  },
  {
   "cell_type": "markdown",
   "metadata": {},
   "source": [
    "As a result of above statements, the following substitutions are not allowed:"
   ]
  },
  {
   "cell_type": "code",
   "execution_count": null,
   "metadata": {},
   "outputs": [],
   "source": [
    "public void compute(Box<Number> input){\n",
    "    // ...\n",
    "}\n",
    "\n",
    "// Below method call is invalid\n",
    "compute(new Box<Integer>()); // Error\n",
    "\n",
    "// Passing a raw type is legal, but we get warning\n",
    "compute(new Box());"
   ]
  },
  {
   "cell_type": "markdown",
   "metadata": {},
   "source": [
    "But why is `List<Integer>` not a subtype of `List<Number>`? The below code illustrates the reasoning:"
   ]
  },
  {
   "cell_type": "code",
   "execution_count": null,
   "metadata": {},
   "outputs": [],
   "source": [
    "List<Integer> integers = new ArrayList<>();\n",
    "integers.add(1); integers.add(2); integers.add(3);\n",
    "\n",
    "List<Number> numbers = integers;\n",
    "numbers.add(4.5); // We have allowed a double to be put inside a list of integers"
   ]
  },
  {
   "cell_type": "markdown",
   "metadata": {},
   "source": [
    "If we want to extend a generic class, the child class must include the type specified by the parent class."
   ]
  },
  {
   "cell_type": "code",
   "execution_count": null,
   "metadata": {},
   "outputs": [],
   "source": [
    "// Valid\n",
    "class SpecialList<T> extends ArrayList<T> {\n",
    "\n",
    "}\n",
    "\n",
    "// Valid, child class introducing its own parameter\n",
    "class SpecialList<T, U> extends ArrayList<T> {\n",
    "\n",
    "}\n",
    "\n",
    "// Valid, generic class can extend non-generic class\n",
    "class SpecialList<T> extends ArrayList {\n",
    "\n",
    "}\n",
    "\n",
    "// Error, child class must have all type parameters\n",
    "// of the parent class\n",
    "class SpecialList<T> extends ArrayList<U> {\n",
    "\n",
    "}\n",
    "\n",
    "// Error, child class should also have the interface's type\n",
    "// parameter. Type parameters of child class should be union \n",
    "// of type parameters of generic class and generic interface\n",
    "class SpecialList<T> extends ArrayList<T> implements Comparable<U>{\n",
    "    \n",
    "}\n",
    "\n",
    "// Error, non-generic class can’t extend generic class\n",
    "class SpecialList extends ArrayList<T>{\n",
    "    \n",
    "}\n",
    "\n",
    "// But this is fine, since we are using a pre-defined class\n",
    "class SpecialStringList extends ArrayList<String>{\n",
    "    \n",
    "}\n",
    "\n",
    "// String is a type parameter, not String class! (For both LHS and RHS)\n",
    "class SpecialStringList<String> extends ArrayList<String>{\n",
    "    \n",
    "}\n",
    "SpecialStringList<Integer> integerList = new SpecialStringList<>();"
   ]
  },
  {
   "cell_type": "markdown",
   "metadata": {},
   "source": [
    "When we extend a generic class with bounded type parameter, type parameter must be replaced by either upper bound or it’s sub classes."
   ]
  },
  {
   "cell_type": "code",
   "execution_count": null,
   "metadata": {},
   "outputs": [],
   "source": [
    "class Parent<T extends Number> {\n",
    "\n",
    "}\n",
    "\n",
    "// T can be any type\n",
    "class Child<T> extends Parent<Integer> {\n",
    "\n",
    "}"
   ]
  },
  {
   "cell_type": "markdown",
   "metadata": {},
   "source": [
    "## Type Inference\n",
    "Allows us to invoke a generic method as we would an ordinary method:"
   ]
  },
  {
   "cell_type": "code",
   "execution_count": null,
   "metadata": {},
   "outputs": [],
   "source": [
    "public static <U> void addBox(U item, List<Box<U>> boxes) {\n",
    "    Box<U> box = new Box<>();\n",
    "    box.set(item);\n",
    "\n",
    "    boxes.add(box);\n",
    ")\n",
    "\n",
    "// Above method can be called with or without specifying the type argument\n",
    "// Java compiler figures out the type from the type of method arguments\n",
    "<Integer>addBox(Integer.valueOf(10), new ArrayList<Box<Integer>>());\n",
    "addBox(Integer.valueOf(10), new ArrayList<>()); // equivalent to above"
   ]
  },
  {
   "cell_type": "markdown",
   "metadata": {},
   "source": [
    "Take another example below (wildcards covered later):"
   ]
  },
  {
   "cell_type": "code",
   "execution_count": null,
   "metadata": {},
   "outputs": [],
   "source": [
    "class Copy {\n",
    "    public static <E> void copy(List<? super E> destination, List<? extends E> source) {\n",
    "        for (E e : source) {\n",
    "            destination.add(e);\n",
    "        }\n",
    "    }\n",
    "}\n",
    "\n",
    "// Numbers\n",
    "List<Number> numbers = new ArrayList<>();\n",
    "numbers.add(0.0);\n",
    "// Integers\n",
    "List<Integer> integers = new ArrayList<>();\n",
    "integers.add(1); integers.add(2);\n",
    "// Copy integers into numbers\n",
    "Copy.copy(numbers, integers);  // Type is inferred"
   ]
  },
  {
   "cell_type": "markdown",
   "metadata": {},
   "source": [
    "In the above example, there are 3 possibilities:"
   ]
  },
  {
   "cell_type": "code",
   "execution_count": null,
   "metadata": {},
   "outputs": [],
   "source": [
    "Copy.copy(numbers, integers);          // implicit parameter, inferred as Integer\n",
    "Copy.<Number>copy(numbers, integers);  // numbers array is ok for ? super Number and integers is ok for ? extends Number\n",
    "Copy.<Integer>copy(numbers, integers); // numbers array is ok for ? super Integer and integers is ok for ? extends Integer"
   ]
  },
  {
   "cell_type": "markdown",
   "metadata": {},
   "source": [
    "## Wildcards\n",
    "There may be times when we want to restrict the kinds of types that are allowed to be passed to a type parameter. For example, say you want to write a method that works on `List<Integer>`, `List<Double>`, and `List<Number>`. We use **upper bounded wildcard**:"
   ]
  },
  {
   "cell_type": "code",
   "execution_count": null,
   "metadata": {},
   "outputs": [],
   "source": [
    "publi double listSummation(List<? extends Number> list) {\n",
    "    double s = 0.0;\n",
    "    for(Number n: list) {\n",
    "        s += n.doubleValue();\n",
    "    }\n",
    "\n",
    "    return s;\n",
    "}"
   ]
  },
  {
   "cell_type": "markdown",
   "metadata": {},
   "source": [
    "Another example:"
   ]
  },
  {
   "cell_type": "code",
   "execution_count": null,
   "metadata": {},
   "outputs": [],
   "source": [
    "public void process(List<? extends Number> src, List<? extends Number> dest) {\n",
    "    // src and destination can be List<Integer> and List<Double> respectively\n",
    "}"
   ]
  },
  {
   "cell_type": "markdown",
   "metadata": {},
   "source": [
    "Note that this is different from:"
   ]
  },
  {
   "cell_type": "code",
   "execution_count": null,
   "metadata": {},
   "outputs": [],
   "source": [
    "public <T extends Number> void process(List<T> src, List<T> dest) {\n",
    "    // src and destination both need to be the same type\n",
    "}"
   ]
  },
  {
   "cell_type": "markdown",
   "metadata": {},
   "source": [
    "But, the following code has the same functionality as the wildcard version"
   ]
  },
  {
   "cell_type": "code",
   "execution_count": null,
   "metadata": {},
   "outputs": [],
   "source": [
    "public <T extends Number, U extends Number> void process(List<T> src, List<U> dest) {\n",
    "    // src and destination can be List<Integer> and List<Double> respectively\n",
    "}"
   ]
  },
  {
   "cell_type": "markdown",
   "metadata": {},
   "source": [
    "The wildcard version however is more concise and readable.  \n",
    "\n",
    "There is also **lower bounded wildcard**:"
   ]
  },
  {
   "cell_type": "code",
   "execution_count": null,
   "metadata": {},
   "outputs": [],
   "source": [
    "public void process(List<? super Number> src) {\n",
    "    // Type parameter of List must atleast be Number\n",
    "}\n",
    "\n",
    "public static void add10Numbers(List<? super Integer> list) {\n",
    "    for(int i=1; i<=10; i++) {\n",
    "        list.add(i);        \n",
    "    }    \n",
    "}"
   ]
  },
  {
   "cell_type": "markdown",
   "metadata": {},
   "source": [
    "And **unbounded wildcard**. Expression `List<?>` represents a list of unknown type. This particular variation is used when the code is only using methods that do not depend upon the type parameter. In case of `List`, that would be `List.size()` or `List.clear()`. This is also the reason why `Class<?>` is so prevalent, we normally don't utilize the methods of the individual class in these scenarios.  \n",
    "\n",
    "Note that `List<?>` is different from `List<Object>`, therefore:"
   ]
  },
  {
   "cell_type": "code",
   "execution_count": null,
   "metadata": {},
   "outputs": [],
   "source": [
    "void printObjectList(List<Object> list) {  // can only print list of Objects\n",
    "    // ...\n",
    "}\n",
    "\n",
    "void printAnyList(List<?> list) {  // can print list of anything\n",
    "    // ...\n",
    "}"
   ]
  },
  {
   "cell_type": "markdown",
   "metadata": {},
   "source": [
    "So when to use `extends` and when to use `super`? Follow the GET and PUT principle:\n",
    "- Getting something, extracting values (GET): use `extends`\n",
    "- Putting or inserting some values (PUT): use `super`\n",
    "- Don't use wildcard when you GET and PUT both"
   ]
  },
  {
   "cell_type": "code",
   "execution_count": null,
   "metadata": {},
   "outputs": [],
   "source": [
    "// Getting numbers out of List, use extends\n",
    "public static double sum(List<? extends Number> numbers) {\n",
    "    double sum = 0.0;\n",
    "    for(Number n: numbers) {\n",
    "        sum += n.doubleValue();\n",
    "    }\n",
    "    return sum;\n",
    "}\n",
    "\n",
    "// All these arrays are allowed for the above call, not possible if extends was not used\n",
    "// - Arrays.asList(1,2,3);\n",
    "// - Arrays.asList(1.0,2.0,3.0);\n",
    "// - Arrays.asList(1,2.0,3);"
   ]
  },
  {
   "cell_type": "code",
   "execution_count": null,
   "metadata": {},
   "outputs": [],
   "source": [
    "// Filling a list with integers, use super\n",
    "public static void fill(List<? super Integer> list, int number) {\n",
    "    for(int i=0; i<number; i++) {\n",
    "        list.add(i);\n",
    "    }\n",
    "}\n",
    "\n",
    "// All these arrays are allowed for the above call, not possible if super was not used\n",
    "// - Arrays.asList(1,2,3);     -- Integer\n",
    "// - Arrays.asList(1,2.0,3.0); -- Number\n",
    "// - Arrays.asList(1,2.0,\"3\"); -- Object"
   ]
  },
  {
   "cell_type": "code",
   "execution_count": null,
   "metadata": {},
   "outputs": [],
   "source": [
    "// Get and put both on the same list, don't use wildcard\n",
    "public static double fillAndSum(List<Number> list) {\n",
    "    fill(list, 10);\n",
    "    return sum(list);\n",
    "}"
   ]
  },
  {
   "cell_type": "markdown",
   "metadata": {},
   "source": [
    "A few more examples:"
   ]
  },
  {
   "cell_type": "code",
   "execution_count": null,
   "metadata": {},
   "outputs": [],
   "source": [
    "List<? extends Number> numbers = Arrays.asList(1, 2.0, 3);  // we can only get from this list, no put operation allowed (except for null)\n",
    "numbers.add(5);  // Error\n",
    "\n",
    "List<? super Integer> numbers2 = Arrays.asList(1, 2.0, 3); // we can only put into this list, no get operation (except for null)\n",
    "sum(numbers2); // Error"
   ]
  },
  {
   "cell_type": "markdown",
   "metadata": {},
   "source": [
    "### Subtyping\n",
    "We discussed earlier that `List<Integer` is not a `List<Number>`. So what is the common ancestor for both? The below diagram illustrates the hierarchy:\n",
    "\n",
    "<img src=\"images/subtyping.png\" width=600 height=auto/>\n",
    "\n",
    "Also\n",
    "\n",
    "<img src=\"images/subtyping2.png\" width=600 height=auto/>"
   ]
  },
  {
   "cell_type": "markdown",
   "metadata": {},
   "source": [
    "So why is `List<? extends Number` above in hierarchy to `List<? extends Integer>`? Because the former can accept wider range of types (`Double`, `Float`, `Integer`, etc). Whereas the latter can only accept (`Integer` and its subtypes). Similarly, `List<? super Integer>` can accept `Integer`, `Number`, etc; whereas `List<? super Number>` can only accept `Number` and `Object`.\n",
    "\n",
    "**Wildcard capture:** compiler being able to infer the type of wildcard.\n",
    "\n",
    "Some cases which can result in error:"
   ]
  },
  {
   "cell_type": "code",
   "execution_count": null,
   "metadata": {},
   "outputs": [],
   "source": [
    "/*\n",
    "set defined as <E> set(int, E)\n",
    "get defined as <E> get(int)\n",
    "*/\n",
    "\n",
    "void getAndSet(List<?> list) {\n",
    "    list.set(0, list.get(0));    // error\n",
    "}\n",
    "\n",
    "// The above statement leads to compilation error because the compiler doesn't know that both the\n",
    "// invocations of get and set refer to the same type. The compiler cannot be sure that the type\n",
    "// of list hasn't changed between invocations. What if there was a statement list = Arrays.asList(true, false)"
   ]
  },
  {
   "cell_type": "code",
   "execution_count": null,
   "metadata": {},
   "outputs": [],
   "source": [
    "void swapFirst(List<? extends Number> l1, List<? extends Number> l2) {\n",
    "    Number temp = l1.get(0);\n",
    "    l1.set(0, l2.get(0)); // error\n",
    "    l2.set(0, temp);      // error\n",
    "}"
   ]
  },
  {
   "cell_type": "markdown",
   "metadata": {},
   "source": [
    "## Type Erasure\n",
    "The Java compiler removes type parameter after compilation:"
   ]
  },
  {
   "cell_type": "code",
   "execution_count": null,
   "metadata": {},
   "outputs": [],
   "source": [
    "// Generic class\n",
    "public class Box<T> {\n",
    "    private T t;\n",
    "\n",
    "    public void set(T t) {\n",
    "        this.t = t;\n",
    "    }\n",
    "\n",
    "    public T get() {\n",
    "        return t;\n",
    "    }\n",
    "}\n",
    "\n",
    "// Gets converted to:\n",
    "public class Box {\n",
    "    private Object t;\n",
    "\n",
    "    public void set(Object t) {\n",
    "        this.t = t;\n",
    "    }\n",
    "\n",
    "    public Object get() {\n",
    "        return t;\n",
    "    }\n",
    "}"
   ]
  },
  {
   "cell_type": "markdown",
   "metadata": {},
   "source": [
    "If the type parameter was bounded, it gets replaced with the first bound:"
   ]
  },
  {
   "cell_type": "code",
   "execution_count": null,
   "metadata": {},
   "outputs": [],
   "source": [
    "public class Pair<T extends Number, U extends List<T> & Serializable> {\n",
    "    private T first;\n",
    "    private U second;\n",
    "\n",
    "    public Pair(T t, U u) {\n",
    "        first = t;\n",
    "        second = u;\n",
    "    }\n",
    "\n",
    "    // ...\n",
    "}\n",
    "\n",
    "// Gets converted to:\n",
    "public class Pair {\n",
    "    private Number first;\n",
    "    private List second;\n",
    "\n",
    "    public Pair(Number t, List u) {\n",
    "        first = t;\n",
    "        second = u;\n",
    "    }\n",
    "\n",
    "    // ...\n",
    "}"
   ]
  },
  {
   "cell_type": "markdown",
   "metadata": {},
   "source": [
    "Type erasure also happens with generic methods.  \n",
    "\n",
    "**Bridge methods:** to preserve polymorphism, Java compiler adds additional methods to the class as illustrated below:"
   ]
  },
  {
   "cell_type": "code",
   "execution_count": null,
   "metadata": {},
   "outputs": [],
   "source": [
    "public class Node<T> {\n",
    "    public T data;\n",
    "\n",
    "    public Node(T data) { this.data = data; }\n",
    "\n",
    "    public void setData(T data) {\n",
    "        this.data = data;\n",
    "    }\n",
    "}\n",
    "\n",
    "/* --- Node gets converted to: ---\n",
    "public class Node {\n",
    "    public Object data;\n",
    "\n",
    "    public Node(Object data) { this.data = data; }\n",
    "\n",
    "    public void setData(Object data) {\n",
    "        this.data = data;\n",
    "    }\n",
    "}\n",
    "*/\n",
    "\n",
    "public class DoubleNode extends Node<Integer> {\n",
    "    public DoubleNode(Integer data) { super(data); }\n",
    "\n",
    "    public void setData(Integer data) {\n",
    "        super.setData(data);\n",
    "    }\n",
    "}\n",
    "\n",
    "/* --- DoubleNode gets converted to: ---\n",
    "public class DoubleNode extends Node {\n",
    "    public DoubleNode(Integer data) { super(data); }\n",
    "\n",
    "    public void setData(Integer data) {  // This class no longer overrides the one in Node, signature is different\n",
    "        super.setData(data);\n",
    "    }\n",
    "\n",
    "    public void setData(Object data) {\n",
    "        setData((Integer) data);  // This additional class added by the compiler\n",
    "    }\n",
    "}\n",
    "*/"
   ]
  },
  {
   "cell_type": "markdown",
   "metadata": {},
   "source": [
    "**Unchecked Cast:**  warning in Java appears when you cast a value to a parameterized (generic) type without the compiler being able to fully verify the type at runtime, due to type erasure."
   ]
  },
  {
   "cell_type": "code",
   "execution_count": null,
   "metadata": {},
   "outputs": [],
   "source": [
    "List rawList = new ArrayList();   // raw type\n",
    "rawList.add(\"hello\");\n",
    "\n",
    "// Unchecked cast warning here\n",
    "List<String> list = (List<String>) rawList;\n",
    "String s = list.get(0); // Unsafe but compiles"
   ]
  },
  {
   "cell_type": "markdown",
   "metadata": {},
   "source": [
    "We got a warning here because the raw list could have contained integer, boolean, etc. The last line would have thus failed."
   ]
  },
  {
   "cell_type": "markdown",
   "metadata": {},
   "source": [
    "**Type Erasure and Reflection:** although the type parameter is erased from the type, it still remains in the bytecode. Therefore the generic information can be accessed at runtime using reflection."
   ]
  },
  {
   "cell_type": "code",
   "execution_count": null,
   "metadata": {},
   "outputs": [],
   "source": [
    "class Value { \n",
    "    public List<String> numbers;\n",
    "\n",
    "    public Map<String, Integer> getMap() {\n",
    "        return null;\n",
    "    }\n",
    "}\n",
    "\n",
    "/*--- Field ---*/\n",
    "Field field = Value.class.getDeclaredField(\"numbers\");\n",
    "Type genericType = field.getGenericType();\n",
    "\n",
    "if(genericType instanceof ParameterizedType parameterizedType) {\n",
    "    Type[] typeArguments = parameterizedType.getActualTypeArguments();\n",
    "    for(Type typeArgument : typeArguments) {\n",
    "        System.out.println(typeArgument);\n",
    "    }\n",
    "}\n",
    "\n",
    "/*--- Method ---*/\n",
    "Method method = Value.class.getMethod(\"getMap\");\n",
    "Type genericReturnType = method.getGenericReturnType();\n",
    "\n",
    "if(genericReturnType instanceof ParameterizedType parameterizedType) {\n",
    "    Type[] typeArguments = parameterizedType.getActualTypeArguments();\n",
    "    for (Type typeArgument : typeArguments) {\n",
    "        System.out.println(\"Return type generic: \" + typeArgument.getTypeName());\n",
    "    }\n",
    "}"
   ]
  },
  {
   "cell_type": "markdown",
   "metadata": {},
   "source": [
    "## Restrictions"
   ]
  },
  {
   "cell_type": "markdown",
   "metadata": {},
   "source": [
    "Cannot create instance of type parameter:"
   ]
  },
  {
   "cell_type": "code",
   "execution_count": null,
   "metadata": {},
   "outputs": [],
   "source": [
    "E e = new E(); // Error\n",
    "`\n",
    "// Workaround\n",
    "public E instantiate(Class<E> clazz) throws InstantiationException, IllegalAccessException {\n",
    "    E e = clazz.newInstance();\n",
    "    return e;\n",
    "}"
   ]
  },
  {
   "cell_type": "markdown",
   "metadata": {},
   "source": [
    "Cannot use wildcards in class instance creation expression:"
   ]
  },
  {
   "cell_type": "code",
   "execution_count": null,
   "metadata": {},
   "outputs": [],
   "source": [
    "List<?> list = new ArrayList<?>(); // Error\n",
    "Map<String, ? extends Number> map = new HashMap<String, ? extends Number>(); // Error\n",
    "\n",
    "List<List<?>> list2 = new ArrayList<List<?>>(); // This is fine"
   ]
  },
  {
   "cell_type": "markdown",
   "metadata": {},
   "source": [
    "Generic method call if it includes type parameters, then the type parameter cannot be wildcard:"
   ]
  },
  {
   "cell_type": "code",
   "execution_count": null,
   "metadata": {},
   "outputs": [],
   "source": [
    "Arrays.<?>asList(1,2,3); // Error\n",
    "\n",
    "Arrays.<List<?>>asList(numbers, integers); // This is fine"
   ]
  },
  {
   "cell_type": "markdown",
   "metadata": {},
   "source": [
    "Cannot extend generic class having wildcards:"
   ]
  },
  {
   "cell_type": "code",
   "execution_count": null,
   "metadata": {},
   "outputs": [],
   "source": [
    "class MyList extends List<?> { } // Error"
   ]
  },
  {
   "cell_type": "markdown",
   "metadata": {},
   "source": [
    "No static field with generic type parameter:"
   ]
  },
  {
   "cell_type": "code",
   "execution_count": null,
   "metadata": {},
   "outputs": [],
   "source": [
    "private static E e; // Not allowed"
   ]
  },
  {
   "cell_type": "markdown",
   "metadata": {},
   "source": [
    "As a result of type erasure combining `instanceof` with generic type is not allowed"
   ]
  },
  {
   "cell_type": "code",
   "execution_count": null,
   "metadata": {},
   "outputs": [],
   "source": [
    "public void process(List<E> list) {\n",
    "    if(list instanceof List<Integer>) { // Error\n",
    "        // ...\n",
    "    }\n",
    "}"
   ]
  },
  {
   "cell_type": "markdown",
   "metadata": {},
   "source": [
    "Or cast to parameterised type"
   ]
  },
  {
   "cell_type": "code",
   "execution_count": null,
   "metadata": {},
   "outputs": [],
   "source": [
    "List<Integer> intList = new ArrayList<>();\n",
    "List<String> strList = (List<String>) intList; // error\n",
    "\n",
    "ArrayList<Integer> anotherIntList = (ArrayList<Integer>) intList; // this is fine"
   ]
  },
  {
   "cell_type": "markdown",
   "metadata": {},
   "source": [
    "Generic array creation is not allowed"
   ]
  },
  {
   "cell_type": "code",
   "execution_count": null,
   "metadata": {},
   "outputs": [],
   "source": [
    "T[] array = new T[5]; // error\n",
    "List<E>[] s = new List<E>[2]; // error\n",
    "List<String>[] s = new List<String>[2]; // error"
   ]
  },
  {
   "cell_type": "markdown",
   "metadata": {},
   "source": [
    "Cannot catch exception of parameterised type:"
   ]
  },
  {
   "cell_type": "code",
   "execution_count": null,
   "metadata": {},
   "outputs": [],
   "source": [
    "try {\n",
    "    // ...\n",
    "} catch (T e) { // Assuming we had <T extends Exception> type definition somewhere above\n",
    "    // ...\n",
    "}"
   ]
  }
 ],
 "metadata": {
  "kernelspec": {
   "display_name": "Java",
   "language": "java",
   "name": "java"
  },
  "language_info": {
   "codemirror_mode": "java",
   "file_extension": ".jshell",
   "mimetype": "text/x-java-source",
   "name": "Java",
   "pygments_lexer": "java",
   "version": "21.0.2+13-58"
  }
 },
 "nbformat": 4,
 "nbformat_minor": 4
}
