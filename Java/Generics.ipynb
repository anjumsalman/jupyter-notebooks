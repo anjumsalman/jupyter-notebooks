{
 "cells": [
  {
   "cell_type": "markdown",
   "metadata": {},
   "source": [
    "### Generics\n",
    "Generics enables Type to be parameters. In doing so it provides the following benefits:\n",
    "- Code re-use"
   ]
  },
  {
   "cell_type": "code",
   "execution_count": null,
   "metadata": {},
   "outputs": [],
   "source": [
    "public int add(int a, int b){\n",
    "    return a + b;\n",
    "}\n",
    "\n",
    "public float add(float a, float b){\n",
    "    return a + b;\n",
    "}"
   ]
  },
  {
   "cell_type": "markdown",
   "metadata": {},
   "source": [
    "    Can be written as:"
   ]
  },
  {
   "cell_type": "code",
   "execution_count": null,
   "metadata": {},
   "outputs": [],
   "source": [
    "public T add(T a, T b){ // But we would need to limit\n",
    "    return a + b;       // types T can be\n",
    "}"
   ]
  },
  {
   "cell_type": "markdown",
   "metadata": {},
   "source": [
    "- Elimination of casts"
   ]
  },
  {
   "cell_type": "code",
   "execution_count": null,
   "metadata": {},
   "outputs": [],
   "source": [
    "List oldList = new ArrayList();\n",
    "oldList.add(\"some text\");\n",
    "String str = (String) oldList.get(0);\n",
    "\n",
    "// Can be written as\n",
    "List<String> newList = new ArrayList<>();\n",
    "newList.add(\"some text\");\n",
    "String str = newList.get(0);"
   ]
  },
  {
   "cell_type": "markdown",
   "metadata": {},
   "source": [
    "    This introduces type safety, saving us from class cast exceptions."
   ]
  },
  {
   "cell_type": "markdown",
   "metadata": {},
   "source": [
    "### Generic Class\n",
    "We define a generic class by specifying a type parameter inside <>. The type parameter need not be single letter, it can be a full word."
   ]
  },
  {
   "cell_type": "code",
   "execution_count": null,
   "metadata": {},
   "outputs": [],
   "source": [
    "class Box<T> { // Specifying T here means this type parameter is now available\n",
    "               // throughout the class\n",
    "    private T t;\n",
    "\n",
    "    public Box(T t){\n",
    "        this.t = t;\n",
    "    }\n",
    "\n",
    "    public T get() {\n",
    "        return t;\n",
    "    }\n",
    "\n",
    "    public void set(T t) {\n",
    "        this.t = t;\n",
    "    }\n",
    "}\n",
    "\n",
    "Box<Number> numBox = new Box<>(5); // Type inference"
   ]
  },
  {
   "cell_type": "markdown",
   "metadata": {},
   "source": [
    "Multiple type parameters can also be specified "
   ]
  },
  {
   "cell_type": "code",
   "execution_count": null,
   "metadata": {},
   "outputs": [],
   "source": [
    "class Pair<K, V> { // Different type parameters are just separated by a comma\n",
    "    private K key;\n",
    "    private V value;\n",
    "\n",
    "    public void set(K key, V value) {\n",
    "        this.key = key;\n",
    "        this.value = value;\n",
    "    }\n",
    "\n",
    "    public V getValue() {\n",
    "        return this.value;\n",
    "    }\n",
    "\n",
    "    public V getKey() {\n",
    "        return this.value;\n",
    "    }\n",
    "}"
   ]
  },
  {
   "cell_type": "markdown",
   "metadata": {},
   "source": [
    "We can also have a generic method inside a non-generic class"
   ]
  },
  {
   "cell_type": "code",
   "execution_count": null,
   "metadata": {},
   "outputs": [],
   "source": [
    "class Util {\n",
    "    // Notice <T>, we have to define type parameter first\n",
    "    // since class is non-generic\n",
    "    public static <T> void fromArrayToCollection(T[] a, Collection<T> c) { // Type parameter T is limited\n",
    "                                                                           // to this method\n",
    "        for (T o : a) {\n",
    "            c.add(o);\n",
    "        }\n",
    "    }\n",
    "}"
   ]
  },
  {
   "cell_type": "markdown",
   "metadata": {},
   "source": [
    "**Raw type:** is the name of a generic class or interface without any type arguments. For example:"
   ]
  },
  {
   "cell_type": "code",
   "execution_count": null,
   "metadata": {},
   "outputs": [],
   "source": [
    "Box rawBox = new Box();\n",
    "\n",
    "// If we assign a raw type to a parameterized type, you get a warning\n",
    "Box<String> stringBox = new Box(\"Hello\");\n",
    "\n",
    "// Since the reference is generic, we can only call\n",
    "stringBox.set(\"Another value\");\n",
    "stringBox.set(55);    // Error"
   ]
  },
  {
   "cell_type": "markdown",
   "metadata": {},
   "source": [
    "**Bounded Type Parameter:** lets us restrict the types that can be used as type arguments."
   ]
  },
  {
   "cell_type": "code",
   "execution_count": null,
   "metadata": {},
   "outputs": [],
   "source": [
    "class Complex <T extends Number> {\n",
    "    public T real;\n",
    "    public T imaginary;\n",
    "}"
   ]
  },
  {
   "cell_type": "code",
   "execution_count": null,
   "metadata": {},
   "outputs": [],
   "source": [
    "// Multiple bounds, useful if T implements multiple interfaces\n",
    "class AnimalCollection <T extends Vertebrate & Warmblooded> {\n",
    "    // ...\n",
    "}\n",
    "\n",
    "class Mammal extends Vertebrate implements Warmblooded { // Mammal can be used as Type argument\n",
    "    // ...\n",
    "}\n",
    "\n",
    "class Reptile extends Vertebrate{ // Reptiles can't be used as Type argument\n",
    "    // ...\n",
    "}"
   ]
  },
  {
   "cell_type": "markdown",
   "metadata": {},
   "source": [
    "### Generics And Inheritance\n",
    "Regarding inheritance and generic type we should note that (using above example) `Box<Integer>` is not subtype of `Box<Number>` even though `Integer` is subtype of `Number`. So:"
   ]
  },
  {
   "cell_type": "code",
   "execution_count": null,
   "metadata": {},
   "outputs": [],
   "source": [
    "public void compute(Box<Number> input){\n",
    "    // ...\n",
    "}\n",
    "\n",
    "// Below method call is invalid\n",
    "compute(new Box<Integer>()); // Error\n",
    "\n",
    "// Passing a raw type is legal, but we get warning\n",
    "compute(new Box());"
   ]
  },
  {
   "cell_type": "markdown",
   "metadata": {},
   "source": [
    "If we want to extend a generic class, the child class must include the type specified by the parent class."
   ]
  },
  {
   "cell_type": "code",
   "execution_count": null,
   "metadata": {},
   "outputs": [],
   "source": [
    "// Valid\n",
    "class SpecialList<T> extends ArrayList<T> {\n",
    "\n",
    "}\n",
    "\n",
    "// Valid, child class introducing its own parameter\n",
    "class SpecialList<T, U> extends ArrayList<T> {\n",
    "\n",
    "}\n",
    "\n",
    "// Valid, generic class can extend non-generic class\n",
    "class SpecialList<T> extends ArrayList {\n",
    "\n",
    "}\n",
    "\n",
    "// Error, child class must have all type parameters\n",
    "// of the parent class\n",
    "class SpecialList<T> extends ArrayList<U> {\n",
    "\n",
    "}\n",
    "\n",
    "// Error, child class should also have the interface's type\n",
    "// parameter. Type parameters of child class should be union \n",
    "// of type parameters of generic class and generic interface\n",
    "class SpecialList<T> extends ArrayList<T> implements Comparable<U>{\n",
    "    \n",
    "}\n",
    "\n",
    "// Error, non-generic class can’t extend generic class\n",
    "class SpecialList extends ArrayList<T>{\n",
    "    \n",
    "}\n",
    "\n",
    "// But this is fine, since we are using a pre-defined class\n",
    "class SpecialStringList extends ArrayList<String>{\n",
    "    \n",
    "}\n",
    "\n",
    "// String is a type parameter, not String class\n",
    "class SpecialStringList<String> extends ArrayList<String>{\n",
    "    \n",
    "}\n",
    "SpecialStringList<Integer> integerList = new SpecialStringList<>();"
   ]
  },
  {
   "cell_type": "markdown",
   "metadata": {},
   "source": [
    "When we extend a generic class with bounded type parameter, type parameter must be replaced by either upper bound or it’s sub classes."
   ]
  },
  {
   "cell_type": "code",
   "execution_count": null,
   "metadata": {},
   "outputs": [],
   "source": [
    "class Parent<T extends Number> {\n",
    "\n",
    "}\n",
    "\n",
    "// T can be any type\n",
    "class Child<T> extends Parent<Integer> {\n",
    "\n",
    "}"
   ]
  },
  {
   "cell_type": "markdown",
   "metadata": {},
   "source": [
    "### Wildcards\n",
    "There may be times when we want to restrict the kinds of types that are allowed to be passed to a type parameter. For example, say you want to write a method that works on `List<Integer>`, `List<Double>`, and `List<Number>`. We use *upper bounded wildcard*:"
   ]
  },
  {
   "cell_type": "code",
   "execution_count": null,
   "metadata": {},
   "outputs": [],
   "source": [
    "public void process(List<? extends Number> src, List<? extends Number> dest) {\n",
    "    // src and destination can be List<Integer> and List<Double> respectively\n",
    "}"
   ]
  },
  {
   "cell_type": "markdown",
   "metadata": {},
   "source": [
    "Note that this is different from:"
   ]
  },
  {
   "cell_type": "code",
   "execution_count": null,
   "metadata": {},
   "outputs": [],
   "source": [
    "public <T extends Number> void process(List<T> src, List<T> dest) {\n",
    "    // src and destination both need to be the same type\n",
    "}"
   ]
  },
  {
   "cell_type": "markdown",
   "metadata": {},
   "source": [
    "But, the following code has the same functionality as the wildcard version"
   ]
  },
  {
   "cell_type": "code",
   "execution_count": null,
   "metadata": {},
   "outputs": [],
   "source": [
    "public <T extends Number, U extends Number> void process(List<T> src, List<U> dest) {\n",
    "    // src and destination can be List<Integer> and List<Double> respectively\n",
    "}"
   ]
  },
  {
   "cell_type": "markdown",
   "metadata": {},
   "source": [
    "The wildcard version however is more concise and readable. Another advantage comes with *lower bounded wildcard*."
   ]
  },
  {
   "cell_type": "code",
   "execution_count": null,
   "metadata": {},
   "outputs": [],
   "source": [
    "public void process(List<? super Number> src) {\n",
    "    // Type parameter of List must atleast be Number\n",
    "}"
   ]
  },
  {
   "cell_type": "markdown",
   "metadata": {},
   "source": [
    "There is a simple guideline when to use upper bounded wildcard and when to use lower bounded wildcard\n",
    "- parameter which acts as data source should use upper bound\n",
    "- parameter which acts as data consumer should use lower bound\n",
    "\n",
    "PECS : Producer Extends Consumer Super"
   ]
  },
  {
   "cell_type": "markdown",
   "metadata": {},
   "source": [
    "The class hierarchy is illustrated in the image below:  \n",
    "![Generic Suubtypes](https://docs.oracle.com/javase/tutorial/figures/java/generics-wildcardSubtyping.gif)"
   ]
  },
  {
   "cell_type": "code",
   "execution_count": null,
   "metadata": {},
   "outputs": [],
   "source": []
  }
 ],
 "metadata": {
  "kernelspec": {
   "display_name": "Java",
   "language": "java",
   "name": "java"
  },
  "language_info": {
   "codemirror_mode": "java",
   "file_extension": ".jshell",
   "mimetype": "text/x-java-source",
   "name": "Java",
   "pygments_lexer": "java",
   "version": "17.0.5+9-LTS-191"
  }
 },
 "nbformat": 4,
 "nbformat_minor": 4
}
