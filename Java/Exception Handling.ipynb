{
 "cells": [
  {
   "cell_type": "markdown",
   "metadata": {},
   "source": [
    "### Class Hierarchy\n",
    "Class `Throwable` is the parent class for all exceptions in Java. Only subclasses of Throwable can be stated after throw keyword or used as argument inside catch.\n",
    "\n",
    "```\n",
    "                Throwable\n",
    "                    |\n",
    "                +---+---+\n",
    "                |       |\n",
    "              Error  Exception\n",
    "                        |\n",
    "                        +--- Other Exceptions\n",
    "                        +--- RuntimeException\n",
    "```\n",
    "\n",
    "Errors are not meant to be caught."
   ]
  },
  {
   "cell_type": "markdown",
   "metadata": {},
   "source": [
    "### Checked Vs Unchecked Exception\n",
    "- **Unchecked**: subclasses of RuntimeException.\n",
    "- **Checked**: these exceptions are subject to catch or specify requirement. This means that the exception must be handled inside catch block or throws keyword must be used to specify that calling block should handle the exception."
   ]
  },
  {
   "cell_type": "markdown",
   "metadata": {},
   "source": [
    "### The finally Block\n",
    "The finally block is executed even if there is a return or throw statement in the try or catch blocks. After finally block control returns to try/catch block where return /throw statements were.\n",
    "\n",
    "```java\n",
    "class TryCatchFinally{\n",
    "    public int getSomeNumber(){\n",
    "        int number = 20;\n",
    "        \n",
    "        try{\n",
    "            System.out.println(\"In try\");\n",
    "            throw new Exception();\n",
    "        } catch(Exception e){\n",
    "            System.out.println(\"In catch\");\n",
    "            return number;\n",
    "        } finally{\n",
    "            System.out.println(\"In finally\");\n",
    "            number = 10;\n",
    "        }\n",
    "    }\n",
    "}\n",
    "```\n",
    "\n",
    "In the above example, the value returned by the catch block is still 20.\n",
    "\n",
    "```java\n",
    "class TryCatchFinally{\n",
    "    public int getSomeArray(){\n",
    "        int[] numbers = {1,2,3,4,5};\n",
    "        \n",
    "        try{\n",
    "            System.out.println(\"In try\");\n",
    "            throw new Exception();\n",
    "        } catch(Exception e){\n",
    "            System.out.println(\"In catch\");\n",
    "            return numbers;\n",
    "        } finally{\n",
    "            System.out.println(\"In finally\");\n",
    "            numbers[0] = 0;\n",
    "        }\n",
    "    }\n",
    "}\n",
    "```\n",
    "In the above example, the array returned is {0,2,3,4,5}.\n",
    "\n",
    "```java\n",
    "class TryCatchFinally{\n",
    "    public int getSomeNumber(){\n",
    "        int number = 20;\n",
    "        \n",
    "        try{\n",
    "            System.out.println(\"In try\");\n",
    "            throw new Exception();\n",
    "        } catch(Exception e){\n",
    "            System.out.println(\"In catch\");\n",
    "            return number;\n",
    "        } finally{\n",
    "            System.out.println(\"In finally\");\n",
    "            number = 5;\n",
    "            return number;\n",
    "        }\n",
    "    }\n",
    "}\n",
    "```\n",
    "In the above case, the number returned is 5."
   ]
  },
  {
   "cell_type": "markdown",
   "metadata": {},
   "source": [
    "### Catching Multiple Exceptions\n",
    "```java\n",
    "try{\n",
    "\n",
    "} catch(RuntimeException e){\n",
    "    e.printStackTrace();\n",
    "} \n",
    "/* catch(IOException e){  --> error to catch a checked exception not thrown anywhere\n",
    "    \n",
    "} */\n",
    "catch(Exception e){        // catching parent exception before child exception is error\n",
    "    e.printStackTrace();\n",
    "}\n",
    "```\n",
    "\n",
    "Catching multiple exceptions the Java 1.7+ way:\n",
    "```java\n",
    "try{\n",
    "    throw new IOException();\n",
    "} catch(IOException | IndexOutOfBoundsException e){\n",
    "    System.out.println(\"Exception caught\");\n",
    "} catch(Exception e){\n",
    "    System.out.println(\"Exception caught\");\n",
    "}\n",
    "```\n",
    "We cannot specify both child and parent exceptions inside same catch."
   ]
  },
  {
   "cell_type": "markdown",
   "metadata": {},
   "source": [
    "### Try With Resources\n",
    "Available after 1.7+. Only classes which implement `AutoCloseable` interface can be used as argument inside try(). `Closeable` is the older interface. AutoCloseable is the new one which is now Closeable interface's parent class. The close method is called as soon as control leaves try block which means it runs before catch or finally.\n",
    "\n",
    "```java\n",
    "try(InputStream in = new BufferedInputStream\n",
    "    \t\t\t(new FileInputStream(\n",
    "    \t\t\t\t\tnew File(\"log.txt\")))){\n",
    "    \t\t\n",
    "    \t} catch (FileNotFoundException e) {\n",
    "\t\t\te.printStackTrace();\n",
    "\t\t} catch (IOException e) {\n",
    "\t\t\te.printStackTrace();\n",
    "\t\t\n",
    "```"
   ]
  },
  {
   "cell_type": "markdown",
   "metadata": {},
   "source": [
    "### Custom Exceptions\n",
    "To create a custom checked exception, extend Exception class. To create a custom unchecked exception, extend RuntimeException."
   ]
  },
  {
   "cell_type": "markdown",
   "metadata": {},
   "source": [
    "### Misc\n",
    "- throwing exception inside close() ?\n",
    "- a method specifying `throws` need not actually throw that exception inside the method body."
   ]
  },
  {
   "cell_type": "code",
   "execution_count": null,
   "metadata": {},
   "outputs": [],
   "source": []
  }
 ],
 "metadata": {
  "kernelspec": {
   "display_name": "Java",
   "language": "java",
   "name": "java"
  },
  "language_info": {
   "codemirror_mode": "java",
   "file_extension": ".java",
   "mimetype": "text/x-java-source",
   "name": "Java",
   "pygments_lexer": "java",
   "version": "9+181"
  }
 },
 "nbformat": 4,
 "nbformat_minor": 2
}
