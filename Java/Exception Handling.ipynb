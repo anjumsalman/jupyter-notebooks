{
 "cells": [
  {
   "cell_type": "markdown",
   "metadata": {},
   "source": [
    "## Exceptions Class Hierarchy\n",
    "Class `Throwable` is the parent class for all exceptions in Java. Only subclasses of `Throwable` can be stated after `throw` keyword or used as argument inside `catch`.\n",
    "\n",
    "```\n",
    "                Throwable\n",
    "                    |\n",
    "                +---+---+\n",
    "                |       |\n",
    "              Error  Exception\n",
    "                        |\n",
    "                        +--- Other Exceptions\n",
    "                        +--- RuntimeException\n",
    "```\n",
    "\n",
    "Errors indicate serious problems that a reasonable application should not try to catch (though we can can catch it). Some of the common `Error` classes are:\n",
    "- `StackOverflowError`: thrown when there is a very deep recursive call\n",
    "- `OutOfMemoryError`: thrown when JVM cannot allocate an object due to lack of memory\n",
    "- `IOError`\n",
    "\n",
    "Errors are not subject to *catch or specify* requirement (discussed later)."
   ]
  },
  {
   "cell_type": "markdown",
   "metadata": {},
   "source": [
    "## Checked Vs Unchecked Exception\n",
    "- **Unchecked**: subclasses of `RuntimeException`. One case where it is common practice to throw a `RuntimeException` is when the user calls a method incorrectly.\n",
    "- **Checked**: these exceptions are subject to *catch or specify* requirement. This means that a code block that may throw checked exception must be handled inside `try catch` block or `throws` keyword must be specified on the wrapping method to indicate that the calling block should handle the exception.\n",
    "\n",
    "As an example, the constructor of `FileReader` is defined as `public FileReader(File file) throws FileNotFoundException`. This means any code block that calls the constructor must honor the *catch or specify* requirement:"
   ]
  },
  {
   "cell_type": "code",
   "execution_count": null,
   "metadata": {},
   "outputs": [],
   "source": [
    "// Catch\n",
    "public void readFile(File f) {\n",
    "    try {\n",
    "        Reader reader = new FileReader(f); // this code is inside a try block\n",
    "                                           // and the exception is caught in the catch block\n",
    "        // ...\n",
    "    } catch (FileNotFoundException e) {\n",
    "    \n",
    "    } // ...\n",
    "}\n",
    "\n",
    "// Or specify\n",
    "public void readFile2(File file) throws FileNotFoundException {\n",
    "    Reader reader = new FileReader(file);\n",
    "    \n",
    "    // ...\n",
    "}"
   ]
  },
  {
   "cell_type": "markdown",
   "metadata": {},
   "source": [
    "To summarise:\n",
    "- Unchecked exception is for things that the programmer did wrong. Example:\n",
    "    - Programmer walked off the end of an array\n",
    "    - Programmer did not check for nulls, etc\n",
    "- Checked exception is for things that are out of the programmer's control. Or more specifically out of programmer and API designer's control. Example:\n",
    "    - Disk fills up while writing to the file system\n",
    "    - File handle limit for the process has been reached and you cannot open any more files\n",
    "    - Received non JSON input when JSON input was expected\n",
    "\n",
    "More reading available [here](https://stackoverflow.com/questions/613954/the-case-against-checked-exceptions) and [here](http://literatejava.com/exceptions/checked-exceptions-javas-biggest-mistake/).  \n",
    "\n",
    "**Guideline:** if a client can reasonably be expected to recover from an exception, make it a checked exception. If a client cannot do anything to recover from the exception, make it an unchecked exception."
   ]
  },
  {
   "cell_type": "markdown",
   "metadata": {},
   "source": [
    "### Checked Exceptions and Lambda Expression\n",
    "Consider the code:"
   ]
  },
  {
   "cell_type": "code",
   "execution_count": null,
   "metadata": {},
   "outputs": [],
   "source": [
    "List<String> files = List.of(\"plaintext.txt\");\n",
    "char[] buffer = new char[1024];\n",
    "\n",
    "files.forEach(f -> {\n",
    "    new FileReader(f).read(buffer);\n",
    "});"
   ]
  },
  {
   "cell_type": "markdown",
   "metadata": {},
   "source": [
    "The expression `new FileReader` and `read` throw `FileNotFoundException` and `IOException` respectively. Therefore, it must be caught. Lets wrap the `forEach` expression in a *try-catch* block:"
   ]
  },
  {
   "cell_type": "code",
   "execution_count": null,
   "metadata": {},
   "outputs": [],
   "source": [
    "try {\n",
    "    files.forEach(f -> {\n",
    "        new FileReader(f).read(buffer);\n",
    "    });\n",
    "} catch (IOException e) {\n",
    "    e.printStackTrace();\n",
    "}"
   ]
  },
  {
   "cell_type": "markdown",
   "metadata": {},
   "source": [
    "The above modification doesn't work (nor does specifying that the enclosing method throws exception). We must catch the exception before it escapes the lambda:"
   ]
  },
  {
   "cell_type": "code",
   "execution_count": null,
   "metadata": {},
   "outputs": [],
   "source": [
    "files.forEach(f -> {\n",
    "    try {\n",
    "        new FileReader(f).read(buffer);\n",
    "    } catch (IOException e) {\n",
    "        e.printStackTrace();\n",
    "    }\n",
    "});"
   ]
  },
  {
   "cell_type": "markdown",
   "metadata": {},
   "source": [
    "Lambda expressions are supposed to be concise, smaller, and crisp, the above code is not. One way is to use a utility method and rethrow the checked exception as a `RuntimeException`:"
   ]
  },
  {
   "cell_type": "code",
   "execution_count": null,
   "metadata": {},
   "outputs": [],
   "source": [
    "List<String> files = List.of(\"plaintext.txt\");\n",
    "char[] buffer = new char[1024];\n",
    "\n",
    "files.stream().map(ThrowingFunction.unchecked(FileReader::new))\n",
    "        .forEach(ThrowingConsumer.unchecked(fR -> fR.read(buffer)));\n",
    "\n",
    "@FunctionalInterface\n",
    "interface ThrowingConsumer<T, E extends Throwable> {\n",
    "    void consume(T t) throws E;\n",
    "\n",
    "    static <T, E extends Throwable> Consumer<T> unchecked(ThrowingConsumer<T, E> consumer) {\n",
    "        return t -> {\n",
    "            try {\n",
    "                consumer.consume(t);\n",
    "            } catch (Throwable e) {\n",
    "                throw new RuntimeException(e);\n",
    "            }\n",
    "        };\n",
    "    }\n",
    "}\n",
    "\n",
    "@FunctionalInterface\n",
    "interface ThrowingFunction<T, R, E extends Throwable> {\n",
    "    R apply(T t) throws E;\n",
    "\n",
    "    static <T, R, E extends Throwable> Function<T, R> unchecked(ThrowingFunction<T, R, E> function) {\n",
    "        return t -> {\n",
    "            try {\n",
    "                return function.apply(t);\n",
    "            } catch (Throwable e) {\n",
    "                throw new RuntimeException(e);\n",
    "            }\n",
    "        };\n",
    "    }\n",
    "}"
   ]
  },
  {
   "cell_type": "markdown",
   "metadata": {},
   "source": [
    "**Sneaky Throws**"
   ]
  },
  {
   "cell_type": "markdown",
   "metadata": {},
   "source": [
    "## Try Catch Finally Blocks\n",
    "### The finally Block\n",
    "The `finally` block is executed even if there is a `return` or `throw` statement in the `try` or `catch` blocks. After `finally` block control returns to try/catch block where return/throw statements were. Note that the `finally` block may not execute if the JVM exits while the `try` or `catch` code is being executed. "
   ]
  },
  {
   "cell_type": "code",
   "execution_count": null,
   "metadata": {},
   "outputs": [],
   "source": [
    "class TryCatchFinally {\n",
    "    public int getSomeNumber() {\n",
    "        int number = 20;\n",
    "        \n",
    "        try {\n",
    "            System.out.println(\"In try\");\n",
    "            throw new Exception();\n",
    "        } catch(Exception e) {\n",
    "            System.out.println(\"In catch\");\n",
    "            return number;\n",
    "        } finally {\n",
    "            System.out.println(\"In finally\");\n",
    "            number = 10;\n",
    "        }\n",
    "    }\n",
    "}\n",
    "\n",
    "// In the above example, the value returned by the catch block is still 20. \n",
    "// This is because the return value is put on the stack before the call to finally."
   ]
  },
  {
   "cell_type": "code",
   "execution_count": null,
   "metadata": {},
   "outputs": [],
   "source": [
    "class TryCatchFinally{\n",
    "    public int[] getSomeArray(){\n",
    "        int[] numbers = {1,2,3,4,5};\n",
    "        \n",
    "        try{\n",
    "            System.out.println(\"In try\");\n",
    "            throw new Exception();\n",
    "        } catch(Exception e){\n",
    "            System.out.println(\"In catch\");\n",
    "            return numbers;\n",
    "        } finally{\n",
    "            System.out.println(\"In finally\");\n",
    "            numbers[0] = 0;\n",
    "        }\n",
    "    }\n",
    "}\n",
    "\n",
    "// In this example, the array returned is {0,2,3,4,5}"
   ]
  },
  {
   "cell_type": "code",
   "execution_count": null,
   "metadata": {},
   "outputs": [],
   "source": [
    "class TryCatchFinally{\n",
    "    public int getSomeNumber(){\n",
    "        int number = 20;\n",
    "        \n",
    "        try{\n",
    "            System.out.println(\"In try\");\n",
    "            throw new Exception();\n",
    "        } catch(Exception e){\n",
    "            System.out.println(\"In catch\");\n",
    "            return number;\n",
    "        } finally{\n",
    "            System.out.println(\"In finally\");\n",
    "            number = 5;\n",
    "            return number;\n",
    "        }\n",
    "    }\n",
    "}\n",
    "\n",
    "// In the above case, the number returned is 5.\n",
    "// Because the return value that is put on the stack in catch is updated by finally?"
   ]
  },
  {
   "cell_type": "code",
   "execution_count": null,
   "metadata": {},
   "outputs": [],
   "source": [
    "class TryCatchFinally{\n",
    "    public int number = 20;\n",
    "    \n",
    "    public int getSomeNumber(){\n",
    "        try{\n",
    "            System.out.println(\"In try\");\n",
    "            throw new Exception();\n",
    "        } catch(Exception e){\n",
    "            System.out.println(\"In catch\");\n",
    "            return number;\n",
    "        } finally{\n",
    "            System.out.println(\"In finally\");\n",
    "            number = 5;\n",
    "        }\n",
    "    }\n",
    "    \n",
    "    public static void main(String[] args) {\n",
    "        TryCatchFinally t = new TryCatchFinally();\n",
    "        System.out.println(t.getSomeNumber());  // Prints 20\n",
    "        System.out.println(t.number);  // Prints 5\n",
    "    }\n",
    "}"
   ]
  },
  {
   "cell_type": "markdown",
   "metadata": {},
   "source": [
    "### Catching Multiple Exceptions"
   ]
  },
  {
   "cell_type": "code",
   "execution_count": null,
   "metadata": {},
   "outputs": [],
   "source": [
    "try{\n",
    "\n",
    "} catch(RuntimeException e){\n",
    "    e.printStackTrace();\n",
    "} \n",
    "/* catch(IOException e){  --> error to catch a checked exception not thrown anywhere\n",
    "    \n",
    "} */\n",
    "catch(Exception e){        // catching parent exception before child exception is error\n",
    "    e.printStackTrace();\n",
    "}"
   ]
  },
  {
   "cell_type": "markdown",
   "metadata": {},
   "source": [
    "Catching multiple exceptions the Java 1.7+ way:"
   ]
  },
  {
   "cell_type": "code",
   "execution_count": null,
   "metadata": {},
   "outputs": [],
   "source": [
    "try{\n",
    "    throw new IOException();\n",
    "} catch(IOException | IndexOutOfBoundsException e){\n",
    "    System.out.println(\"Exception caught\");\n",
    "} catch(Exception e){\n",
    "    System.out.println(\"Exception caught\");\n",
    "}"
   ]
  },
  {
   "cell_type": "markdown",
   "metadata": {},
   "source": [
    "We cannot specify both child and parent exceptions inside same catch."
   ]
  },
  {
   "cell_type": "markdown",
   "metadata": {},
   "source": [
    "### Try With Resources\n",
    "Available after 1.7+. Only classes which implement `AutoCloseable` interface can be used as argument inside try(). `Closeable` is the older interface. `AutoCloseable` is the new one which is now `Closeable` interface's parent class. The close method is called as soon as control leaves `try` block which means it runs before `catch` or `finally`."
   ]
  },
  {
   "cell_type": "code",
   "execution_count": null,
   "metadata": {},
   "outputs": [],
   "source": [
    "try(InputStream in = \n",
    "        new BufferedInputStream( \n",
    "            new FileInputStream( \n",
    "                new File(\"log.txt\")))) {\n",
    "    // ...\n",
    "} catch (FileNotFoundException e) {\n",
    "    e.printStackTrace();    // in is not accessible here\n",
    "} catch (IOException e) {\n",
    "    e.printStackTrace();    // in is not accessible here either\n",
    "}"
   ]
  },
  {
   "cell_type": "markdown",
   "metadata": {},
   "source": [
    "To fix the problem of `in` variable not accessible inside the catch block, we can try the following:"
   ]
  },
  {
   "cell_type": "code",
   "execution_count": null,
   "metadata": {},
   "outputs": [],
   "source": [
    "InputStream in = null;\n",
    "try(in =        // this is an error, Java assumes variable in to be a type\n",
    "        new BufferedInputStream( \n",
    "            new FileInputStream( \n",
    "                new File(\"log.txt\")))) {\n",
    "    // ...\n",
    "} catch (FileNotFoundException e) {\n",
    "    e.printStackTrace();\n",
    "} catch (IOException e) {\n",
    "    e.printStackTrace();    \n",
    "}"
   ]
  },
  {
   "cell_type": "markdown",
   "metadata": {},
   "source": [
    "We can also specify multiple resources:"
   ]
  },
  {
   "cell_type": "code",
   "execution_count": null,
   "metadata": {},
   "outputs": [],
   "source": [
    "try ( \n",
    "    ZipFile zf = new ZipFile(zipFileName);\n",
    "    BufferedWriter writer = Files.newBufferedWriter(outputFilePath, charset)\n",
    ") {"
   ]
  },
  {
   "cell_type": "markdown",
   "metadata": {},
   "source": [
    "Java 9 introduced improvement to the *try-with-resources* clause:"
   ]
  },
  {
   "cell_type": "code",
   "execution_count": null,
   "metadata": {},
   "outputs": [],
   "source": [
    "InputStream in = \n",
    "        new BufferedInputStream( \n",
    "            new FileInputStream( \n",
    "                new File(\"log.txt\")));\n",
    "try(in) {\n",
    "    // ...\n",
    "} catch (FileNotFoundException e) {\n",
    "    e.printStackTrace();    // in is accessible here\n",
    "} catch (IOException e) {\n",
    "    e.printStackTrace();    // in is accessible here either\n",
    "}"
   ]
  },
  {
   "cell_type": "markdown",
   "metadata": {},
   "source": [
    "If multiple resources are opened, they will be closed in reverse order of declaration. There is a difference between normal *try-catch-finally* and *try-with-resources* in terms of which exception gets suppressed."
   ]
  },
  {
   "cell_type": "markdown",
   "metadata": {},
   "source": [
    "### Suppressed Exception\n",
    "Consider the code block below:"
   ]
  },
  {
   "cell_type": "code",
   "execution_count": null,
   "metadata": {},
   "outputs": [],
   "source": [
    "public static void finallySuppressesTry() throws Exception {\n",
    "    try {\n",
    "        throw new Exception(\"Exception thrown from try block\");\n",
    "    } finally {\n",
    "        throw new Exception(\"Exception thrown from finally block\");\n",
    "    }\n",
    "}\n",
    "\n",
    "public static void main(String[] args) {\n",
    "    try {\n",
    "        finallySuppressesTry();\n",
    "    } catch (Exception e) {\n",
    "        System.out.println(e.getMessage()); // Prints finally block exception message\n",
    "                                            // Original exception got lost\n",
    "    }\n",
    "}\n",
    "\n",
    "/* Error log would look something like (if not caught in main):\n",
    "Exception in thread \"main\" java.lang.Exception: Exception thrown from finally block\n",
    "    at exceptionHandling.SuppressedExceptionDemo.finallySuppressesTry(SuppressedExceptionDemo.java:8)\n",
    "    at exceptionHandling.SuppressedExceptionDemo.main(SuppressedExceptionDemo.java:15)\n",
    "*/"
   ]
  },
  {
   "cell_type": "markdown",
   "metadata": {},
   "source": [
    "`Throwable` class has facility to add any suppressed exception to an exception:"
   ]
  },
  {
   "cell_type": "code",
   "execution_count": null,
   "metadata": {},
   "outputs": [],
   "source": [
    "public static void addSuppressedException() throws Exception {\n",
    "    Throwable t = null;\n",
    "    try {\n",
    "        throw new Exception(\"Exception thrown from try block\");\n",
    "    } catch (Exception e) {\n",
    "       t = e;\n",
    "    } finally {\n",
    "        Exception thrown = new Exception(\"Exception thrown from finally block\");\n",
    "        thrown.addSuppressed(t);\n",
    "        throw thrown;\n",
    "    }\n",
    "}\n",
    "\n",
    "public static void main(String[] args) throws Exception {\n",
    "    try {\n",
    "        finallySuppressesTry();\n",
    "    } catch (Exception e) {\n",
    "        e.getSuppressed(); // to access suppressed exception\n",
    "    }\n",
    "}\n",
    "\n",
    "/* Error log would look something like (if not caught in main):\n",
    "Exception in thread \"main\" java.lang.Exception: Exception thrown from finally block\n",
    "    at exceptionHandling.SuppressedExceptionDemo.addSuppressedException(SuppressedExceptionDemo.java:19)\n",
    "    at exceptionHandling.SuppressedExceptionDemo.main(SuppressedExceptionDemo.java:37)\n",
    "    Suppressed: java.lang.Exception: Exception thrown from try block\n",
    "        at exceptionHandling.SuppressedExceptionDemo.addSuppressedException(SuppressedExceptionDemo.java:15)\n",
    "        ... 1 more\n",
    "*/"
   ]
  },
  {
   "cell_type": "markdown",
   "metadata": {},
   "source": [
    "In case of `try-with-resources`, exception can be thrown:\n",
    "- while instantiating the resource inside try-with statement. In this case try block will not be executed and exception thrown by try-with statement will be thrown.\n",
    "- if instantiation of resource is successful, and try block throws an exception and exception is also thrown while closing the resource, then the exception thrown while closing resource is suppressed by the exception thrown from try block. Java automatically adds the suppressed exception.\n",
    "- if we provide explicit finally block and exception is thrown from that block it will suppress all other exception. (This explicit finally block executes after resources are closed)"
   ]
  },
  {
   "cell_type": "code",
   "execution_count": null,
   "metadata": {},
   "outputs": [],
   "source": [
    "// No suppressed exceptions\n",
    "public static void tryWithStatementException() throws Exception {\n",
    "    try(InputStream in = new FileInputStream(\"abc\")) {\n",
    "        throw new Exception(\"Exception thrown from try block\");\n",
    "    }\n",
    "}\n",
    "\n",
    "public static void main(String[] args) throws Exception {\n",
    "    tryWithStatementException();\n",
    "}\n",
    "\n",
    "/* Error log \n",
    "Exception in thread \"main\" java.io.FileNotFoundException: abc (The system cannot find the file specified)\n",
    "    at java.base/java.io.FileInputStream.open0(Native Method)\n",
    "    at java.base/java.io.FileInputStream.open(FileInputStream.java:213)\n",
    "    at java.base/java.io.FileInputStream.<init>(FileInputStream.java:152)\n",
    "    at java.base/java.io.FileInputStream.<init>(FileInputStream.java:106)\n",
    "    at exceptionHandling.SuppressedExceptionDemo.tryWithStatementException(SuppressedExceptionDemo.java:37)\n",
    "    at exceptionHandling.SuppressedExceptionDemo.main(SuppressedExceptionDemo.java:45)\n",
    "*/"
   ]
  },
  {
   "cell_type": "code",
   "execution_count": null,
   "metadata": {},
   "outputs": [],
   "source": [
    "// Exception while closing resource\n",
    "public static void exceptionWhileClosingResource() throws Exception {\n",
    "    try(SomeResource resource = new SomeResource()) {\n",
    "        throw new Exception(\"Exception thrown from try block\");\n",
    "    }\n",
    "}\n",
    "\n",
    "public static void main(String[] args) throws Exception {\n",
    "    exceptionWhileClosingResource();\n",
    "}\n",
    "\n",
    "class SomeResource implements AutoCloseable {\n",
    "    @Override\n",
    "    public void close() throws Exception {\n",
    "        throw new Exception(\"Exception thrown while closing resource\");\n",
    "    }\n",
    "}\n",
    "\n",
    "/* Error log contains suppressed method. Java automatically added.\n",
    "Exception in thread \"main\" java.lang.Exception: Exception thrown from try block\n",
    "    at exceptionHandling.SuppressedExceptionDemo.exceptionWhileClosingResource(SuppressedExceptionDemo.java:44)\n",
    "    at exceptionHandling.SuppressedExceptionDemo.main(SuppressedExceptionDemo.java:51)\n",
    "    Suppressed: java.lang.Exception: Exception thrown while closing resource\n",
    "        at exceptionHandling.SomeResource.close(SuppressedExceptionDemo.java:58)\n",
    "        at exceptionHandling.SuppressedExceptionDemo.exceptionWhileClosingResource(SuppressedExceptionDemo.java:43)\n",
    "        ... 1 more\n",
    "*/"
   ]
  },
  {
   "cell_type": "code",
   "execution_count": null,
   "metadata": {},
   "outputs": [],
   "source": [
    "// Resource close related exception suppressed in finally\n",
    "public static void exceptionWhileClosingResourceSuppressed() throws Exception {\n",
    "    try(SomeResource resource = new SomeResource()) {\n",
    "        throw new Exception(\"Exception thrown from try block\");\n",
    "    } finally {\n",
    "        throw new Exception(\"Exception thrown from finally block\");\n",
    "    }\n",
    "}\n",
    "\n",
    "public static void main(String[] args) throws Exception {\n",
    "    exceptionWhileClosingResourceSuppressed();\n",
    "}\n",
    "\n",
    "/* Error log\n",
    "Exception in thread \"main\" java.lang.Exception: Exception thrown from finally block\n",
    "    at exceptionHandling.SuppressedExceptionDemo.exceptionWhileClosingResourceSuppressed(SuppressedExceptionDemo.java:52)\n",
    "    at exceptionHandling.SuppressedExceptionDemo.main(SuppressedExceptionDemo.java:59)\n",
    "*/"
   ]
  },
  {
   "cell_type": "markdown",
   "metadata": {},
   "source": [
    "## Custom Exceptions\n",
    "To create a custom checked exception, extend `Exception` class. To create a custom unchecked exception, extend `RuntimeException`. The `Exception` class contains the following helpful methods: \n",
    "\n",
    "**getMessage():** returns string value representation of what caused the exception to occur:"
   ]
  },
  {
   "cell_type": "code",
   "execution_count": 4,
   "metadata": {
    "tags": []
   },
   "outputs": [
    {
     "name": "stderr",
     "output_type": "stream",
     "text": [
      "/ by zero\n"
     ]
    }
   ],
   "source": [
    "try {\n",
    "    int i = 5 / 0;\n",
    "} catch (Exception e) {\n",
    "    System.err.println(e.getMessage());\n",
    "}"
   ]
  },
  {
   "cell_type": "markdown",
   "metadata": {},
   "source": [
    "**getStackTrace():** provides information about what methods were called in leading upto the exception:"
   ]
  },
  {
   "cell_type": "code",
   "execution_count": 5,
   "metadata": {
    "tags": []
   },
   "outputs": [
    {
     "name": "stderr",
     "output_type": "stream",
     "text": [
      "$JShell$16.java:16>> do_it$()\n",
      "DirectMethodHandleAccessor.java:103>> invoke()\n",
      "Method.java:580>> invoke()\n",
      "IJavaExecutionControl.java:95>> lambda$execute$1()\n",
      "FutureTask.java:317>> run()\n",
      "ThreadPoolExecutor.java:1144>> runWorker()\n",
      "ThreadPoolExecutor.java:642>> run()\n",
      "Thread.java:1583>> run()\n"
     ]
    }
   ],
   "source": [
    "try {\n",
    "    int i = 5 / 0;\n",
    "} catch (Exception e) {\n",
    "    StackTraceElement[] elements = e.getStackTrace();\n",
    "    for (StackTraceElement element : elements) {\n",
    "        System.err.println(element.getFileName()\n",
    "                + \":\" + element.getLineNumber()\n",
    "                + \">> \"\n",
    "                + element.getMethodName() + \"()\");\n",
    "    }\n",
    "}\n",
    "\n",
    "// Below is the stacktrace information in JShell"
   ]
  },
  {
   "cell_type": "markdown",
   "metadata": {},
   "source": [
    "**getCause():** sometimes we re-throw an exception in another more specific exception class like: "
   ]
  },
  {
   "cell_type": "code",
   "execution_count": 6,
   "metadata": {
    "tags": []
   },
   "outputs": [
    {
     "name": "stderr",
     "output_type": "stream",
     "text": [
      "An error occured\n"
     ]
    }
   ],
   "source": [
    "// Define the below four constructor variants\n",
    "class MyException extends Exception {\n",
    "    public MyException () {\n",
    "\n",
    "    }\n",
    "\n",
    "    public MyException (String message) {\n",
    "        super (message);\n",
    "    }\n",
    "\n",
    "    // This variant lets us define the cause of this exception\n",
    "    // This is the correct variant to use when we re-throw exception, it will retain stacktrace\n",
    "    public MyException (Throwable cause) {\n",
    "        super (cause);\n",
    "    }\n",
    "\n",
    "    // This variant lets us define the cause of this exception along with message\n",
    "    // This is the correct variant to use when we re-throw exception, it will retain stacktrace\n",
    "    public MyException (String message, Throwable cause) {\n",
    "        super (message, cause);\n",
    "    }\n",
    "}\n",
    "\n",
    "MyException e = new MyException(\"My Custom Exception\", new RuntimeException(\"An error occured\"));\n",
    "System.err.println(e.getCause().getMessage());"
   ]
  },
  {
   "cell_type": "markdown",
   "metadata": {},
   "source": [
    "This is also referred to as *chaining exceptions* and should be used in scenarios when the thrown exception was caused by another exception."
   ]
  },
  {
   "cell_type": "code",
   "execution_count": null,
   "metadata": {},
   "outputs": [],
   "source": [
    "try {\n",
    "    Response response = httpClient.get(URL);\n",
    "} catch (IOException e) {\n",
    "    throw new ConnectionException(\"Unable to connect to \" + URL, e);\n",
    "}\n",
    "\n",
    "/* Error log would look like:\n",
    "Exception in thread \"main\" com.example.ConnectionException: Unable to connect to https://google.com\n",
    "    ....\n",
    "    ....\n",
    "Caused by java.lang.IOException\n",
    "    ....\n",
    "*/"
   ]
  },
  {
   "cell_type": "markdown",
   "metadata": {},
   "source": [
    "**printStackTrace():** defined in `Throwable`, it roughly works like this:\n",
    "1. Print the message\n",
    "```java\n",
    "printStream.println(this);\n",
    "```\n",
    "2. Print the `StackElement`s\n",
    "```java\n",
    "for (StackTraceElement traceElement : trace)\n",
    "    printStream.println(\"\\tat \" + traceElement);\n",
    "```\n",
    "3. Print suppressed exceptions\n",
    "```java\n",
    "for (Throwable se : getSuppressed())\n",
    "    se.printStackTrace();\n",
    "```\n",
    "4. Print cause\n",
    "```java\n",
    "Throwable cause = getCause();\n",
    "cause.printStackTrace();\n",
    "```"
   ]
  },
  {
   "cell_type": "markdown",
   "metadata": {},
   "source": [
    "## Assertions\n",
    "Assertions are generally used during development. All assertions are ignored if the program is launched normally. In order to consider assertions we need to pass `-ea` VM arguments.  \n",
    "\n",
    "The `assert` keyword is used to define assertions"
   ]
  },
  {
   "cell_type": "code",
   "execution_count": null,
   "metadata": {},
   "outputs": [],
   "source": [
    "public getCount(int c){\n",
    "    assert (c >= 0);\n",
    "    // ...\n",
    "}"
   ]
  },
  {
   "cell_type": "markdown",
   "metadata": {},
   "source": [
    "In order to describe the assertion we can pass a string (or any object)"
   ]
  },
  {
   "cell_type": "code",
   "execution_count": null,
   "metadata": {},
   "outputs": [],
   "source": [
    "public getCount(int c){\n",
    "    assert (c >= 0): \"Count must be greater than or equal to zero\";\n",
    "    // ...\n",
    "}"
   ]
  }
 ],
 "metadata": {
  "kernelspec": {
   "display_name": "Java",
   "language": "java",
   "name": "java"
  },
  "language_info": {
   "codemirror_mode": "java",
   "file_extension": ".jshell",
   "mimetype": "text/x-java-source",
   "name": "Java",
   "pygments_lexer": "java",
   "version": "21.0.2+13-58"
  }
 },
 "nbformat": 4,
 "nbformat_minor": 4
}
