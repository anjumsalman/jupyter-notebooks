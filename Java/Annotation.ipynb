{
 "cells": [
  {
   "cell_type": "markdown",
   "metadata": {},
   "source": [
    "## Annotation\n",
    "Annotations in Java serve multiple purposes:\n",
    "- used by compiler to detect errors / suppress warnings\n",
    "- used by software tools during compilation to generate code, etc.For example Lombok\n",
    "- used during runtime"
   ]
  },
  {
   "cell_type": "markdown",
   "metadata": {},
   "source": [
    "## Creating annotations\n",
    "To create annotation:"
   ]
  },
  {
   "cell_type": "code",
   "execution_count": 1,
   "metadata": {},
   "outputs": [],
   "source": [
    "public @interface Information{\n",
    "    // String value();\n",
    "    String author();\n",
    "    String date();\n",
    "    \n",
    "    // optional annotation metadata\n",
    "    int minVersion() default 1;\n",
    "    String[] reviewers() default {};\n",
    "}"
   ]
  },
  {
   "cell_type": "markdown",
   "metadata": {},
   "source": [
    "`Class`, `String`, enums, primitives and arrays are the allowed annotation parameter types. All the elements defined in an annotation are required to be passed while using the array. For example, in the above case writing `@Information(author=\"John Doe\")` is an error because the value of `date` is not provided.\n",
    "\n",
    "`value` is a special parameter. If it is the only parameter being used then we can just write `@SomeAnnotation(5)` instead of `@SomeAnnotation(value=5)`.\n",
    "\n",
    "### Annotations of Annotation\n",
    "`@Documented` annotation can be used to indicate that Javadocs for the class, etc should contain this annotation.\n",
    "\n",
    "What the annotation can be used with can be specified using `@Target` annotation. Possible values:\n",
    "- `ElementType.TYPE` : Class, Interface or Enum\n",
    "- `ElementType.FIELD`\n",
    "- `ElementType.METHOD`\n",
    "- `ElementType.PARAMETER` : Method parameter\n",
    "- `ElementType.CONSTRUCTOR`\n",
    "- `ElementType.LOCAL_VARIABLE`\n",
    "- `ElementType.ANNOTATION_TYPE` : Another annotation\n",
    "- `ElementType.PACKAGE`\n",
    "\n",
    "For the above Information annotation example, we specify the following target:"
   ]
  },
  {
   "cell_type": "code",
   "execution_count": null,
   "metadata": {},
   "outputs": [],
   "source": [
    "@Target(value = {ElementType.TYPE, ElementType.ANNOTATION_TYPE})\n",
    "public @interface Information {\n",
    "    // ...\n",
    "}"
   ]
  },
  {
   "cell_type": "markdown",
   "metadata": {},
   "source": [
    "How long the annotation should be kept is determined by `@Retention` annotation. Possible values are:\n",
    "- `RetentionPolicy.SOURCE` : Discard during the compile. These annotations don't make any sense after the compile has completed, so they aren't written to the bytecode. Example: `@Override`, `@SuppressWarnings`\n",
    "- `RetentionPolicy.CLASS` : Discard during class load. Useful when doing bytecode-level post-processing. Somewhat surprisingly, this is the default.\n",
    "- `RetentionPolicy.RUNTIME` : Do not discard. The annotation should be available for reflection at runtime. Example: `@Deprecated`\n",
    "\n",
    "`@Inherited` annotation indicates that the annotation type can be inherited from the super class. When the user queries the annotation type and the class has no annotation for this type, the class' superclass is queried for the annotation type. This annotation applies only to class declarations.\n",
    "\n",
    "`@Repeatable` annotation, introduced in Java SE 8, indicates that the marked annotation can be applied more than once to the same declaration or type use. "
   ]
  },
  {
   "cell_type": "markdown",
   "metadata": {},
   "source": [
    "### Advanced Usage\n",
    "Before the Java SE 8 release, annotations could only be applied to declarations. From Java 8 onwards, the place where Annotations can be used have been expanded. The enum `ElementType` now also has the following additional instances:\n",
    "- `ElementType.TYPE_PARAMETER` : Since Java 8. Indicates that the annotation can be written on the declaration of a type variable\n",
    "- `ElementType.TYPE_USE` : Since Java 8. Indicates that the annotation can be written on the use of a type (e.g., types appearing in declarations, generics, and casts)\n",
    "- `ElementType.MODULE`: since Java 9\n",
    "- `ElementType.RECORD_COMPONENT`: since Java 16\n",
    "\n",
    "Some examples:"
   ]
  },
  {
   "cell_type": "code",
   "execution_count": null,
   "metadata": {},
   "outputs": [],
   "source": [
    "List<@NonNull String> strings;\n",
    "graph = (@Immutable Graph) graph;"
   ]
  },
  {
   "cell_type": "markdown",
   "metadata": {},
   "source": [
    "## Annotation and Reflection\n",
    "Annotations with retention policy as runtime can be extracted and its properties read at runtime. For example, if we change the retention policy of Information annotation to runtime,"
   ]
  },
  {
   "cell_type": "code",
   "execution_count": null,
   "metadata": {},
   "outputs": [],
   "source": [
    "public class AnnotationDemo {\n",
    "    public static void main(String[] args) {\n",
    "        // Get all annotations directly applieed to the given element\n",
    "        Annotation[] annotations = Demo.class.getDeclaredAnnotations();\n",
    "        for (Annotation annotation : annotations) {\n",
    "            if (annotation instanceof Information) {\n",
    "                System.out.println(\"Author: \" + ((Information) annotation).author());\n",
    "                System.out.println(\"Date: \" + ((Information) annotation).date());\n",
    "            }\n",
    "        }\n",
    "    }\n",
    "}\n",
    "\n",
    "@Information(author = \"John Doe\", date = \"12-12-2020\")\n",
    "class Demo {}"
   ]
  },
  {
   "cell_type": "markdown",
   "metadata": {},
   "source": [
    "The above code can be shortened to:"
   ]
  },
  {
   "cell_type": "code",
   "execution_count": null,
   "metadata": {},
   "outputs": [],
   "source": [
    "public static void main(String[] args) {\n",
    "    if(Demo.class.isAnnotationPresent(Information.class)){\n",
    "        Information info = Demo.class.getAnnotation(Information.class);\n",
    "        System.out.println(\"Author: \" + info.author());\n",
    "        System.out.println(\"Date: \" + info.date());\n",
    "    }\n",
    "}"
   ]
  }
 ],
 "metadata": {
  "kernelspec": {
   "display_name": "Java",
   "language": "java",
   "name": "java"
  },
  "language_info": {
   "codemirror_mode": "java",
   "file_extension": ".jshell",
   "mimetype": "text/x-java-source",
   "name": "Java",
   "pygments_lexer": "java",
   "version": "21.0.1+12-29"
  }
 },
 "nbformat": 4,
 "nbformat_minor": 4
}
