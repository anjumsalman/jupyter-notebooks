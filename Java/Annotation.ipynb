{
 "cells": [
  {
   "cell_type": "markdown",
   "metadata": {},
   "source": [
    "### Annotation\n",
    "Annotations in Java serve multiple purposes. They can be used to provide extra information or for compile-time/runtime processing."
   ]
  },
  {
   "cell_type": "markdown",
   "metadata": {},
   "source": [
    "### Creating annotations\n",
    "To create annotation:"
   ]
  },
  {
   "cell_type": "code",
   "execution_count": 1,
   "metadata": {},
   "outputs": [],
   "source": [
    "public @interface Information{\n",
    "    // String value();\n",
    "    String author();\n",
    "    String date();\n",
    "    \n",
    "    // optional annotation metadata\n",
    "    int minVersion() default 1;\n",
    "    String[] reviewers() default {};\n",
    "}"
   ]
  },
  {
   "cell_type": "markdown",
   "metadata": {},
   "source": [
    "`Class`, `String`, enums, primitives and arrays are the allowed annotation parameter types. `value` is a special parameter. When annotation is used as `@Information(\"Some value\")` the argument is passed to value. In the above example, we don't use value, thereby force the programmer to pass author and date. \n",
    "\n",
    "### Annotations of Annotation\n",
    "`@Documented` annotation can be used to indicate that Javadocs for the class, etc should contain this annotation.\n",
    "\n",
    "What the annotation can be used with can be specified using `@Target` annotation. Possible values:\n",
    "- `ElementType.TYPE` : Class, Interface or Enum\n",
    "- `ElementType.FIELD`\n",
    "- `ElementType.METHOD`\n",
    "- `ElementType.PARAMETER` : Method parameter\n",
    "- `ElementType.CONSTRUCTOR`\n",
    "- `ElementType.LOCAL_VARIABLE`\n",
    "- `ElementType.ANNOTATION_TYPE` : Another annotation\n",
    "- `ElementType.PACKAGE`\n",
    "\n",
    "For the above Information annotation example, we specify the following target:"
   ]
  },
  {
   "cell_type": "code",
   "execution_count": null,
   "metadata": {},
   "outputs": [],
   "source": [
    "@Target(value = {ElementType.TYPE, ElementType.ANNOTATION_TYPE})\n",
    "public @interface Information {\n",
    "    // ...\n",
    "}"
   ]
  },
  {
   "cell_type": "markdown",
   "metadata": {},
   "source": [
    "How long the annotation should be kept is determined by `@Retention` annotation. Possible values are:\n",
    "- `RetentionPolicy.SOURCE` : Discard during the compile. These annotations don't make any sense after the compile has completed, so they aren't written to the bytecode. Example: `@Override`, `@SuppressWarnings`\n",
    "- `RetentionPolicy.CLASS` : Discard during class load. Useful when doing bytecode-level post-processing. Somewhat surprisingly, this is the default.\n",
    "- `RetentionPolicy.RUNTIME` : Do not discard. The annotation should be available for reflection at runtime. Example: `@Deprecated`"
   ]
  },
  {
   "cell_type": "markdown",
   "metadata": {},
   "source": [
    "### Annotation and Reflection\n",
    "Annotations with retention policy as runtime can be extracted and its properties read at runtime. For example, if we change the retention policy of Information annotation to runtime,"
   ]
  },
  {
   "cell_type": "code",
   "execution_count": null,
   "metadata": {},
   "outputs": [],
   "source": [
    "public class AnnotationDemo {\n",
    "    public static void main(String[] args) {\n",
    "        // Get all annotations directly applieed to the given element\n",
    "        Annotation[] annotations = Demo.class.getDeclaredAnnotations();\n",
    "        for (Annotation annotation : annotations) {\n",
    "            if (annotation instanceof Information) {\n",
    "                System.out.println(\"Author: \" + ((Information) annotation).author());\n",
    "                System.out.println(\"Date: \" + ((Information) annotation).date());\n",
    "            }\n",
    "        }\n",
    "    }\n",
    "}\n",
    "\n",
    "@Information(author = \"John Doe\", date = \"12-12-2020\")\n",
    "class Demo {}"
   ]
  },
  {
   "cell_type": "markdown",
   "metadata": {},
   "source": [
    "The above code can be shortened to:"
   ]
  },
  {
   "cell_type": "code",
   "execution_count": null,
   "metadata": {},
   "outputs": [],
   "source": [
    "public static void main(String[] args) {\n",
    "    if(Demo.class.isAnnotationPresent(Information.class)){\n",
    "        Information info = Demo.class.getAnnotation(Information.class);\n",
    "        System.out.println(\"Author: \" + info.author());\n",
    "        System.out.println(\"Date: \" + info.date());\n",
    "    }\n",
    "}"
   ]
  }
 ],
 "metadata": {
  "kernelspec": {
   "display_name": "Java",
   "language": "java",
   "name": "java"
  },
  "language_info": {
   "codemirror_mode": "java",
   "file_extension": ".jshell",
   "mimetype": "text/x-java-source",
   "name": "Java",
   "pygments_lexer": "java",
   "version": "13+33"
  }
 },
 "nbformat": 4,
 "nbformat_minor": 4
}
