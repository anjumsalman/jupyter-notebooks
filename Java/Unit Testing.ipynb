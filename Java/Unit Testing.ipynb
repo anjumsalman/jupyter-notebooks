{
 "cells": [
  {
   "cell_type": "markdown",
   "metadata": {},
   "source": [
    "## JUnit\n",
    "JUnit is the defacto Java unit testing framework. The latest version is 5, however here JUnit 4 is discussed as it is more widely used.  Before actually using JUnit, let us write our own testing logic. We'll be testing the below Calculator class:"
   ]
  },
  {
   "cell_type": "code",
   "execution_count": null,
   "metadata": {},
   "outputs": [],
   "source": [
    "class Calculator {\n",
    "    public int add(int x, int y){\n",
    "        return x + y;\n",
    "    }\n",
    "    \n",
    "    public int subtract(int x, int y){\n",
    "        return x - y;\n",
    "    }\n",
    "}"
   ]
  },
  {
   "cell_type": "markdown",
   "metadata": {},
   "source": [
    "To test the functionality, we can write the following:"
   ]
  },
  {
   "cell_type": "code",
   "execution_count": null,
   "metadata": {},
   "outputs": [],
   "source": [
    "class CalculatorTest {\n",
    "    public static void main(String... args){\n",
    "        Calculator calc = new Calculator();\n",
    "        \n",
    "        int result = calc.add(5, 6);\n",
    "        int expected = 11;\n",
    "        \n",
    "        if(result != expected){\n",
    "            System.out.println(\"Unexpected result \" + result);\n",
    "        }\n",
    "    }\n",
    "}"
   ]
  },
  {
   "cell_type": "markdown",
   "metadata": {},
   "source": [
    "It would be better if we use exception to denote test failure. Meanwhile it would be better if we modularise our code, such that testing other aspects of calculator becomes a bit easier."
   ]
  },
  {
   "cell_type": "code",
   "execution_count": null,
   "metadata": {},
   "outputs": [],
   "source": [
    "class CalculatorTest {\n",
    "    public int errorCount = 0;\n",
    "    \n",
    "    public void testAdd(){\n",
    "        Calculator calc = new Calculator();\n",
    "        \n",
    "        int result = calc.add(5, 6);\n",
    "        int expected = 11;\n",
    "        \n",
    "        if(result != expected){\n",
    "            throw new IllegalStateException(\"Unexpected result \" + result);\n",
    "        }\n",
    "    }\n",
    "    \n",
    "    public static void main(String... args){\n",
    "        CalculatorTest cTest = new CalculatorTest();\n",
    "        \n",
    "        try {\n",
    "            cTest.testAdd();\n",
    "        } catch (Exception e){\n",
    "            cTest.errorCount++;\n",
    "            e.printStackTrace();\n",
    "        }\n",
    "        \n",
    "        if(cTest.errorCount > 0){\n",
    "            throw new IllegalStateException(\"There were \" + cTest.errorCount + \" errors\");\n",
    "        }\n",
    "    }\n",
    "}"
   ]
  },
  {
   "cell_type": "markdown",
   "metadata": {},
   "source": [
    "Using a testing framework like JUnit removes some of the extra code that we have to write. We would just need to define test case, it is the responsibility of the framework to execute it and present the result. Given that, we need to familiarize with some of the associated terms:\n",
    "- **Test:** a method annotated with `@Test`\n",
    "- **Test class:** contains one or many tests\n",
    "- **Suite:** allows us to group test classes\n",
    "- **Runner:** class runs test.\n",
    "\n",
    "The equivalent JUnit test class is:"
   ]
  },
  {
   "cell_type": "code",
   "execution_count": null,
   "metadata": {},
   "outputs": [],
   "source": [
    "import static org.junit.Assert.assertEquals;\n",
    "\n",
    "import org.junit.Test;\n",
    "\n",
    "public class CalculatorTest {\n",
    "    \n",
    "    @Test\n",
    "    public void testAdd() {\n",
    "        Calculator calculator = new Calculator();\n",
    "        int result = calculator.add(5, 6);\n",
    "        int expected = 11;\n",
    "\n",
    "        assertEquals(\"Unexpected result\", result, expected);\n",
    "    }\n",
    "}"
   ]
  },
  {
   "cell_type": "markdown",
   "metadata": {},
   "source": [
    "There are a number of assertions available:"
   ]
  },
  {
   "cell_type": "code",
   "execution_count": null,
   "metadata": {},
   "outputs": [],
   "source": [
    "@Test\n",
    "public void testAssertions() {\n",
    "    // Uses equals\n",
    "    assertEquals(\"Hello\", new String(\"Hello\")); // Pass\n",
    "    assertEquals(\"Hello\", \"Hello\");             // Pass\n",
    "\n",
    "    // Uses ==\n",
    "    assertSame(\"Hello\", new String(\"Hello\"));   // Fail\n",
    "    assertSame(\"Hello\", \"Hello\");               // Pass\n",
    "\n",
    "    // Tests for content of arrays\n",
    "    assertArrayEquals(new char[] { 'A', 'B', 'C' }, \n",
    "                      \"ABC\".toCharArray());     // Pass\n",
    "    assertArrayEquals(new String[] { new String(\"H\"), \"E\", \"O\" }, \n",
    "                      new String[] { \"H\", \"E\", \"O\" }); // Pass\n",
    "    \n",
    "    // True false\n",
    "    assertTrue(5 == 5);    // Pass\n",
    "    assertFalse(6 > 5);    // Pass\n",
    "\n",
    "    assertNull(null);      // Pass\n",
    "}"
   ]
  },
  {
   "cell_type": "markdown",
   "metadata": {},
   "source": [
    "There are also a negations of above assertions available such as `assertNotNull` and `assertNotSame`  \n",
    "\n",
    "If some code needs to be repeated before and after every test execution, we can make use of `@Before` and `@After` annotations:"
   ]
  },
  {
   "cell_type": "code",
   "execution_count": null,
   "metadata": {},
   "outputs": [],
   "source": [
    "import org.junit.After;\n",
    "import org.junit.Before;\n",
    "import org.junit.Test;\n",
    "\n",
    "public class CalculatorTest {\n",
    "    private Calculator calculator;\n",
    "\n",
    "    @Before\n",
    "    public void initCalculator() {\n",
    "        calculator = new Calculator();\n",
    "    }\n",
    "\n",
    "    @After\n",
    "    public void destroyCalculator() {\n",
    "        calculator = null;\n",
    "    }\n",
    "\n",
    "    @Test\n",
    "    public void testAdd() {\n",
    "        int result = calculator.add(5, 6);\n",
    "        int expected = 11;\n",
    "\n",
    "        assertEquals(\"Unexpected result\", result, expected);\n",
    "    }\n",
    "\n",
    "    @Test\n",
    "    public void testSubtract() {\n",
    "        int result = calculator.subtract(5, 6);\n",
    "        int expected = -1;\n",
    "\n",
    "        assertEquals(\"Unexpected result\", result, expected);\n",
    "    }\n",
    "}"
   ]
  },
  {
   "cell_type": "markdown",
   "metadata": {},
   "source": [
    "There are also a `@BeforeClass` and `@AfterClass` annotations (applied to public static method). These methods run before and after all tests have completed.  \n",
    "\n",
    "To test for occurance of exception:"
   ]
  },
  {
   "cell_type": "code",
   "execution_count": null,
   "metadata": {},
   "outputs": [],
   "source": [
    "@Test(expected = ArithmeticException.class)\n",
    "public void testDivisionByZero() {\n",
    "    calculator.divide(5, 0);\n",
    "}"
   ]
  },
  {
   "cell_type": "markdown",
   "metadata": {},
   "source": [
    "To test for timeout:"
   ]
  },
  {
   "cell_type": "code",
   "execution_count": null,
   "metadata": {},
   "outputs": [],
   "source": [
    "@Test(timeout = 10)\n",
    "public void testTimeout() {\n",
    "    // Long running task\n",
    "}"
   ]
  },
  {
   "cell_type": "markdown",
   "metadata": {},
   "source": [
    "To exclude a test from execution:"
   ]
  },
  {
   "cell_type": "code",
   "execution_count": null,
   "metadata": {},
   "outputs": [],
   "source": [
    "@Test\n",
    "@Ignore\n",
    "public void someTestToBeSkipped(){\n",
    "    // Implementation\n",
    "}"
   ]
  },
  {
   "cell_type": "markdown",
   "metadata": {},
   "source": [
    "**Runner:** JUnit by default uses `BlockJUnit4ClassRunner` to run all tests. We can use `@RunWith` annotation to use a custom runner. The `Suite` runner helps grouping test classes together and running the test suite: "
   ]
  },
  {
   "cell_type": "code",
   "execution_count": null,
   "metadata": {},
   "outputs": [],
   "source": [
    "import org.junit.runner.RunWith;\n",
    "import org.junit.runners.Suite;\n",
    "import org.junit.runners.Suite.SuiteClasses;\n",
    "\n",
    "@RunWith(Suite.class)\n",
    "@SuiteClasses(value = { CalculatorTest.class, ConverterTest.class })\n",
    "public class MachineTestSuite {\n",
    "\n",
    "}"
   ]
  },
  {
   "cell_type": "markdown",
   "metadata": {},
   "source": [
    "There is another runner called as parameterised runner. It helps testing for multiple values in a single test."
   ]
  },
  {
   "cell_type": "code",
   "execution_count": null,
   "metadata": {},
   "outputs": [],
   "source": [
    "import org.junit.Test;\n",
    "import org.junit.runner.RunWith;\n",
    "import org.junit.runners.Parameterized;\n",
    "import org.junit.runners.Parameterized.Parameter;\n",
    "import org.junit.runners.Parameterized.Parameters;\n",
    "\n",
    "@RunWith(Parameterized.class)\n",
    "public class CalculatorTest {\n",
    "\n",
    "    @Parameter(1)\n",
    "    public int operand1;\n",
    "    @Parameter(2)\n",
    "    public int operand2;\n",
    "    @Parameter(0)\n",
    "    public int expected;\n",
    "\n",
    "    @Parameters(name=\"{index}: {1}+{2}={0}\")  // Name parameter helps identify the test case\n",
    "    public static Collection<Integer[]> data() {\n",
    "        return Arrays.asList(new Integer[][] { \n",
    "            { 0, 0, 0 }, { 0, 5, -5 }, { 10, 6, 4 }, { -6, -3, -3 } // All the test cases\n",
    "        });\n",
    "    }\n",
    "\n",
    "    @Test\n",
    "    public void testAdd() {\n",
    "        Calculator calculator = new Calculator();\n",
    "        \n",
    "        int result = calculator.add(operand1, operand2);\n",
    "        assertEquals(\"Unexpected result\", result, expected);\n",
    "    }\n",
    "}"
   ]
  },
  {
   "cell_type": "markdown",
   "metadata": {},
   "source": [
    "### Assertions\n",
    "JUnit comes with `Assert` class which contains several static assert methods such as `assertTrue`, `assertFalse`, `assertEquals`, `assertArrayEquals`, `assertSame`, etc. These methods throw `AssertionError` on failure. These methods also have an overloaded variants which accepts a message passed to the `AssertionError`.\n",
    "\n",
    "Another way to write assertions is using Hamcrest `assertThat` method in combination with Hamcrest matchers. JUnit itself has a `Assert.assertThat` method which is more or less same as Hamcrest one, but since JUnit 4.13, it has been deprecated. JUnit 4 comes bundled with Hamcrest core 1.3 library. However the latest version is 2.2, so some care must be taken before upgrade as explained here: (Hamcrest distribution)[http://hamcrest.org/JavaHamcrest/distributables] For example:"
   ]
  },
  {
   "cell_type": "code",
   "execution_count": null,
   "metadata": {},
   "outputs": [],
   "source": [
    "Assert.assertThat(\"hello\", equalToIgnoringCase(\"HELLO\"));"
   ]
  },
  {
   "cell_type": "markdown",
   "metadata": {},
   "source": [
    "Some other examples:"
   ]
  },
  {
   "cell_type": "code",
   "execution_count": null,
   "metadata": {},
   "outputs": [],
   "source": [
    " List<Integer> nums = new ArrayList<>();\n",
    "nums.add(5); nums.add(6);\n",
    "Assert.assertThat(nums, Matchers.hasSize(2));\n",
    "Assert.assertThat(nums, Matchers.contains(5, 6));\n",
    "\n",
    "String[] items = {\"a\", \"b\", \"c\"};\n",
    "Assert.assertThat(items, Matchers.arrayWithSize(3));\n",
    "Assert.assertThat(items, Matchers.arrayContaining(\"a\", \"b\", \"c\"));\n",
    "Assert.assertThat(items, Matchers.hasItemInArray(\"a\"));\n",
    "\n",
    "Assert.assertThat(1.2, Matchers.closeTo(1, 0.5));\n",
    "Assert.assertThat(\"\", Matchers.isEmptyOrNullString());"
   ]
  },
  {
   "cell_type": "markdown",
   "metadata": {},
   "source": [
    "We can improve readability using `is` method."
   ]
  },
  {
   "cell_type": "code",
   "execution_count": null,
   "metadata": {},
   "outputs": [],
   "source": [
    "assertThat(\" World\", is(equalToIgnoringWhiteSpace(\"World\")));"
   ]
  },
  {
   "cell_type": "markdown",
   "metadata": {},
   "source": [
    "To negate, use `not`"
   ]
  },
  {
   "cell_type": "code",
   "execution_count": null,
   "metadata": {},
   "outputs": [],
   "source": [
    "String str1 = \"calligraphy\";\n",
    "String str2 = \"call\";\n",
    "assertThat(str1, not(containsString(str2)));"
   ]
  },
  {
   "cell_type": "markdown",
   "metadata": {},
   "source": [
    "Logical OR equivalent:"
   ]
  },
  {
   "cell_type": "code",
   "execution_count": null,
   "metadata": {},
   "outputs": [],
   "source": [
    "String str = \"calligraphy\";\n",
    "String start = \"call\";\n",
    "String end = \"foo\";\n",
    "assertThat(str, anyOf(startsWith(start), containsString(end)));"
   ]
  },
  {
   "cell_type": "markdown",
   "metadata": {},
   "source": [
    "Logical AND equivalent:"
   ]
  },
  {
   "cell_type": "code",
   "execution_count": null,
   "metadata": {},
   "outputs": [],
   "source": [
    "String str = \"calligraphy\";\n",
    "String start = \"call\";\n",
    "String end = \"phy\";\n",
    "assertThat(str, allOf(startsWith(start), endsWith(end)));"
   ]
  },
  {
   "cell_type": "markdown",
   "metadata": {},
   "source": [
    "## Mockito\n",
    "Mockito mocks not only interfaces but also abstract classes and concrete non-final classes. Out of the box, Mockito cannot mock final classes and final or static methods, but if we really need it, Mockito 2 provides the experimental MockMaker plugin. Methods `equals()` and `hashCode()` cannot be mocked. As an example:"
   ]
  },
  {
   "cell_type": "code",
   "execution_count": null,
   "metadata": {},
   "outputs": [],
   "source": [
    "import static org.mockito.Mockito.mock;\n",
    "    \n",
    "    public class PrintService {\n",
    "        public String print(String message) throws InterruptedException {\n",
    "            Thread.currentThread().sleep(1000);\n",
    "            System.out.println(\"Message: \" + message);\n",
    "            return message;\n",
    "        }\n",
    "    }\n",
    "\n",
    "    PrintService printService = mock(PrintService.class);\n",
    "\n",
    "    @Test\n",
    "    public void testPrintMessage() throws InterruptedException {\n",
    "        String actual = printService.print(\"Hello World!\");\n",
    "        String expected = \"Hello World!\";\n",
    "\n",
    "        Assert.assertEquals(actual, expected); // This assertion will fail, actual is null\n",
    "    }"
   ]
  },
  {
   "cell_type": "markdown",
   "metadata": {},
   "source": [
    "By default, all methods of a mock return “uninitialized” or “empty” values, e.g., zeros for numeric types (both primitive and boxed), false for booleans, and nulls for most other types (including String). We want to configure the mock and define what to do when specific methods of the mock are called. This is called stubbing."
   ]
  },
  {
   "cell_type": "code",
   "execution_count": null,
   "metadata": {
    "tags": []
   },
   "outputs": [],
   "source": [
    "import static org.mockito.Mockito.when;\n",
    "\n",
    "@Test\n",
    "public void testPrintMessage() throws InterruptedException {\n",
    "    // defining what the method does when called\n",
    "    when(printService.print(\"Hello World!\")).thenReturn(\"Hello World!\");\n",
    "\n",
    "    String actual = printService.print(\"Hello World!\");\n",
    "    String expected = \"Hello World!\";\n",
    "\n",
    "    Assert.assertEquals(actual, expected);\n",
    "}"
   ]
  },
  {
   "cell_type": "markdown",
   "metadata": {},
   "source": [
    "Another way to express the same stubbing is using `doReturn` method:"
   ]
  },
  {
   "cell_type": "code",
   "execution_count": null,
   "metadata": {},
   "outputs": [],
   "source": [
    "doReturn(\"Hello World!\").when(printService).print(\"Hello World!\");"
   ]
  },
  {
   "cell_type": "markdown",
   "metadata": {},
   "source": [
    "We can also specify multiple values which will be returned as the results of consecutive method calls. The last value will be used as a result for all further method calls."
   ]
  },
  {
   "cell_type": "code",
   "execution_count": null,
   "metadata": {},
   "outputs": [],
   "source": [
    "when(printService.print(\"Hello World!\")).thenReturn(\"Hello World!\", \"Foo Bar\");\n",
    "// or\n",
    "doReturn(\"Hello World!\", \"Foo Bar\").when(printService).print(\"Hello World!\");\n",
    "// or\n",
    "when(printService.print(\"Hello World!\")).thenReturn(\"Hello World!\").thenReturn(\"Foo Bar\");"
   ]
  },
  {
   "cell_type": "markdown",
   "metadata": {},
   "source": [
    "To set up a custom answer to be returned when a method is called, we do:"
   ]
  },
  {
   "cell_type": "code",
   "execution_count": null,
   "metadata": {},
   "outputs": [],
   "source": [
    "when(printService.print(\"World!\")).thenAnswer(invocation -> \"Hello \" + invocation.getArgument(0));\n",
    "// or        \n",
    "doAnswer(invocation -> \"Hello \" + invocation.getArgument(0)).when(printService).print(\"World!\");"
   ]
  },
  {
   "cell_type": "markdown",
   "metadata": {},
   "source": [
    "This can be used to throw exceptions:"
   ]
  },
  {
   "cell_type": "code",
   "execution_count": null,
   "metadata": {},
   "outputs": [],
   "source": [
    "when(printService.print(null)).thenAnswer(invocation -> {throw new IllegalArgumentException();});\n",
    "// but prefer the below\n",
    "when(printService.print(null)).thenThrow(IllegalArgumentException.class);\n",
    "//or\n",
    "when(printService.print(null)).thenThrow(new IllegalArgumentException());"
   ]
  },
  {
   "cell_type": "markdown",
   "metadata": {},
   "source": [
    "If for some reason we want to delegate method call to the actual method:"
   ]
  },
  {
   "cell_type": "code",
   "execution_count": null,
   "metadata": {},
   "outputs": [],
   "source": [
    "Date mock = mock(Date.class);\n",
    "when(mock.getTime()).thenCallRealMethod();\n",
    "doCallRealMethod().when(mock).setTime(42);\n",
    "mock.setTime(42);\n",
    "assertEquals(42, mock.getTime());"
   ]
  },
  {
   "cell_type": "markdown",
   "metadata": {},
   "source": [
    "Note that if we create a mock of an interface and try to configure a stub to call a real method, Mockito will throw an exception, as expected. Also, Mockito ensures that the exception being thrown is valid for that specific stubbed method and will complain if the exception is not in the method’s checked exceptions list.\n",
    "\n",
    "Sometimes we may want to stub a method for a wide range of arguments (instead of a single value as shown earlier). To do this we make use of `ArgumentMatcher`:"
   ]
  },
  {
   "cell_type": "code",
   "execution_count": null,
   "metadata": {},
   "outputs": [],
   "source": [
    "public interface Uppercase {\n",
    "    boolean close(String input);\n",
    "}\n",
    "\n",
    "Uppercase uC = mock(Uppercase.class);\n",
    "when(uC.close(anyString())).doReturn(true);"
   ]
  },
  {
   "cell_type": "markdown",
   "metadata": {},
   "source": [
    "Mockito requires you to provide all arguments either by matchers or by exact values. So if a method has more than one argument and we want to use argument matchers for only some of its arguments, it can’t be done. We can’t write code like this:"
   ]
  },
  {
   "cell_type": "code",
   "execution_count": null,
   "metadata": {},
   "outputs": [],
   "source": [
    "// Consider the method\n",
    "public interface Check {\n",
    "    public boolean positive(int number, int delay);\n",
    "}\n",
    "\n",
    "Check check = mock(Check.class);\n",
    "when(check.positive(5, anyInt())).doReturn(true);"
   ]
  },
  {
   "cell_type": "markdown",
   "metadata": {},
   "source": [
    "We need to write it like this:"
   ]
  },
  {
   "cell_type": "code",
   "execution_count": null,
   "metadata": {},
   "outputs": [],
   "source": [
    "public interface Check {\n",
    "    public boolean positive(int number, int delay);\n",
    "}\n",
    "\n",
    "Check check = mock(Check.class);\n",
    "// eq ArgumentMatcher means specific value\n",
    "// anyInt means any integer passed\n",
    "when(check.positive(eq(5), anyInt())).doReturn(true);"
   ]
  },
  {
   "cell_type": "markdown",
   "metadata": {},
   "source": [
    "Some commonly used `ArgumentMatcher`s include `anyInt`, `anyByte`, `anyCollection`, `anyFloat`, `anyBoolean`, `anyMap`, etc.\n",
    "\n",
    "### Mockito Annotations\n",
    "Mockito provides a number of annotations to declaratively supply mock (and other uses), like `@Mock` and `@InjectMocks`. Consider the example below:"
   ]
  },
  {
   "cell_type": "code",
   "execution_count": null,
   "metadata": {},
   "outputs": [],
   "source": [
    "// Need to test Game, however it has a dependency Player\n",
    "class Game {\n",
    "    private Player player;\n",
    "\n",
    "    public Game(Player player) {\n",
    "        this.player = player;\n",
    "    }\n",
    "\n",
    "    public String attack() {\n",
    "        return \"Player attack with: \" + player.getWeapon();\n",
    "    }\n",
    "}\n",
    "\n",
    "class Player {\n",
    "    private String weapon;\n",
    "\n",
    "    public Player(String weapon) {\n",
    "        this.weapon = weapon;\n",
    "    }\n",
    "\n",
    "    String getWeapon() {\n",
    "        return weapon;\n",
    "    }\n",
    "}\n",
    "\n",
    "@RunWith(MockitoJUnitRunner.class) // This Runner needs to be used in order to \n",
    "                                   // recognize @Mock and @InjectMocks\n",
    "class GameTest {\n",
    "    // Using this annotation is similar to player = mock(Player.class)\n",
    "    @Mock\n",
    "    Player player;\n",
    "\n",
    "    // Mockito will put the above created mock Player into Game\n",
    "    // This doesn't mean Game will be mocked\n",
    "    @InjectMocks\n",
    "    Game game;\n",
    "\n",
    "    @Test\n",
    "    public void attackWithSwordTest() throws Exception {\n",
    "        // Defining behavious of the mocked dependency\n",
    "        Mockito.when(player.getWeapon()).thenReturn(\"Sword\");\n",
    "\n",
    "        assertEquals(\"Player attack with: Sword\", game.attack());\n",
    "    }\n",
    "}"
   ]
  }
 ],
 "metadata": {
  "kernelspec": {
   "display_name": "Java",
   "language": "java",
   "name": "java"
  },
  "language_info": {
   "codemirror_mode": "java",
   "file_extension": ".jshell",
   "mimetype": "text/x-java-source",
   "name": "Java",
   "pygments_lexer": "java",
   "version": "17.0.5+9-LTS-191"
  }
 },
 "nbformat": 4,
 "nbformat_minor": 4
}
