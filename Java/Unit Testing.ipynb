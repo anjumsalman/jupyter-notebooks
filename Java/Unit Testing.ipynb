{
 "cells": [
  {
   "cell_type": "markdown",
   "metadata": {},
   "source": [
    "### JUnit\n",
    "JUnit is the defacto Java unit testing framework. The latest version is 5, however here JUnit 4 is discussed as it is more widely used.  Before actually using JUnit, let us write our own testing logic. We'll be testing the below Calculator class:"
   ]
  },
  {
   "cell_type": "code",
   "execution_count": null,
   "metadata": {},
   "outputs": [],
   "source": [
    "class Calculator {\n",
    "    public int add(int x, int y){\n",
    "        return x + y;\n",
    "    }\n",
    "    \n",
    "    public int subtract(int x, int y){\n",
    "        return x - y;\n",
    "    }\n",
    "}"
   ]
  },
  {
   "cell_type": "markdown",
   "metadata": {},
   "source": [
    "To test the functionality, we can write the following:"
   ]
  },
  {
   "cell_type": "code",
   "execution_count": null,
   "metadata": {},
   "outputs": [],
   "source": [
    "class CalculatorTest {\n",
    "    public static void main(String... args){\n",
    "        Calculator calc = new Calculator();\n",
    "        \n",
    "        int result = calc.add(5, 6);\n",
    "        int expected = 11;\n",
    "        \n",
    "        if(result != expected){\n",
    "            System.out.println(\"Unexpected result \" + result);\n",
    "        }\n",
    "    }\n",
    "}"
   ]
  },
  {
   "cell_type": "markdown",
   "metadata": {},
   "source": [
    "It would be better if we use exception to denote test failure. Meanwhile it would be better if we modularise our code, such that testing other aspects of calculator becomes a bit easier."
   ]
  },
  {
   "cell_type": "code",
   "execution_count": null,
   "metadata": {},
   "outputs": [],
   "source": [
    "class CalculatorTest {\n",
    "    public int errorCount = 0;\n",
    "    \n",
    "    public void testAdd(){\n",
    "        Calculator calc = new Calculator();\n",
    "        \n",
    "        int result = calc.add(5, 6);\n",
    "        int expected = 11;\n",
    "        \n",
    "        if(result != expected){\n",
    "            throw new IllegalStateException(\"Unexpected result \" + result);\n",
    "        }\n",
    "    }\n",
    "    \n",
    "    public static void main(String... args){\n",
    "        CalculatorTest cTest = new CalculatorTest();\n",
    "        \n",
    "        try {\n",
    "            cTest.testAdd();\n",
    "        } catch (Exception e){\n",
    "            cTest.errorCount++;\n",
    "            e.printStackTrace();\n",
    "        }\n",
    "        \n",
    "        if(cTest.errorCount > 0){\n",
    "            throw new IllegalStateException(\"There were \" + cTest.errorCount + \" errors\");\n",
    "        }\n",
    "    }\n",
    "}"
   ]
  },
  {
   "cell_type": "markdown",
   "metadata": {},
   "source": [
    "Using a testing framework like JUnit removes some of the extra code that we have to write. We would just need to define test case, it is the responsibility of the framework to execute it and present the result. Given that, we need to familiarize with some of the associated terms:\n",
    "- **Test:** a method annotated with `@Test`\n",
    "- **Test class:** contains one or many tests\n",
    "- **Suite:** allows us to group test classes\n",
    "- **Runner:** class runs test.\n",
    "\n",
    "The equivalent JUnit test class is:"
   ]
  },
  {
   "cell_type": "code",
   "execution_count": null,
   "metadata": {},
   "outputs": [],
   "source": [
    "import static org.junit.Assert.assertEquals;\n",
    "\n",
    "import org.junit.Test;\n",
    "\n",
    "public class CalculatorTest {\n",
    "    \n",
    "    @Test\n",
    "    public void testAdd() {\n",
    "        Calculator calculator = new Calculator();\n",
    "        int result = calculator.add(5, 6);\n",
    "        int expected = 11;\n",
    "\n",
    "        assertEquals(\"Unexpected result\", result, expected);\n",
    "    }\n",
    "}"
   ]
  },
  {
   "cell_type": "markdown",
   "metadata": {},
   "source": [
    "There are a number of assertions available:"
   ]
  },
  {
   "cell_type": "code",
   "execution_count": null,
   "metadata": {},
   "outputs": [],
   "source": [
    "@Test\n",
    "public void testAssertions() {\n",
    "    // Uses equals\n",
    "    assertEquals(\"Hello\", new String(\"Hello\")); // Pass\n",
    "    assertEquals(\"Hello\", \"Hello\");             // Pass\n",
    "\n",
    "    // Uses ==\n",
    "    assertSame(\"Hello\", new String(\"Hello\"));   // Fail\n",
    "    assertSame(\"Hello\", \"Hello\");               // Pass\n",
    "\n",
    "    // Tests for content of arrays\n",
    "    assertArrayEquals(new char[] { 'A', 'B', 'C' }, \n",
    "                      \"ABC\".toCharArray());     // Pass\n",
    "    assertArrayEquals(new String[] { new String(\"H\"), \"E\", \"O\" }, \n",
    "                      new String[] { \"H\", \"E\", \"O\" }); // Pass\n",
    "    \n",
    "    // True false\n",
    "    assertTrue(5 == 5);    // Pass\n",
    "    assertFalse(6 > 5);    // Pass\n",
    "\n",
    "    assertNull(null);      // Pass\n",
    "}"
   ]
  },
  {
   "cell_type": "markdown",
   "metadata": {},
   "source": [
    "There are also a negations of above assertions available such as `assertNotNull` and `assertNotSame`  \n",
    "\n",
    "If some code needs to be repeated before and after every test execution, we can make use of `@Before` and `@After` annotations:"
   ]
  },
  {
   "cell_type": "code",
   "execution_count": null,
   "metadata": {},
   "outputs": [],
   "source": [
    "import org.junit.After;\n",
    "import org.junit.Before;\n",
    "import org.junit.Test;\n",
    "\n",
    "public class CalculatorTest {\n",
    "    private Calculator calculator;\n",
    "\n",
    "    @Before\n",
    "    public void initCalculator() {\n",
    "        calculator = new Calculator();\n",
    "    }\n",
    "\n",
    "    @After\n",
    "    public void destroyCalculator() {\n",
    "        calculator = null;\n",
    "    }\n",
    "\n",
    "    @Test\n",
    "    public void testAdd() {\n",
    "        int result = calculator.add(5, 6);\n",
    "        int expected = 11;\n",
    "\n",
    "        assertEquals(\"Unexpected result\", result, expected);\n",
    "    }\n",
    "\n",
    "    @Test\n",
    "    public void testSubtract() {\n",
    "        int result = calculator.subtract(5, 6);\n",
    "        int expected = -1;\n",
    "\n",
    "        assertEquals(\"Unexpected result\", result, expected);\n",
    "    }\n",
    "}"
   ]
  },
  {
   "cell_type": "markdown",
   "metadata": {},
   "source": [
    "There are also a `@BeforeClass` and `@AfterClass` annotations (applied to public static method). These methods run before and after all tests have completed.  \n",
    "\n",
    "To test for occurance of exception:"
   ]
  },
  {
   "cell_type": "code",
   "execution_count": null,
   "metadata": {},
   "outputs": [],
   "source": [
    "@Test(expected = ArithmeticException.class)\n",
    "public void testDivisionByZero() {\n",
    "    calculator.divide(5, 0);\n",
    "}"
   ]
  },
  {
   "cell_type": "markdown",
   "metadata": {},
   "source": [
    "To test for timeout:"
   ]
  },
  {
   "cell_type": "code",
   "execution_count": null,
   "metadata": {},
   "outputs": [],
   "source": [
    "@Test(timeout = 10)\n",
    "public void testTimeout() {\n",
    "    // Long running task\n",
    "}"
   ]
  },
  {
   "cell_type": "markdown",
   "metadata": {},
   "source": [
    "To exclude a test from execution:"
   ]
  },
  {
   "cell_type": "code",
   "execution_count": null,
   "metadata": {},
   "outputs": [],
   "source": [
    "@Test\n",
    "@Ignore\n",
    "public void someTestToBeSkipped(){\n",
    "    // Implementation\n",
    "}"
   ]
  },
  {
   "cell_type": "markdown",
   "metadata": {},
   "source": [
    "**Runner:** JUnit by default uses `BlockJUnit4ClassRunner` to run all tests. We can use `@RunWith` annotation to use a custom runner. The `Suite` runner helps grouping test classes together and running the test suite: "
   ]
  },
  {
   "cell_type": "code",
   "execution_count": null,
   "metadata": {},
   "outputs": [],
   "source": [
    "import org.junit.runner.RunWith;\n",
    "import org.junit.runners.Suite;\n",
    "import org.junit.runners.Suite.SuiteClasses;\n",
    "\n",
    "@RunWith(Suite.class)\n",
    "@SuiteClasses(value = { CalculatorTest.class, ConverterTest.class })\n",
    "public class MachineTestSuite {\n",
    "\n",
    "}"
   ]
  },
  {
   "cell_type": "markdown",
   "metadata": {},
   "source": [
    "There is another runner called as parameterised runner. It helps testing for multiple values in a single test."
   ]
  },
  {
   "cell_type": "code",
   "execution_count": null,
   "metadata": {},
   "outputs": [],
   "source": [
    "import org.junit.Test;\n",
    "import org.junit.runner.RunWith;\n",
    "import org.junit.runners.Parameterized;\n",
    "import org.junit.runners.Parameterized.Parameter;\n",
    "import org.junit.runners.Parameterized.Parameters;\n",
    "\n",
    "@RunWith(Parameterized.class)\n",
    "public class CalculatorTest {\n",
    "\n",
    "    @Parameter(1)\n",
    "    public int operand1;\n",
    "    @Parameter(2)\n",
    "    public int operand2;\n",
    "    @Parameter(0)\n",
    "    public int expected;\n",
    "\n",
    "    @Parameters(name=\"{index}: {1}+{2}={0}\")  // Name parameter helps identify the test case\n",
    "    public static Collection<Integer[]> data() {\n",
    "        return Arrays.asList(new Integer[][] { \n",
    "            { 0, 0, 0 }, { 0, 5, -5 }, { 10, 6, 4 }, { -6, -3, -3 } // All the test cases\n",
    "        });\n",
    "    }\n",
    "\n",
    "    @Test\n",
    "    public void testAdd() {\n",
    "        Calculator calculator = new Calculator();\n",
    "        \n",
    "        int result = calculator.add(operand1, operand2);\n",
    "        assertEquals(\"Unexpected result\", result, expected);\n",
    "    }\n",
    "}"
   ]
  }
 ],
 "metadata": {
  "kernelspec": {
   "display_name": "Java",
   "language": "java",
   "name": "java"
  },
  "language_info": {
   "codemirror_mode": "java",
   "file_extension": ".jshell",
   "mimetype": "text/x-java-source",
   "name": "Java",
   "pygments_lexer": "java",
   "version": "13+33"
  }
 },
 "nbformat": 4,
 "nbformat_minor": 4
}
