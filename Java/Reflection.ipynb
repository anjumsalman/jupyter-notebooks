{
 "cells": [
  {
   "cell_type": "markdown",
   "metadata": {},
   "source": [
    "## Class Object\n",
    "Java reflection uses instances of `Class` to represent types. Some important methods of the class:\n",
    "```\n",
    "------------------------------------------------------------------------------------------------\n",
    "Method                                        Description\n",
    "------------------------------------------------------------------------------------------------\n",
    "String getName()            Returns the fully qualified name of the target Class object\n",
    "Class getComponentType()    If the target object is a Class object for an array, returns the\n",
    "                            Class object representing the component type\n",
    "boolean isArray()           Returns true if and only if the target Class object represents\n",
    "                            an array\n",
    "boolean isInterface()       Returns true if and only if the target Class object represents\n",
    "                            an interface\n",
    "boolean isPrimitive()       Returns true if and only if the target Class object represents\n",
    "                            a primitive type or void\n",
    "------------------------------------------------------------------------------------------------\n",
    "```"
   ]
  },
  {
   "cell_type": "code",
   "execution_count": 1,
   "metadata": {
    "tags": []
   },
   "outputs": [
    {
     "name": "stdout",
     "output_type": "stream",
     "text": [
      "Class int is primitive? true\n",
      "Class [Ljava.lang.String; is array? true\n"
     ]
    }
   ],
   "source": [
    "Class primitiveClass = int.class;\n",
    "System.out.println(\"Class \" + primitiveClass.getName() + \" is primitive? \" + primitiveClass.isPrimitive());\n",
    "\n",
    "Class arrayClass = String[].class;\n",
    "System.out.println(\"Class \" + arrayClass.getName() + \" is array? \" + arrayClass.isArray());"
   ]
  },
  {
   "cell_type": "markdown",
   "metadata": {},
   "source": [
    "Primitive, array, and interface types are limited in the sense that we can't create instance object from those.  \n",
    "\n",
    "**Introspectig Inheritance Hierarchy:** methods of `Class` for dealing with inheritance and interface implementation:\n",
    "```\n",
    "------------------------------------------------------------------------------------------------\n",
    "Method                                        Description\n",
    "------------------------------------------------------------------------------------------------\n",
    "Class[] getInterfaces()          Returns an array of Class objects that represent the direct\n",
    "                                 superinterfaces of the target Class object\n",
    "Class getSuperclass()            Returns the Class object representing the direct superclass\n",
    "                                 of the target Class object or null if the target represents\n",
    "                                 Object, an interface, a primitive type, or void\n",
    "boolean isAssignableFrom(Class cls) \n",
    "                                 Returns true if and only if the class or interface represented\n",
    "                                 by the target Class object is either the same as or a superclass\n",
    "                                 of or a superinterface of the specified Class parameter\n",
    "boolean isInstance(Object obj)   Returns true if and only if the specified Object is assignment-\n",
    "                                 compatible with the object represented by the target\n",
    "                                 Class object\n",
    "------------------------------------------------------------------------------------------------\n",
    "```"
   ]
  },
  {
   "cell_type": "markdown",
   "metadata": {},
   "source": [
    "## Method Object\n",
    "Represents method of a class. To get a method for a class:"
   ]
  },
  {
   "cell_type": "code",
   "execution_count": null,
   "metadata": {},
   "outputs": [],
   "source": [
    "Class vectorClass = Vector.class;\n",
    "try {\n",
    "    Method copyInto = vectorClass.getMethod(\"copyInto\", Object[].class);\n",
    "    Method trimToSize = vectorClass.getMethod(\"trimToSize\");\n",
    "    Method get = vectorClass.getMethod(\"get\", int.class);\n",
    "    Method set = vectorClass.getMethod(\"set\", int.class, Object.class);\n",
    "} catch (NoSuchMethodException e) {\n",
    "    throw new RuntimeException(e);\n",
    "}"
   ]
  },
  {
   "cell_type": "markdown",
   "metadata": {},
   "source": [
    "`getMethod` returns matching public method defined in the class or its superclasses or superinterfaces. Once we have reference to the method, we can invoke it (among other operations listed):\n",
    "\n",
    "```\n",
    "------------------------------------------------------------------------------------------------\n",
    "Method                                        Description\n",
    "------------------------------------------------------------------------------------------------\n",
    "Class getDeclaringClass()       Returns the Class object that declared the method represented\n",
    "                                by this Method object\n",
    "Class[] getExceptionTypes()     Returns an array of Class objects representing the types of\n",
    "                                the exceptions declared to be thrown by the method represented\n",
    "                                by this Method object\n",
    "int getModifiers()              Returns the modifiers for the method represented by this\n",
    "                                Method object encoded as an int\n",
    "String getName()                Returns the name of the method represented by this Method\n",
    "                                object\n",
    "Class[] getParameterTypes()     Returns an array of Class objects representing the formal\n",
    "                                parameters in the order in which they were declared\n",
    "Class getReturnType()           Returns the Class object representing the type returned by\n",
    "                                the method represented by this Method object\n",
    "Object invoke(Object obj, Object[] args) \n",
    "                                Invokes the method represented by this Method object on\n",
    "                                the specified object with the arguments specified in the\n",
    "                                Object array\n",
    "------------------------------------------------------------------------------------------------\n",
    "```\n",
    "\n",
    "**Dynamic Invocation:** is the ability of program to call a method on an object at runtime without specifying which method at compile time. At compile time, we may not know the exact type of the object on which the method is being invoked, therefore we do not know the exact method that will be called."
   ]
  },
  {
   "cell_type": "code",
   "execution_count": null,
   "metadata": {},
   "outputs": [],
   "source": [
    "try {\n",
    "    trimToSize.invoke(vector);\n",
    "    get.invoke(vector, 0);\n",
    "    set.invoke(vector, 0, 4);\n",
    "} catch (InvocationTargetException e) { //  wraps exception thrown by an invoked method or constructor.\n",
    "    throw new RuntimeException(e);\n",
    "} catch (IllegalAccessException e) { // class calling invoke does not have appropriate access privileges for the method\n",
    "    throw new RuntimeException(e);\n",
    "}"
   ]
  },
  {
   "cell_type": "markdown",
   "metadata": {},
   "source": [
    "In addition to `getMethod`, we also have the following methods available on `Class` to query for `Method`s:\n",
    "```\n",
    "------------------------------------------------------------------------------------------------\n",
    "Method                                        Description\n",
    "------------------------------------------------------------------------------------------------\n",
    "Method getMethod (String name,Class[] parameterTypes)\n",
    "                                        Returns a Method object that represents a public\n",
    "                                        method (either declared or inherited) of the target\n",
    "                                        Class object with the signature specified by the\n",
    "                                        second parameters\n",
    "Method[] getMethods ()                  Returns an array of Method objects that represent\n",
    "                                        all of the public methods (either declared or inherited)\n",
    "                                        supported by the target Class object\n",
    "Method getDeclaredMethod (String name, Class[] parameterTypes)\n",
    "                                        Returns a Method object that represents a declared method\n",
    "                                        of the target Class object with the signature specified\n",
    "                                        by the second parameters (doesn't look into parent class)\n",
    "Method[] getDeclaredMethods ()          Returns an array of Method objects that represent\n",
    "                                        all of the methods declared by the target Class object\n",
    "------------------------------------------------------------------------------------------------\n",
    "```"
   ]
  },
  {
   "cell_type": "markdown",
   "metadata": {},
   "source": [
    "## Field Object\n",
    "The following `Class` methods help us obtain reference to `Field` objects:\n",
    "```\n",
    "------------------------------------------------------------------------------------------------\n",
    "Method                                        Description\n",
    "------------------------------------------------------------------------------------------------\n",
    "Field getField(String name)          Returns a Field object that represents the specified public\n",
    "                                     member field of the class or interface represented by this\n",
    "                                     Class object\n",
    "Field[] getFields()                  Returns an array of Field objects that represents all the\n",
    "                                     accessible public fields of the class or interface \n",
    "                                     represented by this Class object\n",
    "Field getDeclaredField( String name ) \n",
    "                                     Returns a Field object that represents the specified\n",
    "                                     declared field of the class or interface represented by this\n",
    "                                     Class object\n",
    "Field[] getDeclaredFields()          Returns an array of Field objects that represents each\n",
    "                                     field declared by the class or interface represented by this\n",
    "                                     Class object\n",
    "------------------------------------------------------------------------------------------------\n",
    "```\n",
    "\n",
    "As an example, to obtain all fields of an object:"
   ]
  },
  {
   "cell_type": "code",
   "execution_count": null,
   "metadata": {},
   "outputs": [],
   "source": [
    "public Field[] getAllFields(Object obj) {\n",
    "    Class clazz = obj.getClass();\n",
    "    List<Field> fieldList = new ArrayList<>();\n",
    "    \n",
    "    while(clazz != null) {\n",
    "        Field[] fields = clazz.getDeclaredFields();\n",
    "        for(Field field: fields){\n",
    "            fieldList.add(field);\n",
    "        }\n",
    "        clazz = clazz.getSuperclass();\n",
    "    }\n",
    "    \n",
    "    return (Field[]) fieldList.toArray(new Field[fieldList.size()]);\n",
    "}"
   ]
  },
  {
   "cell_type": "markdown",
   "metadata": {},
   "source": [
    "Some useful methods provided by `Field`:\n",
    "\n",
    "```\n",
    "------------------------------------------------------------------------------------------------\n",
    "Method                                        Description\n",
    "------------------------------------------------------------------------------------------------\n",
    "Class getType()                     Returns the Class object that represents the declared\n",
    "                                    type for the field represented by this Field object\n",
    "Class getDeclaringClass()           Returns the Class object that declared the field\n",
    "                                    represented by this Field object\n",
    "String getName()                    Returns the name of the field represented by this\n",
    "                                    Field object\n",
    "int getModifiers()                  Returns the modifiers for the field represented by this\n",
    "                                    Field object encoded as an int\n",
    "Object get(Object obj)              Returns the value in the specified object of the field \n",
    "                                    represented by this Field\n",
    "------------------------------------------------------------------------------------------------\n",
    "```"
   ]
  },
  {
   "cell_type": "markdown",
   "metadata": {},
   "source": [
    "Each `Field` (or `Method`) can have the following modifiers associated: `public static native volatile protected abstract\n",
    "synchronized strictfp private final`. For example, to determine whether a class has a certain modifier:"
   ]
  },
  {
   "cell_type": "code",
   "execution_count": null,
   "metadata": {},
   "outputs": [],
   "source": [
    "Field nameField = clazz.getDeclaredField(\"nameField\");\n",
    "Modifier.isStatic(nameField.getModifiers());\n",
    "Modifier.isVolatile(nameField.getModifiers());"
   ]
  },
  {
   "cell_type": "markdown",
   "metadata": {},
   "source": [
    "Therefore, to get the instance variables of a class, we can call:"
   ]
  },
  {
   "cell_type": "code",
   "execution_count": null,
   "metadata": {},
   "outputs": [],
   "source": [
    "public Field[] getAllInstanceVariables(Object obj) {\n",
    "    Class clazz = obj.getClass();\n",
    "    List<Field> fieldList = new ArrayList<>();\n",
    "    \n",
    "    while(clazz != null) {\n",
    "        Field[] fields = clazz.getDeclaredFields();\n",
    "        for(Field field: fields){\n",
    "            if (!Modifier.isStatic(field.getModifiers())) {\n",
    "                fieldList.add(field);\n",
    "            }\n",
    "        }\n",
    "        clazz = clazz.getSuperclass();\n",
    "    }\n",
    "    \n",
    "    return (Field[]) fieldList.toArray(new Field[fieldList.size()]);\n",
    "}"
   ]
  },
  {
   "cell_type": "markdown",
   "metadata": {},
   "source": [
    "**Accessing private members:** For field of type `Field`, `field.setAccessible(true);` disables all runtime access checks on uses of the metaobject referred to by field. This allows reflective access to its value from outside the scope of its visibility.  \n",
    "The `setAccessible` method works for all of the `get` and `set` methods of `Field` and also for the `invoke` method of `Method`.  \n",
    "The above method is present in `AccessibleObject` class which is the parent class for both `Field` and `Method`.  \n",
    "Setting objects as accessible can be disabled in the security manager. If this feature has been disabled, the `setAccessible` methods each throw a `SecurityException`. The default security manager permits the use of setAccessible on members of classes loaded by the same class loader as the caller.  \n",
    "\n",
    "**Arrays:** Java provides `java.lang.reflect.Array` as a convenience facility for performing reflective operations on all array objects.\n",
    "\n",
    "```\n",
    "------------------------------------------------------------------------------------------------\n",
    "Method                                        Description\n",
    "------------------------------------------------------------------------------------------------\n",
    "Object newInstance(Class componentType, int length)\n",
    "                                       Creates a new array that has the specified component\n",
    "                                       type and length.\n",
    "Object newInstance(Class elementType, int[] dimensions)\n",
    "                                       Creates a new array that has the specified element type\n",
    "                                       and dimensions.length dimensions.\n",
    "int getLength( Object array)           Returns the number of components of the specified\n",
    "                                       array.\n",
    "Object get(Object array, int index)    Returns the component value at index. Wraps primitives\n",
    "                                       if necessary.\n",
    "boolean getBoolean(Object array, int index)\n",
    "...\n",
    "                                       If the component type of the specified array is boolean,\n",
    "                                       the component value at index is returned.\n",
    "void set(Object array, int index, Object value)\n",
    "                                       Sets the component at index to the specified value.\n",
    "                                       Unwraps primitives, if necessary.\n",
    "void setBoolean(Object array, int index, boolean value)\n",
    "...\n",
    "                                       If the component type of the specified array is boolean,\n",
    "                                       the component at index is set to the specified value.\n",
    "------------------------------------------------------------------------------------------------\n",
    "```"
   ]
  },
  {
   "cell_type": "code",
   "execution_count": null,
   "metadata": {},
   "outputs": [],
   "source": []
  }
 ],
 "metadata": {
  "kernelspec": {
   "display_name": "Java",
   "language": "java",
   "name": "java"
  },
  "language_info": {
   "codemirror_mode": "java",
   "file_extension": ".jshell",
   "mimetype": "text/x-java-source",
   "name": "Java",
   "pygments_lexer": "java",
   "version": "17.0.5+9-LTS-191"
  }
 },
 "nbformat": 4,
 "nbformat_minor": 4
}
