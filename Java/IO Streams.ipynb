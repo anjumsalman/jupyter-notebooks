{
 "cells": [
  {
   "cell_type": "markdown",
   "metadata": {},
   "source": [
    "## Introduction\n",
    "Java supports two types of streams (is an ordered sequence of bytes of indeterminate length):\n",
    "- **byte streams** : read data in bytes\n",
    "- **character streams** : read data as characters\n",
    "\n",
    "Separate classes are there for reading data and writing data. For byte streams, `InputStream` and `OutputStream` abstract classes are at the top of the hierarchy. For character stream `Reader` and `Writer` are at the top of the hierarchy.\n",
    "\n",
    "All the above mentioned stream abstract classes implement `Closeable` and must be explicitly closed when we are done using the stream. Use of *try-with-resources* block would close the stream automatically (`Closeable` extends `AutoCloseable` whose `close()` method is called automatically when exiting a *try-with-resources* block).\n",
    "\n",
    "There can be multiple different sources for streams - file, network, arrays, etc. Though `Reader` and `Writer` are more geared towards string based source."
   ]
  },
  {
   "cell_type": "markdown",
   "metadata": {},
   "source": [
    "## Byte Stream\n",
    "`InputStream` defines the following interface to read contents from stream:"
   ]
  },
  {
   "cell_type": "code",
   "execution_count": null,
   "metadata": {},
   "outputs": [],
   "source": [
    "public class InputStream implements Closeable {\n",
    "    // Reads next byte of data from stream, returns -1 if end of stream is reached\n",
    "    // Value of returned number ranges from 0-255\n",
    "    public abstract int read() throws IOException;\n",
    "    \n",
    "    // Reads b.length number of bytes from the stream into the b array. Returns the\n",
    "    // number of bytes read. Works by repeatedly calling the read method.\n",
    "    public int read(byte[] b) throws IOException { \n",
    "        // Impl \n",
    "    }\n",
    "    \n",
    "    // Reads len number of bytes from the stream into the b array. The array b is \n",
    "    // filled starting from an offset off\n",
    "    public int read(byte[] b, int off, int len) throws IOException {\n",
    "        // Impl\n",
    "    }\n",
    "    \n",
    "    // Skips over specified number of bytes, returning the actual number of bytes skipped\n",
    "    public long skip(long n) throws IOException {\n",
    "        // Impl\n",
    "    }\n",
    "    \n",
    "    // Closes the stream\n",
    "    public void close() throws IOException {}\n",
    "    \n",
    "    // Other methods\n",
    "}"
   ]
  },
  {
   "cell_type": "markdown",
   "metadata": {
    "tags": []
   },
   "source": [
    "`InputStream` has the following hierarchy:\n",
    "```\n",
    "InputStream\n",
    "        |\n",
    "        +--- FileInputStream: obtain bytes from a file\n",
    "        +--- AudioInputStream: obtain bytes from an audio stream\n",
    "        +--- ObjectInputStream: for reading serialized objects\n",
    "        +--- FilterInputStream: transforms other input streams\n",
    "        |                   |\n",
    "        |                   +--- BufferedInputStream\n",
    "        |                   +--- ZipInputStream: reading compressed and uncompressed ZIP file\n",
    "        +--- PipedInputStream\n",
    "        +--- ...                      \n",
    "```\n",
    "\n",
    "`OutputStream` similarly is defined as:"
   ]
  },
  {
   "cell_type": "code",
   "execution_count": null,
   "metadata": {},
   "outputs": [],
   "source": [
    "public abstract class OutputStream implements Closeable, Flushable {\n",
    "    // Writes the specified byte to this output stream. The eight low-order bits\n",
    "    // of the input b is written\n",
    "    public abstract void write(int b) throws IOException;\n",
    "    \n",
    "    // Writes b.length number of bytes from b to the output stream.\n",
    "    public void write(byte[] b) throws IOException {\n",
    "        // Impl\n",
    "    }\n",
    "    \n",
    "    // Writes len number of bytes from b to the output stream starting from\n",
    "    // the offset index in the byte array\n",
    "    public void write(byte[] b, int off, int len) throws IOException {\n",
    "        // Impl\n",
    "    }\n",
    "    \n",
    "    // Flushes this output stream and forces any buffered output bytes to be written out. \n",
    "    public void flush() throws IOException {}\n",
    "    \n",
    "    // Closes the output stream\n",
    "    public void close() throws IOException {}\n",
    "}"
   ]
  },
  {
   "cell_type": "markdown",
   "metadata": {
    "tags": []
   },
   "source": [
    "Hierarchy of an `OutputStream` is:\n",
    "```\n",
    "OutputStream\n",
    "        |\n",
    "        +--- FileOutputStream\n",
    "        +--- ObjectOutputStream\n",
    "        +--- FilterOutputStream\n",
    "        |                   |\n",
    "        |                   +--- BufferedOutputStream\n",
    "        |                   +--- ZipOutputStream\n",
    "        +--- PipedOutputStream\n",
    "        +--- ...                      \n",
    "```"
   ]
  },
  {
   "cell_type": "markdown",
   "metadata": {},
   "source": [
    "### Some Use Cases\n",
    "1. Reading text file using `InputStream`. Reading a utf-8 encoded file with foreign characters will not give correct result if characters are outside ASCII range.  "
   ]
  },
  {
   "cell_type": "code",
   "execution_count": null,
   "metadata": {},
   "outputs": [],
   "source": [
    "public void readTextFile(String path) {\n",
    "    try(InputStream in = new FileInputStream(new File(path))){\n",
    "        int data = -1;\n",
    "        while((data = in.read())!=-1) {\n",
    "            System.out.print((char)data);    // Even though char is two bytes big\n",
    "        }                                    // data will always be 1 byte long\n",
    "    } catch (FileNotFoundException e) {\n",
    "        e.printStackTrace();\n",
    "    } catch (IOException e) {\n",
    "        e.printStackTrace();\n",
    "    }\n",
    "}\n",
    "\n",
    "/*\n",
    "Data is read as int and is in range 0 to 255 (if EOF has not been reached).\n",
    "It can be saved as a byte but that would cause overflow. To convert back to int\n",
    "use the following formula: int i = (b >= 0) ? b : 256 + b;\n",
    "\n",
    "Example:\n",
    "int i = 255;\n",
    "byte b = (byte) b;\n",
    "int i_clone = 256 + b; // = 255\n",
    "*/"
   ]
  },
  {
   "cell_type": "markdown",
   "metadata": {},
   "source": [
    "2. Reading header of a wav file. A wave file's header is always \"RIFF\".  "
   ]
  },
  {
   "cell_type": "code",
   "execution_count": null,
   "metadata": {},
   "outputs": [],
   "source": [
    "public void readWaveHeader(String path) {\n",
    "    try(InputStream in = new FileInputStream(new File(path))){\n",
    "        byte[] headerBytes = new byte[4];\n",
    "        in.read(headerBytes, 0, 4);\n",
    "        for(int i=0;i<4;i++) {\n",
    "            System.out.print((char)headerBytes[i]);\n",
    "        }\n",
    "    } catch (FileNotFoundException e) {\n",
    "        e.printStackTrace();\n",
    "    } catch (IOException e) {\n",
    "        e.printStackTrace();\n",
    "    }\n",
    "}"
   ]
  },
  {
   "cell_type": "markdown",
   "metadata": {},
   "source": [
    "3. Writing to a file  "
   ]
  },
  {
   "cell_type": "code",
   "execution_count": null,
   "metadata": {},
   "outputs": [],
   "source": [
    "public static void writeTables(String path, int start, int end) {\n",
    "    try(OutputStream out = new FileOutputStream(new File(path))){\n",
    "        for(int i=start;i<=end;i++) {\n",
    "            for(int j=1;j<10;j++) {\n",
    "                int result = i*j;\n",
    "                String line = \"\" + i + \" X \" + j + \" = \" + result + System.lineSeparator();\n",
    "                out.write(line.getBytes());  // getBytes() uses platform's default encoding\n",
    "            }\n",
    "        }\n",
    "    } catch (FileNotFoundException e) {\n",
    "        e.printStackTrace();\n",
    "    } catch (IOException e) {\n",
    "        e.printStackTrace();\n",
    "    }\n",
    "}"
   ]
  },
  {
   "cell_type": "markdown",
   "metadata": {},
   "source": [
    "It is often faster to write data in large chunks than to write it byte by byte. Therefore, `write(byte[] data` version of `write` is preferred. Performance issue can also be caused if we write too much data. It is better to write data in small chunks - 1024, 2048 or 4096 bytes for file IO and 128 or 256 bytes for network IO."
   ]
  },
  {
   "cell_type": "markdown",
   "metadata": {},
   "source": [
    "4. Sample implementation of `InputStream`"
   ]
  },
  {
   "cell_type": "code",
   "execution_count": null,
   "metadata": {},
   "outputs": [],
   "source": [
    "public class RandomInputStream extends InputStream {\n",
    "    private Random random = new Random();\n",
    "    private boolean closed;\n",
    "\n",
    "    @Override\n",
    "    public int read() throws IOException {\n",
    "        checkOpen();\n",
    "        int temp = random.nextInt() % 256;\n",
    "        return Math.abs(temp);\n",
    "    }\n",
    "\n",
    "    @Override\n",
    "    public int read(byte[] data, int offset, int length) throws IOException {\n",
    "        checkOpen();\n",
    "        byte[] temp = new byte[length];\n",
    "        random.nextBytes(temp);\n",
    "        System.arraycopy(temp, 0, data, offset, length);\n",
    "        return length;\n",
    "    }\n",
    "\n",
    "    @Override\n",
    "    public int read(byte[] data) throws IOException {\n",
    "        checkOpen();\n",
    "        random.nextBytes(data);\n",
    "        return data.length;\n",
    "    }\n",
    "    \n",
    "    public void close() {\n",
    "        closed = true;\n",
    "    }\n",
    "\n",
    "    private void checkOpen() throws IOException {\n",
    "        if (closed) {\n",
    "            throw new IOException(\"Stream closed\");\n",
    "        }\n",
    "    }\n",
    "}"
   ]
  },
  {
   "cell_type": "markdown",
   "metadata": {},
   "source": [
    "## Buffered Byte Stream\n",
    "If multiple reads or writes are to be made to a stream, it is better to use Buffered Input/Output stream. Buffered streams maintain a small byte buffer (8192 bytes for `BufferedInputStream`) to/from which bytes are written/read. Internally, it calls `read(byte[] b, int off, int len)`. We supply a stream as constructor parameter to buffered stream.\n",
    "\n",
    "The example below buffers data from a file source:"
   ]
  },
  {
   "cell_type": "code",
   "execution_count": null,
   "metadata": {},
   "outputs": [],
   "source": [
    "public static void readTextFile(String path) {\n",
    "    try(InputStream in = new BufferedInputStream(new FileInputStream(new File(path)))){\n",
    "        int data = -1;\n",
    "        while((data = in.read()) != -1) {\n",
    "            System.out.print((char)data);\n",
    "        }\n",
    "    } catch (FileNotFoundException e) {\n",
    "        e.printStackTrace();\n",
    "    } catch (IOException e) {\n",
    "        e.printStackTrace();\n",
    "    }\n",
    "}"
   ]
  },
  {
   "cell_type": "markdown",
   "metadata": {},
   "source": [
    "In case of `FileInputStream` even though using a `BufferedInputStream` is the best approach it is probably not the fastest. To achieve a faster read we can maintain our own custom buffer:"
   ]
  },
  {
   "cell_type": "code",
   "execution_count": null,
   "metadata": {},
   "outputs": [],
   "source": [
    "public static void readTextFile(String path) {\n",
    "    try(InputStream in = new FileInputStream(args[0])) {\n",
    "        byte buf[] = new byte[2048];\n",
    "        int n = 0;\n",
    "        \n",
    "        // the while loop fills in the buffer\n",
    "        while((n = in.read(buf)) != -1) {\n",
    "            // the for loop consumes the filled buffer\n",
    "            for(int i=0; i<n; i++) {\n",
    "                System.out.println((char) buf[i]);\n",
    "            }\n",
    "        }\n",
    "    } catch (FileNotFoundException e) {\n",
    "        e.printStackTrace();\n",
    "    } catch (IOException e) {\n",
    "        e.printStackTrace();\n",
    "    }\n",
    "}"
   ]
  },
  {
   "cell_type": "markdown",
   "metadata": {},
   "source": [
    "One additional benefit of using `BufferedInputStream` is that these classes support `mark` and `reset` operations."
   ]
  },
  {
   "cell_type": "markdown",
   "metadata": {
    "tags": []
   },
   "source": [
    "## Character Streams\n",
    "`Reader` defines the following interface:"
   ]
  },
  {
   "cell_type": "code",
   "execution_count": null,
   "metadata": {},
   "outputs": [],
   "source": [
    "public abstract class Reader implements Readable, Closeable {\n",
    "    // Reads a character from the input stream. The character is read as an integer\n",
    "    // in the range 0 to 65535\n",
    "    public int read() throws IOException {\n",
    "        // Impl\n",
    "    }\n",
    "    \n",
    "    // Below two methods reads characters into the specified char array\n",
    "    public int read(char[] cbuf) throws IOException {\n",
    "        // Impl\n",
    "    }\n",
    "    public abstract int read(char[] cbuf, int off, int len);\n",
    "    \n",
    "    // Closes the underlying stream\n",
    "    public abstract void close() throws IOException;\n",
    "    \n",
    "    // Other methods like mark and reset\n",
    "}"
   ]
  },
  {
   "cell_type": "markdown",
   "metadata": {
    "tags": []
   },
   "source": [
    "`Reader` hierarchy\n",
    "```\n",
    "Reader\n",
    "    |\n",
    "    +--- BufferedReader\n",
    "    +--- InputStreamReader: bridge between byte and character stream. Lets you set encoding.\n",
    "    |                   |\n",
    "    |                   +--- FileReader\n",
    "    +--- StringReader\n",
    "    +--- FilterReader\n",
    "    +--- ...\n",
    "```\n",
    "`Writer` is defined as following:"
   ]
  },
  {
   "cell_type": "code",
   "execution_count": null,
   "metadata": {},
   "outputs": [],
   "source": [
    "public abstract class Writer implements Appendable, Closeable, Flushable {\n",
    "    // Writes lower 16 bits of the given integer value\n",
    "    public void write(int c) throws IOException {\n",
    "        // Impl\n",
    "    }\n",
    "    \n",
    "    // Writes an array of characters\n",
    "    public void write(char[] cbuf) throws IOException {\n",
    "        // Impl\n",
    "    }\n",
    "    public abstract void write(char[] cbuf, int off, int len) throws IOException;\n",
    "    \n",
    "    // Writes a string value\n",
    "    public void write(String str) throws IOException {\n",
    "        // Impl\n",
    "    }\n",
    "    \n",
    "    public abstract void flush() throws IOException;\n",
    "\n",
    "    public abstract void close() throws IOException;\n",
    "\n",
    "    // Other methods\n",
    "}"
   ]
  },
  {
   "cell_type": "markdown",
   "metadata": {},
   "source": [
    "`Writer` hierarcy:\n",
    "```\n",
    "Writer\n",
    "    |\n",
    "    +--- BufferedWriter\n",
    "    +--- OutputStreamWriter\n",
    "    |                   |\n",
    "    |                   +--- FileWriter\n",
    "    +--- StringWriter\n",
    "    +--- FilterWriter\n",
    "    +--- ...\n",
    "```"
   ]
  },
  {
   "cell_type": "markdown",
   "metadata": {},
   "source": [
    "### Use Cases\n",
    "1. Reading a text file. `FileReader` uses platform default encoding, which isn't always a great idea. It may fail to read foreign characters properly."
   ]
  },
  {
   "cell_type": "code",
   "execution_count": null,
   "metadata": {},
   "outputs": [],
   "source": [
    "public static void readSomeCharacters(String path, int amount) {\n",
    "    try(Reader r = new FileReader(path)){\n",
    "        char[] data = new char[amount];\n",
    "        r.read(data,0,amount); // Uses platform's default encoding\n",
    "        System.out.print(data);\n",
    "    } catch (FileNotFoundException e) {\n",
    "        e.printStackTrace();\n",
    "    } catch (IOException e) {\n",
    "        e.printStackTrace();\n",
    "    }\n",
    "}"
   ]
  },
  {
   "cell_type": "markdown",
   "metadata": {},
   "source": [
    "2. `BufferedReader` is the better choice in most cases. It can read entire line at a time. Above example wrapped in `BufferedReader`:"
   ]
  },
  {
   "cell_type": "code",
   "execution_count": null,
   "metadata": {},
   "outputs": [],
   "source": [
    "public static void readLines(String path) {\n",
    "    try(BufferedReader br = new BufferedReader(new FileReader(path))){\n",
    "        String line = null;\n",
    "        while((line=br.readLine()) != null) {\n",
    "            System.out.println(line);\n",
    "        }\n",
    "    } catch (FileNotFoundException e) {\n",
    "        e.printStackTrace();\n",
    "    } catch (IOException e) {\n",
    "        e.printStackTrace();\n",
    "    }\n",
    "}"
   ]
  },
  {
   "cell_type": "markdown",
   "metadata": {},
   "source": [
    "3. Writing UTF-16 encoded content."
   ]
  },
  {
   "cell_type": "code",
   "execution_count": null,
   "metadata": {},
   "outputs": [],
   "source": [
    "public void writeLines(String path) {\n",
    "    try(BufferedWriter bw = new BufferedWriter(\n",
    "            new OutputStreamWriter(\n",
    "                    new FileOutputStream(\n",
    "                            new File(path)), \"UTF-16\"))){\n",
    "        String text = \"تشكيل الحروف\";\n",
    "        bw.write(text);\n",
    "    } catch (UnsupportedEncodingException e) {\n",
    "        e.printStackTrace();\n",
    "    } catch (FileNotFoundException e) {\n",
    "        e.printStackTrace();\n",
    "    } catch (IOException e) {\n",
    "        e.printStackTrace();\n",
    "    }\n",
    "}"
   ]
  },
  {
   "cell_type": "markdown",
   "metadata": {},
   "source": [
    "## Non-Blocking IO"
   ]
  },
  {
   "cell_type": "markdown",
   "metadata": {},
   "source": [
    "## File System"
   ]
  },
  {
   "cell_type": "markdown",
   "metadata": {},
   "source": [
    "Java NIO package introduced new classes and ways to interact with files. The `Path` replaces `File` and `Paths` and `Files` classes introduce new methods to to perform file operations.\n",
    "\n",
    "<img src=\"images/files_and_paths.png\" width=600 height=auto />\n",
    "\n",
    "**`Path`:** represents a file or a directory.  \n",
    "**`Paths`:** contains a static method to create `Path` instance  \n",
    "**`Files`:** contains static methods to operate on `Path` instances"
   ]
  },
  {
   "cell_type": "code",
   "execution_count": null,
   "metadata": {},
   "outputs": [],
   "source": [
    "// Create a file Path. Equivalent to calling:\n",
    "// Paths.get(\"D:\", \"Codes\", \"Eclipse Workspace\", \"Testbed\", \"pom.xml\")\n",
    "Path json = Paths.get(\"D:\\\\file.json\");\n",
    "\n",
    "// Create a directory Path\n",
    "Path temp = Paths.get(\"C:\\\\temp\");\n",
    "\n",
    "// Read and Write from the file\n",
    "if (!Files.exists(json)) {\n",
    "    Files.createFile(json);\n",
    "    \n",
    "    // Write string to a file\n",
    "    Files.writeString(json, \"\"\"\n",
    "            {\n",
    "                \"status\": 200,\n",
    "                \"message\": \"Success!\"\n",
    "            }\n",
    "            \"\"\");\n",
    "    \n",
    "    // Read all lines of the file as List\n",
    "    System.out.println(Files.readAllLines(json));\n",
    "}"
   ]
  },
  {
   "cell_type": "markdown",
   "metadata": {},
   "source": [
    "| **Method**                                                                       | **Description**                                                                                       |\n",
    "|----------------------------------------------------------------------------------|-------------------------------------------------------------------------------------------------------|\n",
    "| `copy(Path source, Path target)`                                                 | Copies a file from the source path to the target path.                                                |\n",
    "| `delete(Path path)`                                                              | Deletes the file or directory at the specified path.                                                  |\n",
    "| `exists(Path path, LinkOption... options)`                                       | Tests whether a file or directory exists at the specified path.                                       |\n",
    "| `isDirectory(Path path, LinkOption... options)`                                  | Tests whether the specified path is a directory.                                                      |\n",
    "| `isRegularFile(Path path, LinkOption... options)`                                | Tests whether the specified path is a regular file.                                                   |\n",
    "| `move(Path source, Path target)`                                                 | Moves a file from the source path to the target path.                                                 |\n",
    "| `newDirectoryStream(Path dir)`                                                   | Returns a directory stream to iterate over files in the specified directory.                          |\n",
    "| `readAllLines(Path path, Charset cs)`                                            | Reads all lines from a file at the given path into a list of strings, using the specified charset.    |\n",
    "| `write(Path path, Iterable<? extends CharSequence> lines, Charset cs)`           | Writes lines of text to the specified file at the given path.                                         |\n",
    "| `createDirectories(Path dir, FileAttribute<?>... attrs)`                         | Creates a directory at the given path, including any necessary but nonexistent parent directories.    |\n",
    "| `createFile(Path path, FileAttribute<?>... attrs)`                               | Creates a new empty file at the specified path.                                                       |\n",
    "| `isHidden(Path path)`                                                            | Tests whether the file at the given path is hidden.                                                   |\n",
    "| `size(Path path)`                                                                | Returns the size of the file in bytes at the given path.                                              |\n",
    "| `walk(Path start, FileVisitOption... options)`                                   | Walks the file tree starting at the given path and applies a file visitor.                            |\n",
    "| `setLastModifiedTime(Path path, FileTime time)`                                  | Sets the last modified time of the file at the specified path.                                        |\n",
    "| `readAttributes(Path path, Class<T> type, LinkOption... options)`                | Reads the attributes of a file at the given path.                                                     |\n",
    "| `lines(Path path, Charset cs)`                                                   | Returns a stream of lines read from the file at the specified path.                                   |"
   ]
  },
  {
   "cell_type": "markdown",
   "metadata": {},
   "source": [
    "Iterating over contents of a directory can be achieved using the `walk` method:"
   ]
  },
  {
   "cell_type": "code",
   "execution_count": null,
   "metadata": {},
   "outputs": [],
   "source": [
    "// Reading directories\n",
    "if (Files.exists(temp)) {\n",
    "    Files.walkFileTree(temp, new FileVisitor<Path>() {\n",
    "        @Override\n",
    "        public FileVisitResult preVisitDirectory(Path dir, BasicFileAttributes attrs) throws IOException {\n",
    "            System.out.println(\"Going to visit directory:\" + dir);\n",
    "            return FileVisitResult.CONTINUE;\n",
    "        }\n",
    "\n",
    "        @Override\n",
    "        public FileVisitResult visitFile(Path file, BasicFileAttributes attrs) throws IOException {\n",
    "            System.out.println(\"Reading contents of file:\" + file + \" contents:\" +\n",
    "                    String.join(\"\", Files.readAllLines(file)));\n",
    "            return FileVisitResult.CONTINUE;\n",
    "        }\n",
    "\n",
    "        @Override\n",
    "        public FileVisitResult visitFileFailed(Path file, IOException exc) throws IOException {\n",
    "            System.out.println(\"Unable to access file:\" + file);\n",
    "            return FileVisitResult.CONTINUE;\n",
    "        }\n",
    "\n",
    "        @Override\n",
    "        public FileVisitResult postVisitDirectory(Path dir, IOException exc) throws IOException {\n",
    "            System.out.println(\"Visited directory:\" + dir);\n",
    "            return FileVisitResult.CONTINUE;\n",
    "        }\n",
    "    });\n",
    "}"
   ]
  }
 ],
 "metadata": {
  "kernelspec": {
   "display_name": "Java",
   "language": "java",
   "name": "java"
  },
  "language_info": {
   "codemirror_mode": "java",
   "file_extension": ".jshell",
   "mimetype": "text/x-java-source",
   "name": "Java",
   "pygments_lexer": "java",
   "version": "21.0.2+13-58"
  }
 },
 "nbformat": 4,
 "nbformat_minor": 4
}
