{
 "cells": [
  {
   "cell_type": "markdown",
   "metadata": {},
   "source": [
    "### Dynamic Programming\n",
    "Dynamic programming can be illustrated by fibonacci series problem. We have to find the $N$th fibonacci number. If we use recursion,"
   ]
  },
  {
   "cell_type": "code",
   "execution_count": 1,
   "metadata": {},
   "outputs": [
    {
     "name": "stdout",
     "output_type": "stream",
     "text": [
      "13\n"
     ]
    }
   ],
   "source": [
    "def fibonacci(N):\n",
    "    if N == 0 or N == 1:\n",
    "        return N\n",
    "    else:\n",
    "        return fibonacci(N-1) + fibonacci(N-2)\n",
    "    \n",
    "print(fibonacci(7))"
   ]
  },
  {
   "cell_type": "markdown",
   "metadata": {},
   "source": [
    "The following recursive calls are made:  \n",
    "![Call Tree](https://i.imgur.com/RUMZX90.png)  \n",
    "\n",
    "We can see that a number of calls are duplicate. Like we are calling `recursive(2)` three times. The time complexity in this case is $O(2^n)$. Dynamic programming can be helpful in this situation where we have *overlapping subproblems* and we can divide the problem into smaller problems which can then be consolidated to get the result. Many problems involving combinatorics or optimisation (minimising/ maximising) can be solved using dynamic programming.  \n",
    "\n",
    "The fibonacci series can be solved by:"
   ]
  },
  {
   "cell_type": "code",
   "execution_count": 2,
   "metadata": {},
   "outputs": [
    {
     "name": "stdout",
     "output_type": "stream",
     "text": [
      "13\n"
     ]
    }
   ],
   "source": [
    "# Bottom up approach, can be more efficient\n",
    "def fibonacci(N):\n",
    "    if N == 0 or N == 1:\n",
    "        return N\n",
    "    else:\n",
    "        dp = [0, 1]\n",
    "        for i in range(2, N+1):\n",
    "            sum = dp[0] + dp[1]\n",
    "            dp[0] = dp[1]\n",
    "            dp[1] = sum\n",
    "    \n",
    "    return dp[1]\n",
    "    \n",
    "print(fibonacci(7))"
   ]
  },
  {
   "cell_type": "markdown",
   "metadata": {},
   "source": [
    "The above solution is $O(n)$ time complexity as well as $O(1)$ space complexity. We can have two approaches with dynamic programming:\n",
    "- Bottom up, where we go from the smallest subproblem to the problem asked. It is iterative in approach. For example, the above fibonacci program.\n",
    "- Top down, where we go from the problem asked to the smallest subproblem and then back up. It is called memoisation and involves recursion."
   ]
  },
  {
   "cell_type": "code",
   "execution_count": 4,
   "metadata": {},
   "outputs": [
    {
     "name": "stdout",
     "output_type": "stream",
     "text": [
      "13\n"
     ]
    }
   ],
   "source": [
    "# Top down approach, needs more memory\n",
    "def fibonacci(N):    \n",
    "    def recurse(N, dp):\n",
    "        if N > len(dp) - 1:\n",
    "            dp.append(recurse(N-1, dp) + recurse(N-2, dp))\n",
    "\n",
    "        return dp[N]\n",
    "    return recurse(N, [0,1])\n",
    "    \n",
    "print(fibonacci(7))"
   ]
  },
  {
   "cell_type": "markdown",
   "metadata": {},
   "source": [
    "The time complexity of dynamic programming approach can be found by finding the number of unique states and multiplying it with the time complexity of each state."
   ]
  },
  {
   "cell_type": "markdown",
   "metadata": {},
   "source": [
    "**Q 1** Starting at the bottom of a staircase at level 1, how many ways are there to reach level $N$ if we can take steps of size 1 or 2?  \n",
    "**Answer** If we have to list down the steps, we can use backtracking. However, here we just want the count, therefore we can use dynamic programming. We can start from level 1 and climb towards level $N$.  \n",
    "At each level $i$, we would have come from level $i-1$ or $i-2$. We thus have the relation $f(i) = f(i-1) + f(i-2)$. Also going from level 1 to level $N$ is the same as going from level $N$ to level 1."
   ]
  },
  {
   "cell_type": "code",
   "execution_count": 7,
   "metadata": {},
   "outputs": [
    {
     "name": "stdout",
     "output_type": "stream",
     "text": [
      "5\n"
     ]
    }
   ],
   "source": [
    "def ways(N):\n",
    "    # One way to reach 1 from 1\n",
    "    # One way to reach 1 from 2\n",
    "    if N == 1 or N == 2:\n",
    "        return 1\n",
    "    \n",
    "    dp = [1, 1]   \n",
    "    for i in range(3, N+1):\n",
    "        s = dp[0] + dp[1]\n",
    "        dp[0] = dp[1]\n",
    "        dp[1] = s\n",
    "        \n",
    "    return dp[1]\n",
    "\n",
    "print(ways(5))"
   ]
  },
  {
   "cell_type": "markdown",
   "metadata": {},
   "source": [
    "What if we want to know the number of steps in the way with minimum number of steps? In that case we make use of this relation: $f(i) = 1 + min(f(i-1), f(i-2))$"
   ]
  },
  {
   "cell_type": "code",
   "execution_count": 12,
   "metadata": {},
   "outputs": [
    {
     "name": "stdout",
     "output_type": "stream",
     "text": [
      "2\n"
     ]
    }
   ],
   "source": [
    "def ways_min_steps(N):\n",
    "    # One way to reach 1 from 1\n",
    "    # One way to reach 1 from 2\n",
    "    if N == 1:\n",
    "        return 0\n",
    "    \n",
    "    # If we are level 2 or 3 it needs only\n",
    "    # 1 step (1 length and 2 length) to reach\n",
    "    # 1\n",
    "    if N == 2 or N == 3:\n",
    "        return 1\n",
    "    \n",
    "    dp = [1, 1]   \n",
    "    for i in range(4, N+1):\n",
    "        s = 1 + min(dp[0], dp[1])\n",
    "        dp[0] = dp[1]\n",
    "        dp[1] = s\n",
    "        \n",
    "    return dp[1]\n",
    "\n",
    "print(ways_min_steps(5))"
   ]
  },
  {
   "cell_type": "markdown",
   "metadata": {},
   "source": [
    "**Q 2** $N$ people want to go for a party. Each person can enter alone or as a pair. How many ways are there to enter the party?  \n",
    "**Answer** For each $i$th person, we make a choice, whether he goes alone or as a pair. If he goes alone, there are $f(i-1)$ ways. If he pairs up, there are $(i-1)f(i-2)$ ways. $(i-1)$ is the total number of choices available for the pairing person. So we have the following relation: $f(i) = f(i-1) + (i-1)f(i-2)$"
   ]
  },
  {
   "cell_type": "code",
   "execution_count": 8,
   "metadata": {},
   "outputs": [
    {
     "name": "stdout",
     "output_type": "stream",
     "text": [
      "10\n"
     ]
    }
   ],
   "source": [
    "def party(N):\n",
    "    if N == 1 or N == 2:\n",
    "        return N\n",
    "    \n",
    "    dp = [1, 2]\n",
    "    for i in range(3, N+1):\n",
    "        ways = dp[1] + (i-1)*dp[0]\n",
    "        dp[0] = dp[1]\n",
    "        dp[1] = ways\n",
    "        \n",
    "    return dp[1]\n",
    "\n",
    "print(party(4))"
   ]
  },
  {
   "cell_type": "markdown",
   "metadata": {},
   "source": [
    "**Q 3** There are $N$ houses represented by an array $A$. $A[i]$ represents the money in the $i$th house. If the robber robs $i$th house, he cannot rob $i-1$ and $i+1$th house. What is the maximum amount of money the robber can rob? For example, `[2, 7, 9, 3, 1]` the maximum amount robbed is 12.  \n",
    "**Answer** We start from the 0th house and move towards the $N$th house. For the $i$th house, we make a choice - rob it or not. We get the following relation $f(i) = max(A[i] + f(i-2), f(i-1))$"
   ]
  },
  {
   "cell_type": "code",
   "execution_count": 9,
   "metadata": {},
   "outputs": [
    {
     "name": "stdout",
     "output_type": "stream",
     "text": [
      "12\n"
     ]
    }
   ],
   "source": [
    "def rob(houses):\n",
    "    # Make use of the same array as dp array\n",
    "    houses[1] = max(houses[0], houses[1])\n",
    "    for i in range(2, len(houses)):\n",
    "        houses[i] = max(houses[i] + houses[i-2], houses[i-1])\n",
    "        \n",
    "    return houses[-1]\n",
    "\n",
    "print(rob([2, 7, 9, 3, 1]))"
   ]
  },
  {
   "cell_type": "markdown",
   "metadata": {},
   "source": [
    "**Q 4** Given a value $N$, if we want to make change for $N$ cents, and we have infinite supply of each of $S = { S_1, S_2, .. , S_m}$ valued coins, how many ways can we make the change?  \n",
    "**Answer:** In this case we can take $j$th coin denomination and mark what all cents it can form."
   ]
  },
  {
   "cell_type": "code",
   "execution_count": 19,
   "metadata": {},
   "outputs": [
    {
     "name": "stdout",
     "output_type": "stream",
     "text": [
      "4\n"
     ]
    }
   ],
   "source": [
    "def coin_change(N, S):\n",
    "    dp = [0] * (N+1)\n",
    "    dp[0] = 1\n",
    "        \n",
    "    for i in range(len(S)):\n",
    "        for j in range(S[i], N+1):\n",
    "            dp[j] += dp[j-S[i]]\n",
    "                \n",
    "    return dp[N]\n",
    "\n",
    "S = [1,2,3]\n",
    "N = 4\n",
    "\n",
    "print(coin_change(N, S))"
   ]
  },
  {
   "cell_type": "markdown",
   "metadata": {},
   "source": [
    "**Q 6** Given a value $N$, if we want to make change for 𝑁 cents, and we have infinite supply of each of $S = { S_1, S_2, .. , S_m}$ valued coins, what is the least number of coins we can use? Return -1 if the value cannot be formed.  \n",
    "**Answer** For every coin denomination available to reach the same value as the coin denomination we need 1 coin. Again, we can see the following relation $f(i) = 1 + min(f(i-S[0]), f(i-S[1], f(i-S[2]), ...)$ "
   ]
  },
  {
   "cell_type": "code",
   "execution_count": 30,
   "metadata": {},
   "outputs": [
    {
     "name": "stdout",
     "output_type": "stream",
     "text": [
      "2\n",
      "2\n",
      "-1\n"
     ]
    }
   ],
   "source": [
    "import sys\n",
    "def min_coin_change(N, S):\n",
    "    if N == 0:\n",
    "        return 0\n",
    "    \n",
    "    dp = [sys.maxsize] * (N+1)\n",
    "    dp[0] = 0\n",
    "        \n",
    "    for i in range(1, N+1):\n",
    "        for j in range(len(S)):\n",
    "            if S[j] <= i:\n",
    "                dp[i] = min(dp[i], 1 + dp[i - S[j]])\n",
    "        \n",
    "    return dp[N] if dp[N] != sys.maxsize else -1\n",
    "\n",
    "S = [25, 10, 5]\n",
    "N = 30\n",
    "print(min_coin_change(N, S))\n",
    "\n",
    "S = [9, 6, 5, 1]\n",
    "N = 11\n",
    "print(min_coin_change(N, S))\n",
    "\n",
    "S = [2]\n",
    "N = 3\n",
    "print(min_coin_change(N, S))"
   ]
  },
  {
   "cell_type": "markdown",
   "metadata": {},
   "source": [
    "**Q 7** A message containing letters from A-Z is being encoded to numbers using the following mapping: `A:1, B:2, C:3,..., Z:26`. Given a number how many messages can it form? For example 22 can form 'BB' and 'V', 2 words.  \n",
    "**Answer** For $i$th digit, we make a choice - should be consider it alone or should we club it with the next letter (if it is possible)."
   ]
  },
  {
   "cell_type": "code",
   "execution_count": 33,
   "metadata": {},
   "outputs": [
    {
     "name": "stdout",
     "output_type": "stream",
     "text": [
      "3\n"
     ]
    }
   ],
   "source": [
    "def decode_ways(encoded_msg):\n",
    "    if encoded_msg == '0':\n",
    "        return 0\n",
    "    \n",
    "    dp = [0] * (len(encoded_msg) + 1)\n",
    "\n",
    "    # dp[0] doesn't represent any character, it is there to facilitate\n",
    "    # counting dp[2]\n",
    "    dp[0] = 1\n",
    "    # dp[1] represents the first character of the encoded message\n",
    "    dp[1] = 1\n",
    "\n",
    "    for i in range(2, len(dp)):\n",
    "        # ith digit considered alone\n",
    "        if int(encoded_msg[i-1]) > 0:\n",
    "            dp[i] = dp[i-1]\n",
    "\n",
    "        # To be able to club together with previous digit\n",
    "        if int(encoded_msg[i-2]) == 1 or (int(encoded_msg[i-2]) == 2 and int(encoded_msg[i-1]) <= 6):\n",
    "            dp[i] += dp[i-2]\n",
    "\n",
    "    return dp[-1]\n",
    "\n",
    "print(decode_ways('226'))"
   ]
  },
  {
   "cell_type": "markdown",
   "metadata": {},
   "source": [
    "**Q 8** Given an array $A$ of integers, find the length of the longest increasing subsequence. For example, if we take the array `[10, 1, 3, 9, 4, 5 ,11, 7]`, we have two longest increasing subsequences: `[1,3,4,5,11]` or `[1,3,4,5,7]` both having length 7.  \n",
    "**Answer** Consider an array with only one integer. The answer would be 1. What we want is a dp array where the $i$th element denotes the maximum length of subsequence with `A[i]` as the last integer."
   ]
  },
  {
   "cell_type": "code",
   "execution_count": 39,
   "metadata": {},
   "outputs": [
    {
     "name": "stdout",
     "output_type": "stream",
     "text": [
      "4\n",
      "3\n"
     ]
    }
   ],
   "source": [
    "def longest_incr_subsequence(A):\n",
    "    dp = [0] * len(A)\n",
    "    dp[0] = 1\n",
    "    \n",
    "    for i in range(1, len(A)):\n",
    "        for j in range(0, i):\n",
    "            if A[i] > A[j]:\n",
    "                dp[i] = max(dp[i], 1 + dp[j])\n",
    "                \n",
    "    return max(dp)\n",
    "\n",
    "A = [10, 1, 3, 9, 4, 5 ,11, 7]\n",
    "print(longest_incr_subsequence(A))\n",
    "\n",
    "A = [10, 20, 30, 5, 6, 8, 9, 1]\n",
    "print(longest_incr_subsequence(A))"
   ]
  },
  {
   "cell_type": "markdown",
   "metadata": {},
   "source": [
    "**Q 9** Given an array containing integers, return the sum of the contiguous array having maximum sum  \n",
    "**Answer** This can be solved without using dynamic programming by:"
   ]
  },
  {
   "cell_type": "code",
   "execution_count": null,
   "metadata": {},
   "outputs": [],
   "source": [
    "def max_subarray(A):\n",
    "        current_sum = A[0]\n",
    "        maximum = A[0]\n",
    "        \n",
    "        for i in range(1, len(A)):\n",
    "            if A[i] + current_sum < A[i]:\n",
    "                current_sum = A[i]\n",
    "            else:\n",
    "                current_sum += A[i]\n",
    "                \n",
    "            if current_sum > maximum:\n",
    "                maximum = current_sum\n",
    "                \n",
    "        return maximum\n",
    "    \n",
    "print(max_subarray([-2, 1, -3, 4, -1, 2, 1, -5, 4]))"
   ]
  },
  {
   "cell_type": "markdown",
   "metadata": {},
   "source": [
    "For the dynamic programming based solution, we create a dp array where the $i$th element represents subarray ending at that element and the value `dp[i]` is the maximum sum."
   ]
  },
  {
   "cell_type": "code",
   "execution_count": 41,
   "metadata": {},
   "outputs": [
    {
     "name": "stdout",
     "output_type": "stream",
     "text": [
      "6\n"
     ]
    }
   ],
   "source": [
    "def max_subarray(A):\n",
    "    dp = [0] * len(A)\n",
    "    dp[0] = A[0]\n",
    "\n",
    "    for i in range(1, len(A)):\n",
    "        dp[i] = max(A[i], A[i] + dp[i-1])\n",
    "\n",
    "    return max(dp)\n",
    "    \n",
    "print(max_subarray([-2, 1, -3, 4, -1, 2, 1, -5, 4]))"
   ]
  },
  {
   "cell_type": "markdown",
   "metadata": {},
   "source": [
    "**Q 10** Given an $M \\times N$ array where from a cell we can either move right or down. Find the number of ways to reach the bottom right corner starting from the top left corner.  \n",
    "**Answer** We can solve this without using dynamic programming by the following expression $= \\frac{(M-1 + N-1)!}{(M-1)!(N-1)!}$  \n",
    "In order to solve the same using dynamic programming, suppose we start from the bottom right corner and move to the top left corner. We will make the following calls (in a 3x3 matrix):  \n",
    "![Call Tree](https://i.imgur.com/6ZEVliW.png)  \n",
    "\n",
    "For a bottom up version we can start at 0,0 and move in valid directions. For this we make use of a 2d dp array."
   ]
  },
  {
   "cell_type": "code",
   "execution_count": 43,
   "metadata": {},
   "outputs": [
    {
     "name": "stdout",
     "output_type": "stream",
     "text": [
      "6\n"
     ]
    }
   ],
   "source": [
    "def matrix_traversal(M, N):    \n",
    "    dp = [[0 for i in range(N)] for j in range(M)]\n",
    "    dp[0][0] = 1\n",
    "    \n",
    "    for i in range(M):\n",
    "        for j in range(N):\n",
    "            if j + 1 < N:\n",
    "                dp[i][j+1] += dp[i][j]\n",
    "            if i + 1 < M:\n",
    "                dp[i+1][j] += dp[i][j]\n",
    "                \n",
    "    return dp[M-1][N-1]\n",
    "\n",
    "print(matrix_traversal(3,3))"
   ]
  },
  {
   "cell_type": "markdown",
   "metadata": {},
   "source": [
    "Both space and time complexity is $O(n^2)$. However we can reduce the space complexity. Consider the following image:  \n",
    "![Required size](https://i.imgur.com/DxLwv8p.png)  \n",
    "\n",
    "The size required is 2xN."
   ]
  },
  {
   "cell_type": "code",
   "execution_count": 49,
   "metadata": {},
   "outputs": [
    {
     "name": "stdout",
     "output_type": "stream",
     "text": [
      "6\n"
     ]
    }
   ],
   "source": [
    "def matrix_traversal(M, N):\n",
    "    dp = [[0 for i in range(N)] for j in range(2)]\n",
    "    dp[0][0] = 1\n",
    "\n",
    "    for i in range(M):\n",
    "        for j in range(N):\n",
    "            if j + 1 < N:\n",
    "                dp[0][j+1] += dp[0][j]\n",
    "            if i + 1 < M:\n",
    "                dp[1][j] += dp[0][j]\n",
    "        # Copy over the second row to the first row\n",
    "        # Except when it is the last row\n",
    "        if i != M-1:\n",
    "            for j in range(M):\n",
    "                dp[0][j] = dp[1][j]\n",
    "                dp[1][j] = 0\n",
    "\n",
    "    return dp[0][N-1]\n",
    "\n",
    "\n",
    "print(matrix_traversal(3, 3))"
   ]
  },
  {
   "cell_type": "markdown",
   "metadata": {},
   "source": [
    "If we have matrix where some cells are blocked, in the dp array we can give a value of zero for the corresponding blocked cell.  \n",
    "What if we have different values for different cells and we have to give the sum of the path having the maximum sum? For example:\n",
    "\n",
    "![Desired path](https://i.imgur.com/gMZHjiJ.png)  \n",
    "\n",
    "We have the following relation $f(m,n) = A[m][n] + max(f(m-1,n), f(m, n-1))$"
   ]
  },
  {
   "cell_type": "code",
   "execution_count": 51,
   "metadata": {},
   "outputs": [
    {
     "name": "stdout",
     "output_type": "stream",
     "text": [
      "16\n"
     ]
    }
   ],
   "source": [
    "import sys\n",
    "def max_sum_path(A):\n",
    "    M = len(A)\n",
    "    N = len(A[0])\n",
    "    \n",
    "    dp = [[0 for i in range(N)] for j in range(M)]\n",
    "    dp[0][0] = A[0][0]\n",
    "    \n",
    "    for i in range(M):\n",
    "        for j in range(N):\n",
    "            a = b = -(sys.maxsize)\n",
    "            if j - 1 >= 0:\n",
    "                a = dp[i][j-1]\n",
    "            if i - 1 >= 0:\n",
    "                b = dp[i-1][j]\n",
    "                \n",
    "            if i == 0 and j == 0:\n",
    "                continue\n",
    "            dp[i][j] = A[i][j] + max(a, b)\n",
    "                \n",
    "    return dp[M-1][N-1]\n",
    "\n",
    "A = [\n",
    "    [1,1,10],\n",
    "    [1,2,3],\n",
    "    [2,4,1]\n",
    "]\n",
    "print(max_sum_path(A))"
   ]
  },
  {
   "cell_type": "markdown",
   "metadata": {},
   "source": [
    "Again in this case too, we can make use of an 2xN matrix"
   ]
  },
  {
   "cell_type": "code",
   "execution_count": 54,
   "metadata": {},
   "outputs": [
    {
     "name": "stdout",
     "output_type": "stream",
     "text": [
      "16\n"
     ]
    }
   ],
   "source": [
    "def max_sum_path(A):\n",
    "    M = len(A)\n",
    "    N = len(A[0])\n",
    "\n",
    "    dp = [[0 for i in range(N)] for j in range(2)]\n",
    "    dp[1][0] = A[0][0]\n",
    "\n",
    "    for i in range(M):\n",
    "        for j in range(N):\n",
    "            a = b = -(sys.maxsize)\n",
    "            if j - 1 >= 0:\n",
    "                a = dp[1][j-1]\n",
    "            if i - 1 >= 0:\n",
    "                b = dp[0][j]\n",
    "\n",
    "            if i == 0 and j == 0:\n",
    "                continue\n",
    "            dp[1][j] = A[i][j] + max(a, b)\n",
    "\n",
    "        # Copy bottom row to top row\n",
    "        if i != M-1:\n",
    "            for j in range(M):\n",
    "                dp[0][j] = dp[1][j]\n",
    "                dp[1][j] = 0\n",
    "\n",
    "    return dp[1][N-1]\n",
    "\n",
    "A = [\n",
    "    [1,1,10],\n",
    "    [1,2,3],\n",
    "    [2,4,1]\n",
    "]\n",
    "print(max_sum_path(A))"
   ]
  },
  {
   "cell_type": "markdown",
   "metadata": {},
   "source": [
    "**Q 11** Given 2 strings $S_1$ and $S_2$, we can do some operations on $S_1$. Find the minimum number of operations required to convert $S_1$ into $S_2$. The operation can be 1) Insert any character 2) Remove any character 3) Replace any character  \n",
    "**Answer** We start from the end of string and compare characters. Let us take example of string 1 being SUNDAY and string 2 being SATURDAY.  \n",
    "<img src=\"https://i.imgur.com/CqwAFrR.jpg\" width=\"700\" height=\"auto\">"
   ]
  },
  {
   "cell_type": "markdown",
   "metadata": {},
   "source": [
    "Amongst the Insert/ Replace/ Delete operations, we have to select the one with minimum operations. We arrive at the following relation: \n",
    "\n",
    "$$\\begin{equation}\n",
    "  f(S_1, S_2, n, m) =\n",
    "    \\begin{cases}\n",
    "      f(S_1, S_2, n-1, m-1) & \\text{if $S_1$[n] == $S_2$[m]}\\\\\n",
    "        \\mathcal{1 + min}\\left\\{\n",
    "        \\begin{array}{l}\n",
    "        f(S_1, S_2, n-1, m-1)\\\\\n",
    "        f(S_1, S_2, n-1, m)\\\\\n",
    "        f(S_1, S_2, n, m-1)\\\\\n",
    "        \\end{array}\n",
    "        \\right\\}\\ \\ \\ \\ \\ \\ \\ \\text{if $S_1$[n] $\\neq$ $S_2$[m]}\n",
    "    \\end{cases}       \n",
    "\\end{equation}$$"
   ]
  },
  {
   "cell_type": "markdown",
   "metadata": {},
   "source": [
    "We make use of a 2D dp array:  \n",
    "![Edit Distance](https://i.imgur.com/w7uIea1.png)"
   ]
  },
  {
   "cell_type": "code",
   "execution_count": 57,
   "metadata": {},
   "outputs": [
    {
     "name": "stdout",
     "output_type": "stream",
     "text": [
      "3\n"
     ]
    }
   ],
   "source": [
    "def min_operations(s1, s2):\n",
    "    n = len(s1)\n",
    "    m = len(s2)\n",
    "    \n",
    "    # Create the dp array\n",
    "    dp = [[0 for i in range(m+1)] for j in range(n+1)]\n",
    "    \n",
    "    # Fill the array\n",
    "    for i in range(n+1):\n",
    "        for j in range(m+1):\n",
    "            if i == 0:\n",
    "                dp[i][j] = j\n",
    "            elif j == 0:\n",
    "                dp[i][j] = i                \n",
    "            elif s1[i-1] == s2[j-1]:\n",
    "                dp[i][j] = dp[i-1][j-1]\n",
    "            else:\n",
    "                dp[i][j] = 1 + min(dp[i][j-1],        # Insert\n",
    "                                   dp[i-1][j],        # Remove\n",
    "                                   dp[i-1][j-1])      # Delete\n",
    "                \n",
    "    return dp[n][m]\n",
    "\n",
    "print(min_operations('SUNDAY', 'SATURDAY'))"
   ]
  },
  {
   "cell_type": "markdown",
   "metadata": {},
   "source": [
    "**Q 12** Given two strings return the length of the longest common subsequence. For example in the strings `YXXTYB` and `XGTGYZB`, `XTYB` is the longest common subsequence having length 4.  \n",
    "**Answer** Call tree:  \n",
    "<img src=\"https://i.imgur.com/NM3ya5t.jpg\" width=\"650\" height=\"auto\">"
   ]
  },
  {
   "cell_type": "markdown",
   "metadata": {},
   "source": [
    "We have the following relation: \n",
    "\n",
    "$$\\begin{equation}\n",
    "  f(S_1, S_2, n, m) =\n",
    "    \\begin{cases}\n",
    "      1 + f(S_1, S_2, n-1, m-1) & \\text{if $S_1$[n] == $S_2$[m]}\\\\\n",
    "        \\mathcal{min}\\left\\{\n",
    "        \\begin{array}{l}\n",
    "        f(S_1, S_2, n-1, m)\\\\\n",
    "        f(S_1, S_2, n, m-1)\\\\\n",
    "        \\end{array}\n",
    "        \\right\\}\\ \\ \\ \\ \\ \\ \\ \\text{if $S_1$[n] $\\neq$ $S_2$[m]}\n",
    "    \\end{cases}       \n",
    "\\end{equation}$$"
   ]
  },
  {
   "cell_type": "markdown",
   "metadata": {},
   "source": [
    "![DP Array](https://i.imgur.com/K4voJHD.png)"
   ]
  },
  {
   "cell_type": "code",
   "execution_count": 61,
   "metadata": {},
   "outputs": [
    {
     "name": "stdout",
     "output_type": "stream",
     "text": [
      "4\n"
     ]
    }
   ],
   "source": [
    "def longest_common_subsequence(s1, s2):\n",
    "    n = len(s1)\n",
    "    m = len(s2)\n",
    "    \n",
    "    # Create the dp array\n",
    "    dp = [[0 for i in range(m+1)] for j in range(n+1)]\n",
    "    \n",
    "    # Fill the array\n",
    "    for i in range(1, n+1):\n",
    "        for j in range(1, m+1):                \n",
    "            if s1[i-1] == s2[j-1]:\n",
    "                dp[i][j] = 1 + dp[i-1][j-1]\n",
    "            else:\n",
    "                dp[i][j] = max(dp[i][j-1], dp[i-1][j])\n",
    "                \n",
    "    return dp[n][m]\n",
    "\n",
    "print(min_operations('YXXTYB', 'XGTGYZB'))"
   ]
  },
  {
   "cell_type": "code",
   "execution_count": null,
   "metadata": {},
   "outputs": [],
   "source": []
  }
 ],
 "metadata": {
  "kernelspec": {
   "display_name": "Python 3",
   "language": "python",
   "name": "python3"
  },
  "language_info": {
   "codemirror_mode": {
    "name": "ipython",
    "version": 3
   },
   "file_extension": ".py",
   "mimetype": "text/x-python",
   "name": "python",
   "nbconvert_exporter": "python",
   "pygments_lexer": "ipython3",
   "version": "3.7.4"
  }
 },
 "nbformat": 4,
 "nbformat_minor": 4
}
