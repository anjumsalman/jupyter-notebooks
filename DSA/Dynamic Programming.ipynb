{
 "cells": [
  {
   "cell_type": "markdown",
   "metadata": {},
   "source": [
    "### Dynamic Programming\n",
    "Dynamic programming can be illustrated by fibonacci series problem. We have to find the $N$th fibonacci number. If we use recursion,"
   ]
  },
  {
   "cell_type": "code",
   "execution_count": 1,
   "metadata": {
    "tags": []
   },
   "outputs": [
    {
     "name": "stdout",
     "output_type": "stream",
     "text": [
      "13\n"
     ]
    }
   ],
   "source": [
    "public int fibonacci(int n) {\n",
    "    if(n == 0 || n == 1) {\n",
    "        return n;\n",
    "    } else {\n",
    "        return fibonacci(n - 1) + fibonacci(n - 2);\n",
    "    }\n",
    "}\n",
    "\n",
    "System.out.println(fibonacci(7))"
   ]
  },
  {
   "cell_type": "markdown",
   "metadata": {},
   "source": [
    "The following recursive calls are made:  \n",
    "![Call Tree](images/RUMZX90.png)  \n",
    "\n",
    "We can see that a number of calls are duplicate. Like we are calling `recursive(2)` three times. The time complexity in this case is $O(2^n)$. Dynamic programming can be helpful in this situation where we have *overlapping subproblems* and we can divide the problem into smaller problems which can then be consolidated to get the result. Many problems involving combinatorics or optimisation (minimising/ maximising) can be solved using dynamic programming.  \n",
    "\n",
    "The fibonacci series can be solved by:"
   ]
  },
  {
   "cell_type": "code",
   "execution_count": 2,
   "metadata": {
    "tags": []
   },
   "outputs": [
    {
     "name": "stdout",
     "output_type": "stream",
     "text": [
      "13\n"
     ]
    }
   ],
   "source": [
    "public int bottomUpFibonacci(int n) {\n",
    "    if(n == 0 || n == 1) {\n",
    "        return n;\n",
    "    } else {\n",
    "        int[] dp = {0, 1};\n",
    "        for(int i=2; i<=n; i++) {\n",
    "            int sum = dp[0] + dp[1];\n",
    "            dp[0] = dp[1];\n",
    "            dp[1] = sum;\n",
    "        }\n",
    "        \n",
    "        return dp[1];\n",
    "    }\n",
    "}\n",
    "    \n",
    "System.out.println(bottomUpFibonacci(7))"
   ]
  },
  {
   "cell_type": "markdown",
   "metadata": {},
   "source": [
    "The above solution is $O(n)$ time complexity as well as $O(1)$ space complexity. We can have two approaches with dynamic programming:\n",
    "- Bottom up, where we go from the smallest subproblem to the problem asked. It is iterative in approach. For example, the above fibonacci program.\n",
    "- Top down, where we go from the problem asked to the smallest subproblem and then back up. It is called memoisation and involves recursion."
   ]
  },
  {
   "cell_type": "code",
   "execution_count": 3,
   "metadata": {
    "tags": []
   },
   "outputs": [
    {
     "name": "stdout",
     "output_type": "stream",
     "text": [
      "13\n"
     ]
    }
   ],
   "source": [
    "public int topDownFibonacci(int n) {\n",
    "    int[] memo = new int[n+1];\n",
    "    Arrays.fill(memo, -1);\n",
    "\n",
    "    return topDownFibonacci(n, memo);\n",
    "}\n",
    "\n",
    "private int topDownFibonacci(int n, int[] memo) {\n",
    "    if(n == 0 || n== 1) {\n",
    "        return n;\n",
    "    } else if(memo[n] != -1) {\n",
    "        return memo[n];\n",
    "    } else {\n",
    "        memo[n] = topDownFibonacci(n-1, memo) + topDownFibonacci(n-2, memo);\n",
    "        return memo[n];\n",
    "    }\n",
    "}\n",
    "\n",
    "System.out.println(topDownFibonacci(7))"
   ]
  },
  {
   "cell_type": "markdown",
   "metadata": {},
   "source": [
    "The time complexity of dynamic programming approach can be found by finding the number of unique states and multiplying it with the time complexity of each state."
   ]
  },
  {
   "cell_type": "markdown",
   "metadata": {},
   "source": [
    "**Q 1** Starting at the bottom of a staircase at level 1, how many ways are there to reach level $N$ if we can take steps of size 1 or 2?  \n",
    "**Answer** If we have to list down the steps, we can use backtracking. However, here we just want the count, therefore we can use dynamic programming. We can start from level 1 and climb towards level $N$.  \n",
    "At each level $i$, we would have come from level $i-1$ or $i-2$. We thus have the relation $f(i) = f(i-1) + f(i-2)$. Also going from level 1 to level $N$ is the same as going from level $N$ to level 1."
   ]
  },
  {
   "cell_type": "code",
   "execution_count": 4,
   "metadata": {
    "tags": []
   },
   "outputs": [
    {
     "name": "stdout",
     "output_type": "stream",
     "text": [
      "5\n"
     ]
    }
   ],
   "source": [
    "// Bottom up approach\n",
    "public int bottomUpWays(int n) {\n",
    "    if(n == 1 || n == 2) {\n",
    "        return 1;\n",
    "    }\n",
    "    \n",
    "    int[] dp = {1, 1};\n",
    "    int w = 0;\n",
    "    for(int i=3; i<=n; i++) {\n",
    "        w = dp[0] + dp[1];\n",
    "        dp[0] = dp[1];\n",
    "        dp[1] = w;\n",
    "    }\n",
    "    \n",
    "    return dp[1];\n",
    "}\n",
    "\n",
    "System.out.println(bottomUpWays(5))"
   ]
  },
  {
   "cell_type": "code",
   "execution_count": 5,
   "metadata": {},
   "outputs": [
    {
     "name": "stdout",
     "output_type": "stream",
     "text": [
      "5\n"
     ]
    }
   ],
   "source": [
    "// Top down approach\n",
    "public int topdownWays(int n) {\n",
    "    int[] memo = new int[n];\n",
    "    Arrays.fill(memo, -1);\n",
    "\n",
    "    return topdownWays(n, memo);\n",
    "}\n",
    "\n",
    "public int topdownWays(int n, int[] memo) {\n",
    "    if(n == 1 || n == 2) {\n",
    "        return 1;\n",
    "    } else if(memo[n-1] != -1) {\n",
    "        return memo[n-1];\n",
    "    }\n",
    "\n",
    "    memo[n-1] = topdownWays(n-1, memo) + topdownWays(n-2, memo);\n",
    "    return memo[n-1];\n",
    "}\n",
    "\n",
    "System.out.println(topdownWays(5))"
   ]
  },
  {
   "cell_type": "markdown",
   "metadata": {},
   "source": [
    "What if we want to know the number of steps in the way with minimum number of steps? In that case we make use of this relation: $f(i) = 1 + min(f(i-1), f(i-2))$"
   ]
  },
  {
   "cell_type": "code",
   "execution_count": 5,
   "metadata": {
    "tags": []
   },
   "outputs": [
    {
     "name": "stdout",
     "output_type": "stream",
     "text": [
      "2\n"
     ]
    }
   ],
   "source": [
    "public int bottomUpMinSteps(int n) {\n",
    "    // Already on step 1, 0 ways\n",
    "    // On step 2, only one possible way\n",
    "    if(n == 1 || n == 2) {\n",
    "        return n - 1;\n",
    "    }\n",
    "    \n",
    "    int[] dp = {0, 1};\n",
    "    int s = 0;\n",
    "    for(int i=3; i<=n; i++) {\n",
    "        s = 1 + Math.min(dp[0], dp[1]);\n",
    "        dp[0] = dp[1];\n",
    "        dp[1] = s;\n",
    "    }\n",
    "    \n",
    "    return s;\n",
    "}\n",
    "\n",
    "System.out.println(bottomUpMinSteps(5))"
   ]
  },
  {
   "cell_type": "code",
   "execution_count": 7,
   "metadata": {},
   "outputs": [
    {
     "name": "stdout",
     "output_type": "stream",
     "text": [
      "2\n"
     ]
    }
   ],
   "source": [
    "public int topdownMinSteps(int n) {\n",
    "    int[] memo = new int[n];\n",
    "    Arrays.fill(memo, -1);\n",
    "\n",
    "    return topdownMinSteps(n, memo);\n",
    "}\n",
    "\n",
    "public int topdownMinSteps(int n, int[] memo) {\n",
    "    // Already on step 1, 0 ways\n",
    "    if(n == 1 || n == 2) {\n",
    "        return n - 1;\n",
    "    } else if(memo[n-1] != -1) {\n",
    "        return memo[n-1];\n",
    "    }\n",
    "    \n",
    "    memo[n-1] = 1 + Math.min(topdownMinSteps(n-1, memo), topdownMinSteps(n-2, memo));\n",
    "    return memo[n-1];\n",
    "}\n",
    "\n",
    "System.out.println(topdownMinSteps(5))"
   ]
  },
  {
   "cell_type": "markdown",
   "metadata": {},
   "source": [
    "**Q 2** $N$ people want to go for a party. Each person can enter alone or as a pair. How many ways are there to enter the party?  \n",
    "**Answer** For each $i$th person, we make a choice, whether he goes alone or as a pair. If he goes alone, there are $f(i-1)$ ways. If he pairs up, there are $(i-1)f(i-2)$ ways. $(i-1)$ is the total number of choices available for the pairing person. So we have the following relation: $f(i) = f(i-1) + (i-1)f(i-2)$"
   ]
  },
  {
   "cell_type": "code",
   "execution_count": 6,
   "metadata": {
    "tags": []
   },
   "outputs": [
    {
     "name": "stdout",
     "output_type": "stream",
     "text": [
      "10\n",
      "211799312\n"
     ]
    }
   ],
   "source": [
    "public int partyBottomUp(int n) {\n",
    "    if(n == 1 || n == 2) {\n",
    "        return n;\n",
    "    }\n",
    "    \n",
    "    int[] dp = {1, 2};\n",
    "    int w = 0;\n",
    "    for(int i=3; i<=n; i++) {\n",
    "        w = dp[1] + (i -1)*dp[0];\n",
    "        dp[0] = dp[1];\n",
    "        dp[1] = w;\n",
    "    }\n",
    "    \n",
    "    return dp[1];\n",
    "}\n",
    "\n",
    "System.out.println(partyBottomUp(4));\n",
    "System.out.println(partyBottomUp(17));"
   ]
  },
  {
   "cell_type": "markdown",
   "metadata": {},
   "source": [
    "Similarly, the top down approach would be:"
   ]
  },
  {
   "cell_type": "code",
   "execution_count": 7,
   "metadata": {
    "tags": []
   },
   "outputs": [
    {
     "name": "stdout",
     "output_type": "stream",
     "text": [
      "10\n",
      "211799312\n"
     ]
    }
   ],
   "source": [
    "public int partyTopDown(int n) {\n",
    "    return partyTopDown(n, new ArrayList<>(List.of(0, 1, 2)));\n",
    "}\n",
    "\n",
    "private int partyTopDown(int n, List<Integer> dp) {\n",
    "    if(n > dp.size()-1) {\n",
    "        dp.add(partyTopDown(n - 1, dp) + (n - 1)*partyTopDown(n - 2, dp));\n",
    "    }\n",
    "    \n",
    "    return dp.get(n);\n",
    "}\n",
    "\n",
    "System.out.println(partyTopDown(4));\n",
    "System.out.println(partyTopDown(17));"
   ]
  },
  {
   "cell_type": "markdown",
   "metadata": {},
   "source": [
    "**Q 3** There are $N$ houses represented by an array $A$. $A[i]$ represents the money in the $i$th house. If the robber robs $i$th house, he cannot rob $i-1$ and $i+1$th house. What is the maximum amount of money the robber can rob? For example, `[2, 7, 9, 3, 1]` the maximum amount robbed is 12.  \n",
    "**Answer** We start from the 0th house and move towards the $N$th house. For the $i$th house, we make a choice - rob it or not. We get the following relation $f(i) = max(A[i] + f(i-2), f(i-1))$"
   ]
  },
  {
   "cell_type": "code",
   "execution_count": 8,
   "metadata": {
    "tags": []
   },
   "outputs": [
    {
     "name": "stdout",
     "output_type": "stream",
     "text": [
      "12\n"
     ]
    }
   ],
   "source": [
    "public int robBottomUp(int[] houses) {\n",
    "    // Create dp array\n",
    "    int[] dp = new int[2];\n",
    "    dp[0] = houses[0];\n",
    "    dp[1] = Math.max(houses[0], houses[1]);\n",
    "    \n",
    "    int m = 0;\n",
    "    for(int i=2; i<houses.length; i++) {\n",
    "        m = Math.max(houses[i] + dp[0], dp[1]);\n",
    "        dp[0] = dp[1];\n",
    "        dp[1] = m;\n",
    "    }\n",
    "    \n",
    "    return dp[1];\n",
    "}\n",
    "\n",
    "System.out.println(robBottomUp(new int[]{2, 7, 9, 3, 1}));"
   ]
  },
  {
   "cell_type": "markdown",
   "metadata": {},
   "source": [
    "We don't even need to create a separate dp array, we can utilize the same array:"
   ]
  },
  {
   "cell_type": "code",
   "execution_count": 9,
   "metadata": {
    "tags": []
   },
   "outputs": [
    {
     "name": "stdout",
     "output_type": "stream",
     "text": [
      "12\n"
     ]
    }
   ],
   "source": [
    "public int robBottomUp_(int[] houses) {\n",
    "    houses[1] = Math.max(houses[0], houses[1]);\n",
    "    \n",
    "    int m = 0;\n",
    "    for(int i=2; i<houses.length; i++) {\n",
    "        houses[i] = Math.max(houses[i] + houses[i-2], houses[i-1]);\n",
    "    }\n",
    "    \n",
    "    return houses[houses.length - 1];\n",
    "}\n",
    "\n",
    "System.out.println(robBottomUp_(new int[]{2, 7, 9, 3, 1}));"
   ]
  },
  {
   "cell_type": "code",
   "execution_count": 2,
   "metadata": {},
   "outputs": [
    {
     "name": "stdout",
     "output_type": "stream",
     "text": [
      "12\n"
     ]
    }
   ],
   "source": [
    "public int robTopDown(int[] houses) {\n",
    "    List<Integer> memo = null;\n",
    "    if (houses.length >= 2) {\n",
    "        memo = new ArrayList<>(List.of(houses[0], Math.max(houses[0], houses[1])));\n",
    "    } else if (houses.length >= 1) {\n",
    "        memo = new ArrayList<>(List.of(houses[0]));\n",
    "    }\n",
    "\n",
    "    return robTopDown(houses.length - 1, houses, memo);\n",
    "}\n",
    "\n",
    "private int robTopDown(int i, int[] houses, List<Integer> memo) {\n",
    "    if (i + 1 > memo.size()) {\n",
    "        memo.add(Math.max(houses[i] + robTopDown(i - 2, houses, memo), robTopDown(i - 1, houses, memo)));\n",
    "    }\n",
    "\n",
    "    return memo.get(i);\n",
    "}\n",
    "\n",
    "System.out.println(robTopDown(new int[]{2, 7, 9, 3, 1}));"
   ]
  },
  {
   "cell_type": "markdown",
   "metadata": {},
   "source": [
    "**Q 4** Given a value $N$, if we want to make change for $N$ cents, and we have infinite supply of each of $S = { S_1, S_2, .. , S_m}$ valued coins, how many ways can we make the change?  \n",
    "**Answer:** In this case we can take $j$th coin denomination and mark what all cents it can form."
   ]
  },
  {
   "cell_type": "code",
   "execution_count": 10,
   "metadata": {
    "tags": []
   },
   "outputs": [
    {
     "name": "stdout",
     "output_type": "stream",
     "text": [
      "7\n"
     ]
    }
   ],
   "source": [
    "// No memoisation applied yet\n",
    "public int coinChange(int amount, int[] supply) {\n",
    "    // One way to make zero cents\n",
    "    if(amount == 0) {\n",
    "        return 1;\n",
    "    }\n",
    "    \n",
    "    if(amount < 0) {\n",
    "        return 0;\n",
    "    }\n",
    "    \n",
    "    int count = 0;\n",
    "    for(int i=0; i<supply.length; i++) {\n",
    "        count += coinChange(amount - supply[i], supply);\n",
    "    }\n",
    "    \n",
    "    return count;\n",
    "}\n",
    "\n",
    "System.out.println(coinChange(4, new int[]{1, 2, 3}));"
   ]
  },
  {
   "cell_type": "markdown",
   "metadata": {},
   "source": [
    "7 as the answer in the test case is incorrect. We are counting same coins twice: (1,1,1,1), (1,1,2), (1,3), (3,1), (2,2), (1,2,1) and (2,1,1). So instead, we want to count how many times are using a particular coin. The recursive call chain below exaplins this:\n",
    "\n",
    "<img src=\"images/coin_change.png\" />"
   ]
  },
  {
   "cell_type": "code",
   "execution_count": 11,
   "metadata": {
    "tags": []
   },
   "outputs": [
    {
     "name": "stdout",
     "output_type": "stream",
     "text": [
      "4\n"
     ]
    }
   ],
   "source": [
    "public int coinChange(int amount, int[] supply) {\n",
    "    return coinChange(amount, 0, supply, new HashMap<>());\n",
    "}\n",
    "\n",
    "private int coinChange(int amount, int index, int[] supply, Map<Integer, Integer> memo) {\n",
    "    // One way to make zero cents\n",
    "    if(amount == 0) {\n",
    "        return 1;\n",
    "    }\n",
    "    \n",
    "    if(index >= supply.length) {\n",
    "        return 0;\n",
    "    }\n",
    "    \n",
    "    if(memo.containsKey(amount)) {\n",
    "        return memo.get(amount);\n",
    "    }\n",
    "    \n",
    "    int count = 0;\n",
    "    for(int i=0; i*supply[index] <= amount; i++) {\n",
    "        count += coinChange(amount - i*supply[index], index+1, supply);\n",
    "    }\n",
    "    \n",
    "    memo.put(amount, count);\n",
    "    return count;\n",
    "}\n",
    "\n",
    "System.out.println(coinChange(4, new int[]{1, 2, 3}));"
   ]
  },
  {
   "cell_type": "markdown",
   "metadata": {},
   "source": [
    "**Q 6** Given a value $N$, if we want to make change for 𝑁 cents, and we have infinite supply of each of $S = { S_1, S_2, .. , S_m}$ valued coins, what is the least number of coins we can use? Return -1 if the value cannot be formed.  \n",
    "**Answer** For every coin denomination available to reach the same value as the coin denomination we need 1 coin. Again, we can see the following relation $f(i) = 1 + min(f(i-S[0]), f(i-S[1], f(i-S[2]), ...)$ "
   ]
  },
  {
   "cell_type": "code",
   "execution_count": 12,
   "metadata": {
    "tags": []
   },
   "outputs": [
    {
     "name": "stdout",
     "output_type": "stream",
     "text": [
      "2\n",
      "2\n",
      "-1\n"
     ]
    }
   ],
   "source": [
    "// Hashmap better choice for dp\n",
    "public int minCoinChange(int amount, int[] supply) {\n",
    "    return minCoinChange(amount, supply, new HashMap<>());\n",
    "}\n",
    "\n",
    "private int minCoinChange(int amount, int[] supply, Map<Integer, Integer> memo) {\n",
    "    if(amount == 0) {\n",
    "        return 0;\n",
    "    }\n",
    "    \n",
    "    if(amount < 0) {\n",
    "        return -1;\n",
    "    }\n",
    "    \n",
    "    int count = Integer.MAX_VALUE;\n",
    "    for (int i = 0; i < supply.length; i++) {\n",
    "        int temp = minCoinsTD(amount - supply[i], supply, memo);\n",
    "        if (temp != -1) {\n",
    "            count = Math.min(count, temp);\n",
    "        }\n",
    "    }\n",
    "\n",
    "    count = count == Integer.MAX_VALUE ? -1 : count + 1;\n",
    "    memo.put(amount, count);\n",
    "    return count;\n",
    "}\n",
    "\n",
    "System.out.println(minCoinChange(30, new int[]{25, 10, 5}));\n",
    "System.out.println(minCoinChange(11, new int[]{9, 6, 5, 1}));\n",
    "System.out.println(minCoinChange(3, new int[]{2}));"
   ]
  },
  {
   "cell_type": "markdown",
   "metadata": {},
   "source": [
    "**Q 7** A message containing letters from A-Z is being encoded to numbers using the following mapping: `A:1, B:2, C:3,..., Z:26`. Given a number how many messages can it form? For example 22 can form 'BB' and 'V', 2 words.  \n",
    "**Answer** For $i$th digit, we make a choice - should be consider it alone or should we club it with the next letter (if it is possible)."
   ]
  },
  {
   "cell_type": "code",
   "execution_count": 13,
   "metadata": {
    "tags": []
   },
   "outputs": [
    {
     "name": "stdout",
     "output_type": "stream",
     "text": [
      "3\n",
      "1\n",
      "2\n"
     ]
    }
   ],
   "source": [
    "public int decodeWays(String msg) {\n",
    "    int[] dp = new int[msg.length()];\n",
    "    dp[0] = 1;\n",
    "    \n",
    "    for(int i=1; i<msg.length(); i++) {\n",
    "        // Consider ith character alone\n",
    "        if(Integer.valueOf(msg.charAt(i) + \"\") > 0) { // concatenate with \"\" to convert to string\n",
    "            dp[i] = dp[i-1];\n",
    "        }\n",
    "        \n",
    "        // Clubbed together with previous digit\n",
    "        if(Integer.valueOf(msg.charAt(i-1) + \"\") == 1 || (Integer.valueOf(msg.charAt(i-1) + \"\") == 2 && Integer.valueOf(msg.charAt(i) + \"\") <= 6)) {\n",
    "            if(i-2 < 0) {    // without this examples such as 23 will not give correct result\n",
    "                dp[i] += 1;\n",
    "            } else {\n",
    "                dp[i] += dp[i-2];\n",
    "            }\n",
    "        }\n",
    "    }\n",
    "    \n",
    "    return dp[msg.length() - 1];\n",
    "}\n",
    "\n",
    "System.out.println(decodeWays(\"226\"));\n",
    "System.out.println(decodeWays(\"206\"));\n",
    "System.out.println(decodeWays(\"255\"));"
   ]
  },
  {
   "cell_type": "markdown",
   "metadata": {},
   "source": [
    "**Q 8** Given an array $A$ of integers, find the length of the longest increasing subsequence. For example, if we take the array `[10, 1, 3, 9, 4, 5 ,11, 7]`, we have two longest increasing subsequences: `[1,3,4,5,11]` or `[1,3,4,5,7]` both having length 7.  \n",
    "**Answer** Consider an array with only one integer. The answer would be 1. What we want is a dp array where the $i$th element denotes the maximum length of subsequence with `A[i]` as the last integer."
   ]
  },
  {
   "cell_type": "code",
   "execution_count": 14,
   "metadata": {
    "tags": []
   },
   "outputs": [
    {
     "name": "stdout",
     "output_type": "stream",
     "text": [
      "5\n",
      "4\n"
     ]
    }
   ],
   "source": [
    "public int longestSubsequence(int[] array) {\n",
    "    int[] dp = new int[array.length];\n",
    "    // Each element of the array will be part of subsequence of atleast length 1\n",
    "    for(int i=0; i<dp.length; i++) {\n",
    "        dp[i] = 1;\n",
    "    }\n",
    "    \n",
    "    int max = Integer.MIN_VALUE;\n",
    "    for(int end=1; end<array.length; end++) {\n",
    "        for(int start=0; start<end; start++) {  // Check for all possible previous element of subsequence\n",
    "            if(array[end] > array[start]) {     // Current element is considered as last element only when this is satisfied\n",
    "                dp[end] = Math.max(dp[end], 1 + dp[start]);\n",
    "                if(dp[end] > max)               // Answer will be the largest element of the dp array\n",
    "                    max = dp[end];\n",
    "            }\n",
    "        }\n",
    "    }\n",
    "    \n",
    "    return max;\n",
    "}\n",
    "\n",
    "System.out.println(longestSubsequence(new int[]{10, 1, 3, 9, 4, 5 ,11, 7}));\n",
    "System.out.println(longestSubsequence(new int[]{10, 20, 30, 5, 6, 8, 9, 1}));"
   ]
  },
  {
   "cell_type": "markdown",
   "metadata": {},
   "source": [
    "**Q 9** Given an array containing integers, return the sum of the contiguous array having maximum sum  \n",
    "**Answer** This can be solved without using dynamic programming by:"
   ]
  },
  {
   "cell_type": "code",
   "execution_count": 15,
   "metadata": {
    "tags": []
   },
   "outputs": [
    {
     "name": "stdout",
     "output_type": "stream",
     "text": [
      "6\n"
     ]
    }
   ],
   "source": [
    "public int maxSubarray(int[] array) {\n",
    "    int currentSum = array[0];\n",
    "    int maxSum = currentSum;\n",
    "    \n",
    "    for(int i=1; i<array.length; i++) {\n",
    "        currentSum = Math.max(currentSum + array[i], array[i]);\n",
    "        \n",
    "        if(currentSum > maxSum) {\n",
    "            maxSum = currentSum;\n",
    "        }\n",
    "    }\n",
    "    \n",
    "    return maxSum;\n",
    "}\n",
    "\n",
    "System.out.println(maxSubarray(new int[]{-2, 1, -3, 4, -1, 2, 1, -5, 4}));"
   ]
  },
  {
   "cell_type": "markdown",
   "metadata": {},
   "source": [
    "For the dynamic programming based solution, we create a dp array where the $i$th element represents subarray ending at that element and the value `dp[i]` is the maximum sum."
   ]
  },
  {
   "cell_type": "code",
   "execution_count": 16,
   "metadata": {
    "tags": []
   },
   "outputs": [
    {
     "name": "stdout",
     "output_type": "stream",
     "text": [
      "6\n"
     ]
    }
   ],
   "source": [
    "public int maxSubarrayBottomUp(int[] array) {\n",
    "    int[] dp = new int[array.length];\n",
    "    dp[0] = array[0];\n",
    "    \n",
    "    int maxSum = dp[0];\n",
    "    \n",
    "    for(int i=1; i<array.length; i++) {\n",
    "        dp[i] = Math.max(array[i], array[i] + dp[i-1]);\n",
    "        if(dp[i] > maxSum) {\n",
    "            maxSum = dp[i];\n",
    "        }\n",
    "    }\n",
    "    \n",
    "    return maxSum;\n",
    "}\n",
    "\n",
    "System.out.println(maxSubarrayBottomUp(new int[]{-2, 1, -3, 4, -1, 2, 1, -5, 4}));"
   ]
  },
  {
   "cell_type": "markdown",
   "metadata": {},
   "source": [
    "**Q 10** Given an $M \\times N$ array where from a cell we can either move right or down. Find the number of ways to reach the bottom right corner starting from the top left corner.  \n",
    "**Answer** We can solve this without using dynamic programming by the following expression $= \\frac{(M-1 + N-1)!}{(M-1)!(N-1)!}$  \n",
    "In order to solve the same using dynamic programming, suppose we start from the bottom right corner and move to the top left corner. We will make the following calls (in a 3x3 matrix):  \n",
    "![Call Tree](images/6ZEVliW.png)  \n",
    "\n",
    "For a bottom up version we can start at 0,0 and move in valid directions. For this we make use of a 2d dp array."
   ]
  },
  {
   "cell_type": "code",
   "execution_count": 17,
   "metadata": {
    "tags": []
   },
   "outputs": [
    {
     "name": "stdout",
     "output_type": "stream",
     "text": [
      "10\n"
     ]
    }
   ],
   "source": [
    "public int matrixTraversal(int m, int n) {\n",
    "    int[][] dp = new int[m][n];\n",
    "    dp[0][0] = 1;\n",
    "    \n",
    "    for(int i=0; i<m; i++) {\n",
    "        for(int j=0; j<n; j++) {\n",
    "            // Coming from left\n",
    "            if(j-1 >=0) {\n",
    "                dp[i][j] += dp[i][j-1];\n",
    "            }\n",
    "            \n",
    "            // Coming from top\n",
    "            if(i-1 >=0) {\n",
    "                dp[i][j] += dp[i-1][j];\n",
    "            }\n",
    "        }\n",
    "    }\n",
    "    \n",
    "    return dp[m-1][n-1];\n",
    "}\n",
    "\n",
    "System.out.println(matrixTraversal(4,3));"
   ]
  },
  {
   "cell_type": "markdown",
   "metadata": {},
   "source": [
    "Both space and time complexity is $O(n^2)$. However we can reduce the space complexity. Consider the following image:  \n",
    "![Required size](images/DxLwv8p.png)  \n",
    "\n",
    "The size required is 2xN."
   ]
  },
  {
   "cell_type": "code",
   "execution_count": 18,
   "metadata": {
    "tags": []
   },
   "outputs": [
    {
     "name": "stdout",
     "output_type": "stream",
     "text": [
      "10\n"
     ]
    }
   ],
   "source": [
    "public int matrixTraversal(int m, int n) {\n",
    "    int[][] dp = new int[2][n];\n",
    "    \n",
    "    for(int i=0; i<m; i++) {\n",
    "        for(int j=0; j<n; j++) {\n",
    "            // Number of ways of reaching any cell in first row is 1\n",
    "            if(i == 0) {\n",
    "                dp[0][j] = 1;\n",
    "            } else {\n",
    "                if(j-1 >=0) {\n",
    "                    dp[1][j] += dp[1][j-1];\n",
    "                }\n",
    "                \n",
    "                dp[1][j] += dp[0][j];\n",
    "            }\n",
    "        }\n",
    "        \n",
    "        // Copy second row to the first, except when first\n",
    "        if(i!=0) {\n",
    "            for(int j=0; j<n; j++) {\n",
    "                dp[0][j] = dp[1][j];\n",
    "                dp[1][j] = 0;\n",
    "            }\n",
    "        }\n",
    "    }\n",
    "    \n",
    "    return dp[0][n-1];\n",
    "}\n",
    "\n",
    "System.out.println(matrixTraversal(4,3));"
   ]
  },
  {
   "cell_type": "markdown",
   "metadata": {},
   "source": [
    "If we have matrix where some cells are blocked, in the dp array we can give a value of zero for the corresponding blocked cell.  \n",
    "What if we have different values for different cells and we have to give the sum of the path having the maximum sum? For example:\n",
    "\n",
    "![Desired path](images/gMZHjiJ.png)  \n",
    "\n",
    "We have the following relation $f(m,n) = A[m][n] + max(f(m-1,n), f(m, n-1))$"
   ]
  },
  {
   "cell_type": "code",
   "execution_count": 19,
   "metadata": {
    "tags": []
   },
   "outputs": [
    {
     "name": "stdout",
     "output_type": "stream",
     "text": [
      "16\n"
     ]
    }
   ],
   "source": [
    "public int maxSumPath(int[][] matrix) {\n",
    "    int[][] dp = new int[matrix.length][matrix[0].length];\n",
    "    dp[0][0] = matrix[0][0];\n",
    "    \n",
    "    for(int i=0; i<dp.length; i++) {\n",
    "        for(int j=0; j<dp[0].length; j++) {\n",
    "            if(i == 0 && j == 0) {\n",
    "                continue;\n",
    "            }\n",
    "                \n",
    "            int fromLeft = Integer.MIN_VALUE;\n",
    "            int fromTop = Integer.MIN_VALUE;\n",
    "\n",
    "            // Coming from left\n",
    "            if(j-1 >=0) {\n",
    "                fromLeft = dp[i][j-1];\n",
    "            }\n",
    "\n",
    "            // Coming from top\n",
    "            if(i-1 >=0) {\n",
    "                fromTop = dp[i-1][j];\n",
    "            }\n",
    "\n",
    "            dp[i][j] = matrix[i][j] + Math.max(fromLeft, fromTop); \n",
    "        }\n",
    "    }\n",
    "    \n",
    "    return dp[dp.length-1][dp[0].length-1];\n",
    "}\n",
    "\n",
    "int[][] matrix = new int[][]{\n",
    "    {1,1,10},\n",
    "    {1,2,3},\n",
    "    {2,4,1}\n",
    "};\n",
    "System.out.println(maxSumPath(matrix));"
   ]
  },
  {
   "cell_type": "markdown",
   "metadata": {},
   "source": [
    "Again in this case too, we can make use of an 2xN matrix"
   ]
  },
  {
   "cell_type": "code",
   "execution_count": 20,
   "metadata": {
    "tags": []
   },
   "outputs": [
    {
     "name": "stdout",
     "output_type": "stream",
     "text": [
      "16\n"
     ]
    }
   ],
   "source": [
    "public int maxSumPath(int[][] matrix) {\n",
    "    int[][] dp = new int[2][matrix[0].length];\n",
    "    dp[0][0] = matrix[0][0];\n",
    "    \n",
    "    for(int i=0; i<matrix.length; i++) {\n",
    "        for(int j=0; j<matrix[0].length; j++) {\n",
    "            if(i == 0 && j == 0) {\n",
    "                continue;\n",
    "            }\n",
    "            \n",
    "            if(i == 0) {\n",
    "                dp[0][j] = matrix[i][j] + dp[0][j-1];\n",
    "            } else {\n",
    "                int fromLeft = Integer.MIN_VALUE;\n",
    "                int fromTop = Integer.MIN_VALUE;\n",
    "                \n",
    "                if(j-1 >=0) {\n",
    "                    fromLeft = dp[1][j-1];\n",
    "                }\n",
    "                \n",
    "                fromTop = dp[0][j];\n",
    "                \n",
    "                dp[1][j] = matrix[i][j] + Math.max(fromLeft, fromTop);\n",
    "            }\n",
    "        }\n",
    "        \n",
    "        // Copy second row to the first, except when first\n",
    "        if(i!=0) {\n",
    "            for(int j=0; j<dp[0].length; j++) {\n",
    "                dp[0][j] = dp[1][j];\n",
    "                dp[1][j] = 0;\n",
    "            }\n",
    "        }\n",
    "    }\n",
    "    \n",
    "    return dp[0][dp[0].length - 1];\n",
    "}\n",
    "\n",
    "int[][] matrix = new int[][]{\n",
    "    {1,1,10},\n",
    "    {1,2,3},\n",
    "    {2,4,1}\n",
    "};\n",
    "System.out.println(maxSumPath(matrix));"
   ]
  },
  {
   "cell_type": "markdown",
   "metadata": {},
   "source": [
    "**Q 11** Given 2 strings $S_1$ and $S_2$, we can do some operations on $S_1$. Find the minimum number of operations required to convert $S_1$ into $S_2$. The operation can be 1) Insert any character 2) Remove any character 3) Replace any character  \n",
    "**Answer** We start from the end of string and compare characters. Let us take example of string 1 being SUNDAY and string 2 being SATURDAY.  \n",
    "<img src=\"images/CqwAFrR.jpg\" width=\"700\" height=\"auto\">"
   ]
  },
  {
   "cell_type": "markdown",
   "metadata": {},
   "source": [
    "Amongst the Insert/ Replace/ Delete operations, we have to select the one with minimum operations. We arrive at the following relation: \n",
    "\n",
    "$$\\begin{equation}\n",
    "  f(S_1, S_2, n, m) =\n",
    "    \\begin{cases}\n",
    "      f(S_1, S_2, n-1, m-1) & \\text{if $S_1$[n] == $S_2$[m]}\\\\\n",
    "        \\mathcal{1 + min}\\left\\{\n",
    "        \\begin{array}{l}\n",
    "        f(S_1, S_2, n-1, m-1)\\\\\n",
    "        f(S_1, S_2, n-1, m)\\\\\n",
    "        f(S_1, S_2, n, m-1)\\\\\n",
    "        \\end{array}\n",
    "        \\right\\}\\ \\ \\ \\ \\ \\ \\ \\text{if $S_1$[n] $\\neq$ $S_2$[m]}\n",
    "    \\end{cases}       \n",
    "\\end{equation}$$"
   ]
  },
  {
   "cell_type": "markdown",
   "metadata": {},
   "source": [
    "We make use of a 2D dp array:  \n",
    "![Edit Distance](images/w7uIea1.png)"
   ]
  },
  {
   "cell_type": "code",
   "execution_count": 17,
   "metadata": {
    "tags": []
   },
   "outputs": [
    {
     "name": "stdout",
     "output_type": "stream",
     "text": [
      "3\n"
     ]
    }
   ],
   "source": [
    "public int minOperations(String s1, String s2) {\n",
    "    int[][] dp = new int[s1.length() + 1][s2.length() + 1];\n",
    "    \n",
    "    for(int i=0; i <= s1.length(); i++) {\n",
    "        for(int j=0; j<= s2.length(); j++) {\n",
    "            // If one of the string has length 0, min operations\n",
    "            // equals the length of the other string\n",
    "            if(i == 0) {\n",
    "                dp[i][j] = j;\n",
    "            } else if(j == 0) {\n",
    "                dp[i][j] = i;\n",
    "            } else if(s1.charAt(i-1) == s2.charAt(j-1)) {\n",
    "                dp[i][j] = dp[i-1][j-1];\n",
    "            // Perform operations\n",
    "            } else {\n",
    "                dp[i][j] = 1 + Math.min(dp[i-1][j],   // Delete\n",
    "                                Math.min( dp[i][j-1], // Insert\n",
    "                                    dp[i-1][j-1]      // Replace\n",
    "                                ));\n",
    "            }\n",
    "        }\n",
    "    }\n",
    "    \n",
    "    return dp[s1.length()][s2.length()];\n",
    "}\n",
    "\n",
    "System.out.println(minOperations(\"SUNDAY\", \"SATURDAY\"))"
   ]
  },
  {
   "cell_type": "markdown",
   "metadata": {},
   "source": [
    "**Q 12** Given two strings return the length of the longest common subsequence. For example in the strings `YXXTYB` and `XGTGYZB`, `XTYB` is the longest common subsequence having length 4.  \n",
    "**Answer** Call tree:  \n",
    "<img src=\"images/NM3ya5t.jpg\" width=\"650\" height=\"auto\">"
   ]
  },
  {
   "cell_type": "markdown",
   "metadata": {},
   "source": [
    "We have the following relation: \n",
    "\n",
    "$$\\begin{equation}\n",
    "  f(S_1, S_2, n, m) =\n",
    "    \\begin{cases}\n",
    "      1 + f(S_1, S_2, n-1, m-1) & \\text{if $S_1$[n] == $S_2$[m]}\\\\\n",
    "        \\mathcal{max}\\left\\{\n",
    "        \\begin{array}{l}\n",
    "        f(S_1, S_2, n-1, m)\\\\\n",
    "        f(S_1, S_2, n, m-1)\\\\\n",
    "        \\end{array}\n",
    "        \\right\\}\\ \\ \\ \\ \\ \\ \\ \\text{if $S_1$[n] $\\neq$ $S_2$[m]}\n",
    "    \\end{cases}       \n",
    "\\end{equation}$$"
   ]
  },
  {
   "cell_type": "markdown",
   "metadata": {},
   "source": [
    "![DP Array](images/K4voJHD.png)"
   ]
  },
  {
   "cell_type": "code",
   "execution_count": 12,
   "metadata": {
    "tags": []
   },
   "outputs": [
    {
     "name": "stdout",
     "output_type": "stream",
     "text": [
      "4\n"
     ]
    }
   ],
   "source": [
    "public int longestCommonSubsequence(String s1, String s2) {\n",
    "    // Create the dp array\n",
    "    int[][] dp = new int[s1.length() + 1][s2.length() + 1];\n",
    "    \n",
    "    // Below i and j represent the ending indices of substrings starting at 0\n",
    "    for(int i=1; i<s1.length() + 1; i++) {\n",
    "        for(int j=1; j<s2.length() + 1; j++) {\n",
    "            if(s1.charAt(i-1) == s2.charAt(j-1)) {\n",
    "                dp[i][j] = 1 + dp[i-1][j-1];\n",
    "            } else {\n",
    "                dp[i][j] = Math.max(dp[i-1][j], dp[i][j-1]);\n",
    "            }\n",
    "        }\n",
    "    }\n",
    "    \n",
    "    return dp[s1.length()][s2.length()];\n",
    "}\n",
    "\n",
    "System.out.println(longestCommonSubsequence(\"YXXTYB\", \"XGTGYZB\"));"
   ]
  },
  {
   "cell_type": "markdown",
   "metadata": {},
   "source": [
    "We can also solve it in a top down fashion:"
   ]
  },
  {
   "cell_type": "code",
   "execution_count": 11,
   "metadata": {
    "tags": []
   },
   "outputs": [
    {
     "name": "stdout",
     "output_type": "stream",
     "text": [
      "4\n"
     ]
    }
   ],
   "source": [
    "public int longestCommonSubsequence2(String s1, String s2) {\n",
    "    return longestCommonSubsequence2(s1, s2, new HashMap<>());\n",
    "}\n",
    "\n",
    "private int longestCommonSubsequence2(String s1, String s2, Map<List<String>, Integer> dp) {\n",
    "    if(s1 == null || s1 == \"\" || s2 == null || s2 == \"\") {\n",
    "        return 0;\n",
    "    }\n",
    "    \n",
    "    if(dp.containsKey(List.of(s1, s2))) {\n",
    "        return dp.get(List.of(s1, s2));\n",
    "    }\n",
    "    \n",
    "    int answer = 0;\n",
    "    if(s1.charAt(0) == s2.charAt(0)) {\n",
    "        answer = 1 + longestCommonSubsequence2(s1.substring(1), s2.substring(1), dp);\n",
    "    } else {\n",
    "        answer = Math.max(\n",
    "            longestCommonSubsequence2(s1, s2.substring(1), dp),\n",
    "            longestCommonSubsequence2(s1.substring(1), s2, dp)\n",
    "        );\n",
    "    }\n",
    "    \n",
    "    dp.put(List.of(s1, s2), answer);\n",
    "    return answer;\n",
    "}\n",
    "\n",
    "System.out.println(longestCommonSubsequence2(\"YXXTYB\", \"XGTGYZB\"));"
   ]
  },
  {
   "cell_type": "markdown",
   "metadata": {},
   "source": [
    "**Q 13** What if instead of longest common subsequence, we need to find the length of longest common substring?  \n",
    "**Answer** In this case, we need to check the characters of the both strings - \n",
    "a) If the characters match, then consider the remaining characters, the current length is 1\n",
    "b) If the characters do not match, then the current length is 0\n",
    "c) Check what is bigger - the current length or the longest common substring between the strings `S1[1:], S2[0:]` and `S1[0:], S2[1:]`\n",
    "\n",
    "<img src=\"https://tutorialhorizon.com/static/media/algorithms/2015/06/Longest-Common-Substring-Matrix.png\" width=\"600\" height=\"auto\">"
   ]
  },
  {
   "cell_type": "code",
   "execution_count": 23,
   "metadata": {
    "tags": []
   },
   "outputs": [
    {
     "name": "stdout",
     "output_type": "stream",
     "text": [
      "4\n"
     ]
    }
   ],
   "source": [
    "public int longestCommonSubstring(String s1, String s2) {\n",
    "    int[][] dp = new int[s1.length() + 1][s2.length() + 1];\n",
    "    \n",
    "    // Set answer to zero if any of string has length 0\n",
    "    for(int i=0; i<= s1.length(); i++) {\n",
    "        dp[i][0] = 0;\n",
    "    }\n",
    "    for(int j=0; j<= s2.length(); j++) {\n",
    "        dp[0][j] = 0;\n",
    "    }\n",
    "    \n",
    "    // i and j represent the ending indices in s1 and s2\n",
    "    for(int i=1; i<= s1.length(); i++) {\n",
    "        for(int j=1; j<= s2.length(); j++) {\n",
    "            if(s1.charAt(i-1) == s2.charAt(j-1)) {\n",
    "                dp[i][j] = 1 + dp[i-1][j-1];\n",
    "            } else {\n",
    "                dp[i][j] = 0;\n",
    "            }\n",
    "        }\n",
    "    }\n",
    "    \n",
    "    // Find max value in the dp array\n",
    "    int result = -1;\n",
    "    for(int i=0; i<= s1.length(); i++) {\n",
    "        for(int j=0; j<= s2.length(); j++) {\n",
    "            if(dp[i][j] > result) {\n",
    "                result = dp[i][j];\n",
    "            }\n",
    "        }\n",
    "    }\n",
    "    \n",
    "    return result;\n",
    "}\n",
    "\n",
    "System.out.println(longestCommonSubstring(\"adac\", \"adadac\"));"
   ]
  },
  {
   "cell_type": "markdown",
   "metadata": {
    "tags": []
   },
   "source": [
    "**Q 14** Find the minimum number of cuts required such that each individual partition of the string is a palindrome. For example, if the input string is `ABAC` we need just one partition: `ABA|C` .  \n",
    "**Answer** Let us consider the dp array where `dp[i]` represents minimum cuts required for string ending at `i`. Consider the image below:  \n",
    "![Partition](images/c22MCjd.png)  \n",
    "\n",
    "Also, we should be able to quickly tell whether `string[a:b+1]` is a palindrome or not. For this we we create a 2d matrix $M$. Where a cell `M[i][j]` is true if the `string[i:j+1]` is a palindrome. So we can deduce that\n",
    "- `M[i][i]` will always be true\n",
    "- if `abs(j-i) == 1` then compare both characters to see if palindrome or not\n",
    "- Else, `M[i][j]` is palindrome if `string[i] == string[j]` and `M[i+1][j-1] == True`"
   ]
  },
  {
   "cell_type": "code",
   "execution_count": 2,
   "metadata": {
    "tags": []
   },
   "outputs": [
    {
     "data": {
      "text/plain": [
       "true"
      ]
     },
     "execution_count": 2,
     "metadata": {},
     "output_type": "execute_result"
    }
   ],
   "source": [
    "private boolean[][] palindromeMatrix(String input) {\n",
    "    boolean[][] output = new boolean[input.length()][input.length()];\n",
    "\n",
    "    // We need to start at i = input.length() - 1 because we would need i + 1 elements\n",
    "    for (int i = input.length() - 1; i >= 0; i--) {\n",
    "        // We need to start j = 0 because we need j - 1 elements\n",
    "        for (int j = i; j < input.length(); j++) {\n",
    "            if (i == j) {\n",
    "                output[i][j] = true;\n",
    "            } else if (input.charAt(i) == input.charAt(j)) {\n",
    "                if (i + 1 == j) { // Both elements next to each other\n",
    "                    output[i][j] = true;\n",
    "                } else {\n",
    "                    output[i][j] = output[i + 1][j - 1];\n",
    "                }\n",
    "            }\n",
    "        }\n",
    "    }\n",
    "\n",
    "    return output;\n",
    "}\n",
    "\n",
    "palindromeMatrix(\"ABACC\")[3][4];"
   ]
  },
  {
   "cell_type": "code",
   "execution_count": 3,
   "metadata": {
    "tags": []
   },
   "outputs": [
    {
     "name": "stdout",
     "output_type": "stream",
     "text": [
      "2\n",
      "0\n"
     ]
    }
   ],
   "source": [
    "public int minSlices(String input) {\n",
    "    boolean[][] isPalindrome = palindromeMatrix(input);\n",
    "    int[] dp = new int[input.length()];\n",
    "\n",
    "    for (int i = 0; i < input.length(); i++) {\n",
    "        if (!isPalindrome[0][i]) {\n",
    "            int min = Integer.MAX_VALUE;\n",
    "            for (int j = 1; j <= i; j++) {\n",
    "                if (isPalindrome[j][i]) {\n",
    "                    min = Math.min(min, dp[j-1]);\n",
    "                }\n",
    "            }\n",
    "            dp[i] = 1 + min;\n",
    "        } // No need for else since dp[i] is anyways zero\n",
    "    }\n",
    "\n",
    "    return dp[input.length() - 1];\n",
    "}\n",
    "\n",
    "System.out.println(minSlices(\"ABACCA\"));\n",
    "System.out.println(minSlices(\"A\"));"
   ]
  },
  {
   "cell_type": "markdown",
   "metadata": {},
   "source": [
    "[LeetCode 132](https://leetcode.com/problems/palindrome-partitioning-ii/description)"
   ]
  },
  {
   "cell_type": "markdown",
   "metadata": {
    "tags": []
   },
   "source": [
    "**Q 15** A 2D array contains power ups (+ve values) or damage (-ve value). With what minimum HP the knight should start at the top left corner to reach the bottom right corner without his health going to zero (or below zero) even once?  \n",
    "**Answer** Consider the example below:\n",
    "![Example](images/YMMFfJP.png)"
   ]
  },
  {
   "cell_type": "code",
   "execution_count": 4,
   "metadata": {
    "tags": []
   },
   "outputs": [
    {
     "name": "stdout",
     "output_type": "stream",
     "text": [
      "7\n"
     ]
    }
   ],
   "source": [
    "public int minHP(int[][] matrix) {\n",
    "    for (int i = matrix.length - 1; i >= 0; i--) {\n",
    "        for (int j = matrix[0].length - 1; j >= 0; j--) {\n",
    "            if (i == matrix.length - 1 && j == matrix[0].length - 1) {\n",
    "                if(matrix[i][j] >= 0) {\n",
    "                    matrix[i][j] = 1;\n",
    "                } else {\n",
    "                    matrix[i][j] = 1 - matrix[i][j];\n",
    "                }\n",
    "            } else {\n",
    "                int min = Integer.MAX_VALUE;\n",
    "                if(j + 1 < matrix[0].length){\n",
    "                    min = Math.min(min, matrix[i][j + 1]);\n",
    "                }\n",
    "                if(i + 1 < matrix.length){\n",
    "                    min = Math.min(min, matrix[i + 1][j]);\n",
    "                }\n",
    "\n",
    "                if(matrix[i][j] >= min) {\n",
    "                    matrix[i][j] = 1;\n",
    "                } else {\n",
    "                    matrix[i][j] = min - matrix[i][j];\n",
    "                }\n",
    "            }\n",
    "        }\n",
    "    }\n",
    "\n",
    "    return matrix[0][0];\n",
    "}\n",
    "\n",
    "int[][] matrix = {\n",
    "        {-2, -3, 3},\n",
    "        {-5, -10, 1},\n",
    "        {10, 30, -5}\n",
    "};\n",
    "System.out.println(minHP(matrix))"
   ]
  },
  {
   "cell_type": "markdown",
   "metadata": {
    "tags": []
   },
   "source": [
    "We can reduce the space complexity here by using a smaller dp array (with just 2 rows)\n",
    "\n",
    "[Leetcode 174](https://leetcode.com/problems/dungeon-game/description)"
   ]
  },
  {
   "cell_type": "markdown",
   "metadata": {
    "tags": []
   },
   "source": [
    "**Q 16** Find the longest repeating subsequence in a given string. For example, given string is `abab` then the longest repeating subsequence is `ab`. Similarly if the string is `abc`, the longest repeating subsequence is `v`, blank string.  \n",
    "**Answer** This problem is same as the longest common subsequence problem with condition that when both the characters are same, they shouldn’t be on the same index in the two strings. The two strings in this case will be the same."
   ]
  },
  {
   "cell_type": "code",
   "execution_count": 6,
   "metadata": {
    "tags": []
   },
   "outputs": [
    {
     "name": "stdout",
     "output_type": "stream",
     "text": [
      "1\n",
      "2\n",
      "0\n",
      "2\n"
     ]
    }
   ],
   "source": [
    "public int longestRepeatingSubsequenceBU(String input) {\n",
    "    int[][] dp = new int[input.length() + 1][input.length() + 1];\n",
    "\n",
    "    for (int i = 0; i <= input.length(); i++) {\n",
    "        for (int j = 0; j <= input.length(); j++) {\n",
    "            if (i == 0 || j == 0) {\n",
    "                dp[i][j] = 0;\n",
    "            } else if (input.charAt(i - 1) == input.charAt(j - 1) && i != j) {\n",
    "                dp[i][j] = dp[i - 1][j - 1] + 1;\n",
    "            } else {\n",
    "                dp[i][j] = Math.max(dp[i - 1][j], dp[i][j - 1]);\n",
    "            }\n",
    "        }\n",
    "    }\n",
    "\n",
    "    return dp[input.length()][input.length()];\n",
    "}\n",
    "\n",
    "System.out.println(longestRepeatingSubsequenceBU(\"ABBA\"));\n",
    "System.out.println(longestRepeatingSubsequenceBU(\"ABAB\"));\n",
    "System.out.println(longestRepeatingSubsequenceBU(\"ABC\"));\n",
    "System.out.println(longestRepeatingSubsequenceBU(\"AXXXB\"));"
   ]
  },
  {
   "cell_type": "markdown",
   "metadata": {
    "tags": []
   },
   "source": [
    "Top-down solution:  \n",
    "![Reapeating subsequence](images/lAK39u3.png)"
   ]
  },
  {
   "cell_type": "code",
   "execution_count": 7,
   "metadata": {
    "tags": []
   },
   "outputs": [
    {
     "name": "stdout",
     "output_type": "stream",
     "text": [
      "1\n",
      "2\n",
      "0\n",
      "2\n"
     ]
    }
   ],
   "source": [
    "public int longestRepeatingSubsequenceTD(String input) {\n",
    "    return longestRepeatingSubsequenceTD(input, input, 0, 0, new HashMap<>());\n",
    "}\n",
    "\n",
    "private int longestRepeatingSubsequenceTD(String s1, String s2, int m, int n, Map<List<Integer>, Integer> dp) {\n",
    "    if (m >= s1.length() || n >= s2.length()) {\n",
    "        return 0;\n",
    "    }\n",
    "\n",
    "    if (dp.containsKey(List.of(m, n))) {\n",
    "        return dp.get(List.of(m, n));\n",
    "    }\n",
    "\n",
    "    int count = 0;\n",
    "    if (s1.charAt(m) == s2.charAt(n) && m != n) {\n",
    "        count = 1 + longestRepeatingSubsequenceTD(s1, s2, m + 1, n + 1, dp);\n",
    "    } else {\n",
    "        count = Math.max(longestRepeatingSubsequenceTD(s1, s2, m + 1, n, dp), longestRepeatingSubsequenceTD(s1, s2, m, n + 1, dp));\n",
    "    }\n",
    "\n",
    "    dp.put(List.of(m, n), count);\n",
    "    return count;\n",
    "}\n",
    "\n",
    "System.out.println(longestRepeatingSubsequenceTD(\"ABBA\"));\n",
    "System.out.println(longestRepeatingSubsequenceTD(\"ABAB\"));\n",
    "System.out.println(longestRepeatingSubsequenceTD(\"ABC\"));\n",
    "System.out.println(longestRepeatingSubsequenceTD(\"AXXXB\"));"
   ]
  },
  {
   "cell_type": "markdown",
   "metadata": {
    "tags": []
   },
   "source": [
    "**Q 17** Given two strings, $A$ and $B$, return the number of subsequences of $A$ equal to $B$. For example, if the first string is `RABBBIT` and the second string is `RABBIT`, then the answer is 3 because the second string can be formed by removing any of the three Bs from the first string.  \n",
    "**Answer:** We arrive at the following relation:\n",
    "$$\\begin{equation}\n",
    "  f(S_1, S_2, n, m) =\n",
    "    \\begin{cases}\n",
    "      f(S_1, S_2, n-1, m-1) + f(S_1, S_2, n-1, m) & \\text{if $S_1$[n] = $S_2$[m]}\\\\\n",
    "      f(S_1, S_2, n-1, m) & \\text{if $S_1$[n] $\\neq$ $S_2$[m]}\\\\ \n",
    "    \\end{cases}       \n",
    "\\end{equation}$$\n",
    "\n",
    "So from the example above:  \n",
    "![Distinct Subsequence](images/Yo6EYjk.png)"
   ]
  },
  {
   "cell_type": "code",
   "execution_count": 29,
   "metadata": {},
   "outputs": [
    {
     "name": "stdout",
     "output_type": "stream",
     "text": [
      "3\n",
      "1\n"
     ]
    }
   ],
   "source": [
    "def distinct_subsequence(s1, s2):\n",
    "    n = len(s1)\n",
    "    m = len(s2)\n",
    "    \n",
    "    # Create the dp array\n",
    "    dp = [[0 for i in range(m+1)] for j in range(n+1)]\n",
    "    \n",
    "    for i in range(n+1):\n",
    "        for j in range(m+1):\n",
    "            if j == 0:\n",
    "                dp[i][j] = 1\n",
    "            elif i == 0:\n",
    "                dp[i][j] = 0\n",
    "            elif s1[i-1] == s2[j-1]:\n",
    "                dp[i][j] = dp[i-1][j-1] + dp[i-1][j]\n",
    "            else:\n",
    "                dp[i][j] = dp[i-1][j]\n",
    "                \n",
    "    return dp[n][m]\n",
    "\n",
    "print(distinct_subsequence('RABBBIT', 'RABBIT'))\n",
    "print(distinct_subsequence('CLARE', 'LRE'))"
   ]
  },
  {
   "cell_type": "markdown",
   "metadata": {},
   "source": [
    "**Q 18** Given a string, find the length of the longest palindromic subsequence.  \n",
    "**Answer:** This can be found by finding the longest common subsequence between the string and its reverse representation."
   ]
  },
  {
   "cell_type": "code",
   "execution_count": 13,
   "metadata": {
    "tags": []
   },
   "outputs": [
    {
     "name": "stdout",
     "output_type": "stream",
     "text": [
      "4\n",
      "5\n",
      "3\n"
     ]
    }
   ],
   "source": [
    "public int longestPalindromicSubsequence(String input) {\n",
    "    return longestCommonSubsequence(input, new String(new StringBuilder(input).reverse()));\n",
    "}\n",
    "\n",
    "System.out.println(longestPalindromicSubsequence(\"bebeeed\"));\n",
    "System.out.println(longestPalindromicSubsequence(\"aedsead\"));\n",
    "System.out.println(longestPalindromicSubsequence(\"bxybe\"));"
   ]
  },
  {
   "cell_type": "markdown",
   "metadata": {},
   "source": [
    "The topdown solution is:  \n",
    "![Subsequence](images/O4SgugM.png)"
   ]
  },
  {
   "cell_type": "code",
   "execution_count": 15,
   "metadata": {
    "tags": []
   },
   "outputs": [
    {
     "name": "stdout",
     "output_type": "stream",
     "text": [
      "4\n",
      "5\n",
      "3\n"
     ]
    }
   ],
   "source": [
    "public int longestPalindromicSubsequenceTD(String input) {\n",
    "    return longestPalindromicSubsequenceTD(input, new HashMap<>());\n",
    "}\n",
    "\n",
    "private int longestPalindromicSubsequenceTD(String input, Map<String, Integer> dp) {\n",
    "    if(input == null || input.equals(\"\")) {\n",
    "        return 0;\n",
    "    }\n",
    "    \n",
    "    if(input.length() == 1) {\n",
    "        return 1;\n",
    "    }\n",
    "\n",
    "    if(dp.containsKey(input)) {\n",
    "        return dp.get(input);\n",
    "    }\n",
    "    \n",
    "    int answer = 0;\n",
    "    if(input.charAt(0) == input.charAt(input.length() - 1)) {\n",
    "        answer = 2 + longestPalindromicSubsequenceTD(input.substring(1, input.length() - 1), dp);\n",
    "    } else {\n",
    "        answer = Math.max(longestPalindromicSubsequence2(input.substring(1), dp), \n",
    "            longestPalindromicSubsequenceTD(input.substring(0, input.length() - 1), dp));\n",
    "    }\n",
    "    \n",
    "    dp.put(input, answer);\n",
    "    return answer;\n",
    "}\n",
    "    \n",
    "System.out.println(longestPalindromicSubsequenceTD(\"bebeeed\"));\n",
    "System.out.println(longestPalindromicSubsequenceTD(\"aedsead\"));\n",
    "System.out.println(longestPalindromicSubsequenceTD(\"bxybe\"));"
   ]
  },
  {
   "cell_type": "markdown",
   "metadata": {},
   "source": [
    "**Q 19** Given a string, find the longest palindromic substring in it  \n",
    "**Answer:** We arrive at the following recurrence relationship:  \n",
    "![Recursive calls](images/Nv3QvPq.png)"
   ]
  },
  {
   "cell_type": "markdown",
   "metadata": {},
   "source": [
    "We have the following topdown solution:"
   ]
  },
  {
   "cell_type": "code",
   "execution_count": 8,
   "metadata": {
    "tags": []
   },
   "outputs": [
    {
     "name": "stdout",
     "output_type": "stream",
     "text": [
      "3\n"
     ]
    }
   ],
   "source": [
    "public int lengthOfLongestPalindromicSubstringTD(String input) {\n",
    "    return longestPalindromeSubstringTD(input, new HashMap<>());\n",
    "}\n",
    "\n",
    "private int lengthOfLongestPalindromicSubstringTD(String input, Map<String, Integer> dp) {\n",
    "    if (input == null || input.isEmpty()) {\n",
    "        return 0;\n",
    "    }\n",
    "\n",
    "    if (dp.containsKey(input)) {\n",
    "        return dp.get(input);\n",
    "    }\n",
    "\n",
    "    int count = 0;\n",
    "    if (isPalindrome(input)) {\n",
    "        count = input.length();\n",
    "    } else {\n",
    "        count = Math.max(\n",
    "                lengthOfLongestPalindromicSubstringTD(input.substring(1), dp),\n",
    "                lengthOfLongestPalindromicSubstringTD(input.substring(0, input.length() - 1), dp)\n",
    "        );\n",
    "    }\n",
    "\n",
    "    dp.put(input, count);\n",
    "    return count;\n",
    "}\n",
    "\n",
    "private boolean isPalindrome(String s) {\n",
    "    return s.contentEquals(new StringBuilder(s).reverse());\n",
    "}\n",
    "\n",
    "System.out.println(lengthOfLongestPalindromicSubstringTD(\"inbab\"));"
   ]
  },
  {
   "cell_type": "markdown",
   "metadata": {},
   "source": [
    "What if we also need to find the string that is the longest palindrome? There can be multiple such strings - returning anyone should be sufficient. The solution below is correct, however fails on Leetcode due to time exceeded."
   ]
  },
  {
   "cell_type": "code",
   "execution_count": 11,
   "metadata": {
    "tags": []
   },
   "outputs": [
    {
     "name": "stdout",
     "output_type": "stream",
     "text": [
      "bab\n"
     ]
    }
   ],
   "source": [
    "public String longestPalindromicSubstring(String s) {\n",
    "    return longestPalindromicSubstring(s, new HashMap<>());\n",
    "}\n",
    "\n",
    "private String longestPalindromicSubstring(String s, Map<String, String> dp) {\n",
    "    if(dp.containsKey(s)) {\n",
    "        return dp.get(s);\n",
    "    }\n",
    "\n",
    "    if(isPalindrome(s)) {\n",
    "        dp.put(s,s);\n",
    "        return s;\n",
    "    }\n",
    "\n",
    "    String answer = null;\n",
    "    String left = longestPalindromicSubstring(s.substring(0, s.length() - 1), dp);\n",
    "    String right = longestPalindromicSubstring(s.substring(1, s.length()), dp);\n",
    "    if(left.length() >= right.length()) {\n",
    "        answer = left;\n",
    "    } else {\n",
    "        answer = right;\n",
    "    }\n",
    "\n",
    "    dp.put(s, answer);\n",
    "    return answer;\n",
    "}\n",
    "\n",
    "private boolean isPalindrome(String input) {\n",
    "    return new StringBuilder(input).reverse().toString().equals(input);\n",
    "}\n",
    "\n",
    "System.out.println(longestPalindromicSubstring(\"inbab\"));"
   ]
  },
  {
   "cell_type": "markdown",
   "metadata": {},
   "source": [
    "Let's take another approach, bottom up one. We essentially need values of two variables - start and end indices of the substring. We'll make use of a two dimensional array. The array in this case stores if the substring starting at index i and ending at index j is a palindrome or not."
   ]
  },
  {
   "cell_type": "code",
   "execution_count": 6,
   "metadata": {
    "tags": []
   },
   "outputs": [
    {
     "name": "stdout",
     "output_type": "stream",
     "text": [
      "bab\n"
     ]
    }
   ],
   "source": [
    "public String longestPalindromicSubstring2(String s) {\n",
    "    boolean[][] dp = new boolean[s.length()][s.length()];\n",
    "        String  answer = \"\";\n",
    "    \n",
    "    // String containing just one character is always palindrome\n",
    "    for(int i=0; i<s.length(); i++) {\n",
    "        dp[i][i] = true;\n",
    "        answer = s.charAt(i) + \"\";\n",
    "    }\n",
    "    \n",
    "    // Check for all the substrings of length 2\n",
    "    for(int i=0; i<s.length() - 1; i++) {\n",
    "        if(s.charAt(i) == s.charAt(i+1)) {\n",
    "            dp[i][i+1] = true;\n",
    "            answer = s.substring(i, i+2);\n",
    "        }\n",
    "    }\n",
    "           \n",
    "    // Now, we need to check for all substrings of length 3 and above\n",
    "    for(int size = 3; size <= s.length(); size++) {\n",
    "        for(int i=0; i <= s.length() - size; i++) {\n",
    "            // Let j be ending index of the substring\n",
    "            int j = i + size - 1;\n",
    "            if(s.charAt(i) == s.charAt(j) && dp[i+1][j-1]) {\n",
    "                dp[i][j] = true;\n",
    "                String temp = s.substring(i,j+1);\n",
    "                if(temp.length() > answer.length()) {\n",
    "                    answer = temp;\n",
    "                }\n",
    "            }\n",
    "        }\n",
    "    }\n",
    "           \n",
    "    return answer;\n",
    "}\n",
    "\n",
    "System.out.println(longestPalindromicSubstring2(\"inbab\"));"
   ]
  },
  {
   "cell_type": "markdown",
   "metadata": {},
   "source": [
    "This can be rewritten as:"
   ]
  },
  {
   "cell_type": "code",
   "execution_count": 12,
   "metadata": {},
   "outputs": [
    {
     "name": "stdout",
     "output_type": "stream",
     "text": [
      "bab\n"
     ]
    }
   ],
   "source": [
    "public static String longestPalindromicSubstring3(String input) {\n",
    "    boolean[][] dp = new boolean[input.length()][input.length()];\n",
    "\n",
    "    int maxLength = Integer.MIN_VALUE;\n",
    "    String maxStr = \"\";\n",
    "    for (int i = input.length() - 1; i >= 0; i--) {\n",
    "        for (int j = i; j < input.length(); j++) {\n",
    "            if (i == j) {\n",
    "                dp[i][j] = true;\n",
    "            } else if (input.charAt(i) == input.charAt(j)) {\n",
    "                if (i + 1 == j) {\n",
    "                    dp[i][j] = true;\n",
    "                } else {\n",
    "                    dp[i][j] = dp[i + 1][j - 1];\n",
    "                }\n",
    "            }\n",
    "\n",
    "            if (dp[i][j]) {\n",
    "                if (Math.abs(j - i) + 1 >= maxLength) {\n",
    "                    maxLength = Math.abs(j - i) + 1;\n",
    "                    maxStr = input.substring(i, j + 1);\n",
    "                }\n",
    "            }\n",
    "        }\n",
    "    }\n",
    "\n",
    "    return maxStr;\n",
    "}\n",
    "\n",
    "System.out.println(longestPalindromicSubstring3(\"inbab\"));"
   ]
  },
  {
   "cell_type": "code",
   "execution_count": null,
   "metadata": {},
   "outputs": [],
   "source": []
  }
 ],
 "metadata": {
  "kernelspec": {
   "display_name": "Java",
   "language": "java",
   "name": "java"
  },
  "language_info": {
   "codemirror_mode": "java",
   "file_extension": ".jshell",
   "mimetype": "text/x-java-source",
   "name": "Java",
   "pygments_lexer": "java",
   "version": "21.0.2+13-58"
  }
 },
 "nbformat": 4,
 "nbformat_minor": 4
}
