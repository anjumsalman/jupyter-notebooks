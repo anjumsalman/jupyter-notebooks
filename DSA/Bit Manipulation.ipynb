{
 "cells": [
  {
   "cell_type": "markdown",
   "metadata": {},
   "source": [
    "### Binary Number System\n",
    "Uses two symbols 1 and 0 to denote a number.  \n",
    "$$ 101001 = 1\\times2^5 + 0\\times2^4 + 1\\times2^3 + 0\\times2^2 + 0\\times2^1 + 1\\times2^0$$\n",
    "$$ = 32 + 0 + 8 + 0 + 0 + 1 $$\n",
    "$$ = 41$$"
   ]
  },
  {
   "cell_type": "code",
   "execution_count": 2,
   "metadata": {},
   "outputs": [
    {
     "name": "stdout",
     "output_type": "stream",
     "text": [
      "41\n"
     ]
    }
   ],
   "source": [
    "def binary_to_decimal(binary): # binary is a string\n",
    "    decimal = 0\n",
    "    p = 0\n",
    "    for i in reversed(binary):\n",
    "        decimal += int(i)*(2**p)\n",
    "        p += 1\n",
    "    return decimal\n",
    "\n",
    "print(binary_to_decimal('101001'))"
   ]
  },
  {
   "cell_type": "code",
   "execution_count": 17,
   "metadata": {},
   "outputs": [
    {
     "name": "stdout",
     "output_type": "stream",
     "text": [
      "101010\n"
     ]
    }
   ],
   "source": [
    "def decimal_to_binary(decimal):\n",
    "    binary = ''\n",
    "    while(decimal >= 2):\n",
    "        binary += str(decimal%2)\n",
    "        decimal = decimal // 2\n",
    "    binary += str(decimal)\n",
    "    return binary[::-1]\n",
    "\n",
    "print(decimal_to_binary(42))"
   ]
  },
  {
   "cell_type": "markdown",
   "metadata": {},
   "source": [
    "### Other Number Systems\n",
    "Lets take ternary number system. In this case, the symbols used are 0, 1 and 2."
   ]
  },
  {
   "cell_type": "code",
   "execution_count": 16,
   "metadata": {},
   "outputs": [
    {
     "name": "stdout",
     "output_type": "stream",
     "text": [
      "20\n"
     ]
    }
   ],
   "source": [
    "def decimal_to_ternary(decimal):\n",
    "    ternary = ''\n",
    "    while(decimal >= 3):\n",
    "        ternary += str(decimal%3)\n",
    "        decimal = decimal // 3\n",
    "    ternary += str(decimal)\n",
    "    return ternary[::-1]\n",
    "\n",
    "print(decimal_to_ternary(6))"
   ]
  },
  {
   "cell_type": "markdown",
   "metadata": {},
   "source": [
    "But, the most famous is hexadecimal system, which uses 16 symbols: 0, 1, 2, 3, 4, 5, 6, 7, 8, 9, A, B, C, D, E and F."
   ]
  },
  {
   "cell_type": "code",
   "execution_count": 23,
   "metadata": {},
   "outputs": [
    {
     "name": "stdout",
     "output_type": "stream",
     "text": [
      "36C\n"
     ]
    }
   ],
   "source": [
    "def decimal_to_hexadecimal(decimal):\n",
    "    hexa = ''\n",
    "    while(decimal >= 16):\n",
    "        remainder = decimal%16\n",
    "        if(remainder == 10):\n",
    "            hexa += 'A'\n",
    "        elif(remainder == 11):\n",
    "            hexa += 'B'\n",
    "        elif(remainder == 12):\n",
    "            hexa += 'C'\n",
    "        elif(remainder == 13):\n",
    "            hexa += 'D'\n",
    "        elif(remainder == 14):\n",
    "            hexa += 'E'\n",
    "        elif(remainder == 15):\n",
    "            hexa += 'F'\n",
    "        else:\n",
    "            hexa += str(remainder)\n",
    "        decimal = decimal // 16\n",
    "    if(decimal == 10):\n",
    "        hexa += 'A'\n",
    "    elif(decimal == 11):\n",
    "        hexa += 'B'\n",
    "    elif(decimal == 12):\n",
    "        hexa += 'C'\n",
    "    elif(decimal == 13):\n",
    "        hexa += 'D'\n",
    "    elif(decimal == 14):\n",
    "        hexa += 'E'\n",
    "    elif(decimal == 15):\n",
    "        hexa += 'F'\n",
    "    else:\n",
    "        hexa += str(decimal)\n",
    "    return hexa[::-1]\n",
    "\n",
    "print(decimal_to_hexadecimal(876))"
   ]
  },
  {
   "cell_type": "markdown",
   "metadata": {},
   "source": [
    "### Endianness\n",
    "**Big Endian:** most significant byte stored first.  \n",
    "![Big Endian](https://i.imgur.com/r5We9b9.jpg \"Big Endian\")   \n",
    "**Little Endian:** reverse of big endian\n",
    "![Little Endian](https://i.imgur.com/06C3kxQ.jpg \"Little Endian\")"
   ]
  },
  {
   "cell_type": "markdown",
   "metadata": {},
   "source": [
    "### Representing Negative Number\n",
    "Negative number can be represented by simply keeping left bit as sign bit. For example, if we use 8 bits to denote a number, then we can keep the 8th bit as sign bit. When it is 1 the number is negative, else it is positive. For example, 8 is represented as 0000 0100. -8 will be represented as 1000 0100. The problem with this method is that 0 has two representations and also we cannot apply adding method in this way.  \n",
    "\n",
    "So we use **2's Complement**. In 2's complement, we first invert the bits and then add 1. Consider -8. 8 is represented as 0000 0100. After inverting bits, we get 1111 1011. Then we add 1 to get the resulting number = 1111 1100."
   ]
  },
  {
   "cell_type": "markdown",
   "metadata": {},
   "source": [
    "### Bitwise Relational Operators\n",
    "```\n",
    "  A    B    A|B    A&B    A^B\n",
    "-------------------------------\n",
    "  0    0     0      0      0\n",
    "  0    1     1      0      1\n",
    "  1    0     1      0      1\n",
    "  1    1     1      1      0\n",
    "\n",
    "```"
   ]
  },
  {
   "cell_type": "markdown",
   "metadata": {},
   "source": [
    "### XOR Operator\n",
    "The XOR operator is the only one amongst the three relational operators to have 0.5 probability of 0 or 1. Some properties:\n",
    "- `a ^ a = 0`\n",
    "- `a ^ 0 = a`\n",
    "- If `a ^ b = c`, then `b = a ^ c`"
   ]
  },
  {
   "cell_type": "markdown",
   "metadata": {},
   "source": [
    "### Bitwise Shift Operators\n",
    "**Bitwise Left Shift:** represented as A << B. For example 8 << 2 is 0000 0100 << 2, which is 0001 0000 = 32.  \n",
    "**Bitwise Right Shift:** represented as A >> B. For example 8 >> 2 is 0000 0100 >> 2, which is 0000 0001 = 1. \n",
    "\n",
    "**Use Cases:**  \n",
    "1. Power: `1 << n` is equivalent to *pow(2,n)*\n",
    "2. Swap values: `a ^= b; b ^= a; a ^= b;`\n",
    "3. Testing odd/even: `x & 1` if this is 0 then even, else odd\n",
    "4. Test whether nth bit is 0 or 1: `x & (1 << n-1)` if this 0 then nth bit is 0\n",
    "5. Set nth bit to 0: `x & ~(1 << n-1)`\n",
    "6. Set nth bit to 1: `x | (1 << n-1)`\n",
    "7. Toggle nth bit: `x ^ (1 << n-1)`"
   ]
  },
  {
   "cell_type": "markdown",
   "metadata": {},
   "source": [
    "### Other Problems\n",
    "**Q 1:** Get the number of set bits of a number.  \n",
    "**Answer:** The easy approach is to bit do `number & (1<<i)` where `i` goes from 0 to 32. The better approach is Brian Kernighan’s Algorithm. Whenever we write `number = number & (number - 1)`, we unset the rightmost set bit from the number. So the code is:  \n",
    "```java\n",
    "public static int getSetBitsCount(int number) {\n",
    "    int count = 0;\n",
    "\n",
    "    while (number > 0) {\n",
    "        // We are removing each set bit using the below operation\n",
    "        number = number & (number - 1);\n",
    "        count++;\n",
    "    }\n",
    "\n",
    "    return count;\n",
    "}\n",
    "```"
   ]
  },
  {
   "cell_type": "code",
   "execution_count": null,
   "metadata": {},
   "outputs": [],
   "source": []
  }
 ],
 "metadata": {
  "kernelspec": {
   "display_name": "Python 3",
   "language": "python",
   "name": "python3"
  },
  "language_info": {
   "codemirror_mode": {
    "name": "ipython",
    "version": 3
   },
   "file_extension": ".py",
   "mimetype": "text/x-python",
   "name": "python",
   "nbconvert_exporter": "python",
   "pygments_lexer": "ipython3",
   "version": "3.7.4"
  }
 },
 "nbformat": 4,
 "nbformat_minor": 4
}
