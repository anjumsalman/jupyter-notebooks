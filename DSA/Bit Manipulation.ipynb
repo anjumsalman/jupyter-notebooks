{
 "cells": [
  {
   "cell_type": "markdown",
   "metadata": {},
   "source": [
    "### Binary Number System\n",
    "Uses two symbols 1 and 0 to denote a number.  \n",
    "$$ 101001 = 1\\times2^5 + 0\\times2^4 + 1\\times2^3 + 0\\times2^2 + 0\\times2^1 + 1\\times2^0$$\n",
    "$$ = 32 + 0 + 8 + 0 + 0 + 1 $$\n",
    "$$ = 41$$"
   ]
  },
  {
   "cell_type": "code",
   "execution_count": 2,
   "metadata": {},
   "outputs": [
    {
     "name": "stdout",
     "output_type": "stream",
     "text": [
      "41\n"
     ]
    }
   ],
   "source": [
    "def binary_to_decimal(binary): # binary is a string\n",
    "    decimal = 0\n",
    "    p = 0\n",
    "    for i in reversed(binary):\n",
    "        decimal += int(i)*(2**p)\n",
    "        p += 1\n",
    "    return decimal\n",
    "\n",
    "print(binary_to_decimal('101001'))"
   ]
  },
  {
   "cell_type": "code",
   "execution_count": 3,
   "metadata": {},
   "outputs": [
    {
     "name": "stdout",
     "output_type": "stream",
     "text": [
      "101010\n"
     ]
    }
   ],
   "source": [
    "def decimal_to_binary(decimal):\n",
    "    if decimal == 0:\n",
    "        return '0'\n",
    "    \n",
    "    binary = ''\n",
    "    while(decimal > 0):\n",
    "        binary = str(decimal % 2) + binary\n",
    "        decimal = decimal // 2\n",
    "    return binary\n",
    "\n",
    "print(decimal_to_binary(42))"
   ]
  },
  {
   "cell_type": "markdown",
   "metadata": {},
   "source": [
    "This however doesn't work for negative numbers."
   ]
  },
  {
   "cell_type": "markdown",
   "metadata": {},
   "source": [
    "### Other Number Systems\n",
    "Lets take ternary number system. In this case, the symbols used are 0, 1 and 2."
   ]
  },
  {
   "cell_type": "code",
   "execution_count": 16,
   "metadata": {},
   "outputs": [
    {
     "name": "stdout",
     "output_type": "stream",
     "text": [
      "20\n"
     ]
    }
   ],
   "source": [
    "def decimal_to_ternary(decimal):\n",
    "    if decimal == 0:\n",
    "        return '0'\n",
    "    \n",
    "    ternary = ''\n",
    "    while(decimal > 0):\n",
    "        ternary = str(decimal % 3) + ternary\n",
    "        decimal = decimal // 3\n",
    "    return ternary\n",
    "\n",
    "print(decimal_to_ternary(6))"
   ]
  },
  {
   "cell_type": "markdown",
   "metadata": {},
   "source": [
    "But, the most famous is hexadecimal system, which uses 16 symbols: 0, 1, 2, 3, 4, 5, 6, 7, 8, 9, A, B, C, D, E and F."
   ]
  },
  {
   "cell_type": "code",
   "execution_count": 1,
   "metadata": {},
   "outputs": [
    {
     "name": "stdout",
     "output_type": "stream",
     "text": [
      "36C\n"
     ]
    }
   ],
   "source": [
    "def decimal_to_hexadecimal(decimal):\n",
    "    if decimal == 0:\n",
    "        return '0'\n",
    "    \n",
    "    hexa = ''\n",
    "    while(decimal > 0):\n",
    "        remainder = decimal % 16\n",
    "        if(remainder == 10):\n",
    "            hexa = 'A' + hexa\n",
    "        elif(remainder == 11):\n",
    "            hexa = 'B' + hexa\n",
    "        elif(remainder == 12):\n",
    "            hexa = 'C' + hexa\n",
    "        elif(remainder == 13):\n",
    "            hexa = 'D' + hexa\n",
    "        elif(remainder == 14):\n",
    "            hexa = 'E' + hexa\n",
    "        elif(remainder == 15):\n",
    "            hexa = 'F' + hexa\n",
    "        else:\n",
    "            hexa = str(remainder) + hexa\n",
    "        decimal = decimal // 16\n",
    "    return hexa\n",
    "\n",
    "print(decimal_to_hexadecimal(876))"
   ]
  },
  {
   "cell_type": "markdown",
   "metadata": {},
   "source": [
    "### Endianness\n",
    "**Big Endian:** most significant byte stored first.  \n",
    "![Big Endian](https://i.imgur.com/r5We9b9.jpg \"Big Endian\")   \n",
    "**Little Endian:** reverse of big endian\n",
    "![Little Endian](https://i.imgur.com/06C3kxQ.jpg \"Little Endian\")"
   ]
  },
  {
   "cell_type": "markdown",
   "metadata": {},
   "source": [
    "### Representing Negative Number\n",
    "Negative number can be represented by simply keeping left bit as sign bit. For example, if we use 8 bits to denote a number, then we can keep the 8th bit as sign bit. When it is 1 the number is negative, else it is positive. For example, 8 is represented as 0000 0100. -8 will be represented as 1000 0100. The problem with this method is that 0 has two representations and also we cannot apply adding method in this way.  \n",
    "\n",
    "So we use **2's Complement**. In 2's complement, we first invert the bits and then add 1. Consider -8. 8 is represented as 0000 0100. After inverting bits, we get 1111 1011. Then we add 1 to get the resulting number = 1111 1100."
   ]
  },
  {
   "cell_type": "markdown",
   "metadata": {},
   "source": [
    "### Bitwise Relational Operators\n",
    "```\n",
    "  A    B    A|B    A&B    A^B\n",
    "-------------------------------\n",
    "  0    0     0      0      0\n",
    "  0    1     1      0      1\n",
    "  1    0     1      0      1\n",
    "  1    1     1      1      0\n",
    "\n",
    "```"
   ]
  },
  {
   "cell_type": "markdown",
   "metadata": {},
   "source": [
    "### XOR Operator\n",
    "The XOR operator is the only one amongst the three relational operators to have 0.5 probability of 0 or 1. Some properties:\n",
    "- `a ^ a = 0`\n",
    "- `a ^ 0 = a`\n",
    "- If `a ^ b = c`, then `b = a ^ c`"
   ]
  },
  {
   "cell_type": "markdown",
   "metadata": {},
   "source": [
    "### Bitwise Shift Operators\n",
    "**Bitwise Left Shift:** represented as A << B. For example 8 << 2 is 0000 0100 << 2, which is 0001 0000 = 32.  \n",
    "**Bitwise Right Shift:** represented as A >> B. For example 8 >> 2 is 0000 0100 >> 2, which is 0000 0001 = 1. \n",
    "\n",
    "**Use Cases:**  \n",
    "1. Power: `1 << n` is equivalent to *pow(2,n)*\n",
    "2. Swap values: `a ^= b; b ^= a; a ^= b;`\n",
    "3. Testing odd/even: `x & 1` if this is 0 then even, else odd\n",
    "4. Test whether nth bit is 0 or 1: `x & (1 << n-1)` if this 0 then nth bit is 0\n",
    "5. Set nth bit to 0: `x & ~(1 << n-1)`\n",
    "6. Set nth bit to 1: `x | (1 << n-1)`\n",
    "7. Toggle nth bit: `x ^ (1 << n-1)`"
   ]
  },
  {
   "cell_type": "markdown",
   "metadata": {},
   "source": [
    "### Other Problems\n",
    "**Q 1:** Get the number of set bits of a number.  \n",
    "**Answer:** The easy approach is to bit do `number & (1<<i)` where `i` goes from 0 to 32. The better approach is Brian Kernighan’s Algorithm. Whenever we write `number = number & (number - 1)`, we unset the rightmost set bit from the number. So the code is:  \n",
    "```java\n",
    "public static int getSetBitsCount(int number) {\n",
    "    int count = 0;\n",
    "\n",
    "    while (number > 0) {\n",
    "        // We are removing each set bit using the below operation\n",
    "        number = number & (number - 1);\n",
    "        count++;\n",
    "    }\n",
    "\n",
    "    return count;\n",
    "}\n",
    "```"
   ]
  },
  {
   "cell_type": "markdown",
   "metadata": {},
   "source": [
    "**Q 2:** If every number in an array occurs thrice except for a single number which occurs one, then return that number. For example, the array is `1 1 1 2 3 2 2`, then we should return `3`.\n",
    "\n",
    "**Answer:** Lets write the binary representation of all numbers in the example above.\n",
    "```\n",
    "1 = 0 1\n",
    "1 = 0 1\n",
    "1 = 0 1\n",
    "2 = 1 0\n",
    "3 = 1 1\n",
    "2 = 1 0\n",
    "2 = 1 0\n",
    "```\n",
    "From the above representation, we can conclude that 1's and 0's at every digit position should be a multiple of 3 if there was no single number. Due to the introduction of single number the count in now not a multiple of 3. It gives remainder 1.\n",
    "```java\n",
    "public static int singleNumber3(int[] nums) {\n",
    "\t\tint answer = 0;\n",
    "\t\tfor (int i = 0; i < 32; i++) {\n",
    "\t\t\tint countOf1 = 0;\n",
    "\t\t\tfor (int j = 0; j < nums.length; j++) {\n",
    "\t\t\t\tif ((nums[j] & (1 << i)) != 0) { // Don't use > 0\n",
    "\t\t\t\t\tcountOf1++;\n",
    "\t\t\t\t}\n",
    "\t\t\t}\n",
    "\n",
    "\t\t\tif (countOf1 % 3 == 1) {\n",
    "\t\t\t\tanswer = answer | (1 << i);\n",
    "\t\t\t}\n",
    "\t\t}\n",
    "\n",
    "\t\treturn answer;\n",
    "\t}\n",
    "```"
   ]
  },
  {
   "cell_type": "markdown",
   "metadata": {},
   "source": [
    "**Q 3:** If every number in an array occurs twice except for a two numbers which occur once, then return those 2 numbers. For example, the array is `1 1 2 2 3 4 4 5`, then we should return `3` and `5`.\n",
    "\n",
    "**Answer:** This question like the above one can easily be solved using a map and counting frequency of each element. Another way to solve is to sort the array and then iterate over it comparing adjacent values. But we will be using a better approach involving bit manipulation. If we XOR the entire array, we get `3^5 = 6` as the answer. If we look at the bit representation of 6, we find that whenever we get 1, this means that 3 and 5 have opposite bits. In this case the second bit. So what we do is to separate numbers having 0 at second bit and the numbers having 1 at second bit. This way we have separated 3 and 5, the correct numbers. Then we XOR these two groups and we get the answer!\n",
    "\n",
    "```java\n",
    "public static int[] singleNumber2(int[] nums) {\n",
    "\t\t// First find the XOR of all\n",
    "\t\tint xor = 0;\n",
    "\t\tfor (int i : nums) {\n",
    "\t\t\txor ^= i;\n",
    "\t\t}\n",
    "\n",
    "\t\t// Find position of first set bit in XOR\n",
    "\t\tint position = 0;\n",
    "\t\tfor (int i = 0; i < 32; i++) {\n",
    "\t\t\tif ((xor & (1 << i)) != 0) {\n",
    "\t\t\t\tposition = i;\n",
    "\t\t\t\tbreak;\n",
    "\t\t\t}\n",
    "\t\t}\n",
    "\n",
    "\t\tint num1 = 0;\n",
    "\t\tint num2 = 0;\n",
    "\t\tfor (int i = 0; i < nums.length; i++) {\n",
    "\t\t\tif ((nums[i] & (1 << position)) != 0) {\n",
    "\t\t\t\tnum1 ^= nums[i];\n",
    "\t\t\t} else {\n",
    "\t\t\t\tnum2 ^= nums[i];\n",
    "\t\t\t}\n",
    "\t\t}\n",
    "\n",
    "\t\treturn new int[] { num1, num2 };\n",
    "\t}\n",
    "```"
   ]
  },
  {
   "cell_type": "markdown",
   "metadata": {},
   "source": [
    "**Q 4:** Given an array of, find sum of hamming distance of all pairs. Hamming distance is the count of different bits in two numbers. For example, if the array is `1 3 5`. Then all the pairs and hamming distances are:\n",
    "```\n",
    "(1,1) = 0, (3,1) = 1, (5,1) = 1\n",
    "(1,3) = 1, (3,3) = 0, (5,3) = 2\n",
    "(1,5) = 1, (3,5) = 2, (5,5) = 0\n",
    "```\n",
    "The total sum therefore is 8.\n",
    "\n",
    "**Answer:** Brute force approach is two go through all possible pairs and get the sum. This has $O(n^2)$ time complexity. The better approach is to count the number of 0 and 1 bits at each position (0 to 31) and muliply it. Then muliply it by 2 (for other pair)\n",
    "```java\n",
    "public int cntBits(int[] A) {\n",
    "        int sum = 0;\n",
    "        for(int i=0; i<32; i++){\n",
    "            int countSetBits = 0;\n",
    "            for(int j=0; j<A.length; j++){\n",
    "                if((A[j] & (1 << i)) != 0){\n",
    "                    countSetBits++;\n",
    "                }\n",
    "            }\n",
    "            \n",
    "            int countUnsetBits = A.length - countSetBits;\n",
    "            sum += countSetBits*countUnsetBits*2;\n",
    "        }\n",
    "        return sum;\n",
    "    }\n",
    "```"
   ]
  },
  {
   "cell_type": "code",
   "execution_count": null,
   "metadata": {},
   "outputs": [],
   "source": []
  }
 ],
 "metadata": {
  "kernelspec": {
   "display_name": "Python 3",
   "language": "python",
   "name": "python3"
  },
  "language_info": {
   "codemirror_mode": {
    "name": "ipython",
    "version": 3
   },
   "file_extension": ".py",
   "mimetype": "text/x-python",
   "name": "python",
   "nbconvert_exporter": "python",
   "pygments_lexer": "ipython3",
   "version": "3.7.4"
  }
 },
 "nbformat": 4,
 "nbformat_minor": 4
}
