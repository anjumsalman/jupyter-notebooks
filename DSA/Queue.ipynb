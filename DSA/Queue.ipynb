{
 "cells": [
  {
   "cell_type": "markdown",
   "metadata": {},
   "source": [
    "### Queue\n",
    "Queue is a `FIFO` First In First Out Data Structure. Insertion occurs at one end (rear) and removal occurs from the other end (head).Similar to Stack, Queue can also be implemented as Array or Linked List.\n",
    "\n"
   ]
  },
  {
   "cell_type": "markdown",
   "metadata": {},
   "source": [
    "### Array Based Implementation\n",
    "```C++\n",
    "#define MAX_SIZE = 10\n",
    "\n",
    "int elements[MAX_SIZE];\n",
    "int front = -1;\n",
    "int rear = -1;\n",
    "\n",
    "boolean isEmpty(){\n",
    "    if(front == -1 && rear == -1)\n",
    "        return true;\n",
    "    else\n",
    "        return false;\n",
    "}\n",
    "\n",
    "void enqueue(int x){\n",
    "    if(rear == MAX_SIZE - 1){\n",
    "        cout<<\"Overflow\";\n",
    "    } else if(isEmpty()){\n",
    "        front = 0; rear = 0;\n",
    "        elements[rear] = x;\n",
    "    } else{\n",
    "        elements[++rear] = x;\n",
    "    }\n",
    "}\n",
    "\n",
    "void dequeue(){\n",
    "    if(isEmpty()){\n",
    "        cout<<\"Already empty\";\n",
    "    } else if(front == rear){\n",
    "        front = -1; rear = -1;\n",
    "    } else {\n",
    "        front ++;\n",
    "    }\n",
    "}\n",
    "```"
   ]
  },
  {
   "cell_type": "markdown",
   "metadata": {},
   "source": [
    "The flaw with the previous implementation is that there is a lot of wasted space if we do multiple dequeue operations. So even though there is space in the array, we can't enqueue more items. To remedy this we use a circular implementation.\n",
    "In case of circular implementation, the next position is $(i + 1)\\%N$, whereas the previous position is $(i+N-1)\\%N$.\n",
    "\n",
    "```C++\n",
    "void enqueue(int x){\n",
    "    if((rear + 1) % MAX_SIZE == front){    // The queue is full\n",
    "        cout<<\"Overflow\";\n",
    "    } else if(isEmpty()){\n",
    "        front = 0; rear = 0;\n",
    "    } else {\n",
    "        rear = (rear + 1) % MAX_SIZE;\n",
    "    }\n",
    "    elements[rear] = x;\n",
    "}\n",
    "\n",
    "void dequeue(){\n",
    "    if(isEmpty()){\n",
    "        cout<<\"Already empty\";\n",
    "    } else if(front == rear){\n",
    "        front = -1; rear = -1;\n",
    "    } else {\n",
    "        front = (front + 1) % MAX_SIZE;\n",
    "    }\n",
    "}\n",
    "```\n",
    "\n",
    "In this case,  \n",
    "i) Enqueue takes O(1) time  \n",
    "ii) Dequeue takes O(1) time  "
   ]
  },
  {
   "cell_type": "markdown",
   "metadata": {},
   "source": [
    "### Resizable Array\n",
    "```C++\n",
    "int arraySize = 10;\n",
    "int elements[arraySize];\n",
    "int front = -1;\n",
    "int rear = -1;\n",
    "int occupancy = 0;\n",
    "\n",
    "void resize(int newSize){\n",
    "    int newArray[newSize];\n",
    "    int i = front;\n",
    "    int j = 0;\n",
    "    while(front != rear){\n",
    "        newArray[j] = elements[front];\n",
    "        j++;\n",
    "        front = (front + 1)%arraySize;\n",
    "    }\n",
    "    \n",
    "    if(front != i)\n",
    "        newArray[j] = elements[rear];\n",
    "    \n",
    "    front = 0;\n",
    "    rear = arraySize - 1;\n",
    "    elements = newArray;\n",
    "    arraySize = newSize;\n",
    "}\n",
    "\n",
    "void enqueue(int x){\n",
    "    if((rear + 1) % MAX_SIZE == front){    // The queue is full\n",
    "        resize(2*arraySize);\n",
    "    } else if(isEmpty()){\n",
    "        front = 0; rear = 0;\n",
    "    } else {\n",
    "        rear = (rear + 1) % MAX_SIZE;\n",
    "    }\n",
    "    elements[rear] = x;\n",
    "    occupancy++;\n",
    "}\n",
    "\n",
    "void dequeue(){\n",
    "    if(isEmpty()){\n",
    "        cout<<\"Already empty\";\n",
    "    } else if(front == rear){\n",
    "        front = -1; rear = -1;\n",
    "    } else {\n",
    "        front = (front + 1) % MAX_SIZE;\n",
    "    }\n",
    "    \n",
    "    occupancy--;\n",
    "    \n",
    "    if(arraySize >= 3*occupancy){\n",
    "        resize(arraySize/2);\n",
    "    }\n",
    "}\n",
    "```"
   ]
  },
  {
   "cell_type": "markdown",
   "metadata": {},
   "source": [
    "### Linked List Based Implementation\n",
    "Lets pick dequeue occurring at head, whereas enqueue occurs at the other end. In a normal implementation, dequeue (in this case) will take O(1) time, but enqueue will take O(n) time. So we utilize a special node pointer to represent the other end of the linked list.\n",
    "```C++\n",
    "struct Node{\n",
    "    int data;\n",
    "    Node* next;\n",
    "}\n",
    "\n",
    "Node* front = NULL;\n",
    "Node* rear = NULL;\n",
    "\n",
    "void enqueue(int x){\n",
    "    Node* temp = new Node();\n",
    "    temp->data = x;\n",
    "    temp->next = NULL;\n",
    "    \n",
    "    if(front == NULL && rear == NULL){\n",
    "        front = rear = temp;\n",
    "    } else {\n",
    "        rear->next = temp;\n",
    "        rear = temp;\n",
    "    }\n",
    "}\n",
    "\n",
    "void dequeue(){\n",
    "    if(front == NULL && rear == NULL){\n",
    "        cout<<\"Already empty\";\n",
    "    } else if(front == rear){\n",
    "        front = NULL;\n",
    "        rear = NULL;\n",
    "    } else {\n",
    "        Node* temp = front;\n",
    "        front = front->next;\n",
    "        delete temp;\n",
    "    }\n",
    "}\n",
    "```"
   ]
  },
  {
   "cell_type": "markdown",
   "metadata": {},
   "source": [
    "### Built-in Implementations\n",
    "**Java:**\n",
    "- Using LinkedList \n",
    "\n",
    "```java\n",
    "LinkedList<Integer> queue = new LinkedList<>();\n",
    "\n",
    "// Check if queue is empty\n",
    "queue.isEmpty();\n",
    "\n",
    "// Get queue size\n",
    "queue.size();\n",
    "\n",
    "// Enqueue operation\n",
    "queue.add(5); queue.add(6);\n",
    "\n",
    "// Dequeue operation\n",
    "// Unlike Stack, pop() method here removes from the front\n",
    "int item = queue.pop();\n",
    "```\n",
    "  \n",
    "- Using ArrayDequeue  \n",
    "\n",
    "```java\n",
    "ArrayDeque<Integer> queue = new ArrayDeque<>();\n",
    "queue.isEmpty();\n",
    "\n",
    "// Get queue size\n",
    "queue.size();\n",
    "\n",
    "// Enqueue operation\n",
    "queue.add(5); queue.add(6);\n",
    "\n",
    "// Dequeue operation\n",
    "int item = queue.pop();\n",
    "```\n",
    "\n",
    "- Using ArrayList\n",
    "\n",
    "```java\n",
    "ArrayList<Integer> queue = new ArrayList<>();\n",
    "queue.isEmpty();\n",
    "\n",
    "// Get queue size\n",
    "queue.size();\n",
    "\n",
    "// Enqueue operation\n",
    "queue.add(5); queue.add(6);\n",
    "\n",
    "// Dequeue operation\n",
    "int item = queue.remove(0);\n",
    "```\n",
    "\n",
    "**Python:**\n",
    "- Using Queue  \n",
    "\n",
    "```sh\n",
    "from queue import Queue\n",
    "q = Queue()\n",
    "\n",
    "# Check if queue is empty\n",
    "q.empty()\n",
    "\n",
    "# Get queue size\n",
    "q.qsize()\n",
    "\n",
    "# Enqueue operation\n",
    "q.put(5)\n",
    "q.put(7)\n",
    "\n",
    "# Dequeue operation\n",
    "item = q.get()\n",
    "```\n",
    "\n",
    "- Using List  \n",
    "\n",
    "```sh\n",
    "queue = []\n",
    "\n",
    "# Enqueue operation\n",
    "queue.append(5)\n",
    "queue.append(6)\n",
    "\n",
    "# Dequeue operation\n",
    "item = q[0]\n",
    "del q[0]\n",
    "```"
   ]
  },
  {
   "cell_type": "markdown",
   "metadata": {},
   "source": [
    "### Queue Implementation Using Stack\n",
    "If we want the enqueue operation to take $O(1)$ time and dequeue to take $O(n)$ time, then:\n",
    "- to enqueue, push to the stack\n",
    "- to dequeue, use another stack, pop all elements from the main stack to the auxiliary stack. Then pop once."
   ]
  },
  {
   "cell_type": "markdown",
   "metadata": {},
   "source": [
    "### Double Ended Queue\n",
    "We can enqueue and dequeue from both the ends."
   ]
  },
  {
   "cell_type": "markdown",
   "metadata": {},
   "source": [
    "**Q 1:** Print all the binary number till a given digit d in ascending order. For example, if `d = 3` then we should print `0, 1, 10, 11, 100, 101, 110, 111` .   \n",
    "**Answer:** The crux is that whenever we dequeue, enqueue two more numbers one ending with 0 and the other ending with 1."
   ]
  },
  {
   "cell_type": "code",
   "execution_count": 4,
   "metadata": {},
   "outputs": [
    {
     "name": "stdout",
     "output_type": "stream",
     "text": [
      "0 1 10 11 100 101 110 111 "
     ]
    }
   ],
   "source": [
    "def print_binary(n):    \n",
    "    # Print zero\n",
    "    print('0', end=' ')\n",
    "    \n",
    "    q = []\n",
    "    # Enqueue 1 to the q\n",
    "    q.append('1')\n",
    "    \n",
    "    while(len(q[0]) != n):\n",
    "        binary = q.pop(0)\n",
    "        print(binary, end=' ')\n",
    "          \n",
    "        # Enqueue by appending with 0 and 1 respectively\n",
    "        q.append(binary + '0')\n",
    "        q.append(binary + '1')\n",
    "          \n",
    "    # Print all the items remaining in the queue\n",
    "    while(len(q) != 0):\n",
    "        binary = q.pop(0)\n",
    "        print(binary, end=' ')\n",
    "          \n",
    "print_binary(3)"
   ]
  },
  {
   "cell_type": "markdown",
   "metadata": {},
   "source": [
    "**Q 2:** Given an array and a window size k, return maximum element in each window.  \n",
    "**Answer:** The brute force approach is to go through all the windows and find the maximum element each time. This will take $O(kn)$ time. A better way is to utilize deque (double ended queue).\n",
    "- keep track of indices\n",
    "- when we insert\n",
    "    a) remove the smaller element on the left\n",
    "    b) remove the elemets from starting of deque having index out of range"
   ]
  },
  {
   "cell_type": "code",
   "execution_count": 11,
   "metadata": {},
   "outputs": [
    {
     "name": "stdout",
     "output_type": "stream",
     "text": [
      "[10, 9, 9, 9, 11, 11]\n"
     ]
    }
   ],
   "source": [
    "def max_in_window(A, k):\n",
    "    deque = []\n",
    "    answer = []\n",
    "    i = 0\n",
    "    \n",
    "    # Process first k elements\n",
    "    while(i < k):\n",
    "        while(len(deque) > 0 and A[i] > A[deque[-1]]):\n",
    "            deque.pop()\n",
    "        deque.append(i)\n",
    "        i += 1\n",
    "    answer.append(A[deque[0]])\n",
    "    \n",
    "    # Process the next set of elements\n",
    "    while(i < len(A)):\n",
    "        # If index at the start is less than i-k+1, remove\n",
    "        while(len(deque) > 0 and deque[0] < i-k+1):\n",
    "            deque.pop(0)\n",
    "            \n",
    "        # If numbers at end are less than number to be added,\n",
    "        # remove those\n",
    "        while(len(deque) > 0 and A[deque[-1]] < A[i]):\n",
    "            deque.pop()\n",
    "\n",
    "        # Add index to deque\n",
    "        deque.append(i)\n",
    "\n",
    "        # Number at start is the required max\n",
    "        answer.append(A[deque[0]])\n",
    "        \n",
    "        i += 1\n",
    "        \n",
    "    return answer\n",
    "\n",
    "A = [10,1,2,9,7,6,5,11,3]\n",
    "k = 4\n",
    "print(max_in_window(A, k))"
   ]
  },
  {
   "cell_type": "code",
   "execution_count": 12,
   "metadata": {},
   "outputs": [
    {
     "name": "stdout",
     "output_type": "stream",
     "text": [
      "[1, 1, 2, 5, 5, 3]\n"
     ]
    }
   ],
   "source": [
    "def min_in_window(A, k):\n",
    "    deque = []\n",
    "    answer = []\n",
    "    i = 0\n",
    "    \n",
    "    # Process first k elements\n",
    "    while(i < k):\n",
    "        while(len(deque) > 0 and A[i] < A[deque[-1]]):\n",
    "            deque.pop()\n",
    "        deque.append(i)\n",
    "        i += 1\n",
    "    answer.append(A[deque[0]])\n",
    "    \n",
    "    # Process the next set of elements\n",
    "    while(i < len(A)):\n",
    "        # If index at the start is less than i-k+1, remove\n",
    "        while(len(deque) > 0 and deque[0] < i-k+1):\n",
    "            deque.pop(0)\n",
    "            \n",
    "        # If numbers at end are greater than number to be added,\n",
    "        # remove those\n",
    "        while(len(deque) > 0 and A[deque[-1]] > A[i]):\n",
    "            deque.pop()\n",
    "\n",
    "        # Add index to deque\n",
    "        deque.append(i)\n",
    "\n",
    "        # Number at start is the required max\n",
    "        answer.append(A[deque[0]])\n",
    "        \n",
    "        i += 1\n",
    "        \n",
    "    return answer\n",
    "\n",
    "A = [10,1,2,9,7,6,5,11,3]\n",
    "k = 4\n",
    "print(min_in_window(A, k))"
   ]
  },
  {
   "cell_type": "markdown",
   "metadata": {},
   "source": [
    "**Q 5:** Reverse a queue  \n",
    "**Answer:**"
   ]
  },
  {
   "cell_type": "code",
   "execution_count": 16,
   "metadata": {},
   "outputs": [
    {
     "name": "stdout",
     "output_type": "stream",
     "text": [
      "[7, 8, 5, 34, 5, 25, 35, 43]\n"
     ]
    }
   ],
   "source": [
    "def reverse_q(q):\n",
    "    if len(q) == 1:\n",
    "        return q\n",
    "    \n",
    "    item = q.pop(0)\n",
    "    q = reverse_q(q)\n",
    "    q.append(item)\n",
    "    \n",
    "    return q\n",
    "\n",
    "A = [ 43, 35, 25, 5, 34, 5, 8, 7 ]\n",
    "print(reverse_q(A))"
   ]
  },
  {
   "cell_type": "markdown",
   "metadata": {},
   "source": [
    "We can also perform this iteratively using:"
   ]
  },
  {
   "cell_type": "code",
   "execution_count": 18,
   "metadata": {},
   "outputs": [
    {
     "name": "stdout",
     "output_type": "stream",
     "text": [
      "[7, 8, 5, 34, 5, 25, 35, 43]\n"
     ]
    }
   ],
   "source": [
    "def reverse_q(q):\n",
    "    aux = []\n",
    "    while(len(q) != 0):\n",
    "        i = 0\n",
    "        while(i < len(q)-1):\n",
    "            q.append(q.pop(0))\n",
    "            i += 1\n",
    "        aux.append(q.pop(0))\n",
    "        \n",
    "    return aux\n",
    "\n",
    "A = [ 43, 35, 25, 5, 34, 5, 8, 7 ]\n",
    "print(reverse_q(A))"
   ]
  },
  {
   "cell_type": "code",
   "execution_count": null,
   "metadata": {},
   "outputs": [],
   "source": []
  }
 ],
 "metadata": {
  "kernelspec": {
   "display_name": "Python 3",
   "language": "python",
   "name": "python3"
  },
  "language_info": {
   "codemirror_mode": {
    "name": "ipython",
    "version": 3
   },
   "file_extension": ".py",
   "mimetype": "text/x-python",
   "name": "python",
   "nbconvert_exporter": "python",
   "pygments_lexer": "ipython3",
   "version": "3.7.4"
  }
 },
 "nbformat": 4,
 "nbformat_minor": 4
}
