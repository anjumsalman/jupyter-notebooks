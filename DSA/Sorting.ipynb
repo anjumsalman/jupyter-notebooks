{
 "cells": [
  {
   "cell_type": "markdown",
   "metadata": {},
   "source": [
    "## Sorting Algorithms\n",
    "Below are some of the sorting algorithms which will be listed:\n",
    "- Bubble Sort\n",
    "- Selection Sort\n",
    "- Insertion Sort\n",
    "- Merge Sort\n",
    "- Quick Sort\n",
    "\n",
    "Some characteristics of a sorting algorithm:\n",
    "- Stable/Unstable : relative position between same values changed or not\n",
    "- In place : if the algorithm consumes constant space, it is in place"
   ]
  },
  {
   "cell_type": "markdown",
   "metadata": {},
   "source": [
    "## Bubble Sort\n",
    "- Time Complexity :\n",
    "    - Best case : $O(n)$\n",
    "    - Worst case : $O(n^2)$\n",
    "    - Average case : $O(n^2)$\n",
    "- In place\n",
    "- Stable\n",
    "\n",
    "Problem with bubble sort is the high number of swaps involved. In the worst case (list os sorted in reverse order), we make swaps in order of $O(n^2)$"
   ]
  },
  {
   "cell_type": "code",
   "execution_count": null,
   "metadata": {},
   "outputs": [],
   "source": [
    "public static <T extends Comparable<T>> void bubbleSort(T[] input) {\n",
    "    for (int i = 0; i < input.length - 1; i++) {\n",
    "        boolean sorted = true; // assume the array is already sorted, no swaps will be done in then\n",
    "                               // if swap was done then our assumption was wrong, annd input is not sorted\n",
    "        for (int j = 0; j < input.length - 1 - i; j++) {\n",
    "            if (input[j].compareTo(input[j + 1]) > 0) {\n",
    "                T tmp = input[j];\n",
    "                input[j] = input[j + 1];\n",
    "                input[j + 1] = tmp;\n",
    "\n",
    "                sorted = false;\n",
    "            }\n",
    "        }\n",
    "\n",
    "        if (sorted) {\n",
    "            return;\n",
    "        }\n",
    "    }\n",
    "}"
   ]
  },
  {
   "cell_type": "markdown",
   "metadata": {},
   "source": [
    "## Selection Sort\n",
    "- Time complexity:\n",
    "    - Best case : $O(n^2)$\n",
    "    - Worst case : $O(n^2)$\n",
    "    - Average case : $O(n^2)$\n",
    "- In place\n",
    "- Unstable\n",
    "\n",
    "Selection sort can be made stable by replacing the swap step with inserting at beginning. This is more convenient if we use a vector in place of an array."
   ]
  },
  {
   "cell_type": "code",
   "execution_count": null,
   "metadata": {},
   "outputs": [],
   "source": [
    "public static <T extends Comparable<T>> void selectionSort(T[] input) {\n",
    "    for (int i = 0; i < input.length - 1; i++) {\n",
    "        int index = i;\n",
    "        for (int j = i + 1; j < input.length; j++) {\n",
    "            if (input[j].compareTo(input[index]) < 0) {\n",
    "                index = j;\n",
    "            }\n",
    "        }\n",
    "\n",
    "        if (i != index) {\n",
    "            T temp = input[i];\n",
    "            input[i] = input[index];\n",
    "            input[index] = temp;\n",
    "        }\n",
    "    }\n",
    "}"
   ]
  },
  {
   "cell_type": "markdown",
   "metadata": {},
   "source": [
    "In the best case also it can be seen that selection sort does $O(n^2)$ number of comparisons as opposed to bubble sort where we do $O(n)$ comparisons. But overall selection sort is considered better because the number of swaps done is maximum of $O(n)$.  \n",
    "\n",
    "To make selection sort be stable, instead of swapping elements, we need to append elements and do shifting. For example, consider the below array:\n",
    "```\n",
    "4 2 3 4_ 1 --> shift and append at beginning\n",
    "1 4 2 3 4_\n",
    "```\n",
    "The element to be added at the beginning (1) is appended only after the elements are shifted by 1 position to the right. So swapping now becomes $O(n^2)$. Overall time complexity will remain the same."
   ]
  },
  {
   "cell_type": "markdown",
   "metadata": {},
   "source": [
    "## Insertion Sort\n",
    "- Time complexity:\n",
    "    - Best time : $O(n)$\n",
    "    - Worst time : $O(n^2)$\n",
    "    - Average time : $O(n^2)$\n",
    "- In place\n",
    "- Stable"
   ]
  },
  {
   "cell_type": "markdown",
   "metadata": {},
   "source": [
    "Insertion sort is considered better than selection sort because it makes less comparisons. While selection sort always compares every element in the unsorted part, insertion sort makes comparisons in sorted part and most of the times it does not compare every element in sorted part."
   ]
  },
  {
   "cell_type": "code",
   "execution_count": null,
   "metadata": {},
   "outputs": [],
   "source": [
    "public static <T extends Comparable<T>> void insertionSort(T[] input) {\n",
    "    for (int i = 1; i < input.length; i++) {\n",
    "        T value = input[i];\n",
    "        int j = i - 1;\n",
    "\n",
    "        while (j >= 0 && input[j].compareTo(value) > 0) {\n",
    "            input[j + 1] = input[j];\n",
    "            j--;\n",
    "        }\n",
    "\n",
    "        input[j + 1] = value;\n",
    "    }\n",
    "}"
   ]
  },
  {
   "cell_type": "markdown",
   "metadata": {},
   "source": [
    "## Merge Sort\n",
    "- Time Complexity: $O(nlogn)$ in all cases\n",
    "- Space Complexity: $O(n)$\n",
    "- Stable"
   ]
  },
  {
   "cell_type": "markdown",
   "metadata": {},
   "source": [
    "Merge sort works by dividing list intow two equal parts, sorting them and then merging them together. Two possible implementations are possible, divide in merge function or divide in sort function."
   ]
  },
  {
   "cell_type": "code",
   "execution_count": null,
   "metadata": {},
   "outputs": [],
   "source": [
    "public static <T extends Comparable<T>> void mergeSort(T[] input) {\n",
    "    if (input.length <= 1) return;\n",
    "\n",
    "    int mid = input.length / 2;\n",
    "\n",
    "    // Create two arrays containing half elements from the input array\n",
    "    T[] leftArray = Arrays.copyOfRange(input, 0, mid);\n",
    "    T[] rightArray = Arrays.copyOfRange(input, mid, input.length);\n",
    "\n",
    "    mergeSort(leftArray);\n",
    "    mergeSort(rightArray);\n",
    "    merge(leftArray, rightArray, input);\n",
    "}\n",
    "\n",
    "private static <T extends Comparable<T>> void merge(T[] left, T[] right, T[] input) {\n",
    "    int l = 0, r = 0, i = 0;\n",
    "    while (l < left.length && r < right.length) {\n",
    "        if (left[l].compareTo(right[r]) < 0) {\n",
    "            input[i] = left[l];\n",
    "            l++;\n",
    "        } else {\n",
    "            input[i] = right[r];\n",
    "            r++;\n",
    "        }\n",
    "\n",
    "        i++;\n",
    "    }\n",
    "\n",
    "    while (l < left.length) {\n",
    "        input[i] = left[l];\n",
    "        l++;\n",
    "        i++;\n",
    "    }\n",
    "\n",
    "    while (r < right.length) {\n",
    "        input[i] = right[r];\n",
    "        r++;\n",
    "        i++;\n",
    "    }\n",
    "}"
   ]
  },
  {
   "cell_type": "markdown",
   "metadata": {},
   "source": [
    "Time complexity is calculated as:\n",
    "$$T(n) = 2T(n/2) + cn$$\n",
    "$$T(n/2) = 2T(n/4) + c(n/2)$$\n",
    "$$T(n/4) = 2T(n/8) + c(n/4)$$\n",
    "$$\\vdots$$\n",
    "$$T(1) = 1$$\n",
    "  \n",
    "$$T(n) = 4T(n/4) + 2n$$\n",
    "$$T(n) = 8T(n/8) + 3n$$\n",
    "$$T(n) = 2^kT(n/2^k) + kn$$\n",
    "\n",
    "Now, to write in term of $T(1)$,\n",
    "$$\\frac{n}{2^k} = 1$$\n",
    "$$k = log_2n$$\n",
    "\n",
    "$$T(n) = 2T(1) + nlogn$$\n",
    "$$T(n) = O(nlogn)$$\n",
    "\n",
    "Also take a look at [iterative merge sort](https://www.geeksforgeeks.org/iterative-merge-sort/)"
   ]
  },
  {
   "cell_type": "markdown",
   "metadata": {},
   "source": [
    "## Quick Sort\n",
    "- Time complexity:\n",
    "    - Best time : $O(nlogn)$\n",
    "    - Worst time : $O(n^2)$\n",
    "    - Average time : $O(nlogn)$\n",
    "- In place (though we use $O(log_2n)$ stack space)\n",
    "- Unstable"
   ]
  },
  {
   "cell_type": "markdown",
   "metadata": {},
   "source": [
    "In this algorithm we proceed as follows\n",
    "1. Select a pivot element, lets assume it is the last element\n",
    "2. Partition the list around pivot such that elements lesser than pivot are positioned before it and elements greater than partition lie after pivot.\n",
    "3. Repeat the same for two subarrays created by choosing elements before and after pivot."
   ]
  },
  {
   "cell_type": "code",
   "execution_count": null,
   "metadata": {},
   "outputs": [],
   "source": [
    "public static <T extends Comparable<T>> void quickSort(T[] input) {\n",
    "    quickSort(input, 0, input.length - 1);\n",
    "}\n",
    "\n",
    "private static <T extends Comparable<T>> void quickSort(T[] input, int start, int end) {\n",
    "    if (start < end) {\n",
    "        int pivot = partition(input, start, end);\n",
    "        quickSort(input, start, pivot - 1);\n",
    "        quickSort(input, pivot + 1, end);\n",
    "    }\n",
    "}\n",
    "\n",
    "private static <T extends Comparable<T>> int partition(T[] input, int start, int end) {\n",
    "    T pivot = input[end];\n",
    "    int pivotIndex = start; // Assume first element is the partition point\n",
    "\n",
    "    for (int i = start; i <= end; i++) {\n",
    "        // NOTE, comparison is <= because the element is being compared to itself as well\n",
    "        if (input[i].compareTo(pivot) <= 0) {\n",
    "            T temp = input[i];\n",
    "            input[i] = input[pivotIndex];\n",
    "            input[pivotIndex] = temp;\n",
    "\n",
    "            pivotIndex++;\n",
    "        }\n",
    "    }\n",
    "\n",
    "    return pivotIndex - 1;\n",
    "}"
   ]
  },
  {
   "cell_type": "markdown",
   "metadata": {},
   "source": [
    "To compute the time complexity of the operation,  \n",
    "$$T(n) = T(x) + T(n-x) + cn$$\n",
    "If we are able to partition into two equal halfs, then $x = \\frac{n}{2}$ \n",
    "$$T(n) = 2T(n/2) + cn$$\n",
    "This is similar to merge sort case and the required time complexity will be $O(nlogn)$. In the worst case, one side of the partition has zero elements, whereas the other side has $n-1$ elements. In this case, the time complexity will be $O(n^2)$."
   ]
  },
  {
   "cell_type": "markdown",
   "metadata": {},
   "source": [
    "**Q 1:** Suppose that we are not allowed to swap adjacent elements, only alternate element. Then what would happen when we try to sort? For example, if the array is `4 3 5 7 2 6`, we can swap 4 with 5, 3 with 7, etc. But we can't swap 4 with 3, 7 with 2 and so on.  \n",
    "**Answer:** This algorithm will swap all the odd place and even place elements independently."
   ]
  },
  {
   "cell_type": "code",
   "execution_count": 1,
   "metadata": {},
   "outputs": [
    {
     "name": "stdout",
     "output_type": "stream",
     "text": [
      "[2, 3, 4, 6, 5, 7]\n"
     ]
    }
   ],
   "source": [
    "def bubble_3_sort(A):\n",
    "    for i in range(len(A)):\n",
    "        if i % 2 == 0:\n",
    "            j = 0\n",
    "        else:\n",
    "            j = 1\n",
    "        while(j < len(A)-2):\n",
    "            if A[j] > A[j+2]:\n",
    "                A[j], A[j+2] = A[j+2], A[j]\n",
    "            j += 2\n",
    "            \n",
    "A = [4, 3, 5, 7, 2, 6]\n",
    "bubble_3_sort(A)\n",
    "print(A)"
   ]
  },
  {
   "cell_type": "markdown",
   "metadata": {},
   "source": [
    "**Q 2:** Find the Kth max element of an array  \n",
    "**Answer:** We can build a max heap and then pop K times. The last popped element is the Kth max element. Or we can make use of sorting algorithm like bubble or selection sort."
   ]
  },
  {
   "cell_type": "code",
   "execution_count": 3,
   "metadata": {},
   "outputs": [
    {
     "name": "stdout",
     "output_type": "stream",
     "text": [
      "4\n"
     ]
    }
   ],
   "source": [
    "public int kthLargest(int[] input, int k) {\n",
    "    Objects.requireNonNull(input);\n",
    "    if (k < 1 || k > input.length) {\n",
    "        throw new IllegalArgumentException(\"k should be between 1 and \" + input.length);\n",
    "    }\n",
    "\n",
    "    for (int i = 0; i < k; i++) {\n",
    "        int maxIndex = i;\n",
    "        for (int j = i + 1; j < input.length; j++) {\n",
    "            if (input[j] > input[maxIndex]) {\n",
    "                maxIndex = j;\n",
    "            }\n",
    "        }\n",
    "\n",
    "        int temp = input[maxIndex];\n",
    "        input[maxIndex] = input[i];\n",
    "        input[i] = temp;\n",
    "    }\n",
    "\n",
    "    return input[k - 1];\n",
    "}\n",
    "\n",
    "int[] kthLargestInput = {2, 9, 4, 3, 0, 5};\n",
    "int k = 3;\n",
    "\n",
    "System.out.println(kthLargest(kthLargestInput, k));"
   ]
  },
  {
   "cell_type": "markdown",
   "metadata": {},
   "source": [
    "**Q 3:** Given an array count the number of double inversions. A double inversion is a case when `A[i] > 2*A[j]` and `i < j`. In the array `[7,4,3,1,9,2,3,1]`, one of the double inversion case is `(7,3)`, another is `(4,1)`, etc.  \n",
    "**Answer:** We can employ the merging technique of merge sort in this case"
   ]
  },
  {
   "cell_type": "code",
   "execution_count": 11,
   "metadata": {},
   "outputs": [
    {
     "name": "stdout",
     "output_type": "stream",
     "text": [
      "13\n"
     ]
    }
   ],
   "source": [
    "public static int doubleInversions(int[] input) {\n",
    "    if (input.length <= 1) return 0;\n",
    "\n",
    "    int mid = input.length / 2;\n",
    "\n",
    "    int[] left = new int[mid];\n",
    "    int[] right = new int[input.length - mid];\n",
    "\n",
    "    for (int i = 0; i < mid; i++) {\n",
    "        left[i] = input[i];\n",
    "    }\n",
    "    for (int i = 0; i < input.length - mid; i++) {\n",
    "        right[i] = input[i + mid];\n",
    "    }\n",
    "\n",
    "    // Total number of double inversions in the left subarray, total in right subarray and total between the two\n",
    "    return doubleInversions(left) + doubleInversions(right) + doubleInversionMerge(left, right, input);\n",
    "}\n",
    "\n",
    "private static int doubleInversionMerge(int[] left, int[] right, int[] array) {\n",
    "    // The left and right sub-arrays are individually sorted, so it is easy to calculate double inversions.\n",
    "    // For example if element with index i in left subarray is double inversion then rest of the elements\n",
    "    // are also double inversion\n",
    "\n",
    "    int count = 0;\n",
    "    int l = 0, r = 0, i = 0;\n",
    "\n",
    "    while (l < left.length && r < right.length) {\n",
    "        if (left[l] > 2 * right[r]) {\n",
    "            array[i] = right[r];\n",
    "            count += left.length - l;\n",
    "            r++;\n",
    "        } else {\n",
    "            if (left[l] <= right[r]) {\n",
    "                array[i] = left[l];\n",
    "                l++;\n",
    "            } else {\n",
    "                // Check which elements in the left subarray satisfy double inversion requirement\n",
    "                // with the specific element of the right subarray\n",
    "                int k = l + 1;\n",
    "                while (k < left.length) {\n",
    "                    if (left[k] > 2 * right[r]) {\n",
    "                        count += left.length - k;\n",
    "                        break;\n",
    "                    }\n",
    "                    k++;\n",
    "                }\n",
    "\n",
    "                array[i] = right[r];\n",
    "                r++;\n",
    "            }\n",
    "        }\n",
    "\n",
    "        i++;\n",
    "    }\n",
    "    while (l < left.length) {\n",
    "        array[i] = left[l];\n",
    "        l++;\n",
    "        i++;\n",
    "    }\n",
    "    while (r < right.length) {\n",
    "        array[i] = right[r];\n",
    "        r++;\n",
    "        i++;\n",
    "    }\n",
    "\n",
    "    return count;\n",
    "}\n",
    "        \n",
    "int[] dIInput = {7,4,3,1,9,2,3,1};\n",
    "System.out.println(doubleInversions(dIInput));"
   ]
  },
  {
   "cell_type": "markdown",
   "metadata": {},
   "source": [
    "**Q 4:** Given that an element of an array can be either 0, 1 or 2, sort this array in $O(n)$ time, $O(1)$ space and without counting elements.  \n",
    "**Answer:** To solve this we can utilise partitioning. We would need to partition a maximum of two times, once pivot element will be 0 and other time pivot element will be one. This way the whole array will be sorted."
   ]
  },
  {
   "cell_type": "code",
   "execution_count": 4,
   "metadata": {},
   "outputs": [
    {
     "name": "stdout",
     "output_type": "stream",
     "text": [
      "[0, 0, 0, 1, 1, 1, 2, 2, 2]\n"
     ]
    }
   ],
   "source": [
    "public static void sortArray(int[] input) {\n",
    "    partitionArray(input, 0);\n",
    "    partitionArray(input, 1);\n",
    "}\n",
    "\n",
    "private static void partitionArray(int[] input, int pivot) {\n",
    "    int pivotIndex = 0;\n",
    "\n",
    "    for (int i = 0; i < input.length; i++) {\n",
    "        if (input[i] <= pivot) {\n",
    "            int temp = input[i];\n",
    "            input[i] = input[pivotIndex];\n",
    "            input[pivotIndex] = temp;\n",
    "\n",
    "            pivotIndex++;\n",
    "        }\n",
    "    }\n",
    "}\n",
    "    \n",
    "int[] arrayToBeSorted = {2,0,1,0,0,2,1,2,1};\n",
    "sortArray(arrayToBeSorted);\n",
    "System.out.println(Arrays.toString(arrayToBeSorted));"
   ]
  },
  {
   "cell_type": "markdown",
   "metadata": {},
   "source": [
    "**Q 5** Given an array of non-negative integers, return the largest number that can be formed using the numbers in array  \n",
    "**Answer** If we just sort the numbers in descending order, it will not work. We have to write our own comparison function"
   ]
  },
  {
   "cell_type": "code",
   "execution_count": null,
   "metadata": {},
   "outputs": [],
   "source": [
    "public static int largestNumber(int[] input) {\n",
    "    sortInput(input, 0, input.length - 1);\n",
    "\n",
    "    return Integer.parseInt(Arrays.stream(input).boxed().map(String::valueOf).reduce(\"\", (a, b) -> a + b));\n",
    "}\n",
    "\n",
    "public static void sortInput(int[] input, int start, int end) {\n",
    "    if (start < end) {\n",
    "        int partition = partitionInput(input, start, end);\n",
    "        largestNumber(input, start, partition - 1);\n",
    "        largestNumber(input, partition + 1, end);\n",
    "    }\n",
    "}\n",
    "\n",
    "private static int partitionInput(int[] input, int start, int end) {\n",
    "    int pivot = input[end];\n",
    "    int pivotIndex = start;\n",
    "\n",
    "    for (int i = start; i <= end; i++) {\n",
    "        if (compare(input[i], pivot) >= 0) {\n",
    "            int temp = input[i];\n",
    "            input[i] = input[pivotIndex];\n",
    "            input[pivotIndex] = temp;\n",
    "\n",
    "            pivotIndex++;\n",
    "        }\n",
    "    }\n",
    "\n",
    "    return pivotIndex - 1;\n",
    "}\n",
    "\n",
    "private static int compare(int a, int b) {\n",
    "    int iA = Integer.parseInt(a + String.valueOf(b));\n",
    "    int iB = Integer.parseInt(b + String.valueOf(a));\n",
    "\n",
    "    return Integer.compare(iA, iB);\n",
    "}\n",
    "    \n",
    "int[] largestNumberInput = {3, 30, 34, 5, 9};\n",
    "System.out.println(largestNumber(largestNumberInput));"
   ]
  },
  {
   "cell_type": "markdown",
   "metadata": {},
   "source": [
    "**Q 6:** Given an array return the sum of `max(subsequence) - min(subsequence)` for all subsequences of the array.  \n",
    "**Answer:** Every time we pick two numbers in the array. The two numbers must be the max and min element of some subsequence. We just have to find how many such subsequences are there."
   ]
  },
  {
   "cell_type": "code",
   "execution_count": 2,
   "metadata": {},
   "outputs": [
    {
     "name": "stdout",
     "output_type": "stream",
     "text": [
      "44\n"
     ]
    }
   ],
   "source": [
    "def sum_the_diff(A):\n",
    "    A = sorted(A)\n",
    "    \n",
    "    sum = 0\n",
    "    \n",
    "    for i in range(len(A)-1): # A[i] will be the minimum element of subsequence\n",
    "        for j in range(i+1, len(A)): # A[j] will be the maximum element of the subsequence\n",
    "            sum += (int(2**(j-i-1))*(A[j] - A[i]))\n",
    "\n",
    "    return sum\n",
    "\n",
    "A = [3,4,2,8]\n",
    "print(sum_the_diff(A))"
   ]
  },
  {
   "cell_type": "markdown",
   "metadata": {},
   "source": [
    "**Q 7** Given an array containing floating numbers, return 1 if a triplet exists such that the sum of triplet lies between 1 and 2 (not inclusive). If $a, b, c$ are the triplet elements, then $1 \\lt a+b+c \\lt 2$.  \n",
    "**Answer** The easy way is to sort the array and check 3 item, shift, adjust sum, continue. However is we want the running time to be of order $O(n)$ then:"
   ]
  },
  {
   "cell_type": "code",
   "execution_count": 4,
   "metadata": {},
   "outputs": [
    {
     "name": "stdout",
     "output_type": "stream",
     "text": [
      "True\n"
     ]
    }
   ],
   "source": [
    "public static boolean tripletSumInRange(float[] input) {\n",
    "    float[] temp = Arrays.copyOfRange(input, 0, 3);\n",
    "\n",
    "    for (int i = 3; i <= input.length; i++) {\n",
    "        sort(temp);\n",
    "\n",
    "        float sum = temp[0] + temp[1] + temp[2];\n",
    "        if (sum > 1 && sum < 2) {\n",
    "            return true;\n",
    "        }\n",
    "\n",
    "        if (sum < 1 && i < input.length) {\n",
    "            temp[0] = input[i];\n",
    "        } else if (sum > 2 && i < input.length) {\n",
    "            temp[2] = input[i];\n",
    "        }\n",
    "    }\n",
    "\n",
    "    return false;\n",
    "}\n",
    "\n",
    "// This sort will take O(1) time since array length is fixed to 3\n",
    "private static void sort(float[] array) {\n",
    "    for (int i = 0; i < array.length; i++) {\n",
    "        int minIndex = i;\n",
    "        for (int j = i + 1; j < array.length; j++) {\n",
    "            if (Float.compare(array[j], array[minIndex]) < 0) {\n",
    "                minIndex = j;\n",
    "            }\n",
    "        }\n",
    "\n",
    "        float temp = array[minIndex];\n",
    "        array[minIndex] = array[i];\n",
    "        array[i] = temp;\n",
    "    }\n",
    "}  \n",
    "\n",
    "float[] floats = {0.6, 0.7, 0.8, 1.2, 0.4};\n",
    "System.out.println(tripletSumInRange(floats))"
   ]
  },
  {
   "cell_type": "markdown",
   "metadata": {},
   "source": [
    "**Q 8** Given an array $A$ of $N$ bottles, where $A[i]$ denotes radius of $i$th bottle. A bottle $i$ can be put inside bottle $j$ if $A[i]<A[j]$ and $j$th bottle dosen't contain any other bottle. You can put bottles into each other any number of times. Minimize the number of visible bottles.  \n",
    "**Answer:** This can be solved by maintaining a frequency map"
   ]
  },
  {
   "cell_type": "code",
   "execution_count": 6,
   "metadata": {},
   "outputs": [
    {
     "name": "stdout",
     "output_type": "stream",
     "text": [
      "2\n"
     ]
    }
   ],
   "source": [
    "public static int visibleBottles(int[] input) {\n",
    "    Map<Integer, Integer> freqMap = new HashMap<>();\n",
    "    for (int i = 0; i < input.length; i++) {\n",
    "        freqMap.put(input[i], freqMap.getOrDefault(input[i], 0) + 1);\n",
    "    }\n",
    "\n",
    "    int max = -1;\n",
    "    for (Integer freq : freqMap.values()) {\n",
    "        if (freq > max) {\n",
    "            max = freq;\n",
    "        }\n",
    "    }\n",
    "\n",
    "    return max;\n",
    "}\n",
    "\n",
    "int[] bottles = {1,2,5,5,2,4,3}\n",
    "System.out.println(visibleBottles(bottles))"
   ]
  },
  {
   "cell_type": "markdown",
   "metadata": {},
   "source": [
    "How to solve this using sorting?"
   ]
  },
  {
   "cell_type": "code",
   "execution_count": 7,
   "metadata": {},
   "outputs": [
    {
     "name": "stdout",
     "output_type": "stream",
     "text": [
      "2\n"
     ]
    }
   ],
   "source": [
    "public static int visibleBottles2(int[] input) {\n",
    "    Arrays.sort(input);\n",
    "\n",
    "    int max = 1;\n",
    "    int count = 1;\n",
    "    for (int i = 1; i < input.length; i++) {\n",
    "        if (input[i] == input[i - 1]) {\n",
    "            count++;\n",
    "        } else {\n",
    "            count = 1;\n",
    "        }\n",
    "\n",
    "        if (count > max) {\n",
    "            max = count;\n",
    "        }\n",
    "    }\n",
    "\n",
    "    return max;\n",
    "}\n",
    "\n",
    "System.out.println(visibleBottles2(bottles))"
   ]
  },
  {
   "cell_type": "markdown",
   "metadata": {},
   "source": [
    "**Q 9** Given an array of integers, arrange the items such that it has alternating positive and negative numbers. Any extra positive or negative numbers are appended to the end. Maintain the order of occurance of positive and negative numbers.   \n",
    "**Answer:** Form two arrays - all negative numbers are put in one array and positive numbers are put in other. Now we can use the merge function of merge sort to get our required array. This solution requires $O(n)$ space."
   ]
  },
  {
   "cell_type": "code",
   "execution_count": 9,
   "metadata": {},
   "outputs": [
    {
     "name": "stdout",
     "output_type": "stream",
     "text": [
      "[-1, 3, -2, 4, -3, 6, 5]\n"
     ]
    }
   ],
   "source": [
    "public static void alternatePositiveNegative(int[] input) {\n",
    "    List<Integer> left = new ArrayList<>();\n",
    "    List<Integer> right = new ArrayList<>();\n",
    "\n",
    "    for (int i : input) {\n",
    "        if (i < 0) {\n",
    "            left.add(i);\n",
    "        }\n",
    "    }\n",
    "\n",
    "    for (int i : input) {\n",
    "        if (i >= 0) {\n",
    "            right.add(i);\n",
    "        }\n",
    "    }\n",
    "\n",
    "    mergePositiveNegative(left.stream().mapToInt(i -> i).toArray(), right.stream().mapToInt(i -> i).toArray(), input);\n",
    "}\n",
    "\n",
    "private static void mergePositiveNegative(int[] left, int[] right, int[] input) {\n",
    "    int l = 0, r = 0, i = 0;\n",
    "    while (l < left.length && r < right.length) {\n",
    "        if (i % 2 == 0) {\n",
    "            input[i] = left[l];\n",
    "            l++;\n",
    "        } else {\n",
    "            input[i] = right[r];\n",
    "            r++;\n",
    "        }\n",
    "\n",
    "        i++;\n",
    "    }\n",
    "\n",
    "    while (l < left.length) {\n",
    "        input[i] = left[l];\n",
    "        l++;\n",
    "        i++;\n",
    "    }\n",
    "\n",
    "    while (r < right.length) {\n",
    "        input[i] = right[r];\n",
    "        r++;\n",
    "        i++;\n",
    "    }\n",
    "}\n",
    "\n",
    "int[] negativeAndPositive = {-1, 3, -2, -3, 4, 6, 5};\n",
    "alternatePositiveNegative(negativeAndPositive);\n",
    "System.out.println(Arrays.toString(negativeAndPositive));"
   ]
  },
  {
   "cell_type": "markdown",
   "metadata": {},
   "source": [
    "What if we want to solve it in constant space complexity?"
   ]
  },
  {
   "cell_type": "code",
   "execution_count": 11,
   "metadata": {},
   "outputs": [
    {
     "name": "stdout",
     "output_type": "stream",
     "text": [
      "[-1, 3, -2, 4, -3, 6, 5]\n"
     ]
    }
   ],
   "source": [
    "// Uses selection sort variant that is stable\n",
    "public static void alternatePositiveNegative2(int[] input) {\n",
    "    boolean negative = true;\n",
    "    for (int i = 0; i < input.length; i++) {\n",
    "        int index = i;\n",
    "        for (int j = i; j < input.length; j++) {\n",
    "            if (negative && input[j] < 0) {\n",
    "                negative = false;\n",
    "                index = j;\n",
    "                break;\n",
    "            } else if (!negative && input[j] > 0) {\n",
    "                negative = true;\n",
    "                index = j;\n",
    "                break;\n",
    "            }\n",
    "        }\n",
    "\n",
    "        // Shift elements to maintain stability\n",
    "        int temp = input[index];\n",
    "        int j = index;\n",
    "        while (j > i) {\n",
    "            input[j] = input[j - 1];\n",
    "            j--;\n",
    "        }\n",
    "\n",
    "        input[i] = temp;\n",
    "    }\n",
    "}\n",
    "\n",
    "int[] negativeAndPositive = {-1, 3, -2, -3, 4, 6, 5};\n",
    "alternatePositiveNegative2(negativeAndPositive);\n",
    "System.out.println(Arrays.toString(negativeAndPositive));"
   ]
  },
  {
   "cell_type": "markdown",
   "metadata": {},
   "source": [
    "**Q 10** Given an array of size $N$ filled with numbers from `0,1,2,...,N-1`. We can partition the array into chunks. Maximum number of chunks that can be made such that after sorting each chunk separately, the entire array becomes sorted?  \n",
    "**Answer:** "
   ]
  },
  {
   "cell_type": "code",
   "execution_count": 1,
   "metadata": {},
   "outputs": [
    {
     "name": "stdout",
     "output_type": "stream",
     "text": [
      "2\n"
     ]
    }
   ],
   "source": [
    "public static int maxChunks(int[] input) {\n",
    "    int max = input[0];\n",
    "    int chunks = 0;\n",
    "    for (int i = 0; i < input.length; i++) {\n",
    "        if (input[i] > max) {\n",
    "            max = input[i];\n",
    "        }\n",
    "\n",
    "        if (max == i) chunks++;\n",
    "    }\n",
    "\n",
    "    return chunks;\n",
    "}\n",
    "\n",
    "int[] chunkedArray = {2, 0, 1, 3};\n",
    "System.out.println(maxChunks(chunkedArray));"
   ]
  },
  {
   "cell_type": "code",
   "execution_count": null,
   "metadata": {},
   "outputs": [],
   "source": []
  }
 ],
 "metadata": {
  "kernelspec": {
   "display_name": "Java",
   "language": "java",
   "name": "java"
  },
  "language_info": {
   "codemirror_mode": "java",
   "file_extension": ".jshell",
   "mimetype": "text/x-java-source",
   "name": "Java",
   "pygments_lexer": "java",
   "version": "21.0.2+13-58"
  }
 },
 "nbformat": 4,
 "nbformat_minor": 4
}
