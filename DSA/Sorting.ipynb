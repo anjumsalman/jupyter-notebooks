{
 "cells": [
  {
   "cell_type": "markdown",
   "metadata": {},
   "source": [
    "## Sorting Algorithms\n",
    "Below are some of the sorting algorithms which will be listed:\n",
    "- Bubble Sort\n",
    "- Selection Sort\n",
    "- Insertion Sort\n",
    "- Merge Sort\n",
    "- Quick Sort\n",
    "\n",
    "Some characteristics of a sorting algorithm:\n",
    "- Stable/Unstable : relative position between same values changed or not\n",
    "- In place : if the algorithm consumes constant space, it is in place"
   ]
  },
  {
   "cell_type": "markdown",
   "metadata": {},
   "source": [
    "## Bubble Sort\n",
    "- Time Complexity :\n",
    "    - Best case : $O(n)$\n",
    "    - Worst case : $O(n^2)$\n",
    "    - Average case : $O(n^2)$\n",
    "- In place\n",
    "- Stable"
   ]
  },
  {
   "cell_type": "markdown",
   "metadata": {},
   "source": [
    "```C++\n",
    "#include <iostream>\n",
    "using namespace std;\n",
    "\n",
    "void swap(int& a, int& b){\n",
    "    int temp = a;\n",
    "    a = b;\n",
    "    b = temp;\n",
    "}\n",
    "\n",
    "void bubbleSort(int array[], int size){\n",
    "    bool finished = true;\n",
    "    \n",
    "    for(int i=0; i<size-1; i++){\n",
    "        for(int j=0; j<size-i-1; j++){\n",
    "            if(array[j]>array[j+1]){\n",
    "                finished = false;\n",
    "                swap(array[j], array[j+1]);\n",
    "            }\n",
    "        }\n",
    "\n",
    "        if(finished)\n",
    "            break;\n",
    "    }\n",
    "}\n",
    "```"
   ]
  },
  {
   "cell_type": "markdown",
   "metadata": {},
   "source": [
    "## Selection Sort\n",
    "- Time complexity:\n",
    "    - Best case : $O(n^2)$\n",
    "    - Worst case : $O(n^2)$\n",
    "    - Average case : $O(n^2)$\n",
    "- In place\n",
    "- Unstable\n",
    "\n",
    "Selection sort can be made stable by replacing the swap step with inserting at beginning. This is more convenient if we use a vector in place of an array."
   ]
  },
  {
   "cell_type": "markdown",
   "metadata": {},
   "source": [
    "```C++\n",
    "// assume swap function as defined earlier\n",
    "\n",
    "void selectionSort(int array[], int size){\n",
    "       for(int i=0; i<size-1; i++){\n",
    "           int min = array[i];\n",
    "           int minPos = i;\n",
    "           for(int j=i; j<size; j++){\n",
    "               if(array[j]<min){\n",
    "                   min = array[j];\n",
    "                   minPos = j;\n",
    "               }\n",
    "           }\n",
    "           swap(array[i], array[minPos]);\n",
    "       }\n",
    "}    \n",
    "```"
   ]
  },
  {
   "cell_type": "markdown",
   "metadata": {},
   "source": [
    "Selection sort is considered better than Bubble sort because it does less number of swaps (maximum of n-1). However if the list is already sorted Bubble sort performs the best."
   ]
  },
  {
   "cell_type": "markdown",
   "metadata": {},
   "source": [
    "## Insertion Sort\n",
    "- Time complexity:\n",
    "    - Best time : $O(n)$\n",
    "    - Worst time : $O(n^2)$\n",
    "    - Average time : $O(n^2)$\n",
    "- In place\n",
    "- Stable"
   ]
  },
  {
   "cell_type": "markdown",
   "metadata": {},
   "source": [
    "Insertion sort is considered better than selection sort because it makes less comparisons. While selection sort always compares every element in the unsorted part, insertion sort makes comparisons in sorted part and most of the times it does not compare every element in sorted part."
   ]
  },
  {
   "cell_type": "markdown",
   "metadata": {},
   "source": [
    "```C++\n",
    "void insertionSort(int arr[], int size){\n",
    "       for(int i=1; i<size; i++){\n",
    "           int value = arr[i];\n",
    "           int j = i - 1;\n",
    "           while(j>=0 && arr[j]>value){\n",
    "               arr[j+1] = arr[j];\n",
    "               j--;\n",
    "           }\n",
    "           \n",
    "           arr[j+1] = value;\n",
    "       }\n",
    "}   \n",
    "```"
   ]
  },
  {
   "cell_type": "markdown",
   "metadata": {},
   "source": [
    "## Merge Sort\n",
    "- Time Complexity: $O(nlogn)$ in all cases\n",
    "- Space Complexity: $O(n)$\n",
    "- Stable"
   ]
  },
  {
   "cell_type": "markdown",
   "metadata": {},
   "source": [
    "Merge sort works by dividing list intow two equal parts, sorting them and then merging them together. Two possible implementations are possible, divide in merge function or divide in sort function."
   ]
  },
  {
   "cell_type": "markdown",
   "metadata": {},
   "source": [
    "```C++\n",
    "void merge(int* left, int* right, int* array, int size_l, int size_r){\n",
    "    int r_c = 0, l_c = 0, l_a = 0;\n",
    "    // r_c to loop through right array\n",
    "    // l_c to loop through left array\n",
    "    // l_a to loop through bigger array \n",
    "    while(r_c < size_r && l_c < size_l){\n",
    "        if(right[r_c] <= left[l_c]){\n",
    "            array[l_a] = right[r_c];\n",
    "            r_c++;\n",
    "        } else {\n",
    "            array[l_a] = left[l_c];\n",
    "            l_c++;\n",
    "        }\n",
    "        l_a++;\n",
    "    }\n",
    "    while(r_c<size_r){\n",
    "        array[l_a] = right[r_c];\n",
    "        r_c++;\n",
    "        l_a++;\n",
    "    }\n",
    "    while(l_c<size_r){\n",
    "        array[l_a] = left[l_c];\n",
    "        l_c++;\n",
    "        l_a++;\n",
    "    }\n",
    "}\n",
    "\n",
    "void sort(int* array, int size){\n",
    "    if(size>=2){\n",
    "        int mid = size/2;\n",
    "        int right_array[size-mid];\n",
    "        int left_array[mid];\n",
    "        for(int i = 0; i<mid; i++){\n",
    "            left_array[i] = array[i];\n",
    "        }\n",
    "        for(int j = 0; j<size-mid; j++){\n",
    "            right_array[j] = array[j+mid];\n",
    "        }\n",
    "        mergeSort(left_array, mid);\n",
    "        mergeSort(right_array, size-mid);\n",
    "        merge(left_array, right_array, array, mid, size-mid);\n",
    "    }\n",
    "}\n",
    "```"
   ]
  },
  {
   "cell_type": "markdown",
   "metadata": {},
   "source": [
    "Time complexity is calculated as:\n",
    "$$T(n) = 2T(n/2) + cn$$\n",
    "$$T(n/2) = 2T(n/4) + c(n/2)$$\n",
    "$$T(n/4) = 2T(n/8) + c(n/4)$$\n",
    "$$\\vdots$$\n",
    "$$T(1) = 1$$\n",
    "  \n",
    "$$T(n) = 4T(n/4) + 2n$$\n",
    "$$T(n) = 8T(n/8) + 3n$$\n",
    "$$T(n) = 2^kT(n/2^k) + kn$$\n",
    "$$T(n) = logT(1) + nlogn$$\n",
    "$$T(n) = O(nlogn)$$"
   ]
  },
  {
   "cell_type": "markdown",
   "metadata": {},
   "source": [
    "## Quick Sort\n",
    "- Time complexity:\n",
    "    - Best time : $O(nlogn)$\n",
    "    - Worst time : $O(n^2)$\n",
    "    - Average time : $O(nlogn)$\n",
    "- In place\n",
    "- Unstable"
   ]
  },
  {
   "cell_type": "markdown",
   "metadata": {},
   "source": [
    "In this algorithm we proceed as follows\n",
    "1. Select a pivot element, lets assume it is the last element\n",
    "2. Partition the list around pivot such that elements lesser than pivot are positioned before it and elements greater than partition lie after pivot.\n",
    "3. Repeat the same for two subarrays created by choosing elements before and after pivot."
   ]
  },
  {
   "cell_type": "markdown",
   "metadata": {},
   "source": [
    "```C++\n",
    "int partition(int* array, int start, int end){\n",
    "    int pivot = array[end];\n",
    "    int pIndex = start;\n",
    "    \n",
    "    for(int i=start; i<end; i++){\n",
    "        if(a[i]<=pivot){\n",
    "            swap(a[i],a[pIndex]);\n",
    "            pIndex++;\n",
    "        }\n",
    "    }\n",
    "    \n",
    "    swap(a[pIndex], a[end]);\n",
    "    return pIndex;\n",
    "}\n",
    "\n",
    "void quickSort(int* array, int start, int end){\n",
    "    if(start<end){\n",
    "        int partition_ = partition(array, start, end);\n",
    "        quickSort(array, start, partition_-1);\n",
    "        quickSort(array, partition_+1, end);\n",
    "    }\n",
    "}\n",
    "```"
   ]
  },
  {
   "cell_type": "code",
   "execution_count": null,
   "metadata": {},
   "outputs": [],
   "source": []
  }
 ],
 "metadata": {
  "kernelspec": {
   "display_name": "Python 3",
   "language": "python",
   "name": "python3"
  },
  "language_info": {
   "codemirror_mode": {
    "name": "ipython",
    "version": 3
   },
   "file_extension": ".py",
   "mimetype": "text/x-python",
   "name": "python",
   "nbconvert_exporter": "python",
   "pygments_lexer": "ipython3",
   "version": "3.6.7"
  }
 },
 "nbformat": 4,
 "nbformat_minor": 2
}
