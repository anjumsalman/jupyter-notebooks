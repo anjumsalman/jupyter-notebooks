{
 "cells": [
  {
   "cell_type": "markdown",
   "metadata": {},
   "source": [
    "## Sorting Algorithms\n",
    "Below are some of the sorting algorithms which will be listed:\n",
    "- Bubble Sort\n",
    "- Selection Sort\n",
    "- Insertion Sort\n",
    "- Merge Sort\n",
    "- Quick Sort\n",
    "\n",
    "Some characteristics of a sorting algorithm:\n",
    "- Stable/Unstable : relative position between same values changed or not\n",
    "- In place : if the algorithm consumes constant space, it is in place"
   ]
  },
  {
   "cell_type": "markdown",
   "metadata": {},
   "source": [
    "## Bubble Sort\n",
    "- Time Complexity :\n",
    "    - Best case : $O(n)$\n",
    "    - Worst case : $O(n^2)$\n",
    "    - Average case : $O(n^2)$\n",
    "- In place\n",
    "- Stable\n",
    "\n",
    "Problem with bubble sort is the high number of swaps involved. In the worst case (list os sorted in reverse order), we make swaps in order of $O(n^2)$"
   ]
  },
  {
   "cell_type": "markdown",
   "metadata": {},
   "source": [
    "```C++\n",
    "#include <iostream>\n",
    "using namespace std;\n",
    "\n",
    "void swap(int& a, int& b){\n",
    "    int temp = a;\n",
    "    a = b;\n",
    "    b = temp;\n",
    "}\n",
    "\n",
    "void bubbleSort(int array[], int size){\n",
    "    bool finished = true;\n",
    "    \n",
    "    for(int i=0; i<size-1; i++){\n",
    "        for(int j=0; j<size-i-1; j++){\n",
    "            if(array[j]>array[j+1]){\n",
    "                finished = false;\n",
    "                swap(array[j], array[j+1]);\n",
    "            }\n",
    "        }\n",
    "\n",
    "        if(finished)\n",
    "            break;\n",
    "    }\n",
    "}\n",
    "```"
   ]
  },
  {
   "cell_type": "markdown",
   "metadata": {},
   "source": [
    "## Selection Sort\n",
    "- Time complexity:\n",
    "    - Best case : $O(n^2)$\n",
    "    - Worst case : $O(n^2)$\n",
    "    - Average case : $O(n^2)$\n",
    "- In place\n",
    "- Unstable\n",
    "\n",
    "Selection sort can be made stable by replacing the swap step with inserting at beginning. This is more convenient if we use a vector in place of an array."
   ]
  },
  {
   "cell_type": "markdown",
   "metadata": {},
   "source": [
    "```C++\n",
    "// assume swap function as defined earlier\n",
    "\n",
    "void selectionSort(int array[], int size){\n",
    "       for(int i=0; i<size-1; i++){\n",
    "           int min = array[i];\n",
    "           int minPos = i;\n",
    "           for(int j=i; j<size; j++){\n",
    "               if(array[j]<min){\n",
    "                   min = array[j];\n",
    "                   minPos = j;\n",
    "               }\n",
    "           }\n",
    "           swap(array[i], array[minPos]);\n",
    "       }\n",
    "}    \n",
    "```"
   ]
  },
  {
   "cell_type": "markdown",
   "metadata": {},
   "source": [
    "In the best case also it can be seen that selection sort does $O(n^2)$ number of comparisons as opposed to bubble sort where we do $O(n)$ comparisons. But overall selection sort is considered better because the number of swaps done is maximum of $O(n)$.  \n",
    "\n",
    "To make selection sort be stable, instead of swapping elements, we need to append elements and do shifting. For example, consider the below array:\n",
    "```\n",
    "4 2 3 4_ 1 --> shift and append at beginning\n",
    "1 4 2 3 4_\n",
    "```\n",
    "The element to be added at the beginning (1) is appended only after the elements are shifted by 1 position to the right. So swapping now becomes $O(n^2)$. Overall time complexity will remain the same."
   ]
  },
  {
   "cell_type": "markdown",
   "metadata": {},
   "source": [
    "## Insertion Sort\n",
    "- Time complexity:\n",
    "    - Best time : $O(n)$\n",
    "    - Worst time : $O(n^2)$\n",
    "    - Average time : $O(n^2)$\n",
    "- In place\n",
    "- Stable"
   ]
  },
  {
   "cell_type": "markdown",
   "metadata": {},
   "source": [
    "Insertion sort is considered better than selection sort because it makes less comparisons. While selection sort always compares every element in the unsorted part, insertion sort makes comparisons in sorted part and most of the times it does not compare every element in sorted part."
   ]
  },
  {
   "cell_type": "markdown",
   "metadata": {},
   "source": [
    "```C++\n",
    "void insertionSort(int arr[], int size){\n",
    "       for(int i=1; i<size; i++){\n",
    "           int value = arr[i];\n",
    "           int j = i - 1;\n",
    "           while(j>=0 && arr[j]>value){\n",
    "               arr[j+1] = arr[j];\n",
    "               j--;\n",
    "           }\n",
    "           \n",
    "           arr[j+1] = value;\n",
    "       }\n",
    "}   \n",
    "```"
   ]
  },
  {
   "cell_type": "markdown",
   "metadata": {},
   "source": [
    "## Merge Sort\n",
    "- Time Complexity: $O(nlogn)$ in all cases\n",
    "- Space Complexity: $O(n)$\n",
    "- Stable"
   ]
  },
  {
   "cell_type": "markdown",
   "metadata": {},
   "source": [
    "Merge sort works by dividing list intow two equal parts, sorting them and then merging them together. Two possible implementations are possible, divide in merge function or divide in sort function."
   ]
  },
  {
   "cell_type": "markdown",
   "metadata": {},
   "source": [
    "```C++\n",
    "void merge(int* left, int* right, int* array, int size_l, int size_r){\n",
    "    int r_c = 0, l_c = 0, l_a = 0;\n",
    "    // r_c to loop through right array\n",
    "    // l_c to loop through left array\n",
    "    // l_a to loop through bigger array \n",
    "    while(r_c < size_r && l_c < size_l){\n",
    "        if(right[r_c] <= left[l_c]){\n",
    "            array[l_a] = right[r_c];\n",
    "            r_c++;\n",
    "        } else {\n",
    "            array[l_a] = left[l_c];\n",
    "            l_c++;\n",
    "        }\n",
    "        l_a++;\n",
    "    }\n",
    "    while(r_c<size_r){\n",
    "        array[l_a] = right[r_c];\n",
    "        r_c++;\n",
    "        l_a++;\n",
    "    }\n",
    "    while(l_c<size_r){\n",
    "        array[l_a] = left[l_c];\n",
    "        l_c++;\n",
    "        l_a++;\n",
    "    }\n",
    "}\n",
    "\n",
    "void sort(int* array, int size){\n",
    "    if(size>=2){\n",
    "        int mid = size/2;\n",
    "        int right_array[size-mid];\n",
    "        int left_array[mid];\n",
    "        for(int i = 0; i<mid; i++){\n",
    "            left_array[i] = array[i];\n",
    "        }\n",
    "        for(int j = 0; j<size-mid; j++){\n",
    "            right_array[j] = array[j+mid];\n",
    "        }\n",
    "        mergeSort(left_array, mid);\n",
    "        mergeSort(right_array, size-mid);\n",
    "        merge(left_array, right_array, array, mid, size-mid);\n",
    "    }\n",
    "}\n",
    "```"
   ]
  },
  {
   "cell_type": "markdown",
   "metadata": {},
   "source": [
    "Time complexity is calculated as:\n",
    "$$T(n) = 2T(n/2) + cn$$\n",
    "$$T(n/2) = 2T(n/4) + c(n/2)$$\n",
    "$$T(n/4) = 2T(n/8) + c(n/4)$$\n",
    "$$\\vdots$$\n",
    "$$T(1) = 1$$\n",
    "  \n",
    "$$T(n) = 4T(n/4) + 2n$$\n",
    "$$T(n) = 8T(n/8) + 3n$$\n",
    "$$T(n) = 2^kT(n/2^k) + kn$$\n",
    "\n",
    "Now, to write in term of $T(1)$,\n",
    "$$\\frac{n}{2^k} = 1$$\n",
    "$$k = log_2n$$\n",
    "\n",
    "$$T(n) = 2T(1) + nlogn$$\n",
    "$$T(n) = O(nlogn)$$\n",
    "\n",
    "Also take a look at [iterative merge sort](https://www.geeksforgeeks.org/iterative-merge-sort/)"
   ]
  },
  {
   "cell_type": "markdown",
   "metadata": {},
   "source": [
    "## Quick Sort\n",
    "- Time complexity:\n",
    "    - Best time : $O(nlogn)$\n",
    "    - Worst time : $O(n^2)$\n",
    "    - Average time : $O(nlogn)$\n",
    "- In place (though we use $O(log_2n)$ stack space)\n",
    "- Unstable"
   ]
  },
  {
   "cell_type": "markdown",
   "metadata": {},
   "source": [
    "In this algorithm we proceed as follows\n",
    "1. Select a pivot element, lets assume it is the last element\n",
    "2. Partition the list around pivot such that elements lesser than pivot are positioned before it and elements greater than partition lie after pivot.\n",
    "3. Repeat the same for two subarrays created by choosing elements before and after pivot."
   ]
  },
  {
   "cell_type": "markdown",
   "metadata": {},
   "source": [
    "```C++\n",
    "int partition(int* array, int start, int end){\n",
    "    int pivot = array[end];\n",
    "    int pIndex = start;\n",
    "    \n",
    "    for(int i=start; i<end; i++){\n",
    "        if(a[i]<=pivot){\n",
    "            swap(a[i],a[pIndex]);\n",
    "            pIndex++;\n",
    "        }\n",
    "    }\n",
    "    \n",
    "    swap(a[pIndex], a[end]);\n",
    "    return pIndex;\n",
    "}\n",
    "\n",
    "void quickSort(int* array, int start, int end){\n",
    "    if(start<end){\n",
    "        int partition_ = partition(array, start, end);\n",
    "        quickSort(array, start, partition_-1);\n",
    "        quickSort(array, partition_+1, end);\n",
    "    }\n",
    "}\n",
    "```\n",
    "\n",
    "To compute the time complexity of the operation,  \n",
    "$$T(n) = T(x) + T(n-x) + cn$$\n",
    "If we are able to partition into two equal halfs, then $x = \\frac{n}{2}$ \n",
    "$$T(n) = 2T(n/2) + cn$$\n",
    "This is similar to merge sort case and the required time complexity will be $O(nlogn)$. In the worst case, one side of the partition has zero elements, whereas the other side has $n-1$ elements. In this case, the time complexity will be $O(n^2)$."
   ]
  },
  {
   "cell_type": "markdown",
   "metadata": {},
   "source": [
    "**Q 1:** Suppose that we are not allowed to swap adjacent elements, only alternate element. Then what would happen when we try to sort? For example, if the array is `4 3 5 7 2 6`, we can swap 4 with 5, 3 with 7, etc. But we can't swap 4 with 3, 7 with 2 and so on.  \n",
    "**Answer:** This algorithm will swap all the odd place and even place elements independently."
   ]
  },
  {
   "cell_type": "code",
   "execution_count": 1,
   "metadata": {},
   "outputs": [
    {
     "name": "stdout",
     "output_type": "stream",
     "text": [
      "[2, 3, 4, 6, 5, 7]\n"
     ]
    }
   ],
   "source": [
    "def bubble_3_sort(A):\n",
    "    for i in range(len(A)):\n",
    "        if i % 2 == 0:\n",
    "            j = 0\n",
    "        else:\n",
    "            j = 1\n",
    "        while(j < len(A)-2):\n",
    "            if A[j] > A[j+2]:\n",
    "                A[j], A[j+2] = A[j+2], A[j]\n",
    "            j += 2\n",
    "            \n",
    "A = [4, 3, 5, 7, 2, 6]\n",
    "bubble_3_sort(A)\n",
    "print(A)"
   ]
  },
  {
   "cell_type": "markdown",
   "metadata": {},
   "source": [
    "**Q 2:** Find the Kth max element of an array  \n",
    "**Answer:** We can build a max heap and then pop K times. The last popped element is the Kth max element. Or we can make use of sorting algorithm like bubble or selection sort."
   ]
  },
  {
   "cell_type": "code",
   "execution_count": 8,
   "metadata": {},
   "outputs": [
    {
     "name": "stdout",
     "output_type": "stream",
     "text": [
      "4\n"
     ]
    }
   ],
   "source": [
    "def k_th_max(A, k):\n",
    "    if k <= 0 or k > len(A):\n",
    "        raise ValueError()\n",
    "    \n",
    "    # We now use selection sort\n",
    "    for i in range(k):\n",
    "        min_element = A[i]\n",
    "        min_pos = i\n",
    "        for j in range(i+1, len(A)):\n",
    "            if A[j] > min_element:\n",
    "                min_element = A[j]\n",
    "                min_pos = j\n",
    "        A[i], A[min_pos] = A[min_pos], A[i]\n",
    "        \n",
    "    return A[k-1]\n",
    "\n",
    "A = [2, 9, 4, 3, 0, 5]\n",
    "k = 3\n",
    "print(k_th_max(A, k))"
   ]
  },
  {
   "cell_type": "markdown",
   "metadata": {},
   "source": [
    "**Q 3:** Given an array count the number of double inversions. A double inversion is a case when `A[i] > 2*A[j]` and `i < j`. In the array `[7,4,3,1,9,2,3,1]`, one of the double inversion case is `(7,3)`, another is `(4,1)`, etc.  \n",
    "**Answer:** We can employ the merging technique of merge sort in this case"
   ]
  },
  {
   "cell_type": "code",
   "execution_count": 11,
   "metadata": {},
   "outputs": [
    {
     "name": "stdout",
     "output_type": "stream",
     "text": [
      "13\n"
     ]
    }
   ],
   "source": [
    "count = 0\n",
    "\n",
    "def merge(left, right, array):\n",
    "    global count\n",
    "    l = r = a = 0\n",
    "    \n",
    "    while(l < len(left) and r < len(right)):\n",
    "        # Three zones: a) left[l] > 2*right[r]\n",
    "        # b) left[l] > right[r]\n",
    "        # c) left[l] <= right[r]\n",
    "        \n",
    "        if left[l] > 2*right[r]:\n",
    "            array[a] = right[r]\n",
    "            count += len(left) - l\n",
    "            r += 1\n",
    "        # This is the intersting part. Keep a new pointer k\n",
    "        # and move it forward till we find a case which satisfies\n",
    "        # our condition\n",
    "        else:               \n",
    "            if left[l] <= right[r]:\n",
    "                array[a] = left[l]\n",
    "                l += 1\n",
    "            else:\n",
    "                k = l+1\n",
    "                while(k < len(left)):\n",
    "                    if left[k] > 2*right[r]:\n",
    "                        count += len(left) - k\n",
    "                        break\n",
    "                    k += 1\n",
    "\n",
    "                array[a] = right[r]\n",
    "                r += 1            \n",
    "        a += 1\n",
    "            \n",
    "    while(l < len(left)):\n",
    "        array[a] = left[l]\n",
    "        a += 1\n",
    "        l += 1\n",
    "        \n",
    "    while(r < len(right)):\n",
    "        array[a] = right[r]\n",
    "        a += 1\n",
    "        r += 1\n",
    "            \n",
    "def solve(A):\n",
    "    if len(A) > 1:\n",
    "        mid = len(A) // 2\n",
    "        left = A[:mid]\n",
    "        right = A[mid:]\n",
    "        \n",
    "        solve(left)\n",
    "        solve(right)\n",
    "        merge(left, right, A)\n",
    "        \n",
    "A = [7,4,3,1,9,2,3,1]\n",
    "solve(A)\n",
    "print(count)"
   ]
  },
  {
   "cell_type": "markdown",
   "metadata": {},
   "source": [
    "**Q 4:** Given that an element of an array can be either 0, 1 or 2, sort this array in $O(n)$ time, $O(1)$ space and without counting elements.  \n",
    "**Answer:** To solve this we can utilise partitioning. We would need to partition a maximum of two times, once pivot element will be 0 and other time pivot element will be one. This way the whole array will be sorted."
   ]
  },
  {
   "cell_type": "code",
   "execution_count": 1,
   "metadata": {},
   "outputs": [
    {
     "data": {
      "text/plain": [
       "[0, 0, 0, 1, 1, 1, 2, 2, 2]"
      ]
     },
     "execution_count": 1,
     "metadata": {},
     "output_type": "execute_result"
    }
   ],
   "source": [
    "def partition(A, start, end):\n",
    "    pivot = A[end]\n",
    "    p_index = start\n",
    "    for i in range(start, end):\n",
    "        if A[i] <= pivot:\n",
    "            A[i], A[p_index] = A[p_index], A[i]\n",
    "            p_index += 1\n",
    "    A[end], A[p_index] = A[p_index], A[end]\n",
    "    return p_index\n",
    "\n",
    "def sort(A):\n",
    "    # Find zero and replace it with last element\n",
    "    for i in range(len(A)):\n",
    "        if A[i] == 0:\n",
    "            A[i], A[-1] = A[-1], A[i]\n",
    "    p = partition(A, 0, len(A)-1)\n",
    "    \n",
    "    # Find one and replace last with last element\n",
    "    for i in range(p+1, len(A)):\n",
    "        if A[i] == 1:\n",
    "            A[i], A[-1] = A[-1], A[i]\n",
    "    partition(A, p+1, len(A)-1)\n",
    "    \n",
    "A = [2,0,1,0,0,2,1,2,1]\n",
    "sort(A)\n",
    "A"
   ]
  },
  {
   "cell_type": "markdown",
   "metadata": {},
   "source": [
    "**Q 5** Given an array of non-negative integers, return the largest number that can be formed using the numbers in array  \n",
    "**Answer** If we just sort the numbers in descending order, it will not work. We have to write our own comparison function"
   ]
  },
  {
   "cell_type": "code",
   "execution_count": 1,
   "metadata": {},
   "outputs": [
    {
     "name": "stdout",
     "output_type": "stream",
     "text": [
      "9534330\n"
     ]
    }
   ],
   "source": [
    "def largestNumber(A):\n",
    "    # Separate case for all zeros\n",
    "    for i in range(len(A)):\n",
    "        if A[i] != 0:\n",
    "            break\n",
    "        elif i == len(A)-1 and A[i] == 0:\n",
    "            return '0'\n",
    "\n",
    "    sort(A)\n",
    "\n",
    "    result = ''\n",
    "    for i in A:\n",
    "        result += str(i)\n",
    "\n",
    "    return result\n",
    "\n",
    "def sort(A):\n",
    "    if len(A) > 1:\n",
    "        mid = len(A) // 2\n",
    "        left = A[:mid]\n",
    "        right = A[mid:]\n",
    "\n",
    "        sort(left)\n",
    "        sort(right)\n",
    "\n",
    "        merge(left, right, A)\n",
    "\n",
    "def merge(left, right, A):\n",
    "    l = r = a = 0\n",
    "\n",
    "    while l < len(left) and r < len(right):\n",
    "        if compare(left[l],right[r]) >= 0:\n",
    "            A[a] = left[l]\n",
    "            l += 1\n",
    "        else:\n",
    "            A[a] = right[r]\n",
    "            r += 1\n",
    "        a += 1\n",
    "\n",
    "    while l < len(left):\n",
    "        A[a] = left[l]\n",
    "        l += 1\n",
    "        a += 1\n",
    "\n",
    "    while r < len(right):\n",
    "        A[a] = right[r]\n",
    "        r += 1\n",
    "        a += 1\n",
    "\n",
    "def compare(x, y):\n",
    "    num1 = int(str(x) + str(y))\n",
    "    num2 = int(str(y) + str(x))\n",
    "    \n",
    "    if num1 == num2:\n",
    "        return 0\n",
    "    elif num1 > num2:\n",
    "        return 1\n",
    "    else:\n",
    "        return -1\n",
    "    \n",
    "A = [3, 30, 34, 5, 9]\n",
    "print(largestNumber(A))"
   ]
  },
  {
   "cell_type": "markdown",
   "metadata": {},
   "source": [
    "**Q 6:** Given an array return the sum of `max(subsequence) - min(subsequence)` for all subsequences of the array.  \n",
    "**Answer:** Every time we pick two numbers in the array. The two numbers must be the max and min element of some subsequence. We just have to find how many such subsequences are there."
   ]
  },
  {
   "cell_type": "code",
   "execution_count": 2,
   "metadata": {},
   "outputs": [
    {
     "name": "stdout",
     "output_type": "stream",
     "text": [
      "44\n"
     ]
    }
   ],
   "source": [
    "def sum_the_diff(A):\n",
    "    A = sorted(A)\n",
    "    \n",
    "    sum = 0\n",
    "    \n",
    "    for i in range(len(A)-1):\n",
    "        for j in range(i+1, len(A)):\n",
    "            sum += (int(2**(j-i-1))*(A[j] - A[i]))\n",
    "\n",
    "    return sum\n",
    "\n",
    "A = [3,4,2,8]\n",
    "print(sum_the_diff(A))"
   ]
  },
  {
   "cell_type": "markdown",
   "metadata": {},
   "source": [
    "**Q 7** Given an array containing floating numbers, return 1 if a triplet exists such that the sum of triplet lies between 1 and 2 (not inclusive). If $a, b, c$ are the triplet elements, then $1 \\lt a+b+c \\lt 2$.  \n",
    "**Answer** The easy way is to sort the array and check 3 item, shift, adjust sum, continue. However is we want the running time to be of order $O(n)$ then:"
   ]
  },
  {
   "cell_type": "code",
   "execution_count": 4,
   "metadata": {},
   "outputs": [
    {
     "name": "stdout",
     "output_type": "stream",
     "text": [
      "True\n"
     ]
    }
   ],
   "source": [
    "def triplet_sum(A):\n",
    "    if len(A) < 3:\n",
    "        return 0\n",
    "\n",
    "    A = [float(i) for i in A]\n",
    "\n",
    "    # Iterate till end\n",
    "    while(len(A) >= 3):\n",
    "        # Sort the first three elements\n",
    "        sort(A)\n",
    "\n",
    "        # Check sum\n",
    "        sum_elements = A[0] + A[1] + A[2]\n",
    "        if 1 < sum_elements < 2:\n",
    "            return True\n",
    "        # Remove the smallest element\n",
    "        elif sum_elements <= 1:\n",
    "            del A[0]\n",
    "        # Remove the largest element\n",
    "        elif sum_elements >= 2:\n",
    "            del A[2]\n",
    "\n",
    "    return False\n",
    "\n",
    "# Selection sort, this will take O(1) time\n",
    "# since only 3 elements involved\n",
    "def sort(A):\n",
    "    for i in range(0, 3):\n",
    "        min_element = A[i]\n",
    "        min_pos = i\n",
    "        for j in range(i, 3):\n",
    "            if A[j] < min_element:\n",
    "                min_element = A[j]\n",
    "                min_pos = j\n",
    "        A[i], A[min_pos] = A[min_pos], A[i]        \n",
    "\n",
    "A = [0.6, 0.7, 0.8, 1.2, 0.4]\n",
    "print(triplet_sum(A))"
   ]
  },
  {
   "cell_type": "markdown",
   "metadata": {},
   "source": [
    "**Q 8** Given an array $A$ of $N$ bottles, where $A[i]$ denotes radius of $i$th bottle. A bottle $i$ can be put inside bottle $j$ if $A[i]<A[j]$ and $j$th bottle dosen't contain any other bottle. You can put bottles into each other any number of times. Minimize the number of visible bottles.  \n",
    "**Answer:** This can be solved by maintaining a frequency map"
   ]
  },
  {
   "cell_type": "code",
   "execution_count": 6,
   "metadata": {},
   "outputs": [
    {
     "name": "stdout",
     "output_type": "stream",
     "text": [
      "2\n"
     ]
    }
   ],
   "source": [
    "def visible_bottles(A):\n",
    "    freq_map = {}\n",
    "\n",
    "    for i in range(len(A)):\n",
    "        freq_map[A[i]] = freq_map.get(A[i], 0) + 1\n",
    "\n",
    "    # Find key with max value\n",
    "    max = -1\n",
    "    for v in freq_map.values():\n",
    "        if v > max:\n",
    "            max = v\n",
    "\n",
    "    return max\n",
    "\n",
    "bottles = [1,2,5,5,2,4,3]\n",
    "print(visible_bottles(bottles))"
   ]
  },
  {
   "cell_type": "markdown",
   "metadata": {},
   "source": [
    "How to solve this using sorting?"
   ]
  },
  {
   "cell_type": "code",
   "execution_count": 7,
   "metadata": {},
   "outputs": [
    {
     "name": "stdout",
     "output_type": "stream",
     "text": [
      "2\n"
     ]
    }
   ],
   "source": [
    "def visible_bottles(A):\n",
    "    # Sort the bottles\n",
    "    A = sorted(A)\n",
    "\n",
    "    max = -1\n",
    "    count = 1\n",
    "    for i in range(1, len(A)):\n",
    "        if A[i] == A[i-1]:\n",
    "            count += 1\n",
    "            if count > max:\n",
    "                max = count\n",
    "        else:\n",
    "            count = 1\n",
    "            if count > max:\n",
    "                max = count\n",
    "\n",
    "    return max\n",
    "\n",
    "bottles = [1,2,5,5,2,4,3]\n",
    "print(visible_bottles(bottles))"
   ]
  },
  {
   "cell_type": "markdown",
   "metadata": {},
   "source": [
    "**Q 9** Given an array of integers, arrange the items such that it has alternating positive and negative numbers. Any extra positive or negative numbers are appended to the end. Maintain the order of occurance of positive and negative numbers.   \n",
    "**Answer:** Form two arrays - all negative numbers are put in one array and positive numbers are put in other. Now we can use the merge function of merge sort to get our required array. This solution requires $O(n)$ space."
   ]
  },
  {
   "cell_type": "code",
   "execution_count": 9,
   "metadata": {},
   "outputs": [
    {
     "name": "stdout",
     "output_type": "stream",
     "text": [
      "[-1, 3, -2, 4, -3, 6, 5]\n"
     ]
    }
   ],
   "source": [
    "def alternating_numbers(A):\n",
    "    def merge(main, left, right):\n",
    "        l = 0\n",
    "        r = 0\n",
    "        m = 0\n",
    "        \n",
    "        while l < len(left) and r < len(right):\n",
    "            if m % 2 == 0:\n",
    "                main[m] = left[l]\n",
    "                l += 1\n",
    "            else:\n",
    "                main[m] = right[r]\n",
    "                r += 1\n",
    "            m += 1   \n",
    "            \n",
    "        while l < len(left):\n",
    "            main[m] = left[l]\n",
    "            m += 1\n",
    "            l += 1\n",
    "            \n",
    "        while r < len(right):\n",
    "            main[m] = right[r]\n",
    "            m += 1\n",
    "            r += 1\n",
    "            \n",
    "    left = []\n",
    "    for i in range(len(A)):\n",
    "        if A[i] < 0:\n",
    "            left.append(A[i])\n",
    "        \n",
    "    right = []\n",
    "    for i in range(len(A)):\n",
    "        if A[i] >= 0:\n",
    "            right.append(A[i])\n",
    "        \n",
    "    if len(left) == 0:\n",
    "        return right\n",
    "    elif len(right) == 0:\n",
    "        return left\n",
    "        \n",
    "    merge(A, left, right)\n",
    "    \n",
    "    return A\n",
    "\n",
    "A = [-1,3,-2,-3,4,6,5]\n",
    "print(alternating_numbers(A))"
   ]
  },
  {
   "cell_type": "markdown",
   "metadata": {},
   "source": [
    "What if we want to solve it in constant space complexity?"
   ]
  },
  {
   "cell_type": "code",
   "execution_count": 11,
   "metadata": {},
   "outputs": [
    {
     "name": "stdout",
     "output_type": "stream",
     "text": [
      "[-1, 3, -2, 4, -3, 6, 5]\n"
     ]
    }
   ],
   "source": [
    "def alternating_numbers(A):\n",
    "    # Returns index of first negative number\n",
    "    # to the right\n",
    "    def negative_index(start):\n",
    "        i = start\n",
    "        while i < len(A):\n",
    "            if A[i] < 0:\n",
    "                return i\n",
    "            i += 1\n",
    "        return -1\n",
    "    \n",
    "    # Returns index of first positive number\n",
    "    # to the right\n",
    "    def positive_index(start):\n",
    "        i = start\n",
    "        while i < len(A):\n",
    "            if A[i] >= 0:\n",
    "                return i\n",
    "            i += 1\n",
    "        return +1\n",
    "    \n",
    "    for i in range(len(A)):\n",
    "        # Negative number at its correct position\n",
    "        if i % 2 == 0 and A[i] < 0:\n",
    "            continue\n",
    "        # Positive number at its correct position\n",
    "        elif i % 2 == 1 and A[i] >= 0:\n",
    "            continue\n",
    "        elif i % 2 == 0 and A[i] >= 0:\n",
    "            # Find index of negative number\n",
    "            index = negative_index(i)\n",
    "            if index == -1:\n",
    "                return A\n",
    "            else:\n",
    "                value = A[index]\n",
    "                # Shift elements\n",
    "                j = index\n",
    "                while j >= i:\n",
    "                    A[j] = A[j-1]\n",
    "                    j -= 1\n",
    "                A[i] = value\n",
    "        elif i % 2 == 1 and A[i] < 0:\n",
    "            # Find index of negative number\n",
    "            index = positive_index(i)\n",
    "            if index == -1:\n",
    "                return A\n",
    "            else:\n",
    "                value = A[index]\n",
    "                # Shift elements\n",
    "                j = index\n",
    "                while j >= i:\n",
    "                    A[j] = A[j-1]\n",
    "                    j -= 1\n",
    "                A[i] = value\n",
    "                \n",
    "    return A\n",
    "\n",
    "A = [-1,3,-2,-3,4,6,5]\n",
    "print(alternating_numbers(A))"
   ]
  },
  {
   "cell_type": "markdown",
   "metadata": {},
   "source": [
    "**Q 10** Given an array of size $N$ filled with numbers from `0,1,2,...,N-1`. We can partition the array into chunks. How many chunks should be made such that after sorting each chunk separately, the entire array becomes sorted?  \n",
    "**Answer:** "
   ]
  },
  {
   "cell_type": "code",
   "execution_count": 12,
   "metadata": {},
   "outputs": [
    {
     "name": "stdout",
     "output_type": "stream",
     "text": [
      "2\n"
     ]
    }
   ],
   "source": [
    "def form_chunks(A):\n",
    "    chunks = 0\n",
    "    max = A[0]\n",
    "\n",
    "    for i in range(len(A)):\n",
    "        if A[i] > max:\n",
    "            max = A[i]\n",
    "\n",
    "        if max == i:\n",
    "            chunks += 1\n",
    "            if i+1 < len(A):\n",
    "                max = A[i+1]\n",
    "\n",
    "    return chunks\n",
    "\n",
    "A = [2, 0, 1, 3]\n",
    "print(form_chunks(A))"
   ]
  },
  {
   "cell_type": "code",
   "execution_count": null,
   "metadata": {},
   "outputs": [],
   "source": []
  }
 ],
 "metadata": {
  "kernelspec": {
   "display_name": "Python 3",
   "language": "python",
   "name": "python3"
  },
  "language_info": {
   "codemirror_mode": {
    "name": "ipython",
    "version": 3
   },
   "file_extension": ".py",
   "mimetype": "text/x-python",
   "name": "python",
   "nbconvert_exporter": "python",
   "pygments_lexer": "ipython3",
   "version": "3.7.4"
  }
 },
 "nbformat": 4,
 "nbformat_minor": 4
}
