{
 "cells": [
  {
   "cell_type": "markdown",
   "metadata": {},
   "source": [
    "## String"
   ]
  },
  {
   "cell_type": "markdown",
   "metadata": {},
   "source": [
    "**Q 1:** Given a string, find the first non-repeating character. (Find the first character which appears only once in the string)  \n",
    "**Answer:** We can maintain a map with key being the key and value being the count."
   ]
  },
  {
   "cell_type": "code",
   "execution_count": 1,
   "metadata": {},
   "outputs": [
    {
     "name": "stdout",
     "output_type": "stream",
     "text": [
      "u\n"
     ]
    }
   ],
   "source": [
    "public char firstNonRepeatingChar(String str) {\n",
    "    Map<Character, Integer> map = new HashMap<>();\n",
    "    for(int i = 0; i < str.length(); i++) {\n",
    "        Integer count =  map.getOrDefault(str.charAt(i), 0);\n",
    "        map.put(str.charAt(i), ++count);\n",
    "    }\n",
    "\n",
    "    for(int i = 0; i < str.length(); i++) {\n",
    "        if (map.get(str.charAt(i)) == 1) {\n",
    "            return str.charAt(i);\n",
    "        }\n",
    "    }\n",
    "    \n",
    "    return 0;\n",
    "}\n",
    "\n",
    "System.out.println(firstNonRepeatingChar(\"RoundRobin\"));"
   ]
  },
  {
   "cell_type": "markdown",
   "metadata": {},
   "source": [
    "**Q 2:** Given two strings return if they are isomorphic or not. Two strings are isomorphic if we have a 1-1 mapping between characters of both strings. For example, `foo` and `abb` are isomorphic with mapping `f:a, o:b`. Length of both strings will always be equal.  \n",
    "**Answer:** "
   ]
  },
  {
   "cell_type": "code",
   "execution_count": 2,
   "metadata": {},
   "outputs": [
    {
     "name": "stdout",
     "output_type": "stream",
     "text": [
      "false\n",
      "true\n"
     ]
    }
   ],
   "source": [
    "public boolean isomorphic(String first, String second) {\n",
    "    Map<Character, Character> secondToFirst = new HashMap<>();\n",
    "    Map<Character, Character> firstToSecond = new HashMap<>();\n",
    "    for (int i=0; i<first.length(); i++) {\n",
    "        secondToFirst.put(second.charAt(i), first.charAt(i));\n",
    "        firstToSecond.put(first.charAt(i), second.charAt(i));\n",
    "    }\n",
    "\n",
    "    return isomorphic(first, second, secondToFirst) && isomorphic(second, first, firstToSecond);\n",
    "}\n",
    "\n",
    "private boolean isomorphic(String first, String second, Map<Character, Character> map) {\n",
    "    char[] secondArray = second.toCharArray();\n",
    "    for (int i = 0; i < second.length(); i++) {\n",
    "        secondArray[i] = map.get(second.charAt(i));\n",
    "    }\n",
    "\n",
    "    return first.equals(new String(secondArray));\n",
    "}\n",
    "\n",
    "System.out.println(isomorphic(\"foo\", \"bar\"));\n",
    "System.out.println(isomorphic(\"foo\", \"baa\"));"
   ]
  },
  {
   "cell_type": "markdown",
   "metadata": {},
   "source": [
    "Maintain two maps : one contains the mapping of characters from 1st string to the second string. The other map maintains all the characters in second string which have already been mapped."
   ]
  },
  {
   "cell_type": "code",
   "execution_count": 3,
   "metadata": {},
   "outputs": [
    {
     "name": "stdout",
     "output_type": "stream",
     "text": [
      "false\n",
      "true\n"
     ]
    }
   ],
   "source": [
    "public boolean isomorphic2(String first, String second) {\n",
    "    Map<Character, Character> map = new HashMap<>();\n",
    "    Set<Character> used = new HashSet<>();\n",
    "\n",
    "    for (int i = 0; i < first.length(); i++) {\n",
    "        if (!map.containsKey(first.charAt(i))) {\n",
    "            if (!used.contains(second.charAt(i))) {\n",
    "                map.put(first.charAt(i), second.charAt(i));\n",
    "                used.add(second.charAt(i));\n",
    "            } else {\n",
    "                return false;\n",
    "            }\n",
    "        } else {\n",
    "            if (!map.get(first.charAt(i)).equals(second.charAt(i))) {\n",
    "                return false;\n",
    "            }\n",
    "        }\n",
    "    }\n",
    "\n",
    "    return true;\n",
    "}\n",
    "\n",
    "System.out.println(isomorphic2(\"foo\", \"bar\"));\n",
    "System.out.println(isomorphic2(\"foo\", \"baa\"));"
   ]
  },
  {
   "cell_type": "markdown",
   "metadata": {},
   "source": [
    "**Q 3:** Given two strings. Is the second string substring of the first one? If first string is `CAANADA` and the second string is `ANA`, the answer would be true.  \n",
    "**Answer:** Use KMP or Z-Algorithm. Or use rolling hash algorithm Rabin-Karp. Let the longer string be `T` (text) and the string to search is `P` (pattern).  \n",
    "A naive approach is that for each index of `T` try matching character by character in `P`. This will take $O(n*m)$ time complexity.\n",
    "\n",
    "**KMP:** avoids re-checking characters that we already know match. When a mismatch happens:\n",
    "- Instead of moving the pattern by one position,\n",
    "- We use information from a preprocessed table (called the LPS array) to skip ahead intelligently.\n",
    "Time complexity is $O(m + n)$"
   ]
  },
  {
   "cell_type": "code",
   "execution_count": null,
   "metadata": {},
   "outputs": [],
   "source": [
    "// KMP\n",
    "public boolean contains(String text, String pattern) {\n",
    "    if (pattern == null || text == null) return false;\n",
    "    if (pattern.length() == 0) return true; // empty pattern always matches\n",
    "    if (pattern.length() > text.length()) return false;\n",
    "\n",
    "    int[] lps = computeLPSArray(pattern);\n",
    "\n",
    "    int i = 0; // index for text\n",
    "    int j = 0; // index for pattern\n",
    "\n",
    "    while (i < text.length()) {\n",
    "        if (pattern.charAt(j) == text.charAt(i)) {\n",
    "            i++;\n",
    "            j++;\n",
    "        }\n",
    "        if (j == pattern.length()) {\n",
    "            return true; // full pattern matched\n",
    "        } else if (i < text.length() && pattern.charAt(j) != text.charAt(i)) {\n",
    "            if (j != 0) {\n",
    "                j = lps[j - 1];\n",
    "            } else {\n",
    "                i++;\n",
    "            }\n",
    "        }\n",
    "    }\n",
    "    return false; // no match found\n",
    "}\n",
    "\n",
    "private int[] computeLPSArray(String pattern) {\n",
    "    int m = pattern.length();\n",
    "    int[] lps = new int[m];\n",
    "    int len = 0;\n",
    "    int i = 1;\n",
    "\n",
    "    while (i < m) {\n",
    "        if (pattern.charAt(i) == pattern.charAt(len)) {\n",
    "            len++;\n",
    "            lps[i] = len;\n",
    "            i++;\n",
    "        } else {\n",
    "            if (len != 0) {\n",
    "                len = lps[len - 1];\n",
    "            } else {\n",
    "                lps[i] = 0;\n",
    "                i++;\n",
    "            }\n",
    "        }\n",
    "    }\n",
    "    return lps;\n",
    "}"
   ]
  },
  {
   "cell_type": "markdown",
   "metadata": {},
   "source": [
    "**Z Algorithm:** computes a Z-array for a string. `Z[i]` is length of the longest substring starting at `i` that is also a prefix of the string. This also has time complexity $O(m + n)$."
   ]
  },
  {
   "cell_type": "code",
   "execution_count": null,
   "metadata": {},
   "outputs": [],
   "source": [
    "// Z Algorithm\n",
    "public boolean contains(String text, String pattern) {\n",
    "    if (pattern == null || text == null) return false;\n",
    "    if (pattern.length() == 0) return true; // empty pattern always matches\n",
    "    if (pattern.length() > text.length()) return false;\n",
    "\n",
    "    // Create combined string: pattern + \"$\" + text\n",
    "    String concat = pattern + \"$\" + text;\n",
    "    int[] Z = computeZArray(concat);\n",
    "\n",
    "    int patternLength = pattern.length();\n",
    "\n",
    "    for (int zValue : Z) {\n",
    "        if (zValue == patternLength) {\n",
    "            return true; // full pattern matched\n",
    "        }\n",
    "    }\n",
    "    return false;\n",
    "}\n",
    "\n",
    "private int[] computeZArray(String s) {\n",
    "    int n = s.length();\n",
    "    int[] Z = new int[n];\n",
    "    int L = 0, R = 0;\n",
    "\n",
    "    for (int i = 1; i < n; i++) {\n",
    "        if (i <= R) {\n",
    "            Z[i] = Math.min(R - i + 1, Z[i - L]);\n",
    "        }\n",
    "        while (i + Z[i] < n && s.charAt(Z[i]) == s.charAt(i + Z[i])) {\n",
    "            Z[i]++;\n",
    "        }\n",
    "        if (i + Z[i] - 1 > R) {\n",
    "            L = i;\n",
    "            R = i + Z[i] - 1;\n",
    "        }\n",
    "    }\n",
    "    return Z;\n",
    "}"
   ]
  },
  {
   "cell_type": "markdown",
   "metadata": {},
   "source": [
    "**Rabin Karp:** uses hash to speed up string search. Has $O(m + n)$ complexity."
   ]
  },
  {
   "cell_type": "code",
   "execution_count": null,
   "metadata": {},
   "outputs": [],
   "source": [
    "// Rabin Karp\n",
    "public boolean contains(String text, String pattern) {\n",
    "    if (pattern == null || text == null) return false;\n",
    "    if (pattern.length() == 0) return true; // empty pattern always matches\n",
    "    if (pattern.length() > text.length()) return false;\n",
    "    \n",
    "    long patternHash = hash(pattern);\n",
    "    long textHash = hash(text.substring(0, pattern.length()));\n",
    "    if (patternHash == textHash) {\n",
    "        return true;\n",
    "    }\n",
    "\n",
    "    for (int i = pattern.length(); i < text.length(); i++) {\n",
    "        textHash = (textHash - (long) (text.charAt(i - pattern.length()) * Math.pow(31, pattern.length() - 1))) * 31 + text.charAt(i);\n",
    "        // Compare hash and substring (to prevent collision related match)\n",
    "        if (textHash == patternHash && text.substring(i - pattern.length() + 1, i + 1).equals(pattern)) {\n",
    "            return true;\n",
    "        }\n",
    "    }\n",
    "\n",
    "    return false;\n",
    "}\n",
    "\n",
    "private long hash(String input) {\n",
    "    long result = 0;\n",
    "    for (int i = 0; i < input.length(); i++) {\n",
    "        result += (long) (input.charAt(i) * Math.pow(31, input.length() - i - 1));\n",
    "    }\n",
    "\n",
    "    return result;\n",
    "}"
   ]
  },
  {
   "cell_type": "markdown",
   "metadata": {},
   "source": [
    "**Q 4** Reverse a string word by word. Reduce multiple spaces to single.  \n",
    "**Answer** Make use of a stack. Put all words in stack and then pop from stack."
   ]
  },
  {
   "cell_type": "code",
   "execution_count": 4,
   "metadata": {},
   "outputs": [
    {
     "name": "stdout",
     "output_type": "stream",
     "text": [
      "blu is sky the\n"
     ]
    }
   ],
   "source": [
    "public String reverseWords(String input) {\n",
    "    Stack<String> stack = new Stack<>();\n",
    "\n",
    "    StringBuilder temp = new StringBuilder();\n",
    "    for (int i = 0; i < input.length(); i++) {\n",
    "        if (input.charAt(i) == ' ') {\n",
    "            stack.push(temp.toString());\n",
    "            stack.push(\" \");\n",
    "            temp = new StringBuilder();\n",
    "        } else if (i == input.length() - 1) {\n",
    "            stack.push(temp.toString());\n",
    "        } else {\n",
    "            temp.append(input.charAt(i));\n",
    "        }\n",
    "    }\n",
    "\n",
    "    StringBuilder result = new StringBuilder();\n",
    "    while (!stack.isEmpty()) {\n",
    "        result.append(stack.pop());\n",
    "    }\n",
    "\n",
    "    return result.toString();\n",
    "}\n",
    "\n",
    "System.out.println(reverseWords(\"the sky is blue\"));"
   ]
  },
  {
   "cell_type": "markdown",
   "metadata": {},
   "source": [
    "If we want constant space,"
   ]
  },
  {
   "cell_type": "code",
   "execution_count": 5,
   "metadata": {},
   "outputs": [
    {
     "name": "stdout",
     "output_type": "stream",
     "text": [
      "blue is sky the\n"
     ]
    }
   ],
   "source": [
    "public String reverseWords2(String input) {\n",
    "    int i = 0, j = 0;\n",
    "    char[] inputArray = input.toCharArray();\n",
    "    for (; j <= inputArray.length; j++) {\n",
    "        if (j == inputArray.length || inputArray[j] == ' ') {\n",
    "            // Reverse characters from i to j - 1\n",
    "            int a = i, b = j - 1;\n",
    "            while (a < b) {\n",
    "                char temp = inputArray[a];\n",
    "                inputArray[a] = inputArray[b];\n",
    "                inputArray[b] = temp;\n",
    "                a++;\n",
    "                b--;\n",
    "            }\n",
    "\n",
    "            i = j + 1;\n",
    "        }\n",
    "    }\n",
    "\n",
    "    int a = 0, b = inputArray.length - 1;\n",
    "    while (a < b) {\n",
    "        char temp = inputArray[a];\n",
    "        inputArray[a] = inputArray[b];\n",
    "        inputArray[b] = temp;\n",
    "        a++;\n",
    "        b--;\n",
    "    }\n",
    "\n",
    "    return new String(inputArray);\n",
    "}\n",
    "\n",
    "System.out.println(reverseWords2(\"the sky is blue\"));"
   ]
  },
  {
   "cell_type": "markdown",
   "metadata": {},
   "source": [
    "**Q 5:** Convert a string to integer. The string can contain characters other than digits as well. For example, if the string is `A96 B1` return `96` .  \n",
    "**Answer:**"
   ]
  },
  {
   "cell_type": "code",
   "execution_count": 6,
   "metadata": {},
   "outputs": [
    {
     "name": "stdout",
     "output_type": "stream",
     "text": [
      "-1\n"
     ]
    }
   ],
   "source": [
    "public int firstNumberInString(String input) {\n",
    "    int i = -1;\n",
    "    StringBuilder sb = new StringBuilder();\n",
    "    for (int j = 0; j < input.length(); j++) {\n",
    "        if (((int) input.charAt(j) <= 57 && (int) input.charAt(j) >= 48) || // number between '0' and '9'\n",
    "            // input[j] is '-' and input[j+1] is a number between '0' and '9'\n",
    "            (j + 1 < input.length() && input.charAt(j) == '-' && ((int) input.charAt(j + 1) <= 57 && (int) input.charAt(j + 1) >= 48))) {\n",
    "            sb.append(input.charAt(j));\n",
    "            i = j;\n",
    "            break;\n",
    "        }\n",
    "    }\n",
    "\n",
    "    for (int j = i + 1; j < input.length(); j++) {\n",
    "        if ((int) input.charAt(j) <= 57 && (int) input.charAt(j) >= 48) {\n",
    "            sb.append(input.charAt(j));\n",
    "        } else {\n",
    "            break;\n",
    "        }\n",
    "    }\n",
    "\n",
    "    return Integer.parseInt(sb.toString());\n",
    "}\n",
    "        \n",
    "System.out.println(firstNumberInString(\" --1*5*6ol5\"));"
   ]
  },
  {
   "cell_type": "markdown",
   "metadata": {},
   "source": [
    "**Q 6:** Given a string, return the length longest substring with unique characters.  \n",
    "**Answer:** Maintain a map which contains index of occurance of a character"
   ]
  },
  {
   "cell_type": "code",
   "execution_count": 7,
   "metadata": {},
   "outputs": [
    {
     "name": "stdout",
     "output_type": "stream",
     "text": [
      "5\n"
     ]
    }
   ],
   "source": [
    "public int longestStringUniqueChars(String input) {\n",
    "    int max = Integer.MIN_VALUE;\n",
    "    Map<Character, Integer> map = new HashMap<>();\n",
    "\n",
    "    int i = 0, j = 0;\n",
    "    while (j < input.length()) {\n",
    "        if (map.containsKey(input.charAt(j))) {\n",
    "            i = Math.max(i, map.get(input.charAt(j)) + 1);\n",
    "        }\n",
    "\n",
    "        map.put(input.charAt(j), j);\n",
    "\n",
    "        if (j - i + 1 > max) {\n",
    "            max = j - i + 1;\n",
    "        }\n",
    "\n",
    "        j++;\n",
    "    }\n",
    "\n",
    "    return max;\n",
    "}\n",
    "\n",
    "System.out.println(longestStringUniqueChars(\"abdeefgabef\"));"
   ]
  },
  {
   "cell_type": "markdown",
   "metadata": {},
   "source": [
    "**Q 7:** Given a string with `a` and `b` as the only characters. We can either convert `a` to `b` or reverse $K$ times. Find the length of the longest substring with same characters.  \n",
    "**Answer:** Consider `a` as bad character and try to replace it (max K times). Slide the window when replacements > $K$. Next consider `b` as bad character and do the same."
   ]
  },
  {
   "cell_type": "code",
   "execution_count": null,
   "metadata": {},
   "outputs": [],
   "source": []
  }
 ],
 "metadata": {
  "kernelspec": {
   "display_name": "Java",
   "language": "java",
   "name": "java"
  },
  "language_info": {
   "codemirror_mode": "java",
   "file_extension": ".jshell",
   "mimetype": "text/x-java-source",
   "name": "Java",
   "pygments_lexer": "java",
   "version": "21.0.2+13-58"
  }
 },
 "nbformat": 4,
 "nbformat_minor": 4
}
