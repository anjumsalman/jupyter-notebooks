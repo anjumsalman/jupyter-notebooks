{
 "cells": [
  {
   "cell_type": "markdown",
   "metadata": {},
   "source": [
    "## Implementation\n",
    "If the list is already sorted, then binary search is a fast way to search for existence of an element."
   ]
  },
  {
   "cell_type": "code",
   "execution_count": 2,
   "metadata": {},
   "outputs": [
    {
     "name": "stdout",
     "output_type": "stream",
     "text": [
      "5\n",
      "0\n",
      "4\n",
      "-1\n"
     ]
    }
   ],
   "source": [
    "public <T> int search(List<? extends Comparable<T>> input, T element) {\n",
    "    int start = 0;\n",
    "    int end = input.size() - 1;\n",
    "\n",
    "    while (start <= end) {\n",
    "        int mid = (start + end) / 2;\n",
    "        if (input.get(mid).compareTo(element) == 0) {\n",
    "            return mid;\n",
    "        } else if (input.get(mid).compareTo(element) > 0) {\n",
    "            end = mid - 1;\n",
    "        } else {\n",
    "            start = mid + 1;\n",
    "        }\n",
    "    }\n",
    "\n",
    "    return -1;\n",
    "}\n",
    "\n",
    "List<Integer> integers = List.of(1, 2, 6, 7, 11, 22);\n",
    "System.out.println(search(integers, 22));\n",
    "System.out.println(search(integers, 1));\n",
    "System.out.println(search(integers, 11));\n",
    "System.out.println(search(integers, 5));"
   ]
  },
  {
   "cell_type": "markdown",
   "metadata": {},
   "source": [
    "We can also implement it as recursion."
   ]
  },
  {
   "cell_type": "code",
   "execution_count": 3,
   "metadata": {},
   "outputs": [
    {
     "name": "stdout",
     "output_type": "stream",
     "text": [
      "5\n",
      "0\n",
      "4\n",
      "-1\n"
     ]
    }
   ],
   "source": [
    "public <T> int searchRecursive(List<? extends Comparable<T>> input, T element, int start, int end) {\n",
    "    if (start > end) {\n",
    "        return -1;\n",
    "    }\n",
    "\n",
    "    int mid = (start + end) / 2;\n",
    "    if (input.get(mid).compareTo(element) == 0) {\n",
    "        return mid;\n",
    "    } else if (input.get(mid).compareTo(element) > 0) {\n",
    "        return searchRecursive(input, element, start, mid - 1);\n",
    "    } else {\n",
    "        return searchRecursive(input, element, mid + 1, end);\n",
    "    }\n",
    "}\n",
    "\n",
    "System.out.println(searchRecursive(integers, 22, 0, 5));\n",
    "System.out.println(searchRecursive(integers, 1, 0, 5));\n",
    "System.out.println(searchRecursive(integers, 11, 0, 5));\n",
    "System.out.println(searchRecursive(integers, 5, 0, 5));"
   ]
  },
  {
   "cell_type": "markdown",
   "metadata": {},
   "source": [
    "### Time Complexity\n",
    "In worst case and average case,  \n",
    "$$T(n) = T(n/2) + k_1$$\n",
    "$$T(n/2) = T(n/4) + k_2 $$\n",
    "$$\\vdots$$\n",
    "$$T(1) = T(n/2^x) + k_x$$\n",
    "$$2^x = n$$\n",
    "$$x = log(n)$$  \n",
    "In best case, time taken is constant."
   ]
  },
  {
   "cell_type": "markdown",
   "metadata": {},
   "source": [
    "**Q 1:** Find the first and last occurance of a number in a sorted array. Numbers can be repeated any number of time.  \n",
    "**Answer:** One way is to search for the element. Once you get a result linearly iterate till you keep seeing the same element. The better way is to keep searching even if you get an answer"
   ]
  },
  {
   "cell_type": "code",
   "execution_count": 4,
   "metadata": {},
   "outputs": [
    {
     "name": "stdout",
     "output_type": "stream",
     "text": [
      "1\t4\t6\t-1\t\n",
      "3\t4\t8\t-1\t"
     ]
    }
   ],
   "source": [
    "public int firstOccurrence(int[] input, int target) {\n",
    "    int start = 0;\n",
    "    int end = input.length - 1;\n",
    "    int index = -1;\n",
    "\n",
    "    while (start <= end) {\n",
    "        int mid = (start + end) / 2;\n",
    "        if (input[mid] == target) {\n",
    "            index = mid;\n",
    "            end = mid - 1;\n",
    "        } else if (input[mid] < target) {\n",
    "            start = mid + 1;\n",
    "        } else {\n",
    "            end = mid - 1;\n",
    "        }\n",
    "    }\n",
    "\n",
    "    return index;\n",
    "}\n",
    "\n",
    "public int lastOccurrence(int[] input, int target) {\n",
    "    int start = 0;\n",
    "    int end = input.length - 1;\n",
    "    int index = -1;\n",
    "\n",
    "    while (start <= end) {\n",
    "        int mid = (start + end) / 2;\n",
    "        if (input[mid] == target) {\n",
    "            index = mid;\n",
    "            start = mid + 1;\n",
    "        } else if (input[mid] < target) {\n",
    "            start = mid + 1;\n",
    "        } else {\n",
    "            end = mid - 1;\n",
    "        }\n",
    "    }\n",
    "\n",
    "    return index;\n",
    "}\n",
    "\n",
    "System.out.print(firstOccurrence(new int[]{1, 2, 2, 2, 5, 7, 9, 9, 9, 10}, 2) + \"\\t\");\n",
    "System.out.print(firstOccurrence(new int[]{1, 2, 2, 2, 5, 7, 9, 9, 9, 10}, 5) + \"\\t\");\n",
    "System.out.print(firstOccurrence(new int[]{1, 2, 2, 2, 5, 7, 9, 9, 9, 10}, 9) + \"\\t\");\n",
    "System.out.print(firstOccurrence(new int[]{1, 2, 2, 2, 5, 7, 9, 9, 9, 10}, 6) + \"\\t\");\n",
    "System.out.println();\n",
    "System.out.print(lastOccurrence(new int[]{1, 2, 2, 2, 5, 7, 9, 9, 9, 10}, 2) + \"\\t\");\n",
    "System.out.print(lastOccurrence(new int[]{1, 2, 2, 2, 5, 7, 9, 9, 9, 10}, 5) + \"\\t\");\n",
    "System.out.print(lastOccurrence(new int[]{1, 2, 2, 2, 5, 7, 9, 9, 9, 10}, 9) + \"\\t\");\n",
    "System.out.print(lastOccurrence(new int[]{1, 2, 2, 2, 5, 7, 9, 9, 9, 10}, 6) + \"\\t\");"
   ]
  },
  {
   "cell_type": "markdown",
   "metadata": {},
   "source": [
    "**Q 2:** Find the number of occurance of a number in a sorted array?  \n",
    "**Answer:** Find first occurance and last occurance, maintaining count each time."
   ]
  },
  {
   "cell_type": "code",
   "execution_count": 5,
   "metadata": {},
   "outputs": [
    {
     "name": "stdout",
     "output_type": "stream",
     "text": [
      "3\n",
      "1\n",
      "0\n"
     ]
    }
   ],
   "source": [
    "public int totalOccurrences(int[] input, int target) {\n",
    "    int first = firstOccurrence(input, target);\n",
    "    if (first == -1) {\n",
    "        return 0;\n",
    "    }\n",
    "\n",
    "    int last = lastOccurrence(input, target);\n",
    "    return last - first + 1;\n",
    "}\n",
    "\n",
    "System.out.println(totalOccurrences(new int[]{1, 2, 2, 2, 5, 7, 9, 9, 9, 10}, 2));\n",
    "System.out.println(totalOccurrences(new int[]{1, 2, 2, 2, 5, 7, 9, 9, 9, 10}, 5));\n",
    "System.out.println(totalOccurrences(new int[]{1, 2, 2, 2, 5, 7, 9, 9, 9, 10}, 6));"
   ]
  },
  {
   "cell_type": "markdown",
   "metadata": {},
   "source": [
    "**Q 3:** Find peak element in an unsorted array. A peak element is an element which is not smaller than its neighbours. In the example `3, 2, 1, 5, 7, 4, 8`, `7, 8 and 3` are peak elements. Return any peak element.  \n",
    "**Answer:** We can solve this easily by iterating over the array, but we need to improve upon the time complexity, so we employ binary search. Notice that the array is not sorted (and that we can't sort the array in this case). If we plot the array on a graph, we get:  \n",
    "![problem](https://i.imgur.com/LpHtCck.png)\n",
    "Case 3 is mix of Case 2 and 4. So we apply binary search in the following manner:"
   ]
  },
  {
   "cell_type": "code",
   "execution_count": 15,
   "metadata": {},
   "outputs": [],
   "source": [
    "def peak(A):\n",
    "    if len(A) == 1:\n",
    "        return A[0]\n",
    "\n",
    "    start = 0\n",
    "    end = len(A) - 1\n",
    "\n",
    "    while(start <= end):\n",
    "        mid = (start + end) // 2\n",
    "\n",
    "        if(mid == len(A) - 1):\n",
    "            if(A[mid] >= A[mid - 1]):\n",
    "                return A[mid]\n",
    "            else:\n",
    "                return A[mid - 1]\n",
    "        elif(mid == 0):\n",
    "            if(A[mid] >= A[mid + 1]):\n",
    "                return A[mid]\n",
    "            else:\n",
    "                return A[mid + 1]\n",
    "        elif(A[mid]>=A[mid+1] and A[mid] >= A[mid - 1]):\n",
    "            return A[mid]\n",
    "        elif(A[mid]<A[mid-1]):\n",
    "            end = mid - 1\n",
    "        elif(A[mid]<A[mid+1]):\n",
    "            start = mid + 1"
   ]
  },
  {
   "cell_type": "markdown",
   "metadata": {},
   "source": [
    "**Q 4:** Given a sorted array A containing distinct elements, find an element `A[i]` such that `A[i] == i` .  \n",
    "**Answer:** Since the array is sorted, it maked sense to use binary search. For the mid element, we will have these cases: 1) `A[i] == i` 2) `A[i] > i` 3) `A[i] < i`"
   ]
  },
  {
   "cell_type": "code",
   "execution_count": 6,
   "metadata": {},
   "outputs": [
    {
     "name": "stdout",
     "output_type": "stream",
     "text": [
      "2\n",
      "1\n",
      "-1\n"
     ]
    }
   ],
   "source": [
    "public int indexEqualsElement(int[] input) {\n",
    "    int start = 0;\n",
    "    int end = input.length - 1;\n",
    "\n",
    "    while (start <= end) {\n",
    "        int mid = (start + end) / 2;\n",
    "        if (input[mid] == mid) {\n",
    "            return input[mid];\n",
    "        } else if (input[mid] > mid) {\n",
    "            end = mid - 1;\n",
    "        } else {\n",
    "            start = mid + 1;\n",
    "        }\n",
    "    }\n",
    "\n",
    "    return -1;\n",
    "}\n",
    "\n",
    "System.out.println(indexEqualsElement(new int[]{-1, -5, 2, 7, 8, 12}));\n",
    "System.out.println(indexEqualsElement(new int[]{-1, 1, 3, 7, 8, 12}));\n",
    "System.out.println(indexEqualsElement(new int[]{-1, 2, 3, 7, 8, 12}));"
   ]
  },
  {
   "cell_type": "markdown",
   "metadata": {},
   "source": [
    "**Q 5:** Find the closest element to the search term in a sorted array.  \n",
    "**Answer:** The question asks us to find the element in array such that `abs(A[i] - K)` is minimised.    "
   ]
  },
  {
   "cell_type": "code",
   "execution_count": 7,
   "metadata": {},
   "outputs": [
    {
     "name": "stdout",
     "output_type": "stream",
     "text": [
      "100\n",
      "105\n",
      "200\n",
      "1\n",
      "2\n"
     ]
    }
   ],
   "source": [
    "public int closestElement(int[] input, int target) {\n",
    "    int start = 0;\n",
    "    int end = input.length - 1;\n",
    "\n",
    "    int closest = input[0];\n",
    "    while (start <= end) {\n",
    "        int mid = (start + end) / 2;\n",
    "        if (input[mid] == target) {\n",
    "            return input[mid];\n",
    "        } else if (input[mid] > target) {\n",
    "            end = mid - 1;\n",
    "        } else {\n",
    "            start = mid + 1;\n",
    "        }\n",
    "\n",
    "        if (Math.abs(input[mid] - target) < Math.abs(closest - target)) {\n",
    "            closest = input[mid];\n",
    "        }\n",
    "    }\n",
    "\n",
    "    return closest;\n",
    "}\n",
    "\n",
    "System.out.println(closestElement(new int[]{1, 2, 4, 100, 105, 124, 200}, 99));\n",
    "System.out.println(closestElement(new int[]{1, 2, 4, 100, 105, 124, 200}, 104));\n",
    "System.out.println(closestElement(new int[]{1, 2, 4, 100, 105, 124, 200}, 9000));\n",
    "System.out.println(closestElement(new int[]{1, 2, 4, 100, 105, 124, 200}, -9000));\n",
    "System.out.println(closestElement(new int[]{1, 2, 4, 100, 105, 124, 200}, 3));"
   ]
  },
  {
   "cell_type": "markdown",
   "metadata": {},
   "source": [
    "In the last test input, we saw that there are two possibilities for closest item. What if we want to return the lowest among the two possible answers?"
   ]
  },
  {
   "cell_type": "code",
   "execution_count": 8,
   "metadata": {},
   "outputs": [
    {
     "name": "stdout",
     "output_type": "stream",
     "text": [
      "8\n",
      "6\n"
     ]
    }
   ],
   "source": [
    "public int lowestClosestElement(int[] input, int target) {\n",
    "    int start = 0;\n",
    "    int end = input.length - 1;\n",
    "\n",
    "    int closest = input[0];\n",
    "    while (start <= end) {\n",
    "        int mid = (start + end) / 2;\n",
    "        if (input[mid] == target) {\n",
    "            return input[mid];\n",
    "        } else if (input[mid] > target) {\n",
    "            end = mid - 1;\n",
    "        } else {\n",
    "            start = mid + 1;\n",
    "        }\n",
    "\n",
    "        if ((Math.abs(input[mid] - target) == Math.abs(closest - target) && input[mid] < closest)\n",
    "                || (Math.abs(input[mid] - target) < Math.abs(closest - target))) {\n",
    "            closest = input[mid];\n",
    "        }\n",
    "    }\n",
    "\n",
    "    return closest;\n",
    "}\n",
    "\n",
    "System.out.println(closestElement(new int[]{1, 3, 6, 8, 12, 15, 16}, 7));\n",
    "System.out.println(lowestClosestElement(new int[]{1, 3, 6, 8, 12, 15, 16}, 7));"
   ]
  },
  {
   "cell_type": "markdown",
   "metadata": {},
   "source": [
    "**Q 5:** Given an array of integers `A` and an integer `B`, array `A` is rotated at some pivot unknown to you beforehand. Rotated means items have been shifted such that some elements from the end are now at the start. For example, we can rotate `[3, 6, 8, 9, 12, 14, 18, 21]` by 4 places to result in `[12, 14, 18, 21, 3, 6, 8, 9]`. We have to search a given number in this rotated array.  \n",
    "**Answer:** One simple way is to find the point of rotation and then divide the array into two parts. Then conduct binary search on the two divided parts independently."
   ]
  },
  {
   "cell_type": "code",
   "execution_count": 9,
   "metadata": {},
   "outputs": [
    {
     "name": "stdout",
     "output_type": "stream",
     "text": [
      "5\n",
      "-1\n"
     ]
    }
   ],
   "source": [
    "public int searchInRotatedArray(int[] input, int target) {\n",
    "    // Find the point of rotation\n",
    "    int i = 0;\n",
    "    while (i + 1 < input.length && input[i + 1] > input[i]) {\n",
    "        i++;\n",
    "    }\n",
    "\n",
    "    int start = 0;\n",
    "    int end = i - 1;\n",
    "    while (start <= end) {\n",
    "        int mid = (start + end) / 2;\n",
    "        if (input[mid] == target) {\n",
    "            return mid;\n",
    "        } else if (input[mid] > target) {\n",
    "            end = mid - 1;\n",
    "        } else {\n",
    "            start = mid + 1;\n",
    "        }\n",
    "    }\n",
    "\n",
    "    start = i;\n",
    "    end = input.length - 1;\n",
    "    while (start <= end) {\n",
    "        int mid = (start + end) / 2;\n",
    "        if (input[mid] == target) {\n",
    "            return mid;\n",
    "        } else if (input[mid] > target) {\n",
    "            end = mid - 1;\n",
    "        } else {\n",
    "            start = mid + 1;\n",
    "        }\n",
    "    }\n",
    "\n",
    "    return -1;\n",
    "}\n",
    "\n",
    "System.out.println(searchInRotatedArray(new int[]{12, 14, 18, 21, 3, 6, 8, 9}, 6));\n",
    "System.out.println(searchInRotatedArray(new int[]{12, 14, 18, 21, 3, 6, 8, 9}, 23));"
   ]
  },
  {
   "cell_type": "markdown",
   "metadata": {},
   "source": [
    "However, at any point mid we can easily decide which side of array to consider. At every mid point we check K not only against the mid point, but also the last element of the array."
   ]
  },
  {
   "cell_type": "code",
   "execution_count": 13,
   "metadata": {},
   "outputs": [
    {
     "name": "stdout",
     "output_type": "stream",
     "text": [
      "3\n",
      "7\n",
      "1\n",
      "-1\n"
     ]
    }
   ],
   "source": [
    "def search_rotated(A, K):\n",
    "    start = 0\n",
    "    end = len(A) - 1\n",
    "    \n",
    "    while(start <= end):\n",
    "        mid = (start + end) // 2\n",
    "        \n",
    "        if A[mid] == K:\n",
    "            return mid\n",
    "        elif A[mid] <= A[end]:\n",
    "            if K > A[mid] and K <= A[end]:\n",
    "                start = mid + 1\n",
    "            else:\n",
    "                end = mid - 1\n",
    "        # Mid is the point of rotation\n",
    "        else:\n",
    "            if  K < A[mid] and K <= A[end]:\n",
    "                start = mid + 1\n",
    "            else:\n",
    "                end = mid - 1\n",
    "    return -1\n",
    "                \n",
    "A = [12, 14, 18, 21, 3, 6, 8, 9]\n",
    "\n",
    "print(search_rotated(A, 21))\n",
    "print(search_rotated(A, 9))\n",
    "print(search_rotated(A, 14))\n",
    "print(search_rotated(A, -14))"
   ]
  },
  {
   "cell_type": "markdown",
   "metadata": {},
   "source": [
    "**Q 6:** In a sorted array every number occurs twice, except for one number which occurs only once. Find that number.  \n",
    "**Answer:** We can find answer in $O(n)$ time complexity by doing XOR on all elements. However this solution will work on all arrays, sorted or not. We can use the information that the array is sorted to improve upon the time complexity."
   ]
  },
  {
   "cell_type": "code",
   "execution_count": 9,
   "metadata": {},
   "outputs": [
    {
     "name": "stdout",
     "output_type": "stream",
     "text": [
      "7\n",
      "1\n",
      "1\n"
     ]
    }
   ],
   "source": [
    "def find_single(A):\n",
    "    start = 0\n",
    "    end = len(A) - 1\n",
    "    \n",
    "    while(start <= end):\n",
    "        mid = (start + end) // 2\n",
    "        \n",
    "        if mid == len(A)-1 or mid == 0:\n",
    "            return A[mid]\n",
    "        elif A[mid] != A[mid - 1] and A[mid] != A[mid + 1]:\n",
    "            return A[mid]\n",
    "        elif A[mid] == A[mid - 1]:\n",
    "            if mid % 2 == 0:\n",
    "                end = mid - 1\n",
    "            else:\n",
    "                start = mid + 1\n",
    "        elif A[mid] == A[mid + 1]:\n",
    "            if mid % 2 == 0:\n",
    "                start = mid + 1\n",
    "            else:\n",
    "                end = mid - 1\n",
    "    \n",
    "    return A[start]\n",
    "\n",
    "A = [1,1,2,2,3,3,5,5,6,6,7]\n",
    "print(find_single(A))\n",
    "\n",
    "A = [1,2,2,3,3,4,4,5,5]\n",
    "print(find_single(A))\n",
    "\n",
    "A = [1]\n",
    "print(find_single(A))"
   ]
  },
  {
   "cell_type": "markdown",
   "metadata": {},
   "source": [
    "**Q 7:** Find the maximum height of staircase that can be formed by `N` blocks of height 1 each.  \n",
    "**Answer:** We can represent this using the equation \n",
    "$$1+2+3+...+H = N$$\n",
    "$$H(H+1) = 2N$$\n",
    "Now it is not necessary that we will get integral solution to this equation. For example, if `N = 10` we have $1+2+3+4 = 10$. But for `N=20`, we need `1+2+3+4+5+5=20`, therefore max height is five."
   ]
  },
  {
   "cell_type": "code",
   "execution_count": 1,
   "metadata": {},
   "outputs": [
    {
     "name": "stdout",
     "output_type": "stream",
     "text": [
      "4\n",
      "2\n"
     ]
    }
   ],
   "source": [
    "def max_height_staircase(A):\n",
    "    low = 1\n",
    "    high = A\n",
    "\n",
    "    while(low<=high):\n",
    "        mid = (low + high) // 2\n",
    "\n",
    "        if(mid*(mid+1) == 2*A):\n",
    "            return mid\n",
    "\n",
    "        if(mid*(mid+1) > 2*A):\n",
    "            high = mid - 1\n",
    "        else:\n",
    "            low = mid + 1\n",
    "\n",
    "    # This code block handles case when the solution\n",
    "    # of the above equation is not integral\n",
    "    if low*(low+1) > A:\n",
    "        return low-1\n",
    "    else:\n",
    "        return low+1\n",
    "\n",
    "print(max_height_staircase(14))\n",
    "print(max_height_staircase(5))"
   ]
  },
  {
   "cell_type": "markdown",
   "metadata": {},
   "source": [
    "**Q 8:** Given a number A find its square root. If the number is not a perfect square, return -1.  \n",
    "**Answer:**"
   ]
  },
  {
   "cell_type": "code",
   "execution_count": 3,
   "metadata": {},
   "outputs": [
    {
     "name": "stdout",
     "output_type": "stream",
     "text": [
      "15\n",
      "0\n",
      "-1\n"
     ]
    }
   ],
   "source": [
    "def square_root(A):\n",
    "    start = 0\n",
    "    end = A // 2\n",
    "    \n",
    "    while(start <= end):\n",
    "        mid = (start + end) // 2\n",
    "        \n",
    "        if mid * mid == A:\n",
    "            return mid\n",
    "        elif mid * mid < A:\n",
    "            start = mid + 1\n",
    "        else:\n",
    "            end = mid - 1\n",
    "    return -1\n",
    "\n",
    "print(square_root(225))\n",
    "print(square_root(0))\n",
    "print(square_root(20))"
   ]
  },
  {
   "cell_type": "markdown",
   "metadata": {},
   "source": [
    "As we might have seen in earlier problems, we can apply binary search to problems with unsorted array. A good indication is if the array has large number of elements. In such case we need to do the following:\n",
    "1. Define the answer space. Answer space is the set of values which can be the answer of the given problem\n",
    "2. Check if the answer space function is monotonic or not. This means that if we figure out that a certain answer space value satisfies the condition, can we discard one half of the answer space?\n",
    "3. Define a feasibility function to check if the answer space value satisfies the condition."
   ]
  },
  {
   "cell_type": "markdown",
   "metadata": {},
   "source": [
    "**Q 9:** Given an array of integers `A` and an integer `B`, find and return the maximum value `K` such that there is no subarray in `A` of size `K` with sum of elements greater than `B`. Here it is given that A can have upto $10^9$ elements. As an example, consider the array `[1, 2, 3, 4, 5]`. All subarrays upto a maximum size of 2 have sum less than `10`. Therefore the answer is 2. Similarly, for array `[5, 17, 100, 11]` all subarrays upto a maximum size of 3 have sum less than `130` .  \n",
    "**Answer:** In this case the answer space will the the maximum size of subarray. It can range from 1 to `len(A)`. We can see that if subarrays of size `X` have sum greater than `K`, then all values greater than `X` will not work. We can see that answer space function is monotonic. Our feasibility checking function will check whether a subarray of size `X` is valid or not."
   ]
  },
  {
   "cell_type": "code",
   "execution_count": 21,
   "metadata": {},
   "outputs": [
    {
     "name": "stdout",
     "output_type": "stream",
     "text": [
      "3\n"
     ]
    }
   ],
   "source": [
    "def max_length_subarray(A, B):\n",
    "    low = 1\n",
    "    high = len(A)\n",
    "\n",
    "    k = 0\n",
    "\n",
    "    while(low <= high):\n",
    "        mid = (low + high) // 2\n",
    "\n",
    "        if(possible(A, B, mid) == True):\n",
    "            k = mid\n",
    "            low = mid + 1\n",
    "        else:\n",
    "            high = mid - 1\n",
    "\n",
    "    return k\n",
    "\n",
    "\n",
    "def possible(A, B, size):\n",
    "    start = 0\n",
    "    end = size - 1\n",
    "\n",
    "    sum_ = 0\n",
    "    for i in range(start, size):\n",
    "        sum_ += A[i]\n",
    "    if sum_ <= B:\n",
    "        while(end + 1< len(A)):\n",
    "            sum_ = sum_ + A[end + 1] - A[start]\n",
    "            if sum_ > B:\n",
    "                return False\n",
    "            end += 1\n",
    "            start += 1\n",
    "        return True\n",
    "    return False\n",
    "\n",
    "A = [5, 17, 100, 11]\n",
    "B = 130\n",
    "\n",
    "print(max_length_subarray(A, B))"
   ]
  },
  {
   "cell_type": "markdown",
   "metadata": {},
   "source": [
    "If the array had negative numbers then binary search will not work in this case because we can't reject possible values of `K` after testing for one particular value of `K`.  \n",
    "\n",
    "**Q 10:** There are `N` stalls and `C` cows where `N >= 2` and `C >=2` and `N >= C`. One stall can have maximum of one cow. Place cows in stalls such that the distance between the cows is maximised. We are given an array containing the distance of stall from origin. For example, let the stall array be `[1, 2, 4, 8, 9]` and number of cows be 3. Then in this case we will place the cows at `[1, 4, 9]` and the maximum distance will be 3.  \n",
    "**Answer:** We can consider the minimum distance between the cows as the answer space. The answer space can range from 1 to `max(A) - min(A)`. For each answer space point, we need to check the feasibility. We will always place the first cow at the stall closest to the origin and then space out other cows accordingly. If a distance `d` is feasible then the next stall should have value less than or equal to first stall + distance. We check `C` number of cows. So if a distance `d` is valid, then we can dismiss all distances less than `d`."
   ]
  },
  {
   "cell_type": "code",
   "execution_count": 24,
   "metadata": {},
   "outputs": [
    {
     "name": "stdout",
     "output_type": "stream",
     "text": [
      "3\n"
     ]
    }
   ],
   "source": [
    "def place_cows(A, C):\n",
    "    # Lets sort the array A\n",
    "    A = sorted(A)\n",
    "    \n",
    "    # Find maximum and minimum possible max distance\n",
    "    start = 1\n",
    "    end = A[-1] - A[0]\n",
    "    \n",
    "    answer = 0\n",
    "    \n",
    "    while(start <= end):\n",
    "        mid = (start + end) // 2\n",
    "        \n",
    "        if distance_feasible(A, C, mid):\n",
    "            answer = mid\n",
    "            start = mid + 1\n",
    "        else:    \n",
    "            end = mid - 1\n",
    "            \n",
    "    return answer\n",
    "\n",
    "# Repeat C times. We keep on adding 'distance' and check if it\n",
    "# is equal or greater than the stall distance.\n",
    "def distance_feasible(A, C, distance):\n",
    "    d = A[0]\n",
    "    for i in range(1, C):\n",
    "        if A[i] < d + distance:\n",
    "            return False\n",
    "        d += distance\n",
    "        \n",
    "    return True\n",
    "\n",
    "A = [1,4,9]\n",
    "C = 3\n",
    "\n",
    "print(place_cows(A, C))"
   ]
  },
  {
   "cell_type": "markdown",
   "metadata": {},
   "source": [
    "**Q 11:** There are `N` books and each book has `A[i]` number of pages. There are also `B` number of students. Allocate all books to students such that every student has 1 book. Books are to be allocated in contigious chunks (subarray of A). Minimise the maximum pages allocated to one student. For example, if the book array is `[10,20,22,8,5]` then one possible allocation can be (if there are 3 students) `S1 gets 10 pages`, `S2 gets 20+22 = 42 pages` and `S3 gets 8+5 = 13 pages`. The answer in this scenario however is 30 pages.  \n",
    "**Answer:** The first step is to determine the range of answer space. The answer space would start at `max(A)` and end at `sum(A)`."
   ]
  },
  {
   "cell_type": "code",
   "execution_count": 40,
   "metadata": {},
   "outputs": [
    {
     "name": "stdout",
     "output_type": "stream",
     "text": [
      "30\n"
     ]
    }
   ],
   "source": [
    "def minimise_pages(A, B):\n",
    "    start = max(A)\n",
    "    end = sum(A)\n",
    "    \n",
    "    answer = -1\n",
    "    \n",
    "    while(start <= end):\n",
    "        mid = (start + end) // 2\n",
    "        \n",
    "        if pages_feasible(A, B, mid):\n",
    "            answer = mid\n",
    "            end = mid - 1\n",
    "        else:\n",
    "            start = mid + 1\n",
    "            \n",
    "    return answer\n",
    "\n",
    "def pages_feasible(A, B, max_pages):\n",
    "    pages = 0\n",
    "    students = 1\n",
    "    \n",
    "    for i in range(len(A)):\n",
    "        if A[i] > max_pages:\n",
    "            return False\n",
    "        \n",
    "        if pages + A[i] > max_pages:\n",
    "            students += 1\n",
    "            pages = A[i]\n",
    "            \n",
    "            if students > B:\n",
    "                return False\n",
    "        else:\n",
    "            pages += A[i]\n",
    "    \n",
    "    return True\n",
    "\n",
    "A = [10, 20, 22, 8, 5, 12]\n",
    "print(minimise_pages(A, 3))"
   ]
  },
  {
   "cell_type": "markdown",
   "metadata": {},
   "source": [
    "**Q 12:** Given an integer `A`, we call `K >= 2` a good base of `A`, if all digits of A base `K` are 1. Find smallest good base of `A` .  \n",
    "**Answer:** Again we need to find the range of `K` to consider. Before determining the minimum and maximum of the range we need to first check if the answer space is monotonic or not. If we choose a good base as `k` and `k` is not a good base then we cannot reject any half of the answer space. Both spaces `<k` and `>k` can have good base. However if `k` is a good base then we can reject `>k` because we need minimum good base. We can say that choosing `k` representing good base is not a good pick for answer space.  \n",
    "\n",
    "Now consider fixing the number of digits. If we are able to fix digits then we can choose `k` as our monotonic function! So we will be doing our binary search for number of digits ranging from 1 to 32."
   ]
  },
  {
   "cell_type": "code",
   "execution_count": 36,
   "metadata": {},
   "outputs": [
    {
     "name": "stdout",
     "output_type": "stream",
     "text": [
      "53\n",
      "3\n"
     ]
    }
   ],
   "source": [
    "def good_base(A):\n",
    "    answer = A\n",
    "    \n",
    "    # The range of the below range depends upon the maximum value of A\n",
    "    # If A is 4 byte int, then 32 digits are sufficient. If A can go upto\n",
    "    # 10**18, then in that case we'll need 64 digits\n",
    "    for i in range(1, 33):\n",
    "        start = 2\n",
    "        end = A - 1\n",
    "        \n",
    "        while(start <= end):\n",
    "            mid = (start + end) // 2\n",
    "            \n",
    "            f = gb_feasible(A, i, mid)\n",
    "            if f == 0:\n",
    "                if mid < answer:\n",
    "                    answer = mid\n",
    "                break\n",
    "            elif f == -1:\n",
    "                start = mid + 1\n",
    "            else:\n",
    "                end = mid - 1\n",
    "    \n",
    "    return answer\n",
    "\n",
    "def gb_feasible(A, digits, mid):\n",
    "    num = 0\n",
    "    for i in range(digits):\n",
    "        num += mid**i\n",
    "        \n",
    "    if num == A:\n",
    "        return 0\n",
    "    elif num > A:\n",
    "        return 1\n",
    "    else:\n",
    "        return -1\n",
    "    \n",
    "print(good_base(54))\n",
    "print(good_base(13))"
   ]
  },
  {
   "cell_type": "markdown",
   "metadata": {},
   "source": [
    "**Q 13:** There are `A` painters and an array of boards each with width `C[i]`. It takes `B` time to paint 1 unit width of board. Return the minimum time required to paint all boards.  \n",
    "**Answer:** The minimum time will be taken if we have 1 painter for each board, the maximum time will be taken if we have only 1 painter. We can take total time taken as answer space variable. Now for each answer space variable we have to prove if it is feasible. If feasible, we will decrease time, else we increase it."
   ]
  },
  {
   "cell_type": "code",
   "execution_count": 17,
   "metadata": {},
   "outputs": [
    {
     "name": "stdout",
     "output_type": "stream",
     "text": [
      "8890\n",
      "50\n"
     ]
    }
   ],
   "source": [
    "def painters_problem(A, B, C):\n",
    "    start = max(C) * B\n",
    "    end = sum(C) * B\n",
    "    \n",
    "    answer = 0\n",
    "    \n",
    "    while(start <= end):\n",
    "        mid = (start + end) // 2\n",
    "        \n",
    "        if painting_feasible(A, B, C, mid):\n",
    "            answer = mid\n",
    "            end = mid - 1\n",
    "        else:\n",
    "            start = mid + 1\n",
    "            \n",
    "    return answer\n",
    "\n",
    "def painting_feasible(A, B, C, time):\n",
    "    painters = 1\n",
    "    t = 0\n",
    "    \n",
    "    for i in range(len(C)):\n",
    "        if C[i]*B > time:\n",
    "            return False\n",
    "        \n",
    "        if (t + C[i])*B > time:\n",
    "            painters += 1\n",
    "            t = C[i]\n",
    "            \n",
    "            if painters > A:\n",
    "                return False\n",
    "        else:\n",
    "            t += C[i]*B\n",
    "            \n",
    "    return True\n",
    "\n",
    "A = 4\n",
    "B = 10\n",
    "C = [ 884, 228, 442, 889 ]\n",
    "print(painters_problem(A,B,C))\n",
    "\n",
    "A = 2\n",
    "B = 5\n",
    "C = [1, 10]\n",
    "print(painters_problem(A,B,C))"
   ]
  },
  {
   "cell_type": "markdown",
   "metadata": {},
   "source": [
    "**Q 14:** Given a positive integer $A$. Return an array of minimum length whose elements represent the powers of 3 and the sum of all the elements is equal to A. For example, if $A = 13$, return `[1, 3, 9]` .  \n",
    "**Answer:**"
   ]
  },
  {
   "cell_type": "code",
   "execution_count": 1,
   "metadata": {},
   "outputs": [
    {
     "name": "stdout",
     "output_type": "stream",
     "text": [
      "[1, 3, 9]\n"
     ]
    }
   ],
   "source": [
    "def powers_of_3(A):\n",
    "    output = []\n",
    "    \n",
    "    while A > 0:\n",
    "        # Lowest power\n",
    "        low = 0\n",
    "        # highest power\n",
    "        high = 15\n",
    "        \n",
    "        interim = -1\n",
    "        while low <= high:\n",
    "            mid = (low + high) // 2\n",
    "            \n",
    "            if A == 3**mid:\n",
    "                output.append(3**mid)\n",
    "                A = 0\n",
    "                break\n",
    "            elif A < 3**mid:\n",
    "                high = mid - 1\n",
    "            else:\n",
    "                if interim < 3**mid:\n",
    "                    interim = 3**mid\n",
    "                low = mid + 1\n",
    "            \n",
    "        if (interim != -1 and A != 0):\n",
    "            output.append(interim)\n",
    "            A -= interim\n",
    "            \n",
    "    return sorted(output)\n",
    "\n",
    "print(powers_of_3(13))"
   ]
  },
  {
   "cell_type": "code",
   "execution_count": null,
   "metadata": {},
   "outputs": [],
   "source": []
  }
 ],
 "metadata": {
  "kernelspec": {
   "display_name": "Java",
   "language": "java",
   "name": "java"
  },
  "language_info": {
   "codemirror_mode": "java",
   "file_extension": ".jshell",
   "mimetype": "text/x-java-source",
   "name": "Java",
   "pygments_lexer": "java",
   "version": "21.0.2+13-58"
  }
 },
 "nbformat": 4,
 "nbformat_minor": 4
}
