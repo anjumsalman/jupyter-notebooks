{
 "cells": [
  {
   "cell_type": "markdown",
   "metadata": {},
   "source": [
    "### Implementation\n",
    "If the list is already sorted, then binary search is a fast way to search for existence of an element."
   ]
  },
  {
   "cell_type": "code",
   "execution_count": 1,
   "metadata": {},
   "outputs": [
    {
     "name": "stdout",
     "output_type": "stream",
     "text": [
      "4\n",
      "-1\n"
     ]
    }
   ],
   "source": [
    "def binarySearch(numbers, target):\n",
    "    start = 0\n",
    "    end = len(numbers) - 1\n",
    "    while(start<=end):\n",
    "        mid = (start+end)//2\n",
    "        if(numbers[mid]==target):\n",
    "            return mid\n",
    "        elif(numbers[mid]>target):\n",
    "            end = mid - 1\n",
    "        else:\n",
    "            start = mid + 1\n",
    "    return -1\n",
    "\n",
    "input = [1,2,3,5,7,11]\n",
    "print(binarySearch(input,7))\n",
    "print(binarySearch(input,4))"
   ]
  },
  {
   "cell_type": "markdown",
   "metadata": {},
   "source": [
    "We can also implement it as recursion."
   ]
  },
  {
   "cell_type": "code",
   "execution_count": 4,
   "metadata": {},
   "outputs": [
    {
     "name": "stdout",
     "output_type": "stream",
     "text": [
      "4\n",
      "-1\n"
     ]
    }
   ],
   "source": [
    "def binarySearchRecursive(numbers, target, start, end):\n",
    "    if(start<=end):\n",
    "        mid = (start+end)//2\n",
    "        if(numbers[mid]==target):\n",
    "            return mid\n",
    "        elif(numbers[mid]>target):\n",
    "            return binarySearchRecursive(numbers, target, start, mid-1)\n",
    "        else:\n",
    "            return binarySearchRecursive(numbers, target, mid+1, end)\n",
    "    return -1\n",
    "\n",
    "print(binarySearchRecursive(input,7,0,5))\n",
    "print(binarySearchRecursive(input,4,0,5))"
   ]
  },
  {
   "cell_type": "markdown",
   "metadata": {},
   "source": [
    "### Runtime\n",
    "In worst case and average case,  \n",
    "$$T(n) = T(n/2) + k_1$$\n",
    "$$T(n/2) = T(n/4) + k_2 $$\n",
    "$$\\vdots$$\n",
    "$$T(1) = T(n/2^x) + k_x$$\n",
    "$$2^x = n$$\n",
    "$$x = log(n)$$  \n",
    "In best case, time taken is constant."
   ]
  },
  {
   "cell_type": "markdown",
   "metadata": {},
   "source": [
    "### Other Problems\n",
    "**Q 1:** Find the first and last occurance of a number in a sorted array. Numbers can be repeated any number of time.  \n",
    "**Answer:** Keep searching even if you get an answer"
   ]
  },
  {
   "cell_type": "code",
   "execution_count": 5,
   "metadata": {},
   "outputs": [
    {
     "name": "stdout",
     "output_type": "stream",
     "text": [
      "3\n",
      "6\n"
     ]
    }
   ],
   "source": [
    "def firstOccurance(numbers, target):\n",
    "    start = 0\n",
    "    end = len(numbers) - 1\n",
    "    result = -1\n",
    "    while(start<=end):\n",
    "        mid = (start+end)//2\n",
    "        if(numbers[mid]==target):\n",
    "            result = mid\n",
    "            end = mid - 1\n",
    "        elif(numbers[mid]>target):\n",
    "            end = mid - 1\n",
    "        else:\n",
    "            start = mid + 1\n",
    "    return result\n",
    "\n",
    "def lastOccurance(numbers, target):\n",
    "    start = 0\n",
    "    end = len(numbers) - 1\n",
    "    result = -1\n",
    "    while(start<=end):\n",
    "        mid = (start+end)//2\n",
    "        if(numbers[mid]==target):\n",
    "            result = mid\n",
    "            start = mid + 1\n",
    "        elif(numbers[mid]>target):\n",
    "            end = mid - 1\n",
    "        else:\n",
    "            start = mid + 1\n",
    "    return result\n",
    "\n",
    "values = [1,2,3,5,5,5,5]\n",
    "print(firstOccurance(values,5))\n",
    "print(lastOccurance(values,5))"
   ]
  },
  {
   "cell_type": "markdown",
   "metadata": {},
   "source": [
    "**Q 2:** Find the number of occurance of a number in a sorted array?  \n",
    "**Answer:** Find first occurance and last occurance, maintaining count each time."
   ]
  },
  {
   "cell_type": "code",
   "execution_count": 14,
   "metadata": {},
   "outputs": [
    {
     "name": "stdout",
     "output_type": "stream",
     "text": [
      "3\n",
      "1\n",
      "2\n"
     ]
    }
   ],
   "source": [
    "def countOccurance(numbers, target):    \n",
    "    firstOccurance = -1\n",
    "    start = 0\n",
    "    end = len(numbers) - 1\n",
    "    while(start<=end):\n",
    "        mid = (start+end)//2\n",
    "        if(numbers[mid]==target):\n",
    "            firstOccurance = mid\n",
    "            end = mid - 1\n",
    "        elif(numbers[mid]>target):\n",
    "            end = mid - 1\n",
    "        else:\n",
    "            start = mid + 1\n",
    "            \n",
    "    if firstOccurance == -1:\n",
    "        return 0\n",
    "    \n",
    "    lastOccurance = -1\n",
    "    start = 0\n",
    "    end = len(numbers) - 1\n",
    "    while(start<=end):\n",
    "        mid = (start+end)//2\n",
    "        if(numbers[mid]==target):\n",
    "            lastOccurance = mid\n",
    "            start = mid + 1\n",
    "        elif(numbers[mid]>target):\n",
    "            end = mid - 1\n",
    "        else:\n",
    "            start = mid + 1\n",
    "    \n",
    "    return lastOccurance - firstOccurance + 1\n",
    "\n",
    "numbers = [1,1,1,2,3,4,4,5,6,6,8]\n",
    "print(countOccurance(numbers, 1))\n",
    "print(countOccurance(numbers, 2))\n",
    "print(countOccurance(numbers, 6))"
   ]
  },
  {
   "cell_type": "markdown",
   "metadata": {},
   "source": [
    "**Q 3:** Find peak element in an unsorted array. A peak element is an element which is not smaller than its neighbours. In the example `3, 2, 1, 5, 7, 4, 8`, `7, 8 and 3` are peak eleemnts. Return any peak element.  \n",
    "**Answer:** We can solve this easily by iterating over the array, but we need to improve upon the time complexity, so we employ binary search. Notice that the array is not sorted (and that we can't sort the array in this case). If we plot the array on a graph, we get:  \n",
    "![problem](https://i.imgur.com/LpHtCck.png)\n",
    "Case 3 is mix of Case 2 and 4. So we apply binary search in the following manner:"
   ]
  },
  {
   "cell_type": "code",
   "execution_count": 15,
   "metadata": {},
   "outputs": [],
   "source": [
    "def peak(A):\n",
    "    if len(A) == 1:\n",
    "        return A[0]\n",
    "\n",
    "    start = 0\n",
    "    end = len(A) - 1\n",
    "\n",
    "    while(start <= end):\n",
    "        mid = (start + end) // 2\n",
    "\n",
    "        if(mid == len(A) - 1):\n",
    "            if(A[mid] >= A[mid - 1]):\n",
    "                return A[mid]\n",
    "            else:\n",
    "                return A[mid - 1]\n",
    "        elif(mid == 0):\n",
    "            if(A[mid] >= A[mid + 1]):\n",
    "                return A[mid]\n",
    "            else:\n",
    "                return A[mid + 1]\n",
    "        elif(A[mid]>=A[mid+1] and A[mid] >= A[mid - 1]):\n",
    "            return A[mid]\n",
    "        elif(A[mid]<A[mid-1]):\n",
    "            end = mid - 1\n",
    "        elif(A[mid]<A[mid+1]):\n",
    "            start = mid + 1"
   ]
  },
  {
   "cell_type": "markdown",
   "metadata": {},
   "source": [
    "**Q 4:** Given a sorted array A containing distinct elements, find an element `A[i]` such that `A[i] == i` .  \n",
    "**Answer:** Since the array is sorted, it maked sense to use binary search. For the mid element, we will have these cases: 1) `A[i] == i` 2) `A[i] > i` 3) `A[i] < i`"
   ]
  },
  {
   "cell_type": "code",
   "execution_count": 16,
   "metadata": {},
   "outputs": [],
   "source": [
    "def solution(A):\n",
    "    start = 0\n",
    "    end = len(A) - 1\n",
    "    \n",
    "    while start <= end:\n",
    "        mid = (start + end)//2\n",
    "        if A[mid] == mid:\n",
    "            return A[mid]\n",
    "        elif A[mid] > mid:\n",
    "            end = mid - 1\n",
    "        else:\n",
    "            start = mid + 1 "
   ]
  },
  {
   "cell_type": "markdown",
   "metadata": {},
   "source": [
    "**Q 5:** Find the closest element to the search term in a sorted array.  \n",
    "**Answer:** The question asks us to find the element in array such that `abs(A[i] - K)` is minimised.    "
   ]
  },
  {
   "cell_type": "code",
   "execution_count": 12,
   "metadata": {},
   "outputs": [
    {
     "name": "stdout",
     "output_type": "stream",
     "text": [
      "11\n",
      "6\n",
      "14\n",
      "1\n",
      "3\n"
     ]
    }
   ],
   "source": [
    "def closest_item(A, K):\n",
    "    import sys\n",
    "    \n",
    "    start = 0\n",
    "    end = len(A) - 1\n",
    "    \n",
    "    closest = sys.maxsize\n",
    "    answer = -1\n",
    "    \n",
    "    while(start <= end):\n",
    "        mid = (start + end) // 2\n",
    "        \n",
    "        if abs(A[mid] - K) < closest:\n",
    "            closest = abs(A[mid] - K)\n",
    "            answer = mid\n",
    "            \n",
    "        if A[mid] >= K:\n",
    "            end = mid - 1\n",
    "        else:\n",
    "            start = mid + 1\n",
    "    \n",
    "    return answer\n",
    "            \n",
    "A = [1,3,4,6,8,11,14]\n",
    "print(A[closest_item(A, 12)])\n",
    "print(A[closest_item(A, 5)])\n",
    "print(A[closest_item(A, 14)])\n",
    "print(A[closest_item(A, -14)])\n",
    "print(A[closest_item(A, 2)])"
   ]
  },
  {
   "cell_type": "markdown",
   "metadata": {},
   "source": [
    "In the last test input, we saw that there are two possibilities for closest item. What if we want to return the lowest among the two possible answers?"
   ]
  },
  {
   "cell_type": "code",
   "execution_count": 16,
   "metadata": {},
   "outputs": [
    {
     "name": "stdout",
     "output_type": "stream",
     "text": [
      "11\n",
      "4\n",
      "14\n",
      "1\n",
      "1\n"
     ]
    }
   ],
   "source": [
    "def closest_item(A, K):\n",
    "    import sys\n",
    "    \n",
    "    start = 0\n",
    "    end = len(A) - 1\n",
    "    \n",
    "    closest = sys.maxsize\n",
    "    closest_pos = sys.maxsize\n",
    "    answer = -1\n",
    "    \n",
    "    while(start <= end):\n",
    "        mid = (start + end) // 2\n",
    "        \n",
    "        if abs(A[mid] - K) < closest:\n",
    "            closest = abs(A[mid] - K)\n",
    "            closest_pos = mid\n",
    "            answer = mid\n",
    "        elif abs(A[mid] - K) == closest:\n",
    "            if mid < closest_pos:\n",
    "                closest = abs(A[mid] - K)\n",
    "                closest_pos = mid\n",
    "                answer = mid\n",
    "            \n",
    "        if A[mid] >= K:\n",
    "            end = mid - 1\n",
    "        else:\n",
    "            start = mid + 1\n",
    "    \n",
    "    return answer\n",
    "            \n",
    "A = [1,3,4,6,8,11,14]\n",
    "print(A[closest_item(A, 12)])\n",
    "print(A[closest_item(A, 5)])\n",
    "print(A[closest_item(A, 14)])\n",
    "print(A[closest_item(A, -14)])\n",
    "print(A[closest_item(A, 2)])"
   ]
  },
  {
   "cell_type": "markdown",
   "metadata": {},
   "source": [
    "**Q 5:** Given an array of integers `A` and an integer `B`, array `A` is rotated at some pivot unknown to you beforehand. Rotated means items have been shifted such that some elements from the end are now at the start. For example, we can rotate `[3, 6, 8, 9, 12, 14, 18, 21]` by 4 places to result in `[12, 14, 18, 21, 3, 6, 8, 9]`. We have to search a given number in this rotated array.  \n",
    "**Answer:** One simple way is to find the point of rotation and then divide the array into two parts. Then conduct binary search on the two divided parts independently."
   ]
  },
  {
   "cell_type": "code",
   "execution_count": 6,
   "metadata": {},
   "outputs": [
    {
     "name": "stdout",
     "output_type": "stream",
     "text": [
      "3\n"
     ]
    }
   ],
   "source": [
    "def search_rotated(A, K):\n",
    "    # Find the point of rotation\n",
    "    r = len(A) - 1\n",
    "    for i in range(len(A)-1):\n",
    "        if A[i] > A[i+1]:\n",
    "            r = i\n",
    "            break\n",
    "    \n",
    "    answer = -1\n",
    "\n",
    "    # Do two separate binary searches\n",
    "    start = 0\n",
    "    end = r\n",
    "    while(start <= end):\n",
    "        mid = (start + end) // 2\n",
    "\n",
    "        if A[mid] == K:\n",
    "            answer = mid\n",
    "            break\n",
    "        elif A[mid] > K:\n",
    "            end = mid - 1\n",
    "        else:\n",
    "            start = mid + 1\n",
    "\n",
    "    # Other binary search\n",
    "    if answer == -1:\n",
    "        start = r + 1\n",
    "        end = len(A) - 1\n",
    "        while(start <= end):\n",
    "            mid = (start + end) // 2\n",
    "\n",
    "            if A[mid] == K:\n",
    "                answer = mid\n",
    "                break\n",
    "            elif A[mid] > K:\n",
    "                end = mid - 1\n",
    "            else:\n",
    "                start = mid + 1\n",
    "\n",
    "    return answer\n",
    "\n",
    "A = [12, 14, 18, 21, 3, 6, 8, 9]\n",
    "\n",
    "print(search_rotated(A, 21))"
   ]
  },
  {
   "cell_type": "markdown",
   "metadata": {},
   "source": [
    "However, at any point mid we can easily decide which side of array to consider. At every mid point we check K not only against the mid point, but also the last element of the array."
   ]
  },
  {
   "cell_type": "code",
   "execution_count": 13,
   "metadata": {},
   "outputs": [
    {
     "name": "stdout",
     "output_type": "stream",
     "text": [
      "3\n",
      "7\n",
      "1\n",
      "-1\n"
     ]
    }
   ],
   "source": [
    "def search_rotated(A, K):\n",
    "    start = 0\n",
    "    end = len(A) - 1\n",
    "    \n",
    "    while(start <= end):\n",
    "        mid = (start + end) // 2\n",
    "        \n",
    "        if A[mid] == K:\n",
    "            return mid\n",
    "        elif A[mid] <= A[end]:\n",
    "            if K > A[mid] and K <= A[end]:\n",
    "                start = mid + 1\n",
    "            else:\n",
    "                end = mid - 1\n",
    "        # Mid is the point of rotation\n",
    "        else:\n",
    "            if  K < A[mid] and K <= A[end]:\n",
    "                start = mid + 1\n",
    "            else:\n",
    "                end = mid - 1\n",
    "    return -1\n",
    "                \n",
    "A = [12, 14, 18, 21, 3, 6, 8, 9]\n",
    "\n",
    "print(search_rotated(A, 21))\n",
    "print(search_rotated(A, 9))\n",
    "print(search_rotated(A, 14))\n",
    "print(search_rotated(A, -14))"
   ]
  },
  {
   "cell_type": "markdown",
   "metadata": {},
   "source": [
    "**Q 6:** In a sorted array every number occurs twice, except for one number which occurs only once. Find that number.  \n",
    "**Answer:** We can find answer in $O(n)$ time complexity by doing XOR on all elements. However this solution will work on all arrays, sorted or not. We can use the information that the array is sorted to improve upon the time complexity."
   ]
  },
  {
   "cell_type": "code",
   "execution_count": 9,
   "metadata": {},
   "outputs": [
    {
     "name": "stdout",
     "output_type": "stream",
     "text": [
      "7\n",
      "1\n",
      "1\n"
     ]
    }
   ],
   "source": [
    "def find_single(A):\n",
    "    start = 0\n",
    "    end = len(A) - 1\n",
    "    \n",
    "    while(start <= end):\n",
    "        mid = (start + end) // 2\n",
    "        \n",
    "        if mid == len(A)-1 or mid == 0:\n",
    "            return A[mid]\n",
    "        elif A[mid] != A[mid - 1] and A[mid] != A[mid + 1]:\n",
    "            return A[mid]\n",
    "        elif A[mid] == A[mid - 1]:\n",
    "            if mid % 2 == 0:\n",
    "                end = mid - 1\n",
    "            else:\n",
    "                start = mid + 1\n",
    "        elif A[mid] == A[mid + 1]:\n",
    "            if mid % 2 == 0:\n",
    "                start = mid + 1\n",
    "            else:\n",
    "                end = mid - 1\n",
    "    \n",
    "    return A[start]\n",
    "\n",
    "A = [1,1,2,2,3,3,5,5,6,6,7]\n",
    "print(find_single(A))\n",
    "\n",
    "A = [1,2,2,3,3,4,4,5,5]\n",
    "print(find_single(A))\n",
    "\n",
    "A = [1]\n",
    "print(find_single(A))"
   ]
  },
  {
   "cell_type": "markdown",
   "metadata": {},
   "source": [
    "**Q 7:** Find the maximum height of staircase that can be formed by `N` blocks of height 1 each.  \n",
    "**Answer:** We can represent this using the equation \n",
    "$$1+2+3+...+H = N$$\n",
    "$$H(H+1) = 2N$$\n",
    "Now it is not necessary that we will get integral solution to this equation. For example, if `N = 10` we have $1+2+3+4 = 10$. But for `N=20`, we need `1+2+3+4+5+5=20`, therefore max height is five."
   ]
  },
  {
   "cell_type": "code",
   "execution_count": 1,
   "metadata": {},
   "outputs": [
    {
     "name": "stdout",
     "output_type": "stream",
     "text": [
      "4\n",
      "2\n"
     ]
    }
   ],
   "source": [
    "def max_height_staircase(A):\n",
    "    low = 1\n",
    "    high = A\n",
    "\n",
    "    while(low<=high):\n",
    "        mid = (low + high) // 2\n",
    "\n",
    "        if(mid*(mid+1) == 2*A):\n",
    "            return mid\n",
    "\n",
    "        if(mid*(mid+1) > 2*A):\n",
    "            high = mid - 1\n",
    "        else:\n",
    "            low = mid + 1\n",
    "\n",
    "    # This code block handles case when the solution\n",
    "    # of the above equation is not integral\n",
    "    if low*(low+1) > A:\n",
    "        return low-1\n",
    "    else:\n",
    "        return low+1\n",
    "\n",
    "print(max_height_staircase(14))\n",
    "print(max_height_staircase(5))"
   ]
  },
  {
   "cell_type": "markdown",
   "metadata": {},
   "source": [
    "**Q 8:** Given a number A find its square root. If the number is not a perfect square, return -1.  \n",
    "**Answer:**"
   ]
  },
  {
   "cell_type": "code",
   "execution_count": 3,
   "metadata": {},
   "outputs": [
    {
     "name": "stdout",
     "output_type": "stream",
     "text": [
      "15\n",
      "0\n",
      "-1\n"
     ]
    }
   ],
   "source": [
    "def square_root(A):\n",
    "    start = 0\n",
    "    end = A // 2\n",
    "    \n",
    "    while(start <= end):\n",
    "        mid = (start + end) // 2\n",
    "        \n",
    "        if mid * mid == A:\n",
    "            return mid\n",
    "        elif mid * mid < A:\n",
    "            start = mid + 1\n",
    "        else:\n",
    "            end = mid - 1\n",
    "    return -1\n",
    "\n",
    "print(square_root(225))\n",
    "print(square_root(0))\n",
    "print(square_root(20))"
   ]
  },
  {
   "cell_type": "markdown",
   "metadata": {},
   "source": [
    "As we might have seen in earlier problems, we can apply binary search to problems with unsorted array. A good indication is if the array has large number of elements. In such case we need to do the following:\n",
    "1. Define the answer space. Answer space is the set of values which can be the answer of the given problem\n",
    "2. Check if the answer space function is monotonic or not. This means that if we figure out that a certain answer space value satisfies the condition, can we discard one half of the answer space?\n",
    "3. Define a feasibility function to check if the answer space value satisfies the condition."
   ]
  },
  {
   "cell_type": "markdown",
   "metadata": {},
   "source": [
    "**Q 9:** Given an array of integers `A` and an integer `B`, find and return the maximum value `K` such that there is no subarray in `A` of size `K` with sum of elements greater than `B`. Here it is given that A can have upto $10^9$ elements. As an example, consider the array `[1, 2, 3, 4, 5]`. All subarrays upto a maximum size of 2 have sum less than `10`. Therefore the answer is 2. Similarly, for array `[5, 17, 100, 11]` all subarrays upto a maximum size of 3 have sum less than `130` .  \n",
    "**Answer:** In this case the answer space will the the maximum size of subarray. It can range from 1 to `len(A)`. We can see that if subarrays of size `X` have sum greater than `K`, then all values greater than `X` will not work. We can see that answer space function is monotonic. Our feasibility checking function will check whether a subarray of size `X` is valid or not."
   ]
  },
  {
   "cell_type": "code",
   "execution_count": 21,
   "metadata": {},
   "outputs": [
    {
     "name": "stdout",
     "output_type": "stream",
     "text": [
      "3\n"
     ]
    }
   ],
   "source": [
    "def max_length_subarray(A, B):\n",
    "    low = 1\n",
    "    high = len(A)\n",
    "\n",
    "    k = 0\n",
    "\n",
    "    while(low <= high):\n",
    "        mid = (low + high) // 2\n",
    "\n",
    "        if(possible(A, B, mid) == True):\n",
    "            k = mid\n",
    "            low = mid + 1\n",
    "        else:\n",
    "            high = mid - 1\n",
    "\n",
    "    return k\n",
    "\n",
    "\n",
    "def possible(A, B, size):\n",
    "    start = 0\n",
    "    end = size - 1\n",
    "\n",
    "    sum_ = 0\n",
    "    for i in range(start, size):\n",
    "        sum_ += A[i]\n",
    "    if sum_ <= B:\n",
    "        while(end + 1< len(A)):\n",
    "            sum_ = sum_ + A[end + 1] - A[start]\n",
    "            if sum_ > B:\n",
    "                return False\n",
    "            end += 1\n",
    "            start += 1\n",
    "        return True\n",
    "    return False\n",
    "\n",
    "A = [5, 17, 100, 11]\n",
    "B = 130\n",
    "\n",
    "print(max_length_subarray(A, B))"
   ]
  },
  {
   "cell_type": "markdown",
   "metadata": {},
   "source": [
    "If the array had negative numbers then binary search will not work in this case because we can't reject possible values of `K` after testing for one particular value of `K`.  \n",
    "\n",
    "**Q 10:** There are `N` stalls and `C` cows where `N >= 2` and `C >=2` and `N >= C`. One stall can have maximum of one cow. Place cows in stalls such that the distance between the cows is maximised. We are given an array containing the distance of stall from origin. For example, let the stall array be `[1, 2, 4, 8, 9]` and number of cows be 3. Then in this case we will place the cows at `[1, 4, 9]` and the maximum distance will be 3.  \n",
    "**Answer:** We can consider the minimum distance between the cows as the answer space. The answer space can range from 1 to `max(A) - min(A)`. For each answer space point, we need to check the feasibility. We will always place the first cow at the stall closest to the origin and then space out other cows accordingly. If a distance `d` is feasible then the next stall should have value less than or equal to first stall + distance. We check `C` number of cows. So if a distance `d` is valid, then we can dismiss all distances less than `d`."
   ]
  },
  {
   "cell_type": "code",
   "execution_count": 24,
   "metadata": {},
   "outputs": [
    {
     "name": "stdout",
     "output_type": "stream",
     "text": [
      "3\n"
     ]
    }
   ],
   "source": [
    "def place_cows(A, C):\n",
    "    # Lets sort the array A\n",
    "    A = sorted(A)\n",
    "    \n",
    "    # Find maximum and minimum possible max distance\n",
    "    start = 1\n",
    "    end = A[-1] - A[0]\n",
    "    \n",
    "    answer = 0\n",
    "    \n",
    "    while(start <= end):\n",
    "        mid = (start + end) // 2\n",
    "        \n",
    "        if distance_feasible(A, C, mid):\n",
    "            answer = mid\n",
    "            start = mid + 1\n",
    "        else:    \n",
    "            end = mid - 1\n",
    "            \n",
    "    return answer\n",
    "\n",
    "# Repeat C times. We keep on adding 'distance' and check if it\n",
    "# is equal or greater than the stall distance.\n",
    "def distance_feasible(A, C, distance):\n",
    "    d = A[0]\n",
    "    for i in range(1, C):\n",
    "        if A[i] < d + distance:\n",
    "            return False\n",
    "        d += distance\n",
    "        \n",
    "    return True\n",
    "\n",
    "A = [1,4,9]\n",
    "C = 3\n",
    "\n",
    "print(place_cows(A, C))"
   ]
  },
  {
   "cell_type": "markdown",
   "metadata": {},
   "source": [
    "**Q 11:** There are `N` books and each book has `A[i]` number of pages. There are also `B` number of students. Allocate all books to students such that every student has 1 book. Books are to be allocated in contigious chunks (subarray of A). Minimise the maximum pages allocated to one student. For example, if the book array is `[10,20,22,8,5]` then one possible allocation can be (if there are 3 students) `S1 gets 10 pages`, `S2 gets 20+22 = 42 pages` and `S3 gets 8+5 = 13 pages`. The answer in this scenario however is 30 pages.  \n",
    "**Answer:** The first step is to determine the range of answer space. The answer space would start at `max(A)` and end at `sum(A)`."
   ]
  },
  {
   "cell_type": "code",
   "execution_count": 40,
   "metadata": {},
   "outputs": [
    {
     "name": "stdout",
     "output_type": "stream",
     "text": [
      "30\n"
     ]
    }
   ],
   "source": [
    "def minimise_pages(A, B):\n",
    "    start = max(A)\n",
    "    end = sum(A)\n",
    "    \n",
    "    answer = -1\n",
    "    \n",
    "    while(start <= end):\n",
    "        mid = (start + end) // 2\n",
    "        \n",
    "        if pages_feasible(A, B, mid):\n",
    "            answer = mid\n",
    "            end = mid - 1\n",
    "        else:\n",
    "            start = mid + 1\n",
    "            \n",
    "    return answer\n",
    "\n",
    "def pages_feasible(A, B, max_pages):\n",
    "    pages = 0\n",
    "    students = 1\n",
    "    \n",
    "    for i in range(len(A)):\n",
    "        if A[i] > max_pages:\n",
    "            return False\n",
    "        \n",
    "        if pages + A[i] > max_pages:\n",
    "            students += 1\n",
    "            pages = A[i]\n",
    "            \n",
    "            if students > B:\n",
    "                return False\n",
    "        else:\n",
    "            pages += A[i]\n",
    "    \n",
    "    return True\n",
    "\n",
    "A = [10, 20, 22, 8, 5, 12]\n",
    "print(minimise_pages(A, 3))"
   ]
  },
  {
   "cell_type": "markdown",
   "metadata": {},
   "source": [
    "**Q 12:** Given an integer `A`, we call `K >= 2` a good base of `A`, if all digits of A base `K` are 1. Find smallest good base of `A` .  \n",
    "**Answer:** Again we need to find the range of `K` to consider. Before determining the minimum and maximum of the range we need to first check if the answer space is monotonic or not. If we choose a good base as `k` and `k` is not a good base then we cannot reject any half of the answer space. Both spaces `<k` and `>k` can have good base. However if `k` is a good base then we can reject `>k` because we need minimum good base. We can say that choosing `k` representing good base is not a good pick for answer space.  \n",
    "\n",
    "Now consider fixing the number of digits. If we are able to fix digits then we can choose `k` as our monotonic function! So we will be doing our binary search for number of digits ranging from 1 to 32."
   ]
  },
  {
   "cell_type": "code",
   "execution_count": 36,
   "metadata": {},
   "outputs": [
    {
     "name": "stdout",
     "output_type": "stream",
     "text": [
      "53\n",
      "3\n"
     ]
    }
   ],
   "source": [
    "def good_base(A):\n",
    "    answer = A\n",
    "    \n",
    "    # The range of the below range depends upon the maximum value of A\n",
    "    # If A is 4 byte int, then 32 digits are sufficient. If A can go upto\n",
    "    # 10**18, then in that case we'll need 64 digits\n",
    "    for i in range(1, 33):\n",
    "        start = 2\n",
    "        end = A - 1\n",
    "        \n",
    "        while(start <= end):\n",
    "            mid = (start + end) // 2\n",
    "            \n",
    "            f = gb_feasible(A, i, mid)\n",
    "            if f == 0:\n",
    "                if mid < answer:\n",
    "                    answer = mid\n",
    "                break\n",
    "            elif f == -1:\n",
    "                start = mid + 1\n",
    "            else:\n",
    "                end = mid - 1\n",
    "    \n",
    "    return answer\n",
    "\n",
    "def gb_feasible(A, digits, mid):\n",
    "    num = 0\n",
    "    for i in range(digits):\n",
    "        num += mid**i\n",
    "        \n",
    "    if num == A:\n",
    "        return 0\n",
    "    elif num > A:\n",
    "        return 1\n",
    "    else:\n",
    "        return -1\n",
    "    \n",
    "print(good_base(54))\n",
    "print(good_base(13))"
   ]
  },
  {
   "cell_type": "markdown",
   "metadata": {},
   "source": [
    "**Q 13:** There are `A` painters and an array of boards each with width `C[i]`. It takes `B` time to paint 1 unit width of board. Return the minimum time required to paint all boards.  \n",
    "**Answer:** The minimum time will be taken if we have 1 painter for each board, the maximum time will be taken if we have only 1 painter. We can take total time taken as answer space variable. Now for each answer space variable we have to prove if it is feasible. If feasible, we will decrease time, else we increase it."
   ]
  },
  {
   "cell_type": "code",
   "execution_count": 17,
   "metadata": {},
   "outputs": [
    {
     "name": "stdout",
     "output_type": "stream",
     "text": [
      "8890\n",
      "50\n"
     ]
    }
   ],
   "source": [
    "def painters_problem(A, B, C):\n",
    "    start = max(C) * B\n",
    "    end = sum(C) * B\n",
    "    \n",
    "    answer = 0\n",
    "    \n",
    "    while(start <= end):\n",
    "        mid = (start + end) // 2\n",
    "        \n",
    "        if painting_feasible(A, B, C, mid):\n",
    "            answer = mid\n",
    "            end = mid - 1\n",
    "        else:\n",
    "            start = mid + 1\n",
    "            \n",
    "    return answer\n",
    "\n",
    "def painting_feasible(A, B, C, time):\n",
    "    painters = 1\n",
    "    t = 0\n",
    "    \n",
    "    for i in range(len(C)):\n",
    "        if C[i]*B > time:\n",
    "            return False\n",
    "        \n",
    "        if (t + C[i])*B > time:\n",
    "            painters += 1\n",
    "            t = C[i]\n",
    "            \n",
    "            if painters > A:\n",
    "                return False\n",
    "        else:\n",
    "            t += C[i]*B\n",
    "            \n",
    "    return True\n",
    "\n",
    "A = 4\n",
    "B = 10\n",
    "C = [ 884, 228, 442, 889 ]\n",
    "print(painters_problem(A,B,C))\n",
    "\n",
    "A = 2\n",
    "B = 5\n",
    "C = [1, 10]\n",
    "print(painters_problem(A,B,C))"
   ]
  },
  {
   "cell_type": "markdown",
   "metadata": {},
   "source": [
    "**Q 14:** Given a positive integer $A$. Return an array of minimum length whose elements represent the powers of 3 and the sum of all the elements is equal to A. For example, if $A = 13$, return `[1, 3, 9]` .  \n",
    "**Answer:**"
   ]
  },
  {
   "cell_type": "code",
   "execution_count": 1,
   "metadata": {},
   "outputs": [
    {
     "name": "stdout",
     "output_type": "stream",
     "text": [
      "[1, 3, 9]\n"
     ]
    }
   ],
   "source": [
    "def powers_of_3(A):\n",
    "    output = []\n",
    "    \n",
    "    while A > 0:\n",
    "        # Lowest power\n",
    "        low = 0\n",
    "        # highest power\n",
    "        high = 15\n",
    "        \n",
    "        interim = -1\n",
    "        while low <= high:\n",
    "            mid = (low + high) // 2\n",
    "            \n",
    "            if A == 3**mid:\n",
    "                output.append(3**mid)\n",
    "                A = 0\n",
    "                break\n",
    "            elif A < 3**mid:\n",
    "                high = mid - 1\n",
    "            else:\n",
    "                if interim < 3**mid:\n",
    "                    interim = 3**mid\n",
    "                low = mid + 1\n",
    "            \n",
    "        if (interim != -1 and A != 0):\n",
    "            output.append(interim)\n",
    "            A -= interim\n",
    "            \n",
    "    return sorted(output)\n",
    "\n",
    "print(powers_of_3(13))"
   ]
  },
  {
   "cell_type": "code",
   "execution_count": null,
   "metadata": {},
   "outputs": [],
   "source": []
  }
 ],
 "metadata": {
  "kernelspec": {
   "display_name": "Python 3",
   "language": "python",
   "name": "python3"
  },
  "language_info": {
   "codemirror_mode": {
    "name": "ipython",
    "version": 3
   },
   "file_extension": ".py",
   "mimetype": "text/x-python",
   "name": "python",
   "nbconvert_exporter": "python",
   "pygments_lexer": "ipython3",
   "version": "3.7.4"
  }
 },
 "nbformat": 4,
 "nbformat_minor": 4
}
