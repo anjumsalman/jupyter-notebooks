{
 "cells": [
  {
   "cell_type": "markdown",
   "metadata": {},
   "source": [
    "### Implementation\n",
    "If the list is already sorted, then binary search is a fast way to search for existence of an element."
   ]
  },
  {
   "cell_type": "code",
   "execution_count": 1,
   "metadata": {},
   "outputs": [
    {
     "name": "stdout",
     "output_type": "stream",
     "text": [
      "4\n",
      "-1\n"
     ]
    }
   ],
   "source": [
    "def binarySearch(numbers, target):\n",
    "    start = 0\n",
    "    end = len(numbers) - 1\n",
    "    while(start<=end):\n",
    "        mid = (start+end)//2\n",
    "        if(numbers[mid]==target):\n",
    "            return mid\n",
    "        elif(numbers[mid]>target):\n",
    "            end = mid - 1\n",
    "        else:\n",
    "            start = mid + 1\n",
    "    return -1\n",
    "\n",
    "input = [1,2,3,5,7,11]\n",
    "print(binarySearch(input,7))\n",
    "print(binarySearch(input,4))"
   ]
  },
  {
   "cell_type": "markdown",
   "metadata": {},
   "source": [
    "We can also implement it as recursion."
   ]
  },
  {
   "cell_type": "code",
   "execution_count": 4,
   "metadata": {},
   "outputs": [
    {
     "name": "stdout",
     "output_type": "stream",
     "text": [
      "4\n",
      "-1\n"
     ]
    }
   ],
   "source": [
    "def binarySearchRecursive(numbers, target, start, end):\n",
    "    if(start<=end):\n",
    "        mid = (start+end)//2\n",
    "        if(numbers[mid]==target):\n",
    "            return mid\n",
    "        elif(numbers[mid]>target):\n",
    "            return binarySearchRecursive(numbers, target, start, mid-1)\n",
    "        else:\n",
    "            return binarySearchRecursive(numbers, target, mid+1, end)\n",
    "    return -1\n",
    "\n",
    "print(binarySearchRecursive(input,7,0,5))\n",
    "print(binarySearchRecursive(input,4,0,5))"
   ]
  },
  {
   "cell_type": "markdown",
   "metadata": {},
   "source": [
    "### Runtime\n",
    "In worst case and average case,  \n",
    "$$T(n) = T(n/2) + k_1$$\n",
    "$$T(n/2) = T(n/4) + k_2 $$\n",
    "$$\\vdots$$\n",
    "$$T(1) = T(n/2^x) + k_x$$\n",
    "$$2^x = n$$\n",
    "$$x = log(n)$$  \n",
    "In best case, time taken is constant."
   ]
  },
  {
   "cell_type": "markdown",
   "metadata": {},
   "source": [
    "### First and Last Occurances\n",
    "We can modify our algorithm to include for duplicates. The two methods below return the first occurance and the last occurance respectively."
   ]
  },
  {
   "cell_type": "code",
   "execution_count": 5,
   "metadata": {},
   "outputs": [
    {
     "name": "stdout",
     "output_type": "stream",
     "text": [
      "3\n",
      "6\n"
     ]
    }
   ],
   "source": [
    "def firstOccurance(numbers, target):\n",
    "    start = 0\n",
    "    end = len(numbers) - 1\n",
    "    result = -1\n",
    "    while(start<=end):\n",
    "        mid = (start+end)//2\n",
    "        if(numbers[mid]==target):\n",
    "            result = mid\n",
    "            end = mid - 1\n",
    "        elif(numbers[mid]>target):\n",
    "            end = mid - 1\n",
    "        else:\n",
    "            start = mid + 1\n",
    "    return result\n",
    "\n",
    "def lastOccurance(numbers, target):\n",
    "    start = 0\n",
    "    end = len(numbers) - 1\n",
    "    result = -1\n",
    "    while(start<=end):\n",
    "        mid = (start+end)//2\n",
    "        if(numbers[mid]==target):\n",
    "            result = mid\n",
    "            start = mid + 1\n",
    "        elif(numbers[mid]>target):\n",
    "            end = mid - 1\n",
    "        else:\n",
    "            start = mid + 1\n",
    "    return result\n",
    "\n",
    "values = [1,2,3,5,5,5,5]\n",
    "print(firstOccurance(values,5))\n",
    "print(lastOccurance(values,5))"
   ]
  },
  {
   "cell_type": "code",
   "execution_count": null,
   "metadata": {},
   "outputs": [],
   "source": []
  }
 ],
 "metadata": {
  "kernelspec": {
   "display_name": "Python 3",
   "language": "python",
   "name": "python3"
  },
  "language_info": {
   "codemirror_mode": {
    "name": "ipython",
    "version": 3
   },
   "file_extension": ".py",
   "mimetype": "text/x-python",
   "name": "python",
   "nbconvert_exporter": "python",
   "pygments_lexer": "ipython3",
   "version": "3.7.4"
  }
 },
 "nbformat": 4,
 "nbformat_minor": 4
}
