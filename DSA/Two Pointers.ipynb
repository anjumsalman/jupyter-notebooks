{
 "cells": [
  {
   "cell_type": "markdown",
   "metadata": {},
   "source": [
    "## Two Pointers\n",
    "We make use of two pointers while iterating over array. This potentially reduces the time complexity. We can see this through the following examples:\n",
    "\n",
    "**Q 1:** Given a sorted array, find a pair `(i,j)` such that `A[i] + A[j] = K` .  \n",
    "**Answer:** Since this is a sorted array we can place two pointers i and j. One at the start and the other at the end. If the sum `A[i] + A[j]` is less than `K` we need to increae `i`. Otherwise we need to increase `K`. Here we can see that in both the cases we have a definite pointer and direction to move that pointer. So two pointer is applicable."
   ]
  },
  {
   "cell_type": "code",
   "execution_count": 2,
   "metadata": {},
   "outputs": [
    {
     "name": "stdout",
     "output_type": "stream",
     "text": [
      "[1, 6]\n"
     ]
    }
   ],
   "source": [
    "public int[] pairSumToK(int[] array, int k) {\n",
    "    int i = 0, j = array.length - 1;\n",
    "    while (i < j) {\n",
    "        if (array[i] + array[j] == k) {\n",
    "            return new int[]{i, j};\n",
    "        // Summation less than K, move towards larger numbers\n",
    "        } else if (array[i] + array[j] < k) {\n",
    "            i++;\n",
    "        // Summation more than K, move towards lesser numbers\n",
    "        } else {\n",
    "            j--;\n",
    "        }\n",
    "\n",
    "    }\n",
    "\n",
    "    return null;\n",
    "}\n",
    "\n",
    "int[] array = {1, 3, 5, 10, 20, 23, 30};\n",
    "System.out.println(Arrays.toString(pairSumToK(array, 33)));"
   ]
  },
  {
   "cell_type": "markdown",
   "metadata": {},
   "source": [
    "If we do not want to use two pointers, we have a $O(n^2)$ solution. In outer loop we take `A[i]`, in inner loop we try to find `K-A[i]`. The benefit of this approach is that it will work even if the array is unsorted. We can optimise by doing binary search for `K-A[i]`.\n",
    "\n",
    "Now what if we want to find all such pairs?"
   ]
  },
  {
   "cell_type": "code",
   "execution_count": 6,
   "metadata": {},
   "outputs": [
    {
     "name": "stdout",
     "output_type": "stream",
     "text": [
      "[1, 6],[3, 5]\n"
     ]
    }
   ],
   "source": [
    "import java.util.stream.*;\n",
    "public List<Integer[]> allPairsSumToK(int[] array, int k) {\n",
    "    List<Integer[]> pairs = new ArrayList<>();\n",
    "    int i = 0, j = array.length - 1;\n",
    "    while (i < j) {\n",
    "        if (array[i] + array[j] == k) {\n",
    "            pairs.add(new Integer[]{i, j});\n",
    "            i++; j--;\n",
    "        } else if (array[i] + array[j] < k) {\n",
    "            i++;\n",
    "        } else {\n",
    "            j--;\n",
    "        }\n",
    "\n",
    "    }\n",
    "\n",
    "    return pairs;\n",
    "}\n",
    "\n",
    "array = new int[]{1, 3, 5, 10, 20, 23, 30};\n",
    "System.out.println(allPairsSumToK(array, 33).stream().map(Arrays::toString).collect(Collectors.joining(\",\")));"
   ]
  },
  {
   "cell_type": "markdown",
   "metadata": {},
   "source": [
    "What if the array contains duplicate values? In this our program will output less number of pairs."
   ]
  },
  {
   "cell_type": "code",
   "execution_count": 7,
   "metadata": {},
   "outputs": [
    {
     "name": "stdout",
     "output_type": "stream",
     "text": [
      "[0, 8],[0, 7],[1, 6],[2, 6],[3, 6],[1, 5],[2, 5],[3, 5]\n"
     ]
    }
   ],
   "source": [
    "public List<Integer[]> allPairsSumToKDupl(int[] array, int k) {\n",
    "    List<Integer[]> pairs = new ArrayList<>();\n",
    "    int i = 0, j = array.length - 1;\n",
    "    while (i < j) {\n",
    "        if (array[i] + array[j] == k) {\n",
    "            pairs.add(new Integer[]{i, j});\n",
    "\n",
    "            int m = i + 1;\n",
    "            while (m < j && array[m] == array[i]) {\n",
    "                pairs.add(new Integer[]{m, j});\n",
    "                m++;\n",
    "            }\n",
    "            int n = j - 1;\n",
    "            while (n > i && array[n] == array[j]) {\n",
    "                pairs.add(new Integer[]{i, n});\n",
    "                n--;\n",
    "            }\n",
    "\n",
    "            i++;\n",
    "            j--;\n",
    "        } else if (array[i] + array[j] < k) {\n",
    "            i++;\n",
    "        } else {\n",
    "            j--;\n",
    "        }\n",
    "\n",
    "    }\n",
    "\n",
    "    return pairs;\n",
    "}\n",
    "\n",
    "array = new int[]{1, 2, 2, 2, 3, 4, 4, 5, 5, 7};\n",
    "System.out.println(allPairsSumToKDupl(array, 6).stream().map(Arrays::toString).collect(Collectors.joining(\",\")));"
   ]
  },
  {
   "cell_type": "markdown",
   "metadata": {},
   "source": [
    "**Q 2:** Given a sorted array, find a pair `(i,j)` such that `A[j] - A[i] = K` .  \n",
    "**Answer:** This time we will start both pointers from the start of the array."
   ]
  },
  {
   "cell_type": "code",
   "execution_count": 19,
   "metadata": {},
   "outputs": [
    {
     "name": "stdout",
     "output_type": "stream",
     "text": [
      "[3, 5]\n"
     ]
    }
   ],
   "source": [
    "public int[] pairDiffToK(int[] array, int k) {\n",
    "    int i = 0, j = 1;\n",
    "    while (i < j && j < array.length) {\n",
    "        if (array[j] - array[i] == k) {\n",
    "            return new int[]{i, j};\n",
    "        } else if (array[j] - array[i] < k) {\n",
    "            j++;\n",
    "        } else {\n",
    "            i++;\n",
    "        }\n",
    "\n",
    "    }\n",
    "\n",
    "    return null;\n",
    "}\n",
    "\n",
    "array = new int[]{1, 3, 5, 10, 20, 23, 30};\n",
    "System.out.println(Arrays.toString(pairDiffToK(array, 13)));"
   ]
  },
  {
   "cell_type": "markdown",
   "metadata": {},
   "source": [
    "Now instead of a pair, we need to find triplet which sums to K.  \n",
    "**Q 3:** Given a sorted array, find a triplet `(i,j,k)` such that `A[i] + A[j] + A[k] = K` .  \n",
    "**Answer:** This problem is basically an extension of the above problem. We can modify the above equation as `A[j] + A[k] = K - A[i]`."
   ]
  },
  {
   "cell_type": "code",
   "execution_count": 9,
   "metadata": {},
   "outputs": [
    {
     "name": "stdout",
     "output_type": "stream",
     "text": [
      "[0, 1, 6]\n"
     ]
    }
   ],
   "source": [
    "public int[] tripletSumToK(int[] array, int k) {\n",
    "    int a = 0;\n",
    "    while (a < array.length - 2) {\n",
    "        int b = a + 1, c = array.length - 1;\n",
    "        while (b < c) {\n",
    "            if (array[a] + array[b] + array[c] == k) {\n",
    "                return new int[]{a, b, c};\n",
    "            } else if (array[b] + array[c] < k - array[a]) {\n",
    "                b++;\n",
    "            } else {\n",
    "                c--;\n",
    "            }\n",
    "        }\n",
    "        a++;\n",
    "    }\n",
    "\n",
    "    return null;\n",
    "}\n",
    "\n",
    "array = new int[]{1, 3, 5, 10, 20, 23, 30};\n",
    "System.out.println(Arrays.toString(tripletSumToK(array, 34)));"
   ]
  },
  {
   "cell_type": "markdown",
   "metadata": {},
   "source": [
    "So, in $O(n^2)$ time complexity, we are able to find such a triplet. The above equation can also be modified as `A[i] + A[j] = K - A[k]`.\n",
    "\n",
    "An extension of this problem is to get closest to K instead of the sum just equalling K. Return sum of such triplet."
   ]
  },
  {
   "cell_type": "code",
   "execution_count": 10,
   "metadata": {},
   "outputs": [
    {
     "name": "stdout",
     "output_type": "stream",
     "text": [
      "4\n"
     ]
    }
   ],
   "source": [
    "public int tripletSumClosestToK(int[] array, int k) {\n",
    "    int a = 0;\n",
    "    int closestValue = Integer.MAX_VALUE;\n",
    "    while (a < array.length - 2) {\n",
    "        int b = a + 1, c = array.length - 1;\n",
    "        while (b < c) {\n",
    "            int sum = array[a] + array[b] + array[c];\n",
    "            if (Math.abs(k - sum) < Math.abs(k - closestValue)) {\n",
    "                closestValue = sum;\n",
    "            } else if (sum < k) {\n",
    "                b++;\n",
    "            } else {\n",
    "                c--;\n",
    "            }\n",
    "        }\n",
    "        a++;\n",
    "    }\n",
    "\n",
    "    return closestValue;\n",
    "}\n",
    "\n",
    "array = new int[]{-10, -8, -7, -5, -4, -1, -1, 1, 1, 7};\n",
    "System.out.println(tripletSumClosestToK(array, 4));"
   ]
  },
  {
   "cell_type": "markdown",
   "metadata": {},
   "source": [
    "**Q 4:** Given a sorted array, find a quadruplet (i,j,k,l) such that `A[i] + A[j] + A[k] + A[l]= K` .  \n",
    "**Answer:** If we do something like above, we will get an answer in $O(n^3)$. However, we can get answer in $O(n^2)$. We just modify the equation as `B[a] + B[b] = K` where the array is not `A`, but `B`. The length of array `B` will be $n^2$."
   ]
  },
  {
   "cell_type": "code",
   "execution_count": 12,
   "metadata": {},
   "outputs": [
    {
     "name": "stdout",
     "output_type": "stream",
     "text": [
      "[0, 1, 6, 5]\n"
     ]
    }
   ],
   "source": [
    "public int[] quadrupletSumToK(int[] array, int k) {\n",
    "    List<Integer[]> arraySum = new ArrayList<>();\n",
    "    for (int i = 0; i < array.length; i++) {\n",
    "        for (int j = 0; j < array.length; j++) {\n",
    "            arraySum.add(new Integer[]{array[i] + array[j], i, j});\n",
    "        }\n",
    "    }\n",
    "\n",
    "    // Sort arraySum such that it is ordered\n",
    "    Collections.sort(arraySum, (a, b) -> a[0] - b[0]);\n",
    "\n",
    "    int i = 0, j = arraySum.size() - 1;\n",
    "    while (i < j) {\n",
    "        if (arraySum.get(i)[0] + arraySum.get(j)[0] == k) {\n",
    "            return new int[]{arraySum.get(i)[1], arraySum.get(i)[2], arraySum.get(j)[1], arraySum.get(j)[2]};\n",
    "        } else if (arraySum.get(i)[0] + arraySum.get(j)[0] < k) {\n",
    "            i++;\n",
    "        } else {\n",
    "            j--;\n",
    "        }\n",
    "    }\n",
    "\n",
    "    return null;\n",
    "}\n",
    "\n",
    "array = new int[]{1, 3, 5, 10, 20, 23, 30};\n",
    "System.out.println(Arrays.toString(quadrupletSumToK(array, 57)));"
   ]
  },
  {
   "cell_type": "markdown",
   "metadata": {},
   "source": [
    "In problems where we use two pointers, it is not always the case that the array is sorted. When using two pointers the thing that should be clear is to have a clear choice of which pointer to move and in which direction. There should be no ambiguity.\n",
    "\n",
    "**Q 5:** Given an unsorted array, find a pair `(i,j)` such that $\\sum_{u = i}^{j} A[u] = K$. Which in simpler term means to find a subarray such that the sum of elements is equal to `K` .  \n",
    "**Answer:** In this case we can start both pointers are 0 and maintain a sum variable. Moving j pointer increases sum whereas increasing i pointer decreases it."
   ]
  },
  {
   "cell_type": "code",
   "execution_count": 13,
   "metadata": {},
   "outputs": [
    {
     "name": "stdout",
     "output_type": "stream",
     "text": [
      "[1, 4]\n",
      "[2, 2]\n",
      "null\n",
      "[3, 5]\n",
      "null\n",
      "null\n"
     ]
    }
   ],
   "source": [
    "public int[] subarraySum(int[] array, int k) {\n",
    "    int i = 0, j = 0;\n",
    "    int sum = array[i];\n",
    "    while (i <= j && j < array.length) {\n",
    "        if (sum == k) {\n",
    "            return new int[]{i, j};\n",
    "        } else if (sum > k) {\n",
    "            sum -= array[i];\n",
    "            i++;\n",
    "        } else {\n",
    "            j++;\n",
    "            if (j < array.length) {\n",
    "                sum += array[j];\n",
    "            }\n",
    "        }\n",
    "    }\n",
    "\n",
    "    return null;\n",
    "}\n",
    "\n",
    "array = new int[]{1,3,15,10,20,23,3};\n",
    "System.out.println(Arrays.toString(subarraySum(array, 48)));\n",
    "System.out.println(Arrays.toString(subarraySum(array, 15)));\n",
    "System.out.println(Arrays.toString(subarraySum(array, -3)));\n",
    "System.out.println(Arrays.toString(subarraySum(array, 53)));\n",
    "System.out.println(Arrays.toString(subarraySum(array, 530)));\n",
    "\n",
    "array = new int[]{-1,-1,1};\n",
    "System.out.println(Arrays.toString(subarraySum(array, -2)));"
   ]
  },
  {
   "cell_type": "markdown",
   "metadata": {},
   "source": [
    "Another way is to make use of prefix sum array. The prefix sum array will always be sorted. This way we can make use of two pointers like we did earlier."
   ]
  },
  {
   "cell_type": "code",
   "execution_count": 20,
   "metadata": {},
   "outputs": [
    {
     "name": "stdout",
     "output_type": "stream",
     "text": [
      "[1, 4]\n",
      "[2, 2]\n",
      "null\n",
      "[3, 5]\n",
      "null\n",
      "null\n"
     ]
    }
   ],
   "source": [
    "public int[] subarraySum2(int[] array, int k) {\n",
    "    // Form prefix sum array, the input array is not sorted\n",
    "    for (int i = 1; i < array.length; i++) {\n",
    "        array[i] += array[i - 1];\n",
    "    }\n",
    "\n",
    "    int[] pair = pairDiffToK(array, k);\n",
    "    if (pair != null) {\n",
    "        pair[0] += 1;\n",
    "    }\n",
    "\n",
    "    return pair;\n",
    "}\n",
    "            \n",
    "array = new int[]{1,3,15,10,20,23,3};\n",
    "System.out.println(Arrays.toString(subarraySum2(array, 48)));\n",
    "array = new int[]{1,3,15,10,20,23,3};\n",
    "System.out.println(Arrays.toString(subarraySum2(array, 15)));\n",
    "array = new int[]{1,3,15,10,20,23,3};\n",
    "System.out.println(Arrays.toString(subarraySum2(array, -3)));\n",
    "array = new int[]{1,3,15,10,20,23,3};\n",
    "System.out.println(Arrays.toString(subarraySum2(array, 53)));\n",
    "array = new int[]{1,3,15,10,20,23,3};\n",
    "System.out.println(Arrays.toString(subarraySum2(array, 530)));\n",
    "\n",
    "array = new int[]{-1,-1,1};\n",
    "System.out.println(Arrays.toString(subarraySum2(array, -2)));"
   ]
  },
  {
   "cell_type": "markdown",
   "metadata": {},
   "source": [
    "But as we can see, above solution fails (as was the case with previous solution) if negative numbers are present. Because in that case, the prefix arrow will not be sorted. However if the question just asked if there exists a subarray such that sum is equal to K, then in this case we can sort the prefix array (since the array can now contain negative numbers also) and then prove if `prefix[i] + prefix[j] = K`. The `i` and `j` here do not correspond to array index because we did sorting."
   ]
  },
  {
   "cell_type": "markdown",
   "metadata": {},
   "source": [
    "**Q 6:** Given an array of n items, each donating height of wall, if we pick 2 walls and discard others, which two walls will contain the maximum water between them?  \n",
    "![diagram](https://i.imgur.com/34WlpjK.png)  \n",
    "**Answer:** Since we have to maximise the water stored, we place the two pointers at the two ends. We move that pointer which has shorter wall."
   ]
  },
  {
   "cell_type": "code",
   "execution_count": 21,
   "metadata": {},
   "outputs": [
    {
     "name": "stdout",
     "output_type": "stream",
     "text": [
      "16\n"
     ]
    }
   ],
   "source": [
    "public int maxWater(int[] array) {\n",
    "    int i = 0, j = array.length - 1;\n",
    "    int maxWater = Integer.MIN_VALUE;\n",
    "    while (i < j) {\n",
    "        int water = (j - 1) * Math.min(array[i], array[j]);\n",
    "        if (water > maxWater) {\n",
    "            maxWater = water;\n",
    "        }\n",
    "\n",
    "        if (array[i] > array[j]) {\n",
    "            j--;\n",
    "        } else {\n",
    "            i++;\n",
    "        }\n",
    "    }\n",
    "\n",
    "    return maxWater;\n",
    "}\n",
    "\n",
    "int[] walls = {3, 6, 6, 4, 5, 4, 2};\n",
    "System.out.println(maxWater(walls));"
   ]
  },
  {
   "cell_type": "markdown",
   "metadata": {},
   "source": [
    "Another way to solve is via DP:"
   ]
  },
  {
   "cell_type": "code",
   "execution_count": 23,
   "metadata": {},
   "outputs": [
    {
     "name": "stdout",
     "output_type": "stream",
     "text": [
      "16\n"
     ]
    }
   ],
   "source": [
    "public static int maxWaterTD(int[] array) {\n",
    "    return maxWaterTD(array, 0, array.length - 1, new HashMap<>());\n",
    "}\n",
    "\n",
    "private static int maxWaterTD(int[] array, int i, int j, Map<List<Integer>, Integer> dp) {\n",
    "    if (i == j) {\n",
    "        return 0;\n",
    "    } else if (dp.containsKey(List.of(i, j))) {\n",
    "        return dp.get(List.of(i, j));\n",
    "    }\n",
    "\n",
    "    int result = Math.max((j - i) * Math.min(array[i], array[j]),\n",
    "            Math.max(maxWaterTD(array, i + 1, j, dp), maxWaterTD(array, i, j - 1, dp)));\n",
    "    dp.put(List.of(i, j), result);\n",
    "    return result;\n",
    "}\n",
    "\n",
    "walls = new int[]{3, 6, 6, 4, 5, 4, 2};\n",
    "System.out.println(maxWaterTD(walls));"
   ]
  },
  {
   "cell_type": "markdown",
   "metadata": {},
   "source": [
    "**Q 7:** Given a sorted array containing length of a side of rectangle, find the count of all distinct rectangles having area less than `B`. if the array is`[2 3 5]`, and `B = 15`, then all possible rectangles are `(2 x 2, 2 x 3, 2 x 5, 3 x 2, 3 x 3, 5 x 2)`. So the count is 6.  \n",
    "**Answer:** "
   ]
  },
  {
   "cell_type": "code",
   "execution_count": 24,
   "metadata": {},
   "outputs": [
    {
     "name": "stdout",
     "output_type": "stream",
     "text": [
      "6\n",
      "8\n"
     ]
    }
   ],
   "source": [
    "public int rectangleCountWithArea(int[] array, int k) {\n",
    "    int i = 0, j = array.length - 1;\n",
    "    int count = 0;\n",
    "    // For each i check how many j contribute to correct solution\n",
    "    while (i <= j) {\n",
    "        if (array[i] * array[j] >= k) {\n",
    "            j--;\n",
    "        } else {\n",
    "            // Multiply by 2 to count both (i,j) and (j,i). Subtract one to avoid counting\n",
    "            // (i,i) twice. This counts all the pairs between i and j\n",
    "            count += (2 * (j - i) + 1);\n",
    "            i++;\n",
    "        }\n",
    "\n",
    "    }\n",
    "\n",
    "    return count;\n",
    "}\n",
    "\n",
    "int[] rectangleSides = {2, 3, 5};\n",
    "System.out.println(rectangleCountWithArea(rectangleSides, 15));\n",
    "System.out.println(rectangleCountWithArea(rectangleSides, 16));"
   ]
  },
  {
   "cell_type": "markdown",
   "metadata": {},
   "source": [
    "**Q 8:** Given a binary array A, find the maximum sequence of continuous 1's that can be formed by replacing at-most `B` zeros. For example if the binary sequence is `[1 1 0 1 1 0 0 1 1 1]` and `B=1`, then we should replace 0 at index 2 to get the longest 1 sequence.  \n",
    "**Answer:** We will make use of two pointers and a count variable which will count the number of bit flips. Starting with both pointers at zero, we increase `j` pointer. Once we get a zero, we increase count. If `count>B` we need to increase `i` till we reduce count by 1."
   ]
  },
  {
   "cell_type": "code",
   "execution_count": 27,
   "metadata": {},
   "outputs": [
    {
     "name": "stdout",
     "output_type": "stream",
     "text": [
      "[0, 1, 2, 3, 4]\n",
      "[3, 4, 5, 6, 7, 8, 9]\n"
     ]
    }
   ],
   "source": [
    "public int[] flipKBits(int[] array, int k) {\n",
    "    int i = 0, j = 0;\n",
    "\n",
    "    int maxCount = Integer.MIN_VALUE;\n",
    "    int x = 0, y = 0;  // Stores index of longest subarray\n",
    "\n",
    "    // Number of flips done\n",
    "    int flips = 0;\n",
    "\n",
    "    while (j < array.length) {\n",
    "        if (array[j] == 0) {\n",
    "            flips++;\n",
    "\n",
    "            // Move i forward till flips <= k\n",
    "            while (flips > k && i < array.length) {\n",
    "                if (array[i] == 0) {\n",
    "                    flips--;\n",
    "                }\n",
    "\n",
    "                i++;\n",
    "            }\n",
    "        }\n",
    "\n",
    "        if (j - i + 1 > maxCount) {\n",
    "            maxCount = j - i + 1;\n",
    "            x = i;\n",
    "            y = j;\n",
    "        }\n",
    "\n",
    "        j++;\n",
    "    }\n",
    "\n",
    "    return IntStream.range(x, y + 1).toArray();\n",
    "}\n",
    "\n",
    "int[] bits = {1, 1, 0, 1, 1, 0, 0, 1, 1, 1};\n",
    "System.out.println(Arrays.toString(flipKBits(bits, 1)));\n",
    "System.out.println(Arrays.toString(flipKBits(bits, 2)));"
   ]
  },
  {
   "cell_type": "markdown",
   "metadata": {},
   "source": [
    "**Q 9:** Given an array, count the number of subarrays with unique elements. For example, if `A = [1,1,3]`, all the unique subarrays would be `[1], [1], [1,3], [3]`. Therefore count is `3` .  \n",
    "**Answer:** We make use of two pointers and a hashmap. Every iteration we increase `j` and add `A[j]` to the hashmap. Now if we see that `A[j]` was already present in the hashmap, this means that we have found the window with all unique elements. If $n$ elements are present in this window, then number of subarrays possible will be $\\frac{n*(n+1)}{2}$. Subarrays of elements between two identical elements gets counted twice, so we have to account for that."
   ]
  },
  {
   "cell_type": "code",
   "execution_count": 28,
   "metadata": {},
   "outputs": [
    {
     "name": "stdout",
     "output_type": "stream",
     "text": [
      "9\n",
      "13\n",
      "3\n",
      "9\n"
     ]
    }
   ],
   "source": [
    "public int subArraysWithUniqueElements(int[] array) {\n",
    "    int i = 0, j = 0;\n",
    "    Map<Integer, Integer> map = new HashMap<>(); // number to index mapping\n",
    "    int count = 0;\n",
    "\n",
    "    while (j < array.length) {\n",
    "        if (map.containsKey(array[j])) {\n",
    "            int position = map.get(array[j]);\n",
    "\n",
    "            // If i > pos no overlap eg: [1,4,2,2,4] and j = 4\n",
    "            if (i <= position) {\n",
    "                count += ((j - i) * (j - i + 1)) / 2;\n",
    "                // Remove overlapping so that it doesn't get counted twice\n",
    "                count -= ((j - position - 1) * (j - position)) / 2;\n",
    "                i = position + 1;\n",
    "            }\n",
    "        }\n",
    "\n",
    "        map.put(array[j], j);\n",
    "        // Reached end of array\n",
    "        if (j == array.length - 1) {\n",
    "            count += ((j - i + 1) * (j - i + 2)) / 2;\n",
    "        }\n",
    "\n",
    "        j++;\n",
    "    }\n",
    "\n",
    "    return count;\n",
    "}\n",
    "\n",
    "array = new int[]{1, 1, 2, 3, 2}; \n",
    "System.out.println(subArraysWithUniqueElements(array));\n",
    "array = new int[]{1, 2, 3, 1, 4};\n",
    "System.out.println(subArraysWithUniqueElements(array));\n",
    "array = new int[]{1, 1, 1};\n",
    "System.out.println(subArraysWithUniqueElements(array));\n",
    "array = new int[]{1, 4, 2, 2, 4};\n",
    "System.out.println(subArraysWithUniqueElements(array));"
   ]
  },
  {
   "cell_type": "markdown",
   "metadata": {},
   "source": [
    "**Q 10:** Given two sorted arrays return 1 index from both arrays such that they are the closest to each other. In other words find `(l, r)` such that `abs(A[l] - B[r])` is minimum.  \n",
    "**Answer:** We start with two pointers for two arrays, both starting at 0. At each iteration, if we increase the pointer pointing to the larger element, the distance will increase, so we increase the pointer pointing to the smaller element."
   ]
  },
  {
   "cell_type": "code",
   "execution_count": 25,
   "metadata": {},
   "outputs": [
    {
     "name": "stdout",
     "output_type": "stream",
     "text": [
      "[3, 0]\n"
     ]
    }
   ],
   "source": [
    "public int[] closestTwoArrays(int[] array1, int[] array2) {\n",
    "    int i = 0, j = 0;\n",
    "    int closest = Integer.MAX_VALUE;\n",
    "    int[] closestIndices = null;\n",
    "    while (i < array1.length && j < array2.length) {\n",
    "        if (Math.abs(array1[i] - array2[j]) < closest) {\n",
    "            closest = Math.abs(array1[i] - array2[j]);\n",
    "            closestIndices = new int[]{i, j};\n",
    "        }\n",
    "\n",
    "        if (array1[i] <= array2[j]) {\n",
    "            i++;\n",
    "        } else {\n",
    "            j++;\n",
    "        }\n",
    "    }\n",
    "\n",
    "    return closestIndices;\n",
    "}\n",
    "\n",
    "int[] arr1 = {1, 4, 5, 7};\n",
    "int[] arr2 = {10, 20, 30, 40};\n",
    "System.out.println(Arrays.toString(closestTwoArrays(arr1, arr2)));"
   ]
  },
  {
   "cell_type": "code",
   "execution_count": null,
   "metadata": {},
   "outputs": [],
   "source": []
  }
 ],
 "metadata": {
  "kernelspec": {
   "display_name": "Java",
   "language": "java",
   "name": "java"
  },
  "language_info": {
   "codemirror_mode": "java",
   "file_extension": ".jshell",
   "mimetype": "text/x-java-source",
   "name": "Java",
   "pygments_lexer": "java",
   "version": "21.0.2+13-58"
  }
 },
 "nbformat": 4,
 "nbformat_minor": 4
}
