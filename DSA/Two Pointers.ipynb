{
 "cells": [
  {
   "cell_type": "markdown",
   "metadata": {},
   "source": [
    "### Two Pointers\n",
    "We make use of two pointers while iterating over array. This potentially reduces the time complexity. We can see this through the following examples:\n",
    "\n",
    "**Q 1:** Given a sorted array, find a pair `(i,j)` such that `A[i] + A[j] = K` .  \n",
    "**Answer:** Since this is a sorted array we can place two pointers i and j. One at the start and the other at the end. If the sum `A[i] + A[j]` is less than `K` we need to increae `i`. Otherwise we need to increase `K`. Here we can see that in both the cases we have a definite pointer and direction to move that pointer. So two pointer is applicable."
   ]
  },
  {
   "cell_type": "code",
   "execution_count": 1,
   "metadata": {},
   "outputs": [
    {
     "name": "stdout",
     "output_type": "stream",
     "text": [
      "(1, 6)\n"
     ]
    }
   ],
   "source": [
    "def pair_sum_to_K(A, K):\n",
    "    i = 0\n",
    "    j = len(A) - 1\n",
    "    \n",
    "    while(i < j):\n",
    "        if A[i] + A[j] == K:\n",
    "            return (i, j)\n",
    "        elif A[i] + A[j] < K:\n",
    "            i += 1\n",
    "        else:\n",
    "            j -= 1\n",
    "            \n",
    "    return None\n",
    "\n",
    "A = [1, 3, 5, 10, 20, 23, 30]\n",
    "K = 33\n",
    "print(pair_sum_to_K(A, K))"
   ]
  },
  {
   "cell_type": "markdown",
   "metadata": {},
   "source": [
    "If we do not want to use two pointers, we have a $O(n^2)$ solution. In outer loop we take `A[i]`, in inner loop we try to find `K-A[i]`. The benefit of this approach is that it will work even if the array is unsorted. We can optimise by doing binary search for `K-A[i]`.\n",
    "\n",
    "Now what if we want to find all such pairs?"
   ]
  },
  {
   "cell_type": "code",
   "execution_count": 3,
   "metadata": {},
   "outputs": [
    {
     "name": "stdout",
     "output_type": "stream",
     "text": [
      "[(1, 6), (3, 5)]\n"
     ]
    }
   ],
   "source": [
    "def all_pair_sum_to_K(A, K):\n",
    "    pairs = []\n",
    "    \n",
    "    i = 0\n",
    "    j = len(A) - 1\n",
    "    \n",
    "    while(i < j):\n",
    "        if A[i] + A[j] == K:\n",
    "            pairs.append((i, j))\n",
    "            i += 1\n",
    "            j -= 1\n",
    "        elif A[i] + A[j] < K:\n",
    "            i += 1\n",
    "        else:\n",
    "            j -= 1\n",
    "            \n",
    "    return pairs\n",
    "\n",
    "A = [1, 3, 5, 10, 20, 23, 30]\n",
    "K = 33\n",
    "print(all_pair_sum_to_K(A, K))"
   ]
  },
  {
   "cell_type": "markdown",
   "metadata": {},
   "source": [
    "What if the array contains duplicate values? In this our program will output less number of pairs."
   ]
  },
  {
   "cell_type": "code",
   "execution_count": 1,
   "metadata": {},
   "outputs": [
    {
     "name": "stdout",
     "output_type": "stream",
     "text": [
      "[(0, 8), (0, 7), (1, 6), (2, 6), (3, 6), (1, 5), (2, 5), (3, 5)]\n"
     ]
    }
   ],
   "source": [
    "def all_pair_sum_to_K(A, K):\n",
    "    pairs = []\n",
    "    \n",
    "    i = 0\n",
    "    j = len(A) - 1\n",
    "    \n",
    "    while(i < j):\n",
    "        if A[i] + A[j] == K:\n",
    "            pairs.append((i, j))\n",
    "            \n",
    "            x = i+1\n",
    "            while x < j and A[x] == A[i]:\n",
    "                pairs.append((x, j))\n",
    "                x += 1\n",
    "                \n",
    "            y = j-1\n",
    "            while y > i and A[y] == A[j]:\n",
    "                pairs.append((i, y))\n",
    "                y -= 1\n",
    "            \n",
    "            i += 1\n",
    "            j -= 1\n",
    "        elif A[i] + A[j] < K:\n",
    "            i += 1\n",
    "        else:\n",
    "            j -= 1\n",
    "            \n",
    "    return pairs\n",
    "\n",
    "A = [1, 2, 2, 2, 3, 4, 4, 5, 5, 7]\n",
    "K = 6\n",
    "print(all_pair_sum_to_K(A, K))"
   ]
  },
  {
   "cell_type": "markdown",
   "metadata": {},
   "source": [
    "**Q 2:** Given a sorted array, find a pair `(i,j)` such that `A[j] - A[i] = K` .  \n",
    "**Answer:** This time we will start both pointers from the start of the array."
   ]
  },
  {
   "cell_type": "code",
   "execution_count": 4,
   "metadata": {},
   "outputs": [
    {
     "name": "stdout",
     "output_type": "stream",
     "text": [
      "(3, 5)\n"
     ]
    }
   ],
   "source": [
    "def pair_diff_to_K(A, K):\n",
    "    i = 0\n",
    "    j = 1\n",
    "    \n",
    "    while(i < len(A) and j < len(A)):\n",
    "        if A[j] - A[i] == K:\n",
    "            return (i,j)\n",
    "        elif A[j] - A[i] < K:\n",
    "            j += 1\n",
    "        else:\n",
    "            i += 1\n",
    "            \n",
    "    return None\n",
    "\n",
    "A = [1, 3, 5, 10, 20, 23, 30]\n",
    "K = 13\n",
    "print(pair_diff_to_K(A,K))"
   ]
  },
  {
   "cell_type": "markdown",
   "metadata": {},
   "source": [
    "Now instead of a pair, we need to find triplet which sums to K.  \n",
    "**Q 3:** Given a sorted array, find a triplet `(i,j,k)` such that `A[i] + A[j] + A[k] = K` .  \n",
    "**Answer:** This problem is basically an extension of the above problem. We can modify the above equation as `A[j] + A[k] = K - A[i]`."
   ]
  },
  {
   "cell_type": "code",
   "execution_count": 5,
   "metadata": {},
   "outputs": [
    {
     "name": "stdout",
     "output_type": "stream",
     "text": [
      "(0, 1, 6)\n"
     ]
    }
   ],
   "source": [
    "def triplet_sum_to_K(A, K):\n",
    "    i = 0\n",
    "    while(i < len(A)-2):\n",
    "        j = i + 1\n",
    "        k = len(A) - 1\n",
    "        while(j < k):\n",
    "            if A[j] + A[k] == K - A[i]:\n",
    "                return (i, j, k)\n",
    "            elif A[j] + A[k] < K - A[i]:\n",
    "                j += 1\n",
    "            else:\n",
    "                k -= 1\n",
    "        i += 1\n",
    "    return None\n",
    "\n",
    "A = [1, 3, 5, 10, 20, 23, 30]\n",
    "K = 34\n",
    "print(triplet_sum_to_K(A, K))"
   ]
  },
  {
   "cell_type": "markdown",
   "metadata": {},
   "source": [
    "So, in $O(n^2)$ time complexity, we are able to find such a triplet. The above equation can also be modified as `A[i] + A[j] = K - A[k]`."
   ]
  },
  {
   "cell_type": "markdown",
   "metadata": {},
   "source": [
    "An extension of this problem is to get closest to K instead of the sum just equalling K. Return sum of such triplet."
   ]
  },
  {
   "cell_type": "code",
   "execution_count": 29,
   "metadata": {},
   "outputs": [
    {
     "name": "stdout",
     "output_type": "stream",
     "text": [
      "4\n"
     ]
    }
   ],
   "source": [
    "def triplet_sum_closest_to_K(A, K):\n",
    "    i = 0\n",
    "    import sys\n",
    "    closest_sum = sys.maxsize\n",
    "    for i in range(len(A) - 2):\n",
    "        j = i+1\n",
    "        k = len(A)-1\n",
    "        while(j < k):\n",
    "            sum = A[i]+A[j]+A[k]\n",
    "            if abs(sum - K) < abs(closest_sum - K):\n",
    "                closest_sum = sum\n",
    "\n",
    "            if sum > K:\n",
    "                k -= 1\n",
    "            else:\n",
    "                j += 1\n",
    "\n",
    "    return closest_sum\n",
    "\n",
    "A = [-10, -8, -7, -5, -4, -1, -1, 1, 1, 7]\n",
    "K = 4\n",
    "print(triplet_sum_closest_to_K(A, K))"
   ]
  },
  {
   "cell_type": "markdown",
   "metadata": {},
   "source": [
    "**Q 4:** Given a sorted array, find a quadruplet (i,j,k,l) such that `A[i] + A[j] + A[k] + A[l]= K` .  \n",
    "**Answer:** If we do something like above, we will get an answer in $O(n^3)$. However, we can get answer in $O(n^2)$. We just modify the equation as `B[a] + B[b] = K` where the array is not `A`, but `B`. The length of array `B` will be $n^2$."
   ]
  },
  {
   "cell_type": "code",
   "execution_count": 12,
   "metadata": {},
   "outputs": [
    {
     "name": "stdout",
     "output_type": "stream",
     "text": [
      "(0, 1, 6, 5)\n"
     ]
    }
   ],
   "source": [
    "def quadruple_sum_to_k(A, K):\n",
    "    # Form B array. Include indexes also\n",
    "    B = []\n",
    "    for i in range(len(A)):\n",
    "        for j in range(len(A)):\n",
    "            B.append((A[i]+A[j],i,j))\n",
    "    \n",
    "    # Make sure to sort B\n",
    "    B = sorted(B, key=lambda x: x[0])\n",
    "    \n",
    "    i = 0\n",
    "    j = len(B) - 1\n",
    "    while(i < j):\n",
    "        if B[i][0] + B[j][0] == K:\n",
    "            return (B[i][1], B[i][2], B[j][1], B[j][2])\n",
    "        elif B[i][0] + B[j][0] < K:\n",
    "            i += 1\n",
    "        else:\n",
    "            j -= 1\n",
    "            \n",
    "    return None\n",
    "\n",
    "A = [1, 3, 5, 10, 20, 23, 30]\n",
    "K = 57\n",
    "print(quadruple_sum_to_k(A, K))"
   ]
  },
  {
   "cell_type": "markdown",
   "metadata": {},
   "source": [
    "In problems where we use two pointers, it is not always the case that the array is sorted. When using two pointers the thing that should be clear is to have a clear choice of which pointer to move and in which direction. There should be no ambiguity.\n",
    "\n",
    "**Q 5:** Given an unsorted array, find a pair `(i,j)` such that $\\sum_{u = i}^{j} A[u] = K$. Which in simpler term means to find a subarray such that the sum of elements is equal to `K` .  \n",
    "**Answer:** In this case we can start both pointers are 0 and maintain a sum variable. Moving j pointer increases sum whereas increasing i pointer decreases it."
   ]
  },
  {
   "cell_type": "code",
   "execution_count": 24,
   "metadata": {},
   "outputs": [
    {
     "name": "stdout",
     "output_type": "stream",
     "text": [
      "(1, 4)\n",
      "(2, 2)\n",
      "None\n",
      "(3, 5)\n",
      "None\n",
      "None\n"
     ]
    }
   ],
   "source": [
    "def subarray_sum(A, K):\n",
    "    i = 0\n",
    "    j = 0\n",
    "    sum = A[i]\n",
    "    while(i <= j and i < len(A) and j < len(A)): # Equality included because subarray can have single element also\n",
    "        if sum == K:\n",
    "            return (i,j)\n",
    "        elif sum < K:\n",
    "            j += 1\n",
    "            if j < len(A):\n",
    "                sum += A[j]\n",
    "        else:\n",
    "            sum -= A[i]\n",
    "            i += 1\n",
    "   \n",
    "    return None\n",
    "\n",
    "A = [1,3,15,10,20,23,3]\n",
    "K = 48\n",
    "print(subarray_sum(A, K))\n",
    "\n",
    "K = 15\n",
    "print(subarray_sum(A, K))\n",
    "\n",
    "K = -3\n",
    "print(subarray_sum(A, K))\n",
    "\n",
    "K = 53\n",
    "print(subarray_sum(A, K))\n",
    "\n",
    "K = 530\n",
    "print(subarray_sum(A, K))\n",
    "\n",
    "A = [-1,-1,1]\n",
    "K = -2\n",
    "print(subarray_sum(A, K))"
   ]
  },
  {
   "cell_type": "markdown",
   "metadata": {},
   "source": [
    "Another way is to make use of prefix sum array. The prefix sum array will always be sorted. This way we can make use of two pointers like we did earlier."
   ]
  },
  {
   "cell_type": "code",
   "execution_count": 23,
   "metadata": {},
   "outputs": [
    {
     "name": "stdout",
     "output_type": "stream",
     "text": [
      "(1, 4)\n",
      "(2, 2)\n",
      "None\n",
      "(3, 5)\n",
      "None\n",
      "None\n"
     ]
    }
   ],
   "source": [
    "def subarray_sum(A, K):\n",
    "    # Create prefix sum\n",
    "    sum = 0\n",
    "    prefix = []\n",
    "    for a in A:\n",
    "        sum += a\n",
    "        prefix.append(sum)\n",
    "        \n",
    "    i = -1\n",
    "    j = 0\n",
    "    sum = prefix[j]\n",
    "    \n",
    "    while(i <=j and i < len(A) and j < len(A)):\n",
    "        if i < 0:\n",
    "            sum = prefix[j]\n",
    "        else:\n",
    "            sum = prefix[j] - prefix[i]\n",
    "            \n",
    "        if sum == K:\n",
    "            return (i+1, j)\n",
    "        elif sum < K:\n",
    "            j += 1\n",
    "        else:\n",
    "            i += 1\n",
    "            \n",
    "A = [1,3,15,10,20,23,3]\n",
    "K = 48\n",
    "print(subarray_sum(A, K))\n",
    "\n",
    "K = 15\n",
    "print(subarray_sum(A, K))\n",
    "\n",
    "K = -3\n",
    "print(subarray_sum(A, K))\n",
    "\n",
    "K = 53\n",
    "print(subarray_sum(A, K))\n",
    "\n",
    "K = 530\n",
    "print(subarray_sum(A, K))\n",
    "A = [1,3,15,10,20,23,3]\n",
    "K = 48\n",
    "print(subarray_sum(A, K))\n",
    "\n",
    "K = 15\n",
    "print(subarray_sum(A, K))\n",
    "\n",
    "K = -3\n",
    "print(subarray_sum(A, K))\n",
    "\n",
    "K = 53\n",
    "print(subarray_sum(A, K))\n",
    "\n",
    "K = 530\n",
    "print(subarray_sum(A, K))\n",
    "\n",
    "# Fails\n",
    "A = [-1,-1,1]\n",
    "K = 0\n",
    "print(subarray_sum(A, K))"
   ]
  },
  {
   "cell_type": "markdown",
   "metadata": {},
   "source": [
    "But as we can see, above solution fails (as was the case with previous solution) if negative numbers are present. Because in that case, the prefix arrow will not be sorted. However if the question just asked if there exists a subarray such that sum is equal to K, then in this case we can sort the prefix array (since the array can now contain negative numbers also) and then prove if `prefix[i] + prefix[j] = K`. The `i` and `j` here do not correspond to array index because we did sorting."
   ]
  },
  {
   "cell_type": "markdown",
   "metadata": {},
   "source": [
    "**Q 6:** Given an array of n items, each donating height of wall, if we pick 2 walls and discard others, which two walls will contain the maximum water between them?\n",
    "![diagram](https://i.imgur.com/34WlpjK.png)  \n",
    "**Answer:** Since we have to maximise the water stored, we place the two pointers at the two ends. We move that pointer which has shorter wall."
   ]
  },
  {
   "cell_type": "markdown",
   "metadata": {},
   "source": [
    "**Q 7:** Given a sorted array containing length of a side of rectangle, find the count of all distinct rectangles having area less than `B`. if the array is`[2 3 5]`, and `B = 15`, then all possible rectangles are `(2 x 2, 2 x 3, 2 x 5, 3 x 2, 3 x 3, 5 x 2)`. So the count is 6.  \n",
    "**Answer:** "
   ]
  },
  {
   "cell_type": "code",
   "execution_count": 2,
   "metadata": {},
   "outputs": [
    {
     "name": "stdout",
     "output_type": "stream",
     "text": [
      "6\n"
     ]
    }
   ],
   "source": [
    "def rectangle_count(A, B):\n",
    "    j = len(A) - 1\n",
    "    i = 0\n",
    "    count = 0\n",
    "    \n",
    "    # For each i check how many j contribute to\n",
    "    # correct solution\n",
    "    while(i <= j):\n",
    "        if A[i] * A[j] >= B:\n",
    "            j -= 1\n",
    "        else:\n",
    "            # Multiply by 2 to count both (i,j) and\n",
    "            # (j,i). Subtract one to avoid counting\n",
    "            # (i,i) twice. This counts all the pairs\n",
    "            # between i and j \n",
    "            count += (2*(j - i) + 1)\n",
    "            i += 1\n",
    "\n",
    "    return count\n",
    "\n",
    "print(rectangle_count([2,3,5], 15))"
   ]
  },
  {
   "cell_type": "markdown",
   "metadata": {},
   "source": [
    "**Q 8:** Given a binary array A, find the maximum sequence of continuous 1's that can be formed by replacing at-most `B` zeros. For example if the binary sequence is `[1 1 0 1 1 0 0 1 1 1]` and `B=1`, then we should replace 0 at index 2 to get the longest 1 sequence.  \n",
    "**Answer:** We will make use of two pointers and a count variable which will count the number of bit flips. Starting with both pointers at zero, we increase `j` pointer. Once we get a zero, we increase count. If `count>B` we need to increase `i` till we reduce count by 1."
   ]
  },
  {
   "cell_type": "code",
   "execution_count": 30,
   "metadata": {},
   "outputs": [
    {
     "name": "stdout",
     "output_type": "stream",
     "text": [
      "[0, 1, 2, 3, 4]\n"
     ]
    }
   ],
   "source": [
    "def maxone(A, B):\n",
    "    i = 0\n",
    "    j = 0\n",
    "    count = 0\n",
    "    max_length = -1\n",
    "    answer_i = 0\n",
    "    answer_j = 0\n",
    "\n",
    "    while(j < len(A)):\n",
    "        if A[j] == 0:\n",
    "            count += 1\n",
    "\n",
    "        # Start shrinking from left if\n",
    "        # excess 0s included\n",
    "        while(count > B):\n",
    "            if A[i] == 0:\n",
    "                count -= 1\n",
    "            i += 1\n",
    "\n",
    "        if j-i+1 > max_length:\n",
    "            max_length = j-i+1\n",
    "            answer_j = j\n",
    "            answer_i = i\n",
    "\n",
    "        j += 1\n",
    "\n",
    "    return list(range(answer_i, answer_j + 1))\n",
    "\n",
    "A = [1, 1, 0, 1, 1, 0, 0, 1, 1, 1]\n",
    "B = 1\n",
    "print(maxone(A, B))"
   ]
  },
  {
   "cell_type": "markdown",
   "metadata": {},
   "source": [
    "**Q 9:** Given an array, count the number of subarrays with unique elements. For example, if `A = [1,1,3]`, all the unique subarrays would be `[1], [1], [1,3], [3]`. Therefore count is `3` .  \n",
    "**Answer:** We make use of two pointers and a hashmap. Every iteration we increase `j` and add `A[j]` to the hashmap. Now if we see that `A[j]` was already present in the hashmap, this means that we have found the window with all unique elements. If $n$ elements are present in this window, then number of subarrays possible will be $\\frac{n*(n+1)}{2}$. However, we remove count of all subarrays of length 1. We will be adding this count at the very last.  \n",
    "After this we start shrinking the window from left till we get a window containing all unique elements. Now continue moving `j`. One thing we need to consider is that two subsequent windows may contain common elements. So we need to remove count of these since these will be counted twice."
   ]
  },
  {
   "cell_type": "code",
   "execution_count": 31,
   "metadata": {},
   "outputs": [
    {
     "name": "stdout",
     "output_type": "stream",
     "text": [
      "9\n"
     ]
    }
   ],
   "source": [
    "def unique_subarrays(A):\n",
    "    i = 0\n",
    "    j = 0\n",
    "    occurance_map = {}\n",
    "    count = 0\n",
    "\n",
    "    while(i <= j and j < len(A)):\n",
    "        if A[j] in occurance_map:\n",
    "            count += ((j-i)*(j-i+1))//2\n",
    "            # Removing subarrays of length 1\n",
    "            count -= (j-i)\n",
    "\n",
    "            # Shrink window till all elements are unique\n",
    "            while(A[j] in occurance_map):\n",
    "                del occurance_map[A[i]]\n",
    "                i += 1\n",
    "\n",
    "            # Remove all common subarrays' count\n",
    "            # to avoid including twice in count\n",
    "            if i < j:\n",
    "                count -= ((j-i)*(j-i+1))//2\n",
    "                count += (j-i)\n",
    "\n",
    "        occurance_map[A[j]] = True\n",
    "\n",
    "        if j == len(A) - 1:\n",
    "            count += ((j-i+1)*(j-i+2))//2\n",
    "            count -= (j-i+1)\n",
    "\n",
    "        j += 1\n",
    "\n",
    "    return count + len(A)\n",
    "\n",
    "A = [1,1,2,3,2]\n",
    "print(unique_subarrays(A))"
   ]
  },
  {
   "cell_type": "markdown",
   "metadata": {},
   "source": [
    "**Q 10:** Given two sorted arrays return 1 index from both arrays such that they are the closest to each other. In other words find `(l, r)` such that `abs(A[l] - B[r])` is minimum.  \n",
    "**Answer:** We start with two pointers for two arrays, both starting at 0. At each iteration, if we increase the pointer pointing to the larger element, the distance will increase, so we increase the pointer pointing to the smaller element."
   ]
  },
  {
   "cell_type": "code",
   "execution_count": 32,
   "metadata": {},
   "outputs": [],
   "source": [
    "def closest_two_arrays(A, B):\n",
    "    import sys\n",
    "    \n",
    "    i = 0\n",
    "    j = 0\n",
    "    \n",
    "    closest = sys.maxsize\n",
    "    answer = None\n",
    "    \n",
    "    while(i < len(A) and j < len(B)):\n",
    "        if abs(A[i] - B[j]) < closest:\n",
    "            closest = abs(A[i] - B[j])\n",
    "            answer = (i,j)\n",
    "            \n",
    "        if A[i] <= B[j]:\n",
    "            i += 1\n",
    "        else:\n",
    "            j += 1\n",
    "            \n",
    "    return answer"
   ]
  },
  {
   "cell_type": "code",
   "execution_count": null,
   "metadata": {},
   "outputs": [],
   "source": []
  }
 ],
 "metadata": {
  "kernelspec": {
   "display_name": "Python 3",
   "language": "python",
   "name": "python3"
  },
  "language_info": {
   "codemirror_mode": {
    "name": "ipython",
    "version": 3
   },
   "file_extension": ".py",
   "mimetype": "text/x-python",
   "name": "python",
   "nbconvert_exporter": "python",
   "pygments_lexer": "ipython3",
   "version": "3.7.4"
  }
 },
 "nbformat": 4,
 "nbformat_minor": 4
}
