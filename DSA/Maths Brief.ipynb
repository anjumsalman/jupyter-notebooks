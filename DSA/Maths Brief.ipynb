{
 "cells": [
  {
   "cell_type": "markdown",
   "metadata": {},
   "source": [
    "## Maths\n",
    "\n",
    "### Factors\n",
    "Given a number like 24, its factors are 1,2,3,4,6,8,12,24. Any number will always have 1 and the number itself as its factors. We can see that $a \\times b = c$, $a$ and $b$ are factors. Here $1 \\times 24 = 24$, $2 \\times 12 = 24$, $3 \\times 8 = 24$ and $4 \\times 6 = 24$."
   ]
  },
  {
   "cell_type": "code",
   "execution_count": 6,
   "metadata": {},
   "outputs": [
    {
     "name": "stdout",
     "output_type": "stream",
     "text": [
      "[1, 2, 3, 4, 6, 9, 12, 18, 36]\n"
     ]
    }
   ],
   "source": [
    "from math import sqrt\n",
    "def print_factors(input):\n",
    "    factors = []\n",
    "    i = 1\n",
    "    while(i<=int(sqrt(input))):        # no need to iterate from 1 to input/2\n",
    "        if(input%i==0):\n",
    "            factors.append(i)\n",
    "            if(input != i*i):          # because i had already been appended\n",
    "                factors.append(int(input/i))\n",
    "        i+=1\n",
    "    print(sorted(factors))\n",
    "    \n",
    "print_factors(36)"
   ]
  },
  {
   "cell_type": "markdown",
   "metadata": {},
   "source": [
    "### Primes\n",
    "To test whether a number is a prime or not, it is sufficient to show that it has only two factors."
   ]
  },
  {
   "cell_type": "code",
   "execution_count": 9,
   "metadata": {},
   "outputs": [
    {
     "data": {
      "text/plain": [
       "False"
      ]
     },
     "execution_count": 9,
     "metadata": {},
     "output_type": "execute_result"
    }
   ],
   "source": [
    "def is_prime(input):\n",
    "    if input == 1:\n",
    "        return False\n",
    "    \n",
    "    if input == 2:\n",
    "        return True\n",
    "    \n",
    "    i = 2\n",
    "    while(i<=int(sqrt(input))):\n",
    "        if(input%i == 0):\n",
    "            return False\n",
    "        i+=1\n",
    "        \n",
    "    return True\n",
    "\n",
    "is_prime(417)"
   ]
  },
  {
   "cell_type": "markdown",
   "metadata": {},
   "source": [
    "### Sieve of Eratosthenes\n",
    "Algorithm to find primes"
   ]
  },
  {
   "cell_type": "code",
   "execution_count": 19,
   "metadata": {},
   "outputs": [
    {
     "name": "stdout",
     "output_type": "stream",
     "text": [
      "[2, 3, 5, 7, 11, 13, 17, 19, 23, 29, 31, 37, 41, 43, 47]\n"
     ]
    }
   ],
   "source": [
    "def print_primes(limit):\n",
    "    # Create an array of length limit + 1\n",
    "    primes = [True]*(limit+1)\n",
    "    \n",
    "    # 0 and 1 are not primes, so mark them false\n",
    "    primes[0] = False\n",
    "    primes[1] = False\n",
    "    \n",
    "    # Start with 2 since it is marked as true\n",
    "    i = 2\n",
    "    while(i<=sqrt(limit)):    # Need to go only till sqrt of limit\n",
    "        if primes[i] == True:\n",
    "            j = i\n",
    "            while(i*j<=limit):\n",
    "                primes[i*j] = False\n",
    "                j+=1\n",
    "        i+=1\n",
    "    \n",
    "    # Give number to all the primes\n",
    "    i = 0\n",
    "    while(i<len(primes)):\n",
    "        if primes[i] == True:\n",
    "            primes[i] = i\n",
    "        i+=1\n",
    "        \n",
    "    # Filter out all the false    \n",
    "    primes = list(filter(lambda x: x is not False, primes))\n",
    "    print(primes)\n",
    "    \n",
    "print_primes(50)"
   ]
  },
  {
   "cell_type": "code",
   "execution_count": null,
   "metadata": {},
   "outputs": [],
   "source": []
  }
 ],
 "metadata": {
  "kernelspec": {
   "display_name": "Python 3",
   "language": "python",
   "name": "python3"
  },
  "language_info": {
   "codemirror_mode": {
    "name": "ipython",
    "version": 3
   },
   "file_extension": ".py",
   "mimetype": "text/x-python",
   "name": "python",
   "nbconvert_exporter": "python",
   "pygments_lexer": "ipython3",
   "version": "3.7.4"
  }
 },
 "nbformat": 4,
 "nbformat_minor": 4
}
