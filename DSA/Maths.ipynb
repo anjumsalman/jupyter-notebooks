{
 "cells": [
  {
   "cell_type": "markdown",
   "metadata": {},
   "source": [
    "### Greatest Common Divisor\n",
    "Greatest common divisor of two numbers $a$ and $b$ is the greatest number which divides both $a$ and $b$. $a$ and $b$ can be any integer. Some observations:\n",
    "- $gcd(1,a) = 1$\n",
    "- $gcd(0,a) = |a|$\n",
    "- $gcd(0,0)$ is not defined\n",
    "\n",
    "Some more observations:\n",
    "- $gcd(a,b) = gcd(b,a)$, this means that GCD is commutative\n",
    "- $gcd(gcd(a,b),c) = gcd(a,gcd(b,c))$, this means that GCD is associative\n",
    "- $0$ is the identity of GCD because $gcd(a,0) = a$, given that $a \\gt 0$\n",
    "\n",
    "From the above observations, we can conclude that\n",
    "- $min(gcd(a,b)) = 1$\n",
    "- $max(gcd(a,b)) = min(|a|,|b|)$\n",
    "\n",
    "So we can say that $1 \\le gcd(a,b) \\le min(|a|,|b|)$."
   ]
  },
  {
   "cell_type": "markdown",
   "metadata": {},
   "source": [
    "### Calculating GCD\n",
    "Given a set of $n$ numbers how do we compute the GCD? Let us assume that we have a function which calculates GCD of two numbers. Then we can calculate GCD as:"
   ]
  },
  {
   "cell_type": "code",
   "execution_count": 1,
   "metadata": {},
   "outputs": [],
   "source": [
    "def gcd(numbers):\n",
    "    gcd_ = 0 # We pick zero because gcd(0,a) = a\n",
    "    for number in numbers:\n",
    "        gcd_ = gcdTwo(gcd_, number)\n",
    "        \n",
    "    return gcd_\n",
    "\n",
    "# Or define as\n",
    "def gcd(numbers):\n",
    "    gcd_ = numbers[0]\n",
    "    for i in range(1,len(numbers)):\n",
    "        gcd_ = gcdTwo(gcd_, numbers[i])\n",
    "        \n",
    "    return gcd_"
   ]
  },
  {
   "cell_type": "markdown",
   "metadata": {},
   "source": [
    "The main focus now is to calculate GCD of two numbers. We know the range where GCD can lie ($1≤𝑔𝑐𝑑(𝑎,𝑏)≤𝑚𝑖𝑛(|𝑎|,|𝑏|)$). So we can use brute force approach. We start from the range and divide both numbers. We stop when we can't divide both numbers."
   ]
  },
  {
   "cell_type": "code",
   "execution_count": 35,
   "metadata": {},
   "outputs": [],
   "source": [
    "def gcdTwo(a, b):\n",
    "    if(a == 0 and b== 0):\n",
    "        print('GCD not defined')\n",
    "    elif(a == 0 or b == 0):\n",
    "        return max(abs(a), abs(b))\n",
    "    else:\n",
    "        gcd = 1\n",
    "        for i in range(1, min(abs(a),abs(b))+1):\n",
    "            if(a%i == 0 and b%i == 0):\n",
    "                gcd = i\n",
    "        return gcd"
   ]
  },
  {
   "cell_type": "code",
   "execution_count": 37,
   "metadata": {},
   "outputs": [
    {
     "name": "stdout",
     "output_type": "stream",
     "text": [
      "4\n",
      "4\n",
      "4\n",
      "12\n",
      "1\n",
      "4\n"
     ]
    }
   ],
   "source": [
    "print(gcdTwo(4,12))\n",
    "print(gcdTwo(-4,12))\n",
    "print(gcdTwo(-4,-12))\n",
    "print(gcdTwo(0,-12))\n",
    "print(gcdTwo(1,-12))\n",
    "print(gcdTwo(4,4))"
   ]
  },
  {
   "cell_type": "code",
   "execution_count": 1,
   "metadata": {},
   "outputs": [],
   "source": [
    "# Better to loop from max value to min value\n",
    "def gcdTwo(a, b):\n",
    "    if(a == 0 and b== 0):\n",
    "        print('GCD not defined')\n",
    "    elif(a == 0 or b == 0):\n",
    "        return max(abs(a), abs(b))\n",
    "    else:\n",
    "        for i in reversed(range(1, min(abs(a),abs(b))+1)):\n",
    "            if(a%i == 0 and b%i == 0):\n",
    "                return i"
   ]
  },
  {
   "cell_type": "code",
   "execution_count": 26,
   "metadata": {},
   "outputs": [
    {
     "name": "stdout",
     "output_type": "stream",
     "text": [
      "4\n",
      "4\n",
      "4\n",
      "12\n",
      "1\n"
     ]
    }
   ],
   "source": [
    "print(gcdTwo(4,12))\n",
    "print(gcdTwo(-4,12))\n",
    "print(gcdTwo(-4,-12))\n",
    "print(gcdTwo(0,-12))\n",
    "print(gcdTwo(1,-12))"
   ]
  },
  {
   "cell_type": "markdown",
   "metadata": {},
   "source": [
    "The time complexity of the above algorithm is $O(min(a,b))$. We now look for a better approach.  \n",
    "If we consider $a \\ge b$,  \n",
    "then $$a = b + c$$\n",
    "If $$gcd(a,b) = g$$\n",
    "then $$a|g , b|g\\ and\\ (b+c)|g$$\n",
    "we can also conclude that $$c|g$$\n",
    "and $$gcd(a,b) = gcd(c,b)$$\n",
    "finally $$gcd(a,b) = gcd(a-b, b)$$"
   ]
  },
  {
   "cell_type": "code",
   "execution_count": 33,
   "metadata": {},
   "outputs": [],
   "source": [
    "def gcdTwo(a,b):\n",
    "    if(a == 0 and b== 0):\n",
    "        print('GCD not defined')\n",
    "    elif(a == 0 or b == 0):\n",
    "        return max(abs(a), abs(b))\n",
    "    elif(abs(a)<abs(b)):\n",
    "        return gcdTwo(abs(b),abs(a))\n",
    "    else:\n",
    "        return gcdTwo(abs(a)-abs(b), abs(b))"
   ]
  },
  {
   "cell_type": "code",
   "execution_count": 38,
   "metadata": {},
   "outputs": [
    {
     "name": "stdout",
     "output_type": "stream",
     "text": [
      "4\n",
      "4\n",
      "4\n",
      "12\n",
      "1\n",
      "4\n"
     ]
    }
   ],
   "source": [
    "print(gcdTwo(4,12))\n",
    "print(gcdTwo(-4,12))\n",
    "print(gcdTwo(-4,-12))\n",
    "print(gcdTwo(0,-12))\n",
    "print(gcdTwo(1,-12))\n",
    "print(gcdTwo(4,4))"
   ]
  },
  {
   "cell_type": "markdown",
   "metadata": {},
   "source": [
    "The time complexity of this is $O(a/b)$. This algorithm is actually worse than the previous one. Consider the maximum value of $a/b$. It is $a$ if $b = 1$. So, we can say that time complexity is actually $O(max(a,b))$ in worst case."
   ]
  },
  {
   "cell_type": "markdown",
   "metadata": {},
   "source": [
    "In the above approach, we constantly subtract $b$ from $a$, till $a$ is just larger than or equal to a. To illustrate this, \n",
    "$$a = a - b$$\n",
    "$$a = a -2b$$\n",
    "$$\\vdots$$\n",
    "$$a = a -kb$$\n",
    "So instead of subtracting $k$ times, we can modulo divide $a$ with $b$ once to reach the same point."
   ]
  },
  {
   "cell_type": "code",
   "execution_count": 1,
   "metadata": {},
   "outputs": [],
   "source": [
    "def gcdTwo(a,b):\n",
    "    if(a == 0 and b== 0):\n",
    "        print('GCD not defined')\n",
    "    elif(b == 0):\n",
    "        return a\n",
    "    else:\n",
    "        return gcdTwo(abs(b), abs(a)%abs(b))"
   ]
  },
  {
   "cell_type": "code",
   "execution_count": 9,
   "metadata": {},
   "outputs": [
    {
     "name": "stdout",
     "output_type": "stream",
     "text": [
      "4\n",
      "4\n",
      "4\n",
      "12\n",
      "1\n",
      "4\n"
     ]
    }
   ],
   "source": [
    "print(gcdTwo(4,12))\n",
    "print(gcdTwo(-4,12))\n",
    "print(gcdTwo(-4,-12))\n",
    "print(gcdTwo(0,-12))\n",
    "print(gcdTwo(1,-12))\n",
    "print(gcdTwo(4,4))"
   ]
  },
  {
   "cell_type": "markdown",
   "metadata": {},
   "source": [
    "We can combine all into the below equation, since $a%b = a$ if $a<b$"
   ]
  },
  {
   "cell_type": "code",
   "execution_count": 51,
   "metadata": {},
   "outputs": [],
   "source": [
    "def gcdTwo(a,b):\n",
    "    if(a == 0 and b== 0):\n",
    "        print('GCD not defined')\n",
    "    elif(a == 0 or b==0):  # Or b == 0, return a\n",
    "        return max(abs(a), abs(b))\n",
    "    else:\n",
    "        return gcdTwo(abs(b), abs(a)%abs(b))"
   ]
  },
  {
   "cell_type": "code",
   "execution_count": 52,
   "metadata": {},
   "outputs": [
    {
     "name": "stdout",
     "output_type": "stream",
     "text": [
      "4\n",
      "4\n",
      "4\n",
      "12\n",
      "1\n",
      "4\n"
     ]
    }
   ],
   "source": [
    "print(gcdTwo(4,12))\n",
    "print(gcdTwo(-4,12))\n",
    "print(gcdTwo(-4,-12))\n",
    "print(gcdTwo(0,-12))\n",
    "print(gcdTwo(1,-12))\n",
    "print(gcdTwo(4,4))"
   ]
  },
  {
   "cell_type": "markdown",
   "metadata": {},
   "source": [
    "The same can be written as a while loop"
   ]
  },
  {
   "cell_type": "code",
   "execution_count": 57,
   "metadata": {},
   "outputs": [],
   "source": [
    "def gcdTwo(a,b):\n",
    "    if(a == 0 and b== 0):\n",
    "        print('GCD not defined')\n",
    "    else:\n",
    "        while(b!=0):\n",
    "            a, b = abs(b), abs(a)%abs(b)\n",
    "        return a"
   ]
  },
  {
   "cell_type": "code",
   "execution_count": 58,
   "metadata": {},
   "outputs": [
    {
     "name": "stdout",
     "output_type": "stream",
     "text": [
      "4\n",
      "4\n",
      "4\n",
      "12\n",
      "1\n",
      "4\n"
     ]
    }
   ],
   "source": [
    "print(gcdTwo(4,12))\n",
    "print(gcdTwo(-4,12))\n",
    "print(gcdTwo(-4,-12))\n",
    "print(gcdTwo(0,-12))\n",
    "print(gcdTwo(1,-12))\n",
    "print(gcdTwo(4,4))"
   ]
  },
  {
   "cell_type": "markdown",
   "metadata": {},
   "source": [
    "The time complexity of the above approach is $O(log(max(a,b))$. How?\n",
    "$$gcd(a,b) = gcd(b,a\\%b)$$\n",
    "We claim that,\n",
    "$$a\\%b \\le a/2$$\n",
    "To prove the claim, we consider two cases.  \n",
    "Case 1:$$b<a/2$$\n",
    "Whenever we do $A/B$, then the remainder $R$ always $R \\in [0,...,B-1]$. This means\n",
    "$$a\\%b<b$$\n",
    "So, $$a\\%b<a/2$$\n",
    "Case 2: $$b\\ge a/2$$\n",
    "Here $$(a/2)\\le b \\le a$$\n",
    "$$a\\%b = a-b$$\n",
    "So, $$a\\%b \\le a/2$$ in both cases.  \n",
    "\n",
    "Now to get the complexity,\n",
    "$$gcd(a,b)\\rightarrow gcd(b,a\\%b)$$\n",
    "Then, $$gcd(b,a\\%b)\\rightarrow gcd(a\\%b,b\\%(a\\%b))$$  \n",
    "Each iteration $a\\rightarrow a/2\\rightarrow a/4...$"
   ]
  },
  {
   "cell_type": "markdown",
   "metadata": {},
   "source": [
    "### Some Problems:\n",
    "**Q 1:** Find GCD of an array containing factorials. For example, find gcd of array `a = [2!, 4!, 3!, 9!]`  \n",
    "**Answer:** GCD is `min(A)`  \n",
    "\n"
   ]
  },
  {
   "cell_type": "markdown",
   "metadata": {},
   "source": [
    "**Q 2:** Delete an element from array `a` such that the GCD is maximised. For example, `a = [12, 15, 18]`, GCD is 3. If we delete 12, GCD is still 3. If we delete 15, GCD is 6. If we delete 18, GCD is 3. So we delete 15.  \n",
    "**Answer:** The brute force way is to delete elements one by one and calculate the GCD of the remaining elements. This implementation has time complexity of $O(n^2log(max(A)))$. $nlogn$ is two find the GCD of the remaining array each time.  \n",
    "\n",
    "A better approach is two use pre and post GCD arrays which are precomputed. The preGCD array `preGCD = [12, 3, 3]`. PostGCD array will be `postGCD = [3, 3, 18]`. With this in mind we can generalise removal of element and resulting GCD as `GCD(array after remaining ith element) = gcd(preGCD[i-1], postGCD[i+1])`. The time complexity of constructing pre and post GCD array is $O(nlog(max(A))$. Iterating over the elements of array and then computing GCD after removal will be $O(nlog(max(A))$. So the total time complexity would be $O(nlog(max(A))$  \n",
    "\n",
    "![Remove ith](https://i.imgur.com/NSlUNXx.png)"
   ]
  },
  {
   "cell_type": "markdown",
   "metadata": {},
   "source": [
    "**Q 3:** A 2d matrix starts at $(1,1)$ and the last cell is $(m,n)$. Given that if you are at a position $(x,y)$ you can either move to $(x,x+y)$ or $(x+y,y)$. Find the shortest path from start to end.  \n",
    "\n",
    "![Movement](https://i.imgur.com/UpImGqq.png)\n",
    "\n",
    "**Answer:** Let us suppose we start from $(m,n)$. We would have reached this point from a point $(x,y)$, such that\n",
    "Either, $$(x, x+y) = (m,n)$$\n",
    "or, $$(x+y, y) = (m,n)$$\n",
    "\n",
    "From case 1, $x = m$ and $y = n-m$. If $n<m$, we can eliminate this possibility.  \n",
    "Similarly for case 2,  $y = n$ and $x = m-n$. If $n>m$, we can eliminate this possibility. \n",
    "Therefore for every $(x,y)$, there is only one possibility where they could have come from. In general we can say that, to reach $(m,n)$ we would have come from\n",
    "$$(min(m,n), max(m,n) - min(m,n))$$.\n",
    "\n",
    "One thing to note is that we can reach $(m,n)$ only if $gcd(m,n)=1$. There is only one path possible. If $gcd(m,n)=g$, this means that we will be stuck at $(g,g)$. Time complexity is $O(max(m,n))$"
   ]
  },
  {
   "cell_type": "markdown",
   "metadata": {},
   "source": [
    "**Q 4** Given an array of integers $A$ of size $N$ containing GCD of every possible pair of elements of another array. Find and return the original numbers which are used to calculate the GCD array in any order. For example, if original numbers are `[2, 8, 10]` then the given array will be `[2, 2, 2, 2, 8, 2, 2, 2, 10]` .  \n",
    "**Answer** In the above question, $(i,i)$ is a valid pair. Also, $(i,j)$ and $(j,i)$ are distinct pairs. Now one observation we can make is that the original number array will have $\\sqrt{N}$ items. The approach is:  \n",
    "1. Sort the GCD array in descending order, the max number must be one of the original numbers. Add it to the original numbers array.\n",
    "2. Now form all the pairs from the original numbers array and remove the GCDs from the GCD list.\n",
    "3. Repeat\n",
    "\n",
    "One think we should make sure is to not repeat the same pair twice"
   ]
  },
  {
   "cell_type": "code",
   "execution_count": 18,
   "metadata": {},
   "outputs": [
    {
     "name": "stdout",
     "output_type": "stream",
     "text": [
      "[15, 5, 5]\n"
     ]
    }
   ],
   "source": [
    "from math import gcd\n",
    "\n",
    "\n",
    "def all_gcd_pairs(A):\n",
    "    A = list(reversed(sorted(A)))\n",
    "\n",
    "    result = []\n",
    "    j = 0\n",
    "    while len(A) > 0:\n",
    "        # Pick max, add it to result\n",
    "        result.append(A[0])\n",
    "\n",
    "        # Remove all gcd pairs\n",
    "        i = 0\n",
    "        while j >= i:\n",
    "            g = gcd(result[i], result[j])\n",
    "\n",
    "            loc = -1\n",
    "            try:\n",
    "                loc = A.index(g)\n",
    "            except Exception:\n",
    "                pass\n",
    "\n",
    "            if i == j:\n",
    "                if loc >= 0:\n",
    "                    A.pop(A.index(g))\n",
    "            else:\n",
    "                if loc >= 0:\n",
    "                    A.pop(A.index(g))\n",
    "                    A.pop(A.index(g))\n",
    "            i += 1\n",
    "        j += 1\n",
    "\n",
    "    return result\n",
    "\n",
    "gcd_pairs = [5,5,5,15,5,5,5,5,5]\n",
    "print(all_gcd_pairs(gcd_pairs))"
   ]
  },
  {
   "cell_type": "markdown",
   "metadata": {},
   "source": [
    "### Factorization\n",
    "A *factor* of a number $k$ is a number which divides $k$. Given a particular $N$, how can we find all the factors of $N$? A naive approach is to start to iterate from $1\\ to\\ N$. Optimising it further, we can reduce the limit to $1\\ to\\ N/2$. This is still not completely optimal. For example, let us take a number $42$.  \n",
    "\n",
    "$$1\\times 42 = 42$$\n",
    "$$2\\times 21 = 42$$\n",
    "$$3\\times 7 = 42$$\n",
    "$$7\\times 3 = 42$$\n",
    "$$21\\times 2 = 42$$\n",
    "$$42\\times 1 = 42$$\n",
    "\n",
    "We see that the factors always come in pairs, except if the number is a prefect square. So the required range is $1\\ to\\ \\sqrt{N}$. "
   ]
  },
  {
   "cell_type": "code",
   "execution_count": 62,
   "metadata": {},
   "outputs": [],
   "source": [
    "def factors(N):\n",
    "    f = []\n",
    "    i = 1\n",
    "    while(i*i<N):\n",
    "        if(N%i == 0):\n",
    "            f.append(i)\n",
    "            f.append(N//i)\n",
    "        i+=1\n",
    "    \n",
    "    if(i*i == N):\n",
    "        f.append(i)\n",
    "    \n",
    "    return f"
   ]
  },
  {
   "cell_type": "code",
   "execution_count": 64,
   "metadata": {},
   "outputs": [
    {
     "name": "stdout",
     "output_type": "stream",
     "text": [
      "[1, 38, 2, 19]\n",
      "[1, 36, 2, 18, 3, 12, 4, 9, 6]\n",
      "[1]\n"
     ]
    }
   ],
   "source": [
    "print(factors(38))\n",
    "print(factors(36))\n",
    "print(factors(1))"
   ]
  },
  {
   "cell_type": "markdown",
   "metadata": {},
   "source": [
    "The time complexity of this algorithm is $O(\\sqrt{n})$. From the count of factors we can say that, if\n",
    "- number of factors = odd, the number is perfect square\n",
    "- number of factors = even, the number is not perfect square"
   ]
  },
  {
   "cell_type": "markdown",
   "metadata": {},
   "source": [
    "### Prime Numbers\n",
    "A prime is a number which has exactly two distinct factors. How to check if a number $N$ is prime? We can try to find all its factors. If the count is equal to 2, it is a prime. This method has time complexity $O(\\sqrt{N})$."
   ]
  },
  {
   "cell_type": "code",
   "execution_count": 73,
   "metadata": {},
   "outputs": [],
   "source": [
    "def is_prime(N):\n",
    "    if(N == 1):\n",
    "        return False\n",
    "    \n",
    "    i = 2\n",
    "    while(i*i<=N):\n",
    "        if(N%i == 0):\n",
    "            return False\n",
    "        i+=1\n",
    "    return True"
   ]
  },
  {
   "cell_type": "code",
   "execution_count": 74,
   "metadata": {},
   "outputs": [
    {
     "name": "stdout",
     "output_type": "stream",
     "text": [
      "True\n",
      "False\n",
      "False\n"
     ]
    }
   ],
   "source": [
    "print(is_prime(727))\n",
    "print(is_prime(371))\n",
    "print(is_prime(1))"
   ]
  },
  {
   "cell_type": "markdown",
   "metadata": {},
   "source": [
    "### Finding All Primes\n",
    "To find all numbers till $N$ which are prime, we can use the above function."
   ]
  },
  {
   "cell_type": "code",
   "execution_count": 79,
   "metadata": {},
   "outputs": [
    {
     "name": "stdout",
     "output_type": "stream",
     "text": [
      "2\t3\t5\t7\t11\t13\t17\t19\t23\t29\t31\t37\t41\t43\t47\t53\t59\t61\t67\t71\t73\t79\t83\t89\t97\t"
     ]
    }
   ],
   "source": [
    "def print_primes(N):\n",
    "    for i in range(2,N+1):\n",
    "        if is_prime(i):\n",
    "            print(i, end='\\t')\n",
    "\n",
    "print_primes(100)"
   ]
  },
  {
   "cell_type": "markdown",
   "metadata": {},
   "source": [
    "The time complexity of the above approach is $O(n\\sqrt{n})$."
   ]
  },
  {
   "cell_type": "markdown",
   "metadata": {},
   "source": [
    "One optimisation we can do to this is that in `is_prime` function, instead of trying to divide with every number from $1\\ to\\ \\sqrt{i}$, we try to divide with every prime in that range. To find the time complexity of this approach, we need to know about the next approximation. Given a number $N$, number of primes till that number is $\\frac{N}{logN}$. The time complexity using this approach is $O(\\frac{N\\sqrt{N}}{logN})$."
   ]
  },
  {
   "cell_type": "markdown",
   "metadata": {},
   "source": [
    "**Sieve of Eratosthenes** is an efficient way to find all the primes till a given number $N$.  \n",
    "\n",
    "![Sieve](https://i.imgur.com/jBnuuUq.png)"
   ]
  },
  {
   "cell_type": "code",
   "execution_count": 81,
   "metadata": {},
   "outputs": [
    {
     "name": "stdout",
     "output_type": "stream",
     "text": [
      "2\t3\t5\t7\t11\t13\t17\t19\t23\t29\t31\t37\t41\t43\t47\t53\t59\t61\t67\t71\t73\t79\t83\t89\t97\t"
     ]
    }
   ],
   "source": [
    "def print_primes(N):\n",
    "    primes = [True] * (N+1)\n",
    "    \n",
    "    primes[0] = False\n",
    "    primes[1] = False\n",
    "    \n",
    "    i = 2\n",
    "    while(i*i<=N):\n",
    "        if primes[i] == True:\n",
    "            j = i\n",
    "            while(i*j<=N):\n",
    "                primes[i*j] = False\n",
    "                j+=1\n",
    "        i+=1\n",
    "    \n",
    "    for i in range(len(primes)):\n",
    "        if primes[i]:\n",
    "            print(i, end='\\t')\n",
    "        \n",
    "print_primes(100)"
   ]
  },
  {
   "cell_type": "markdown",
   "metadata": {},
   "source": [
    "To find the time complexity of the above algorithm, we make the following observations. Number of iterations in each case is listed.  \n",
    "\n",
    "$$1\\rightarrow O(1)$$\n",
    "$$2\\rightarrow n/2$$\n",
    "$$3\\rightarrow n/3$$\n",
    "$$4\\rightarrow O(1)$$\n",
    "$$\\vdots$$\n",
    "$$\\sqrt{N}\\rightarrow O(1)$$\n",
    "\n",
    "Total time taken = $O(1)*n + (n/2) + (n/3) + (n/5) + \\dots + (n/f)$ where $f$ is the last prime till sqrt of $N$. Let total time be $t$.  \n",
    "\n",
    "$$t = O(1)*n + [(n/2) + (n/3) + (n/5) + \\dots + (n/f)]$$\n",
    "$$t \\le O(1)*n + [(n/1) + (n/2) + (n/3) + (n/4) + (n/5) + \\dots + (n/f)]$$\n",
    "Sum of a harmonic series can be approximated as\n",
    "$$S_n \\approx log(n)$$\n",
    "So, we can write the sum as\n",
    "$$t \\le O(1)*n + n[log\\sqrt{n}]$$\n",
    "$$t \\le O(1)*n + (n/2)[log{n}]$$\n",
    "\n",
    "The summation, $\\sum_{p=2}^{\\sqrt{n}}\\frac{1}{p}$ is given by Merten's theorem. Ans is equal to $log(log(n))$. So, finally the time complexity is $O(nlog(log(n)))$.  "
   ]
  },
  {
   "cell_type": "markdown",
   "metadata": {},
   "source": [
    "### Prime Factorization\n",
    "We represent prime factorization as $pF(18) = \\{(2,1),\\ (3,2)\\}$. To find prime factorization of a given number we can first find all primes equal to or less than that number using sieve method. Then we can divide the number with the primes to find the prime factorization. The time complexity would be $O(Nlog(log(N)))$.  \n",
    "A better approach is to just divide by numbers from $2\\ to\\ \\sqrt{N}$"
   ]
  },
  {
   "cell_type": "code",
   "execution_count": 3,
   "metadata": {},
   "outputs": [
    {
     "name": "stdout",
     "output_type": "stream",
     "text": [
      "[(2, 3), (3, 1)]\n",
      "[(53, 1)]\n"
     ]
    }
   ],
   "source": [
    "def prime_factorization(N):\n",
    "    prime_factors = []\n",
    "    i = 2\n",
    "    while(i*i<=N):\n",
    "        count = 0\n",
    "        while(N%i == 0):\n",
    "            count += 1\n",
    "            N = N//i\n",
    "        if count > 0:\n",
    "            prime_factors.append((i, count))\n",
    "        i+=1\n",
    "        \n",
    "    if N != 1: # Case of primes\n",
    "        prime_factors.append((N, 1))\n",
    "    return prime_factors\n",
    "        \n",
    "print(prime_factorization(24))\n",
    "print(prime_factorization(53))"
   ]
  },
  {
   "cell_type": "code",
   "execution_count": 5,
   "metadata": {},
   "outputs": [
    {
     "name": "stdout",
     "output_type": "stream",
     "text": [
      "[(2, 1), (3, 2)]\n",
      "[(53, 1)]\n"
     ]
    }
   ],
   "source": [
    "def prime_factorization(N):\n",
    "    prime_factors = []\n",
    "    prime = 2\n",
    "    added = False\n",
    "    while N > 1:\n",
    "        if N % prime == 0:\n",
    "            prime_factors.append(prime)\n",
    "            N //= prime\n",
    "        else:\n",
    "            prime += 1\n",
    "    \n",
    "    factors = []\n",
    "    p = prime_factors[0]\n",
    "    c = 1\n",
    "    for i in range(1, len(prime_factors)):\n",
    "        if prime_factors[i] == p:\n",
    "            c += 1\n",
    "        else:\n",
    "            factors.append((p, c))\n",
    "            p = prime_factors[i]\n",
    "            c = 1\n",
    "    \n",
    "    factors.append((p, c))    \n",
    "    return factors\n",
    "        \n",
    "print(prime_factorization(18))\n",
    "print(prime_factorization(53))"
   ]
  },
  {
   "cell_type": "markdown",
   "metadata": {},
   "source": [
    "What if we want to generate prime factorization of a lot of numbers repeatedly? In such a case we make use of sieve. Instead of marking elements of the sieve array as True or False, we store the first prime divisor of that number."
   ]
  },
  {
   "cell_type": "code",
   "execution_count": 89,
   "metadata": {},
   "outputs": [],
   "source": [
    "def lowest_prime_divisors(N):\n",
    "    lowest = [1]*(N+1)\n",
    "    i = 2\n",
    "    while(i*i<=N):\n",
    "        if lowest[i] == 1:\n",
    "            lowest[i] = i\n",
    "            j = i\n",
    "            while(j*i<=N):\n",
    "                if lowest[j*i] == 1:\n",
    "                    lowest[j*i] = i\n",
    "                j+=1\n",
    "        i+=1\n",
    "        \n",
    "    # Prime numbers above root(N)\n",
    "    for i in range(2,N+1):\n",
    "        if lowest[i] == 1:\n",
    "            lowest[i] = i\n",
    "    return lowest"
   ]
  },
  {
   "cell_type": "code",
   "execution_count": 90,
   "metadata": {},
   "outputs": [
    {
     "name": "stdout",
     "output_type": "stream",
     "text": [
      "[(2, 1), (3, 2)]\n"
     ]
    }
   ],
   "source": [
    "def prime_factorization(N):\n",
    "    lowest = lowest_prime_divisors(N)\n",
    "    \n",
    "    prime_factors = []\n",
    "    \n",
    "    while(N != 1):\n",
    "        prime = lowest[N]\n",
    "        count = 0\n",
    "        while(N % prime == 0):\n",
    "            count += 1\n",
    "            N //= prime\n",
    "        prime_factors.append((prime, count))\n",
    "    \n",
    "    return prime_factors\n",
    "\n",
    "print(prime_factorization(18))"
   ]
  },
  {
   "cell_type": "markdown",
   "metadata": {},
   "source": [
    "If we know the prime factorization of a number, we can find the count of its divisors  \n",
    "$$N = p_{1}^{a} \\times p_{2}^{b} \\times p_{3}^{c} \\times ... \\times p_{n}^{x}$$\n",
    "Then the count of divisors is:\n",
    "$$c = (a+1)(b+1)(c+1)...(x+1)$$\n",
    "\n",
    "As an example, $8=2^3$, therefore count of divisors for 8 is $=(3+1)=4$."
   ]
  },
  {
   "cell_type": "markdown",
   "metadata": {},
   "source": [
    "**Q 1** A lucky number is a number which has exactly 2 distinct prime divisors. Given a number $A$, determine the count of lucky numbers between the range 1 to $A$ (both inclusive).  \n",
    "**Answer** "
   ]
  },
  {
   "cell_type": "code",
   "execution_count": 4,
   "metadata": {},
   "outputs": [
    {
     "name": "stdout",
     "output_type": "stream",
     "text": [
      "6\n"
     ]
    }
   ],
   "source": [
    "def lucky_number(A):\n",
    "    array = [1]*(A+1)\n",
    "\n",
    "    i = 2\n",
    "    # 2*i and not i*i because we want\n",
    "    # multiples of primes above root(n)\n",
    "    while(2*i <= A):\n",
    "        if array[i] == 1:\n",
    "            j = 2\n",
    "            while(i*j <= A):\n",
    "                array[i*j] += 1\n",
    "                j += 1\n",
    "        i += 1\n",
    "\n",
    "    count = 0\n",
    "    for i in range(6, A + 1):\n",
    "        if array[i] == 3:\n",
    "            count += 1\n",
    "\n",
    "    return count\n",
    "\n",
    "\n",
    "print(lucky_number(18))"
   ]
  },
  {
   "cell_type": "markdown",
   "metadata": {},
   "source": [
    "**Q 2** Given an even number $A$ ( greater than 2 ), return two prime numbers whose sum will be equal to given number. If there are more than one solutions possible, return the lexicographically smaller solution. The solution will always exist as per Goldbach's Conjecture.  \n",
    "**Answer:** Given the number construct sieve to get all primes till $A$. Start with the lowest prime $p$. If $A-p$ is also prime, return $(p, A-p)$"
   ]
  },
  {
   "cell_type": "markdown",
   "metadata": {},
   "source": [
    "**Q 3** Return the number of trailing zeroes in a factorial.  \n",
    "**Answer** Trailing zero is always caused by presence of $(2,5)$ pair in prime factorization. Also the number of two will always be greater than the number of fives. So if we count the power of 5 in prime factorization of factorial, we have the answer. That can be found by:  \n",
    "$$ = \\lfloor \\frac{N}{5} \\rfloor + \\lfloor \\frac{N}{25} \\rfloor + \\lfloor \\frac{N}{625} \\rfloor + ...$$  \n",
    "\n",
    "Till 24, all numbers in $N!$ will have 0 or 1 5, from 25 to 624 all numbers in $N!$ will have 0, 1 or 2 5s, etc."
   ]
  },
  {
   "cell_type": "markdown",
   "metadata": {},
   "source": [
    "**Q 5** Given a number $A$, find the $A$th magic number. Magic number is a number made by summing unique powers of 5. The series of magic numbers looks like `5, 25, 30, 125, 130, ...`  \n",
    "**Answer** Magic numbers are $5^1$, $5^2$, $5^2 + 5^1$, $5^3$, $5^3 + 5^1$, $5^3 + 5^2$, $5^3 + 5^2 + 5^1$, ... If we observe the binary equivalent of numbers $1 \\equiv 1$, $2 \\equiv 10$, $3 \\equiv 11$, $4 \\equiv 100$, etc. We can now see a relation between the binary equivalent and magic number"
   ]
  },
  {
   "cell_type": "code",
   "execution_count": 20,
   "metadata": {},
   "outputs": [
    {
     "name": "stdout",
     "output_type": "stream",
     "text": [
      "650\n"
     ]
    }
   ],
   "source": [
    "def magic_number(A):\n",
    "    # Convert A to its binary equivalent\n",
    "    bin = ''\n",
    "    while A > 0:\n",
    "        bin = str(A % 2) + bin\n",
    "        A //= 2\n",
    "\n",
    "    # Now iterate over the binary number and\n",
    "    # form the magic number\n",
    "    answer = 0\n",
    "    for i in range(len(bin)):\n",
    "        answer += int(bin[i])*int(5**(len(bin) - i))\n",
    "\n",
    "    return answer\n",
    "\n",
    "\n",
    "print(magic_number(10))"
   ]
  },
  {
   "cell_type": "markdown",
   "metadata": {},
   "source": [
    "**Q 6** Given 2 arrays $A$ and $B$ of size $N$ and $M$ respectively and a number $K$. How many pairs $(A[i], B[j])$, $(1 <= i <= N and 1 <= j <= m)$ exists such that product of them is not CoPrime with $K$.  \n",
    "**Answer** In each array we have to find the numbers which are CoPrime with $K$. Total pairs not coprime = total pairs - total pairs coprime"
   ]
  },
  {
   "cell_type": "code",
   "execution_count": 21,
   "metadata": {},
   "outputs": [
    {
     "name": "stdout",
     "output_type": "stream",
     "text": [
      "6\n"
     ]
    }
   ],
   "source": [
    "def pairs(A, B, K):\n",
    "    c1 = 0\n",
    "    for a in A:\n",
    "        if gcd(a, K) == 1:\n",
    "            c1 += 1\n",
    "\n",
    "    c2 = 0\n",
    "    for b in B:\n",
    "        if gcd(b, K) == 1:\n",
    "            c2 += 1\n",
    "\n",
    "    return len(A)*len(B) - c1*c2\n",
    "\n",
    "A = [1, 2, 3]\n",
    "B = [2, 3, 4, 5] \n",
    "K = 3\n",
    "print(pairs(A,B,K))"
   ]
  },
  {
   "cell_type": "markdown",
   "metadata": {},
   "source": [
    "### Modulo Arithmetic\n",
    "The statement $A\\%B\\ =\\ R$ means that $R$ is the remainder when we try to divide $A$ with $B$. The inequality $1\\le R \\lt B$ always holds true. Some results:\n",
    "- $0 \\% B = 0$\n",
    "- $1 \\% B = 1$ if $B\\gt 0$\n",
    "- $A \\% B = A$ if $A\\lt B$ and $A\\ge0$\n",
    "\n",
    "To find modulo of a negative number with another number, do as follows. For example: $-5\\%3$\n",
    "- Step 1: $5\\%3\\ =\\ 2$\n",
    "- Step 2: Negate it, $-2$\n",
    "- Step 3: Add divisor, $-2 + 3 = 1$\n",
    "\n",
    "We must be aware that not all languages give the same modulo result when negative numbers are involved"
   ]
  },
  {
   "cell_type": "markdown",
   "metadata": {},
   "source": [
    "|  Language   | 13 mod 3  | -13 mod 3  | 13 mod -3  | -13 mod -3    |\n",
    "|:-----------:|:---------:|:----------:|:----------:|:-------------:|\n",
    "| C           |     1     |     -1     |     1      |      -1       |\n",
    "| Go          |     1     |     -1     |     1      |      -1       |\n",
    "| PHP         |     1     |     -1     |     1      |      -1       |\n",
    "| Rust        |     1     |     -1     |     1      |      -1       |\n",
    "| Scala       |     1     |     -1     |     1      |      -1       |\n",
    "| Java        |     1     |     -1     |     1      |      -1       |\n",
    "| Javascript  |     1     |     -1     |     1      |      -1       |\n",
    "| Ruby        |     1     |     2      |     -2     |      -1       |\n",
    "| Python      |     1     |     2      |     -2     |     -1        |"
   ]
  },
  {
   "cell_type": "markdown",
   "metadata": {},
   "source": [
    "\n",
    "Some properties of modulo:\n",
    "- $(A + B)\\%C\\ =\\ (A\\%C\\ +\\ B\\%C)\\%C$\n",
    "- $(A - B)\\%C\\ =\\ (A\\%C\\ -\\ B\\%C +\\ C)\\%C$\n",
    "- $(A * B)\\%C\\ =\\ (A\\%C\\ *\\ B\\%C)\\%C$\n",
    "- The division property is a bit different and involves inverse modulo. $(A\\ /\\ B)\\%C\\ =\\ (A * B^{-1})\\%C\\ =\\ (A\\%C\\ *\\ B^{-1}\\%C)\\%C$\n",
    "- $(A^B)\\%C\\ =\\ ((A\\%C)^B)\\%C$  \n",
    "\n",
    "To find inverse modulo, we make use of Fermat's Little Theorem. More specifically, $A^{P-1}\\%P\\ =\\ 1$, where $P$ is prime and $A$ and $P$ are coprimes. To find $A^{-1}\\%P$, we simply divide both sides in the above equation with $A$.\n",
    "$$A^{P-1}\\%P\\ =\\ 1$$\n",
    "$$A^{P-1}\\%P\\ =\\ 1\\%P$$ \n",
    "$$\\frac{A^{P-1}}{A}\\%P\\ =\\ \\frac{1}{A}\\%P$$  \n",
    "$$A^{-1}\\%P = A^{P-2}\\%P$$  "
   ]
  },
  {
   "cell_type": "markdown",
   "metadata": {},
   "source": [
    "**Congruence:** we often come across the expression $a \\equiv b(mod\\ n)$. This means that $a$ and $b$ give the same remainder when divided by $n$. For example,\n",
    "- $10 \\equiv 14(mod\\ 4)$\n",
    "- $10 \\equiv -2(mod\\ 4)$\n",
    "\n",
    "From this, we can also say that,\n",
    "- $a = kn + b$\n",
    "- $n|(a-b)$"
   ]
  },
  {
   "cell_type": "markdown",
   "metadata": {},
   "source": [
    "**Calculating Modulo of Exponent:** we can employ the following recursive approach:"
   ]
  },
  {
   "cell_type": "code",
   "execution_count": 10,
   "metadata": {},
   "outputs": [
    {
     "name": "stdout",
     "output_type": "stream",
     "text": [
      "1\n"
     ]
    }
   ],
   "source": [
    "def exponent_modulo(A,n,B):\n",
    "    # Few cases, this saves us from recursive calls\n",
    "    if A == 0:\n",
    "        return 0\n",
    "    elif n == 0:\n",
    "        return 1\n",
    "\n",
    "    # Below condition not necessary\n",
    "    if A > B:\n",
    "        K = A % B\n",
    "        return exponent_modulo(K,n,B)\n",
    "    \n",
    "    value = exponent_modulo(A,n//2,B)\n",
    "    if n % 2 == 0:        \n",
    "        return (value * value) % B\n",
    "    else:\n",
    "        return (A * value * value) % B\n",
    "    \n",
    "print(exponent_modulo(345,9,4))"
   ]
  },
  {
   "cell_type": "markdown",
   "metadata": {},
   "source": [
    "The above approach will fail if n is very big. In that case, we'll get maximum recursion depth exceeded error. So we must use an iterative approach."
   ]
  },
  {
   "cell_type": "code",
   "execution_count": 9,
   "metadata": {},
   "outputs": [
    {
     "name": "stdout",
     "output_type": "stream",
     "text": [
      "1\n"
     ]
    }
   ],
   "source": [
    "def exponent_modulo_iterative(A,n,B):\n",
    "    # This case saves us from recursive calls\n",
    "    if A == 0:\n",
    "        return 0\n",
    "\n",
    "    K = A % B\n",
    "    answer = 1\n",
    "\n",
    "    while(n > 0):\n",
    "        if n % 2 == 1:\n",
    "            answer = (answer * K) % B\n",
    "        K = (K * K) % B\n",
    "        n //= 2\n",
    "\n",
    "    return answer\n",
    "\n",
    "print(exponent_modulo_iterative(345,9,4))"
   ]
  },
  {
   "cell_type": "markdown",
   "metadata": {},
   "source": [
    "**Calculating Modulo of Factorial:** we can use the following approach"
   ]
  },
  {
   "cell_type": "code",
   "execution_count": 9,
   "metadata": {},
   "outputs": [],
   "source": [
    "def factorial_modulo(A, B):\n",
    "    if A >= B:\n",
    "        return 0\n",
    "    elif A == 1 or A == 0:\n",
    "        return 1\n",
    "    else:\n",
    "        return ((A % B) * (factorial_modulo(A-1, B))) % B\n",
    "\n",
    "def factorial_modulo_iterative(A, B):\n",
    "    if A >= B:\n",
    "        return 0\n",
    "    elif A == 1 or A == 0:\n",
    "        return 1\n",
    "\n",
    "    answer = 1\n",
    "    while(A > 1):\n",
    "        answer = (answer * (A % B)) % B\n",
    "        A -= 1\n",
    "\n",
    "    return answer"
   ]
  },
  {
   "cell_type": "markdown",
   "metadata": {},
   "source": [
    "**Q 1** Given an integer $A$, convert it into its excel column number representation  \n",
    "**Answer**"
   ]
  },
  {
   "cell_type": "code",
   "execution_count": 13,
   "metadata": {},
   "outputs": [
    {
     "name": "stdout",
     "output_type": "stream",
     "text": [
      "Z\n",
      "AB\n",
      "AZ\n"
     ]
    }
   ],
   "source": [
    "def number_to_excel(A):\n",
    "    excel = ''\n",
    "    while A > 0:\n",
    "        if A % 26 == 0:\n",
    "            excel = 'Z' + excel\n",
    "            A = A//26 - 1\n",
    "        else:\n",
    "            excel = chr(64 + (A % 26)) + excel\n",
    "            A //= 26\n",
    "            \n",
    "    return excel\n",
    "\n",
    "print(number_to_excel(26))\n",
    "print(number_to_excel(28))\n",
    "print(number_to_excel(52))"
   ]
  },
  {
   "cell_type": "markdown",
   "metadata": {},
   "source": [
    "**Q 2** Given an excel representation, return its numeric equivalent  \n",
    "**Answer** We can think of excel as number system base 26"
   ]
  },
  {
   "cell_type": "code",
   "execution_count": 14,
   "metadata": {},
   "outputs": [
    {
     "name": "stdout",
     "output_type": "stream",
     "text": [
      "26\n",
      "28\n",
      "52\n"
     ]
    }
   ],
   "source": [
    "def excel_to_number(excel):\n",
    "    num = 0\n",
    "    \n",
    "    j = 0\n",
    "    for i in reversed(excel):\n",
    "        num += (ord(i) - 64)*(26**j)\n",
    "        j += 1\n",
    "        \n",
    "    return num\n",
    "\n",
    "print(excel_to_number('Z'))\n",
    "print(excel_to_number('AB'))\n",
    "print(excel_to_number('AZ'))"
   ]
  },
  {
   "cell_type": "markdown",
   "metadata": {},
   "source": [
    "**Q 3** Given a $N \\times M$ board, two players divide the board vertically or horizontally taking turn. Once all the divided pieces are $1 \\times 1$ no more turns can be made. Whoever can't make a turn loses. Given the board and player $A$ starts first, return 1 if $A$ wins, else return 0 if $B$ wins.  \n",
    "**Answer** In the given board there would be $NM$ $1 \\times 1$ pieces, hence we would need $NM - 1$ turns."
   ]
  },
  {
   "cell_type": "code",
   "execution_count": 15,
   "metadata": {},
   "outputs": [
    {
     "name": "stdout",
     "output_type": "stream",
     "text": [
      "1\n",
      "1\n",
      "0\n"
     ]
    }
   ],
   "source": [
    "def divide_board(N, M):\n",
    "    # Each player halves the board\n",
    "    return (N*M - 1) % 2\n",
    "\n",
    "print(divide_board(3,2))\n",
    "print(divide_board(4,2))\n",
    "print(divide_board(3,3))"
   ]
  },
  {
   "cell_type": "markdown",
   "metadata": {},
   "source": [
    "**Q 4** Given cities from $1,2,...,N$. Cost of travelling from city $i$ to $j$ is $(i+j)%(N+1)$.If we start at city 1, what is the minimum cost to visit all cities?  \n",
    "**Answer** To get the minimum cost, we travel in this fashion: `1-> N -> 2 -> N-1 -> 3 ->...`. In each case the sum $i+j$ is either $N+1$ or $N+2$. The first one has 0 cost, the second one has 1 cost. We have to find how many times the 1 cost occurs and return the sum"
   ]
  },
  {
   "cell_type": "code",
   "execution_count": 16,
   "metadata": {},
   "outputs": [
    {
     "name": "stdout",
     "output_type": "stream",
     "text": [
      "1\n",
      "2\n"
     ]
    }
   ],
   "source": [
    "def visit_cost(N):\n",
    "    return (N-1)//2\n",
    "\n",
    "print(visit_cost(4))\n",
    "print(visit_cost(5))"
   ]
  },
  {
   "cell_type": "code",
   "execution_count": null,
   "metadata": {},
   "outputs": [],
   "source": []
  }
 ],
 "metadata": {
  "kernelspec": {
   "display_name": "Python 3",
   "language": "python",
   "name": "python3"
  },
  "language_info": {
   "codemirror_mode": {
    "name": "ipython",
    "version": 3
   },
   "file_extension": ".py",
   "mimetype": "text/x-python",
   "name": "python",
   "nbconvert_exporter": "python",
   "pygments_lexer": "ipython3",
   "version": "3.7.4"
  }
 },
 "nbformat": 4,
 "nbformat_minor": 4
}
