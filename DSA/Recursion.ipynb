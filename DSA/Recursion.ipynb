{
 "cells": [
  {
   "cell_type": "markdown",
   "metadata": {},
   "source": [
    "### Recursion\n",
    "Function calling itself is know as recursion. Using recursion to solve a problem is very intuitive, but inefficient. The three cases to keep in mind in recursion:\n",
    "- The base case\n",
    "- The safety case\n",
    "- The recursive step\n",
    "All the three steps are illustrated in the example below"
   ]
  },
  {
   "cell_type": "code",
   "execution_count": 1,
   "metadata": {},
   "outputs": [
    {
     "name": "stdout",
     "output_type": "stream",
     "text": [
      "12\n"
     ]
    }
   ],
   "source": [
    "def add_n_times(a, n):\n",
    "    # The base case\n",
    "    if n == 0:\n",
    "        return 0\n",
    "    # The safety case\n",
    "    elif n < 0:\n",
    "        return add_n_times(-a, n)\n",
    "    # The recursive step\n",
    "    else:\n",
    "        return a + add_n_times(a, n-1)\n",
    "        \n",
    "print(add_n_times(3, 4))"
   ]
  },
  {
   "cell_type": "markdown",
   "metadata": {},
   "source": [
    "There is a simple optimisation that can be done to the above function. It is better to write `add_n_times(5, 1000)` than `add_n_times(1000, 5)`"
   ]
  },
  {
   "cell_type": "code",
   "execution_count": 1,
   "metadata": {},
   "outputs": [],
   "source": [
    "def add_n_times(a, n):\n",
    "    # The base case\n",
    "    if n == 0:\n",
    "        return 0\n",
    "    # Optimisation\n",
    "    elif a < n:\n",
    "        return add_n_times(n, a)\n",
    "    # The safety case\n",
    "    elif n < 0:\n",
    "        return add_n_times(-a, n)\n",
    "    # The recursive step\n",
    "    else:\n",
    "        return a + add_n_times(a, n-1)"
   ]
  },
  {
   "cell_type": "markdown",
   "metadata": {},
   "source": [
    "Another simple usage of recursion is to check whether a string is a palindrome or not."
   ]
  },
  {
   "cell_type": "code",
   "execution_count": 8,
   "metadata": {},
   "outputs": [
    {
     "name": "stdout",
     "output_type": "stream",
     "text": [
      "False\n",
      "True\n",
      "True\n"
     ]
    }
   ],
   "source": [
    "def is_palindrome(A, start, end):\n",
    "    # Odd base case\n",
    "    if start == end:\n",
    "        return True\n",
    "    # Even base case\n",
    "    elif start + 1 == end:\n",
    "        if A[start] == A[end]:\n",
    "            return True\n",
    "        else:\n",
    "            return False\n",
    "    # Recursive step\n",
    "    else:\n",
    "        if A[start] == A[end]:\n",
    "            return is_palindrome(A, start + 1, end - 1)\n",
    "        else:\n",
    "            return False\n",
    "        \n",
    "print(is_palindrome('cat', 0, 2))\n",
    "print(is_palindrome('malayalam', 0, 8))\n",
    "print(is_palindrome('baab', 0, 3))"
   ]
  },
  {
   "cell_type": "markdown",
   "metadata": {},
   "source": [
    "**Q 1:** List all the possible permutations of a string containing all unique characters.  \n",
    "**Answer:** We can think of this rescursively in the following manner: 1) Pick a position 2) Make it the first character 3) Find all the permutations of the remaining (n-1 characters) string."
   ]
  },
  {
   "cell_type": "code",
   "execution_count": 5,
   "metadata": {},
   "outputs": [
    {
     "name": "stdout",
     "output_type": "stream",
     "text": [
      "['abc', 'acb', 'bac', 'bca', 'cab', 'cba']\n"
     ]
    }
   ],
   "source": [
    "def permutations(string):  \n",
    "    # Returns list of permutations of string\n",
    "    def permute(string):\n",
    "        # Base case\n",
    "        if len(string) == 1:\n",
    "            return [string]\n",
    "        \n",
    "        # Recursion step\n",
    "        output = []\n",
    "        for i in range(0, len(string)):\n",
    "            first_character = string[i]\n",
    "            remaining_string = string[:i] + string[i+1:]\n",
    "            temp = permute(remaining_string)\n",
    "            # Add the first character to permutations of\n",
    "            # the remaining string\n",
    "            for t in temp:\n",
    "                a = first_character + t\n",
    "                output.append(a)\n",
    "        return output\n",
    "    return permute(string)\n",
    "\n",
    "print(permutations('abc'))"
   ]
  },
  {
   "cell_type": "markdown",
   "metadata": {},
   "source": [
    "What if we have repeating character? In this case one possible solution is to make use of a set and make a repeating character the first character only once."
   ]
  },
  {
   "cell_type": "code",
   "execution_count": 6,
   "metadata": {},
   "outputs": [
    {
     "name": "stdout",
     "output_type": "stream",
     "text": [
      "['abcb', 'abbc', 'acbb', 'bacb', 'babc', 'bcab', 'bcba', 'bbac', 'bbca', 'cabb', 'cbab', 'cbba']\n"
     ]
    }
   ],
   "source": [
    "def permutations(string):\n",
    "    # Returns list of permutations of string\n",
    "    def permute(string):\n",
    "        # Base case\n",
    "        if len(string) == 1:\n",
    "            return [string]\n",
    "        \n",
    "        # Recursion step\n",
    "        output = []\n",
    "        used = set()\n",
    "        for i in range(0, len(string)):\n",
    "            first_character = string[i]\n",
    "            if first_character in used:\n",
    "                continue\n",
    "            else:\n",
    "                used.add(first_character)\n",
    "            remaining_string = string[:i] + string[i+1:]\n",
    "            temp = permute(remaining_string)\n",
    "            # Add the first character to permutations of\n",
    "            # the remaining string\n",
    "            for t in temp:\n",
    "                a = first_character + t\n",
    "                output.append(a)\n",
    "        return output\n",
    "    return permute(string)\n",
    "\n",
    "print(permutations('abcb'))"
   ]
  },
  {
   "cell_type": "markdown",
   "metadata": {},
   "source": [
    "What if we have an array of numbers, instead of string? Same approach"
   ]
  },
  {
   "cell_type": "code",
   "execution_count": 1,
   "metadata": {},
   "outputs": [
    {
     "name": "stdout",
     "output_type": "stream",
     "text": [
      "[[3, 1, 1], [1, 3, 1], [1, 1, 3]]\n"
     ]
    }
   ],
   "source": [
    "def permute(numbers):\n",
    "    if len(numbers) == 0:\n",
    "        return [numbers]\n",
    "\n",
    "    output = []\n",
    "    used = set()\n",
    "    for i in range(len(numbers)):\n",
    "        first = numbers[i]\n",
    "\n",
    "        if first in used:\n",
    "            continue\n",
    "\n",
    "        temp = []\n",
    "        for j in range(len(numbers)):\n",
    "            if i != j:\n",
    "                temp.append(numbers[j])\n",
    "\n",
    "        permutations = permute(temp)\n",
    "        for p in permutations:\n",
    "            p.append(first)\n",
    "            output.append(p)\n",
    "\n",
    "        used.add(first)\n",
    "\n",
    "    return output\n",
    "\n",
    "\n",
    "print(permute([1, 1, 3]))"
   ]
  },
  {
   "cell_type": "markdown",
   "metadata": {},
   "source": [
    "### Backtracking\n",
    "Whenever we are asked to explore all possibilities, we can make use of backtracking. Backtracking is just an extension of recursion. In backtracking, we\n",
    "1. Make a decision\n",
    "2. Do recursion\n",
    "3. Undo the decision made in step 1.\n",
    "We can solve the above problem using backtracking in the following manner:"
   ]
  },
  {
   "cell_type": "code",
   "execution_count": 7,
   "metadata": {},
   "outputs": [
    {
     "name": "stdout",
     "output_type": "stream",
     "text": [
      "['abc', 'acb', 'bac', 'bca', 'cba', 'cab']\n"
     ]
    }
   ],
   "source": [
    "def permutations(input):\n",
    "    input = [i for i in input]\n",
    "    output = []\n",
    "    def permute(start):\n",
    "        if start == len(input) - 1:\n",
    "            # In every call, we are working on the same array\n",
    "            # so add its copy to the output\n",
    "            output.append(''.join(input.copy()))\n",
    "        # No explicit base case required, this for loop handles\n",
    "        # that itself\n",
    "        for i in range(start, len(input)):\n",
    "            # The decision: swap\n",
    "            input[start], input[i] = input[i], input[start]\n",
    "            permute(start+1)\n",
    "            # Undo the decision, swap back\n",
    "            input[start], input[i] = input[i], input[start]\n",
    "    permute(0)\n",
    "    return output\n",
    "\n",
    "print(permutations('abc'))"
   ]
  },
  {
   "cell_type": "markdown",
   "metadata": {},
   "source": [
    "To account for duplicates, we adopt the following strategy. If the character to be swapped `input[i]` is same as any other character in range `start` to `i`, then we continue."
   ]
  },
  {
   "cell_type": "code",
   "execution_count": 10,
   "metadata": {},
   "outputs": [
    {
     "name": "stdout",
     "output_type": "stream",
     "text": [
      "['abac', 'abca', 'aabc', 'aacb', 'acab', 'acba', 'baac', 'baca', 'bcaa', 'cbaa', 'caba', 'caab']\n"
     ]
    }
   ],
   "source": [
    "def permutations(input):\n",
    "    input = [i for i in input]\n",
    "    output = []\n",
    "    def permute(start):\n",
    "        if start == len(input) - 1:\n",
    "            # In every call, we are working on the same array\n",
    "            # so add its copy to the output\n",
    "            output.append(''.join(input.copy()))\n",
    "        # No explicit base case required, this for loop handles\n",
    "        # that itself\n",
    "        for i in range(start, len(input)):\n",
    "            # Condition to decide whether to swap or not\n",
    "            swap = True\n",
    "            for j in range(start, i):\n",
    "                if input[i] == input[j]:\n",
    "                    swap = False\n",
    "                    break\n",
    "                    \n",
    "            if swap:        \n",
    "                # The decision: swap\n",
    "                input[start], input[i] = input[i], input[start]\n",
    "                permute(start+1)\n",
    "                # Undo the decision, swap back\n",
    "                input[start], input[i] = input[i], input[start]\n",
    "    permute(0)\n",
    "    return output\n",
    "\n",
    "print(permutations('abac'))"
   ]
  },
  {
   "cell_type": "markdown",
   "metadata": {},
   "source": [
    "**Q 2:** Genrate all the subsets of a given set. For example, if the set of numbers is `[1,2,3]`. Return `[],[1],[2],[3],[1,2],[2,3],[1,3],[1,2,3]` .  \n",
    "**Answer:**"
   ]
  },
  {
   "cell_type": "code",
   "execution_count": 11,
   "metadata": {},
   "outputs": [
    {
     "name": "stdout",
     "output_type": "stream",
     "text": [
      "[[], [1], [1, 2], [1, 2, 3], [1, 3], [2], [2, 3], [3]]\n"
     ]
    }
   ],
   "source": [
    "def find_subsets(A):\n",
    "    subsets = []\n",
    "    subset = []\n",
    "    def generate(start):\n",
    "        subsets.append(subset.copy())\n",
    "        for i in range(start, len(A)):\n",
    "            # Decision\n",
    "            subset.append(A[i])\n",
    "            # Recursion\n",
    "            generate(i+1)\n",
    "            # Reverse the decision\n",
    "            subset.pop()\n",
    "    generate(0)\n",
    "    return subsets\n",
    "\n",
    "print(find_subsets([1,2,3]))"
   ]
  },
  {
   "cell_type": "markdown",
   "metadata": {},
   "source": [
    "**Q 3:** Given a string partition is such that all the partitions are palindromic. Return all such partitions. For example, consider the string `'aba'`. We can partition it in the following manners `['a','b','a']` and `['aba']` .  \n",
    "**Answer:** We can proceed in the manner illustrated in the below graph:  \n",
    "![backtracking palindrom](https://i.imgur.com/7ED1Gnb.png)"
   ]
  },
  {
   "cell_type": "code",
   "execution_count": 4,
   "metadata": {},
   "outputs": [
    {
     "name": "stdout",
     "output_type": "stream",
     "text": [
      "[['a', 'a', 'b'], ['aa', 'b']]\n",
      "[['b', 'a', 'a', 'b', 'a'], ['b', 'a', 'aba'], ['b', 'aa', 'b', 'a'], ['baab', 'a']]\n"
     ]
    }
   ],
   "source": [
    "def partition_palindrome(A):\n",
    "    palindromes = []\n",
    "    current = []\n",
    "    \n",
    "    def is_palindrome(A):\n",
    "        i = 0 \n",
    "        j = len(A)-1\n",
    "        \n",
    "        while(i < j):\n",
    "            if A[i] != A[j]:\n",
    "                return False\n",
    "            i += 1\n",
    "            j -= 1\n",
    "            \n",
    "        return True\n",
    "    \n",
    "    def generate(start):\n",
    "        if start == len(A):\n",
    "            palindromes.append(current.copy())\n",
    "        else:\n",
    "            for i in range(start, len(A)):\n",
    "                if is_palindrome(A[start:i+1]):\n",
    "                    current.append(A[start:i+1])\n",
    "                    generate(i+1)\n",
    "                    current.pop()\n",
    "                    \n",
    "    generate(0)\n",
    "    return palindromes\n",
    "\n",
    "print(partition_palindrome('aab'))\n",
    "print(partition_palindrome('baaba'))"
   ]
  },
  {
   "cell_type": "markdown",
   "metadata": {},
   "source": [
    "**Q 4:** Given an integer `N` find the number of valid paranthesis combinations. Examples:\n",
    "```\n",
    "N=1; ()\n",
    "N=2; ()(), (())\n",
    "N=3; ()()(), (())(), ()(()), (()()), ((()))\n",
    "```\n",
    "**Answer:** Here we start from a blank string and make a decision: whether to append an opening paranthesis or a closing paranthesis.  \n",
    "![paranthesis](https://i.imgur.com/SMmY84E.png)"
   ]
  },
  {
   "cell_type": "code",
   "execution_count": 2,
   "metadata": {},
   "outputs": [
    {
     "name": "stdout",
     "output_type": "stream",
     "text": [
      "['((()))', '(()())', '(())()', '()(())', '()()()']\n"
     ]
    }
   ],
   "source": [
    "def paranthesis(n):\n",
    "    answer = []\n",
    "    current = []\n",
    "\n",
    "    def generate(open_count, close_count):\n",
    "        if open_count == n and close_count == n:\n",
    "            answer.append(''.join(current))\n",
    "        elif open_count > n:\n",
    "            return\n",
    "        elif close_count > n:\n",
    "            return\n",
    "        elif close_count > open_count:\n",
    "            return\n",
    "        else:\n",
    "            # Either add opening brace\n",
    "            current.append('(')\n",
    "            generate(open_count+1, close_count)\n",
    "            current.pop(-1)\n",
    "\n",
    "            # Or add closing brace\n",
    "            current.append(')')\n",
    "            generate(open_count, close_count+1)\n",
    "            current.pop(-1)\n",
    "    \n",
    "    generate(0,0)\n",
    "\n",
    "    return answer\n",
    "\n",
    "print(paranthesis(3))"
   ]
  },
  {
   "cell_type": "markdown",
   "metadata": {},
   "source": [
    "**Q 5:** Solve the tower of hanoi. The following rules must be followed a) at a time only one disc can be moved b) A smaller disc cannot be below a larger one.  Transfer all discs from tower A to tower C using auxiliary disc B.  \n",
    "**Answer:** Lets analyse for smaller cases:\n",
    "1. For case when only 1 disc present:  \n",
    "a. Move from A to C (directly)  \n",
    "2. For 2 discs:  \n",
    "a. Move from A to B  \n",
    "b. Move from A to C  \n",
    "c. Move from B to C  \n",
    "\n",
    "Now the above two are base cases. Now for 3 discs we can imagine that the largest disc is fixed. So we move two discs from A to B using solution for two discs as discussed above. Then we move the largest disc from source to destination (A to C). Then again using the solution for two discs, we move 2 discs from B to C.  \n",
    "\n",
    "In general, for N discs,\n",
    "1. Move N-1 discs from A to B\n",
    "2. Move largest disc (remaining in A) from A to C\n",
    "3. Move N-1 discs from B to A"
   ]
  },
  {
   "cell_type": "code",
   "execution_count": 4,
   "metadata": {},
   "outputs": [
    {
     "name": "stdout",
     "output_type": "stream",
     "text": [
      "Move from A to C\n",
      "Move from A to B\n",
      "Move from C to B\n",
      "Move from A to C\n",
      "Move from B to A\n",
      "Move from B to C\n",
      "Move from A to C\n"
     ]
    }
   ],
   "source": [
    "def tower_of_hanoi(n):\n",
    "    def solve(n, source, auxiliary, destination):\n",
    "        if n == 1:\n",
    "            print('Move from ' + source + ' to ' + destination)\n",
    "        elif n == 2:\n",
    "            print('Move from ' + source + ' to ' + auxiliary)\n",
    "            print('Move from ' + source + ' to ' + destination)\n",
    "            print('Move from ' + auxiliary + ' to ' + destination)\n",
    "        else:\n",
    "            # Move n-1 disks from source to auxiliary\n",
    "            solve(n-1, source, destination, auxiliary)\n",
    "            # Move 1 disk from source to destination\n",
    "            print('Move from ' + source + ' to ' + destination)\n",
    "            # Move n-1 disks from auxiliary to destination\n",
    "            solve(n-1, auxiliary, source, destination)\n",
    "    \n",
    "    solve(n, 'A', 'B', 'C')\n",
    "\n",
    "tower_of_hanoi(3)"
   ]
  },
  {
   "cell_type": "markdown",
   "metadata": {},
   "source": [
    "**Q 6:** Given a `NxM` matrix, cell having value 1 means starting cell, cell having value 2 means ending cell, cell having value -1 means blocked cell and cell having value 0 means traversable cell. Enlist all paths from origin to the end.  \n",
    "**Answer:** Starting from start, we can move to 4 directions up, down, left and right. Once we move to a cell, we mark it as -1 so that we do not move that cell two times."
   ]
  },
  {
   "cell_type": "code",
   "execution_count": 3,
   "metadata": {},
   "outputs": [
    {
     "name": "stdout",
     "output_type": "stream",
     "text": [
      "[[(1, 2), (0, 2), (0, 1), (1, 1), (2, 1), (2, 2)], [(1, 2), (0, 2), (0, 3), (1, 3), (2, 3), (2, 2)], [(1, 2), (2, 2)], [(1, 2), (1, 1), (0, 1), (0, 2), (0, 3), (1, 3), (2, 3), (2, 2)], [(1, 2), (1, 1), (2, 1), (2, 2)], [(1, 2), (1, 3), (0, 3), (0, 2), (0, 1), (1, 1), (2, 1), (2, 2)], [(1, 2), (1, 3), (2, 3), (2, 2)]]\n"
     ]
    }
   ],
   "source": [
    "def all_paths(A):\n",
    "    paths = []\n",
    "    path = []\n",
    "    \n",
    "    def generate(x, y):\n",
    "        if A[x][y] == 2:\n",
    "            path.append((x,y))\n",
    "            paths.append(path.copy())\n",
    "            path.pop()\n",
    "        elif A[x][y] == -1:\n",
    "            return\n",
    "        else:\n",
    "            # Go up\n",
    "            if x-1 >= 0:\n",
    "                val = A[x][y]\n",
    "                path.append((x,y))\n",
    "                A[x][y] = -1\n",
    "                generate(x-1, y)\n",
    "                A[x][y] = val\n",
    "                path.pop()\n",
    "                \n",
    "            # Go down\n",
    "            if x+1 < len(A):\n",
    "                val = A[x][y]\n",
    "                path.append((x,y))\n",
    "                A[x][y] = -1\n",
    "                generate(x+1, y)\n",
    "                A[x][y] = val\n",
    "                path.pop()\n",
    "                \n",
    "            # Go left\n",
    "            if y-1 >= 0:\n",
    "                val = A[x][y]\n",
    "                path.append((x,y))\n",
    "                A[x][y] = -1\n",
    "                generate(x, y-1)\n",
    "                A[x][y] = val\n",
    "                path.pop()\n",
    "                \n",
    "            # Go right\n",
    "            if y+1 < len(A[0]):\n",
    "                val = A[x][y]\n",
    "                path.append((x,y))\n",
    "                A[x][y] = -1\n",
    "                generate(x, y+1)\n",
    "                A[x][y] = val\n",
    "                path.pop()\n",
    "                \n",
    "    # Find the starting cell\n",
    "    for i in range(len(A)):\n",
    "        for j in range(len(A[0])):\n",
    "            if A[i][j] == 1:\n",
    "                generate(i,j)\n",
    "                break\n",
    "                \n",
    "    return paths\n",
    "\n",
    "A = [[-1,0,0,0],\n",
    "     [-1,0,1,0],\n",
    "     [-1,0,2,0]]\n",
    "\n",
    "print(all_paths(A))"
   ]
  },
  {
   "cell_type": "markdown",
   "metadata": {},
   "source": [
    "Now what if we want all the paths which have all the zeros in them? For this we need the count of all the zeros in the matrix."
   ]
  },
  {
   "cell_type": "code",
   "execution_count": 15,
   "metadata": {},
   "outputs": [
    {
     "name": "stdout",
     "output_type": "stream",
     "text": [
      "[[(1, 2), (1, 1), (0, 1), (0, 2), (0, 3), (1, 3), (2, 3), (2, 2)]]\n"
     ]
    }
   ],
   "source": [
    "def all_paths(A):\n",
    "    paths = []\n",
    "    path = []\n",
    "    \n",
    "    zeros = 0\n",
    "    start = None\n",
    "    # Find the starting cell\n",
    "    for i in range(len(A)):\n",
    "        for j in range(len(A[0])):\n",
    "            if A[i][j] == 1:\n",
    "                start = (i, j)\n",
    "            elif A[i][j] == 0:\n",
    "                zeros += 1    \n",
    "    \n",
    "    def generate(x, y, z):\n",
    "        if A[x][y] == 2 and z == zeros + 1:\n",
    "            path.append((x,y))\n",
    "            paths.append(path.copy())\n",
    "            path.pop()\n",
    "        elif A[x][y] == -1:\n",
    "            return\n",
    "        else:\n",
    "            # Go up\n",
    "            if x-1 >= 0:\n",
    "                val = A[x][y]\n",
    "                path.append((x,y))\n",
    "                A[x][y] = -1\n",
    "                z += 1\n",
    "                generate(x-1, y, z)\n",
    "                z -= 1\n",
    "                A[x][y] = val\n",
    "                path.pop()\n",
    "                \n",
    "            # Go down\n",
    "            if x+1 < len(A):\n",
    "                val = A[x][y]\n",
    "                path.append((x,y))\n",
    "                A[x][y] = -1\n",
    "                z += 1\n",
    "                generate(x+1, y, z)\n",
    "                z -= 1\n",
    "                A[x][y] = val\n",
    "                path.pop()\n",
    "                \n",
    "            # Go left\n",
    "            if y-1 >= 0:\n",
    "                val = A[x][y]\n",
    "                path.append((x,y))\n",
    "                A[x][y] = -1\n",
    "                z += 1\n",
    "                generate(x, y-1, z)\n",
    "                z -= 1\n",
    "                A[x][y] = val\n",
    "                path.pop()\n",
    "                \n",
    "            # Go right\n",
    "            if y+1 < len(A[0]):\n",
    "                val = A[x][y]\n",
    "                path.append((x,y))\n",
    "                A[x][y] = -1\n",
    "                z += 1\n",
    "                generate(x, y+1, z)\n",
    "                z -= 1\n",
    "                A[x][y] = val\n",
    "                path.pop()\n",
    "                \n",
    "    generate(start[0], start[1], 0)                \n",
    "    return paths\n",
    "\n",
    "A = [[-1,0,0,0],\n",
    "     [-1,0,1,0],\n",
    "     [-1,-1,2,0]]\n",
    "\n",
    "print(all_paths(A))"
   ]
  },
  {
   "cell_type": "markdown",
   "metadata": {},
   "source": [
    "**Q 8:** Solve Sudoku  \n",
    "**Answer:** For every unfilled cell, we try numbers from 1 to 9. Some of the numbers can be eliminated by looking at the current row, column and block"
   ]
  },
  {
   "cell_type": "code",
   "execution_count": 14,
   "metadata": {},
   "outputs": [
    {
     "name": "stdout",
     "output_type": "stream",
     "text": [
      "[[5, 3, 4, 6, 7, 8, 9, 1, 2], [6, 7, 2, 1, 9, 5, 3, 4, 8], [1, 9, 8, 3, 4, 2, 5, 6, 7], [8, 5, 9, 7, 6, 1, 4, 2, 3], [4, 2, 6, 8, 5, 3, 7, 9, 1], [7, 1, 3, 9, 2, 4, 8, 5, 6], [9, 6, 1, 5, 3, 7, 2, 8, 4], [2, 8, 7, 4, 1, 9, 6, 3, 5], [3, 4, 5, 2, 8, 6, 1, 7, 9]]\n"
     ]
    }
   ],
   "source": [
    "def solve_sudoku(matrix):\n",
    "    # We maintain 9 sets for the 9 rows\n",
    "    rows = [set() for i in range(9)]\n",
    "    for i in range(len(matrix)):\n",
    "        for j in range(len(matrix[0])):\n",
    "            if matrix[i][j] is not None:\n",
    "                rows[i].add(matrix[i][j])\n",
    "\n",
    "    # We maintain a dictionary for column\n",
    "    cols = [set() for i in range(9)]\n",
    "    for j in range(len(matrix[0])):\n",
    "        for i in range(len(matrix)):\n",
    "            if matrix[i][j] is not None:\n",
    "                cols[j].add(matrix[i][j])\n",
    "\n",
    "    # We maintain a dictionary for each block\n",
    "    blocks = [set() for i in range(9)]\n",
    "    for i in range(len(matrix)):\n",
    "        for j in range(len(matrix[0])):\n",
    "            if matrix[i][j] is not None:\n",
    "                block_num = 3*(i//3) + (j//3)\n",
    "                blocks[block_num].add(matrix[i][j])\n",
    "\n",
    "    output = []\n",
    "\n",
    "    def recurse(i, j):\n",
    "        # Reached the end of the matrix\n",
    "        if i > 8:\n",
    "            for a in range(len(matrix)):\n",
    "                output.append([])\n",
    "                for b in range(len(matrix[0])):\n",
    "                    output[a].append(matrix[a][b])\n",
    "        # Reached end of a column, go to next row\n",
    "        elif j > 8:\n",
    "            recurse(i+1, 0)\n",
    "        # Goto next column if cell already filled\n",
    "        elif matrix[i][j] is not None:\n",
    "            recurse(i, j+1)\n",
    "        else:\n",
    "            for x in range(1, 10):\n",
    "                if (x not in rows[i]) and (x not in cols[j]) and (x not in blocks[3*(i//3) + (j//3)]):\n",
    "                    matrix[i][j] = x\n",
    "                    rows[i].add(x)\n",
    "                    cols[j].add(x)\n",
    "                    blocks[3*(i//3) + (j//3)].add(x)\n",
    "\n",
    "                    recurse(i, j+1)\n",
    "\n",
    "                    matrix[i][j] = None\n",
    "                    rows[i].remove(x)\n",
    "                    cols[j].remove(x)\n",
    "                    blocks[3*(i//3) + (j//3)].remove(x)\n",
    "\n",
    "    recurse(0, 0)\n",
    "    return output\n",
    "\n",
    "\n",
    "matrix = [\n",
    "    [5, 3, None, None, 7, None, None, None, None],\n",
    "    [6, None, None, 1, 9, 5, None, None, None],\n",
    "    [None, 9, 8, None, None, None, None, 6, None],\n",
    "    [8, None, None, None, 6, None, None, None, 3],\n",
    "    [4, None, None, 8, None, 3, None, None, 1],\n",
    "    [7, None, None, None, 2, None, None, None, 6],\n",
    "    [None, 6, None, None, None, None, 2, 8, None],\n",
    "    [None, None, None, 4, 1, 9, None, None, 5],\n",
    "    [None, None, None, None, 8, None, None, 7, 9]\n",
    "]\n",
    "\n",
    "print(solve_sudoku(matrix))"
   ]
  },
  {
   "cell_type": "markdown",
   "metadata": {},
   "source": [
    "**Q 9:** **N-Queens** Given a `NxN` chessboard, place `N` queens on it such that no two queens are attacking each other.  \n",
    "**Answer:** For this we need to maintain several maps, a row one and a column one which will hold if there is a queen present in that row/column. Another 2 maps to keep track of forward diagonal and backward diagonal. Then there are N possible starting position for the first queen."
   ]
  },
  {
   "cell_type": "code",
   "execution_count": 30,
   "metadata": {},
   "outputs": [
    {
     "data": {
      "text/plain": [
       "[['.', 'q', '.', '.'],\n",
       " ['.', '.', '.', 'q'],\n",
       " ['q', '.', '.', '.'],\n",
       " ['.', '.', 'q', '.']]"
      ]
     },
     "execution_count": 30,
     "metadata": {},
     "output_type": "execute_result"
    }
   ],
   "source": [
    "import copy\n",
    "def n_queens(N):\n",
    "    # Generate the matrix\n",
    "    board = [['.' for i in range(N)] for i in range(N)]\n",
    "    boards = []\n",
    "    \n",
    "    # Maintain the two maps for row/columns\n",
    "    row = {}\n",
    "    column = {}\n",
    "    # Another map for 2N-1 diagonals\n",
    "    f_diag = {}\n",
    "    b_diag = {}\n",
    "    \n",
    "    queen_count = 0\n",
    "    def generate(r, c):\n",
    "        nonlocal queen_count\n",
    "        if queen_count == N: # All queens present on board\n",
    "            boards.append(copy.deepcopy(board))\n",
    "        elif c >= N: # Go to next row\n",
    "            generate(r+1, 0)\n",
    "        elif r >= N: # Reached end, just return\n",
    "            return\n",
    "        elif r in row: # Go to next row if row already has a queen\n",
    "            generate(r+1, 0)\n",
    "        elif c in column or (r-c) in b_diag or (r+c) in f_diag: # Go to next column\n",
    "            generate(r, c+1)\n",
    "        else:\n",
    "            board[r][c] = 'q'\n",
    "            row[r] = True\n",
    "            column[c] = True\n",
    "            b_diag[r-c] = True\n",
    "            f_diag[r+c] = True\n",
    "            queen_count += 1\n",
    "            \n",
    "            generate(r, c+1)\n",
    "            \n",
    "            queen_count -= 1\n",
    "            del f_diag[r+c]\n",
    "            del b_diag[r-c]\n",
    "            del column[c]\n",
    "            del row[r]\n",
    "            board[r][c] = '.'\n",
    "            \n",
    "    # Starting position for the first queen\n",
    "    for i in range(N):\n",
    "        generate(0,i)\n",
    "    return boards\n",
    "\n",
    "boards = n_queens(4)\n",
    "boards[0]"
   ]
  },
  {
   "cell_type": "code",
   "execution_count": 31,
   "metadata": {},
   "outputs": [
    {
     "data": {
      "text/plain": [
       "[['.', '.', 'q', '.'],\n",
       " ['q', '.', '.', '.'],\n",
       " ['.', '.', '.', 'q'],\n",
       " ['.', 'q', '.', '.']]"
      ]
     },
     "execution_count": 31,
     "metadata": {},
     "output_type": "execute_result"
    }
   ],
   "source": [
    "boards[1]"
   ]
  },
  {
   "cell_type": "markdown",
   "metadata": {},
   "source": [
    "**Q 10:** Given two numbers `A` and `B` return all arrays of size `B` containing numbers picked from `1,2,3,..,A`. The individual permutations should be sorted. If `A=4` and `B=2`, the answer is `[[1,2], [1,3], [1,4], [2,3], [2,4], [3,4]]` .  \n",
    "**Answer:** "
   ]
  },
  {
   "cell_type": "code",
   "execution_count": 37,
   "metadata": {},
   "outputs": [
    {
     "name": "stdout",
     "output_type": "stream",
     "text": [
      "[[1, 2], [1, 3], [1, 4], [2, 3], [2, 4], [3, 4]]\n",
      "[[1, 2, 3], [1, 2, 4], [1, 2, 5], [1, 3, 4], [1, 3, 5], [1, 4, 5], [2, 3, 4], [2, 3, 5], [2, 4, 5], [3, 4, 5]]\n"
     ]
    }
   ],
   "source": [
    "def combinations(A, B):\n",
    "    combinations = []\n",
    "    current = []\n",
    "    \n",
    "    def generate(start):\n",
    "        if len(current) == B:\n",
    "            combinations.append(current.copy())\n",
    "        else:\n",
    "            for i in range(start, A+1):\n",
    "                current.append(i)\n",
    "                generate(i+1)\n",
    "                current.pop()\n",
    "                \n",
    "    generate(1)\n",
    "    return combinations\n",
    "\n",
    "print(combinations(4,2))\n",
    "print(combinations(5,3))"
   ]
  },
  {
   "cell_type": "markdown",
   "metadata": {},
   "source": [
    "**Q 11:** Given a dialpad where 1 maps to '1' and 0 maps to 0, find all the permutations that a number could represent. For example, for a number 23, all the permutations are `[\"ad\", \"ae\", \"af\", \"bd\", \"be\", \"bf\", \"cd\", \"ce\", \"cf\"]`. The dialpad looks like  \n",
    "![dialpad](https://i.imgur.com/xVDUoVq.png)   \n",
    "**Answer:**"
   ]
  },
  {
   "cell_type": "code",
   "execution_count": 38,
   "metadata": {},
   "outputs": [
    {
     "name": "stdout",
     "output_type": "stream",
     "text": [
      "['a1j', 'a1k', 'a1l', 'b1j', 'b1k', 'b1l', 'c1j', 'c1k', 'c1l']\n"
     ]
    }
   ],
   "source": [
    "def letter_combinations(input):\n",
    "    # Create dictionary of mapping\n",
    "    mapping = {}\n",
    "    mapping['1'] = ['1']\n",
    "    mapping['2'] = ['a','b','c']\n",
    "    mapping['3'] = ['d','e','f']\n",
    "    mapping['4'] = ['g','h','i']\n",
    "    mapping['5'] = ['j','k','l']\n",
    "    mapping['6'] = ['m','n','o']\n",
    "    mapping['7'] = ['p','q','r','s']\n",
    "    mapping['8'] = ['t','u','v']\n",
    "    mapping['9'] = ['w','x','y','z']\n",
    "    mapping['0'] = ['0']\n",
    "\n",
    "    answer = []\n",
    "    current = []\n",
    "\n",
    "    def generate(start):\n",
    "        nonlocal answer\n",
    "        if len(current) == len(input):\n",
    "            answer.append(''.join(current))\n",
    "        else:\n",
    "            if start < len(input):\n",
    "                for i in range(0, len(mapping[input[start]])):\n",
    "                    current.append(mapping[input[start]][i])\n",
    "                    generate(start + 1)\n",
    "                    current.pop(-1)\n",
    "\n",
    "    generate(0)\n",
    "\n",
    "    return answer\n",
    "\n",
    "print(letter_combinations('215'))"
   ]
  },
  {
   "cell_type": "markdown",
   "metadata": {},
   "source": [
    "**Q 12:** Given a array of integers $A$ of size $N$ and an integer $B$. Return number of non-empty subsequences of $A$ of size $B$ having sum <= 1000.  \n",
    "**Answer:** "
   ]
  },
  {
   "cell_type": "code",
   "execution_count": 3,
   "metadata": {},
   "outputs": [
    {
     "name": "stdout",
     "output_type": "stream",
     "text": [
      "3\n"
     ]
    }
   ],
   "source": [
    "def subsequence_count(A, B):\n",
    "    count = 0\n",
    "    current = []\n",
    "    current_sum = 0\n",
    "    \n",
    "    def recurse(start):\n",
    "        nonlocal current_sum\n",
    "        nonlocal count\n",
    "        if len(current) == B and current_sum <= 1000:\n",
    "            count += 1\n",
    "        elif len(current) > B or current_sum > 1000:\n",
    "            return\n",
    "        else:\n",
    "            for i in range(start, len(A)):\n",
    "                current.append(A[i])\n",
    "                current_sum += A[i]\n",
    "                \n",
    "                recurse(i+1)\n",
    "                \n",
    "                current_sum -= A[i]\n",
    "                current.pop()\n",
    "    \n",
    "    recurse(0)\n",
    "    return count\n",
    "\n",
    "A = [1,2,8]\n",
    "print(subsequence_count(A, 2))"
   ]
  },
  {
   "cell_type": "markdown",
   "metadata": {},
   "source": [
    "**Q 13:** Given a word bank with some words, and a string, break a string into contiguous chunks such that all chunks are present in the word bank. For example, the words bank has `m,ark, mark,henry`. If the input string is `markhenry` then we can break it as `[mark|henry, m|ark|henry]` .  \n",
    "**Answer:** "
   ]
  },
  {
   "cell_type": "code",
   "execution_count": 5,
   "metadata": {},
   "outputs": [
    {
     "name": "stdout",
     "output_type": "stream",
     "text": [
      "[['m', 'ark', 'henry'], ['mark', 'henry']]\n"
     ]
    }
   ],
   "source": [
    "import copy\n",
    "def word_break(A, bank):\n",
    "    # Add all words to a set\n",
    "    wb = set()\n",
    "    for b in bank:\n",
    "        wb.add(b)\n",
    "        \n",
    "    answer = []\n",
    "    current = []\n",
    "        \n",
    "    def recurse(start):\n",
    "        if start == len(A):\n",
    "            answer.append(copy.deepcopy(current))\n",
    "        else:\n",
    "            for i in range(start, len(A)):\n",
    "                if A[start:i+1] in wb:\n",
    "                    current.append(A[start:i+1])\n",
    "                    recurse(i+1)\n",
    "                    current.pop()\n",
    "                    \n",
    "    recurse(0)\n",
    "    return answer\n",
    "\n",
    "print(word_break('markhenry', ['m','ark', 'mark', 'henry']))"
   ]
  },
  {
   "cell_type": "markdown",
   "metadata": {},
   "source": [
    "**Q 14:** Given an array of size `N` of candidate numbers `A` and a target number `B`. Return all unique combinations in `A` where the candidate numbers sums to `B` .  \n",
    "**Answer:**"
   ]
  },
  {
   "cell_type": "code",
   "execution_count": 7,
   "metadata": {},
   "outputs": [
    {
     "name": "stdout",
     "output_type": "stream",
     "text": [
      "[[1, 1, 6], [1, 2, 5], [1, 7], [2, 6]]\n"
     ]
    }
   ],
   "source": [
    "def combination_sum(A, B):\n",
    "    # Sort so that the individual arrays in\n",
    "    # answer are in sorted form\n",
    "    A = sorted(A)\n",
    "    \n",
    "    answer = []\n",
    "    current = []\n",
    "    \n",
    "    def generate(start):\n",
    "        if sum(current) == B:\n",
    "            answer.append(current.copy())\n",
    "        if sum(current) > B:\n",
    "            return\n",
    "        else:\n",
    "            for i in range(start, len(A)):\n",
    "                skip = False\n",
    "                for j in range(start, i):\n",
    "                    if A[j] == A[i]:\n",
    "                        skip = True\n",
    "                        break\n",
    "                \n",
    "                if not skip:\n",
    "                    current.append(A[i])\n",
    "                    generate(i+1)\n",
    "                    current.pop()\n",
    "                \n",
    "    generate(0)\n",
    "    return answer\n",
    "\n",
    "A = [10, 1, 2, 7, 6, 1, 5]\n",
    "B = 8\n",
    "print(combination_sum(A, B))"
   ]
  },
  {
   "cell_type": "code",
   "execution_count": null,
   "metadata": {},
   "outputs": [],
   "source": []
  }
 ],
 "metadata": {
  "kernelspec": {
   "display_name": "Python 3",
   "language": "python",
   "name": "python3"
  },
  "language_info": {
   "codemirror_mode": {
    "name": "ipython",
    "version": 3
   },
   "file_extension": ".py",
   "mimetype": "text/x-python",
   "name": "python",
   "nbconvert_exporter": "python",
   "pygments_lexer": "ipython3",
   "version": "3.7.4"
  }
 },
 "nbformat": 4,
 "nbformat_minor": 4
}
