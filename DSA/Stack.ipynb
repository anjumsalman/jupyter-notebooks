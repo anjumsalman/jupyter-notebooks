{
 "cells": [
  {
   "cell_type": "markdown",
   "metadata": {},
   "source": [
    "## Stack\n",
    "Stack is a `LIFO`, Last In First Out data structure. It is a list with restriction that insertion and deletion occurs only at one end.  \n",
    "Stack can be implemented using arrays or using linked list.\n",
    "\n",
    "### Array based implementation"
   ]
  },
  {
   "cell_type": "code",
   "execution_count": null,
   "metadata": {
    "vscode": {
     "languageId": "java"
    }
   },
   "outputs": [],
   "source": [
    "class SimpleArrayStack<T> {\n",
    "    private final int MAX_SIZE;\n",
    "    private final Object[] elements;\n",
    "\n",
    "    private int top = -1;\n",
    "\n",
    "    public SimpleArrayStack(int size) {\n",
    "        MAX_SIZE = size;\n",
    "        elements = new Object[MAX_SIZE];\n",
    "    }\n",
    "\n",
    "    public boolean isEmpty() {\n",
    "        return top == -1;\n",
    "    }\n",
    "\n",
    "    public void push(T x) {\n",
    "        if (top < MAX_SIZE - 1) {\n",
    "            elements[++top] = x;\n",
    "        } else {\n",
    "            throw new IllegalArgumentException(\"Stack is full\");\n",
    "        }\n",
    "    }\n",
    "\n",
    "    public T pop() {\n",
    "        if (isEmpty()) {\n",
    "            throw new IllegalArgumentException(\"Queue is empty\");\n",
    "        }\n",
    "\n",
    "        top--;\n",
    "        return (T) elements[top + 1];\n",
    "    }\n",
    "}"
   ]
  },
  {
   "cell_type": "markdown",
   "metadata": {},
   "source": [
    "We can modify the above code to extend the array when the array completely fills up. In such case the time complexities are:\n",
    "1. push : Best case $O(1)$, Worst case (when we have to extend) $O(n)$, Average case $O(1)$\n",
    "2. pop : $O(1)$"
   ]
  },
  {
   "cell_type": "code",
   "execution_count": null,
   "metadata": {
    "vscode": {
     "languageId": "java"
    }
   },
   "outputs": [],
   "source": [
    "class ResizableArrayStack<T> {\n",
    "    private int arraySize = 5;\n",
    "    private Object[] elements = new Object[arraySize];\n",
    "\n",
    "    private int top = -1;\n",
    "\n",
    "    public boolean isEmpty() {\n",
    "        return top == -1;\n",
    "    }\n",
    "\n",
    "    public void push(T x) {\n",
    "        if (top == arraySize - 1) {\n",
    "            resize(2 * arraySize);\n",
    "        }\n",
    "\n",
    "        elements[++top] = x;\n",
    "    }\n",
    "\n",
    "    public T pop() {\n",
    "        if (isEmpty()) {\n",
    "            throw new IllegalArgumentException(\"Stack is empty\");\n",
    "        } else if (arraySize > 3 * top) {\n",
    "            resize(arraySize / 2);\n",
    "        }\n",
    "\n",
    "        top--;\n",
    "        return (T) elements[top + 1];\n",
    "    }\n",
    "\n",
    "    private void resize(int newSize) {\n",
    "        Object[] newElements = new Object[newSize];\n",
    "\n",
    "        for (int i = 0; i < elements.length; i++) {\n",
    "            newElements[i] = elements[i];\n",
    "        }\n",
    "\n",
    "        elements = newElements;\n",
    "        arraySize = newSize;\n",
    "    }\n",
    "}"
   ]
  },
  {
   "cell_type": "markdown",
   "metadata": {},
   "source": [
    "### A Note on Time Complexity of Insertion of Elements in a Resizable Array\n",
    "Whenever the array is full we double the size of array, copy the elements from old array to the new one. So what is the time complexity? To calculate the time complexity of addition of element into a resizable array, we do *[amortized time complexity](https://brilliant.org/wiki/amortized-analysis/)* which is basically weighted average time complexity.\n",
    "  \n",
    "Suppose we have to insert $n$ elements into an array and we start with array having size $1$.  \n",
    "So as soon as we add $1$ element, we create a new array with double the size and copy that $1$ element to the new array. When we add one more element, we double array and copy over $2$ elements. Adding the third element takes constant time. So for $n$ elements, the times are: \n",
    "\n",
    "$$1 \\rightarrow 1$$\n",
    "$$2 \\rightarrow 2 = 2^0 + 1$$\n",
    "$$3 \\rightarrow 3 = 2^1 + 1$$\n",
    "$$4 \\rightarrow 1$$\n",
    "$$5 \\rightarrow 5 = 2^2 + 1$$\n",
    "$$6 \\rightarrow 1$$\n",
    "$$\\ldots$$\n",
    "\n",
    "<img src=\"images/amortized_analysis.png\" />"
   ]
  },
  {
   "cell_type": "markdown",
   "metadata": {},
   "source": [
    "### Linked List Based Implementation"
   ]
  },
  {
   "cell_type": "code",
   "execution_count": null,
   "metadata": {
    "vscode": {
     "languageId": "java"
    }
   },
   "outputs": [],
   "source": [
    "class LinkedListStack<T> {\n",
    "    private class Node {\n",
    "        public T data;\n",
    "        public Node next;\n",
    "\n",
    "        public Node(T data) {\n",
    "            this.data = data;\n",
    "        }\n",
    "    }\n",
    "\n",
    "    private Node top;\n",
    "\n",
    "    public boolean isEmpty() {\n",
    "        return top == null;\n",
    "    }\n",
    "\n",
    "    public void push(T x) {\n",
    "        Node temp = new Node(x);\n",
    "        temp.next = top;\n",
    "        top = temp;\n",
    "    }\n",
    "\n",
    "    public T pop() {\n",
    "        if (isEmpty()) {\n",
    "            throw new IllegalArgumentException(\"Stack is empty\");\n",
    "        }\n",
    "\n",
    "        T value = top.data;\n",
    "        top = top.next;\n",
    "        return value;\n",
    "    }\n",
    "}"
   ]
  },
  {
   "cell_type": "markdown",
   "metadata": {},
   "source": [
    "Linked List based stack implementation has the same push and pop time complexity as array based implementation (as long as array based implementation has fixed length)."
   ]
  },
  {
   "cell_type": "markdown",
   "metadata": {},
   "source": [
    "### Java Implementation\n",
    "We can use either of `Stack`, `ArrayDeque` or `ArrayList`.\n",
    "\n",
    "**Stack:** a `Vector` based implementation\n",
    "- Instantiate : `Stack<Integer> stack = new Stack<>();`\n",
    "- Size: `stack.size();`\n",
    "- Push: `stack.push(5)`\n",
    "- Pop: `int item = stack.pop()`\n",
    "- Iterate: `for(Integer element: stack)`\n",
    "\n",
    "**ArrayDeque:** prefer this.\n",
    "- Instantiate : `ArrayDeque<Integer> stack = new ArrayDeque<>();`\n",
    "- Size: `stack.size();`\n",
    "- Push: `stack.push(5)`, `stack.addFirst(5)`\n",
    "- Pop: `int item = stack.pop()` or `int item = stack.removeFirst()`\n",
    "- Iterate: `for(Integer element: stack)`\n",
    "\n",
    "**ArrayList:**\n",
    "- Instantiate : `ArrayList<Integer> stack = new ArrayList<>();`\n",
    "- Size: `stack.size();`\n",
    "- Push: `stack.add(5)`\n",
    "- Pop: `int item = stack.remove(stack.size() - 1)`\n",
    "- Iterate: `for(Integer element: stack)`"
   ]
  },
  {
   "cell_type": "markdown",
   "metadata": {},
   "source": [
    "## Infix Postfix and Prefix\n",
    "A normal arithmetic expression comprises of opertor in between operands. Expression is evaluated from left to right and we have to take into consideration the precedence of various operators. Paranthesis is used to specify what is evaluated first. The expression `A + B * C + D` can be rewritten as `((A + (B * C)) + D)` to show that the multiplication happens first, followed by the leftmost addition.  \n",
    "\n",
    "**Prefix:** notation requires that all operators precede the two operands that they work on  \n",
    "**Postfix:** notation requires that its operators come after the corresponding operands  \n",
    "\n",
    "Examples:\n",
    "```\n",
    "| Infix             | Prefix        | Postfix       |\n",
    "|-------------------|---------------|---------------|\n",
    "| A + B * C + D     | + + A * B C D | A B C * + D + |\n",
    "| (A + B) * (C + D) | * + A B + C D | A B + C D + * |\n",
    "| A * B + C * D     | + * A B * C D | A B * C D * + |\n",
    "```\n",
    "\n",
    "Prefix and postfix notations have the benefit of not requiring paranthesis to determine the order of operations.\n",
    "\n",
    "**Converting infix to postfix and prefix:** if the infix operation is completely paranthesized, we traverse the expression and a) in case of postfix replace ')' with the operator b) in case of prefix replace '(' with the operator.\n",
    "\n",
    "![Postfix](https://runestone.academy/runestone/books/published/pythonds/_images/moveright.png)\n",
    "![Prefix](https://runestone.academy/runestone/books/published/pythonds/_images/moveleft.png)  "
   ]
  },
  {
   "cell_type": "code",
   "execution_count": 1,
   "metadata": {
    "tags": [],
    "vscode": {
     "languageId": "java"
    }
   },
   "outputs": [
    {
     "name": "stdout",
     "output_type": "stream",
     "text": [
      "Infix: A + ( B * C ) + D\tPostfix: ABC*+D+\n",
      "Infix: ( A + B ) * ( C + D )\tPostfix: AB+CD+*\n",
      "Infix: ( A * B ) + ( C * D )\tPostfix: AB*CD*+\n"
     ]
    }
   ],
   "source": [
    "public String toPostFix(String infix) {\n",
    "    StringBuilder postfix = new StringBuilder();\n",
    "    \n",
    "    // Holds operators    \n",
    "    ArrayDeque<String> stack = new ArrayDeque<>();\n",
    "    \n",
    "    // Considering input has space separated symbols\n",
    "    String[] tokens = infix.split(\" \");\n",
    "    \n",
    "    for(String token: tokens) {\n",
    "        // if not operator, just append to output\n",
    "        if(!(token.equals(\"+\") || token.equals(\"-\") || token.equals(\"*\") || token.equals(\"/\")\n",
    "            || token.equals(\"(\") || token.equals(\")\"))) {\n",
    "            postfix.append(token);\n",
    "        // add opening paranthesis to the stack\n",
    "        } else if(token.equals(\"(\")) {\n",
    "            stack.push(token);\n",
    "        // on encountering closing paranthesis, remove\n",
    "        // everything from stack (and append) till you\n",
    "        // get to corresponding opening paranthesis\n",
    "        } else if(token.equals(\")\")) {\n",
    "            String popped = null;\n",
    "            while(!stack.isEmpty() && !(popped = stack.pop()).equals(\"(\")) {\n",
    "                postfix.append(popped);\n",
    "            }\n",
    "        // For other operators before inserting into stack\n",
    "        // remove all operators which have equal or greater\n",
    "        // precedence\n",
    "        } else if(token.equals(\"+\") || token.equals(\"-\")) {\n",
    "            while(!stack.isEmpty()) {\n",
    "                String top = stack.peek();\n",
    "                if(top.equals(\"+\") || top.equals(\"-\") ||\n",
    "                   top.equals(\"*\") || top.equals(\"/\")) {\n",
    "                    postfix.append(stack.pop());\n",
    "                } else {\n",
    "                    break;\n",
    "                }\n",
    "            }\n",
    "            \n",
    "            stack.push(token);\n",
    "        } else if(token.equals(\"*\") || token.equals(\"/\")) {\n",
    "            while(!stack.isEmpty()) {\n",
    "                String top = stack.peek();\n",
    "                if(top.equals(\"*\") || top.equals(\"/\")) {\n",
    "                    postfix.append(stack.pop());\n",
    "                } else {\n",
    "                    break;\n",
    "                }\n",
    "            }\n",
    "            \n",
    "            stack.push(token);\n",
    "        }\n",
    "    }\n",
    "    \n",
    "    // Empty out stack\n",
    "    while(!stack.isEmpty()) {\n",
    "        postfix.append(stack.pop());\n",
    "    }\n",
    "\n",
    "    return new String(postfix);\n",
    "}\n",
    "\n",
    "System.out.println(\"Infix: A + ( B * C ) + D\\tPostfix: \" + toPostFix(\"A + ( B * C ) + D\"));\n",
    "System.out.println(\"Infix: ( A + B ) * ( C + D )\\tPostfix: \" + toPostFix(\"( A + B ) * ( C + D )\"));\n",
    "System.out.println(\"Infix: ( A * B ) + ( C * D )\\tPostfix: \" + toPostFix(\"( A * B ) + ( C * D )\"));"
   ]
  },
  {
   "cell_type": "code",
   "execution_count": 2,
   "metadata": {
    "tags": [],
    "vscode": {
     "languageId": "java"
    }
   },
   "outputs": [
    {
     "name": "stdout",
     "output_type": "stream",
     "text": [
      "Expression: 12 3 5 * + 9 +\tResult: 36\n"
     ]
    }
   ],
   "source": [
    "public int evaluate(String postfix) {\n",
    "    // Only numbers are added to this stack\n",
    "    ArrayDeque<Integer> stack = new ArrayDeque<>();\n",
    "\n",
    "    // Considering input has space separated symbols\n",
    "    String[] tokens = postfix.trim().split(\" \");\n",
    "\n",
    "    for(String token: tokens) {\n",
    "        // push numbers to stack\n",
    "        if(!(token.equals(\"+\") || token.equals(\"-\") ||\n",
    "             token.equals(\"*\") || token.equals(\"/\"))) {\n",
    "            stack.push(Integer.parseInt(token));\n",
    "        } else {\n",
    "            int rightOperand = stack.pop();\n",
    "            int leftOperand = stack.pop();\n",
    "            int result = 0;\n",
    "\n",
    "            // evaluate binary expression as per operator\n",
    "            // then push result to stack again\n",
    "            if(token.equals(\"+\")) {\n",
    "                result = leftOperand + rightOperand;\n",
    "            } else if(token.equals(\"-\")) {\n",
    "                result = leftOperand - rightOperand;\n",
    "            } else if(token.equals(\"*\")) {\n",
    "                result = leftOperand * rightOperand;\n",
    "            } else if(token.equals(\"/\")) {\n",
    "                result = leftOperand / rightOperand;\n",
    "            }\n",
    "\n",
    "            stack.push(result);\n",
    "        }\n",
    "    }\n",
    "\n",
    "    return stack.pop();\n",
    "}\n",
    "\n",
    "System.out.println(\"Expression: 12 3 5 * + 9 +\\tResult: \" + evaluate(\"12 3 5 * + 9 +\"));"
   ]
  },
  {
   "cell_type": "markdown",
   "metadata": {},
   "source": [
    "**Q 1:** Implement a function `getMin()` which returns the minimum element in the stack.  \n",
    "**Answer:** So get minimum element of stack, we need to make use of two stacks. One main stack and the other stack which holds current minimum at the top."
   ]
  },
  {
   "cell_type": "code",
   "execution_count": 2,
   "metadata": {
    "vscode": {
     "languageId": "java"
    }
   },
   "outputs": [
    {
     "name": "stdout",
     "output_type": "stream",
     "text": [
      "3\n",
      "0\n"
     ]
    }
   ],
   "source": [
    "public class StackWithMin {\n",
    "    ArrayDeque<Integer> stack = new ArrayDeque<>();\n",
    "    ArrayDeque<Integer> minStack;\n",
    "    \n",
    "    public StackWithMin() {\n",
    "        stack = new ArrayDeque<>();\n",
    "        minStack = new ArrayDeque<>();\n",
    "    }\n",
    "    \n",
    "    public void push(int x) {\n",
    "        stack.push(x);\n",
    "        \n",
    "        if (minStack.isEmpty()) {\n",
    "            minStack.push(x);\n",
    "        } else if (x <= minStack.peek()) {\n",
    "            minStack.push(x);\n",
    "        }\n",
    "    }\n",
    "    \n",
    "    public int pop() {\n",
    "        Integer popped = stack.pop();\n",
    "        \n",
    "        if (popped.equals(minStack.peek())) {\n",
    "            minStack.pop();\n",
    "        }\n",
    "        \n",
    "        return popped;\n",
    "    }\n",
    "    \n",
    "    public int getMin() {\n",
    "        return minStack.peek();\n",
    "    }\n",
    "}\n",
    "\n",
    "StackWithMin stack = new StackWithMin();\n",
    "stack.push(7); stack.push(8); stack.push(3);\n",
    "System.out.println(stack.getMin());\n",
    "\n",
    "stack.push(1); stack.push(0); stack.push(0);\n",
    "stack.pop();\n",
    "System.out.println(stack.getMin());"
   ]
  },
  {
   "cell_type": "markdown",
   "metadata": {},
   "source": [
    "How can we maintain minimum without using extra space? If all the numbers to be inserted into the stack are positive then we can follow the below steps. Consider the array is `6, 3, 7, 8, 2`. We insert 6 first into the stack. The variable `min_stack = 6`. Next when we push 3, `min_stack = 3`, however the value inserted into the stack will be `3 - min_stack` which is `3 - 6 = -3`. We will insert 7 and 8 as it is. When we insert 2, we make `min_stack = 2`, however we insert `2 - 3 = -1` into the stack. And so on. The stack now is `6, -3, 7, 8, -1`.  \n",
    "Now when we pop elements and it is negative, then to get to the original number we need to follow the following equation: `x - prev_min_stack = top_of_stack`. But how to get the previous min from current min? `prev_min_stack = min_stack - top_of_stack`. `prev_min_stack = 2 - (-1) = 3`. So the popped elements is `x - 3 = -1 = 2`. Make `min_stack = prev_min_stack`."
   ]
  },
  {
   "cell_type": "markdown",
   "metadata": {},
   "source": [
    "**Q 2:** Sort a stack  \n",
    "**Answer:**"
   ]
  },
  {
   "cell_type": "code",
   "execution_count": 4,
   "metadata": {
    "vscode": {
     "languageId": "java"
    }
   },
   "outputs": [
    {
     "name": "stdout",
     "output_type": "stream",
     "text": [
      "[1, 1, 2, 3, 5]\n"
     ]
    }
   ],
   "source": [
    "public void sort(ArrayDeque<Integer> input) {\n",
    "    ArrayDeque<Integer> temp = new ArrayDeque<>();\n",
    "\n",
    "    while (!input.isEmpty()) {\n",
    "        int popped = input.pop();\n",
    "\n",
    "        // To simplify the implementation, we can just keep the last\n",
    "        // else branch\n",
    "        if (temp.isEmpty()) {\n",
    "            temp.push(popped);\n",
    "        } else if (popped >= temp.peek()) {\n",
    "            temp.push(popped);\n",
    "        } else {\n",
    "            while (!temp.isEmpty() && popped < temp.peek()) {\n",
    "                input.push(temp.pop());\n",
    "            }\n",
    "            temp.push(popped);\n",
    "        }\n",
    "    }\n",
    "\n",
    "    while (!temp.isEmpty()) {\n",
    "        input.push(temp.pop());\n",
    "    }\n",
    "}\n",
    "\n",
    "ArrayDeque<Integer> s1 = new ArrayDeque<>();\n",
    "s1.push(2);\n",
    "s1.push(3);\n",
    "s1.push(1);\n",
    "s1.push(5);\n",
    "s1.push(1);\n",
    "sort(s1);\n",
    "System.out.println(s1);"
   ]
  },
  {
   "cell_type": "markdown",
   "metadata": {},
   "source": [
    "**Q 3:** Given a string, remove all the consecutive duplicate elements. For example, if the string is `abbck`, then return `ack`. However consider `kabbal`. It will convert to `kaal` and then finally to `kl`. Finally if we pass `aaa` as input, we should get `a` .  \n",
    "**Answer:**"
   ]
  },
  {
   "cell_type": "code",
   "execution_count": 5,
   "metadata": {
    "vscode": {
     "languageId": "java"
    }
   },
   "outputs": [
    {
     "name": "stdout",
     "output_type": "stream",
     "text": [
      "abcget\n",
      "kabal\n",
      "kabal\n",
      "a\n",
      "abck\n"
     ]
    }
   ],
   "source": [
    "public String removeDuplicates(String input) {\n",
    "    char[] chars = input.toCharArray();\n",
    "    ArrayDeque<Character> stack = new ArrayDeque<>();\n",
    "\n",
    "    for (char c : chars) {\n",
    "        if (!stack.isEmpty() && stack.peek() == c) {\n",
    "            stack.pop();\n",
    "        }\n",
    "\n",
    "        stack.push(c);\n",
    "    }\n",
    "\n",
    "    StringBuilder builder = new StringBuilder();\n",
    "    while (!stack.isEmpty()) {\n",
    "        builder.append(stack.pop());\n",
    "    }\n",
    "\n",
    "    return builder.reverse().toString();\n",
    "}\n",
    "\n",
    "System.out.println(removeDuplicates(\"abbcgeet\"));\n",
    "System.out.println(removeDuplicates(\"kabbbal\"));\n",
    "System.out.println(removeDuplicates(\"kabbal\"));\n",
    "System.out.println(removeDuplicates(\"aaa\"));\n",
    "System.out.println(removeDuplicates(\"abbck\"));"
   ]
  },
  {
   "cell_type": "markdown",
   "metadata": {},
   "source": [
    "**Q 4:** Determine whether the given set of paranthesis is valid or not. Paranthesis can be either of the following: `[, {, (, ), }, ]`  \n",
    "**Answer:** Add opening braces to the stack. If you get closing brace, pop and the stack and check if it matches the closing brace."
   ]
  },
  {
   "cell_type": "code",
   "execution_count": 6,
   "metadata": {
    "vscode": {
     "languageId": "java"
    }
   },
   "outputs": [
    {
     "name": "stdout",
     "output_type": "stream",
     "text": [
      "false\n",
      "true\n"
     ]
    }
   ],
   "source": [
    "public boolean validParenthesis(String input) {\n",
    "    if (input.isEmpty()) return true;\n",
    "\n",
    "    ArrayDeque<Character> stack = new ArrayDeque<>();\n",
    "    char[] chars = input.toCharArray();\n",
    "    for (char c : chars) {\n",
    "        if (c == '[' || c == '{' || c == '(') {\n",
    "            stack.push(c);\n",
    "        } else if (stack.isEmpty() && (c == ']' || c == '}' || c == ')')) {\n",
    "            return false;\n",
    "        } else if (!stack.isEmpty()) {\n",
    "            char popped = stack.pop();\n",
    "            if ((c == ']' && popped != '[') || (c == '}' && popped != '{') || (c == ')' && popped != '(')) {\n",
    "                return false;\n",
    "            }\n",
    "        }\n",
    "    }\n",
    "\n",
    "    return stack.isEmpty();\n",
    "}\n",
    "\n",
    "System.out.println(validParenthesis(\"{[)(]}\"));\n",
    "System.out.println(validParenthesis(\"{[()]}\"));"
   ]
  },
  {
   "cell_type": "markdown",
   "metadata": {},
   "source": [
    "**Q 5:** Given an array, for each element find the closest number (to the right) greater than that number. For example, if the array is `[10, 7, 4, 2, 9, 10, 11, 3, 2]`, the answer would be `[11, 9, 9, 9, 10, 11, -1, -1, -1]` .   \n",
    "**Answer:** "
   ]
  },
  {
   "cell_type": "code",
   "execution_count": 7,
   "metadata": {
    "vscode": {
     "languageId": "java"
    }
   },
   "outputs": [
    {
     "name": "stdout",
     "output_type": "stream",
     "text": [
      "[11, 9, 9, 9, 10, 11, -1, -1, -1]\n"
     ]
    }
   ],
   "source": [
    "public int[] nextLarger(int[] input) {\n",
    "    int[] output = new int[input.length];\n",
    "    for (int i = 0; i < input.length; i++) {\n",
    "        output[i] = -1;\n",
    "    }\n",
    "\n",
    "    ArrayDeque<Integer> stack = new ArrayDeque<>();\n",
    "    for (int i = input.length - 1; i >= 0; i--) {\n",
    "        while (!stack.isEmpty() && input[i] >= stack.peek()) {\n",
    "            stack.pop();\n",
    "        }\n",
    "\n",
    "        if (!stack.isEmpty()) {\n",
    "            output[i] = stack.peek();\n",
    "        }\n",
    "\n",
    "        stack.push(input[i]);\n",
    "    }\n",
    "\n",
    "    return output;\n",
    "}\n",
    "\n",
    "System.out.println(Arrays.toString(nextLarger(new int[]{10, 7, 4, 2, 9, 10, 11, 3, 2})));"
   ]
  },
  {
   "cell_type": "markdown",
   "metadata": {},
   "source": [
    "Similarly, previous larger would be"
   ]
  },
  {
   "cell_type": "code",
   "execution_count": 8,
   "metadata": {
    "vscode": {
     "languageId": "java"
    }
   },
   "outputs": [
    {
     "name": "stdout",
     "output_type": "stream",
     "text": [
      "[-1, 10, 7, 4, 10, -1, -1, 11, 3]\n"
     ]
    }
   ],
   "source": [
    "public int[] previousLarger(int[] input) {\n",
    "    int[] output = new int[input.length];\n",
    "    for (int i = 0; i < input.length; i++) {\n",
    "        output[i] = -1;\n",
    "    }\n",
    "\n",
    "    ArrayDeque<Integer> stack = new ArrayDeque<>();\n",
    "    for (int i = 0; i < input.length; i++) {\n",
    "        while (!stack.isEmpty() && input[i] >= stack.peek()) {\n",
    "            stack.pop();\n",
    "        }\n",
    "\n",
    "        if (!stack.isEmpty()) {\n",
    "            output[i] = stack.peek();\n",
    "        }\n",
    "\n",
    "        stack.push(input[i]);\n",
    "    }\n",
    "\n",
    "    return output;\n",
    "}\n",
    "\n",
    "System.out.println(Arrays.toString(previousLarger(new int[]{10, 7, 4, 2, 9, 10, 11, 3, 2})));"
   ]
  },
  {
   "cell_type": "markdown",
   "metadata": {},
   "source": [
    "In similar fashion,"
   ]
  },
  {
   "cell_type": "code",
   "execution_count": 9,
   "metadata": {
    "tags": [],
    "vscode": {
     "languageId": "java"
    }
   },
   "outputs": [
    {
     "name": "stdout",
     "output_type": "stream",
     "text": [
      "[7, 4, 2, -1, 3, 3, 3, 2, -1]\n"
     ]
    }
   ],
   "source": [
    "public int[] nextSmaller(int[] input) {\n",
    "    int[] output = new int[input.length];\n",
    "    for (int i = 0; i < input.length; i++) {\n",
    "        output[i] = -1;\n",
    "    }\n",
    "\n",
    "    ArrayDeque<Integer> stack = new ArrayDeque<>();\n",
    "    for (int i = input.length - 1; i >= 0; i--) {\n",
    "        while (!stack.isEmpty() && input[i] <= stack.peek()) {\n",
    "            stack.pop();\n",
    "        }\n",
    "\n",
    "        if (!stack.isEmpty()) {\n",
    "            output[i] = stack.peek();\n",
    "        }\n",
    "\n",
    "        stack.push(input[i]);\n",
    "    }\n",
    "\n",
    "    return output;\n",
    "}\n",
    "\n",
    "System.out.println(Arrays.toString(nextSmaller(new int[]{10, 7, 4, 2, 9, 10, 11, 3, 2})));"
   ]
  },
  {
   "cell_type": "markdown",
   "metadata": {},
   "source": [
    "And,"
   ]
  },
  {
   "cell_type": "code",
   "execution_count": 10,
   "metadata": {
    "tags": [],
    "vscode": {
     "languageId": "java"
    }
   },
   "outputs": [
    {
     "name": "stdout",
     "output_type": "stream",
     "text": [
      "[-1, -1, -1, -1, 2, 9, 10, 2, -1]\n"
     ]
    }
   ],
   "source": [
    "public int[] previousSmaller(int[] input) {\n",
    "    int[] output = new int[input.length];\n",
    "    for (int i = 0; i < input.length; i++) {\n",
    "        output[i] = -1;\n",
    "    }\n",
    "\n",
    "    ArrayDeque<Integer> stack = new ArrayDeque<>();\n",
    "    for (int i = 0; i < input.length; i++) {\n",
    "        while (!stack.isEmpty() && input[i] <= stack.peek()) {\n",
    "            stack.pop();\n",
    "        }\n",
    "\n",
    "        if (!stack.isEmpty()) {\n",
    "            output[i] = stack.peek();\n",
    "        }\n",
    "\n",
    "        stack.push(input[i]);\n",
    "    }\n",
    "\n",
    "    return output;\n",
    "}\n",
    "\n",
    "System.out.println(Arrays.toString(previousSmaller(new int[]{10, 7, 4, 2, 9, 10, 11, 3, 2})));"
   ]
  },
  {
   "cell_type": "markdown",
   "metadata": {},
   "source": [
    "**Q 6:** Implement UNDO and REDO operations using stacks.  \n",
    "**Answer:** Maintain two stack say UNDO stack and REDO stack. We use UNDO stack to keep history of all the operations that we have done. Whenever a user does UNDO operation, we simply pop the top of the element from UNDO stack and push it to the REDO stack. Then, if the user wants to do REDO operation we pop the top of the element of REDO stack and push it to UNDO. If the user performs a new operation, then we make the stack REDO empty."
   ]
  },
  {
   "cell_type": "markdown",
   "metadata": {},
   "source": [
    "**Q 7:** Insert an element at the bottom of the stack.  \n",
    "**Answer:** We can solve this by maintaining an auxiliary stack."
   ]
  },
  {
   "cell_type": "code",
   "execution_count": 11,
   "metadata": {
    "tags": [],
    "vscode": {
     "languageId": "java"
    }
   },
   "outputs": [
    {
     "name": "stdout",
     "output_type": "stream",
     "text": [
      "[1, 3, 2, 6]\n"
     ]
    }
   ],
   "source": [
    "public void insertAtBottom(ArrayDeque<Integer> stack, Integer value) {\n",
    "    if(stack.isEmpty()) {\n",
    "        stack.push(value);\n",
    "        return;\n",
    "    }\n",
    "    \n",
    "    ArrayDeque<Integer> aux = new ArrayDeque<>();\n",
    "    while(!stack.isEmpty()) {\n",
    "        aux.push(stack.pop());\n",
    "    }\n",
    "    \n",
    "    stack.push(value);\n",
    "    while(!aux.isEmpty()) {\n",
    "        stack.push(aux.pop());\n",
    "    }\n",
    "}\n",
    "\n",
    "ArrayDeque<Integer> s2 = new ArrayDeque<>();\n",
    "s2.push(2);\n",
    "s2.push(3);\n",
    "s2.push(1);\n",
    "insertAtBottom(s2, 6);\n",
    "System.out.println(s2);"
   ]
  },
  {
   "cell_type": "markdown",
   "metadata": {},
   "source": [
    "Or we can use recursion."
   ]
  },
  {
   "cell_type": "code",
   "execution_count": 12,
   "metadata": {
    "tags": [],
    "vscode": {
     "languageId": "java"
    }
   },
   "outputs": [
    {
     "name": "stdout",
     "output_type": "stream",
     "text": [
      "[1, 3, 2, 6, 7]\n"
     ]
    }
   ],
   "source": [
    "public void insertAtBottomRec(ArrayDeque<Integer> stack, Integer value) {\n",
    "    if(stack.isEmpty()) {\n",
    "        stack.push(value);\n",
    "        return;\n",
    "    }\n",
    "    \n",
    "    Integer popped = stack.pop();\n",
    "    insertAtBottomRec(stack, value);\n",
    "    stack.push(popped);\n",
    "}\n",
    "\n",
    "insertAtBottom(s2, 7);\n",
    "System.out.println(s2);"
   ]
  },
  {
   "cell_type": "markdown",
   "metadata": {},
   "source": [
    "**Q 8:** Reverse a stack.  \n",
    "**Answer:** For every stack element, insert it at the bottom. Time complexity is $O(n^2)$. Space complexity is $O(n)$"
   ]
  },
  {
   "cell_type": "code",
   "execution_count": 13,
   "metadata": {
    "tags": [],
    "vscode": {
     "languageId": "java"
    }
   },
   "outputs": [
    {
     "name": "stdout",
     "output_type": "stream",
     "text": [
      "[7, 6, 2, 3, 1]\n"
     ]
    }
   ],
   "source": [
    "public void reverseInPlace(ArrayDeque<Integer> stack) {\n",
    "    ArrayDeque<Integer> aux = new ArrayDeque<>();\n",
    "    while(!stack.isEmpty()) {\n",
    "        aux.push(stack.pop());\n",
    "    }\n",
    "    \n",
    "    while(!aux.isEmpty()) {\n",
    "        insertAtBottom(stack, aux.pop());\n",
    "    }\n",
    "}\n",
    "\n",
    "reverseInPlace(s2);\n",
    "System.out.println(s2);"
   ]
  },
  {
   "cell_type": "markdown",
   "metadata": {},
   "source": [
    "**Q 9:** Given an array, return the number of subarrays where the leftmost element is lesser than the rightmost element. For example, if the array is `[1,4,2,5,3]`, then all possible subarrays are: `[1]`, `[4]`, `[2]`, `[5]`, `[3]`, `[1,4]`, `[2,5]`, `[1,4,2]`, `[2,5,3]`, `[4,2,5]`, `[1,4,2,5]`, `[1,4,2,5,3]`. So the count is 12.  \n",
    "**Answer:** This problem can be solved iterating over each element and finding out how many elments are greater than it towards the right. This solution is $O(n^2)$."
   ]
  },
  {
   "cell_type": "code",
   "execution_count": 14,
   "metadata": {
    "tags": [],
    "vscode": {
     "languageId": "java"
    }
   },
   "outputs": [
    {
     "name": "stdout",
     "output_type": "stream",
     "text": [
      "12\n"
     ]
    }
   ],
   "source": [
    "public int leftMostSmaller(int[] input) {\n",
    "    int count = 0;\n",
    "    for(int start=0; start<input.length; start++) {\n",
    "        for(int end=start; end<input.length; end++) {\n",
    "            if(input[start] <= input[end]) {\n",
    "                count++;\n",
    "            }\n",
    "        }\n",
    "    }\n",
    "    \n",
    "    return count;\n",
    "}\n",
    "\n",
    "System.out.println(leftMostSmaller(new int[]{1,4,2,5,3}));"
   ]
  },
  {
   "cell_type": "markdown",
   "metadata": {
    "tags": []
   },
   "source": [
    "Another way to approach is to think recursively:"
   ]
  },
  {
   "cell_type": "code",
   "execution_count": 15,
   "metadata": {
    "tags": [],
    "vscode": {
     "languageId": "java"
    }
   },
   "outputs": [
    {
     "name": "stdout",
     "output_type": "stream",
     "text": [
      "12\n"
     ]
    }
   ],
   "source": [
    "public int leftMostSmaller(int[] input, int start, int end, Set<List<Integer>> visited) {\n",
    "    if(visited.contains(List.of(start, end))) return 0;\n",
    "    visited.add(List.of(start, end));\n",
    "    \n",
    "    if(start > end) {\n",
    "        return 0;\n",
    "    } else if(start == end) {\n",
    "        return 1;\n",
    "    }\n",
    "       \n",
    "    int count = 0;\n",
    "    if(input[start] <= input[end]) count++;\n",
    "    return count + leftMostSmaller(input, start+1, end, visited) + leftMostSmaller(input, start, end-1, visited);\n",
    "}\n",
    "\n",
    "System.out.println(leftMostSmaller(new int[]{1,4,2,5,3}, 0, 4, new HashSet<>()));"
   ]
  },
  {
   "cell_type": "markdown",
   "metadata": {},
   "source": [
    "**Q 10** Given a $N \\times 2$ array, where if `A[i][0] == 1` then add `A[i][1]` to stack and return -1. If `A[i][0] == 2` then remove the most frequent item from the stack. If the most frequent item in the stack has more than one candidate, then return the one which is closest to the top.  \n",
    "**Answer** To solve this we can maintain multiple stacks, each for a particular frequency"
   ]
  },
  {
   "cell_type": "code",
   "execution_count": 17,
   "metadata": {
    "tags": [],
    "vscode": {
     "languageId": "java"
    }
   },
   "outputs": [
    {
     "name": "stdout",
     "output_type": "stream",
     "text": [
      "[-1, -1, -1, -1, -1, -1, 5, 7, 5, 4]\n"
     ]
    }
   ],
   "source": [
    "public int[] maxFreqStack(int[][] input) {\n",
    "    int[] output = new int[input.length];\n",
    "    \n",
    "    Map<Integer, Integer> freqMap = new HashMap<>();  // number -> frequency\n",
    "    List<ArrayDeque<Integer>> stackList = new ArrayList<>(); // all elements of stackList[i] have freq i+1\n",
    "    \n",
    "    for(int i=0; i<input.length; i++) {\n",
    "        if(input[i][0] == 1) {\n",
    "            output[i] = push(input[i][1], freqMap, stackList);\n",
    "        } else if(input[i][0] == 2) {\n",
    "            output[i] = pop(freqMap, stackList);\n",
    "        }\n",
    "    }\n",
    "    \n",
    "    return output;\n",
    "}\n",
    "\n",
    "private int push(int value, Map<Integer, Integer> freqMap, List<ArrayDeque<Integer>> stackList) {\n",
    "    int frequency = freqMap.getOrDefault(value, 0);\n",
    "    frequency++;\n",
    "    freqMap.put(value, frequency);\n",
    "    \n",
    "    if(stackList.size() < frequency) {\n",
    "        stackList.add(new ArrayDeque<Integer>());\n",
    "        stackList.get(frequency-1).push(value);\n",
    "    } else {\n",
    "        stackList.get(frequency-1).push(value);\n",
    "    }\n",
    "    \n",
    "    return -1;\n",
    "}\n",
    "\n",
    "private int pop(Map<Integer, Integer> freqMap, List<ArrayDeque<Integer>> stackList) {\n",
    "    int i = stackList.size() - 1;\n",
    "    while(i >= 0) {\n",
    "        if(!stackList.get(i).isEmpty()) {\n",
    "            int popped = stackList.get(i).pop();\n",
    "            freqMap.put(popped, freqMap.get(popped) - 1);\n",
    "            return popped;\n",
    "        }\n",
    "        \n",
    "        i--;\n",
    "    }\n",
    "    \n",
    "    return -1;\n",
    "}\n",
    "\n",
    "int[][] arrayInput = {{1, 5}, {1, 7}, {1, 5}, {1, 7}, {1, 4}, {1, 5}, {2, 0}, {2, 0}, {2, 0}, {2, 0}};\n",
    "System.out.println(Arrays.toString(maxFreqStack(arrayInput)));"
   ]
  },
  {
   "cell_type": "markdown",
   "metadata": {},
   "source": [
    "**Q 11** Given a string A representing an absolute path for a file (Unix-style). Return the string A after simplifying the absolute path. For example: `/a/./b/../../c/` is converted to `/c`  \n",
    "**Answer** . We can remove the last character if it is a `/`."
   ]
  },
  {
   "cell_type": "code",
   "execution_count": 18,
   "metadata": {
    "tags": [],
    "vscode": {
     "languageId": "java"
    }
   },
   "outputs": [
    {
     "name": "stdout",
     "output_type": "stream",
     "text": [
      "/c\n",
      "/a/b/c\n",
      "/home\n"
     ]
    }
   ],
   "source": [
    "public String simplifyDirectory(String path) {\n",
    "    if(path.charAt(path.length()-1) == '/') {\n",
    "        path = path.substring(0, path.length() - 1);\n",
    "    }\n",
    "    \n",
    "    String[] parts = path.split(\"/\");\n",
    "    ArrayDeque<String> stack = new ArrayDeque<>();\n",
    "    for(int i=0; i<parts.length; i++) {\n",
    "        if(parts[i].equals(\".\") || parts[i].isEmpty()) {\n",
    "            // Do nothing\n",
    "        } else if(parts[i].equals(\"..\") && !stack.isEmpty()) {\n",
    "            stack.pop();\n",
    "        } else {\n",
    "            stack.push(parts[i]);\n",
    "        }\n",
    "    }\n",
    "    \n",
    "    StringBuilder builder = new StringBuilder();\n",
    "    while (!stack.isEmpty()) {\n",
    "        builder.insert(0, \"/\" + stack.pop());\n",
    "    }\n",
    "           \n",
    "    return builder.toString();\n",
    "}\n",
    "           \n",
    "String path = \"/a/./b/../../c/\";\n",
    "System.out.println(simplifyDirectory(path));\n",
    "\n",
    "path = \"/a/b/c\";\n",
    "System.out.println(simplifyDirectory(path));\n",
    "\n",
    "path = \"/home/\";\n",
    "System.out.println(simplifyDirectory(path));"
   ]
  },
  {
   "cell_type": "code",
   "execution_count": null,
   "metadata": {},
   "outputs": [],
   "source": []
  }
 ],
 "metadata": {
  "kernelspec": {
   "display_name": "Java",
   "language": "java",
   "name": "java"
  },
  "language_info": {
   "codemirror_mode": "java",
   "file_extension": ".jshell",
   "mimetype": "text/x-java-source",
   "name": "Java",
   "pygments_lexer": "java",
   "version": "21.0.2+13-58"
  }
 },
 "nbformat": 4,
 "nbformat_minor": 4
}
