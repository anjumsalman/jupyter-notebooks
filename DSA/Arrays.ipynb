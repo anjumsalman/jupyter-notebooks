{
 "cells": [
  {
   "cell_type": "markdown",
   "metadata": {},
   "source": [
    "**Q 1** Given an array of positive integers, return the array of next numerically greater permutation. If no such permutation return the numerically lowest permutation. For example, if array is `[2, 1, 3]` return `[2, 3, 1]`. If array is `[3, 2, 1]` return `[1, 2, 3]`  \n",
    "**Answer**"
   ]
  },
  {
   "cell_type": "code",
   "execution_count": 7,
   "metadata": {},
   "outputs": [
    {
     "name": "stdout",
     "output_type": "stream",
     "text": [
      "[1, 3, 1, 2]\n"
     ]
    }
   ],
   "source": [
    "def sort(array, start, end):\n",
    "    for i in range(start, end + 1):\n",
    "        min = array[i]\n",
    "        pos = i\n",
    "        for j in range(i, end + 1):\n",
    "            if array[j] < min:\n",
    "                min = array[j]\n",
    "                pos = j\n",
    "\n",
    "        array[i], array[pos] = array[pos], array[i]\n",
    "\n",
    "\n",
    "def next_permutation(array):\n",
    "    # If array has 0 or 1 element return array\n",
    "    if len(array) == 0 or len(array) == 1:\n",
    "        return array\n",
    "\n",
    "    # If array is already sorted in descending order\n",
    "    # sort array in ascending order and return\n",
    "    sorted = True\n",
    "    for i in range(len(array)-1):\n",
    "        if array[i] < array[i + 1]:\n",
    "            sorted = False\n",
    "            break\n",
    "\n",
    "    if sorted:\n",
    "        return sort(array, 0, len(A)-1)\n",
    "\n",
    "    # Compare A[i] with A[i-1] from the end\n",
    "    # If A[i] is greater than A[i-1] then replace A[i-1]\n",
    "    # with the item just greater than A[i-1] in the\n",
    "    # range i to end\n",
    "    i = len(array) - 1\n",
    "    while i >= 1:\n",
    "        if array[i] > array[i-1]:\n",
    "            j = i\n",
    "            pos = i\n",
    "            lowest = array[i]\n",
    "            while j < len(array):\n",
    "                if array[j] > array[i-1] and array[j] < lowest:\n",
    "                    lowest = array[j]\n",
    "                    pos = j\n",
    "                j += 1\n",
    "\n",
    "            array[i-1], array[pos] = array[pos], array[i-1]\n",
    "\n",
    "            # Sort remaining from i to end\n",
    "            sort(array, i, len(array)-1)\n",
    "\n",
    "            break\n",
    "        i -= 1\n",
    "\n",
    "    return array\n",
    "\n",
    "\n",
    "array = [1, 2, 3, 1]\n",
    "print(next_permutation(array))"
   ]
  },
  {
   "cell_type": "markdown",
   "metadata": {},
   "source": [
    "**Q 2** Print an array $M \\times N$ in spiral order  \n",
    "**Answer:**"
   ]
  },
  {
   "cell_type": "code",
   "execution_count": 11,
   "metadata": {},
   "outputs": [
    {
     "name": "stdout",
     "output_type": "stream",
     "text": [
      "1, 2, 3, 6, 9, 8, 7, 4, 5, "
     ]
    }
   ],
   "source": [
    "def print_spiral(A):\n",
    "    r_s = 0\n",
    "    r_e = len(A) - 1\n",
    "    c_s = 0\n",
    "    c_e = len(A[0]) - 1\n",
    "    \n",
    "    while r_s <= r_e and c_s <= c_e:\n",
    "        for i in range(c_s, c_e + 1):\n",
    "            print(A[r_s][i], end=', ')\n",
    "        r_s += 1\n",
    "        \n",
    "        for i in range(r_s, r_e + 1):\n",
    "            print(A[i][c_e], end=', ')\n",
    "        c_e -= 1\n",
    "        \n",
    "        if r_s <= r_e and c_s <= c_e:\n",
    "            for i in reversed(range(c_s, c_e + 1)):\n",
    "                print(A[r_e][i], end=', ')\n",
    "            r_e -= 1\n",
    "\n",
    "            for i in reversed(range(r_s, r_e + 1)):\n",
    "                print(A[i][c_s], end=', ')\n",
    "            c_s += 1\n",
    "            \n",
    "A = [[1,2,3], [4,5,6], [7,8,9]]\n",
    "print_spiral(A)"
   ]
  },
  {
   "cell_type": "markdown",
   "metadata": {},
   "source": [
    "**Q 3** Given a number $A$, return a matrix filled from 1 to $A^2$ in spiral order  \n",
    "**Answer** Just a slight modification of the above question"
   ]
  },
  {
   "cell_type": "code",
   "execution_count": 15,
   "metadata": {},
   "outputs": [
    {
     "name": "stdout",
     "output_type": "stream",
     "text": [
      "[[1, 2, 3, 4], [12, 13, 14, 5], [11, 16, 15, 6], [10, 9, 8, 7]]\n"
     ]
    }
   ],
   "source": [
    "def spiral_square(A):\n",
    "    r_s = 0\n",
    "    r_e = A - 1\n",
    "    c_s = 0\n",
    "    c_e = A - 1\n",
    "\n",
    "    num = 1\n",
    "    matrix = []\n",
    "    for i in range(A):\n",
    "        matrix.append([])\n",
    "        for j in range(A):\n",
    "            matrix[i].append(0)\n",
    "\n",
    "    while r_s <= r_e and c_s <= c_e:\n",
    "        for i in range(c_s, c_e + 1):\n",
    "            matrix[r_s][i] = num\n",
    "            num += 1\n",
    "        r_s += 1\n",
    "\n",
    "        for i in range(r_s, r_e + 1):\n",
    "            matrix[i][c_e] = num\n",
    "            num += 1\n",
    "        c_e -= 1\n",
    "\n",
    "        if r_s <= r_e and c_s <= c_e:\n",
    "            for i in reversed(range(c_s, c_e + 1)):\n",
    "                matrix[r_e][i] = num\n",
    "                num += 1\n",
    "            r_e -= 1\n",
    "\n",
    "            for i in reversed(range(r_s, r_e + 1)):\n",
    "                matrix[i][c_s] = num\n",
    "                num += 1\n",
    "            c_s += 1\n",
    "\n",
    "    return matrix\n",
    "\n",
    "\n",
    "A = 4\n",
    "print(spiral_square(A))"
   ]
  },
  {
   "cell_type": "markdown",
   "metadata": {},
   "source": [
    "**Q 4** Given a matrix  $M \\times N$ with 0s and 1s, if a cell has 0 then replace that entire row and column with 0. For example,\n",
    "```\n",
    "1 0 1                       0 0 0\n",
    "1 1 1    is transformed to  1 0 1 \n",
    "1 0 1                       0 0 0\n",
    "```\n",
    "**Answer** If we take extra memory we can solve it by:"
   ]
  },
  {
   "cell_type": "code",
   "execution_count": 16,
   "metadata": {},
   "outputs": [
    {
     "name": "stdout",
     "output_type": "stream",
     "text": [
      "[[0, 0, 0], [1, 0, 1], [0, 0, 0]]\n"
     ]
    }
   ],
   "source": [
    "def zero_out_matrix(matrix):\n",
    "    # rows and column arrays represent which row\n",
    "    # and which column will be entirely zero\n",
    "    rows = [False]*len(matrix)\n",
    "    cols = [False]*len(matrix[0])\n",
    "    \n",
    "    for i in range(len(matrix)):\n",
    "        for j in range(len(matrix[0])):\n",
    "            if matrix[i][j] == 0:\n",
    "                rows[i] = True\n",
    "                cols[j] = True\n",
    "                \n",
    "    for i in range(len(matrix)):\n",
    "        for j in range(len(matrix[0])):\n",
    "            if rows[i]:\n",
    "                matrix[i][j] = 0\n",
    "                \n",
    "            if cols[j]:\n",
    "                matrix[i][j] = 0\n",
    "                \n",
    "    return matrix\n",
    "\n",
    "matrix = [\n",
    "    [1, 0, 1],\n",
    "    [1, 1, 1],\n",
    "    [1, 0, 1]\n",
    "]\n",
    "\n",
    "print(zero_out_matrix(matrix))"
   ]
  },
  {
   "cell_type": "markdown",
   "metadata": {},
   "source": [
    "We can solve the above problem by not taking extra memory. While traversing the matrix, those cells that will be transformed from 0 to 1 can be initially set to -1."
   ]
  },
  {
   "cell_type": "code",
   "execution_count": 1,
   "metadata": {},
   "outputs": [
    {
     "name": "stdout",
     "output_type": "stream",
     "text": [
      "[[0, 0, 0], [1, 0, 1], [0, 0, 0]]\n"
     ]
    }
   ],
   "source": [
    "def zero_out_matrix(matrix):\n",
    "    for i in range(len(matrix)):\n",
    "        transform = False\n",
    "        for j in range(len(matrix[0])):\n",
    "            if matrix[i][j] == 0:\n",
    "                transform = True\n",
    "            elif transform:\n",
    "                matrix[i][j] = -1\n",
    "                \n",
    "        for j in reversed(range(len(matrix[0]))):\n",
    "            if matrix[i][j] == 1 and transform:                \n",
    "                matrix[i][j] = -1\n",
    "                \n",
    "    for j in range(len(matrix[0])):\n",
    "        transform = False\n",
    "        for i in range(len(matrix)):\n",
    "            if matrix[i][j] == 0:\n",
    "                transform = True\n",
    "            elif transform:\n",
    "                matrix[i][j] = -1\n",
    "                \n",
    "        for i in reversed(range(len(matrix))):\n",
    "            if matrix[i][j] == 1 and transform:                \n",
    "                matrix[i][j] = -1\n",
    "                \n",
    "                \n",
    "    for i in range(len(matrix)):\n",
    "        for j in range(len(matrix[0])):\n",
    "            if matrix[i][j] == -1:\n",
    "                matrix[i][j] = 0\n",
    "                \n",
    "    return matrix\n",
    "\n",
    "matrix = [\n",
    "    [1, 0, 1],\n",
    "    [1, 1, 1],\n",
    "    [1, 0, 1]\n",
    "]\n",
    "\n",
    "print(zero_out_matrix(matrix))"
   ]
  },
  {
   "cell_type": "markdown",
   "metadata": {},
   "source": [
    "**Q 5** Given an array of building heights, each building has width 1 unit. How much water can be trapped between the buildings? Example:  \n",
    "![Water Trapped](https://i.imgur.com/C8VoOR1.png)  \n",
    "**Answer** We note that the first and the last buildings do not capture any water. Moreover water captured above any building can be found by observing the tallest buildings to the left and right of the current building."
   ]
  },
  {
   "cell_type": "code",
   "execution_count": 22,
   "metadata": {},
   "outputs": [
    {
     "name": "stdout",
     "output_type": "stream",
     "text": [
      "1\n"
     ]
    }
   ],
   "source": [
    "def water_trapped(array):\n",
    "    # If only two, one or zero buildings, return 0\n",
    "    if len(array) == 0 or len(array) == 1 or len(array) == 2:\n",
    "        return 0\n",
    "    \n",
    "    # Form an array which contains the tallest building to the\n",
    "    # right of each index\n",
    "    right_max = [0] * len(array)\n",
    "    right_max[-1] = array[-1]\n",
    "    for i in reversed(range(0, len(array) - 1)):\n",
    "        if array[i] > right_max[i + 1]:\n",
    "            right_max[i] = array[i]\n",
    "        else:\n",
    "            right_max[i] = right_max[i + 1]\n",
    "            \n",
    "    trapped = 0\n",
    "    left_max = array[0]\n",
    "    for i in range(1, len(array) - 1):\n",
    "        if array[i] > left_max:\n",
    "            left_max = array[i]\n",
    "            \n",
    "        trapped += min(left_max, right_max[i]) - array[i]\n",
    "        \n",
    "    return trapped\n",
    "\n",
    "array = [0, 1, 0, 2]\n",
    "print(water_trapped(array))"
   ]
  },
  {
   "cell_type": "markdown",
   "metadata": {},
   "source": [
    "**Q 6** Given an array, find the maximum value of $|A[i] - A[j]| + |i-j|$.  \n",
    "**Answer** There are four possible cases which can then be reduced to two:  \n",
    "1. $A[i] \\ge A[j]$ and $i \\ge j$  \n",
    "We get:\n",
    "$(A[i] + i) - (A[j] - j)$  \n",
    "\n",
    "2. $A[i] \\ge A[j]$ and $i \\lt j$  \n",
    "We get:\n",
    "$(A[i] - i) - (A[j] - j)$\n",
    "\n",
    "3. $A[i] \\lt A[j]$ and $i \\ge j$  \n",
    "We get:\n",
    "$(A[j] - j) - (A[i] - i)$\n",
    "\n",
    "4. $A[i] \\lt A[j]$ and $i \\lt j$  \n",
    "We get:\n",
    "$(A[j] + j) - (A[i] + i)$\n",
    "\n",
    "We can see that cases 1,4 and 2,3 are identical. Now coming back to the question, we just have to find the maximum and minimum values of $(A[i] + i)$ and $(A[i] - i)$"
   ]
  },
  {
   "cell_type": "code",
   "execution_count": 25,
   "metadata": {},
   "outputs": [
    {
     "name": "stdout",
     "output_type": "stream",
     "text": [
      "5\n"
     ]
    }
   ],
   "source": [
    "def max_absolute_value(A):\n",
    "    # Case 1,4\n",
    "    max_1 = A[0] + 0\n",
    "    min_1 = A[0] + 0\n",
    "    res_1 = 0\n",
    "    for i in range(1, len(A)):\n",
    "        if A[i] + i > max_1:\n",
    "            max_1 = A[i] + i\n",
    "            \n",
    "        if A[i] + i < min_1:\n",
    "            min_1 = A[i] + i\n",
    "    res_1 = max_1 - min_1\n",
    "    \n",
    "    # Case 2,3\n",
    "    max_2 = A[0] - 0\n",
    "    min_2 = A[0] - 0\n",
    "    res_2 = 0\n",
    "    for i in range(1, len(A)):\n",
    "        if A[i] - i > max_2:\n",
    "            max_2 = A[i] - i\n",
    "            \n",
    "        if A[i] - i < min_2:\n",
    "            min_2 = A[i] - i\n",
    "    res_2 = max_2 - min_2\n",
    "    \n",
    "    return max(res_1, res_2)\n",
    "\n",
    "A = [1, 3, -1]\n",
    "print(max_absolute_value(A))"
   ]
  },
  {
   "cell_type": "markdown",
   "metadata": {},
   "source": [
    "**Q 7** Given a matrix $A$, where each row and each column is sorted in ascending order, find a given number $B$. Return $i+ 1009 +j$ if $B$ is found, else return -1.  \n",
    "**Answer** Consider the matrix\n",
    "```\n",
    "1  5  8  9 10\n",
    "2  6  9 11 14\n",
    "7 12 15 16 21\n",
    "```\n",
    "\n",
    "If we have to find 11, we can start at:\n",
    "- (0,0) : in this case 11 can either be to the right or downward\n",
    "- (0, end) : in this case we have 1 direction to move to, this is a good choice for starting\n",
    "- (end, 0) : in this case too, we have 1 direction to move to\n",
    "- (end, end) : in this case again, 11 can be to the left or upwards\n",
    "\n",
    "So we start at either (0, end) or (end, 0)"
   ]
  },
  {
   "cell_type": "code",
   "execution_count": 28,
   "metadata": {},
   "outputs": [
    {
     "name": "stdout",
     "output_type": "stream",
     "text": [
      "1012\n"
     ]
    }
   ],
   "source": [
    "def find(A, B):\n",
    "    i = 0\n",
    "    j = len(A[0])-1\n",
    "    while i < len(A) and j >= 0:\n",
    "        if A[i][j] == B:\n",
    "            return i + 1009 + j\n",
    "        elif A[i][j] > B:\n",
    "            j -= 1\n",
    "        elif A[i][j] < B:\n",
    "            i += 1\n",
    "    \n",
    "    return -1\n",
    "\n",
    "A = [\n",
    "    [1, 5, 8, 9, 10],\n",
    "    [2, 6, 9, 11, 14],\n",
    "    [7, 12, 15, 16, 21]\n",
    "]\n",
    "B = 12\n",
    "\n",
    "print(find(A, B))"
   ]
  },
  {
   "cell_type": "markdown",
   "metadata": {},
   "source": [
    "**Q 8** Given a matrix $A$ of dimensions $N \\times N$, return sum of all possible submatrices.  \n",
    "**Answer** The optimal way is to find how many submatrices each cell of the matrix belong to. In order to find that consider the fact that a matrix can be represented by two of its diagonally opposite corners. So to find out how many matrices a cell belongs to, find out given a cell in the matrix how many valid locations are there for its top right and bottom left corners. As illustrated:  \n",
    "![Number of submatrices](https://i.imgur.com/MzYTQUD.png)"
   ]
  },
  {
   "cell_type": "code",
   "execution_count": 30,
   "metadata": {},
   "outputs": [
    {
     "name": "stdout",
     "output_type": "stream",
     "text": [
      "16\n"
     ]
    }
   ],
   "source": [
    "def submatrices_sum(A):\n",
    "    sum = 0\n",
    "    for i in range(len(A)):\n",
    "        for j in range(len(A)):\n",
    "            sum += (len(A) - i) * (len(A) - j) * (i + 1) * (j + 1) * A[i][j]\n",
    "            \n",
    "    return sum\n",
    "\n",
    "A = [[1,1], [1,1]]\n",
    "print(submatrices_sum(A))"
   ]
  },
  {
   "cell_type": "markdown",
   "metadata": {},
   "source": [
    "**Q 9** Given a matrix $A$, find the sum of a submatrix given the top-left and bottom right corners.  \n",
    "**Answer** The solution to this problem is $O(n^2)$. However if we are given a number of summation queries (each with top-left and bottom right corners provided), we can solve this much faster. The idea is to create a pre-sum matrix"
   ]
  },
  {
   "cell_type": "code",
   "execution_count": 33,
   "metadata": {},
   "outputs": [
    {
     "name": "stdout",
     "output_type": "stream",
     "text": [
      "[31]\n"
     ]
    }
   ],
   "source": [
    "# A is the matrix\n",
    "# B[i], C[i] represents top left corner\n",
    "# D[i], E[i] represents bottom right corner\n",
    "def submatrix_sum(A, B, C, D, E):\n",
    "    # Form the pre-sum matrix\n",
    "    # Sum row wise\n",
    "    for i in range(len(A)):\n",
    "        for j in range(1, len(A[0])):\n",
    "            A[i][j] += A[i][j-1]\n",
    "    # Sum column wise        \n",
    "    for j in range(len(A[0])):\n",
    "        for i in range(1, len(A)):\n",
    "            A[i][j] += A[i-1][j]\n",
    "            \n",
    "    sums = []\n",
    "    for i in range(len(B)):\n",
    "        x = B[i]\n",
    "        y = C[i]\n",
    "        a = D[i]\n",
    "        b = E[i]\n",
    "        \n",
    "        sum = A[a][b]\n",
    "        \n",
    "        if x-1 >= 0:\n",
    "            sum -= A[x-1][b]\n",
    "            \n",
    "        if y-1 >= 0:\n",
    "            sum -= A[a][y-1]\n",
    "            \n",
    "        if x-1 >= 0 and y-1 >= 0:\n",
    "            sum += A[x-1][y-1]\n",
    "            \n",
    "        sums.append(sum)\n",
    "        \n",
    "    return sums\n",
    "\n",
    "A = [\n",
    "    [9,1,8,4,3,7],\n",
    "    [6,8,1,5,9,0],\n",
    "    [2,4,7,6,5,4]\n",
    "]\n",
    "\n",
    "B = [1]\n",
    "C = [1]\n",
    "D = [2]\n",
    "E = [3]\n",
    "\n",
    "print(submatrix_sum(A,B,C,D,E))"
   ]
  },
  {
   "cell_type": "markdown",
   "metadata": {},
   "source": [
    "**Q 10** Given a list of arrays representing intervals, return new list of intervals when we  insert another interval. For example, if we have intervals `[[1, 3], [6, 9]]` and we insert `[2,5]` the return `[1,5], [6,9]` .  \n",
    "**Answer:**"
   ]
  },
  {
   "cell_type": "code",
   "execution_count": 44,
   "metadata": {},
   "outputs": [
    {
     "name": "stdout",
     "output_type": "stream",
     "text": [
      "[[1, 5], [6, 9]]\n",
      "[[1, 9]]\n",
      "[[1, 3], [4, 5], [6, 9]]\n"
     ]
    }
   ],
   "source": [
    "def merge_intervals(intervals, new_interval):\n",
    "    # Sort all intervals\n",
    "    intervals.append(new_interval)\n",
    "    intervals = sorted(intervals, key = lambda x: x[0])\n",
    "    \n",
    "    merged = []\n",
    "    \n",
    "    prev = intervals[0]\n",
    "    for i in range(1, len(intervals)):\n",
    "        current = intervals[i]\n",
    "        \n",
    "        if current[0] > prev[1]:s\n",
    "            merged.append(prev)\n",
    "            prev = current\n",
    "            if i == len(A) - 1:\n",
    "                merged.append(current)\n",
    "        elif current[1] <= prev[1]:\n",
    "            if i == len(A) - 1:\n",
    "                merged.append(prev)\n",
    "        elif current[1] >= prev[1]:\n",
    "            prev[1] = current[1]\n",
    "            if i == len(A) - 1:\n",
    "                merged.append(prev)\n",
    "            \n",
    "    return merged\n",
    "\n",
    "print(merge_intervals([[1, 5], [6, 9]], [2,3]))\n",
    "print(merge_intervals([[1, 3], [6, 9]], [2,6]))\n",
    "print(merge_intervals([[1, 3], [6, 9]], [4,5]))"
   ]
  },
  {
   "cell_type": "markdown",
   "metadata": {},
   "source": [
    "**Q 11** Given a matrix $A$ and a number $B$ return the minimum number of operations required to make all elements of the matrix equal. Operation here means adding or subtracting $B$ from any item in matrix. Return -1 if it is not possible.  \n",
    "**Answer** In order to find the minimum number of operations, we need to find the median element. Because it is equidistant from both the ends of the number range."
   ]
  },
  {
   "cell_type": "code",
   "execution_count": 51,
   "metadata": {},
   "outputs": [
    {
     "name": "stdout",
     "output_type": "stream",
     "text": [
      "12\n"
     ]
    }
   ],
   "source": [
    "def min_operations(A, B):\n",
    "    # Flatten A\n",
    "    array = []\n",
    "    for i in range(len(A)):\n",
    "        for j in range(len(A[0])):\n",
    "            array.append(A[i][j])\n",
    "\n",
    "    # Sort array to find median element\n",
    "    array = sorted(array)\n",
    "    median = []\n",
    "    # 2 medians if even number of elements\n",
    "    if len(array) % 2 == 0:\n",
    "        median.append(array[len(array) // 2])\n",
    "        median.append(array[(len(array) - 1) // 2])\n",
    "    # 1 median if odd number of elements\n",
    "    else:\n",
    "        median.append(array[len(array) // 2])\n",
    "        median.append(array[len(array) // 2])\n",
    "\n",
    "    ops_median_1 = 0\n",
    "    ops_median_2 = 0\n",
    "\n",
    "    # Median 1\n",
    "    result = 0\n",
    "    for i in range(len(A)):\n",
    "        for j in range(len(A[0])):\n",
    "            if A[i][j] <= median[0]:\n",
    "                if (median[0] - A[i][j]) % B == 0:\n",
    "                    ops_median_1 += (median[0] - A[i][j]) // B\n",
    "                else:\n",
    "                    result = -1\n",
    "                    break\n",
    "            else:\n",
    "                if (A[i][j] - median[0]) % B == 0:\n",
    "                    ops_median_1 += (A[i][j] - median[0]) // B\n",
    "                else:\n",
    "                    result = -1\n",
    "                    break\n",
    "\n",
    "    # Median 2\n",
    "    result = 0\n",
    "    for i in range(len(A)):\n",
    "        for j in range(len(A[0])):\n",
    "            if A[i][j] <= median[1]:\n",
    "                if (median[1] - A[i][j]) % B == 0:\n",
    "                    ops_median_2 += (median[1] - A[i][j]) // B\n",
    "                else:\n",
    "                    result = -1\n",
    "                    break\n",
    "            else:\n",
    "                if (A[i][j] - median[1]) % B == 0:\n",
    "                    ops_median_2 += (A[i][j] - median[1]) // B\n",
    "                else:\n",
    "                    result = -1\n",
    "                    break\n",
    "\n",
    "    if result == -1:\n",
    "        return result\n",
    "\n",
    "    if ops_median_1 == 0:\n",
    "        return ops_median_2\n",
    "    elif ops_median_2 == 0:\n",
    "        return ops_median_1\n",
    "\n",
    "    return min(ops_median_1, ops_median_2)\n",
    "\n",
    "\n",
    "A = [\n",
    "    [0, 2, 8],\n",
    "    [8, 2, 0],\n",
    "    [0, 2, 8],\n",
    "]\n",
    "B = 2\n",
    "\n",
    "print(min_operations(A, B))"
   ]
  },
  {
   "cell_type": "markdown",
   "metadata": {},
   "source": [
    "**Q 12** Given an array of integers $A$, sort the array into a wave like array and return it, In other words, arrange the elements into a sequence such that $a1 \\ge a2 \\le a3 \\ge a4 \\le a5 ...$. If more than one possible solutions present, then return the numerically lowest.  \n",
    "**Answer**"
   ]
  },
  {
   "cell_type": "code",
   "execution_count": 1,
   "metadata": {},
   "outputs": [
    {
     "name": "stdout",
     "output_type": "stream",
     "text": [
      "[2, 1, 4, 3, 5]\n"
     ]
    }
   ],
   "source": [
    "def wave_sort(A):\n",
    "    # Since we want the lexicographically lowest, sort given array first\n",
    "    A = sorted(A)\n",
    "    \n",
    "    for i in range(len(A) - 1):\n",
    "        if i % 2 == 0:\n",
    "            if A[i+1] > A[i]:\n",
    "                A[i], A[i+1] = A[i+1], A[i]\n",
    "        else:\n",
    "            if A[i+1] < A[i]:\n",
    "                A[i], A[i+1] = A[i+1], A[i]\n",
    "                \n",
    "    return A\n",
    "\n",
    "A = [1,2,3,4,5]\n",
    "print(wave_sort(A))"
   ]
  },
  {
   "cell_type": "code",
   "execution_count": null,
   "metadata": {},
   "outputs": [],
   "source": []
  }
 ],
 "metadata": {
  "kernelspec": {
   "display_name": "Python 3",
   "language": "python",
   "name": "python3"
  },
  "language_info": {
   "codemirror_mode": {
    "name": "ipython",
    "version": 3
   },
   "file_extension": ".py",
   "mimetype": "text/x-python",
   "name": "python",
   "nbconvert_exporter": "python",
   "pygments_lexer": "ipython3",
   "version": "3.7.4"
  }
 },
 "nbformat": 4,
 "nbformat_minor": 4
}
