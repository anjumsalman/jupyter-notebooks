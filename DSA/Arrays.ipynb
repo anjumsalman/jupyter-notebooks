{
 "cells": [
  {
   "cell_type": "markdown",
   "metadata": {},
   "source": [
    "**Q 1** Given an array of positive integers, return the array of next numerically greater permutation (i.e next greater number that can be formed using the given array). If no such permutation return the numerically lowest permutation. For example, if array is `[2, 1, 3]` return `[2, 3, 1]`. If array is `[3, 2, 1]` return `[1, 2, 3]`  \n",
    "**Answer** Note that this question is different from *next lexicographically greater permutation of its integer*. In that case just change the `Comparator` in the below solution to `(i, j) -> i - j`."
   ]
  },
  {
   "cell_type": "code",
   "execution_count": 2,
   "metadata": {
    "tags": []
   },
   "outputs": [
    {
     "name": "stdout",
     "output_type": "stream",
     "text": [
      "[2, 7, 2, 66, 9]\n",
      "[8, 13, 10, 1, 20]\n"
     ]
    }
   ],
   "source": [
    "public int[] nextNumericallyGreater(int[] input) {\n",
    "    ConcatenateComparator comparator = new ConcatenateComparator();\n",
    "    for (int i = input.length - 1; i >= 1; i--) {\n",
    "        if (comparator.compare(input[i], input[i - 1]) > 0) {\n",
    "            // find number just greater than input[i-1] in the range i to input.length -1\n",
    "            int min = input[i];\n",
    "            int minIndex = i;\n",
    "            for (int j = i + 1; j < input.length; j++) {\n",
    "                if (comparator.compare(min, input[j]) > 0 && comparator.compare(input[j], input[i - 1]) > 0) {\n",
    "                    min = input[j];\n",
    "                    minIndex = j;\n",
    "                }\n",
    "            }\n",
    "\n",
    "            // swap elements\n",
    "            int temp = input[i - 1];\n",
    "            input[i - 1] = input[minIndex];\n",
    "            input[minIndex] = temp;\n",
    "\n",
    "            // sort from i to array.length - 1\n",
    "            sort(input, i, input.length - 1, comparator);\n",
    "\n",
    "            return input;\n",
    "        }\n",
    "    }\n",
    "\n",
    "    sort(input, 0, input.length - 1, comparator);\n",
    "    return input;\n",
    "}\n",
    "\n",
    "private static class ConcatenateComparator implements Comparator<Integer> {\n",
    "    @Override\n",
    "    public int compare(Integer i1, Integer i2) {\n",
    "        return Integer.compare(Integer.parseInt(i1 + \"\" + i2), Integer.parseInt(i2 + \"\" + i1));\n",
    "    }\n",
    "}\n",
    "private void sort(int[] input, int start, int end, ConcatenateComparator comparator) {\n",
    "    if (start < end) {\n",
    "        int pivot = partition(input, start, end, comparator);\n",
    "        sort(input, start, pivot - 1, comparator);\n",
    "        sort(input, pivot + 1, end, comparator);\n",
    "    }\n",
    "}\n",
    "private int partition(int[] input, int start, int end, ConcatenateComparator comparator) {\n",
    "    int pivot = input[end];\n",
    "    int pivotIndex = start;\n",
    "\n",
    "    for (int i = start; i <= end; i++) {\n",
    "        if (comparator.compare(input[i], pivot) <= 0) {\n",
    "            int temp = input[i];\n",
    "            input[i] = input[pivotIndex];\n",
    "            input[pivotIndex] = temp;\n",
    "\n",
    "            pivotIndex++;\n",
    "        }\n",
    "    }\n",
    "\n",
    "    return pivotIndex - 1;\n",
    "}\n",
    "\n",
    "int[] nextNumericallyGreaterInput = {2, 66, 9, 7, 2};\n",
    "System.out.println(Arrays.toString(nextNumericallyGreater(nextNumericallyGreaterInput)));\n",
    "\n",
    "int[] nextNumericallyGreaterInput2 = {8, 1, 20, 13, 10};\n",
    "System.out.println(Arrays.toString(nextNumericallyGreater(nextNumericallyGreaterInput2)));"
   ]
  },
  {
   "cell_type": "markdown",
   "metadata": {},
   "source": [
    "**Q 2** Print an array $M \\times N$ in spiral order  \n",
    "**Answer:**"
   ]
  },
  {
   "cell_type": "code",
   "execution_count": 3,
   "metadata": {},
   "outputs": [
    {
     "name": "stdout",
     "output_type": "stream",
     "text": [
      "[1, 2, 3, 4, 8, 12, 11, 10, 9, 5, 6, 7]\n"
     ]
    }
   ],
   "source": [
    "public int[] spiralOrder(int[][] input) {\n",
    "    int[] out = new int[input.length * input[0].length];\n",
    "    int c = 0;\n",
    "\n",
    "    int l = 0, r = input[0].length - 1;\n",
    "    int t = 0, b = input.length - 1;\n",
    "\n",
    "    while (l <= r && t <= b) {\n",
    "        // Left to Right\n",
    "        for (int i = l; i <= r; i++) {\n",
    "            out[c] = input[t][i];\n",
    "            c++;\n",
    "        }\n",
    "        t++;\n",
    "\n",
    "        // Top to Bottom\n",
    "        for (int i = t; i <= b; i++) {\n",
    "            out[c] = input[i][r];\n",
    "            c++;\n",
    "        }\n",
    "        r--;\n",
    "\n",
    "        if (l <= r && t <= b) {\n",
    "            // Right to Left\n",
    "            for (int i = r; i >= l; i--) {\n",
    "                out[c] = input[b][i];\n",
    "                c++;\n",
    "            }\n",
    "            b--;\n",
    "\n",
    "            // Bottom to Top\n",
    "            for (int i = b; i >= t; i--) {\n",
    "                out[c] = input[i][l];\n",
    "                c++;\n",
    "            }\n",
    "            l++;\n",
    "        }\n",
    "    }\n",
    "\n",
    "    return out;\n",
    "}\n",
    "\n",
    "int[][] matrix = {\n",
    "        {1, 2, 3, 4},\n",
    "        {5, 6, 7, 8},\n",
    "        {9, 10, 11, 12}\n",
    "};\n",
    "System.out.println(Arrays.toString(spiralOrder(matrix)));"
   ]
  },
  {
   "cell_type": "markdown",
   "metadata": {},
   "source": [
    "**Q 3** Given a number $A$, return a matrix filled from 1 to $A^2$ in spiral order  \n",
    "**Answer** Just a slight modification of the above question"
   ]
  },
  {
   "cell_type": "code",
   "execution_count": 4,
   "metadata": {},
   "outputs": [
    {
     "name": "stdout",
     "output_type": "stream",
     "text": [
      "[[0, 1, 2, 3], [11, 12, 13, 4], [10, 15, 14, 5], [9, 8, 7, 6]]\n"
     ]
    }
   ],
   "source": [
    "public int[][] fillSpiral(int length) {\n",
    "    int[][] out = new int[length][length];\n",
    "    int c = 0;\n",
    "\n",
    "    int l = 0, r = length - 1;\n",
    "    int t = 0, b = length - 1;\n",
    "\n",
    "    while (l <= r && t <= b) {\n",
    "        // Left to Right\n",
    "        for (int i = l; i <= r; i++) {\n",
    "            out[t][i] = c;\n",
    "            c++;\n",
    "        }\n",
    "        t++;\n",
    "\n",
    "        // Top to Bottom\n",
    "        for (int i = t; i <= b; i++) {\n",
    "            out[i][r] = c;\n",
    "            c++;\n",
    "        }\n",
    "        r--;\n",
    "\n",
    "        if (l <= r && t <= b) {\n",
    "            // Right to Left\n",
    "            for (int i = r; i >= l; i--) {\n",
    "                out[b][i] = c;\n",
    "                c++;\n",
    "            }\n",
    "            b--;\n",
    "\n",
    "            // Bottom to Top\n",
    "            for (int i = b; i >= t; i--) {\n",
    "                out[i][l] = c;\n",
    "                c++;\n",
    "            }\n",
    "            l++;\n",
    "        }\n",
    "    }\n",
    "\n",
    "    return out;\n",
    "}\n",
    "\n",
    "System.out.println(Arrays.deepToString(fillSpiral(4)));"
   ]
  },
  {
   "cell_type": "markdown",
   "metadata": {},
   "source": [
    "**Q 4** Given a matrix  $M \\times N$ with 0s and 1s, if a cell has 0 then replace that entire row and column with 0. For example,\n",
    "```\n",
    "1 0 1                       0 0 0\n",
    "1 1 1    is transformed to  1 0 1 \n",
    "1 0 1                       0 0 0\n",
    "```\n",
    "**Answer** If we take extra memory we can solve it by:"
   ]
  },
  {
   "cell_type": "code",
   "execution_count": 5,
   "metadata": {},
   "outputs": [
    {
     "name": "stdout",
     "output_type": "stream",
     "text": [
      "[[0, 0, 0], [1, 0, 1], [0, 0, 0]]\n"
     ]
    }
   ],
   "source": [
    "public void replaceWithZero(int[][] input) {\n",
    "    boolean[] row = new boolean[input.length];\n",
    "    boolean[] col = new boolean[input[0].length];\n",
    "\n",
    "    for (int i = 0; i < input.length; i++) {\n",
    "        for (int j = 0; j < input[0].length; j++) {\n",
    "            if (input[i][j] == 0) {\n",
    "                row[i] = true;\n",
    "                col[j] = true;\n",
    "            }\n",
    "        }\n",
    "    }\n",
    "\n",
    "    for (int i = 0; i < input.length; i++) {\n",
    "        for (int j = 0; j < input[0].length; j++) {\n",
    "            if (row[i] || col[j]) {\n",
    "                input[i][j] = 0;\n",
    "            }\n",
    "        }\n",
    "    }\n",
    "}\n",
    "\n",
    "int[][] replaceWithZero = {\n",
    "        {1, 0, 1},\n",
    "        {1, 1, 1},\n",
    "        {1, 0, 1}\n",
    "};\n",
    "\n",
    "replaceWithZero(replaceWithZero);\n",
    "System.out.println(Arrays.deepToString(replaceWithZero));"
   ]
  },
  {
   "cell_type": "markdown",
   "metadata": {},
   "source": [
    "We can solve the above problem by not taking extra memory. While traversing the matrix, those cells that will be transformed from 0 to 1 can be initially set to -1."
   ]
  },
  {
   "cell_type": "code",
   "execution_count": 1,
   "metadata": {},
   "outputs": [
    {
     "name": "stdout",
     "output_type": "stream",
     "text": [
      "[[0, 0, 0], [1, 0, 1], [0, 0, 0]]\n"
     ]
    }
   ],
   "source": [
    "public static void replaceWithZeroAlt(int[][] input) {\n",
    "    // Rows\n",
    "    for (int i = 0; i < input.length; i++) {\n",
    "        boolean transform = false;\n",
    "        for (int j = 0; j < input[0].length; j++) {\n",
    "            if (input[i][j] == 0) {\n",
    "                transform = true;\n",
    "                break;\n",
    "            }\n",
    "        }\n",
    "\n",
    "        if (transform) {\n",
    "            for (int j = 0; j < input[0].length; j++) {\n",
    "                if (input[i][j] == 1) {\n",
    "                    input[i][j] = -1;\n",
    "                }\n",
    "            }\n",
    "        }\n",
    "    }\n",
    "\n",
    "    // Columns\n",
    "    for (int j = 0; j < input[0].length; j++) {\n",
    "        boolean transform = false;\n",
    "        for (int i = 0; i < input.length; i++) {\n",
    "            if (input[i][j] == 0) {\n",
    "                transform = true;\n",
    "                break;\n",
    "            }\n",
    "        }\n",
    "\n",
    "        if (transform) {\n",
    "            for (int i = 0; i < input.length; i++) {\n",
    "                if (input[i][j] == 1) {\n",
    "                    input[i][j] = -1;\n",
    "                }\n",
    "            }\n",
    "        }\n",
    "    }\n",
    "\n",
    "    // Transform -1 to 0\n",
    "    for (int i = 0; i < input.length; i++) {\n",
    "        for (int j = 0; j < input[0].length; j++) {\n",
    "            if (input[i][j] == -1) {\n",
    "                input[i][j] = 0;\n",
    "            }\n",
    "        }\n",
    "    }\n",
    "}"
   ]
  },
  {
   "cell_type": "markdown",
   "metadata": {},
   "source": [
    "**Q 5** Given an array of building heights, each building has width 1 unit. How much water can be trapped between the buildings? Example:  \n",
    "![Water Trapped](https://i.imgur.com/C8VoOR1.png)  \n",
    "**Answer** We note that the first and the last buildings do not capture any water. Moreover water captured above any building can be found by observing the tallest buildings to the left and right of the current building."
   ]
  },
  {
   "cell_type": "code",
   "execution_count": 6,
   "metadata": {},
   "outputs": [
    {
     "name": "stdout",
     "output_type": "stream",
     "text": [
      "6\n"
     ]
    }
   ],
   "source": [
    "public int trappedWater(int[] input) {\n",
    "    if (input.length <= 2) {\n",
    "        return 0;\n",
    "    }\n",
    "\n",
    "    int water = 0;\n",
    "\n",
    "    // Contains height of the tallest building to the left of the current building\n",
    "    // including the current building\n",
    "    int[] leftMax = new int[input.length];\n",
    "    leftMax[0] = input[0];\n",
    "    for (int i = 1; i < input.length; i++) {\n",
    "        leftMax[i] = Math.max(leftMax[i - 1], input[i]);\n",
    "    }\n",
    "\n",
    "    int rightMax = input[input.length - 1]; // Don't need an array for rightMax\n",
    "    for (int i = input.length - 2; i >= 0; i--) {\n",
    "        rightMax = Math.max(rightMax, input[i]);\n",
    "\n",
    "        water += Math.min(leftMax[i], rightMax) - input[i];\n",
    "    }\n",
    "\n",
    "    return water;\n",
    "}\n",
    "\n",
    "int[] heights = {0,1,0,2,1,0,1,3,2,1,2,1};\n",
    "System.out.println(trappedWater(heights));"
   ]
  },
  {
   "cell_type": "markdown",
   "metadata": {},
   "source": [
    "**Q 6** Given an array, find the maximum value of $|A[i] - A[j]| + |i-j|$.  \n",
    "**Answer** There are four possible cases which can then be reduced to two:  \n",
    "1. $A[i] \\ge A[j]$ and $i \\ge j$  \n",
    "We get:\n",
    "$(A[i] + i) - (A[j] - j)$  \n",
    "\n",
    "2. $A[i] \\ge A[j]$ and $i \\lt j$  \n",
    "We get:\n",
    "$(A[i] - i) - (A[j] - j)$\n",
    "\n",
    "3. $A[i] \\lt A[j]$ and $i \\ge j$  \n",
    "We get:\n",
    "$(A[j] - j) - (A[i] - i)$\n",
    "\n",
    "4. $A[i] \\lt A[j]$ and $i \\lt j$  \n",
    "We get:\n",
    "$(A[j] + j) - (A[i] + i)$\n",
    "\n",
    "We can see that cases 1,4 and 2,3 are identical. Now coming back to the question, we just have to find the maximum and minimum values of $(A[i] + i)$ and $(A[i] - i)$"
   ]
  },
  {
   "cell_type": "code",
   "execution_count": 25,
   "metadata": {},
   "outputs": [
    {
     "name": "stdout",
     "output_type": "stream",
     "text": [
      "5\n"
     ]
    }
   ],
   "source": [
    "def max_absolute_value(A):\n",
    "    # Case 1,4\n",
    "    max_1 = A[0] + 0\n",
    "    min_1 = A[0] + 0\n",
    "    res_1 = 0\n",
    "    for i in range(1, len(A)):\n",
    "        if A[i] + i > max_1:\n",
    "            max_1 = A[i] + i\n",
    "            \n",
    "        if A[i] + i < min_1:\n",
    "            min_1 = A[i] + i\n",
    "    res_1 = max_1 - min_1\n",
    "    \n",
    "    # Case 2,3\n",
    "    max_2 = A[0] - 0\n",
    "    min_2 = A[0] - 0\n",
    "    res_2 = 0\n",
    "    for i in range(1, len(A)):\n",
    "        if A[i] - i > max_2:\n",
    "            max_2 = A[i] - i\n",
    "            \n",
    "        if A[i] - i < min_2:\n",
    "            min_2 = A[i] - i\n",
    "    res_2 = max_2 - min_2\n",
    "    \n",
    "    return max(res_1, res_2)\n",
    "\n",
    "A = [1, 3, -1]\n",
    "print(max_absolute_value(A))"
   ]
  },
  {
   "cell_type": "markdown",
   "metadata": {},
   "source": [
    "**Q 7** Given a matrix $A$, where each row and each column is sorted in ascending order, find a given number $B$. Return $i+ 1009 +j$ if $B$ is found, else return -1.  \n",
    "**Answer** Consider the matrix\n",
    "```\n",
    "1  5  8  9 10\n",
    "2  6  9 11 14\n",
    "7 12 15 16 21\n",
    "```\n",
    "\n",
    "If we have to find 11, we can start at:\n",
    "- (0,0) : in this case 11 can either be to the right or downward\n",
    "- (0, end) : in this case we have 1 direction to move to, this is a good choice for starting\n",
    "- (end, 0) : in this case too, we have 1 direction to move to\n",
    "- (end, end) : in this case again, 11 can be to the left or upwards\n",
    "\n",
    "So we start at either (0, end) or (end, 0)"
   ]
  },
  {
   "cell_type": "code",
   "execution_count": 7,
   "metadata": {},
   "outputs": [
    {
     "name": "stdout",
     "output_type": "stream",
     "text": [
      "1012\n"
     ]
    }
   ],
   "source": [
    "public int findElement(int[][] input, int k) {\n",
    "    // Starting bottom left\n",
    "    int i = input.length - 1;\n",
    "    int j = 0;\n",
    "    while (i >= 0 && j < input[0].length) {\n",
    "        if (input[i][j] > k) {\n",
    "            i--;\n",
    "        } else if (input[i][j] < k) {\n",
    "            j++;\n",
    "        } else {\n",
    "            return i + 1009 + j;\n",
    "        }\n",
    "    }\n",
    "\n",
    "    return -1;\n",
    "}\n",
    "\n",
    "int[][] sortedMatrix = {\n",
    "        {1, 5, 8, 9, 10},\n",
    "        {2, 6, 9, 11, 14},\n",
    "        {7, 12, 15, 16, 21}\n",
    "};\n",
    "\n",
    "System.out.println(findElement(sortedMatrix, 12));"
   ]
  },
  {
   "cell_type": "markdown",
   "metadata": {},
   "source": [
    "**Q 8** Given a matrix $A$ of dimensions $N \\times N$, return sum of all possible submatrices.  \n",
    "**Answer** The optimal way is to find how many submatrices each cell of the matrix belong to. In order to find that consider the fact that a matrix can be represented by two of its diagonally opposite corners. So to find out how many matrices a cell belongs to, find out given a cell in the matrix how many valid locations are there for its top right and bottom left corners. As illustrated:  \n",
    "![Number of submatrices](https://i.imgur.com/MzYTQUD.png)"
   ]
  },
  {
   "cell_type": "code",
   "execution_count": 8,
   "metadata": {},
   "outputs": [
    {
     "name": "stdout",
     "output_type": "stream",
     "text": [
      "100\n"
     ]
    }
   ],
   "source": [
    "public int allSubMatrixSum(int[][] input) {\n",
    "    int sum = 0;\n",
    "    for (int i = 0; i < input.length; i++) {\n",
    "        for (int j = 0; j < input[0].length; j++) {\n",
    "            sum += input[i][j] * (i + 1) * (j + 1) * (input.length - i) * (input[0].length - j);\n",
    "        }\n",
    "    }\n",
    "\n",
    "    return sum;\n",
    "}\n",
    "\n",
    "int[][] intMatrix = {\n",
    "        {1, 1, 1},\n",
    "        {1, 1, 1},\n",
    "        {1, 1, 1}\n",
    "};\n",
    "System.out.println(allSubMatrixSum(intMatrix));"
   ]
  },
  {
   "cell_type": "markdown",
   "metadata": {},
   "source": [
    "**Q 9** Given a matrix $A$, find the sum of a submatrix given the top-left and bottom right corners.  \n",
    "**Answer** The solution to this problem is $O(n^2)$. However if we are given a number of summation queries (each with top-left and bottom right corners provided), we can solve this much faster. The idea is to create a pre-sum matrix"
   ]
  },
  {
   "cell_type": "code",
   "execution_count": 33,
   "metadata": {},
   "outputs": [
    {
     "name": "stdout",
     "output_type": "stream",
     "text": [
      "[31]\n"
     ]
    }
   ],
   "source": [
    "# A is the matrix\n",
    "# B[i], C[i] represents top left corner\n",
    "# D[i], E[i] represents bottom right corner\n",
    "def submatrix_sum(A, B, C, D, E):\n",
    "    # Form the pre-sum matrix\n",
    "    # Sum row wise\n",
    "    for i in range(len(A)):\n",
    "        for j in range(1, len(A[0])):\n",
    "            A[i][j] += A[i][j-1]\n",
    "    # Sum column wise        \n",
    "    for j in range(len(A[0])):\n",
    "        for i in range(1, len(A)):\n",
    "            A[i][j] += A[i-1][j]\n",
    "            \n",
    "    sums = []\n",
    "    for i in range(len(B)):\n",
    "        x = B[i]\n",
    "        y = C[i]\n",
    "        a = D[i]\n",
    "        b = E[i]\n",
    "        \n",
    "        sum = A[a][b]\n",
    "        \n",
    "        if x-1 >= 0:\n",
    "            sum -= A[x-1][b]\n",
    "            \n",
    "        if y-1 >= 0:\n",
    "            sum -= A[a][y-1]\n",
    "            \n",
    "        if x-1 >= 0 and y-1 >= 0:\n",
    "            sum += A[x-1][y-1]\n",
    "            \n",
    "        sums.append(sum)\n",
    "        \n",
    "    return sums\n",
    "\n",
    "A = [\n",
    "    [9,1,8,4,3,7],\n",
    "    [6,8,1,5,9,0],\n",
    "    [2,4,7,6,5,4]\n",
    "]\n",
    "\n",
    "B = [1]\n",
    "C = [1]\n",
    "D = [2]\n",
    "E = [3]\n",
    "\n",
    "print(submatrix_sum(A,B,C,D,E))"
   ]
  },
  {
   "cell_type": "markdown",
   "metadata": {},
   "source": [
    "**Q 10** Given a list of arrays representing intervals, return new list of intervals when we  insert another interval. For example, if we have intervals `[[1, 3], [6, 9]]` and we insert `[2,5]` the return `[1,5], [6,9]` .  \n",
    "**Answer:**"
   ]
  },
  {
   "cell_type": "code",
   "execution_count": 2,
   "metadata": {},
   "outputs": [
    {
     "name": "stdout",
     "output_type": "stream",
     "text": [
      "[[1, 5], [6, 9]]\n",
      "[[1, 9]]\n",
      "[[1, 3], [4, 5], [6, 9]]\n",
      "[[1, 8]]\n"
     ]
    }
   ],
   "source": [
    "def merge_intervals(intervals, new_interval):\n",
    "    # Sort all intervals\n",
    "    intervals.append(new_interval)\n",
    "    intervals = sorted(intervals, key = lambda x: x[0])\n",
    "    \n",
    "    merged = []\n",
    "    \n",
    "    prev = intervals[0]\n",
    "    for i in range(1, len(intervals)):\n",
    "        current = intervals[i]\n",
    "        \n",
    "        if current[0] > prev[1]:\n",
    "            merged.append(prev)\n",
    "            prev = current\n",
    "        elif current[1] >= prev[1]:\n",
    "            prev[1] = current[1]\n",
    "        \n",
    "        if i == len(intervals) - 1:\n",
    "            merged.append(prev)\n",
    "            \n",
    "    return merged\n",
    "\n",
    "print(merge_intervals([[1, 5], [6, 9]], [2, 3]))\n",
    "print(merge_intervals([[1, 3], [6, 9]], [2, 6]))\n",
    "print(merge_intervals([[1, 3], [6, 9]], [4, 5]))\n",
    "print(merge_intervals([[1, 8], [2, 5]], [3, 4]))"
   ]
  },
  {
   "cell_type": "markdown",
   "metadata": {},
   "source": [
    "**Q 11** Given a matrix $A$ and a number $B$ return the minimum number of operations required to make all elements of the matrix equal. Operation here means adding or subtracting $B$ from any item in matrix. Return -1 if it is not possible.  \n",
    "**Answer** In order to find the minimum number of operations, we need to find the median element. Because it is equidistant from both the ends of the number range."
   ]
  },
  {
   "cell_type": "code",
   "execution_count": 51,
   "metadata": {},
   "outputs": [
    {
     "name": "stdout",
     "output_type": "stream",
     "text": [
      "12\n"
     ]
    }
   ],
   "source": [
    "def min_operations(A, B):\n",
    "    # Flatten A\n",
    "    array = []\n",
    "    for i in range(len(A)):\n",
    "        for j in range(len(A[0])):\n",
    "            array.append(A[i][j])\n",
    "\n",
    "    # Sort array to find median element\n",
    "    array = sorted(array)\n",
    "    median = []\n",
    "    # 2 medians if even number of elements\n",
    "    if len(array) % 2 == 0:\n",
    "        median.append(array[len(array) // 2])\n",
    "        median.append(array[(len(array) - 1) // 2])\n",
    "    # 1 median if odd number of elements\n",
    "    else:\n",
    "        median.append(array[len(array) // 2])\n",
    "        median.append(array[len(array) // 2])\n",
    "\n",
    "    ops_median_1 = 0\n",
    "    ops_median_2 = 0\n",
    "\n",
    "    # Median 1\n",
    "    result = 0\n",
    "    for i in range(len(A)):\n",
    "        for j in range(len(A[0])):\n",
    "            if A[i][j] <= median[0]:\n",
    "                if (median[0] - A[i][j]) % B == 0:\n",
    "                    ops_median_1 += (median[0] - A[i][j]) // B\n",
    "                else:\n",
    "                    result = -1\n",
    "                    break\n",
    "            else:\n",
    "                if (A[i][j] - median[0]) % B == 0:\n",
    "                    ops_median_1 += (A[i][j] - median[0]) // B\n",
    "                else:\n",
    "                    result = -1\n",
    "                    break\n",
    "\n",
    "    # Median 2\n",
    "    result = 0\n",
    "    for i in range(len(A)):\n",
    "        for j in range(len(A[0])):\n",
    "            if A[i][j] <= median[1]:\n",
    "                if (median[1] - A[i][j]) % B == 0:\n",
    "                    ops_median_2 += (median[1] - A[i][j]) // B\n",
    "                else:\n",
    "                    result = -1\n",
    "                    break\n",
    "            else:\n",
    "                if (A[i][j] - median[1]) % B == 0:\n",
    "                    ops_median_2 += (A[i][j] - median[1]) // B\n",
    "                else:\n",
    "                    result = -1\n",
    "                    break\n",
    "\n",
    "    if result == -1:\n",
    "        return result\n",
    "\n",
    "    if ops_median_1 == 0:\n",
    "        return ops_median_2\n",
    "    elif ops_median_2 == 0:\n",
    "        return ops_median_1\n",
    "\n",
    "    return min(ops_median_1, ops_median_2)\n",
    "\n",
    "\n",
    "A = [\n",
    "    [0, 2, 8],\n",
    "    [8, 2, 0],\n",
    "    [0, 2, 8],\n",
    "]\n",
    "B = 2\n",
    "\n",
    "print(min_operations(A, B))"
   ]
  },
  {
   "cell_type": "markdown",
   "metadata": {},
   "source": [
    "**Q 12** Given an array of integers $A$, sort the array into a wave like array and return it, In other words, arrange the elements into a sequence such that $a1 \\ge a2 \\le a3 \\ge a4 \\le a5 ...$. If more than one possible solutions present, then return the numerically lowest.  \n",
    "**Answer**"
   ]
  },
  {
   "cell_type": "code",
   "execution_count": 1,
   "metadata": {},
   "outputs": [
    {
     "name": "stdout",
     "output_type": "stream",
     "text": [
      "[2, 1, 4, 3, 5]\n"
     ]
    }
   ],
   "source": [
    "def wave_sort(A):\n",
    "    # Since we want the lexicographically lowest, sort given array first\n",
    "    A = sorted(A)\n",
    "    \n",
    "    for i in range(len(A) - 1):\n",
    "        if i % 2 == 0:\n",
    "            if A[i+1] > A[i]:\n",
    "                A[i], A[i+1] = A[i+1], A[i]\n",
    "        else:\n",
    "            if A[i+1] < A[i]:\n",
    "                A[i], A[i+1] = A[i+1], A[i]\n",
    "                \n",
    "    return A\n",
    "\n",
    "A = [1,2,3,4,5]\n",
    "print(wave_sort(A))"
   ]
  },
  {
   "cell_type": "markdown",
   "metadata": {},
   "source": [
    "**Q 13:** Count sum of pairs having sum divisible by $B$.  \n",
    "**Answer:** Naive way is to form all pairs and compare sum. The better way is to use a hash"
   ]
  },
  {
   "cell_type": "code",
   "execution_count": 3,
   "metadata": {},
   "outputs": [
    {
     "name": "stdout",
     "output_type": "stream",
     "text": [
      "5\n"
     ]
    }
   ],
   "source": [
    "def pair_sum(A, B):\n",
    "    count = 0\n",
    "\n",
    "    # Frequency of remainders when divided by B\n",
    "    frequency = [0] * B\n",
    "\n",
    "    # Fill frequency array\n",
    "    for i in A:\n",
    "        frequency[i % B] += 1\n",
    "\n",
    "    # Both remainder (when divided by numbers in pair)\n",
    "    # Total pairs possible = n(n-1)/2. Divided by 2 because \n",
    "    # (i,j) and (j,i) is the same pair\n",
    "    count += frequency[0] * (frequency[0] - 1) // 2\n",
    "\n",
    "    # If one remainder is i, the other one should be\n",
    "    # B - i\n",
    "    i = 1\n",
    "    while(i <= B//2 and i != (B-i)):\n",
    "        count += frequency[i] * frequency[B - i]\n",
    "        i += 1\n",
    "\n",
    "    # i = B - i\n",
    "    if B % 2 == 0:\n",
    "        count += frequency[B//2] * (frequency[B//2] - 1) // 2\n",
    "\n",
    "    return count\n",
    "\n",
    "A = [2, 2, 1, 7, 5, 3]\n",
    "B = 4\n",
    "\n",
    "print(pair_sum(A, B))"
   ]
  },
  {
   "cell_type": "markdown",
   "metadata": {},
   "source": [
    "**Q 14:** Given a 2D matrix which has each row arranged in ascending order and each column also arranged in asecending order, return the maximum sum submatrix. Matrix example:\n",
    "```\n",
    "[-5 -4 -1]\n",
    "[-3  2  4]\n",
    "[ 2  5  8]\n",
    "```\n",
    "**Answer:** From the arrangement of the numbers, we can say that the submatrix must contain the bottom right element. The task is to find the top left element. We can pick a topleft element and then calculate the sum of the submatrix using a precalculated prefix sum matrix. This will give us the result in $O(n^2)$"
   ]
  },
  {
   "cell_type": "code",
   "execution_count": 2,
   "metadata": {},
   "outputs": [
    {
     "name": "stdout",
     "output_type": "stream",
     "text": [
      "500\n"
     ]
    }
   ],
   "source": [
    "def max_sum_submatrix(A):\n",
    "    # Form the prefix sum matrix\n",
    "    for i in range(len(A)):\n",
    "        for j in range(1, len(A[0])):\n",
    "            A[i][j] += A[i][j-1]\n",
    "    for j in range(len(A[0])):\n",
    "        for i in range(1, len(A)):\n",
    "            A[i][j] += A[i-1][j]\n",
    "            \n",
    "    sum = A[-1][-1]\n",
    "    for i in range(len(A)):\n",
    "        for j in range(len(A[0])):\n",
    "            temp = 0\n",
    "            if (i - 1 >= 0):\n",
    "                temp += A[i - 1][len(A[0]) - 1]\n",
    "            \n",
    "            if (j - 1 >= 0) :\n",
    "                temp += A[len(A) - 1][j - 1]\n",
    "            \n",
    "            if (i - 1 >= 0 and j - 1 >= 0) :\n",
    "                temp -= A[i - 1][j - 1]\n",
    "            \n",
    "\n",
    "            matrixSum = A[-1][-1] - temp\n",
    "            if (matrixSum > sum) :\n",
    "                sum = matrixSum;\n",
    "            \n",
    "    return sum\n",
    "\n",
    "A = [[-20, -10, -6, -6, -2], [-30, -10, -4, 0, 1], [-20, 3, 4, 6, 6], [100, 100, 100, 100, 100]]\n",
    "print(max_sum_submatrix(A))"
   ]
  },
  {
   "cell_type": "markdown",
   "metadata": {},
   "source": [
    "**Q 15:** Given an array of length $N$ containing elements from 0 to $N-1$, how many chunks are there such that if we sort each chunk, the entire array gets sorted?  \n",
    "**Answer:**"
   ]
  },
  {
   "cell_type": "code",
   "execution_count": 6,
   "metadata": {},
   "outputs": [
    {
     "name": "stdout",
     "output_type": "stream",
     "text": [
      "3\n",
      "1\n"
     ]
    }
   ],
   "source": [
    "def max_chunks(A):\n",
    "    max_ = A[0]\n",
    "    chunks = 0\n",
    "    for i in range(len(A)):\n",
    "        max_ = max(A[i], max_)\n",
    "            \n",
    "        if max_ == i:\n",
    "            chunks += 1\n",
    "\n",
    "    return chunks\n",
    "\n",
    "A = [0, 2, 3, 1, 5, 4]\n",
    "print(max_chunks(A))\n",
    "\n",
    "A = [5, 6, 0, 1, 2, 4, 3]\n",
    "print(max_chunks(A))"
   ]
  },
  {
   "cell_type": "code",
   "execution_count": null,
   "metadata": {},
   "outputs": [],
   "source": []
  }
 ],
 "metadata": {
  "kernelspec": {
   "display_name": "Java",
   "language": "java",
   "name": "java"
  },
  "language_info": {
   "codemirror_mode": "java",
   "file_extension": ".jshell",
   "mimetype": "text/x-java-source",
   "name": "Java",
   "pygments_lexer": "java",
   "version": "21.0.2+13-58"
  }
 },
 "nbformat": 4,
 "nbformat_minor": 4
}
