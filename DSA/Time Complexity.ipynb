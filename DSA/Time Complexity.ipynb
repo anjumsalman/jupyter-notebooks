{
 "cells": [
  {
   "cell_type": "markdown",
   "metadata": {},
   "source": [
    "## Notations\n",
    "### Big-O\n",
    "$f(n) = O(g(n))$ means there are positive constants $c$ and $k$, such that $0 ≤ f(n) ≤ cg(n)$ for all $n ≥ k$. The values of $c$ and $k$ must be fixed for the function $f$ and must not depend on $n$.\n",
    "\n",
    "The running time of binary search $T(n)$ can be written as $T(n) = O(log(n))$. This means that for $log(n)$ is the upper bound for the running time of binary search.\n",
    "\n",
    "Strictly speaking, for $f(x) = n^2 + 2n + 5$, $f(n) = O(n^2)$, $f(n) = O(n^3)$ are all correct."
   ]
  },
  {
   "cell_type": "markdown",
   "metadata": {},
   "source": [
    "### Big-Theta\n",
    "$f(n) = \\Theta(g(n))$ means there are positive constants $c_1$, $c_2$ and $k$, such that $0 ≤ c_1g(n) ≤ f(n) ≤ c_2g(n)$ for all $n ≥ k$. The values of $c_1$, $c_2$ and $k$ must be fixed for the function $f$ and must not depend on $n$.\n",
    "\n",
    "This means that the function $f$ get sandwiched between $c_1g$ and $c_2g$."
   ]
  },
  {
   "cell_type": "markdown",
   "metadata": {},
   "source": [
    "### Big-Omega\n",
    "$f(n) = \\Omega(g(n))$ means there are positive constants $c$ and $k$, such that $0 ≤ cg(n) ≤ f(n)$ for all $n ≥ k$. The values of $c$ and $k$ must be fixed for the function $f$ and must not depend on $n$."
   ]
  },
  {
   "cell_type": "markdown",
   "metadata": {},
   "source": [
    "## Some Examples\n",
    "All of the statements below are correct\n",
    "- $log_2 n = O(log_8 n)$\n",
    "- $log_2 n = \\Omega(log_2 n)$ because $log_2 n \\le 5log_8 n$\n",
    "- Since the above two are correct, $log_2 n = \\Theta(log_8 n)$"
   ]
  },
  {
   "cell_type": "code",
   "execution_count": null,
   "metadata": {},
   "outputs": [],
   "source": []
  }
 ],
 "metadata": {
  "kernelspec": {
   "display_name": "Python 3",
   "language": "python",
   "name": "python3"
  },
  "language_info": {
   "codemirror_mode": {
    "name": "ipython",
    "version": 3
   },
   "file_extension": ".py",
   "mimetype": "text/x-python",
   "name": "python",
   "nbconvert_exporter": "python",
   "pygments_lexer": "ipython3",
   "version": "3.6.2"
  }
 },
 "nbformat": 4,
 "nbformat_minor": 2
}
