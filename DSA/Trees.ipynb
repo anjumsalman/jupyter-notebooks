{
 "cells": [
  {
   "cell_type": "markdown",
   "metadata": {},
   "source": [
    "## Trees\n",
    "Arrays, Linked Lists, Stacks, Queues, etc are linear data structures, data is stored sequentially. Tree data structures are great for storing hierarchical data. A tree $T$ can be defined as set of nodes storing elements such that the nodes have a parent-child relationship that satisfies the following properties:\n",
    "- If $T$ is nonempty, it has a special node, called the root of $T$, that has no parent.\n",
    "- Each node $v$ of $T$ different from the root has a unique parent node $w$; every node with parent $w$ is a child of $w$.\n",
    "\n",
    "![tree](images/D2tasHV.png)"
   ]
  },
  {
   "cell_type": "markdown",
   "metadata": {},
   "source": [
    "Some terms:\n",
    "- root: node 1 is the root node\n",
    "- child: node 2 and 3 are child nodes of the root node\n",
    "- parent: node 2 is the parent node of node 4, 5 and 6\n",
    "- sibling: node 2 and 3 are sibling nodes\n",
    "- leaf: node without any child, 4, 6, 8, 9, 10, 11\n",
    "\n",
    "If the number of nodes are $n$, then number of edges are $n - 1$ (root node has no parent node). \n",
    "\n",
    "A tree is **ordered** if there is a meaningful linear order among the children of each node; that is, we purposefully identify the children of a node as being the first, second, third, and so on. Such an order is usually visualized by arranging siblings left to right, according to their order.\n",
    "\n",
    "**Depth** of a node is the number of edges from root to node. For example, depth of node 2 is 1, 9 is 3, etc. Depth of root node is zero.  \n",
    "**Height** of a node is the number of edges in the longest path from the node to a leaf. For example, height of node 3 is 2, height of node 2 is 2. Height of leaf node is 0. Height of tree is the height of root node. Height of a tree with only root node is 0 whereas height of an empty tree is -1. Height of tree is equal to the maximum depths of its nodes."
   ]
  },
  {
   "cell_type": "markdown",
   "metadata": {},
   "source": [
    "## Binary Tree\n",
    "A binary tree is an ordered tree with the following properties:\n",
    "1. Every node has at most two children.\n",
    "2. Each child node is labeled as being either a left child or a right child.\n",
    "3. A left child precedes a right child in the order of children of a node. \n",
    "\n",
    "Some mathematical relations: given a nonempty binary tree having $n$ nodes, $h$ height, $n_E$ being the number of leaf nodes and $n_I$ being the number of internal nodes, then:\n",
    "- $h+1\\le n\\le2^{h+1}-1$ (linear tree vs perfect binary tree)\n",
    "- $1\\le n_E\\le2^h$\n",
    "- $h\\le n_I\\le2^h-1$\n",
    "\n",
    "Some terms:\n",
    "- **Strict/Proper binary tree:** if each node has either zero or two children  \n",
    "![strict binary tree](images/2Rosp71.png)\n",
    "- **Complete binary tree:** all levels except possibly the last one is completely filled ($2^i$ nodes) and all nodes are as far left as possible  \n",
    "![complete binary tree](images/na10I8Z.png)\n",
    "- **Perfect binary tree:** all levels are completely filled. So number of nodes in a perfect binary tree = $2^{i+1} - 1$\n",
    "\n",
    "In a tree having $n$ nodes,\n",
    "- minimum levels possible = $\\lfloor log_2{n}\\rfloor$\n",
    "- maximum levels possible = $n - 1$\n",
    "\n",
    "This is good to know because operations on a binary tree are proportional to the height of the tree. So best case is having a perfect binary tree $O(i) = O(log_2n)$ and the worst case is linked list like tree $O(i) = O(n)$. This is why we should try to form a binary tree as close as possible to perfect binary tree.\n",
    "\n",
    "- **Balanced binary tree:** a tree where the difference between height of right and left subtree of each node is maximum of $k$, ($k = 1$ usually). Every complete binary tree is balanced, but not vice-versa.  \n",
    "![Balanced Binary Tree](images/QqwAFrR.jpg)\n",
    "\n",
    "**Array Representation**\n",
    "A binary tree can also be represented as an array where the following relationship between indices hold true:\n",
    "- For an element at index $i$, its left child is at index $2i+1$ and right child is at index $2i+2$\n",
    "- For an element at index $i$, its parent is at index $\\frac{i-1}{2}$  \n",
    "\n",
    "Example representation:  \n",
    "![Aray Representation](images/QqwAFrS.png)"
   ]
  },
  {
   "cell_type": "markdown",
   "metadata": {},
   "source": [
    "### Implementation of a Binary Tree\n",
    "**Using Nodes**"
   ]
  },
  {
   "cell_type": "code",
   "execution_count": 5,
   "metadata": {},
   "outputs": [],
   "source": [
    "class Node {\n",
    "    Node left;\n",
    "    int data;\n",
    "    Node right;\n",
    "\n",
    "    Node(int data) {\n",
    "        this.data = data;\n",
    "    }\n",
    "}"
   ]
  },
  {
   "cell_type": "markdown",
   "metadata": {},
   "source": [
    "**Using Arrays**  \n",
    "![array based implementation](images/ddtI6fF.png)"
   ]
  },
  {
   "cell_type": "markdown",
   "metadata": {},
   "source": [
    "## Binary Search Tree\n",
    "In a BST, for each node, value of all the nodes in the left subtree is lesser or equal and value of all the nodes in right subtree is greater. In the example below, left tree is BST, whereas right one is not.\n",
    "\n",
    "![bst or not](images/pGm6YNw.png)\n",
    "\n",
    "Various operations:\n",
    "- Searching : $O(log_2n)$\n",
    "- Insertion: $O(log_2n)$\n",
    "- Deletion: $O(log_2n)$\n",
    "\n",
    "Only if the tree is balanced. If the tree is not balanced, then the operations are $O(height)$. For example, the below binary tree is also binary search tree, but it is not balanced and in this case the time complexity is actually $O(n)$ \n",
    "\n",
    "![not balanced](images/3XuFTlA.png)"
   ]
  },
  {
   "cell_type": "markdown",
   "metadata": {},
   "source": [
    "### Implementation of Binary Search Tree"
   ]
  },
  {
   "cell_type": "code",
   "execution_count": null,
   "metadata": {},
   "outputs": [],
   "source": [
    "public class BinarySearchTree<T extends Comparable<T>> {\n",
    "    private Node<T> root;\n",
    "    \n",
    "    private static class Node<T> {\n",
    "        public T data;\n",
    "        public Node<T> left;\n",
    "        public Node<T> right;\n",
    "    \n",
    "        public Node(T data) {\n",
    "            this.data = data;\n",
    "        }\n",
    "    }\n",
    "    \n",
    "    public void add(T data) {\n",
    "        root = add(root, data);\n",
    "    }\n",
    "    \n",
    "    private Node<T> add(Node<T> node, T data) {\n",
    "        if (node == null) {\n",
    "            return new Node<>(data);\n",
    "        } else if (node.data.compareTo(data) < 0) {\n",
    "            node.right = add(node.right, data);\n",
    "        } else if (node.data.compareTo(data) >= 0) {\n",
    "            node.left = add(node.left, data);\n",
    "        }\n",
    "    \n",
    "        return node;\n",
    "    }\n",
    "    \n",
    "    public boolean search(T data) {\n",
    "        return search(root, data);\n",
    "    }\n",
    "    \n",
    "    private boolean search(Node<T> node, T data) {\n",
    "        if (node == null) {\n",
    "            return false;\n",
    "        } else if (node.data.equals(data)) {\n",
    "            return true;\n",
    "        } else if (node.data.compareTo(data) < 0) {\n",
    "            return search(node.right, data);\n",
    "        } else {\n",
    "            return search(node.left, data);\n",
    "        }\n",
    "    }\n",
    "    \n",
    "    public void delete(T data) {\n",
    "        delete(root, data);\n",
    "    }\n",
    "    \n",
    "    private Node<T> delete(Node<T> node, T data) {\n",
    "        if (node == null) {\n",
    "            return node;\n",
    "        } else if (node.data.equals(data)) {\n",
    "            // Node to be deleted is leaf node\n",
    "            if (node.left == null && node.right == null) {\n",
    "                return null;\n",
    "                // Both left and right subtree exist\n",
    "            } else if (node.left != null && node.right != null) {\n",
    "                Node<T> min = getMin(node.right);\n",
    "                node.data = min.data;\n",
    "                min = null;\n",
    "            // Left subtree is present\n",
    "            } else if (node.left != null) {\n",
    "                return node.left;\n",
    "            // Right subtree is present\n",
    "            } else {\n",
    "                return node.right;\n",
    "            }\n",
    "        } else if (node.data.compareTo(data) < 0) {\n",
    "            node.right = delete(node.right, data);\n",
    "        } else  if (node.data.compareTo(data) > 0) {\n",
    "            node.left = delete(node.left, data);\n",
    "        }\n",
    "    \n",
    "        return node;\n",
    "    }\n",
    "    \n",
    "    private Node<T> getMin(Node<T> root) {\n",
    "        if (root.left == null) {\n",
    "            return root;\n",
    "        } else {\n",
    "            return getMin(root.left);\n",
    "        }\n",
    "    }\n",
    "}"
   ]
  },
  {
   "cell_type": "markdown",
   "metadata": {},
   "source": [
    "## Binary Tree Traversal\n",
    "### Breadth first\n",
    "Each level is fully processed before moving to the next one  \n",
    "- time complexity: $O(n)$ where $n$ is number of nodes  \n",
    "- space complexity: In the best case (when list has only left children, is linear), $O(1)$ . It is $O(n)$ in case of perfect tree (worst case)  \n",
    "\n",
    "![bfs](images/w8sn5aD.jpg)    \n",
    "\n",
    "To implement a BFS, we make use of a queue. Each time we visit a node, we enque it, print it, dequeue it and then enqueue its child nodes.  "
   ]
  },
  {
   "cell_type": "code",
   "execution_count": null,
   "metadata": {},
   "outputs": [],
   "source": [
    "public void breadthFirst(Node<T> root, Consumer<T> consumer) {\n",
    "    if (root == null) {\n",
    "        return;\n",
    "    }\n",
    "\n",
    "    Queue<Node<T>> q = new ArrayDeque<>();\n",
    "    q.offer(root);\n",
    "\n",
    "    while (!q.isEmpty()) {\n",
    "        Node<T> current = q.poll();\n",
    "        consumer.accept(current.data);\n",
    "\n",
    "        if (current.left != null) {\n",
    "            q.offer(current.left);\n",
    "        }\n",
    "        if (current.right != null) {\n",
    "            q.offer(current.right);\n",
    "        }\n",
    "    }\n",
    "}"
   ]
  },
  {
   "cell_type": "markdown",
   "metadata": {},
   "source": [
    "How to detect level change? We can do that in two ways:  \n",
    "- add a NULL to indicate a level change"
   ]
  },
  {
   "cell_type": "code",
   "execution_count": null,
   "metadata": {},
   "outputs": [],
   "source": [
    "public void breadthFirstWithLevel(Node<T> root, Consumer<T> consumer) {\n",
    "    if (root == null) {\n",
    "        return;\n",
    "    }\n",
    "\n",
    "    // Using Optional since ArrayDeque doesn't accept null\n",
    "    Queue<Optional<Node<T>>> q = new ArrayDeque<>();\n",
    "    q.offer(Optional.of(root));\n",
    "    q.offer(Optional.empty());\n",
    "\n",
    "    while (!q.isEmpty()) {\n",
    "        Node<T> current = q.poll().orElse(null);\n",
    "\n",
    "        if (current == null) {\n",
    "            consumer.accept(null);\n",
    "\n",
    "            if (!q.isEmpty()) {\n",
    "                q.offer(Optional.empty());\n",
    "            }\n",
    "        } else {\n",
    "            consumer.accept(current.data);\n",
    "            if (current.left != null) {\n",
    "                q.offer(Optional.of(current.left));\n",
    "            }\n",
    "            if (current.right != null) {\n",
    "                q.offer(Optional.of(current.right));\n",
    "            }\n",
    "        }\n",
    "    }\n",
    "}"
   ]
  },
  {
   "cell_type": "markdown",
   "metadata": {},
   "source": [
    "- Or use another while loop to empty all elements in the queue"
   ]
  },
  {
   "cell_type": "code",
   "execution_count": null,
   "metadata": {},
   "outputs": [],
   "source": [
    "public void breadthFirstWithLevel2(Node<T> root, Consumer<T> consumer) {\n",
    "    if (root == null) {\n",
    "        return;\n",
    "    }\n",
    "\n",
    "    Queue<Node<T>> q = new ArrayDeque<>();\n",
    "    q.offer(root);\n",
    "\n",
    "    while (!q.isEmpty()) {\n",
    "        int levelSize = q.size();\n",
    "        while (levelSize > 0) {\n",
    "            Node<T> current = q.poll();\n",
    "            consumer.accept(current.data);\n",
    "\n",
    "            if (current.left != null) {\n",
    "                q.offer(current.left);\n",
    "            }\n",
    "            if (current.right != null) {\n",
    "                q.offer(current.right);\n",
    "            }\n",
    "\n",
    "            levelSize--;\n",
    "        }\n",
    "        consumer.accept(null);\n",
    "    }\n",
    "}"
   ]
  },
  {
   "cell_type": "markdown",
   "metadata": {},
   "source": [
    "### Depth first\n",
    "Here we go to each level first, multiple possible ways. The time complexity of all the below 3 ways is $O(n)$ since we visit each node. The space complexity is $O(h)$, where $h$ is the number of levels. So in worst case, space complexity is $O(n)$. In the best case (perfect binary tree) the space complexity is $O(log_2n)$.  \n",
    "**Preorder:** first root then left then right (visit node first, then its children in order). \n",
    "\n",
    "![preorder](images/0VJNRG6.jpg)"
   ]
  },
  {
   "cell_type": "code",
   "execution_count": null,
   "metadata": {},
   "outputs": [],
   "source": [
    "public void preOrder(Node<T> root, Consumer<T> consumer) {\n",
    "    if (root == null) {\n",
    "        return;\n",
    "    }\n",
    "\n",
    "    consumer.accept(root.data);\n",
    "    preOrder(root.left, consumer);\n",
    "    preOrder(root.right, consumer);\n",
    "}"
   ]
  },
  {
   "cell_type": "markdown",
   "metadata": {},
   "source": [
    "Iteratively,"
   ]
  },
  {
   "cell_type": "code",
   "execution_count": null,
   "metadata": {},
   "outputs": [],
   "source": [
    "public void preOrderIterative(Node<T> root, Consumer<T> consumer) {\n",
    "    if (root == null) {\n",
    "        return;\n",
    "    }\n",
    "\n",
    "    Stack<Node<T>> stack = new Stack<>();\n",
    "    stack.push(root);\n",
    "\n",
    "    while (!stack.isEmpty()) {\n",
    "        Node<T> current = stack.pop();\n",
    "        consumer.accept(current.data);\n",
    "\n",
    "        // Add right first and then left\n",
    "        if (current.right != null) {\n",
    "            stack.push(current.right);\n",
    "        }\n",
    "        if (current.left != null) {\n",
    "            stack.push(current.left);\n",
    "        }\n",
    "    }\n",
    "}"
   ]
  },
  {
   "cell_type": "markdown",
   "metadata": {},
   "source": [
    "**Inorder:** first left then root then right. This gives us a sorted representation of a Binary Search Tree. While PreOrder and PostOrder are general algorithm applicable to any tree, inorder is specific to binary tree since it has clear separation of left and right children.  \n",
    "\n",
    "![inorder](images/1BdAP1d.jpg)"
   ]
  },
  {
   "cell_type": "code",
   "execution_count": null,
   "metadata": {},
   "outputs": [],
   "source": [
    "public void inOrder(Node<T> root, Consumer<T> consumer) {\n",
    "    if (root == null) {\n",
    "        return;\n",
    "    }\n",
    "\n",
    "    inOrder(root.left, consumer);\n",
    "    consumer.accept(root.data);\n",
    "    inOrder(root.right, consumer);\n",
    "}"
   ]
  },
  {
   "cell_type": "markdown",
   "metadata": {},
   "source": [
    "Iteratively,"
   ]
  },
  {
   "cell_type": "code",
   "execution_count": null,
   "metadata": {},
   "outputs": [],
   "source": [
    "public void inOrderIterative(Node<T> root, Consumer<T> consumer) {\n",
    "    if (root == null) {\n",
    "        return;\n",
    "    }\n",
    "\n",
    "    Stack<Node<T>> stack = new Stack<>();\n",
    "    Node<T> current = root;\n",
    "    \n",
    "    while(current != null ||  !stack.isEmpty()) {\n",
    "        // Reach leftmost node\n",
    "        while(current != null) {\n",
    "            stack.push(current);\n",
    "            current = current.left;\n",
    "        }\n",
    "        \n",
    "        current = stack.pop();\n",
    "        consumer.accept(current.data);\n",
    "        \n",
    "        current = current.right;\n",
    "    }\n",
    "}"
   ]
  },
  {
   "cell_type": "markdown",
   "metadata": {},
   "source": [
    "**Postorder:** left, right and then root (visit children in order first, then node).  \n",
    "\n",
    "![postorder](images/B4YhYpy.jpg)"
   ]
  },
  {
   "cell_type": "code",
   "execution_count": null,
   "metadata": {},
   "outputs": [],
   "source": [
    "public void postOrder(Node<T> root, Consumer<T> consumer) {\n",
    "    if (root == null) {\n",
    "        return;\n",
    "    }\n",
    "\n",
    "    postOrder(root.left, consumer);\n",
    "    postOrder(root.right, consumer);\n",
    "    consumer.accept(root.data);\n",
    "}"
   ]
  },
  {
   "cell_type": "markdown",
   "metadata": {},
   "source": [
    "Iteratively,"
   ]
  },
  {
   "cell_type": "code",
   "execution_count": null,
   "metadata": {},
   "outputs": [],
   "source": [
    "public void postOrderIterative(Node<T> root, Consumer<T> consumer) {\n",
    "    if (root == null) {\n",
    "        return;\n",
    "    }\n",
    "\n",
    "    Stack<Node<T>> stack1 = new Stack<>();\n",
    "    Stack<Node<T>> stack2 = new Stack<>();\n",
    "    stack1.push(root);\n",
    "\n",
    "    while (!stack1.isEmpty()) {\n",
    "        // Pop from stack1, push to stack2\n",
    "        Node<T> current = stack1.pop();\n",
    "        stack2.push(current);\n",
    "        \n",
    "        // Push left and right nodes\n",
    "        if (current.left != null) {\n",
    "            stack1.push(current.left);\n",
    "        }\n",
    "        if (current.right != null) {\n",
    "            stack1.push(current.right);\n",
    "        }\n",
    "    }\n",
    "    \n",
    "    while (!stack2.isEmpty()) {\n",
    "        Node<T> current = stack2.pop();\n",
    "        consumer.accept(current.data);\n",
    "    }\n",
    "}"
   ]
  },
  {
   "cell_type": "markdown",
   "metadata": {},
   "source": [
    "## Problems\n",
    "\n",
    "**Q 1:** Find height of a binary tree.  \n",
    "**Answer:** the height would be the maximum of heights of left and right subtree plus 1."
   ]
  },
  {
   "cell_type": "code",
   "execution_count": null,
   "metadata": {},
   "outputs": [],
   "source": [
    "public int height(Node node) {\n",
    "    if(node == null) {\n",
    "        return -1; // Height of leaf node is 0\n",
    "    }\n",
    "    \n",
    "    return 1 + Math.max(height(node.left), height(node.right));\n",
    "}"
   ]
  },
  {
   "cell_type": "markdown",
   "metadata": {},
   "source": [
    "**Q 2:** From a given inorder and preorder traversal, construct the tree.  \n",
    "**Answer:** If a inorder and preorder traversal is given we can uniquely define a tree (only if all unique items are in tree). Similarly, inorder and postorder can be used to uniquely define a tree. It is not possible to uniquely define a tree just using preorder and postorder traversals. The following combinations work fine:\n",
    "- preorder and inorder\n",
    "- postorder and inorder\n",
    "- level-order and inorder  \n",
    "\n",
    "Preorder, postorder and level-order - all give you the location of the root node (first element in case of preorder and level-order; last element in case of postorder). Whereas inorder helps divide tree into left and right halves.\n",
    "\n",
    "For example, if we are given inorder `[15, 6, 4, 8, 7, 1, 3, 9]` and preorder `[8, 15, 6, 4, 7, 3, 1, 9]` representations, then\n",
    "1. From the preorder representation, the first element is the root element. 8 in our example.\n",
    "2. Find this element in the inorder representation\n",
    "3. Now we can get two different inorder and preorder representations corresponding to left and right subtree."
   ]
  },
  {
   "cell_type": "code",
   "execution_count": null,
   "metadata": {},
   "outputs": [],
   "source": [
    "public Node constructTree(int[] preorder, int[] inorder) {\n",
    "    Node root = null;\n",
    "    if (preorder.length > 0) {\n",
    "        root = new Node(preorder[0], null, null);\n",
    "\n",
    "        // find position of preorder[0] in inorder\n",
    "        int pos = -1;\n",
    "        for (int i = 0; i < inorder.length; i++) {\n",
    "            if (inorder[i] == preorder[0]) {\n",
    "                pos = i;\n",
    "                break;\n",
    "            }\n",
    "        }\n",
    "\n",
    "        // Form four arrays preorder_left, preorder_right\n",
    "        // inorder_left, inorder_right\n",
    "        int[] preorderLeft = new int[pos];\n",
    "        int[] preorderRight = new int[preorder.length - pos - 1];\n",
    "        int[] inorderLeft = new int[pos];\n",
    "        int[] inorderRight = new int[inorder.length - pos - 1];\n",
    "\n",
    "        // Fill preorder_left, inorder_left\n",
    "        for (int i = 0; i < pos; i++) {\n",
    "            preorderLeft[i] = preorder[i + 1];\n",
    "            inorderLeft[i] = inorder[i];\n",
    "        }\n",
    "\n",
    "        // Fill preorder_right, inorder_right\n",
    "        for (int i = pos + 1; i < preorder.length; i++) {\n",
    "            preorderRight[i - pos - 1] = preorder[i];\n",
    "            inorderRight[i - pos - 1] = inorder[i];\n",
    "        }\n",
    "\n",
    "        root.left = constructTree(preorderLeft, inorderLeft);\n",
    "        root.right = constructTree(preorderRight, inorderRight);\n",
    "    }\n",
    "\n",
    "    return root;\n",
    "}"
   ]
  },
  {
   "cell_type": "markdown",
   "metadata": {},
   "source": [
    "**Q 3:** Given a tree, identify if it is a BST.  \n",
    "**Answer:** The *inorder* traversal of a BST is sorted. Use this idea to check whether the given tree is BST or not. In fact is not even required to maintain an inorder array. We can just maintain a previous value and a current value. The condition should be that the previous value should always be less than the current value. This solution may fail if there are duplicate elements in the tree. So in case of duplicates, for each node we check if\n",
    "- root.value > max(root.left), and\n",
    "- root.value < min(root.right)"
   ]
  },
  {
   "cell_type": "code",
   "execution_count": 2,
   "metadata": {},
   "outputs": [],
   "source": [
    "public boolean isValidBST(Node root) {\n",
    "    if (root == null) {\n",
    "        return true;\n",
    "    }\n",
    "\n",
    "    // Root value is greater than maximum value in left subtree\n",
    "    if (root.left != null && root.datal <= max(root.left).data) {\n",
    "        return false;\n",
    "    } \n",
    "\n",
    "    // Root value is lesser than minimum value in right subtree\n",
    "    if (root.right != null && root.data >= min(root.right).data) {\n",
    "        return false;\n",
    "    }\n",
    "\n",
    "    return isValidBST(root.left) && isValidBST(root.right);\n",
    "}\n",
    "\n",
    "private Node min(Node root) {\n",
    "    if (root.left != null) {\n",
    "        return min(root.left);\n",
    "    }\n",
    "\n",
    "    return root;\n",
    "}\n",
    "\n",
    "private Node max(Node root) {\n",
    "    if (root.right != null) {\n",
    "        return max(root.right);\n",
    "    }\n",
    "\n",
    "    return root;\n",
    "}"
   ]
  },
  {
   "cell_type": "markdown",
   "metadata": {},
   "source": [
    "[Leetcode 98](https://leetcode.com/problems/validate-binary-search-tree/)"
   ]
  },
  {
   "cell_type": "markdown",
   "metadata": {},
   "source": [
    "**Q 4:** Given a node, count the number of nodes in tree  \n",
    "**Answer:**"
   ]
  },
  {
   "cell_type": "code",
   "execution_count": 6,
   "metadata": {},
   "outputs": [
    {
     "name": "stdout",
     "output_type": "stream",
     "text": [
      "5\n"
     ]
    }
   ],
   "source": [
    "public int countNodes(Node root) {\n",
    "    if (root == null) {\n",
    "        return 0;\n",
    "    }\n",
    "\n",
    "    return 1 + countNodes(root.left) + countNodes(root.right);\n",
    "}\n",
    "\n",
    "Node n1 = new Node(1);\n",
    "Node n2 = new Node(2);\n",
    "Node n3 = new Node(3);\n",
    "Node n4 = new Node(4);\n",
    "Node n5 = new Node(5);\n",
    "\n",
    "n1.left = n2;\n",
    "n1.right = n3;\n",
    "n2.left = n4;\n",
    "n3.right = n5;\n",
    "\n",
    "System.out.println(countNodes(n1));"
   ]
  },
  {
   "cell_type": "markdown",
   "metadata": {},
   "source": [
    "**Q 5:** Given a binary tree return the maximum and the minimum vertical level.  \n",
    "**Answer:**"
   ]
  },
  {
   "cell_type": "code",
   "execution_count": 8,
   "metadata": {},
   "outputs": [
    {
     "name": "stdout",
     "output_type": "stream",
     "text": [
      "[-1, 2]\n",
      "[-1, 2]\n"
     ]
    }
   ],
   "source": [
    "public void minMaxVerticalLevel(Node root, int currentLevel, int[] level) {\n",
    "    if (currentLevel < level[0]) {\n",
    "        level[0] = currentLevel;\n",
    "    } else if (currentLevel > level[1]) {\n",
    "        level[1] = currentLevel;\n",
    "    }\n",
    "\n",
    "    if (root.left != null) {\n",
    "        minMaxVerticalLevel(root.left, currentLevel - 1, level);\n",
    "    }\n",
    "    if (root.right != null) {\n",
    "        minMaxVerticalLevel(root.right, currentLevel + 1, level);\n",
    "    }\n",
    "}\n",
    "    \n",
    "Node n1 = new Node(1);\n",
    "Node n2 = new Node(2);\n",
    "Node n3 = new Node(3);\n",
    "Node n4 = new Node(4);\n",
    "Node n5 = new Node(5);\n",
    "\n",
    "n1.left = n2;\n",
    "n1.right = n3;\n",
    "n3.left = n4;\n",
    "n3.right = n5;\n",
    "\n",
    "int[] level = {0, 0};\n",
    "minMaxVerticalLevel(n1, 0, level);\n",
    "System.out.println(Arrays.toString(level));\n",
    "\n",
    "// Using two separate functions\n",
    "public int maxVerticalLevel(Node root, int currentLevel) {\n",
    "    int leftLevel = currentLevel;\n",
    "    if (root.left != null) {\n",
    "        leftLevel = maxVerticalLevel(root.left, currentLevel - 1);\n",
    "    }\n",
    "\n",
    "    int rightLevel = currentLevel;\n",
    "    if (root.right != null) {\n",
    "        rightLevel = maxVerticalLevel(root.right, currentLevel + 1);\n",
    "    }\n",
    "\n",
    "    return Math.max(leftLevel, rightLevel);\n",
    "}\n",
    "\n",
    "public int minVerticalLevel(Node root, int currentLevel) {\n",
    "    int leftLevel = currentLevel;\n",
    "    if (root.left != null) {\n",
    "        leftLevel = minVerticalLevel(root.left, currentLevel - 1);\n",
    "    }\n",
    "\n",
    "    int rightLevel = currentLevel;\n",
    "    if (root.right != null) {\n",
    "        rightLevel = minVerticalLevel(root.right, currentLevel + 1);\n",
    "    }\n",
    "\n",
    "    return Math.min(leftLevel, rightLevel);\n",
    "}\n",
    "\n",
    "level = new int[]{minVerticalLevel(n1, 0), maxVerticalLevel(n1, 0)};\n",
    "System.out.println(Arrays.toString(level));"
   ]
  },
  {
   "cell_type": "markdown",
   "metadata": {},
   "source": [
    "**Q 6** Print path from root node to a given node.  \n",
    "**Answer:** One way is to utilise BFS and maintain a predecessor map. In alternative way, we make use of stack and at every node, we check whether there is a path from that node to the given node in either left or the right subtree."
   ]
  },
  {
   "cell_type": "code",
   "execution_count": 10,
   "metadata": {},
   "outputs": [
    {
     "name": "stdout",
     "output_type": "stream",
     "text": [
      "[3, 5, 2, 4]\n"
     ]
    }
   ],
   "source": [
    "public int[] path(Node root, Node destination) {\n",
    "    Stack<Integer> stack = new Stack<>();\n",
    "\n",
    "    if(hasPath(root, destination, stack)) {\n",
    "        return stack.stream().mapToInt(Integer::intValue).toArray();\n",
    "    } else {\n",
    "        return new int[0];\n",
    "    }\n",
    "}\n",
    "\n",
    "private boolean hasPath(Node start, Node destination, Stack<Integer> stack) {\n",
    "    if(start == null) {\n",
    "        return false;\n",
    "    }\n",
    "\n",
    "    stack.push(start.data);\n",
    "    if(start.data == destination.data) {\n",
    "        return true;\n",
    "    }\n",
    "\n",
    "    if(hasPath(start.left, destination, stack) ||  hasPath(start.right, destination, stack)) {\n",
    "        return true;\n",
    "    }\n",
    "\n",
    "    stack.pop();\n",
    "    return false;\n",
    "}\n",
    "    \n",
    "Node n1 = new Node(3);\n",
    "Node n2 = new Node(5);\n",
    "Node n3 = new Node(1);\n",
    "Node n4 = new Node(6);\n",
    "Node n5 = new Node(2);\n",
    "Node n6 = new Node(0);\n",
    "Node n7 = new Node(8);\n",
    "Node n8 = new Node(7);\n",
    "Node n9 = new Node(4);\n",
    "\n",
    "n1.left = n2;\n",
    "n1.right = n3;\n",
    "n2.left = n4;\n",
    "n2.right = n5;\n",
    "n3.left = n6;\n",
    "n3.right = n7;\n",
    "n5.left = n8;\n",
    "n5.right = n9;\n",
    "\n",
    "int[] p = path(n1, n9);\n",
    "System.out.println(Arrays.toString(p));"
   ]
  },
  {
   "cell_type": "markdown",
   "metadata": {},
   "source": [
    "What if the above tree is a BST? In that case, we can make some optimisations."
   ]
  },
  {
   "cell_type": "code",
   "execution_count": 12,
   "metadata": {},
   "outputs": [
    {
     "name": "stdout",
     "output_type": "stream",
     "text": [
      "[12, 25, 31]\n"
     ]
    }
   ],
   "source": [
    "public int[] pathBST(Node root, Node destination) {\n",
    "    Stack<Integer> stack = new Stack<>();\n",
    "\n",
    "    if (hasPathBST(root, destination, stack)) {\n",
    "        return stack.stream().mapToInt(Integer::intValue).toArray();\n",
    "    } else {\n",
    "        return new int[0];\n",
    "    }\n",
    "}\n",
    "\n",
    "private boolean hasPathBST(Node start, Node destination, Stack<Integer> stack) {\n",
    "    if (start == null) {\n",
    "        return false;\n",
    "    }\n",
    "\n",
    "    stack.push(start.data);\n",
    "    if (start.data == destination.data) {\n",
    "        return true;\n",
    "    }\n",
    "\n",
    "    if (destination.data > start.data && hasPathBST(start.right, destination, stack)) {\n",
    "        return true;\n",
    "    } else if (destination.data < start.data && hasPathBST(start.left, destination, stack)) {\n",
    "        return true;\n",
    "    }\n",
    "\n",
    "    stack.pop();\n",
    "    return false;\n",
    "}\n",
    "\n",
    "Node n1 = new Node(12);\n",
    "Node n2 = new Node(2);\n",
    "Node n3 = new Node(25);\n",
    "Node n4 = new Node(1);\n",
    "Node n5 = new Node(4);\n",
    "Node n6 = new Node(31);\n",
    "\n",
    "n1.left = n2;\n",
    "n1.right = n3;\n",
    "n2.left = n4;\n",
    "n2.right = n5;\n",
    "n3.right = n6;\n",
    "\n",
    "int[] p = pathBST(n1, n6);\n",
    "System.out.println(Arrays.toString(p));"
   ]
  },
  {
   "cell_type": "markdown",
   "metadata": {},
   "source": [
    "This above observation (for both normal and BST), can help us find the common ancestor (for two nodes) with maximum depth."
   ]
  },
  {
   "cell_type": "markdown",
   "metadata": {},
   "source": [
    "**Q 7:** Find the distance between two nodes.  \n",
    "**Answer:** The approach is to find the lowest (depth) common ancestor of the two nodes and then sum the distance of both the nodes from the common ancestor."
   ]
  },
  {
   "cell_type": "markdown",
   "metadata": {},
   "source": [
    "**Q 8:** Invert a given tree  \n",
    "**Answer:** inverting means mirror image in this instance."
   ]
  },
  {
   "cell_type": "code",
   "execution_count": null,
   "metadata": {},
   "outputs": [],
   "source": [
    "public void invert(Node node) {\n",
    "    if (node == null) {\n",
    "        return;\n",
    "    }\n",
    "\n",
    "    Node left = node.left;\n",
    "    Node right = node.right;\n",
    "\n",
    "    node.left = right;\n",
    "    node.right = left;\n",
    "\n",
    "    invert(left);\n",
    "    invert(right);\n",
    "}"
   ]
  },
  {
   "cell_type": "markdown",
   "metadata": {},
   "source": [
    "**Q 9:** Find the sum of all the possible subtrees  \n",
    "**Answer:** Doing a postorder traversal and storing sum in an can help us here."
   ]
  },
  {
   "cell_type": "code",
   "execution_count": null,
   "metadata": {},
   "outputs": [],
   "source": [
    "public List<Integer> allSums(Node root) {\n",
    "    List<Integer> result = new ArrayList<>();\n",
    "    allSums(root, result);\n",
    "    return result;\n",
    "}\n",
    "\n",
    "private int allSums(Node root, List<Integer> sums) {\n",
    "    if (root == null) {\n",
    "        return 0;\n",
    "    }\n",
    "\n",
    "    int leftSum = allSums(root.left, sums);\n",
    "    int rightSum = allSums(root.right, sums);\n",
    "    int total = leftSum + rightSum + root.data;\n",
    "    sums.add(total);\n",
    "    return total;\n",
    "}\n",
    "\n",
    "System.out.println(allSums(n1)); // [1, 4, 7, 31, 56, 75]"
   ]
  },
  {
   "cell_type": "markdown",
   "metadata": {},
   "source": [
    "**Q 10:** Flatten a binary tree into a linked list  \n",
    "**Answer:**  "
   ]
  },
  {
   "cell_type": "code",
   "execution_count": 17,
   "metadata": {},
   "outputs": [
    {
     "name": "stdout",
     "output_type": "stream",
     "text": [
      "[3, 5, 6, 2, 7, 4, 1, 0, 8]\n"
     ]
    }
   ],
   "source": [
    "// Flattening in preorder style\n",
    "public Node flatten(Node root) {\n",
    "    if (root == null) {\n",
    "        return root;\n",
    "    }\n",
    "\n",
    "    // Flatten left\n",
    "    Node left = flatten(root.left);\n",
    "    // Flatten right\n",
    "    Node right = flatten(root.right);\n",
    "\n",
    "    if (left != null) {\n",
    "        root.right = left;\n",
    "        Node curr = left;\n",
    "        while (curr.right != null) {\n",
    "            curr = curr.right;\n",
    "        }\n",
    "        curr.right = right;\n",
    "    } else {\n",
    "        root.right = right;\n",
    "    }\n",
    "\n",
    "    return root;\n",
    "}\n",
    "            \n",
    "Node n1 = new Node(3); Node n2 = new Node(5);\n",
    "Node n3 = new Node(1); Node n4 = new Node(6);\n",
    "Node n5 = new Node(2); Node n6 = new Node(0);\n",
    "Node n7 = new Node(8); Node n8 = new Node(7);\n",
    "Node n9 = new Node(4);\n",
    "\n",
    "n1.left = n2; n1.right = n3;\n",
    "n2.left = n4; n2.right = n5;\n",
    "n3.left = n6; n3.right = n7;\n",
    "n5.left = n8; n5.right = n9;\n",
    "\n",
    "Node cur = flatten(n1);\n",
    "List<Integer> result = new ArrayList<>();\n",
    "while (cur != null) {\n",
    "    result.add(cur.data);\n",
    "    cur = cur.right;\n",
    "}\n",
    "System.out.println(result);"
   ]
  },
  {
   "cell_type": "markdown",
   "metadata": {},
   "source": [
    "**Q 11** Given a tree, return its zig zag order traversal. Zig zag order is same as level order, except that alternate levels have reverse orders. For example, the tree:\n",
    "```\n",
    "    3\n",
    "   / \\\n",
    "  9  20\n",
    "    /  \\\n",
    "   15   7\n",
    "```\n",
    "has zigzag order traversal as: `[3],[20,9],[15,7]`  \n",
    "**Answer:**"
   ]
  },
  {
   "cell_type": "code",
   "execution_count": 3,
   "metadata": {},
   "outputs": [],
   "source": [
    "public List<List<Integer>> zigZagOrder(Node root) {\n",
    "    if (root == null) {\n",
    "        return new ArrayList<>();\n",
    "    }\n",
    "\n",
    "    Queue<Node> queue = new ArrayDeque<>();\n",
    "    queue.offer(root);\n",
    "\n",
    "    boolean leftToRight = true;\n",
    "    List<List<Integer>> result = new ArrayList<>();\n",
    "    while (!queue.isEmpty()) {\n",
    "        int levelSize = queue.size();\n",
    "        int[] levels = new int[levelSize];\n",
    "        while (levelSize > 0) {\n",
    "            Node current = queue.poll();\n",
    "            if (leftToRight) {\n",
    "                levels[levels.length - levelSize] = current.data;\n",
    "            } else {\n",
    "                levels[levelSize - 1] = current.data;\n",
    "            }\n",
    "\n",
    "            if (current.left != null) {\n",
    "                queue.offer(current.left);\n",
    "            }\n",
    "            if (current.right != null) {\n",
    "                queue.offer(current.right);\n",
    "            }\n",
    "\n",
    "            levelSize--;\n",
    "        }\n",
    "\n",
    "        leftToRight = !leftToRight;\n",
    "        result.add(Arrays.stream(levels).boxed().toList());\n",
    "    }\n",
    "\n",
    "    return result;\n",
    "}"
   ]
  },
  {
   "cell_type": "markdown",
   "metadata": {},
   "source": [
    "[Leetcode 103](https://leetcode.com/problems/binary-tree-zigzag-level-order-traversal/description/)"
   ]
  },
  {
   "cell_type": "markdown",
   "metadata": {},
   "source": [
    "**Q 12** Given a tree, return if it is balanced or not.  \n",
    "**Answer:** A tree is balanced if a) The left subtree is balanced b) The right subtree is balanced c) The height diff between left and right subtree is at max 1 "
   ]
  },
  {
   "cell_type": "code",
   "execution_count": null,
   "metadata": {},
   "outputs": [],
   "source": [
    "public boolean isBalanced(Node root) {\n",
    "    if (root == null) {\n",
    "        return true;\n",
    "    }\n",
    "\n",
    "    return Math.abs(height(root.left) - height(root.right)) <= 1 &&\n",
    "            isBalanced(root.left) && isBalanced(root.right);\n",
    "}\n",
    "\n",
    "/* Height method already defined earlier\n",
    "public int height(Node node) {\n",
    "    if (node == null) {\n",
    "        return -1; // Height of leaf node is 0\n",
    "    }\n",
    "\n",
    "    return 1 + Math.max(height(node.left), height(node.right));\n",
    "}\n",
    "*/"
   ]
  },
  {
   "cell_type": "markdown",
   "metadata": {},
   "source": [
    "[Leetcode 110](https://leetcode.com/problems/balanced-binary-tree/description/)"
   ]
  },
  {
   "cell_type": "markdown",
   "metadata": {},
   "source": [
    "**Q 13** Given a tree, return its vertical order traversal  \n",
    "**Answer**"
   ]
  },
  {
   "cell_type": "code",
   "execution_count": null,
   "metadata": {},
   "outputs": [],
   "source": [
    "public List<List<Integer>> verticalOrder(Node root) {\n",
    "    Map<Integer, List<Coord>> map = new HashMap<>();\n",
    "    vTraverse(root, 0, 0, map);\n",
    "\n",
    "    List<Integer> sortedLevels = map.keySet().stream().sorted().toList();\n",
    "    List<List<Integer>> result = new ArrayList<>();\n",
    "    for (Integer level : sortedLevels) {\n",
    "        List<Coord> levels = map.get(level);\n",
    "        Collections.sort(levels);\n",
    "        result.add(levels.stream().map(coord -> coord.node.data).toList());\n",
    "    }\n",
    "\n",
    "    return result;\n",
    "}\n",
    "\n",
    "// The below class is required in case we want to sort elements at the same horiontal level in order of its value\n",
    "private static record Coord(int x, int y, Node node) implements Comparable<Coord> {\n",
    "    @Override\n",
    "    public int compareTo(Coord o) {\n",
    "        int levelComparison = Integer.compare(this.y, o.y);\n",
    "        if (levelComparison != 0) {\n",
    "            return levelComparison;\n",
    "        }\n",
    "\n",
    "        return Integer.compare(this.node.data, o.node.data);\n",
    "    }\n",
    "}\n",
    "\n",
    "private void vTraverse(Node root, int x, int y, Map<Integer, List<Coord>> map) {\n",
    "    if (root == null) {\n",
    "        return;\n",
    "    }\n",
    "\n",
    "    List<Coord> list = map.computeIfAbsent(x, k -> new ArrayList<>());\n",
    "    list.add(new Coord(x, y, root));\n",
    "\n",
    "    vTraverse(root.left, x - 1, y + 1, map);\n",
    "    vTraverse(root.right, x + 1, y + 1, map);\n",
    "}"
   ]
  },
  {
   "cell_type": "markdown",
   "metadata": {},
   "source": [
    "Another way to solve is to use breadth first traversal instead of depth first like in the above case."
   ]
  },
  {
   "cell_type": "code",
   "execution_count": null,
   "metadata": {},
   "outputs": [],
   "source": [
    "public List<List<Integer>> verticalOrder2(Node root) {\n",
    "    Map<Integer, List<Coord>> map = new HashMap<>();\n",
    "\n",
    "    Queue<Coord> nodeQueue = new ArrayDeque<>();\n",
    "    nodeQueue.offer(new Coord(0, 0, root));\n",
    "    while (!nodeQueue.isEmpty()) {\n",
    "        Coord n = nodeQueue.poll();\n",
    "\n",
    "        List<Coord> temp = map.computeIfAbsent(n.x, k -> new ArrayList<>());\n",
    "        temp.add(n);\n",
    "\n",
    "        if (n.node.left != null) {\n",
    "            nodeQueue.add(new Coord(n.x - 1, n.y + 1, n.node.left));\n",
    "        }\n",
    "\n",
    "        if (n.node.right != null) {\n",
    "            nodeQueue.add(new Coord(n.x + 1, n.y + 1, n.node.right));\n",
    "        }\n",
    "    }\n",
    "\n",
    "    List<Integer> sortedLevels = map.keySet().stream().sorted().toList();\n",
    "    List<List<Integer>> result = new ArrayList<>();\n",
    "    for (Integer level : sortedLevels) {\n",
    "        List<Coord> levels = map.get(level);\n",
    "        Collections.sort(levels);\n",
    "        result.add(levels.stream().map(coord -> coord.node.data).toList());\n",
    "    }\n",
    "\n",
    "    return result;\n",
    "}"
   ]
  },
  {
   "cell_type": "markdown",
   "metadata": {},
   "source": [
    "[Leetcode 987](https://leetcode.com/problems/vertical-order-traversal-of-a-binary-tree/description/)"
   ]
  },
  {
   "cell_type": "markdown",
   "metadata": {},
   "source": [
    "**Q 14** Given a tree, return its top view.  \n",
    "**Answer** Do a vertical order traversal and store just the first element of each vertical level."
   ]
  },
  {
   "cell_type": "code",
   "execution_count": null,
   "metadata": {},
   "outputs": [],
   "source": [
    "public List<Integer> topView(Node root) {\n",
    "    List<List<Integer>> verticalOrder = verticalOrder(root);\n",
    "    List<Integer> result = new ArrayList<>();\n",
    "    for (List<Integer> list : verticalOrder) {\n",
    "        result.add(list.get(0));\n",
    "    }\n",
    "    return result;\n",
    "}"
   ]
  },
  {
   "cell_type": "markdown",
   "metadata": {},
   "source": [
    "**Q 15** Given a tree, return if its symmetrical or not. Symmetry around vertical axis passing through the root node  \n",
    "**Answer:** One possible solution is to do level order traversal and check if each level is palindrome or not. But this may not give us the correct value. Consider the tree below:\n",
    "```\n",
    "        2\n",
    "       / \\\n",
    "      2   2\n",
    "     /   /\n",
    "    2   2\n",
    "```\n",
    "The level order traversal is palindrome for each level but this tree is not symmetric. Another idea is to perhaps check for inorder traversal and see if that is palindrome. Unfortunately, that also doesn't work."
   ]
  },
  {
   "cell_type": "code",
   "execution_count": null,
   "metadata": {},
   "outputs": [],
   "source": [
    "// We compare vertical level +x against vertical level -x\n",
    "public boolean isSymmetric(Node root) {\n",
    "    Map<Integer, List<Integer>> map = new HashMap<>();\n",
    "    vTraverse(root, 0, map);\n",
    "\n",
    "    for (Integer level : map.keySet()) {\n",
    "        List<Integer> current = map.get(level);\n",
    "        List<Integer> opposite = map.getOrDefault(level * -1, new ArrayList<>());\n",
    "        if (!current.equals(opposite.reversed())) { // Opposite levels should be palindrome\n",
    "            return false;\n",
    "        }\n",
    "    }\n",
    "\n",
    "    return true;\n",
    "}\n",
    "\n",
    "private void vTraverse(Node root, int level, Map<Integer, List<Integer>> map) {\n",
    "    if (root == null) {\n",
    "        return;\n",
    "    }\n",
    "\n",
    "    List<Integer> list = map.computeIfAbsent(level, k -> new ArrayList<>());\n",
    "    // Important to do this in inorder style\n",
    "    vTraverse(root.left, level - 1, map);\n",
    "    list.add(root.data);\n",
    "    vTraverse(root.right, level + 1, map);\n",
    "}"
   ]
  },
  {
   "cell_type": "markdown",
   "metadata": {},
   "source": [
    "But the easier way is to just check if left subtree is mirror image of the right one:"
   ]
  },
  {
   "cell_type": "code",
   "execution_count": null,
   "metadata": {},
   "outputs": [],
   "source": [
    "public boolean isSymmetric(Node root) {\n",
    "    return isMirror(root.left, root.right);\n",
    "}\n",
    "\n",
    "public boolean isMirror(Node l, Node r){\n",
    "    if (l == null || r == null) {\n",
    "        return l==r;\n",
    "    }\n",
    "     \n",
    "    return (l.data == r.data) && isMirror(l.left , r.right) && isMirror(l.right , r.left);\n",
    "}"
   ]
  },
  {
   "cell_type": "markdown",
   "metadata": {},
   "source": [
    "**Q 16** Determine if two trees are identical  \n",
    "**Answer** Preorder + Inorder traversal uniquely determines each tree."
   ]
  },
  {
   "cell_type": "markdown",
   "metadata": {},
   "source": [
    "**Q 17** Boundary level traversal  \n",
    "**Answer** = left boundary + leaf nodes + right boundary"
   ]
  },
  {
   "cell_type": "code",
   "execution_count": 2,
   "metadata": {},
   "outputs": [],
   "source": [
    "public List<Integer> boundaryTraversal(Node root) {\n",
    "    List<Integer> result = new ArrayList<>();\n",
    "    result.add(root.data);\n",
    "\n",
    "    // Add left boundary\n",
    "    leftBoundary(root.left, result);\n",
    "\n",
    "    // Add leaf nodes\n",
    "    leafNodes(root.left, result);\n",
    "    leafNodes(root.right, result);\n",
    "\n",
    "    // Add right nodes\n",
    "    rightBoundary(root.right, result);\n",
    "\n",
    "    return result;\n",
    "}\n",
    "\n",
    "private void leftBoundary(Node root, List<Integer> path) {\n",
    "    if (root == null) {\n",
    "        return;\n",
    "    }\n",
    "\n",
    "    if (root.left != null) {\n",
    "        path.add(root.data);\n",
    "        leftBoundary(root.left, path);\n",
    "    } else if (root.right != null) {\n",
    "        path.add(root.data);\n",
    "        leftBoundary(root.right, path);\n",
    "    }\n",
    "}\n",
    "\n",
    "private void rightBoundary(Node root, List<Integer> path) {\n",
    "    if (root == null) {\n",
    "        return;\n",
    "    }\n",
    "\n",
    "    if (root.right != null) {\n",
    "        rightBoundary(root.right, path);\n",
    "        path.add(root.data);\n",
    "    } else if (root.left != null) {\n",
    "        rightBoundary(root.left, path);\n",
    "        path.add(root.data);\n",
    "    }\n",
    "}\n",
    "\n",
    "private void leafNodes(Node root, List<Integer> path) {\n",
    "    if (root == null) {\n",
    "        return;\n",
    "    }\n",
    "\n",
    "    leafNodes(root.left, path);\n",
    "    if (root.left == null && root.right == null) {\n",
    "        path.add(root.data);\n",
    "    }\n",
    "    leafNodes(root.right, path);\n",
    "}"
   ]
  },
  {
   "cell_type": "markdown",
   "metadata": {},
   "source": [
    "**Q 18** Given a sorted array, form a balanced binary search tree using it.  \n",
    "**Answer** The middle term of the array must correspond to to the root node"
   ]
  },
  {
   "cell_type": "code",
   "execution_count": null,
   "metadata": {},
   "outputs": [],
   "source": [
    "public Node balancedBST(int[] input) {\n",
    "    if(input == null || input.length == 0) {\n",
    "        return null;\n",
    "    } else if (input.length == 1) {\n",
    "        return new Node(input[0]);\n",
    "    }\n",
    "\n",
    "    // Get the middle element\n",
    "    int mid =  input.length / 2;\n",
    "    int[] left = Arrays.copyOfRange(input, 0, mid);\n",
    "    int[] right = Arrays.copyOfRange(input, mid, input.length);\n",
    "    Node root = new Node(input[mid]);\n",
    "    root.left = balancedBST(left);\n",
    "    root.right = balancedBST(right);\n",
    "    return root;\n",
    "}"
   ]
  },
  {
   "cell_type": "markdown",
   "metadata": {},
   "source": [
    "This same approach can be used to balance a binary search tree. Step 1) Find the inorder representation of the BST. Step 2) Form balanced BST using the inorder representation.\n",
    "\n",
    "**Q 19** Given a BST, and values of two nodes present in BST, find the distance between the given nodes.  \n",
    "**Answer:** "
   ]
  },
  {
   "cell_type": "code",
   "execution_count": null,
   "metadata": {},
   "outputs": [],
   "source": [
    "public int distance(Node root, Node from, Node to) {\n",
    "    Node common = commonAncestor(root, from, to);\n",
    "    return getDistance(common, from) + getDistance(common, to);\n",
    "}\n",
    "\n",
    "// Get lowest common ancestor - from and to nodes would lie on the either side\n",
    "private static Node commonAncestor(Node root, Node first, Node second) {\n",
    "    if (root == null) {\n",
    "        return null;\n",
    "    }\n",
    "\n",
    "    if (root.val > first.data && root.data > second.val) {\n",
    "        return commonAncestor2(root.left, first, second);\n",
    "    }\n",
    "\n",
    "    if (root.val < first.data && root.data < second.val) {\n",
    "        return commonAncestor2(root.right, first, second);\n",
    "    }\n",
    "\n",
    "    return root;\n",
    "}\n",
    "\n",
    "private static int getDistance(Node from, Node to) {\n",
    "    if (from.data == to.val) {\n",
    "        return 0;\n",
    "    }\n",
    "\n",
    "    if (from.data > to.val) {\n",
    "        return 1 + getDistance(from.left, to);\n",
    "    } else {\n",
    "        return 1 + getDistance(from.right, to);\n",
    "    }\n",
    "}"
   ]
  },
  {
   "cell_type": "markdown",
   "metadata": {},
   "source": [
    "**Q 20** Given two BSTs, return the sum of common items in both BSTs.  \n",
    "**Answer**"
   ]
  },
  {
   "cell_type": "code",
   "execution_count": 16,
   "metadata": {},
   "outputs": [],
   "source": [
    "public int sumOfCommonElements(Node root1, Node root2) {\n",
    "    List<Integer> inorder1 = new ArrayList<>();\n",
    "    inOrder(root1, inorder1);\n",
    "\n",
    "    List<Integer> inorder2 = new ArrayList<>();\n",
    "    inOrder(root2, inorder2);\n",
    "\n",
    "    int i = 0, j = 0, sum = 0;\n",
    "    while (i < inorder1.size() && j < inorder2.size()) {\n",
    "        if (inorder1.get(i).equals(inorder2.get(j))) {\n",
    "            sum += 2 * inorder1.get(i);\n",
    "            i++;\n",
    "            j++;\n",
    "        } else if (inorder1.get(i) < inorder2.get(j)) {\n",
    "            i++;\n",
    "        } else {\n",
    "            j++;\n",
    "        }\n",
    "    }\n",
    "\n",
    "    return sum;\n",
    "}\n",
    "\n",
    "private void inOrder(Node root, List<Integer> path) {\n",
    "    if (root == null) {\n",
    "        return;\n",
    "    }\n",
    "\n",
    "    inOrder(root.left, path);\n",
    "    path.add(root.data);\n",
    "    inOrder(root.right, path);\n",
    "}"
   ]
  },
  {
   "cell_type": "markdown",
   "metadata": {},
   "source": [
    "**Q 21** Given a Binary Tree $A$ with $N$ nodes. Write a function that returns the size of the largest subtree which is also a Binary Search Tree (BST). If the complete Binary Tree is BST, then return the size of whole tree.  \n",
    "**Answer:**"
   ]
  },
  {
   "cell_type": "code",
   "execution_count": null,
   "metadata": {},
   "outputs": [],
   "source": [
    "public int largestBST(Node root) {\n",
    "    if (root == null) {\n",
    "        return 0;\n",
    "    }\n",
    "\n",
    "    List<Integer> path = new ArrayList<>();\n",
    "    inOrder(root, path);\n",
    "\n",
    "    List<Integer> sortedPath = new ArrayList<>(path);\n",
    "    sortedPath.sort(Comparator.naturalOrder());\n",
    "\n",
    "    // If the inorder traversal is sorted then it is a BST (may not be balanced)\n",
    "    if (sortedPath.equals(path)) {\n",
    "        return path.size();\n",
    "    }\n",
    "\n",
    "    return Math.max(largestBST(root.left), largestBST(root.right));\n",
    "}"
   ]
  }
 ],
 "metadata": {
  "kernelspec": {
   "display_name": "Java",
   "language": "java",
   "name": "java"
  },
  "language_info": {
   "codemirror_mode": "java",
   "file_extension": ".jshell",
   "mimetype": "text/x-java-source",
   "name": "Java",
   "pygments_lexer": "java",
   "version": "21.0.2+13-58"
  }
 },
 "nbformat": 4,
 "nbformat_minor": 4
}
