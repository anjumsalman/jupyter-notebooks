{
 "cells": [
  {
   "cell_type": "markdown",
   "metadata": {},
   "source": [
    "### Hash Function\n",
    "Hash function is any function which maps data of arbitrary size to a fixed-size value. Value returned by such function is called *hash value*, *hash* or *digest*. Hash value is commonly used in conjunction with *hash table*. A good hash function has the following properties:\n",
    "- always returns same hash value for same input\n",
    "- equal input will therefore have the same hash, unequal input on the other hand should have different hashes\n",
    "- must be uniform, it must distribute hash over its range\n",
    "- fixed size output from a hash function is desirable\n",
    "- should be non-invertible, ie from a given hash one cannot determine the input used to generate the given hash\n",
    "\n",
    "A sample hash function: In Java a string's hash is calculated in the following manner:"
   ]
  },
  {
   "cell_type": "code",
   "execution_count": 1,
   "metadata": {},
   "outputs": [
    {
     "data": {
      "text/plain": [
       "64578"
      ]
     },
     "execution_count": 1,
     "metadata": {},
     "output_type": "execute_result"
    }
   ],
   "source": [
    "def hash_string(input):\n",
    "    hash = 0; j = 1;\n",
    "    for i in input:\n",
    "        hash += ord(i)*(31**(len(input)-j))\n",
    "        j += 1\n",
    "    return hash\n",
    "\n",
    "hash_string('ABC')"
   ]
  },
  {
   "cell_type": "markdown",
   "metadata": {},
   "source": [
    "### Hash Table\n",
    "Hash Table is a data structure which maps keys to values. We use the keys to calculate hash and that hash acts as index where the value is stored. The image below represents a hash table:\n",
    "\n",
    "![hash table](https://upload.wikimedia.org/wikipedia/commons/thumb/7/7d/Hash_table_3_1_1_0_1_0_0_SP.svg/315px-Hash_table_3_1_1_0_1_0_0_SP.svg.png)"
   ]
  },
  {
   "cell_type": "markdown",
   "metadata": {},
   "source": [
    "### Collisions\n",
    "It is possible that different inputs may have the same hash, for example,"
   ]
  },
  {
   "cell_type": "code",
   "execution_count": 2,
   "metadata": {},
   "outputs": [
    {
     "name": "stdout",
     "output_type": "stream",
     "text": [
      "Hash for Aa is  2112\n",
      "Hash for BB is  2112\n"
     ]
    }
   ],
   "source": [
    "print('Hash for Aa is ', hash_string('Aa'))\n",
    "print('Hash for BB is ', hash_string('BB'))"
   ]
  },
  {
   "cell_type": "markdown",
   "metadata": {},
   "source": [
    "There are several methods to resolve collisions. In a typical hash table the index is calculated in the following two steps:\n",
    "$$index = f(key, array\\_size)$$\n",
    "$$hash = hash\\_func(key)$$\n",
    "$$index = hash \\% array\\_size$$"
   ]
  },
  {
   "cell_type": "markdown",
   "metadata": {},
   "source": [
    "The **load_factor** of a hashtable is $load\\_factor = \\frac{n}{k}$, where $n$ is the number of occupied entries and $k$ is the total number of buckets (array_size).\n",
    "\n",
    "The following methods are used to reduce collision:\n",
    "- **separate chaining:** in this case each bucket contains a linked list of all entries having the same hash. In this case the cost of lookup depends upon the average number of keys per bucket. The worst case in this scenario is when all the items are stored in the same bucket, this is equivalent to searching in a plain list. Other data structures (rather than linked list) can also be used, like self balancing BST.\n",
    "![separate chaining](https://upload.wikimedia.org/wikipedia/commons/thumb/d/d0/Hash_table_5_0_1_1_1_1_1_LL.svg/450px-Hash_table_5_0_1_1_1_1_1_LL.svg.png)\n",
    "\n",
    "- **open addressing:** in open addressing, in case of collision, we move to next bucket until an empty bucket is found. The drawback is that the maximum entries that can be stored is the number of buckets. The next bucket can be found in the following ways:\n",
    "    - **linear probing:** in case of collision look at next bucket, then next bucket, then next until vacant bucket is found\n",
    "    - **quadratic probing:**\n",
    "    - **double hashing:**"
   ]
  },
  {
   "cell_type": "markdown",
   "metadata": {},
   "source": [
    "### Chained Hash Table\n",
    "![Chained Hash Table](https://i.imgur.com/XVb6Pnn.png)\n",
    "\n",
    "In the above example, $n = 14$ is the current occupancy. Whereas $t = 16$ is the size of the array. The hash value of data item $x$, is $y = hash(x)$. The hash, $y \\in \\{0,1,..., t-1\\}$.  \n",
    "It is necessary to make sure the lists do not get long, so $n \\le t$"
   ]
  },
  {
   "cell_type": "markdown",
   "metadata": {},
   "source": [
    "```java\n",
    "List<T>[] table;\n",
    "int n;\t// Number of items in the table\n",
    "\n",
    "public boolean add(T x) {\n",
    "    // Return false if the element already exists\n",
    "    if(find(x))\n",
    "        return false;\n",
    "\n",
    "    // We follow the below rule so that\n",
    "    // the lists do not become too long.\n",
    "    // Or we can resize based on predecided\n",
    "    // load factor.\n",
    "    if(n+1 > table.length)\n",
    "        resize(); // This method resizes the table array\n",
    "                  // and reinserts all values\n",
    "\n",
    "    table[hash(x)].add(x);\n",
    "    n++;\n",
    "    return true;\n",
    "}\n",
    "\n",
    "public T remove(T x) {\n",
    "    // Iterator is used because we are modifying list\n",
    "    // during iteration\n",
    "    Iterator<T> iterator = table[hash(x)].iterator();\n",
    "    while(iterator.hasNext()) {\n",
    "        T temp = iterator.next();\n",
    "        if(temp.equals(x)) {\n",
    "            iterator.remove();\n",
    "            n--;\n",
    "            return temp;\n",
    "        }\n",
    "    }\n",
    "    return null;\n",
    "}\n",
    "\n",
    "public boolean find(T x) {\n",
    "    for(T t: table[hash(x)]) {\n",
    "        if(t.equals(x)) {\n",
    "            return true;\n",
    "        }\n",
    "    }\n",
    "    return false;\n",
    "}\n",
    "```"
   ]
  },
  {
   "cell_type": "markdown",
   "metadata": {},
   "source": [
    "### Linear Hash Table\n",
    "In a linear hash table, we follow the following process:\n",
    "1. Find if the position $i = hash(x)$ is vacant, if yes then we insert value at that index\n",
    "2. If the previous position is already occupied, then try to store at $(i + 1)\\ mod\\ table.length$\n",
    "3. If the index in previous step is also not available then go to $(i + 2)\\ mod\\ table.length$\n",
    "4. Keep incrementing till a vacant position is found\n",
    "\n",
    "Whenever we remove an item from hashtable, we replace it with dummy `del`. This del item indicates that the index was previously occupied. So in total, we store three different types of values\n",
    "- data values: actual values in the USet that we are representing\n",
    "- null values: at array locations where no data has ever been stored; and\n",
    "- del values: at array locations where data was once stored but that has since been deleted.  \n",
    "\n",
    "In a linear hash table we maintain that $table.length \\ge 2q$, where $q$ is the number of data or del values."
   ]
  },
  {
   "cell_type": "markdown",
   "metadata": {},
   "source": [
    "```java\n",
    "T[] table;\n",
    "int n; // total number of filled spots\n",
    "int q; // total number of filled or del spots\n",
    "T del = (T) new Object();\n",
    "\n",
    "public boolean find(T x) {\n",
    "    int i = hash(x);\n",
    "    int start = i;\n",
    "\n",
    "    if(table[i].equals(x))\n",
    "        return true;\n",
    "\n",
    "    i = (i + 1)%(table.length);\n",
    "    while(i != start){\n",
    "        if(x != del && x.equals(table[i]))\n",
    "            return true;\n",
    "        else if(table[i] == null)\n",
    "            break;\n",
    "        else\n",
    "            i = (i + 1)%(table.length);\n",
    "    }\n",
    "\n",
    "    return false;\n",
    "}\n",
    "\n",
    "public boolean add(T x) {\n",
    "    if(find(x))\n",
    "        return false;\n",
    "\n",
    "    if(table.length < 2*(q+1))\n",
    "        resize();\n",
    "\n",
    "    int i = hash(x);\n",
    "    while(table[i] != null || table[i] != del) {\n",
    "        i = (i + 1)%table.length;\n",
    "    }\n",
    "\n",
    "    if(table[i] == null)\n",
    "        q++;\n",
    "    n++;\n",
    "\n",
    "    table[i] = x;\n",
    "    return true;\n",
    "}\n",
    "\n",
    "public T remove(T x) {\n",
    "    int i = hash(x);\n",
    "    int start = i;\n",
    "\n",
    "    if(table[i].equals(x)) {\n",
    "        table[i] = del;\n",
    "        n--;\n",
    "        if(8*n < table.length)\n",
    "            resize();\n",
    "        return x;\n",
    "    }\n",
    "\n",
    "    i = (i + 1)%(table.length);\n",
    "    while(i != start){\n",
    "        if(x != del && x.equals(table[i])) {\n",
    "            table[i] = del;\n",
    "            n--;\n",
    "            if(8*n < table.length)\n",
    "                resize();\n",
    "            return x;\n",
    "        } else if(table[i] == null)\n",
    "            break;\n",
    "        else\n",
    "            i = (i + 1)%(table.length);\n",
    "    }\n",
    "\n",
    "    return null;\n",
    "}\n",
    "```"
   ]
  },
  {
   "cell_type": "markdown",
   "metadata": {},
   "source": [
    "### Problems\n",
    "**Q 1:** Given an array find if there exists a subarray such that the sum of elements of that subarray equals zero.  \n",
    "**Answer:** A naive approach is to go through all the subarrays. But there is a better approach. Consider the array `2,4,-3,-1,5,-1`. If we generate iits prefix array, we get `2,6,3,2,7,6` We see that The sum rises from 2 and goes back to 2. This means that there exists a subarray having sum equal to zero. In general, if there are repeating values in prefix sum array, we can conclude that there exists a subarray having sum zero.  \n",
    "There is a corner case. Consider the array `4,-3,-1,2,7`. Its prefix array is `4,1,0,2,9`. None of the elements of prefix array occur more than once, yet we have a subarray with sum equal to zero."
   ]
  },
  {
   "cell_type": "code",
   "execution_count": null,
   "metadata": {},
   "outputs": [],
   "source": [
    "def exists_zero_sum_subarray(A):\n",
    "    # Generate prefix array\n",
    "    prefix = [0] * len(A)\n",
    "    sum = 0\n",
    "    for i in range(len(A)):\n",
    "        sum += A[i]\n",
    "        # If sum at any time is 0\n",
    "        if sum == 0:\n",
    "            return True\n",
    "        prefix[i] = sum\n",
    "\n",
    "    # Use a map/set to keep track of numbers\n",
    "    num_set = {}\n",
    "    for i in prefix:\n",
    "        if i in num_set:\n",
    "            return True\n",
    "        else:\n",
    "            num_set[i] = 0\n",
    "\n",
    "    return False"
   ]
  },
  {
   "cell_type": "markdown",
   "metadata": {},
   "source": [
    "**Q 2:** This question is just an extension of the above one. In this question we have to return the length of the longest subarray having sum equal to zero.  \n",
    "**Answer:** To solve this problem, we will be storing the index of the first occurance in the map as well. So the answer is:"
   ]
  },
  {
   "cell_type": "code",
   "execution_count": 1,
   "metadata": {},
   "outputs": [
    {
     "name": "stdout",
     "output_type": "stream",
     "text": [
      "4\n"
     ]
    }
   ],
   "source": [
    "def longest_zero_sum_subarray(A):\n",
    "    max_len = 0\n",
    "    \n",
    "    # Generate prefix array\n",
    "    prefix = [0] * len(A)\n",
    "    sum = 0\n",
    "    for i in range(len(A)):\n",
    "        sum += A[i]\n",
    "        # If sum at any time is 0\n",
    "        if sum == 0:\n",
    "            cur_len = (i+1)\n",
    "            if cur_len > max_len:\n",
    "                max_len = cur_len\n",
    "        prefix[i] = sum\n",
    "\n",
    "    # Use a map to keep track of index\n",
    "    index_map = {}\n",
    "    for i in range(len(prefix)):\n",
    "        if prefix[i] in index_map:\n",
    "            if i - index_map[prefix[i]] > max_len:\n",
    "                max_len = i - index_map[prefix[i]]\n",
    "        else:\n",
    "            index_map[prefix[i]] = i\n",
    "\n",
    "    return max_len\n",
    "\n",
    "A = [2,4,-3,-1,5,-1]\n",
    "print(longest_zero_sum_subarray(A))"
   ]
  },
  {
   "cell_type": "markdown",
   "metadata": {},
   "source": [
    "**Q 3:** This question is generalization of the above. Instead of sum being zero, find the length of longest subarray having sum $K$.  \n",
    "**Answer:** In the above problem, we had equation like this: `prefix[j] - prefix[i] = 0`. Here we modify it to `prefix[j] - prefix[i] = K`. Or `prefix[j] - K = prefix[i]`."
   ]
  },
  {
   "cell_type": "code",
   "execution_count": 1,
   "metadata": {},
   "outputs": [
    {
     "name": "stdout",
     "output_type": "stream",
     "text": [
      "5\n",
      "3\n",
      "4\n"
     ]
    }
   ],
   "source": [
    "def longest_K_sum_subarray(A, K):\n",
    "    max_len = 0\n",
    "    \n",
    "    # Generate prefix array\n",
    "    prefix = [0] * len(A)\n",
    "    sum = 0\n",
    "    for i in range(len(A)):\n",
    "        sum += A[i]\n",
    "        # If sum at any time is 0\n",
    "        if sum == K:\n",
    "            cur_len = (i+1)\n",
    "            if cur_len > max_len:\n",
    "                max_len = cur_len\n",
    "        prefix[i] = sum\n",
    "\n",
    "    # Use a map to keep track of index\n",
    "    index_map = {}\n",
    "    for i in range(len(prefix)):\n",
    "        if prefix[i] - K in index_map:\n",
    "            if i - index_map[prefix[i] - K] > max_len:\n",
    "                max_len = i - index_map[prefix[i] - K]\n",
    "\n",
    "        if prefix[i] not in index_map:\n",
    "            index_map[prefix[i]] = i\n",
    "\n",
    "    return max_len\n",
    "\n",
    "A = [1,2,-3,3,-1,2,4]\n",
    "K = 3\n",
    "print(longest_K_sum_subarray(A,K))\n",
    "\n",
    "K = 0\n",
    "print(longest_K_sum_subarray(A,K))\n",
    "\n",
    "A = [1,3,15,10,20,23,3]\n",
    "K = 48\n",
    "print(longest_K_sum_subarray(A,K))"
   ]
  },
  {
   "cell_type": "markdown",
   "metadata": {},
   "source": [
    "In the above problem if the array contained only non-negative numbers then we could have solved this using two pointers (since the prefix sum array would be sorted in ascending order)."
   ]
  },
  {
   "cell_type": "code",
   "execution_count": 4,
   "metadata": {},
   "outputs": [
    {
     "name": "stdout",
     "output_type": "stream",
     "text": [
      "4\n"
     ]
    }
   ],
   "source": [
    "def longest_K_sum_subarray_two_pointers(A, K):\n",
    "    max_len = 0\n",
    "    \n",
    "    # Generate prefix array\n",
    "    prefix = [0] * len(A)\n",
    "    sum = 0\n",
    "    for i in range(len(A)):\n",
    "        sum += A[i]\n",
    "        prefix[i] = sum\n",
    "\n",
    "    # Use two pointers to solve A[j] - A[i] = K\n",
    "    i = 0\n",
    "    j = 0\n",
    "    while(j < len(prefix)):\n",
    "        if prefix[j] - prefix[i] == K:\n",
    "            if j - i > max_len:\n",
    "                max_len = j - i\n",
    "            j += 1\n",
    "        elif prefix[j] - prefix[i] < K:\n",
    "            j += 1\n",
    "        else:\n",
    "            i += 1\n",
    "\n",
    "    return max_len\n",
    "\n",
    "A = [1,3,15,10,20,23,3]\n",
    "K = 48\n",
    "print(longest_K_sum_subarray_two_pointers(A,K))"
   ]
  },
  {
   "cell_type": "markdown",
   "metadata": {},
   "source": [
    "**Q 4:** Given an array, a special pair is a pair of numbers such that `A[i] == A[j]` and `|i - j|` is minimum. Return the index of special pair. For example in the array `2,4,6,2,3,12,3`. Both 2 and 3 are repeated but the distance between the 3s is minimum, so we return `(4,6)` as the answer.  \n",
    "**Answer:**"
   ]
  },
  {
   "cell_type": "code",
   "execution_count": 5,
   "metadata": {},
   "outputs": [
    {
     "name": "stdout",
     "output_type": "stream",
     "text": [
      "(4, 6)\n"
     ]
    }
   ],
   "source": [
    "def special_pair(A):\n",
    "    index_map = {}\n",
    "    \n",
    "    min_len = len(A)\n",
    "    pair = None\n",
    "    \n",
    "    for i in range(len(A)):\n",
    "        if A[i] not in index_map:\n",
    "            index_map[A[i]] = i\n",
    "        else:\n",
    "            cur_len = i - index_map[A[i]]\n",
    "            if cur_len < min_len:\n",
    "                min_len = cur_len\n",
    "                pair = (index_map[A[i]], i)\n",
    "            index_map[A[i]] = i\n",
    "    \n",
    "    return pair\n",
    "\n",
    "A = [2,4,6,2,3,12,3]\n",
    "print(special_pair(A))"
   ]
  },
  {
   "cell_type": "markdown",
   "metadata": {},
   "source": [
    "**Q 5:** Given an array A, for example `13,4,3,1,12,11,5,6,2`, return the length of largest subsequence consisting of consequtive elements. In this example the answer is 6 corresponding to the subsequence `1,2,3,4,5,6` .   \n",
    "**Answer:** In the example above, we can see that there are two clusters of consequtive numbers: `1,2,3,4,5,6` and `11,12,13`. So if we identify the element which is the starting element of the cluster, then we can solve this problem. So once we identify a number A as the start, we can do A+1 and check if the number is present in the array or not, and so on."
   ]
  },
  {
   "cell_type": "code",
   "execution_count": 7,
   "metadata": {},
   "outputs": [],
   "source": [
    "def longest_consecutive(A):\n",
    "    # Add all elements to a hashmap\n",
    "    present = set()\n",
    "    for i in A:\n",
    "        present.add(i)\n",
    "\n",
    "    # Iterate over A and check if an element is\n",
    "    # left boundary.\n",
    "    max_count = 0\n",
    "    for i in range(len(A)):\n",
    "        if (A[i] - 1) not in present: # A[i] is left boundary\n",
    "            j = A[i]\n",
    "            count = 0\n",
    "            while j in present: # Check how many consequetive numbers are there\n",
    "                count += 1\n",
    "                j += 1\n",
    "            if count > max_count:\n",
    "                max_count = count\n",
    "\n",
    "    return max_count"
   ]
  },
  {
   "cell_type": "markdown",
   "metadata": {},
   "source": [
    "**Q 6:** Given an array of strings, find how many palindromes can be formed by concatenating two strings from the array at a time. For example, consider the array `['abcd', 'dcba', 'lls', 's', 'ssll']`. The palindromic pairs formed are: `abcddcba, slls, llsssll, dcbaabcd`   \n",
    "**Answer:** Naive approach is two go through all the possible pairs and check if the concatenated string is palindrome or not. There is a better approach to solve the problem. The time complexity in this case is $O(nk^2)$, where $k$ is the average length of a string."
   ]
  },
  {
   "cell_type": "code",
   "execution_count": 8,
   "metadata": {},
   "outputs": [],
   "source": [
    "def palindromic_pairs(A):\n",
    "    # Function to return if a string is a palindrome\n",
    "    def is_palindrome(input):\n",
    "        if input == '':\n",
    "            return True\n",
    "        \n",
    "        i = 0\n",
    "        j = len(input) - 1\n",
    "        while(i <= j):\n",
    "            if input[i] != input[j]:\n",
    "                return False\n",
    "            i += 1\n",
    "            j -= 1\n",
    "\n",
    "        return True\n",
    "\n",
    "    # Form a reverse map, value is the index\n",
    "    rev_map = {}\n",
    "    for i in range(len(A)):\n",
    "        rev_map[''.join(list(reversed(A[i])))] = i\n",
    "\n",
    "    # Answer set\n",
    "    answer = set()\n",
    "\n",
    "    # Prefix + Rest + Reverse of prefix\n",
    "    for i in range(len(A)):\n",
    "        for j in range(1, len(A[i]) + 1):\n",
    "            prefix = A[i][:j]\n",
    "            rest = A[i][j:]\n",
    "            if prefix in rev_map and i != rev_map[prefix]:\n",
    "                if is_palindrome(rest):\n",
    "                    answer.add(A[i] + (''.join(list(reversed(prefix)))))\n",
    "\n",
    "    # Reverse of Postfix + Rest + Postfix\n",
    "    for i in range(len(A)):\n",
    "        for j in range(1, len(A[i]) + 1):\n",
    "            postfix = A[i][-j:]\n",
    "            rest = A[i][:-j]\n",
    "            if postfix in rev_map and i != rev_map[postfix]:\n",
    "                if is_palindrome(rest):\n",
    "                    answer.add((''.join(list(reversed(postfix)))) + A[i])\n",
    "\n",
    "    return len(answer)"
   ]
  },
  {
   "cell_type": "markdown",
   "metadata": {},
   "source": [
    "### Rolling Hash\n",
    "Consider a hash function similar to the one defined at the very begining of this page:"
   ]
  },
  {
   "cell_type": "code",
   "execution_count": 9,
   "metadata": {},
   "outputs": [],
   "source": [
    "def hash(input):\n",
    "    hash_ = 0\n",
    "    prime = 31\n",
    "    for i in range(len(input)):\n",
    "        hash_ += ord(input[i])*(prime**i)\n",
    "    return hash_"
   ]
  },
  {
   "cell_type": "markdown",
   "metadata": {},
   "source": [
    "Now consider the string 'abcde'. If we know that $hash(\"abc\") = x$, then we can easily calculate $hash(\"bcd\")$ in one step. We can say that $hash(\"bcd\") = y = \\frac{(x - ord(\"a\"))}{prime} + ord(\"d\")*(prime^2)$. Similarly, now that we know $hash(\"bcd\") = y$, we can easily calculate $hash(\"cde\")$ in one step. $prime^2$ because the length of string is $3$."
   ]
  },
  {
   "cell_type": "markdown",
   "metadata": {},
   "source": [
    "Using the above concept, we can solve the problem of finding a pattern in a string. This algorithm is called *Rabin Karp* algorithm and its implementation is given below:"
   ]
  },
  {
   "cell_type": "code",
   "execution_count": 10,
   "metadata": {},
   "outputs": [],
   "source": [
    "def find_in_string(source, target):\n",
    "    # Return -1 if target is longer\n",
    "    if len(target) > len(source):\n",
    "        return -1\n",
    "\n",
    "    # Return -1 if either empty\n",
    "    if len(target) == 0 or len(source) == 0:\n",
    "        return -1\n",
    "\n",
    "    # Function to calculate hash from a string\n",
    "    def get_hash(string):\n",
    "        prime = 37\n",
    "        i = 0\n",
    "        hash = 0\n",
    "        for t in string:\n",
    "            hash += ord(t)*(prime**i)\n",
    "            i += 1\n",
    "\n",
    "        return hash\n",
    "\n",
    "    # Calculate hash of target\n",
    "    hash_target = get_hash(target)\n",
    "\n",
    "    prime = 37\n",
    "    start = -1\n",
    "    # We employ rolling hash\n",
    "    for i in range(len(source) - len(target) + 1):\n",
    "        # For the first set of t characters, we calculate the\n",
    "        # hash using the earlier defined function\n",
    "        if i == 0:\n",
    "            hash_current = get_hash(source[i:i+len(target)])\n",
    "        # For other set of characters, we calculate new hash using\n",
    "        # previous hash\n",
    "        else:\n",
    "            hash_current = (hash_current - ord(source[i-1]))//prime + ord(source[i+len(target)-1])*(prime**(len(target)-1))\n",
    "\n",
    "        # Even if hashes are same we need to compare source and\n",
    "        # target because of hash collision\n",
    "        if hash_current == hash_target:\n",
    "            j = 0\n",
    "            while(j < len(target)):\n",
    "                if target[j] != source[i+j]:\n",
    "                    return -1\n",
    "                j += 1\n",
    "\n",
    "            start = i\n",
    "            break\n",
    "\n",
    "    return start"
   ]
  },
  {
   "cell_type": "markdown",
   "metadata": {},
   "source": [
    "**Q 7:** Given an array containing all natural numbers till N. Find the largest number possible after K swaps.  \n",
    "**Answer:** The approach is to pick the next largest number in each iteration and swap it to its required place. So in the first iteration, we pick the largest number and put it at index 0. If a number is already present at its required position, go to the next largest number without increasing the swap count."
   ]
  },
  {
   "cell_type": "code",
   "execution_count": 11,
   "metadata": {},
   "outputs": [],
   "source": [
    "def k_swaps(A, K):\n",
    "    # Generate index map\n",
    "    index_map = {}\n",
    "    for i in range(len(A)):\n",
    "        index_map[A[i]] = i\n",
    "\n",
    "    # Find the largest number, that is N\n",
    "    # since A has natural numbers till N\n",
    "    N = len(A)\n",
    "\n",
    "    i = 0\n",
    "    swaps = 0\n",
    "    while(swaps < K):\n",
    "        # Each iteration we pick the next largest number\n",
    "        # and its corresponding index\n",
    "        from_ = index_map[N - i]\n",
    "        \n",
    "        # If the next largest number is already at its\n",
    "        # required position, skip to next largest number.\n",
    "        # No swapping required\n",
    "        if A[i] == N - i:\n",
    "            i += 1\n",
    "            continue\n",
    "\n",
    "        # We have to swap the current largest number to\n",
    "        # this index\n",
    "        to_ = i\n",
    "\n",
    "        # Swap\n",
    "        A[from_], A[to_] = A[to_], A[from_]\n",
    "\n",
    "        # Update index_map after swapping\n",
    "        index_map[A[to_]] = to_\n",
    "        index_map[A[from_]] = from_\n",
    "\n",
    "        i += 1\n",
    "        swaps += 1\n",
    "\n",
    "    return A"
   ]
  },
  {
   "cell_type": "code",
   "execution_count": null,
   "metadata": {},
   "outputs": [],
   "source": []
  }
 ],
 "metadata": {
  "kernelspec": {
   "display_name": "Python 3",
   "language": "python",
   "name": "python3"
  },
  "language_info": {
   "codemirror_mode": {
    "name": "ipython",
    "version": 3
   },
   "file_extension": ".py",
   "mimetype": "text/x-python",
   "name": "python",
   "nbconvert_exporter": "python",
   "pygments_lexer": "ipython3",
   "version": "3.7.4"
  }
 },
 "nbformat": 4,
 "nbformat_minor": 4
}
