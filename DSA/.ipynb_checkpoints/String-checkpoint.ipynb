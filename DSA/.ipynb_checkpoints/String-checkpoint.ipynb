{
 "cells": [
  {
   "cell_type": "markdown",
   "metadata": {},
   "source": [
    "### Strings"
   ]
  },
  {
   "cell_type": "markdown",
   "metadata": {},
   "source": [
    "**Q 1:** Given a string, find the first non-repeating character.  \n",
    "**Answer:**"
   ]
  },
  {
   "cell_type": "markdown",
   "metadata": {},
   "source": [
    "**Q 2:** Given two strings return if they are isomorphic or not. Two strings are isomorphic if we have a 1-1 mapping between characters of both strings. For example, `foo` and `abb` are isomorphic with mapping `f:a, o:b`. Length of both strings will always be equal.  \n",
    "**Answer:** Maintain two maps : one contains the mapping of characters from 1st string to the second string. The other map maintains all the characters in second string which have already been mapped."
   ]
  },
  {
   "cell_type": "code",
   "execution_count": 1,
   "metadata": {},
   "outputs": [
    {
     "name": "stdout",
     "output_type": "stream",
     "text": [
      "False\n",
      "True\n"
     ]
    }
   ],
   "source": [
    "def isomorphic(A, B):\n",
    "    mapping = {}\n",
    "    used = set()\n",
    "    \n",
    "    for i in range(len(A)):\n",
    "        if A[i] not in mapping:\n",
    "            if B[i] not in used:\n",
    "                mapping[A[i]] = B[i]\n",
    "                used.add(B[i])\n",
    "            else:\n",
    "                return False\n",
    "        else:\n",
    "            if mapping[A[i]] != B[i]:\n",
    "                return False\n",
    "            \n",
    "    return True\n",
    "\n",
    "print(isomorphic('foo', 'bar'))\n",
    "print(isomorphic('foo', 'baa'))"
   ]
  },
  {
   "cell_type": "markdown",
   "metadata": {},
   "source": [
    "**Q 3:** Given two strings. Is the second string substring of the first one? If first string is `CAANADA` and the second string is `ANA`, the answer would be true.  \n",
    "**Answer:** Use KMP or Z-Algorithm. Or use rolling hash algorithm Rabin-Karp."
   ]
  },
  {
   "cell_type": "markdown",
   "metadata": {},
   "source": [
    "**Q 4** Reverse a string word by word. Reduce multiple spaces to single.  \n",
    "**Answer** Make use of a stack. Put all words in stack and then pop from stack."
   ]
  },
  {
   "cell_type": "code",
   "execution_count": 15,
   "metadata": {},
   "outputs": [
    {
     "name": "stdout",
     "output_type": "stream",
     "text": [
      "blue is sky the\n"
     ]
    }
   ],
   "source": [
    "def rev_string(A):\n",
    "    stack = []\n",
    "    word = ''\n",
    "    \n",
    "    for i in range(len(A)):\n",
    "        if A[i] == ' ':\n",
    "            continue\n",
    "        else:\n",
    "            word += A[i]\n",
    "            if i == len(A) - 1:\n",
    "                stack.append(word)\n",
    "            elif A[i+1] == ' ':\n",
    "                stack.append(word)\n",
    "                word = ''\n",
    "                \n",
    "    answer = ''\n",
    "    while len(stack) > 0:\n",
    "        if len(stack) == 1:\n",
    "            answer += stack.pop()\n",
    "        else:\n",
    "            answer += stack.pop() + ' '\n",
    "            \n",
    "    return answer\n",
    "\n",
    "print(rev_string('the sky is blue'))"
   ]
  },
  {
   "cell_type": "markdown",
   "metadata": {},
   "source": [
    "If we want constant space,"
   ]
  },
  {
   "cell_type": "code",
   "execution_count": 16,
   "metadata": {},
   "outputs": [
    {
     "name": "stdout",
     "output_type": "stream",
     "text": [
      "blue is sky the\n"
     ]
    }
   ],
   "source": [
    "def rev_str(A):\n",
    "    i = len(A)-1\n",
    "    j = len(A)-1\n",
    "\n",
    "    output = ''\n",
    "\n",
    "    while i >= 0:\n",
    "        if ((i-1) >= 0 and A[i-1] == ' ' and A[i] != ' ') or (i == 0 and A[i] != ' '):\n",
    "            for k in range(i,j+1):\n",
    "                output += A[k]\n",
    "            output += ' '\n",
    "\n",
    "        if A[i] == ' ':\n",
    "            i -= 1\n",
    "            j = i\n",
    "        else:\n",
    "            i -= 1\n",
    "\n",
    "    return output[:-1]\n",
    "\n",
    "print(rev_string('the sky is blue'))"
   ]
  },
  {
   "cell_type": "markdown",
   "metadata": {},
   "source": [
    "**Q 5:** Convert a string to integer. The string can contain characters other than digits as well. For example, if the string is `A96 B1` return `96` .  \n",
    "**Answer:**"
   ]
  },
  {
   "cell_type": "code",
   "execution_count": 24,
   "metadata": {},
   "outputs": [
    {
     "name": "stdout",
     "output_type": "stream",
     "text": [
      "-1\n"
     ]
    }
   ],
   "source": [
    "def to_integer(A):\n",
    "    i = -1\n",
    "    j = -1\n",
    "    \n",
    "    digit = ''\n",
    "    # Find starting digit\n",
    "    for k in range(len(A)):\n",
    "        # If the character is - then the next character must be digit\n",
    "        if ('0' <= A[k] <= '9') or (A[k] == '-' and k < len(A)-1 and '0' <= A[k+1] <= '9'):\n",
    "            i = k\n",
    "            digit = A[k]\n",
    "            break\n",
    "            \n",
    "    # Form digit\n",
    "    for k in range(i+1, len(A)):\n",
    "        if '0' <= A[k] <= '9':\n",
    "            digit += A[k]\n",
    "        else:\n",
    "            break\n",
    "            \n",
    "    if digit == '-' or digit == '':\n",
    "        raise Exception(\"Can't form number\")\n",
    "    else:\n",
    "        return int(digit)\n",
    "        \n",
    "print(to_integer(' --1*5*6ol5'))"
   ]
  },
  {
   "cell_type": "code",
   "execution_count": null,
   "metadata": {},
   "outputs": [],
   "source": []
  }
 ],
 "metadata": {
  "kernelspec": {
   "display_name": "Python 3",
   "language": "python",
   "name": "python3"
  },
  "language_info": {
   "codemirror_mode": {
    "name": "ipython",
    "version": 3
   },
   "file_extension": ".py",
   "mimetype": "text/x-python",
   "name": "python",
   "nbconvert_exporter": "python",
   "pygments_lexer": "ipython3",
   "version": "3.7.4"
  }
 },
 "nbformat": 4,
 "nbformat_minor": 4
}
