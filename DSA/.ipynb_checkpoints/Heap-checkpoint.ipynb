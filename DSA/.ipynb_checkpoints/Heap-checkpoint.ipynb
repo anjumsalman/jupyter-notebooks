{
 "cells": [
  {
   "cell_type": "markdown",
   "metadata": {},
   "source": [
    "### Heap\n",
    "A is a specialized tree-based data structure which is essentially an almost complete tree that satisfies the *heap property*:\n",
    "- **max heap:** every parent node is greater than child node\n",
    "- **min heap:** every child node is greater than its parent  \n",
    "\n",
    "Heap is commonly implemented as binary tree. Heap is a complete binary tree.  \n",
    "\n",
    "![Heap](https://i.imgur.com/lSDL2yg.png)\n",
    "\n",
    "Binary tree heap can also be represented as an array.  \n",
    "\n",
    "![Heap as Array](https://i.imgur.com/kuZfd6b.png)"
   ]
  },
  {
   "cell_type": "markdown",
   "metadata": {},
   "source": [
    "In the array representation of a heap, for a node at index $i$\n",
    "- its parent node is at $(i - 1)/2$\n",
    "- its left child node is at $2i + 1$\n",
    "- its right child node is at $2i + 2$  \n",
    "\n",
    "We add a new item in $O(logn)$ time by:\n",
    "- if no space is avaialable, resize the array\n",
    "- add the new item to the end of the array\n",
    "- then heapify up (keep comparing with parent node)  \n",
    "\n",
    "We remove an item in $O(logn)$ time by:\n",
    "- find the item, get its index\n",
    "- replace the item with the last item\n",
    "- heapify down, (keep comparing left and right child)  \n",
    "\n",
    "To search for an item, we need to traverse the whole array in $O(n)$ time\n",
    "\n",
    "To get min or max element, $O(1)$ time."
   ]
  },
  {
   "cell_type": "markdown",
   "metadata": {},
   "source": [
    "**Min heap implementation**\n",
    "```C++\n",
    "int array[15];\n",
    "int heapSize = 0;\n",
    "int arraySize = 15;\n",
    "\n",
    "int getLeftIndex(int i){\n",
    "\treturn 2*i + 1;\n",
    "}\n",
    "\n",
    "int getRightIndex(int i){\n",
    "\treturn 2*i + 2;\n",
    "}\n",
    "\n",
    "int getParentIndex(int i){\n",
    "\treturn (i-1)/2;\n",
    "}\n",
    "\n",
    "void swap(int& a, int& b){\n",
    "\tint temp = a;\n",
    "\ta = b;\n",
    "\tb = temp;\n",
    "}\n",
    "\n",
    "void heapifyUp(int i){\n",
    "\tint parent = getParentIndex(i);\n",
    "\tif(array[i] < array[parent]){\n",
    "\t\tswap(array[i], array[parent]);\n",
    "\t\theapifyUp(parent);\n",
    "\t}\n",
    "}\n",
    "\n",
    "void insert(int x){\n",
    "\tif(heapSize == arraySize){\n",
    "\t\tcout<<\"Array full\"<<endl;\n",
    "\t\treturn;\n",
    "\t}\n",
    "\t\n",
    "\tarray[heapSize] = x;\n",
    "\theapifyUp(heapSize);\n",
    "\theapSize++;\t\n",
    "}\n",
    "\n",
    "void heapifyDown(int i){\n",
    "\tint position = i;\n",
    "\tint left = getLeftIndex(i);\n",
    "\t\t\n",
    "\tif(left < heapSize && array[left] < array[position]){\n",
    "\t\tposition = left;\n",
    "\t}\n",
    "\t\n",
    "\tint right = getRightIndex(i);\n",
    "\tif(right < heapSize && array[right] < array[position] && array[left] > array[right]){\n",
    "\t\tposition = right;\n",
    "\t}\n",
    "\t\n",
    "\tif(position != i){\n",
    "\t\tswap(array[i], array[position]);\n",
    "\t\theapifyDown(position);\n",
    "\t}\n",
    "}\n",
    "\n",
    "void remove(int x){\n",
    "\t// First find x's index\n",
    "\tint index = -1;\n",
    "\tfor(int i=0; i<heapSize; i++){\n",
    "\t\tif(array[i] == x){\n",
    "\t\t\tindex = i;\n",
    "\t\t\tbreak;\n",
    "\t\t}\n",
    "\t}\n",
    "\t\n",
    "\tif(index == -1){\n",
    "\t\tcout<<\"Item not found\"<<endl;\n",
    "\t\treturn;\n",
    "\t}\n",
    "\t\n",
    "\tarray[index] = array[heapSize - 1];\n",
    "    heapSize--;\t\n",
    "    \n",
    "\theapifyDown(index);\n",
    "}\n",
    "```"
   ]
  },
  {
   "cell_type": "markdown",
   "metadata": {},
   "source": [
    "### Application\n",
    "A heap is used to get the minimum or maximum element from a list of elements. Every time we extract an item, we get the least or largest amongst the remaining items in list.\n",
    "\n",
    "```C++\n",
    "int extract(){\n",
    "    if(heapSize == 0){\n",
    "        cout<<\"Heap is empty\"<<endl;\n",
    "        return -1; // -1 indicates list is empty\n",
    "    }\n",
    "    \n",
    "    int value = array[0];\n",
    "    remove(value);\n",
    "    return value;\n",
    "}\n",
    "```"
   ]
  },
  {
   "cell_type": "markdown",
   "metadata": {},
   "source": [
    "### Building a Heap\n",
    "If we insert elements one by one into a heap, the time taken to construct a tree is $O(nlogn)$ . However if we are given all the elements, it is possible to build tree in $O(n)$ time. For a given complete binary tree (which a heap is), the number of leaf nodes = $\\frac{n}{2}$ if $n$ is even, else $\\frac{(n+1)}{2}$.  \n",
    "![Leaf Nodes](https://i.imgur.com/D7vp707.png)  \n",
    "\n",
    "Consider the worst possible case to build a min heap, the given elements will be sorted in descending order `[7 6 5 4 3 2 1]` :   \n",
    "![Build Heap](https://i.imgur.com/7l3peb0.png)\n",
    "\n",
    "In general, a level at depth $i$ will have $2^i$ nodes. Nodes at last level will not require any swapping, nodes at level one above it would require 1 swap, 1 above that would require 2 swaps and so on.  \n",
    "\n",
    "Total number of swaps \n",
    "$$ = 0*\\frac{n}{2} + 1*\\frac{n}{4} + 2*\\frac{n}{8} + ...$$\n",
    "\n",
    "This is an Arithmatic Geometric series and will lead to $O(n)$ .  \n",
    "\n",
    "So we can say that to build a tree from given array, all the leaf nodes will not require to be heapified. So we will find all the non-leaf nodes and do the heapify operation in reverse.  "
   ]
  },
  {
   "cell_type": "markdown",
   "metadata": {},
   "source": [
    "```C++\n",
    "void construct(int values[], int length){\n",
    "    array = values;\n",
    "    heapSize = length;\n",
    "    \n",
    "    // Get the last non-leaf node\n",
    "    int lastNonLeafIndex = (length - 2) / 2;\n",
    "\n",
    "    // Heapify down non-leaf nodes\n",
    "    for (int i = lastNonLeafIndex; i >= 0; i--) {\n",
    "        heapifyDown(i);\n",
    "    }\n",
    "}\n",
    "```\n",
    "\n",
    "This will build a min heap in $O(n)$ time."
   ]
  },
  {
   "cell_type": "markdown",
   "metadata": {},
   "source": [
    "### Built-in Implementation\n",
    "**Java:** Use `PriorityQueue`.\n",
    "\n",
    "```java\n",
    "// Creating empty priority queue \n",
    "PriorityQueue<Integer> pQueue = new PriorityQueue<Integer>(); \n",
    "\n",
    "// Adding items to the pQueue using add() \n",
    "pQueue.add(10); \n",
    "pQueue.add(30); \n",
    "pQueue.add(20);\n",
    "\n",
    "// Removing the top priority element (or head)\n",
    "int min = pQueue.poll();\n",
    "```\n",
    "\n",
    "To create a max heap, just construct as:\n",
    "```java\n",
    "PriorityQueue<Integer> pQueue =  \n",
    "             new PriorityQueue<Integer>(Collections.reverseOrder()); \n",
    "```"
   ]
  },
  {
   "cell_type": "markdown",
   "metadata": {},
   "source": [
    "**Q 1** Given are some ropes with various lengths. We can add two ropes to get one rope, the cost of this operation is the sum of the length of the ropes. Find the total minimum cost to join all ropes to form one single rope. For example, consider the ropes of lengths `2 5 2 6`. First if we add `2 + 5 = 7`, the ropes now are `7 2 6`. Then we add `7 + 2 = 9`, the ropes are `9 6`. Finally we add `9 + 6 = 15` to get the final rope. The total cost is `7+9+15 = 31`. Is this the minimum cost? If not then we need to change the order of joining ropes and get the minimum cost.  \n",
    "\n",
    "**Answer** We need to add ropes having minimum length each time. We can make use of a min heap for this"
   ]
  },
  {
   "cell_type": "code",
   "execution_count": 2,
   "metadata": {},
   "outputs": [
    {
     "name": "stdout",
     "output_type": "stream",
     "text": [
      "40\n"
     ]
    }
   ],
   "source": [
    "import heapq\n",
    "def min_cost(rope_lengths):\n",
    "    # Build the heap\n",
    "    heapq.heapify(rope_lengths)\n",
    "    \n",
    "    cost = 0\n",
    "    # Repeat till there is only one item in heap\n",
    "    while len(rope_lengths) != 1:\n",
    "        a = heapq.heappop(rope_lengths)\n",
    "        b = heapq.heappop(rope_lengths)\n",
    "        \n",
    "        c = a + b\n",
    "        cost += c\n",
    "        \n",
    "        # Push addition back to heap\n",
    "        heapq.heappush(rope_lengths, c)\n",
    "        \n",
    "    return cost\n",
    "\n",
    "rope_lengths = [2,5,2,6,3]\n",
    "print(min_cost(rope_lengths))"
   ]
  },
  {
   "cell_type": "markdown",
   "metadata": {},
   "source": [
    "**Q 2** Given $n$ distinct integers, how many min heap can be formed using those integers?  \n",
    "**Answer** Out of the $n$ elements, the minimum element will be the root for all the heaps. We need to figure out in how many different ways the remaining $n-1$ itemes can be arranged. Let $l$ be the number of items in the left tree and $r$ be the number of elements in the right tree. We can say that $l + r = n - 1$. Out of the $n-1$ items, we can pick any $l$ number of items for left tree. The remaining $r$ items will be used for right tree. We can see that we get the following recurrence relation (the function $H$ represents count):\n",
    "$$H(n) = ^{n-1}C_{l} \\cdot H(l) \\cdot H(r)$$\n",
    "\n",
    "The next step is to find the values of $l$ and $r$. "
   ]
  },
  {
   "cell_type": "markdown",
   "metadata": {},
   "source": [
    "**Q 3** Given a list of operations and operation defined as multiplying an item of list by -1. If we repeat the operation $B$ number of times, what is the maximum sum that can be obtained?  \n",
    "**Answer** We'll make use of min heap and each time pick the minimum item, negate it and put it back to the list. We repeat this B times"
   ]
  },
  {
   "cell_type": "code",
   "execution_count": 6,
   "metadata": {},
   "outputs": [
    {
     "name": "stdout",
     "output_type": "stream",
     "text": [
      "22\n"
     ]
    }
   ],
   "source": [
    "import heapq\n",
    "def operation_result(values, B):\n",
    "    heapq.heapify(values)\n",
    "    \n",
    "    for i in range(B):\n",
    "        a = heapq.heappop(values)\n",
    "        heapq.heappush(values, -a)\n",
    "        \n",
    "    return sum(values)\n",
    "\n",
    "values = [2, -5, 10, -3, -6]\n",
    "print(operation_result(values, 4))"
   ]
  },
  {
   "cell_type": "markdown",
   "metadata": {},
   "source": [
    "The running time for the above approach is $O(n + Blogn)$. There is another approach based on sorting."
   ]
  },
  {
   "cell_type": "code",
   "execution_count": 19,
   "metadata": {},
   "outputs": [
    {
     "name": "stdout",
     "output_type": "stream",
     "text": [
      "22\n"
     ]
    }
   ],
   "source": [
    "def operation_result_sort(values, B):\n",
    "    values = sorted(values)\n",
    "\n",
    "    i = 0\n",
    "    counter = 0\n",
    "    while counter < B:\n",
    "        if values[i % len(values)] < 0:\n",
    "            values[i % len(values)] = -values[i % len(values)]\n",
    "        else:\n",
    "            break\n",
    "        i += 1\n",
    "        counter += 1\n",
    "\n",
    "    j = i % len(values)\n",
    "    if values[(i-1) % len(values)] < values[i % len(values)]:\n",
    "        j = (i-1) % len(values)\n",
    "\n",
    "    if (B-counter) % 2 != 0:\n",
    "        values[j] *= -1\n",
    "\n",
    "    return sum(values)\n",
    "\n",
    "values = [2, -5, 10, -3, -6]\n",
    "print(operation_result_sort(values, 4))"
   ]
  },
  {
   "cell_type": "markdown",
   "metadata": {},
   "source": [
    "In the above case, we take $O(n + nlogn)$ time. So if we have $B >> n$, then this approach is better."
   ]
  },
  {
   "cell_type": "markdown",
   "metadata": {},
   "source": [
    "**Q 4** There are $n$ bags containing chocolates represented by array $A$. A kid selects a bag and eats all chocolates in it. At the same time the magician refills the bag with $A[i]/2$ number of chocolates. What is the maximum number of chocolates eaten by kid in $B$ tries?  \n",
    "**Answer**"
   ]
  },
  {
   "cell_type": "code",
   "execution_count": 28,
   "metadata": {},
   "outputs": [
    {
     "name": "stdout",
     "output_type": "stream",
     "text": [
      "13\n"
     ]
    }
   ],
   "source": [
    "def chocolates_eaten(values, B):\n",
    "    chocolates = 0\n",
    "    for i in range(len(values)):\n",
    "        values[i] = -values[i]\n",
    "        \n",
    "    heapq.heapify(values)\n",
    "    \n",
    "    i = 0\n",
    "    while i < B:\n",
    "        a = heapq.heappop(values)\n",
    "        if a == 0:\n",
    "            break\n",
    "        \n",
    "        chocolates += a        \n",
    "        heapq.heappush(values, a//2)\n",
    "        \n",
    "        i += 1\n",
    "        \n",
    "    return -chocolates\n",
    "\n",
    "values = [2, 6, 4, 1]\n",
    "print(chocolates_eaten(values, 3))"
   ]
  },
  {
   "cell_type": "markdown",
   "metadata": {},
   "source": [
    "**Q 5** Given a K-sorted array, bring it back to its original form. The original form is the sorted form. Consider the sorted array `[4, 7, 8, 9, 10, 50, 60, 70]`, then the k-sorted version will be array obtained by shifting each element by maximum of k places each side. If $k=4$, then the k-sorted version can be: `[10, 9, 8, 7, 4, 70, 60, 50]`.  \n",
    "**Answer:** The easiest approach is to sort the array in $O(nlogn)$ time complexity. However we can come up with a better approach using heaps. One observation we can make is (for k=4):  \n",
    "![K Sorted](https://i.imgur.com/m0OHHzD.png)  \n",
    "We have range where the minimum, the next minimum, etc items will lie. So what we can do is:\n",
    "- Make a heap of $k+1$ elements $O(k+1)$  \n",
    "- Remove minimum element from heap $(n-k)log(k+1)$  \n",
    "- Push $i+1$ element into the heap"
   ]
  },
  {
   "cell_type": "code",
   "execution_count": 31,
   "metadata": {},
   "outputs": [
    {
     "name": "stdout",
     "output_type": "stream",
     "text": [
      "[4, 7, 8, 9, 10, 50, 60, 70]\n"
     ]
    }
   ],
   "source": [
    "import heapq\n",
    "\n",
    "def k_sorted(items, k):\n",
    "    # Form a heap of k+1 elements\n",
    "    heap = []\n",
    "    for i in range(k+1):\n",
    "        heap.append(items[i])\n",
    "    heapq.heapify(heap)\n",
    "    \n",
    "    result = []\n",
    "    \n",
    "    # Remove and add 1 element from heap\n",
    "    # till we reach end\n",
    "    for i in range(k+1, len(items)):\n",
    "        result.append(heapq.heappop(heap))\n",
    "        heapq.heappush(heap, items[i])\n",
    "        \n",
    "    # Remove elements from the remaining\n",
    "    # heap\n",
    "    while len(heap) != 0:\n",
    "        result.append(heapq.heappop(heap))\n",
    "        \n",
    "    return result\n",
    "\n",
    "print(k_sorted([10, 9, 8, 7, 4, 70, 60, 50], 4))"
   ]
  },
  {
   "cell_type": "markdown",
   "metadata": {},
   "source": [
    "**Q 6** Sort an array without using extra space using heaps  \n",
    "**Answer** The idea is to form a max heap (if we are sorting in ascending order), pop the max element and place it at the end."
   ]
  },
  {
   "cell_type": "code",
   "execution_count": 37,
   "metadata": {},
   "outputs": [
    {
     "name": "stdout",
     "output_type": "stream",
     "text": [
      "[1, 2, 5, 6, 7, 8, 9]\n"
     ]
    }
   ],
   "source": [
    "def sort(array):\n",
    "\n",
    "    occupancy = len(array)\n",
    "\n",
    "    def heapify_down(i):\n",
    "        nonlocal occupancy\n",
    "\n",
    "        pos = i\n",
    "        left = 2*i + 1\n",
    "        right = 2*i + 2\n",
    "\n",
    "        if left < occupancy and array[i] < array[left]:\n",
    "            pos = left\n",
    "\n",
    "        if right < occupancy and array[i] < array[right] and array[left] < array[right]:\n",
    "            pos = right\n",
    "\n",
    "        if pos != i:\n",
    "            array[i], array[pos] = array[pos], array[i]\n",
    "            heapify_down(pos)\n",
    "\n",
    "    def pop():\n",
    "        nonlocal occupancy\n",
    "\n",
    "        item = array[0]\n",
    "        array[0] = array[occupancy - 1]\n",
    "        occupancy -= 1\n",
    "        heapify_down(0)\n",
    "\n",
    "        return item\n",
    "\n",
    "    # Form maxheap\n",
    "    index = (occupancy - 2)//2\n",
    "    while index >= 0:\n",
    "        heapify_down(index)\n",
    "        index -= 1\n",
    "\n",
    "    # Remove max element and put it at end\n",
    "    # of the shrinking heap\n",
    "    while(occupancy > 0):\n",
    "        array[occupancy] = pop()\n",
    "\n",
    "    return array\n",
    "\n",
    "\n",
    "items = [7, 6, 2, 8, 9, 5, 1]\n",
    "print(sort(items))"
   ]
  },
  {
   "cell_type": "markdown",
   "metadata": {},
   "source": [
    "The above sort is not stable, because heap is not stable. But heap can be made stable. One more thing to consider is that whenever we remove items from a heap, we are reducing its size by 1. So the time taken to remove all elements would be:\n",
    "$$logn + log(n-1) + log(n-2) + ... + log(1)$$\n",
    "$$= log(n!)$$\n",
    "And\n",
    "$$log(n!) \\le nLogn$$"
   ]
  },
  {
   "cell_type": "markdown",
   "metadata": {},
   "source": [
    "**Q 7** There are $k$ sorted arrays each with $n$ elements, return the consolidated array containing $kn$ elements in sorted order.  \n",
    "**Answer** If we consider the example $k=3, n=4$:  \n",
    "```\n",
    "[10 15 25 28]\n",
    "[1 49 51 68]\n",
    "[9 9 11 12]\n",
    "```\n",
    "We can see that the first column contains the lowest element, once that element is taken out (`1` in this case) we need to take into consideration only the next element (`49` in this case). So we can create a heap of `k` elements and use it to sort all elements."
   ]
  },
  {
   "cell_type": "code",
   "execution_count": 40,
   "metadata": {},
   "outputs": [
    {
     "name": "stdout",
     "output_type": "stream",
     "text": [
      "[1, 9, 9, 10, 11, 12, 15, 25, 28, 49, 51, 68]\n"
     ]
    }
   ],
   "source": [
    "import heapq\n",
    "\n",
    "\n",
    "def sort_k_array(array):\n",
    "    result = []\n",
    "\n",
    "    # Form the heap\n",
    "    heap = []\n",
    "    for i in range(len(array)):\n",
    "        heap.append((array[i][0], i, 0))\n",
    "    heapq.heapify(heap)\n",
    "\n",
    "    # Remove and add\n",
    "    while len(heap) != 0:\n",
    "        popped = heapq.heappop(heap)\n",
    "        value = popped[0]\n",
    "        row = popped[1]\n",
    "        column = popped[2]\n",
    "\n",
    "        result.append(value)\n",
    "\n",
    "        if column + 1 < len(array[row]):\n",
    "            heapq.heappush(\n",
    "                heap, (array[row][column + 1], row, column + 1))\n",
    "\n",
    "    return result\n",
    "\n",
    "\n",
    "array = [[10, 15, 25, 28], [1, 49, 51, 68], [9, 9, 11, 12]]\n",
    "print(sort_k_array(array))"
   ]
  },
  {
   "cell_type": "markdown",
   "metadata": {},
   "source": [
    "**Q 8** Given an array, find the $k$th largest element.  \n",
    "**Answer** If we can maintain a min heap of $k$ elements, then the first element of the heap will be the $k$th largest."
   ]
  },
  {
   "cell_type": "code",
   "execution_count": 45,
   "metadata": {},
   "outputs": [
    {
     "name": "stdout",
     "output_type": "stream",
     "text": [
      "11\n"
     ]
    }
   ],
   "source": [
    "import heapq\n",
    "\n",
    "def kth_largest(array, k):\n",
    "    heap = array[:k]\n",
    "    heapq.heapify(heap)\n",
    "\n",
    "    for i in range(k, len(array)):\n",
    "        if heap[0] < array[i]:\n",
    "            heapq.heappop(heap)\n",
    "            heapq.heappush(heap, array[i])\n",
    "\n",
    "    return heap[0]\n",
    "\n",
    "\n",
    "array = [10, 9, 11, 2, 15, 12]\n",
    "print(kth_largest(array, 3))"
   ]
  },
  {
   "cell_type": "markdown",
   "metadata": {},
   "source": [
    "**Q 9** Find $k$th largest element in every range. Range here would be `[0:0], [0:1], [0:2], ... [0,end]`. If there is no $k$th largest element in a range, return-1.   \n",
    "**Answer**"
   ]
  },
  {
   "cell_type": "code",
   "execution_count": 48,
   "metadata": {},
   "outputs": [
    {
     "name": "stdout",
     "output_type": "stream",
     "text": [
      "[-1, -1, -1, 2, 5, 5, 6]\n"
     ]
    }
   ],
   "source": [
    "import heapq\n",
    "\n",
    "def kth_largest_in_every_range(array, k):\n",
    "    result = []\n",
    "    heap = []\n",
    "    \n",
    "    for i in range(k-1):\n",
    "        heap.append(array[i])\n",
    "        result.append(-1)\n",
    "    \n",
    "    heap.append(array[k-1])\n",
    "    heapq.heapify(heap)\n",
    "    \n",
    "    result.append(heap[0])\n",
    "    \n",
    "    for i in range(k, len(array)):\n",
    "        if heap[0] < array[i]:\n",
    "            heapq.heappop(heap)\n",
    "            heapq.heappush(heap, array[i])\n",
    "            \n",
    "        result.append(heap[0])\n",
    "    \n",
    "    return result\n",
    "\n",
    "array = [7,8,2,5,9,1,6]\n",
    "k = 4\n",
    "print(kth_largest_in_every_range(array, k))"
   ]
  },
  {
   "cell_type": "code",
   "execution_count": null,
   "metadata": {},
   "outputs": [],
   "source": []
  }
 ],
 "metadata": {
  "kernelspec": {
   "display_name": "Python 3",
   "language": "python",
   "name": "python3"
  },
  "language_info": {
   "codemirror_mode": {
    "name": "ipython",
    "version": 3
   },
   "file_extension": ".py",
   "mimetype": "text/x-python",
   "name": "python",
   "nbconvert_exporter": "python",
   "pygments_lexer": "ipython3",
   "version": "3.7.4"
  }
 },
 "nbformat": 4,
 "nbformat_minor": 4
}
