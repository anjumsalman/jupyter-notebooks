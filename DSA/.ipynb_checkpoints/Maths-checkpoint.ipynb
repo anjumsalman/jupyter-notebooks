{
 "cells": [
  {
   "cell_type": "markdown",
   "metadata": {},
   "source": [
    "### Greatest Common Divisor\n",
    "Greatest common divisor of two numbers $a$ and $b$ is the greatest number which divides both $a$ and $b$. $a$ and $b$ can be any integer. Some observations:\n",
    "- $gcd(1,a) = 1$\n",
    "- $gcd(0,a) = |a|$\n",
    "- $gcd(0,0)$ is not defined\n",
    "\n",
    "Some more observations:\n",
    "- $gcd(a,b) = gcd(b,a)$, this means that GCD is commutative\n",
    "- $gcd(gcd(a,b),c) = gcd(a,gcd(b,c))$, this means that GCD is associative\n",
    "- $0$ is the identity of GCD because $gcd(a,0) = a$, given that $a \\gt 0$\n",
    "\n",
    "From the above observations, we can conclude that\n",
    "- $min(gcd(a,b)) = 1$\n",
    "- $max(gcd(a,b)) = min(|a|,|b|)$\n",
    "\n",
    "So we can say that $1 \\le gcd(a,b) \\le min(|a|,|b|)$."
   ]
  },
  {
   "cell_type": "markdown",
   "metadata": {},
   "source": [
    "### Calculating GCD\n",
    "Given a set of $n$ numbers how do we compute the GCD? Let us assume that we have a function which calculates GCD of two numbers. Then we can calculate GCD as:"
   ]
  },
  {
   "cell_type": "code",
   "execution_count": 1,
   "metadata": {},
   "outputs": [],
   "source": [
    "def gcd(numbers):\n",
    "    gcd_ = 0 # We pick zero because gcd(0,a) = a\n",
    "    for number in numbers:\n",
    "        gcd_ = gcdTwo(gcd_, number)\n",
    "        \n",
    "    return gcd_\n",
    "\n",
    "# Or define as\n",
    "def gcd(numbers):\n",
    "    gcd_ = numbers[0]\n",
    "    for i in range(1,len(numbers)):\n",
    "        gcd_ = gcdTwo(gcd_, numbers[i])\n",
    "        \n",
    "    return gcd_"
   ]
  },
  {
   "cell_type": "markdown",
   "metadata": {},
   "source": [
    "The main focus now is to calculate GCD of two numbers. We know the range where GCD can lie ($1≤𝑔𝑐𝑑(𝑎,𝑏)≤𝑚𝑖𝑛(|𝑎|,|𝑏|)$). So we can use brute force approach. We start from the range and divide both numbers. We stop when we can't divide both numbers."
   ]
  },
  {
   "cell_type": "code",
   "execution_count": 35,
   "metadata": {},
   "outputs": [],
   "source": [
    "def gcdTwo(a, b):\n",
    "    if(a == 0 and b== 0):\n",
    "        print('GCD not defined')\n",
    "    elif(a == 0 or b == 0):\n",
    "        return max(abs(a), abs(b))\n",
    "    else:\n",
    "        gcd = 1\n",
    "        for i in range(1, min(abs(a),abs(b))+1):\n",
    "            if(a%i == 0 and b%i == 0):\n",
    "                gcd = i\n",
    "        return gcd"
   ]
  },
  {
   "cell_type": "code",
   "execution_count": 37,
   "metadata": {},
   "outputs": [
    {
     "name": "stdout",
     "output_type": "stream",
     "text": [
      "4\n",
      "4\n",
      "4\n",
      "12\n",
      "1\n",
      "4\n"
     ]
    }
   ],
   "source": [
    "print(gcdTwo(4,12))\n",
    "print(gcdTwo(-4,12))\n",
    "print(gcdTwo(-4,-12))\n",
    "print(gcdTwo(0,-12))\n",
    "print(gcdTwo(1,-12))\n",
    "print(gcdTwo(4,4))"
   ]
  },
  {
   "cell_type": "code",
   "execution_count": 25,
   "metadata": {},
   "outputs": [],
   "source": [
    "# Better to loop from max value to min value\n",
    "def gcdTwo(a, b):\n",
    "    if(a == 0 and b== 0):\n",
    "        print('GCD not defined')\n",
    "    elif(a == 0 or b == 0):\n",
    "        return max(abs(a), abs(b))\n",
    "    else:\n",
    "        for i in reversed(range(1, min(abs(a),abs(b))+1)):\n",
    "            if(a%i == 0 and b%i == 0):\n",
    "                return i"
   ]
  },
  {
   "cell_type": "code",
   "execution_count": 26,
   "metadata": {},
   "outputs": [
    {
     "name": "stdout",
     "output_type": "stream",
     "text": [
      "4\n",
      "4\n",
      "4\n",
      "12\n",
      "1\n"
     ]
    }
   ],
   "source": [
    "print(gcdTwo(4,12))\n",
    "print(gcdTwo(-4,12))\n",
    "print(gcdTwo(-4,-12))\n",
    "print(gcdTwo(0,-12))\n",
    "print(gcdTwo(1,-12))"
   ]
  },
  {
   "cell_type": "markdown",
   "metadata": {},
   "source": [
    "The time complexity of the above algorithm is $O(min(a,b))$. We now look for a better approach.  \n",
    "If we consider $a \\ge b$,  \n",
    "then $$a = b + c$$\n",
    "If $$gcd(a,b) = g$$\n",
    "then $$a|g , b|g\\ and\\ (b+c)|g$$\n",
    "we can also conclude that $$c|g$$\n",
    "and $$gcd(a,b) = gcd(c,b)$$\n",
    "finally $$gcd(a,b) = gcd(a-b, b)$$"
   ]
  },
  {
   "cell_type": "code",
   "execution_count": 33,
   "metadata": {},
   "outputs": [],
   "source": [
    "def gcdTwo(a,b):\n",
    "    if(a == 0 and b== 0):\n",
    "        print('GCD not defined')\n",
    "    elif(a == 0 or b == 0):\n",
    "        return max(abs(a), abs(b))\n",
    "    elif(abs(a)<abs(b)):\n",
    "        return gcdTwo(abs(b),abs(a))\n",
    "    else:\n",
    "        return gcdTwo(abs(a)-abs(b), abs(b))"
   ]
  },
  {
   "cell_type": "code",
   "execution_count": 38,
   "metadata": {},
   "outputs": [
    {
     "name": "stdout",
     "output_type": "stream",
     "text": [
      "4\n",
      "4\n",
      "4\n",
      "12\n",
      "1\n",
      "4\n"
     ]
    }
   ],
   "source": [
    "print(gcdTwo(4,12))\n",
    "print(gcdTwo(-4,12))\n",
    "print(gcdTwo(-4,-12))\n",
    "print(gcdTwo(0,-12))\n",
    "print(gcdTwo(1,-12))\n",
    "print(gcdTwo(4,4))"
   ]
  },
  {
   "cell_type": "markdown",
   "metadata": {},
   "source": [
    "The time complexity of this is $O(a/b)$. This algorithm is actually worse than the previous one. Consider the maximum value of $a/b$. It is $a$ if $b = 1$. So, we can say that time complexity is actually $O(max(a,b))$ in worst case."
   ]
  },
  {
   "cell_type": "markdown",
   "metadata": {},
   "source": [
    "In the above approach, we constantly subtract $b$ from $a$, till $a$ is just larger than or equal to a. To illustrate this, \n",
    "$$a = a - b$$\n",
    "$$a = a -2b$$\n",
    "$$\\vdots$$\n",
    "$$a = a -kb$$\n",
    "So instead of subtracting $k$ times, we can modulo divide $a$ with $b$ once to reach the same point."
   ]
  },
  {
   "cell_type": "code",
   "execution_count": 47,
   "metadata": {},
   "outputs": [],
   "source": [
    "def gcdTwo(a,b):\n",
    "    if(a == 0 and b== 0):\n",
    "        print('GCD not defined')\n",
    "    elif(b == 0):\n",
    "        return a\n",
    "    elif(abs(a)<abs(b)):\n",
    "        return gcdTwo(abs(b),abs(a))\n",
    "    else:\n",
    "        return gcdTwo(abs(a)%abs(b),abs(b))"
   ]
  },
  {
   "cell_type": "code",
   "execution_count": 48,
   "metadata": {},
   "outputs": [
    {
     "name": "stdout",
     "output_type": "stream",
     "text": [
      "4\n",
      "4\n",
      "4\n",
      "12\n",
      "1\n",
      "4\n"
     ]
    }
   ],
   "source": [
    "print(gcdTwo(4,12))\n",
    "print(gcdTwo(-4,12))\n",
    "print(gcdTwo(-4,-12))\n",
    "print(gcdTwo(0,-12))\n",
    "print(gcdTwo(1,-12))\n",
    "print(gcdTwo(4,4))"
   ]
  },
  {
   "cell_type": "markdown",
   "metadata": {},
   "source": [
    "We can combine all into the below equation, since $a%b = a$ if $a<b$"
   ]
  },
  {
   "cell_type": "code",
   "execution_count": 51,
   "metadata": {},
   "outputs": [],
   "source": [
    "def gcdTwo(a,b):\n",
    "    if(a == 0 and b== 0):\n",
    "        print('GCD not defined')\n",
    "    elif(b == 0):\n",
    "        return a\n",
    "    else:\n",
    "        return gcdTwo(abs(b), abs(a)%abs(b))"
   ]
  },
  {
   "cell_type": "code",
   "execution_count": 52,
   "metadata": {},
   "outputs": [
    {
     "name": "stdout",
     "output_type": "stream",
     "text": [
      "4\n",
      "4\n",
      "4\n",
      "12\n",
      "1\n",
      "4\n"
     ]
    }
   ],
   "source": [
    "print(gcdTwo(4,12))\n",
    "print(gcdTwo(-4,12))\n",
    "print(gcdTwo(-4,-12))\n",
    "print(gcdTwo(0,-12))\n",
    "print(gcdTwo(1,-12))\n",
    "print(gcdTwo(4,4))"
   ]
  },
  {
   "cell_type": "markdown",
   "metadata": {},
   "source": [
    "The same can be written as a while loop"
   ]
  },
  {
   "cell_type": "code",
   "execution_count": 57,
   "metadata": {},
   "outputs": [],
   "source": [
    "def gcdTwo(a,b):\n",
    "    if(a == 0 and b== 0):\n",
    "        print('GCD not defined')\n",
    "    else:\n",
    "        while(b!=0):\n",
    "            a, b = abs(b), abs(a)%abs(b)\n",
    "        return a"
   ]
  },
  {
   "cell_type": "code",
   "execution_count": 58,
   "metadata": {},
   "outputs": [
    {
     "name": "stdout",
     "output_type": "stream",
     "text": [
      "4\n",
      "4\n",
      "4\n",
      "12\n",
      "1\n",
      "4\n"
     ]
    }
   ],
   "source": [
    "print(gcdTwo(4,12))\n",
    "print(gcdTwo(-4,12))\n",
    "print(gcdTwo(-4,-12))\n",
    "print(gcdTwo(0,-12))\n",
    "print(gcdTwo(1,-12))\n",
    "print(gcdTwo(4,4))"
   ]
  },
  {
   "cell_type": "markdown",
   "metadata": {},
   "source": [
    "The time complexity of the above approach is $O(log(max(a,b))$. How?\n",
    "$$gcd(a,b) = gcd(b,a\\%b)$$\n",
    "We claim that,\n",
    "$$a\\%b \\le a/2$$\n",
    "To prove the claim, we consider two cases.  \n",
    "Case 1:$$b<a/2$$\n",
    "Whenever we do $A/B$, then the remainder $R$ always $R \\in [0,...,B-1]$. This means\n",
    "$$a\\%b<b$$\n",
    "So, $$a\\%b<a/2$$\n",
    "Case 2: $$b\\ge a/2$$\n",
    "Here $$(a/2)\\le b \\le a$$\n",
    "$$a\\%b = a-b$$\n",
    "So, $$a\\%b \\le a/2$$ in both cases.  \n",
    "\n",
    "Now to get the complexity,\n",
    "$$gcd(a,b)\\rightarrow gcd(b,a\\%b)$$\n",
    "Then, $$gcd(b,a\\%b)\\rightarrow gcd(a\\%b,b\\%(a\\%b))$$  \n",
    "Each iteration $a\\rightarrow a/2\\rightarrow a/4...$"
   ]
  },
  {
   "cell_type": "markdown",
   "metadata": {},
   "source": [
    "### Some Problems:\n",
    "**Q 1:** Find GCD of an array containing factorials. For example, find gcd of array `a = [2!, 4!, 3!, 9!]`  \n",
    "**Answer:** GCD is `min(A)`  \n",
    "\n"
   ]
  },
  {
   "cell_type": "markdown",
   "metadata": {},
   "source": [
    "**Q 2:** Delete an element from array `a` such that the GCD is maximised. For example, `a = [12, 15, 18]`, GCD is 3. If we delete 12, GCD is still 3. If we delete 15, GCD is 6. If we delete 18, GCD is 3. So we delete 15.  \n",
    "**Answer:** The brute force way is to delete elements one by one and calculate the GCD of the remaining elements. This implementation has time complexity of $O(n^2log(max(A)))$. $nlogn$ is two find the GCD of the remaining array each time.  \n",
    "\n",
    "A better approach is two use pre and post GCD arrays which are precomputed. The preGCD array `preGCD = [12, 3, 3]`. PostGCD array will be `postGCD = [3, 3, 18]`. With this in mind we can generalise removal of element and resulting GCD as `GCD(array after remaining ith element) = gcd(preGCD[i-1], postGCD[i+1])`. The time complexity of constructing pre and post GCD array is $O(nlog(max(A))$. Iterating over the elements of array and then computing GCD after removal will be $O(nlog(max(A))$. So the total time complexity would be $O(nlog(max(A))$  \n",
    "\n",
    "![Remove ith](https://i.imgur.com/NSlUNXx.png)"
   ]
  },
  {
   "cell_type": "markdown",
   "metadata": {},
   "source": [
    "**Q 3:** A 2d matrix starts at $(1,1)$ and the last cell is $(m,n)$. Given that if you are at a position $(x,y)$ you can either move to $(x,x+y)$ or $(x+y,y)$. Find the shortest path from start to end.  \n",
    "\n",
    "![Movement](https://i.imgur.com/UpImGqq.png)\n",
    "\n",
    "**Answer:** Let us suppose we start from $(m,n)$. We would have reached this point from a point $(x,y)$, such that\n",
    "Either, $$(x, x+y) = (m,n)$$\n",
    "or, $$(x+y, y) = (m,n)$$\n",
    "\n",
    "From case 1, $x = m$ and $y = n-m$. If $n<m$, we can eliminate this possibility.  \n",
    "Similarly for case 2,  $y = n$ and $x = m-n$. If $n>m$, we can eliminate this possibility. \n",
    "Therefore for every $(x,y)$, there is only one possibility where they could have come from. In general we can say that, to reach $(m,n)$ we would have come from\n",
    "$$(min(m,n), max(m,n) - min(m,n))$$.\n",
    "\n",
    "One thing to note is that we can reach $(m,n)$ only if $gcd(m,n)=1$. There is only one path possible. If $gcd(m,n)=g$, this means that we will be stuck at $(g,g)$. Time complexity is $O(max(m,n))$"
   ]
  },
  {
   "cell_type": "markdown",
   "metadata": {},
   "source": [
    "### Factorization\n",
    "A *factor* of a number is a number which divides k. Given a particular $N$, how can we find all the factors of $N$? A naive approach is to start to iterate from $1\\ to\\ N$. Optimising it further, we can reduce the limit to $1\\ to\\ N/2$. This is still not completely optimal. For example, let us take a number $42$.  \n",
    "\n",
    "$$1\\times 42 = 42$$\n",
    "$$2\\times 21 = 42$$\n",
    "$$3\\times 7 = 42$$\n",
    "$$7\\times 3 = 42$$\n",
    "$$21\\times 2 = 42$$\n",
    "$$42\\times 1 = 42$$\n",
    "\n",
    "We see that the factors always come in pairs, except if the number is a prefect square. So the required range is $1\\ to\\ \\sqrt{N}$. "
   ]
  },
  {
   "cell_type": "code",
   "execution_count": 62,
   "metadata": {},
   "outputs": [],
   "source": [
    "def factors(N):\n",
    "    f = []\n",
    "    i = 1\n",
    "    while(i*i<N):\n",
    "        if(N%i == 0):\n",
    "            f.append(i)\n",
    "            f.append(N//i)\n",
    "        i+=1\n",
    "    \n",
    "    if(i*i == N):\n",
    "        f.append(i)\n",
    "    \n",
    "    return f"
   ]
  },
  {
   "cell_type": "code",
   "execution_count": 64,
   "metadata": {},
   "outputs": [
    {
     "name": "stdout",
     "output_type": "stream",
     "text": [
      "[1, 38, 2, 19]\n",
      "[1, 36, 2, 18, 3, 12, 4, 9, 6]\n",
      "[1]\n"
     ]
    }
   ],
   "source": [
    "print(factors(38))\n",
    "print(factors(36))\n",
    "print(factors(1))"
   ]
  },
  {
   "cell_type": "markdown",
   "metadata": {},
   "source": [
    "The time complexity of this algorithm is $O(\\sqrt{n})$. From the count of factors we can say that, if\n",
    "- number of factors = odd, the number is perfect square\n",
    "- number of factors = even, the number is not perfect square"
   ]
  },
  {
   "cell_type": "markdown",
   "metadata": {},
   "source": [
    "### Prime Numbers\n",
    "A prime is a number which has exactly two distinct factors. How to check if a number $N$ is prime? We can try to find all its factors. If the count is equal to 2, it is a prime. This method has time complexity $O(\\sqrt{N})$."
   ]
  },
  {
   "cell_type": "code",
   "execution_count": 73,
   "metadata": {},
   "outputs": [],
   "source": [
    "def is_prime(N):\n",
    "    if(N == 1):\n",
    "        return False\n",
    "    \n",
    "    i = 2\n",
    "    while(i*i<=N):\n",
    "        if(N%i == 0):\n",
    "            return False\n",
    "        i+=1\n",
    "    return True"
   ]
  },
  {
   "cell_type": "code",
   "execution_count": 74,
   "metadata": {},
   "outputs": [
    {
     "name": "stdout",
     "output_type": "stream",
     "text": [
      "True\n",
      "False\n",
      "False\n"
     ]
    }
   ],
   "source": [
    "print(is_prime(727))\n",
    "print(is_prime(371))\n",
    "print(is_prime(1))"
   ]
  },
  {
   "cell_type": "markdown",
   "metadata": {},
   "source": [
    "### Finding All Primes\n",
    "To find all numbers till $N$ which are prime, we can use the above function."
   ]
  },
  {
   "cell_type": "code",
   "execution_count": 79,
   "metadata": {},
   "outputs": [
    {
     "name": "stdout",
     "output_type": "stream",
     "text": [
      "2\t3\t5\t7\t11\t13\t17\t19\t23\t29\t31\t37\t41\t43\t47\t53\t59\t61\t67\t71\t73\t79\t83\t89\t97\t"
     ]
    }
   ],
   "source": [
    "def print_primes(N):\n",
    "    for i in range(2,N+1):\n",
    "        if is_prime(i):\n",
    "            print(i, end='\\t')\n",
    "\n",
    "print_primes(100)"
   ]
  },
  {
   "cell_type": "markdown",
   "metadata": {},
   "source": [
    "The time complexity of the above approach is $O(n\\sqrt{n})$."
   ]
  },
  {
   "cell_type": "markdown",
   "metadata": {},
   "source": [
    "One optimisation we can do to this is that in `is_prime` function, instead of trying to divide with every number from $1\\ to\\ \\sqrt{i}$, we try to divide with every prime in that range. To find the time complexity of this approach, we need to know about the next approximation. Given a number $N$, number of primes till that number is $\\frac{N}{logN}$. The time complexity using this approach is $O(\\frac{N\\sqrt{N}}{logN})$."
   ]
  },
  {
   "cell_type": "markdown",
   "metadata": {},
   "source": [
    "**Sieve of Eratosthenes** is an efficient way to find all the primes till a given number $N$.  \n",
    "\n",
    "![Sieve](https://i.imgur.com/jBnuuUq.png)"
   ]
  },
  {
   "cell_type": "code",
   "execution_count": 81,
   "metadata": {},
   "outputs": [
    {
     "name": "stdout",
     "output_type": "stream",
     "text": [
      "2\t3\t5\t7\t11\t13\t17\t19\t23\t29\t31\t37\t41\t43\t47\t53\t59\t61\t67\t71\t73\t79\t83\t89\t97\t"
     ]
    }
   ],
   "source": [
    "def print_primes(N):\n",
    "    primes = [True] * (N+1)\n",
    "    \n",
    "    primes[0] = False\n",
    "    primes[1] = False\n",
    "    \n",
    "    i = 2\n",
    "    while(i*i<=N):\n",
    "        if primes[i] == True:\n",
    "            j = i\n",
    "            while(i*j<=N):\n",
    "                primes[i*j] = False\n",
    "                j+=1\n",
    "        i+=1\n",
    "    \n",
    "    for i in range(len(primes)):\n",
    "        if primes[i]:\n",
    "            print(i, end='\\t')\n",
    "        \n",
    "print_primes(100)"
   ]
  },
  {
   "cell_type": "markdown",
   "metadata": {},
   "source": [
    "To find the time complexity of the above algorithm, we make the following observations. Number of iterations in each case is listed.  \n",
    "\n",
    "$$1\\rightarrow O(1)$$\n",
    "$$2\\rightarrow n/2$$\n",
    "$$3\\rightarrow n/3$$\n",
    "$$4\\rightarrow O(1)$$\n",
    "$$\\vdots$$\n",
    "$$\\sqrt{N}\\rightarrow O(1)$$\n",
    "\n",
    "Total time taken = $O(1)*n + (n/2) + (n/3) + (n/5) + \\dots + (n/f)$ where $f$ is the last prime till sqrt of $N$. Let total time be $t$.  \n",
    "\n",
    "$$t = O(1)*n + [(n/2) + (n/3) + (n/5) + \\dots + (n/f)]$$\n",
    "$$t \\le O(1)*n + [(n/1) + (n/2) + (n/3) + (n/4) + (n/5) + \\dots + (n/f)]$$\n",
    "Sum of a harmonic series can be approximated as\n",
    "$$S_n \\approx log(n)$$\n",
    "So, we can write the sum as\n",
    "$$t \\le O(1)*n + n[log\\sqrt{n}]$$\n",
    "$$t \\le O(1)*n + (n/2)[log{n}]$$\n",
    "\n",
    "The summation, $\\sum_{p=2}^{\\sqrt{n}}\\frac{1}{p}$ is given by Merten's theorem. Ans is equal to $log(log(n))$. So, finally the time complexity is $O(nlog(log(n)))$.  "
   ]
  },
  {
   "cell_type": "markdown",
   "metadata": {},
   "source": [
    "### Prime Factorization\n",
    "We represent prime factorization as $pF(18) = \\{(2,1),\\ (3,2)\\}$. To find prime factorization of a given number we can first find all primes equal to or less than that number using sieve method. Then we can divide the number with the primes to find the prime factorization. The time complexity would be $O(Nlog(log(N)))$.  \n",
    "A better approach is to just divide by numbers from $2\\ to\\ \\sqrt{N}$"
   ]
  },
  {
   "cell_type": "code",
   "execution_count": 87,
   "metadata": {},
   "outputs": [
    {
     "name": "stdout",
     "output_type": "stream",
     "text": [
      "[(2, 1), (3, 2)]\n",
      "[(53, 1)]\n"
     ]
    }
   ],
   "source": [
    "def prime_factorization(N):\n",
    "    prime_factors = []\n",
    "    i = 2\n",
    "    while(i*i<=N):\n",
    "        count = 0\n",
    "        while(N%i == 0):\n",
    "            count += 1\n",
    "            N = N/i\n",
    "        if count > 0:\n",
    "            prime_factors.append((i, count))\n",
    "        i+=1\n",
    "        \n",
    "    if N != 1: # Case of primes\n",
    "        prime_factors.append((N, 1))\n",
    "    return prime_factors\n",
    "        \n",
    "print(prime_factorization(18))\n",
    "print(prime_factorization(53))"
   ]
  },
  {
   "cell_type": "markdown",
   "metadata": {},
   "source": [
    "What if we want to generate prime factorization of a lot of numbers repeatedly? In such a case we make use of sieve. Instead of marking elements of the sieve array as True or False, we store the first prime divisor of that number."
   ]
  },
  {
   "cell_type": "code",
   "execution_count": 89,
   "metadata": {},
   "outputs": [],
   "source": [
    "def lowest_prime_divisors(N):\n",
    "    lowest = [1]*(N+1)\n",
    "    i = 2\n",
    "    while(i*i<=N):\n",
    "        if lowest[i] == 1:\n",
    "            lowest[i] = i\n",
    "            j = i\n",
    "            while(j*i<=N):\n",
    "                if lowest[j*i] == 1:\n",
    "                    lowest[j*i] = i\n",
    "                j+=1\n",
    "        i+=1\n",
    "    for i in range(2,N+1):\n",
    "        if lowest[i] == 1:\n",
    "            lowest[i] = i\n",
    "    return lowest"
   ]
  },
  {
   "cell_type": "code",
   "execution_count": 90,
   "metadata": {},
   "outputs": [
    {
     "name": "stdout",
     "output_type": "stream",
     "text": [
      "[(2, 1), (3, 2)]\n"
     ]
    }
   ],
   "source": [
    "def prime_factorization(N):\n",
    "    lowest = lowest_prime_divisors(N)\n",
    "    \n",
    "    prime_factors = []\n",
    "    \n",
    "    while(N != 1):\n",
    "        prime = lowest[N]\n",
    "        count = 0\n",
    "        while(N % prime == 0):\n",
    "            count += 1\n",
    "            N //= prime\n",
    "        prime_factors.append((prime, count))\n",
    "    \n",
    "    return prime_factors\n",
    "\n",
    "print(prime_factorization(18))"
   ]
  },
  {
   "cell_type": "markdown",
   "metadata": {},
   "source": [
    "### Modulo Arithmetic\n",
    "The statement $A\\%B\\ =\\ R$ means that $R$ is the remainder when we try to divide $A$ with $B$. The inequality $1\\le R \\lt B$ always holds true. Some results:\n",
    "- $0 \\% B = 0$\n",
    "- $1 \\% B = 1$\n",
    "- $A \\% B = A$ if $A\\lt B$ and $A\\ge0$\n",
    "\n",
    "To find modulo of a negative number with another number, do as follows. For example: $-5\\%3$\n",
    "- Step 1: $5\\%3\\ =\\ 2$\n",
    "- Step 2: Negate it, $-2$\n",
    "- Step 3: Add divisor, $-2 + 3 = 1$  \n",
    "\n",
    "Some properties of modulo:\n",
    "- $(A + B)\\%C\\ =\\ (A\\%C\\ +\\ B\\%C)\\%C$\n",
    "- $(A - B)\\%C\\ =\\ (A\\%C\\ -\\ B\\%C +\\ C)\\%C$\n",
    "- $(A * B)\\%C\\ =\\ (A\\%C\\ *\\ B\\%C)\\%C$\n",
    "- The division property is a bit different and involves inverse modulo. $(A\\ /\\ B)\\%C\\ =\\ (A * B^{-1})\\%C\\ =\\ (A\\%C\\ *\\ B^{-1}\\%C)\\%C$\n",
    "- $(A^B)\\%C\\ =\\ ((A\\%C)^B)\\%C$  \n",
    "\n",
    "To find inverse modulo, we make use of Fermat's Little Theorem. More specifically, $A^{P-1}\\%P\\ =\\ 1$, where $P$ is prime and $A$ and $P$ are coprimes. To find $A^{-1}\\%P$, we simply divide both sides in the above equation with $A$.\n",
    "$$A^{P-1}\\%P\\ =\\ 1$$\n",
    "$$A^{P-1}\\%P\\ =\\ 1\\%P$$ \n",
    "$$\\frac{A^{P-1}}{A}\\%P\\ =\\ \\frac{1}{A}\\%P$$  \n",
    "$$A^{-1}\\%P = A^{P-2}\\%P$$  "
   ]
  },
  {
   "cell_type": "markdown",
   "metadata": {},
   "source": [
    "**Congruence:** we often come across the expression $a \\equiv b(mod\\ n)$. This means that $a$ and $b$ give the same remainder when divided by $n$. For example,\n",
    "- $10 \\equiv 14(mod\\ 4)$\n",
    "- $10 \\equiv -2(mod\\ 4)$\n",
    "\n",
    "From this, we can also say that,\n",
    "- $a = kn + b$\n",
    "- $n|(a-b)$"
   ]
  },
  {
   "cell_type": "markdown",
   "metadata": {},
   "source": [
    "**Calculating Modulo of Exponent:** we can employ the following recursive approach:"
   ]
  },
  {
   "cell_type": "code",
   "execution_count": 3,
   "metadata": {},
   "outputs": [
    {
     "name": "stdout",
     "output_type": "stream",
     "text": [
      "1\n"
     ]
    }
   ],
   "source": [
    "def exponent_modulo(A,n,B):\n",
    "    # Few cases, this saves us from recursive calls\n",
    "    if A == 0:\n",
    "        return 0\n",
    "    elif n == 0:\n",
    "        return 1\n",
    "\n",
    "    if A > B:\n",
    "        K = A % B\n",
    "        return exponent_modulo(K,n,B)\n",
    "    \n",
    "    value = exponent_modulo(A,n//2,B)\n",
    "    if n % 2 == 0:        \n",
    "        return (value * value) % B\n",
    "    else:\n",
    "        return (A * value * value) % B\n",
    "    \n",
    "print(exponent_modulo(345,9,4))"
   ]
  },
  {
   "cell_type": "markdown",
   "metadata": {},
   "source": [
    "The above approach will fail if n is very big. In that case, we'll get maximum recursion depth exceeded error. So we must use an iterative approach."
   ]
  },
  {
   "cell_type": "code",
   "execution_count": 8,
   "metadata": {},
   "outputs": [
    {
     "name": "stdout",
     "output_type": "stream",
     "text": [
      "1\n"
     ]
    }
   ],
   "source": [
    "def exponent_modulo_iterative(A,n,B):\n",
    "    # This case saves us from recursive calls\n",
    "    if A == 0:\n",
    "        return 0\n",
    "\n",
    "    K = A % B\n",
    "    answer = 1\n",
    "\n",
    "    while(n > 0):\n",
    "        if n % 2 == 1:\n",
    "            answer = (answer * K) % B\n",
    "        K = (K * K) % B\n",
    "        n //= 2\n",
    "\n",
    "    return answer\n",
    "\n",
    "print(exponent_modulo_iterative(345,9,4))"
   ]
  },
  {
   "cell_type": "markdown",
   "metadata": {},
   "source": [
    "**Calculating Modulo of Factorial:** we can use the following approach"
   ]
  },
  {
   "cell_type": "code",
   "execution_count": 9,
   "metadata": {},
   "outputs": [],
   "source": [
    "def factorial_modulo(A, B):\n",
    "    if A >= B:\n",
    "        return 0\n",
    "    elif A == 1 or A == 0:\n",
    "        return 1\n",
    "    else:\n",
    "        return ((A % B) * (factorial_modulo(A-1, B))) % B\n",
    "\n",
    "def factorial_modulo_iterative(A, B):\n",
    "    if A >= B:\n",
    "        return 0\n",
    "    elif A == 1 or A == 0:\n",
    "        return 1\n",
    "\n",
    "    answer = 1\n",
    "    while(A > 1):\n",
    "        answer = (answer * (A % B)) % B\n",
    "        A -= 1\n",
    "\n",
    "    return answer"
   ]
  },
  {
   "cell_type": "code",
   "execution_count": null,
   "metadata": {},
   "outputs": [],
   "source": []
  }
 ],
 "metadata": {
  "kernelspec": {
   "display_name": "Python 3",
   "language": "python",
   "name": "python3"
  },
  "language_info": {
   "codemirror_mode": {
    "name": "ipython",
    "version": 3
   },
   "file_extension": ".py",
   "mimetype": "text/x-python",
   "name": "python",
   "nbconvert_exporter": "python",
   "pygments_lexer": "ipython3",
   "version": "3.7.4"
  }
 },
 "nbformat": 4,
 "nbformat_minor": 4
}
