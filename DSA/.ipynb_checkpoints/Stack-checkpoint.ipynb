{
 "cells": [
  {
   "cell_type": "markdown",
   "metadata": {},
   "source": [
    "### Stack\n",
    "Stack is a `LIFO`, Last In First Out data structure. It is a list with restriction that insertion and deletion occurs only at one end.  \n",
    "Stack can be implemented using arrays or using linked list.\n",
    "\n",
    "### Array based Stack\n",
    "```C++\n",
    "#define MAX_SIZE = 10\n",
    "\n",
    "int elements[MAX_SIZE];\n",
    "int top = -1;\n",
    "\n",
    "void push(int x){\n",
    "    if(top==MAX_SIZE-1){\n",
    "        cout<<\"Overflow\";\n",
    "        return;\n",
    "    }\n",
    "    elements[++top] = x;\n",
    "}\n",
    "\n",
    "int pop(){\n",
    "    if(top==-1){\n",
    "        cout<<\"Already empty\";\n",
    "        return;\n",
    "    }\n",
    "    top--;\n",
    "    return elements[top + 1];\n",
    "}\n",
    "\n",
    "bool isEmpty(){\n",
    "    if(top==-1){\n",
    "        return true;\n",
    "    }else{\n",
    "        return false;\n",
    "    }\n",
    "}\n",
    "```\n",
    "\n",
    "We can modify the above code to extend the array when the array completely fills up. In such case the time complexities are:\n",
    "1. push : Best case O(1), Worst case (when we have to extend) O(n), Average case O(1)\n",
    "2. pop : O(1)"
   ]
  },
  {
   "cell_type": "markdown",
   "metadata": {},
   "source": [
    "### Resizable Array\n",
    "In the previous version, array's size was fixed. In the new version, we resize array as soon as the array is filled.\n",
    "```C++\n",
    "int arraySize = 10;\n",
    "int elements[MAX_SIZE];\n",
    "int top = -1;\n",
    "\n",
    "void resize(int newSize){\n",
    "    int newArray[newSize];\n",
    "    for(int i=0; i<arraySize; i++){\n",
    "        newArray[i] = elements[i];\n",
    "    }\n",
    "    \n",
    "    elements = newArray;\n",
    "    arraySize = newSize;\n",
    "}\n",
    "\n",
    "void push(int x){\n",
    "    if(top==arraySize-1){\n",
    "        resize(2*arraySize);\n",
    "    }\n",
    "    elements[++top] = x;\n",
    "}\n",
    "\n",
    "int pop(){\n",
    "    if(top==-1){\n",
    "        cout<<\"Already empty\";\n",
    "        return;\n",
    "    } else if(arraySize >= 3*top){\n",
    "        resize(arraySize/2);\n",
    "    }\n",
    "    \n",
    "    top--;\n",
    "    return elements[top + 1];\n",
    "}\n",
    "```"
   ]
  },
  {
   "cell_type": "markdown",
   "metadata": {},
   "source": [
    "### A Note on Time Complexity of Insertion of Elements in a Resizable Array\n",
    "Whenever the array is full we double the size of array, copy the elements from old array to the new one. So what is the time complexity. To calculate the time complexity of addition of element into a resizable array, we do amortized time complexity which is basically weighted average time complexity. Suppose we have to insert $n$ elements into an array and we start with array having size $1$.  \n",
    "So as soon as we add $1$ element, we create a new array with double the size and copy that $1$ element to the new array. When we add one more element, we double array and copy over $2$ elements. Adding the third element takes constant time. So for $n$ elements, the times are:  \n",
    "$$1 \\rightarrow 1$$\n",
    "$$2 \\rightarrow 2$$\n",
    "$$3 \\rightarrow 1$$\n",
    "$$4 \\rightarrow 4$$\n",
    "$$5 \\rightarrow 1$$\n",
    "$$6 \\rightarrow 1$$\n",
    "$$\\ldots$$\n",
    "The time taken to insert $n$ elements,\n",
    "$$T = (1+1+1+\\ldots)_{K\\ times} + (2^0 + 2^1 + 2^2 + \\ldots)_{K'\\ times}$$\n",
    "Where\n",
    "$$K+K'=n$$\n",
    "And\n",
    "$$2^{K'} \\le n$$\n",
    "$$K' \\le log_2n$$\n",
    "$$K' = log_2n + 1$$\n",
    "Therefore,\n",
    "$$T = K + \\sum^{K'}_{0}2^i$$\n",
    "$$T = n - log_2n - 1 + \\sum^{K'}_{0}2^i$$\n",
    "$$T = n - log_2n - 1 + log_2n$$\n",
    "$$T = n - 1$$\n",
    "Averaged, we get $T = O(1)$."
   ]
  },
  {
   "cell_type": "markdown",
   "metadata": {},
   "source": [
    "### Linked List based Stack\n",
    "```C++\n",
    "struct Node{\n",
    "    int data;\n",
    "    Node* next;\n",
    "}\n",
    "\n",
    "Node* top;\n",
    "\n",
    "void push(int x){\n",
    "    Node* temp = new Node();\n",
    "    temp->data = x;\n",
    "    temp->next = top;\n",
    "    top = temp;\n",
    "}\n",
    "\n",
    "int pop(){\n",
    "    if(top==NULL){\n",
    "        cout<<\"Already empty\";\n",
    "        return;\n",
    "    }\n",
    "    \n",
    "    Node* temp = top;\n",
    "    top = top->next;\n",
    "    int result = temp->data;\n",
    "    delete temp;\n",
    "    return result;\n",
    "}\n",
    "\n",
    "bool isEmpty(){\n",
    "    if(top==NULL)\n",
    "        return true;\n",
    "    else\n",
    "        return false;\n",
    "}\n",
    "```"
   ]
  },
  {
   "cell_type": "markdown",
   "metadata": {},
   "source": [
    "Linked List based stack implementation has the same push and pop time complexity as array based implementation (as long as array based implementation has fixed length)."
   ]
  },
  {
   "cell_type": "markdown",
   "metadata": {},
   "source": [
    "### Infix Postfix and Prefix\n",
    "A normal arithmetic expression comprises of opertor in between operands. Expression is evaluated from left to right and we have to take into consideration the precedence of various operators. Paranthesis is used to specify what is evaluated first. The expression `A + B * C + D` can be rewritten as `((A + (B * C)) + D)` to show that the multiplication happens first, followed by the leftmost addition.  \n",
    "\n",
    "**Prefix:** notation requires that all operators precede the two operands that they work on  \n",
    "**Postfix:** notation requires that its operators come after the corresponding operands  \n",
    "\n",
    "Examples:\n",
    "```\n",
    "| Infix             | Prefix        | Postfix       |\n",
    "|-------------------|---------------|---------------|\n",
    "| A + B * C + D     | + + A * B C D | A B C * + D + |\n",
    "| (A + B) * (C + D) | * + A B + C D | A B + C D + * |\n",
    "| A * B + C * D     | + * A B * C D | A B * C D * + |\n",
    "```\n",
    "\n",
    "Prefix and postfix notations have the benefit of not requiring paranthesis to determine the order of operations.\n",
    "\n",
    "**Converting infix to postfix and prefix:** if the infix operation is completely paranthesized, we traverse the expression and a) in case of postfix replace ')' with the operator b) in case of prefix replace '(' with the operator.\n",
    "\n",
    "![Postfix](https://runestone.academy/runestone/books/published/pythonds/_images/moveright.png)\n",
    "![Prefix](https://runestone.academy/runestone/books/published/pythonds/_images/moveleft.png)  \n",
    "\n",
    "Infix to postfix:\n",
    "```java\n",
    "public static String convert(String input) {\n",
    "    StringBuffer output = new StringBuffer();\n",
    "\n",
    "    // Only operators are added to this stack\n",
    "    Stack<String> operatorStack = new Stack<>();\n",
    "\n",
    "    // Considering input has space separated symbols\n",
    "    String[] tokens = input.split(\" \");\n",
    "\n",
    "    for(String token: tokens) {\n",
    "        // if not operator, just append to output\n",
    "        if(!(token.equals(\"+\") || token.equals(\"-\") ||\n",
    "            token.equals(\"*\") || token.equals(\"/\") ||\n",
    "            token.equals(\"(\") || token.equals(\")\"))) {\n",
    "            output.append(token);\n",
    "        // add opening paranthesis to the stack\n",
    "        } else if(token.equals(\"(\")) {\n",
    "            operatorStack.push(\"(\");\n",
    "        // on encountering closing paranthesis, remove\n",
    "        // everything from stack (and append) till you\n",
    "        // get to corresponding opening paranthesis\n",
    "        } else if(token.equals(\")\")) {\n",
    "            String popped = null;\n",
    "            while(!operatorStack.isEmpty() && \n",
    "                  (popped = operatorStack.pop()) != \"(\") {\n",
    "                output.append(popped);\n",
    "            }\n",
    "        // For other operators before inserting into stack\n",
    "        // remove all operators which have equal or greater\n",
    "        // precedence\n",
    "        } else if(token.equals(\"+\") || token.equals(\"-\")) {\n",
    "            while(!operatorStack.isEmpty()) {\n",
    "                String top = operatorStack.peek();\n",
    "                if(top.equals(\"+\") || top.equals(\"-\") ||\n",
    "                   top.equals(\"*\") || top.equals(\"/\")) {\n",
    "                    output.append(operatorStack.pop());\n",
    "                } else {\n",
    "                    break;\n",
    "                }\n",
    "            }\n",
    "            operatorStack.push(token);\n",
    "        } else if(token.equals(\"*\") || token.equals(\"/\")) {\n",
    "            while(!operatorStack.isEmpty()) {\n",
    "                String top = operatorStack.peek();\n",
    "                if(top.equals(\"*\") || top.equals(\"/\")) {\n",
    "                    output.append(operatorStack.pop());\n",
    "                } else {\n",
    "                    break;\n",
    "                }\n",
    "            }\n",
    "            operatorStack.push(token);\n",
    "        }\n",
    "    }\n",
    "\n",
    "    // Empty out stack\n",
    "    while(!operatorStack.isEmpty()) {\n",
    "        output.append(operatorStack.pop());\n",
    "    }\n",
    "\n",
    "    return new String(output);\n",
    "}\n",
    "```\n",
    "\n",
    "Evaluating postfix expression\n",
    "```java\n",
    "public static int evaluate(String input) {\n",
    "    // Only numbers are added to this stack\n",
    "    Stack<Integer> numStack = new Stack<>();\n",
    "\n",
    "    // Considering input has space separated symbols\n",
    "    String[] tokens = input.trim().split(\" \");\n",
    "\n",
    "    for(String token: tokens) {\n",
    "        // push numbers to stack\n",
    "        if(!(token.equals(\"+\") || token.equals(\"-\") ||\n",
    "             token.equals(\"*\") || token.equals(\"/\"))) {\n",
    "            numStack.push(Integer.parseInt(token));\n",
    "        } else {\n",
    "            int rightOperand = numStack.pop();\n",
    "            int leftOperand = numStack.pop();\n",
    "            int result = 0;\n",
    "\n",
    "            // evaluate binary expression as per operator\n",
    "            // then push result to stack again\n",
    "            if(token.equals(\"+\")) {\n",
    "                result = leftOperand + rightOperand;\n",
    "            } else if(token.equals(\"-\")) {\n",
    "                result = leftOperand - rightOperand;\n",
    "            } else if(token.equals(\"*\")) {\n",
    "                result = leftOperand * rightOperand;\n",
    "            } else if(token.equals(\"/\")) {\n",
    "                result = leftOperand / rightOperand;\n",
    "            }\n",
    "\n",
    "            numStack.push(result);\n",
    "        }\n",
    "    }\n",
    "\n",
    "    return numStack.pop();\n",
    "}\n",
    "```"
   ]
  },
  {
   "cell_type": "markdown",
   "metadata": {},
   "source": [
    "### Built-in Implementations\n",
    "**Java:**\n",
    "- Using Stack  \n",
    "\n",
    "```java\n",
    "Stack<Integer> stack = new Stack<>();\n",
    "\n",
    "// Checking if stack is empty\n",
    "stack.isEmpty();\n",
    "\n",
    "// Get size of stack\n",
    "stack.size();\n",
    "\n",
    "// Pushing items to stack\n",
    "// add() adds to end of list\n",
    "stack.add(5); stack.add(6);\n",
    "\n",
    "// Popping items from stack\n",
    "// pop() removes from end of list\n",
    "// Throws EmptyStackException if stack is empty\n",
    "int item = stack.pop();\n",
    "\n",
    "// Iterating over stack\n",
    "for(int i: stack){\n",
    "    /* code */\n",
    "}\n",
    "```\n",
    "\n",
    "- Using ArrayList  \n",
    "\n",
    "```java\n",
    "ArrayList<Integer> stack = new ArrayList<>();\n",
    "\n",
    "// Checking if stack is empty\n",
    "stack.isEmpty();\n",
    "\n",
    "// Get size of stack\n",
    "stack.size();\n",
    "\n",
    "// Pushing items to stack\n",
    "stack.add(5); stack.add(6);\n",
    "\n",
    "// Popping items from stack\n",
    "int item = stack.remove(stack.size() - 1);\n",
    "```\n",
    "\n",
    "**Python:**\n",
    "```sh\n",
    "# List is generally used as stack\n",
    "stack = []\n",
    "\n",
    "# Checking if stack is empty\n",
    "len(stack) == 0\n",
    "\n",
    "# Get size of stack\n",
    "len(stack)\n",
    "\n",
    "# Pushing items to stack\n",
    "# append() adds to end of list\n",
    "stack.append(5)\n",
    "\n",
    "# Popping items from stack\n",
    "# pop() removes from end of list\n",
    "item = stack.pop()\n",
    "\n",
    "# Iterating over stack\n",
    "for i in stack:\n",
    "    pass\n",
    "```"
   ]
  },
  {
   "cell_type": "markdown",
   "metadata": {},
   "source": [
    "**Q 1:** Implement a function `getMin()` which returns the minimum element in the stack.  \n",
    "**Answer:** So get minimum element of stack, we need to make use of two stacks. One main stack and the other stack which holds current minimum at the top."
   ]
  },
  {
   "cell_type": "code",
   "execution_count": 6,
   "metadata": {},
   "outputs": [
    {
     "name": "stdout",
     "output_type": "stream",
     "text": [
      "3\n",
      "0\n"
     ]
    }
   ],
   "source": [
    "stack = []\n",
    "# This stack contains all the minimum\n",
    "# elements\n",
    "min_stack = []\n",
    "def push(x):\n",
    "    stack.append(x)\n",
    "    # Both stacks are empty, so append\n",
    "    if len(stack) == 0:\n",
    "        min_stack.append(x)\n",
    "    else:\n",
    "        # Check if the newly added element is less\n",
    "        # than the current minimum element\n",
    "        if x <= min_stack[-1]:\n",
    "            min_stack.append(x)\n",
    "            \n",
    "def pop():\n",
    "    popped = stack.pop()\n",
    "    if popped == min_stack[-1]:\n",
    "        min_stack.pop()\n",
    "        \n",
    "def get_min():\n",
    "    return min_stack[-1]\n",
    "        \n",
    "push(7)\n",
    "push(8)\n",
    "push(3)\n",
    "print(get_min())\n",
    "push(1)\n",
    "push(0)\n",
    "push(0)\n",
    "pop()\n",
    "print(get_min())"
   ]
  },
  {
   "cell_type": "markdown",
   "metadata": {},
   "source": [
    "How can we maintain minimum without using extra space? If all the numbers to be inserted into the stack are positive then we can follow the below steps. Consider the array is `6, 3, 7, 8, 2`. We insert 6 first into the stack. The variable `min_stack = 6`. Next when we push 3, `min_stack = 3`, however the value inserted into the stack will be `3 - min_stack` which is `3 - 6 = -3`. We will insert 7 and 8 as it is. When we insert 2, we make `min_stack = 2`, however we insert `2 - 3 = -1` into the stack. And so on. The stack now is `6, -3, 7, 8, -1`.  \n",
    "Now when we pop elements and it is negative, then to get to the original number we need to follow the following equation: `x - prev_min_stack = top_of_stack`. But how to get the previous min from current min? `prev_min_stack = min_stack - top_of_stack`. `prev_min_stack = 2 - (-1) = 3`. So the popped elements is `x - 3 = -1 = 2`. Make `min_stack = prev_min_stack`."
   ]
  },
  {
   "cell_type": "markdown",
   "metadata": {},
   "source": [
    "**Q 2:** Sort a stack  \n",
    "**Answer:**"
   ]
  },
  {
   "cell_type": "code",
   "execution_count": 2,
   "metadata": {},
   "outputs": [
    {
     "name": "stdout",
     "output_type": "stream",
     "text": [
      "[1, 1, 2, 3, 5]\n"
     ]
    }
   ],
   "source": [
    "stack = []\n",
    "\n",
    "def sort():\n",
    "    # Create aux stack\n",
    "    aux = []\n",
    "        \n",
    "    while(len(stack) != 0):\n",
    "        popped = stack.pop()\n",
    "        # If aux is empty just push\n",
    "        if len(aux) == 0:\n",
    "            aux.append(popped)\n",
    "            \n",
    "        # If the element to be added to aux is greater\n",
    "        # than or equal to element at top, push\n",
    "        elif popped <= aux[-1]:\n",
    "            aux.append(popped)\n",
    "        # Pop out out elements greater before pushing\n",
    "        else:\n",
    "            while(len(aux) != 0 and aux[-1] < popped):\n",
    "                stack.append(aux.pop())\n",
    "            aux.append(popped)\n",
    "            \n",
    "    while(len(aux) != 0):\n",
    "        stack.append(aux.pop())\n",
    "            \n",
    "stack = [2,3,1,5,1]\n",
    "sort()\n",
    "print(stack)"
   ]
  },
  {
   "cell_type": "markdown",
   "metadata": {},
   "source": [
    "**Q 3:** Given a string, remove all the consequtive duplicate elements. For example, if the string is `abbck`, then return `ack`. However consider `kabbal`. It will convert to `kaal` and then finally to `kl`. Finally if we pass `aaa` as input, we should get `a` .  \n",
    "**Answer:**"
   ]
  },
  {
   "cell_type": "code",
   "execution_count": 18,
   "metadata": {},
   "outputs": [
    {
     "name": "stdout",
     "output_type": "stream",
     "text": [
      "kl\n",
      "a\n",
      "ack\n"
     ]
    }
   ],
   "source": [
    "def remove_duplicate(input):\n",
    "    stack = []\n",
    "    for i in input:\n",
    "        if len(stack) == 0:\n",
    "            stack.append(i)\n",
    "        else:\n",
    "            # If the element to be inserted is already\n",
    "            # present at the top, pop that element\n",
    "            if stack[-1] == i:\n",
    "                stack.pop()\n",
    "            # Else push element to the stack\n",
    "            else:\n",
    "                stack.append(i)\n",
    "    return ''.join(stack)\n",
    "\n",
    "print(remove_duplicate('kabbal'))\n",
    "print(remove_duplicate('aaa'))\n",
    "print(remove_duplicate('abbck'))"
   ]
  },
  {
   "cell_type": "markdown",
   "metadata": {},
   "source": [
    "**Q 4:** Determine whether the given set of paranthesis is valid or not. Paranthesis can be either of the following: `[, {, (, ), }, ]`  \n",
    "**Answer:**"
   ]
  },
  {
   "cell_type": "code",
   "execution_count": 21,
   "metadata": {},
   "outputs": [
    {
     "name": "stdout",
     "output_type": "stream",
     "text": [
      "False\n",
      "True\n"
     ]
    }
   ],
   "source": [
    "def valid_paranthesis(input):\n",
    "    opening = ['{', '[', '(']\n",
    "    closing = ['}', ']', ')']\n",
    "    stack = []\n",
    "    for i in input:\n",
    "        if i in closing and len(stack) == 0:\n",
    "            return False\n",
    "        \n",
    "        if i in opening:\n",
    "            stack.append(i)\n",
    "        else:\n",
    "            popped = stack.pop()\n",
    "            if (i == '}' and popped == '{') or (i == ']' and popped == '[') or (i == ')' and popped == '('):\n",
    "                continue\n",
    "            else:\n",
    "                return False\n",
    "            \n",
    "    if len(stack) == 0:\n",
    "        return True\n",
    "    else:\n",
    "        return False\n",
    "\n",
    "par = '{[)(]}'                \n",
    "print(valid_paranthesis(par))\n",
    "\n",
    "par = '{[()]}'                \n",
    "print(valid_paranthesis(par))"
   ]
  },
  {
   "cell_type": "markdown",
   "metadata": {},
   "source": [
    "**Q 5:** Given an array, for each element find the closest number (to the right) greater than that number. For example, if the array is `[10, 7, 4, 2, 9, 10, 11, 3, 2]`, the answer would be `[11, 9, 9, 9, 10, 11, -1, -1, -1]` .   \n",
    "**Answer:** "
   ]
  },
  {
   "cell_type": "code",
   "execution_count": 8,
   "metadata": {},
   "outputs": [
    {
     "name": "stdout",
     "output_type": "stream",
     "text": [
      "[11, 9, 9, 9, 10, 11, -1, -1, -1]\n"
     ]
    }
   ],
   "source": [
    "def next_larger(A):\n",
    "    i = len(A) - 1\n",
    "    stack = []\n",
    "    answer = [-1] * len(A)\n",
    "    while(i >= 0):\n",
    "        val = A[i]\n",
    "        \n",
    "        while(len(stack) != 0 and val >= stack[-1]):\n",
    "            stack.pop()\n",
    "            \n",
    "        if len(stack) != 0:\n",
    "            answer[i] = stack[-1]\n",
    "        \n",
    "        stack.append(val)\n",
    "        i -= 1\n",
    "    return answer\n",
    "\n",
    "A = [10, 7, 4, 2, 9, 10, 11, 3, 2]\n",
    "print(next_larger(A))"
   ]
  },
  {
   "cell_type": "markdown",
   "metadata": {},
   "source": [
    "Similarly, previous larger would be"
   ]
  },
  {
   "cell_type": "code",
   "execution_count": 11,
   "metadata": {},
   "outputs": [
    {
     "name": "stdout",
     "output_type": "stream",
     "text": [
      "[-1, 10, 7, 4, 10, -1, -1, 11, 3]\n"
     ]
    }
   ],
   "source": [
    "def prev_larger(A):\n",
    "    i = 0\n",
    "    stack = []\n",
    "    answer = [-1] * len(A)\n",
    "    while(i < len(A)):\n",
    "        val = A[i]\n",
    "        \n",
    "        while(len(stack) != 0 and val >= stack[-1]):\n",
    "            stack.pop()\n",
    "            \n",
    "        if len(stack) != 0:\n",
    "            answer[i] = stack[-1]\n",
    "        \n",
    "        stack.append(val)\n",
    "        i += 1\n",
    "    return answer\n",
    "\n",
    "A = [10, 7, 4, 2, 9, 10, 11, 3, 2]\n",
    "print(prev_larger(A))"
   ]
  },
  {
   "cell_type": "markdown",
   "metadata": {},
   "source": [
    "In similar fashion,"
   ]
  },
  {
   "cell_type": "code",
   "execution_count": 12,
   "metadata": {},
   "outputs": [
    {
     "name": "stdout",
     "output_type": "stream",
     "text": [
      "[7, 4, 2, -1, 3, 3, 3, 2, -1]\n"
     ]
    }
   ],
   "source": [
    "def next_smaller(A):\n",
    "    i = len(A) - 1\n",
    "    stack = []\n",
    "    answer = [-1] * len(A)\n",
    "    while(i >= 0):\n",
    "        val = A[i]\n",
    "        \n",
    "        while(len(stack) != 0 and val <= stack[-1]):\n",
    "            stack.pop()\n",
    "            \n",
    "        if len(stack) != 0:\n",
    "            answer[i] = stack[-1]\n",
    "        \n",
    "        stack.append(val)\n",
    "        i -= 1\n",
    "    return answer\n",
    "\n",
    "A = [10, 7, 4, 2, 9, 10, 11, 3, 2]\n",
    "print(next_smaller(A))"
   ]
  },
  {
   "cell_type": "markdown",
   "metadata": {},
   "source": [
    "And,"
   ]
  },
  {
   "cell_type": "code",
   "execution_count": 13,
   "metadata": {},
   "outputs": [
    {
     "name": "stdout",
     "output_type": "stream",
     "text": [
      "[-1, -1, -1, -1, 2, 9, 10, 2, -1]\n"
     ]
    }
   ],
   "source": [
    "def prev_smaller(A):\n",
    "    i = 0\n",
    "    stack = []\n",
    "    answer = [-1] * len(A)\n",
    "    while(i < len(A)):\n",
    "        val = A[i]\n",
    "        \n",
    "        while(len(stack) != 0 and val <= stack[-1]):\n",
    "            stack.pop()\n",
    "            \n",
    "        if len(stack) != 0:\n",
    "            answer[i] = stack[-1]\n",
    "        \n",
    "        stack.append(val)\n",
    "        i += 1\n",
    "    return answer\n",
    "\n",
    "A = [10, 7, 4, 2, 9, 10, 11, 3, 2]\n",
    "print(prev_smaller(A))"
   ]
  },
  {
   "cell_type": "code",
   "execution_count": null,
   "metadata": {},
   "outputs": [],
   "source": []
  }
 ],
 "metadata": {
  "kernelspec": {
   "display_name": "Python 3",
   "language": "python",
   "name": "python3"
  },
  "language_info": {
   "codemirror_mode": {
    "name": "ipython",
    "version": 3
   },
   "file_extension": ".py",
   "mimetype": "text/x-python",
   "name": "python",
   "nbconvert_exporter": "python",
   "pygments_lexer": "ipython3",
   "version": "3.7.4"
  }
 },
 "nbformat": 4,
 "nbformat_minor": 4
}
