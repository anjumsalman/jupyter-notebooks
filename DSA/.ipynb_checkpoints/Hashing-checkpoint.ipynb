{
 "cells": [
  {
   "cell_type": "markdown",
   "metadata": {},
   "source": [
    "### Hash Function\n",
    "Hash function is any function which maps data of arbitrary size to a fixed-size value. Value returned by such function is called *hash value*, *hash* or *digest*. Hash value is commonly used in conjunction with *hash table*. A good hash function has the following properties:\n",
    "- always returns same hash value for same input\n",
    "- equal input will therefore have the same hash, unequal input on the other hand should have different hashes\n",
    "- must be uniform, it must distribute hash over its range\n",
    "- fixed size output from a hash function is desirable\n",
    "- should be non-invertible, ie from a given hash one cannot determine the input used to generate the given hash\n",
    "\n",
    "A sample hash function: In Java a string's hash is calculated in the following manner:"
   ]
  },
  {
   "cell_type": "code",
   "execution_count": 1,
   "metadata": {},
   "outputs": [
    {
     "data": {
      "text/plain": [
       "64578"
      ]
     },
     "execution_count": 1,
     "metadata": {},
     "output_type": "execute_result"
    }
   ],
   "source": [
    "def hash_string(input):\n",
    "    hash = 0; j = 1;\n",
    "    for i in input:\n",
    "        hash += ord(i)*(31**(len(input)-j))\n",
    "        j += 1\n",
    "    return hash\n",
    "\n",
    "hash_string('ABC')"
   ]
  },
  {
   "cell_type": "markdown",
   "metadata": {},
   "source": [
    "### Hash Table\n",
    "Hash Table is a data structure which maps keys to values. We use the keys to calculate hash and that hash acts as index where the value is stored. The image below represents a hash table:\n",
    "\n",
    "![hash table](https://upload.wikimedia.org/wikipedia/commons/thumb/7/7d/Hash_table_3_1_1_0_1_0_0_SP.svg/315px-Hash_table_3_1_1_0_1_0_0_SP.svg.png)"
   ]
  },
  {
   "cell_type": "markdown",
   "metadata": {},
   "source": [
    "### Collisions\n",
    "It is possible that different inputs may have the same hash, for example,"
   ]
  },
  {
   "cell_type": "code",
   "execution_count": 2,
   "metadata": {},
   "outputs": [
    {
     "name": "stdout",
     "output_type": "stream",
     "text": [
      "Hash for Aa is  2112\n",
      "Hash for BB is  2112\n"
     ]
    }
   ],
   "source": [
    "print('Hash for Aa is ', hash_string('Aa'))\n",
    "print('Hash for BB is ', hash_string('BB'))"
   ]
  },
  {
   "cell_type": "markdown",
   "metadata": {},
   "source": [
    "There are several methods to resolve collisions. In a typical hash table the index is calculated in the following two steps:\n",
    "$$index = f(key, array\\_size)$$\n",
    "$$hash = hash\\_func(key)$$\n",
    "$$index = hash \\% array\\_size$$"
   ]
  },
  {
   "cell_type": "markdown",
   "metadata": {},
   "source": [
    "The **load_factor** of a hashtable is $load\\_factor = \\frac{n}{k}$, where $n$ is the number of occupied entries and $k$ is the total number of buckets (array_size).\n",
    "\n",
    "The following methods are used to reduce collision:\n",
    "- **separate chaining:** in this case each bucket contains a linked list of all entries having the same hash. In this case the cost of lookup depends upon the average number of keys per bucket. The worst case in this scenario is when all the items are stored in the same bucket, this is equivalent to searching in a plain list. Other data structures (rather than linked list) can also be used, like self balancing BST.\n",
    "![separate chaining](https://upload.wikimedia.org/wikipedia/commons/thumb/d/d0/Hash_table_5_0_1_1_1_1_1_LL.svg/450px-Hash_table_5_0_1_1_1_1_1_LL.svg.png)\n",
    "\n",
    "- **open addressing:** in open addressing, in case of collision, we move to next bucket until an empty bucket is found. The drawback is that the maximum entries that can be stored is the number of buckets. The next bucket can be found in the following ways:\n",
    "    - **linear probing:** in case of collision look at next bucket, then next bucket, then next until vacant bucket is found\n",
    "    - **quadratic probing:**\n",
    "    - **double hashing:**"
   ]
  },
  {
   "cell_type": "code",
   "execution_count": null,
   "metadata": {},
   "outputs": [],
   "source": []
  }
 ],
 "metadata": {
  "kernelspec": {
   "display_name": "Python 3",
   "language": "python",
   "name": "python3"
  },
  "language_info": {
   "codemirror_mode": {
    "name": "ipython",
    "version": 3
   },
   "file_extension": ".py",
   "mimetype": "text/x-python",
   "name": "python",
   "nbconvert_exporter": "python",
   "pygments_lexer": "ipython3",
   "version": "3.6.2"
  }
 },
 "nbformat": 4,
 "nbformat_minor": 2
}
