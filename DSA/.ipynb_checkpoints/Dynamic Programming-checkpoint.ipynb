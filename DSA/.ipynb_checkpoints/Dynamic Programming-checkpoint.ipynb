{
 "cells": [
  {
   "cell_type": "markdown",
   "metadata": {},
   "source": [
    "### Dynamic Programming\n",
    "Dynamic programming can be illustrated by fibonacci series problem. We have to find the $N$th fibonacci number. If we use recursion,"
   ]
  },
  {
   "cell_type": "code",
   "execution_count": 1,
   "metadata": {},
   "outputs": [
    {
     "name": "stdout",
     "output_type": "stream",
     "text": [
      "13\n"
     ]
    }
   ],
   "source": [
    "def fibonacci(N):\n",
    "    if N == 0 or N == 1:\n",
    "        return N\n",
    "    else:\n",
    "        return fibonacci(N-1) + fibonacci(N-2)\n",
    "    \n",
    "print(fibonacci(7))"
   ]
  },
  {
   "cell_type": "markdown",
   "metadata": {},
   "source": [
    "The following recursive calls are made:  \n",
    "![Call Tree](https://i.imgur.com/RUMZX90.png)  \n",
    "\n",
    "We can see that a number of calls are duplicate. Like we are calling `recursive(2)` three times. The time complexity in this case is $O(2^n)$. Dynamic programming can be helpful in this situation where we have *overlapping subproblems* and we can divide the problem into smaller problems which can then be consolidated to get the result. Many problems involving combinatorics or optimisation (minimising/ maximising) can be solved using dynamic programming.  \n",
    "\n",
    "The fibonacci series can be solved by:"
   ]
  },
  {
   "cell_type": "code",
   "execution_count": 1,
   "metadata": {},
   "outputs": [
    {
     "name": "stdout",
     "output_type": "stream",
     "text": [
      "13\n"
     ]
    }
   ],
   "source": [
    "# Bottom up approach, can be more efficient\n",
    "def fibonacci(N):\n",
    "    if N == 0 or N == 1:\n",
    "        return N\n",
    "    else:\n",
    "        dp = [0, 1]\n",
    "        for i in range(2, N+1):\n",
    "            sum = dp[0] + dp[1]\n",
    "            dp[0] = dp[1]\n",
    "            dp[1] = sum\n",
    "    \n",
    "    return dp[1]\n",
    "    \n",
    "print(fibonacci(7))"
   ]
  },
  {
   "cell_type": "markdown",
   "metadata": {},
   "source": [
    "The above solution is $O(n)$ time complexity as well as $O(1)$ space complexity. We can have two approaches with dynamic programming:\n",
    "- Bottom up, where we go from the smallest subproblem to the problem asked. It is iterative in approach. For example, the above fibonacci program.\n",
    "- Top down, where we go from the problem asked to the smallest subproblem and then back up. It is called memoisation and involves recursion."
   ]
  },
  {
   "cell_type": "code",
   "execution_count": 4,
   "metadata": {},
   "outputs": [
    {
     "name": "stdout",
     "output_type": "stream",
     "text": [
      "13\n"
     ]
    }
   ],
   "source": [
    "# Top down approach, needs more memory\n",
    "def fibonacci(N):    \n",
    "    def recurse(N, dp):\n",
    "        if N > len(dp) - 1:\n",
    "            dp.append(recurse(N-1, dp) + recurse(N-2, dp))\n",
    "\n",
    "        return dp[N]\n",
    "    return recurse(N, [0,1])\n",
    "    \n",
    "print(fibonacci(7))"
   ]
  },
  {
   "cell_type": "markdown",
   "metadata": {},
   "source": [
    "The time complexity of dynamic programming approach can be found by finding the number of unique states and multiplying it with the time complexity of each state."
   ]
  },
  {
   "cell_type": "markdown",
   "metadata": {},
   "source": [
    "**Q 1** Starting at the bottom of a staircase at level 1, how many ways are there to reach level $N$ if we can take steps of size 1 or 2?  \n",
    "**Answer** If we have to list down the steps, we can use backtracking. However, here we just want the count, therefore we can use dynamic programming. We can start from level 1 and climb towards level $N$.  \n",
    "At each level $i$, we would have come from level $i-1$ or $i-2$. We thus have the relation $f(i) = f(i-1) + f(i-2)$. Also going from level 1 to level $N$ is the same as going from level $N$ to level 1."
   ]
  },
  {
   "cell_type": "code",
   "execution_count": 7,
   "metadata": {},
   "outputs": [
    {
     "name": "stdout",
     "output_type": "stream",
     "text": [
      "5\n"
     ]
    }
   ],
   "source": [
    "def ways(N):\n",
    "    # One way to reach 1 from 1\n",
    "    # One way to reach 1 from 2\n",
    "    if N == 1 or N == 2:\n",
    "        return 1\n",
    "    \n",
    "    dp = [1, 1]   \n",
    "    for i in range(3, N+1):\n",
    "        s = dp[0] + dp[1]\n",
    "        dp[0] = dp[1]\n",
    "        dp[1] = s\n",
    "        \n",
    "    return dp[1]\n",
    "\n",
    "print(ways(5))"
   ]
  },
  {
   "cell_type": "markdown",
   "metadata": {},
   "source": [
    "What if we want to know the number of steps in the way with minimum number of steps? In that case we make use of this relation: $f(i) = 1 + min(f(i-1), f(i-2))$"
   ]
  },
  {
   "cell_type": "code",
   "execution_count": 3,
   "metadata": {},
   "outputs": [
    {
     "name": "stdout",
     "output_type": "stream",
     "text": [
      "2\n"
     ]
    }
   ],
   "source": [
    "def ways_min_steps(N):\n",
    "    # Already on 1, return 0 ways\n",
    "    if N == 1:\n",
    "        return 0\n",
    "    \n",
    "    # If we are level 2, we can reach it in 1 step from level 1\n",
    "    if N == 2:\n",
    "        return 1\n",
    "    \n",
    "    dp = [0, 1]\n",
    "    for i in range(3, N+1):\n",
    "        s = 1 + min(dp[0], dp[1])\n",
    "        dp[0] = dp[1]\n",
    "        dp[1] = s\n",
    "        \n",
    "    return dp[1]\n",
    "\n",
    "print(ways_min_steps(5))"
   ]
  },
  {
   "cell_type": "markdown",
   "metadata": {},
   "source": [
    "**Q 2** $N$ people want to go for a party. Each person can enter alone or as a pair. How many ways are there to enter the party?  \n",
    "**Answer** For each $i$th person, we make a choice, whether he goes alone or as a pair. If he goes alone, there are $f(i-1)$ ways. If he pairs up, there are $(i-1)f(i-2)$ ways. $(i-1)$ is the total number of choices available for the pairing person. So we have the following relation: $f(i) = f(i-1) + (i-1)f(i-2)$"
   ]
  },
  {
   "cell_type": "code",
   "execution_count": 31,
   "metadata": {},
   "outputs": [
    {
     "name": "stdout",
     "output_type": "stream",
     "text": [
      "10\n",
      "211799312\n"
     ]
    }
   ],
   "source": [
    "def party(N):\n",
    "    if N == 1 or N == 2:\n",
    "        return N\n",
    "    \n",
    "    dp = [1, 2]\n",
    "    for i in range(3, N+1):\n",
    "        ways = dp[1] + (i-1)*dp[0]\n",
    "        dp[0] = dp[1]\n",
    "        dp[1] = ways\n",
    "        \n",
    "    return dp[1]\n",
    "\n",
    "print(party(4))\n",
    "print(party(17))"
   ]
  },
  {
   "cell_type": "markdown",
   "metadata": {},
   "source": [
    "**Q 3** There are $N$ houses represented by an array $A$. $A[i]$ represents the money in the $i$th house. If the robber robs $i$th house, he cannot rob $i-1$ and $i+1$th house. What is the maximum amount of money the robber can rob? For example, `[2, 7, 9, 3, 1]` the maximum amount robbed is 12.  \n",
    "**Answer** We start from the 0th house and move towards the $N$th house. For the $i$th house, we make a choice - rob it or not. We get the following relation $f(i) = max(A[i] + f(i-2), f(i-1))$"
   ]
  },
  {
   "cell_type": "code",
   "execution_count": 9,
   "metadata": {},
   "outputs": [
    {
     "name": "stdout",
     "output_type": "stream",
     "text": [
      "12\n"
     ]
    }
   ],
   "source": [
    "def rob(houses):\n",
    "    # Make use of the same array as dp array\n",
    "    houses[1] = max(houses[0], houses[1])\n",
    "    for i in range(2, len(houses)):\n",
    "        houses[i] = max(houses[i] + houses[i-2], houses[i-1])\n",
    "        \n",
    "    return houses[-1]\n",
    "\n",
    "print(rob([2, 7, 9, 3, 1]))"
   ]
  },
  {
   "cell_type": "markdown",
   "metadata": {},
   "source": [
    "**Q 4** Given a value $N$, if we want to make change for $N$ cents, and we have infinite supply of each of $S = { S_1, S_2, .. , S_m}$ valued coins, how many ways can we make the change?  \n",
    "**Answer:** In this case we can take $j$th coin denomination and mark what all cents it can form."
   ]
  },
  {
   "cell_type": "code",
   "execution_count": 1,
   "metadata": {},
   "outputs": [
    {
     "name": "stdout",
     "output_type": "stream",
     "text": [
      "4\n"
     ]
    }
   ],
   "source": [
    "def coin_change(N, S):\n",
    "    dp = [0] * (N+1)\n",
    "    dp[0] = 1\n",
    "        \n",
    "    for i in range(len(S)):\n",
    "        for j in range(S[i], N+1):\n",
    "            if j - S[i] >= 0:\n",
    "                dp[j] += dp[j-S[i]]\n",
    "                \n",
    "    return dp[N]\n",
    "\n",
    "S = [1,2,3]\n",
    "N = 4\n",
    "\n",
    "print(coin_change(N, S))"
   ]
  },
  {
   "cell_type": "markdown",
   "metadata": {},
   "source": [
    "**Q 6** Given a value $N$, if we want to make change for 𝑁 cents, and we have infinite supply of each of $S = { S_1, S_2, .. , S_m}$ valued coins, what is the least number of coins we can use? Return -1 if the value cannot be formed.  \n",
    "**Answer** For every coin denomination available to reach the same value as the coin denomination we need 1 coin. Again, we can see the following relation $f(i) = 1 + min(f(i-S[0]), f(i-S[1], f(i-S[2]), ...)$ "
   ]
  },
  {
   "cell_type": "code",
   "execution_count": 4,
   "metadata": {},
   "outputs": [
    {
     "name": "stdout",
     "output_type": "stream",
     "text": [
      "2\n",
      "2\n",
      "-1\n"
     ]
    }
   ],
   "source": [
    "import sys\n",
    "def min_coin_change(N, S):\n",
    "    if N == 0:\n",
    "        return 0\n",
    "    \n",
    "    dp = [sys.maxsize] * (N+1)\n",
    "    dp[0] = 0\n",
    "        \n",
    "    for i in range(len(S)):\n",
    "        for j in range(S[i], N+1):\n",
    "            dp[j] = min(dp[j], 1 + dp[j - S[i]])\n",
    "        \n",
    "    return dp[N] if dp[N] != sys.maxsize else -1\n",
    "\n",
    "S = [25, 10, 5]\n",
    "N = 30\n",
    "print(min_coin_change(N, S))\n",
    "\n",
    "S = [9, 6, 5, 1]\n",
    "N = 11\n",
    "print(min_coin_change(N, S))\n",
    "\n",
    "S = [2]\n",
    "N = 3\n",
    "print(min_coin_change(N, S))"
   ]
  },
  {
   "cell_type": "markdown",
   "metadata": {},
   "source": [
    "**Q 7** A message containing letters from A-Z is being encoded to numbers using the following mapping: `A:1, B:2, C:3,..., Z:26`. Given a number how many messages can it form? For example 22 can form 'BB' and 'V', 2 words.  \n",
    "**Answer** For $i$th digit, we make a choice - should be consider it alone or should we club it with the next letter (if it is possible)."
   ]
  },
  {
   "cell_type": "code",
   "execution_count": 5,
   "metadata": {},
   "outputs": [
    {
     "name": "stdout",
     "output_type": "stream",
     "text": [
      "3\n",
      "1\n"
     ]
    }
   ],
   "source": [
    "def decode_ways(encoded_msg):\n",
    "    if encoded_msg == '0':\n",
    "        return 0\n",
    "    \n",
    "    dp = [0] * (len(encoded_msg) + 1)\n",
    "\n",
    "    # dp[0] doesn't represent any character, it is there to facilitate\n",
    "    # counting dp[2]\n",
    "    dp[0] = 1\n",
    "    # dp[1] represents the first character of the encoded message\n",
    "    dp[1] = 1\n",
    "\n",
    "    for i in range(2, len(dp)):\n",
    "        # ith digit considered alone\n",
    "        if int(encoded_msg[i-1]) > 0:\n",
    "            dp[i] = dp[i-1]\n",
    "\n",
    "        # To be able to club together with previous digit\n",
    "        if int(encoded_msg[i-2]) == 1 or (int(encoded_msg[i-2]) == 2 and int(encoded_msg[i-1]) <= 6):\n",
    "            dp[i] += dp[i-2]\n",
    "\n",
    "    return dp[-1]\n",
    "\n",
    "print(decode_ways('226'))\n",
    "print(decode_ways('206'))"
   ]
  },
  {
   "cell_type": "markdown",
   "metadata": {},
   "source": [
    "**Q 8** Given an array $A$ of integers, find the length of the longest increasing subsequence. For example, if we take the array `[10, 1, 3, 9, 4, 5 ,11, 7]`, we have two longest increasing subsequences: `[1,3,4,5,11]` or `[1,3,4,5,7]` both having length 7.  \n",
    "**Answer** Consider an array with only one integer. The answer would be 1. What we want is a dp array where the $i$th element denotes the maximum length of subsequence with `A[i]` as the last integer."
   ]
  },
  {
   "cell_type": "code",
   "execution_count": 24,
   "metadata": {},
   "outputs": [
    {
     "name": "stdout",
     "output_type": "stream",
     "text": [
      "5\n",
      "4\n"
     ]
    }
   ],
   "source": [
    "def longest_incr_subsequence(A):\n",
    "    dp = [1] * len(A)\n",
    "    dp[0] = 1\n",
    "    \n",
    "    for i in range(1, len(A)):\n",
    "        for j in range(0, i):\n",
    "            if A[i] > A[j]:\n",
    "                dp[i] = max(dp[i], 1 + dp[j])\n",
    "                \n",
    "    return max(dp)\n",
    "\n",
    "A = [10, 1, 3, 9, 4, 5 ,11, 7]\n",
    "print(longest_incr_subsequence(A))\n",
    "\n",
    "A = [10, 20, 30, 5, 6, 8, 9, 1]\n",
    "print(longest_incr_subsequence(A))"
   ]
  },
  {
   "cell_type": "markdown",
   "metadata": {},
   "source": [
    "**Q 9** Given an array containing integers, return the sum of the contiguous array having maximum sum  \n",
    "**Answer** This can be solved without using dynamic programming by:"
   ]
  },
  {
   "cell_type": "code",
   "execution_count": null,
   "metadata": {},
   "outputs": [],
   "source": [
    "def max_subarray(A):\n",
    "        current_sum = A[0]\n",
    "        maximum = A[0]\n",
    "        \n",
    "        for i in range(1, len(A)):\n",
    "            if A[i] + current_sum < A[i]:\n",
    "                current_sum = A[i]\n",
    "            else:\n",
    "                current_sum += A[i]\n",
    "                \n",
    "            if current_sum > maximum:\n",
    "                maximum = current_sum\n",
    "                \n",
    "        return maximum\n",
    "    \n",
    "print(max_subarray([-2, 1, -3, 4, -1, 2, 1, -5, 4]))"
   ]
  },
  {
   "cell_type": "markdown",
   "metadata": {},
   "source": [
    "For the dynamic programming based solution, we create a dp array where the $i$th element represents subarray ending at that element and the value `dp[i]` is the maximum sum."
   ]
  },
  {
   "cell_type": "code",
   "execution_count": 41,
   "metadata": {},
   "outputs": [
    {
     "name": "stdout",
     "output_type": "stream",
     "text": [
      "6\n"
     ]
    }
   ],
   "source": [
    "def max_subarray(A):\n",
    "    dp = [0] * len(A)\n",
    "    dp[0] = A[0]\n",
    "\n",
    "    for i in range(1, len(A)):\n",
    "        dp[i] = max(A[i], A[i] + dp[i-1])\n",
    "\n",
    "    return max(dp)\n",
    "    \n",
    "print(max_subarray([-2, 1, -3, 4, -1, 2, 1, -5, 4]))"
   ]
  },
  {
   "cell_type": "markdown",
   "metadata": {},
   "source": [
    "**Q 10** Given an $M \\times N$ array where from a cell we can either move right or down. Find the number of ways to reach the bottom right corner starting from the top left corner.  \n",
    "**Answer** We can solve this without using dynamic programming by the following expression $= \\frac{(M-1 + N-1)!}{(M-1)!(N-1)!}$  \n",
    "In order to solve the same using dynamic programming, suppose we start from the bottom right corner and move to the top left corner. We will make the following calls (in a 3x3 matrix):  \n",
    "![Call Tree](https://i.imgur.com/6ZEVliW.png)  \n",
    "\n",
    "For a bottom up version we can start at 0,0 and move in valid directions. For this we make use of a 2d dp array."
   ]
  },
  {
   "cell_type": "code",
   "execution_count": 43,
   "metadata": {},
   "outputs": [
    {
     "name": "stdout",
     "output_type": "stream",
     "text": [
      "6\n"
     ]
    }
   ],
   "source": [
    "def matrix_traversal(M, N):    \n",
    "    dp = [[0 for i in range(N)] for j in range(M)]\n",
    "    dp[0][0] = 1\n",
    "    \n",
    "    for i in range(M):\n",
    "        for j in range(N):\n",
    "            if j + 1 < N:\n",
    "                dp[i][j+1] += dp[i][j]\n",
    "            if i + 1 < M:\n",
    "                dp[i+1][j] += dp[i][j]\n",
    "                \n",
    "    return dp[M-1][N-1]\n",
    "\n",
    "print(matrix_traversal(3,3))"
   ]
  },
  {
   "cell_type": "markdown",
   "metadata": {},
   "source": [
    "Both space and time complexity is $O(n^2)$. However we can reduce the space complexity. Consider the following image:  \n",
    "![Required size](https://i.imgur.com/DxLwv8p.png)  \n",
    "\n",
    "The size required is 2xN."
   ]
  },
  {
   "cell_type": "code",
   "execution_count": 49,
   "metadata": {},
   "outputs": [
    {
     "name": "stdout",
     "output_type": "stream",
     "text": [
      "6\n"
     ]
    }
   ],
   "source": [
    "def matrix_traversal(M, N):\n",
    "    dp = [[0 for i in range(N)] for j in range(2)]\n",
    "    dp[0][0] = 1\n",
    "\n",
    "    for i in range(M):\n",
    "        for j in range(N):\n",
    "            if j + 1 < N:\n",
    "                dp[0][j+1] += dp[0][j]\n",
    "            if i + 1 < M:\n",
    "                dp[1][j] += dp[0][j]\n",
    "        # Copy over the second row to the first row\n",
    "        # Except when it is the last row\n",
    "        if i != M-1:\n",
    "            for j in range(M):\n",
    "                dp[0][j] = dp[1][j]\n",
    "                dp[1][j] = 0\n",
    "\n",
    "    return dp[0][N-1]\n",
    "\n",
    "\n",
    "print(matrix_traversal(3, 3))"
   ]
  },
  {
   "cell_type": "markdown",
   "metadata": {},
   "source": [
    "If we have matrix where some cells are blocked, in the dp array we can give a value of zero for the corresponding blocked cell.  \n",
    "What if we have different values for different cells and we have to give the sum of the path having the maximum sum? For example:\n",
    "\n",
    "![Desired path](https://i.imgur.com/gMZHjiJ.png)  \n",
    "\n",
    "We have the following relation $f(m,n) = A[m][n] + max(f(m-1,n), f(m, n-1))$"
   ]
  },
  {
   "cell_type": "code",
   "execution_count": 51,
   "metadata": {},
   "outputs": [
    {
     "name": "stdout",
     "output_type": "stream",
     "text": [
      "16\n"
     ]
    }
   ],
   "source": [
    "import sys\n",
    "def max_sum_path(A):\n",
    "    M = len(A)\n",
    "    N = len(A[0])\n",
    "    \n",
    "    dp = [[0 for i in range(N)] for j in range(M)]\n",
    "    dp[0][0] = A[0][0]\n",
    "    \n",
    "    for i in range(M):\n",
    "        for j in range(N):\n",
    "            a = b = -(sys.maxsize)\n",
    "            if j - 1 >= 0:\n",
    "                a = dp[i][j-1]\n",
    "            if i - 1 >= 0:\n",
    "                b = dp[i-1][j]\n",
    "                \n",
    "            if i == 0 and j == 0:\n",
    "                continue\n",
    "            dp[i][j] = A[i][j] + max(a, b)\n",
    "                \n",
    "    return dp[M-1][N-1]\n",
    "\n",
    "A = [\n",
    "    [1,1,10],\n",
    "    [1,2,3],\n",
    "    [2,4,1]\n",
    "]\n",
    "print(max_sum_path(A))"
   ]
  },
  {
   "cell_type": "markdown",
   "metadata": {},
   "source": [
    "Again in this case too, we can make use of an 2xN matrix"
   ]
  },
  {
   "cell_type": "code",
   "execution_count": 54,
   "metadata": {},
   "outputs": [
    {
     "name": "stdout",
     "output_type": "stream",
     "text": [
      "16\n"
     ]
    }
   ],
   "source": [
    "def max_sum_path(A):\n",
    "    M = len(A)\n",
    "    N = len(A[0])\n",
    "\n",
    "    dp = [[0 for i in range(N)] for j in range(2)]\n",
    "    dp[1][0] = A[0][0]\n",
    "\n",
    "    for i in range(M):\n",
    "        for j in range(N):\n",
    "            a = b = -(sys.maxsize)\n",
    "            if j - 1 >= 0:\n",
    "                a = dp[1][j-1]\n",
    "            if i - 1 >= 0:\n",
    "                b = dp[0][j]\n",
    "\n",
    "            if i == 0 and j == 0:\n",
    "                continue\n",
    "            dp[1][j] = A[i][j] + max(a, b)\n",
    "\n",
    "        # Copy bottom row to top row\n",
    "        if i != M-1:\n",
    "            for j in range(M):\n",
    "                dp[0][j] = dp[1][j]\n",
    "                dp[1][j] = 0\n",
    "\n",
    "    return dp[1][N-1]\n",
    "\n",
    "A = [\n",
    "    [1,1,10],\n",
    "    [1,2,3],\n",
    "    [2,4,1]\n",
    "]\n",
    "print(max_sum_path(A))"
   ]
  },
  {
   "cell_type": "markdown",
   "metadata": {},
   "source": [
    "**Q 11** Given 2 strings $S_1$ and $S_2$, we can do some operations on $S_1$. Find the minimum number of operations required to convert $S_1$ into $S_2$. The operation can be 1) Insert any character 2) Remove any character 3) Replace any character  \n",
    "**Answer** We start from the end of string and compare characters. Let us take example of string 1 being SUNDAY and string 2 being SATURDAY.  \n",
    "<img src=\"https://i.imgur.com/CqwAFrR.jpg\" width=\"700\" height=\"auto\">"
   ]
  },
  {
   "cell_type": "markdown",
   "metadata": {},
   "source": [
    "Amongst the Insert/ Replace/ Delete operations, we have to select the one with minimum operations. We arrive at the following relation: \n",
    "\n",
    "$$\\begin{equation}\n",
    "  f(S_1, S_2, n, m) =\n",
    "    \\begin{cases}\n",
    "      f(S_1, S_2, n-1, m-1) & \\text{if $S_1$[n] == $S_2$[m]}\\\\\n",
    "        \\mathcal{1 + min}\\left\\{\n",
    "        \\begin{array}{l}\n",
    "        f(S_1, S_2, n-1, m-1)\\\\\n",
    "        f(S_1, S_2, n-1, m)\\\\\n",
    "        f(S_1, S_2, n, m-1)\\\\\n",
    "        \\end{array}\n",
    "        \\right\\}\\ \\ \\ \\ \\ \\ \\ \\text{if $S_1$[n] $\\neq$ $S_2$[m]}\n",
    "    \\end{cases}       \n",
    "\\end{equation}$$"
   ]
  },
  {
   "cell_type": "markdown",
   "metadata": {},
   "source": [
    "We make use of a 2D dp array:  \n",
    "![Edit Distance](https://i.imgur.com/w7uIea1.png)"
   ]
  },
  {
   "cell_type": "code",
   "execution_count": 57,
   "metadata": {},
   "outputs": [
    {
     "name": "stdout",
     "output_type": "stream",
     "text": [
      "3\n"
     ]
    }
   ],
   "source": [
    "def min_operations(s1, s2):\n",
    "    n = len(s1)\n",
    "    m = len(s2)\n",
    "    \n",
    "    # Create the dp array\n",
    "    dp = [[0 for i in range(m+1)] for j in range(n+1)]\n",
    "    \n",
    "    # Fill the array\n",
    "    for i in range(n+1):\n",
    "        for j in range(m+1):\n",
    "            if i == 0:\n",
    "                dp[i][j] = j\n",
    "            elif j == 0:\n",
    "                dp[i][j] = i                \n",
    "            elif s1[i-1] == s2[j-1]:\n",
    "                dp[i][j] = dp[i-1][j-1]\n",
    "            else:\n",
    "                dp[i][j] = 1 + min(dp[i][j-1],        # Insert\n",
    "                                   dp[i-1][j],        # Remove\n",
    "                                   dp[i-1][j-1])      # Delete\n",
    "                \n",
    "    return dp[n][m]\n",
    "\n",
    "print(min_operations('SUNDAY', 'SATURDAY'))"
   ]
  },
  {
   "cell_type": "markdown",
   "metadata": {},
   "source": [
    "**Q 12** Given two strings return the length of the longest common subsequence. For example in the strings `YXXTYB` and `XGTGYZB`, `XTYB` is the longest common subsequence having length 4.  \n",
    "**Answer** Call tree:  \n",
    "<img src=\"https://i.imgur.com/NM3ya5t.jpg\" width=\"650\" height=\"auto\">"
   ]
  },
  {
   "cell_type": "markdown",
   "metadata": {},
   "source": [
    "We have the following relation: \n",
    "\n",
    "$$\\begin{equation}\n",
    "  f(S_1, S_2, n, m) =\n",
    "    \\begin{cases}\n",
    "      1 + f(S_1, S_2, n-1, m-1) & \\text{if $S_1$[n] == $S_2$[m]}\\\\\n",
    "        \\mathcal{max}\\left\\{\n",
    "        \\begin{array}{l}\n",
    "        f(S_1, S_2, n-1, m)\\\\\n",
    "        f(S_1, S_2, n, m-1)\\\\\n",
    "        \\end{array}\n",
    "        \\right\\}\\ \\ \\ \\ \\ \\ \\ \\text{if $S_1$[n] $\\neq$ $S_2$[m]}\n",
    "    \\end{cases}       \n",
    "\\end{equation}$$"
   ]
  },
  {
   "cell_type": "markdown",
   "metadata": {},
   "source": [
    "![DP Array](https://i.imgur.com/K4voJHD.png)"
   ]
  },
  {
   "cell_type": "code",
   "execution_count": 5,
   "metadata": {},
   "outputs": [
    {
     "name": "stdout",
     "output_type": "stream",
     "text": [
      "4\n"
     ]
    }
   ],
   "source": [
    "def longest_common_subsequence(s1, s2):\n",
    "    n = len(s1)\n",
    "    m = len(s2)\n",
    "    \n",
    "    # Create the dp array\n",
    "    dp = [[0 for i in range(m+1)] for j in range(n+1)]\n",
    "    \n",
    "    # Fill the array\n",
    "    for i in range(1, n+1):\n",
    "        for j in range(1, m+1):                \n",
    "            if s1[i-1] == s2[j-1]:\n",
    "                dp[i][j] = 1 + dp[i-1][j-1]\n",
    "            else:\n",
    "                dp[i][j] = max(dp[i][j-1], dp[i-1][j])\n",
    "                \n",
    "    return dp[n][m]\n",
    "\n",
    "print(longest_common_subsequence('YXXTYB', 'XGTGYZB'))"
   ]
  },
  {
   "cell_type": "markdown",
   "metadata": {},
   "source": [
    "**Q 13** Find the minimum number of cuts required such that each individual partition of the string is a palindrome. For example, if the input string is `ABAC` we need just one partition: `ABA|C`.  \n",
    "**Answer** Let us consider the dp array where `dp[i]` represents minimum cuts required for string ending at `i`. Consider the image below:  \n",
    "![Partition](https://i.imgur.com/c22MCjd.png)  \n",
    "\n",
    "Also, we should be able to quickly tell whether `string[a:b+1]` is a palindrome or not. For this we we create a 2d matrix $M$. Where a cell `M[i][j]` is true if the `string[i:j+1]` is a palindrome. So we can deduce that\n",
    "- `M[i][i]` will always be true\n",
    "- if `abs(j-i) == 1` then compare both characters to see if palindrome or not\n",
    "- Else, `M[i][j]` is palindrome if `string[i] == string[j]` and `M[i+1][j-1] == True`"
   ]
  },
  {
   "cell_type": "code",
   "execution_count": 16,
   "metadata": {},
   "outputs": [
    {
     "data": {
      "text/plain": [
       "True"
      ]
     },
     "execution_count": 16,
     "metadata": {},
     "output_type": "execute_result"
    }
   ],
   "source": [
    "def palindrome_matrix(A):\n",
    "    M = [[False for i in range(len(A))] for j in range(len(A))]\n",
    "\n",
    "    i = len(A) - 1\n",
    "    while i >= 0:\n",
    "        j = i\n",
    "        while j < len(A):\n",
    "            if i == j:\n",
    "                M[i][j] = True\n",
    "            elif A[i] == A[j]:\n",
    "                M[i][j] = True if (j-i) == 1 else M[i+1][j-1]\n",
    "            j += 1\n",
    "        i -= 1\n",
    "\n",
    "    return M\n",
    "\n",
    "M = palindrome_matrix('ABACC')\n",
    "M[3][4]"
   ]
  },
  {
   "cell_type": "code",
   "execution_count": 17,
   "metadata": {},
   "outputs": [
    {
     "name": "stdout",
     "output_type": "stream",
     "text": [
      "2\n",
      "0\n"
     ]
    }
   ],
   "source": [
    "def slice(A):\n",
    "    M = palindrome_matrix(A)\n",
    "\n",
    "    import sys\n",
    "    dp = [sys.maxsize] * len(A)\n",
    "\n",
    "    for i in range(len(A)):\n",
    "        if M[0][i]:\n",
    "            dp[i] = 0\n",
    "        else:\n",
    "            for j in range(i+1):\n",
    "                if M[j][i]:\n",
    "                    dp[i] = min(dp[i], dp[j-1])\n",
    "            dp[i] += 1\n",
    "\n",
    "    return dp[-1]\n",
    "\n",
    "print(slice('ABACCA'))\n",
    "print(slice('A'))"
   ]
  },
  {
   "cell_type": "markdown",
   "metadata": {},
   "source": [
    "**Q 14** A 2D array contains power ups (+ve values) or damage (-ve value). With what minimum HP the knight should start at the top left corner to reach the bottom right corner without his health going to zero (or below zero) even once?  \n",
    "**Answer** Consider the example below:\n",
    "![Example](https://i.imgur.com/YMMFfJP.png)"
   ]
  },
  {
   "cell_type": "code",
   "execution_count": 25,
   "metadata": {},
   "outputs": [
    {
     "name": "stdout",
     "output_type": "stream",
     "text": [
      "7\n"
     ]
    }
   ],
   "source": [
    "def min_hp(A):\n",
    "    dp = [[0 for i in range(len(A[0]))] for j in range(len(A))]\n",
    "\n",
    "    # Set the last dp cell\n",
    "    if A[-1][-1] > 0:\n",
    "        dp[-1][-1] = 1\n",
    "    else:\n",
    "        dp[-1][-1] = 1 - A[-1][-1]\n",
    "\n",
    "    i = len(A)-1\n",
    "    while i >= 0:\n",
    "        j = len(A[0])-1\n",
    "        while j >= 0:\n",
    "            if i == len(A)-1 and j == len(A[0])-1:\n",
    "                j -= 1\n",
    "                continue\n",
    "\n",
    "            x1 = sys.maxsize\n",
    "            if j+1 < len(A[0]):\n",
    "                if A[i][j] > dp[i][j+1]:\n",
    "                    x1 = 1\n",
    "                else:\n",
    "                    x1 = dp[i][j+1] - A[i][j]\n",
    "\n",
    "            x2 = sys.maxsize\n",
    "            if i+1 < len(A):\n",
    "                if A[i][j] > dp[i+1][j]:\n",
    "                    x2 = 1\n",
    "                else:\n",
    "                    x2 = dp[i+1][j] - A[i][j]\n",
    "\n",
    "            dp[i][j] = min(x1, x2)\n",
    "\n",
    "            j -= 1\n",
    "        i -= 1\n",
    "\n",
    "    return dp[0][0]\n",
    "\n",
    "\n",
    "A = [[-2, -3, 3], [-5, -10, 1], [10, 30, -5]]\n",
    "print(min_hp(A))"
   ]
  },
  {
   "cell_type": "markdown",
   "metadata": {},
   "source": [
    "We can reduce the space complexity here by using a smaller dp array (with just 2 rows)"
   ]
  },
  {
   "cell_type": "markdown",
   "metadata": {},
   "source": [
    "**Q 15** Find the longest repeating subsequence in a given string. For example, given string is `abab` then the longest repeating subsequence is `ab`. Similarly if the string is `abc`, the longest repeating subsequence is `v`, blank string.  \n",
    "**Answer** This problem is same as the longest common subsequence problem with condition that when both the characters are same, they shouldn’t be on the same index in the two strings. The two strings in this case will be the same."
   ]
  },
  {
   "cell_type": "code",
   "execution_count": 30,
   "metadata": {},
   "outputs": [
    {
     "name": "stdout",
     "output_type": "stream",
     "text": [
      "1\n",
      "2\n",
      "0\n",
      "2\n"
     ]
    }
   ],
   "source": [
    "def longest_repeating(A):\n",
    "    n = len(A)\n",
    "\n",
    "    # Create the dp array\n",
    "    dp = [[0 for i in range(n+1)] for j in range(n+1)]\n",
    "\n",
    "    # Fill the array\n",
    "    for i in range(1, n+1):\n",
    "        for j in range(1, n+1):                \n",
    "            if A[i-1] == A[j-1] and i != j:\n",
    "                dp[i][j] = 1 + dp[i-1][j-1]\n",
    "            else:\n",
    "                dp[i][j] = max(dp[i][j-1], dp[i-1][j])\n",
    "\n",
    "    return dp[n][n]\n",
    "\n",
    "print(longest_repeating('ABBA'))\n",
    "print(longest_repeating('ABAB'))\n",
    "print(longest_repeating('ABC'))\n",
    "print(longest_repeating('AXXXB'))"
   ]
  },
  {
   "cell_type": "markdown",
   "metadata": {},
   "source": [
    "Top-down solution:  \n",
    "![Reapeating subsequence](https://i.imgur.com/lAK39u3.png)"
   ]
  },
  {
   "cell_type": "code",
   "execution_count": 22,
   "metadata": {},
   "outputs": [
    {
     "name": "stdout",
     "output_type": "stream",
     "text": [
      "1\n",
      "2\n",
      "0\n",
      "2\n"
     ]
    }
   ],
   "source": [
    "def longest_repeating(A, i, j, dp):\n",
    "    if i == len(A) or j == len(A):\n",
    "        return 0\n",
    "    \n",
    "    if dp[i][j] != None:\n",
    "        return dp[i][j]\n",
    "    elif A[i] == A[j] and i == j:\n",
    "        l = max(longest_repeating(A, i, j+1, dp), longest_repeating(A, i+1, j, dp))\n",
    "        dp[i][j] = l\n",
    "        return l\n",
    "    elif A[i] == A[j] and i != j:\n",
    "        l = 1 + longest_repeating(A, i+1, j+1, dp)\n",
    "        dp[i][j] = l\n",
    "        return l\n",
    "    else:\n",
    "        l = max(longest_repeating(A, i, j+1, dp), longest_repeating(A, i+1, j, dp))\n",
    "        dp[i][j] = l\n",
    "        return l\n",
    "\n",
    "A = 'ABBA'\n",
    "dp = [[None for i in range(len(A))] for j in range(len(A))]\n",
    "print(longest_repeating(A, 0, 0, dp))\n",
    "\n",
    "A = 'ABAB'\n",
    "dp = [[None for i in range(len(A))] for j in range(len(A))]\n",
    "print(longest_repeating(A, 0, 0, dp))\n",
    "\n",
    "A = 'ABC'\n",
    "dp = [[None for i in range(len(A))] for j in range(len(A))]\n",
    "print(longest_repeating(A, 0, 0, dp))\n",
    "\n",
    "A = 'AXXXB'\n",
    "dp = [[None for i in range(len(A))] for j in range(len(A))]\n",
    "print(longest_repeating(A, 0, 0, dp))"
   ]
  },
  {
   "cell_type": "markdown",
   "metadata": {},
   "source": [
    "**Q 16** Given two strings, $A$ and $B$, return the number of subsequences of $A$ equal to $B$. For example, if the first string is `RABBBIT` and the second string is `RABBIT`, then the answer is 3 because the second string can be formed by removing any of the three Bs from the first string.  \n",
    "**Answer:** We arrive at the following relation:\n",
    "$$\\begin{equation}\n",
    "  f(S_1, S_2, n, m) =\n",
    "    \\begin{cases}\n",
    "      f(S_1, S_2, n-1, m-1) + f(S_1, S_2, n-1, m) & \\text{if $S_1$[n] = $S_2$[m]}\\\\\n",
    "      f(S_1, S_2, n-1, m) & \\text{if $S_1$[n] $\\neq$ $S_2$[m]}\\\\ \n",
    "    \\end{cases}       \n",
    "\\end{equation}$$\n",
    "\n",
    "So from the example above:  \n",
    "![Distinct Subsequence](https://i.imgur.com/Yo6EYjk.png)"
   ]
  },
  {
   "cell_type": "code",
   "execution_count": 17,
   "metadata": {},
   "outputs": [
    {
     "name": "stdout",
     "output_type": "stream",
     "text": [
      "3\n",
      "1\n"
     ]
    }
   ],
   "source": [
    "def distinct_subsequence(s1, s2):\n",
    "    n = len(s1)\n",
    "    m = len(s2)\n",
    "    \n",
    "    # Create the dp array\n",
    "    dp = [[0 for i in range(m+1)] for j in range(n+1)]\n",
    "    \n",
    "    for i in range(n+1):\n",
    "        for j in range(m+1):\n",
    "            if j == 0:\n",
    "                dp[i][j] = 1\n",
    "            elif i == 0:\n",
    "                dp[i][j] = 0\n",
    "            elif s1[i-1] == s2[j-1]:\n",
    "                dp[i][j] = dp[i-1][j-1] + dp[i-1][j]\n",
    "            else:\n",
    "                dp[i][j] = dp[i-1][j]\n",
    "                \n",
    "    return dp[n][m]\n",
    "\n",
    "print(distinct_subsequence('RABBBIT', 'RABBIT'))\n",
    "print(distinct_subsequence('CLARE', 'LRE'))"
   ]
  },
  {
   "cell_type": "markdown",
   "metadata": {},
   "source": [
    "**Q 17** Given a string, find the length of the longest palindromic subsequence.  \n",
    "**Answer:** This can be found by finding the longest common subsequence between the string and its reverse representation."
   ]
  },
  {
   "cell_type": "code",
   "execution_count": 6,
   "metadata": {},
   "outputs": [
    {
     "name": "stdout",
     "output_type": "stream",
     "text": [
      "4\n",
      "5\n",
      "3\n"
     ]
    }
   ],
   "source": [
    "def longest_palindromic_subsequence(A):\n",
    "    return longest_common_subsequence(A, A[::-1])\n",
    "\n",
    "print(longest_palindromic_subsequence(\"bebeeed\"))\n",
    "print(longest_palindromic_subsequence(\"aedsead\"))\n",
    "print(longest_palindromic_subsequence(\"bxybe\"))"
   ]
  },
  {
   "cell_type": "markdown",
   "metadata": {},
   "source": [
    "The topdown solution is:  \n",
    "![Subsequence](https://i.imgur.com/O4SgugM.png)"
   ]
  },
  {
   "cell_type": "code",
   "execution_count": 16,
   "metadata": {},
   "outputs": [
    {
     "name": "stdout",
     "output_type": "stream",
     "text": [
      "4\n",
      "5\n",
      "3\n"
     ]
    }
   ],
   "source": [
    "def longest_palindromic_subsequence(A, dp):\n",
    "    if len(A) == 0:\n",
    "        return 0\n",
    "    elif len(A) == 1:\n",
    "        return 1\n",
    "    elif dp.get(A, None) != None:\n",
    "        return dp[A]\n",
    "    elif A[0] == A[-1]:\n",
    "        length = 2 + longest_palindromic_subsequence(A[1:-1], dp)\n",
    "        dp[A] = length\n",
    "        return length\n",
    "    else:\n",
    "        length = max(longest_palindromic_subsequence(A[1:], dp), longest_palindromic_subsequence(A[:-1], dp))\n",
    "        dp[A] = length\n",
    "        return length\n",
    "    \n",
    "dp = {}\n",
    "print(longest_palindromic_subsequence(\"bebeeed\", dp))\n",
    "dp = {}\n",
    "print(longest_palindromic_subsequence(\"aedsead\", dp))\n",
    "dp = {}\n",
    "print(longest_palindromic_subsequence(\"bxybe\", dp))"
   ]
  },
  {
   "cell_type": "markdown",
   "metadata": {},
   "source": [
    "**Q 18** Given a string, find the longest palindromic substring in it  \n",
    "**Answer:** We arrive at the following recurrence relationship:  \n",
    "![Recursive calls](https://i.imgur.com/Nv3QvPq.png)"
   ]
  },
  {
   "cell_type": "markdown",
   "metadata": {},
   "source": [
    "We have the following topdown solution:"
   ]
  },
  {
   "cell_type": "code",
   "execution_count": 3,
   "metadata": {},
   "outputs": [
    {
     "name": "stdout",
     "output_type": "stream",
     "text": [
      "3\n"
     ]
    }
   ],
   "source": [
    "def longest_palindromic_substring(A, dp):  \n",
    "    if dp.get(A, None) != None:\n",
    "        return dp[A]\n",
    "    \n",
    "    if len(A) == 1:\n",
    "        return 1\n",
    "    elif is_palindrome(A):\n",
    "        dp[A] = len(A)\n",
    "        return len(A)\n",
    "    else:\n",
    "        return max(longest_palindromic_substring(A[1:], dp), longest_palindromic_substring(A[:-1], dp))\n",
    "    \n",
    "def is_palindrome(A):\n",
    "    return A == ''.join(list(reversed(A)))\n",
    "\n",
    "dp = {}\n",
    "print(longest_palindromic_substring('inbab', dp))"
   ]
  }
 ],
 "metadata": {
  "kernelspec": {
   "display_name": "Python 3",
   "language": "python",
   "name": "python3"
  },
  "language_info": {
   "codemirror_mode": {
    "name": "ipython",
    "version": 3
   },
   "file_extension": ".py",
   "mimetype": "text/x-python",
   "name": "python",
   "nbconvert_exporter": "python",
   "pygments_lexer": "ipython3",
   "version": "3.7.4"
  }
 },
 "nbformat": 4,
 "nbformat_minor": 4
}
