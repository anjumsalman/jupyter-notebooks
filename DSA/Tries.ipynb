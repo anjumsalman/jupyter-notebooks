{
 "cells": [
  {
   "cell_type": "markdown",
   "metadata": {},
   "source": [
    "### Tries\n",
    "Tries are trees used for efficient data retrival. Every node of Trie consists of multiple branches. Each branch represents a possible character of keys. We need to mark the last node of every key as end of word node."
   ]
  },
  {
   "cell_type": "code",
   "execution_count": 23,
   "metadata": {},
   "outputs": [],
   "source": [
    "# Each node in this case, holds a letter\n",
    "class Node:\n",
    "    def __init__(self, data):\n",
    "        self.data = data\n",
    "        # Indicates whether this node represents end of a word\n",
    "        self.eow = False\n",
    "        self.next_node_map = {}"
   ]
  },
  {
   "cell_type": "code",
   "execution_count": 24,
   "metadata": {},
   "outputs": [],
   "source": [
    "def add_word(root, word):\n",
    "    if len(word) == 0:\n",
    "        if root:\n",
    "            root.eow = True\n",
    "            return\n",
    "            \n",
    "    first_letter = word[0]\n",
    "    rest = word[1:]\n",
    "    \n",
    "    if first_letter not in root.next_node_map:\n",
    "        child = Node(first_letter)\n",
    "        root.next_node_map[first_letter] = child\n",
    "        \n",
    "    add_word(root.next_node_map[first_letter], rest)"
   ]
  },
  {
   "cell_type": "code",
   "execution_count": 25,
   "metadata": {},
   "outputs": [],
   "source": [
    "def search_word(root, snip):\n",
    "    if len(snip) == 0:\n",
    "        return True\n",
    "    \n",
    "    first_letter = snip[0]\n",
    "    rest = snip[1:]\n",
    "    \n",
    "    if first_letter not in root.next_node_map:\n",
    "        return False\n",
    "    \n",
    "    child = root.next_node_map[first_letter]\n",
    "    return search_word(child, rest)"
   ]
  },
  {
   "cell_type": "markdown",
   "metadata": {},
   "source": [
    "In case of storing words in a trie, we make the data of the first root node as blank. Lets store some words and then try to search them"
   ]
  },
  {
   "cell_type": "code",
   "execution_count": 30,
   "metadata": {},
   "outputs": [
    {
     "name": "stdout",
     "output_type": "stream",
     "text": [
      "True\n",
      "True\n"
     ]
    }
   ],
   "source": [
    "root = Node('')\n",
    "\n",
    "add_word(root, 'dog')\n",
    "add_word(root, 'dove')\n",
    "add_word(root, 'dome')\n",
    "add_word(root, 'dream')\n",
    "add_word(root, 'eagle')\n",
    "add_word(root, 'ease')\n",
    "\n",
    "print(search_word(root, 'dove'))\n",
    "print(search_word(root, 'dov'))"
   ]
  },
  {
   "cell_type": "markdown",
   "metadata": {},
   "source": [
    "The behaviour which we want however is *autocomplete*. So when we type `do`, we should get results as `dog, dove, dome`. When we type `e`, `eagle` should be returned."
   ]
  },
  {
   "cell_type": "code",
   "execution_count": 31,
   "metadata": {},
   "outputs": [
    {
     "name": "stdout",
     "output_type": "stream",
     "text": [
      "['dog', 'dove', 'dome']\n",
      "['eagle', 'ease']\n"
     ]
    }
   ],
   "source": [
    "def autocomplete(root, snip):\n",
    "    # We first move to the last common node\n",
    "    i = 0\n",
    "    current = root\n",
    "    while(i < len(snip)):\n",
    "        if snip[i] in current.next_node_map:\n",
    "            current = current.next_node_map[snip[i]]\n",
    "        else:\n",
    "            return []\n",
    "        i += 1    \n",
    "    \n",
    "    answer = []\n",
    "    def get_word(root, word):\n",
    "        if root == None:\n",
    "            return\n",
    "        \n",
    "        if root.eow:\n",
    "            answer.append(snip + word)\n",
    "            \n",
    "        for k,v in root.next_node_map.items():\n",
    "            get_word(v, word + k)\n",
    "            \n",
    "    get_word(current, '')\n",
    "    return answer\n",
    "\n",
    "print(autocomplete(root, 'do'))\n",
    "print(autocomplete(root, 'ea'))"
   ]
  },
  {
   "cell_type": "code",
   "execution_count": null,
   "metadata": {},
   "outputs": [],
   "source": []
  }
 ],
 "metadata": {
  "kernelspec": {
   "display_name": "Python 3",
   "language": "python",
   "name": "python3"
  },
  "language_info": {
   "codemirror_mode": {
    "name": "ipython",
    "version": 3
   },
   "file_extension": ".py",
   "mimetype": "text/x-python",
   "name": "python",
   "nbconvert_exporter": "python",
   "pygments_lexer": "ipython3",
   "version": "3.7.4"
  }
 },
 "nbformat": 4,
 "nbformat_minor": 4
}
