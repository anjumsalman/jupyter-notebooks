{
 "cells": [
  {
   "cell_type": "markdown",
   "metadata": {},
   "source": [
    "## Linked List\n",
    "Consists of connected nodes. Each node stores data to be stored and a pointer to the next node in the chain."
   ]
  },
  {
   "cell_type": "markdown",
   "metadata": {},
   "source": [
    "### Simple Implementation"
   ]
  },
  {
   "cell_type": "code",
   "execution_count": 2,
   "metadata": {},
   "outputs": [],
   "source": [
    "class SimpleLinkedList<T> {\n",
    "    private class Node {\n",
    "        public T data;\n",
    "        public Node next;\n",
    "\n",
    "        public Node(T data) {\n",
    "            this.data = data;\n",
    "        }\n",
    "    }\n",
    "\n",
    "    private Node head;\n",
    "    private int occupancy;\n",
    "\n",
    "    public boolean isEmpty() {\n",
    "        return head == null;\n",
    "    }\n",
    "\n",
    "    public void addFirst(T data) {\n",
    "        Node newNode = new Node(data);\n",
    "        if (head == null) {\n",
    "            head = newNode;\n",
    "        } else {\n",
    "            newNode.next = head;\n",
    "            head = newNode;\n",
    "        }\n",
    "\n",
    "        occupancy++;\n",
    "    }\n",
    "\n",
    "    public void addLast(T data) {\n",
    "        Node newNode = new Node(data);\n",
    "        if (head == null) {\n",
    "            head = newNode;\n",
    "        } else {\n",
    "            Node current = head;\n",
    "            while (current.next != null) {\n",
    "                current = current.next;\n",
    "            }\n",
    "\n",
    "            current.next = newNode;\n",
    "        }\n",
    "\n",
    "        occupancy++;\n",
    "    }\n",
    "\n",
    "    // pos == 0 equivalent to addFirst\n",
    "    // pos == occupancy equivalent to addLast\n",
    "    public void insert(T data, int pos) {\n",
    "        if (pos < 0 || pos > occupancy) {\n",
    "            throw new IllegalArgumentException(\"Insertion position beyond acceptable range\");\n",
    "        }\n",
    "\n",
    "        if (pos == 0) {\n",
    "            addFirst(data);\n",
    "            return;\n",
    "        }\n",
    "\n",
    "        int i = 0;\n",
    "        Node current = head;\n",
    "        while (i < pos - 1) {\n",
    "            current = current.next;\n",
    "            i++;\n",
    "        }\n",
    "\n",
    "        Node newNode = new Node(data);\n",
    "        newNode.next = current.next;\n",
    "        current.next = newNode;\n",
    "    }\n",
    "\n",
    "    public T remove(T data) {\n",
    "        if (head.data.equals(data)) {\n",
    "            head = head.next;\n",
    "            return data;\n",
    "        }\n",
    "\n",
    "        Node current = head;\n",
    "        while (current != null && current.next != null) {\n",
    "            if (current.next.data.equals(data)) {\n",
    "                current.next = current.next.next;\n",
    "                return data;\n",
    "            }\n",
    "\n",
    "            current = current.next;\n",
    "        }\n",
    "\n",
    "        return null;\n",
    "    }\n",
    "}"
   ]
  },
  {
   "cell_type": "markdown",
   "metadata": {},
   "source": [
    "### Java Implementation\n",
    "`LinkedList` class provided by Java is a doubly linked list with facility to add and remove at both ends (deque). It implements both `List` and `Deque` interfaces. Since it implements `List` is provides the following operations:\n",
    "- `size()`\n",
    "- `isEmpty()`\n",
    "- `contains(Object o)`\n",
    "- `add(E e)`: adds an element to the end\n",
    "- `remove(Object o)`: removes first occurance of o  \n",
    "\n",
    "Since it implements `Deque` it provides the following operations:\n",
    "- `addFirst(E e)`\n",
    "- `addLast(E e)`\n",
    "- `removeFirst()`\n",
    "- `removeLast()`\n",
    "- `pollFirst()`\n",
    "- `pollLast()`\n",
    "- `pop()`: same as `removeFirst()`"
   ]
  },
  {
   "cell_type": "markdown",
   "metadata": {},
   "source": [
    "## Arrays vs Linked List\n",
    "1. **Accessing an element:**\n",
    "    1. Arrays : constant time $O(1)$\n",
    "    2. Linked List : $O(n)$\n",
    "2. **Memory Requirement:**\n",
    "    1. Arrays : may have unused memory. May not get memory if really large array is needed.\n",
    "    2. Linked List : no unused space, but extra space required for pointer to next element\n",
    "3. **Inserting element:**\n",
    "    1. Inserting at beginning:\n",
    "        1. Arrays : need to shift elements, $O(n)$\n",
    "        2. Linked List : constant time\n",
    "    2. Inserting at end:\n",
    "        1. Arrays : if the array is not full then constant time taken, else we need to create new array and copy items, $O(n)$\n",
    "        2. Linked List : need to traverse the entire list and then add last node, $O(n)$. If the linked list maintains a tail node, then this operation taked $O(1)$ time.\n",
    "    3. Inserting at nth position:\n",
    "        1. Arrays : $O(n)$\n",
    "        2. Linked List : $O(n)$\n",
    "4. **Deleting element:** same scenarios and time complexity as insertion\n",
    "\n",
    "When we iterate over a linked list or an array the big difference in both the case is related to cache - since in case of LL each node can be scattered anywhere in the memory, there is more chance of cache miss. Arrays are stored in contiguous memory location so if one array item is in cache, the chance of the next item being in cache is also high. \n",
    "\n",
    "Lots of insertions and deletions - use a LinkedList, otherwise stick with Arrays."
   ]
  },
  {
   "cell_type": "markdown",
   "metadata": {},
   "source": [
    "**Q 1:** Reverse a linked list without using extra memory.  \n",
    "**Answer:** We need three pointers: previous, current and forward"
   ]
  },
  {
   "cell_type": "code",
   "execution_count": null,
   "metadata": {
    "tags": []
   },
   "outputs": [],
   "source": [
    "public Node<T> reverseLinkedList(Node<T> head) {\n",
    "    Node<T> previous = null;\n",
    "    Node<T> current = head;\n",
    "    Node<T> next = null; // Do not set it as current.next since current can be null\n",
    "\n",
    "    while (current != null) {\n",
    "        // Set the next node\n",
    "        next = current.next;\n",
    "        // Adjust the next node for the current node\n",
    "        current.next = previous;\n",
    "        // Shift previous and current nodes one step forward\n",
    "        previous = current;\n",
    "        current = next;\n",
    "    }\n",
    "\n",
    "    return previous;\n",
    "}"
   ]
  },
  {
   "cell_type": "markdown",
   "metadata": {},
   "source": [
    "Linked list can also be reversed recursively.\n",
    "1. Divide the list in two parts - first node and rest of the linked list.\n",
    "2. Call reverse for the rest of the linked list.\n",
    "3. Link rest to first.\n",
    "4. Fix head pointer"
   ]
  },
  {
   "cell_type": "code",
   "execution_count": null,
   "metadata": {
    "tags": []
   },
   "outputs": [],
   "source": [
    "public Node<T> reverseLinkedListRec(Node<T> head) {\n",
    "    return reverseLinkedListRec(null, head);\n",
    "}\n",
    "\n",
    "private Node<T> reverseLinkedListRec(Node<T> previous, Node<T> current) {\n",
    "    if (current == null) {\n",
    "        return previous;\n",
    "    } else {\n",
    "        Node<T> next = current.next;\n",
    "        current.next = previous;\n",
    "        return reverseLinkedListRec(current, next);\n",
    "    }\n",
    "}"
   ]
  },
  {
   "cell_type": "markdown",
   "metadata": {},
   "source": [
    "A slight modification to this problem is to reverse all elements after a point. For example `reverse(head, 1)` in a linked list `1->2->3->4->5` should result in `1->5->4->3->2`"
   ]
  },
  {
   "cell_type": "code",
   "execution_count": null,
   "metadata": {
    "tags": []
   },
   "outputs": [],
   "source": [
    "public Node<T> reverseLinkedListAfterK(Node<T> head, int k) {\n",
    "    if(k == 0) {\n",
    "        return reverseLinkedListRec(null, head);\n",
    "    } else {\n",
    "        int i = 0;\n",
    "        Node<T> current = head; // Move to one node before kth node\n",
    "        while(i != k-1) {\n",
    "            i++;\n",
    "            current = current.next;\n",
    "        }\n",
    "\n",
    "        current.next = reverseLinkedListRec(null, current.next);\n",
    "        return head;\n",
    "    }\n",
    "}"
   ]
  },
  {
   "cell_type": "markdown",
   "metadata": {},
   "source": [
    "How to reverse from a to b?"
   ]
  },
  {
   "cell_type": "code",
   "execution_count": 6,
   "metadata": {},
   "outputs": [
    {
     "name": "stdout",
     "output_type": "stream",
     "text": [
      "5 4 3 2 1 "
     ]
    }
   ],
   "source": [
    "def reverse_a_to_b(head, a, b):\n",
    "    # Create the three pointers\n",
    "    previous = None\n",
    "    current = head\n",
    "    forward = None\n",
    "    \n",
    "    i = 1\n",
    "    start = None\n",
    "    rev_start = None\n",
    "    while(i <= b and current != None):\n",
    "        if i < a-1:\n",
    "            current = current.next\n",
    "        elif i == a-1:\n",
    "            start = current\n",
    "            current = current.next\n",
    "            rev_start = current\n",
    "        else:\n",
    "            forward = current.next\n",
    "            current.next = previous\n",
    "            previous = current\n",
    "            current = forward\n",
    "        \n",
    "        i += 1\n",
    "    \n",
    "    if start != None and  rev_start != None:\n",
    "        start.next = previous\n",
    "        rev_start.next = forward\n",
    "    else:\n",
    "        head.next = forward\n",
    "        head = previous\n",
    "    \n",
    "    return head\n",
    "\n",
    "head = Node()\n",
    "head.val = 1\n",
    "node1 = Node()\n",
    "node1.val = 2\n",
    "head.next = node1\n",
    "node2 = Node()\n",
    "node2.val = 3\n",
    "node1.next = node2\n",
    "node3 = Node()\n",
    "node3.val = 4\n",
    "node2.next = node3\n",
    "node4 = Node()\n",
    "node4.val = 5\n",
    "node3.next = node4\n",
    "\n",
    "cur = reverse_a_to_b(head, 1, 5)\n",
    "while(cur != None):\n",
    "    print(str(cur.val), end=\" \")\n",
    "    cur = cur.next"
   ]
  },
  {
   "cell_type": "markdown",
   "metadata": {},
   "source": [
    "**Q 2:** Detect if a linked list has a loop or not?  \n",
    "**Answer:** This problem can be solved by using a set. Add an item to the set whenever you iterate over a new element. If the element you iterate to is already present in the set, then this means that the linked list is cyclic.  \n",
    "Another solution which doesn't use any extra memory is to use two pointers, one fast and another slow."
   ]
  },
  {
   "cell_type": "code",
   "execution_count": 15,
   "metadata": {},
   "outputs": [],
   "source": [
    "public boolean hasCycle(Node<T> head) {\n",
    "    Node<T> slow = head;\n",
    "    Node<T> fast = head;\n",
    "\n",
    "    while (slow != null && fast != null && fast.next != null) {\n",
    "        slow = slow.next;\n",
    "        fast = fast.next.next;\n",
    "\n",
    "        if (slow == fast) {\n",
    "            return true;\n",
    "        }\n",
    "    }\n",
    "\n",
    "    return false;\n",
    "}"
   ]
  },
  {
   "cell_type": "markdown",
   "metadata": {},
   "source": [
    "Why is the faster pointer having speed double of the slower one? Why not any other speed? Any other factor would also work, 2 is the most efficent. Check [StackOverflow answer](https://stackoverflow.com/questions/5130246/why-increase-pointer-by-two-while-finding-loop-in-linked-list-why-not-3-4-5)"
   ]
  },
  {
   "cell_type": "markdown",
   "metadata": {},
   "source": [
    "**Q 3:** Given a head node, iterate to the middle node. You can use only one loop.  \n",
    "**Answer:** We can make use of two pointers one slow and other fast, moving at twice the speed.  "
   ]
  },
  {
   "cell_type": "code",
   "execution_count": null,
   "metadata": {},
   "outputs": [],
   "source": [
    "public Node<T> getMiddleNode(Node<T> head) {\n",
    "    Node<T> slow = head;\n",
    "    Node<T> fast = head;\n",
    "\n",
    "    while (slow != null && fast != null && fast.next != null) {\n",
    "        slow = slow.next;\n",
    "        fast = fast.next.next;\n",
    "    }\n",
    "\n",
    "    return slow;\n",
    "}"
   ]
  },
  {
   "cell_type": "markdown",
   "metadata": {},
   "source": [
    "If the linked list has even number of elements, for example, `1,2,3,4` then this will return `3`, the second middle element. In case of odd number of elements, `1,2,3,4,5`, this will return `3`"
   ]
  },
  {
   "cell_type": "markdown",
   "metadata": {},
   "source": [
    "**Q 4:** Given a linked list, sort it. [LeetCode](https://leetcode.com/problems/sort-list)  \n",
    "**Answer:** Merge sort is the preferred way to sort a linked list"
   ]
  },
  {
   "cell_type": "code",
   "execution_count": null,
   "metadata": {
    "tags": []
   },
   "outputs": [],
   "source": [
    "public Node<Integer> sort(Node<Integer> head) {\n",
    "    // null linked list or linked list with one node is already sorted\n",
    "    if (head == null || head.next == null) {\n",
    "        return head;\n",
    "    }\n",
    "\n",
    "    // Form two separate linked lists divided at the center\n",
    "    Node<Integer> left = head;\n",
    "    Node<Integer> right = head;\n",
    "    Node<Integer> fast = head;\n",
    "    Node<Integer> pre = null; // pre.next would be equal to right at the end of loop\n",
    "    while (right != null && fast != null && fast.next != null) {\n",
    "        right = right.next;\n",
    "        fast = fast.next.next;\n",
    "\n",
    "        if (pre == null) {\n",
    "            pre = head;\n",
    "        } else {\n",
    "            pre = pre.next;\n",
    "        }\n",
    "    }\n",
    "    pre.next = null; // break off the left linked list from the right\n",
    "\n",
    "    left = sort(left);\n",
    "    right = sort(right);\n",
    "\n",
    "    return merge(left, right);\n",
    "}\n",
    "\n",
    "private Node<Integer> merge(Node<Integer> left, Node<Integer> right) {\n",
    "    Node<Integer> head = null; // head node of the merged linked list\n",
    "    Node<Integer> current = null;\n",
    "    while (left != null && right != null) {\n",
    "        if (left.data < right.data) {\n",
    "            if (current == null) {\n",
    "                head = left;\n",
    "                current = left;\n",
    "            } else {\n",
    "                current.next = left;\n",
    "                current = current.next;\n",
    "            }\n",
    "            left = left.next;\n",
    "        } else {\n",
    "            if (current == null) {\n",
    "                head = right;\n",
    "                current = right;\n",
    "            } else {\n",
    "                current.next = right;\n",
    "                current = current.next;\n",
    "            }\n",
    "            right = right.next;\n",
    "        }\n",
    "    }\n",
    "\n",
    "    // left has some elements not iterated upon\n",
    "    while (left != null) {\n",
    "        current.next = left;\n",
    "        left = left.next;\n",
    "        current = current.next;\n",
    "    }\n",
    "\n",
    "    // right has some elements not iterated upon\n",
    "    while (right != null) {\n",
    "        current.next = right;\n",
    "        right = right.next;\n",
    "        current = current.next;\n",
    "    }\n",
    "\n",
    "    return head;\n",
    "}"
   ]
  },
  {
   "cell_type": "markdown",
   "metadata": {},
   "source": [
    "**Q 5:** Partition a linked list such that all the elements greater than or equal to x are on one side and all the items less than x are on the other side. For example, if the linked list is `1->4->3->2->5->2->` and `x=4`, then after partitioning, we should get `1->3->2->2->4->5` . [LeetCode](https://leetcode.com/problems/partition-list)  \n",
    "**Answer:** We can create two separate linked list and use $O(n)$ extra memory to solve this problem."
   ]
  },
  {
   "cell_type": "code",
   "execution_count": null,
   "metadata": {
    "tags": []
   },
   "outputs": [],
   "source": [
    "public Node<Integer> partitionLinkedList(Node<Integer> head, int x) {\n",
    "    Node<Integer> left = null;\n",
    "    Node<Integer> leftCursor = null;\n",
    "    Node<Integer> right = null;\n",
    "    Node<Integer> rightCursor = null;\n",
    "    Node<Integer> current = head;\n",
    "\n",
    "    while (current != null) {\n",
    "        if (current.data < x) {\n",
    "            if (left == null) {\n",
    "                left = new Node<>(current.data);\n",
    "                leftCursor = left;\n",
    "            } else {\n",
    "                leftCursor.next = new Node<>(current.data);\n",
    "                leftCursor = leftCursor.next;\n",
    "            }\n",
    "        } else {\n",
    "            if (right == null) {\n",
    "                right = new Node<>(current.data);\n",
    "                rightCursor = right;\n",
    "            } else {\n",
    "                rightCursor.next = new Node<>(current.data);\n",
    "                rightCursor = rightCursor.next;\n",
    "            }\n",
    "        }\n",
    "\n",
    "        current = current.next;\n",
    "    }\n",
    "\n",
    "    if (left == null) {\n",
    "        return right;\n",
    "    } else {\n",
    "        leftCursor.next = right;\n",
    "        return left;\n",
    "    }\n",
    "}"
   ]
  },
  {
   "cell_type": "markdown",
   "metadata": {},
   "source": [
    "But what if we can't take extra memory? The other approach which is iterative will involve swapping node values. It will have $O(n^2)$ time complexity."
   ]
  },
  {
   "cell_type": "code",
   "execution_count": null,
   "metadata": {},
   "outputs": [],
   "source": [
    "public Node<Integer> partitionLinkedList2(Node<Integer> head, int x) {\n",
    "    Node<Integer> p1 = head;\n",
    "    while (p1 != null) {\n",
    "        Node<Integer> p2 = p1;\n",
    "        while (p2.next != null) {\n",
    "            if (p2.data >= x && p2.next.data < x) {\n",
    "                // Swap\n",
    "                int temp = p2.data;\n",
    "                p2.data = p2.next.data;\n",
    "                p2.next.data = temp;\n",
    "            }\n",
    "            p2 = p2.next;\n",
    "        }\n",
    "        p1 = p1.next;\n",
    "    }\n",
    "\n",
    "    return head;\n",
    "}"
   ]
  },
  {
   "cell_type": "markdown",
   "metadata": {},
   "source": [
    "There is a $O(n)$ solution which doesn't take any extra memory. This one is essentially improvement over the first solution."
   ]
  },
  {
   "cell_type": "code",
   "execution_count": null,
   "metadata": {
    "tags": []
   },
   "outputs": [],
   "source": [
    "public Node<Integer> partitionLinkedList(Node<Integer> head, int x) {\n",
    "    Node<Integer> left = null;\n",
    "    Node<Integer> leftCursor = null;\n",
    "    Node<Integer> right = null;\n",
    "    Node<Integer> rightCursor = null;\n",
    "    Node<Integer> current = head;\n",
    "\n",
    "    while (current != null) {\n",
    "        if (current.data < x) {\n",
    "            if (left == null) {\n",
    "                left = current;\n",
    "                leftCursor = left;\n",
    "            } else {\n",
    "                leftCursor.next = current;\n",
    "                leftCursor = leftCursor.next;\n",
    "            }\n",
    "        } else {\n",
    "            if (right == null) {\n",
    "                right = current;\n",
    "                rightCursor = right;\n",
    "            } else {\n",
    "                rightCursor.next = current;\n",
    "                rightCursor = rightCursor.next;\n",
    "            }\n",
    "        }\n",
    "\n",
    "        current = current.next;\n",
    "    }\n",
    "\n",
    "    // Individually set last node of each linked list to point to null\n",
    "    if (leftCursor != null) leftCursor.next = null;\n",
    "    if (rightCursor != null) rightCursor.next = null;\n",
    "\n",
    "    if (left == null) {\n",
    "        return right;\n",
    "    } else {\n",
    "        leftCursor.next = right;\n",
    "        return left;\n",
    "    }\n",
    "}"
   ]
  },
  {
   "cell_type": "markdown",
   "metadata": {},
   "source": [
    "**Q 6:** Check if a linked list is a palindrome.  \n",
    "**Answer:** Divide linked list into two parts. Reverse one part and compare nodes."
   ]
  },
  {
   "cell_type": "code",
   "execution_count": 10,
   "metadata": {},
   "outputs": [],
   "source": [
    "public boolean isPalindrome(Node<T> head) {\n",
    "    // Navigate to the middle node\n",
    "    Node<T> slow = head;\n",
    "    Node<T> fast = head;\n",
    "    Node<T> pre = null;\n",
    "    while (slow != null && fast != null && fast.next != null) {\n",
    "        slow = slow.next;\n",
    "        fast = fast.next.next;\n",
    "        if (pre == null) {\n",
    "            pre = head;\n",
    "        } else {\n",
    "            pre = pre.next;\n",
    "        }\n",
    "    }\n",
    "    pre.next = null; // break off into two lists\n",
    "\n",
    "    // Reverse after mid\n",
    "    Node<T> right = reverseLinkedListRec(null, slow);\n",
    "\n",
    "    // Compare elements\n",
    "    while (head != null && right != null) {\n",
    "        if (!head.data.equals(right.data)) {\n",
    "            return false;\n",
    "        }\n",
    "\n",
    "        head = head.next;\n",
    "        right = right.next;\n",
    "    }\n",
    "\n",
    "    return true;\n",
    "}"
   ]
  },
  {
   "cell_type": "markdown",
   "metadata": {},
   "source": [
    "**Q 7** Given a linked list, remove $n$th node from its end.  \n",
    "**Answer** In order to reach nth node from end, we can make use of two pointers and maintain a distance of $n$ between them"
   ]
  },
  {
   "cell_type": "code",
   "execution_count": 7,
   "metadata": {},
   "outputs": [
    {
     "name": "stdout",
     "output_type": "stream",
     "text": [
      "5->3->2->4->"
     ]
    }
   ],
   "source": [
    "def remove_from_end(head, n):\n",
    "    p1 = head\n",
    "    p2 = head\n",
    "    \n",
    "    # Maintain a distance of n between the pointers\n",
    "    distance = 0\n",
    "    while p2 is not None and distance != n:\n",
    "        if p2.next is None and distance < n:\n",
    "            head = head.next\n",
    "            return head\n",
    "        if distance == n:\n",
    "            break\n",
    "        \n",
    "        p2 = p2.next\n",
    "        distance += 1\n",
    "    p2 = p2.next\n",
    "        \n",
    "    while p1 is not None and p2 is not None:\n",
    "        p1 = p1.next\n",
    "        p2 = p2.next\n",
    "        \n",
    "    temp = p1.next.next\n",
    "    p1.next = temp\n",
    "    \n",
    "    return head\n",
    "\n",
    "n1 = ListNode(1)\n",
    "n2 = ListNode(5)\n",
    "n3 = ListNode(3)\n",
    "n4 = ListNode(2)\n",
    "n5 = ListNode(4)\n",
    "\n",
    "n1.next = n2\n",
    "n2.next = n3\n",
    "n3.next = n4\n",
    "n4.next = n5\n",
    "\n",
    "h = remove_from_end(n1, 5)\n",
    "while(h != None):\n",
    "    print(str(h.val), end='->')\n",
    "    h = h.next"
   ]
  },
  {
   "cell_type": "markdown",
   "metadata": {},
   "source": [
    "**Q 8** Given a linked list reverse $K$ nodes at a time. For example, if the linked list is `1->2->3->4->5->6` and $K = 2$, the modified linked list would be `2->1->4->3->6->5`. If $K$ is greater than the number of nodes, leave the linked list as it is. [LeetCode](https://leetcode.com/problems/reverse-nodes-in-k-group)  \n",
    "**Answer**"
   ]
  },
  {
   "cell_type": "code",
   "execution_count": null,
   "metadata": {},
   "outputs": [],
   "source": [
    "public Node<T> reverseKNodes(Node<T> head, int k) {\n",
    "    // Check if k > number of elements in the linked list\n",
    "    // return original linked list if so\n",
    "    int i = 0;\n",
    "    Node<T> current = head;\n",
    "    while (i < k) {\n",
    "        if (current == null) {\n",
    "            return head;\n",
    "        }\n",
    "        i++;\n",
    "        current = current.next;\n",
    "    }\n",
    "\n",
    "    // Reverse k nodes at a time\n",
    "    i = 0;\n",
    "    current = head;\n",
    "    Node<T> previous = null;\n",
    "    Node<T> forward = null;\n",
    "    while (i < k && current != null) {\n",
    "        forward = current.next;\n",
    "        current.next = previous;\n",
    "\n",
    "        previous = current;\n",
    "        current = forward;\n",
    "        i++;\n",
    "    }\n",
    "\n",
    "    if (head != null) {\n",
    "        head.next = reverseKNodes(current, k);\n",
    "    }\n",
    "    return previous;\n",
    "}"
   ]
  },
  {
   "cell_type": "markdown",
   "metadata": {},
   "source": [
    "**Q 9** Given a linked list, return it in its spiral order. If the list is `1->2->3->4->5->6`, the output should be `1->6->2->5->3->4`.  \n",
    "**Answer** "
   ]
  },
  {
   "cell_type": "code",
   "execution_count": null,
   "metadata": {},
   "outputs": [],
   "source": [
    "public Node<T> spiralOrder(Node<T> head) {\n",
    "    Node<T> current = head;\n",
    "    while (current != null) {\n",
    "        current.next = reverseLinkedList(current.next);\n",
    "        current = current.next;\n",
    "    }\n",
    "\n",
    "    return head;\n",
    "}"
   ]
  },
  {
   "cell_type": "markdown",
   "metadata": {},
   "source": [
    "**Q 10** Given a doubly linked list, each node points to the next node as well as a different node (not necessarily the previous node). Clone this linked list. A node is defined as:\n",
    "```py\n",
    "class ListNode:\n",
    "    def __init__(self, data):\n",
    "        self.data = data\n",
    "        self.next = self.random = None\n",
    "```\n",
    "**Answer** "
   ]
  },
  {
   "cell_type": "code",
   "execution_count": null,
   "metadata": {},
   "outputs": [],
   "source": [
    "class ListNode:\n",
    "    def __init__(self, data):\n",
    "        self.data = data\n",
    "        self.next = self.random = None\n",
    "        \n",
    "def clone(head):\n",
    "    # Clone with random pointer pointing to null\n",
    "    clone_head = ListNode(head.data)\n",
    "    \n",
    "    cur = head\n",
    "    clone_cur = clone_head\n",
    "    \n",
    "    mapping = {}\n",
    "    \n",
    "    while cur is not None:\n",
    "        mapping[cur] = clone_cur\n",
    "        if cur.next is not None:\n",
    "            clone_cur.next = ListNode(cur.next.data)\n",
    "        \n",
    "        clone_cur = clone_cur.next\n",
    "        cur = cur.next\n",
    "        \n",
    "    # Fill the random pointers\n",
    "    cur = head\n",
    "    clone_cur = clone_head\n",
    "    while cur is not None:\n",
    "        random = cur.random\n",
    "        clone_cur.random = mapping[random]\n",
    "        \n",
    "        cur = cur.next\n",
    "        clone_cur = clone_cur.next\n",
    "        \n",
    "    return clone_head"
   ]
  },
  {
   "cell_type": "markdown",
   "metadata": {},
   "source": [
    "**Q 11** Given a linked list with all nodes in sorted order, remove all nodes containing duplicate data. [LeetCode](https://leetcode.com/problems/remove-duplicates-from-sorted-list)  \n",
    "**Answer** "
   ]
  },
  {
   "cell_type": "code",
   "execution_count": null,
   "metadata": {},
   "outputs": [],
   "source": [
    "public Node<T> removeDuplicates(Node<T> head) {\n",
    "    Node<T> current = head;\n",
    "    while (current != null) {\n",
    "        while (current.next != null && current.data == current.next.data) {\n",
    "            current.next = current.next.next;\n",
    "        }\n",
    "\n",
    "        current = current.next;\n",
    "    }\n",
    "\n",
    "    return head;\n",
    "}"
   ]
  },
  {
   "cell_type": "markdown",
   "metadata": {},
   "source": [
    "We can also make use of two pointers:"
   ]
  },
  {
   "cell_type": "code",
   "execution_count": null,
   "metadata": {},
   "outputs": [],
   "source": [
    "public Node<T> removeDuplicates2(Node<T> head) {\n",
    "    Node<T> currA = head;\n",
    "    Node<T> currB = currA == null ? null : currA.next;\n",
    "    while (currB != null) {\n",
    "        if (currA.data == currB.data) {\n",
    "            currB = currB.next;\n",
    "            currA.next = currB;\n",
    "        } else {\n",
    "            currA = currB;\n",
    "            currB = currB.next;\n",
    "        }\n",
    "    }\n",
    "\n",
    "    return head;\n",
    "}"
   ]
  },
  {
   "cell_type": "markdown",
   "metadata": {},
   "source": [
    "**Q 12** Find the point of intersection of two linked lists. Return null if the linked lists do not intersect. [LeetCode](https://leetcode.com/problems/intersection-of-two-linked-lists)  \n",
    "**Answer** A quick solution is to use a visited set."
   ]
  },
  {
   "cell_type": "code",
   "execution_count": null,
   "metadata": {},
   "outputs": [],
   "source": [
    "public Node<T> pointOfIntersection(Node<T> headA, Node<T> headB) {\n",
    "    Set<Node<T>> visited = new HashSet<>();\n",
    "\n",
    "    Node<T> current = headA;\n",
    "    while (current != null) {\n",
    "        visited.add(current);\n",
    "        current = current.next;\n",
    "    }\n",
    "\n",
    "    current = headB;\n",
    "    while (current != null) {\n",
    "        if (visited.contains(current)) {\n",
    "            return current;\n",
    "        }\n",
    "\n",
    "        current = current.next;\n",
    "    }\n",
    "\n",
    "    return null;\n",
    "}"
   ]
  },
  {
   "cell_type": "markdown",
   "metadata": {},
   "source": [
    "Another way which doesn't use extra memory is to find the lengths of both linked lists and move the distance equal to the difference in the lengths."
   ]
  },
  {
   "cell_type": "code",
   "execution_count": null,
   "metadata": {},
   "outputs": [],
   "source": [
    "public Node<T> pointOfIntersection2(Node<T> headA, Node<T> headB) {\n",
    "    // Find length of both the arrays\n",
    "    int lengthA = 0;\n",
    "    Node<T> current = headA;\n",
    "    while (current != null) {\n",
    "        lengthA++;\n",
    "        current = current.next;\n",
    "    }\n",
    "\n",
    "    int lengthB = 0;\n",
    "    current = headB;\n",
    "    while (current != null) {\n",
    "        lengthB++;\n",
    "        current = current.next;\n",
    "    }\n",
    "\n",
    "    // Find difference in length, traverse the longer linked list by\n",
    "    // this difference amount\n",
    "    int lengthDiff = Math.abs(lengthA - lengthB);\n",
    "    if (lengthA > lengthB) {\n",
    "        current = headA;\n",
    "    } else {\n",
    "        current = headB;\n",
    "    }\n",
    "    while (lengthDiff > 0) {\n",
    "        lengthDiff--;\n",
    "        current = current.next;\n",
    "    }\n",
    "\n",
    "    // For the longer linked list start from current\n",
    "    Node<T> currA = lengthA > lengthB ? current : headA;\n",
    "    Node<T> currB = lengthB >= lengthA ? current : headB;\n",
    "    while (currA != null) {\n",
    "        if (currA == currB) {\n",
    "            return currA;\n",
    "        } else {\n",
    "            currA = currA.next;\n",
    "            currB = currB.next;\n",
    "        }\n",
    "    }\n",
    "\n",
    "    return null;\n",
    "}"
   ]
  }
 ],
 "metadata": {
  "kernelspec": {
   "display_name": "Java",
   "language": "java",
   "name": "java"
  },
  "language_info": {
   "codemirror_mode": "java",
   "file_extension": ".jshell",
   "mimetype": "text/x-java-source",
   "name": "Java",
   "pygments_lexer": "java",
   "version": "21.0.1+12-29"
  }
 },
 "nbformat": 4,
 "nbformat_minor": 4
}
