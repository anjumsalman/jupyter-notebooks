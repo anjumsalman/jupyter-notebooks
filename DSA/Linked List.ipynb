{
 "cells": [
  {
   "cell_type": "markdown",
   "metadata": {},
   "source": [
    "### Implementation\n",
    "```C++\n",
    "struct Node{\n",
    "    int data;\n",
    "    Node* next;\n",
    "}\n",
    "\n",
    "Node* head;\n",
    "\n",
    "int main(){\n",
    "    // Head node, represents the entire list\n",
    "    head = NULL;\n",
    "}\n",
    "```"
   ]
  },
  {
   "cell_type": "markdown",
   "metadata": {},
   "source": [
    "### Arrays vs Linked List\n",
    "1. **Accessing an element:**\n",
    "    1. Arrays : constant time O(1)\n",
    "    2. Linked List : O(n)\n",
    "2. **Memory Requirement:**\n",
    "    1. Arrays : may have unused memory. May not get memory if really large array is needed.\n",
    "    2. Linked List : no unused space, but extra space required for pointer to next element\n",
    "3. **Inserting element:**\n",
    "    1. Inserting at beginning:\n",
    "        1. Arrays : need to shift elements, O(n)\n",
    "        2. Linked List : constant time\n",
    "    2. Inserting at end:\n",
    "        1. Arrays : if the array is not full then constant time taken, else we need to create new array and copy items, O(n)\n",
    "        2. Linked List : need to traverse the entire list and then add last node, O(n)\n",
    "    3. Inserting at nth position:\n",
    "        1. Arrays : O(n)\n",
    "        2. Linked List : O(n)\n",
    "4. **Deleting element:** same scenarios and time complexity as insertion"
   ]
  },
  {
   "cell_type": "markdown",
   "metadata": {},
   "source": [
    "### Common Operations\n",
    "\n",
    "1. Inserting at the beginning of the list\n",
    "\n",
    "```C++\n",
    "Node* head;\n",
    "\n",
    "void insert(int x){\n",
    "    Node* temp = new Node();\n",
    "    temp->data = x;\n",
    "    temp->next = head;\n",
    "    head = temp;\n",
    "}\n",
    "```\n",
    "\n",
    "2. Printing elements\n",
    "\n",
    "```C++\n",
    "Node* head;\n",
    "\n",
    "void print(){\n",
    "    Node* curr = head;\n",
    "    while(curr!=NULL){\n",
    "        cout<<curr->data<<\" \";\n",
    "        curr = curr->next;\n",
    "    }    \n",
    "}\n",
    "```\n",
    "\n",
    "3. Inserting element at nth position (provided that n is valid)\n",
    "\n",
    "```C++\n",
    "Node* head;\n",
    "\n",
    "void insert(int x, int n){\n",
    "    Node* temp = new Node();\n",
    "    temp->data = x;\n",
    "    temp->next = NULL;\n",
    "    \n",
    "    if(n==1){\n",
    "        temp->next = head;\n",
    "        head = temp;\n",
    "        return;\n",
    "    }\n",
    "    \n",
    "    int i = 0;\n",
    "    Node* curr = head;\n",
    "    while(i!=n-2){\n",
    "        curr = curr->next;\n",
    "        i++;\n",
    "    }\n",
    "    \n",
    "    temp->next = curr->next;\n",
    "    curr->next = temp;\n",
    "}\n",
    "```"
   ]
  },
  {
   "cell_type": "markdown",
   "metadata": {},
   "source": [
    "### Doubly Linked List\n",
    "```C++\n",
    "struct Node{\n",
    "    int data;\n",
    "    Node* next;\n",
    "    Node* previous;\n",
    "}\n",
    "\n",
    "Node* head;\n",
    "\n",
    "void insertAtHead(int x){\n",
    "    Node* temp = new Node();\n",
    "    temp->data = x;\n",
    "    temp->previous = NULL;\n",
    "    temp->next = NULL;\n",
    "    if(head==NULL){\n",
    "        head = temp;\n",
    "        return;\n",
    "    }\n",
    "    \n",
    "    temp->next = head;\n",
    "    head->previous = temp;\n",
    "    head = temp;\n",
    "    \n",
    "}\n",
    "```\n",
    "\n",
    "The advantage of doubly linked list is that insertions and deletions at index i occur faster than in a regular linked list. Those things now take O(1 + min(i, n-i)) time. In the below implementation, we make use of a dummy node. This dummy node makes it less of a pain when we remove node from the end or add node to an empty linked list.\n",
    "\n",
    "```C++\n",
    "struct Node{\n",
    "    int data;\n",
    "    Node* next;\n",
    "    Node* previous;\n",
    "}\n",
    "\n",
    "Node* dummy = new Node();\n",
    "dummy->next = dummy;\n",
    "dummy->previous = dummy;\n",
    "\n",
    "int n=0; // Stores occupancy\n",
    "\n",
    "// We can now reach a node both ways\n",
    "Node* getNode(int i){\n",
    "    Node* p = NULL;\n",
    "    if(i < n/2){\n",
    "        p = dummy->next;\n",
    "        for(int j=0; j<i; j++){\n",
    "            p = p->next;\n",
    "        }\n",
    "    } else {\n",
    "        p = dummy;\n",
    "        for(int j=n; j>i; j--){\n",
    "            p = p->next;\n",
    "        }\n",
    "    }\n",
    "    return p;\n",
    "} \n",
    "```"
   ]
  },
  {
   "cell_type": "markdown",
   "metadata": {},
   "source": [
    "**Q 1:** Reverse a linked list without using extra memory.  \n",
    "**Answer:** We need three pointers: previous, current and forward"
   ]
  },
  {
   "cell_type": "code",
   "execution_count": 12,
   "metadata": {},
   "outputs": [
    {
     "name": "stdout",
     "output_type": "stream",
     "text": [
      "3 2 1 "
     ]
    }
   ],
   "source": [
    "class Node:\n",
    "    def __init__(self):\n",
    "        self.val = 0\n",
    "        self.next = None\n",
    "        \n",
    "def reverse(head):\n",
    "    # Create the three pointers\n",
    "    previous = None\n",
    "    current = head\n",
    "    forward = None\n",
    "    \n",
    "    while(current != None):\n",
    "        forward = current.next\n",
    "        current.next = previous\n",
    "        previous = current\n",
    "        current = forward\n",
    "            \n",
    "    return previous\n",
    "\n",
    "head = Node()\n",
    "head.val = 1\n",
    "node1 = Node()\n",
    "node1.val = 2\n",
    "head.next = node1\n",
    "node2 = Node()\n",
    "node2.val = 3\n",
    "node1.next = node2\n",
    "\n",
    "cur = reverse(head)\n",
    "while(cur != None):\n",
    "    print(str(cur.val), end=\" \")\n",
    "    cur = cur.next"
   ]
  },
  {
   "cell_type": "markdown",
   "metadata": {},
   "source": [
    "Linked list can also be reversed recursively.\n",
    "1. Divide the list in two parts - first node and rest of the linked list.\n",
    "2. Call reverse for the rest of the linked list.\n",
    "3. Link rest to first.\n",
    "4. Fix head pointer"
   ]
  },
  {
   "cell_type": "code",
   "execution_count": 16,
   "metadata": {},
   "outputs": [
    {
     "name": "stdout",
     "output_type": "stream",
     "text": [
      "3 2 1 "
     ]
    }
   ],
   "source": [
    "def reverse(head, current, previous):\n",
    "    if current is None:\n",
    "        head = previous\n",
    "        return head\n",
    "    else:\n",
    "        forward = current.next\n",
    "        current.next = previous\n",
    "        return reverse(head, forward, current)\n",
    "    \n",
    "head = Node()\n",
    "head.val = 1\n",
    "node1 = Node()\n",
    "node1.val = 2\n",
    "head.next = node1\n",
    "node2 = Node()\n",
    "node2.val = 3\n",
    "node1.next = node2\n",
    "\n",
    "cur = reverse(head, head, None)\n",
    "while(cur != None):\n",
    "    print(str(cur.val), end=\" \")\n",
    "    cur = cur.next"
   ]
  },
  {
   "cell_type": "markdown",
   "metadata": {},
   "source": [
    "A slight modification to this problem is to reverse all elements after a point. For example `reverse(head, 2)` in a linked list `1->2->3->4->5` should result in `1->5->4->3->2`"
   ]
  },
  {
   "cell_type": "code",
   "execution_count": 5,
   "metadata": {},
   "outputs": [
    {
     "name": "stdout",
     "output_type": "stream",
     "text": [
      "1 4 3 2 "
     ]
    }
   ],
   "source": [
    "def reverse_after_k(head, k):\n",
    "    def reverse(head, current, previous):\n",
    "        if current is None:\n",
    "            head = previous\n",
    "            return head\n",
    "        else:\n",
    "            forward = current.next\n",
    "            current.next = previous\n",
    "            return reverse(head, forward, current)\n",
    "        \n",
    "    # If k == 1, just reverse the whole list\n",
    "    if k == 1:\n",
    "        return reverse(head, head, None)\n",
    "    \n",
    "    # Move to the k-1th element\n",
    "    i = 1\n",
    "    current = head\n",
    "    while(i != k-1):\n",
    "        current = current.next\n",
    "        i += 1\n",
    "        \n",
    "    current.next = reverse(current.next, current.next, None)\n",
    "    return head\n",
    "\n",
    "# Or iteratively\n",
    "def reverse_after_k_iterative(head, k):\n",
    "    # Take care of the k == 1 case    \n",
    "    # Move to the k-1th element\n",
    "    i = 1\n",
    "    link = head\n",
    "    while(i != k-1):\n",
    "        link = link.next\n",
    "        i += 1\n",
    "        \n",
    "    current = link.next\n",
    "    previous = None\n",
    "    forward = None\n",
    "    \n",
    "    while(current != None):\n",
    "        forward = current.next\n",
    "        current.next = previous\n",
    "        previous = current\n",
    "        current = forward\n",
    "    \n",
    "    link.next = previous    \n",
    "    return head\n",
    "\n",
    "head = Node()\n",
    "head.val = 1\n",
    "node1 = Node()\n",
    "node1.val = 2\n",
    "head.next = node1\n",
    "node2 = Node()\n",
    "node2.val = 3\n",
    "node1.next = node2\n",
    "node3 = Node()\n",
    "node3.val = 4\n",
    "node2.next = node3\n",
    "\n",
    "cur = reverse_after_k_iterative(head, 2)\n",
    "while(cur != None):\n",
    "    print(str(cur.val), end=\" \")\n",
    "    cur = cur.next"
   ]
  },
  {
   "cell_type": "markdown",
   "metadata": {},
   "source": [
    "How to reverse from a to b?"
   ]
  },
  {
   "cell_type": "code",
   "execution_count": 6,
   "metadata": {},
   "outputs": [
    {
     "name": "stdout",
     "output_type": "stream",
     "text": [
      "5 4 3 2 1 "
     ]
    }
   ],
   "source": [
    "def reverse_a_to_b(head, a, b):\n",
    "    # Create the three pointers\n",
    "    previous = None\n",
    "    current = head\n",
    "    forward = None\n",
    "    \n",
    "    i = 1\n",
    "    start = None\n",
    "    rev_start = None\n",
    "    while(i <= b and current != None):\n",
    "        if i < a-1:\n",
    "            current = current.next\n",
    "        elif i == a-1:\n",
    "            start = current\n",
    "            current = current.next\n",
    "            rev_start = current\n",
    "        else:\n",
    "            forward = current.next\n",
    "            current.next = previous\n",
    "            previous = current\n",
    "            current = forward\n",
    "        \n",
    "        i += 1\n",
    "    \n",
    "    if start != None and  rev_start != None:\n",
    "        start.next = previous\n",
    "        rev_start.next = forward\n",
    "    else:\n",
    "        head.next = forward\n",
    "        head = previous\n",
    "    \n",
    "    return head\n",
    "\n",
    "head = Node()\n",
    "head.val = 1\n",
    "node1 = Node()\n",
    "node1.val = 2\n",
    "head.next = node1\n",
    "node2 = Node()\n",
    "node2.val = 3\n",
    "node1.next = node2\n",
    "node3 = Node()\n",
    "node3.val = 4\n",
    "node2.next = node3\n",
    "node4 = Node()\n",
    "node4.val = 5\n",
    "node3.next = node4\n",
    "\n",
    "cur = reverse_a_to_b(head, 1, 5)\n",
    "while(cur != None):\n",
    "    print(str(cur.val), end=\" \")\n",
    "    cur = cur.next"
   ]
  },
  {
   "cell_type": "markdown",
   "metadata": {},
   "source": [
    "**Q 2:** Detect if a linked list has a loop or not?  \n",
    "**Answer:** This problem can be solved by using a set. Add an item to the set whenever you iterate over a new element. If the element you iterate to is already present in the set, then this means that the linked list is cyclic.  \n",
    "Another solution which doesn't use any extra memory is to use two pointers, one fast and another slow."
   ]
  },
  {
   "cell_type": "code",
   "execution_count": 15,
   "metadata": {},
   "outputs": [],
   "source": [
    "def has_cycle(head):\n",
    "    fast = head\n",
    "    slow = fast\n",
    "    \n",
    "    while(slow != None and fast != None and fast.next != None):\n",
    "        slow = slow.next\n",
    "        fast = fast.next.next\n",
    "        \n",
    "        if slow == fast:\n",
    "            return True\n",
    "        \n",
    "    return False"
   ]
  },
  {
   "cell_type": "markdown",
   "metadata": {},
   "source": [
    "Why is the faster pointer having speed double of the slower one? Why not any other speed? Check [StackOverflow answer](https://stackoverflow.com/questions/5130246/why-increase-pointer-by-two-while-finding-loop-in-linked-list-why-not-3-4-5)"
   ]
  },
  {
   "cell_type": "markdown",
   "metadata": {},
   "source": [
    "**Q 3:** Given a head node, iterate to the middle node. You can use only one loop.  \n",
    "**Answer:** We can make use of two pointers one slow and other fast, moving at twice the speed.  "
   ]
  },
  {
   "cell_type": "code",
   "execution_count": 3,
   "metadata": {},
   "outputs": [
    {
     "name": "stdout",
     "output_type": "stream",
     "text": [
      "3 4 5 "
     ]
    }
   ],
   "source": [
    "def goto_middle(head):\n",
    "    slow = head\n",
    "    fast = head\n",
    "    while(fast != None and fast.next != None):\n",
    "        slow = slow.next\n",
    "        fast = fast.next.next\n",
    "        \n",
    "    return slow\n",
    "\n",
    "n1 = Node()\n",
    "n1.val = 1\n",
    "n2 = Node()\n",
    "n2.val = 2\n",
    "n3 = Node()\n",
    "n3.val = 3\n",
    "n4 = Node()\n",
    "n4.val = 4\n",
    "n5 = Node()\n",
    "n5.val = 5\n",
    "\n",
    "n1.next = n2\n",
    "n2.next = n3\n",
    "n3.next = n4\n",
    "n4.next = n5\n",
    "\n",
    "cur = goto_middle(n1)\n",
    "while(cur != None):\n",
    "    print(str(cur.val), end=\" \")\n",
    "    cur = cur.next"
   ]
  },
  {
   "cell_type": "markdown",
   "metadata": {},
   "source": [
    "If the linked list has even number of elements, for example, `1,2,3,4` then this will return `3`, the second middle element. In case of odd number of elements, `1,2,3,4,5`, this will return `3`"
   ]
  },
  {
   "cell_type": "markdown",
   "metadata": {},
   "source": [
    "**Q 4:** Given a linked list, sort it.  \n",
    "**Answer:** Merge sort is the preferred way to sort a linked list"
   ]
  },
  {
   "cell_type": "code",
   "execution_count": 1,
   "metadata": {},
   "outputs": [
    {
     "name": "stdout",
     "output_type": "stream",
     "text": [
      "1 2 3 4 5 "
     ]
    }
   ],
   "source": [
    "class ListNode:\n",
    "    def __init__(self, x):\n",
    "        self.val = x\n",
    "        self.next = None\n",
    "\n",
    "def merge(left, right):\n",
    "    if left == None:\n",
    "        return right\n",
    "    \n",
    "    if right == None:\n",
    "        return left\n",
    "    \n",
    "    head = None\n",
    "    if left.val < right.val:\n",
    "        head = left\n",
    "        head.next = merge(left.next, right)\n",
    "    else:\n",
    "        head = right\n",
    "        head.next = merge(left, right.next)\n",
    "        \n",
    "    return head\n",
    "\n",
    "def sort(head):\n",
    "    if head == None or head.next == None:\n",
    "        return head\n",
    "    \n",
    "    # Get the middle node of the linked list\n",
    "    slow = head\n",
    "    fast = head\n",
    "    pre = None\n",
    "    while(fast != None and fast.next != None):\n",
    "        slow = slow.next\n",
    "        fast = fast.next.next\n",
    "        if pre == None:\n",
    "            pre = head\n",
    "        else:\n",
    "            pre = pre.next\n",
    "            \n",
    "    pre.next = None\n",
    "    \n",
    "    # Sort left and right\n",
    "    left = head\n",
    "    right = slow\n",
    "    \n",
    "    left = sort(left)\n",
    "    right = sort(right)\n",
    "    \n",
    "    # Merge the sorted parts\n",
    "    head = merge(left, right)\n",
    "    \n",
    "    return head\n",
    "\n",
    "n1 = ListNode(1)\n",
    "n2 = ListNode(5)\n",
    "n3 = ListNode(3)\n",
    "n4 = ListNode(2)\n",
    "n5 = ListNode(4)\n",
    "\n",
    "n1.next = n2\n",
    "n2.next = n3\n",
    "n3.next = n4\n",
    "n4.next = n5\n",
    "\n",
    "head = sort(n1)\n",
    "while(head != None):\n",
    "    print(head.val, end = \" \")\n",
    "    head = head.next"
   ]
  },
  {
   "cell_type": "markdown",
   "metadata": {},
   "source": [
    "**Q 5:** Partition a linked list such that all the elements greater than or equal to x are on one side and all the items less than x are on the other side. For example, if the linked list is `1->4->3->2->5->2->` and `x=4`, then after partitioning, we should get `1->3->2->2->4->5` .  \n",
    "**Answer:** We can create two separate linked list and use $O(n)$ extra memory to solve this problem."
   ]
  },
  {
   "cell_type": "code",
   "execution_count": 6,
   "metadata": {},
   "outputs": [
    {
     "name": "stdout",
     "output_type": "stream",
     "text": [
      "1->3->2->2->4->5->"
     ]
    }
   ],
   "source": [
    "def partition(head, x):\n",
    "    l_head = None\n",
    "    r_head = None\n",
    "    \n",
    "    curr = head\n",
    "    l = None\n",
    "    r = None\n",
    "    while(curr != None):\n",
    "        if curr.val < x:\n",
    "            if l_head == None:\n",
    "                l_head = ListNode(curr.val)\n",
    "                l = l_head\n",
    "            else:\n",
    "                l.next = ListNode(curr.val)\n",
    "                l = l.next\n",
    "        else:\n",
    "            if r_head == None:\n",
    "                r_head = ListNode(curr.val)\n",
    "                r = r_head\n",
    "            else:\n",
    "                r.next = ListNode(curr.val)\n",
    "                r = r.next\n",
    "        curr = curr.next\n",
    "        \n",
    "    l.next = r_head\n",
    "    return l_head\n",
    "\n",
    "h1 = ListNode(1)\n",
    "h2 = ListNode(4)\n",
    "h3 = ListNode(3)\n",
    "h4 = ListNode(2)\n",
    "h5 = ListNode(5)\n",
    "h6 = ListNode(2)\n",
    "\n",
    "h1.next = h2\n",
    "h2.next = h3\n",
    "h3.next = h4\n",
    "h4.next = h5\n",
    "h5.next = h6\n",
    "\n",
    "h = partition(h1, 4)\n",
    "while(h != None):\n",
    "    print(str(h.val), end='->')\n",
    "    h = h.next"
   ]
  },
  {
   "cell_type": "markdown",
   "metadata": {},
   "source": [
    "But what if we can't take extra memory? The other approach which is iterative will involve swapping node values. It will have $O(n^2)$ time complexity."
   ]
  },
  {
   "cell_type": "code",
   "execution_count": 9,
   "metadata": {},
   "outputs": [
    {
     "name": "stdout",
     "output_type": "stream",
     "text": [
      "1->2->2->4->3->5->"
     ]
    }
   ],
   "source": [
    "def partition(head, x):\n",
    "    p1 = head    \n",
    "    while(p1.next != None):\n",
    "        p2 = head\n",
    "        while(p2.next != None):\n",
    "            if p2.val >= x and p2.next.val < x:\n",
    "                temp = p2.val\n",
    "                p2.val = p2.next.val\n",
    "                p2.next.val = temp\n",
    "            p2 = p2.next\n",
    "        p1 = p1.next\n",
    "        \n",
    "    return head\n",
    "\n",
    "h1 = ListNode(1)\n",
    "h2 = ListNode(4)\n",
    "h3 = ListNode(3)\n",
    "h4 = ListNode(2)\n",
    "h5 = ListNode(5)\n",
    "h6 = ListNode(2)\n",
    "\n",
    "h1.next = h2\n",
    "h2.next = h3\n",
    "h3.next = h4\n",
    "h4.next = h5\n",
    "h5.next = h6\n",
    "\n",
    "h = partition(h1, 3)\n",
    "while(h != None):\n",
    "    print(str(h.val), end='->')\n",
    "    h = h.next"
   ]
  },
  {
   "cell_type": "markdown",
   "metadata": {},
   "source": [
    "**Q 6:** Check if a linked list is a palindrome.  \n",
    "**Answer:** Divide linked list into two parts. Reverse one part and compare nodes."
   ]
  },
  {
   "cell_type": "code",
   "execution_count": 10,
   "metadata": {},
   "outputs": [],
   "source": [
    "def is_palindrome(head):\n",
    "    if head == None or head.next == None:\n",
    "            return True\n",
    "        \n",
    "    # Move to the middle element and split\n",
    "    slow = head\n",
    "    fast = head\n",
    "    pre = None\n",
    "\n",
    "    while(fast != None and fast.next != None):\n",
    "        slow = slow.next\n",
    "        fast = fast.next.next\n",
    "\n",
    "        if pre == None:\n",
    "            pre = head\n",
    "        else:\n",
    "            pre = pre.next\n",
    "\n",
    "    pre.next = None\n",
    "    \n",
    "    # The two linked lists are\n",
    "    left = head\n",
    "    right = slow\n",
    "\n",
    "    # Reverse the right linked list\n",
    "    current = right\n",
    "    forward = None\n",
    "    previous = None\n",
    "\n",
    "    while(current != None):\n",
    "        forward = current.next\n",
    "        current.next = previous\n",
    "        previous = current\n",
    "        current = forward\n",
    "\n",
    "    right = previous\n",
    "    \n",
    "    # Compare both\n",
    "    cur_l = left\n",
    "    cur_r = right\n",
    "    while(cur_l != None):\n",
    "        if cur_l.val != cur_r.val:\n",
    "            return False\n",
    "        cur_l = cur_l.next\n",
    "        cur_r = cur_r.next\n",
    "\n",
    "    return True"
   ]
  },
  {
   "cell_type": "markdown",
   "metadata": {},
   "source": [
    "**Q 7** Given a linked list, remove $n$th node from its end.  \n",
    "**Answer** In order to reach nth node from end, we can make use of two pointers and maintain a distance of $n$ between them"
   ]
  },
  {
   "cell_type": "code",
   "execution_count": 7,
   "metadata": {},
   "outputs": [
    {
     "name": "stdout",
     "output_type": "stream",
     "text": [
      "5->3->2->4->"
     ]
    }
   ],
   "source": [
    "def remove_from_end(head, n):\n",
    "    p1 = head\n",
    "    p2 = head\n",
    "    \n",
    "    # Maintain a distance of n between the pointers\n",
    "    distance = 0\n",
    "    while p2 is not None and distance != n:\n",
    "        if p2.next is None and distance < n:\n",
    "            head = head.next\n",
    "            return head\n",
    "        if distance == n:\n",
    "            break\n",
    "        \n",
    "        p2 = p2.next\n",
    "        distance += 1\n",
    "    p2 = p2.next\n",
    "        \n",
    "    while p1 is not None and p2 is not None:\n",
    "        p1 = p1.next\n",
    "        p2 = p2.next\n",
    "        \n",
    "    temp = p1.next.next\n",
    "    p1.next = temp\n",
    "    \n",
    "    return head\n",
    "\n",
    "n1 = ListNode(1)\n",
    "n2 = ListNode(5)\n",
    "n3 = ListNode(3)\n",
    "n4 = ListNode(2)\n",
    "n5 = ListNode(4)\n",
    "\n",
    "n1.next = n2\n",
    "n2.next = n3\n",
    "n3.next = n4\n",
    "n4.next = n5\n",
    "\n",
    "h = remove_from_end(n1, 5)\n",
    "while(h != None):\n",
    "    print(str(h.val), end='->')\n",
    "    h = h.next"
   ]
  },
  {
   "cell_type": "markdown",
   "metadata": {},
   "source": [
    "**Q 8** Given a linked list reverse $K$ nodes at a time. For example, if the linked list is `1->2->3->4->5->6` and $K = 2$, the modified linked list would be `2->1->4->3->6->5`  \n",
    "**Answer**"
   ]
  },
  {
   "cell_type": "code",
   "execution_count": 11,
   "metadata": {},
   "outputs": [
    {
     "name": "stdout",
     "output_type": "stream",
     "text": [
      "5->1->2->3->4->"
     ]
    }
   ],
   "source": [
    "def reverse_K(head, K):\n",
    "    if head == None or K == 1:\n",
    "        return head\n",
    "    \n",
    "    # Check if the list has K nodes or not\n",
    "    # if not return the head\n",
    "    j = 0\n",
    "    cur = head\n",
    "    while cur is not None:\n",
    "        j += 1\n",
    "        cur = cur.next\n",
    "        \n",
    "    if j < K:\n",
    "        return head\n",
    "    \n",
    "    # Reverse K nodes\n",
    "    current = head\n",
    "    previous = None\n",
    "    forward = None\n",
    "    \n",
    "    j = 0\n",
    "    while j < K:\n",
    "        forward = current.next\n",
    "        current.next = previous\n",
    "        previous = current\n",
    "        current = forward\n",
    "        j += 1\n",
    "    \n",
    "    # Recursively reverse next K nodes\n",
    "    head.next = reverse_K(current, K)\n",
    "    \n",
    "    return previous\n",
    "\n",
    "n1 = ListNode(1)\n",
    "n2 = ListNode(5)\n",
    "n3 = ListNode(3)\n",
    "n4 = ListNode(2)\n",
    "n5 = ListNode(4)\n",
    "\n",
    "n1.next = n2\n",
    "n2.next = n3\n",
    "n3.next = n4\n",
    "n4.next = n5\n",
    "\n",
    "h = reverse_K(n1, 2)\n",
    "while(h != None):\n",
    "    print(str(h.val), end='->')\n",
    "    h = h.next"
   ]
  },
  {
   "cell_type": "markdown",
   "metadata": {},
   "source": [
    "**Q 9** Given a linked list, return it in its spiral order.  \n",
    "**Answer** "
   ]
  },
  {
   "cell_type": "code",
   "execution_count": 17,
   "metadata": {},
   "outputs": [
    {
     "name": "stdout",
     "output_type": "stream",
     "text": [
      "1->7->5->4->3->2->"
     ]
    }
   ],
   "source": [
    "def spiral(head):\n",
    "    j = 0\n",
    "    cur = head\n",
    "    while cur is not None:\n",
    "        cur.next = reverse(cur.next)\n",
    "        j += 1\n",
    "        cur = cur.next\n",
    "        \n",
    "    return head\n",
    "\n",
    "n1 = ListNode(1)\n",
    "n2 = ListNode(5)\n",
    "n3 = ListNode(3)\n",
    "n4 = ListNode(2)\n",
    "n5 = ListNode(4)\n",
    "n6 = ListNode(7)\n",
    "\n",
    "n1.next = n2\n",
    "n2.next = n3\n",
    "n3.next = n4\n",
    "n4.next = n5\n",
    "n5.next = n6\n",
    "\n",
    "h = spiral(n1)\n",
    "while(h != None):\n",
    "    print(str(h.val), end='->')\n",
    "    h = h.next"
   ]
  },
  {
   "cell_type": "markdown",
   "metadata": {},
   "source": [
    "**Q 10** Given a doubly linked list, each node points to the next node as well as a different node (not necessarily the previous node). Clone this linked list. A node is defined as:\n",
    "```py\n",
    "class ListNode:\n",
    "    def __init__(self, data):\n",
    "        self.data = data\n",
    "        self.next = self.random = None\n",
    "```\n",
    "**Answer** "
   ]
  },
  {
   "cell_type": "code",
   "execution_count": null,
   "metadata": {},
   "outputs": [],
   "source": [
    "class ListNode:\n",
    "    def __init__(self, data):\n",
    "        self.data = data\n",
    "        self.next = self.random = None\n",
    "        \n",
    "def clone(head):\n",
    "    # Clone with random pointer pointing to null\n",
    "    clone_head = ListNode(head.data)\n",
    "    \n",
    "    cur = head\n",
    "    clone_cur = clone_head\n",
    "    \n",
    "    mapping = {}\n",
    "    \n",
    "    while cur is not None:\n",
    "        mapping[cur] = clone_cur\n",
    "        if cur.next is not None:\n",
    "            clone_cur.next = ListNode(cur.next.data)\n",
    "        \n",
    "        clone_cur = clone_cur.next\n",
    "        cur = cur.next\n",
    "        \n",
    "    # Fill the random pointers\n",
    "    cur = head\n",
    "    clone_cur = clone_head\n",
    "    while cur is not None:\n",
    "        random = cur.random\n",
    "        clone_cur.random = mapping[random]\n",
    "        \n",
    "        cur = cur.next\n",
    "        clone_cur = clone_cur.next\n",
    "        \n",
    "    return clone_head"
   ]
  },
  {
   "cell_type": "markdown",
   "metadata": {},
   "source": [
    "**Q 11** Given a linked list with all nodes in sorted order, remove all nodes containing duplicate data.  \n",
    "**Answer** "
   ]
  },
  {
   "cell_type": "code",
   "execution_count": 20,
   "metadata": {},
   "outputs": [
    {
     "name": "stdout",
     "output_type": "stream",
     "text": [
      "1->3->4->7->"
     ]
    }
   ],
   "source": [
    "class ListNode:\n",
    "    def __init__(self, data):\n",
    "        self.data = data\n",
    "        self.next = None\n",
    "        \n",
    "def remove_duplicate(head):\n",
    "    cur = head\n",
    "    while cur is not None:\n",
    "        while cur.next is not None and cur.data == cur.next.data:\n",
    "            cur.next = cur.next.next\n",
    "            \n",
    "        cur = cur.next\n",
    "        \n",
    "    return head\n",
    "\n",
    "n1 = ListNode(1)\n",
    "n2 = ListNode(3)\n",
    "n3 = ListNode(3)\n",
    "n4 = ListNode(4)\n",
    "n5 = ListNode(7)\n",
    "n6 = ListNode(7)\n",
    "\n",
    "n1.next = n2\n",
    "n2.next = n3\n",
    "n3.next = n4\n",
    "n4.next = n5\n",
    "n5.next = n6\n",
    "\n",
    "h = remove_duplicate(n1)\n",
    "while(h != None):\n",
    "    print(str(h.data), end='->')\n",
    "    h = h.next"
   ]
  },
  {
   "cell_type": "markdown",
   "metadata": {},
   "source": [
    "or we can make use of two pointers"
   ]
  },
  {
   "cell_type": "code",
   "execution_count": 21,
   "metadata": {},
   "outputs": [
    {
     "name": "stdout",
     "output_type": "stream",
     "text": [
      "1->3->4->7->"
     ]
    }
   ],
   "source": [
    "def remove_duplicates(head):\n",
    "    if head is None:\n",
    "        return head\n",
    "    \n",
    "    p1 = head\n",
    "    p2 = head.next\n",
    "    while p2 is not None:\n",
    "        if p1.data == p2.data:\n",
    "            p1.next = p2.next\n",
    "            p2 = p2.next\n",
    "        else:            \n",
    "            p1 = p2\n",
    "            p2 = p2.next\n",
    "    \n",
    "    return head\n",
    "\n",
    "n1 = ListNode(1)\n",
    "n2 = ListNode(3)\n",
    "n3 = ListNode(3)\n",
    "n4 = ListNode(4)\n",
    "n5 = ListNode(7)\n",
    "n6 = ListNode(7)\n",
    "\n",
    "n1.next = n2\n",
    "n2.next = n3\n",
    "n3.next = n4\n",
    "n4.next = n5\n",
    "n5.next = n6\n",
    "\n",
    "h = remove_duplicate(n1)\n",
    "while(h != None):\n",
    "    print(str(h.data), end='->')\n",
    "    h = h.next"
   ]
  },
  {
   "cell_type": "markdown",
   "metadata": {},
   "source": [
    "**Q 12** Find the point of intersection of two linked lists. Return -1 if the linked lists do not intersect  \n",
    "**Answer** We find the lengths of both linked lists and move the distance equal to the difference in the lengths"
   ]
  },
  {
   "cell_type": "code",
   "execution_count": null,
   "metadata": {},
   "outputs": [],
   "source": [
    "def intersection_node(head1, head2):\n",
    "    length1 = length2 = 0\n",
    "    \n",
    "    cur1 = head1\n",
    "    while cur1 is not None:\n",
    "        cur1 = cur1.next\n",
    "        length1 += 1\n",
    "        \n",
    "    cur2 = head2\n",
    "    while cur2 is not None:\n",
    "        cur2 = cur2.next\n",
    "        length2 += 1\n",
    "        \n",
    "    j = 0\n",
    "    gap = abs(length1 - length2)    \n",
    "    if length1 > length2:\n",
    "        cur = head1\n",
    "        while j < gap:\n",
    "            cur = cur.next\n",
    "            j += 1\n",
    "    elif length2 > length1:\n",
    "        cur = head2\n",
    "        while j < gap:\n",
    "            cur = cur.next\n",
    "            j += 1\n",
    "            \n",
    "    cur1 = head1\n",
    "    cur2 = head2\n",
    "    while cur1 is not None and cur2 is not None:\n",
    "        if cur1 == cur2:\n",
    "            return cur1\n",
    "        else:\n",
    "            cur1 = cur1.next\n",
    "            cur2 = cur2.next\n",
    "            \n",
    "    return None"
   ]
  }
 ],
 "metadata": {
  "kernelspec": {
   "display_name": "Python 3",
   "language": "python",
   "name": "python3"
  },
  "language_info": {
   "codemirror_mode": {
    "name": "ipython",
    "version": 3
   },
   "file_extension": ".py",
   "mimetype": "text/x-python",
   "name": "python",
   "nbconvert_exporter": "python",
   "pygments_lexer": "ipython3",
   "version": "3.7.4"
  }
 },
 "nbformat": 4,
 "nbformat_minor": 4
}
