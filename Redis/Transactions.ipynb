{
 "cells": [
  {
   "cell_type": "markdown",
   "metadata": {},
   "source": [
    "### Transaction\n",
    "Redis transactions are created and executed using the `MULTI` and `EXEC` commands. Compared to transactions available in there are few differences: \n",
    "\n",
    "**Atomicity:** Redis transactions are atomic but not in the same sense as in RDBMS. In Redis, we first queue up sequence of operations and then execute all the operations in one go. If some error is detected while queueing up (before EXEC), none of the operation will get executed. However if all goes well and some problem occurs during execution (after EXEC), the commands that were executed successfully will not be rolled back.\n",
    "\n",
    "We can see both the cases:"
   ]
  },
  {
   "cell_type": "markdown",
   "metadata": {},
   "source": [
    "```\n",
    "> MULTI\n",
    "+OK\n",
    "> SET greeting hello\n",
    "+QUEUED\n",
    "> LPOP greeting\n",
    "+QUEUED\n",
    "> EXEC\n",
    "*2\n",
    "+OK\n",
    "-ERR Operation against a key holding the wrong kind of value\n",
    "```\n",
    "\n",
    "Error found after EXEC, the greeting key is set, this operation is not rolled back."
   ]
  },
  {
   "cell_type": "markdown",
   "metadata": {},
   "source": [
    "```\n",
    "> MULTI\n",
    "+OK\n",
    "> SET greeting hello\n",
    "+QUEUED\n",
    "> INCR a b c\n",
    "-ERR wrong number of arguments for 'incr' command\n",
    "```\n",
    "\n",
    "INCR command above is not queued at all"
   ]
  },
  {
   "cell_type": "markdown",
   "metadata": {},
   "source": [
    "**Isolation:** Redis isolation level is serializable (when compared to RDBMS terminology), weaker isolation levels are not available.\n",
    "\n",
    "Since the operations are all queued, we can't make decisions inside the transaction (which is why we use Lua scripts)."
   ]
  },
  {
   "cell_type": "markdown",
   "metadata": {},
   "source": [
    "### Code Example"
   ]
  },
  {
   "cell_type": "code",
   "execution_count": 1,
   "metadata": {},
   "outputs": [],
   "source": [
    "const redis = require('/usr/local/lib/node_modules/redis')\n",
    "const client = redis.createClient()"
   ]
  },
  {
   "cell_type": "code",
   "execution_count": 2,
   "metadata": {},
   "outputs": [
    {
     "data": {
      "text/plain": [
       "true"
      ]
     },
     "execution_count": 2,
     "metadata": {},
     "output_type": "execute_result"
    },
    {
     "name": "stdout",
     "output_type": "stream",
     "text": [
      "OK\n",
      "OK\n",
      "101\n",
      "4\n"
     ]
    }
   ],
   "source": [
    "let multi = client.multi()\n",
    "multi.set('k1', '100')\n",
    "multi.set('k2', '5')\n",
    "multi.incr('k1')\n",
    "multi.decr('k2')\n",
    "// All the above commands have not executed yet\n",
    "multi.exec((err, res)=>{\n",
    "    for(r of res){\n",
    "        console.log(r)\n",
    "    }\n",
    "})"
   ]
  },
  {
   "cell_type": "markdown",
   "metadata": {},
   "source": [
    "### Pipeline\n",
    "Pipeline in Redis differs from a transaction. It is primarily network optimization. It essentially means the client buffers up a bunch of commands and ships them to the server in one go. The commands are not guaranteed to be executed in a transaction. The benefit here is saving network round trip time for every command."
   ]
  },
  {
   "cell_type": "code",
   "execution_count": 2,
   "metadata": {},
   "outputs": [
    {
     "data": {
      "text/plain": [
       "true"
      ]
     },
     "execution_count": 2,
     "metadata": {},
     "output_type": "execute_result"
    },
    {
     "name": "stdout",
     "output_type": "stream",
     "text": [
      "0\n",
      "1\n"
     ]
    }
   ],
   "source": [
    "const pipeline = client.batch()\n",
    "pipeline.hset('pipeline-test-key', 'available', 'false')\n",
    "pipeline.expire('pipeline-test-key', 1000)\n",
    "pipeline.exec((err, res)=>{\n",
    "    for(r of res){\n",
    "        console.log(r)\n",
    "    }\n",
    "})"
   ]
  },
  {
   "cell_type": "code",
   "execution_count": null,
   "metadata": {},
   "outputs": [],
   "source": []
  }
 ],
 "metadata": {
  "kernelspec": {
   "display_name": "Javascript (Node.js)",
   "language": "javascript",
   "name": "javascript"
  },
  "language_info": {
   "file_extension": ".js",
   "mimetype": "application/javascript",
   "name": "javascript",
   "version": "10.19.0"
  }
 },
 "nbformat": 4,
 "nbformat_minor": 4
}
