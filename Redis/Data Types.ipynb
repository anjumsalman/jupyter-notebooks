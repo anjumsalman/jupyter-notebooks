{
 "cells": [
  {
   "cell_type": "markdown",
   "metadata": {},
   "source": [
    "### Redis Data Types\n",
    "Redis has 5 primary data types:\n",
    "- STRING: used to store strings and numbers\n",
    "- LIST: linked list of STRING\n",
    "- SET: unordered collection of unique STRING\n",
    "- HASH: key value pair\n",
    "- ZSET: sorted SET\n",
    "\n",
    "All data stored in Redis is in key-value form. Value can be either of the 5 types described above"
   ]
  },
  {
   "cell_type": "markdown",
   "metadata": {},
   "source": [
    "### STRING\n",
    "The String data type is used to store String, Integer and Floating point numbers. The basic operations associated with STRING are `GET`,`SET` and `DEL`."
   ]
  },
  {
   "cell_type": "code",
   "execution_count": null,
   "metadata": {},
   "outputs": [],
   "source": [
    "const redis = require('/usr/local/lib/node_modules/redis')\n",
    "const client = redis.createClient()"
   ]
  },
  {
   "cell_type": "code",
   "execution_count": 3,
   "metadata": {},
   "outputs": [
    {
     "data": {
      "text/plain": [
       "true"
      ]
     },
     "execution_count": 3,
     "metadata": {},
     "output_type": "execute_result"
    },
    {
     "name": "stdout",
     "output_type": "stream",
     "text": [
      "OK\n",
      "Hello\n"
     ]
    }
   ],
   "source": [
    "function print(err, val){\n",
    "    if(!err){\n",
    "        console.log(val)\n",
    "    } else {\n",
    "        console.log(err)\n",
    "    }\n",
    "}\n",
    "\n",
    "// Creating a string value\n",
    "client.set('mykey', 'Hello', print)\n",
    "client.get('mykey', print)"
   ]
  },
  {
   "cell_type": "markdown",
   "metadata": {},
   "source": [
    "Since the same STRING type is used to represent Integers and Floating type data, we have number specific commands. Note that a nonexisting key or blank string is equivalent to 0. The cli commands `INCR`, `DECR`, `INCRBY`, `DECRBY`"
   ]
  },
  {
   "cell_type": "code",
   "execution_count": 4,
   "metadata": {},
   "outputs": [
    {
     "data": {
      "text/plain": [
       "true"
      ]
     },
     "execution_count": 4,
     "metadata": {},
     "output_type": "execute_result"
    },
    {
     "name": "stdout",
     "output_type": "stream",
     "text": [
      "51\n",
      "56\n"
     ]
    }
   ],
   "source": [
    "client.set('mynum', '50')\n",
    "client.incr('mynum', print)\n",
    "client.incrby('mynum', 5, print)"
   ]
  },
  {
   "cell_type": "code",
   "execution_count": 5,
   "metadata": {},
   "outputs": [
    {
     "data": {
      "text/plain": [
       "true"
      ]
     },
     "execution_count": 5,
     "metadata": {},
     "output_type": "execute_result"
    },
    {
     "name": "stdout",
     "output_type": "stream",
     "text": [
      "-1\n"
     ]
    }
   ],
   "source": [
    "// Key doesn't exist\n",
    "client.decr('unknown', print)"
   ]
  },
  {
   "cell_type": "code",
   "execution_count": 6,
   "metadata": {},
   "outputs": [
    {
     "data": {
      "text/plain": [
       "true"
      ]
     },
     "execution_count": 6,
     "metadata": {},
     "output_type": "execute_result"
    },
    {
     "name": "stdout",
     "output_type": "stream",
     "text": [
      "{ ReplyError: ERR value is not an integer or out of range\n",
      "    at parseError (/usr/local/lib/node_modules/redis/node_modules/redis-parser/lib/parser.js:179:12)\n",
      "    at parseType (/usr/local/lib/node_modules/redis/node_modules/redis-parser/lib/parser.js:302:14) command: 'DECRBY', args: [ 'mykey', 10 ], code: 'ERR' }\n"
     ]
    }
   ],
   "source": [
    "// Key containing string literal\n",
    "client.decrby('mykey', 10, print)"
   ]
  },
  {
   "cell_type": "markdown",
   "metadata": {},
   "source": [
    "A few traditional string operations are also supported. `APPEND`, `GETRANGE` (equivalent to substring), `SETRANGE` and more bit related functions are available."
   ]
  },
  {
   "cell_type": "code",
   "execution_count": 8,
   "metadata": {},
   "outputs": [
    {
     "data": {
      "text/plain": [
       "true"
      ]
     },
     "execution_count": 8,
     "metadata": {},
     "output_type": "execute_result"
    },
    {
     "name": "stdout",
     "output_type": "stream",
     "text": [
      "10\n",
      "Hello\n",
      "HelloWorld\n",
      "10\n",
      "HelloEarth\n"
     ]
    }
   ],
   "source": [
    "client.set('greeting', 'Hello')\n",
    "client.append('greeting', 'World', print)\n",
    "\n",
    "client.getrange('greeting', 0, 4, print) // both inclusive, the string length is printed\n",
    "client.get('greeting', print)\n",
    "\n",
    "client.setrange('greeting', 5, 'Earth', print) // replacing World with Earth, string length is printed\n",
    "client.get('greeting', print)"
   ]
  },
  {
   "cell_type": "markdown",
   "metadata": {},
   "source": [
    "### LIST\n",
    "Ordered sequence of STRING. The typical operations are what we expect from lists `LPUSH/RPUSH` (add to beginning or end), `LINDEX` (get item at index), `LRANGE` (get range of items), `LPOP/RPOP` (pop element from either end), `LLEN` (get length of list)"
   ]
  },
  {
   "cell_type": "code",
   "execution_count": 11,
   "metadata": {},
   "outputs": [
    {
     "data": {
      "text/plain": [
       "true"
      ]
     },
     "execution_count": 11,
     "metadata": {},
     "output_type": "execute_result"
    },
    {
     "name": "stdout",
     "output_type": "stream",
     "text": [
      "3\n",
      "new york\n"
     ]
    }
   ],
   "source": [
    "client.rpush('cities', 'new york', 'london', 'paris', print)\n",
    "client.lindex('cities', 0, print)"
   ]
  },
  {
   "cell_type": "code",
   "execution_count": 12,
   "metadata": {},
   "outputs": [
    {
     "data": {
      "text/plain": [
       "true"
      ]
     },
     "execution_count": 12,
     "metadata": {},
     "output_type": "execute_result"
    },
    {
     "name": "stdout",
     "output_type": "stream",
     "text": [
      "new york\n",
      "2\n"
     ]
    }
   ],
   "source": [
    "client.lpop('cities', print)\n",
    "client.llen('cities', print)"
   ]
  },
  {
   "cell_type": "code",
   "execution_count": 13,
   "metadata": {},
   "outputs": [
    {
     "data": {
      "text/plain": [
       "true"
      ]
     },
     "execution_count": 13,
     "metadata": {},
     "output_type": "execute_result"
    },
    {
     "name": "stdout",
     "output_type": "stream",
     "text": [
      "[ 'london', 'paris' ]\n"
     ]
    }
   ],
   "source": [
    "// Get the entire list\n",
    "client.llen('cities', (err, res)=>{\n",
    "    client.lrange('cities', 0, res-1, (err, res)=>{\n",
    "        console.log(res)\n",
    "    })\n",
    "})"
   ]
  },
  {
   "cell_type": "markdown",
   "metadata": {},
   "source": [
    "### SET\n",
    "SET in Redis is list with only unique values (unordered). Basic operations are `SADD`, `SREM`, `SISMEMBER` (check if value present in SET), `SMEMBERS` (return all members of the SET)."
   ]
  },
  {
   "cell_type": "code",
   "execution_count": 14,
   "metadata": {},
   "outputs": [
    {
     "data": {
      "text/plain": [
       "true"
      ]
     },
     "execution_count": 14,
     "metadata": {},
     "output_type": "execute_result"
    },
    {
     "name": "stdout",
     "output_type": "stream",
     "text": [
      "[ 'yellow', 'blue', 'cyan', 'red' ]\n"
     ]
    }
   ],
   "source": [
    "client.sadd('colors', 'red', 'blue', 'cyan', 'red', 'yellow')\n",
    "client.smembers('colors', print)"
   ]
  },
  {
   "cell_type": "code",
   "execution_count": 15,
   "metadata": {},
   "outputs": [
    {
     "data": {
      "text/plain": [
       "true"
      ]
     },
     "execution_count": 15,
     "metadata": {},
     "output_type": "execute_result"
    },
    {
     "name": "stdout",
     "output_type": "stream",
     "text": [
      "1\n"
     ]
    }
   ],
   "source": [
    "client.sismember('colors', 'blue', print)"
   ]
  },
  {
   "cell_type": "code",
   "execution_count": 16,
   "metadata": {},
   "outputs": [
    {
     "data": {
      "text/plain": [
       "true"
      ]
     },
     "execution_count": 16,
     "metadata": {},
     "output_type": "execute_result"
    },
    {
     "name": "stdout",
     "output_type": "stream",
     "text": [
      "4\n"
     ]
    }
   ],
   "source": [
    "// Get number of items in set\n",
    "client.scard('colors', print)"
   ]
  },
  {
   "cell_type": "code",
   "execution_count": 17,
   "metadata": {},
   "outputs": [
    {
     "data": {
      "text/plain": [
       "true"
      ]
     },
     "execution_count": 17,
     "metadata": {},
     "output_type": "execute_result"
    },
    {
     "name": "stdout",
     "output_type": "stream",
     "text": [
      "[ 'cyan', 'red' ]\n"
     ]
    }
   ],
   "source": [
    "// Removing specific and random item from SET\n",
    "client.srem('colors', 'blue')\n",
    "client.spop('colors') // removes random item from SET\n",
    "client.smembers('colors', print)"
   ]
  },
  {
   "cell_type": "markdown",
   "metadata": {},
   "source": [
    "Redis SETS have functionality to get union, intersection, difference using the `SUNION`, `SINTER`, `SDIFF`"
   ]
  },
  {
   "cell_type": "code",
   "execution_count": 23,
   "metadata": {},
   "outputs": [
    {
     "data": {
      "text/plain": [
       "true"
      ]
     },
     "execution_count": 23,
     "metadata": {},
     "output_type": "execute_result"
    },
    {
     "name": "stdout",
     "output_type": "stream",
     "text": [
      "[ 'c', 'd' ]\n",
      "[ 'c', 'd' ]\n",
      "[ 'f', 'e', 'c', 'a', 'b', 'd' ]\n",
      "[ 'b', 'a' ]\n"
     ]
    }
   ],
   "source": [
    "client.sadd('set1', 'a', 'b', 'c', 'd');\n",
    "client.sadd('set2', 'c', 'd', 'e', 'f');\n",
    "\n",
    "// Intersection\n",
    "client.sinter('set1', 'set2', print)\n",
    "// Save intersection in a separate key\n",
    "client.sinterstore('intersection', 'set1', 'set2')\n",
    "client.smembers('intersection', print)\n",
    "\n",
    "// Union\n",
    "client.sunionstore('union', 'set1', 'set2')\n",
    "client.smembers('union', print)\n",
    "\n",
    "// Difference (items in set a but not in set b, order matters)\n",
    "client.sdiffstore('difference', 'set1', 'set2')\n",
    "client.smembers('difference', print)"
   ]
  },
  {
   "cell_type": "markdown",
   "metadata": {},
   "source": [
    "### HASH\n",
    "Redis HASH data type lets us store group of key value pairs. Both the key and the value are strings. In a lot of ways HASH can be considered as miniature version of Redis itself. Operations: `HSET`, `HGET`, `HGETALL`, `HDEL`, etc."
   ]
  },
  {
   "cell_type": "code",
   "execution_count": 24,
   "metadata": {},
   "outputs": [
    {
     "data": {
      "text/plain": [
       "true"
      ]
     },
     "execution_count": 24,
     "metadata": {},
     "output_type": "execute_result"
    },
    {
     "name": "stdout",
     "output_type": "stream",
     "text": [
      "new delhi\n"
     ]
    }
   ],
   "source": [
    "client.hset('capitals', 'india', 'new delhi')\n",
    "client.hget('capitals', 'india', print)"
   ]
  },
  {
   "cell_type": "code",
   "execution_count": 25,
   "metadata": {},
   "outputs": [
    {
     "data": {
      "text/plain": [
       "true"
      ]
     },
     "execution_count": 25,
     "metadata": {},
     "output_type": "execute_result"
    },
    {
     "name": "stdout",
     "output_type": "stream",
     "text": [
      "{ india: 'new delhi',\n",
      "  france: 'paris',\n",
      "  norway: 'oslo',\n",
      "  australia: 'canberra' }\n"
     ]
    }
   ],
   "source": [
    "// We set one key value pair at a time\n",
    "client.hset('capitals', 'france', 'paris')\n",
    "client.hset('capitals', 'norway', 'oslo')\n",
    "client.hset('capitals', 'australia', 'canberra')\n",
    "client.hgetall('capitals', print)"
   ]
  },
  {
   "cell_type": "code",
   "execution_count": 32,
   "metadata": {},
   "outputs": [
    {
     "data": {
      "text/plain": [
       "true"
      ]
     },
     "execution_count": 32,
     "metadata": {},
     "output_type": "execute_result"
    },
    {
     "name": "stdout",
     "output_type": "stream",
     "text": [
      "[ 'Porsche', 'Land Rover' ]\n"
     ]
    }
   ],
   "source": [
    "// Or many at a time (HMSET deprecated as per Redis 4.0)\n",
    "client.hmset('cars', {\n",
    "    '911': 'Porsche',\n",
    "    'GTR': 'Nissan',\n",
    "    'SLS': 'Mercedes',\n",
    "    'M5': 'BMW',\n",
    "    'Evoque': 'Land Rover'\n",
    "})\n",
    "\n",
    "// Get list of keys\n",
    "client.hmget('cars', ['911', 'Evoque'], print)"
   ]
  },
  {
   "cell_type": "code",
   "execution_count": 26,
   "metadata": {},
   "outputs": [
    {
     "data": {
      "text/plain": [
       "true"
      ]
     },
     "execution_count": 26,
     "metadata": {},
     "output_type": "execute_result"
    },
    {
     "name": "stdout",
     "output_type": "stream",
     "text": [
      "4\n"
     ]
    }
   ],
   "source": [
    "// Count number of keys\n",
    "client.hlen('capitals', print)"
   ]
  },
  {
   "cell_type": "code",
   "execution_count": 27,
   "metadata": {},
   "outputs": [
    {
     "data": {
      "text/plain": [
       "true"
      ]
     },
     "execution_count": 27,
     "metadata": {},
     "output_type": "execute_result"
    },
    {
     "name": "stdout",
     "output_type": "stream",
     "text": [
      "0\n"
     ]
    }
   ],
   "source": [
    "// Check if a key exists\n",
    "client.hexists('capitals', 'bangladesh', print)"
   ]
  },
  {
   "cell_type": "code",
   "execution_count": 30,
   "metadata": {},
   "outputs": [
    {
     "data": {
      "text/plain": [
       "true"
      ]
     },
     "execution_count": 30,
     "metadata": {},
     "output_type": "execute_result"
    },
    {
     "name": "stdout",
     "output_type": "stream",
     "text": [
      "[ 'india', 'france', 'norway', 'australia' ]\n",
      "[ 'new delhi', 'paris', 'oslo', 'canberra' ]\n"
     ]
    }
   ],
   "source": [
    "// Get all keys\n",
    "client.hkeys('capitals', print)\n",
    "// Get all values\n",
    "client.hvals('capitals', print)"
   ]
  },
  {
   "cell_type": "markdown",
   "metadata": {},
   "source": [
    "Often times we store numeric values in redis HASH, so Redis provides helper commands to increment/ decrement those."
   ]
  },
  {
   "cell_type": "code",
   "execution_count": 33,
   "metadata": {},
   "outputs": [
    {
     "data": {
      "text/plain": [
       "true"
      ]
     },
     "execution_count": 33,
     "metadata": {},
     "output_type": "execute_result"
    },
    {
     "name": "stdout",
     "output_type": "stream",
     "text": [
      "-4\n"
     ]
    }
   ],
   "source": [
    "client.hset('nums', 'one', '1')\n",
    "client.hincrby('nums', 'one', -5)\n",
    "client.hget('nums', 'one', print)"
   ]
  },
  {
   "cell_type": "markdown",
   "metadata": {},
   "source": [
    "### ZSET\n",
    "ZSET is sorted SET. We need to provide a numeric score for each value. The score determines how the items will be sorted"
   ]
  },
  {
   "cell_type": "code",
   "execution_count": 53,
   "metadata": {},
   "outputs": [
    {
     "data": {
      "text/plain": [
       "true"
      ]
     },
     "execution_count": 53,
     "metadata": {},
     "output_type": "execute_result"
    },
    {
     "name": "stdout",
     "output_type": "stream",
     "text": [
      "4\n"
     ]
    }
   ],
   "source": [
    "client.zadd('pokemons', 714, 'blissey')\n",
    "client.zadd('pokemons', 544, 'wailord')\n",
    "client.zadd('pokemons', 344, 'scizor')\n",
    "client.zadd('pokemons', 354, 'sunflora')\n",
    "client.zadd('pokemons', 360, 'charizard')\n",
    "client.zrem('pokemons', 'blissey')\n",
    "// Get count of elements added\n",
    "client.zcard('pokemons', print)"
   ]
  },
  {
   "cell_type": "code",
   "execution_count": 49,
   "metadata": {},
   "outputs": [
    {
     "data": {
      "text/plain": [
       "true"
      ]
     },
     "execution_count": 49,
     "metadata": {},
     "output_type": "execute_result"
    },
    {
     "name": "stdout",
     "output_type": "stream",
     "text": [
      "4\n"
     ]
    }
   ],
   "source": [
    "// Get count of all pokemons having HP between 300 and 600\n",
    "client.zcount('pokemons', 300, 600, print)"
   ]
  },
  {
   "cell_type": "code",
   "execution_count": 51,
   "metadata": {},
   "outputs": [
    {
     "data": {
      "text/plain": [
       "true"
      ]
     },
     "execution_count": 51,
     "metadata": {},
     "output_type": "execute_result"
    },
    {
     "name": "stdout",
     "output_type": "stream",
     "text": [
      "354\n"
     ]
    }
   ],
   "source": [
    "// Get rank of a pokemon\n",
    "client.zscore('pokemons', 'sunflora', print)"
   ]
  },
  {
   "cell_type": "code",
   "execution_count": 52,
   "metadata": {},
   "outputs": [
    {
     "data": {
      "text/plain": [
       "true"
      ]
     },
     "execution_count": 52,
     "metadata": {},
     "output_type": "execute_result"
    },
    {
     "name": "stdout",
     "output_type": "stream",
     "text": [
      "[ 'scizor', 'sunflora', 'charizard' ]\n"
     ]
    }
   ],
   "source": [
    "client.zrangebyscore('pokemons', 300, 500, print)"
   ]
  },
  {
   "cell_type": "code",
   "execution_count": null,
   "metadata": {},
   "outputs": [],
   "source": []
  }
 ],
 "metadata": {
  "kernelspec": {
   "display_name": "Javascript (Node.js)",
   "language": "javascript",
   "name": "javascript"
  },
  "language_info": {
   "file_extension": ".js",
   "mimetype": "application/javascript",
   "name": "javascript",
   "version": "10.19.0"
  }
 },
 "nbformat": 4,
 "nbformat_minor": 4
}
