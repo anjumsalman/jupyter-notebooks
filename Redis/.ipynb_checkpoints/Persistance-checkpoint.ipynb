{
 "cells": [
  {
   "cell_type": "markdown",
   "metadata": {},
   "source": [
    "### Persistance\n",
    "Since Redis stores data in memory, it needs to write it to disk in order to recover data in case of crash or restart. The data transferred to the disc must be an exact copy of data in memory. But how do we achieve that? Suppose there are $n$ key value pairs at time $T_1$ when the data copy was started. Now during the copy process one of the key value pair can be modified. So there may be situation like $a$ amount of key values are same as they were at $T_1$, but $b$ number of key value pairs got updated and reflect the value they have at $T_2$.  \n",
    "\n",
    "![Copy problem](https://i.imgur.com/y6Ac0Uw.png)\n",
    "\n",
    "Possible solution:\n",
    "- lock the entire database during the copy process\n",
    "- make use of `fork`\n",
    "\n",
    "The fork system call spawns a new child process and make two identical copies of address spaces, one for the parent and the other for the child. Since both the parent and child process now share the same physical memory block this is not an expensive operation.  \n",
    "![Fork](https://i.imgur.com/W8i80Mb.png)  \n",
    "\n",
    "Now when an update is made to the existing key value pair during copy, the updated key value pair gets a new memory location. Using this method at the maximum, double memory will be required.  \n",
    "![Update](https://i.imgur.com/rdxJ3qb.png)  \n",
    "\n",
    "Another thing to consider is how data from memory is written to disk? It happens in multiple steps:  \n",
    "![Save](https://i.imgur.com/Pltcc6x.png)\n",
    "\n",
    "`fsync` is a system call which transfers data from kernel buffer to disk cache. The final step is writing data to the disk, which we don't have control over. Fsync is expensive operation and it will block the process for all the time needed to complete the write. To conclude:\n",
    "- Data written to kernel buffers using the write system call (or equivalent) gives us data safety against process failure (Redis crashes).\n",
    "- Data committed to the disk using the fsync system call (or equivalent) gives us, virtually, data safety against complete system failure like a power outage.\n",
    "\n",
    "Redis does disk persistance in two ways:\n",
    "- **RDB**\n",
    "- **AOF**"
   ]
  },
  {
   "cell_type": "markdown",
   "metadata": {},
   "source": [
    "### Redis Database File\n",
    "It is a compacted snapshot of database at a particular point in time. Redis allows configuring specific time duration after which snapshot will be taken. Problem is if Redis crashes during two snapshot, the data added/modified during that time delta will be lost. Configuration related to snapshotting is stored in Redis configuration file:\n",
    "\n",
    "```\n",
    "# In the example below the behavior will be to save:\n",
    "# after 900 sec (15 min) if at least 1 key changed\n",
    "# after 300 sec (5 min) if at least 10 keys changed\n",
    "# after 60 sec if at least 10000 keys changed\n",
    "\n",
    "save 900 1\n",
    "save 300 10\n",
    "save 60 10000\n",
    "\n",
    "# By default Redis will stop accepting writes if RDB snapshots are enabled\n",
    "# (at least one save point) and the latest background save failed.\n",
    "# This will make the user aware (in a hard way) that data is not persisting\n",
    "# on disk properly, otherwise chances are that no one will notice and some\n",
    "# disaster will happen.\n",
    "\n",
    "stop-writes-on-bgsave-error yes\n",
    "\n",
    "# Compress data?\n",
    "rdbcompression yes\n",
    "\n",
    "# The filename where to dump the DB\n",
    "dbfilename dump.rdb\n",
    "\n",
    "# Where to save the dump?\n",
    "dir ./\n",
    "```"
   ]
  },
  {
   "cell_type": "markdown",
   "metadata": {},
   "source": [
    "### Append Only File\n",
    "Alternate persistance mode. In this mode all the commands (only if they have some effect on actual data) coming to Redis is first written to a file. Now in case of abrupt power loss or crash, the file is played back to bring system back to its original state. There is a possibility that the aof file becomes too big. Redis will simply rewrite aof file from scratch in a temporary file by directly accessing data in memory, so that Redis can create the shortest AOF that is possible to generate. There are three different configurations that will change the exact behavior of how Redis writes to disk:  \n",
    "\n",
    "**appendfsync no:** Redis does not perform fsync call, data will be committed to disk at kernel's wish, that is, every 30 seconds in most Linux systems.  \n",
    "\n",
    "**appendfsync everysec:** data will be both written to the file using write and flushed from the kernel to the disk using fsync one time every second.  \n",
    "\n",
    "**appendfsync always:** data is both written to the file and synched on disk using fsync(2) before an acknowledge is returned to the client. Highest durability level.  \n",
    "\n",
    "Sample config:\n",
    "```\n",
    "appendonly no\n",
    "\n",
    "# Filename?\n",
    "appendfilename \"appendonly.aof\"\n",
    "\n",
    "# Mode\n",
    "appendfsync everysec\n",
    "```"
   ]
  }
 ],
 "metadata": {
  "kernelspec": {
   "display_name": "Javascript (Node.js)",
   "language": "javascript",
   "name": "javascript"
  },
  "language_info": {
   "file_extension": ".js",
   "mimetype": "application/javascript",
   "name": "javascript",
   "version": "10.19.0"
  }
 },
 "nbformat": 4,
 "nbformat_minor": 4
}
