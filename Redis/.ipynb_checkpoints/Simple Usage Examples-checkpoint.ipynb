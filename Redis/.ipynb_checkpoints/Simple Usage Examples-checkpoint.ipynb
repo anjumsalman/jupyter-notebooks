{
 "cells": [
  {
   "cell_type": "markdown",
   "metadata": {},
   "source": [
    "## Redis Based Article Voting System\n",
    "### Scenario\n",
    "Mulitple websites have an upvote downvote mechanism for posts/articles. Posts/articles have score, items with higher score are listed on top of the page. Score is a function of posting time and votes. $S = T + kV$. If an article was posted on 1 Jan 2020 and has 200 votes, its score will be $1577903400 + k200$, we set $k = 432$.  \n",
    "\n",
    "After a week, the post/article is locked and users can't upvote/downvote that article. In this scenario, only upvotes are possible."
   ]
  },
  {
   "cell_type": "markdown",
   "metadata": {},
   "source": [
    "### Structure\n",
    "**Articles:** articles will be stored in a HASH. Redis key will be `article:<article_id>` .  \n",
    "![articles](https://i.imgur.com/hisquCg.png)  \n",
    "\n",
    "**Storing Articles:** we will use two sorted sets (ZSET), one to store time of articles, and the other to store scores of articles.\n",
    "![time-score](https://i.imgur.com/SqCAtBD.png)\n",
    "\n",
    "**Storing Users who Voted:** we will use a SET to store users who voted a particular post/article. Redis key will be `voted:<article_id>`. \n",
    "![voted](https://i.imgur.com/RL6WX8b.png)"
   ]
  },
  {
   "cell_type": "markdown",
   "metadata": {},
   "source": [
    "### Implementation\n",
    "Adding and querying articles:"
   ]
  },
  {
   "cell_type": "code",
   "execution_count": 1,
   "metadata": {},
   "outputs": [],
   "source": [
    "import time\n",
    "def add_article(conn, title, link, user):\n",
    "    # Get the id of the last article\n",
    "    article_id = conn.incr('article:')\n",
    "    \n",
    "    article = 'article:' + article_id\n",
    "    now = int(time.time())\n",
    "    conn.hset(article, {\n",
    "        'title': title,\n",
    "        'link': link,\n",
    "        'poster': user,\n",
    "        'time': now,\n",
    "        'votes': 1  # By default each article gets 1 upvote\n",
    "    })\n",
    "    \n",
    "    # Make entry in voted set\n",
    "    conn.sadd('voted:' + article_id, user)\n",
    "    \n",
    "    # Make entry in time and score ZSET\n",
    "    conn.zadd('time:', {'article:' + article_id : now})\n",
    "    conn.zadd('score:', {'article:' + article_id : now + 432})\n",
    "    \n",
    "    return article_id"
   ]
  },
  {
   "cell_type": "code",
   "execution_count": 2,
   "metadata": {},
   "outputs": [],
   "source": [
    "def get_articles(conn, page, page_length=25, order_by='score:'):\n",
    "    start = (page - 1) * page_length\n",
    "    end = start + page_length - 1\n",
    "    \n",
    "    article_ids = conn.zrevrange(order_by, start, end)  # Reverse order of zrange\n",
    "    articles = []\n",
    "    \n",
    "    for article_id in article_ids:\n",
    "        a = conn.hgetall(article_id)  # Gets all keys of the HASH\n",
    "        a['id'] = article_id\n",
    "        articles.append(a)\n",
    "        \n",
    "    return articles"
   ]
  },
  {
   "cell_type": "markdown",
   "metadata": {},
   "source": [
    "Voting articles"
   ]
  },
  {
   "cell_type": "code",
   "execution_count": null,
   "metadata": {},
   "outputs": [],
   "source": [
    "def vote_article(conn, article_id, user_id):\n",
    "    # Prevent user from voting if the article is older than a week\n",
    "    if conn.zscore('time:', article_id) < int(time.time()) - (7*86400):\n",
    "        return\n",
    "    \n",
    "    if conn.('voted:' + article_id.split(':')[1], user_id):\n",
    "        conn.zincrby('score:', article_id, 432)\n",
    "        conn.hincr(article_id, 'votes')"
   ]
  },
  {
   "cell_type": "markdown",
   "metadata": {},
   "source": [
    "## Shopping Cart\n",
    "Shopping cart data traditionally stored in sessions can be easily stored in Redis."
   ]
  },
  {
   "cell_type": "markdown",
   "metadata": {},
   "source": [
    "### Structure\n",
    "**Cart:** Redis key `cart:session_id`   \n",
    "![cart](https://i.imgur.com/jmjIPVC.png)"
   ]
  },
  {
   "cell_type": "markdown",
   "metadata": {},
   "source": [
    "### Implementation\n",
    "Add product to cart"
   ]
  },
  {
   "cell_type": "code",
   "execution_count": 1,
   "metadata": {},
   "outputs": [],
   "source": [
    "# Can also be used to update quantity\n",
    "def add_to_cart(conn, product_id, quantity, session_id):\n",
    "    conn.hset('cart:' + session_id, 'product:' + product_id, quantity)"
   ]
  },
  {
   "cell_type": "markdown",
   "metadata": {},
   "source": [
    "Remove product from cart"
   ]
  },
  {
   "cell_type": "code",
   "execution_count": 2,
   "metadata": {},
   "outputs": [],
   "source": [
    "def remove_from_cart(conn, product_id, session_id):\n",
    "    conn.hrem('cart:' + session_id, 'product:' + product_id)"
   ]
  },
  {
   "cell_type": "markdown",
   "metadata": {},
   "source": [
    "## Web Page Caching\n",
    "### Scenario\n",
    "Most of the web pages served by the web application have static content and do not change over the time. Such content can be served by redis rather than reading the template from disk and filling in data from database."
   ]
  },
  {
   "cell_type": "code",
   "execution_count": null,
   "metadata": {},
   "outputs": [],
   "source": []
  }
 ],
 "metadata": {
  "kernelspec": {
   "display_name": "Python 3",
   "language": "python",
   "name": "python3"
  },
  "language_info": {
   "codemirror_mode": {
    "name": "ipython",
    "version": 3
   },
   "file_extension": ".py",
   "mimetype": "text/x-python",
   "name": "python",
   "nbconvert_exporter": "python",
   "pygments_lexer": "ipython3",
   "version": "3.7.4"
  }
 },
 "nbformat": 4,
 "nbformat_minor": 4
}
