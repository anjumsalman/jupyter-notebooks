{
 "cells": [
  {
   "cell_type": "markdown",
   "metadata": {},
   "source": [
    "### Key Expiration\n",
    "Redis provides an option to expire a key after a set duration, we can use the `EXPIRE` command:"
   ]
  },
  {
   "cell_type": "code",
   "execution_count": 1,
   "metadata": {},
   "outputs": [],
   "source": [
    "const redis = require('/usr/local/lib/node_modules/redis')\n",
    "const client = redis.createClient()"
   ]
  },
  {
   "cell_type": "code",
   "execution_count": 2,
   "metadata": {},
   "outputs": [
    {
     "data": {
      "text/plain": [
       "true"
      ]
     },
     "execution_count": 2,
     "metadata": {},
     "output_type": "execute_result"
    },
    {
     "name": "stdout",
     "output_type": "stream",
     "text": [
      "10\n"
     ]
    }
   ],
   "source": [
    "function print(err, val){\n",
    "    if(!err){\n",
    "        console.log(val)\n",
    "    } else {\n",
    "        console.log(err)\n",
    "    }\n",
    "}\n",
    "\n",
    "client.set('mykey', 'Some value');\n",
    "client.expire('mykey', 10)\n",
    "\n",
    "// Get time remaining (TTL = Time to Leave)\n",
    "client.ttl('mykey', print)"
   ]
  },
  {
   "cell_type": "code",
   "execution_count": 3,
   "metadata": {},
   "outputs": [
    {
     "data": {
      "text/plain": [
       "true"
      ]
     },
     "execution_count": 3,
     "metadata": {},
     "output_type": "execute_result"
    },
    {
     "name": "stdout",
     "output_type": "stream",
     "text": [
      "null\n"
     ]
    }
   ],
   "source": [
    "// Accessing key after 10 seconds\n",
    "client.get('mykey', print)"
   ]
  },
  {
   "cell_type": "markdown",
   "metadata": {},
   "source": [
    "Expiration is done by associating a key with Unix timestamp and then checking the system time. if you set a key with a time to live of 1000 seconds, and then set your computer time 2000 seconds in the future, the key will be expired immediately, instead of lasting for 1000 seconds."
   ]
  },
  {
   "cell_type": "markdown",
   "metadata": {},
   "source": [
    "### Eviction Policies\n",
    "Redis evicts data when it runs out of memory allocated to it \n",
    "\n",
    "| Policy          | Description                                                                           |\n",
    "|-----------------|---------------------------------------------------------------------------------------|\n",
    "| noeviction      | Returns an error if the memory limit has been reached when trying to insert more data |\n",
    "| allkeys-lru     | Evicts the least recently used keys out of all keys                                   |\n",
    "| allkeys-lfu     | Evicts the least frequently used keys out of all keys                                 |\n",
    "| allkeys-random  | Randomly evicts keys out of all keys                                                  |\n",
    "| volatile-lru    | Evicts the least recently used keys out of all keys with an “expire” field set        |\n",
    "| volatile-lfu    | Evicts the least frequently used keys out of all keys with an “expire” field set      |\n",
    "| volatile-random | Randomly evicts keys with an “expire” field set                                       |\n",
    "| volatile-ttl    | Evicts the shortest time-to-live keys out of all keys with an “expire” field set.     |\n",
    "\n",
    "Eviction related settings are provided in the redis config file\n",
    "\n",
    "```\n",
    "# How much memory to allocate?\n",
    "maxmemory <bytes>\n",
    "\n",
    "# Eviction policy\n",
    "maxmemory-policy noeviction\n",
    "\n",
    "# LRU, LFU and minimal TTL algorithms are not precise algorithms but approximated\n",
    "# algorithms (in order to save memory), so you can tune it for speed or\n",
    "# accuracy. By default Redis will check five keys and pick the one that was\n",
    "# used least recently, you can change the sample size using the following\n",
    "# configuration directive.\n",
    "#\n",
    "# The default of 5 produces good enough results. 10 Approximates very closely\n",
    "# true LRU but costs more CPU. 3 is faster but not very accurate.\n",
    "#\n",
    "maxmemory-samples 5\n",
    "```"
   ]
  },
  {
   "cell_type": "code",
   "execution_count": null,
   "metadata": {},
   "outputs": [],
   "source": []
  }
 ],
 "metadata": {
  "kernelspec": {
   "display_name": "Javascript (Node.js)",
   "language": "javascript",
   "name": "javascript"
  },
  "language_info": {
   "file_extension": ".js",
   "mimetype": "application/javascript",
   "name": "javascript",
   "version": "10.19.0"
  }
 },
 "nbformat": 4,
 "nbformat_minor": 4
}
