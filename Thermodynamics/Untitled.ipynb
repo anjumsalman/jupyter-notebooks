{
 "cells": [
  {
   "cell_type": "markdown",
   "metadata": {},
   "source": [
    "## Basic Concepts\n",
    "\n",
    "**Control Volume** : the space under observation. For a control volume, it's just the boundary of the volume that is fixed, the volume of fluid inside the control volume can change, over time.\n",
    "\n",
    "**Control Mass** : if a control volume has constant mass, it is control mass.\n",
    "\n",
    "**Surrounding** : everything external to control volume\n",
    "\n",
    "## Properties and State\n",
    "**Phase** : quantity of matter which is homogeneous throughout. Some examples:\n",
    "- liquid water + water vapor = two phases (different structural properties)\n",
    "- liquid oil + liquid water = two phases (different chemistries)\n",
    "- gas oxygen + gas nitrogen = one phase (miscible solution)\n",
    "- liquid water + liquid methanol = one phase (as a miscible solution)\n",
    "\n",
    "The term phase is sometimes used as a synonym for state of matter, but there can be several immiscible phases of the same state of matter.\n",
    "\n",
    "Each phase can exist in its own **state**. Each state is described by macroscopic **properties**. Some examples of properties:\n",
    "- temperature\n",
    "- pressure\n",
    "- density\n",
    "\n",
    "If a property depends upon mass it is **intensive** else it is **extensive**.\n",
    "\n",
    "Properties describe the state of the system only when it is in **thermodynamic equilibrium**."
   ]
  },
  {
   "cell_type": "code",
   "execution_count": null,
   "metadata": {},
   "outputs": [],
   "source": []
  }
 ],
 "metadata": {
  "kernelspec": {
   "display_name": "Python 3",
   "language": "python",
   "name": "python3"
  },
  "language_info": {
   "codemirror_mode": {
    "name": "ipython",
    "version": 3
   },
   "file_extension": ".py",
   "mimetype": "text/x-python",
   "name": "python",
   "nbconvert_exporter": "python",
   "pygments_lexer": "ipython3",
   "version": "3.6.2"
  }
 },
 "nbformat": 4,
 "nbformat_minor": 2
}
